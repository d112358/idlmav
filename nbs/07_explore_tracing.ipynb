{
 "cells": [
  {
   "cell_type": "markdown",
   "metadata": {},
   "source": [
    "## Introduction\n",
    "In this notebook, techniques for tracing a model to identify model its structure and extract parameters for each node, are experimented with."
   ]
  },
  {
   "cell_type": "markdown",
   "metadata": {},
   "source": [
    "## Notes and observations"
   ]
  },
  {
   "cell_type": "markdown",
   "metadata": {},
   "source": [
    "### Initial observations after running this notebook\n",
    "* Of the tools evaluated, only `torch.fx` is able to infer the model structure when the model is broken\n",
    "* `torch.fx` does not provide information about activation size, number of parameters or FLOPS. \n",
    "  - It seems like this would at least require knowledge of the size of the model inputs, which `torch.fx` does not require\n",
    "* One idea is to use `torch.fx` to identify the nodes and connections, followed by our own forward pass with hooks inside a `try` statement with\n",
    "  - For as long as the forward pass succeeds, activation sizes, number of parameters and FLOPS will be available\n",
    "  - For modules downstream of a failure, these values won't be reported\n",
    "  - One challenge will be to link the node from our own forward pass to the node identified by `torch.fx`\n"
   ]
  },
  {
   "cell_type": "markdown",
   "metadata": {},
   "source": [
    "### Observations after stepping through `torch.fx`\n",
    "* `Node.name` is unique within a model\n",
    "* `Node.input_nodes` and `Node.users` specify which nodes are used by the current node and which nodes use it\n",
    "  - These are read-only properties and can be used to walk the `Graph` as an acyclic graph\n",
    "  - More information [here](https://github.com/pytorch/pytorch/blob/main/torch/fx/README.md#the-fx-ir-container)\n",
    "* During `call_module` in `_symbolic_trace.py`, the object reference to the `nn.Module` is not stored\n",
    "  - The `Node.target` field however contains a fully qualified name from which the `nn.Module` counterparts can be resolved\n",
    "  - See `Interpreter.fetch_attr` [here](../.venv/lib/python3.10/site-packages/torch/fx/interpreter.py) on how to do this\n",
    "  - Additionally, the interpreter pattern can be used to extract further information from the nodes\n",
    "* Nodes in the traced graph can be executed using [the interpreter pattern](https://pytorch.org/docs/stable/fx.html#the-interpreter-pattern)\n",
    "  - See also the [Interpreter class](https://pytorch.org/docs/stable/fx.html#torch.fx.Interpreter)\n",
    "  - See also the [Shape propagation example](https://github.com/pytorch/pytorch/blob/main/torch/fx/passes/shape_prop.py)\n",
    "* Dynamic control flow and non-torch functions are not supported\n",
    "  - See [Limitations](https://pytorch.org/docs/stable/fx.html#limitations-of-symbolic-tracing)\n",
    "  - The documentation recommends `torch.compile()` to create multiple graphs for dynamic control flow (see [here](https://github.com/pytorch/pytorch/blob/main/torch/fx/README.md#torchdynamo))\n",
    "  - Another interesting tutorial is available [here](https://colab.research.google.com/drive/1Zh-Uo3TcTH8yYJF-LLo5rjlHVMtqvMdf)\n",
    "  - This adds another layer of complexity for further processing and long term support as well as working for broken models may require substantial effort\n",
    "  - For now, we'll just list the limitations of `torch.fx` as limitations of our tool as well"
   ]
  },
  {
   "cell_type": "markdown",
   "metadata": {},
   "source": [
    "### Some useful documentation links\n",
    "* torch.fx [doc page](https://pytorch.org/docs/stable/fx.html)\n",
    "  - [Primer on graphs](https://pytorch.org/docs/stable/fx.html#a-quick-primer-on-graphs)\n",
    "  - [Interpreter pattern explanation](https://pytorch.org/docs/stable/fx.html#the-interpreter-pattern)\n",
    "  - [Interpreter API reference](https://pytorch.org/docs/stable/fx.html#torch.fx.Interpreter)\n",
    "  - > Tip: On my browser, the API part of the tree on the right does not expand on clicking, but do so on clicking and reloading the page\n",
    "* torch.fx [readme.md](https://github.com/pytorch/pytorch/blob/main/torch/fx/README.md)\n",
    "* Examples\n",
    "  - [Shape propagation](https://pytorch.org/docs/stable/fx.html#examples-of-the-interpreter-pattern) without Interpreter class\n",
    "  - [shape_prop.py](https://github.com/pytorch/pytorch/blob/main/torch/fx/passes/shape_prop.py) on GitHub\n",
    "  - [shape_prop.py](../.venv/lib/python3.10/site-packages/torch/fx/passes/shape_prop.py) in editor\n",
    "  - [Miscellaneous custom tracing examples](https://github.com/pytorch/examples/blob/main/fx/module_tracer.py)\n",
    "  - [Performance profiler](https://github.com/pytorch/tutorials/pull/1319)"
   ]
  },
  {
   "cell_type": "markdown",
   "metadata": {},
   "source": [
    "### Tracing strategy\n",
    "* Start with a symbolic trace using `torch.fx`\n",
    "  - This retrieves the graph structure and preliminary node names\n",
    "  - This does not require a working forward pass\n",
    "  - The output is an `fx.GraphModule`, which contains an `fx.Graph`, which contains multiple `fx.Node` objects\n",
    "* Next, attempt a forward pass via a custom `fx.Interpreter`\n",
    "  - In `Interpreter.run_node`, retrieve the shape of each node's activations \n",
    "  - In `Interpreter.call_module`, use `profile_macs` from `torchprofiler` to determine the FLOPS\n",
    "  - Place this inside a `try...catch` in case the forward pass fails\n",
    "  - Place the FLOPS estimate inside a separate `try...catch` in case issues arise with a new version\n",
    "    - Consider using a naieve FLOPS estimate as fallback\n",
    "* Finally, iterate through all nodes in the graph without passing data\n",
    "  - Retrieve `nn.Module` objects using `Interpreter.fetch_attr(node.target)`\n",
    "  - Retrieve the node type (e.g. `Conv2D`) and number of parameters from the `nn.Module`"
   ]
  },
  {
   "cell_type": "markdown",
   "metadata": {},
   "source": [
    "## Imports"
   ]
  },
  {
   "cell_type": "code",
   "execution_count": 1,
   "metadata": {},
   "outputs": [],
   "source": [
    "import sys\n",
    "import os\n",
    "workspace_path = os.path.abspath(os.path.join(os.path.abspath(''), '..'))\n",
    "sys.path.append(workspace_path)"
   ]
  },
  {
   "cell_type": "code",
   "execution_count": 2,
   "metadata": {},
   "outputs": [],
   "source": [
    "import torch\n",
    "from torch import nn, fx, Tensor\n",
    "import torch.nn.functional as F\n",
    "import torchvision\n",
    "import timm\n",
    "\n",
    "import torchinfo\n",
    "import torchview\n",
    "from torchprofile import profile_macs\n",
    "\n",
    "from miniai.init import clean_mem\n",
    "from miniai.resnet import ResBlock, act_gr, conv"
   ]
  },
  {
   "cell_type": "markdown",
   "metadata": {},
   "source": [
    "## Models"
   ]
  },
  {
   "cell_type": "markdown",
   "metadata": {},
   "source": [
    "### Hand-written CNN (for MNIST)\n",
    "* Found [here](https://github.com/pytorch/examples/blob/main/mnist/main.py)\n",
    "* Modified for experimental purposes, e.g. breaking the forward pass"
   ]
  },
  {
   "cell_type": "code",
   "execution_count": 3,
   "metadata": {},
   "outputs": [],
   "source": [
    "class MnistCnn(nn.Module):\n",
    "    def __init__(self):\n",
    "        super().__init__()\n",
    "        self.conv1 = nn.Conv2d(1, 32, 3, 1)\n",
    "        self.conv2 = nn.Conv2d(32, 64, 3, 1)\n",
    "        self.dropout1 = nn.Dropout(0.25)\n",
    "        self.dropout2 = nn.Dropout(0.5)\n",
    "        self.fc1 = nn.Linear(9216, 128)\n",
    "        self.fc2 = nn.Linear(128, 10)\n",
    "\n",
    "    def forward(self, x):\n",
    "        x = self.conv1(x)\n",
    "        x = F.relu(x)\n",
    "        x = self.conv2(x)\n",
    "        x = F.relu(x)\n",
    "        x = F.max_pool2d(x, 2)\n",
    "        x = self.dropout1(x)\n",
    "        x = torch.flatten(x, 1)\n",
    "        x = self.fc1(x)\n",
    "        x = F.relu(x)\n",
    "        x = self.dropout2(x)\n",
    "        x = self.fc2(x)\n",
    "        output = F.log_softmax(x, dim=1)\n",
    "        return output\n",
    "\n",
    "def get_model_cnn_mnist():\n",
    "    return MnistCnn()\n",
    "\n",
    "def get_model_cnn_mnist_broken():\n",
    "    model = MnistCnn()\n",
    "    model.fc1 = nn.Linear(9216, 120)\n",
    "    return model"
   ]
  },
  {
   "cell_type": "markdown",
   "metadata": {},
   "source": [
    "### ResNet18 (from TorchVision)"
   ]
  },
  {
   "cell_type": "code",
   "execution_count": 4,
   "metadata": {},
   "outputs": [],
   "source": [
    "def get_model_tv_resnet18():\n",
    "    return torchvision.models.resnet.resnet18()"
   ]
  },
  {
   "cell_type": "markdown",
   "metadata": {},
   "source": [
    "### ResNet18 (from timm)"
   ]
  },
  {
   "cell_type": "code",
   "execution_count": 5,
   "metadata": {},
   "outputs": [],
   "source": [
    "def get_model_timm_resnet18():\n",
    "    return timm.create_model('resnet18', in_chans=3, num_classes=10)"
   ]
  },
  {
   "cell_type": "markdown",
   "metadata": {},
   "source": [
    "### ResNet (from miniai)"
   ]
  },
  {
   "cell_type": "code",
   "execution_count": 6,
   "metadata": {},
   "outputs": [],
   "source": [
    "def get_model_miniai_resnet(act=nn.ReLU, nfs=(16,32,64,128,256), norm=nn.BatchNorm2d):\n",
    "    class GlobalAvgPool(nn.Module):\n",
    "        def forward(self, x:Tensor): return x.mean((-2,-1))\n",
    "    layers = [conv(1, 16, ks=5, stride=1, act=act, norm=norm)]\n",
    "    layers += [ResBlock(nfs[i], nfs[i+1], act=act, norm=norm, stride=2) for i in range(len(nfs)-1)]\n",
    "    layers += [GlobalAvgPool(), nn.Linear(256, 10, bias=False), nn.BatchNorm1d(10)]\n",
    "    return nn.Sequential(*layers)"
   ]
  },
  {
   "cell_type": "markdown",
   "metadata": {},
   "source": [
    "### Autoencoder (from miniai)"
   ]
  },
  {
   "cell_type": "code",
   "execution_count": 7,
   "metadata": {},
   "outputs": [],
   "source": [
    "def get_model_miniai_autoenc(act=act_gr, nfs=(32,64,128,256,512), norm=nn.BatchNorm2d, drop=0.1):\n",
    "    def up_block(ni, nf, ks=3, act=act_gr, norm=None):\n",
    "        return nn.Sequential(nn.UpsamplingNearest2d(scale_factor=2),\n",
    "                            ResBlock(ni, nf, ks=ks, act=act, norm=norm))\n",
    "    layers = [ResBlock(3, nfs[0], ks=5, stride=1, act=act, norm=norm)]\n",
    "    layers += [ResBlock(nfs[i], nfs[i+1], act=act, norm=norm, stride=2) for i in range(len(nfs)-1)]\n",
    "    layers += [up_block(nfs[i], nfs[i-1], act=act, norm=norm) for i in range(len(nfs)-1,0,-1)]\n",
    "    layers += [ResBlock(nfs[0], 3, act=nn.Identity, norm=norm)]\n",
    "    return nn.Sequential(*layers)"
   ]
  },
  {
   "cell_type": "markdown",
   "metadata": {},
   "source": [
    "### UNet (from miniai)"
   ]
  },
  {
   "cell_type": "code",
   "execution_count": 8,
   "metadata": {},
   "outputs": [],
   "source": [
    "def up_block(ni, nf, ks=3, act=act_gr, norm=None):\n",
    "    return nn.Sequential(nn.UpsamplingNearest2d(scale_factor=2),\n",
    "                        ResBlock(ni, nf, ks=ks, act=act, norm=norm))\n",
    "\n",
    "class TinyUnet(nn.Module):\n",
    "    def __init__(self, act=act_gr, nfs=(32,64,128,256,512), norm=nn.BatchNorm2d):\n",
    "        super().__init__()\n",
    "        self.start = ResBlock(3, nfs[0], stride=1, act=act, norm=norm)\n",
    "        self.dn = nn.ModuleList([ResBlock(nfs[i], nfs[i+1], act=act, norm=norm, stride=2)\n",
    "                                 for i in range(len(nfs)-1)])\n",
    "        self.up = nn.ModuleList([up_block(nfs[i], nfs[i-1], act=act, norm=norm)\n",
    "                                 for i in range(len(nfs)-1,0,-1)])\n",
    "        self.up += [ResBlock(nfs[0], 3, act=act, norm=norm)]\n",
    "        self.end = ResBlock(3, 3, act=nn.Identity, norm=norm)\n",
    "\n",
    "    def forward(self, x):\n",
    "        layers = []\n",
    "        layers.append(x)\n",
    "        x = self.start(x)\n",
    "        for l in self.dn:\n",
    "            layers.append(x)\n",
    "            x = l(x)\n",
    "        n = len(layers)\n",
    "        for i,l in enumerate(self.up):\n",
    "            if i!=0: x += layers[n-i]\n",
    "            x = l(x)\n",
    "        return self.end(x+layers[0])\n",
    "    \n",
    "def get_model_miniai_unet():\n",
    "    return TinyUnet()"
   ]
  },
  {
   "cell_type": "markdown",
   "metadata": {},
   "source": [
    "### Model preparation helpers"
   ]
  },
  {
   "cell_type": "code",
   "execution_count": 9,
   "metadata": {},
   "outputs": [],
   "source": [
    "def get_model_and_input_size(name, device):\n",
    "    match name:\n",
    "        case 'cnn_mnist':\n",
    "            return get_model_cnn_mnist().to(device), (16,1,28,28)\n",
    "        case 'cnn_mnist_broken':\n",
    "            return get_model_cnn_mnist_broken().to(device), (16,1,28,28)\n",
    "        case 'tv_resnet18':\n",
    "            return get_model_tv_resnet18().to(device), (16,3,160,160)\n",
    "        case 'timm_resnet18':\n",
    "            return get_model_timm_resnet18().to(device), (16,3,160,160)\n",
    "        case 'miniai_resnet':\n",
    "            return get_model_miniai_resnet().to(device), (16,1,28,28)\n",
    "        case 'miniai_autoenc':\n",
    "            return get_model_miniai_autoenc().to(device), (16,3,160,160)\n",
    "        case 'miniai_unet':\n",
    "            return get_model_miniai_unet().to(device), (16,3,160,160)\n",
    "        case _:\n",
    "            return None\n",
    "        \n",
    "def get_models_and_input_tensors(model_names, device):\n",
    "    \"\"\"\n",
    "    This function returns 3 lists:\n",
    "    * A list of `nn.Module` models\n",
    "    * A list of tuples: the input sizes for each model\n",
    "    * A list of tensors that can be passed to each model\n",
    "    \"\"\"\n",
    "    clean_mem()\n",
    "    models, input_sizes = zip(*[get_model_and_input_size(name, device) for name in model_names])\n",
    "    models, input_sizes = list(models), list(input_sizes)\n",
    "    inputs = [torch.randn(input_size).to(device) for input_size in input_sizes]\n",
    "    return models, input_sizes, inputs\n",
    "\n",
    "def remove_all_hooks(model:nn.Module):\n",
    "    # Iterate all submodules of the model\n",
    "    for module in model.modules():\n",
    "        # Clear forward hooks\n",
    "        if hasattr(module, '_forward_hooks'):\n",
    "            module._forward_hooks.clear()\n",
    "\n",
    "        # Clear backward hooks\n",
    "        if hasattr(module, '_backward_hooks'):\n",
    "            module._backward_hooks.clear()\n",
    "\n",
    "        # Clear pre-forward hooks if any (less common)\n",
    "        if hasattr(module, '_forward_pre_hooks'):\n",
    "            module._forward_pre_hooks.clear()\n"
   ]
  },
  {
   "cell_type": "code",
   "execution_count": 19,
   "metadata": {},
   "outputs": [],
   "source": [
    "device = 'cpu'  # ['cpu','cuda']\n",
    "model_names = ['cnn_mnist', 'cnn_mnist_broken', 'tv_resnet18', 'timm_resnet18', 'miniai_resnet', 'miniai_autoenc', 'miniai_unet']\n",
    "models, input_sizes, inputs = get_models_and_input_tensors(model_names, device)"
   ]
  },
  {
   "cell_type": "markdown",
   "metadata": {},
   "source": [
    "## Benchmark tools"
   ]
  },
  {
   "cell_type": "markdown",
   "metadata": {},
   "source": [
    "### torchview"
   ]
  },
  {
   "cell_type": "code",
   "execution_count": 11,
   "metadata": {},
   "outputs": [
    {
     "data": {
      "image/svg+xml": [
       "<?xml version=\"1.0\" encoding=\"UTF-8\" standalone=\"no\"?>\n",
       "<!DOCTYPE svg PUBLIC \"-//W3C//DTD SVG 1.1//EN\"\n",
       " \"http://www.w3.org/Graphics/SVG/1.1/DTD/svg11.dtd\">\n",
       "<!-- Generated by graphviz version 2.43.0 (0)\n",
       " -->\n",
       "<!-- Title: model Pages: 1 -->\n",
       "<svg width=\"204pt\" height=\"1123pt\"\n",
       " viewBox=\"0.00 0.00 204.18 1123.00\" xmlns=\"http://www.w3.org/2000/svg\" xmlns:xlink=\"http://www.w3.org/1999/xlink\">\n",
       "<g id=\"graph0\" class=\"graph\" transform=\"scale(1.05 1.05) rotate(0) translate(4 1173)\">\n",
       "<title>model</title>\n",
       "<polygon fill=\"white\" stroke=\"transparent\" points=\"-4,4 -4,-1173 210,-1173 210,4 -4,4\"/>\n",
       "<!-- 0 -->\n",
       "<g id=\"node1\" class=\"node\">\n",
       "<title>0</title>\n",
       "<polygon fill=\"lightyellow\" stroke=\"transparent\" points=\"177,-1169 29,-1169 29,-1137 177,-1137 177,-1169\"/>\n",
       "<polygon fill=\"none\" stroke=\"black\" points=\"29,-1137 29,-1169 99,-1169 99,-1137 29,-1137\"/>\n",
       "<text text-anchor=\"start\" x=\"34\" y=\"-1156\" font-family=\"Linux libertine\" font-size=\"10.00\">input&#45;tensor</text>\n",
       "<text text-anchor=\"start\" x=\"45.5\" y=\"-1145\" font-family=\"Linux libertine\" font-size=\"10.00\">depth:0</text>\n",
       "<polygon fill=\"none\" stroke=\"black\" points=\"99,-1137 99,-1169 177,-1169 177,-1137 99,-1137\"/>\n",
       "<text text-anchor=\"start\" x=\"104\" y=\"-1150.5\" font-family=\"Linux libertine\" font-size=\"10.00\">(16, 1, 28, 28)</text>\n",
       "</g>\n",
       "<!-- 1 -->\n",
       "<g id=\"node2\" class=\"node\">\n",
       "<title>1</title>\n",
       "<polygon fill=\"#c1ffc1\" stroke=\"transparent\" points=\"194,-1090 12,-1090 12,-1048 194,-1048 194,-1090\"/>\n",
       "<polygon fill=\"none\" stroke=\"black\" points=\"12,-1048 12,-1090 59,-1090 59,-1048 12,-1048\"/>\n",
       "<text text-anchor=\"start\" x=\"17\" y=\"-1072\" font-family=\"Linux libertine\" font-size=\"10.00\">Conv2d</text>\n",
       "<text text-anchor=\"start\" x=\"17\" y=\"-1061\" font-family=\"Linux libertine\" font-size=\"10.00\">depth:1</text>\n",
       "<polygon fill=\"none\" stroke=\"black\" points=\"59,-1069 59,-1090 107,-1090 107,-1069 59,-1069\"/>\n",
       "<text text-anchor=\"start\" x=\"69\" y=\"-1077\" font-family=\"Linux libertine\" font-size=\"10.00\">input:</text>\n",
       "<polygon fill=\"none\" stroke=\"black\" points=\"107,-1069 107,-1090 194,-1090 194,-1069 107,-1069\"/>\n",
       "<text text-anchor=\"start\" x=\"115\" y=\"-1077\" font-family=\"Linux libertine\" font-size=\"10.00\">(16, 1, 28, 28) </text>\n",
       "<polygon fill=\"none\" stroke=\"black\" points=\"59,-1048 59,-1069 107,-1069 107,-1048 59,-1048\"/>\n",
       "<text text-anchor=\"start\" x=\"64\" y=\"-1056\" font-family=\"Linux libertine\" font-size=\"10.00\">output: </text>\n",
       "<polygon fill=\"none\" stroke=\"black\" points=\"107,-1048 107,-1069 194,-1069 194,-1048 107,-1048\"/>\n",
       "<text text-anchor=\"start\" x=\"112\" y=\"-1056\" font-family=\"Linux libertine\" font-size=\"10.00\">(16, 32, 26, 26) </text>\n",
       "</g>\n",
       "<!-- 0&#45;&gt;1 -->\n",
       "<g id=\"edge1\" class=\"edge\">\n",
       "<title>0&#45;&gt;1</title>\n",
       "<path fill=\"none\" stroke=\"black\" d=\"M103,-1136.96C103,-1126.7 103,-1112.76 103,-1100.25\"/>\n",
       "<polygon fill=\"black\" stroke=\"black\" points=\"106.5,-1100.2 103,-1090.2 99.5,-1100.2 106.5,-1100.2\"/>\n",
       "<text text-anchor=\"middle\" x=\"111\" y=\"-1111\" font-family=\"Times,serif\" font-size=\"10.00\"> x2</text>\n",
       "</g>\n",
       "<!-- 2 -->\n",
       "<g id=\"node3\" class=\"node\">\n",
       "<title>2</title>\n",
       "<polygon fill=\"aliceblue\" stroke=\"transparent\" points=\"194,-1001 12,-1001 12,-959 194,-959 194,-1001\"/>\n",
       "<polygon fill=\"none\" stroke=\"black\" points=\"12,-959 12,-1001 59,-1001 59,-959 12,-959\"/>\n",
       "<text text-anchor=\"start\" x=\"26\" y=\"-983\" font-family=\"Linux libertine\" font-size=\"10.00\">relu</text>\n",
       "<text text-anchor=\"start\" x=\"17\" y=\"-972\" font-family=\"Linux libertine\" font-size=\"10.00\">depth:1</text>\n",
       "<polygon fill=\"none\" stroke=\"black\" points=\"59,-980 59,-1001 107,-1001 107,-980 59,-980\"/>\n",
       "<text text-anchor=\"start\" x=\"69\" y=\"-988\" font-family=\"Linux libertine\" font-size=\"10.00\">input:</text>\n",
       "<polygon fill=\"none\" stroke=\"black\" points=\"107,-980 107,-1001 194,-1001 194,-980 107,-980\"/>\n",
       "<text text-anchor=\"start\" x=\"112\" y=\"-988\" font-family=\"Linux libertine\" font-size=\"10.00\">(16, 32, 26, 26) </text>\n",
       "<polygon fill=\"none\" stroke=\"black\" points=\"59,-959 59,-980 107,-980 107,-959 59,-959\"/>\n",
       "<text text-anchor=\"start\" x=\"64\" y=\"-967\" font-family=\"Linux libertine\" font-size=\"10.00\">output: </text>\n",
       "<polygon fill=\"none\" stroke=\"black\" points=\"107,-959 107,-980 194,-980 194,-959 107,-959\"/>\n",
       "<text text-anchor=\"start\" x=\"112\" y=\"-967\" font-family=\"Linux libertine\" font-size=\"10.00\">(16, 32, 26, 26) </text>\n",
       "</g>\n",
       "<!-- 1&#45;&gt;2 -->\n",
       "<g id=\"edge2\" class=\"edge\">\n",
       "<title>1&#45;&gt;2</title>\n",
       "<path fill=\"none\" stroke=\"black\" d=\"M103,-1047.82C103,-1036.95 103,-1023.32 103,-1011.21\"/>\n",
       "<polygon fill=\"black\" stroke=\"black\" points=\"106.5,-1011.07 103,-1001.07 99.5,-1011.07 106.5,-1011.07\"/>\n",
       "<text text-anchor=\"middle\" x=\"111\" y=\"-1022\" font-family=\"Times,serif\" font-size=\"10.00\"> x2</text>\n",
       "</g>\n",
       "<!-- 3 -->\n",
       "<g id=\"node4\" class=\"node\">\n",
       "<title>3</title>\n",
       "<polygon fill=\"#c1ffc1\" stroke=\"transparent\" points=\"194,-912 12,-912 12,-870 194,-870 194,-912\"/>\n",
       "<polygon fill=\"none\" stroke=\"black\" points=\"12,-870 12,-912 59,-912 59,-870 12,-870\"/>\n",
       "<text text-anchor=\"start\" x=\"17\" y=\"-894\" font-family=\"Linux libertine\" font-size=\"10.00\">Conv2d</text>\n",
       "<text text-anchor=\"start\" x=\"17\" y=\"-883\" font-family=\"Linux libertine\" font-size=\"10.00\">depth:1</text>\n",
       "<polygon fill=\"none\" stroke=\"black\" points=\"59,-891 59,-912 107,-912 107,-891 59,-891\"/>\n",
       "<text text-anchor=\"start\" x=\"69\" y=\"-899\" font-family=\"Linux libertine\" font-size=\"10.00\">input:</text>\n",
       "<polygon fill=\"none\" stroke=\"black\" points=\"107,-891 107,-912 194,-912 194,-891 107,-891\"/>\n",
       "<text text-anchor=\"start\" x=\"112\" y=\"-899\" font-family=\"Linux libertine\" font-size=\"10.00\">(16, 32, 26, 26) </text>\n",
       "<polygon fill=\"none\" stroke=\"black\" points=\"59,-870 59,-891 107,-891 107,-870 59,-870\"/>\n",
       "<text text-anchor=\"start\" x=\"64\" y=\"-878\" font-family=\"Linux libertine\" font-size=\"10.00\">output: </text>\n",
       "<polygon fill=\"none\" stroke=\"black\" points=\"107,-870 107,-891 194,-891 194,-870 107,-870\"/>\n",
       "<text text-anchor=\"start\" x=\"112\" y=\"-878\" font-family=\"Linux libertine\" font-size=\"10.00\">(16, 64, 24, 24) </text>\n",
       "</g>\n",
       "<!-- 2&#45;&gt;3 -->\n",
       "<g id=\"edge3\" class=\"edge\">\n",
       "<title>2&#45;&gt;3</title>\n",
       "<path fill=\"none\" stroke=\"black\" d=\"M103,-958.82C103,-947.95 103,-934.32 103,-922.21\"/>\n",
       "<polygon fill=\"black\" stroke=\"black\" points=\"106.5,-922.07 103,-912.07 99.5,-922.07 106.5,-922.07\"/>\n",
       "<text text-anchor=\"middle\" x=\"111\" y=\"-933\" font-family=\"Times,serif\" font-size=\"10.00\"> x2</text>\n",
       "</g>\n",
       "<!-- 4 -->\n",
       "<g id=\"node5\" class=\"node\">\n",
       "<title>4</title>\n",
       "<polygon fill=\"aliceblue\" stroke=\"transparent\" points=\"194,-823 12,-823 12,-781 194,-781 194,-823\"/>\n",
       "<polygon fill=\"none\" stroke=\"black\" points=\"12,-781 12,-823 59,-823 59,-781 12,-781\"/>\n",
       "<text text-anchor=\"start\" x=\"26\" y=\"-805\" font-family=\"Linux libertine\" font-size=\"10.00\">relu</text>\n",
       "<text text-anchor=\"start\" x=\"17\" y=\"-794\" font-family=\"Linux libertine\" font-size=\"10.00\">depth:1</text>\n",
       "<polygon fill=\"none\" stroke=\"black\" points=\"59,-802 59,-823 107,-823 107,-802 59,-802\"/>\n",
       "<text text-anchor=\"start\" x=\"69\" y=\"-810\" font-family=\"Linux libertine\" font-size=\"10.00\">input:</text>\n",
       "<polygon fill=\"none\" stroke=\"black\" points=\"107,-802 107,-823 194,-823 194,-802 107,-802\"/>\n",
       "<text text-anchor=\"start\" x=\"112\" y=\"-810\" font-family=\"Linux libertine\" font-size=\"10.00\">(16, 64, 24, 24) </text>\n",
       "<polygon fill=\"none\" stroke=\"black\" points=\"59,-781 59,-802 107,-802 107,-781 59,-781\"/>\n",
       "<text text-anchor=\"start\" x=\"64\" y=\"-789\" font-family=\"Linux libertine\" font-size=\"10.00\">output: </text>\n",
       "<polygon fill=\"none\" stroke=\"black\" points=\"107,-781 107,-802 194,-802 194,-781 107,-781\"/>\n",
       "<text text-anchor=\"start\" x=\"112\" y=\"-789\" font-family=\"Linux libertine\" font-size=\"10.00\">(16, 64, 24, 24) </text>\n",
       "</g>\n",
       "<!-- 3&#45;&gt;4 -->\n",
       "<g id=\"edge4\" class=\"edge\">\n",
       "<title>3&#45;&gt;4</title>\n",
       "<path fill=\"none\" stroke=\"black\" d=\"M103,-869.82C103,-858.95 103,-845.32 103,-833.21\"/>\n",
       "<polygon fill=\"black\" stroke=\"black\" points=\"106.5,-833.07 103,-823.07 99.5,-833.07 106.5,-833.07\"/>\n",
       "<text text-anchor=\"middle\" x=\"111\" y=\"-844\" font-family=\"Times,serif\" font-size=\"10.00\"> x2</text>\n",
       "</g>\n",
       "<!-- 5 -->\n",
       "<g id=\"node6\" class=\"node\">\n",
       "<title>5</title>\n",
       "<polygon fill=\"aliceblue\" stroke=\"transparent\" points=\"206,-734 0,-734 0,-692 206,-692 206,-734\"/>\n",
       "<polygon fill=\"none\" stroke=\"black\" points=\"0,-692 0,-734 71,-734 71,-692 0,-692\"/>\n",
       "<text text-anchor=\"start\" x=\"5\" y=\"-716\" font-family=\"Linux libertine\" font-size=\"10.00\">max_pool2d</text>\n",
       "<text text-anchor=\"start\" x=\"17\" y=\"-705\" font-family=\"Linux libertine\" font-size=\"10.00\">depth:1</text>\n",
       "<polygon fill=\"none\" stroke=\"black\" points=\"71,-713 71,-734 119,-734 119,-713 71,-713\"/>\n",
       "<text text-anchor=\"start\" x=\"81\" y=\"-721\" font-family=\"Linux libertine\" font-size=\"10.00\">input:</text>\n",
       "<polygon fill=\"none\" stroke=\"black\" points=\"119,-713 119,-734 206,-734 206,-713 119,-713\"/>\n",
       "<text text-anchor=\"start\" x=\"124\" y=\"-721\" font-family=\"Linux libertine\" font-size=\"10.00\">(16, 64, 24, 24) </text>\n",
       "<polygon fill=\"none\" stroke=\"black\" points=\"71,-692 71,-713 119,-713 119,-692 71,-692\"/>\n",
       "<text text-anchor=\"start\" x=\"76\" y=\"-700\" font-family=\"Linux libertine\" font-size=\"10.00\">output: </text>\n",
       "<polygon fill=\"none\" stroke=\"black\" points=\"119,-692 119,-713 206,-713 206,-692 119,-692\"/>\n",
       "<text text-anchor=\"start\" x=\"124\" y=\"-700\" font-family=\"Linux libertine\" font-size=\"10.00\">(16, 64, 12, 12) </text>\n",
       "</g>\n",
       "<!-- 4&#45;&gt;5 -->\n",
       "<g id=\"edge5\" class=\"edge\">\n",
       "<title>4&#45;&gt;5</title>\n",
       "<path fill=\"none\" stroke=\"black\" d=\"M103,-780.82C103,-769.95 103,-756.32 103,-744.21\"/>\n",
       "<polygon fill=\"black\" stroke=\"black\" points=\"106.5,-744.07 103,-734.07 99.5,-744.07 106.5,-744.07\"/>\n",
       "<text text-anchor=\"middle\" x=\"111\" y=\"-755\" font-family=\"Times,serif\" font-size=\"10.00\"> x2</text>\n",
       "</g>\n",
       "<!-- 6 -->\n",
       "<g id=\"node7\" class=\"node\">\n",
       "<title>6</title>\n",
       "<polygon fill=\"#c1ffc1\" stroke=\"transparent\" points=\"195.5,-645 10.5,-645 10.5,-603 195.5,-603 195.5,-645\"/>\n",
       "<polygon fill=\"none\" stroke=\"black\" points=\"11,-603 11,-645 61,-645 61,-603 11,-603\"/>\n",
       "<text text-anchor=\"start\" x=\"16\" y=\"-627\" font-family=\"Linux libertine\" font-size=\"10.00\">Dropout</text>\n",
       "<text text-anchor=\"start\" x=\"17.5\" y=\"-616\" font-family=\"Linux libertine\" font-size=\"10.00\">depth:1</text>\n",
       "<polygon fill=\"none\" stroke=\"black\" points=\"61,-624 61,-645 109,-645 109,-624 61,-624\"/>\n",
       "<text text-anchor=\"start\" x=\"71\" y=\"-632\" font-family=\"Linux libertine\" font-size=\"10.00\">input:</text>\n",
       "<polygon fill=\"none\" stroke=\"black\" points=\"109,-624 109,-645 196,-645 196,-624 109,-624\"/>\n",
       "<text text-anchor=\"start\" x=\"114\" y=\"-632\" font-family=\"Linux libertine\" font-size=\"10.00\">(16, 64, 12, 12) </text>\n",
       "<polygon fill=\"none\" stroke=\"black\" points=\"61,-603 61,-624 109,-624 109,-603 61,-603\"/>\n",
       "<text text-anchor=\"start\" x=\"66\" y=\"-611\" font-family=\"Linux libertine\" font-size=\"10.00\">output: </text>\n",
       "<polygon fill=\"none\" stroke=\"black\" points=\"109,-603 109,-624 196,-624 196,-603 109,-603\"/>\n",
       "<text text-anchor=\"start\" x=\"114\" y=\"-611\" font-family=\"Linux libertine\" font-size=\"10.00\">(16, 64, 12, 12) </text>\n",
       "</g>\n",
       "<!-- 5&#45;&gt;6 -->\n",
       "<g id=\"edge6\" class=\"edge\">\n",
       "<title>5&#45;&gt;6</title>\n",
       "<path fill=\"none\" stroke=\"black\" d=\"M103,-691.82C103,-680.95 103,-667.32 103,-655.21\"/>\n",
       "<polygon fill=\"black\" stroke=\"black\" points=\"106.5,-655.07 103,-645.07 99.5,-655.07 106.5,-655.07\"/>\n",
       "<text text-anchor=\"middle\" x=\"111\" y=\"-666\" font-family=\"Times,serif\" font-size=\"10.00\"> x2</text>\n",
       "</g>\n",
       "<!-- 7 -->\n",
       "<g id=\"node8\" class=\"node\">\n",
       "<title>7</title>\n",
       "<polygon fill=\"aliceblue\" stroke=\"transparent\" points=\"194,-556 12,-556 12,-514 194,-514 194,-556\"/>\n",
       "<polygon fill=\"none\" stroke=\"black\" points=\"12,-514 12,-556 59,-556 59,-514 12,-514\"/>\n",
       "<text text-anchor=\"start\" x=\"19.5\" y=\"-538\" font-family=\"Linux libertine\" font-size=\"10.00\">flatten</text>\n",
       "<text text-anchor=\"start\" x=\"17\" y=\"-527\" font-family=\"Linux libertine\" font-size=\"10.00\">depth:1</text>\n",
       "<polygon fill=\"none\" stroke=\"black\" points=\"59,-535 59,-556 107,-556 107,-535 59,-535\"/>\n",
       "<text text-anchor=\"start\" x=\"69\" y=\"-543\" font-family=\"Linux libertine\" font-size=\"10.00\">input:</text>\n",
       "<polygon fill=\"none\" stroke=\"black\" points=\"107,-535 107,-556 194,-556 194,-535 107,-535\"/>\n",
       "<text text-anchor=\"start\" x=\"112\" y=\"-543\" font-family=\"Linux libertine\" font-size=\"10.00\">(16, 64, 12, 12) </text>\n",
       "<polygon fill=\"none\" stroke=\"black\" points=\"59,-514 59,-535 107,-535 107,-514 59,-514\"/>\n",
       "<text text-anchor=\"start\" x=\"64\" y=\"-522\" font-family=\"Linux libertine\" font-size=\"10.00\">output: </text>\n",
       "<polygon fill=\"none\" stroke=\"black\" points=\"107,-514 107,-535 194,-535 194,-514 107,-514\"/>\n",
       "<text text-anchor=\"start\" x=\"124\" y=\"-522\" font-family=\"Linux libertine\" font-size=\"10.00\">(16, 9216) </text>\n",
       "</g>\n",
       "<!-- 6&#45;&gt;7 -->\n",
       "<g id=\"edge7\" class=\"edge\">\n",
       "<title>6&#45;&gt;7</title>\n",
       "<path fill=\"none\" stroke=\"black\" d=\"M103,-602.82C103,-591.95 103,-578.32 103,-566.21\"/>\n",
       "<polygon fill=\"black\" stroke=\"black\" points=\"106.5,-566.07 103,-556.07 99.5,-566.07 106.5,-566.07\"/>\n",
       "<text text-anchor=\"middle\" x=\"111\" y=\"-577\" font-family=\"Times,serif\" font-size=\"10.00\"> x2</text>\n",
       "</g>\n",
       "<!-- 8 -->\n",
       "<g id=\"node9\" class=\"node\">\n",
       "<title>8</title>\n",
       "<polygon fill=\"#c1ffc1\" stroke=\"transparent\" points=\"182,-467 24,-467 24,-425 182,-425 182,-467\"/>\n",
       "<polygon fill=\"none\" stroke=\"black\" points=\"24,-425 24,-467 71,-467 71,-425 24,-425\"/>\n",
       "<text text-anchor=\"start\" x=\"32\" y=\"-449\" font-family=\"Linux libertine\" font-size=\"10.00\">Linear</text>\n",
       "<text text-anchor=\"start\" x=\"29\" y=\"-438\" font-family=\"Linux libertine\" font-size=\"10.00\">depth:1</text>\n",
       "<polygon fill=\"none\" stroke=\"black\" points=\"71,-446 71,-467 119,-467 119,-446 71,-446\"/>\n",
       "<text text-anchor=\"start\" x=\"81\" y=\"-454\" font-family=\"Linux libertine\" font-size=\"10.00\">input:</text>\n",
       "<polygon fill=\"none\" stroke=\"black\" points=\"119,-446 119,-467 182,-467 182,-446 119,-446\"/>\n",
       "<text text-anchor=\"start\" x=\"124\" y=\"-454\" font-family=\"Linux libertine\" font-size=\"10.00\">(16, 9216) </text>\n",
       "<polygon fill=\"none\" stroke=\"black\" points=\"71,-425 71,-446 119,-446 119,-425 71,-425\"/>\n",
       "<text text-anchor=\"start\" x=\"76\" y=\"-433\" font-family=\"Linux libertine\" font-size=\"10.00\">output: </text>\n",
       "<polygon fill=\"none\" stroke=\"black\" points=\"119,-425 119,-446 182,-446 182,-425 119,-425\"/>\n",
       "<text text-anchor=\"start\" x=\"127\" y=\"-433\" font-family=\"Linux libertine\" font-size=\"10.00\">(16, 128) </text>\n",
       "</g>\n",
       "<!-- 7&#45;&gt;8 -->\n",
       "<g id=\"edge8\" class=\"edge\">\n",
       "<title>7&#45;&gt;8</title>\n",
       "<path fill=\"none\" stroke=\"black\" d=\"M103,-513.82C103,-502.95 103,-489.32 103,-477.21\"/>\n",
       "<polygon fill=\"black\" stroke=\"black\" points=\"106.5,-477.07 103,-467.07 99.5,-477.07 106.5,-477.07\"/>\n",
       "<text text-anchor=\"middle\" x=\"111\" y=\"-488\" font-family=\"Times,serif\" font-size=\"10.00\"> x2</text>\n",
       "</g>\n",
       "<!-- 9 -->\n",
       "<g id=\"node10\" class=\"node\">\n",
       "<title>9</title>\n",
       "<polygon fill=\"aliceblue\" stroke=\"transparent\" points=\"179,-378 27,-378 27,-336 179,-336 179,-378\"/>\n",
       "<polygon fill=\"none\" stroke=\"black\" points=\"27,-336 27,-378 74,-378 74,-336 27,-336\"/>\n",
       "<text text-anchor=\"start\" x=\"41\" y=\"-360\" font-family=\"Linux libertine\" font-size=\"10.00\">relu</text>\n",
       "<text text-anchor=\"start\" x=\"32\" y=\"-349\" font-family=\"Linux libertine\" font-size=\"10.00\">depth:1</text>\n",
       "<polygon fill=\"none\" stroke=\"black\" points=\"74,-357 74,-378 122,-378 122,-357 74,-357\"/>\n",
       "<text text-anchor=\"start\" x=\"84\" y=\"-365\" font-family=\"Linux libertine\" font-size=\"10.00\">input:</text>\n",
       "<polygon fill=\"none\" stroke=\"black\" points=\"122,-357 122,-378 179,-378 179,-357 122,-357\"/>\n",
       "<text text-anchor=\"start\" x=\"127\" y=\"-365\" font-family=\"Linux libertine\" font-size=\"10.00\">(16, 128) </text>\n",
       "<polygon fill=\"none\" stroke=\"black\" points=\"74,-336 74,-357 122,-357 122,-336 74,-336\"/>\n",
       "<text text-anchor=\"start\" x=\"79\" y=\"-344\" font-family=\"Linux libertine\" font-size=\"10.00\">output: </text>\n",
       "<polygon fill=\"none\" stroke=\"black\" points=\"122,-336 122,-357 179,-357 179,-336 122,-336\"/>\n",
       "<text text-anchor=\"start\" x=\"127\" y=\"-344\" font-family=\"Linux libertine\" font-size=\"10.00\">(16, 128) </text>\n",
       "</g>\n",
       "<!-- 8&#45;&gt;9 -->\n",
       "<g id=\"edge9\" class=\"edge\">\n",
       "<title>8&#45;&gt;9</title>\n",
       "<path fill=\"none\" stroke=\"black\" d=\"M103,-424.82C103,-413.95 103,-400.32 103,-388.21\"/>\n",
       "<polygon fill=\"black\" stroke=\"black\" points=\"106.5,-388.07 103,-378.07 99.5,-388.07 106.5,-388.07\"/>\n",
       "<text text-anchor=\"middle\" x=\"111\" y=\"-399\" font-family=\"Times,serif\" font-size=\"10.00\"> x2</text>\n",
       "</g>\n",
       "<!-- 10 -->\n",
       "<g id=\"node11\" class=\"node\">\n",
       "<title>10</title>\n",
       "<polygon fill=\"#c1ffc1\" stroke=\"transparent\" points=\"180.5,-289 25.5,-289 25.5,-247 180.5,-247 180.5,-289\"/>\n",
       "<polygon fill=\"none\" stroke=\"black\" points=\"26,-247 26,-289 76,-289 76,-247 26,-247\"/>\n",
       "<text text-anchor=\"start\" x=\"31\" y=\"-271\" font-family=\"Linux libertine\" font-size=\"10.00\">Dropout</text>\n",
       "<text text-anchor=\"start\" x=\"32.5\" y=\"-260\" font-family=\"Linux libertine\" font-size=\"10.00\">depth:1</text>\n",
       "<polygon fill=\"none\" stroke=\"black\" points=\"76,-268 76,-289 124,-289 124,-268 76,-268\"/>\n",
       "<text text-anchor=\"start\" x=\"86\" y=\"-276\" font-family=\"Linux libertine\" font-size=\"10.00\">input:</text>\n",
       "<polygon fill=\"none\" stroke=\"black\" points=\"124,-268 124,-289 181,-289 181,-268 124,-268\"/>\n",
       "<text text-anchor=\"start\" x=\"129\" y=\"-276\" font-family=\"Linux libertine\" font-size=\"10.00\">(16, 128) </text>\n",
       "<polygon fill=\"none\" stroke=\"black\" points=\"76,-247 76,-268 124,-268 124,-247 76,-247\"/>\n",
       "<text text-anchor=\"start\" x=\"81\" y=\"-255\" font-family=\"Linux libertine\" font-size=\"10.00\">output: </text>\n",
       "<polygon fill=\"none\" stroke=\"black\" points=\"124,-247 124,-268 181,-268 181,-247 124,-247\"/>\n",
       "<text text-anchor=\"start\" x=\"129\" y=\"-255\" font-family=\"Linux libertine\" font-size=\"10.00\">(16, 128) </text>\n",
       "</g>\n",
       "<!-- 9&#45;&gt;10 -->\n",
       "<g id=\"edge10\" class=\"edge\">\n",
       "<title>9&#45;&gt;10</title>\n",
       "<path fill=\"none\" stroke=\"black\" d=\"M103,-335.82C103,-324.95 103,-311.32 103,-299.21\"/>\n",
       "<polygon fill=\"black\" stroke=\"black\" points=\"106.5,-299.07 103,-289.07 99.5,-299.07 106.5,-299.07\"/>\n",
       "<text text-anchor=\"middle\" x=\"111\" y=\"-310\" font-family=\"Times,serif\" font-size=\"10.00\"> x2</text>\n",
       "</g>\n",
       "<!-- 11 -->\n",
       "<g id=\"node12\" class=\"node\">\n",
       "<title>11</title>\n",
       "<polygon fill=\"#c1ffc1\" stroke=\"transparent\" points=\"179,-200 27,-200 27,-158 179,-158 179,-200\"/>\n",
       "<polygon fill=\"none\" stroke=\"black\" points=\"27,-158 27,-200 74,-200 74,-158 27,-158\"/>\n",
       "<text text-anchor=\"start\" x=\"35\" y=\"-182\" font-family=\"Linux libertine\" font-size=\"10.00\">Linear</text>\n",
       "<text text-anchor=\"start\" x=\"32\" y=\"-171\" font-family=\"Linux libertine\" font-size=\"10.00\">depth:1</text>\n",
       "<polygon fill=\"none\" stroke=\"black\" points=\"74,-179 74,-200 122,-200 122,-179 74,-179\"/>\n",
       "<text text-anchor=\"start\" x=\"84\" y=\"-187\" font-family=\"Linux libertine\" font-size=\"10.00\">input:</text>\n",
       "<polygon fill=\"none\" stroke=\"black\" points=\"122,-179 122,-200 179,-200 179,-179 122,-179\"/>\n",
       "<text text-anchor=\"start\" x=\"127\" y=\"-187\" font-family=\"Linux libertine\" font-size=\"10.00\">(16, 128) </text>\n",
       "<polygon fill=\"none\" stroke=\"black\" points=\"74,-158 74,-179 122,-179 122,-158 74,-158\"/>\n",
       "<text text-anchor=\"start\" x=\"79\" y=\"-166\" font-family=\"Linux libertine\" font-size=\"10.00\">output: </text>\n",
       "<polygon fill=\"none\" stroke=\"black\" points=\"122,-158 122,-179 179,-179 179,-158 122,-158\"/>\n",
       "<text text-anchor=\"start\" x=\"130\" y=\"-166\" font-family=\"Linux libertine\" font-size=\"10.00\">(16, 10) </text>\n",
       "</g>\n",
       "<!-- 10&#45;&gt;11 -->\n",
       "<g id=\"edge11\" class=\"edge\">\n",
       "<title>10&#45;&gt;11</title>\n",
       "<path fill=\"none\" stroke=\"black\" d=\"M103,-246.82C103,-235.95 103,-222.32 103,-210.21\"/>\n",
       "<polygon fill=\"black\" stroke=\"black\" points=\"106.5,-210.07 103,-200.07 99.5,-210.07 106.5,-210.07\"/>\n",
       "<text text-anchor=\"middle\" x=\"111\" y=\"-221\" font-family=\"Times,serif\" font-size=\"10.00\"> x2</text>\n",
       "</g>\n",
       "<!-- 12 -->\n",
       "<g id=\"node13\" class=\"node\">\n",
       "<title>12</title>\n",
       "<polygon fill=\"aliceblue\" stroke=\"transparent\" points=\"188,-111 18,-111 18,-69 188,-69 188,-111\"/>\n",
       "<polygon fill=\"none\" stroke=\"black\" points=\"18,-69 18,-111 89,-111 89,-69 18,-69\"/>\n",
       "<text text-anchor=\"start\" x=\"23\" y=\"-93\" font-family=\"Linux libertine\" font-size=\"10.00\">log_softmax</text>\n",
       "<text text-anchor=\"start\" x=\"35\" y=\"-82\" font-family=\"Linux libertine\" font-size=\"10.00\">depth:1</text>\n",
       "<polygon fill=\"none\" stroke=\"black\" points=\"89,-90 89,-111 137,-111 137,-90 89,-90\"/>\n",
       "<text text-anchor=\"start\" x=\"99\" y=\"-98\" font-family=\"Linux libertine\" font-size=\"10.00\">input:</text>\n",
       "<polygon fill=\"none\" stroke=\"black\" points=\"137,-90 137,-111 188,-111 188,-90 137,-90\"/>\n",
       "<text text-anchor=\"start\" x=\"142\" y=\"-98\" font-family=\"Linux libertine\" font-size=\"10.00\">(16, 10) </text>\n",
       "<polygon fill=\"none\" stroke=\"black\" points=\"89,-69 89,-90 137,-90 137,-69 89,-69\"/>\n",
       "<text text-anchor=\"start\" x=\"94\" y=\"-77\" font-family=\"Linux libertine\" font-size=\"10.00\">output: </text>\n",
       "<polygon fill=\"none\" stroke=\"black\" points=\"137,-69 137,-90 188,-90 188,-69 137,-69\"/>\n",
       "<text text-anchor=\"start\" x=\"142\" y=\"-77\" font-family=\"Linux libertine\" font-size=\"10.00\">(16, 10) </text>\n",
       "</g>\n",
       "<!-- 11&#45;&gt;12 -->\n",
       "<g id=\"edge12\" class=\"edge\">\n",
       "<title>11&#45;&gt;12</title>\n",
       "<path fill=\"none\" stroke=\"black\" d=\"M103,-157.82C103,-146.95 103,-133.32 103,-121.21\"/>\n",
       "<polygon fill=\"black\" stroke=\"black\" points=\"106.5,-121.07 103,-111.07 99.5,-121.07 106.5,-121.07\"/>\n",
       "<text text-anchor=\"middle\" x=\"111\" y=\"-132\" font-family=\"Times,serif\" font-size=\"10.00\"> x2</text>\n",
       "</g>\n",
       "<!-- 13 -->\n",
       "<g id=\"node14\" class=\"node\">\n",
       "<title>13</title>\n",
       "<polygon fill=\"lightyellow\" stroke=\"transparent\" points=\"165.5,-32 40.5,-32 40.5,0 165.5,0 165.5,-32\"/>\n",
       "<polygon fill=\"none\" stroke=\"black\" points=\"41,0 41,-32 118,-32 118,0 41,0\"/>\n",
       "<text text-anchor=\"start\" x=\"46\" y=\"-19\" font-family=\"Linux libertine\" font-size=\"10.00\">output&#45;tensor</text>\n",
       "<text text-anchor=\"start\" x=\"61\" y=\"-8\" font-family=\"Linux libertine\" font-size=\"10.00\">depth:0</text>\n",
       "<polygon fill=\"none\" stroke=\"black\" points=\"118,0 118,-32 166,-32 166,0 118,0\"/>\n",
       "<text text-anchor=\"start\" x=\"123\" y=\"-13.5\" font-family=\"Linux libertine\" font-size=\"10.00\">(16, 10)</text>\n",
       "</g>\n",
       "<!-- 12&#45;&gt;13 -->\n",
       "<g id=\"edge13\" class=\"edge\">\n",
       "<title>12&#45;&gt;13</title>\n",
       "<path fill=\"none\" stroke=\"black\" d=\"M103,-68.94C103,-60.66 103,-50.97 103,-42.21\"/>\n",
       "<polygon fill=\"black\" stroke=\"black\" points=\"106.5,-42.15 103,-32.15 99.5,-42.15 106.5,-42.15\"/>\n",
       "</g>\n",
       "</g>\n",
       "</svg>\n"
      ],
      "text/plain": [
       "<graphviz.graphs.Digraph at 0x7f33f425bf40>"
      ]
     },
     "execution_count": 11,
     "metadata": {},
     "output_type": "execute_result"
    }
   ],
   "source": [
    "graph = torchview.draw_graph(models[0], input_size=input_sizes[0])\n",
    "graph.fill_visual_graph()\n",
    "graph.visual_graph"
   ]
  },
  {
   "cell_type": "code",
   "execution_count": 12,
   "metadata": {},
   "outputs": [
    {
     "ename": "RuntimeError",
     "evalue": "Failed to run torchgraph see error message",
     "output_type": "error",
     "traceback": [
      "\u001b[0;31m---------------------------------------------------------------------------\u001b[0m",
      "\u001b[0;31mRuntimeError\u001b[0m                              Traceback (most recent call last)",
      "File \u001b[0;32m~/ai/idlmav/.venv/lib/python3.10/site-packages/torchview/torchview.py:256\u001b[0m, in \u001b[0;36mforward_prop\u001b[0;34m(model, x, device, model_graph, mode, **kwargs)\u001b[0m\n\u001b[1;32m    255\u001b[0m \u001b[38;5;28;01mif\u001b[39;00m \u001b[38;5;28misinstance\u001b[39m(x, (\u001b[38;5;28mlist\u001b[39m, \u001b[38;5;28mtuple\u001b[39m)):\n\u001b[0;32m--> 256\u001b[0m     _ \u001b[38;5;241m=\u001b[39m \u001b[43mmodel\u001b[49m\u001b[38;5;241;43m.\u001b[39;49m\u001b[43mto\u001b[49m\u001b[43m(\u001b[49m\u001b[43mdevice\u001b[49m\u001b[43m)\u001b[49m\u001b[43m(\u001b[49m\u001b[38;5;241;43m*\u001b[39;49m\u001b[43mx\u001b[49m\u001b[43m,\u001b[49m\u001b[43m \u001b[49m\u001b[38;5;241;43m*\u001b[39;49m\u001b[38;5;241;43m*\u001b[39;49m\u001b[43mkwargs\u001b[49m\u001b[43m)\u001b[49m\n\u001b[1;32m    257\u001b[0m \u001b[38;5;28;01melif\u001b[39;00m \u001b[38;5;28misinstance\u001b[39m(x, Mapping):\n",
      "File \u001b[0;32m~/ai/idlmav/.venv/lib/python3.10/site-packages/torchview/recorder_tensor.py:146\u001b[0m, in \u001b[0;36mmodule_forward_wrapper.<locals>._module_forward_wrapper\u001b[0;34m(mod, *args, **kwargs)\u001b[0m\n\u001b[1;32m    144\u001b[0m \u001b[38;5;66;03m# TODO: check if output contains RecorderTensor\u001b[39;00m\n\u001b[1;32m    145\u001b[0m \u001b[38;5;66;03m# this seems not to be necessary so far\u001b[39;00m\n\u001b[0;32m--> 146\u001b[0m out \u001b[38;5;241m=\u001b[39m \u001b[43m_orig_module_forward\u001b[49m\u001b[43m(\u001b[49m\u001b[43mmod\u001b[49m\u001b[43m,\u001b[49m\u001b[43m \u001b[49m\u001b[38;5;241;43m*\u001b[39;49m\u001b[43margs\u001b[49m\u001b[43m,\u001b[49m\u001b[43m \u001b[49m\u001b[38;5;241;43m*\u001b[39;49m\u001b[38;5;241;43m*\u001b[39;49m\u001b[43mkwargs\u001b[49m\u001b[43m)\u001b[49m\n\u001b[1;32m    148\u001b[0m model_graph\u001b[38;5;241m.\u001b[39mcontext_tracker[\u001b[38;5;124m'\u001b[39m\u001b[38;5;124mcurrent_depth\u001b[39m\u001b[38;5;124m'\u001b[39m] \u001b[38;5;241m=\u001b[39m cur_depth\n",
      "File \u001b[0;32m~/ai/idlmav/.venv/lib/python3.10/site-packages/torch/nn/modules/module.py:1736\u001b[0m, in \u001b[0;36mModule._wrapped_call_impl\u001b[0;34m(self, *args, **kwargs)\u001b[0m\n\u001b[1;32m   1735\u001b[0m \u001b[38;5;28;01melse\u001b[39;00m:\n\u001b[0;32m-> 1736\u001b[0m     \u001b[38;5;28;01mreturn\u001b[39;00m \u001b[38;5;28;43mself\u001b[39;49m\u001b[38;5;241;43m.\u001b[39;49m\u001b[43m_call_impl\u001b[49m\u001b[43m(\u001b[49m\u001b[38;5;241;43m*\u001b[39;49m\u001b[43margs\u001b[49m\u001b[43m,\u001b[49m\u001b[43m \u001b[49m\u001b[38;5;241;43m*\u001b[39;49m\u001b[38;5;241;43m*\u001b[39;49m\u001b[43mkwargs\u001b[49m\u001b[43m)\u001b[49m\n",
      "File \u001b[0;32m~/ai/idlmav/.venv/lib/python3.10/site-packages/torch/nn/modules/module.py:1747\u001b[0m, in \u001b[0;36mModule._call_impl\u001b[0;34m(self, *args, **kwargs)\u001b[0m\n\u001b[1;32m   1744\u001b[0m \u001b[38;5;28;01mif\u001b[39;00m \u001b[38;5;129;01mnot\u001b[39;00m (\u001b[38;5;28mself\u001b[39m\u001b[38;5;241m.\u001b[39m_backward_hooks \u001b[38;5;129;01mor\u001b[39;00m \u001b[38;5;28mself\u001b[39m\u001b[38;5;241m.\u001b[39m_backward_pre_hooks \u001b[38;5;129;01mor\u001b[39;00m \u001b[38;5;28mself\u001b[39m\u001b[38;5;241m.\u001b[39m_forward_hooks \u001b[38;5;129;01mor\u001b[39;00m \u001b[38;5;28mself\u001b[39m\u001b[38;5;241m.\u001b[39m_forward_pre_hooks\n\u001b[1;32m   1745\u001b[0m         \u001b[38;5;129;01mor\u001b[39;00m _global_backward_pre_hooks \u001b[38;5;129;01mor\u001b[39;00m _global_backward_hooks\n\u001b[1;32m   1746\u001b[0m         \u001b[38;5;129;01mor\u001b[39;00m _global_forward_hooks \u001b[38;5;129;01mor\u001b[39;00m _global_forward_pre_hooks):\n\u001b[0;32m-> 1747\u001b[0m     \u001b[38;5;28;01mreturn\u001b[39;00m \u001b[43mforward_call\u001b[49m\u001b[43m(\u001b[49m\u001b[38;5;241;43m*\u001b[39;49m\u001b[43margs\u001b[49m\u001b[43m,\u001b[49m\u001b[43m \u001b[49m\u001b[38;5;241;43m*\u001b[39;49m\u001b[38;5;241;43m*\u001b[39;49m\u001b[43mkwargs\u001b[49m\u001b[43m)\u001b[49m\n\u001b[1;32m   1749\u001b[0m result \u001b[38;5;241m=\u001b[39m \u001b[38;5;28;01mNone\u001b[39;00m\n",
      "Cell \u001b[0;32mIn[3], line 22\u001b[0m, in \u001b[0;36mMnistCnn.forward\u001b[0;34m(self, x)\u001b[0m\n\u001b[1;32m     21\u001b[0m x \u001b[38;5;241m=\u001b[39m \u001b[38;5;28mself\u001b[39m\u001b[38;5;241m.\u001b[39mdropout2(x)\n\u001b[0;32m---> 22\u001b[0m x \u001b[38;5;241m=\u001b[39m \u001b[38;5;28;43mself\u001b[39;49m\u001b[38;5;241;43m.\u001b[39;49m\u001b[43mfc2\u001b[49m\u001b[43m(\u001b[49m\u001b[43mx\u001b[49m\u001b[43m)\u001b[49m\n\u001b[1;32m     23\u001b[0m output \u001b[38;5;241m=\u001b[39m F\u001b[38;5;241m.\u001b[39mlog_softmax(x, dim\u001b[38;5;241m=\u001b[39m\u001b[38;5;241m1\u001b[39m)\n",
      "File \u001b[0;32m~/ai/idlmav/.venv/lib/python3.10/site-packages/torchview/recorder_tensor.py:146\u001b[0m, in \u001b[0;36mmodule_forward_wrapper.<locals>._module_forward_wrapper\u001b[0;34m(mod, *args, **kwargs)\u001b[0m\n\u001b[1;32m    144\u001b[0m \u001b[38;5;66;03m# TODO: check if output contains RecorderTensor\u001b[39;00m\n\u001b[1;32m    145\u001b[0m \u001b[38;5;66;03m# this seems not to be necessary so far\u001b[39;00m\n\u001b[0;32m--> 146\u001b[0m out \u001b[38;5;241m=\u001b[39m \u001b[43m_orig_module_forward\u001b[49m\u001b[43m(\u001b[49m\u001b[43mmod\u001b[49m\u001b[43m,\u001b[49m\u001b[43m \u001b[49m\u001b[38;5;241;43m*\u001b[39;49m\u001b[43margs\u001b[49m\u001b[43m,\u001b[49m\u001b[43m \u001b[49m\u001b[38;5;241;43m*\u001b[39;49m\u001b[38;5;241;43m*\u001b[39;49m\u001b[43mkwargs\u001b[49m\u001b[43m)\u001b[49m\n\u001b[1;32m    148\u001b[0m model_graph\u001b[38;5;241m.\u001b[39mcontext_tracker[\u001b[38;5;124m'\u001b[39m\u001b[38;5;124mcurrent_depth\u001b[39m\u001b[38;5;124m'\u001b[39m] \u001b[38;5;241m=\u001b[39m cur_depth\n",
      "File \u001b[0;32m~/ai/idlmav/.venv/lib/python3.10/site-packages/torch/nn/modules/module.py:1736\u001b[0m, in \u001b[0;36mModule._wrapped_call_impl\u001b[0;34m(self, *args, **kwargs)\u001b[0m\n\u001b[1;32m   1735\u001b[0m \u001b[38;5;28;01melse\u001b[39;00m:\n\u001b[0;32m-> 1736\u001b[0m     \u001b[38;5;28;01mreturn\u001b[39;00m \u001b[38;5;28;43mself\u001b[39;49m\u001b[38;5;241;43m.\u001b[39;49m\u001b[43m_call_impl\u001b[49m\u001b[43m(\u001b[49m\u001b[38;5;241;43m*\u001b[39;49m\u001b[43margs\u001b[49m\u001b[43m,\u001b[49m\u001b[43m \u001b[49m\u001b[38;5;241;43m*\u001b[39;49m\u001b[38;5;241;43m*\u001b[39;49m\u001b[43mkwargs\u001b[49m\u001b[43m)\u001b[49m\n",
      "File \u001b[0;32m~/ai/idlmav/.venv/lib/python3.10/site-packages/torch/nn/modules/module.py:1747\u001b[0m, in \u001b[0;36mModule._call_impl\u001b[0;34m(self, *args, **kwargs)\u001b[0m\n\u001b[1;32m   1744\u001b[0m \u001b[38;5;28;01mif\u001b[39;00m \u001b[38;5;129;01mnot\u001b[39;00m (\u001b[38;5;28mself\u001b[39m\u001b[38;5;241m.\u001b[39m_backward_hooks \u001b[38;5;129;01mor\u001b[39;00m \u001b[38;5;28mself\u001b[39m\u001b[38;5;241m.\u001b[39m_backward_pre_hooks \u001b[38;5;129;01mor\u001b[39;00m \u001b[38;5;28mself\u001b[39m\u001b[38;5;241m.\u001b[39m_forward_hooks \u001b[38;5;129;01mor\u001b[39;00m \u001b[38;5;28mself\u001b[39m\u001b[38;5;241m.\u001b[39m_forward_pre_hooks\n\u001b[1;32m   1745\u001b[0m         \u001b[38;5;129;01mor\u001b[39;00m _global_backward_pre_hooks \u001b[38;5;129;01mor\u001b[39;00m _global_backward_hooks\n\u001b[1;32m   1746\u001b[0m         \u001b[38;5;129;01mor\u001b[39;00m _global_forward_hooks \u001b[38;5;129;01mor\u001b[39;00m _global_forward_pre_hooks):\n\u001b[0;32m-> 1747\u001b[0m     \u001b[38;5;28;01mreturn\u001b[39;00m \u001b[43mforward_call\u001b[49m\u001b[43m(\u001b[49m\u001b[38;5;241;43m*\u001b[39;49m\u001b[43margs\u001b[49m\u001b[43m,\u001b[49m\u001b[43m \u001b[49m\u001b[38;5;241;43m*\u001b[39;49m\u001b[38;5;241;43m*\u001b[39;49m\u001b[43mkwargs\u001b[49m\u001b[43m)\u001b[49m\n\u001b[1;32m   1749\u001b[0m result \u001b[38;5;241m=\u001b[39m \u001b[38;5;28;01mNone\u001b[39;00m\n",
      "File \u001b[0;32m~/ai/idlmav/.venv/lib/python3.10/site-packages/torch/nn/modules/linear.py:125\u001b[0m, in \u001b[0;36mLinear.forward\u001b[0;34m(self, input)\u001b[0m\n\u001b[1;32m    124\u001b[0m \u001b[38;5;28;01mdef\u001b[39;00m \u001b[38;5;21mforward\u001b[39m(\u001b[38;5;28mself\u001b[39m, \u001b[38;5;28minput\u001b[39m: Tensor) \u001b[38;5;241m-\u001b[39m\u001b[38;5;241m>\u001b[39m Tensor:\n\u001b[0;32m--> 125\u001b[0m     \u001b[38;5;28;01mreturn\u001b[39;00m \u001b[43mF\u001b[49m\u001b[38;5;241;43m.\u001b[39;49m\u001b[43mlinear\u001b[49m\u001b[43m(\u001b[49m\u001b[38;5;28;43minput\u001b[39;49m\u001b[43m,\u001b[49m\u001b[43m \u001b[49m\u001b[38;5;28;43mself\u001b[39;49m\u001b[38;5;241;43m.\u001b[39;49m\u001b[43mweight\u001b[49m\u001b[43m,\u001b[49m\u001b[43m \u001b[49m\u001b[38;5;28;43mself\u001b[39;49m\u001b[38;5;241;43m.\u001b[39;49m\u001b[43mbias\u001b[49m\u001b[43m)\u001b[49m\n",
      "File \u001b[0;32m~/ai/idlmav/.venv/lib/python3.10/site-packages/torchview/recorder_tensor.py:236\u001b[0m, in \u001b[0;36mRecorderTensor.__torch_function__\u001b[0;34m(cls, func, types, args, kwargs)\u001b[0m\n\u001b[1;32m    235\u001b[0m \u001b[38;5;28;01mif\u001b[39;00m func \u001b[38;5;129;01min\u001b[39;00m [F\u001b[38;5;241m.\u001b[39mlinear, F\u001b[38;5;241m.\u001b[39membedding]:\n\u001b[0;32m--> 236\u001b[0m     out \u001b[38;5;241m=\u001b[39m \u001b[43mnn\u001b[49m\u001b[38;5;241;43m.\u001b[39;49m\u001b[43mparameter\u001b[49m\u001b[38;5;241;43m.\u001b[39;49m\u001b[43mParameter\u001b[49m\u001b[38;5;241;43m.\u001b[39;49m\u001b[43m__torch_function__\u001b[49m\u001b[43m(\u001b[49m\n\u001b[1;32m    237\u001b[0m \u001b[43m        \u001b[49m\u001b[43mfunc\u001b[49m\u001b[43m,\u001b[49m\u001b[43m \u001b[49m\u001b[43mtypes\u001b[49m\u001b[43m,\u001b[49m\u001b[43m \u001b[49m\u001b[43margs\u001b[49m\u001b[43m,\u001b[49m\u001b[43m \u001b[49m\u001b[43mkwargs\u001b[49m\u001b[43m)\u001b[49m\u001b[38;5;241m.\u001b[39mas_subclass(RecorderTensor)\n\u001b[1;32m    238\u001b[0m \u001b[38;5;28;01melse\u001b[39;00m:\n\u001b[1;32m    239\u001b[0m     \u001b[38;5;66;03m# use original torch_function; otherwise,\u001b[39;00m\n\u001b[1;32m    240\u001b[0m     \u001b[38;5;66;03m# it leads to infinite recursive call of torch_function\u001b[39;00m\n",
      "\u001b[0;31mRuntimeError\u001b[0m: mat1 and mat2 shapes cannot be multiplied (16x120 and 128x10)",
      "\nThe above exception was the direct cause of the following exception:\n",
      "\u001b[0;31mRuntimeError\u001b[0m                              Traceback (most recent call last)",
      "Cell \u001b[0;32mIn[12], line 2\u001b[0m\n\u001b[1;32m      1\u001b[0m \u001b[38;5;66;03m# Try the broken model\u001b[39;00m\n\u001b[0;32m----> 2\u001b[0m graph \u001b[38;5;241m=\u001b[39m \u001b[43mtorchview\u001b[49m\u001b[38;5;241;43m.\u001b[39;49m\u001b[43mdraw_graph\u001b[49m\u001b[43m(\u001b[49m\u001b[43mmodels\u001b[49m\u001b[43m[\u001b[49m\u001b[38;5;241;43m1\u001b[39;49m\u001b[43m]\u001b[49m\u001b[43m,\u001b[49m\u001b[43m \u001b[49m\u001b[43minput_size\u001b[49m\u001b[38;5;241;43m=\u001b[39;49m\u001b[43minput_sizes\u001b[49m\u001b[43m[\u001b[49m\u001b[38;5;241;43m1\u001b[39;49m\u001b[43m]\u001b[49m\u001b[43m)\u001b[49m\n\u001b[1;32m      3\u001b[0m graph\u001b[38;5;241m.\u001b[39mfill_visual_graph()\n\u001b[1;32m      4\u001b[0m graph\u001b[38;5;241m.\u001b[39mvisual_graph\n",
      "File \u001b[0;32m~/ai/idlmav/.venv/lib/python3.10/site-packages/torchview/torchview.py:220\u001b[0m, in \u001b[0;36mdraw_graph\u001b[0;34m(model, input_data, input_size, graph_name, depth, device, dtypes, mode, strict, expand_nested, graph_dir, hide_module_functions, hide_inner_tensors, roll, show_shapes, save_graph, filename, directory, **kwargs)\u001b[0m\n\u001b[1;32m    211\u001b[0m input_recorder_tensor, kwargs_record_tensor, input_nodes \u001b[38;5;241m=\u001b[39m process_input(\n\u001b[1;32m    212\u001b[0m     input_data, input_size, kwargs, device, dtypes\n\u001b[1;32m    213\u001b[0m )\n\u001b[1;32m    215\u001b[0m model_graph \u001b[38;5;241m=\u001b[39m ComputationGraph(\n\u001b[1;32m    216\u001b[0m     visual_graph, input_nodes, show_shapes, expand_nested,\n\u001b[1;32m    217\u001b[0m     hide_inner_tensors, hide_module_functions, roll, depth\n\u001b[1;32m    218\u001b[0m )\n\u001b[0;32m--> 220\u001b[0m \u001b[43mforward_prop\u001b[49m\u001b[43m(\u001b[49m\n\u001b[1;32m    221\u001b[0m \u001b[43m    \u001b[49m\u001b[43mmodel\u001b[49m\u001b[43m,\u001b[49m\u001b[43m \u001b[49m\u001b[43minput_recorder_tensor\u001b[49m\u001b[43m,\u001b[49m\u001b[43m \u001b[49m\u001b[43mdevice\u001b[49m\u001b[43m,\u001b[49m\u001b[43m \u001b[49m\u001b[43mmodel_graph\u001b[49m\u001b[43m,\u001b[49m\n\u001b[1;32m    222\u001b[0m \u001b[43m    \u001b[49m\u001b[43mmodel_mode\u001b[49m\u001b[43m,\u001b[49m\u001b[43m \u001b[49m\u001b[38;5;241;43m*\u001b[39;49m\u001b[38;5;241;43m*\u001b[39;49m\u001b[43mkwargs_record_tensor\u001b[49m\n\u001b[1;32m    223\u001b[0m \u001b[43m\u001b[49m\u001b[43m)\u001b[49m\n\u001b[1;32m    225\u001b[0m model_graph\u001b[38;5;241m.\u001b[39mfill_visual_graph()\n\u001b[1;32m    227\u001b[0m \u001b[38;5;28;01mif\u001b[39;00m save_graph:\n",
      "File \u001b[0;32m~/ai/idlmav/.venv/lib/python3.10/site-packages/torchview/torchview.py:264\u001b[0m, in \u001b[0;36mforward_prop\u001b[0;34m(model, x, device, model_graph, mode, **kwargs)\u001b[0m\n\u001b[1;32m    262\u001b[0m                 \u001b[38;5;28;01mraise\u001b[39;00m \u001b[38;5;167;01mValueError\u001b[39;00m(\u001b[38;5;124m\"\u001b[39m\u001b[38;5;124mUnknown input type\u001b[39m\u001b[38;5;124m\"\u001b[39m)\n\u001b[1;32m    263\u001b[0m \u001b[38;5;28;01mexcept\u001b[39;00m \u001b[38;5;167;01mException\u001b[39;00m \u001b[38;5;28;01mas\u001b[39;00m e:\n\u001b[0;32m--> 264\u001b[0m     \u001b[38;5;28;01mraise\u001b[39;00m \u001b[38;5;167;01mRuntimeError\u001b[39;00m(\n\u001b[1;32m    265\u001b[0m         \u001b[38;5;124m\"\u001b[39m\u001b[38;5;124mFailed to run torchgraph see error message\u001b[39m\u001b[38;5;124m\"\u001b[39m\n\u001b[1;32m    266\u001b[0m     ) \u001b[38;5;28;01mfrom\u001b[39;00m \u001b[38;5;21;01me\u001b[39;00m\n\u001b[1;32m    267\u001b[0m \u001b[38;5;28;01mfinally\u001b[39;00m:\n\u001b[1;32m    268\u001b[0m     model\u001b[38;5;241m.\u001b[39mtrain(saved_model_mode)\n",
      "\u001b[0;31mRuntimeError\u001b[0m: Failed to run torchgraph see error message"
     ]
    }
   ],
   "source": [
    "# Try the broken model\n",
    "graph = torchview.draw_graph(models[1], input_size=input_sizes[1])\n",
    "graph.fill_visual_graph()\n",
    "graph.visual_graph"
   ]
  },
  {
   "cell_type": "markdown",
   "metadata": {},
   "source": [
    "### torchinfo"
   ]
  },
  {
   "cell_type": "code",
   "execution_count": 13,
   "metadata": {},
   "outputs": [
    {
     "name": "stdout",
     "output_type": "stream",
     "text": [
      "=====================================================================================================================================================================\n",
      "Layer (type:depth-idx)                   Output Shape              Param #                   Mult-Adds                 Input Shape               Kernel Shape\n",
      "=====================================================================================================================================================================\n",
      "MnistCnn                                 [16, 10]                  --                        --                        [16, 1, 28, 28]           --\n",
      "├─Conv2d: 1-1                            [16, 32, 26, 26]          320                       3,461,120                 [16, 1, 28, 28]           [3, 3]\n",
      "├─Conv2d: 1-2                            [16, 64, 24, 24]          18,496                    170,459,136               [16, 32, 26, 26]          [3, 3]\n",
      "├─Dropout: 1-3                           [16, 64, 12, 12]          --                        --                        [16, 64, 12, 12]          --\n",
      "├─Linear: 1-4                            [16, 128]                 1,179,776                 18,876,416                [16, 9216]                --\n",
      "├─Dropout: 1-5                           [16, 128]                 --                        --                        [16, 128]                 --\n",
      "├─Linear: 1-6                            [16, 10]                  1,290                     20,640                    [16, 128]                 --\n",
      "=====================================================================================================================================================================\n",
      "Total params: 1,199,882\n",
      "Trainable params: 1,199,882\n",
      "Non-trainable params: 0\n",
      "Total mult-adds (M): 192.82\n",
      "=====================================================================================================================================================================\n",
      "Input size (MB): 0.05\n",
      "Forward/backward pass size (MB): 7.51\n",
      "Params size (MB): 4.80\n",
      "Estimated Total Size (MB): 12.35\n",
      "=====================================================================================================================================================================\n"
     ]
    }
   ],
   "source": [
    "torchinfo.summary(models[0], input_size=input_sizes[0], verbose=1, depth=8, \n",
    "                  col_names=[\"output_size\",\"num_params\",\"mult_adds\",\"input_size\",\"kernel_size\"]);"
   ]
  },
  {
   "cell_type": "code",
   "execution_count": 14,
   "metadata": {},
   "outputs": [
    {
     "ename": "RuntimeError",
     "evalue": "Failed to run torchinfo. See above stack traces for more details. Executed layers up to: [Conv2d: 1, Conv2d: 1, Dropout: 1, Linear: 1, Dropout: 1]",
     "output_type": "error",
     "traceback": [
      "\u001b[0;31m---------------------------------------------------------------------------\u001b[0m",
      "\u001b[0;31mRuntimeError\u001b[0m                              Traceback (most recent call last)",
      "File \u001b[0;32m~/ai/idlmav/.venv/lib/python3.10/site-packages/torchinfo/torchinfo.py:295\u001b[0m, in \u001b[0;36mforward_pass\u001b[0;34m(model, x, batch_dim, cache_forward_pass, device, mode, **kwargs)\u001b[0m\n\u001b[1;32m    294\u001b[0m \u001b[38;5;28;01mif\u001b[39;00m \u001b[38;5;28misinstance\u001b[39m(x, (\u001b[38;5;28mlist\u001b[39m, \u001b[38;5;28mtuple\u001b[39m)):\n\u001b[0;32m--> 295\u001b[0m     _ \u001b[38;5;241m=\u001b[39m \u001b[43mmodel\u001b[49m\u001b[43m(\u001b[49m\u001b[38;5;241;43m*\u001b[39;49m\u001b[43mx\u001b[49m\u001b[43m,\u001b[49m\u001b[43m \u001b[49m\u001b[38;5;241;43m*\u001b[39;49m\u001b[38;5;241;43m*\u001b[39;49m\u001b[43mkwargs\u001b[49m\u001b[43m)\u001b[49m\n\u001b[1;32m    296\u001b[0m \u001b[38;5;28;01melif\u001b[39;00m \u001b[38;5;28misinstance\u001b[39m(x, \u001b[38;5;28mdict\u001b[39m):\n",
      "File \u001b[0;32m~/ai/idlmav/.venv/lib/python3.10/site-packages/torch/nn/modules/module.py:1736\u001b[0m, in \u001b[0;36mModule._wrapped_call_impl\u001b[0;34m(self, *args, **kwargs)\u001b[0m\n\u001b[1;32m   1735\u001b[0m \u001b[38;5;28;01melse\u001b[39;00m:\n\u001b[0;32m-> 1736\u001b[0m     \u001b[38;5;28;01mreturn\u001b[39;00m \u001b[38;5;28;43mself\u001b[39;49m\u001b[38;5;241;43m.\u001b[39;49m\u001b[43m_call_impl\u001b[49m\u001b[43m(\u001b[49m\u001b[38;5;241;43m*\u001b[39;49m\u001b[43margs\u001b[49m\u001b[43m,\u001b[49m\u001b[43m \u001b[49m\u001b[38;5;241;43m*\u001b[39;49m\u001b[38;5;241;43m*\u001b[39;49m\u001b[43mkwargs\u001b[49m\u001b[43m)\u001b[49m\n",
      "File \u001b[0;32m~/ai/idlmav/.venv/lib/python3.10/site-packages/torch/nn/modules/module.py:1844\u001b[0m, in \u001b[0;36mModule._call_impl\u001b[0;34m(self, *args, **kwargs)\u001b[0m\n\u001b[1;32m   1843\u001b[0m \u001b[38;5;28;01mtry\u001b[39;00m:\n\u001b[0;32m-> 1844\u001b[0m     \u001b[38;5;28;01mreturn\u001b[39;00m \u001b[43minner\u001b[49m\u001b[43m(\u001b[49m\u001b[43m)\u001b[49m\n\u001b[1;32m   1845\u001b[0m \u001b[38;5;28;01mexcept\u001b[39;00m \u001b[38;5;167;01mException\u001b[39;00m:\n\u001b[1;32m   1846\u001b[0m     \u001b[38;5;66;03m# run always called hooks if they have not already been run\u001b[39;00m\n\u001b[1;32m   1847\u001b[0m     \u001b[38;5;66;03m# For now only forward hooks have the always_call option but perhaps\u001b[39;00m\n\u001b[1;32m   1848\u001b[0m     \u001b[38;5;66;03m# this functionality should be added to full backward hooks as well.\u001b[39;00m\n",
      "File \u001b[0;32m~/ai/idlmav/.venv/lib/python3.10/site-packages/torch/nn/modules/module.py:1790\u001b[0m, in \u001b[0;36mModule._call_impl.<locals>.inner\u001b[0;34m()\u001b[0m\n\u001b[1;32m   1788\u001b[0m     args \u001b[38;5;241m=\u001b[39m bw_hook\u001b[38;5;241m.\u001b[39msetup_input_hook(args)\n\u001b[0;32m-> 1790\u001b[0m result \u001b[38;5;241m=\u001b[39m \u001b[43mforward_call\u001b[49m\u001b[43m(\u001b[49m\u001b[38;5;241;43m*\u001b[39;49m\u001b[43margs\u001b[49m\u001b[43m,\u001b[49m\u001b[43m \u001b[49m\u001b[38;5;241;43m*\u001b[39;49m\u001b[38;5;241;43m*\u001b[39;49m\u001b[43mkwargs\u001b[49m\u001b[43m)\u001b[49m\n\u001b[1;32m   1791\u001b[0m \u001b[38;5;28;01mif\u001b[39;00m _global_forward_hooks \u001b[38;5;129;01mor\u001b[39;00m \u001b[38;5;28mself\u001b[39m\u001b[38;5;241m.\u001b[39m_forward_hooks:\n",
      "Cell \u001b[0;32mIn[3], line 22\u001b[0m, in \u001b[0;36mMnistCnn.forward\u001b[0;34m(self, x)\u001b[0m\n\u001b[1;32m     21\u001b[0m x \u001b[38;5;241m=\u001b[39m \u001b[38;5;28mself\u001b[39m\u001b[38;5;241m.\u001b[39mdropout2(x)\n\u001b[0;32m---> 22\u001b[0m x \u001b[38;5;241m=\u001b[39m \u001b[38;5;28;43mself\u001b[39;49m\u001b[38;5;241;43m.\u001b[39;49m\u001b[43mfc2\u001b[49m\u001b[43m(\u001b[49m\u001b[43mx\u001b[49m\u001b[43m)\u001b[49m\n\u001b[1;32m     23\u001b[0m output \u001b[38;5;241m=\u001b[39m F\u001b[38;5;241m.\u001b[39mlog_softmax(x, dim\u001b[38;5;241m=\u001b[39m\u001b[38;5;241m1\u001b[39m)\n",
      "File \u001b[0;32m~/ai/idlmav/.venv/lib/python3.10/site-packages/torch/nn/modules/module.py:1736\u001b[0m, in \u001b[0;36mModule._wrapped_call_impl\u001b[0;34m(self, *args, **kwargs)\u001b[0m\n\u001b[1;32m   1735\u001b[0m \u001b[38;5;28;01melse\u001b[39;00m:\n\u001b[0;32m-> 1736\u001b[0m     \u001b[38;5;28;01mreturn\u001b[39;00m \u001b[38;5;28;43mself\u001b[39;49m\u001b[38;5;241;43m.\u001b[39;49m\u001b[43m_call_impl\u001b[49m\u001b[43m(\u001b[49m\u001b[38;5;241;43m*\u001b[39;49m\u001b[43margs\u001b[49m\u001b[43m,\u001b[49m\u001b[43m \u001b[49m\u001b[38;5;241;43m*\u001b[39;49m\u001b[38;5;241;43m*\u001b[39;49m\u001b[43mkwargs\u001b[49m\u001b[43m)\u001b[49m\n",
      "File \u001b[0;32m~/ai/idlmav/.venv/lib/python3.10/site-packages/torch/nn/modules/module.py:1844\u001b[0m, in \u001b[0;36mModule._call_impl\u001b[0;34m(self, *args, **kwargs)\u001b[0m\n\u001b[1;32m   1843\u001b[0m \u001b[38;5;28;01mtry\u001b[39;00m:\n\u001b[0;32m-> 1844\u001b[0m     \u001b[38;5;28;01mreturn\u001b[39;00m \u001b[43minner\u001b[49m\u001b[43m(\u001b[49m\u001b[43m)\u001b[49m\n\u001b[1;32m   1845\u001b[0m \u001b[38;5;28;01mexcept\u001b[39;00m \u001b[38;5;167;01mException\u001b[39;00m:\n\u001b[1;32m   1846\u001b[0m     \u001b[38;5;66;03m# run always called hooks if they have not already been run\u001b[39;00m\n\u001b[1;32m   1847\u001b[0m     \u001b[38;5;66;03m# For now only forward hooks have the always_call option but perhaps\u001b[39;00m\n\u001b[1;32m   1848\u001b[0m     \u001b[38;5;66;03m# this functionality should be added to full backward hooks as well.\u001b[39;00m\n",
      "File \u001b[0;32m~/ai/idlmav/.venv/lib/python3.10/site-packages/torch/nn/modules/module.py:1790\u001b[0m, in \u001b[0;36mModule._call_impl.<locals>.inner\u001b[0;34m()\u001b[0m\n\u001b[1;32m   1788\u001b[0m     args \u001b[38;5;241m=\u001b[39m bw_hook\u001b[38;5;241m.\u001b[39msetup_input_hook(args)\n\u001b[0;32m-> 1790\u001b[0m result \u001b[38;5;241m=\u001b[39m \u001b[43mforward_call\u001b[49m\u001b[43m(\u001b[49m\u001b[38;5;241;43m*\u001b[39;49m\u001b[43margs\u001b[49m\u001b[43m,\u001b[49m\u001b[43m \u001b[49m\u001b[38;5;241;43m*\u001b[39;49m\u001b[38;5;241;43m*\u001b[39;49m\u001b[43mkwargs\u001b[49m\u001b[43m)\u001b[49m\n\u001b[1;32m   1791\u001b[0m \u001b[38;5;28;01mif\u001b[39;00m _global_forward_hooks \u001b[38;5;129;01mor\u001b[39;00m \u001b[38;5;28mself\u001b[39m\u001b[38;5;241m.\u001b[39m_forward_hooks:\n",
      "File \u001b[0;32m~/ai/idlmav/.venv/lib/python3.10/site-packages/torch/nn/modules/linear.py:125\u001b[0m, in \u001b[0;36mLinear.forward\u001b[0;34m(self, input)\u001b[0m\n\u001b[1;32m    124\u001b[0m \u001b[38;5;28;01mdef\u001b[39;00m \u001b[38;5;21mforward\u001b[39m(\u001b[38;5;28mself\u001b[39m, \u001b[38;5;28minput\u001b[39m: Tensor) \u001b[38;5;241m-\u001b[39m\u001b[38;5;241m>\u001b[39m Tensor:\n\u001b[0;32m--> 125\u001b[0m     \u001b[38;5;28;01mreturn\u001b[39;00m \u001b[43mF\u001b[49m\u001b[38;5;241;43m.\u001b[39;49m\u001b[43mlinear\u001b[49m\u001b[43m(\u001b[49m\u001b[38;5;28;43minput\u001b[39;49m\u001b[43m,\u001b[49m\u001b[43m \u001b[49m\u001b[38;5;28;43mself\u001b[39;49m\u001b[38;5;241;43m.\u001b[39;49m\u001b[43mweight\u001b[49m\u001b[43m,\u001b[49m\u001b[43m \u001b[49m\u001b[38;5;28;43mself\u001b[39;49m\u001b[38;5;241;43m.\u001b[39;49m\u001b[43mbias\u001b[49m\u001b[43m)\u001b[49m\n",
      "\u001b[0;31mRuntimeError\u001b[0m: mat1 and mat2 shapes cannot be multiplied (16x120 and 128x10)",
      "\nThe above exception was the direct cause of the following exception:\n",
      "\u001b[0;31mRuntimeError\u001b[0m                              Traceback (most recent call last)",
      "Cell \u001b[0;32mIn[14], line 2\u001b[0m\n\u001b[1;32m      1\u001b[0m \u001b[38;5;66;03m# Try the broken model\u001b[39;00m\n\u001b[0;32m----> 2\u001b[0m \u001b[43mtorchinfo\u001b[49m\u001b[38;5;241;43m.\u001b[39;49m\u001b[43msummary\u001b[49m\u001b[43m(\u001b[49m\u001b[43mmodels\u001b[49m\u001b[43m[\u001b[49m\u001b[38;5;241;43m1\u001b[39;49m\u001b[43m]\u001b[49m\u001b[43m,\u001b[49m\u001b[43m \u001b[49m\u001b[43minput_size\u001b[49m\u001b[38;5;241;43m=\u001b[39;49m\u001b[43minput_sizes\u001b[49m\u001b[43m[\u001b[49m\u001b[38;5;241;43m1\u001b[39;49m\u001b[43m]\u001b[49m\u001b[43m,\u001b[49m\u001b[43m \u001b[49m\u001b[43mverbose\u001b[49m\u001b[38;5;241;43m=\u001b[39;49m\u001b[38;5;241;43m1\u001b[39;49m\u001b[43m,\u001b[49m\u001b[43m \u001b[49m\u001b[43mdepth\u001b[49m\u001b[38;5;241;43m=\u001b[39;49m\u001b[38;5;241;43m8\u001b[39;49m\u001b[43m,\u001b[49m\u001b[43m \u001b[49m\n\u001b[1;32m      3\u001b[0m \u001b[43m                  \u001b[49m\u001b[43mcol_names\u001b[49m\u001b[38;5;241;43m=\u001b[39;49m\u001b[43m[\u001b[49m\u001b[38;5;124;43m\"\u001b[39;49m\u001b[38;5;124;43moutput_size\u001b[39;49m\u001b[38;5;124;43m\"\u001b[39;49m\u001b[43m,\u001b[49m\u001b[38;5;124;43m\"\u001b[39;49m\u001b[38;5;124;43mnum_params\u001b[39;49m\u001b[38;5;124;43m\"\u001b[39;49m\u001b[43m,\u001b[49m\u001b[38;5;124;43m\"\u001b[39;49m\u001b[38;5;124;43mmult_adds\u001b[39;49m\u001b[38;5;124;43m\"\u001b[39;49m\u001b[43m,\u001b[49m\u001b[38;5;124;43m\"\u001b[39;49m\u001b[38;5;124;43minput_size\u001b[39;49m\u001b[38;5;124;43m\"\u001b[39;49m\u001b[43m,\u001b[49m\u001b[38;5;124;43m\"\u001b[39;49m\u001b[38;5;124;43mkernel_size\u001b[39;49m\u001b[38;5;124;43m\"\u001b[39;49m\u001b[43m]\u001b[49m\u001b[43m)\u001b[49m;\n",
      "File \u001b[0;32m~/ai/idlmav/.venv/lib/python3.10/site-packages/torchinfo/torchinfo.py:223\u001b[0m, in \u001b[0;36msummary\u001b[0;34m(model, input_size, input_data, batch_dim, cache_forward_pass, col_names, col_width, depth, device, dtypes, mode, row_settings, verbose, **kwargs)\u001b[0m\n\u001b[1;32m    216\u001b[0m validate_user_params(\n\u001b[1;32m    217\u001b[0m     input_data, input_size, columns, col_width, device, dtypes, verbose\n\u001b[1;32m    218\u001b[0m )\n\u001b[1;32m    220\u001b[0m x, correct_input_size \u001b[38;5;241m=\u001b[39m process_input(\n\u001b[1;32m    221\u001b[0m     input_data, input_size, batch_dim, device, dtypes\n\u001b[1;32m    222\u001b[0m )\n\u001b[0;32m--> 223\u001b[0m summary_list \u001b[38;5;241m=\u001b[39m \u001b[43mforward_pass\u001b[49m\u001b[43m(\u001b[49m\n\u001b[1;32m    224\u001b[0m \u001b[43m    \u001b[49m\u001b[43mmodel\u001b[49m\u001b[43m,\u001b[49m\u001b[43m \u001b[49m\u001b[43mx\u001b[49m\u001b[43m,\u001b[49m\u001b[43m \u001b[49m\u001b[43mbatch_dim\u001b[49m\u001b[43m,\u001b[49m\u001b[43m \u001b[49m\u001b[43mcache_forward_pass\u001b[49m\u001b[43m,\u001b[49m\u001b[43m \u001b[49m\u001b[43mdevice\u001b[49m\u001b[43m,\u001b[49m\u001b[43m \u001b[49m\u001b[43mmodel_mode\u001b[49m\u001b[43m,\u001b[49m\u001b[43m \u001b[49m\u001b[38;5;241;43m*\u001b[39;49m\u001b[38;5;241;43m*\u001b[39;49m\u001b[43mkwargs\u001b[49m\n\u001b[1;32m    225\u001b[0m \u001b[43m\u001b[49m\u001b[43m)\u001b[49m\n\u001b[1;32m    226\u001b[0m formatting \u001b[38;5;241m=\u001b[39m FormattingOptions(depth, verbose, columns, col_width, rows)\n\u001b[1;32m    227\u001b[0m results \u001b[38;5;241m=\u001b[39m ModelStatistics(\n\u001b[1;32m    228\u001b[0m     summary_list, correct_input_size, get_total_memory_used(x), formatting\n\u001b[1;32m    229\u001b[0m )\n",
      "File \u001b[0;32m~/ai/idlmav/.venv/lib/python3.10/site-packages/torchinfo/torchinfo.py:304\u001b[0m, in \u001b[0;36mforward_pass\u001b[0;34m(model, x, batch_dim, cache_forward_pass, device, mode, **kwargs)\u001b[0m\n\u001b[1;32m    302\u001b[0m \u001b[38;5;28;01mexcept\u001b[39;00m \u001b[38;5;167;01mException\u001b[39;00m \u001b[38;5;28;01mas\u001b[39;00m e:\n\u001b[1;32m    303\u001b[0m     executed_layers \u001b[38;5;241m=\u001b[39m [layer \u001b[38;5;28;01mfor\u001b[39;00m layer \u001b[38;5;129;01min\u001b[39;00m summary_list \u001b[38;5;28;01mif\u001b[39;00m layer\u001b[38;5;241m.\u001b[39mexecuted]\n\u001b[0;32m--> 304\u001b[0m     \u001b[38;5;28;01mraise\u001b[39;00m \u001b[38;5;167;01mRuntimeError\u001b[39;00m(\n\u001b[1;32m    305\u001b[0m         \u001b[38;5;124m\"\u001b[39m\u001b[38;5;124mFailed to run torchinfo. See above stack traces for more details. \u001b[39m\u001b[38;5;124m\"\u001b[39m\n\u001b[1;32m    306\u001b[0m         \u001b[38;5;124mf\u001b[39m\u001b[38;5;124m\"\u001b[39m\u001b[38;5;124mExecuted layers up to: \u001b[39m\u001b[38;5;132;01m{\u001b[39;00mexecuted_layers\u001b[38;5;132;01m}\u001b[39;00m\u001b[38;5;124m\"\u001b[39m\n\u001b[1;32m    307\u001b[0m     ) \u001b[38;5;28;01mfrom\u001b[39;00m \u001b[38;5;21;01me\u001b[39;00m\n\u001b[1;32m    308\u001b[0m \u001b[38;5;28;01mfinally\u001b[39;00m:\n\u001b[1;32m    309\u001b[0m     \u001b[38;5;28;01mif\u001b[39;00m hooks:\n",
      "\u001b[0;31mRuntimeError\u001b[0m: Failed to run torchinfo. See above stack traces for more details. Executed layers up to: [Conv2d: 1, Conv2d: 1, Dropout: 1, Linear: 1, Dropout: 1]"
     ]
    }
   ],
   "source": [
    "# Try the broken model\n",
    "torchinfo.summary(models[1], input_size=input_sizes[1], verbose=1, depth=8, \n",
    "                  col_names=[\"output_size\",\"num_params\",\"mult_adds\",\"input_size\",\"kernel_size\"]);"
   ]
  },
  {
   "cell_type": "markdown",
   "metadata": {},
   "source": [
    "### torch.fx"
   ]
  },
  {
   "cell_type": "code",
   "execution_count": 15,
   "metadata": {},
   "outputs": [
    {
     "name": "stdout",
     "output_type": "stream",
     "text": [
      "opcode         name         target                                                      args            kwargs\n",
      "-------------  -----------  ----------------------------------------------------------  --------------  ------------------------------------------------------------------------------------------\n",
      "placeholder    x            x                                                           ()              {}\n",
      "call_module    conv1        conv1                                                       (x,)            {}\n",
      "call_function  relu         <function relu at 0x7f349a26dea0>                           (conv1,)        {'inplace': False}\n",
      "call_module    conv2        conv2                                                       (relu,)         {}\n",
      "call_function  relu_1       <function relu at 0x7f349a26dea0>                           (conv2,)        {'inplace': False}\n",
      "call_function  max_pool2d   <function boolean_dispatch.<locals>.fn at 0x7f349a26cd30>   (relu_1, 2)     {'stride': None, 'padding': 0, 'dilation': 1, 'ceil_mode': False, 'return_indices': False}\n",
      "call_module    dropout1     dropout1                                                    (max_pool2d,)   {}\n",
      "call_function  flatten      <built-in method flatten of type object at 0x7f357b25f1c0>  (dropout1, 1)   {}\n",
      "call_module    fc1          fc1                                                         (flatten,)      {}\n",
      "call_function  relu_2       <function relu at 0x7f349a26dea0>                           (fc1,)          {'inplace': False}\n",
      "call_module    dropout2     dropout2                                                    (relu_2,)       {}\n",
      "call_module    fc2          fc2                                                         (dropout2,)     {}\n",
      "call_function  log_softmax  <function log_softmax at 0x7f349a26e830>                    (fc2,)          {'dim': 1, '_stacklevel': 3, 'dtype': None}\n",
      "output         output       output                                                      (log_softmax,)  {}\n"
     ]
    }
   ],
   "source": [
    "traced_model = fx.symbolic_trace(models[0])\n",
    "traced_model.graph.print_tabular()"
   ]
  },
  {
   "cell_type": "code",
   "execution_count": 16,
   "metadata": {},
   "outputs": [
    {
     "name": "stdout",
     "output_type": "stream",
     "text": [
      "opcode         name         target                                                      args            kwargs\n",
      "-------------  -----------  ----------------------------------------------------------  --------------  ------------------------------------------------------------------------------------------\n",
      "placeholder    x            x                                                           ()              {}\n",
      "call_module    conv1        conv1                                                       (x,)            {}\n",
      "call_function  relu         <function relu at 0x7f349a26dea0>                           (conv1,)        {'inplace': False}\n",
      "call_module    conv2        conv2                                                       (relu,)         {}\n",
      "call_function  relu_1       <function relu at 0x7f349a26dea0>                           (conv2,)        {'inplace': False}\n",
      "call_function  max_pool2d   <function boolean_dispatch.<locals>.fn at 0x7f349a26cd30>   (relu_1, 2)     {'stride': None, 'padding': 0, 'dilation': 1, 'ceil_mode': False, 'return_indices': False}\n",
      "call_module    dropout1     dropout1                                                    (max_pool2d,)   {}\n",
      "call_function  flatten      <built-in method flatten of type object at 0x7f357b25f1c0>  (dropout1, 1)   {}\n",
      "call_module    fc1          fc1                                                         (flatten,)      {}\n",
      "call_function  relu_2       <function relu at 0x7f349a26dea0>                           (fc1,)          {'inplace': False}\n",
      "call_module    dropout2     dropout2                                                    (relu_2,)       {}\n",
      "call_module    fc2          fc2                                                         (dropout2,)     {}\n",
      "call_function  log_softmax  <function log_softmax at 0x7f349a26e830>                    (fc2,)          {'dim': 1, '_stacklevel': 3, 'dtype': None}\n",
      "output         output       output                                                      (log_softmax,)  {}\n"
     ]
    }
   ],
   "source": [
    "# Try the broken model\n",
    "traced_model = fx.symbolic_trace(models[1])\n",
    "traced_model.graph.print_tabular()"
   ]
  },
  {
   "cell_type": "markdown",
   "metadata": {},
   "source": [
    "### torchprofile"
   ]
  },
  {
   "cell_type": "code",
   "execution_count": 20,
   "metadata": {},
   "outputs": [
    {
     "data": {
      "text/plain": [
       "dict_values([3115008, 169869312, 18874368, 20480])"
      ]
     },
     "execution_count": 20,
     "metadata": {},
     "output_type": "execute_result"
    }
   ],
   "source": [
    "macs = profile_macs(models[0], inputs[0], reduction=None)\n",
    "macs.values()"
   ]
  },
  {
   "cell_type": "code",
   "execution_count": 21,
   "metadata": {},
   "outputs": [
    {
     "data": {
      "text/plain": [
       "[3115008, 169869312, 18874368, 20480]"
      ]
     },
     "execution_count": 21,
     "metadata": {},
     "output_type": "execute_result"
    }
   ],
   "source": [
    "profile_macs(models[0], inputs[0], reduction=list)"
   ]
  },
  {
   "cell_type": "code",
   "execution_count": 22,
   "metadata": {},
   "outputs": [
    {
     "data": {
      "text/plain": [
       "3115008"
      ]
     },
     "execution_count": 22,
     "metadata": {},
     "output_type": "execute_result"
    }
   ],
   "source": [
    "# Profiling a single module\n",
    "first_module = list(models[0].children())[0]\n",
    "macs = profile_macs(first_module, inputs[0], reduction=sum)\n",
    "macs"
   ]
  },
  {
   "cell_type": "code",
   "execution_count": 23,
   "metadata": {},
   "outputs": [
    {
     "ename": "RuntimeError",
     "evalue": "mat1 and mat2 shapes cannot be multiplied (16x120 and 128x10)",
     "output_type": "error",
     "traceback": [
      "\u001b[0;31m---------------------------------------------------------------------------\u001b[0m",
      "\u001b[0;31mRuntimeError\u001b[0m                              Traceback (most recent call last)",
      "Cell \u001b[0;32mIn[23], line 2\u001b[0m\n\u001b[1;32m      1\u001b[0m \u001b[38;5;66;03m# Try the broken model\u001b[39;00m\n\u001b[0;32m----> 2\u001b[0m macs \u001b[38;5;241m=\u001b[39m \u001b[43mprofile_macs\u001b[49m\u001b[43m(\u001b[49m\u001b[43mmodels\u001b[49m\u001b[43m[\u001b[49m\u001b[38;5;241;43m1\u001b[39;49m\u001b[43m]\u001b[49m\u001b[43m,\u001b[49m\u001b[43m \u001b[49m\u001b[43minputs\u001b[49m\u001b[43m[\u001b[49m\u001b[38;5;241;43m1\u001b[39;49m\u001b[43m]\u001b[49m\u001b[43m,\u001b[49m\u001b[43m \u001b[49m\u001b[43mreduction\u001b[49m\u001b[38;5;241;43m=\u001b[39;49m\u001b[38;5;28;43;01mNone\u001b[39;49;00m\u001b[43m)\u001b[49m\n\u001b[1;32m      3\u001b[0m macs\u001b[38;5;241m.\u001b[39mvalues()\n",
      "File \u001b[0;32m~/ai/idlmav/.venv/lib/python3.10/site-packages/torchprofile/profile.py:12\u001b[0m, in \u001b[0;36mprofile_macs\u001b[0;34m(model, args, kwargs, reduction)\u001b[0m\n\u001b[1;32m      9\u001b[0m \u001b[38;5;28;01mdef\u001b[39;00m \u001b[38;5;21mprofile_macs\u001b[39m(model, args\u001b[38;5;241m=\u001b[39m(), kwargs\u001b[38;5;241m=\u001b[39m\u001b[38;5;28;01mNone\u001b[39;00m, reduction\u001b[38;5;241m=\u001b[39m\u001b[38;5;28msum\u001b[39m):\n\u001b[1;32m     10\u001b[0m     results \u001b[38;5;241m=\u001b[39m \u001b[38;5;28mdict\u001b[39m()\n\u001b[0;32m---> 12\u001b[0m     graph \u001b[38;5;241m=\u001b[39m \u001b[43mtrace\u001b[49m\u001b[43m(\u001b[49m\u001b[43mmodel\u001b[49m\u001b[43m,\u001b[49m\u001b[43m \u001b[49m\u001b[43margs\u001b[49m\u001b[43m,\u001b[49m\u001b[43m \u001b[49m\u001b[43mkwargs\u001b[49m\u001b[43m)\u001b[49m\n\u001b[1;32m     13\u001b[0m     \u001b[38;5;28;01mfor\u001b[39;00m node \u001b[38;5;129;01min\u001b[39;00m graph\u001b[38;5;241m.\u001b[39mnodes:\n\u001b[1;32m     14\u001b[0m         \u001b[38;5;28;01mfor\u001b[39;00m operators, func \u001b[38;5;129;01min\u001b[39;00m handlers:\n",
      "File \u001b[0;32m~/ai/idlmav/.venv/lib/python3.10/site-packages/torchprofile/utils/trace.py:17\u001b[0m, in \u001b[0;36mtrace\u001b[0;34m(model, args, kwargs)\u001b[0m\n\u001b[1;32m     13\u001b[0m \u001b[38;5;28;01massert\u001b[39;00m kwargs \u001b[38;5;129;01mis\u001b[39;00m \u001b[38;5;28;01mNone\u001b[39;00m, \u001b[38;5;124m'\u001b[39m\u001b[38;5;124mKeyword arguments are not supported for now. \u001b[39m\u001b[38;5;124m'\u001b[39m \\\n\u001b[1;32m     14\u001b[0m                        \u001b[38;5;124m'\u001b[39m\u001b[38;5;124mPlease use positional arguments instead!\u001b[39m\u001b[38;5;124m'\u001b[39m\n\u001b[1;32m     16\u001b[0m \u001b[38;5;28;01mwith\u001b[39;00m warnings\u001b[38;5;241m.\u001b[39mcatch_warnings(record\u001b[38;5;241m=\u001b[39m\u001b[38;5;28;01mTrue\u001b[39;00m):\n\u001b[0;32m---> 17\u001b[0m     graph, _ \u001b[38;5;241m=\u001b[39m \u001b[43mtorch\u001b[49m\u001b[38;5;241;43m.\u001b[39;49m\u001b[43mjit\u001b[49m\u001b[38;5;241;43m.\u001b[39;49m\u001b[43m_get_trace_graph\u001b[49m\u001b[43m(\u001b[49m\u001b[43mFlatten\u001b[49m\u001b[43m(\u001b[49m\u001b[43mmodel\u001b[49m\u001b[43m)\u001b[49m\u001b[43m,\u001b[49m\u001b[43m \u001b[49m\u001b[43margs\u001b[49m\u001b[43m,\u001b[49m\u001b[43m \u001b[49m\u001b[43mkwargs\u001b[49m\u001b[43m)\u001b[49m\n\u001b[1;32m     19\u001b[0m variables \u001b[38;5;241m=\u001b[39m \u001b[38;5;28mdict\u001b[39m()\n\u001b[1;32m     20\u001b[0m \u001b[38;5;28;01mfor\u001b[39;00m x \u001b[38;5;129;01min\u001b[39;00m graph\u001b[38;5;241m.\u001b[39mnodes():\n",
      "File \u001b[0;32m~/ai/idlmav/.venv/lib/python3.10/site-packages/torch/jit/_trace.py:1500\u001b[0m, in \u001b[0;36m_get_trace_graph\u001b[0;34m(f, args, kwargs, strict, _force_outplace, return_inputs, _return_inputs_states)\u001b[0m\n\u001b[1;32m   1498\u001b[0m \u001b[38;5;28;01mif\u001b[39;00m \u001b[38;5;129;01mnot\u001b[39;00m \u001b[38;5;28misinstance\u001b[39m(args, \u001b[38;5;28mtuple\u001b[39m):\n\u001b[1;32m   1499\u001b[0m     args \u001b[38;5;241m=\u001b[39m (args,)\n\u001b[0;32m-> 1500\u001b[0m outs \u001b[38;5;241m=\u001b[39m \u001b[43mONNXTracedModule\u001b[49m\u001b[43m(\u001b[49m\n\u001b[1;32m   1501\u001b[0m \u001b[43m    \u001b[49m\u001b[43mf\u001b[49m\u001b[43m,\u001b[49m\u001b[43m \u001b[49m\u001b[43mstrict\u001b[49m\u001b[43m,\u001b[49m\u001b[43m \u001b[49m\u001b[43m_force_outplace\u001b[49m\u001b[43m,\u001b[49m\u001b[43m \u001b[49m\u001b[43mreturn_inputs\u001b[49m\u001b[43m,\u001b[49m\u001b[43m \u001b[49m\u001b[43m_return_inputs_states\u001b[49m\n\u001b[1;32m   1502\u001b[0m \u001b[43m\u001b[49m\u001b[43m)\u001b[49m\u001b[43m(\u001b[49m\u001b[38;5;241;43m*\u001b[39;49m\u001b[43margs\u001b[49m\u001b[43m,\u001b[49m\u001b[43m \u001b[49m\u001b[38;5;241;43m*\u001b[39;49m\u001b[38;5;241;43m*\u001b[39;49m\u001b[43mkwargs\u001b[49m\u001b[43m)\u001b[49m\n\u001b[1;32m   1503\u001b[0m \u001b[38;5;28;01mreturn\u001b[39;00m outs\n",
      "File \u001b[0;32m~/ai/idlmav/.venv/lib/python3.10/site-packages/torch/nn/modules/module.py:1736\u001b[0m, in \u001b[0;36mModule._wrapped_call_impl\u001b[0;34m(self, *args, **kwargs)\u001b[0m\n\u001b[1;32m   1734\u001b[0m     \u001b[38;5;28;01mreturn\u001b[39;00m \u001b[38;5;28mself\u001b[39m\u001b[38;5;241m.\u001b[39m_compiled_call_impl(\u001b[38;5;241m*\u001b[39margs, \u001b[38;5;241m*\u001b[39m\u001b[38;5;241m*\u001b[39mkwargs)  \u001b[38;5;66;03m# type: ignore[misc]\u001b[39;00m\n\u001b[1;32m   1735\u001b[0m \u001b[38;5;28;01melse\u001b[39;00m:\n\u001b[0;32m-> 1736\u001b[0m     \u001b[38;5;28;01mreturn\u001b[39;00m \u001b[38;5;28;43mself\u001b[39;49m\u001b[38;5;241;43m.\u001b[39;49m\u001b[43m_call_impl\u001b[49m\u001b[43m(\u001b[49m\u001b[38;5;241;43m*\u001b[39;49m\u001b[43margs\u001b[49m\u001b[43m,\u001b[49m\u001b[43m \u001b[49m\u001b[38;5;241;43m*\u001b[39;49m\u001b[38;5;241;43m*\u001b[39;49m\u001b[43mkwargs\u001b[49m\u001b[43m)\u001b[49m\n",
      "File \u001b[0;32m~/ai/idlmav/.venv/lib/python3.10/site-packages/torch/nn/modules/module.py:1747\u001b[0m, in \u001b[0;36mModule._call_impl\u001b[0;34m(self, *args, **kwargs)\u001b[0m\n\u001b[1;32m   1742\u001b[0m \u001b[38;5;66;03m# If we don't have any hooks, we want to skip the rest of the logic in\u001b[39;00m\n\u001b[1;32m   1743\u001b[0m \u001b[38;5;66;03m# this function, and just call forward.\u001b[39;00m\n\u001b[1;32m   1744\u001b[0m \u001b[38;5;28;01mif\u001b[39;00m \u001b[38;5;129;01mnot\u001b[39;00m (\u001b[38;5;28mself\u001b[39m\u001b[38;5;241m.\u001b[39m_backward_hooks \u001b[38;5;129;01mor\u001b[39;00m \u001b[38;5;28mself\u001b[39m\u001b[38;5;241m.\u001b[39m_backward_pre_hooks \u001b[38;5;129;01mor\u001b[39;00m \u001b[38;5;28mself\u001b[39m\u001b[38;5;241m.\u001b[39m_forward_hooks \u001b[38;5;129;01mor\u001b[39;00m \u001b[38;5;28mself\u001b[39m\u001b[38;5;241m.\u001b[39m_forward_pre_hooks\n\u001b[1;32m   1745\u001b[0m         \u001b[38;5;129;01mor\u001b[39;00m _global_backward_pre_hooks \u001b[38;5;129;01mor\u001b[39;00m _global_backward_hooks\n\u001b[1;32m   1746\u001b[0m         \u001b[38;5;129;01mor\u001b[39;00m _global_forward_hooks \u001b[38;5;129;01mor\u001b[39;00m _global_forward_pre_hooks):\n\u001b[0;32m-> 1747\u001b[0m     \u001b[38;5;28;01mreturn\u001b[39;00m \u001b[43mforward_call\u001b[49m\u001b[43m(\u001b[49m\u001b[38;5;241;43m*\u001b[39;49m\u001b[43margs\u001b[49m\u001b[43m,\u001b[49m\u001b[43m \u001b[49m\u001b[38;5;241;43m*\u001b[39;49m\u001b[38;5;241;43m*\u001b[39;49m\u001b[43mkwargs\u001b[49m\u001b[43m)\u001b[49m\n\u001b[1;32m   1749\u001b[0m result \u001b[38;5;241m=\u001b[39m \u001b[38;5;28;01mNone\u001b[39;00m\n\u001b[1;32m   1750\u001b[0m called_always_called_hooks \u001b[38;5;241m=\u001b[39m \u001b[38;5;28mset\u001b[39m()\n",
      "File \u001b[0;32m~/ai/idlmav/.venv/lib/python3.10/site-packages/torch/jit/_trace.py:139\u001b[0m, in \u001b[0;36mONNXTracedModule.forward\u001b[0;34m(self, *args)\u001b[0m\n\u001b[1;32m    136\u001b[0m     \u001b[38;5;28;01melse\u001b[39;00m:\n\u001b[1;32m    137\u001b[0m         \u001b[38;5;28;01mreturn\u001b[39;00m \u001b[38;5;28mtuple\u001b[39m(out_vars)\n\u001b[0;32m--> 139\u001b[0m graph, out \u001b[38;5;241m=\u001b[39m \u001b[43mtorch\u001b[49m\u001b[38;5;241;43m.\u001b[39;49m\u001b[43m_C\u001b[49m\u001b[38;5;241;43m.\u001b[39;49m\u001b[43m_create_graph_by_tracing\u001b[49m\u001b[43m(\u001b[49m\n\u001b[1;32m    140\u001b[0m \u001b[43m    \u001b[49m\u001b[43mwrapper\u001b[49m\u001b[43m,\u001b[49m\n\u001b[1;32m    141\u001b[0m \u001b[43m    \u001b[49m\u001b[43min_vars\u001b[49m\u001b[43m \u001b[49m\u001b[38;5;241;43m+\u001b[39;49m\u001b[43m \u001b[49m\u001b[43mmodule_state\u001b[49m\u001b[43m,\u001b[49m\n\u001b[1;32m    142\u001b[0m \u001b[43m    \u001b[49m\u001b[43m_create_interpreter_name_lookup_fn\u001b[49m\u001b[43m(\u001b[49m\u001b[43m)\u001b[49m\u001b[43m,\u001b[49m\n\u001b[1;32m    143\u001b[0m \u001b[43m    \u001b[49m\u001b[38;5;28;43mself\u001b[39;49m\u001b[38;5;241;43m.\u001b[39;49m\u001b[43mstrict\u001b[49m\u001b[43m,\u001b[49m\n\u001b[1;32m    144\u001b[0m \u001b[43m    \u001b[49m\u001b[38;5;28;43mself\u001b[39;49m\u001b[38;5;241;43m.\u001b[39;49m\u001b[43m_force_outplace\u001b[49m\u001b[43m,\u001b[49m\n\u001b[1;32m    145\u001b[0m \u001b[43m\u001b[49m\u001b[43m)\u001b[49m\n\u001b[1;32m    147\u001b[0m \u001b[38;5;28;01mif\u001b[39;00m \u001b[38;5;28mself\u001b[39m\u001b[38;5;241m.\u001b[39m_return_inputs:\n\u001b[1;32m    148\u001b[0m     \u001b[38;5;28;01mreturn\u001b[39;00m graph, outs[\u001b[38;5;241m0\u001b[39m], ret_inputs[\u001b[38;5;241m0\u001b[39m]\n",
      "File \u001b[0;32m~/ai/idlmav/.venv/lib/python3.10/site-packages/torch/jit/_trace.py:130\u001b[0m, in \u001b[0;36mONNXTracedModule.forward.<locals>.wrapper\u001b[0;34m(*args)\u001b[0m\n\u001b[1;32m    128\u001b[0m \u001b[38;5;28;01mif\u001b[39;00m \u001b[38;5;28mself\u001b[39m\u001b[38;5;241m.\u001b[39m_return_inputs_states:\n\u001b[1;32m    129\u001b[0m     inputs_states\u001b[38;5;241m.\u001b[39mappend(_unflatten(in_args, in_desc))\n\u001b[0;32m--> 130\u001b[0m outs\u001b[38;5;241m.\u001b[39mappend(\u001b[38;5;28;43mself\u001b[39;49m\u001b[38;5;241;43m.\u001b[39;49m\u001b[43minner\u001b[49m\u001b[43m(\u001b[49m\u001b[38;5;241;43m*\u001b[39;49m\u001b[43mtrace_inputs\u001b[49m\u001b[43m)\u001b[49m)\n\u001b[1;32m    131\u001b[0m \u001b[38;5;28;01mif\u001b[39;00m \u001b[38;5;28mself\u001b[39m\u001b[38;5;241m.\u001b[39m_return_inputs_states:\n\u001b[1;32m    132\u001b[0m     inputs_states[\u001b[38;5;241m0\u001b[39m] \u001b[38;5;241m=\u001b[39m (inputs_states[\u001b[38;5;241m0\u001b[39m], trace_inputs)\n",
      "File \u001b[0;32m~/ai/idlmav/.venv/lib/python3.10/site-packages/torch/nn/modules/module.py:1736\u001b[0m, in \u001b[0;36mModule._wrapped_call_impl\u001b[0;34m(self, *args, **kwargs)\u001b[0m\n\u001b[1;32m   1734\u001b[0m     \u001b[38;5;28;01mreturn\u001b[39;00m \u001b[38;5;28mself\u001b[39m\u001b[38;5;241m.\u001b[39m_compiled_call_impl(\u001b[38;5;241m*\u001b[39margs, \u001b[38;5;241m*\u001b[39m\u001b[38;5;241m*\u001b[39mkwargs)  \u001b[38;5;66;03m# type: ignore[misc]\u001b[39;00m\n\u001b[1;32m   1735\u001b[0m \u001b[38;5;28;01melse\u001b[39;00m:\n\u001b[0;32m-> 1736\u001b[0m     \u001b[38;5;28;01mreturn\u001b[39;00m \u001b[38;5;28;43mself\u001b[39;49m\u001b[38;5;241;43m.\u001b[39;49m\u001b[43m_call_impl\u001b[49m\u001b[43m(\u001b[49m\u001b[38;5;241;43m*\u001b[39;49m\u001b[43margs\u001b[49m\u001b[43m,\u001b[49m\u001b[43m \u001b[49m\u001b[38;5;241;43m*\u001b[39;49m\u001b[38;5;241;43m*\u001b[39;49m\u001b[43mkwargs\u001b[49m\u001b[43m)\u001b[49m\n",
      "File \u001b[0;32m~/ai/idlmav/.venv/lib/python3.10/site-packages/torch/nn/modules/module.py:1747\u001b[0m, in \u001b[0;36mModule._call_impl\u001b[0;34m(self, *args, **kwargs)\u001b[0m\n\u001b[1;32m   1742\u001b[0m \u001b[38;5;66;03m# If we don't have any hooks, we want to skip the rest of the logic in\u001b[39;00m\n\u001b[1;32m   1743\u001b[0m \u001b[38;5;66;03m# this function, and just call forward.\u001b[39;00m\n\u001b[1;32m   1744\u001b[0m \u001b[38;5;28;01mif\u001b[39;00m \u001b[38;5;129;01mnot\u001b[39;00m (\u001b[38;5;28mself\u001b[39m\u001b[38;5;241m.\u001b[39m_backward_hooks \u001b[38;5;129;01mor\u001b[39;00m \u001b[38;5;28mself\u001b[39m\u001b[38;5;241m.\u001b[39m_backward_pre_hooks \u001b[38;5;129;01mor\u001b[39;00m \u001b[38;5;28mself\u001b[39m\u001b[38;5;241m.\u001b[39m_forward_hooks \u001b[38;5;129;01mor\u001b[39;00m \u001b[38;5;28mself\u001b[39m\u001b[38;5;241m.\u001b[39m_forward_pre_hooks\n\u001b[1;32m   1745\u001b[0m         \u001b[38;5;129;01mor\u001b[39;00m _global_backward_pre_hooks \u001b[38;5;129;01mor\u001b[39;00m _global_backward_hooks\n\u001b[1;32m   1746\u001b[0m         \u001b[38;5;129;01mor\u001b[39;00m _global_forward_hooks \u001b[38;5;129;01mor\u001b[39;00m _global_forward_pre_hooks):\n\u001b[0;32m-> 1747\u001b[0m     \u001b[38;5;28;01mreturn\u001b[39;00m \u001b[43mforward_call\u001b[49m\u001b[43m(\u001b[49m\u001b[38;5;241;43m*\u001b[39;49m\u001b[43margs\u001b[49m\u001b[43m,\u001b[49m\u001b[43m \u001b[49m\u001b[38;5;241;43m*\u001b[39;49m\u001b[38;5;241;43m*\u001b[39;49m\u001b[43mkwargs\u001b[49m\u001b[43m)\u001b[49m\n\u001b[1;32m   1749\u001b[0m result \u001b[38;5;241m=\u001b[39m \u001b[38;5;28;01mNone\u001b[39;00m\n\u001b[1;32m   1750\u001b[0m called_always_called_hooks \u001b[38;5;241m=\u001b[39m \u001b[38;5;28mset\u001b[39m()\n",
      "File \u001b[0;32m~/ai/idlmav/.venv/lib/python3.10/site-packages/torch/nn/modules/module.py:1726\u001b[0m, in \u001b[0;36mModule._slow_forward\u001b[0;34m(self, *input, **kwargs)\u001b[0m\n\u001b[1;32m   1724\u001b[0m         recording_scopes \u001b[38;5;241m=\u001b[39m \u001b[38;5;28;01mFalse\u001b[39;00m\n\u001b[1;32m   1725\u001b[0m \u001b[38;5;28;01mtry\u001b[39;00m:\n\u001b[0;32m-> 1726\u001b[0m     result \u001b[38;5;241m=\u001b[39m \u001b[38;5;28;43mself\u001b[39;49m\u001b[38;5;241;43m.\u001b[39;49m\u001b[43mforward\u001b[49m\u001b[43m(\u001b[49m\u001b[38;5;241;43m*\u001b[39;49m\u001b[38;5;28;43minput\u001b[39;49m\u001b[43m,\u001b[49m\u001b[43m \u001b[49m\u001b[38;5;241;43m*\u001b[39;49m\u001b[38;5;241;43m*\u001b[39;49m\u001b[43mkwargs\u001b[49m\u001b[43m)\u001b[49m\n\u001b[1;32m   1727\u001b[0m \u001b[38;5;28;01mfinally\u001b[39;00m:\n\u001b[1;32m   1728\u001b[0m     \u001b[38;5;28;01mif\u001b[39;00m recording_scopes:\n",
      "File \u001b[0;32m~/ai/idlmav/.venv/lib/python3.10/site-packages/torchprofile/utils/flatten.py:29\u001b[0m, in \u001b[0;36mFlatten.forward\u001b[0;34m(self, *args, **kwargs)\u001b[0m\n\u001b[1;32m     28\u001b[0m \u001b[38;5;28;01mdef\u001b[39;00m \u001b[38;5;21mforward\u001b[39m(\u001b[38;5;28mself\u001b[39m, \u001b[38;5;241m*\u001b[39margs, \u001b[38;5;241m*\u001b[39m\u001b[38;5;241m*\u001b[39mkwargs):\n\u001b[0;32m---> 29\u001b[0m     outputs \u001b[38;5;241m=\u001b[39m \u001b[38;5;28;43mself\u001b[39;49m\u001b[38;5;241;43m.\u001b[39;49m\u001b[43mmodel\u001b[49m\u001b[43m(\u001b[49m\u001b[38;5;241;43m*\u001b[39;49m\u001b[43margs\u001b[49m\u001b[43m,\u001b[49m\u001b[43m \u001b[49m\u001b[38;5;241;43m*\u001b[39;49m\u001b[38;5;241;43m*\u001b[39;49m\u001b[43mkwargs\u001b[49m\u001b[43m)\u001b[49m\n\u001b[1;32m     30\u001b[0m     \u001b[38;5;28;01mreturn\u001b[39;00m flatten(outputs)\n",
      "File \u001b[0;32m~/ai/idlmav/.venv/lib/python3.10/site-packages/torch/nn/modules/module.py:1736\u001b[0m, in \u001b[0;36mModule._wrapped_call_impl\u001b[0;34m(self, *args, **kwargs)\u001b[0m\n\u001b[1;32m   1734\u001b[0m     \u001b[38;5;28;01mreturn\u001b[39;00m \u001b[38;5;28mself\u001b[39m\u001b[38;5;241m.\u001b[39m_compiled_call_impl(\u001b[38;5;241m*\u001b[39margs, \u001b[38;5;241m*\u001b[39m\u001b[38;5;241m*\u001b[39mkwargs)  \u001b[38;5;66;03m# type: ignore[misc]\u001b[39;00m\n\u001b[1;32m   1735\u001b[0m \u001b[38;5;28;01melse\u001b[39;00m:\n\u001b[0;32m-> 1736\u001b[0m     \u001b[38;5;28;01mreturn\u001b[39;00m \u001b[38;5;28;43mself\u001b[39;49m\u001b[38;5;241;43m.\u001b[39;49m\u001b[43m_call_impl\u001b[49m\u001b[43m(\u001b[49m\u001b[38;5;241;43m*\u001b[39;49m\u001b[43margs\u001b[49m\u001b[43m,\u001b[49m\u001b[43m \u001b[49m\u001b[38;5;241;43m*\u001b[39;49m\u001b[38;5;241;43m*\u001b[39;49m\u001b[43mkwargs\u001b[49m\u001b[43m)\u001b[49m\n",
      "File \u001b[0;32m~/ai/idlmav/.venv/lib/python3.10/site-packages/torch/nn/modules/module.py:1747\u001b[0m, in \u001b[0;36mModule._call_impl\u001b[0;34m(self, *args, **kwargs)\u001b[0m\n\u001b[1;32m   1742\u001b[0m \u001b[38;5;66;03m# If we don't have any hooks, we want to skip the rest of the logic in\u001b[39;00m\n\u001b[1;32m   1743\u001b[0m \u001b[38;5;66;03m# this function, and just call forward.\u001b[39;00m\n\u001b[1;32m   1744\u001b[0m \u001b[38;5;28;01mif\u001b[39;00m \u001b[38;5;129;01mnot\u001b[39;00m (\u001b[38;5;28mself\u001b[39m\u001b[38;5;241m.\u001b[39m_backward_hooks \u001b[38;5;129;01mor\u001b[39;00m \u001b[38;5;28mself\u001b[39m\u001b[38;5;241m.\u001b[39m_backward_pre_hooks \u001b[38;5;129;01mor\u001b[39;00m \u001b[38;5;28mself\u001b[39m\u001b[38;5;241m.\u001b[39m_forward_hooks \u001b[38;5;129;01mor\u001b[39;00m \u001b[38;5;28mself\u001b[39m\u001b[38;5;241m.\u001b[39m_forward_pre_hooks\n\u001b[1;32m   1745\u001b[0m         \u001b[38;5;129;01mor\u001b[39;00m _global_backward_pre_hooks \u001b[38;5;129;01mor\u001b[39;00m _global_backward_hooks\n\u001b[1;32m   1746\u001b[0m         \u001b[38;5;129;01mor\u001b[39;00m _global_forward_hooks \u001b[38;5;129;01mor\u001b[39;00m _global_forward_pre_hooks):\n\u001b[0;32m-> 1747\u001b[0m     \u001b[38;5;28;01mreturn\u001b[39;00m \u001b[43mforward_call\u001b[49m\u001b[43m(\u001b[49m\u001b[38;5;241;43m*\u001b[39;49m\u001b[43margs\u001b[49m\u001b[43m,\u001b[49m\u001b[43m \u001b[49m\u001b[38;5;241;43m*\u001b[39;49m\u001b[38;5;241;43m*\u001b[39;49m\u001b[43mkwargs\u001b[49m\u001b[43m)\u001b[49m\n\u001b[1;32m   1749\u001b[0m result \u001b[38;5;241m=\u001b[39m \u001b[38;5;28;01mNone\u001b[39;00m\n\u001b[1;32m   1750\u001b[0m called_always_called_hooks \u001b[38;5;241m=\u001b[39m \u001b[38;5;28mset\u001b[39m()\n",
      "File \u001b[0;32m~/ai/idlmav/.venv/lib/python3.10/site-packages/torch/nn/modules/module.py:1726\u001b[0m, in \u001b[0;36mModule._slow_forward\u001b[0;34m(self, *input, **kwargs)\u001b[0m\n\u001b[1;32m   1724\u001b[0m         recording_scopes \u001b[38;5;241m=\u001b[39m \u001b[38;5;28;01mFalse\u001b[39;00m\n\u001b[1;32m   1725\u001b[0m \u001b[38;5;28;01mtry\u001b[39;00m:\n\u001b[0;32m-> 1726\u001b[0m     result \u001b[38;5;241m=\u001b[39m \u001b[38;5;28;43mself\u001b[39;49m\u001b[38;5;241;43m.\u001b[39;49m\u001b[43mforward\u001b[49m\u001b[43m(\u001b[49m\u001b[38;5;241;43m*\u001b[39;49m\u001b[38;5;28;43minput\u001b[39;49m\u001b[43m,\u001b[49m\u001b[43m \u001b[49m\u001b[38;5;241;43m*\u001b[39;49m\u001b[38;5;241;43m*\u001b[39;49m\u001b[43mkwargs\u001b[49m\u001b[43m)\u001b[49m\n\u001b[1;32m   1727\u001b[0m \u001b[38;5;28;01mfinally\u001b[39;00m:\n\u001b[1;32m   1728\u001b[0m     \u001b[38;5;28;01mif\u001b[39;00m recording_scopes:\n",
      "Cell \u001b[0;32mIn[3], line 22\u001b[0m, in \u001b[0;36mMnistCnn.forward\u001b[0;34m(self, x)\u001b[0m\n\u001b[1;32m     20\u001b[0m x \u001b[38;5;241m=\u001b[39m F\u001b[38;5;241m.\u001b[39mrelu(x)\n\u001b[1;32m     21\u001b[0m x \u001b[38;5;241m=\u001b[39m \u001b[38;5;28mself\u001b[39m\u001b[38;5;241m.\u001b[39mdropout2(x)\n\u001b[0;32m---> 22\u001b[0m x \u001b[38;5;241m=\u001b[39m \u001b[38;5;28;43mself\u001b[39;49m\u001b[38;5;241;43m.\u001b[39;49m\u001b[43mfc2\u001b[49m\u001b[43m(\u001b[49m\u001b[43mx\u001b[49m\u001b[43m)\u001b[49m\n\u001b[1;32m     23\u001b[0m output \u001b[38;5;241m=\u001b[39m F\u001b[38;5;241m.\u001b[39mlog_softmax(x, dim\u001b[38;5;241m=\u001b[39m\u001b[38;5;241m1\u001b[39m)\n\u001b[1;32m     24\u001b[0m \u001b[38;5;28;01mreturn\u001b[39;00m output\n",
      "File \u001b[0;32m~/ai/idlmav/.venv/lib/python3.10/site-packages/torch/nn/modules/module.py:1736\u001b[0m, in \u001b[0;36mModule._wrapped_call_impl\u001b[0;34m(self, *args, **kwargs)\u001b[0m\n\u001b[1;32m   1734\u001b[0m     \u001b[38;5;28;01mreturn\u001b[39;00m \u001b[38;5;28mself\u001b[39m\u001b[38;5;241m.\u001b[39m_compiled_call_impl(\u001b[38;5;241m*\u001b[39margs, \u001b[38;5;241m*\u001b[39m\u001b[38;5;241m*\u001b[39mkwargs)  \u001b[38;5;66;03m# type: ignore[misc]\u001b[39;00m\n\u001b[1;32m   1735\u001b[0m \u001b[38;5;28;01melse\u001b[39;00m:\n\u001b[0;32m-> 1736\u001b[0m     \u001b[38;5;28;01mreturn\u001b[39;00m \u001b[38;5;28;43mself\u001b[39;49m\u001b[38;5;241;43m.\u001b[39;49m\u001b[43m_call_impl\u001b[49m\u001b[43m(\u001b[49m\u001b[38;5;241;43m*\u001b[39;49m\u001b[43margs\u001b[49m\u001b[43m,\u001b[49m\u001b[43m \u001b[49m\u001b[38;5;241;43m*\u001b[39;49m\u001b[38;5;241;43m*\u001b[39;49m\u001b[43mkwargs\u001b[49m\u001b[43m)\u001b[49m\n",
      "File \u001b[0;32m~/ai/idlmav/.venv/lib/python3.10/site-packages/torch/nn/modules/module.py:1747\u001b[0m, in \u001b[0;36mModule._call_impl\u001b[0;34m(self, *args, **kwargs)\u001b[0m\n\u001b[1;32m   1742\u001b[0m \u001b[38;5;66;03m# If we don't have any hooks, we want to skip the rest of the logic in\u001b[39;00m\n\u001b[1;32m   1743\u001b[0m \u001b[38;5;66;03m# this function, and just call forward.\u001b[39;00m\n\u001b[1;32m   1744\u001b[0m \u001b[38;5;28;01mif\u001b[39;00m \u001b[38;5;129;01mnot\u001b[39;00m (\u001b[38;5;28mself\u001b[39m\u001b[38;5;241m.\u001b[39m_backward_hooks \u001b[38;5;129;01mor\u001b[39;00m \u001b[38;5;28mself\u001b[39m\u001b[38;5;241m.\u001b[39m_backward_pre_hooks \u001b[38;5;129;01mor\u001b[39;00m \u001b[38;5;28mself\u001b[39m\u001b[38;5;241m.\u001b[39m_forward_hooks \u001b[38;5;129;01mor\u001b[39;00m \u001b[38;5;28mself\u001b[39m\u001b[38;5;241m.\u001b[39m_forward_pre_hooks\n\u001b[1;32m   1745\u001b[0m         \u001b[38;5;129;01mor\u001b[39;00m _global_backward_pre_hooks \u001b[38;5;129;01mor\u001b[39;00m _global_backward_hooks\n\u001b[1;32m   1746\u001b[0m         \u001b[38;5;129;01mor\u001b[39;00m _global_forward_hooks \u001b[38;5;129;01mor\u001b[39;00m _global_forward_pre_hooks):\n\u001b[0;32m-> 1747\u001b[0m     \u001b[38;5;28;01mreturn\u001b[39;00m \u001b[43mforward_call\u001b[49m\u001b[43m(\u001b[49m\u001b[38;5;241;43m*\u001b[39;49m\u001b[43margs\u001b[49m\u001b[43m,\u001b[49m\u001b[43m \u001b[49m\u001b[38;5;241;43m*\u001b[39;49m\u001b[38;5;241;43m*\u001b[39;49m\u001b[43mkwargs\u001b[49m\u001b[43m)\u001b[49m\n\u001b[1;32m   1749\u001b[0m result \u001b[38;5;241m=\u001b[39m \u001b[38;5;28;01mNone\u001b[39;00m\n\u001b[1;32m   1750\u001b[0m called_always_called_hooks \u001b[38;5;241m=\u001b[39m \u001b[38;5;28mset\u001b[39m()\n",
      "File \u001b[0;32m~/ai/idlmav/.venv/lib/python3.10/site-packages/torch/nn/modules/module.py:1726\u001b[0m, in \u001b[0;36mModule._slow_forward\u001b[0;34m(self, *input, **kwargs)\u001b[0m\n\u001b[1;32m   1724\u001b[0m         recording_scopes \u001b[38;5;241m=\u001b[39m \u001b[38;5;28;01mFalse\u001b[39;00m\n\u001b[1;32m   1725\u001b[0m \u001b[38;5;28;01mtry\u001b[39;00m:\n\u001b[0;32m-> 1726\u001b[0m     result \u001b[38;5;241m=\u001b[39m \u001b[38;5;28;43mself\u001b[39;49m\u001b[38;5;241;43m.\u001b[39;49m\u001b[43mforward\u001b[49m\u001b[43m(\u001b[49m\u001b[38;5;241;43m*\u001b[39;49m\u001b[38;5;28;43minput\u001b[39;49m\u001b[43m,\u001b[49m\u001b[43m \u001b[49m\u001b[38;5;241;43m*\u001b[39;49m\u001b[38;5;241;43m*\u001b[39;49m\u001b[43mkwargs\u001b[49m\u001b[43m)\u001b[49m\n\u001b[1;32m   1727\u001b[0m \u001b[38;5;28;01mfinally\u001b[39;00m:\n\u001b[1;32m   1728\u001b[0m     \u001b[38;5;28;01mif\u001b[39;00m recording_scopes:\n",
      "File \u001b[0;32m~/ai/idlmav/.venv/lib/python3.10/site-packages/torch/nn/modules/linear.py:125\u001b[0m, in \u001b[0;36mLinear.forward\u001b[0;34m(self, input)\u001b[0m\n\u001b[1;32m    124\u001b[0m \u001b[38;5;28;01mdef\u001b[39;00m \u001b[38;5;21mforward\u001b[39m(\u001b[38;5;28mself\u001b[39m, \u001b[38;5;28minput\u001b[39m: Tensor) \u001b[38;5;241m-\u001b[39m\u001b[38;5;241m>\u001b[39m Tensor:\n\u001b[0;32m--> 125\u001b[0m     \u001b[38;5;28;01mreturn\u001b[39;00m \u001b[43mF\u001b[49m\u001b[38;5;241;43m.\u001b[39;49m\u001b[43mlinear\u001b[49m\u001b[43m(\u001b[49m\u001b[38;5;28;43minput\u001b[39;49m\u001b[43m,\u001b[49m\u001b[43m \u001b[49m\u001b[38;5;28;43mself\u001b[39;49m\u001b[38;5;241;43m.\u001b[39;49m\u001b[43mweight\u001b[49m\u001b[43m,\u001b[49m\u001b[43m \u001b[49m\u001b[38;5;28;43mself\u001b[39;49m\u001b[38;5;241;43m.\u001b[39;49m\u001b[43mbias\u001b[49m\u001b[43m)\u001b[49m\n",
      "\u001b[0;31mRuntimeError\u001b[0m: mat1 and mat2 shapes cannot be multiplied (16x120 and 128x10)"
     ]
    }
   ],
   "source": [
    "# Try the broken model\n",
    "macs = profile_macs(models[1], inputs[1], reduction=None)\n",
    "macs.values()"
   ]
  }
 ],
 "metadata": {
  "kernelspec": {
   "display_name": ".venv",
   "language": "python",
   "name": "python3"
  },
  "language_info": {
   "codemirror_mode": {
    "name": "ipython",
    "version": 3
   },
   "file_extension": ".py",
   "mimetype": "text/x-python",
   "name": "python",
   "nbconvert_exporter": "python",
   "pygments_lexer": "ipython3",
   "version": "3.10.12"
  }
 },
 "nbformat": 4,
 "nbformat_minor": 2
}
