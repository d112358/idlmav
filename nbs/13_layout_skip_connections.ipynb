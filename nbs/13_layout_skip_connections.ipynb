{
 "cells": [
  {
   "cell_type": "markdown",
   "metadata": {},
   "source": [
    "## Introduction\n",
    "Some networks have many skip connections between nodes on the same horizontal coordinate. The lines representing these connections often overlap, creating confusion.\n",
    "\n",
    "The purpose of this notebook is to develop an algorithm to determine appropriate x-coordinates for the vertical part of every skip connection to maximize clarity"
   ]
  },
  {
   "cell_type": "markdown",
   "metadata": {},
   "source": [
    "## Design\n",
    "* Each x-coordinate containing nodes will be treated separately, as skip connections on different x-coordinates don't overlap\n",
    "* Skip connection lines will be placed between offsets of -0.4 and 0.4 from the x-coordinate of the nodes, because each integer x-coordinate is expected to contain its own nodes\n",
    "* At each x-coordinate, skip connections will first be divided into two sets, namely those drawn on the left side of the nodes and those drawn on the right side. After this, the two sides will be considered separately\n",
    "\n",
    "### Step 1: Create potential overlap matrix\n",
    "* Square matrix `A` with number of rows and columns equal to number of skip connections\n",
    "* Each row of `A` represents a skip connection already placed\n",
    "* Each column of `A` represents a skip connection about to be placed\n",
    "* `A[i,j]` is the number of intersections when connection `i` is placed **inside** connection `j`\n",
    "  * `A` will contain 0's, 1's and 2's. The 1's will be symmetric w.r.t. transpose operation\n",
    "  * Connections with many 2's in **rows** should typically be placed far from the nodes. \n",
    "  * Connections with low total row counts should typically be placed close to the nodes\n",
    "  * The sum over a row in `A` is the cost (number of intersections) of placing the connection closest to the nodes \n",
    "  * The sum over a column in `A` is the cost (number of intersections) of placing the connection furthest from the nodes \n",
    "\n",
    "### Step 2: Assign skip connections to sides\n",
    "* Define 3 matrices of the same size: `A` from the previous step and `AL` and `AR` for the left and right sides, separately\n",
    "  * `A` is kept constant, where as `AL` and `AR` sre both initialized to zeros and populated from `A` as connections are added to each side\n",
    "  * Once a connection is added to a side, the corresponding row is copied from `A` to the relevant side matrix\n",
    "  * 2's in the matrices are ignored (set to zero) for this step.\n",
    "* The immediate cost of adding a connection to a specific side is the sum over the corresponding column of that side's matrix \n",
    "  * The **difference** between a column sum in `AL` and `AR` is the **difference in cost** between adding a new connection to the left vs right\n",
    "* Algorithm:\n",
    "  * Start by adding the connection with the highest column sum in `A`, to `AL`\n",
    "  * Proceed greedily by checking which connection has the largest **difference in cost** between `AL` and `AR`. Assign that connection to the lowest-cost side\n",
    "  * If multiple connection are tied in cost difference, assign the one with the **smallest** total column sum in `A` first\n",
    "\n",
    "### Step 3: Determine x-coordinates of skip connections\n",
    "* Treat the left and right sides separately. Their problems are now independent\n",
    "  * For each size, start by copying the relevant rows and columns from `A` to `B`, which starts as a copy and becomes zero as this step progresses\n",
    "* In a separate matrix `C`, keep track of where lines are drawn to avoid using a segment twice\n",
    "  * `C[i,j]` is non-zero if there is a line segment that skips a the `i'th` level at the `j'th` x-offset grid line\n",
    "  * `C` starts as a single column and grows as grid lines are added in the horizontal dimension\n",
    "  * The spacing of the grid lines are calculated afterwards, when `C` is fully populated\n",
    "* Start placing connections from the inside out\n",
    "* When placing a connection:\n",
    "  * Check `C` to determine the closest possible position to the nodes without using any cell twice\n",
    "  * Update `C` to reflect the new placement\n",
    "  * Set both the row and column corresponding to the index of the placed connection to zero in `B`\n",
    "* In a loop, place connections in the following order. If a node is placed, restart the loop without completing it.\n",
    "  * Any unplaced connections with a zero row sum in `B`\n",
    "  * Any connections with one or more 2's in their columns but no 2's in their rows\n",
    "  * The connection with the lowest row sum\n",
    "\n",
    "### Additional ideas\n",
    "* Test step 2 using graphs with nodes arranged vertically and connections represented with semi-circle arcs. This will ensure that longer connections are drawn wider"
   ]
  },
  {
   "cell_type": "markdown",
   "metadata": {},
   "source": [
    "## Imports"
   ]
  },
  {
   "cell_type": "code",
   "execution_count": 16,
   "metadata": {},
   "outputs": [],
   "source": [
    "import sys, importlib\n",
    "from pathlib import Path\n",
    "nb_dir = Path.cwd()\n",
    "project_root = nb_dir if nb_dir.name == \"idlmav\" else nb_dir.parent\n",
    "sys.path.append(str(project_root))"
   ]
  },
  {
   "cell_type": "code",
   "execution_count": 228,
   "metadata": {},
   "outputs": [],
   "source": [
    "from typing import List, Tuple, Set, Type\n",
    "import numpy as np\n",
    "from numpy.typing import NDArray\n",
    "import random\n",
    "\n",
    "from idlmav.mavtypes import MavNode, MavGraph, MavConnection\n",
    "from idlmav.static_viewers import SemiCircleViewer\n",
    "from idlmav.renderers.figure_renderer import FigureRenderer\n",
    "from idlmav.mavutils import plotly_renderer"
   ]
  },
  {
   "cell_type": "code",
   "execution_count": 131,
   "metadata": {},
   "outputs": [],
   "source": [
    "def reload_imports():\n",
    "    # NB update low-level dependencies before high-level dependencies\n",
    "    importlib.reload(sys.modules['idlmav.mavtypes'])\n",
    "    importlib.reload(sys.modules['idlmav.mavutils'])\n",
    "    importlib.reload(sys.modules['idlmav.layout'])\n",
    "    importlib.reload(sys.modules['idlmav.static_viewers'])\n",
    "    importlib.reload(sys.modules['idlmav.renderers.renderer_utils'])\n",
    "    importlib.reload(sys.modules['idlmav.renderers.figure_renderer'])\n",
    "    global MavNode, MavGraph, MavConnection, SemiCircleViewer, FigureRenderer\n",
    "    from idlmav.mavtypes import MavNode, MavGraph, MavConnection\n",
    "    from idlmav.static_viewers import SemiCircleViewer\n",
    "    from idlmav.renderers.figure_renderer import FigureRenderer"
   ]
  },
  {
   "cell_type": "markdown",
   "metadata": {},
   "source": [
    "## Graph generation and viewer"
   ]
  },
  {
   "cell_type": "code",
   "execution_count": 24,
   "metadata": {},
   "outputs": [],
   "source": [
    "def add_fictional_metadata(nodes:List[MavNode]):\n",
    "    for n in nodes:\n",
    "        n.operation = 'sample'\n",
    "        n.activations = np.random.randint(low=1, high=100, size=(3,)) * 10\n",
    "        n.params = np.random.randint(low=100, high=1000) * 10\n",
    "        n.flops = np.random.randint(low=100, high=1000) * 10"
   ]
  },
  {
   "cell_type": "code",
   "execution_count": 145,
   "metadata": {},
   "outputs": [],
   "source": [
    "def create_sample_graph():\n",
    "    nodes = [MavNode(str(ni), x=0, y=ni) for ni in range(7)]  # Straight vertical line\n",
    "    add_fictional_metadata(nodes)\n",
    "    connections = [\n",
    "        MavConnection(nodes[0], nodes[1]),\n",
    "        MavConnection(nodes[0], nodes[2]),\n",
    "        MavConnection(nodes[1], nodes[3]),\n",
    "        MavConnection(nodes[1], nodes[4]),\n",
    "        MavConnection(nodes[2], nodes[5]),\n",
    "        MavConnection(nodes[2], nodes[6]),\n",
    "        MavConnection(nodes[3], nodes[5]),\n",
    "        MavConnection(nodes[4], nodes[5]),\n",
    "        MavConnection(nodes[5], nodes[6]),\n",
    "    ]\n",
    "    return MavGraph(nodes=nodes, connections=connections)"
   ]
  },
  {
   "cell_type": "code",
   "execution_count": 87,
   "metadata": {},
   "outputs": [],
   "source": [
    "def create_random_sample_graph(num_nodes, num_connections):\n",
    "    nodes = [MavNode(str(ni), x=0, y=ni) for ni in range(num_nodes)]  # Straight vertical line\n",
    "    add_fictional_metadata(nodes)\n",
    "    connection_tuples: List[Tuple[int]] = []\n",
    "    connections: List[MavConnection] = []\n",
    "    num_attempts = 0\n",
    "    while len(connections) < num_connections and num_attempts < num_connections*10:\n",
    "        n1 = random.randint(0, num_nodes-1)\n",
    "        n2 = random.randint(0, num_nodes-1)\n",
    "        if n1>n2: n_temp = n1; n1 = n2; n2 = n_temp\n",
    "        reject = n1==n2 or (n1,n2) in connection_tuples\n",
    "        if not reject:\n",
    "            connection_tuples.append((n1,n2))\n",
    "            connections.append(MavConnection(nodes[n1], nodes[n2]))\n",
    "        num_attempts += 1\n",
    "    connections = sorted(connections, key=lambda c: c.from_node.y*100 + c.to_node.y)\n",
    "    return MavGraph(nodes=nodes, connections=connections)"
   ]
  },
  {
   "cell_type": "code",
   "execution_count": 63,
   "metadata": {},
   "outputs": [],
   "source": [
    "reload_imports()"
   ]
  },
  {
   "cell_type": "code",
   "execution_count": 65,
   "metadata": {},
   "outputs": [
    {
     "data": {
      "application/vnd.plotly.v1+json": {
       "config": {
        "plotlyServerURL": "https://plot.ly"
       },
       "data": [
        {
         "customdata": [
          [
           "0",
           [
            590,
            820,
            600
           ],
           8610,
           6540
          ],
          [
           "1",
           [
            550,
            610,
            540
           ],
           8700,
           1040
          ],
          [
           "2",
           [
            820,
            350,
            800
           ],
           3020,
           7120
          ],
          [
           "3",
           [
            710,
            640,
            150
           ],
           8990,
           5720
          ],
          [
           "4",
           [
            880,
            720,
            910
           ],
           6030,
           6580
          ],
          [
           "5",
           [
            980,
            920,
            140
           ],
           6350,
           1780
          ],
          [
           "6",
           [
            190,
            830,
            630
           ],
           5430,
           7980
          ]
         ],
         "hovertemplate": "Name: %{customdata[0]}<br>Activations: %{customdata[1]}<br>Parameters: %{customdata[2]}<br>FLOPS: %{customdata[3]}",
         "marker": {
          "color": [
           3.815577748324267,
           3.0170333392987803,
           3.8524799936368566,
           3.7573960287930244,
           3.8182258936139557,
           3.250420002308894,
           3.902002891350729
          ],
          "colorscale": [
           [
            0,
            "rgb(0,0,255)"
           ],
           [
            1,
            "rgb(255,0,0)"
           ]
          ],
          "size": [
           12.805009454360965,
           12.818557757855856,
           11.440020828871452,
           12.861279075199686,
           12.340951936420453,
           12.408321175875926,
           12.20439948876654
          ]
         },
         "mode": "markers",
         "showlegend": false,
         "type": "scatter",
         "x": [
          0,
          0,
          0,
          0,
          0,
          0,
          0
         ],
         "y": [
          0,
          1,
          2,
          3,
          4,
          5,
          6
         ]
        },
        {
         "hoverinfo": "skip",
         "line": {
          "color": "gray",
          "width": 1
         },
         "mode": "lines",
         "showlegend": false,
         "type": "scatter",
         "x": [
          0,
          0,
          null,
          6.123233995736766e-17,
          0.16459459028073398,
          0.32469946920468357,
          0.4759473930370736,
          0.6142127126896678,
          0.7357239106731317,
          0.8371664782625285,
          0.9157733266550574,
          0.9694002659393304,
          0.9965844930066698,
          0.9965844930066698,
          0.9694002659393304,
          0.9157733266550575,
          0.8371664782625287,
          0.7357239106731317,
          0.6142127126896679,
          0.4759473930370736,
          0.32469946920468357,
          0.16459459028073398,
          6.123233995736766e-17,
          null,
          6.123233995736766e-17,
          0.16459459028073398,
          0.32469946920468357,
          0.4759473930370736,
          0.6142127126896678,
          0.7357239106731317,
          0.8371664782625285,
          0.9157733266550574,
          0.9694002659393304,
          0.9965844930066698,
          0.9965844930066698,
          0.9694002659393304,
          0.9157733266550575,
          0.8371664782625287,
          0.7357239106731317,
          0.6142127126896679,
          0.4759473930370736,
          0.32469946920468357,
          0.16459459028073398,
          6.123233995736766e-17,
          null,
          9.184850993605148e-17,
          0.24689188542110097,
          0.4870492038070253,
          0.7139210895556104,
          0.9213190690345017,
          1.1035858660096975,
          1.2557497173937928,
          1.373659989982586,
          1.4541003989089956,
          1.4948767395100049,
          1.4948767395100049,
          1.4541003989089956,
          1.3736599899825863,
          1.255749717393793,
          1.1035858660096975,
          0.9213190690345019,
          0.7139210895556104,
          0.4870492038070253,
          0.24689188542110097,
          9.184850993605148e-17,
          null,
          9.184850993605148e-17,
          0.24689188542110097,
          0.4870492038070253,
          0.7139210895556104,
          0.9213190690345017,
          1.1035858660096975,
          1.2557497173937928,
          1.373659989982586,
          1.4541003989089956,
          1.4948767395100049,
          1.4948767395100049,
          1.4541003989089956,
          1.3736599899825863,
          1.255749717393793,
          1.1035858660096975,
          0.9213190690345019,
          0.7139210895556104,
          0.4870492038070253,
          0.24689188542110097,
          9.184850993605148e-17,
          null,
          1.2246467991473532e-16,
          0.32918918056146795,
          0.6493989384093671,
          0.9518947860741472,
          1.2284254253793356,
          1.4714478213462634,
          1.674332956525057,
          1.8315466533101148,
          1.9388005318786607,
          1.9931689860133397,
          1.9931689860133397,
          1.9388005318786607,
          1.831546653310115,
          1.6743329565250573,
          1.4714478213462634,
          1.2284254253793359,
          0.9518947860741472,
          0.6493989384093671,
          0.32918918056146795,
          1.2246467991473532e-16
         ],
         "y": [
          0,
          1,
          null,
          2,
          1.9863613034027223,
          1.9458172417006345,
          1.879473751206489,
          1.7891405093963937,
          1.6772815716257412,
          1.546948158122427,
          1.4016954246529694,
          1.2454854871407992,
          1.0825793454723323,
          0.9174206545276676,
          0.7545145128592008,
          0.5983045753470306,
          0.4530518418775733,
          0.322718428374259,
          0.21085949060360643,
          0.12052624879351104,
          0.05418275829936536,
          0.013638696597277677,
          0,
          null,
          3,
          2.986361303402722,
          2.9458172417006345,
          2.879473751206489,
          2.7891405093963937,
          2.677281571625741,
          2.5469481581224267,
          2.4016954246529694,
          2.245485487140799,
          2.0825793454723325,
          1.9174206545276677,
          1.7545145128592008,
          1.5983045753470306,
          1.4530518418775733,
          1.322718428374259,
          1.2108594906036063,
          1.120526248793511,
          1.0541827582993655,
          1.0136386965972777,
          1,
          null,
          4,
          3.9795419551040836,
          3.918725862550952,
          3.8192106268097334,
          3.6837107640945903,
          3.515922357438612,
          3.3204222371836405,
          3.1025431369794543,
          2.868228230711199,
          2.6238690182084987,
          2.3761309817915013,
          2.131771769288801,
          1.8974568630205462,
          1.67957776281636,
          1.4840776425613886,
          1.3162892359054097,
          1.1807893731902666,
          1.081274137449048,
          1.0204580448959164,
          1,
          null,
          5,
          4.979541955104084,
          4.918725862550952,
          4.819210626809733,
          4.68371076409459,
          4.515922357438612,
          4.3204222371836405,
          4.102543136979454,
          3.868228230711199,
          3.6238690182084987,
          3.3761309817915013,
          3.131771769288801,
          2.897456863020546,
          2.67957776281636,
          2.4840776425613886,
          2.3162892359054097,
          2.1807893731902666,
          2.081274137449048,
          2.0204580448959164,
          2,
          null,
          6,
          5.972722606805444,
          5.891634483401269,
          5.758947502412978,
          5.578281018792787,
          5.354563143251482,
          5.093896316244853,
          4.803390849305939,
          4.490970974281598,
          4.165158690944665,
          3.8348413090553355,
          3.5090290257184016,
          3.1966091506940613,
          2.9061036837551466,
          2.645436856748518,
          2.4217189812072126,
          2.241052497587022,
          2.108365516598731,
          2.0272773931945554,
          2
         ]
        }
       ],
       "layout": {
        "height": 300,
        "margin": {
         "b": 0,
         "l": 0,
         "r": 0,
         "t": 0
        },
        "template": {
         "data": {
          "bar": [
           {
            "error_x": {
             "color": "#2a3f5f"
            },
            "error_y": {
             "color": "#2a3f5f"
            },
            "marker": {
             "line": {
              "color": "#E5ECF6",
              "width": 0.5
             },
             "pattern": {
              "fillmode": "overlay",
              "size": 10,
              "solidity": 0.2
             }
            },
            "type": "bar"
           }
          ],
          "barpolar": [
           {
            "marker": {
             "line": {
              "color": "#E5ECF6",
              "width": 0.5
             },
             "pattern": {
              "fillmode": "overlay",
              "size": 10,
              "solidity": 0.2
             }
            },
            "type": "barpolar"
           }
          ],
          "carpet": [
           {
            "aaxis": {
             "endlinecolor": "#2a3f5f",
             "gridcolor": "white",
             "linecolor": "white",
             "minorgridcolor": "white",
             "startlinecolor": "#2a3f5f"
            },
            "baxis": {
             "endlinecolor": "#2a3f5f",
             "gridcolor": "white",
             "linecolor": "white",
             "minorgridcolor": "white",
             "startlinecolor": "#2a3f5f"
            },
            "type": "carpet"
           }
          ],
          "choropleth": [
           {
            "colorbar": {
             "outlinewidth": 0,
             "ticks": ""
            },
            "type": "choropleth"
           }
          ],
          "contour": [
           {
            "colorbar": {
             "outlinewidth": 0,
             "ticks": ""
            },
            "colorscale": [
             [
              0,
              "#0d0887"
             ],
             [
              0.1111111111111111,
              "#46039f"
             ],
             [
              0.2222222222222222,
              "#7201a8"
             ],
             [
              0.3333333333333333,
              "#9c179e"
             ],
             [
              0.4444444444444444,
              "#bd3786"
             ],
             [
              0.5555555555555556,
              "#d8576b"
             ],
             [
              0.6666666666666666,
              "#ed7953"
             ],
             [
              0.7777777777777778,
              "#fb9f3a"
             ],
             [
              0.8888888888888888,
              "#fdca26"
             ],
             [
              1,
              "#f0f921"
             ]
            ],
            "type": "contour"
           }
          ],
          "contourcarpet": [
           {
            "colorbar": {
             "outlinewidth": 0,
             "ticks": ""
            },
            "type": "contourcarpet"
           }
          ],
          "heatmap": [
           {
            "colorbar": {
             "outlinewidth": 0,
             "ticks": ""
            },
            "colorscale": [
             [
              0,
              "#0d0887"
             ],
             [
              0.1111111111111111,
              "#46039f"
             ],
             [
              0.2222222222222222,
              "#7201a8"
             ],
             [
              0.3333333333333333,
              "#9c179e"
             ],
             [
              0.4444444444444444,
              "#bd3786"
             ],
             [
              0.5555555555555556,
              "#d8576b"
             ],
             [
              0.6666666666666666,
              "#ed7953"
             ],
             [
              0.7777777777777778,
              "#fb9f3a"
             ],
             [
              0.8888888888888888,
              "#fdca26"
             ],
             [
              1,
              "#f0f921"
             ]
            ],
            "type": "heatmap"
           }
          ],
          "heatmapgl": [
           {
            "colorbar": {
             "outlinewidth": 0,
             "ticks": ""
            },
            "colorscale": [
             [
              0,
              "#0d0887"
             ],
             [
              0.1111111111111111,
              "#46039f"
             ],
             [
              0.2222222222222222,
              "#7201a8"
             ],
             [
              0.3333333333333333,
              "#9c179e"
             ],
             [
              0.4444444444444444,
              "#bd3786"
             ],
             [
              0.5555555555555556,
              "#d8576b"
             ],
             [
              0.6666666666666666,
              "#ed7953"
             ],
             [
              0.7777777777777778,
              "#fb9f3a"
             ],
             [
              0.8888888888888888,
              "#fdca26"
             ],
             [
              1,
              "#f0f921"
             ]
            ],
            "type": "heatmapgl"
           }
          ],
          "histogram": [
           {
            "marker": {
             "pattern": {
              "fillmode": "overlay",
              "size": 10,
              "solidity": 0.2
             }
            },
            "type": "histogram"
           }
          ],
          "histogram2d": [
           {
            "colorbar": {
             "outlinewidth": 0,
             "ticks": ""
            },
            "colorscale": [
             [
              0,
              "#0d0887"
             ],
             [
              0.1111111111111111,
              "#46039f"
             ],
             [
              0.2222222222222222,
              "#7201a8"
             ],
             [
              0.3333333333333333,
              "#9c179e"
             ],
             [
              0.4444444444444444,
              "#bd3786"
             ],
             [
              0.5555555555555556,
              "#d8576b"
             ],
             [
              0.6666666666666666,
              "#ed7953"
             ],
             [
              0.7777777777777778,
              "#fb9f3a"
             ],
             [
              0.8888888888888888,
              "#fdca26"
             ],
             [
              1,
              "#f0f921"
             ]
            ],
            "type": "histogram2d"
           }
          ],
          "histogram2dcontour": [
           {
            "colorbar": {
             "outlinewidth": 0,
             "ticks": ""
            },
            "colorscale": [
             [
              0,
              "#0d0887"
             ],
             [
              0.1111111111111111,
              "#46039f"
             ],
             [
              0.2222222222222222,
              "#7201a8"
             ],
             [
              0.3333333333333333,
              "#9c179e"
             ],
             [
              0.4444444444444444,
              "#bd3786"
             ],
             [
              0.5555555555555556,
              "#d8576b"
             ],
             [
              0.6666666666666666,
              "#ed7953"
             ],
             [
              0.7777777777777778,
              "#fb9f3a"
             ],
             [
              0.8888888888888888,
              "#fdca26"
             ],
             [
              1,
              "#f0f921"
             ]
            ],
            "type": "histogram2dcontour"
           }
          ],
          "mesh3d": [
           {
            "colorbar": {
             "outlinewidth": 0,
             "ticks": ""
            },
            "type": "mesh3d"
           }
          ],
          "parcoords": [
           {
            "line": {
             "colorbar": {
              "outlinewidth": 0,
              "ticks": ""
             }
            },
            "type": "parcoords"
           }
          ],
          "pie": [
           {
            "automargin": true,
            "type": "pie"
           }
          ],
          "scatter": [
           {
            "fillpattern": {
             "fillmode": "overlay",
             "size": 10,
             "solidity": 0.2
            },
            "type": "scatter"
           }
          ],
          "scatter3d": [
           {
            "line": {
             "colorbar": {
              "outlinewidth": 0,
              "ticks": ""
             }
            },
            "marker": {
             "colorbar": {
              "outlinewidth": 0,
              "ticks": ""
             }
            },
            "type": "scatter3d"
           }
          ],
          "scattercarpet": [
           {
            "marker": {
             "colorbar": {
              "outlinewidth": 0,
              "ticks": ""
             }
            },
            "type": "scattercarpet"
           }
          ],
          "scattergeo": [
           {
            "marker": {
             "colorbar": {
              "outlinewidth": 0,
              "ticks": ""
             }
            },
            "type": "scattergeo"
           }
          ],
          "scattergl": [
           {
            "marker": {
             "colorbar": {
              "outlinewidth": 0,
              "ticks": ""
             }
            },
            "type": "scattergl"
           }
          ],
          "scattermapbox": [
           {
            "marker": {
             "colorbar": {
              "outlinewidth": 0,
              "ticks": ""
             }
            },
            "type": "scattermapbox"
           }
          ],
          "scatterpolar": [
           {
            "marker": {
             "colorbar": {
              "outlinewidth": 0,
              "ticks": ""
             }
            },
            "type": "scatterpolar"
           }
          ],
          "scatterpolargl": [
           {
            "marker": {
             "colorbar": {
              "outlinewidth": 0,
              "ticks": ""
             }
            },
            "type": "scatterpolargl"
           }
          ],
          "scatterternary": [
           {
            "marker": {
             "colorbar": {
              "outlinewidth": 0,
              "ticks": ""
             }
            },
            "type": "scatterternary"
           }
          ],
          "surface": [
           {
            "colorbar": {
             "outlinewidth": 0,
             "ticks": ""
            },
            "colorscale": [
             [
              0,
              "#0d0887"
             ],
             [
              0.1111111111111111,
              "#46039f"
             ],
             [
              0.2222222222222222,
              "#7201a8"
             ],
             [
              0.3333333333333333,
              "#9c179e"
             ],
             [
              0.4444444444444444,
              "#bd3786"
             ],
             [
              0.5555555555555556,
              "#d8576b"
             ],
             [
              0.6666666666666666,
              "#ed7953"
             ],
             [
              0.7777777777777778,
              "#fb9f3a"
             ],
             [
              0.8888888888888888,
              "#fdca26"
             ],
             [
              1,
              "#f0f921"
             ]
            ],
            "type": "surface"
           }
          ],
          "table": [
           {
            "cells": {
             "fill": {
              "color": "#EBF0F8"
             },
             "line": {
              "color": "white"
             }
            },
            "header": {
             "fill": {
              "color": "#C8D4E3"
             },
             "line": {
              "color": "white"
             }
            },
            "type": "table"
           }
          ]
         },
         "layout": {
          "annotationdefaults": {
           "arrowcolor": "#2a3f5f",
           "arrowhead": 0,
           "arrowwidth": 1
          },
          "autotypenumbers": "strict",
          "coloraxis": {
           "colorbar": {
            "outlinewidth": 0,
            "ticks": ""
           }
          },
          "colorscale": {
           "diverging": [
            [
             0,
             "#8e0152"
            ],
            [
             0.1,
             "#c51b7d"
            ],
            [
             0.2,
             "#de77ae"
            ],
            [
             0.3,
             "#f1b6da"
            ],
            [
             0.4,
             "#fde0ef"
            ],
            [
             0.5,
             "#f7f7f7"
            ],
            [
             0.6,
             "#e6f5d0"
            ],
            [
             0.7,
             "#b8e186"
            ],
            [
             0.8,
             "#7fbc41"
            ],
            [
             0.9,
             "#4d9221"
            ],
            [
             1,
             "#276419"
            ]
           ],
           "sequential": [
            [
             0,
             "#0d0887"
            ],
            [
             0.1111111111111111,
             "#46039f"
            ],
            [
             0.2222222222222222,
             "#7201a8"
            ],
            [
             0.3333333333333333,
             "#9c179e"
            ],
            [
             0.4444444444444444,
             "#bd3786"
            ],
            [
             0.5555555555555556,
             "#d8576b"
            ],
            [
             0.6666666666666666,
             "#ed7953"
            ],
            [
             0.7777777777777778,
             "#fb9f3a"
            ],
            [
             0.8888888888888888,
             "#fdca26"
            ],
            [
             1,
             "#f0f921"
            ]
           ],
           "sequentialminus": [
            [
             0,
             "#0d0887"
            ],
            [
             0.1111111111111111,
             "#46039f"
            ],
            [
             0.2222222222222222,
             "#7201a8"
            ],
            [
             0.3333333333333333,
             "#9c179e"
            ],
            [
             0.4444444444444444,
             "#bd3786"
            ],
            [
             0.5555555555555556,
             "#d8576b"
            ],
            [
             0.6666666666666666,
             "#ed7953"
            ],
            [
             0.7777777777777778,
             "#fb9f3a"
            ],
            [
             0.8888888888888888,
             "#fdca26"
            ],
            [
             1,
             "#f0f921"
            ]
           ]
          },
          "colorway": [
           "#636efa",
           "#EF553B",
           "#00cc96",
           "#ab63fa",
           "#FFA15A",
           "#19d3f3",
           "#FF6692",
           "#B6E880",
           "#FF97FF",
           "#FECB52"
          ],
          "font": {
           "color": "#2a3f5f"
          },
          "geo": {
           "bgcolor": "white",
           "lakecolor": "white",
           "landcolor": "#E5ECF6",
           "showlakes": true,
           "showland": true,
           "subunitcolor": "white"
          },
          "hoverlabel": {
           "align": "left"
          },
          "hovermode": "closest",
          "mapbox": {
           "style": "light"
          },
          "paper_bgcolor": "white",
          "plot_bgcolor": "#E5ECF6",
          "polar": {
           "angularaxis": {
            "gridcolor": "white",
            "linecolor": "white",
            "ticks": ""
           },
           "bgcolor": "#E5ECF6",
           "radialaxis": {
            "gridcolor": "white",
            "linecolor": "white",
            "ticks": ""
           }
          },
          "scene": {
           "xaxis": {
            "backgroundcolor": "#E5ECF6",
            "gridcolor": "white",
            "gridwidth": 2,
            "linecolor": "white",
            "showbackground": true,
            "ticks": "",
            "zerolinecolor": "white"
           },
           "yaxis": {
            "backgroundcolor": "#E5ECF6",
            "gridcolor": "white",
            "gridwidth": 2,
            "linecolor": "white",
            "showbackground": true,
            "ticks": "",
            "zerolinecolor": "white"
           },
           "zaxis": {
            "backgroundcolor": "#E5ECF6",
            "gridcolor": "white",
            "gridwidth": 2,
            "linecolor": "white",
            "showbackground": true,
            "ticks": "",
            "zerolinecolor": "white"
           }
          },
          "shapedefaults": {
           "line": {
            "color": "#2a3f5f"
           }
          },
          "ternary": {
           "aaxis": {
            "gridcolor": "white",
            "linecolor": "white",
            "ticks": ""
           },
           "baxis": {
            "gridcolor": "white",
            "linecolor": "white",
            "ticks": ""
           },
           "bgcolor": "#E5ECF6",
           "caxis": {
            "gridcolor": "white",
            "linecolor": "white",
            "ticks": ""
           }
          },
          "title": {
           "x": 0.05
          },
          "xaxis": {
           "automargin": true,
           "gridcolor": "white",
           "linecolor": "white",
           "ticks": "",
           "title": {
            "standoff": 15
           },
           "zerolinecolor": "white",
           "zerolinewidth": 2
          },
          "yaxis": {
           "automargin": true,
           "gridcolor": "white",
           "linecolor": "white",
           "ticks": "",
           "title": {
            "standoff": 15
           },
           "zerolinecolor": "white",
           "zerolinewidth": 2
          }
         }
        },
        "width": 300,
        "xaxis": {
         "showgrid": false,
         "tickmode": "array",
         "tickvals": [],
         "zeroline": false
        },
        "yaxis": {
         "range": [
          6.5,
          -0.5
         ],
         "showgrid": false,
         "tickmode": "array",
         "tickvals": [],
         "zeroline": false
        }
       }
      },
      "text/html": [
       "<div>                            <div id=\"438ca74d-ecf4-4879-8f07-6bbf64a34667\" class=\"plotly-graph-div\" style=\"height:300px; width:300px;\"></div>            <script type=\"text/javascript\">                require([\"plotly\"], function(Plotly) {                    window.PLOTLYENV=window.PLOTLYENV || {};                                    if (document.getElementById(\"438ca74d-ecf4-4879-8f07-6bbf64a34667\")) {                    Plotly.newPlot(                        \"438ca74d-ecf4-4879-8f07-6bbf64a34667\",                        [{\"customdata\":[[\"0\",[590,820,600],8610,6540],[\"1\",[550,610,540],8700,1040],[\"2\",[820,350,800],3020,7120],[\"3\",[710,640,150],8990,5720],[\"4\",[880,720,910],6030,6580],[\"5\",[980,920,140],6350,1780],[\"6\",[190,830,630],5430,7980]],\"hovertemplate\":\"Name: %{customdata[0]}\\u003cbr\\u003eActivations: %{customdata[1]}\\u003cbr\\u003eParameters: %{customdata[2]}\\u003cbr\\u003eFLOPS: %{customdata[3]}\",\"marker\":{\"color\":[3.815577748324267,3.0170333392987803,3.8524799936368566,3.7573960287930244,3.8182258936139557,3.250420002308894,3.902002891350729],\"colorscale\":[[0.0,\"rgb(0,0,255)\"],[1.0,\"rgb(255,0,0)\"]],\"size\":[12.805009454360965,12.818557757855856,11.440020828871452,12.861279075199686,12.340951936420453,12.408321175875926,12.20439948876654]},\"mode\":\"markers\",\"showlegend\":false,\"x\":[0,0,0,0,0,0,0],\"y\":[0,1,2,3,4,5,6],\"type\":\"scatter\"},{\"hoverinfo\":\"skip\",\"line\":{\"color\":\"gray\",\"width\":1},\"mode\":\"lines\",\"showlegend\":false,\"x\":[0,0,null,6.123233995736766e-17,0.16459459028073398,0.32469946920468357,0.4759473930370736,0.6142127126896678,0.7357239106731317,0.8371664782625285,0.9157733266550574,0.9694002659393304,0.9965844930066698,0.9965844930066698,0.9694002659393304,0.9157733266550575,0.8371664782625287,0.7357239106731317,0.6142127126896679,0.4759473930370736,0.32469946920468357,0.16459459028073398,6.123233995736766e-17,null,6.123233995736766e-17,0.16459459028073398,0.32469946920468357,0.4759473930370736,0.6142127126896678,0.7357239106731317,0.8371664782625285,0.9157733266550574,0.9694002659393304,0.9965844930066698,0.9965844930066698,0.9694002659393304,0.9157733266550575,0.8371664782625287,0.7357239106731317,0.6142127126896679,0.4759473930370736,0.32469946920468357,0.16459459028073398,6.123233995736766e-17,null,9.184850993605148e-17,0.24689188542110097,0.4870492038070253,0.7139210895556104,0.9213190690345017,1.1035858660096975,1.2557497173937928,1.373659989982586,1.4541003989089956,1.4948767395100049,1.4948767395100049,1.4541003989089956,1.3736599899825863,1.255749717393793,1.1035858660096975,0.9213190690345019,0.7139210895556104,0.4870492038070253,0.24689188542110097,9.184850993605148e-17,null,9.184850993605148e-17,0.24689188542110097,0.4870492038070253,0.7139210895556104,0.9213190690345017,1.1035858660096975,1.2557497173937928,1.373659989982586,1.4541003989089956,1.4948767395100049,1.4948767395100049,1.4541003989089956,1.3736599899825863,1.255749717393793,1.1035858660096975,0.9213190690345019,0.7139210895556104,0.4870492038070253,0.24689188542110097,9.184850993605148e-17,null,1.2246467991473532e-16,0.32918918056146795,0.6493989384093671,0.9518947860741472,1.2284254253793356,1.4714478213462634,1.674332956525057,1.8315466533101148,1.9388005318786607,1.9931689860133397,1.9931689860133397,1.9388005318786607,1.831546653310115,1.6743329565250573,1.4714478213462634,1.2284254253793359,0.9518947860741472,0.6493989384093671,0.32918918056146795,1.2246467991473532e-16],\"y\":[0,1,null,2.0,1.9863613034027223,1.9458172417006345,1.879473751206489,1.7891405093963937,1.6772815716257412,1.546948158122427,1.4016954246529694,1.2454854871407992,1.0825793454723323,0.9174206545276676,0.7545145128592008,0.5983045753470306,0.4530518418775733,0.322718428374259,0.21085949060360643,0.12052624879351104,0.05418275829936536,0.013638696597277677,0.0,null,3.0,2.986361303402722,2.9458172417006345,2.879473751206489,2.7891405093963937,2.677281571625741,2.5469481581224267,2.4016954246529694,2.245485487140799,2.0825793454723325,1.9174206545276677,1.7545145128592008,1.5983045753470306,1.4530518418775733,1.322718428374259,1.2108594906036063,1.120526248793511,1.0541827582993655,1.0136386965972777,1.0,null,4.0,3.9795419551040836,3.918725862550952,3.8192106268097334,3.6837107640945903,3.515922357438612,3.3204222371836405,3.1025431369794543,2.868228230711199,2.6238690182084987,2.3761309817915013,2.131771769288801,1.8974568630205462,1.67957776281636,1.4840776425613886,1.3162892359054097,1.1807893731902666,1.081274137449048,1.0204580448959164,1.0,null,5.0,4.979541955104084,4.918725862550952,4.819210626809733,4.68371076409459,4.515922357438612,4.3204222371836405,4.102543136979454,3.868228230711199,3.6238690182084987,3.3761309817915013,3.131771769288801,2.897456863020546,2.67957776281636,2.4840776425613886,2.3162892359054097,2.1807893731902666,2.081274137449048,2.0204580448959164,2.0,null,6.0,5.972722606805444,5.891634483401269,5.758947502412978,5.578281018792787,5.354563143251482,5.093896316244853,4.803390849305939,4.490970974281598,4.165158690944665,3.8348413090553355,3.5090290257184016,3.1966091506940613,2.9061036837551466,2.645436856748518,2.4217189812072126,2.241052497587022,2.108365516598731,2.0272773931945554,2.0],\"type\":\"scatter\"}],                        {\"height\":300,\"width\":300,\"template\":{\"data\":{\"histogram2dcontour\":[{\"type\":\"histogram2dcontour\",\"colorbar\":{\"outlinewidth\":0,\"ticks\":\"\"},\"colorscale\":[[0.0,\"#0d0887\"],[0.1111111111111111,\"#46039f\"],[0.2222222222222222,\"#7201a8\"],[0.3333333333333333,\"#9c179e\"],[0.4444444444444444,\"#bd3786\"],[0.5555555555555556,\"#d8576b\"],[0.6666666666666666,\"#ed7953\"],[0.7777777777777778,\"#fb9f3a\"],[0.8888888888888888,\"#fdca26\"],[1.0,\"#f0f921\"]]}],\"choropleth\":[{\"type\":\"choropleth\",\"colorbar\":{\"outlinewidth\":0,\"ticks\":\"\"}}],\"histogram2d\":[{\"type\":\"histogram2d\",\"colorbar\":{\"outlinewidth\":0,\"ticks\":\"\"},\"colorscale\":[[0.0,\"#0d0887\"],[0.1111111111111111,\"#46039f\"],[0.2222222222222222,\"#7201a8\"],[0.3333333333333333,\"#9c179e\"],[0.4444444444444444,\"#bd3786\"],[0.5555555555555556,\"#d8576b\"],[0.6666666666666666,\"#ed7953\"],[0.7777777777777778,\"#fb9f3a\"],[0.8888888888888888,\"#fdca26\"],[1.0,\"#f0f921\"]]}],\"heatmap\":[{\"type\":\"heatmap\",\"colorbar\":{\"outlinewidth\":0,\"ticks\":\"\"},\"colorscale\":[[0.0,\"#0d0887\"],[0.1111111111111111,\"#46039f\"],[0.2222222222222222,\"#7201a8\"],[0.3333333333333333,\"#9c179e\"],[0.4444444444444444,\"#bd3786\"],[0.5555555555555556,\"#d8576b\"],[0.6666666666666666,\"#ed7953\"],[0.7777777777777778,\"#fb9f3a\"],[0.8888888888888888,\"#fdca26\"],[1.0,\"#f0f921\"]]}],\"heatmapgl\":[{\"type\":\"heatmapgl\",\"colorbar\":{\"outlinewidth\":0,\"ticks\":\"\"},\"colorscale\":[[0.0,\"#0d0887\"],[0.1111111111111111,\"#46039f\"],[0.2222222222222222,\"#7201a8\"],[0.3333333333333333,\"#9c179e\"],[0.4444444444444444,\"#bd3786\"],[0.5555555555555556,\"#d8576b\"],[0.6666666666666666,\"#ed7953\"],[0.7777777777777778,\"#fb9f3a\"],[0.8888888888888888,\"#fdca26\"],[1.0,\"#f0f921\"]]}],\"contourcarpet\":[{\"type\":\"contourcarpet\",\"colorbar\":{\"outlinewidth\":0,\"ticks\":\"\"}}],\"contour\":[{\"type\":\"contour\",\"colorbar\":{\"outlinewidth\":0,\"ticks\":\"\"},\"colorscale\":[[0.0,\"#0d0887\"],[0.1111111111111111,\"#46039f\"],[0.2222222222222222,\"#7201a8\"],[0.3333333333333333,\"#9c179e\"],[0.4444444444444444,\"#bd3786\"],[0.5555555555555556,\"#d8576b\"],[0.6666666666666666,\"#ed7953\"],[0.7777777777777778,\"#fb9f3a\"],[0.8888888888888888,\"#fdca26\"],[1.0,\"#f0f921\"]]}],\"surface\":[{\"type\":\"surface\",\"colorbar\":{\"outlinewidth\":0,\"ticks\":\"\"},\"colorscale\":[[0.0,\"#0d0887\"],[0.1111111111111111,\"#46039f\"],[0.2222222222222222,\"#7201a8\"],[0.3333333333333333,\"#9c179e\"],[0.4444444444444444,\"#bd3786\"],[0.5555555555555556,\"#d8576b\"],[0.6666666666666666,\"#ed7953\"],[0.7777777777777778,\"#fb9f3a\"],[0.8888888888888888,\"#fdca26\"],[1.0,\"#f0f921\"]]}],\"mesh3d\":[{\"type\":\"mesh3d\",\"colorbar\":{\"outlinewidth\":0,\"ticks\":\"\"}}],\"scatter\":[{\"fillpattern\":{\"fillmode\":\"overlay\",\"size\":10,\"solidity\":0.2},\"type\":\"scatter\"}],\"parcoords\":[{\"type\":\"parcoords\",\"line\":{\"colorbar\":{\"outlinewidth\":0,\"ticks\":\"\"}}}],\"scatterpolargl\":[{\"type\":\"scatterpolargl\",\"marker\":{\"colorbar\":{\"outlinewidth\":0,\"ticks\":\"\"}}}],\"bar\":[{\"error_x\":{\"color\":\"#2a3f5f\"},\"error_y\":{\"color\":\"#2a3f5f\"},\"marker\":{\"line\":{\"color\":\"#E5ECF6\",\"width\":0.5},\"pattern\":{\"fillmode\":\"overlay\",\"size\":10,\"solidity\":0.2}},\"type\":\"bar\"}],\"scattergeo\":[{\"type\":\"scattergeo\",\"marker\":{\"colorbar\":{\"outlinewidth\":0,\"ticks\":\"\"}}}],\"scatterpolar\":[{\"type\":\"scatterpolar\",\"marker\":{\"colorbar\":{\"outlinewidth\":0,\"ticks\":\"\"}}}],\"histogram\":[{\"marker\":{\"pattern\":{\"fillmode\":\"overlay\",\"size\":10,\"solidity\":0.2}},\"type\":\"histogram\"}],\"scattergl\":[{\"type\":\"scattergl\",\"marker\":{\"colorbar\":{\"outlinewidth\":0,\"ticks\":\"\"}}}],\"scatter3d\":[{\"type\":\"scatter3d\",\"line\":{\"colorbar\":{\"outlinewidth\":0,\"ticks\":\"\"}},\"marker\":{\"colorbar\":{\"outlinewidth\":0,\"ticks\":\"\"}}}],\"scattermapbox\":[{\"type\":\"scattermapbox\",\"marker\":{\"colorbar\":{\"outlinewidth\":0,\"ticks\":\"\"}}}],\"scatterternary\":[{\"type\":\"scatterternary\",\"marker\":{\"colorbar\":{\"outlinewidth\":0,\"ticks\":\"\"}}}],\"scattercarpet\":[{\"type\":\"scattercarpet\",\"marker\":{\"colorbar\":{\"outlinewidth\":0,\"ticks\":\"\"}}}],\"carpet\":[{\"aaxis\":{\"endlinecolor\":\"#2a3f5f\",\"gridcolor\":\"white\",\"linecolor\":\"white\",\"minorgridcolor\":\"white\",\"startlinecolor\":\"#2a3f5f\"},\"baxis\":{\"endlinecolor\":\"#2a3f5f\",\"gridcolor\":\"white\",\"linecolor\":\"white\",\"minorgridcolor\":\"white\",\"startlinecolor\":\"#2a3f5f\"},\"type\":\"carpet\"}],\"table\":[{\"cells\":{\"fill\":{\"color\":\"#EBF0F8\"},\"line\":{\"color\":\"white\"}},\"header\":{\"fill\":{\"color\":\"#C8D4E3\"},\"line\":{\"color\":\"white\"}},\"type\":\"table\"}],\"barpolar\":[{\"marker\":{\"line\":{\"color\":\"#E5ECF6\",\"width\":0.5},\"pattern\":{\"fillmode\":\"overlay\",\"size\":10,\"solidity\":0.2}},\"type\":\"barpolar\"}],\"pie\":[{\"automargin\":true,\"type\":\"pie\"}]},\"layout\":{\"autotypenumbers\":\"strict\",\"colorway\":[\"#636efa\",\"#EF553B\",\"#00cc96\",\"#ab63fa\",\"#FFA15A\",\"#19d3f3\",\"#FF6692\",\"#B6E880\",\"#FF97FF\",\"#FECB52\"],\"font\":{\"color\":\"#2a3f5f\"},\"hovermode\":\"closest\",\"hoverlabel\":{\"align\":\"left\"},\"paper_bgcolor\":\"white\",\"plot_bgcolor\":\"#E5ECF6\",\"polar\":{\"bgcolor\":\"#E5ECF6\",\"angularaxis\":{\"gridcolor\":\"white\",\"linecolor\":\"white\",\"ticks\":\"\"},\"radialaxis\":{\"gridcolor\":\"white\",\"linecolor\":\"white\",\"ticks\":\"\"}},\"ternary\":{\"bgcolor\":\"#E5ECF6\",\"aaxis\":{\"gridcolor\":\"white\",\"linecolor\":\"white\",\"ticks\":\"\"},\"baxis\":{\"gridcolor\":\"white\",\"linecolor\":\"white\",\"ticks\":\"\"},\"caxis\":{\"gridcolor\":\"white\",\"linecolor\":\"white\",\"ticks\":\"\"}},\"coloraxis\":{\"colorbar\":{\"outlinewidth\":0,\"ticks\":\"\"}},\"colorscale\":{\"sequential\":[[0.0,\"#0d0887\"],[0.1111111111111111,\"#46039f\"],[0.2222222222222222,\"#7201a8\"],[0.3333333333333333,\"#9c179e\"],[0.4444444444444444,\"#bd3786\"],[0.5555555555555556,\"#d8576b\"],[0.6666666666666666,\"#ed7953\"],[0.7777777777777778,\"#fb9f3a\"],[0.8888888888888888,\"#fdca26\"],[1.0,\"#f0f921\"]],\"sequentialminus\":[[0.0,\"#0d0887\"],[0.1111111111111111,\"#46039f\"],[0.2222222222222222,\"#7201a8\"],[0.3333333333333333,\"#9c179e\"],[0.4444444444444444,\"#bd3786\"],[0.5555555555555556,\"#d8576b\"],[0.6666666666666666,\"#ed7953\"],[0.7777777777777778,\"#fb9f3a\"],[0.8888888888888888,\"#fdca26\"],[1.0,\"#f0f921\"]],\"diverging\":[[0,\"#8e0152\"],[0.1,\"#c51b7d\"],[0.2,\"#de77ae\"],[0.3,\"#f1b6da\"],[0.4,\"#fde0ef\"],[0.5,\"#f7f7f7\"],[0.6,\"#e6f5d0\"],[0.7,\"#b8e186\"],[0.8,\"#7fbc41\"],[0.9,\"#4d9221\"],[1,\"#276419\"]]},\"xaxis\":{\"gridcolor\":\"white\",\"linecolor\":\"white\",\"ticks\":\"\",\"title\":{\"standoff\":15},\"zerolinecolor\":\"white\",\"automargin\":true,\"zerolinewidth\":2},\"yaxis\":{\"gridcolor\":\"white\",\"linecolor\":\"white\",\"ticks\":\"\",\"title\":{\"standoff\":15},\"zerolinecolor\":\"white\",\"automargin\":true,\"zerolinewidth\":2},\"scene\":{\"xaxis\":{\"backgroundcolor\":\"#E5ECF6\",\"gridcolor\":\"white\",\"linecolor\":\"white\",\"showbackground\":true,\"ticks\":\"\",\"zerolinecolor\":\"white\",\"gridwidth\":2},\"yaxis\":{\"backgroundcolor\":\"#E5ECF6\",\"gridcolor\":\"white\",\"linecolor\":\"white\",\"showbackground\":true,\"ticks\":\"\",\"zerolinecolor\":\"white\",\"gridwidth\":2},\"zaxis\":{\"backgroundcolor\":\"#E5ECF6\",\"gridcolor\":\"white\",\"linecolor\":\"white\",\"showbackground\":true,\"ticks\":\"\",\"zerolinecolor\":\"white\",\"gridwidth\":2}},\"shapedefaults\":{\"line\":{\"color\":\"#2a3f5f\"}},\"annotationdefaults\":{\"arrowcolor\":\"#2a3f5f\",\"arrowhead\":0,\"arrowwidth\":1},\"geo\":{\"bgcolor\":\"white\",\"landcolor\":\"#E5ECF6\",\"subunitcolor\":\"white\",\"showland\":true,\"showlakes\":true,\"lakecolor\":\"white\"},\"title\":{\"x\":0.05},\"mapbox\":{\"style\":\"light\"}}},\"xaxis\":{\"showgrid\":false,\"zeroline\":false,\"tickmode\":\"array\",\"tickvals\":[]},\"yaxis\":{\"showgrid\":false,\"zeroline\":false,\"tickmode\":\"array\",\"tickvals\":[],\"range\":[6.5,-0.5]},\"margin\":{\"l\":0,\"r\":0,\"t\":0,\"b\":0}},                        {\"responsive\": true}                    ).then(function(){\n",
       "                            \n",
       "var gd = document.getElementById('438ca74d-ecf4-4879-8f07-6bbf64a34667');\n",
       "var x = new MutationObserver(function (mutations, observer) {{\n",
       "        var display = window.getComputedStyle(gd).display;\n",
       "        if (!display || display === 'none') {{\n",
       "            console.log([gd, 'removed!']);\n",
       "            Plotly.purge(gd);\n",
       "            observer.disconnect();\n",
       "        }}\n",
       "}});\n",
       "\n",
       "// Listen for the removal of the full notebook cells\n",
       "var notebookContainer = gd.closest('#notebook-container');\n",
       "if (notebookContainer) {{\n",
       "    x.observe(notebookContainer, {childList: true});\n",
       "}}\n",
       "\n",
       "// Listen for the clearing of the current output cell\n",
       "var outputEl = gd.closest('.output');\n",
       "if (outputEl) {{\n",
       "    x.observe(outputEl, {childList: true});\n",
       "}}\n",
       "\n",
       "                        })                };                });            </script>        </div>"
      ]
     },
     "metadata": {},
     "output_type": "display_data"
    }
   ],
   "source": [
    "g1 = create_sample_graph()\n",
    "SemiCircleViewer(g1).draw()"
   ]
  },
  {
   "cell_type": "code",
   "execution_count": 88,
   "metadata": {},
   "outputs": [
    {
     "data": {
      "application/vnd.plotly.v1+json": {
       "config": {
        "plotlyServerURL": "https://plot.ly"
       },
       "data": [
        {
         "customdata": [
          [
           "0",
           [
            490,
            700,
            280
           ],
           1760,
           2130
          ],
          [
           "1",
           [
            930,
            850,
            940
           ],
           6900,
           8480
          ],
          [
           "2",
           [
            670,
            300,
            260
           ],
           6720,
           7130
          ],
          [
           "3",
           [
            970,
            550,
            330
           ],
           2690,
           8410
          ],
          [
           "4",
           [
            570,
            240,
            580
           ],
           8110,
           4770
          ],
          [
           "5",
           [
            570,
            960,
            600
           ],
           3150,
           3980
          ],
          [
           "6",
           [
            630,
            900,
            930
           ],
           8090,
           2140
          ],
          [
           "7",
           [
            340,
            650,
            80
           ],
           1870,
           5970
          ],
          [
           "8",
           [
            240,
            420,
            100
           ],
           7310,
           2190
          ],
          [
           "9",
           [
            990,
            490,
            250
           ],
           9340,
           8920
          ]
         ],
         "hovertemplate": "Name: %{customdata[0]}<br>Activations: %{customdata[1]}<br>Parameters: %{customdata[2]}<br>FLOPS: %{customdata[3]}",
         "marker": {
          "color": [
           3.3283796034387376,
           3.9283958522567137,
           3.8530895298518657,
           3.924795995797912,
           3.678518379040114,
           3.5998830720736876,
           3.330413773349191,
           3.775974331129369,
           3.3404441148401185,
           3.950364854376123
          ],
          "colorscale": [
           [
            0,
            "rgb(0,0,255)"
           ],
           [
            1,
            "rgb(255,0,0)"
           ]
          ],
          "size": [
           10.73653800344245,
           12.516547272211765,
           12.482107819161476,
           11.289256840007225,
           12.727062562633467,
           11.4949316613688,
           12.723845564836816,
           10.815524819609497,
           12.59175213087358,
           12.91104062869028
          ]
         },
         "mode": "markers",
         "showlegend": false,
         "type": "scatter",
         "x": [
          0,
          0,
          0,
          0,
          0,
          0,
          0,
          0,
          0,
          0
         ],
         "y": [
          0,
          1,
          2,
          3,
          4,
          5,
          6,
          7,
          8,
          9
         ]
        },
        {
         "hoverinfo": "skip",
         "hovertemplate": "Connection 0<br>Nodes: 0-1<br><extra></extra>",
         "line": {
          "color": "gray",
          "width": 1
         },
         "mode": "lines",
         "showlegend": false,
         "type": "scatter",
         "x": [
          0,
          0,
          0
         ],
         "y": [
          0,
          0.5,
          1
         ]
        },
        {
         "hoverinfo": "skip",
         "hovertemplate": "Connection 1<br>Nodes: 0-4<br><extra></extra>",
         "line": {
          "color": "gray",
          "width": 1
         },
         "mode": "lines",
         "showlegend": false,
         "type": "scatter",
         "x": [
          1.2246467991473532e-16,
          0.32918918056146795,
          0.6493989384093671,
          0.9518947860741472,
          1.2284254253793356,
          1.4714478213462634,
          1.674332956525057,
          1.8315466533101148,
          1.9388005318786607,
          1.9931689860133397,
          1.9931689860133397,
          1.9388005318786607,
          1.831546653310115,
          1.6743329565250573,
          1.4714478213462634,
          1.2284254253793359,
          0.9518947860741472,
          0.6493989384093671,
          0.32918918056146795,
          1.2246467991473532e-16
         ],
         "y": [
          4,
          3.9727226068054446,
          3.891634483401269,
          3.758947502412978,
          3.5782810187927874,
          3.3545631432514824,
          3.093896316244854,
          2.8033908493059387,
          2.4909709742815984,
          2.1651586909446645,
          1.8348413090553353,
          1.5090290257184016,
          1.1966091506940613,
          0.9061036837551466,
          0.645436856748518,
          0.42171898120721285,
          0.24105249758702207,
          0.10836551659873073,
          0.027277393194555355,
          0
         ]
        },
        {
         "hoverinfo": "skip",
         "hovertemplate": "Connection 2<br>Nodes: 0-9<br><extra></extra>",
         "line": {
          "color": "gray",
          "width": 1
         },
         "mode": "lines",
         "showlegend": false,
         "type": "scatter",
         "x": [
          2.755455298081545e-16,
          0.7406756562633029,
          1.461147611421076,
          2.141763268666831,
          2.763957207103505,
          3.3107575980290926,
          3.7672491521813782,
          4.120979969947758,
          4.362301196726987,
          4.484630218530015,
          4.484630218530015,
          4.362301196726987,
          4.120979969947759,
          3.767249152181379,
          3.3107575980290926,
          2.7639572071035055,
          2.141763268666831,
          1.461147611421076,
          0.7406756562633029,
          2.755455298081545e-16
         ],
         "y": [
          9,
          8.93862586531225,
          8.756177587652857,
          8.4576318804292,
          8.051132292283771,
          7.547767072315835,
          6.9612667115509215,
          6.307629410938363,
          5.604684692133596,
          4.871607054625495,
          4.128392945374505,
          3.3953153078664036,
          2.692370589061638,
          2.03873328844908,
          1.4522329276841655,
          0.9488677077162291,
          0.5423681195707997,
          0.24382241234714375,
          0.06137413468774966,
          0
         ]
        },
        {
         "hoverinfo": "skip",
         "hovertemplate": "Connection 3<br>Nodes: 1-5<br><extra></extra>",
         "line": {
          "color": "gray",
          "width": 1
         },
         "mode": "lines",
         "showlegend": false,
         "type": "scatter",
         "x": [
          1.2246467991473532e-16,
          0.32918918056146795,
          0.6493989384093671,
          0.9518947860741472,
          1.2284254253793356,
          1.4714478213462634,
          1.674332956525057,
          1.8315466533101148,
          1.9388005318786607,
          1.9931689860133397,
          1.9931689860133397,
          1.9388005318786607,
          1.831546653310115,
          1.6743329565250573,
          1.4714478213462634,
          1.2284254253793359,
          0.9518947860741472,
          0.6493989384093671,
          0.32918918056146795,
          1.2246467991473532e-16
         ],
         "y": [
          5,
          4.972722606805444,
          4.891634483401269,
          4.758947502412978,
          4.578281018792787,
          4.354563143251482,
          4.093896316244853,
          3.8033908493059387,
          3.4909709742815984,
          3.1651586909446645,
          2.8348413090553355,
          2.5090290257184016,
          2.1966091506940613,
          1.9061036837551466,
          1.645436856748518,
          1.4217189812072129,
          1.241052497587022,
          1.1083655165987307,
          1.0272773931945554,
          1
         ]
        },
        {
         "hoverinfo": "skip",
         "hovertemplate": "Connection 4<br>Nodes: 2-4<br><extra></extra>",
         "line": {
          "color": "gray",
          "width": 1
         },
         "mode": "lines",
         "showlegend": false,
         "type": "scatter",
         "x": [
          6.123233995736766e-17,
          0.16459459028073398,
          0.32469946920468357,
          0.4759473930370736,
          0.6142127126896678,
          0.7357239106731317,
          0.8371664782625285,
          0.9157733266550574,
          0.9694002659393304,
          0.9965844930066698,
          0.9965844930066698,
          0.9694002659393304,
          0.9157733266550575,
          0.8371664782625287,
          0.7357239106731317,
          0.6142127126896679,
          0.4759473930370736,
          0.32469946920468357,
          0.16459459028073398,
          6.123233995736766e-17
         ],
         "y": [
          4,
          3.986361303402722,
          3.9458172417006345,
          3.879473751206489,
          3.7891405093963937,
          3.677281571625741,
          3.5469481581224267,
          3.4016954246529694,
          3.245485487140799,
          3.0825793454723325,
          2.9174206545276675,
          2.754514512859201,
          2.5983045753470306,
          2.4530518418775733,
          2.322718428374259,
          2.2108594906036063,
          2.120526248793511,
          2.0541827582993655,
          2.013638696597278,
          2
         ]
        },
        {
         "hoverinfo": "skip",
         "hovertemplate": "Connection 5<br>Nodes: 2-6<br><extra></extra>",
         "line": {
          "color": "gray",
          "width": 1
         },
         "mode": "lines",
         "showlegend": false,
         "type": "scatter",
         "x": [
          1.2246467991473532e-16,
          0.32918918056146795,
          0.6493989384093671,
          0.9518947860741472,
          1.2284254253793356,
          1.4714478213462634,
          1.674332956525057,
          1.8315466533101148,
          1.9388005318786607,
          1.9931689860133397,
          1.9931689860133397,
          1.9388005318786607,
          1.831546653310115,
          1.6743329565250573,
          1.4714478213462634,
          1.2284254253793359,
          0.9518947860741472,
          0.6493989384093671,
          0.32918918056146795,
          1.2246467991473532e-16
         ],
         "y": [
          6,
          5.972722606805444,
          5.891634483401269,
          5.758947502412978,
          5.578281018792787,
          5.354563143251482,
          5.093896316244853,
          4.803390849305939,
          4.490970974281598,
          4.165158690944665,
          3.8348413090553355,
          3.5090290257184016,
          3.1966091506940613,
          2.9061036837551466,
          2.645436856748518,
          2.4217189812072126,
          2.241052497587022,
          2.108365516598731,
          2.0272773931945554,
          2
         ]
        },
        {
         "hoverinfo": "skip",
         "hovertemplate": "Connection 6<br>Nodes: 3-9<br><extra></extra>",
         "line": {
          "color": "gray",
          "width": 1
         },
         "mode": "lines",
         "showlegend": false,
         "type": "scatter",
         "x": [
          1.8369701987210297e-16,
          0.49378377084220193,
          0.9740984076140506,
          1.4278421791112208,
          1.8426381380690033,
          2.207171732019395,
          2.5114994347875856,
          2.747319979965172,
          2.908200797817991,
          2.9897534790200098,
          2.9897534790200098,
          2.908200797817991,
          2.7473199799651726,
          2.511499434787586,
          2.207171732019395,
          1.8426381380690038,
          1.4278421791112208,
          0.9740984076140506,
          0.49378377084220193,
          1.8369701987210297e-16
         ],
         "y": [
          9,
          8.959083910208168,
          8.837451725101904,
          8.638421253619466,
          8.36742152818918,
          8.031844714877224,
          7.640844474367281,
          7.2050862739589085,
          6.736456461422398,
          6.247738036416997,
          5.752261963583003,
          5.263543538577602,
          4.794913726041092,
          4.35915552563272,
          3.9681552851227773,
          3.6325784718108194,
          3.361578746380533,
          3.162548274898096,
          3.040916089791833,
          3
         ]
        },
        {
         "hoverinfo": "skip",
         "hovertemplate": "Connection 7<br>Nodes: 4-9<br><extra></extra>",
         "line": {
          "color": "gray",
          "width": 1
         },
         "mode": "lines",
         "showlegend": false,
         "type": "scatter",
         "x": [
          1.5308084989341916e-16,
          0.41148647570183494,
          0.8117486730117089,
          1.189868482592684,
          1.5355317817241696,
          1.8393097766828292,
          2.092916195656321,
          2.2894333166376435,
          2.423500664848326,
          2.4914612325166745,
          2.4914612325166745,
          2.423500664848326,
          2.289433316637644,
          2.0929161956563216,
          1.8393097766828292,
          1.5355317817241698,
          1.189868482592684,
          0.8117486730117089,
          0.41148647570183494,
          1.5308084989341916e-16
         ],
         "y": [
          9,
          8.965903258506806,
          8.864543104251586,
          8.698684378016223,
          8.472851273490985,
          8.193203929064353,
          7.867370395306067,
          7.504238561632423,
          7.113713717851998,
          6.706448363680831,
          6.293551636319169,
          5.886286282148002,
          5.495761438367577,
          5.132629604693934,
          4.806796070935647,
          4.527148726509016,
          4.301315621983777,
          4.135456895748414,
          4.034096741493194,
          4
         ]
        },
        {
         "hoverinfo": "skip",
         "hovertemplate": "Connection 8<br>Nodes: 5-8<br><extra></extra>",
         "line": {
          "color": "gray",
          "width": 1
         },
         "mode": "lines",
         "showlegend": false,
         "type": "scatter",
         "x": [
          9.184850993605148e-17,
          0.24689188542110097,
          0.4870492038070253,
          0.7139210895556104,
          0.9213190690345017,
          1.1035858660096975,
          1.2557497173937928,
          1.373659989982586,
          1.4541003989089956,
          1.4948767395100049,
          1.4948767395100049,
          1.4541003989089956,
          1.3736599899825863,
          1.255749717393793,
          1.1035858660096975,
          0.9213190690345019,
          0.7139210895556104,
          0.4870492038070253,
          0.24689188542110097,
          9.184850993605148e-17
         ],
         "y": [
          8,
          7.979541955104084,
          7.918725862550952,
          7.819210626809733,
          7.68371076409459,
          7.515922357438612,
          7.3204222371836405,
          7.102543136979454,
          6.868228230711199,
          6.623869018208499,
          6.376130981791501,
          6.131771769288801,
          5.897456863020546,
          5.6795777628163595,
          5.484077642561388,
          5.31628923590541,
          5.180789373190267,
          5.081274137449048,
          5.020458044895916,
          5
         ]
        },
        {
         "hoverinfo": "skip",
         "hovertemplate": "Connection 9<br>Nodes: 6-8<br><extra></extra>",
         "line": {
          "color": "gray",
          "width": 1
         },
         "mode": "lines",
         "showlegend": false,
         "type": "scatter",
         "x": [
          6.123233995736766e-17,
          0.16459459028073398,
          0.32469946920468357,
          0.4759473930370736,
          0.6142127126896678,
          0.7357239106731317,
          0.8371664782625285,
          0.9157733266550574,
          0.9694002659393304,
          0.9965844930066698,
          0.9965844930066698,
          0.9694002659393304,
          0.9157733266550575,
          0.8371664782625287,
          0.7357239106731317,
          0.6142127126896679,
          0.4759473930370736,
          0.32469946920468357,
          0.16459459028073398,
          6.123233995736766e-17
         ],
         "y": [
          8,
          7.986361303402722,
          7.9458172417006345,
          7.879473751206489,
          7.789140509396393,
          7.677281571625741,
          7.546948158122427,
          7.40169542465297,
          7.245485487140799,
          7.0825793454723325,
          6.9174206545276675,
          6.754514512859201,
          6.598304575347031,
          6.453051841877573,
          6.322718428374259,
          6.210859490603607,
          6.120526248793511,
          6.0541827582993655,
          6.013638696597278,
          6
         ]
        },
        {
         "hoverinfo": "skip",
         "hovertemplate": "Connection 10<br>Nodes: 7-8<br><extra></extra>",
         "line": {
          "color": "gray",
          "width": 1
         },
         "mode": "lines",
         "showlegend": false,
         "type": "scatter",
         "x": [
          0,
          0,
          0
         ],
         "y": [
          7,
          7.5,
          8
         ]
        }
       ],
       "layout": {
        "height": 300,
        "margin": {
         "b": 0,
         "l": 0,
         "r": 0,
         "t": 0
        },
        "modebar": {
         "orientation": "v",
         "remove": [
          "toimage",
          "select",
          "lasso",
          "zoomin",
          "zoomout"
         ]
        },
        "template": {
         "data": {
          "bar": [
           {
            "error_x": {
             "color": "#2a3f5f"
            },
            "error_y": {
             "color": "#2a3f5f"
            },
            "marker": {
             "line": {
              "color": "#E5ECF6",
              "width": 0.5
             },
             "pattern": {
              "fillmode": "overlay",
              "size": 10,
              "solidity": 0.2
             }
            },
            "type": "bar"
           }
          ],
          "barpolar": [
           {
            "marker": {
             "line": {
              "color": "#E5ECF6",
              "width": 0.5
             },
             "pattern": {
              "fillmode": "overlay",
              "size": 10,
              "solidity": 0.2
             }
            },
            "type": "barpolar"
           }
          ],
          "carpet": [
           {
            "aaxis": {
             "endlinecolor": "#2a3f5f",
             "gridcolor": "white",
             "linecolor": "white",
             "minorgridcolor": "white",
             "startlinecolor": "#2a3f5f"
            },
            "baxis": {
             "endlinecolor": "#2a3f5f",
             "gridcolor": "white",
             "linecolor": "white",
             "minorgridcolor": "white",
             "startlinecolor": "#2a3f5f"
            },
            "type": "carpet"
           }
          ],
          "choropleth": [
           {
            "colorbar": {
             "outlinewidth": 0,
             "ticks": ""
            },
            "type": "choropleth"
           }
          ],
          "contour": [
           {
            "colorbar": {
             "outlinewidth": 0,
             "ticks": ""
            },
            "colorscale": [
             [
              0,
              "#0d0887"
             ],
             [
              0.1111111111111111,
              "#46039f"
             ],
             [
              0.2222222222222222,
              "#7201a8"
             ],
             [
              0.3333333333333333,
              "#9c179e"
             ],
             [
              0.4444444444444444,
              "#bd3786"
             ],
             [
              0.5555555555555556,
              "#d8576b"
             ],
             [
              0.6666666666666666,
              "#ed7953"
             ],
             [
              0.7777777777777778,
              "#fb9f3a"
             ],
             [
              0.8888888888888888,
              "#fdca26"
             ],
             [
              1,
              "#f0f921"
             ]
            ],
            "type": "contour"
           }
          ],
          "contourcarpet": [
           {
            "colorbar": {
             "outlinewidth": 0,
             "ticks": ""
            },
            "type": "contourcarpet"
           }
          ],
          "heatmap": [
           {
            "colorbar": {
             "outlinewidth": 0,
             "ticks": ""
            },
            "colorscale": [
             [
              0,
              "#0d0887"
             ],
             [
              0.1111111111111111,
              "#46039f"
             ],
             [
              0.2222222222222222,
              "#7201a8"
             ],
             [
              0.3333333333333333,
              "#9c179e"
             ],
             [
              0.4444444444444444,
              "#bd3786"
             ],
             [
              0.5555555555555556,
              "#d8576b"
             ],
             [
              0.6666666666666666,
              "#ed7953"
             ],
             [
              0.7777777777777778,
              "#fb9f3a"
             ],
             [
              0.8888888888888888,
              "#fdca26"
             ],
             [
              1,
              "#f0f921"
             ]
            ],
            "type": "heatmap"
           }
          ],
          "heatmapgl": [
           {
            "colorbar": {
             "outlinewidth": 0,
             "ticks": ""
            },
            "colorscale": [
             [
              0,
              "#0d0887"
             ],
             [
              0.1111111111111111,
              "#46039f"
             ],
             [
              0.2222222222222222,
              "#7201a8"
             ],
             [
              0.3333333333333333,
              "#9c179e"
             ],
             [
              0.4444444444444444,
              "#bd3786"
             ],
             [
              0.5555555555555556,
              "#d8576b"
             ],
             [
              0.6666666666666666,
              "#ed7953"
             ],
             [
              0.7777777777777778,
              "#fb9f3a"
             ],
             [
              0.8888888888888888,
              "#fdca26"
             ],
             [
              1,
              "#f0f921"
             ]
            ],
            "type": "heatmapgl"
           }
          ],
          "histogram": [
           {
            "marker": {
             "pattern": {
              "fillmode": "overlay",
              "size": 10,
              "solidity": 0.2
             }
            },
            "type": "histogram"
           }
          ],
          "histogram2d": [
           {
            "colorbar": {
             "outlinewidth": 0,
             "ticks": ""
            },
            "colorscale": [
             [
              0,
              "#0d0887"
             ],
             [
              0.1111111111111111,
              "#46039f"
             ],
             [
              0.2222222222222222,
              "#7201a8"
             ],
             [
              0.3333333333333333,
              "#9c179e"
             ],
             [
              0.4444444444444444,
              "#bd3786"
             ],
             [
              0.5555555555555556,
              "#d8576b"
             ],
             [
              0.6666666666666666,
              "#ed7953"
             ],
             [
              0.7777777777777778,
              "#fb9f3a"
             ],
             [
              0.8888888888888888,
              "#fdca26"
             ],
             [
              1,
              "#f0f921"
             ]
            ],
            "type": "histogram2d"
           }
          ],
          "histogram2dcontour": [
           {
            "colorbar": {
             "outlinewidth": 0,
             "ticks": ""
            },
            "colorscale": [
             [
              0,
              "#0d0887"
             ],
             [
              0.1111111111111111,
              "#46039f"
             ],
             [
              0.2222222222222222,
              "#7201a8"
             ],
             [
              0.3333333333333333,
              "#9c179e"
             ],
             [
              0.4444444444444444,
              "#bd3786"
             ],
             [
              0.5555555555555556,
              "#d8576b"
             ],
             [
              0.6666666666666666,
              "#ed7953"
             ],
             [
              0.7777777777777778,
              "#fb9f3a"
             ],
             [
              0.8888888888888888,
              "#fdca26"
             ],
             [
              1,
              "#f0f921"
             ]
            ],
            "type": "histogram2dcontour"
           }
          ],
          "mesh3d": [
           {
            "colorbar": {
             "outlinewidth": 0,
             "ticks": ""
            },
            "type": "mesh3d"
           }
          ],
          "parcoords": [
           {
            "line": {
             "colorbar": {
              "outlinewidth": 0,
              "ticks": ""
             }
            },
            "type": "parcoords"
           }
          ],
          "pie": [
           {
            "automargin": true,
            "type": "pie"
           }
          ],
          "scatter": [
           {
            "fillpattern": {
             "fillmode": "overlay",
             "size": 10,
             "solidity": 0.2
            },
            "type": "scatter"
           }
          ],
          "scatter3d": [
           {
            "line": {
             "colorbar": {
              "outlinewidth": 0,
              "ticks": ""
             }
            },
            "marker": {
             "colorbar": {
              "outlinewidth": 0,
              "ticks": ""
             }
            },
            "type": "scatter3d"
           }
          ],
          "scattercarpet": [
           {
            "marker": {
             "colorbar": {
              "outlinewidth": 0,
              "ticks": ""
             }
            },
            "type": "scattercarpet"
           }
          ],
          "scattergeo": [
           {
            "marker": {
             "colorbar": {
              "outlinewidth": 0,
              "ticks": ""
             }
            },
            "type": "scattergeo"
           }
          ],
          "scattergl": [
           {
            "marker": {
             "colorbar": {
              "outlinewidth": 0,
              "ticks": ""
             }
            },
            "type": "scattergl"
           }
          ],
          "scattermapbox": [
           {
            "marker": {
             "colorbar": {
              "outlinewidth": 0,
              "ticks": ""
             }
            },
            "type": "scattermapbox"
           }
          ],
          "scatterpolar": [
           {
            "marker": {
             "colorbar": {
              "outlinewidth": 0,
              "ticks": ""
             }
            },
            "type": "scatterpolar"
           }
          ],
          "scatterpolargl": [
           {
            "marker": {
             "colorbar": {
              "outlinewidth": 0,
              "ticks": ""
             }
            },
            "type": "scatterpolargl"
           }
          ],
          "scatterternary": [
           {
            "marker": {
             "colorbar": {
              "outlinewidth": 0,
              "ticks": ""
             }
            },
            "type": "scatterternary"
           }
          ],
          "surface": [
           {
            "colorbar": {
             "outlinewidth": 0,
             "ticks": ""
            },
            "colorscale": [
             [
              0,
              "#0d0887"
             ],
             [
              0.1111111111111111,
              "#46039f"
             ],
             [
              0.2222222222222222,
              "#7201a8"
             ],
             [
              0.3333333333333333,
              "#9c179e"
             ],
             [
              0.4444444444444444,
              "#bd3786"
             ],
             [
              0.5555555555555556,
              "#d8576b"
             ],
             [
              0.6666666666666666,
              "#ed7953"
             ],
             [
              0.7777777777777778,
              "#fb9f3a"
             ],
             [
              0.8888888888888888,
              "#fdca26"
             ],
             [
              1,
              "#f0f921"
             ]
            ],
            "type": "surface"
           }
          ],
          "table": [
           {
            "cells": {
             "fill": {
              "color": "#EBF0F8"
             },
             "line": {
              "color": "white"
             }
            },
            "header": {
             "fill": {
              "color": "#C8D4E3"
             },
             "line": {
              "color": "white"
             }
            },
            "type": "table"
           }
          ]
         },
         "layout": {
          "annotationdefaults": {
           "arrowcolor": "#2a3f5f",
           "arrowhead": 0,
           "arrowwidth": 1
          },
          "autotypenumbers": "strict",
          "coloraxis": {
           "colorbar": {
            "outlinewidth": 0,
            "ticks": ""
           }
          },
          "colorscale": {
           "diverging": [
            [
             0,
             "#8e0152"
            ],
            [
             0.1,
             "#c51b7d"
            ],
            [
             0.2,
             "#de77ae"
            ],
            [
             0.3,
             "#f1b6da"
            ],
            [
             0.4,
             "#fde0ef"
            ],
            [
             0.5,
             "#f7f7f7"
            ],
            [
             0.6,
             "#e6f5d0"
            ],
            [
             0.7,
             "#b8e186"
            ],
            [
             0.8,
             "#7fbc41"
            ],
            [
             0.9,
             "#4d9221"
            ],
            [
             1,
             "#276419"
            ]
           ],
           "sequential": [
            [
             0,
             "#0d0887"
            ],
            [
             0.1111111111111111,
             "#46039f"
            ],
            [
             0.2222222222222222,
             "#7201a8"
            ],
            [
             0.3333333333333333,
             "#9c179e"
            ],
            [
             0.4444444444444444,
             "#bd3786"
            ],
            [
             0.5555555555555556,
             "#d8576b"
            ],
            [
             0.6666666666666666,
             "#ed7953"
            ],
            [
             0.7777777777777778,
             "#fb9f3a"
            ],
            [
             0.8888888888888888,
             "#fdca26"
            ],
            [
             1,
             "#f0f921"
            ]
           ],
           "sequentialminus": [
            [
             0,
             "#0d0887"
            ],
            [
             0.1111111111111111,
             "#46039f"
            ],
            [
             0.2222222222222222,
             "#7201a8"
            ],
            [
             0.3333333333333333,
             "#9c179e"
            ],
            [
             0.4444444444444444,
             "#bd3786"
            ],
            [
             0.5555555555555556,
             "#d8576b"
            ],
            [
             0.6666666666666666,
             "#ed7953"
            ],
            [
             0.7777777777777778,
             "#fb9f3a"
            ],
            [
             0.8888888888888888,
             "#fdca26"
            ],
            [
             1,
             "#f0f921"
            ]
           ]
          },
          "colorway": [
           "#636efa",
           "#EF553B",
           "#00cc96",
           "#ab63fa",
           "#FFA15A",
           "#19d3f3",
           "#FF6692",
           "#B6E880",
           "#FF97FF",
           "#FECB52"
          ],
          "font": {
           "color": "#2a3f5f"
          },
          "geo": {
           "bgcolor": "white",
           "lakecolor": "white",
           "landcolor": "#E5ECF6",
           "showlakes": true,
           "showland": true,
           "subunitcolor": "white"
          },
          "hoverlabel": {
           "align": "left"
          },
          "hovermode": "closest",
          "mapbox": {
           "style": "light"
          },
          "paper_bgcolor": "white",
          "plot_bgcolor": "#E5ECF6",
          "polar": {
           "angularaxis": {
            "gridcolor": "white",
            "linecolor": "white",
            "ticks": ""
           },
           "bgcolor": "#E5ECF6",
           "radialaxis": {
            "gridcolor": "white",
            "linecolor": "white",
            "ticks": ""
           }
          },
          "scene": {
           "xaxis": {
            "backgroundcolor": "#E5ECF6",
            "gridcolor": "white",
            "gridwidth": 2,
            "linecolor": "white",
            "showbackground": true,
            "ticks": "",
            "zerolinecolor": "white"
           },
           "yaxis": {
            "backgroundcolor": "#E5ECF6",
            "gridcolor": "white",
            "gridwidth": 2,
            "linecolor": "white",
            "showbackground": true,
            "ticks": "",
            "zerolinecolor": "white"
           },
           "zaxis": {
            "backgroundcolor": "#E5ECF6",
            "gridcolor": "white",
            "gridwidth": 2,
            "linecolor": "white",
            "showbackground": true,
            "ticks": "",
            "zerolinecolor": "white"
           }
          },
          "shapedefaults": {
           "line": {
            "color": "#2a3f5f"
           }
          },
          "ternary": {
           "aaxis": {
            "gridcolor": "white",
            "linecolor": "white",
            "ticks": ""
           },
           "baxis": {
            "gridcolor": "white",
            "linecolor": "white",
            "ticks": ""
           },
           "bgcolor": "#E5ECF6",
           "caxis": {
            "gridcolor": "white",
            "linecolor": "white",
            "ticks": ""
           }
          },
          "title": {
           "x": 0.05
          },
          "xaxis": {
           "automargin": true,
           "gridcolor": "white",
           "linecolor": "white",
           "ticks": "",
           "title": {
            "standoff": 15
           },
           "zerolinecolor": "white",
           "zerolinewidth": 2
          },
          "yaxis": {
           "automargin": true,
           "gridcolor": "white",
           "linecolor": "white",
           "ticks": "",
           "title": {
            "standoff": 15
           },
           "zerolinecolor": "white",
           "zerolinewidth": 2
          }
         }
        },
        "width": 300,
        "xaxis": {
         "showgrid": false,
         "tickmode": "array",
         "tickvals": [],
         "zeroline": false
        },
        "yaxis": {
         "range": [
          9.5,
          -0.5
         ],
         "showgrid": false,
         "tickmode": "array",
         "tickvals": [],
         "zeroline": false
        }
       }
      },
      "text/html": [
       "<div>                            <div id=\"27646809-4705-4d03-8a1b-01d8cb9c7001\" class=\"plotly-graph-div\" style=\"height:300px; width:300px;\"></div>            <script type=\"text/javascript\">                require([\"plotly\"], function(Plotly) {                    window.PLOTLYENV=window.PLOTLYENV || {};                                    if (document.getElementById(\"27646809-4705-4d03-8a1b-01d8cb9c7001\")) {                    Plotly.newPlot(                        \"27646809-4705-4d03-8a1b-01d8cb9c7001\",                        [{\"customdata\":[[\"0\",[490,700,280],1760,2130],[\"1\",[930,850,940],6900,8480],[\"2\",[670,300,260],6720,7130],[\"3\",[970,550,330],2690,8410],[\"4\",[570,240,580],8110,4770],[\"5\",[570,960,600],3150,3980],[\"6\",[630,900,930],8090,2140],[\"7\",[340,650,80],1870,5970],[\"8\",[240,420,100],7310,2190],[\"9\",[990,490,250],9340,8920]],\"hovertemplate\":\"Name: %{customdata[0]}\\u003cbr\\u003eActivations: %{customdata[1]}\\u003cbr\\u003eParameters: %{customdata[2]}\\u003cbr\\u003eFLOPS: %{customdata[3]}\",\"marker\":{\"color\":[3.3283796034387376,3.9283958522567137,3.8530895298518657,3.924795995797912,3.678518379040114,3.5998830720736876,3.330413773349191,3.775974331129369,3.3404441148401185,3.950364854376123],\"colorscale\":[[0.0,\"rgb(0,0,255)\"],[1.0,\"rgb(255,0,0)\"]],\"size\":[10.73653800344245,12.516547272211765,12.482107819161476,11.289256840007225,12.727062562633467,11.4949316613688,12.723845564836816,10.815524819609497,12.59175213087358,12.91104062869028]},\"mode\":\"markers\",\"showlegend\":false,\"x\":[0,0,0,0,0,0,0,0,0,0],\"y\":[0,1,2,3,4,5,6,7,8,9],\"type\":\"scatter\"},{\"hoverinfo\":\"skip\",\"hovertemplate\":\"Connection 0\\u003cbr\\u003eNodes: 0-1\\u003cbr\\u003e\\u003cextra\\u003e\\u003c\\u002fextra\\u003e\",\"line\":{\"color\":\"gray\",\"width\":1},\"mode\":\"lines\",\"showlegend\":false,\"x\":[0,0.0,0],\"y\":[0,0.5,1],\"type\":\"scatter\"},{\"hoverinfo\":\"skip\",\"hovertemplate\":\"Connection 1\\u003cbr\\u003eNodes: 0-4\\u003cbr\\u003e\\u003cextra\\u003e\\u003c\\u002fextra\\u003e\",\"line\":{\"color\":\"gray\",\"width\":1},\"mode\":\"lines\",\"showlegend\":false,\"x\":[1.2246467991473532e-16,0.32918918056146795,0.6493989384093671,0.9518947860741472,1.2284254253793356,1.4714478213462634,1.674332956525057,1.8315466533101148,1.9388005318786607,1.9931689860133397,1.9931689860133397,1.9388005318786607,1.831546653310115,1.6743329565250573,1.4714478213462634,1.2284254253793359,0.9518947860741472,0.6493989384093671,0.32918918056146795,1.2246467991473532e-16],\"y\":[4.0,3.9727226068054446,3.891634483401269,3.758947502412978,3.5782810187927874,3.3545631432514824,3.093896316244854,2.8033908493059387,2.4909709742815984,2.1651586909446645,1.8348413090553353,1.5090290257184016,1.1966091506940613,0.9061036837551466,0.645436856748518,0.42171898120721285,0.24105249758702207,0.10836551659873073,0.027277393194555355,0.0],\"type\":\"scatter\"},{\"hoverinfo\":\"skip\",\"hovertemplate\":\"Connection 2\\u003cbr\\u003eNodes: 0-9\\u003cbr\\u003e\\u003cextra\\u003e\\u003c\\u002fextra\\u003e\",\"line\":{\"color\":\"gray\",\"width\":1},\"mode\":\"lines\",\"showlegend\":false,\"x\":[2.755455298081545e-16,0.7406756562633029,1.461147611421076,2.141763268666831,2.763957207103505,3.3107575980290926,3.7672491521813782,4.120979969947758,4.362301196726987,4.484630218530015,4.484630218530015,4.362301196726987,4.120979969947759,3.767249152181379,3.3107575980290926,2.7639572071035055,2.141763268666831,1.461147611421076,0.7406756562633029,2.755455298081545e-16],\"y\":[9.0,8.93862586531225,8.756177587652857,8.4576318804292,8.051132292283771,7.547767072315835,6.9612667115509215,6.307629410938363,5.604684692133596,4.871607054625495,4.128392945374505,3.3953153078664036,2.692370589061638,2.03873328844908,1.4522329276841655,0.9488677077162291,0.5423681195707997,0.24382241234714375,0.06137413468774966,0.0],\"type\":\"scatter\"},{\"hoverinfo\":\"skip\",\"hovertemplate\":\"Connection 3\\u003cbr\\u003eNodes: 1-5\\u003cbr\\u003e\\u003cextra\\u003e\\u003c\\u002fextra\\u003e\",\"line\":{\"color\":\"gray\",\"width\":1},\"mode\":\"lines\",\"showlegend\":false,\"x\":[1.2246467991473532e-16,0.32918918056146795,0.6493989384093671,0.9518947860741472,1.2284254253793356,1.4714478213462634,1.674332956525057,1.8315466533101148,1.9388005318786607,1.9931689860133397,1.9931689860133397,1.9388005318786607,1.831546653310115,1.6743329565250573,1.4714478213462634,1.2284254253793359,0.9518947860741472,0.6493989384093671,0.32918918056146795,1.2246467991473532e-16],\"y\":[5.0,4.972722606805444,4.891634483401269,4.758947502412978,4.578281018792787,4.354563143251482,4.093896316244853,3.8033908493059387,3.4909709742815984,3.1651586909446645,2.8348413090553355,2.5090290257184016,2.1966091506940613,1.9061036837551466,1.645436856748518,1.4217189812072129,1.241052497587022,1.1083655165987307,1.0272773931945554,1.0],\"type\":\"scatter\"},{\"hoverinfo\":\"skip\",\"hovertemplate\":\"Connection 4\\u003cbr\\u003eNodes: 2-4\\u003cbr\\u003e\\u003cextra\\u003e\\u003c\\u002fextra\\u003e\",\"line\":{\"color\":\"gray\",\"width\":1},\"mode\":\"lines\",\"showlegend\":false,\"x\":[6.123233995736766e-17,0.16459459028073398,0.32469946920468357,0.4759473930370736,0.6142127126896678,0.7357239106731317,0.8371664782625285,0.9157733266550574,0.9694002659393304,0.9965844930066698,0.9965844930066698,0.9694002659393304,0.9157733266550575,0.8371664782625287,0.7357239106731317,0.6142127126896679,0.4759473930370736,0.32469946920468357,0.16459459028073398,6.123233995736766e-17],\"y\":[4.0,3.986361303402722,3.9458172417006345,3.879473751206489,3.7891405093963937,3.677281571625741,3.5469481581224267,3.4016954246529694,3.245485487140799,3.0825793454723325,2.9174206545276675,2.754514512859201,2.5983045753470306,2.4530518418775733,2.322718428374259,2.2108594906036063,2.120526248793511,2.0541827582993655,2.013638696597278,2.0],\"type\":\"scatter\"},{\"hoverinfo\":\"skip\",\"hovertemplate\":\"Connection 5\\u003cbr\\u003eNodes: 2-6\\u003cbr\\u003e\\u003cextra\\u003e\\u003c\\u002fextra\\u003e\",\"line\":{\"color\":\"gray\",\"width\":1},\"mode\":\"lines\",\"showlegend\":false,\"x\":[1.2246467991473532e-16,0.32918918056146795,0.6493989384093671,0.9518947860741472,1.2284254253793356,1.4714478213462634,1.674332956525057,1.8315466533101148,1.9388005318786607,1.9931689860133397,1.9931689860133397,1.9388005318786607,1.831546653310115,1.6743329565250573,1.4714478213462634,1.2284254253793359,0.9518947860741472,0.6493989384093671,0.32918918056146795,1.2246467991473532e-16],\"y\":[6.0,5.972722606805444,5.891634483401269,5.758947502412978,5.578281018792787,5.354563143251482,5.093896316244853,4.803390849305939,4.490970974281598,4.165158690944665,3.8348413090553355,3.5090290257184016,3.1966091506940613,2.9061036837551466,2.645436856748518,2.4217189812072126,2.241052497587022,2.108365516598731,2.0272773931945554,2.0],\"type\":\"scatter\"},{\"hoverinfo\":\"skip\",\"hovertemplate\":\"Connection 6\\u003cbr\\u003eNodes: 3-9\\u003cbr\\u003e\\u003cextra\\u003e\\u003c\\u002fextra\\u003e\",\"line\":{\"color\":\"gray\",\"width\":1},\"mode\":\"lines\",\"showlegend\":false,\"x\":[1.8369701987210297e-16,0.49378377084220193,0.9740984076140506,1.4278421791112208,1.8426381380690033,2.207171732019395,2.5114994347875856,2.747319979965172,2.908200797817991,2.9897534790200098,2.9897534790200098,2.908200797817991,2.7473199799651726,2.511499434787586,2.207171732019395,1.8426381380690038,1.4278421791112208,0.9740984076140506,0.49378377084220193,1.8369701987210297e-16],\"y\":[9.0,8.959083910208168,8.837451725101904,8.638421253619466,8.36742152818918,8.031844714877224,7.640844474367281,7.2050862739589085,6.736456461422398,6.247738036416997,5.752261963583003,5.263543538577602,4.794913726041092,4.35915552563272,3.9681552851227773,3.6325784718108194,3.361578746380533,3.162548274898096,3.040916089791833,3.0],\"type\":\"scatter\"},{\"hoverinfo\":\"skip\",\"hovertemplate\":\"Connection 7\\u003cbr\\u003eNodes: 4-9\\u003cbr\\u003e\\u003cextra\\u003e\\u003c\\u002fextra\\u003e\",\"line\":{\"color\":\"gray\",\"width\":1},\"mode\":\"lines\",\"showlegend\":false,\"x\":[1.5308084989341916e-16,0.41148647570183494,0.8117486730117089,1.189868482592684,1.5355317817241696,1.8393097766828292,2.092916195656321,2.2894333166376435,2.423500664848326,2.4914612325166745,2.4914612325166745,2.423500664848326,2.289433316637644,2.0929161956563216,1.8393097766828292,1.5355317817241698,1.189868482592684,0.8117486730117089,0.41148647570183494,1.5308084989341916e-16],\"y\":[9.0,8.965903258506806,8.864543104251586,8.698684378016223,8.472851273490985,8.193203929064353,7.867370395306067,7.504238561632423,7.113713717851998,6.706448363680831,6.293551636319169,5.886286282148002,5.495761438367577,5.132629604693934,4.806796070935647,4.527148726509016,4.301315621983777,4.135456895748414,4.034096741493194,4.0],\"type\":\"scatter\"},{\"hoverinfo\":\"skip\",\"hovertemplate\":\"Connection 8\\u003cbr\\u003eNodes: 5-8\\u003cbr\\u003e\\u003cextra\\u003e\\u003c\\u002fextra\\u003e\",\"line\":{\"color\":\"gray\",\"width\":1},\"mode\":\"lines\",\"showlegend\":false,\"x\":[9.184850993605148e-17,0.24689188542110097,0.4870492038070253,0.7139210895556104,0.9213190690345017,1.1035858660096975,1.2557497173937928,1.373659989982586,1.4541003989089956,1.4948767395100049,1.4948767395100049,1.4541003989089956,1.3736599899825863,1.255749717393793,1.1035858660096975,0.9213190690345019,0.7139210895556104,0.4870492038070253,0.24689188542110097,9.184850993605148e-17],\"y\":[8.0,7.979541955104084,7.918725862550952,7.819210626809733,7.68371076409459,7.515922357438612,7.3204222371836405,7.102543136979454,6.868228230711199,6.623869018208499,6.376130981791501,6.131771769288801,5.897456863020546,5.6795777628163595,5.484077642561388,5.31628923590541,5.180789373190267,5.081274137449048,5.020458044895916,5.0],\"type\":\"scatter\"},{\"hoverinfo\":\"skip\",\"hovertemplate\":\"Connection 9\\u003cbr\\u003eNodes: 6-8\\u003cbr\\u003e\\u003cextra\\u003e\\u003c\\u002fextra\\u003e\",\"line\":{\"color\":\"gray\",\"width\":1},\"mode\":\"lines\",\"showlegend\":false,\"x\":[6.123233995736766e-17,0.16459459028073398,0.32469946920468357,0.4759473930370736,0.6142127126896678,0.7357239106731317,0.8371664782625285,0.9157733266550574,0.9694002659393304,0.9965844930066698,0.9965844930066698,0.9694002659393304,0.9157733266550575,0.8371664782625287,0.7357239106731317,0.6142127126896679,0.4759473930370736,0.32469946920468357,0.16459459028073398,6.123233995736766e-17],\"y\":[8.0,7.986361303402722,7.9458172417006345,7.879473751206489,7.789140509396393,7.677281571625741,7.546948158122427,7.40169542465297,7.245485487140799,7.0825793454723325,6.9174206545276675,6.754514512859201,6.598304575347031,6.453051841877573,6.322718428374259,6.210859490603607,6.120526248793511,6.0541827582993655,6.013638696597278,6.0],\"type\":\"scatter\"},{\"hoverinfo\":\"skip\",\"hovertemplate\":\"Connection 10\\u003cbr\\u003eNodes: 7-8\\u003cbr\\u003e\\u003cextra\\u003e\\u003c\\u002fextra\\u003e\",\"line\":{\"color\":\"gray\",\"width\":1},\"mode\":\"lines\",\"showlegend\":false,\"x\":[0,0.0,0],\"y\":[7,7.5,8],\"type\":\"scatter\"}],                        {\"height\":300,\"width\":300,\"template\":{\"data\":{\"histogram2dcontour\":[{\"type\":\"histogram2dcontour\",\"colorbar\":{\"outlinewidth\":0,\"ticks\":\"\"},\"colorscale\":[[0.0,\"#0d0887\"],[0.1111111111111111,\"#46039f\"],[0.2222222222222222,\"#7201a8\"],[0.3333333333333333,\"#9c179e\"],[0.4444444444444444,\"#bd3786\"],[0.5555555555555556,\"#d8576b\"],[0.6666666666666666,\"#ed7953\"],[0.7777777777777778,\"#fb9f3a\"],[0.8888888888888888,\"#fdca26\"],[1.0,\"#f0f921\"]]}],\"choropleth\":[{\"type\":\"choropleth\",\"colorbar\":{\"outlinewidth\":0,\"ticks\":\"\"}}],\"histogram2d\":[{\"type\":\"histogram2d\",\"colorbar\":{\"outlinewidth\":0,\"ticks\":\"\"},\"colorscale\":[[0.0,\"#0d0887\"],[0.1111111111111111,\"#46039f\"],[0.2222222222222222,\"#7201a8\"],[0.3333333333333333,\"#9c179e\"],[0.4444444444444444,\"#bd3786\"],[0.5555555555555556,\"#d8576b\"],[0.6666666666666666,\"#ed7953\"],[0.7777777777777778,\"#fb9f3a\"],[0.8888888888888888,\"#fdca26\"],[1.0,\"#f0f921\"]]}],\"heatmap\":[{\"type\":\"heatmap\",\"colorbar\":{\"outlinewidth\":0,\"ticks\":\"\"},\"colorscale\":[[0.0,\"#0d0887\"],[0.1111111111111111,\"#46039f\"],[0.2222222222222222,\"#7201a8\"],[0.3333333333333333,\"#9c179e\"],[0.4444444444444444,\"#bd3786\"],[0.5555555555555556,\"#d8576b\"],[0.6666666666666666,\"#ed7953\"],[0.7777777777777778,\"#fb9f3a\"],[0.8888888888888888,\"#fdca26\"],[1.0,\"#f0f921\"]]}],\"heatmapgl\":[{\"type\":\"heatmapgl\",\"colorbar\":{\"outlinewidth\":0,\"ticks\":\"\"},\"colorscale\":[[0.0,\"#0d0887\"],[0.1111111111111111,\"#46039f\"],[0.2222222222222222,\"#7201a8\"],[0.3333333333333333,\"#9c179e\"],[0.4444444444444444,\"#bd3786\"],[0.5555555555555556,\"#d8576b\"],[0.6666666666666666,\"#ed7953\"],[0.7777777777777778,\"#fb9f3a\"],[0.8888888888888888,\"#fdca26\"],[1.0,\"#f0f921\"]]}],\"contourcarpet\":[{\"type\":\"contourcarpet\",\"colorbar\":{\"outlinewidth\":0,\"ticks\":\"\"}}],\"contour\":[{\"type\":\"contour\",\"colorbar\":{\"outlinewidth\":0,\"ticks\":\"\"},\"colorscale\":[[0.0,\"#0d0887\"],[0.1111111111111111,\"#46039f\"],[0.2222222222222222,\"#7201a8\"],[0.3333333333333333,\"#9c179e\"],[0.4444444444444444,\"#bd3786\"],[0.5555555555555556,\"#d8576b\"],[0.6666666666666666,\"#ed7953\"],[0.7777777777777778,\"#fb9f3a\"],[0.8888888888888888,\"#fdca26\"],[1.0,\"#f0f921\"]]}],\"surface\":[{\"type\":\"surface\",\"colorbar\":{\"outlinewidth\":0,\"ticks\":\"\"},\"colorscale\":[[0.0,\"#0d0887\"],[0.1111111111111111,\"#46039f\"],[0.2222222222222222,\"#7201a8\"],[0.3333333333333333,\"#9c179e\"],[0.4444444444444444,\"#bd3786\"],[0.5555555555555556,\"#d8576b\"],[0.6666666666666666,\"#ed7953\"],[0.7777777777777778,\"#fb9f3a\"],[0.8888888888888888,\"#fdca26\"],[1.0,\"#f0f921\"]]}],\"mesh3d\":[{\"type\":\"mesh3d\",\"colorbar\":{\"outlinewidth\":0,\"ticks\":\"\"}}],\"scatter\":[{\"fillpattern\":{\"fillmode\":\"overlay\",\"size\":10,\"solidity\":0.2},\"type\":\"scatter\"}],\"parcoords\":[{\"type\":\"parcoords\",\"line\":{\"colorbar\":{\"outlinewidth\":0,\"ticks\":\"\"}}}],\"scatterpolargl\":[{\"type\":\"scatterpolargl\",\"marker\":{\"colorbar\":{\"outlinewidth\":0,\"ticks\":\"\"}}}],\"bar\":[{\"error_x\":{\"color\":\"#2a3f5f\"},\"error_y\":{\"color\":\"#2a3f5f\"},\"marker\":{\"line\":{\"color\":\"#E5ECF6\",\"width\":0.5},\"pattern\":{\"fillmode\":\"overlay\",\"size\":10,\"solidity\":0.2}},\"type\":\"bar\"}],\"scattergeo\":[{\"type\":\"scattergeo\",\"marker\":{\"colorbar\":{\"outlinewidth\":0,\"ticks\":\"\"}}}],\"scatterpolar\":[{\"type\":\"scatterpolar\",\"marker\":{\"colorbar\":{\"outlinewidth\":0,\"ticks\":\"\"}}}],\"histogram\":[{\"marker\":{\"pattern\":{\"fillmode\":\"overlay\",\"size\":10,\"solidity\":0.2}},\"type\":\"histogram\"}],\"scattergl\":[{\"type\":\"scattergl\",\"marker\":{\"colorbar\":{\"outlinewidth\":0,\"ticks\":\"\"}}}],\"scatter3d\":[{\"type\":\"scatter3d\",\"line\":{\"colorbar\":{\"outlinewidth\":0,\"ticks\":\"\"}},\"marker\":{\"colorbar\":{\"outlinewidth\":0,\"ticks\":\"\"}}}],\"scattermapbox\":[{\"type\":\"scattermapbox\",\"marker\":{\"colorbar\":{\"outlinewidth\":0,\"ticks\":\"\"}}}],\"scatterternary\":[{\"type\":\"scatterternary\",\"marker\":{\"colorbar\":{\"outlinewidth\":0,\"ticks\":\"\"}}}],\"scattercarpet\":[{\"type\":\"scattercarpet\",\"marker\":{\"colorbar\":{\"outlinewidth\":0,\"ticks\":\"\"}}}],\"carpet\":[{\"aaxis\":{\"endlinecolor\":\"#2a3f5f\",\"gridcolor\":\"white\",\"linecolor\":\"white\",\"minorgridcolor\":\"white\",\"startlinecolor\":\"#2a3f5f\"},\"baxis\":{\"endlinecolor\":\"#2a3f5f\",\"gridcolor\":\"white\",\"linecolor\":\"white\",\"minorgridcolor\":\"white\",\"startlinecolor\":\"#2a3f5f\"},\"type\":\"carpet\"}],\"table\":[{\"cells\":{\"fill\":{\"color\":\"#EBF0F8\"},\"line\":{\"color\":\"white\"}},\"header\":{\"fill\":{\"color\":\"#C8D4E3\"},\"line\":{\"color\":\"white\"}},\"type\":\"table\"}],\"barpolar\":[{\"marker\":{\"line\":{\"color\":\"#E5ECF6\",\"width\":0.5},\"pattern\":{\"fillmode\":\"overlay\",\"size\":10,\"solidity\":0.2}},\"type\":\"barpolar\"}],\"pie\":[{\"automargin\":true,\"type\":\"pie\"}]},\"layout\":{\"autotypenumbers\":\"strict\",\"colorway\":[\"#636efa\",\"#EF553B\",\"#00cc96\",\"#ab63fa\",\"#FFA15A\",\"#19d3f3\",\"#FF6692\",\"#B6E880\",\"#FF97FF\",\"#FECB52\"],\"font\":{\"color\":\"#2a3f5f\"},\"hovermode\":\"closest\",\"hoverlabel\":{\"align\":\"left\"},\"paper_bgcolor\":\"white\",\"plot_bgcolor\":\"#E5ECF6\",\"polar\":{\"bgcolor\":\"#E5ECF6\",\"angularaxis\":{\"gridcolor\":\"white\",\"linecolor\":\"white\",\"ticks\":\"\"},\"radialaxis\":{\"gridcolor\":\"white\",\"linecolor\":\"white\",\"ticks\":\"\"}},\"ternary\":{\"bgcolor\":\"#E5ECF6\",\"aaxis\":{\"gridcolor\":\"white\",\"linecolor\":\"white\",\"ticks\":\"\"},\"baxis\":{\"gridcolor\":\"white\",\"linecolor\":\"white\",\"ticks\":\"\"},\"caxis\":{\"gridcolor\":\"white\",\"linecolor\":\"white\",\"ticks\":\"\"}},\"coloraxis\":{\"colorbar\":{\"outlinewidth\":0,\"ticks\":\"\"}},\"colorscale\":{\"sequential\":[[0.0,\"#0d0887\"],[0.1111111111111111,\"#46039f\"],[0.2222222222222222,\"#7201a8\"],[0.3333333333333333,\"#9c179e\"],[0.4444444444444444,\"#bd3786\"],[0.5555555555555556,\"#d8576b\"],[0.6666666666666666,\"#ed7953\"],[0.7777777777777778,\"#fb9f3a\"],[0.8888888888888888,\"#fdca26\"],[1.0,\"#f0f921\"]],\"sequentialminus\":[[0.0,\"#0d0887\"],[0.1111111111111111,\"#46039f\"],[0.2222222222222222,\"#7201a8\"],[0.3333333333333333,\"#9c179e\"],[0.4444444444444444,\"#bd3786\"],[0.5555555555555556,\"#d8576b\"],[0.6666666666666666,\"#ed7953\"],[0.7777777777777778,\"#fb9f3a\"],[0.8888888888888888,\"#fdca26\"],[1.0,\"#f0f921\"]],\"diverging\":[[0,\"#8e0152\"],[0.1,\"#c51b7d\"],[0.2,\"#de77ae\"],[0.3,\"#f1b6da\"],[0.4,\"#fde0ef\"],[0.5,\"#f7f7f7\"],[0.6,\"#e6f5d0\"],[0.7,\"#b8e186\"],[0.8,\"#7fbc41\"],[0.9,\"#4d9221\"],[1,\"#276419\"]]},\"xaxis\":{\"gridcolor\":\"white\",\"linecolor\":\"white\",\"ticks\":\"\",\"title\":{\"standoff\":15},\"zerolinecolor\":\"white\",\"automargin\":true,\"zerolinewidth\":2},\"yaxis\":{\"gridcolor\":\"white\",\"linecolor\":\"white\",\"ticks\":\"\",\"title\":{\"standoff\":15},\"zerolinecolor\":\"white\",\"automargin\":true,\"zerolinewidth\":2},\"scene\":{\"xaxis\":{\"backgroundcolor\":\"#E5ECF6\",\"gridcolor\":\"white\",\"linecolor\":\"white\",\"showbackground\":true,\"ticks\":\"\",\"zerolinecolor\":\"white\",\"gridwidth\":2},\"yaxis\":{\"backgroundcolor\":\"#E5ECF6\",\"gridcolor\":\"white\",\"linecolor\":\"white\",\"showbackground\":true,\"ticks\":\"\",\"zerolinecolor\":\"white\",\"gridwidth\":2},\"zaxis\":{\"backgroundcolor\":\"#E5ECF6\",\"gridcolor\":\"white\",\"linecolor\":\"white\",\"showbackground\":true,\"ticks\":\"\",\"zerolinecolor\":\"white\",\"gridwidth\":2}},\"shapedefaults\":{\"line\":{\"color\":\"#2a3f5f\"}},\"annotationdefaults\":{\"arrowcolor\":\"#2a3f5f\",\"arrowhead\":0,\"arrowwidth\":1},\"geo\":{\"bgcolor\":\"white\",\"landcolor\":\"#E5ECF6\",\"subunitcolor\":\"white\",\"showland\":true,\"showlakes\":true,\"lakecolor\":\"white\"},\"title\":{\"x\":0.05},\"mapbox\":{\"style\":\"light\"}}},\"xaxis\":{\"showgrid\":false,\"zeroline\":false,\"tickmode\":\"array\",\"tickvals\":[]},\"yaxis\":{\"showgrid\":false,\"zeroline\":false,\"tickmode\":\"array\",\"tickvals\":[],\"range\":[9.5,-0.5]},\"margin\":{\"l\":0,\"r\":0,\"t\":0,\"b\":0},\"modebar\":{\"remove\":[\"toimage\",\"select\",\"lasso\",\"zoomin\",\"zoomout\"],\"orientation\":\"v\"}},                        {\"responsive\": true}                    ).then(function(){\n",
       "                            \n",
       "var gd = document.getElementById('27646809-4705-4d03-8a1b-01d8cb9c7001');\n",
       "var x = new MutationObserver(function (mutations, observer) {{\n",
       "        var display = window.getComputedStyle(gd).display;\n",
       "        if (!display || display === 'none') {{\n",
       "            console.log([gd, 'removed!']);\n",
       "            Plotly.purge(gd);\n",
       "            observer.disconnect();\n",
       "        }}\n",
       "}});\n",
       "\n",
       "// Listen for the removal of the full notebook cells\n",
       "var notebookContainer = gd.closest('#notebook-container');\n",
       "if (notebookContainer) {{\n",
       "    x.observe(notebookContainer, {childList: true});\n",
       "}}\n",
       "\n",
       "// Listen for the clearing of the current output cell\n",
       "var outputEl = gd.closest('.output');\n",
       "if (outputEl) {{\n",
       "    x.observe(outputEl, {childList: true});\n",
       "}}\n",
       "\n",
       "                        })                };                });            </script>        </div>"
      ]
     },
     "metadata": {},
     "output_type": "display_data"
    }
   ],
   "source": [
    "random.seed(2)\n",
    "g2 = create_random_sample_graph(10,11)\n",
    "SemiCircleViewer(g2).draw()"
   ]
  },
  {
   "cell_type": "markdown",
   "metadata": {},
   "source": [
    "## Step 1: Create potential overlap matrix\n",
    "* Square matrix `A` with number of rows and columns equal to number of skip connections\n",
    "* Each row of `A` represents a skip connection already placed\n",
    "* Each column of `A` represents a skip connection about to be placed\n",
    "* `A[i,j]` is the number of intersections when connection `i` is placed **inside** connection `j`\n",
    "  * `A` will contain 0's, 1's and 2's. The 1's will be symmetric w.r.t. transpose operation\n",
    "  * Connections with many 2's in **rows** should typically be placed far from the nodes. \n",
    "  * Connections with low total row counts should typically be placed close to the nodes\n",
    "  * The sum over a row in `A` is the cost (number of intersections) of placing the connection closest to the nodes \n",
    "  * The sum over a column in `A` is the cost (number of intersections) of placing the connection furthest from the nodes "
   ]
  },
  {
   "cell_type": "code",
   "execution_count": 50,
   "metadata": {},
   "outputs": [],
   "source": [
    "def is_skip_connection(c:MavConnection, g:MavGraph):\n",
    "    n0, n1 = c.from_node, c.to_node\n",
    "    x0, y0, x1, y1 = n0.x, n0.y, n1.x, n1.y\n",
    "    if x0 != x1: return False\n",
    "    nodes_on_line = [n for n in g.nodes if n.x == x0]  # Perform 1st check on all nodes\n",
    "    nodes_on_segment = [n for n in nodes_on_line if n.y > y0 and n.y < y1]  # Perform 2nd and 3rd checks on subset of nodes\n",
    "    return True if nodes_on_segment else False"
   ]
  },
  {
   "cell_type": "code",
   "execution_count": 89,
   "metadata": {},
   "outputs": [
    {
     "data": {
      "text/plain": [
       "[(0, 4), (0, 9), (1, 5), (2, 4), (2, 6), (3, 9), (4, 9), (5, 8), (6, 8)]"
      ]
     },
     "execution_count": 89,
     "metadata": {},
     "output_type": "execute_result"
    }
   ],
   "source": [
    "g = g2\n",
    "targ_x = 0  # Value at which to process the vertical connections\n",
    "skip_connections = [c for c in g.connections if c.from_node.x == targ_x and c.to_node.x == targ_x and is_skip_connection(c, g)]\n",
    "[(c.from_node.y, c.to_node.y) for c in skip_connections]"
   ]
  },
  {
   "cell_type": "code",
   "execution_count": 90,
   "metadata": {},
   "outputs": [
    {
     "data": {
      "text/plain": [
       "array([[0., 0., 1., 1., 1., 1., 0., 0., 0.],\n",
       "       [1., 0., 2., 2., 2., 1., 1., 2., 2.],\n",
       "       [1., 0., 0., 2., 1., 1., 1., 0., 0.],\n",
       "       [0., 0., 0., 0., 0., 1., 0., 0., 0.],\n",
       "       [1., 0., 1., 1., 0., 1., 1., 1., 0.],\n",
       "       [1., 0., 1., 1., 1., 0., 1., 2., 2.],\n",
       "       [0., 0., 1., 0., 1., 0., 0., 2., 2.],\n",
       "       [0., 0., 0., 0., 1., 0., 0., 0., 1.],\n",
       "       [0., 0., 0., 0., 0., 0., 0., 0., 0.]])"
      ]
     },
     "execution_count": 90,
     "metadata": {},
     "output_type": "execute_result"
    }
   ],
   "source": [
    "num_skip_connections = len(skip_connections)\n",
    "A = np.zeros((num_skip_connections, num_skip_connections))\n",
    "\n",
    "for i0,c0 in enumerate(skip_connections):\n",
    "    y0_from, y0_to = c0.from_node.y, c0.to_node.y\n",
    "    for i1,c1 in enumerate(skip_connections):\n",
    "        if i1==i0: continue\n",
    "        y1_from, y1_to = c1.from_node.y, c1.to_node.y\n",
    "        if y1_from > y0_from and y1_from < y0_to: A[i0,i1] += 1\n",
    "        if y1_to > y0_from and y1_to < y0_to: A[i0,i1] += 1\n",
    "A\n"
   ]
  },
  {
   "cell_type": "code",
   "execution_count": 91,
   "metadata": {},
   "outputs": [],
   "source": [
    "reload_imports()"
   ]
  },
  {
   "cell_type": "code",
   "execution_count": 93,
   "metadata": {},
   "outputs": [
    {
     "data": {
      "application/vnd.plotly.v1+json": {
       "config": {
        "plotlyServerURL": "https://plot.ly"
       },
       "data": [
        {
         "customdata": [
          [
           "0",
           [
            490,
            700,
            280
           ],
           1760,
           2130
          ],
          [
           "1",
           [
            930,
            850,
            940
           ],
           6900,
           8480
          ],
          [
           "2",
           [
            670,
            300,
            260
           ],
           6720,
           7130
          ],
          [
           "3",
           [
            970,
            550,
            330
           ],
           2690,
           8410
          ],
          [
           "4",
           [
            570,
            240,
            580
           ],
           8110,
           4770
          ],
          [
           "5",
           [
            570,
            960,
            600
           ],
           3150,
           3980
          ],
          [
           "6",
           [
            630,
            900,
            930
           ],
           8090,
           2140
          ],
          [
           "7",
           [
            340,
            650,
            80
           ],
           1870,
           5970
          ],
          [
           "8",
           [
            240,
            420,
            100
           ],
           7310,
           2190
          ],
          [
           "9",
           [
            990,
            490,
            250
           ],
           9340,
           8920
          ]
         ],
         "hovertemplate": "Name: %{customdata[0]}<br>Activations: %{customdata[1]}<br>Parameters: %{customdata[2]}<br>FLOPS: %{customdata[3]}",
         "marker": {
          "color": [
           3.3283796034387376,
           3.9283958522567137,
           3.8530895298518657,
           3.924795995797912,
           3.678518379040114,
           3.5998830720736876,
           3.330413773349191,
           3.775974331129369,
           3.3404441148401185,
           3.950364854376123
          ],
          "colorscale": [
           [
            0,
            "rgb(0,0,255)"
           ],
           [
            1,
            "rgb(255,0,0)"
           ]
          ],
          "size": [
           10.73653800344245,
           12.516547272211765,
           12.482107819161476,
           11.289256840007225,
           12.727062562633467,
           11.4949316613688,
           12.723845564836816,
           10.815524819609497,
           12.59175213087358,
           12.91104062869028
          ]
         },
         "mode": "markers",
         "showlegend": false,
         "type": "scatter",
         "x": [
          0,
          0,
          0,
          0,
          0,
          0,
          0,
          0,
          0,
          0
         ],
         "y": [
          0,
          1,
          2,
          3,
          4,
          5,
          6,
          7,
          8,
          9
         ]
        },
        {
         "hoverinfo": "skip",
         "hovertemplate": "Connection 0<br>Nodes: 0-1<br><extra></extra>",
         "line": {
          "color": "gray",
          "width": 1
         },
         "mode": "lines",
         "showlegend": false,
         "type": "scatter",
         "x": [
          0,
          0,
          0
         ],
         "y": [
          0,
          0.5,
          1
         ]
        },
        {
         "hoverinfo": "skip",
         "hovertemplate": "Connection 1<br>Nodes: 0-4<br><extra></extra>",
         "line": {
          "color": "gray",
          "width": 1
         },
         "mode": "lines",
         "showlegend": false,
         "type": "scatter",
         "x": [
          1.2246467991473532e-16,
          0.32918918056146795,
          0.6493989384093671,
          0.9518947860741472,
          1.2284254253793356,
          1.4714478213462634,
          1.674332956525057,
          1.8315466533101148,
          1.9388005318786607,
          1.9931689860133397,
          1.9931689860133397,
          1.9388005318786607,
          1.831546653310115,
          1.6743329565250573,
          1.4714478213462634,
          1.2284254253793359,
          0.9518947860741472,
          0.6493989384093671,
          0.32918918056146795,
          1.2246467991473532e-16
         ],
         "y": [
          4,
          3.9727226068054446,
          3.891634483401269,
          3.758947502412978,
          3.5782810187927874,
          3.3545631432514824,
          3.093896316244854,
          2.8033908493059387,
          2.4909709742815984,
          2.1651586909446645,
          1.8348413090553353,
          1.5090290257184016,
          1.1966091506940613,
          0.9061036837551466,
          0.645436856748518,
          0.42171898120721285,
          0.24105249758702207,
          0.10836551659873073,
          0.027277393194555355,
          0
         ]
        },
        {
         "hoverinfo": "skip",
         "hovertemplate": "Connection 2<br>Nodes: 0-9<br><extra></extra>",
         "line": {
          "color": "gray",
          "width": 1
         },
         "mode": "lines",
         "showlegend": false,
         "type": "scatter",
         "x": [
          2.755455298081545e-16,
          0.7406756562633029,
          1.461147611421076,
          2.141763268666831,
          2.763957207103505,
          3.3107575980290926,
          3.7672491521813782,
          4.120979969947758,
          4.362301196726987,
          4.484630218530015,
          4.484630218530015,
          4.362301196726987,
          4.120979969947759,
          3.767249152181379,
          3.3107575980290926,
          2.7639572071035055,
          2.141763268666831,
          1.461147611421076,
          0.7406756562633029,
          2.755455298081545e-16
         ],
         "y": [
          9,
          8.93862586531225,
          8.756177587652857,
          8.4576318804292,
          8.051132292283771,
          7.547767072315835,
          6.9612667115509215,
          6.307629410938363,
          5.604684692133596,
          4.871607054625495,
          4.128392945374505,
          3.3953153078664036,
          2.692370589061638,
          2.03873328844908,
          1.4522329276841655,
          0.9488677077162291,
          0.5423681195707997,
          0.24382241234714375,
          0.06137413468774966,
          0
         ]
        },
        {
         "hoverinfo": "skip",
         "hovertemplate": "Connection 3<br>Nodes: 1-5<br><extra></extra>",
         "line": {
          "color": "gray",
          "width": 1
         },
         "mode": "lines",
         "showlegend": false,
         "type": "scatter",
         "x": [
          1.2246467991473532e-16,
          0.32918918056146795,
          0.6493989384093671,
          0.9518947860741472,
          1.2284254253793356,
          1.4714478213462634,
          1.674332956525057,
          1.8315466533101148,
          1.9388005318786607,
          1.9931689860133397,
          1.9931689860133397,
          1.9388005318786607,
          1.831546653310115,
          1.6743329565250573,
          1.4714478213462634,
          1.2284254253793359,
          0.9518947860741472,
          0.6493989384093671,
          0.32918918056146795,
          1.2246467991473532e-16
         ],
         "y": [
          5,
          4.972722606805444,
          4.891634483401269,
          4.758947502412978,
          4.578281018792787,
          4.354563143251482,
          4.093896316244853,
          3.8033908493059387,
          3.4909709742815984,
          3.1651586909446645,
          2.8348413090553355,
          2.5090290257184016,
          2.1966091506940613,
          1.9061036837551466,
          1.645436856748518,
          1.4217189812072129,
          1.241052497587022,
          1.1083655165987307,
          1.0272773931945554,
          1
         ]
        },
        {
         "hoverinfo": "skip",
         "hovertemplate": "Connection 4<br>Nodes: 2-4<br><extra></extra>",
         "line": {
          "color": "gray",
          "width": 1
         },
         "mode": "lines",
         "showlegend": false,
         "type": "scatter",
         "x": [
          6.123233995736766e-17,
          0.16459459028073398,
          0.32469946920468357,
          0.4759473930370736,
          0.6142127126896678,
          0.7357239106731317,
          0.8371664782625285,
          0.9157733266550574,
          0.9694002659393304,
          0.9965844930066698,
          0.9965844930066698,
          0.9694002659393304,
          0.9157733266550575,
          0.8371664782625287,
          0.7357239106731317,
          0.6142127126896679,
          0.4759473930370736,
          0.32469946920468357,
          0.16459459028073398,
          6.123233995736766e-17
         ],
         "y": [
          4,
          3.986361303402722,
          3.9458172417006345,
          3.879473751206489,
          3.7891405093963937,
          3.677281571625741,
          3.5469481581224267,
          3.4016954246529694,
          3.245485487140799,
          3.0825793454723325,
          2.9174206545276675,
          2.754514512859201,
          2.5983045753470306,
          2.4530518418775733,
          2.322718428374259,
          2.2108594906036063,
          2.120526248793511,
          2.0541827582993655,
          2.013638696597278,
          2
         ]
        },
        {
         "hoverinfo": "skip",
         "hovertemplate": "Connection 5<br>Nodes: 2-6<br><extra></extra>",
         "line": {
          "color": "gray",
          "width": 1
         },
         "mode": "lines",
         "showlegend": false,
         "type": "scatter",
         "x": [
          1.2246467991473532e-16,
          0.32918918056146795,
          0.6493989384093671,
          0.9518947860741472,
          1.2284254253793356,
          1.4714478213462634,
          1.674332956525057,
          1.8315466533101148,
          1.9388005318786607,
          1.9931689860133397,
          1.9931689860133397,
          1.9388005318786607,
          1.831546653310115,
          1.6743329565250573,
          1.4714478213462634,
          1.2284254253793359,
          0.9518947860741472,
          0.6493989384093671,
          0.32918918056146795,
          1.2246467991473532e-16
         ],
         "y": [
          6,
          5.972722606805444,
          5.891634483401269,
          5.758947502412978,
          5.578281018792787,
          5.354563143251482,
          5.093896316244853,
          4.803390849305939,
          4.490970974281598,
          4.165158690944665,
          3.8348413090553355,
          3.5090290257184016,
          3.1966091506940613,
          2.9061036837551466,
          2.645436856748518,
          2.4217189812072126,
          2.241052497587022,
          2.108365516598731,
          2.0272773931945554,
          2
         ]
        },
        {
         "hoverinfo": "skip",
         "hovertemplate": "Connection 6<br>Nodes: 3-9<br><extra></extra>",
         "line": {
          "color": "gray",
          "width": 1
         },
         "mode": "lines",
         "showlegend": false,
         "type": "scatter",
         "x": [
          1.8369701987210297e-16,
          0.49378377084220193,
          0.9740984076140506,
          1.4278421791112208,
          1.8426381380690033,
          2.207171732019395,
          2.5114994347875856,
          2.747319979965172,
          2.908200797817991,
          2.9897534790200098,
          2.9897534790200098,
          2.908200797817991,
          2.7473199799651726,
          2.511499434787586,
          2.207171732019395,
          1.8426381380690038,
          1.4278421791112208,
          0.9740984076140506,
          0.49378377084220193,
          1.8369701987210297e-16
         ],
         "y": [
          9,
          8.959083910208168,
          8.837451725101904,
          8.638421253619466,
          8.36742152818918,
          8.031844714877224,
          7.640844474367281,
          7.2050862739589085,
          6.736456461422398,
          6.247738036416997,
          5.752261963583003,
          5.263543538577602,
          4.794913726041092,
          4.35915552563272,
          3.9681552851227773,
          3.6325784718108194,
          3.361578746380533,
          3.162548274898096,
          3.040916089791833,
          3
         ]
        },
        {
         "hoverinfo": "skip",
         "hovertemplate": "Connection 7<br>Nodes: 4-9<br><extra></extra>",
         "line": {
          "color": "gray",
          "width": 1
         },
         "mode": "lines",
         "showlegend": false,
         "type": "scatter",
         "x": [
          1.5308084989341916e-16,
          0.41148647570183494,
          0.8117486730117089,
          1.189868482592684,
          1.5355317817241696,
          1.8393097766828292,
          2.092916195656321,
          2.2894333166376435,
          2.423500664848326,
          2.4914612325166745,
          2.4914612325166745,
          2.423500664848326,
          2.289433316637644,
          2.0929161956563216,
          1.8393097766828292,
          1.5355317817241698,
          1.189868482592684,
          0.8117486730117089,
          0.41148647570183494,
          1.5308084989341916e-16
         ],
         "y": [
          9,
          8.965903258506806,
          8.864543104251586,
          8.698684378016223,
          8.472851273490985,
          8.193203929064353,
          7.867370395306067,
          7.504238561632423,
          7.113713717851998,
          6.706448363680831,
          6.293551636319169,
          5.886286282148002,
          5.495761438367577,
          5.132629604693934,
          4.806796070935647,
          4.527148726509016,
          4.301315621983777,
          4.135456895748414,
          4.034096741493194,
          4
         ]
        },
        {
         "hoverinfo": "skip",
         "hovertemplate": "Connection 8<br>Nodes: 5-8<br><extra></extra>",
         "line": {
          "color": "gray",
          "width": 1
         },
         "mode": "lines",
         "showlegend": false,
         "type": "scatter",
         "x": [
          9.184850993605148e-17,
          0.24689188542110097,
          0.4870492038070253,
          0.7139210895556104,
          0.9213190690345017,
          1.1035858660096975,
          1.2557497173937928,
          1.373659989982586,
          1.4541003989089956,
          1.4948767395100049,
          1.4948767395100049,
          1.4541003989089956,
          1.3736599899825863,
          1.255749717393793,
          1.1035858660096975,
          0.9213190690345019,
          0.7139210895556104,
          0.4870492038070253,
          0.24689188542110097,
          9.184850993605148e-17
         ],
         "y": [
          8,
          7.979541955104084,
          7.918725862550952,
          7.819210626809733,
          7.68371076409459,
          7.515922357438612,
          7.3204222371836405,
          7.102543136979454,
          6.868228230711199,
          6.623869018208499,
          6.376130981791501,
          6.131771769288801,
          5.897456863020546,
          5.6795777628163595,
          5.484077642561388,
          5.31628923590541,
          5.180789373190267,
          5.081274137449048,
          5.020458044895916,
          5
         ]
        },
        {
         "hoverinfo": "skip",
         "hovertemplate": "Connection 9<br>Nodes: 6-8<br><extra></extra>",
         "line": {
          "color": "gray",
          "width": 1
         },
         "mode": "lines",
         "showlegend": false,
         "type": "scatter",
         "x": [
          6.123233995736766e-17,
          0.16459459028073398,
          0.32469946920468357,
          0.4759473930370736,
          0.6142127126896678,
          0.7357239106731317,
          0.8371664782625285,
          0.9157733266550574,
          0.9694002659393304,
          0.9965844930066698,
          0.9965844930066698,
          0.9694002659393304,
          0.9157733266550575,
          0.8371664782625287,
          0.7357239106731317,
          0.6142127126896679,
          0.4759473930370736,
          0.32469946920468357,
          0.16459459028073398,
          6.123233995736766e-17
         ],
         "y": [
          8,
          7.986361303402722,
          7.9458172417006345,
          7.879473751206489,
          7.789140509396393,
          7.677281571625741,
          7.546948158122427,
          7.40169542465297,
          7.245485487140799,
          7.0825793454723325,
          6.9174206545276675,
          6.754514512859201,
          6.598304575347031,
          6.453051841877573,
          6.322718428374259,
          6.210859490603607,
          6.120526248793511,
          6.0541827582993655,
          6.013638696597278,
          6
         ]
        },
        {
         "hoverinfo": "skip",
         "hovertemplate": "Connection 10<br>Nodes: 7-8<br><extra></extra>",
         "line": {
          "color": "gray",
          "width": 1
         },
         "mode": "lines",
         "showlegend": false,
         "type": "scatter",
         "x": [
          0,
          0,
          0
         ],
         "y": [
          7,
          7.5,
          8
         ]
        }
       ],
       "layout": {
        "height": 300,
        "margin": {
         "b": 0,
         "l": 0,
         "r": 0,
         "t": 0
        },
        "modebar": {
         "orientation": "v",
         "remove": [
          "toimage",
          "select",
          "lasso",
          "zoomin",
          "zoomout"
         ]
        },
        "template": {
         "data": {
          "bar": [
           {
            "error_x": {
             "color": "#2a3f5f"
            },
            "error_y": {
             "color": "#2a3f5f"
            },
            "marker": {
             "line": {
              "color": "#E5ECF6",
              "width": 0.5
             },
             "pattern": {
              "fillmode": "overlay",
              "size": 10,
              "solidity": 0.2
             }
            },
            "type": "bar"
           }
          ],
          "barpolar": [
           {
            "marker": {
             "line": {
              "color": "#E5ECF6",
              "width": 0.5
             },
             "pattern": {
              "fillmode": "overlay",
              "size": 10,
              "solidity": 0.2
             }
            },
            "type": "barpolar"
           }
          ],
          "carpet": [
           {
            "aaxis": {
             "endlinecolor": "#2a3f5f",
             "gridcolor": "white",
             "linecolor": "white",
             "minorgridcolor": "white",
             "startlinecolor": "#2a3f5f"
            },
            "baxis": {
             "endlinecolor": "#2a3f5f",
             "gridcolor": "white",
             "linecolor": "white",
             "minorgridcolor": "white",
             "startlinecolor": "#2a3f5f"
            },
            "type": "carpet"
           }
          ],
          "choropleth": [
           {
            "colorbar": {
             "outlinewidth": 0,
             "ticks": ""
            },
            "type": "choropleth"
           }
          ],
          "contour": [
           {
            "colorbar": {
             "outlinewidth": 0,
             "ticks": ""
            },
            "colorscale": [
             [
              0,
              "#0d0887"
             ],
             [
              0.1111111111111111,
              "#46039f"
             ],
             [
              0.2222222222222222,
              "#7201a8"
             ],
             [
              0.3333333333333333,
              "#9c179e"
             ],
             [
              0.4444444444444444,
              "#bd3786"
             ],
             [
              0.5555555555555556,
              "#d8576b"
             ],
             [
              0.6666666666666666,
              "#ed7953"
             ],
             [
              0.7777777777777778,
              "#fb9f3a"
             ],
             [
              0.8888888888888888,
              "#fdca26"
             ],
             [
              1,
              "#f0f921"
             ]
            ],
            "type": "contour"
           }
          ],
          "contourcarpet": [
           {
            "colorbar": {
             "outlinewidth": 0,
             "ticks": ""
            },
            "type": "contourcarpet"
           }
          ],
          "heatmap": [
           {
            "colorbar": {
             "outlinewidth": 0,
             "ticks": ""
            },
            "colorscale": [
             [
              0,
              "#0d0887"
             ],
             [
              0.1111111111111111,
              "#46039f"
             ],
             [
              0.2222222222222222,
              "#7201a8"
             ],
             [
              0.3333333333333333,
              "#9c179e"
             ],
             [
              0.4444444444444444,
              "#bd3786"
             ],
             [
              0.5555555555555556,
              "#d8576b"
             ],
             [
              0.6666666666666666,
              "#ed7953"
             ],
             [
              0.7777777777777778,
              "#fb9f3a"
             ],
             [
              0.8888888888888888,
              "#fdca26"
             ],
             [
              1,
              "#f0f921"
             ]
            ],
            "type": "heatmap"
           }
          ],
          "heatmapgl": [
           {
            "colorbar": {
             "outlinewidth": 0,
             "ticks": ""
            },
            "colorscale": [
             [
              0,
              "#0d0887"
             ],
             [
              0.1111111111111111,
              "#46039f"
             ],
             [
              0.2222222222222222,
              "#7201a8"
             ],
             [
              0.3333333333333333,
              "#9c179e"
             ],
             [
              0.4444444444444444,
              "#bd3786"
             ],
             [
              0.5555555555555556,
              "#d8576b"
             ],
             [
              0.6666666666666666,
              "#ed7953"
             ],
             [
              0.7777777777777778,
              "#fb9f3a"
             ],
             [
              0.8888888888888888,
              "#fdca26"
             ],
             [
              1,
              "#f0f921"
             ]
            ],
            "type": "heatmapgl"
           }
          ],
          "histogram": [
           {
            "marker": {
             "pattern": {
              "fillmode": "overlay",
              "size": 10,
              "solidity": 0.2
             }
            },
            "type": "histogram"
           }
          ],
          "histogram2d": [
           {
            "colorbar": {
             "outlinewidth": 0,
             "ticks": ""
            },
            "colorscale": [
             [
              0,
              "#0d0887"
             ],
             [
              0.1111111111111111,
              "#46039f"
             ],
             [
              0.2222222222222222,
              "#7201a8"
             ],
             [
              0.3333333333333333,
              "#9c179e"
             ],
             [
              0.4444444444444444,
              "#bd3786"
             ],
             [
              0.5555555555555556,
              "#d8576b"
             ],
             [
              0.6666666666666666,
              "#ed7953"
             ],
             [
              0.7777777777777778,
              "#fb9f3a"
             ],
             [
              0.8888888888888888,
              "#fdca26"
             ],
             [
              1,
              "#f0f921"
             ]
            ],
            "type": "histogram2d"
           }
          ],
          "histogram2dcontour": [
           {
            "colorbar": {
             "outlinewidth": 0,
             "ticks": ""
            },
            "colorscale": [
             [
              0,
              "#0d0887"
             ],
             [
              0.1111111111111111,
              "#46039f"
             ],
             [
              0.2222222222222222,
              "#7201a8"
             ],
             [
              0.3333333333333333,
              "#9c179e"
             ],
             [
              0.4444444444444444,
              "#bd3786"
             ],
             [
              0.5555555555555556,
              "#d8576b"
             ],
             [
              0.6666666666666666,
              "#ed7953"
             ],
             [
              0.7777777777777778,
              "#fb9f3a"
             ],
             [
              0.8888888888888888,
              "#fdca26"
             ],
             [
              1,
              "#f0f921"
             ]
            ],
            "type": "histogram2dcontour"
           }
          ],
          "mesh3d": [
           {
            "colorbar": {
             "outlinewidth": 0,
             "ticks": ""
            },
            "type": "mesh3d"
           }
          ],
          "parcoords": [
           {
            "line": {
             "colorbar": {
              "outlinewidth": 0,
              "ticks": ""
             }
            },
            "type": "parcoords"
           }
          ],
          "pie": [
           {
            "automargin": true,
            "type": "pie"
           }
          ],
          "scatter": [
           {
            "fillpattern": {
             "fillmode": "overlay",
             "size": 10,
             "solidity": 0.2
            },
            "type": "scatter"
           }
          ],
          "scatter3d": [
           {
            "line": {
             "colorbar": {
              "outlinewidth": 0,
              "ticks": ""
             }
            },
            "marker": {
             "colorbar": {
              "outlinewidth": 0,
              "ticks": ""
             }
            },
            "type": "scatter3d"
           }
          ],
          "scattercarpet": [
           {
            "marker": {
             "colorbar": {
              "outlinewidth": 0,
              "ticks": ""
             }
            },
            "type": "scattercarpet"
           }
          ],
          "scattergeo": [
           {
            "marker": {
             "colorbar": {
              "outlinewidth": 0,
              "ticks": ""
             }
            },
            "type": "scattergeo"
           }
          ],
          "scattergl": [
           {
            "marker": {
             "colorbar": {
              "outlinewidth": 0,
              "ticks": ""
             }
            },
            "type": "scattergl"
           }
          ],
          "scattermapbox": [
           {
            "marker": {
             "colorbar": {
              "outlinewidth": 0,
              "ticks": ""
             }
            },
            "type": "scattermapbox"
           }
          ],
          "scatterpolar": [
           {
            "marker": {
             "colorbar": {
              "outlinewidth": 0,
              "ticks": ""
             }
            },
            "type": "scatterpolar"
           }
          ],
          "scatterpolargl": [
           {
            "marker": {
             "colorbar": {
              "outlinewidth": 0,
              "ticks": ""
             }
            },
            "type": "scatterpolargl"
           }
          ],
          "scatterternary": [
           {
            "marker": {
             "colorbar": {
              "outlinewidth": 0,
              "ticks": ""
             }
            },
            "type": "scatterternary"
           }
          ],
          "surface": [
           {
            "colorbar": {
             "outlinewidth": 0,
             "ticks": ""
            },
            "colorscale": [
             [
              0,
              "#0d0887"
             ],
             [
              0.1111111111111111,
              "#46039f"
             ],
             [
              0.2222222222222222,
              "#7201a8"
             ],
             [
              0.3333333333333333,
              "#9c179e"
             ],
             [
              0.4444444444444444,
              "#bd3786"
             ],
             [
              0.5555555555555556,
              "#d8576b"
             ],
             [
              0.6666666666666666,
              "#ed7953"
             ],
             [
              0.7777777777777778,
              "#fb9f3a"
             ],
             [
              0.8888888888888888,
              "#fdca26"
             ],
             [
              1,
              "#f0f921"
             ]
            ],
            "type": "surface"
           }
          ],
          "table": [
           {
            "cells": {
             "fill": {
              "color": "#EBF0F8"
             },
             "line": {
              "color": "white"
             }
            },
            "header": {
             "fill": {
              "color": "#C8D4E3"
             },
             "line": {
              "color": "white"
             }
            },
            "type": "table"
           }
          ]
         },
         "layout": {
          "annotationdefaults": {
           "arrowcolor": "#2a3f5f",
           "arrowhead": 0,
           "arrowwidth": 1
          },
          "autotypenumbers": "strict",
          "coloraxis": {
           "colorbar": {
            "outlinewidth": 0,
            "ticks": ""
           }
          },
          "colorscale": {
           "diverging": [
            [
             0,
             "#8e0152"
            ],
            [
             0.1,
             "#c51b7d"
            ],
            [
             0.2,
             "#de77ae"
            ],
            [
             0.3,
             "#f1b6da"
            ],
            [
             0.4,
             "#fde0ef"
            ],
            [
             0.5,
             "#f7f7f7"
            ],
            [
             0.6,
             "#e6f5d0"
            ],
            [
             0.7,
             "#b8e186"
            ],
            [
             0.8,
             "#7fbc41"
            ],
            [
             0.9,
             "#4d9221"
            ],
            [
             1,
             "#276419"
            ]
           ],
           "sequential": [
            [
             0,
             "#0d0887"
            ],
            [
             0.1111111111111111,
             "#46039f"
            ],
            [
             0.2222222222222222,
             "#7201a8"
            ],
            [
             0.3333333333333333,
             "#9c179e"
            ],
            [
             0.4444444444444444,
             "#bd3786"
            ],
            [
             0.5555555555555556,
             "#d8576b"
            ],
            [
             0.6666666666666666,
             "#ed7953"
            ],
            [
             0.7777777777777778,
             "#fb9f3a"
            ],
            [
             0.8888888888888888,
             "#fdca26"
            ],
            [
             1,
             "#f0f921"
            ]
           ],
           "sequentialminus": [
            [
             0,
             "#0d0887"
            ],
            [
             0.1111111111111111,
             "#46039f"
            ],
            [
             0.2222222222222222,
             "#7201a8"
            ],
            [
             0.3333333333333333,
             "#9c179e"
            ],
            [
             0.4444444444444444,
             "#bd3786"
            ],
            [
             0.5555555555555556,
             "#d8576b"
            ],
            [
             0.6666666666666666,
             "#ed7953"
            ],
            [
             0.7777777777777778,
             "#fb9f3a"
            ],
            [
             0.8888888888888888,
             "#fdca26"
            ],
            [
             1,
             "#f0f921"
            ]
           ]
          },
          "colorway": [
           "#636efa",
           "#EF553B",
           "#00cc96",
           "#ab63fa",
           "#FFA15A",
           "#19d3f3",
           "#FF6692",
           "#B6E880",
           "#FF97FF",
           "#FECB52"
          ],
          "font": {
           "color": "#2a3f5f"
          },
          "geo": {
           "bgcolor": "white",
           "lakecolor": "white",
           "landcolor": "#E5ECF6",
           "showlakes": true,
           "showland": true,
           "subunitcolor": "white"
          },
          "hoverlabel": {
           "align": "left"
          },
          "hovermode": "closest",
          "mapbox": {
           "style": "light"
          },
          "paper_bgcolor": "white",
          "plot_bgcolor": "#E5ECF6",
          "polar": {
           "angularaxis": {
            "gridcolor": "white",
            "linecolor": "white",
            "ticks": ""
           },
           "bgcolor": "#E5ECF6",
           "radialaxis": {
            "gridcolor": "white",
            "linecolor": "white",
            "ticks": ""
           }
          },
          "scene": {
           "xaxis": {
            "backgroundcolor": "#E5ECF6",
            "gridcolor": "white",
            "gridwidth": 2,
            "linecolor": "white",
            "showbackground": true,
            "ticks": "",
            "zerolinecolor": "white"
           },
           "yaxis": {
            "backgroundcolor": "#E5ECF6",
            "gridcolor": "white",
            "gridwidth": 2,
            "linecolor": "white",
            "showbackground": true,
            "ticks": "",
            "zerolinecolor": "white"
           },
           "zaxis": {
            "backgroundcolor": "#E5ECF6",
            "gridcolor": "white",
            "gridwidth": 2,
            "linecolor": "white",
            "showbackground": true,
            "ticks": "",
            "zerolinecolor": "white"
           }
          },
          "shapedefaults": {
           "line": {
            "color": "#2a3f5f"
           }
          },
          "ternary": {
           "aaxis": {
            "gridcolor": "white",
            "linecolor": "white",
            "ticks": ""
           },
           "baxis": {
            "gridcolor": "white",
            "linecolor": "white",
            "ticks": ""
           },
           "bgcolor": "#E5ECF6",
           "caxis": {
            "gridcolor": "white",
            "linecolor": "white",
            "ticks": ""
           }
          },
          "title": {
           "x": 0.05
          },
          "xaxis": {
           "automargin": true,
           "gridcolor": "white",
           "linecolor": "white",
           "ticks": "",
           "title": {
            "standoff": 15
           },
           "zerolinecolor": "white",
           "zerolinewidth": 2
          },
          "yaxis": {
           "automargin": true,
           "gridcolor": "white",
           "linecolor": "white",
           "ticks": "",
           "title": {
            "standoff": 15
           },
           "zerolinecolor": "white",
           "zerolinewidth": 2
          }
         }
        },
        "width": 300,
        "xaxis": {
         "showgrid": false,
         "tickmode": "array",
         "tickvals": [],
         "zeroline": false
        },
        "yaxis": {
         "range": [
          9.5,
          -0.5
         ],
         "showgrid": false,
         "tickmode": "array",
         "tickvals": [],
         "zeroline": false
        }
       }
      },
      "text/html": [
       "<div>                            <div id=\"dcab4c1b-fead-4e64-898b-60404b6369e5\" class=\"plotly-graph-div\" style=\"height:300px; width:300px;\"></div>            <script type=\"text/javascript\">                require([\"plotly\"], function(Plotly) {                    window.PLOTLYENV=window.PLOTLYENV || {};                                    if (document.getElementById(\"dcab4c1b-fead-4e64-898b-60404b6369e5\")) {                    Plotly.newPlot(                        \"dcab4c1b-fead-4e64-898b-60404b6369e5\",                        [{\"customdata\":[[\"0\",[490,700,280],1760,2130],[\"1\",[930,850,940],6900,8480],[\"2\",[670,300,260],6720,7130],[\"3\",[970,550,330],2690,8410],[\"4\",[570,240,580],8110,4770],[\"5\",[570,960,600],3150,3980],[\"6\",[630,900,930],8090,2140],[\"7\",[340,650,80],1870,5970],[\"8\",[240,420,100],7310,2190],[\"9\",[990,490,250],9340,8920]],\"hovertemplate\":\"Name: %{customdata[0]}\\u003cbr\\u003eActivations: %{customdata[1]}\\u003cbr\\u003eParameters: %{customdata[2]}\\u003cbr\\u003eFLOPS: %{customdata[3]}\",\"marker\":{\"color\":[3.3283796034387376,3.9283958522567137,3.8530895298518657,3.924795995797912,3.678518379040114,3.5998830720736876,3.330413773349191,3.775974331129369,3.3404441148401185,3.950364854376123],\"colorscale\":[[0.0,\"rgb(0,0,255)\"],[1.0,\"rgb(255,0,0)\"]],\"size\":[10.73653800344245,12.516547272211765,12.482107819161476,11.289256840007225,12.727062562633467,11.4949316613688,12.723845564836816,10.815524819609497,12.59175213087358,12.91104062869028]},\"mode\":\"markers\",\"showlegend\":false,\"x\":[0,0,0,0,0,0,0,0,0,0],\"y\":[0,1,2,3,4,5,6,7,8,9],\"type\":\"scatter\"},{\"hoverinfo\":\"skip\",\"hovertemplate\":\"Connection 0\\u003cbr\\u003eNodes: 0-1\\u003cbr\\u003e\\u003cextra\\u003e\\u003c\\u002fextra\\u003e\",\"line\":{\"color\":\"gray\",\"width\":1},\"mode\":\"lines\",\"showlegend\":false,\"x\":[0,0.0,0],\"y\":[0,0.5,1],\"type\":\"scatter\"},{\"hoverinfo\":\"skip\",\"hovertemplate\":\"Connection 1\\u003cbr\\u003eNodes: 0-4\\u003cbr\\u003e\\u003cextra\\u003e\\u003c\\u002fextra\\u003e\",\"line\":{\"color\":\"gray\",\"width\":1},\"mode\":\"lines\",\"showlegend\":false,\"x\":[1.2246467991473532e-16,0.32918918056146795,0.6493989384093671,0.9518947860741472,1.2284254253793356,1.4714478213462634,1.674332956525057,1.8315466533101148,1.9388005318786607,1.9931689860133397,1.9931689860133397,1.9388005318786607,1.831546653310115,1.6743329565250573,1.4714478213462634,1.2284254253793359,0.9518947860741472,0.6493989384093671,0.32918918056146795,1.2246467991473532e-16],\"y\":[4.0,3.9727226068054446,3.891634483401269,3.758947502412978,3.5782810187927874,3.3545631432514824,3.093896316244854,2.8033908493059387,2.4909709742815984,2.1651586909446645,1.8348413090553353,1.5090290257184016,1.1966091506940613,0.9061036837551466,0.645436856748518,0.42171898120721285,0.24105249758702207,0.10836551659873073,0.027277393194555355,0.0],\"type\":\"scatter\"},{\"hoverinfo\":\"skip\",\"hovertemplate\":\"Connection 2\\u003cbr\\u003eNodes: 0-9\\u003cbr\\u003e\\u003cextra\\u003e\\u003c\\u002fextra\\u003e\",\"line\":{\"color\":\"gray\",\"width\":1},\"mode\":\"lines\",\"showlegend\":false,\"x\":[2.755455298081545e-16,0.7406756562633029,1.461147611421076,2.141763268666831,2.763957207103505,3.3107575980290926,3.7672491521813782,4.120979969947758,4.362301196726987,4.484630218530015,4.484630218530015,4.362301196726987,4.120979969947759,3.767249152181379,3.3107575980290926,2.7639572071035055,2.141763268666831,1.461147611421076,0.7406756562633029,2.755455298081545e-16],\"y\":[9.0,8.93862586531225,8.756177587652857,8.4576318804292,8.051132292283771,7.547767072315835,6.9612667115509215,6.307629410938363,5.604684692133596,4.871607054625495,4.128392945374505,3.3953153078664036,2.692370589061638,2.03873328844908,1.4522329276841655,0.9488677077162291,0.5423681195707997,0.24382241234714375,0.06137413468774966,0.0],\"type\":\"scatter\"},{\"hoverinfo\":\"skip\",\"hovertemplate\":\"Connection 3\\u003cbr\\u003eNodes: 1-5\\u003cbr\\u003e\\u003cextra\\u003e\\u003c\\u002fextra\\u003e\",\"line\":{\"color\":\"gray\",\"width\":1},\"mode\":\"lines\",\"showlegend\":false,\"x\":[1.2246467991473532e-16,0.32918918056146795,0.6493989384093671,0.9518947860741472,1.2284254253793356,1.4714478213462634,1.674332956525057,1.8315466533101148,1.9388005318786607,1.9931689860133397,1.9931689860133397,1.9388005318786607,1.831546653310115,1.6743329565250573,1.4714478213462634,1.2284254253793359,0.9518947860741472,0.6493989384093671,0.32918918056146795,1.2246467991473532e-16],\"y\":[5.0,4.972722606805444,4.891634483401269,4.758947502412978,4.578281018792787,4.354563143251482,4.093896316244853,3.8033908493059387,3.4909709742815984,3.1651586909446645,2.8348413090553355,2.5090290257184016,2.1966091506940613,1.9061036837551466,1.645436856748518,1.4217189812072129,1.241052497587022,1.1083655165987307,1.0272773931945554,1.0],\"type\":\"scatter\"},{\"hoverinfo\":\"skip\",\"hovertemplate\":\"Connection 4\\u003cbr\\u003eNodes: 2-4\\u003cbr\\u003e\\u003cextra\\u003e\\u003c\\u002fextra\\u003e\",\"line\":{\"color\":\"gray\",\"width\":1},\"mode\":\"lines\",\"showlegend\":false,\"x\":[6.123233995736766e-17,0.16459459028073398,0.32469946920468357,0.4759473930370736,0.6142127126896678,0.7357239106731317,0.8371664782625285,0.9157733266550574,0.9694002659393304,0.9965844930066698,0.9965844930066698,0.9694002659393304,0.9157733266550575,0.8371664782625287,0.7357239106731317,0.6142127126896679,0.4759473930370736,0.32469946920468357,0.16459459028073398,6.123233995736766e-17],\"y\":[4.0,3.986361303402722,3.9458172417006345,3.879473751206489,3.7891405093963937,3.677281571625741,3.5469481581224267,3.4016954246529694,3.245485487140799,3.0825793454723325,2.9174206545276675,2.754514512859201,2.5983045753470306,2.4530518418775733,2.322718428374259,2.2108594906036063,2.120526248793511,2.0541827582993655,2.013638696597278,2.0],\"type\":\"scatter\"},{\"hoverinfo\":\"skip\",\"hovertemplate\":\"Connection 5\\u003cbr\\u003eNodes: 2-6\\u003cbr\\u003e\\u003cextra\\u003e\\u003c\\u002fextra\\u003e\",\"line\":{\"color\":\"gray\",\"width\":1},\"mode\":\"lines\",\"showlegend\":false,\"x\":[1.2246467991473532e-16,0.32918918056146795,0.6493989384093671,0.9518947860741472,1.2284254253793356,1.4714478213462634,1.674332956525057,1.8315466533101148,1.9388005318786607,1.9931689860133397,1.9931689860133397,1.9388005318786607,1.831546653310115,1.6743329565250573,1.4714478213462634,1.2284254253793359,0.9518947860741472,0.6493989384093671,0.32918918056146795,1.2246467991473532e-16],\"y\":[6.0,5.972722606805444,5.891634483401269,5.758947502412978,5.578281018792787,5.354563143251482,5.093896316244853,4.803390849305939,4.490970974281598,4.165158690944665,3.8348413090553355,3.5090290257184016,3.1966091506940613,2.9061036837551466,2.645436856748518,2.4217189812072126,2.241052497587022,2.108365516598731,2.0272773931945554,2.0],\"type\":\"scatter\"},{\"hoverinfo\":\"skip\",\"hovertemplate\":\"Connection 6\\u003cbr\\u003eNodes: 3-9\\u003cbr\\u003e\\u003cextra\\u003e\\u003c\\u002fextra\\u003e\",\"line\":{\"color\":\"gray\",\"width\":1},\"mode\":\"lines\",\"showlegend\":false,\"x\":[1.8369701987210297e-16,0.49378377084220193,0.9740984076140506,1.4278421791112208,1.8426381380690033,2.207171732019395,2.5114994347875856,2.747319979965172,2.908200797817991,2.9897534790200098,2.9897534790200098,2.908200797817991,2.7473199799651726,2.511499434787586,2.207171732019395,1.8426381380690038,1.4278421791112208,0.9740984076140506,0.49378377084220193,1.8369701987210297e-16],\"y\":[9.0,8.959083910208168,8.837451725101904,8.638421253619466,8.36742152818918,8.031844714877224,7.640844474367281,7.2050862739589085,6.736456461422398,6.247738036416997,5.752261963583003,5.263543538577602,4.794913726041092,4.35915552563272,3.9681552851227773,3.6325784718108194,3.361578746380533,3.162548274898096,3.040916089791833,3.0],\"type\":\"scatter\"},{\"hoverinfo\":\"skip\",\"hovertemplate\":\"Connection 7\\u003cbr\\u003eNodes: 4-9\\u003cbr\\u003e\\u003cextra\\u003e\\u003c\\u002fextra\\u003e\",\"line\":{\"color\":\"gray\",\"width\":1},\"mode\":\"lines\",\"showlegend\":false,\"x\":[1.5308084989341916e-16,0.41148647570183494,0.8117486730117089,1.189868482592684,1.5355317817241696,1.8393097766828292,2.092916195656321,2.2894333166376435,2.423500664848326,2.4914612325166745,2.4914612325166745,2.423500664848326,2.289433316637644,2.0929161956563216,1.8393097766828292,1.5355317817241698,1.189868482592684,0.8117486730117089,0.41148647570183494,1.5308084989341916e-16],\"y\":[9.0,8.965903258506806,8.864543104251586,8.698684378016223,8.472851273490985,8.193203929064353,7.867370395306067,7.504238561632423,7.113713717851998,6.706448363680831,6.293551636319169,5.886286282148002,5.495761438367577,5.132629604693934,4.806796070935647,4.527148726509016,4.301315621983777,4.135456895748414,4.034096741493194,4.0],\"type\":\"scatter\"},{\"hoverinfo\":\"skip\",\"hovertemplate\":\"Connection 8\\u003cbr\\u003eNodes: 5-8\\u003cbr\\u003e\\u003cextra\\u003e\\u003c\\u002fextra\\u003e\",\"line\":{\"color\":\"gray\",\"width\":1},\"mode\":\"lines\",\"showlegend\":false,\"x\":[9.184850993605148e-17,0.24689188542110097,0.4870492038070253,0.7139210895556104,0.9213190690345017,1.1035858660096975,1.2557497173937928,1.373659989982586,1.4541003989089956,1.4948767395100049,1.4948767395100049,1.4541003989089956,1.3736599899825863,1.255749717393793,1.1035858660096975,0.9213190690345019,0.7139210895556104,0.4870492038070253,0.24689188542110097,9.184850993605148e-17],\"y\":[8.0,7.979541955104084,7.918725862550952,7.819210626809733,7.68371076409459,7.515922357438612,7.3204222371836405,7.102543136979454,6.868228230711199,6.623869018208499,6.376130981791501,6.131771769288801,5.897456863020546,5.6795777628163595,5.484077642561388,5.31628923590541,5.180789373190267,5.081274137449048,5.020458044895916,5.0],\"type\":\"scatter\"},{\"hoverinfo\":\"skip\",\"hovertemplate\":\"Connection 9\\u003cbr\\u003eNodes: 6-8\\u003cbr\\u003e\\u003cextra\\u003e\\u003c\\u002fextra\\u003e\",\"line\":{\"color\":\"gray\",\"width\":1},\"mode\":\"lines\",\"showlegend\":false,\"x\":[6.123233995736766e-17,0.16459459028073398,0.32469946920468357,0.4759473930370736,0.6142127126896678,0.7357239106731317,0.8371664782625285,0.9157733266550574,0.9694002659393304,0.9965844930066698,0.9965844930066698,0.9694002659393304,0.9157733266550575,0.8371664782625287,0.7357239106731317,0.6142127126896679,0.4759473930370736,0.32469946920468357,0.16459459028073398,6.123233995736766e-17],\"y\":[8.0,7.986361303402722,7.9458172417006345,7.879473751206489,7.789140509396393,7.677281571625741,7.546948158122427,7.40169542465297,7.245485487140799,7.0825793454723325,6.9174206545276675,6.754514512859201,6.598304575347031,6.453051841877573,6.322718428374259,6.210859490603607,6.120526248793511,6.0541827582993655,6.013638696597278,6.0],\"type\":\"scatter\"},{\"hoverinfo\":\"skip\",\"hovertemplate\":\"Connection 10\\u003cbr\\u003eNodes: 7-8\\u003cbr\\u003e\\u003cextra\\u003e\\u003c\\u002fextra\\u003e\",\"line\":{\"color\":\"gray\",\"width\":1},\"mode\":\"lines\",\"showlegend\":false,\"x\":[0,0.0,0],\"y\":[7,7.5,8],\"type\":\"scatter\"}],                        {\"height\":300,\"width\":300,\"template\":{\"data\":{\"histogram2dcontour\":[{\"type\":\"histogram2dcontour\",\"colorbar\":{\"outlinewidth\":0,\"ticks\":\"\"},\"colorscale\":[[0.0,\"#0d0887\"],[0.1111111111111111,\"#46039f\"],[0.2222222222222222,\"#7201a8\"],[0.3333333333333333,\"#9c179e\"],[0.4444444444444444,\"#bd3786\"],[0.5555555555555556,\"#d8576b\"],[0.6666666666666666,\"#ed7953\"],[0.7777777777777778,\"#fb9f3a\"],[0.8888888888888888,\"#fdca26\"],[1.0,\"#f0f921\"]]}],\"choropleth\":[{\"type\":\"choropleth\",\"colorbar\":{\"outlinewidth\":0,\"ticks\":\"\"}}],\"histogram2d\":[{\"type\":\"histogram2d\",\"colorbar\":{\"outlinewidth\":0,\"ticks\":\"\"},\"colorscale\":[[0.0,\"#0d0887\"],[0.1111111111111111,\"#46039f\"],[0.2222222222222222,\"#7201a8\"],[0.3333333333333333,\"#9c179e\"],[0.4444444444444444,\"#bd3786\"],[0.5555555555555556,\"#d8576b\"],[0.6666666666666666,\"#ed7953\"],[0.7777777777777778,\"#fb9f3a\"],[0.8888888888888888,\"#fdca26\"],[1.0,\"#f0f921\"]]}],\"heatmap\":[{\"type\":\"heatmap\",\"colorbar\":{\"outlinewidth\":0,\"ticks\":\"\"},\"colorscale\":[[0.0,\"#0d0887\"],[0.1111111111111111,\"#46039f\"],[0.2222222222222222,\"#7201a8\"],[0.3333333333333333,\"#9c179e\"],[0.4444444444444444,\"#bd3786\"],[0.5555555555555556,\"#d8576b\"],[0.6666666666666666,\"#ed7953\"],[0.7777777777777778,\"#fb9f3a\"],[0.8888888888888888,\"#fdca26\"],[1.0,\"#f0f921\"]]}],\"heatmapgl\":[{\"type\":\"heatmapgl\",\"colorbar\":{\"outlinewidth\":0,\"ticks\":\"\"},\"colorscale\":[[0.0,\"#0d0887\"],[0.1111111111111111,\"#46039f\"],[0.2222222222222222,\"#7201a8\"],[0.3333333333333333,\"#9c179e\"],[0.4444444444444444,\"#bd3786\"],[0.5555555555555556,\"#d8576b\"],[0.6666666666666666,\"#ed7953\"],[0.7777777777777778,\"#fb9f3a\"],[0.8888888888888888,\"#fdca26\"],[1.0,\"#f0f921\"]]}],\"contourcarpet\":[{\"type\":\"contourcarpet\",\"colorbar\":{\"outlinewidth\":0,\"ticks\":\"\"}}],\"contour\":[{\"type\":\"contour\",\"colorbar\":{\"outlinewidth\":0,\"ticks\":\"\"},\"colorscale\":[[0.0,\"#0d0887\"],[0.1111111111111111,\"#46039f\"],[0.2222222222222222,\"#7201a8\"],[0.3333333333333333,\"#9c179e\"],[0.4444444444444444,\"#bd3786\"],[0.5555555555555556,\"#d8576b\"],[0.6666666666666666,\"#ed7953\"],[0.7777777777777778,\"#fb9f3a\"],[0.8888888888888888,\"#fdca26\"],[1.0,\"#f0f921\"]]}],\"surface\":[{\"type\":\"surface\",\"colorbar\":{\"outlinewidth\":0,\"ticks\":\"\"},\"colorscale\":[[0.0,\"#0d0887\"],[0.1111111111111111,\"#46039f\"],[0.2222222222222222,\"#7201a8\"],[0.3333333333333333,\"#9c179e\"],[0.4444444444444444,\"#bd3786\"],[0.5555555555555556,\"#d8576b\"],[0.6666666666666666,\"#ed7953\"],[0.7777777777777778,\"#fb9f3a\"],[0.8888888888888888,\"#fdca26\"],[1.0,\"#f0f921\"]]}],\"mesh3d\":[{\"type\":\"mesh3d\",\"colorbar\":{\"outlinewidth\":0,\"ticks\":\"\"}}],\"scatter\":[{\"fillpattern\":{\"fillmode\":\"overlay\",\"size\":10,\"solidity\":0.2},\"type\":\"scatter\"}],\"parcoords\":[{\"type\":\"parcoords\",\"line\":{\"colorbar\":{\"outlinewidth\":0,\"ticks\":\"\"}}}],\"scatterpolargl\":[{\"type\":\"scatterpolargl\",\"marker\":{\"colorbar\":{\"outlinewidth\":0,\"ticks\":\"\"}}}],\"bar\":[{\"error_x\":{\"color\":\"#2a3f5f\"},\"error_y\":{\"color\":\"#2a3f5f\"},\"marker\":{\"line\":{\"color\":\"#E5ECF6\",\"width\":0.5},\"pattern\":{\"fillmode\":\"overlay\",\"size\":10,\"solidity\":0.2}},\"type\":\"bar\"}],\"scattergeo\":[{\"type\":\"scattergeo\",\"marker\":{\"colorbar\":{\"outlinewidth\":0,\"ticks\":\"\"}}}],\"scatterpolar\":[{\"type\":\"scatterpolar\",\"marker\":{\"colorbar\":{\"outlinewidth\":0,\"ticks\":\"\"}}}],\"histogram\":[{\"marker\":{\"pattern\":{\"fillmode\":\"overlay\",\"size\":10,\"solidity\":0.2}},\"type\":\"histogram\"}],\"scattergl\":[{\"type\":\"scattergl\",\"marker\":{\"colorbar\":{\"outlinewidth\":0,\"ticks\":\"\"}}}],\"scatter3d\":[{\"type\":\"scatter3d\",\"line\":{\"colorbar\":{\"outlinewidth\":0,\"ticks\":\"\"}},\"marker\":{\"colorbar\":{\"outlinewidth\":0,\"ticks\":\"\"}}}],\"scattermapbox\":[{\"type\":\"scattermapbox\",\"marker\":{\"colorbar\":{\"outlinewidth\":0,\"ticks\":\"\"}}}],\"scatterternary\":[{\"type\":\"scatterternary\",\"marker\":{\"colorbar\":{\"outlinewidth\":0,\"ticks\":\"\"}}}],\"scattercarpet\":[{\"type\":\"scattercarpet\",\"marker\":{\"colorbar\":{\"outlinewidth\":0,\"ticks\":\"\"}}}],\"carpet\":[{\"aaxis\":{\"endlinecolor\":\"#2a3f5f\",\"gridcolor\":\"white\",\"linecolor\":\"white\",\"minorgridcolor\":\"white\",\"startlinecolor\":\"#2a3f5f\"},\"baxis\":{\"endlinecolor\":\"#2a3f5f\",\"gridcolor\":\"white\",\"linecolor\":\"white\",\"minorgridcolor\":\"white\",\"startlinecolor\":\"#2a3f5f\"},\"type\":\"carpet\"}],\"table\":[{\"cells\":{\"fill\":{\"color\":\"#EBF0F8\"},\"line\":{\"color\":\"white\"}},\"header\":{\"fill\":{\"color\":\"#C8D4E3\"},\"line\":{\"color\":\"white\"}},\"type\":\"table\"}],\"barpolar\":[{\"marker\":{\"line\":{\"color\":\"#E5ECF6\",\"width\":0.5},\"pattern\":{\"fillmode\":\"overlay\",\"size\":10,\"solidity\":0.2}},\"type\":\"barpolar\"}],\"pie\":[{\"automargin\":true,\"type\":\"pie\"}]},\"layout\":{\"autotypenumbers\":\"strict\",\"colorway\":[\"#636efa\",\"#EF553B\",\"#00cc96\",\"#ab63fa\",\"#FFA15A\",\"#19d3f3\",\"#FF6692\",\"#B6E880\",\"#FF97FF\",\"#FECB52\"],\"font\":{\"color\":\"#2a3f5f\"},\"hovermode\":\"closest\",\"hoverlabel\":{\"align\":\"left\"},\"paper_bgcolor\":\"white\",\"plot_bgcolor\":\"#E5ECF6\",\"polar\":{\"bgcolor\":\"#E5ECF6\",\"angularaxis\":{\"gridcolor\":\"white\",\"linecolor\":\"white\",\"ticks\":\"\"},\"radialaxis\":{\"gridcolor\":\"white\",\"linecolor\":\"white\",\"ticks\":\"\"}},\"ternary\":{\"bgcolor\":\"#E5ECF6\",\"aaxis\":{\"gridcolor\":\"white\",\"linecolor\":\"white\",\"ticks\":\"\"},\"baxis\":{\"gridcolor\":\"white\",\"linecolor\":\"white\",\"ticks\":\"\"},\"caxis\":{\"gridcolor\":\"white\",\"linecolor\":\"white\",\"ticks\":\"\"}},\"coloraxis\":{\"colorbar\":{\"outlinewidth\":0,\"ticks\":\"\"}},\"colorscale\":{\"sequential\":[[0.0,\"#0d0887\"],[0.1111111111111111,\"#46039f\"],[0.2222222222222222,\"#7201a8\"],[0.3333333333333333,\"#9c179e\"],[0.4444444444444444,\"#bd3786\"],[0.5555555555555556,\"#d8576b\"],[0.6666666666666666,\"#ed7953\"],[0.7777777777777778,\"#fb9f3a\"],[0.8888888888888888,\"#fdca26\"],[1.0,\"#f0f921\"]],\"sequentialminus\":[[0.0,\"#0d0887\"],[0.1111111111111111,\"#46039f\"],[0.2222222222222222,\"#7201a8\"],[0.3333333333333333,\"#9c179e\"],[0.4444444444444444,\"#bd3786\"],[0.5555555555555556,\"#d8576b\"],[0.6666666666666666,\"#ed7953\"],[0.7777777777777778,\"#fb9f3a\"],[0.8888888888888888,\"#fdca26\"],[1.0,\"#f0f921\"]],\"diverging\":[[0,\"#8e0152\"],[0.1,\"#c51b7d\"],[0.2,\"#de77ae\"],[0.3,\"#f1b6da\"],[0.4,\"#fde0ef\"],[0.5,\"#f7f7f7\"],[0.6,\"#e6f5d0\"],[0.7,\"#b8e186\"],[0.8,\"#7fbc41\"],[0.9,\"#4d9221\"],[1,\"#276419\"]]},\"xaxis\":{\"gridcolor\":\"white\",\"linecolor\":\"white\",\"ticks\":\"\",\"title\":{\"standoff\":15},\"zerolinecolor\":\"white\",\"automargin\":true,\"zerolinewidth\":2},\"yaxis\":{\"gridcolor\":\"white\",\"linecolor\":\"white\",\"ticks\":\"\",\"title\":{\"standoff\":15},\"zerolinecolor\":\"white\",\"automargin\":true,\"zerolinewidth\":2},\"scene\":{\"xaxis\":{\"backgroundcolor\":\"#E5ECF6\",\"gridcolor\":\"white\",\"linecolor\":\"white\",\"showbackground\":true,\"ticks\":\"\",\"zerolinecolor\":\"white\",\"gridwidth\":2},\"yaxis\":{\"backgroundcolor\":\"#E5ECF6\",\"gridcolor\":\"white\",\"linecolor\":\"white\",\"showbackground\":true,\"ticks\":\"\",\"zerolinecolor\":\"white\",\"gridwidth\":2},\"zaxis\":{\"backgroundcolor\":\"#E5ECF6\",\"gridcolor\":\"white\",\"linecolor\":\"white\",\"showbackground\":true,\"ticks\":\"\",\"zerolinecolor\":\"white\",\"gridwidth\":2}},\"shapedefaults\":{\"line\":{\"color\":\"#2a3f5f\"}},\"annotationdefaults\":{\"arrowcolor\":\"#2a3f5f\",\"arrowhead\":0,\"arrowwidth\":1},\"geo\":{\"bgcolor\":\"white\",\"landcolor\":\"#E5ECF6\",\"subunitcolor\":\"white\",\"showland\":true,\"showlakes\":true,\"lakecolor\":\"white\"},\"title\":{\"x\":0.05},\"mapbox\":{\"style\":\"light\"}}},\"xaxis\":{\"showgrid\":false,\"zeroline\":false,\"tickmode\":\"array\",\"tickvals\":[]},\"yaxis\":{\"showgrid\":false,\"zeroline\":false,\"tickmode\":\"array\",\"tickvals\":[],\"range\":[9.5,-0.5]},\"margin\":{\"l\":0,\"r\":0,\"t\":0,\"b\":0},\"modebar\":{\"remove\":[\"toimage\",\"select\",\"lasso\",\"zoomin\",\"zoomout\"],\"orientation\":\"v\"}},                        {\"responsive\": true}                    ).then(function(){\n",
       "                            \n",
       "var gd = document.getElementById('dcab4c1b-fead-4e64-898b-60404b6369e5');\n",
       "var x = new MutationObserver(function (mutations, observer) {{\n",
       "        var display = window.getComputedStyle(gd).display;\n",
       "        if (!display || display === 'none') {{\n",
       "            console.log([gd, 'removed!']);\n",
       "            Plotly.purge(gd);\n",
       "            observer.disconnect();\n",
       "        }}\n",
       "}});\n",
       "\n",
       "// Listen for the removal of the full notebook cells\n",
       "var notebookContainer = gd.closest('#notebook-container');\n",
       "if (notebookContainer) {{\n",
       "    x.observe(notebookContainer, {childList: true});\n",
       "}}\n",
       "\n",
       "// Listen for the clearing of the current output cell\n",
       "var outputEl = gd.closest('.output');\n",
       "if (outputEl) {{\n",
       "    x.observe(outputEl, {childList: true});\n",
       "}}\n",
       "\n",
       "                        })                };                });            </script>        </div>"
      ]
     },
     "metadata": {},
     "output_type": "display_data"
    }
   ],
   "source": [
    "SemiCircleViewer(g).draw(300)"
   ]
  },
  {
   "cell_type": "markdown",
   "metadata": {},
   "source": [
    "## Step 2: Assign sides\n",
    "* Define 3 matrices of the same size: `A` from the previous step and `AL` and `AR` for the left and right sides, separately\n",
    "  * `A` is kept constant, where as `AL` and `AR` sre both initialized to zeros and populated from `A` as connections are assigned to each side\n",
    "  * Once a connection is assigned to a side, the corresponding row is copied from `A` to the relevant side matrix\n",
    "  * 2's in the matrices are ignored (set to zero) for this step.\n",
    "* The immediate cost of assigning a connection to a specific side is the sum over the corresponding column of that side's matrix \n",
    "  * The **difference** between a column sum in `AL` and `AR` is the **difference in cost** between assigning a new connection to the left vs right\n",
    "* Algorithm\n",
    "  * Start by assigning the connection with the highest column sum in `A`, to `AL`\n",
    "  * Proceed greedily by checking which connection has the largest **difference in cost** between `AL` and `AR`. Assign that connection to the lowest-cost side\n",
    "  * If multiple connections are tied in cost difference, assign the one with the **smallest** total column sum in `A` first"
   ]
  },
  {
   "cell_type": "code",
   "execution_count": null,
   "metadata": {},
   "outputs": [
    {
     "data": {
      "application/vnd.plotly.v1+json": {
       "config": {
        "plotlyServerURL": "https://plot.ly"
       },
       "data": [
        {
         "customdata": [
          [
           "0",
           [
            490,
            700,
            280
           ],
           1760,
           2130
          ],
          [
           "1",
           [
            930,
            850,
            940
           ],
           6900,
           8480
          ],
          [
           "2",
           [
            670,
            300,
            260
           ],
           6720,
           7130
          ],
          [
           "3",
           [
            970,
            550,
            330
           ],
           2690,
           8410
          ],
          [
           "4",
           [
            570,
            240,
            580
           ],
           8110,
           4770
          ],
          [
           "5",
           [
            570,
            960,
            600
           ],
           3150,
           3980
          ],
          [
           "6",
           [
            630,
            900,
            930
           ],
           8090,
           2140
          ],
          [
           "7",
           [
            340,
            650,
            80
           ],
           1870,
           5970
          ],
          [
           "8",
           [
            240,
            420,
            100
           ],
           7310,
           2190
          ],
          [
           "9",
           [
            990,
            490,
            250
           ],
           9340,
           8920
          ]
         ],
         "hovertemplate": "Name: %{customdata[0]}<br>Activations: %{customdata[1]}<br>Parameters: %{customdata[2]}<br>FLOPS: %{customdata[3]}",
         "marker": {
          "color": [
           3.3283796034387376,
           3.9283958522567137,
           3.8530895298518657,
           3.924795995797912,
           3.678518379040114,
           3.5998830720736876,
           3.330413773349191,
           3.775974331129369,
           3.3404441148401185,
           3.950364854376123
          ],
          "colorscale": [
           [
            0,
            "rgb(0,0,255)"
           ],
           [
            1,
            "rgb(255,0,0)"
           ]
          ],
          "size": [
           10.73653800344245,
           12.516547272211765,
           12.482107819161476,
           11.289256840007225,
           12.727062562633467,
           11.4949316613688,
           12.723845564836816,
           10.815524819609497,
           12.59175213087358,
           12.91104062869028
          ]
         },
         "mode": "markers",
         "showlegend": false,
         "type": "scatter",
         "x": [
          0,
          0,
          0,
          0,
          0,
          0,
          0,
          0,
          0,
          0
         ],
         "y": [
          0,
          1,
          2,
          3,
          4,
          5,
          6,
          7,
          8,
          9
         ]
        },
        {
         "hoverinfo": "skip",
         "hovertemplate": "Connection 0<br>Nodes: 0-1<br><extra></extra>",
         "line": {
          "color": "gray",
          "width": 1
         },
         "mode": "lines",
         "showlegend": false,
         "type": "scatter",
         "x": [
          0,
          0,
          0
         ],
         "y": [
          0,
          0.5,
          1
         ]
        },
        {
         "hoverinfo": "skip",
         "hovertemplate": "Connection 1<br>Nodes: 0-4<br><extra></extra>",
         "line": {
          "color": "gray",
          "width": 1
         },
         "mode": "lines",
         "showlegend": false,
         "type": "scatter",
         "x": [
          -1.2246467991473532e-16,
          -0.32918918056146795,
          -0.6493989384093671,
          -0.9518947860741472,
          -1.2284254253793356,
          -1.4714478213462634,
          -1.674332956525057,
          -1.8315466533101148,
          -1.9388005318786607,
          -1.9931689860133397,
          -1.9931689860133397,
          -1.9388005318786607,
          -1.831546653310115,
          -1.6743329565250573,
          -1.4714478213462634,
          -1.2284254253793359,
          -0.9518947860741472,
          -0.6493989384093671,
          -0.32918918056146795,
          -1.2246467991473532e-16
         ],
         "y": [
          4,
          3.9727226068054446,
          3.891634483401269,
          3.758947502412978,
          3.5782810187927874,
          3.3545631432514824,
          3.093896316244854,
          2.8033908493059387,
          2.4909709742815984,
          2.1651586909446645,
          1.8348413090553353,
          1.5090290257184016,
          1.1966091506940613,
          0.9061036837551466,
          0.645436856748518,
          0.42171898120721285,
          0.24105249758702207,
          0.10836551659873073,
          0.027277393194555355,
          0
         ]
        },
        {
         "hoverinfo": "skip",
         "hovertemplate": "Connection 2<br>Nodes: 0-9<br><extra></extra>",
         "line": {
          "color": "gray",
          "width": 1
         },
         "mode": "lines",
         "showlegend": false,
         "type": "scatter",
         "x": [
          -2.755455298081545e-16,
          -0.7406756562633029,
          -1.461147611421076,
          -2.141763268666831,
          -2.763957207103505,
          -3.3107575980290926,
          -3.7672491521813782,
          -4.120979969947758,
          -4.362301196726987,
          -4.484630218530015,
          -4.484630218530015,
          -4.362301196726987,
          -4.120979969947759,
          -3.767249152181379,
          -3.3107575980290926,
          -2.7639572071035055,
          -2.141763268666831,
          -1.461147611421076,
          -0.7406756562633029,
          -2.755455298081545e-16
         ],
         "y": [
          9,
          8.93862586531225,
          8.756177587652857,
          8.4576318804292,
          8.051132292283771,
          7.547767072315835,
          6.9612667115509215,
          6.307629410938363,
          5.604684692133596,
          4.871607054625495,
          4.128392945374505,
          3.3953153078664036,
          2.692370589061638,
          2.03873328844908,
          1.4522329276841655,
          0.9488677077162291,
          0.5423681195707997,
          0.24382241234714375,
          0.06137413468774966,
          0
         ]
        },
        {
         "hoverinfo": "skip",
         "hovertemplate": "Connection 3<br>Nodes: 1-5<br><extra></extra>",
         "line": {
          "color": "gray",
          "width": 1
         },
         "mode": "lines",
         "showlegend": false,
         "type": "scatter",
         "x": [
          1.2246467991473532e-16,
          0.32918918056146795,
          0.6493989384093671,
          0.9518947860741472,
          1.2284254253793356,
          1.4714478213462634,
          1.674332956525057,
          1.8315466533101148,
          1.9388005318786607,
          1.9931689860133397,
          1.9931689860133397,
          1.9388005318786607,
          1.831546653310115,
          1.6743329565250573,
          1.4714478213462634,
          1.2284254253793359,
          0.9518947860741472,
          0.6493989384093671,
          0.32918918056146795,
          1.2246467991473532e-16
         ],
         "y": [
          5,
          4.972722606805444,
          4.891634483401269,
          4.758947502412978,
          4.578281018792787,
          4.354563143251482,
          4.093896316244853,
          3.8033908493059387,
          3.4909709742815984,
          3.1651586909446645,
          2.8348413090553355,
          2.5090290257184016,
          2.1966091506940613,
          1.9061036837551466,
          1.645436856748518,
          1.4217189812072129,
          1.241052497587022,
          1.1083655165987307,
          1.0272773931945554,
          1
         ]
        },
        {
         "hoverinfo": "skip",
         "hovertemplate": "Connection 4<br>Nodes: 2-4<br><extra></extra>",
         "line": {
          "color": "gray",
          "width": 1
         },
         "mode": "lines",
         "showlegend": false,
         "type": "scatter",
         "x": [
          6.123233995736766e-17,
          0.16459459028073398,
          0.32469946920468357,
          0.4759473930370736,
          0.6142127126896678,
          0.7357239106731317,
          0.8371664782625285,
          0.9157733266550574,
          0.9694002659393304,
          0.9965844930066698,
          0.9965844930066698,
          0.9694002659393304,
          0.9157733266550575,
          0.8371664782625287,
          0.7357239106731317,
          0.6142127126896679,
          0.4759473930370736,
          0.32469946920468357,
          0.16459459028073398,
          6.123233995736766e-17
         ],
         "y": [
          4,
          3.986361303402722,
          3.9458172417006345,
          3.879473751206489,
          3.7891405093963937,
          3.677281571625741,
          3.5469481581224267,
          3.4016954246529694,
          3.245485487140799,
          3.0825793454723325,
          2.9174206545276675,
          2.754514512859201,
          2.5983045753470306,
          2.4530518418775733,
          2.322718428374259,
          2.2108594906036063,
          2.120526248793511,
          2.0541827582993655,
          2.013638696597278,
          2
         ]
        },
        {
         "hoverinfo": "skip",
         "hovertemplate": "Connection 5<br>Nodes: 2-6<br><extra></extra>",
         "line": {
          "color": "gray",
          "width": 1
         },
         "mode": "lines",
         "showlegend": false,
         "type": "scatter",
         "x": [
          1.2246467991473532e-16,
          0.32918918056146795,
          0.6493989384093671,
          0.9518947860741472,
          1.2284254253793356,
          1.4714478213462634,
          1.674332956525057,
          1.8315466533101148,
          1.9388005318786607,
          1.9931689860133397,
          1.9931689860133397,
          1.9388005318786607,
          1.831546653310115,
          1.6743329565250573,
          1.4714478213462634,
          1.2284254253793359,
          0.9518947860741472,
          0.6493989384093671,
          0.32918918056146795,
          1.2246467991473532e-16
         ],
         "y": [
          6,
          5.972722606805444,
          5.891634483401269,
          5.758947502412978,
          5.578281018792787,
          5.354563143251482,
          5.093896316244853,
          4.803390849305939,
          4.490970974281598,
          4.165158690944665,
          3.8348413090553355,
          3.5090290257184016,
          3.1966091506940613,
          2.9061036837551466,
          2.645436856748518,
          2.4217189812072126,
          2.241052497587022,
          2.108365516598731,
          2.0272773931945554,
          2
         ]
        },
        {
         "hoverinfo": "skip",
         "hovertemplate": "Connection 6<br>Nodes: 3-9<br><extra></extra>",
         "line": {
          "color": "gray",
          "width": 1
         },
         "mode": "lines",
         "showlegend": false,
         "type": "scatter",
         "x": [
          -1.8369701987210297e-16,
          -0.49378377084220193,
          -0.9740984076140506,
          -1.4278421791112208,
          -1.8426381380690033,
          -2.207171732019395,
          -2.5114994347875856,
          -2.747319979965172,
          -2.908200797817991,
          -2.9897534790200098,
          -2.9897534790200098,
          -2.908200797817991,
          -2.7473199799651726,
          -2.511499434787586,
          -2.207171732019395,
          -1.8426381380690038,
          -1.4278421791112208,
          -0.9740984076140506,
          -0.49378377084220193,
          -1.8369701987210297e-16
         ],
         "y": [
          9,
          8.959083910208168,
          8.837451725101904,
          8.638421253619466,
          8.36742152818918,
          8.031844714877224,
          7.640844474367281,
          7.2050862739589085,
          6.736456461422398,
          6.247738036416997,
          5.752261963583003,
          5.263543538577602,
          4.794913726041092,
          4.35915552563272,
          3.9681552851227773,
          3.6325784718108194,
          3.361578746380533,
          3.162548274898096,
          3.040916089791833,
          3
         ]
        },
        {
         "hoverinfo": "skip",
         "hovertemplate": "Connection 7<br>Nodes: 4-9<br><extra></extra>",
         "line": {
          "color": "gray",
          "width": 1
         },
         "mode": "lines",
         "showlegend": false,
         "type": "scatter",
         "x": [
          -1.5308084989341916e-16,
          -0.41148647570183494,
          -0.8117486730117089,
          -1.189868482592684,
          -1.5355317817241696,
          -1.8393097766828292,
          -2.092916195656321,
          -2.2894333166376435,
          -2.423500664848326,
          -2.4914612325166745,
          -2.4914612325166745,
          -2.423500664848326,
          -2.289433316637644,
          -2.0929161956563216,
          -1.8393097766828292,
          -1.5355317817241698,
          -1.189868482592684,
          -0.8117486730117089,
          -0.41148647570183494,
          -1.5308084989341916e-16
         ],
         "y": [
          9,
          8.965903258506806,
          8.864543104251586,
          8.698684378016223,
          8.472851273490985,
          8.193203929064353,
          7.867370395306067,
          7.504238561632423,
          7.113713717851998,
          6.706448363680831,
          6.293551636319169,
          5.886286282148002,
          5.495761438367577,
          5.132629604693934,
          4.806796070935647,
          4.527148726509016,
          4.301315621983777,
          4.135456895748414,
          4.034096741493194,
          4
         ]
        },
        {
         "hoverinfo": "skip",
         "hovertemplate": "Connection 8<br>Nodes: 5-8<br><extra></extra>",
         "line": {
          "color": "gray",
          "width": 1
         },
         "mode": "lines",
         "showlegend": false,
         "type": "scatter",
         "x": [
          -9.184850993605148e-17,
          -0.24689188542110097,
          -0.4870492038070253,
          -0.7139210895556104,
          -0.9213190690345017,
          -1.1035858660096975,
          -1.2557497173937928,
          -1.373659989982586,
          -1.4541003989089956,
          -1.4948767395100049,
          -1.4948767395100049,
          -1.4541003989089956,
          -1.3736599899825863,
          -1.255749717393793,
          -1.1035858660096975,
          -0.9213190690345019,
          -0.7139210895556104,
          -0.4870492038070253,
          -0.24689188542110097,
          -9.184850993605148e-17
         ],
         "y": [
          8,
          7.979541955104084,
          7.918725862550952,
          7.819210626809733,
          7.68371076409459,
          7.515922357438612,
          7.3204222371836405,
          7.102543136979454,
          6.868228230711199,
          6.623869018208499,
          6.376130981791501,
          6.131771769288801,
          5.897456863020546,
          5.6795777628163595,
          5.484077642561388,
          5.31628923590541,
          5.180789373190267,
          5.081274137449048,
          5.020458044895916,
          5
         ]
        },
        {
         "hoverinfo": "skip",
         "hovertemplate": "Connection 9<br>Nodes: 6-8<br><extra></extra>",
         "line": {
          "color": "gray",
          "width": 1
         },
         "mode": "lines",
         "showlegend": false,
         "type": "scatter",
         "x": [
          6.123233995736766e-17,
          0.16459459028073398,
          0.32469946920468357,
          0.4759473930370736,
          0.6142127126896678,
          0.7357239106731317,
          0.8371664782625285,
          0.9157733266550574,
          0.9694002659393304,
          0.9965844930066698,
          0.9965844930066698,
          0.9694002659393304,
          0.9157733266550575,
          0.8371664782625287,
          0.7357239106731317,
          0.6142127126896679,
          0.4759473930370736,
          0.32469946920468357,
          0.16459459028073398,
          6.123233995736766e-17
         ],
         "y": [
          8,
          7.986361303402722,
          7.9458172417006345,
          7.879473751206489,
          7.789140509396393,
          7.677281571625741,
          7.546948158122427,
          7.40169542465297,
          7.245485487140799,
          7.0825793454723325,
          6.9174206545276675,
          6.754514512859201,
          6.598304575347031,
          6.453051841877573,
          6.322718428374259,
          6.210859490603607,
          6.120526248793511,
          6.0541827582993655,
          6.013638696597278,
          6
         ]
        },
        {
         "hoverinfo": "skip",
         "hovertemplate": "Connection 10<br>Nodes: 7-8<br><extra></extra>",
         "line": {
          "color": "gray",
          "width": 1
         },
         "mode": "lines",
         "showlegend": false,
         "type": "scatter",
         "x": [
          0,
          0,
          0
         ],
         "y": [
          7,
          7.5,
          8
         ]
        }
       ],
       "layout": {
        "height": 300,
        "margin": {
         "b": 0,
         "l": 0,
         "r": 0,
         "t": 0
        },
        "modebar": {
         "orientation": "v",
         "remove": [
          "toimage",
          "select",
          "lasso",
          "zoomin",
          "zoomout"
         ]
        },
        "template": {
         "data": {
          "bar": [
           {
            "error_x": {
             "color": "#2a3f5f"
            },
            "error_y": {
             "color": "#2a3f5f"
            },
            "marker": {
             "line": {
              "color": "#E5ECF6",
              "width": 0.5
             },
             "pattern": {
              "fillmode": "overlay",
              "size": 10,
              "solidity": 0.2
             }
            },
            "type": "bar"
           }
          ],
          "barpolar": [
           {
            "marker": {
             "line": {
              "color": "#E5ECF6",
              "width": 0.5
             },
             "pattern": {
              "fillmode": "overlay",
              "size": 10,
              "solidity": 0.2
             }
            },
            "type": "barpolar"
           }
          ],
          "carpet": [
           {
            "aaxis": {
             "endlinecolor": "#2a3f5f",
             "gridcolor": "white",
             "linecolor": "white",
             "minorgridcolor": "white",
             "startlinecolor": "#2a3f5f"
            },
            "baxis": {
             "endlinecolor": "#2a3f5f",
             "gridcolor": "white",
             "linecolor": "white",
             "minorgridcolor": "white",
             "startlinecolor": "#2a3f5f"
            },
            "type": "carpet"
           }
          ],
          "choropleth": [
           {
            "colorbar": {
             "outlinewidth": 0,
             "ticks": ""
            },
            "type": "choropleth"
           }
          ],
          "contour": [
           {
            "colorbar": {
             "outlinewidth": 0,
             "ticks": ""
            },
            "colorscale": [
             [
              0,
              "#0d0887"
             ],
             [
              0.1111111111111111,
              "#46039f"
             ],
             [
              0.2222222222222222,
              "#7201a8"
             ],
             [
              0.3333333333333333,
              "#9c179e"
             ],
             [
              0.4444444444444444,
              "#bd3786"
             ],
             [
              0.5555555555555556,
              "#d8576b"
             ],
             [
              0.6666666666666666,
              "#ed7953"
             ],
             [
              0.7777777777777778,
              "#fb9f3a"
             ],
             [
              0.8888888888888888,
              "#fdca26"
             ],
             [
              1,
              "#f0f921"
             ]
            ],
            "type": "contour"
           }
          ],
          "contourcarpet": [
           {
            "colorbar": {
             "outlinewidth": 0,
             "ticks": ""
            },
            "type": "contourcarpet"
           }
          ],
          "heatmap": [
           {
            "colorbar": {
             "outlinewidth": 0,
             "ticks": ""
            },
            "colorscale": [
             [
              0,
              "#0d0887"
             ],
             [
              0.1111111111111111,
              "#46039f"
             ],
             [
              0.2222222222222222,
              "#7201a8"
             ],
             [
              0.3333333333333333,
              "#9c179e"
             ],
             [
              0.4444444444444444,
              "#bd3786"
             ],
             [
              0.5555555555555556,
              "#d8576b"
             ],
             [
              0.6666666666666666,
              "#ed7953"
             ],
             [
              0.7777777777777778,
              "#fb9f3a"
             ],
             [
              0.8888888888888888,
              "#fdca26"
             ],
             [
              1,
              "#f0f921"
             ]
            ],
            "type": "heatmap"
           }
          ],
          "heatmapgl": [
           {
            "colorbar": {
             "outlinewidth": 0,
             "ticks": ""
            },
            "colorscale": [
             [
              0,
              "#0d0887"
             ],
             [
              0.1111111111111111,
              "#46039f"
             ],
             [
              0.2222222222222222,
              "#7201a8"
             ],
             [
              0.3333333333333333,
              "#9c179e"
             ],
             [
              0.4444444444444444,
              "#bd3786"
             ],
             [
              0.5555555555555556,
              "#d8576b"
             ],
             [
              0.6666666666666666,
              "#ed7953"
             ],
             [
              0.7777777777777778,
              "#fb9f3a"
             ],
             [
              0.8888888888888888,
              "#fdca26"
             ],
             [
              1,
              "#f0f921"
             ]
            ],
            "type": "heatmapgl"
           }
          ],
          "histogram": [
           {
            "marker": {
             "pattern": {
              "fillmode": "overlay",
              "size": 10,
              "solidity": 0.2
             }
            },
            "type": "histogram"
           }
          ],
          "histogram2d": [
           {
            "colorbar": {
             "outlinewidth": 0,
             "ticks": ""
            },
            "colorscale": [
             [
              0,
              "#0d0887"
             ],
             [
              0.1111111111111111,
              "#46039f"
             ],
             [
              0.2222222222222222,
              "#7201a8"
             ],
             [
              0.3333333333333333,
              "#9c179e"
             ],
             [
              0.4444444444444444,
              "#bd3786"
             ],
             [
              0.5555555555555556,
              "#d8576b"
             ],
             [
              0.6666666666666666,
              "#ed7953"
             ],
             [
              0.7777777777777778,
              "#fb9f3a"
             ],
             [
              0.8888888888888888,
              "#fdca26"
             ],
             [
              1,
              "#f0f921"
             ]
            ],
            "type": "histogram2d"
           }
          ],
          "histogram2dcontour": [
           {
            "colorbar": {
             "outlinewidth": 0,
             "ticks": ""
            },
            "colorscale": [
             [
              0,
              "#0d0887"
             ],
             [
              0.1111111111111111,
              "#46039f"
             ],
             [
              0.2222222222222222,
              "#7201a8"
             ],
             [
              0.3333333333333333,
              "#9c179e"
             ],
             [
              0.4444444444444444,
              "#bd3786"
             ],
             [
              0.5555555555555556,
              "#d8576b"
             ],
             [
              0.6666666666666666,
              "#ed7953"
             ],
             [
              0.7777777777777778,
              "#fb9f3a"
             ],
             [
              0.8888888888888888,
              "#fdca26"
             ],
             [
              1,
              "#f0f921"
             ]
            ],
            "type": "histogram2dcontour"
           }
          ],
          "mesh3d": [
           {
            "colorbar": {
             "outlinewidth": 0,
             "ticks": ""
            },
            "type": "mesh3d"
           }
          ],
          "parcoords": [
           {
            "line": {
             "colorbar": {
              "outlinewidth": 0,
              "ticks": ""
             }
            },
            "type": "parcoords"
           }
          ],
          "pie": [
           {
            "automargin": true,
            "type": "pie"
           }
          ],
          "scatter": [
           {
            "fillpattern": {
             "fillmode": "overlay",
             "size": 10,
             "solidity": 0.2
            },
            "type": "scatter"
           }
          ],
          "scatter3d": [
           {
            "line": {
             "colorbar": {
              "outlinewidth": 0,
              "ticks": ""
             }
            },
            "marker": {
             "colorbar": {
              "outlinewidth": 0,
              "ticks": ""
             }
            },
            "type": "scatter3d"
           }
          ],
          "scattercarpet": [
           {
            "marker": {
             "colorbar": {
              "outlinewidth": 0,
              "ticks": ""
             }
            },
            "type": "scattercarpet"
           }
          ],
          "scattergeo": [
           {
            "marker": {
             "colorbar": {
              "outlinewidth": 0,
              "ticks": ""
             }
            },
            "type": "scattergeo"
           }
          ],
          "scattergl": [
           {
            "marker": {
             "colorbar": {
              "outlinewidth": 0,
              "ticks": ""
             }
            },
            "type": "scattergl"
           }
          ],
          "scattermapbox": [
           {
            "marker": {
             "colorbar": {
              "outlinewidth": 0,
              "ticks": ""
             }
            },
            "type": "scattermapbox"
           }
          ],
          "scatterpolar": [
           {
            "marker": {
             "colorbar": {
              "outlinewidth": 0,
              "ticks": ""
             }
            },
            "type": "scatterpolar"
           }
          ],
          "scatterpolargl": [
           {
            "marker": {
             "colorbar": {
              "outlinewidth": 0,
              "ticks": ""
             }
            },
            "type": "scatterpolargl"
           }
          ],
          "scatterternary": [
           {
            "marker": {
             "colorbar": {
              "outlinewidth": 0,
              "ticks": ""
             }
            },
            "type": "scatterternary"
           }
          ],
          "surface": [
           {
            "colorbar": {
             "outlinewidth": 0,
             "ticks": ""
            },
            "colorscale": [
             [
              0,
              "#0d0887"
             ],
             [
              0.1111111111111111,
              "#46039f"
             ],
             [
              0.2222222222222222,
              "#7201a8"
             ],
             [
              0.3333333333333333,
              "#9c179e"
             ],
             [
              0.4444444444444444,
              "#bd3786"
             ],
             [
              0.5555555555555556,
              "#d8576b"
             ],
             [
              0.6666666666666666,
              "#ed7953"
             ],
             [
              0.7777777777777778,
              "#fb9f3a"
             ],
             [
              0.8888888888888888,
              "#fdca26"
             ],
             [
              1,
              "#f0f921"
             ]
            ],
            "type": "surface"
           }
          ],
          "table": [
           {
            "cells": {
             "fill": {
              "color": "#EBF0F8"
             },
             "line": {
              "color": "white"
             }
            },
            "header": {
             "fill": {
              "color": "#C8D4E3"
             },
             "line": {
              "color": "white"
             }
            },
            "type": "table"
           }
          ]
         },
         "layout": {
          "annotationdefaults": {
           "arrowcolor": "#2a3f5f",
           "arrowhead": 0,
           "arrowwidth": 1
          },
          "autotypenumbers": "strict",
          "coloraxis": {
           "colorbar": {
            "outlinewidth": 0,
            "ticks": ""
           }
          },
          "colorscale": {
           "diverging": [
            [
             0,
             "#8e0152"
            ],
            [
             0.1,
             "#c51b7d"
            ],
            [
             0.2,
             "#de77ae"
            ],
            [
             0.3,
             "#f1b6da"
            ],
            [
             0.4,
             "#fde0ef"
            ],
            [
             0.5,
             "#f7f7f7"
            ],
            [
             0.6,
             "#e6f5d0"
            ],
            [
             0.7,
             "#b8e186"
            ],
            [
             0.8,
             "#7fbc41"
            ],
            [
             0.9,
             "#4d9221"
            ],
            [
             1,
             "#276419"
            ]
           ],
           "sequential": [
            [
             0,
             "#0d0887"
            ],
            [
             0.1111111111111111,
             "#46039f"
            ],
            [
             0.2222222222222222,
             "#7201a8"
            ],
            [
             0.3333333333333333,
             "#9c179e"
            ],
            [
             0.4444444444444444,
             "#bd3786"
            ],
            [
             0.5555555555555556,
             "#d8576b"
            ],
            [
             0.6666666666666666,
             "#ed7953"
            ],
            [
             0.7777777777777778,
             "#fb9f3a"
            ],
            [
             0.8888888888888888,
             "#fdca26"
            ],
            [
             1,
             "#f0f921"
            ]
           ],
           "sequentialminus": [
            [
             0,
             "#0d0887"
            ],
            [
             0.1111111111111111,
             "#46039f"
            ],
            [
             0.2222222222222222,
             "#7201a8"
            ],
            [
             0.3333333333333333,
             "#9c179e"
            ],
            [
             0.4444444444444444,
             "#bd3786"
            ],
            [
             0.5555555555555556,
             "#d8576b"
            ],
            [
             0.6666666666666666,
             "#ed7953"
            ],
            [
             0.7777777777777778,
             "#fb9f3a"
            ],
            [
             0.8888888888888888,
             "#fdca26"
            ],
            [
             1,
             "#f0f921"
            ]
           ]
          },
          "colorway": [
           "#636efa",
           "#EF553B",
           "#00cc96",
           "#ab63fa",
           "#FFA15A",
           "#19d3f3",
           "#FF6692",
           "#B6E880",
           "#FF97FF",
           "#FECB52"
          ],
          "font": {
           "color": "#2a3f5f"
          },
          "geo": {
           "bgcolor": "white",
           "lakecolor": "white",
           "landcolor": "#E5ECF6",
           "showlakes": true,
           "showland": true,
           "subunitcolor": "white"
          },
          "hoverlabel": {
           "align": "left"
          },
          "hovermode": "closest",
          "mapbox": {
           "style": "light"
          },
          "paper_bgcolor": "white",
          "plot_bgcolor": "#E5ECF6",
          "polar": {
           "angularaxis": {
            "gridcolor": "white",
            "linecolor": "white",
            "ticks": ""
           },
           "bgcolor": "#E5ECF6",
           "radialaxis": {
            "gridcolor": "white",
            "linecolor": "white",
            "ticks": ""
           }
          },
          "scene": {
           "xaxis": {
            "backgroundcolor": "#E5ECF6",
            "gridcolor": "white",
            "gridwidth": 2,
            "linecolor": "white",
            "showbackground": true,
            "ticks": "",
            "zerolinecolor": "white"
           },
           "yaxis": {
            "backgroundcolor": "#E5ECF6",
            "gridcolor": "white",
            "gridwidth": 2,
            "linecolor": "white",
            "showbackground": true,
            "ticks": "",
            "zerolinecolor": "white"
           },
           "zaxis": {
            "backgroundcolor": "#E5ECF6",
            "gridcolor": "white",
            "gridwidth": 2,
            "linecolor": "white",
            "showbackground": true,
            "ticks": "",
            "zerolinecolor": "white"
           }
          },
          "shapedefaults": {
           "line": {
            "color": "#2a3f5f"
           }
          },
          "ternary": {
           "aaxis": {
            "gridcolor": "white",
            "linecolor": "white",
            "ticks": ""
           },
           "baxis": {
            "gridcolor": "white",
            "linecolor": "white",
            "ticks": ""
           },
           "bgcolor": "#E5ECF6",
           "caxis": {
            "gridcolor": "white",
            "linecolor": "white",
            "ticks": ""
           }
          },
          "title": {
           "x": 0.05
          },
          "xaxis": {
           "automargin": true,
           "gridcolor": "white",
           "linecolor": "white",
           "ticks": "",
           "title": {
            "standoff": 15
           },
           "zerolinecolor": "white",
           "zerolinewidth": 2
          },
          "yaxis": {
           "automargin": true,
           "gridcolor": "white",
           "linecolor": "white",
           "ticks": "",
           "title": {
            "standoff": 15
           },
           "zerolinecolor": "white",
           "zerolinewidth": 2
          }
         }
        },
        "width": 300,
        "xaxis": {
         "showgrid": false,
         "tickmode": "array",
         "tickvals": [],
         "zeroline": false
        },
        "yaxis": {
         "range": [
          9.5,
          -0.5
         ],
         "showgrid": false,
         "tickmode": "array",
         "tickvals": [],
         "zeroline": false
        }
       }
      },
      "text/html": [
       "<div>                            <div id=\"e607c2e5-61e5-4450-8ffc-e0f7170981a3\" class=\"plotly-graph-div\" style=\"height:300px; width:300px;\"></div>            <script type=\"text/javascript\">                require([\"plotly\"], function(Plotly) {                    window.PLOTLYENV=window.PLOTLYENV || {};                                    if (document.getElementById(\"e607c2e5-61e5-4450-8ffc-e0f7170981a3\")) {                    Plotly.newPlot(                        \"e607c2e5-61e5-4450-8ffc-e0f7170981a3\",                        [{\"customdata\":[[\"0\",[490,700,280],1760,2130],[\"1\",[930,850,940],6900,8480],[\"2\",[670,300,260],6720,7130],[\"3\",[970,550,330],2690,8410],[\"4\",[570,240,580],8110,4770],[\"5\",[570,960,600],3150,3980],[\"6\",[630,900,930],8090,2140],[\"7\",[340,650,80],1870,5970],[\"8\",[240,420,100],7310,2190],[\"9\",[990,490,250],9340,8920]],\"hovertemplate\":\"Name: %{customdata[0]}\\u003cbr\\u003eActivations: %{customdata[1]}\\u003cbr\\u003eParameters: %{customdata[2]}\\u003cbr\\u003eFLOPS: %{customdata[3]}\",\"marker\":{\"color\":[3.3283796034387376,3.9283958522567137,3.8530895298518657,3.924795995797912,3.678518379040114,3.5998830720736876,3.330413773349191,3.775974331129369,3.3404441148401185,3.950364854376123],\"colorscale\":[[0.0,\"rgb(0,0,255)\"],[1.0,\"rgb(255,0,0)\"]],\"size\":[10.73653800344245,12.516547272211765,12.482107819161476,11.289256840007225,12.727062562633467,11.4949316613688,12.723845564836816,10.815524819609497,12.59175213087358,12.91104062869028]},\"mode\":\"markers\",\"showlegend\":false,\"x\":[0,0,0,0,0,0,0,0,0,0],\"y\":[0,1,2,3,4,5,6,7,8,9],\"type\":\"scatter\"},{\"hoverinfo\":\"skip\",\"hovertemplate\":\"Connection 0\\u003cbr\\u003eNodes: 0-1\\u003cbr\\u003e\\u003cextra\\u003e\\u003c\\u002fextra\\u003e\",\"line\":{\"color\":\"gray\",\"width\":1},\"mode\":\"lines\",\"showlegend\":false,\"x\":[0,0.0,0],\"y\":[0,0.5,1],\"type\":\"scatter\"},{\"hoverinfo\":\"skip\",\"hovertemplate\":\"Connection 1\\u003cbr\\u003eNodes: 0-4\\u003cbr\\u003e\\u003cextra\\u003e\\u003c\\u002fextra\\u003e\",\"line\":{\"color\":\"gray\",\"width\":1},\"mode\":\"lines\",\"showlegend\":false,\"x\":[-1.2246467991473532e-16,-0.32918918056146795,-0.6493989384093671,-0.9518947860741472,-1.2284254253793356,-1.4714478213462634,-1.674332956525057,-1.8315466533101148,-1.9388005318786607,-1.9931689860133397,-1.9931689860133397,-1.9388005318786607,-1.831546653310115,-1.6743329565250573,-1.4714478213462634,-1.2284254253793359,-0.9518947860741472,-0.6493989384093671,-0.32918918056146795,-1.2246467991473532e-16],\"y\":[4.0,3.9727226068054446,3.891634483401269,3.758947502412978,3.5782810187927874,3.3545631432514824,3.093896316244854,2.8033908493059387,2.4909709742815984,2.1651586909446645,1.8348413090553353,1.5090290257184016,1.1966091506940613,0.9061036837551466,0.645436856748518,0.42171898120721285,0.24105249758702207,0.10836551659873073,0.027277393194555355,0.0],\"type\":\"scatter\"},{\"hoverinfo\":\"skip\",\"hovertemplate\":\"Connection 2\\u003cbr\\u003eNodes: 0-9\\u003cbr\\u003e\\u003cextra\\u003e\\u003c\\u002fextra\\u003e\",\"line\":{\"color\":\"gray\",\"width\":1},\"mode\":\"lines\",\"showlegend\":false,\"x\":[-2.755455298081545e-16,-0.7406756562633029,-1.461147611421076,-2.141763268666831,-2.763957207103505,-3.3107575980290926,-3.7672491521813782,-4.120979969947758,-4.362301196726987,-4.484630218530015,-4.484630218530015,-4.362301196726987,-4.120979969947759,-3.767249152181379,-3.3107575980290926,-2.7639572071035055,-2.141763268666831,-1.461147611421076,-0.7406756562633029,-2.755455298081545e-16],\"y\":[9.0,8.93862586531225,8.756177587652857,8.4576318804292,8.051132292283771,7.547767072315835,6.9612667115509215,6.307629410938363,5.604684692133596,4.871607054625495,4.128392945374505,3.3953153078664036,2.692370589061638,2.03873328844908,1.4522329276841655,0.9488677077162291,0.5423681195707997,0.24382241234714375,0.06137413468774966,0.0],\"type\":\"scatter\"},{\"hoverinfo\":\"skip\",\"hovertemplate\":\"Connection 3\\u003cbr\\u003eNodes: 1-5\\u003cbr\\u003e\\u003cextra\\u003e\\u003c\\u002fextra\\u003e\",\"line\":{\"color\":\"gray\",\"width\":1},\"mode\":\"lines\",\"showlegend\":false,\"x\":[1.2246467991473532e-16,0.32918918056146795,0.6493989384093671,0.9518947860741472,1.2284254253793356,1.4714478213462634,1.674332956525057,1.8315466533101148,1.9388005318786607,1.9931689860133397,1.9931689860133397,1.9388005318786607,1.831546653310115,1.6743329565250573,1.4714478213462634,1.2284254253793359,0.9518947860741472,0.6493989384093671,0.32918918056146795,1.2246467991473532e-16],\"y\":[5.0,4.972722606805444,4.891634483401269,4.758947502412978,4.578281018792787,4.354563143251482,4.093896316244853,3.8033908493059387,3.4909709742815984,3.1651586909446645,2.8348413090553355,2.5090290257184016,2.1966091506940613,1.9061036837551466,1.645436856748518,1.4217189812072129,1.241052497587022,1.1083655165987307,1.0272773931945554,1.0],\"type\":\"scatter\"},{\"hoverinfo\":\"skip\",\"hovertemplate\":\"Connection 4\\u003cbr\\u003eNodes: 2-4\\u003cbr\\u003e\\u003cextra\\u003e\\u003c\\u002fextra\\u003e\",\"line\":{\"color\":\"gray\",\"width\":1},\"mode\":\"lines\",\"showlegend\":false,\"x\":[6.123233995736766e-17,0.16459459028073398,0.32469946920468357,0.4759473930370736,0.6142127126896678,0.7357239106731317,0.8371664782625285,0.9157733266550574,0.9694002659393304,0.9965844930066698,0.9965844930066698,0.9694002659393304,0.9157733266550575,0.8371664782625287,0.7357239106731317,0.6142127126896679,0.4759473930370736,0.32469946920468357,0.16459459028073398,6.123233995736766e-17],\"y\":[4.0,3.986361303402722,3.9458172417006345,3.879473751206489,3.7891405093963937,3.677281571625741,3.5469481581224267,3.4016954246529694,3.245485487140799,3.0825793454723325,2.9174206545276675,2.754514512859201,2.5983045753470306,2.4530518418775733,2.322718428374259,2.2108594906036063,2.120526248793511,2.0541827582993655,2.013638696597278,2.0],\"type\":\"scatter\"},{\"hoverinfo\":\"skip\",\"hovertemplate\":\"Connection 5\\u003cbr\\u003eNodes: 2-6\\u003cbr\\u003e\\u003cextra\\u003e\\u003c\\u002fextra\\u003e\",\"line\":{\"color\":\"gray\",\"width\":1},\"mode\":\"lines\",\"showlegend\":false,\"x\":[1.2246467991473532e-16,0.32918918056146795,0.6493989384093671,0.9518947860741472,1.2284254253793356,1.4714478213462634,1.674332956525057,1.8315466533101148,1.9388005318786607,1.9931689860133397,1.9931689860133397,1.9388005318786607,1.831546653310115,1.6743329565250573,1.4714478213462634,1.2284254253793359,0.9518947860741472,0.6493989384093671,0.32918918056146795,1.2246467991473532e-16],\"y\":[6.0,5.972722606805444,5.891634483401269,5.758947502412978,5.578281018792787,5.354563143251482,5.093896316244853,4.803390849305939,4.490970974281598,4.165158690944665,3.8348413090553355,3.5090290257184016,3.1966091506940613,2.9061036837551466,2.645436856748518,2.4217189812072126,2.241052497587022,2.108365516598731,2.0272773931945554,2.0],\"type\":\"scatter\"},{\"hoverinfo\":\"skip\",\"hovertemplate\":\"Connection 6\\u003cbr\\u003eNodes: 3-9\\u003cbr\\u003e\\u003cextra\\u003e\\u003c\\u002fextra\\u003e\",\"line\":{\"color\":\"gray\",\"width\":1},\"mode\":\"lines\",\"showlegend\":false,\"x\":[-1.8369701987210297e-16,-0.49378377084220193,-0.9740984076140506,-1.4278421791112208,-1.8426381380690033,-2.207171732019395,-2.5114994347875856,-2.747319979965172,-2.908200797817991,-2.9897534790200098,-2.9897534790200098,-2.908200797817991,-2.7473199799651726,-2.511499434787586,-2.207171732019395,-1.8426381380690038,-1.4278421791112208,-0.9740984076140506,-0.49378377084220193,-1.8369701987210297e-16],\"y\":[9.0,8.959083910208168,8.837451725101904,8.638421253619466,8.36742152818918,8.031844714877224,7.640844474367281,7.2050862739589085,6.736456461422398,6.247738036416997,5.752261963583003,5.263543538577602,4.794913726041092,4.35915552563272,3.9681552851227773,3.6325784718108194,3.361578746380533,3.162548274898096,3.040916089791833,3.0],\"type\":\"scatter\"},{\"hoverinfo\":\"skip\",\"hovertemplate\":\"Connection 7\\u003cbr\\u003eNodes: 4-9\\u003cbr\\u003e\\u003cextra\\u003e\\u003c\\u002fextra\\u003e\",\"line\":{\"color\":\"gray\",\"width\":1},\"mode\":\"lines\",\"showlegend\":false,\"x\":[-1.5308084989341916e-16,-0.41148647570183494,-0.8117486730117089,-1.189868482592684,-1.5355317817241696,-1.8393097766828292,-2.092916195656321,-2.2894333166376435,-2.423500664848326,-2.4914612325166745,-2.4914612325166745,-2.423500664848326,-2.289433316637644,-2.0929161956563216,-1.8393097766828292,-1.5355317817241698,-1.189868482592684,-0.8117486730117089,-0.41148647570183494,-1.5308084989341916e-16],\"y\":[9.0,8.965903258506806,8.864543104251586,8.698684378016223,8.472851273490985,8.193203929064353,7.867370395306067,7.504238561632423,7.113713717851998,6.706448363680831,6.293551636319169,5.886286282148002,5.495761438367577,5.132629604693934,4.806796070935647,4.527148726509016,4.301315621983777,4.135456895748414,4.034096741493194,4.0],\"type\":\"scatter\"},{\"hoverinfo\":\"skip\",\"hovertemplate\":\"Connection 8\\u003cbr\\u003eNodes: 5-8\\u003cbr\\u003e\\u003cextra\\u003e\\u003c\\u002fextra\\u003e\",\"line\":{\"color\":\"gray\",\"width\":1},\"mode\":\"lines\",\"showlegend\":false,\"x\":[-9.184850993605148e-17,-0.24689188542110097,-0.4870492038070253,-0.7139210895556104,-0.9213190690345017,-1.1035858660096975,-1.2557497173937928,-1.373659989982586,-1.4541003989089956,-1.4948767395100049,-1.4948767395100049,-1.4541003989089956,-1.3736599899825863,-1.255749717393793,-1.1035858660096975,-0.9213190690345019,-0.7139210895556104,-0.4870492038070253,-0.24689188542110097,-9.184850993605148e-17],\"y\":[8.0,7.979541955104084,7.918725862550952,7.819210626809733,7.68371076409459,7.515922357438612,7.3204222371836405,7.102543136979454,6.868228230711199,6.623869018208499,6.376130981791501,6.131771769288801,5.897456863020546,5.6795777628163595,5.484077642561388,5.31628923590541,5.180789373190267,5.081274137449048,5.020458044895916,5.0],\"type\":\"scatter\"},{\"hoverinfo\":\"skip\",\"hovertemplate\":\"Connection 9\\u003cbr\\u003eNodes: 6-8\\u003cbr\\u003e\\u003cextra\\u003e\\u003c\\u002fextra\\u003e\",\"line\":{\"color\":\"gray\",\"width\":1},\"mode\":\"lines\",\"showlegend\":false,\"x\":[6.123233995736766e-17,0.16459459028073398,0.32469946920468357,0.4759473930370736,0.6142127126896678,0.7357239106731317,0.8371664782625285,0.9157733266550574,0.9694002659393304,0.9965844930066698,0.9965844930066698,0.9694002659393304,0.9157733266550575,0.8371664782625287,0.7357239106731317,0.6142127126896679,0.4759473930370736,0.32469946920468357,0.16459459028073398,6.123233995736766e-17],\"y\":[8.0,7.986361303402722,7.9458172417006345,7.879473751206489,7.789140509396393,7.677281571625741,7.546948158122427,7.40169542465297,7.245485487140799,7.0825793454723325,6.9174206545276675,6.754514512859201,6.598304575347031,6.453051841877573,6.322718428374259,6.210859490603607,6.120526248793511,6.0541827582993655,6.013638696597278,6.0],\"type\":\"scatter\"},{\"hoverinfo\":\"skip\",\"hovertemplate\":\"Connection 10\\u003cbr\\u003eNodes: 7-8\\u003cbr\\u003e\\u003cextra\\u003e\\u003c\\u002fextra\\u003e\",\"line\":{\"color\":\"gray\",\"width\":1},\"mode\":\"lines\",\"showlegend\":false,\"x\":[0,0.0,0],\"y\":[7,7.5,8],\"type\":\"scatter\"}],                        {\"height\":300,\"width\":300,\"template\":{\"data\":{\"histogram2dcontour\":[{\"type\":\"histogram2dcontour\",\"colorbar\":{\"outlinewidth\":0,\"ticks\":\"\"},\"colorscale\":[[0.0,\"#0d0887\"],[0.1111111111111111,\"#46039f\"],[0.2222222222222222,\"#7201a8\"],[0.3333333333333333,\"#9c179e\"],[0.4444444444444444,\"#bd3786\"],[0.5555555555555556,\"#d8576b\"],[0.6666666666666666,\"#ed7953\"],[0.7777777777777778,\"#fb9f3a\"],[0.8888888888888888,\"#fdca26\"],[1.0,\"#f0f921\"]]}],\"choropleth\":[{\"type\":\"choropleth\",\"colorbar\":{\"outlinewidth\":0,\"ticks\":\"\"}}],\"histogram2d\":[{\"type\":\"histogram2d\",\"colorbar\":{\"outlinewidth\":0,\"ticks\":\"\"},\"colorscale\":[[0.0,\"#0d0887\"],[0.1111111111111111,\"#46039f\"],[0.2222222222222222,\"#7201a8\"],[0.3333333333333333,\"#9c179e\"],[0.4444444444444444,\"#bd3786\"],[0.5555555555555556,\"#d8576b\"],[0.6666666666666666,\"#ed7953\"],[0.7777777777777778,\"#fb9f3a\"],[0.8888888888888888,\"#fdca26\"],[1.0,\"#f0f921\"]]}],\"heatmap\":[{\"type\":\"heatmap\",\"colorbar\":{\"outlinewidth\":0,\"ticks\":\"\"},\"colorscale\":[[0.0,\"#0d0887\"],[0.1111111111111111,\"#46039f\"],[0.2222222222222222,\"#7201a8\"],[0.3333333333333333,\"#9c179e\"],[0.4444444444444444,\"#bd3786\"],[0.5555555555555556,\"#d8576b\"],[0.6666666666666666,\"#ed7953\"],[0.7777777777777778,\"#fb9f3a\"],[0.8888888888888888,\"#fdca26\"],[1.0,\"#f0f921\"]]}],\"heatmapgl\":[{\"type\":\"heatmapgl\",\"colorbar\":{\"outlinewidth\":0,\"ticks\":\"\"},\"colorscale\":[[0.0,\"#0d0887\"],[0.1111111111111111,\"#46039f\"],[0.2222222222222222,\"#7201a8\"],[0.3333333333333333,\"#9c179e\"],[0.4444444444444444,\"#bd3786\"],[0.5555555555555556,\"#d8576b\"],[0.6666666666666666,\"#ed7953\"],[0.7777777777777778,\"#fb9f3a\"],[0.8888888888888888,\"#fdca26\"],[1.0,\"#f0f921\"]]}],\"contourcarpet\":[{\"type\":\"contourcarpet\",\"colorbar\":{\"outlinewidth\":0,\"ticks\":\"\"}}],\"contour\":[{\"type\":\"contour\",\"colorbar\":{\"outlinewidth\":0,\"ticks\":\"\"},\"colorscale\":[[0.0,\"#0d0887\"],[0.1111111111111111,\"#46039f\"],[0.2222222222222222,\"#7201a8\"],[0.3333333333333333,\"#9c179e\"],[0.4444444444444444,\"#bd3786\"],[0.5555555555555556,\"#d8576b\"],[0.6666666666666666,\"#ed7953\"],[0.7777777777777778,\"#fb9f3a\"],[0.8888888888888888,\"#fdca26\"],[1.0,\"#f0f921\"]]}],\"surface\":[{\"type\":\"surface\",\"colorbar\":{\"outlinewidth\":0,\"ticks\":\"\"},\"colorscale\":[[0.0,\"#0d0887\"],[0.1111111111111111,\"#46039f\"],[0.2222222222222222,\"#7201a8\"],[0.3333333333333333,\"#9c179e\"],[0.4444444444444444,\"#bd3786\"],[0.5555555555555556,\"#d8576b\"],[0.6666666666666666,\"#ed7953\"],[0.7777777777777778,\"#fb9f3a\"],[0.8888888888888888,\"#fdca26\"],[1.0,\"#f0f921\"]]}],\"mesh3d\":[{\"type\":\"mesh3d\",\"colorbar\":{\"outlinewidth\":0,\"ticks\":\"\"}}],\"scatter\":[{\"fillpattern\":{\"fillmode\":\"overlay\",\"size\":10,\"solidity\":0.2},\"type\":\"scatter\"}],\"parcoords\":[{\"type\":\"parcoords\",\"line\":{\"colorbar\":{\"outlinewidth\":0,\"ticks\":\"\"}}}],\"scatterpolargl\":[{\"type\":\"scatterpolargl\",\"marker\":{\"colorbar\":{\"outlinewidth\":0,\"ticks\":\"\"}}}],\"bar\":[{\"error_x\":{\"color\":\"#2a3f5f\"},\"error_y\":{\"color\":\"#2a3f5f\"},\"marker\":{\"line\":{\"color\":\"#E5ECF6\",\"width\":0.5},\"pattern\":{\"fillmode\":\"overlay\",\"size\":10,\"solidity\":0.2}},\"type\":\"bar\"}],\"scattergeo\":[{\"type\":\"scattergeo\",\"marker\":{\"colorbar\":{\"outlinewidth\":0,\"ticks\":\"\"}}}],\"scatterpolar\":[{\"type\":\"scatterpolar\",\"marker\":{\"colorbar\":{\"outlinewidth\":0,\"ticks\":\"\"}}}],\"histogram\":[{\"marker\":{\"pattern\":{\"fillmode\":\"overlay\",\"size\":10,\"solidity\":0.2}},\"type\":\"histogram\"}],\"scattergl\":[{\"type\":\"scattergl\",\"marker\":{\"colorbar\":{\"outlinewidth\":0,\"ticks\":\"\"}}}],\"scatter3d\":[{\"type\":\"scatter3d\",\"line\":{\"colorbar\":{\"outlinewidth\":0,\"ticks\":\"\"}},\"marker\":{\"colorbar\":{\"outlinewidth\":0,\"ticks\":\"\"}}}],\"scattermapbox\":[{\"type\":\"scattermapbox\",\"marker\":{\"colorbar\":{\"outlinewidth\":0,\"ticks\":\"\"}}}],\"scatterternary\":[{\"type\":\"scatterternary\",\"marker\":{\"colorbar\":{\"outlinewidth\":0,\"ticks\":\"\"}}}],\"scattercarpet\":[{\"type\":\"scattercarpet\",\"marker\":{\"colorbar\":{\"outlinewidth\":0,\"ticks\":\"\"}}}],\"carpet\":[{\"aaxis\":{\"endlinecolor\":\"#2a3f5f\",\"gridcolor\":\"white\",\"linecolor\":\"white\",\"minorgridcolor\":\"white\",\"startlinecolor\":\"#2a3f5f\"},\"baxis\":{\"endlinecolor\":\"#2a3f5f\",\"gridcolor\":\"white\",\"linecolor\":\"white\",\"minorgridcolor\":\"white\",\"startlinecolor\":\"#2a3f5f\"},\"type\":\"carpet\"}],\"table\":[{\"cells\":{\"fill\":{\"color\":\"#EBF0F8\"},\"line\":{\"color\":\"white\"}},\"header\":{\"fill\":{\"color\":\"#C8D4E3\"},\"line\":{\"color\":\"white\"}},\"type\":\"table\"}],\"barpolar\":[{\"marker\":{\"line\":{\"color\":\"#E5ECF6\",\"width\":0.5},\"pattern\":{\"fillmode\":\"overlay\",\"size\":10,\"solidity\":0.2}},\"type\":\"barpolar\"}],\"pie\":[{\"automargin\":true,\"type\":\"pie\"}]},\"layout\":{\"autotypenumbers\":\"strict\",\"colorway\":[\"#636efa\",\"#EF553B\",\"#00cc96\",\"#ab63fa\",\"#FFA15A\",\"#19d3f3\",\"#FF6692\",\"#B6E880\",\"#FF97FF\",\"#FECB52\"],\"font\":{\"color\":\"#2a3f5f\"},\"hovermode\":\"closest\",\"hoverlabel\":{\"align\":\"left\"},\"paper_bgcolor\":\"white\",\"plot_bgcolor\":\"#E5ECF6\",\"polar\":{\"bgcolor\":\"#E5ECF6\",\"angularaxis\":{\"gridcolor\":\"white\",\"linecolor\":\"white\",\"ticks\":\"\"},\"radialaxis\":{\"gridcolor\":\"white\",\"linecolor\":\"white\",\"ticks\":\"\"}},\"ternary\":{\"bgcolor\":\"#E5ECF6\",\"aaxis\":{\"gridcolor\":\"white\",\"linecolor\":\"white\",\"ticks\":\"\"},\"baxis\":{\"gridcolor\":\"white\",\"linecolor\":\"white\",\"ticks\":\"\"},\"caxis\":{\"gridcolor\":\"white\",\"linecolor\":\"white\",\"ticks\":\"\"}},\"coloraxis\":{\"colorbar\":{\"outlinewidth\":0,\"ticks\":\"\"}},\"colorscale\":{\"sequential\":[[0.0,\"#0d0887\"],[0.1111111111111111,\"#46039f\"],[0.2222222222222222,\"#7201a8\"],[0.3333333333333333,\"#9c179e\"],[0.4444444444444444,\"#bd3786\"],[0.5555555555555556,\"#d8576b\"],[0.6666666666666666,\"#ed7953\"],[0.7777777777777778,\"#fb9f3a\"],[0.8888888888888888,\"#fdca26\"],[1.0,\"#f0f921\"]],\"sequentialminus\":[[0.0,\"#0d0887\"],[0.1111111111111111,\"#46039f\"],[0.2222222222222222,\"#7201a8\"],[0.3333333333333333,\"#9c179e\"],[0.4444444444444444,\"#bd3786\"],[0.5555555555555556,\"#d8576b\"],[0.6666666666666666,\"#ed7953\"],[0.7777777777777778,\"#fb9f3a\"],[0.8888888888888888,\"#fdca26\"],[1.0,\"#f0f921\"]],\"diverging\":[[0,\"#8e0152\"],[0.1,\"#c51b7d\"],[0.2,\"#de77ae\"],[0.3,\"#f1b6da\"],[0.4,\"#fde0ef\"],[0.5,\"#f7f7f7\"],[0.6,\"#e6f5d0\"],[0.7,\"#b8e186\"],[0.8,\"#7fbc41\"],[0.9,\"#4d9221\"],[1,\"#276419\"]]},\"xaxis\":{\"gridcolor\":\"white\",\"linecolor\":\"white\",\"ticks\":\"\",\"title\":{\"standoff\":15},\"zerolinecolor\":\"white\",\"automargin\":true,\"zerolinewidth\":2},\"yaxis\":{\"gridcolor\":\"white\",\"linecolor\":\"white\",\"ticks\":\"\",\"title\":{\"standoff\":15},\"zerolinecolor\":\"white\",\"automargin\":true,\"zerolinewidth\":2},\"scene\":{\"xaxis\":{\"backgroundcolor\":\"#E5ECF6\",\"gridcolor\":\"white\",\"linecolor\":\"white\",\"showbackground\":true,\"ticks\":\"\",\"zerolinecolor\":\"white\",\"gridwidth\":2},\"yaxis\":{\"backgroundcolor\":\"#E5ECF6\",\"gridcolor\":\"white\",\"linecolor\":\"white\",\"showbackground\":true,\"ticks\":\"\",\"zerolinecolor\":\"white\",\"gridwidth\":2},\"zaxis\":{\"backgroundcolor\":\"#E5ECF6\",\"gridcolor\":\"white\",\"linecolor\":\"white\",\"showbackground\":true,\"ticks\":\"\",\"zerolinecolor\":\"white\",\"gridwidth\":2}},\"shapedefaults\":{\"line\":{\"color\":\"#2a3f5f\"}},\"annotationdefaults\":{\"arrowcolor\":\"#2a3f5f\",\"arrowhead\":0,\"arrowwidth\":1},\"geo\":{\"bgcolor\":\"white\",\"landcolor\":\"#E5ECF6\",\"subunitcolor\":\"white\",\"showland\":true,\"showlakes\":true,\"lakecolor\":\"white\"},\"title\":{\"x\":0.05},\"mapbox\":{\"style\":\"light\"}}},\"xaxis\":{\"showgrid\":false,\"zeroline\":false,\"tickmode\":\"array\",\"tickvals\":[]},\"yaxis\":{\"showgrid\":false,\"zeroline\":false,\"tickmode\":\"array\",\"tickvals\":[],\"range\":[9.5,-0.5]},\"margin\":{\"l\":0,\"r\":0,\"t\":0,\"b\":0},\"modebar\":{\"remove\":[\"toimage\",\"select\",\"lasso\",\"zoomin\",\"zoomout\"],\"orientation\":\"v\"}},                        {\"responsive\": true}                    ).then(function(){\n",
       "                            \n",
       "var gd = document.getElementById('e607c2e5-61e5-4450-8ffc-e0f7170981a3');\n",
       "var x = new MutationObserver(function (mutations, observer) {{\n",
       "        var display = window.getComputedStyle(gd).display;\n",
       "        if (!display || display === 'none') {{\n",
       "            console.log([gd, 'removed!']);\n",
       "            Plotly.purge(gd);\n",
       "            observer.disconnect();\n",
       "        }}\n",
       "}});\n",
       "\n",
       "// Listen for the removal of the full notebook cells\n",
       "var notebookContainer = gd.closest('#notebook-container');\n",
       "if (notebookContainer) {{\n",
       "    x.observe(notebookContainer, {childList: true});\n",
       "}}\n",
       "\n",
       "// Listen for the clearing of the current output cell\n",
       "var outputEl = gd.closest('.output');\n",
       "if (outputEl) {{\n",
       "    x.observe(outputEl, {childList: true});\n",
       "}}\n",
       "\n",
       "                        })                };                });            </script>        </div>"
      ]
     },
     "metadata": {},
     "output_type": "display_data"
    }
   ],
   "source": [
    "A1 = A.copy()\n",
    "A1[A1==2] = 0  # Consider only 1's\n",
    "AL = np.zeros(A.shape)\n",
    "AR = np.zeros(A.shape)\n",
    "left_idxs:List[int] = []\n",
    "right_idxs:List[int] = []\n",
    "unassigned_idxs = set([i for i in range(num_skip_connections)])\n",
    "\n",
    "def step2_cost(A:NDArray, idx:int):\n",
    "    return A[:,idx].sum()\n",
    "\n",
    "def step2_costdiff(AL:NDArray, AR:NDArray, idx:int):\n",
    "    return step2_cost(AL,idx) - step2_cost(AR,idx)\n",
    "\n",
    "def step2_assign(idx:int, to_right:bool, A1:NDArray, AL:NDArray, AR:NDArray, left_idxs:List[int], right_idxs:List[int], unassigned_idxs:Set[int]):\n",
    "    if to_right:\n",
    "        AR[idx,:] = A1[idx,:]\n",
    "        left_idxs.append(idx)\n",
    "    else:\n",
    "        AL[idx,:] = A1[idx,:]\n",
    "        right_idxs.append(idx)\n",
    "    unassigned_idxs.remove(idx)\n",
    "\n",
    "col_sums = A1.sum(axis=0)\n",
    "idx = col_sums.argmax()\n",
    "step2_assign(idx, False, A1, AL, AR, left_idxs, right_idxs, unassigned_idxs)\n",
    "while unassigned_idxs:\n",
    "    cost_diffs = AR.sum(axis=0) - AL.sum(axis=0)\n",
    "    abs_cost_diffs:NDArray = np.abs(cost_diffs)\n",
    "    abs_cost_diffs[left_idxs + right_idxs] = -1\n",
    "    idx = abs_cost_diffs.argmax()  # TODO: tie-break on smallest total column sum in A??\n",
    "    to_right = cost_diffs[idx] <= 0\n",
    "    step2_assign(idx, to_right, A1, AL, AR, left_idxs, right_idxs, unassigned_idxs)\n",
    "\n",
    "for idx in left_idxs: skip_connections[idx].offset = -1\n",
    "for idx in right_idxs: skip_connections[idx].offset = 1\n",
    "SemiCircleViewer(g).draw(300)\n"
   ]
  },
  {
   "cell_type": "markdown",
   "metadata": {},
   "source": [
    "## Step 3: Determine x-coordinates of skip connections\n",
    "* Treat the left and right sides separately. Their problems are now independent\n",
    "  * For each size, start by copying the relevant rows and columns from `A` to `B`, which starts as a copy and becomes zero as this step progresses\n",
    "* In a separate matrix `C`, keep track of where lines are drawn to avoid using a segment twice\n",
    "  * `C[i,j]` is non-zero if there is a line segment that skips a the `i'th` level at the `j'th` x-offset grid line\n",
    "  * `C` starts as a single column and grows as grid lines are added in the horizontal dimension\n",
    "  * The spacing of the grid lines are calculated afterwards, when `C` is fully populated\n",
    "* Start placing connections from the inside out\n",
    "* When placing a connection:\n",
    "  * Check `C` to determine the closest possible position to the nodes without using any cell twice\n",
    "  * Update `C` to reflect the new placement\n",
    "  * Set both the row and column corresponding to the index of the placed connection to zero in `B`\n",
    "* In a loop, place connections in the following order. If a node is placed, restart the loop without completing it.\n",
    "  * Any unplaced connections with a zero row sum in `B`\n",
    "  * Any connections with one or more 2's in their columns but no 2's in their rows\n",
    "  * The connection with the lowest row sum"
   ]
  },
  {
   "cell_type": "code",
   "execution_count": 227,
   "metadata": {},
   "outputs": [],
   "source": [
    "def step3_ensure_width(C:NDArray, w:int):\n",
    "    if C.shape[1] >= w: return C\n",
    "    return np.append(C, np.zeros((C.shape[0], w-C.shape[1])), axis=1)\n",
    "\n",
    "def step3_get_idx_to_place(B:NDArray, placed_idxs:List[int], unplaced_idxs:Set[int]):\n",
    "    # Check for any unplaced index with a zero row sum\n",
    "    row_sums = B.sum(axis=1)\n",
    "    row_sums[placed_idxs] = 999999\n",
    "    zero_row_sum_idxs = (row_sums==0).nonzero()[0]\n",
    "    if len(zero_row_sum_idxs) > 0: return zero_row_sum_idxs[0]\n",
    "\n",
    "    # Check for any index with 2's in columns, but not in rows\n",
    "    # * Placed indices are already zeroed out\n",
    "    col_2_counts = (B==2).sum(axis=0)\n",
    "    row_2_counts = (B==2).sum(axis=0)\n",
    "    diff_2_counts = col_2_counts - row_2_counts\n",
    "    diff_2_counts[row_2_counts > 0] = 0\n",
    "    diff_2_counts[placed_idxs] = 0\n",
    "    if (diff_2_counts>0).any(): return diff_2_counts.argmax()\n",
    "\n",
    "    # If this point is reached, place the unplaced connection with the lowest row sum\n",
    "    return row_sums.argmin()\n",
    "\n",
    "def step3_place(B:NDArray, C:NDArray, placed_idxs:List[int], unplaced_idxs:Set[int], idx:int, c:MavConnection, side_factor):\n",
    "    y0, y1 = c.from_node.y+1, c.to_node.y-1\n",
    "    x = 0  # Offset at which to place connection\n",
    "    C = step3_ensure_width(C, x+1)\n",
    "    occupied = C[y0:y1+1,:].any()\n",
    "    while occupied:\n",
    "        x += 1\n",
    "        C = step3_ensure_width(C, x+1)\n",
    "        occupied = C[y0:y1+1,x].any()\n",
    "    B[idx,:] = 0\n",
    "    B[:,idx] = 0\n",
    "    C[y0:y1+1,:] = 1\n",
    "    c.offset = side_factor * (x+1)  # side_factor if -1 for left or +1 for right hand side\n",
    "    placed_idxs.append(idx)\n",
    "    unplaced_idxs.remove(idx)\n",
    "    return C  # Return the only object that may have been copied. Others were modified in-place\n",
    "\n",
    "for side in range(2):\n",
    "    if side==0:\n",
    "        side_connections = [skip_connections[i] for i in left_idxs]\n",
    "        B = A.copy()[left_idxs,:][:,left_idxs]\n",
    "        side_factor = -1\n",
    "    else:\n",
    "        side_connections = [skip_connections[i] for i in right_idxs]\n",
    "        B = A.copy()[right_idxs,:][:,right_idxs]\n",
    "        side_factor = 1\n",
    "    num_side_connections = len(side_connections)\n",
    "    max_y = max([c.to_node.y for c in side_connections])\n",
    "    C = np.zeros((max_y+1,1))\n",
    "\n",
    "    placed_idxs:List[int] = []\n",
    "    unplaced_idxs = set([i for i in range(num_side_connections)])\n",
    "    while unplaced_idxs:\n",
    "        idx = step3_get_idx_to_place(B, placed_idxs, unplaced_idxs)\n",
    "        C = step3_place(B, C, placed_idxs, unplaced_idxs, idx, side_connections[idx], side_factor)\n",
    "\n",
    "# Normalize\n",
    "max_abs_offset = max([abs(c.offset) for c in skip_connections])\n",
    "scale_factor = 0.4 / max_abs_offset\n",
    "for c in skip_connections: c.offset = c.offset*scale_factor"
   ]
  },
  {
   "cell_type": "code",
   "execution_count": 230,
   "metadata": {},
   "outputs": [],
   "source": [
    "def step3_calc_offsets(A:NDArray, skip_connections:List[MavConnection], left_idxs:List[int], right_idxs:List[int]):\n",
    "    for side in range(2):\n",
    "        if side==0:\n",
    "            side_connections = [skip_connections[i] for i in left_idxs]\n",
    "            B = A.copy()[left_idxs,:][:,left_idxs]\n",
    "            side_factor = -1\n",
    "        else:\n",
    "            side_connections = [skip_connections[i] for i in right_idxs]\n",
    "            B = A.copy()[right_idxs,:][:,right_idxs]\n",
    "            side_factor = 1\n",
    "        num_side_connections = len(side_connections)\n",
    "        max_y = max([c.to_node.y for c in side_connections])\n",
    "        C = np.zeros((max_y+1,1))\n",
    "\n",
    "        placed_idxs:List[int] = []\n",
    "        unplaced_idxs = set([i for i in range(num_side_connections)])\n",
    "        while unplaced_idxs:\n",
    "            idx = step3_get_idx_to_place(B, placed_idxs, unplaced_idxs)\n",
    "            C = step3_place(B, C, placed_idxs, unplaced_idxs, idx, side_connections[idx], side_factor)\n",
    "\n",
    "    # Normalize\n",
    "    max_abs_offset = max([abs(c.offset) for c in skip_connections])\n",
    "    scale_factor = 0.4 / max_abs_offset\n",
    "    for c in skip_connections: c.offset = c.offset*scale_factor"
   ]
  },
  {
   "cell_type": "code",
   "execution_count": 231,
   "metadata": {},
   "outputs": [
    {
     "name": "stdout",
     "output_type": "stream",
     "text": [
      "351 μs ± 18.1 μs per loop (mean ± std. dev. of 7 runs, 1,000 loops each)\n"
     ]
    }
   ],
   "source": [
    "%timeit step3_calc_offsets(A, skip_connections, left_idxs, right_idxs)"
   ]
  },
  {
   "cell_type": "code",
   "execution_count": 232,
   "metadata": {},
   "outputs": [],
   "source": [
    "reload_imports()"
   ]
  },
  {
   "cell_type": "code",
   "execution_count": 233,
   "metadata": {},
   "outputs": [
    {
     "data": {
      "text/html": [
       "        <script type=\"text/javascript\">\n",
       "        window.PlotlyConfig = {MathJaxConfig: 'local'};\n",
       "        if (window.MathJax && window.MathJax.Hub && window.MathJax.Hub.Config) {window.MathJax.Hub.Config({SVG: {font: \"STIX-Web\"}});}\n",
       "        if (typeof require !== 'undefined') {\n",
       "        require.undef(\"plotly\");\n",
       "        requirejs.config({\n",
       "            paths: {\n",
       "                'plotly': ['https://cdn.plot.ly/plotly-2.35.2.min']\n",
       "            }\n",
       "        });\n",
       "        require(['plotly'], function(Plotly) {\n",
       "            window._Plotly = Plotly;\n",
       "        });\n",
       "        }\n",
       "        </script>\n",
       "        "
      ]
     },
     "metadata": {},
     "output_type": "display_data"
    },
    {
     "data": {
      "text/html": [
       "<div>                            <div id=\"522aec1d-4f28-440a-a685-089fe8528a81\" class=\"plotly-graph-div\" style=\"height:525px; width:100%;\"></div>            <script type=\"text/javascript\">                require([\"plotly\"], function(Plotly) {                    window.PLOTLYENV=window.PLOTLYENV || {};                                    if (document.getElementById(\"522aec1d-4f28-440a-a685-089fe8528a81\")) {                    Plotly.newPlot(                        \"522aec1d-4f28-440a-a685-089fe8528a81\",                        [{\"customdata\":[[\"0\",\"sample\",[490,700,280],1760,2130],[\"1\",\"sample\",[930,850,940],6900,8480],[\"2\",\"sample\",[670,300,260],6720,7130],[\"3\",\"sample\",[970,550,330],2690,8410],[\"4\",\"sample\",[570,240,580],8110,4770],[\"5\",\"sample\",[570,960,600],3150,3980],[\"6\",\"sample\",[630,900,930],8090,2140],[\"7\",\"sample\",[340,650,80],1870,5970],[\"8\",\"sample\",[240,420,100],7310,2190],[\"9\",\"sample\",[990,490,250],9340,8920]],\"hovertemplate\":\"Name: %{customdata[0]}\\u003cbr\\u003eOperation: %{customdata[1]}\\u003cbr\\u003eActivations: %{customdata[2]}\\u003cbr\\u003eParameters: %{customdata[3]}\\u003cbr\\u003eFLOPS: %{customdata[4]}\\u003cbr\\u003e\\u003cextra\\u003e\\u003c\\u002fextra\\u003e\",\"marker\":{\"color\":[\"#bf7f7f\",\"#bf7f7f\",\"#bf7f7f\",\"#bf7f7f\",\"#bf7f7f\",\"#bf7f7f\",\"#bf7f7f\",\"#bf7f7f\",\"#bf7f7f\",\"#bf7f7f\"],\"colorscale\":[[0.0,\"rgb(0,0,255)\"],[1.0,\"rgb(255,0,0)\"]],\"size\":[6.0,15.822987094714293,15.632932858032756,9.050180745595267,16.98471642800149,10.185197934207597,16.966963414916293,6.435889008824048,16.238005358414455,18.0]},\"mode\":\"markers\",\"showlegend\":false,\"x\":[0,0,0,0,0,0,0,0,0,0],\"y\":[0,1,2,3,4,5,6,7,8,9],\"type\":\"scatter\",\"xaxis\":\"x\",\"yaxis\":\"y\"},{\"hoverinfo\":\"skip\",\"line\":{\"color\":\"gray\",\"width\":1},\"mode\":\"lines\",\"showlegend\":false,\"x\":[0,0,null,0,-0.1,-0.1,0,null,0,-0.4,-0.4,0,null,0,0.30000000000000004,0.30000000000000004,0,null,0,0.1,0.1,0,null,0,0.2,0.2,0,null,0,-0.30000000000000004,-0.30000000000000004,0,null,0,-0.2,-0.2,0,null,0,-0.1,-0.1,0,null,0,0.1,0.1,0,null,0,0],\"y\":[0,1,null,0,0.5,3.5,4,null,0,0.5,8.5,9,null,1,1.5,4.5,5,null,2,2.5,3.5,4,null,2,2.5,5.5,6,null,3,3.5,8.5,9,null,4,4.5,8.5,9,null,5,5.5,7.5,8,null,6,6.5,7.5,8,null,7,8],\"type\":\"scatter\",\"xaxis\":\"x\",\"yaxis\":\"y\"},{\"cells\":{\"align\":\"left\",\"values\":[[\"0\",\"1\",\"2\",\"3\",\"4\",\"5\",\"6\",\"7\",\"8\",\"9\"],[\"sample\",\"sample\",\"sample\",\"sample\",\"sample\",\"sample\",\"sample\",\"sample\",\"sample\",\"sample\"],[[490,700,280],[930,850,940],[670,300,260],[970,550,330],[570,240,580],[570,960,600],[630,900,930],[340,650,80],[240,420,100],[990,490,250]],[1760,6900,6720,2690,8110,3150,8090,1870,7310,9340],[2130,8480,7130,8410,4770,3980,2140,5970,2190,8920]]},\"header\":{\"align\":\"left\",\"font\":{\"size\":10},\"values\":[\"Name\",\"Operation\",\"Activations\",\"Params\",\"FLOPS\"]},\"type\":\"table\",\"domain\":{\"x\":[0.19,1.0],\"y\":[0.0,1.0]}}],                        {\"template\":{\"data\":{\"histogram2dcontour\":[{\"type\":\"histogram2dcontour\",\"colorbar\":{\"outlinewidth\":0,\"ticks\":\"\"},\"colorscale\":[[0.0,\"#0d0887\"],[0.1111111111111111,\"#46039f\"],[0.2222222222222222,\"#7201a8\"],[0.3333333333333333,\"#9c179e\"],[0.4444444444444444,\"#bd3786\"],[0.5555555555555556,\"#d8576b\"],[0.6666666666666666,\"#ed7953\"],[0.7777777777777778,\"#fb9f3a\"],[0.8888888888888888,\"#fdca26\"],[1.0,\"#f0f921\"]]}],\"choropleth\":[{\"type\":\"choropleth\",\"colorbar\":{\"outlinewidth\":0,\"ticks\":\"\"}}],\"histogram2d\":[{\"type\":\"histogram2d\",\"colorbar\":{\"outlinewidth\":0,\"ticks\":\"\"},\"colorscale\":[[0.0,\"#0d0887\"],[0.1111111111111111,\"#46039f\"],[0.2222222222222222,\"#7201a8\"],[0.3333333333333333,\"#9c179e\"],[0.4444444444444444,\"#bd3786\"],[0.5555555555555556,\"#d8576b\"],[0.6666666666666666,\"#ed7953\"],[0.7777777777777778,\"#fb9f3a\"],[0.8888888888888888,\"#fdca26\"],[1.0,\"#f0f921\"]]}],\"heatmap\":[{\"type\":\"heatmap\",\"colorbar\":{\"outlinewidth\":0,\"ticks\":\"\"},\"colorscale\":[[0.0,\"#0d0887\"],[0.1111111111111111,\"#46039f\"],[0.2222222222222222,\"#7201a8\"],[0.3333333333333333,\"#9c179e\"],[0.4444444444444444,\"#bd3786\"],[0.5555555555555556,\"#d8576b\"],[0.6666666666666666,\"#ed7953\"],[0.7777777777777778,\"#fb9f3a\"],[0.8888888888888888,\"#fdca26\"],[1.0,\"#f0f921\"]]}],\"heatmapgl\":[{\"type\":\"heatmapgl\",\"colorbar\":{\"outlinewidth\":0,\"ticks\":\"\"},\"colorscale\":[[0.0,\"#0d0887\"],[0.1111111111111111,\"#46039f\"],[0.2222222222222222,\"#7201a8\"],[0.3333333333333333,\"#9c179e\"],[0.4444444444444444,\"#bd3786\"],[0.5555555555555556,\"#d8576b\"],[0.6666666666666666,\"#ed7953\"],[0.7777777777777778,\"#fb9f3a\"],[0.8888888888888888,\"#fdca26\"],[1.0,\"#f0f921\"]]}],\"contourcarpet\":[{\"type\":\"contourcarpet\",\"colorbar\":{\"outlinewidth\":0,\"ticks\":\"\"}}],\"contour\":[{\"type\":\"contour\",\"colorbar\":{\"outlinewidth\":0,\"ticks\":\"\"},\"colorscale\":[[0.0,\"#0d0887\"],[0.1111111111111111,\"#46039f\"],[0.2222222222222222,\"#7201a8\"],[0.3333333333333333,\"#9c179e\"],[0.4444444444444444,\"#bd3786\"],[0.5555555555555556,\"#d8576b\"],[0.6666666666666666,\"#ed7953\"],[0.7777777777777778,\"#fb9f3a\"],[0.8888888888888888,\"#fdca26\"],[1.0,\"#f0f921\"]]}],\"surface\":[{\"type\":\"surface\",\"colorbar\":{\"outlinewidth\":0,\"ticks\":\"\"},\"colorscale\":[[0.0,\"#0d0887\"],[0.1111111111111111,\"#46039f\"],[0.2222222222222222,\"#7201a8\"],[0.3333333333333333,\"#9c179e\"],[0.4444444444444444,\"#bd3786\"],[0.5555555555555556,\"#d8576b\"],[0.6666666666666666,\"#ed7953\"],[0.7777777777777778,\"#fb9f3a\"],[0.8888888888888888,\"#fdca26\"],[1.0,\"#f0f921\"]]}],\"mesh3d\":[{\"type\":\"mesh3d\",\"colorbar\":{\"outlinewidth\":0,\"ticks\":\"\"}}],\"scatter\":[{\"fillpattern\":{\"fillmode\":\"overlay\",\"size\":10,\"solidity\":0.2},\"type\":\"scatter\"}],\"parcoords\":[{\"type\":\"parcoords\",\"line\":{\"colorbar\":{\"outlinewidth\":0,\"ticks\":\"\"}}}],\"scatterpolargl\":[{\"type\":\"scatterpolargl\",\"marker\":{\"colorbar\":{\"outlinewidth\":0,\"ticks\":\"\"}}}],\"bar\":[{\"error_x\":{\"color\":\"#2a3f5f\"},\"error_y\":{\"color\":\"#2a3f5f\"},\"marker\":{\"line\":{\"color\":\"#E5ECF6\",\"width\":0.5},\"pattern\":{\"fillmode\":\"overlay\",\"size\":10,\"solidity\":0.2}},\"type\":\"bar\"}],\"scattergeo\":[{\"type\":\"scattergeo\",\"marker\":{\"colorbar\":{\"outlinewidth\":0,\"ticks\":\"\"}}}],\"scatterpolar\":[{\"type\":\"scatterpolar\",\"marker\":{\"colorbar\":{\"outlinewidth\":0,\"ticks\":\"\"}}}],\"histogram\":[{\"marker\":{\"pattern\":{\"fillmode\":\"overlay\",\"size\":10,\"solidity\":0.2}},\"type\":\"histogram\"}],\"scattergl\":[{\"type\":\"scattergl\",\"marker\":{\"colorbar\":{\"outlinewidth\":0,\"ticks\":\"\"}}}],\"scatter3d\":[{\"type\":\"scatter3d\",\"line\":{\"colorbar\":{\"outlinewidth\":0,\"ticks\":\"\"}},\"marker\":{\"colorbar\":{\"outlinewidth\":0,\"ticks\":\"\"}}}],\"scattermapbox\":[{\"type\":\"scattermapbox\",\"marker\":{\"colorbar\":{\"outlinewidth\":0,\"ticks\":\"\"}}}],\"scatterternary\":[{\"type\":\"scatterternary\",\"marker\":{\"colorbar\":{\"outlinewidth\":0,\"ticks\":\"\"}}}],\"scattercarpet\":[{\"type\":\"scattercarpet\",\"marker\":{\"colorbar\":{\"outlinewidth\":0,\"ticks\":\"\"}}}],\"carpet\":[{\"aaxis\":{\"endlinecolor\":\"#2a3f5f\",\"gridcolor\":\"white\",\"linecolor\":\"white\",\"minorgridcolor\":\"white\",\"startlinecolor\":\"#2a3f5f\"},\"baxis\":{\"endlinecolor\":\"#2a3f5f\",\"gridcolor\":\"white\",\"linecolor\":\"white\",\"minorgridcolor\":\"white\",\"startlinecolor\":\"#2a3f5f\"},\"type\":\"carpet\"}],\"table\":[{\"cells\":{\"fill\":{\"color\":\"#EBF0F8\"},\"line\":{\"color\":\"white\"}},\"header\":{\"fill\":{\"color\":\"#C8D4E3\"},\"line\":{\"color\":\"white\"}},\"type\":\"table\"}],\"barpolar\":[{\"marker\":{\"line\":{\"color\":\"#E5ECF6\",\"width\":0.5},\"pattern\":{\"fillmode\":\"overlay\",\"size\":10,\"solidity\":0.2}},\"type\":\"barpolar\"}],\"pie\":[{\"automargin\":true,\"type\":\"pie\"}]},\"layout\":{\"autotypenumbers\":\"strict\",\"colorway\":[\"#636efa\",\"#EF553B\",\"#00cc96\",\"#ab63fa\",\"#FFA15A\",\"#19d3f3\",\"#FF6692\",\"#B6E880\",\"#FF97FF\",\"#FECB52\"],\"font\":{\"color\":\"#2a3f5f\"},\"hovermode\":\"closest\",\"hoverlabel\":{\"align\":\"left\"},\"paper_bgcolor\":\"white\",\"plot_bgcolor\":\"#E5ECF6\",\"polar\":{\"bgcolor\":\"#E5ECF6\",\"angularaxis\":{\"gridcolor\":\"white\",\"linecolor\":\"white\",\"ticks\":\"\"},\"radialaxis\":{\"gridcolor\":\"white\",\"linecolor\":\"white\",\"ticks\":\"\"}},\"ternary\":{\"bgcolor\":\"#E5ECF6\",\"aaxis\":{\"gridcolor\":\"white\",\"linecolor\":\"white\",\"ticks\":\"\"},\"baxis\":{\"gridcolor\":\"white\",\"linecolor\":\"white\",\"ticks\":\"\"},\"caxis\":{\"gridcolor\":\"white\",\"linecolor\":\"white\",\"ticks\":\"\"}},\"coloraxis\":{\"colorbar\":{\"outlinewidth\":0,\"ticks\":\"\"}},\"colorscale\":{\"sequential\":[[0.0,\"#0d0887\"],[0.1111111111111111,\"#46039f\"],[0.2222222222222222,\"#7201a8\"],[0.3333333333333333,\"#9c179e\"],[0.4444444444444444,\"#bd3786\"],[0.5555555555555556,\"#d8576b\"],[0.6666666666666666,\"#ed7953\"],[0.7777777777777778,\"#fb9f3a\"],[0.8888888888888888,\"#fdca26\"],[1.0,\"#f0f921\"]],\"sequentialminus\":[[0.0,\"#0d0887\"],[0.1111111111111111,\"#46039f\"],[0.2222222222222222,\"#7201a8\"],[0.3333333333333333,\"#9c179e\"],[0.4444444444444444,\"#bd3786\"],[0.5555555555555556,\"#d8576b\"],[0.6666666666666666,\"#ed7953\"],[0.7777777777777778,\"#fb9f3a\"],[0.8888888888888888,\"#fdca26\"],[1.0,\"#f0f921\"]],\"diverging\":[[0,\"#8e0152\"],[0.1,\"#c51b7d\"],[0.2,\"#de77ae\"],[0.3,\"#f1b6da\"],[0.4,\"#fde0ef\"],[0.5,\"#f7f7f7\"],[0.6,\"#e6f5d0\"],[0.7,\"#b8e186\"],[0.8,\"#7fbc41\"],[0.9,\"#4d9221\"],[1,\"#276419\"]]},\"xaxis\":{\"gridcolor\":\"white\",\"linecolor\":\"white\",\"ticks\":\"\",\"title\":{\"standoff\":15},\"zerolinecolor\":\"white\",\"automargin\":true,\"zerolinewidth\":2},\"yaxis\":{\"gridcolor\":\"white\",\"linecolor\":\"white\",\"ticks\":\"\",\"title\":{\"standoff\":15},\"zerolinecolor\":\"white\",\"automargin\":true,\"zerolinewidth\":2},\"scene\":{\"xaxis\":{\"backgroundcolor\":\"#E5ECF6\",\"gridcolor\":\"white\",\"linecolor\":\"white\",\"showbackground\":true,\"ticks\":\"\",\"zerolinecolor\":\"white\",\"gridwidth\":2},\"yaxis\":{\"backgroundcolor\":\"#E5ECF6\",\"gridcolor\":\"white\",\"linecolor\":\"white\",\"showbackground\":true,\"ticks\":\"\",\"zerolinecolor\":\"white\",\"gridwidth\":2},\"zaxis\":{\"backgroundcolor\":\"#E5ECF6\",\"gridcolor\":\"white\",\"linecolor\":\"white\",\"showbackground\":true,\"ticks\":\"\",\"zerolinecolor\":\"white\",\"gridwidth\":2}},\"shapedefaults\":{\"line\":{\"color\":\"#2a3f5f\"}},\"annotationdefaults\":{\"arrowcolor\":\"#2a3f5f\",\"arrowhead\":0,\"arrowwidth\":1},\"geo\":{\"bgcolor\":\"white\",\"landcolor\":\"#E5ECF6\",\"subunitcolor\":\"white\",\"showland\":true,\"showlakes\":true,\"lakecolor\":\"white\"},\"title\":{\"x\":0.05},\"mapbox\":{\"style\":\"light\"}}},\"xaxis\":{\"anchor\":\"y\",\"domain\":[0.0,0.09000000000000001],\"showgrid\":false,\"zeroline\":false,\"tickmode\":\"array\",\"tickvals\":[],\"range\":[-0.5,0.5]},\"yaxis\":{\"anchor\":\"x\",\"domain\":[0.0,1.0],\"showgrid\":false,\"zeroline\":false,\"tickmode\":\"array\",\"tickvals\":[],\"range\":[9.5,-0.5]},\"sliders\":[{\"active\":0,\"currentvalue\":{\"visible\":false},\"pad\":{\"t\":50},\"ticklen\":0,\"tickwidth\":0}],\"margin\":{\"l\":0,\"r\":0,\"t\":0,\"b\":0},\"modebar\":{\"remove\":[\"select\",\"lasso\"],\"orientation\":\"v\"}},                        {\"responsive\": true}                    ).then(function(){\n",
       "                            \n",
       "var gd = document.getElementById('522aec1d-4f28-440a-a685-089fe8528a81');\n",
       "var x = new MutationObserver(function (mutations, observer) {{\n",
       "        var display = window.getComputedStyle(gd).display;\n",
       "        if (!display || display === 'none') {{\n",
       "            console.log([gd, 'removed!']);\n",
       "            Plotly.purge(gd);\n",
       "            observer.disconnect();\n",
       "        }}\n",
       "}});\n",
       "\n",
       "// Listen for the removal of the full notebook cells\n",
       "var notebookContainer = gd.closest('#notebook-container');\n",
       "if (notebookContainer) {{\n",
       "    x.observe(notebookContainer, {childList: true});\n",
       "}}\n",
       "\n",
       "// Listen for the clearing of the current output cell\n",
       "var outputEl = gd.closest('.output');\n",
       "if (outputEl) {{\n",
       "    x.observe(outputEl, {childList: true});\n",
       "}}\n",
       "\n",
       "                        })                };                });            </script>        </div>"
      ]
     },
     "metadata": {},
     "output_type": "display_data"
    }
   ],
   "source": [
    "fig = FigureRenderer(g).render(add_slider=True, num_levels_displayed=len(g.nodes))\n",
    "fig.update_xaxes(range=[-0.5, 0.5])\n",
    "fig.show(renderer='notebook_connected')"
   ]
  },
  {
   "cell_type": "markdown",
   "metadata": {},
   "source": [
    "### Exploratory code"
   ]
  },
  {
   "cell_type": "code",
   "execution_count": 206,
   "metadata": {},
   "outputs": [
    {
     "data": {
      "text/plain": [
       "array([[1, 0, 0, 1, 1],\n",
       "       [1, 2, 0, 1, 2],\n",
       "       [1, 2, 0, 2, 0],\n",
       "       [2, 0, 1, 2, 1],\n",
       "       [2, 1, 0, 0, 2]])"
      ]
     },
     "execution_count": 206,
     "metadata": {},
     "output_type": "execute_result"
    }
   ],
   "source": [
    "M = np.random.randint(0,3,(5,5))\n",
    "M"
   ]
  },
  {
   "cell_type": "code",
   "execution_count": 208,
   "metadata": {},
   "outputs": [
    {
     "data": {
      "text/plain": [
       "array([2, 0, 0, 0, 0])"
      ]
     },
     "execution_count": 208,
     "metadata": {},
     "output_type": "execute_result"
    }
   ],
   "source": [
    "col_2_counts = (M==2).sum(axis=0)\n",
    "row_2_counts = (M==2).sum(axis=1)\n",
    "diff_2_counts = col_2_counts - row_2_counts\n",
    "diff_2_counts[row_2_counts > 0] = 0\n",
    "diff_2_counts"
   ]
  },
  {
   "cell_type": "code",
   "execution_count": 209,
   "metadata": {},
   "outputs": [
    {
     "data": {
      "text/plain": [
       "0"
      ]
     },
     "execution_count": 209,
     "metadata": {},
     "output_type": "execute_result"
    }
   ],
   "source": [
    "diff_2_counts.argmax()"
   ]
  }
 ],
 "metadata": {
  "kernelspec": {
   "display_name": ".venv",
   "language": "python",
   "name": "python3"
  },
  "language_info": {
   "codemirror_mode": {
    "name": "ipython",
    "version": 3
   },
   "file_extension": ".py",
   "mimetype": "text/x-python",
   "name": "python",
   "nbconvert_exporter": "python",
   "pygments_lexer": "ipython3",
   "version": "3.10.12"
  }
 },
 "nbformat": 4,
 "nbformat_minor": 2
}
