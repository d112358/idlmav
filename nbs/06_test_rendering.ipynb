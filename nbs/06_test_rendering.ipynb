{
 "cells": [
  {
   "cell_type": "markdown",
   "metadata": {},
   "source": [
    "## Introduction\n",
    "This notebook tests the viewers implemented in the following files:\n",
    "* [widget_renderer.py](../idlmav/renderers/widget_renderer.py).\n",
    "* [figure_renderer.py](../idlmav/renderers/figure_renderer.py).\n",
    "\n",
    "For notebooks containing development notes and exploratory code for these viewers, see [03_explore_rendering.ipynb](./03_explore_rendering.ipynb) and [04_explore_plotly_interaction.ipynb](./04_explore_plotly_interaction.ipynb)\n",
    "\n"
   ]
  },
  {
   "cell_type": "markdown",
   "metadata": {},
   "source": [
    "## Imports"
   ]
  },
  {
   "cell_type": "code",
   "execution_count": 1,
   "metadata": {},
   "outputs": [],
   "source": [
    "import sys\n",
    "import os\n",
    "workspace_path = os.path.abspath(os.path.join(os.path.abspath(''), '..'))\n",
    "sys.path.append(workspace_path)\n",
    "\n",
    "from idlmav.mavtypes import MavNode, MavGraph, MavConnection\n",
    "from idlmav.layout import create_random_sample_graph, layout_graph_nodes\n",
    "from idlmav import FigureRenderer, WidgetRenderer, available_renderers, plotly_renderer"
   ]
  },
  {
   "cell_type": "code",
   "execution_count": 2,
   "metadata": {},
   "outputs": [],
   "source": [
    "import numpy as np\n",
    "from IPython.display import display"
   ]
  },
  {
   "cell_type": "markdown",
   "metadata": {},
   "source": [
    "## Graph layouts"
   ]
  },
  {
   "cell_type": "code",
   "execution_count": 3,
   "metadata": {},
   "outputs": [],
   "source": [
    "np.random.seed(2)\n",
    "nodes, connections = create_random_sample_graph([1,2,3,4,3,2,1], 20, 0.1, 0.1)\n",
    "g_xsmall = MavGraph(nodes, connections)\n",
    "layout_graph_nodes(g_xsmall)\n",
    "\n",
    "np.random.seed(2)\n",
    "nodes, connections = create_random_sample_graph([1,2,3,4,3,2,1,2,3,3,2,1], 40, 0.1, 0.1)\n",
    "g_small = MavGraph(nodes, connections)\n",
    "layout_graph_nodes(g_small)\n",
    "\n",
    "np.random.seed(2)\n",
    "nodes, connections = create_random_sample_graph([1,2,3,2,1,2,3,4,3,2,3,2,2,1,3,2,1], 60, 0.1, 0.1)\n",
    "g_medium = MavGraph(nodes, connections)\n",
    "layout_graph_nodes(g_medium)"
   ]
  },
  {
   "cell_type": "markdown",
   "metadata": {},
   "source": [
    "## Portable figure"
   ]
  },
  {
   "cell_type": "code",
   "execution_count": 4,
   "metadata": {},
   "outputs": [
    {
     "data": {
      "text/html": [
       "        <script type=\"text/javascript\">\n",
       "        window.PlotlyConfig = {MathJaxConfig: 'local'};\n",
       "        if (window.MathJax && window.MathJax.Hub && window.MathJax.Hub.Config) {window.MathJax.Hub.Config({SVG: {font: \"STIX-Web\"}});}\n",
       "        if (typeof require !== 'undefined') {\n",
       "        require.undef(\"plotly\");\n",
       "        requirejs.config({\n",
       "            paths: {\n",
       "                'plotly': ['https://cdn.plot.ly/plotly-2.35.2.min']\n",
       "            }\n",
       "        });\n",
       "        require(['plotly'], function(Plotly) {\n",
       "            window._Plotly = Plotly;\n",
       "        });\n",
       "        }\n",
       "        </script>\n",
       "        "
      ]
     },
     "metadata": {},
     "output_type": "display_data"
    },
    {
     "data": {
      "text/html": [
       "<div>                            <div id=\"7e008885-f54d-4200-a900-ff4b212c65f2\" class=\"plotly-graph-div\" style=\"height:525px; width:100%;\"></div>            <script type=\"text/javascript\">                require([\"plotly\"], function(Plotly) {                    window.PLOTLYENV=window.PLOTLYENV || {};                                    if (document.getElementById(\"7e008885-f54d-4200-a900-ff4b212c65f2\")) {                    Plotly.newPlot(                        \"7e008885-f54d-4200-a900-ff4b212c65f2\",                        [{\"hoverinfo\":\"skip\",\"line\":{\"color\":\"gray\",\"width\":1},\"mode\":\"lines\",\"showlegend\":false,\"x\":[0.0,1.0,null,0.0,0.0,null,0.0,0.0,null,1.0,1.0,null,1.0,2.0,null,0.0,0.0,null,1.0,1.0,null,1.0,1.0,null,1.0,1.0,null,0.0,2.0,null,2.0,2.0,null,1.0,1.0,null,1.0,0.0,null,1.0,1.0,null,2.0,2.0,null,0.0,-1.0,null,0.0,0.0,null,2.0,2.0,null,0.0,-1.0,null,1.0,1.0,null,-1.0,-1.0,null,2.0,0.0,null,-1.0,0.0,null,1.0,1.0,null,0.0,0.0,null,1.0,1.0,null,0.0,0.0,null,1.0,1.0,null,0.0,0.0,null,1.0,1.0,null,1.0,1.0,null,0.0,0.0,null,1.0,2.0,null,0.0,0.0,null,0.0,1.0,null,0.0,1.0,null,2.0,1.0,null,-1.0,-1.0,null,0.0,1.0,null,1.0,1.0,null,2.0,1.0,null,1.0,1.0,null,1.0,0.0,null,1.0,1.4,1.4,1.0,null,2.0,0.0,null,0.0,1.0,null,0.0,-0.2,-0.2,0.0,null,0.0,0.2,0.2,0.0,null,2.0,2.0,null,1.0,0.6,0.6,1.0,null,0.0,-0.2,-0.2,0.0,null,1.0,2.0,null,1.0,0.6,0.6,1.0,null,0.0,-0.2,-0.2,0.0,null,-1.0,-0.6,-0.6,-1.0,null,-1.0,0.0,null,0.0,1.0,null,0.0,-0.4,-0.4,0.0,null,0.0,1.0,null,1.0,2.0],\"y\":[0,1,null,0,2,null,2,3,null,1,2,null,1,2,null,3,4,null,2,3,null,3,4,null,4,5,null,4,5,null,5,6,null,5,7,null,5,7,null,7,8,null,6,7,null,7,8,null,7,8,null,7,8,null,8,9,null,8,9,null,9,10,null,8,9,null,10,11,null,9,10,null,9,10,null,10,11,null,11,12,null,11,12,null,12,13,null,12,13,null,13,14,null,13,14,null,13,15,null,14,15,null,14,15,null,15,16,null,2,3,null,8,9,null,10,11,null,14,15,null,15,16,null,15,16,null,11,14,null,4,4.5,6.5,7,null,5,15,null,4,5,null,4,4.5,8.5,9,null,4,4.5,7.5,8,null,8,15,null,9,9.5,10.5,11,null,9,9.5,10.5,11,null,4,5,null,11,11.5,14.5,15,null,12,12.5,13.5,14,null,8,8.5,9.5,10,null,8,13,null,7,13,null,9,9.5,11.5,12,null,0,12,null,5,6],\"type\":\"scatter\",\"xaxis\":\"x\",\"yaxis\":\"y\"},{\"customdata\":[[\"0\",\"sample\",\"(80,500,830)\",\"9 970\",\"3 070\",\"\",\"\"],[\"1\",\"sample\",\"(920,970,500)\",\"3 960\",\"4 640\",\"\",\"\"],[\"2\",\"sample\",\"(470,600,740)\",\"5 910\",\"6 900\",\"\",\"\"],[\"3\",\"sample\",\"(950,960,330)\",\"9 870\",\"8 840\",\"\",\"\"],[\"4\",\"sample\",\"(220,440,590)\",\"5 820\",\"1 210\",\"\",\"\"],[\"5\",\"sample\",\"(500,640,840)\",\"6 090\",\"4 480\",\"\",\"\"],[\"6\",\"sample\",\"(520,980,90)\",\"7 190\",\"1 860\",\"\",\"\"],[\"7\",\"sample\",\"(890,120,20)\",\"8 090\",\"9 270\",\"\",\"\"],[\"8\",\"sample\",\"(640,80,810)\",\"4 610\",\"4 480\",\"\",\"\"],[\"9\",\"sample\",\"(800,180,380)\",\"4 130\",\"5 150\",\"\",\"\"],[\"10\",\"sample\",\"(350,810,430)\",\"6 600\",\"6 480\",\"\",\"\"],[\"11\",\"sample\",\"(230,200,960)\",\"1 450\",\"9 400\",\"\",\"\"],[\"12\",\"sample\",\"(380,100,220)\",\"5 200\",\"8 540\",\"\",\"\"],[\"13\",\"sample\",\"(400,840,910)\",\"1 360\",\"9 080\",\"\",\"\"],[\"14\",\"sample\",\"(200,570,90)\",\"4 800\",\"8 180\",\"\",\"\"],[\"15\",\"sample\",\"(500,520,280)\",\"2 950\",\"1 790\",\"\",\"\"],[\"16\",\"sample\",\"(30,230,60)\",\"2 330\",\"8 220\",\"\",\"\"],[\"17\",\"sample\",\"(940,130,930)\",\"4 900\",\"7 250\",\"\",\"\"],[\"18\",\"sample\",\"(450,60,170)\",\"8 090\",\"9 200\",\"\",\"\"],[\"19\",\"sample\",\"(630,270,840)\",\"9 710\",\"7 130\",\"\",\"\"],[\"20\",\"sample\",\"(260,370,160)\",\"8 250\",\"3 740\",\"\",\"\"],[\"21\",\"sample\",\"(230,940,150)\",\"1 640\",\"1 870\",\"\",\"\"],[\"22\",\"sample\",\"(340,720,970)\",\"5 970\",\"1 820\",\"\",\"\"],[\"23\",\"sample\",\"(940,800,290)\",\"5 040\",\"9 580\",\"\",\"\"],[\"24\",\"sample\",\"(810,70,390)\",\"5 080\",\"3 530\",\"\",\"\"],[\"25\",\"sample\",\"(70,440,580)\",\"8 530\",\"4 410\",\"\",\"\"],[\"26\",\"sample\",\"(370,640,840)\",\"6 160\",\"9 220\",\"\",\"\"],[\"27\",\"sample\",\"(350,770,800)\",\"7 230\",\"6 000\",\"\",\"\"],[\"28\",\"sample\",\"(400,630,860)\",\"8 690\",\"4 010\",\"\",\"\"],[\"29\",\"sample\",\"(290,240,370)\",\"4 370\",\"3 100\",\"\",\"\"],[\"30\",\"sample\",\"(930,920,390)\",\"6 860\",\"3 820\",\"\",\"\"],[\"31\",\"sample\",\"(630,340,30)\",\"1 570\",\"5 220\",\"\",\"\"],[\"32\",\"sample\",\"(970,860,770)\",\"9 940\",\"6 310\",\"\",\"\"],[\"33\",\"sample\",\"(540,830,90)\",\"1 110\",\"5 420\",\"\",\"\"],[\"34\",\"sample\",\"(240,280,590)\",\"7 270\",\"9 280\",\"\",\"\"],[\"35\",\"sample\",\"(170,50,480)\",\"4 320\",\"9 860\",\"\",\"\"],[\"36\",\"sample\",\"(620,990,240)\",\"2 050\",\"5 030\",\"\",\"\"]],\"hovertemplate\":\"Name: %{customdata[0]}\\u003cbr\\u003eOperation: %{customdata[1]}\\u003cbr\\u003eActivations: %{customdata[2]}\\u003cbr\\u003eParameters: %{customdata[3]}\\u003cbr\\u003eFLOPS: %{customdata[4]}\\u003cbr\\u003e\\u003cbr\\u003eargs: %{customdata[5]}\\u003cbr\\u003ekwargs: %{customdata[6]}\\u003cbr\\u003e\\u003cextra\\u003e\\u003c\\u002fextra\\u003e\",\"marker\":{\"color\":[\"#bf7f7f\",\"#bf7f7f\",\"#bf7f7f\",\"#bf7f7f\",\"#bf7f7f\",\"#bf7f7f\",\"#bf7f7f\",\"#bf7f7f\",\"#bf7f7f\",\"#bf7f7f\",\"#bf7f7f\",\"#bf7f7f\",\"#bf7f7f\",\"#bf7f7f\",\"#bf7f7f\",\"#bf7f7f\",\"#bf7f7f\",\"#bf7f7f\",\"#bf7f7f\",\"#bf7f7f\",\"#bf7f7f\",\"#bf7f7f\",\"#bf7f7f\",\"#bf7f7f\",\"#bf7f7f\",\"#bf7f7f\",\"#bf7f7f\",\"#bf7f7f\",\"#bf7f7f\",\"#bf7f7f\",\"#bf7f7f\",\"#bf7f7f\",\"#bf7f7f\",\"#bf7f7f\",\"#bf7f7f\",\"#bf7f7f\",\"#bf7f7f\"],\"colorscale\":[[0.0,\"rgb(0,0,255)\"],[1.0,\"rgb(255,0,0)\"]],\"size\":[18.0,12.95265356806277,15.141418443191165,17.944894482099947,15.057533097579078,15.305423376812513,16.21308482486445,16.857781185795503,13.783461190290918,13.182425732045788,15.745041527949187,7.460647070773154,14.441786482785309,7.110365057568753,14.004239337956335,11.343126803674995,10.053396343910215,14.116953044253759,16.857781185795503,17.855553640224308,16.964838141561394,8.133742178365235,15.196635287261014,14.270946920052914,14.314159959981616,17.147286292605443,15.367897440622805,16.243411787996713,17.248871953959622,13.491199818483803,15.956251972624552,7.895293487975685,17.98352659401082,6.0,16.273571429101832,13.428294393767093,9.353538791977442]},\"mode\":\"markers\",\"showlegend\":false,\"x\":[0.0,1.0,0.0,0.0,1.0,2.0,0.0,1.0,1.0,1.0,2.0,2.0,1.0,0.0,1.0,2.0,-1.0,0.0,2.0,-1.0,1.0,-1.0,0.0,0.0,1.0,0.0,1.0,0.0,1.0,0.0,1.0,1.0,0.0,2.0,0.0,1.0,1.0],\"y\":[0,1,2,3,2,2,4,3,4,5,5,6,7,7,8,7,8,8,8,9,9,10,9,11,10,10,11,12,12,13,13,14,14,15,15,15,16],\"type\":\"scatter\",\"xaxis\":\"x\",\"yaxis\":\"y\"},{\"cells\":{\"align\":\"left\",\"values\":[[\"0\",\"1\",\"2\",\"3\",\"4\",\"5\",\"6\",\"7\",\"8\",\"9\",\"10\",\"11\",\"12\",\"13\",\"14\",\"15\",\"16\",\"17\",\"18\",\"19\",\"20\",\"21\",\"22\",\"23\",\"24\",\"25\",\"26\",\"27\",\"28\",\"29\",\"30\",\"31\",\"32\",\"33\",\"34\",\"35\",\"36\"],[\"sample\",\"sample\",\"sample\",\"sample\",\"sample\",\"sample\",\"sample\",\"sample\",\"sample\",\"sample\",\"sample\",\"sample\",\"sample\",\"sample\",\"sample\",\"sample\",\"sample\",\"sample\",\"sample\",\"sample\",\"sample\",\"sample\",\"sample\",\"sample\",\"sample\",\"sample\",\"sample\",\"sample\",\"sample\",\"sample\",\"sample\",\"sample\",\"sample\",\"sample\",\"sample\",\"sample\",\"sample\"],[\"(80,500,830)\",\"(920,970,500)\",\"(470,600,740)\",\"(950,960,330)\",\"(220,440,590)\",\"(500,640,840)\",\"(520,980,90)\",\"(890,120,20)\",\"(640,80,810)\",\"(800,180,380)\",\"(350,810,430)\",\"(230,200,960)\",\"(380,100,220)\",\"(400,840,910)\",\"(200,570,90)\",\"(500,520,280)\",\"(30,230,60)\",\"(940,130,930)\",\"(450,60,170)\",\"(630,270,840)\",\"(260,370,160)\",\"(230,940,150)\",\"(340,720,970)\",\"(940,800,290)\",\"(810,70,390)\",\"(70,440,580)\",\"(370,640,840)\",\"(350,770,800)\",\"(400,630,860)\",\"(290,240,370)\",\"(930,920,390)\",\"(630,340,30)\",\"(970,860,770)\",\"(540,830,90)\",\"(240,280,590)\",\"(170,50,480)\",\"(620,990,240)\"],[\"9 970\",\"3 960\",\"5 910\",\"9 870\",\"5 820\",\"6 090\",\"7 190\",\"8 090\",\"4 610\",\"4 130\",\"6 600\",\"1 450\",\"5 200\",\"1 360\",\"4 800\",\"2 950\",\"2 330\",\"4 900\",\"8 090\",\"9 710\",\"8 250\",\"1 640\",\"5 970\",\"5 040\",\"5 080\",\"8 530\",\"6 160\",\"7 230\",\"8 690\",\"4 370\",\"6 860\",\"1 570\",\"9 940\",\"1 110\",\"7 270\",\"4 320\",\"2 050\"],[\"3 070\",\"4 640\",\"6 900\",\"8 840\",\"1 210\",\"4 480\",\"1 860\",\"9 270\",\"4 480\",\"5 150\",\"6 480\",\"9 400\",\"8 540\",\"9 080\",\"8 180\",\"1 790\",\"8 220\",\"7 250\",\"9 200\",\"7 130\",\"3 740\",\"1 870\",\"1 820\",\"9 580\",\"3 530\",\"4 410\",\"9 220\",\"6 000\",\"4 010\",\"3 100\",\"3 820\",\"5 220\",\"6 310\",\"5 420\",\"9 280\",\"9 860\",\"5 030\"]]},\"header\":{\"align\":\"left\",\"font\":{\"size\":10},\"values\":[\"Name\",\"Operation\",\"Activations\",\"Params [207 110]\",\"FLOPS [217 390]\"]},\"type\":\"table\",\"domain\":{\"x\":[0.3769230769230769,1.0],\"y\":[0.0,1.0]}}],                        {\"template\":{\"data\":{\"histogram2dcontour\":[{\"type\":\"histogram2dcontour\",\"colorbar\":{\"outlinewidth\":0,\"ticks\":\"\"},\"colorscale\":[[0.0,\"#0d0887\"],[0.1111111111111111,\"#46039f\"],[0.2222222222222222,\"#7201a8\"],[0.3333333333333333,\"#9c179e\"],[0.4444444444444444,\"#bd3786\"],[0.5555555555555556,\"#d8576b\"],[0.6666666666666666,\"#ed7953\"],[0.7777777777777778,\"#fb9f3a\"],[0.8888888888888888,\"#fdca26\"],[1.0,\"#f0f921\"]]}],\"choropleth\":[{\"type\":\"choropleth\",\"colorbar\":{\"outlinewidth\":0,\"ticks\":\"\"}}],\"histogram2d\":[{\"type\":\"histogram2d\",\"colorbar\":{\"outlinewidth\":0,\"ticks\":\"\"},\"colorscale\":[[0.0,\"#0d0887\"],[0.1111111111111111,\"#46039f\"],[0.2222222222222222,\"#7201a8\"],[0.3333333333333333,\"#9c179e\"],[0.4444444444444444,\"#bd3786\"],[0.5555555555555556,\"#d8576b\"],[0.6666666666666666,\"#ed7953\"],[0.7777777777777778,\"#fb9f3a\"],[0.8888888888888888,\"#fdca26\"],[1.0,\"#f0f921\"]]}],\"heatmap\":[{\"type\":\"heatmap\",\"colorbar\":{\"outlinewidth\":0,\"ticks\":\"\"},\"colorscale\":[[0.0,\"#0d0887\"],[0.1111111111111111,\"#46039f\"],[0.2222222222222222,\"#7201a8\"],[0.3333333333333333,\"#9c179e\"],[0.4444444444444444,\"#bd3786\"],[0.5555555555555556,\"#d8576b\"],[0.6666666666666666,\"#ed7953\"],[0.7777777777777778,\"#fb9f3a\"],[0.8888888888888888,\"#fdca26\"],[1.0,\"#f0f921\"]]}],\"heatmapgl\":[{\"type\":\"heatmapgl\",\"colorbar\":{\"outlinewidth\":0,\"ticks\":\"\"},\"colorscale\":[[0.0,\"#0d0887\"],[0.1111111111111111,\"#46039f\"],[0.2222222222222222,\"#7201a8\"],[0.3333333333333333,\"#9c179e\"],[0.4444444444444444,\"#bd3786\"],[0.5555555555555556,\"#d8576b\"],[0.6666666666666666,\"#ed7953\"],[0.7777777777777778,\"#fb9f3a\"],[0.8888888888888888,\"#fdca26\"],[1.0,\"#f0f921\"]]}],\"contourcarpet\":[{\"type\":\"contourcarpet\",\"colorbar\":{\"outlinewidth\":0,\"ticks\":\"\"}}],\"contour\":[{\"type\":\"contour\",\"colorbar\":{\"outlinewidth\":0,\"ticks\":\"\"},\"colorscale\":[[0.0,\"#0d0887\"],[0.1111111111111111,\"#46039f\"],[0.2222222222222222,\"#7201a8\"],[0.3333333333333333,\"#9c179e\"],[0.4444444444444444,\"#bd3786\"],[0.5555555555555556,\"#d8576b\"],[0.6666666666666666,\"#ed7953\"],[0.7777777777777778,\"#fb9f3a\"],[0.8888888888888888,\"#fdca26\"],[1.0,\"#f0f921\"]]}],\"surface\":[{\"type\":\"surface\",\"colorbar\":{\"outlinewidth\":0,\"ticks\":\"\"},\"colorscale\":[[0.0,\"#0d0887\"],[0.1111111111111111,\"#46039f\"],[0.2222222222222222,\"#7201a8\"],[0.3333333333333333,\"#9c179e\"],[0.4444444444444444,\"#bd3786\"],[0.5555555555555556,\"#d8576b\"],[0.6666666666666666,\"#ed7953\"],[0.7777777777777778,\"#fb9f3a\"],[0.8888888888888888,\"#fdca26\"],[1.0,\"#f0f921\"]]}],\"mesh3d\":[{\"type\":\"mesh3d\",\"colorbar\":{\"outlinewidth\":0,\"ticks\":\"\"}}],\"scatter\":[{\"fillpattern\":{\"fillmode\":\"overlay\",\"size\":10,\"solidity\":0.2},\"type\":\"scatter\"}],\"parcoords\":[{\"type\":\"parcoords\",\"line\":{\"colorbar\":{\"outlinewidth\":0,\"ticks\":\"\"}}}],\"scatterpolargl\":[{\"type\":\"scatterpolargl\",\"marker\":{\"colorbar\":{\"outlinewidth\":0,\"ticks\":\"\"}}}],\"bar\":[{\"error_x\":{\"color\":\"#2a3f5f\"},\"error_y\":{\"color\":\"#2a3f5f\"},\"marker\":{\"line\":{\"color\":\"#E5ECF6\",\"width\":0.5},\"pattern\":{\"fillmode\":\"overlay\",\"size\":10,\"solidity\":0.2}},\"type\":\"bar\"}],\"scattergeo\":[{\"type\":\"scattergeo\",\"marker\":{\"colorbar\":{\"outlinewidth\":0,\"ticks\":\"\"}}}],\"scatterpolar\":[{\"type\":\"scatterpolar\",\"marker\":{\"colorbar\":{\"outlinewidth\":0,\"ticks\":\"\"}}}],\"histogram\":[{\"marker\":{\"pattern\":{\"fillmode\":\"overlay\",\"size\":10,\"solidity\":0.2}},\"type\":\"histogram\"}],\"scattergl\":[{\"type\":\"scattergl\",\"marker\":{\"colorbar\":{\"outlinewidth\":0,\"ticks\":\"\"}}}],\"scatter3d\":[{\"type\":\"scatter3d\",\"line\":{\"colorbar\":{\"outlinewidth\":0,\"ticks\":\"\"}},\"marker\":{\"colorbar\":{\"outlinewidth\":0,\"ticks\":\"\"}}}],\"scattermapbox\":[{\"type\":\"scattermapbox\",\"marker\":{\"colorbar\":{\"outlinewidth\":0,\"ticks\":\"\"}}}],\"scatterternary\":[{\"type\":\"scatterternary\",\"marker\":{\"colorbar\":{\"outlinewidth\":0,\"ticks\":\"\"}}}],\"scattercarpet\":[{\"type\":\"scattercarpet\",\"marker\":{\"colorbar\":{\"outlinewidth\":0,\"ticks\":\"\"}}}],\"carpet\":[{\"aaxis\":{\"endlinecolor\":\"#2a3f5f\",\"gridcolor\":\"white\",\"linecolor\":\"white\",\"minorgridcolor\":\"white\",\"startlinecolor\":\"#2a3f5f\"},\"baxis\":{\"endlinecolor\":\"#2a3f5f\",\"gridcolor\":\"white\",\"linecolor\":\"white\",\"minorgridcolor\":\"white\",\"startlinecolor\":\"#2a3f5f\"},\"type\":\"carpet\"}],\"table\":[{\"cells\":{\"fill\":{\"color\":\"#EBF0F8\"},\"line\":{\"color\":\"white\"}},\"header\":{\"fill\":{\"color\":\"#C8D4E3\"},\"line\":{\"color\":\"white\"}},\"type\":\"table\"}],\"barpolar\":[{\"marker\":{\"line\":{\"color\":\"#E5ECF6\",\"width\":0.5},\"pattern\":{\"fillmode\":\"overlay\",\"size\":10,\"solidity\":0.2}},\"type\":\"barpolar\"}],\"pie\":[{\"automargin\":true,\"type\":\"pie\"}]},\"layout\":{\"autotypenumbers\":\"strict\",\"colorway\":[\"#636efa\",\"#EF553B\",\"#00cc96\",\"#ab63fa\",\"#FFA15A\",\"#19d3f3\",\"#FF6692\",\"#B6E880\",\"#FF97FF\",\"#FECB52\"],\"font\":{\"color\":\"#2a3f5f\"},\"hovermode\":\"closest\",\"hoverlabel\":{\"align\":\"left\"},\"paper_bgcolor\":\"white\",\"plot_bgcolor\":\"#E5ECF6\",\"polar\":{\"bgcolor\":\"#E5ECF6\",\"angularaxis\":{\"gridcolor\":\"white\",\"linecolor\":\"white\",\"ticks\":\"\"},\"radialaxis\":{\"gridcolor\":\"white\",\"linecolor\":\"white\",\"ticks\":\"\"}},\"ternary\":{\"bgcolor\":\"#E5ECF6\",\"aaxis\":{\"gridcolor\":\"white\",\"linecolor\":\"white\",\"ticks\":\"\"},\"baxis\":{\"gridcolor\":\"white\",\"linecolor\":\"white\",\"ticks\":\"\"},\"caxis\":{\"gridcolor\":\"white\",\"linecolor\":\"white\",\"ticks\":\"\"}},\"coloraxis\":{\"colorbar\":{\"outlinewidth\":0,\"ticks\":\"\"}},\"colorscale\":{\"sequential\":[[0.0,\"#0d0887\"],[0.1111111111111111,\"#46039f\"],[0.2222222222222222,\"#7201a8\"],[0.3333333333333333,\"#9c179e\"],[0.4444444444444444,\"#bd3786\"],[0.5555555555555556,\"#d8576b\"],[0.6666666666666666,\"#ed7953\"],[0.7777777777777778,\"#fb9f3a\"],[0.8888888888888888,\"#fdca26\"],[1.0,\"#f0f921\"]],\"sequentialminus\":[[0.0,\"#0d0887\"],[0.1111111111111111,\"#46039f\"],[0.2222222222222222,\"#7201a8\"],[0.3333333333333333,\"#9c179e\"],[0.4444444444444444,\"#bd3786\"],[0.5555555555555556,\"#d8576b\"],[0.6666666666666666,\"#ed7953\"],[0.7777777777777778,\"#fb9f3a\"],[0.8888888888888888,\"#fdca26\"],[1.0,\"#f0f921\"]],\"diverging\":[[0,\"#8e0152\"],[0.1,\"#c51b7d\"],[0.2,\"#de77ae\"],[0.3,\"#f1b6da\"],[0.4,\"#fde0ef\"],[0.5,\"#f7f7f7\"],[0.6,\"#e6f5d0\"],[0.7,\"#b8e186\"],[0.8,\"#7fbc41\"],[0.9,\"#4d9221\"],[1,\"#276419\"]]},\"xaxis\":{\"gridcolor\":\"white\",\"linecolor\":\"white\",\"ticks\":\"\",\"title\":{\"standoff\":15},\"zerolinecolor\":\"white\",\"automargin\":true,\"zerolinewidth\":2},\"yaxis\":{\"gridcolor\":\"white\",\"linecolor\":\"white\",\"ticks\":\"\",\"title\":{\"standoff\":15},\"zerolinecolor\":\"white\",\"automargin\":true,\"zerolinewidth\":2},\"scene\":{\"xaxis\":{\"backgroundcolor\":\"#E5ECF6\",\"gridcolor\":\"white\",\"linecolor\":\"white\",\"showbackground\":true,\"ticks\":\"\",\"zerolinecolor\":\"white\",\"gridwidth\":2},\"yaxis\":{\"backgroundcolor\":\"#E5ECF6\",\"gridcolor\":\"white\",\"linecolor\":\"white\",\"showbackground\":true,\"ticks\":\"\",\"zerolinecolor\":\"white\",\"gridwidth\":2},\"zaxis\":{\"backgroundcolor\":\"#E5ECF6\",\"gridcolor\":\"white\",\"linecolor\":\"white\",\"showbackground\":true,\"ticks\":\"\",\"zerolinecolor\":\"white\",\"gridwidth\":2}},\"shapedefaults\":{\"line\":{\"color\":\"#2a3f5f\"}},\"annotationdefaults\":{\"arrowcolor\":\"#2a3f5f\",\"arrowhead\":0,\"arrowwidth\":1},\"geo\":{\"bgcolor\":\"white\",\"landcolor\":\"#E5ECF6\",\"subunitcolor\":\"white\",\"showland\":true,\"showlakes\":true,\"lakecolor\":\"white\"},\"title\":{\"x\":0.05},\"mapbox\":{\"style\":\"light\"}}},\"xaxis\":{\"anchor\":\"y\",\"domain\":[0.0,0.27692307692307694],\"showgrid\":false,\"zeroline\":false,\"tickmode\":\"array\",\"tickvals\":[],\"range\":[-1.25,2.25]},\"yaxis\":{\"anchor\":\"x\",\"domain\":[0.0,1.0],\"showgrid\":false,\"zeroline\":false,\"tickmode\":\"array\",\"tickvals\":[],\"range\":[9.75,-0.25]},\"updatemenus\":[{\"buttons\":[{\"args\":[{\"marker\":[{},{\"size\":[18.0,12.95265356806277,15.141418443191165,17.944894482099947,15.057533097579078,15.305423376812513,16.21308482486445,16.857781185795503,13.783461190290918,13.182425732045788,15.745041527949187,7.460647070773154,14.441786482785309,7.110365057568753,14.004239337956335,11.343126803674995,10.053396343910215,14.116953044253759,16.857781185795503,17.855553640224308,16.964838141561394,8.133742178365235,15.196635287261014,14.270946920052914,14.314159959981616,17.147286292605443,15.367897440622805,16.243411787996713,17.248871953959622,13.491199818483803,15.956251972624552,7.895293487975685,17.98352659401082,6.0,16.273571429101832,13.428294393767093,9.353538791977442],\"color\":[\"#bf7f7f\",\"#bf7f7f\",\"#bf7f7f\",\"#bf7f7f\",\"#bf7f7f\",\"#bf7f7f\",\"#bf7f7f\",\"#bf7f7f\",\"#bf7f7f\",\"#bf7f7f\",\"#bf7f7f\",\"#bf7f7f\",\"#bf7f7f\",\"#bf7f7f\",\"#bf7f7f\",\"#bf7f7f\",\"#bf7f7f\",\"#bf7f7f\",\"#bf7f7f\",\"#bf7f7f\",\"#bf7f7f\",\"#bf7f7f\",\"#bf7f7f\",\"#bf7f7f\",\"#bf7f7f\",\"#bf7f7f\",\"#bf7f7f\",\"#bf7f7f\",\"#bf7f7f\",\"#bf7f7f\",\"#bf7f7f\",\"#bf7f7f\",\"#bf7f7f\",\"#bf7f7f\",\"#bf7f7f\",\"#bf7f7f\",\"#bf7f7f\"],\"colorscale\":\"Bluered\"},{}]}],\"label\":\"Size by params, color by operation\",\"method\":\"restyle\"},{\"args\":[{\"marker\":[{},{\"size\":[18.0,12.78188467861764,15.0722226274001,18.0,14.984444450499842,15.243838467698382,16.193621371628726,16.868235880323144,13.651247234161769,13.022319780955119,15.703857789994405,7.035012989183951,14.340123146406464,6.6684755886918605,13.882270938720414,11.097665295372046,9.748082866822408,14.000215301687115,16.868235880323144,17.91231153348989,16.980260982360367,7.739344133006572,15.13000189589177,14.161355505292681,14.206573914248166,17.171175926569198,15.309211738617202,16.225355705143684,17.27747583017944,13.345423014109906,15.92486978727019,7.489829856419586,18.0,6.0,16.25691495178988,13.279598364303926,9.015747325372534],\"color\":[\"#bf7f7f\",\"#bf7f7f\",\"#bf7f7f\",\"#bf7f7f\",\"#bf7f7f\",\"#bf7f7f\",\"#bf7f7f\",\"#bf7f7f\",\"#bf7f7f\",\"#bf7f7f\",\"#bf7f7f\",\"#bf7f7f\",\"#bf7f7f\",\"#bf7f7f\",\"#bf7f7f\",\"#bf7f7f\",\"#bf7f7f\",\"#bf7f7f\",\"#bf7f7f\",\"#bf7f7f\",\"#bf7f7f\",\"#bf7f7f\",\"#bf7f7f\",\"#bf7f7f\",\"#bf7f7f\",\"#bf7f7f\",\"#bf7f7f\",\"#bf7f7f\",\"#bf7f7f\",\"#bf7f7f\",\"#bf7f7f\",\"#bf7f7f\",\"#bf7f7f\",\"#bf7f7f\",\"#bf7f7f\",\"#bf7f7f\",\"#bf7f7f\"],\"colorscale\":\"Bluered\"},{}]}],\"label\":\"Size by FLOPS, color by operation\",\"method\":\"restyle\"},{\"args\":[{\"marker\":[{},{\"size\":[18.0,12.95265356806277,15.141418443191165,17.944894482099947,15.057533097579078,15.305423376812513,16.21308482486445,16.857781185795503,13.783461190290918,13.182425732045788,15.745041527949187,7.460647070773154,14.441786482785309,7.110365057568753,14.004239337956335,11.343126803674995,10.053396343910215,14.116953044253759,16.857781185795503,17.855553640224308,16.964838141561394,8.133742178365235,15.196635287261014,14.270946920052914,14.314159959981616,17.147286292605443,15.367897440622805,16.243411787996713,17.248871953959622,13.491199818483803,15.956251972624552,7.895293487975685,17.98352659401082,6.0,16.273571429101832,13.428294393767093,9.353538791977442],\"color\":[0.4438116098720596,0.64069589239668,0.8298438558467743,0.9479474371066957,0.0,0.6239687406119344,0.20494929955515231,0.9705878284626702,0.6239687406119344,0.6904046716664547,0.7999082417720167,0.9772261509132347,0.9314898216096233,0.9607162785877168,0.9109599778984894,0.1866636362359026,0.9132852259827529,0.8534297577910065,0.9669746824310083,0.8454739417570496,0.5379110746614111,0.20750520333048755,0.19458639333728103,0.9862676742677715,0.5103651085499662,0.6164618939392189,0.968009807511071,0.7632228442571976,0.5711379996595685,0.4484470588365493,0.5479998091749273,0.6968401105591355,0.7872359184532722,0.7147623310346313,0.9711017637276035,1.0,0.6791662356984415],\"colorscale\":\"Bluered\"},{}]}],\"label\":\"Size by params, color by FLOPS\",\"method\":\"restyle\"},{\"args\":[{\"marker\":[{},{\"size\":[18.0,12.78188467861764,15.0722226274001,18.0,14.984444450499842,15.243838467698382,16.193621371628726,16.868235880323144,13.651247234161769,13.022319780955119,15.703857789994405,7.035012989183951,14.340123146406464,6.6684755886918605,13.882270938720414,11.097665295372046,9.748082866822408,14.000215301687115,16.868235880323144,17.91231153348989,16.980260982360367,7.739344133006572,15.13000189589177,14.161355505292681,14.206573914248166,17.171175926569198,15.309211738617202,16.225355705143684,17.27747583017944,13.345423014109906,15.92486978727019,7.489829856419586,18.0,6.0,16.25691495178988,13.279598364303926,9.015747325372534],\"color\":[0.46342384032084544,0.6515765984253112,0.832336131673109,0.9452019951698069,0.039294613724156886,0.6355912708858296,0.23515471737696178,0.9668383189208327,0.6355912708858296,0.6990808674389875,0.8037281174553557,0.9731822416669479,0.9294742503854575,0.9574045575665915,0.9098548746375715,0.21767999596614393,0.9120770014357155,0.8548760340273451,0.9633854105292937,0.8472730465741768,0.5533501341277496,0.23759727063013375,0.22525139060111019,0.9818227869395716,0.5270257905485591,0.6284173416720431,0.9643746293551924,0.7686696626307112,0.5851034945360482,0.4678537140341631,0.5629914483056064,0.7052309042105578,0.7916177927842375,0.7223583009259313,0.9673294619229271,0.9949461044973591,0.6883408393521965],\"colorscale\":\"Bluered\"},{}]}],\"label\":\"Size by FLOPS, color by params\",\"method\":\"restyle\"}],\"direction\":\"up\",\"pad\":{\"b\":0,\"l\":0,\"r\":0,\"t\":8},\"showactive\":true,\"x\":0,\"xanchor\":\"left\",\"y\":0,\"yanchor\":\"top\"}],\"sliders\":[{\"active\":0,\"currentvalue\":{\"visible\":false},\"pad\":{\"b\":0,\"l\":0,\"r\":0,\"t\":48},\"steps\":[{\"args\":[{\"shapes\":[{\"type\":\"rect\",\"xref\":\"x\",\"yref\":\"y\",\"line\":{\"color\":\"#000000\"},\"x0\":-1.25,\"y0\":-0.25,\"x1\":2.25,\"y1\":9.75}],\"yaxis\":{\"range\":[9.75,-0.25],\"showgrid\":false,\"zeroline\":false,\"tickmode\":\"array\",\"tickvals\":[]}}],\"label\":\"\",\"method\":\"relayout\"},{\"args\":[{\"shapes\":[{\"type\":\"rect\",\"xref\":\"x\",\"yref\":\"y\",\"line\":{\"color\":\"#000000\"},\"x0\":-1.25,\"y0\":1.375,\"x1\":2.25,\"y1\":11.375}],\"yaxis\":{\"range\":[11.375,1.375],\"showgrid\":false,\"zeroline\":false,\"tickmode\":\"array\",\"tickvals\":[]}}],\"label\":\"\",\"method\":\"relayout\"},{\"args\":[{\"shapes\":[{\"type\":\"rect\",\"xref\":\"x\",\"yref\":\"y\",\"line\":{\"color\":\"#000000\"},\"x0\":-1.25,\"y0\":3.0,\"x1\":2.25,\"y1\":13.0}],\"yaxis\":{\"range\":[13.0,3.0],\"showgrid\":false,\"zeroline\":false,\"tickmode\":\"array\",\"tickvals\":[]}}],\"label\":\"\",\"method\":\"relayout\"},{\"args\":[{\"shapes\":[{\"type\":\"rect\",\"xref\":\"x\",\"yref\":\"y\",\"line\":{\"color\":\"#000000\"},\"x0\":-1.25,\"y0\":4.625,\"x1\":2.25,\"y1\":14.625}],\"yaxis\":{\"range\":[14.625,4.625],\"showgrid\":false,\"zeroline\":false,\"tickmode\":\"array\",\"tickvals\":[]}}],\"label\":\"\",\"method\":\"relayout\"},{\"args\":[{\"shapes\":[{\"type\":\"rect\",\"xref\":\"x\",\"yref\":\"y\",\"line\":{\"color\":\"#000000\"},\"x0\":-1.25,\"y0\":6.25,\"x1\":2.25,\"y1\":16.25}],\"yaxis\":{\"range\":[16.25,6.25],\"showgrid\":false,\"zeroline\":false,\"tickmode\":\"array\",\"tickvals\":[]}}],\"label\":\"\",\"method\":\"relayout\"}],\"ticklen\":0,\"tickwidth\":0,\"x\":0,\"xanchor\":\"left\",\"y\":0,\"yanchor\":\"top\"}],\"margin\":{\"l\":0,\"r\":0,\"t\":0,\"b\":0},\"modebar\":{\"remove\":[\"select\",\"lasso\"],\"orientation\":\"v\"}},                        {\"responsive\": true}                    ).then(function(){\n",
       "                            \n",
       "var gd = document.getElementById('7e008885-f54d-4200-a900-ff4b212c65f2');\n",
       "var x = new MutationObserver(function (mutations, observer) {{\n",
       "        var display = window.getComputedStyle(gd).display;\n",
       "        if (!display || display === 'none') {{\n",
       "            console.log([gd, 'removed!']);\n",
       "            Plotly.purge(gd);\n",
       "            observer.disconnect();\n",
       "        }}\n",
       "}});\n",
       "\n",
       "// Listen for the removal of the full notebook cells\n",
       "var notebookContainer = gd.closest('#notebook-container');\n",
       "if (notebookContainer) {{\n",
       "    x.observe(notebookContainer, {childList: true});\n",
       "}}\n",
       "\n",
       "// Listen for the clearing of the current output cell\n",
       "var outputEl = gd.closest('.output');\n",
       "if (outputEl) {{\n",
       "    x.observe(outputEl, {childList: true});\n",
       "}}\n",
       "\n",
       "                        })                };                });            </script>        </div>"
      ]
     },
     "metadata": {},
     "output_type": "display_data"
    }
   ],
   "source": [
    "with plotly_renderer('notebook_connected'):\n",
    "    fig = FigureRenderer(g_medium).render(add_table=True, add_slider=True)\n",
    "    fig.show()"
   ]
  },
  {
   "cell_type": "markdown",
   "metadata": {},
   "source": [
    "## Interactive widget"
   ]
  },
  {
   "cell_type": "code",
   "execution_count": 5,
   "metadata": {},
   "outputs": [
    {
     "data": {
      "application/vnd.jupyter.widget-view+json": {
       "model_id": "48ad3115b907476ca7c154d1bec9e1a0",
       "version_major": 2,
       "version_minor": 0
      },
      "text/plain": [
       "VBox(children=(HBox(children=(Box(children=(FloatRangeSlider(value=(-9.5, 0.5), layout=Layout(height='400px'),…"
      ]
     },
     "metadata": {},
     "output_type": "display_data"
    }
   ],
   "source": [
    "with plotly_renderer('notebook_connected'):\n",
    "    viewer = WidgetRenderer(g_medium)\n",
    "    container = viewer.render(add_table=True, add_slider=True, add_overview=False)\n",
    "    display(container)"
   ]
  },
  {
   "cell_type": "code",
   "execution_count": null,
   "metadata": {},
   "outputs": [],
   "source": []
  }
 ],
 "metadata": {
  "kernelspec": {
   "display_name": ".venv",
   "language": "python",
   "name": "python3"
  },
  "language_info": {
   "codemirror_mode": {
    "name": "ipython",
    "version": 3
   },
   "file_extension": ".py",
   "mimetype": "text/x-python",
   "name": "python",
   "nbconvert_exporter": "python",
   "pygments_lexer": "ipython3",
   "version": "3.10.12"
  }
 },
 "nbformat": 4,
 "nbformat_minor": 2
}
