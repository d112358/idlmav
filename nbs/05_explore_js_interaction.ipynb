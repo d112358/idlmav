{
 "cells": [
  {
   "cell_type": "markdown",
   "metadata": {},
   "source": [
    "## Introduction\n",
    "This notebook experiments with using JavaScript to make HTML elements interactive. Interaction experiments that include plotly were moved to another notebook, namely [04_explore_plotly_interaction.ipynb](./04_explore_plotly_interaction.ipynb) \n",
    "\n"
   ]
  },
  {
   "cell_type": "markdown",
   "metadata": {},
   "source": [
    "## Imports\n",
    "This script does not have imports at the top, because each main section (with a top-level heading) is meant to be executed in its own kernel session (optionally with the kernel being restarted between main sections).\n",
    "\n",
    "Each main section thus has its own imports at the top of the section.\n",
    "\n",
    "During experimentation, the kernel is often restarted to reset temporary objects defined in the notebook's DOM. In these cases, it was deemed convenient to only scroll up to the start of the current main section after a kernel restart."
   ]
  },
  {
   "cell_type": "markdown",
   "metadata": {},
   "source": [
    "## Counter example using ipywidgets, custom HTML and custom JS "
   ]
  },
  {
   "cell_type": "code",
   "execution_count": 1,
   "metadata": {},
   "outputs": [],
   "source": [
    "from IPython.display import display, HTML, Javascript\n",
    "import ipywidgets as widgets"
   ]
  },
  {
   "cell_type": "markdown",
   "metadata": {},
   "source": [
    "### Using `ipywidgets.Output`"
   ]
  },
  {
   "cell_type": "code",
   "execution_count": 2,
   "metadata": {},
   "outputs": [
    {
     "data": {
      "application/vnd.jupyter.widget-view+json": {
       "model_id": "72d1b29f15e7494d99b7715eb151e513",
       "version_major": 2,
       "version_minor": 0
      },
      "text/plain": [
       "HBox(children=(Button(description='Increment Counter', style=ButtonStyle()), Output()))"
      ]
     },
     "metadata": {},
     "output_type": "display_data"
    }
   ],
   "source": [
    "# Define the custom HTML and JavaScript for the counter\n",
    "counter_html = \"\"\"\n",
    "<div id=\"counter1\" style=\"font-size: 20px; font-weight: bold;\">0</div>\n",
    "\"\"\"\n",
    "\n",
    "counter_js = \"\"\"\n",
    "<script>\n",
    "  // Function to increment the counter\n",
    "  function incrementCounter1() {\n",
    "    const counterDiv = document.getElementById(\"counter1\");\n",
    "    let count = parseInt(counterDiv.innerText);\n",
    "    count += 1;\n",
    "    counterDiv.innerText = count;\n",
    "  }\n",
    "</script>\n",
    "\"\"\"\n",
    "\n",
    "# Create an Output widget to hold the custom HTML\n",
    "right_panel = widgets.Output()\n",
    "with right_panel:\n",
    "    # Display the custom HTML and JavaScript\n",
    "    display(HTML(counter_html))\n",
    "    display(HTML(counter_js))\n",
    "\n",
    "# Create the button\n",
    "button1 = widgets.Button(description=\"Increment Counter\")\n",
    "\n",
    "# Define a callback for the button click\n",
    "def on_button_click(change):\n",
    "    # Execute the JavaScript to increment the counter\n",
    "    display(Javascript(\"incrementCounter1();\"))\n",
    "\n",
    "button1.on_click(on_button_click)\n",
    "\n",
    "# Layout the widgets in an HBox\n",
    "ui = widgets.HBox([button1, right_panel])\n",
    "\n",
    "# Display the layout\n",
    "display(ui)"
   ]
  },
  {
   "cell_type": "markdown",
   "metadata": {},
   "source": [
    "### Avoiding `ipywidgets.Output`\n",
    "This does not work, because `HTML` from `ipywidgets` and `Javascript` from `IPython.display` don't interact\n",
    "* `ipywidgets` prefers to run Javascript on the kernel, as in the IPython Cookbook example elsewhere in this notebook\n",
    "* This is not ideal for our use case, because we want most interaction on the front-end for users viewing the notebook \"in passing\" (e.g. on GitHub) without the kernel running"
   ]
  },
  {
   "cell_type": "code",
   "execution_count": 3,
   "metadata": {},
   "outputs": [
    {
     "data": {
      "application/vnd.jupyter.widget-view+json": {
       "model_id": "402e09a7d15c4c799673fe48e4b71cef",
       "version_major": 2,
       "version_minor": 0
      },
      "text/plain": [
       "HBox(children=(Button(description='Increment Counter', style=ButtonStyle()), HTML(value='\\n<div id=\"counter2\" …"
      ]
     },
     "metadata": {},
     "output_type": "display_data"
    }
   ],
   "source": [
    "# Define the custom HTML and JavaScript for the counter\n",
    "counter_html = \"\"\"\n",
    "<div id=\"counter2\" style=\"font-size: 20px; font-weight: bold;\">0</div>\n",
    "<script>\n",
    "  // Function to increment the counter\n",
    "  function incrementCounter2() {\n",
    "    const counterDiv = document.getElementById(\"counter2\");\n",
    "    let count = parseInt(counterDiv.innerText);\n",
    "    count += 1;\n",
    "    counterDiv.innerText = count;\n",
    "  }\n",
    "</script>\n",
    "\"\"\"\n",
    "\n",
    "# Create an HTML widget to hold the custom HTML and JavaScript\n",
    "right_panel = widgets.HTML(counter_html)\n",
    "\n",
    "# Create the button\n",
    "button2 = widgets.Button(description=\"Increment Counter\")\n",
    "\n",
    "# Define a callback for the button click\n",
    "def on_button_click(change):\n",
    "    # Execute the JavaScript to increment the counter\n",
    "    display(Javascript(\"incrementCounter2();\"))\n",
    "\n",
    "button2.on_click(on_button_click)\n",
    "\n",
    "# Layout the widgets in an HBox\n",
    "ui = widgets.HBox([button2, right_panel])\n",
    "\n",
    "# Display the layout\n",
    "display(ui)"
   ]
  },
  {
   "cell_type": "markdown",
   "metadata": {},
   "source": [
    "## Counter example using only `IPython.display` and custom HTML and Javascript\n",
    "This avoids `ipywidgets` altogether, allowing everything to run on the front-end"
   ]
  },
  {
   "cell_type": "code",
   "execution_count": 4,
   "metadata": {},
   "outputs": [],
   "source": [
    "from IPython.display import display, HTML, Javascript"
   ]
  },
  {
   "cell_type": "markdown",
   "metadata": {},
   "source": [
    "### Basic example (mostly JS calling JS)"
   ]
  },
  {
   "cell_type": "code",
   "execution_count": 5,
   "metadata": {},
   "outputs": [
    {
     "data": {
      "text/html": [
       "\n",
       "<div style=\"display: flex; align-items: center;\">\n",
       "  <!-- Left-hand panel -->\n",
       "  <div style=\"margin-right: 20px;\">\n",
       "    <button id=\"incrementButton3\" style=\"padding: 10px; font-size: 16px;\">Increment Counter</button>\n",
       "  </div>\n",
       "  <!-- Right-hand panel -->\n",
       "  <div>\n",
       "    <div id=\"counter3\" style=\"font-size: 20px; font-weight: bold;\">0</div>\n",
       "  </div>\n",
       "</div>\n"
      ],
      "text/plain": [
       "<IPython.core.display.HTML object>"
      ]
     },
     "metadata": {},
     "output_type": "display_data"
    },
    {
     "data": {
      "text/html": [
       "\n",
       "<script>\n",
       "  // Named function to increment the counter\n",
       "  function incrementCounter3() {\n",
       "    const counterDiv = document.getElementById(\"counter3\");\n",
       "    let count = parseInt(counterDiv.innerText);\n",
       "    count += 1;\n",
       "    counterDiv.innerText = count;\n",
       "  }\n",
       "\n",
       "  // Attach the click event to the button\n",
       "  document.getElementById(\"incrementButton3\").addEventListener(\"click\", incrementCounter3);\n",
       "</script>\n"
      ],
      "text/plain": [
       "<IPython.core.display.HTML object>"
      ]
     },
     "metadata": {},
     "output_type": "display_data"
    }
   ],
   "source": [
    "# Define the HTML structure for the UI\n",
    "html_code = \"\"\"\n",
    "<div style=\"display: flex; align-items: center;\">\n",
    "  <!-- Left-hand panel -->\n",
    "  <div style=\"margin-right: 20px;\">\n",
    "    <button id=\"incrementButton3\" style=\"padding: 10px; font-size: 16px;\">Increment Counter</button>\n",
    "  </div>\n",
    "  <!-- Right-hand panel -->\n",
    "  <div>\n",
    "    <div id=\"counter3\" style=\"font-size: 20px; font-weight: bold;\">0</div>\n",
    "  </div>\n",
    "</div>\n",
    "\"\"\"\n",
    "\n",
    "# Define the JavaScript to handle interactions\n",
    "js_code = \"\"\"\n",
    "<script>\n",
    "  // Named function to increment the counter\n",
    "  function incrementCounter3() {\n",
    "    const counterDiv = document.getElementById(\"counter3\");\n",
    "    let count = parseInt(counterDiv.innerText);\n",
    "    count += 1;\n",
    "    counterDiv.innerText = count;\n",
    "  }\n",
    "\n",
    "  // Attach the click event to the button\n",
    "  document.getElementById(\"incrementButton3\").addEventListener(\"click\", incrementCounter3);\n",
    "</script>\n",
    "\"\"\"\n",
    "\n",
    "# Display the HTML and JavaScript in the notebook\n",
    "display(HTML(html_code))\n",
    "display(HTML(js_code))"
   ]
  },
  {
   "cell_type": "markdown",
   "metadata": {},
   "source": [
    "### Calling JS from Python"
   ]
  },
  {
   "cell_type": "code",
   "execution_count": 6,
   "metadata": {},
   "outputs": [
    {
     "data": {
      "text/html": [
       "\n",
       "<div style=\"display: flex; align-items: center;\">\n",
       "  <!-- Left-hand panel -->\n",
       "  <div style=\"margin-right: 20px;\">\n",
       "    <button id=\"incrementButton4\" style=\"padding: 10px; font-size: 16px;\">Increment Counter</button>\n",
       "  </div>\n",
       "  <!-- Right-hand panel -->\n",
       "  <div>\n",
       "    <div id=\"counter4\" style=\"font-size: 20px; font-weight: bold;\">0</div>\n",
       "  </div>\n",
       "</div>\n"
      ],
      "text/plain": [
       "<IPython.core.display.HTML object>"
      ]
     },
     "metadata": {},
     "output_type": "display_data"
    },
    {
     "data": {
      "text/html": [
       "\n",
       "<script>\n",
       "  // Named function to increment the counter\n",
       "  function incrementCounter4() {\n",
       "    const counterDiv = document.getElementById(\"counter4\");\n",
       "    let count = parseInt(counterDiv.innerText);\n",
       "    count += 1;\n",
       "    counterDiv.innerText = count;\n",
       "  }\n",
       "\n",
       "  // Attach the click event to the button\n",
       "  document.getElementById(\"incrementButton4\").addEventListener(\"click\", incrementCounter4);\n",
       "</script>\n"
      ],
      "text/plain": [
       "<IPython.core.display.HTML object>"
      ]
     },
     "metadata": {},
     "output_type": "display_data"
    }
   ],
   "source": [
    "def increment_counter_4():\n",
    "    display(Javascript(\"incrementCounter4();\"))\n",
    "\n",
    "# Define the HTML structure for the UI\n",
    "html_code = \"\"\"\n",
    "<div style=\"display: flex; align-items: center;\">\n",
    "  <!-- Left-hand panel -->\n",
    "  <div style=\"margin-right: 20px;\">\n",
    "    <button id=\"incrementButton4\" style=\"padding: 10px; font-size: 16px;\">Increment Counter</button>\n",
    "  </div>\n",
    "  <!-- Right-hand panel -->\n",
    "  <div>\n",
    "    <div id=\"counter4\" style=\"font-size: 20px; font-weight: bold;\">0</div>\n",
    "  </div>\n",
    "</div>\n",
    "\"\"\"\n",
    "\n",
    "# Define the JavaScript to handle interactions\n",
    "js_code = \"\"\"\n",
    "<script>\n",
    "  // Named function to increment the counter\n",
    "  function incrementCounter4() {\n",
    "    const counterDiv = document.getElementById(\"counter4\");\n",
    "    let count = parseInt(counterDiv.innerText);\n",
    "    count += 1;\n",
    "    counterDiv.innerText = count;\n",
    "  }\n",
    "\n",
    "  // Attach the click event to the button\n",
    "  document.getElementById(\"incrementButton4\").addEventListener(\"click\", incrementCounter4);\n",
    "</script>\n",
    "\"\"\"\n",
    "\n",
    "# Display the HTML and JavaScript in the notebook\n",
    "display(HTML(html_code))\n",
    "display(HTML(js_code))"
   ]
  },
  {
   "cell_type": "code",
   "execution_count": 7,
   "metadata": {},
   "outputs": [
    {
     "data": {
      "application/javascript": "incrementCounter4();",
      "text/plain": [
       "<IPython.core.display.Javascript object>"
      ]
     },
     "metadata": {},
     "output_type": "display_data"
    }
   ],
   "source": [
    "increment_counter_4()"
   ]
  },
  {
   "cell_type": "markdown",
   "metadata": {},
   "source": [
    "## Custom widget example from IPython Cookbook\n",
    "This was found at the following reference: [Creating custom Jupyter Notebook widgets in Python, HTML, and JavaScript](https://ipython-books.github.io/34-creating-custom-jupyter-notebook-widgets-in-python-html-and-javascript/)\n",
    "\n",
    "This did not work the first time on the VSCode+WSL environment (the output was blank)\n",
    "  - It appears there might be more environment setup involved, e.g. [here](https://ipywidgets.readthedocs.io/en/stable/examples/Widget%20Custom.html)\n",
    "  - This goes against our portability design aim\n",
    "  - This also seems to do more in the back-end than what I wanted, so I did not spend more effort on this experiment"
   ]
  },
  {
   "cell_type": "code",
   "execution_count": 8,
   "metadata": {},
   "outputs": [],
   "source": [
    "from IPython.display import display, HTML, Javascript\n",
    "import ipywidgets as widgets\n",
    "from traitlets import Unicode, Int, validate"
   ]
  },
  {
   "cell_type": "code",
   "execution_count": 9,
   "metadata": {
    "vscode": {
     "languageId": "javascript"
    }
   },
   "outputs": [
    {
     "data": {
      "application/javascript": "// We make sure the `counter` module is defined\n// only once.\nrequire.undef('counter');\n\n// We define the `counter` module depending on the\n// Jupyter widgets framework.\ndefine('counter', [\"@jupyter-widgets/base\"],\n       function(widgets) {\n\n    // We create the CounterView frontend class,\n    // deriving from DOMWidgetView.\n    var CounterView = widgets.DOMWidgetView.extend({\n\n        // This method creates the HTML widget.\n        render: function() {\n            // The value_changed() method should be\n            // called when the model's value changes\n            // on the kernel side.\n            this.value_changed();\n            this.model.on('change:value',\n                          this.value_changed, this);\n\n            var model = this.model;\n            var that = this;\n\n            // We create the plus and minus buttons.\n            this.bm = $('<button/>')\n            .text('-')\n            .click(function() {\n                // When the button is clicked,\n                // the model's value is updated.\n                var x = model.get('value');\n                model.set('value', x - 1);\n                that.touch();\n            });\n\n            this.bp = $('<button/>')\n            .text('+')\n            .click(function() {\n                var x = model.get('value');\n                model.set('value', x + 1);\n                that.touch();\n            });\n\n            // This element displays the current\n            // value of the counter.\n            this.span = $('<span />')\n            .text('0')\n            .css({marginLeft: '10px',\n                  marginRight: '10px'});\n\n            // this.el represents the widget's DOM\n            // element. We add the minus button,\n            // the span element, and the plus button.\n            $(this.el)\n            .append(this.bm)\n            .append(this.span)\n            .append(this.bp);\n        },\n\n        value_changed: function() {\n            // Update the displayed number when the\n            // counter's value changes.\n            var x = this.model.get('value');\n            $($(this.el).children()[1]).text(x);\n        },\n    });\n\n    return {\n        CounterView : CounterView\n    };\n});\n",
      "text/plain": [
       "<IPython.core.display.Javascript object>"
      ]
     },
     "metadata": {},
     "output_type": "display_data"
    }
   ],
   "source": [
    "%%javascript\n",
    "// We make sure the `counter` module is defined\n",
    "// only once.\n",
    "require.undef('counter');\n",
    "\n",
    "// We define the `counter` module depending on the\n",
    "// Jupyter widgets framework.\n",
    "define('counter', [\"@jupyter-widgets/base\"],\n",
    "       function(widgets) {\n",
    "\n",
    "    // We create the CounterView frontend class,\n",
    "    // deriving from DOMWidgetView.\n",
    "    var CounterView = widgets.DOMWidgetView.extend({\n",
    "\n",
    "        // This method creates the HTML widget.\n",
    "        render: function() {\n",
    "            // The value_changed() method should be\n",
    "            // called when the model's value changes\n",
    "            // on the kernel side.\n",
    "            this.value_changed();\n",
    "            this.model.on('change:value',\n",
    "                          this.value_changed, this);\n",
    "\n",
    "            var model = this.model;\n",
    "            var that = this;\n",
    "\n",
    "            // We create the plus and minus buttons.\n",
    "            this.bm = $('<button/>')\n",
    "            .text('-')\n",
    "            .click(function() {\n",
    "                // When the button is clicked,\n",
    "                // the model's value is updated.\n",
    "                var x = model.get('value');\n",
    "                model.set('value', x - 1);\n",
    "                that.touch();\n",
    "            });\n",
    "\n",
    "            this.bp = $('<button/>')\n",
    "            .text('+')\n",
    "            .click(function() {\n",
    "                var x = model.get('value');\n",
    "                model.set('value', x + 1);\n",
    "                that.touch();\n",
    "            });\n",
    "\n",
    "            // This element displays the current\n",
    "            // value of the counter.\n",
    "            this.span = $('<span />')\n",
    "            .text('0')\n",
    "            .css({marginLeft: '10px',\n",
    "                  marginRight: '10px'});\n",
    "\n",
    "            // this.el represents the widget's DOM\n",
    "            // element. We add the minus button,\n",
    "            // the span element, and the plus button.\n",
    "            $(this.el)\n",
    "            .append(this.bm)\n",
    "            .append(this.span)\n",
    "            .append(this.bp);\n",
    "        },\n",
    "\n",
    "        value_changed: function() {\n",
    "            // Update the displayed number when the\n",
    "            // counter's value changes.\n",
    "            var x = this.model.get('value');\n",
    "            $($(this.el).children()[1]).text(x);\n",
    "        },\n",
    "    });\n",
    "\n",
    "    return {\n",
    "        CounterView : CounterView\n",
    "    };\n",
    "});"
   ]
  },
  {
   "cell_type": "code",
   "execution_count": 10,
   "metadata": {},
   "outputs": [],
   "source": [
    "class CounterWidget(widgets.DOMWidget):\n",
    "    _view_name = Unicode('CounterView').tag(sync=True)\n",
    "    _view_module = Unicode('counter').tag(sync=True)\n",
    "    value = Int(0).tag(sync=True)"
   ]
  },
  {
   "cell_type": "code",
   "execution_count": 11,
   "metadata": {},
   "outputs": [
    {
     "data": {
      "application/vnd.jupyter.widget-view+json": {
       "model_id": "8efbe045a3a74979aa6f661e261b9158",
       "version_major": 2,
       "version_minor": 0
      },
      "text/plain": [
       "CounterWidget()"
      ]
     },
     "execution_count": 11,
     "metadata": {},
     "output_type": "execute_result"
    }
   ],
   "source": [
    "w = CounterWidget()\n",
    "w"
   ]
  },
  {
   "cell_type": "code",
   "execution_count": 12,
   "metadata": {},
   "outputs": [
    {
     "data": {
      "text/plain": [
       "['__annotations__',\n",
       " '__class__',\n",
       " '__copy__',\n",
       " '__deepcopy__',\n",
       " '__del__',\n",
       " '__delattr__',\n",
       " '__dict__',\n",
       " '__dir__',\n",
       " '__doc__',\n",
       " '__eq__',\n",
       " '__format__',\n",
       " '__ge__',\n",
       " '__getattribute__',\n",
       " '__getstate__',\n",
       " '__gt__',\n",
       " '__hash__',\n",
       " '__init__',\n",
       " '__init_subclass__',\n",
       " '__le__',\n",
       " '__lt__',\n",
       " '__module__',\n",
       " '__ne__',\n",
       " '__new__',\n",
       " '__reduce__',\n",
       " '__reduce_ex__',\n",
       " '__repr__',\n",
       " '__setattr__',\n",
       " '__setstate__',\n",
       " '__sizeof__',\n",
       " '__str__',\n",
       " '__subclasshook__',\n",
       " '__weakref__',\n",
       " '_active_widgets',\n",
       " '_add_notifiers',\n",
       " '_all_trait_default_generators',\n",
       " '_call_widget_constructed',\n",
       " '_comm_changed',\n",
       " '_compare',\n",
       " '_control_comm',\n",
       " '_default_keys',\n",
       " '_descriptors',\n",
       " '_dom_classes',\n",
       " '_gen_repr_from_keys',\n",
       " '_get_embed_state',\n",
       " '_get_trait_default_generator',\n",
       " '_handle_control_comm_msg',\n",
       " '_handle_custom_msg',\n",
       " '_handle_msg',\n",
       " '_holding_sync',\n",
       " '_instance_inits',\n",
       " '_is_numpy',\n",
       " '_lock_property',\n",
       " '_log_default',\n",
       " '_model_module',\n",
       " '_model_module_version',\n",
       " '_model_name',\n",
       " '_msg_callbacks',\n",
       " '_notify_observers',\n",
       " '_notify_trait',\n",
       " '_property_lock',\n",
       " '_register_validator',\n",
       " '_remove_notifiers',\n",
       " '_repr_keys',\n",
       " '_repr_mimebundle_',\n",
       " '_send',\n",
       " '_should_send_property',\n",
       " '_states_to_send',\n",
       " '_static_immutable_initial_values',\n",
       " '_trait_default_generators',\n",
       " '_trait_from_json',\n",
       " '_trait_to_json',\n",
       " '_traits',\n",
       " '_view_count',\n",
       " '_view_module',\n",
       " '_view_module_version',\n",
       " '_view_name',\n",
       " '_widget_construction_callback',\n",
       " '_widget_types',\n",
       " 'add_class',\n",
       " 'add_traits',\n",
       " 'blur',\n",
       " 'class_own_trait_events',\n",
       " 'class_own_traits',\n",
       " 'class_trait_names',\n",
       " 'class_traits',\n",
       " 'close',\n",
       " 'close_all',\n",
       " 'comm',\n",
       " 'cross_validation_lock',\n",
       " 'focus',\n",
       " 'get_manager_state',\n",
       " 'get_state',\n",
       " 'get_view_spec',\n",
       " 'handle_comm_opened',\n",
       " 'handle_control_comm_opened',\n",
       " 'has_trait',\n",
       " 'hold_sync',\n",
       " 'hold_trait_notifications',\n",
       " 'keys',\n",
       " 'layout',\n",
       " 'log',\n",
       " 'model_id',\n",
       " 'notify_change',\n",
       " 'observe',\n",
       " 'on_msg',\n",
       " 'on_trait_change',\n",
       " 'on_widget_constructed',\n",
       " 'open',\n",
       " 'remove_class',\n",
       " 'send',\n",
       " 'send_state',\n",
       " 'set_state',\n",
       " 'set_trait',\n",
       " 'setup_instance',\n",
       " 'tabbable',\n",
       " 'tooltip',\n",
       " 'trait_defaults',\n",
       " 'trait_events',\n",
       " 'trait_has_value',\n",
       " 'trait_metadata',\n",
       " 'trait_names',\n",
       " 'trait_values',\n",
       " 'traits',\n",
       " 'unobserve',\n",
       " 'unobserve_all',\n",
       " 'widget_types',\n",
       " 'widgets']"
      ]
     },
     "execution_count": 12,
     "metadata": {},
     "output_type": "execute_result"
    }
   ],
   "source": [
    "dir(widgets.DOMWidget)"
   ]
  }
 ],
 "metadata": {
  "kernelspec": {
   "display_name": ".venv",
   "language": "python",
   "name": "python3"
  },
  "language_info": {
   "codemirror_mode": {
    "name": "ipython",
    "version": 3
   },
   "file_extension": ".py",
   "mimetype": "text/x-python",
   "name": "python",
   "nbconvert_exporter": "python",
   "pygments_lexer": "ipython3",
   "version": "3.10.12"
  }
 },
 "nbformat": 4,
 "nbformat_minor": 2
}
