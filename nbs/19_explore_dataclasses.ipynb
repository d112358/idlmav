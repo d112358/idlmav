{
 "cells": [
  {
   "cell_type": "markdown",
   "metadata": {},
   "source": [
    "## Introduction\n",
    "At this point, the number of optional parameters for each submodule (`MavTracer`, `MavLayout`, etc) was growing and seemed likely to continue growing, so I wished to simplify the main library interface, allowing the user to specify as few or as many parameters as desired, while keeping the code base easy to maintain and the parameters easy to document.\n",
    "\n",
    "The following criteria were deemed desirable:\n",
    "* Backwards compatibility: it should be possible to specify any parameter as a kwarg on either the `MAV` or submodule interface\n",
    "* All optional parameters should have suitable default values\n",
    "* Little or no code duplication for maintainability purposes\n",
    "* Intellisense: parameter type hints and doc strings should be parsable in VSCode"
   ]
  },
  {
   "cell_type": "markdown",
   "metadata": {},
   "source": [
    "## Experiments"
   ]
  },
  {
   "cell_type": "markdown",
   "metadata": {},
   "source": [
    "### Defining the dataclass"
   ]
  },
  {
   "cell_type": "code",
   "execution_count": null,
   "metadata": {},
   "outputs": [
    {
     "data": {
      "text/plain": [
       "MavOptions(param1=1, param2='two', param3=(False, 'no'))"
      ]
     },
     "execution_count": 8,
     "metadata": {},
     "output_type": "execute_result"
    }
   ],
   "source": [
    "from dataclasses import dataclass\n",
    "from typing import Tuple\n",
    "\n",
    "@dataclass\n",
    "class MavOptions:\n",
    "    \"\"\"\n",
    "    param1 specifies which thing must be used to achieve some goal\n",
    "\n",
    "    param2 determines which branch of this other algorithm to use for some use case \n",
    "\n",
    "    param3 specifies two things: some thing and some other thing\n",
    "    \"\"\"\n",
    "    param1: int = 1    \n",
    "    param2: str = '2'\n",
    "    param3: Tuple[bool,str] = (False,'no')\n",
    "\n",
    "opts = MavOptions(param2='two')\n",
    "opts"
   ]
  },
  {
   "cell_type": "code",
   "execution_count": 10,
   "metadata": {},
   "outputs": [
    {
     "data": {
      "text/plain": [
       "MavOptions(param1=111, param2='two', param3=(False, 'no'))"
      ]
     },
     "execution_count": 10,
     "metadata": {},
     "output_type": "execute_result"
    }
   ],
   "source": [
    "opts.param1 = 111\n",
    "opts"
   ]
  },
  {
   "cell_type": "code",
   "execution_count": 16,
   "metadata": {},
   "outputs": [
    {
     "data": {
      "text/plain": [
       "MavOptions(param1=111, param2='two', param3=(False, 'no'))"
      ]
     },
     "execution_count": 16,
     "metadata": {},
     "output_type": "execute_result"
    }
   ],
   "source": [
    "opts.unknown_param = 4\n",
    "opts"
   ]
  },
  {
   "cell_type": "code",
   "execution_count": 27,
   "metadata": {},
   "outputs": [
    {
     "data": {
      "text/plain": [
       "MavOptions(param1=1234, param2='two', param3=(False, 'no'))"
      ]
     },
     "execution_count": 27,
     "metadata": {},
     "output_type": "execute_result"
    }
   ],
   "source": [
    "opts.__setattr__('param1',1234)\n",
    "opts"
   ]
  },
  {
   "cell_type": "markdown",
   "metadata": {},
   "source": [
    "### Passing the dataclass with kwargs to a submodule"
   ]
  },
  {
   "cell_type": "code",
   "execution_count": 28,
   "metadata": {},
   "outputs": [
    {
     "data": {
      "text/plain": [
       "MavOptions(param1=1, param2='2', param3=(False, 'no'))"
      ]
     },
     "execution_count": 28,
     "metadata": {},
     "output_type": "execute_result"
    }
   ],
   "source": [
    "class MavSubmodule:\n",
    "    def __init__(self, opts:MavOptions=MavOptions(), **kwargs):\n",
    "        self.opts = opts\n",
    "        for k,v in kwargs.items():\n",
    "            self.opts.__setattr__(k,v)\n",
    "    \n",
    "    def __repr__(self):\n",
    "        return self.opts.__repr__()\n",
    "    \n",
    "MavSubmodule()"
   ]
  },
  {
   "cell_type": "code",
   "execution_count": 29,
   "metadata": {},
   "outputs": [
    {
     "data": {
      "text/plain": [
       "MavOptions(param1='yes', param2='no', param3='maybe')"
      ]
     },
     "execution_count": 29,
     "metadata": {},
     "output_type": "execute_result"
    }
   ],
   "source": [
    "MavSubmodule(opts=MavOptions(param1='yes', param2='no', param3='maybe'))"
   ]
  },
  {
   "cell_type": "code",
   "execution_count": 30,
   "metadata": {},
   "outputs": [
    {
     "data": {
      "text/plain": [
       "MavOptions(param1='yes', param2='no', param3='maybe')"
      ]
     },
     "execution_count": 30,
     "metadata": {},
     "output_type": "execute_result"
    }
   ],
   "source": [
    "MavSubmodule(param1='yes', param2='no', param3='maybe')"
   ]
  },
  {
   "cell_type": "code",
   "execution_count": null,
   "metadata": {},
   "outputs": [
    {
     "data": {
      "text/plain": [
       "MavOptions(param1='yes', param2='no', param3='maybe')"
      ]
     },
     "execution_count": 31,
     "metadata": {},
     "output_type": "execute_result"
    }
   ],
   "source": [
    "MavSubmodule(opts=MavOptions(param1='yes', param2='no'), param3='maybe')"
   ]
  },
  {
   "cell_type": "markdown",
   "metadata": {},
   "source": [
    "## Observations\n",
    "* Dataclasses will achieve the aims mentioned above\n",
    "* Parameters passed to a submodule within a `MavOptions` object will enjoy the full intellisense experience\n",
    "* Parameters passed as kwargs directly to the submodule `__init__` will have the same effect (and in fact override those passed within a `MavOptions` object), but without the intellisense\n",
    "* The same `MavOptions` object can be passed to all submodules and each submodule can use only the desired fields\n",
    "* Parameters can all be documented in one place, namely in the docstring of `MavOptions` \n",
    "* Dataclasses provide a neat way to specify type hints and default values"
   ]
  }
 ],
 "metadata": {
  "kernelspec": {
   "display_name": ".venv",
   "language": "python",
   "name": "python3"
  },
  "language_info": {
   "codemirror_mode": {
    "name": "ipython",
    "version": 3
   },
   "file_extension": ".py",
   "mimetype": "text/x-python",
   "name": "python",
   "nbconvert_exporter": "python",
   "pygments_lexer": "ipython3",
   "version": "3.10.12"
  }
 },
 "nbformat": 4,
 "nbformat_minor": 2
}
