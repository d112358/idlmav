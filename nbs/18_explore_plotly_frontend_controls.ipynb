{
 "cells": [
  {
   "cell_type": "markdown",
   "metadata": {},
   "source": [
    "## Introduction\n",
    "At this point, we wished to add some interactivity to the portable figures and HTML exports using controls provided by Plotly. In these outputs, all interaction happen on the front-end. We experiment with the following:\n",
    "* A dropdown menu to color nodes according type / parameters / FLOPS\n",
    "* A dropdown menu to size nodes according parameters / FLOPS\n",
    "* An overview panel with a rectangle that responds to the slider\n",
    "\n"
   ]
  },
  {
   "cell_type": "markdown",
   "metadata": {},
   "source": [
    "## Dropdown menus for marker styling\n",
    "* Reference: [here](https://plotly.com/python/dropdowns/)\n",
    "* More properties: [here](https://plotly.com/python/reference/layout/updatemenus/)\n",
    "* Everything happens on the front-end (i.e. no need for `go.FigureWidget` or `ipywidgets`)"
   ]
  },
  {
   "cell_type": "markdown",
   "metadata": {},
   "source": [
    "### With a single trace\n",
    "The example below uses IDLMAV for tracing and layout, but plotly code from scratch for plotting"
   ]
  },
  {
   "cell_type": "code",
   "execution_count": 1,
   "metadata": {},
   "outputs": [],
   "source": [
    "import sys, importlib\n",
    "sys.path.append('..')\n",
    "import torch\n",
    "from torch import nn, Tensor\n",
    "import torch.nn.functional as F\n",
    "import plotly.graph_objects as go\n",
    "from idlmav import MAV, color_graph_nodes, FigureRenderer\n",
    "\n",
    "def reload_imports():\n",
    "    importlib.reload(sys.modules['idlmav.renderers.figure_renderer'])\n",
    "    importlib.reload(sys.modules['idlmav.tracing'])\n",
    "    importlib.reload(sys.modules['idlmav.layout'])\n",
    "    importlib.reload(sys.modules['idlmav.idlmav'])\n",
    "    importlib.reload(sys.modules['idlmav'])\n",
    "    global MAV, FigureRenderer\n",
    "    from idlmav import MAV, FigureRenderer"
   ]
  },
  {
   "cell_type": "code",
   "execution_count": 2,
   "metadata": {},
   "outputs": [
    {
     "name": "stderr",
     "output_type": "stream",
     "text": [
      "WARNING:2025-02-24 06:47:07 590671:590671 init.cpp:178] function cbapi->getCuptiStatus() failed with error CUPTI_ERROR_NOT_INITIALIZED (15)\n",
      "WARNING:2025-02-24 06:47:07 590671:590671 init.cpp:179] CUPTI initialization failed - CUDA profiler activities will be missing\n",
      "INFO:2025-02-24 06:47:07 590671:590671 init.cpp:181] If you see CUPTI_ERROR_INSUFFICIENT_PRIVILEGES, refer to https://developer.nvidia.com/nvidia-development-tools-solutions-err-nvgpuctrperm-cupti\n"
     ]
    }
   ],
   "source": [
    "class MnistCnn(nn.Module):\n",
    "    def __init__(self):\n",
    "        super().__init__()\n",
    "        self.conv1 = nn.Conv2d(1, 32, 3, 1)\n",
    "        self.conv2 = nn.Conv2d(32, 64, 3, 1)\n",
    "        self.dropout1 = nn.Dropout(0.25)\n",
    "        self.dropout2 = nn.Dropout(0.5)\n",
    "        self.fc1 = nn.Linear(9216, 128)\n",
    "        self.fc2 = nn.Linear(128, 10)\n",
    "\n",
    "    def forward(self, x):\n",
    "        x = self.conv1(x)\n",
    "        x = F.relu(x)\n",
    "        x = self.conv2(x)\n",
    "        x = F.relu(x)\n",
    "        x = F.max_pool2d(x, 2)\n",
    "        x = self.dropout1(x)\n",
    "        x = torch.flatten(x, 1)\n",
    "        x = self.fc1(x)\n",
    "        x = F.relu(x)\n",
    "        x = self.dropout2(x)\n",
    "        x = self.fc2(x)\n",
    "        output = F.log_softmax(x, dim=1)\n",
    "        return output\n",
    "    \n",
    "model = MnistCnn()\n",
    "inputs = torch.randn((16,1,28,28))\n",
    "mav = MAV(model, inputs)\n",
    "color_graph_nodes(mav.tracer.g)"
   ]
  },
  {
   "cell_type": "code",
   "execution_count": 3,
   "metadata": {},
   "outputs": [
    {
     "data": {
      "text/plain": [
       "[MavNode: name=x; (x,y)=(0.0,0); in=[], out=['conv1'],\n",
       " MavNode: name=conv1; (x,y)=(0.0,1); in=['x'], out=['relu'],\n",
       " MavNode: name=relu; (x,y)=(0.0,1.15); in=['conv1'], out=['conv2'],\n",
       " MavNode: name=conv2; (x,y)=(0.0,2); in=['relu'], out=['relu_1'],\n",
       " MavNode: name=relu_1; (x,y)=(0.0,2.15); in=['conv2'], out=['max_pool2d'],\n",
       " MavNode: name=max_pool2d; (x,y)=(0.0,2.3); in=['relu_1'], out=['dropout1'],\n",
       " MavNode: name=dropout1; (x,y)=(0.0,2.45); in=['max_pool2d'], out=['flatten'],\n",
       " MavNode: name=flatten; (x,y)=(0.0,2.6); in=['dropout1'], out=['fc1'],\n",
       " MavNode: name=fc1; (x,y)=(0.0,3); in=['flatten'], out=['relu_2'],\n",
       " MavNode: name=relu_2; (x,y)=(0.0,3.15); in=['fc1'], out=['dropout2'],\n",
       " MavNode: name=dropout2; (x,y)=(0.0,3.3); in=['relu_2'], out=['fc2'],\n",
       " MavNode: name=fc2; (x,y)=(0.0,4); in=['dropout2'], out=['log_softmax'],\n",
       " MavNode: name=log_softmax; (x,y)=(0.0,4.15); in=['fc2'], out=['output'],\n",
       " MavNode: name=output; (x,y)=(0.0,5); in=['log_softmax'], out=[]]"
      ]
     },
     "execution_count": 3,
     "metadata": {},
     "output_type": "execute_result"
    }
   ],
   "source": [
    "mav.tracer.g.nodes"
   ]
  },
  {
   "cell_type": "code",
   "execution_count": null,
   "metadata": {},
   "outputs": [
    {
     "data": {
      "text/html": [
       "        <script type=\"text/javascript\">\n",
       "        window.PlotlyConfig = {MathJaxConfig: 'local'};\n",
       "        if (window.MathJax && window.MathJax.Hub && window.MathJax.Hub.Config) {window.MathJax.Hub.Config({SVG: {font: \"STIX-Web\"}});}\n",
       "        if (typeof require !== 'undefined') {\n",
       "        require.undef(\"plotly\");\n",
       "        requirejs.config({\n",
       "            paths: {\n",
       "                'plotly': ['https://cdn.plot.ly/plotly-2.35.2.min']\n",
       "            }\n",
       "        });\n",
       "        require(['plotly'], function(Plotly) {\n",
       "            window._Plotly = Plotly;\n",
       "        });\n",
       "        }\n",
       "        </script>\n",
       "        "
      ]
     },
     "metadata": {},
     "output_type": "display_data"
    },
    {
     "data": {
      "text/html": [
       "<div>                            <div id=\"15ca76cc-dfd3-42b9-9418-e72356723439\" class=\"plotly-graph-div\" style=\"height:300px; width:500px;\"></div>            <script type=\"text/javascript\">                require([\"plotly\"], function(Plotly) {                    window.PLOTLYENV=window.PLOTLYENV || {};                                    if (document.getElementById(\"15ca76cc-dfd3-42b9-9418-e72356723439\")) {                    Plotly.newPlot(                        \"15ca76cc-dfd3-42b9-9418-e72356723439\",                        [{\"customdata\":[[\"x\",\"input\",\"(16,1,28,28)\",\"0\",\"0\",\"()\",\"{}\"],[\"conv1\",\"nn.Conv2d\",\"(16,32,26,26)\",\"320\",\"6 230 016\",\"(x,)\",\"{}\"],[\"relu\",\"relu()\",\"(16,32,26,26)\",\"0\",\"0\",\"(conv1,)\",\"{'inplace': False}\"],[\"conv2\",\"nn.Conv2d\",\"(16,64,24,24)\",\"18 496\",\"339 738 624\",\"(relu,)\",\"{}\"],[\"relu_1\",\"relu()\",\"(16,64,24,24)\",\"0\",\"0\",\"(conv2,)\",\"{'inplace': False}\"],[\"max_pool2d\",\"max_pool2d()\",\"(16,64,12,12)\",\"0\",\"0\",\"(relu_1, 2)\",\"{'stride': None, 'padding': 0, 'dilation': 1, 'ceil_mode': False, 'return_indices': False}\"],[\"dropout1\",\"nn.Dropout\",\"(16,64,12,12)\",\"0\",\"147 456\",\"(max_pool2d,)\",\"{}\"],[\"flatten\",\"flatten()\",\"(16,9216)\",\"0\",\"0\",\"(dropout1, 1)\",\"{}\"],[\"fc1\",\"nn.Linear\",\"(16,128)\",\"1 179 776\",\"37 748 736\",\"(flatten,)\",\"{}\"],[\"relu_2\",\"relu()\",\"(16,128)\",\"0\",\"0\",\"(fc1,)\",\"{'inplace': False}\"],[\"dropout2\",\"nn.Dropout\",\"(16,128)\",\"0\",\"2 048\",\"(relu_2,)\",\"{}\"],[\"fc2\",\"nn.Linear\",\"(16,10)\",\"1 290\",\"40 960\",\"(dropout2,)\",\"{}\"],[\"log_softmax\",\"log_softmax()\",\"(16,10)\",\"0\",\"0\",\"(fc2,)\",\"{'dim': 1, '_stacklevel': 3, 'dtype': None}\"],[\"output\",\"output\",\"(16,10)\",\"0\",\"0\",\"(log_softmax,)\",\"{}\"]],\"hovertemplate\":\"Name: %{customdata[0]}\\u003cbr\\u003eOperation: %{customdata[1]}\\u003cbr\\u003eActivations: %{customdata[2]}\\u003cbr\\u003eParameters: %{customdata[3]}\\u003cbr\\u003eFLOPS: %{customdata[4]}\\u003cbr\\u003e\\u003cbr\\u003eargs: %{customdata[5]}\\u003cbr\\u003ekwargs: %{customdata[6]}\\u003cbr\\u003e\\u003cextra\\u003e\\u003c\\u002fextra\\u003e\",\"marker\":{\"color\":[\"#222A2A\",\"#00A08B\",\"#1616A7\",\"#00A08B\",\"#1616A7\",\"#DA60CA\",\"#1CA71C\",\"#778AAE\",\"#2E91E5\",\"#1616A7\",\"#1CA71C\",\"#2E91E5\",\"#1616A7\",\"#222A2A\"],\"colorscale\":[[0.0,\"rgb(0,0,255)\"],[1.0,\"rgb(255,0,0)\"]],\"size\":[6.0,6.0,6.0,11.928009913453302,6.0,6.0,6.0,6.0,18.0,6.0,6.0,8.037003250024952,6.0,6.0]},\"mode\":\"markers\",\"showlegend\":false,\"x\":[0.0,0.0,0.0,0.0,0.0,0.0,0.0,0.0,0.0,0.0,0.0,0.0,0.0,0.0],\"y\":[0,1,1.15,2,2.15,2.3,2.45,2.6,3,3.15,3.3,4,4.15,5],\"type\":\"scatter\"}],                        {\"height\":300,\"margin\":{\"b\":0,\"l\":0,\"r\":0,\"t\":0},\"width\":500,\"template\":{\"data\":{\"histogram2dcontour\":[{\"type\":\"histogram2dcontour\",\"colorbar\":{\"outlinewidth\":0,\"ticks\":\"\"},\"colorscale\":[[0.0,\"#0d0887\"],[0.1111111111111111,\"#46039f\"],[0.2222222222222222,\"#7201a8\"],[0.3333333333333333,\"#9c179e\"],[0.4444444444444444,\"#bd3786\"],[0.5555555555555556,\"#d8576b\"],[0.6666666666666666,\"#ed7953\"],[0.7777777777777778,\"#fb9f3a\"],[0.8888888888888888,\"#fdca26\"],[1.0,\"#f0f921\"]]}],\"choropleth\":[{\"type\":\"choropleth\",\"colorbar\":{\"outlinewidth\":0,\"ticks\":\"\"}}],\"histogram2d\":[{\"type\":\"histogram2d\",\"colorbar\":{\"outlinewidth\":0,\"ticks\":\"\"},\"colorscale\":[[0.0,\"#0d0887\"],[0.1111111111111111,\"#46039f\"],[0.2222222222222222,\"#7201a8\"],[0.3333333333333333,\"#9c179e\"],[0.4444444444444444,\"#bd3786\"],[0.5555555555555556,\"#d8576b\"],[0.6666666666666666,\"#ed7953\"],[0.7777777777777778,\"#fb9f3a\"],[0.8888888888888888,\"#fdca26\"],[1.0,\"#f0f921\"]]}],\"heatmap\":[{\"type\":\"heatmap\",\"colorbar\":{\"outlinewidth\":0,\"ticks\":\"\"},\"colorscale\":[[0.0,\"#0d0887\"],[0.1111111111111111,\"#46039f\"],[0.2222222222222222,\"#7201a8\"],[0.3333333333333333,\"#9c179e\"],[0.4444444444444444,\"#bd3786\"],[0.5555555555555556,\"#d8576b\"],[0.6666666666666666,\"#ed7953\"],[0.7777777777777778,\"#fb9f3a\"],[0.8888888888888888,\"#fdca26\"],[1.0,\"#f0f921\"]]}],\"heatmapgl\":[{\"type\":\"heatmapgl\",\"colorbar\":{\"outlinewidth\":0,\"ticks\":\"\"},\"colorscale\":[[0.0,\"#0d0887\"],[0.1111111111111111,\"#46039f\"],[0.2222222222222222,\"#7201a8\"],[0.3333333333333333,\"#9c179e\"],[0.4444444444444444,\"#bd3786\"],[0.5555555555555556,\"#d8576b\"],[0.6666666666666666,\"#ed7953\"],[0.7777777777777778,\"#fb9f3a\"],[0.8888888888888888,\"#fdca26\"],[1.0,\"#f0f921\"]]}],\"contourcarpet\":[{\"type\":\"contourcarpet\",\"colorbar\":{\"outlinewidth\":0,\"ticks\":\"\"}}],\"contour\":[{\"type\":\"contour\",\"colorbar\":{\"outlinewidth\":0,\"ticks\":\"\"},\"colorscale\":[[0.0,\"#0d0887\"],[0.1111111111111111,\"#46039f\"],[0.2222222222222222,\"#7201a8\"],[0.3333333333333333,\"#9c179e\"],[0.4444444444444444,\"#bd3786\"],[0.5555555555555556,\"#d8576b\"],[0.6666666666666666,\"#ed7953\"],[0.7777777777777778,\"#fb9f3a\"],[0.8888888888888888,\"#fdca26\"],[1.0,\"#f0f921\"]]}],\"surface\":[{\"type\":\"surface\",\"colorbar\":{\"outlinewidth\":0,\"ticks\":\"\"},\"colorscale\":[[0.0,\"#0d0887\"],[0.1111111111111111,\"#46039f\"],[0.2222222222222222,\"#7201a8\"],[0.3333333333333333,\"#9c179e\"],[0.4444444444444444,\"#bd3786\"],[0.5555555555555556,\"#d8576b\"],[0.6666666666666666,\"#ed7953\"],[0.7777777777777778,\"#fb9f3a\"],[0.8888888888888888,\"#fdca26\"],[1.0,\"#f0f921\"]]}],\"mesh3d\":[{\"type\":\"mesh3d\",\"colorbar\":{\"outlinewidth\":0,\"ticks\":\"\"}}],\"scatter\":[{\"fillpattern\":{\"fillmode\":\"overlay\",\"size\":10,\"solidity\":0.2},\"type\":\"scatter\"}],\"parcoords\":[{\"type\":\"parcoords\",\"line\":{\"colorbar\":{\"outlinewidth\":0,\"ticks\":\"\"}}}],\"scatterpolargl\":[{\"type\":\"scatterpolargl\",\"marker\":{\"colorbar\":{\"outlinewidth\":0,\"ticks\":\"\"}}}],\"bar\":[{\"error_x\":{\"color\":\"#2a3f5f\"},\"error_y\":{\"color\":\"#2a3f5f\"},\"marker\":{\"line\":{\"color\":\"#E5ECF6\",\"width\":0.5},\"pattern\":{\"fillmode\":\"overlay\",\"size\":10,\"solidity\":0.2}},\"type\":\"bar\"}],\"scattergeo\":[{\"type\":\"scattergeo\",\"marker\":{\"colorbar\":{\"outlinewidth\":0,\"ticks\":\"\"}}}],\"scatterpolar\":[{\"type\":\"scatterpolar\",\"marker\":{\"colorbar\":{\"outlinewidth\":0,\"ticks\":\"\"}}}],\"histogram\":[{\"marker\":{\"pattern\":{\"fillmode\":\"overlay\",\"size\":10,\"solidity\":0.2}},\"type\":\"histogram\"}],\"scattergl\":[{\"type\":\"scattergl\",\"marker\":{\"colorbar\":{\"outlinewidth\":0,\"ticks\":\"\"}}}],\"scatter3d\":[{\"type\":\"scatter3d\",\"line\":{\"colorbar\":{\"outlinewidth\":0,\"ticks\":\"\"}},\"marker\":{\"colorbar\":{\"outlinewidth\":0,\"ticks\":\"\"}}}],\"scattermapbox\":[{\"type\":\"scattermapbox\",\"marker\":{\"colorbar\":{\"outlinewidth\":0,\"ticks\":\"\"}}}],\"scatterternary\":[{\"type\":\"scatterternary\",\"marker\":{\"colorbar\":{\"outlinewidth\":0,\"ticks\":\"\"}}}],\"scattercarpet\":[{\"type\":\"scattercarpet\",\"marker\":{\"colorbar\":{\"outlinewidth\":0,\"ticks\":\"\"}}}],\"carpet\":[{\"aaxis\":{\"endlinecolor\":\"#2a3f5f\",\"gridcolor\":\"white\",\"linecolor\":\"white\",\"minorgridcolor\":\"white\",\"startlinecolor\":\"#2a3f5f\"},\"baxis\":{\"endlinecolor\":\"#2a3f5f\",\"gridcolor\":\"white\",\"linecolor\":\"white\",\"minorgridcolor\":\"white\",\"startlinecolor\":\"#2a3f5f\"},\"type\":\"carpet\"}],\"table\":[{\"cells\":{\"fill\":{\"color\":\"#EBF0F8\"},\"line\":{\"color\":\"white\"}},\"header\":{\"fill\":{\"color\":\"#C8D4E3\"},\"line\":{\"color\":\"white\"}},\"type\":\"table\"}],\"barpolar\":[{\"marker\":{\"line\":{\"color\":\"#E5ECF6\",\"width\":0.5},\"pattern\":{\"fillmode\":\"overlay\",\"size\":10,\"solidity\":0.2}},\"type\":\"barpolar\"}],\"pie\":[{\"automargin\":true,\"type\":\"pie\"}]},\"layout\":{\"autotypenumbers\":\"strict\",\"colorway\":[\"#636efa\",\"#EF553B\",\"#00cc96\",\"#ab63fa\",\"#FFA15A\",\"#19d3f3\",\"#FF6692\",\"#B6E880\",\"#FF97FF\",\"#FECB52\"],\"font\":{\"color\":\"#2a3f5f\"},\"hovermode\":\"closest\",\"hoverlabel\":{\"align\":\"left\"},\"paper_bgcolor\":\"white\",\"plot_bgcolor\":\"#E5ECF6\",\"polar\":{\"bgcolor\":\"#E5ECF6\",\"angularaxis\":{\"gridcolor\":\"white\",\"linecolor\":\"white\",\"ticks\":\"\"},\"radialaxis\":{\"gridcolor\":\"white\",\"linecolor\":\"white\",\"ticks\":\"\"}},\"ternary\":{\"bgcolor\":\"#E5ECF6\",\"aaxis\":{\"gridcolor\":\"white\",\"linecolor\":\"white\",\"ticks\":\"\"},\"baxis\":{\"gridcolor\":\"white\",\"linecolor\":\"white\",\"ticks\":\"\"},\"caxis\":{\"gridcolor\":\"white\",\"linecolor\":\"white\",\"ticks\":\"\"}},\"coloraxis\":{\"colorbar\":{\"outlinewidth\":0,\"ticks\":\"\"}},\"colorscale\":{\"sequential\":[[0.0,\"#0d0887\"],[0.1111111111111111,\"#46039f\"],[0.2222222222222222,\"#7201a8\"],[0.3333333333333333,\"#9c179e\"],[0.4444444444444444,\"#bd3786\"],[0.5555555555555556,\"#d8576b\"],[0.6666666666666666,\"#ed7953\"],[0.7777777777777778,\"#fb9f3a\"],[0.8888888888888888,\"#fdca26\"],[1.0,\"#f0f921\"]],\"sequentialminus\":[[0.0,\"#0d0887\"],[0.1111111111111111,\"#46039f\"],[0.2222222222222222,\"#7201a8\"],[0.3333333333333333,\"#9c179e\"],[0.4444444444444444,\"#bd3786\"],[0.5555555555555556,\"#d8576b\"],[0.6666666666666666,\"#ed7953\"],[0.7777777777777778,\"#fb9f3a\"],[0.8888888888888888,\"#fdca26\"],[1.0,\"#f0f921\"]],\"diverging\":[[0,\"#8e0152\"],[0.1,\"#c51b7d\"],[0.2,\"#de77ae\"],[0.3,\"#f1b6da\"],[0.4,\"#fde0ef\"],[0.5,\"#f7f7f7\"],[0.6,\"#e6f5d0\"],[0.7,\"#b8e186\"],[0.8,\"#7fbc41\"],[0.9,\"#4d9221\"],[1,\"#276419\"]]},\"xaxis\":{\"gridcolor\":\"white\",\"linecolor\":\"white\",\"ticks\":\"\",\"title\":{\"standoff\":15},\"zerolinecolor\":\"white\",\"automargin\":true,\"zerolinewidth\":2},\"yaxis\":{\"gridcolor\":\"white\",\"linecolor\":\"white\",\"ticks\":\"\",\"title\":{\"standoff\":15},\"zerolinecolor\":\"white\",\"automargin\":true,\"zerolinewidth\":2},\"scene\":{\"xaxis\":{\"backgroundcolor\":\"#E5ECF6\",\"gridcolor\":\"white\",\"linecolor\":\"white\",\"showbackground\":true,\"ticks\":\"\",\"zerolinecolor\":\"white\",\"gridwidth\":2},\"yaxis\":{\"backgroundcolor\":\"#E5ECF6\",\"gridcolor\":\"white\",\"linecolor\":\"white\",\"showbackground\":true,\"ticks\":\"\",\"zerolinecolor\":\"white\",\"gridwidth\":2},\"zaxis\":{\"backgroundcolor\":\"#E5ECF6\",\"gridcolor\":\"white\",\"linecolor\":\"white\",\"showbackground\":true,\"ticks\":\"\",\"zerolinecolor\":\"white\",\"gridwidth\":2}},\"shapedefaults\":{\"line\":{\"color\":\"#2a3f5f\"}},\"annotationdefaults\":{\"arrowcolor\":\"#2a3f5f\",\"arrowhead\":0,\"arrowwidth\":1},\"geo\":{\"bgcolor\":\"white\",\"landcolor\":\"#E5ECF6\",\"subunitcolor\":\"white\",\"showland\":true,\"showlakes\":true,\"lakecolor\":\"white\"},\"title\":{\"x\":0.05},\"mapbox\":{\"style\":\"light\"}}},\"xaxis\":{\"showgrid\":false,\"zeroline\":false,\"tickmode\":\"array\",\"tickvals\":[]},\"yaxis\":{\"showgrid\":false,\"zeroline\":false,\"tickmode\":\"array\",\"tickvals\":[]}},                        {\"responsive\": true}                    ).then(function(){\n",
       "                            \n",
       "var gd = document.getElementById('15ca76cc-dfd3-42b9-9418-e72356723439');\n",
       "var x = new MutationObserver(function (mutations, observer) {{\n",
       "        var display = window.getComputedStyle(gd).display;\n",
       "        if (!display || display === 'none') {{\n",
       "            console.log([gd, 'removed!']);\n",
       "            Plotly.purge(gd);\n",
       "            observer.disconnect();\n",
       "        }}\n",
       "}});\n",
       "\n",
       "// Listen for the removal of the full notebook cells\n",
       "var notebookContainer = gd.closest('#notebook-container');\n",
       "if (notebookContainer) {{\n",
       "    x.observe(notebookContainer, {childList: true});\n",
       "}}\n",
       "\n",
       "// Listen for the clearing of the current output cell\n",
       "var outputEl = gd.closest('.output');\n",
       "if (outputEl) {{\n",
       "    x.observe(outputEl, {childList: true});\n",
       "}}\n",
       "\n",
       "                        })                };                });            </script>        </div>"
      ]
     },
     "metadata": {},
     "output_type": "display_data"
    }
   ],
   "source": [
    "g = mav.tracer.g\n",
    "renderer = FigureRenderer(g)  # For helper functions e.g. \"params_to_dot_size\"\n",
    "fig = go.Figure(layout=dict(width=500, height=300, margin=dict(l=0, r=0, t=0, b=0)))\n",
    "\n",
    "node_trace = go.Scatter(\n",
    "    x=[n.x for n in g.nodes], \n",
    "    y=[n.y for n in g.nodes], \n",
    "    mode='markers', \n",
    "    marker=dict(\n",
    "        size=[renderer.params_to_dot_size(n.params) for n in g.nodes],\n",
    "        color=[renderer.get_node_color(n) for n in g.nodes],\n",
    "        colorscale='Bluered'\n",
    "    ),\n",
    "    hovertemplate=(\n",
    "        'Name: %{customdata[0]}<br>' +\n",
    "        'Operation: %{customdata[1]}<br>' +\n",
    "        'Activations: %{customdata[2]}<br>' +\n",
    "        'Parameters: %{customdata[3]}<br>' +\n",
    "        'FLOPS: %{customdata[4]}<br>' +\n",
    "        '<br>' +\n",
    "        'args: %{customdata[5]}<br>' +\n",
    "        'kwargs: %{customdata[6]}<br>' +\n",
    "        '<extra></extra>'\n",
    "    ),\n",
    "    customdata=[renderer.node_data(n) + renderer.node_arg_data(n) for n in g.nodes],\n",
    "    showlegend=False\n",
    ")\n",
    "fig.add_trace(node_trace)\n",
    "fig.update_xaxes(showgrid=False, zeroline=False, tickmode='array', tickvals=[])\n",
    "fig.update_yaxes(showgrid=False, zeroline=False, tickmode='array', tickvals=[])\n",
    "\n",
    "fig.show(renderer='notebook_connected')"
   ]
  },
  {
   "cell_type": "code",
   "execution_count": 5,
   "metadata": {},
   "outputs": [
    {
     "data": {
      "text/html": [
       "        <script type=\"text/javascript\">\n",
       "        window.PlotlyConfig = {MathJaxConfig: 'local'};\n",
       "        if (window.MathJax && window.MathJax.Hub && window.MathJax.Hub.Config) {window.MathJax.Hub.Config({SVG: {font: \"STIX-Web\"}});}\n",
       "        if (typeof require !== 'undefined') {\n",
       "        require.undef(\"plotly\");\n",
       "        requirejs.config({\n",
       "            paths: {\n",
       "                'plotly': ['https://cdn.plot.ly/plotly-2.35.2.min']\n",
       "            }\n",
       "        });\n",
       "        require(['plotly'], function(Plotly) {\n",
       "            window._Plotly = Plotly;\n",
       "        });\n",
       "        }\n",
       "        </script>\n",
       "        "
      ]
     },
     "metadata": {},
     "output_type": "display_data"
    },
    {
     "data": {
      "text/html": [
       "<div>                            <div id=\"74603271-06bc-4955-9e1d-1c607c1ac6e1\" class=\"plotly-graph-div\" style=\"height:300px; width:500px;\"></div>            <script type=\"text/javascript\">                require([\"plotly\"], function(Plotly) {                    window.PLOTLYENV=window.PLOTLYENV || {};                                    if (document.getElementById(\"74603271-06bc-4955-9e1d-1c607c1ac6e1\")) {                    Plotly.newPlot(                        \"74603271-06bc-4955-9e1d-1c607c1ac6e1\",                        [{\"customdata\":[[\"x\",\"input\",\"(16,1,28,28)\",\"0\",\"0\",\"()\",\"{}\"],[\"conv1\",\"nn.Conv2d\",\"(16,32,26,26)\",\"320\",\"6 230 016\",\"(x,)\",\"{}\"],[\"relu\",\"relu()\",\"(16,32,26,26)\",\"0\",\"0\",\"(conv1,)\",\"{'inplace': False}\"],[\"conv2\",\"nn.Conv2d\",\"(16,64,24,24)\",\"18 496\",\"339 738 624\",\"(relu,)\",\"{}\"],[\"relu_1\",\"relu()\",\"(16,64,24,24)\",\"0\",\"0\",\"(conv2,)\",\"{'inplace': False}\"],[\"max_pool2d\",\"max_pool2d()\",\"(16,64,12,12)\",\"0\",\"0\",\"(relu_1, 2)\",\"{'stride': None, 'padding': 0, 'dilation': 1, 'ceil_mode': False, 'return_indices': False}\"],[\"dropout1\",\"nn.Dropout\",\"(16,64,12,12)\",\"0\",\"147 456\",\"(max_pool2d,)\",\"{}\"],[\"flatten\",\"flatten()\",\"(16,9216)\",\"0\",\"0\",\"(dropout1, 1)\",\"{}\"],[\"fc1\",\"nn.Linear\",\"(16,128)\",\"1 179 776\",\"37 748 736\",\"(flatten,)\",\"{}\"],[\"relu_2\",\"relu()\",\"(16,128)\",\"0\",\"0\",\"(fc1,)\",\"{'inplace': False}\"],[\"dropout2\",\"nn.Dropout\",\"(16,128)\",\"0\",\"2 048\",\"(relu_2,)\",\"{}\"],[\"fc2\",\"nn.Linear\",\"(16,10)\",\"1 290\",\"40 960\",\"(dropout2,)\",\"{}\"],[\"log_softmax\",\"log_softmax()\",\"(16,10)\",\"0\",\"0\",\"(fc2,)\",\"{'dim': 1, '_stacklevel': 3, 'dtype': None}\"],[\"output\",\"output\",\"(16,10)\",\"0\",\"0\",\"(log_softmax,)\",\"{}\"]],\"hovertemplate\":\"Name: %{customdata[0]}\\u003cbr\\u003eOperation: %{customdata[1]}\\u003cbr\\u003eActivations: %{customdata[2]}\\u003cbr\\u003eParameters: %{customdata[3]}\\u003cbr\\u003eFLOPS: %{customdata[4]}\\u003cbr\\u003e\\u003cbr\\u003eargs: %{customdata[5]}\\u003cbr\\u003ekwargs: %{customdata[6]}\\u003cbr\\u003e\\u003cextra\\u003e\\u003c\\u002fextra\\u003e\",\"marker\":{\"color\":[\"#222A2A\",\"#00A08B\",\"#1616A7\",\"#00A08B\",\"#1616A7\",\"#DA60CA\",\"#1CA71C\",\"#778AAE\",\"#2E91E5\",\"#1616A7\",\"#1CA71C\",\"#2E91E5\",\"#1616A7\",\"#222A2A\"],\"colorscale\":[[0.0,\"rgb(0,0,255)\"],[1.0,\"rgb(255,0,0)\"]],\"size\":[6.0,6.0,6.0,11.928009913453302,6.0,6.0,6.0,6.0,18.0,6.0,6.0,8.037003250024952,6.0,6.0]},\"mode\":\"markers\",\"showlegend\":false,\"x\":[0.0,0.0,0.0,0.0,0.0,0.0,0.0,0.0,0.0,0.0,0.0,0.0,0.0,0.0],\"y\":[0,1,1.15,2,2.15,2.3,2.45,2.6,3,3.15,3.3,4,4.15,5],\"type\":\"scatter\"}],                        {\"height\":300,\"margin\":{\"b\":0,\"l\":0,\"r\":0,\"t\":0},\"width\":500,\"template\":{\"data\":{\"histogram2dcontour\":[{\"type\":\"histogram2dcontour\",\"colorbar\":{\"outlinewidth\":0,\"ticks\":\"\"},\"colorscale\":[[0.0,\"#0d0887\"],[0.1111111111111111,\"#46039f\"],[0.2222222222222222,\"#7201a8\"],[0.3333333333333333,\"#9c179e\"],[0.4444444444444444,\"#bd3786\"],[0.5555555555555556,\"#d8576b\"],[0.6666666666666666,\"#ed7953\"],[0.7777777777777778,\"#fb9f3a\"],[0.8888888888888888,\"#fdca26\"],[1.0,\"#f0f921\"]]}],\"choropleth\":[{\"type\":\"choropleth\",\"colorbar\":{\"outlinewidth\":0,\"ticks\":\"\"}}],\"histogram2d\":[{\"type\":\"histogram2d\",\"colorbar\":{\"outlinewidth\":0,\"ticks\":\"\"},\"colorscale\":[[0.0,\"#0d0887\"],[0.1111111111111111,\"#46039f\"],[0.2222222222222222,\"#7201a8\"],[0.3333333333333333,\"#9c179e\"],[0.4444444444444444,\"#bd3786\"],[0.5555555555555556,\"#d8576b\"],[0.6666666666666666,\"#ed7953\"],[0.7777777777777778,\"#fb9f3a\"],[0.8888888888888888,\"#fdca26\"],[1.0,\"#f0f921\"]]}],\"heatmap\":[{\"type\":\"heatmap\",\"colorbar\":{\"outlinewidth\":0,\"ticks\":\"\"},\"colorscale\":[[0.0,\"#0d0887\"],[0.1111111111111111,\"#46039f\"],[0.2222222222222222,\"#7201a8\"],[0.3333333333333333,\"#9c179e\"],[0.4444444444444444,\"#bd3786\"],[0.5555555555555556,\"#d8576b\"],[0.6666666666666666,\"#ed7953\"],[0.7777777777777778,\"#fb9f3a\"],[0.8888888888888888,\"#fdca26\"],[1.0,\"#f0f921\"]]}],\"heatmapgl\":[{\"type\":\"heatmapgl\",\"colorbar\":{\"outlinewidth\":0,\"ticks\":\"\"},\"colorscale\":[[0.0,\"#0d0887\"],[0.1111111111111111,\"#46039f\"],[0.2222222222222222,\"#7201a8\"],[0.3333333333333333,\"#9c179e\"],[0.4444444444444444,\"#bd3786\"],[0.5555555555555556,\"#d8576b\"],[0.6666666666666666,\"#ed7953\"],[0.7777777777777778,\"#fb9f3a\"],[0.8888888888888888,\"#fdca26\"],[1.0,\"#f0f921\"]]}],\"contourcarpet\":[{\"type\":\"contourcarpet\",\"colorbar\":{\"outlinewidth\":0,\"ticks\":\"\"}}],\"contour\":[{\"type\":\"contour\",\"colorbar\":{\"outlinewidth\":0,\"ticks\":\"\"},\"colorscale\":[[0.0,\"#0d0887\"],[0.1111111111111111,\"#46039f\"],[0.2222222222222222,\"#7201a8\"],[0.3333333333333333,\"#9c179e\"],[0.4444444444444444,\"#bd3786\"],[0.5555555555555556,\"#d8576b\"],[0.6666666666666666,\"#ed7953\"],[0.7777777777777778,\"#fb9f3a\"],[0.8888888888888888,\"#fdca26\"],[1.0,\"#f0f921\"]]}],\"surface\":[{\"type\":\"surface\",\"colorbar\":{\"outlinewidth\":0,\"ticks\":\"\"},\"colorscale\":[[0.0,\"#0d0887\"],[0.1111111111111111,\"#46039f\"],[0.2222222222222222,\"#7201a8\"],[0.3333333333333333,\"#9c179e\"],[0.4444444444444444,\"#bd3786\"],[0.5555555555555556,\"#d8576b\"],[0.6666666666666666,\"#ed7953\"],[0.7777777777777778,\"#fb9f3a\"],[0.8888888888888888,\"#fdca26\"],[1.0,\"#f0f921\"]]}],\"mesh3d\":[{\"type\":\"mesh3d\",\"colorbar\":{\"outlinewidth\":0,\"ticks\":\"\"}}],\"scatter\":[{\"fillpattern\":{\"fillmode\":\"overlay\",\"size\":10,\"solidity\":0.2},\"type\":\"scatter\"}],\"parcoords\":[{\"type\":\"parcoords\",\"line\":{\"colorbar\":{\"outlinewidth\":0,\"ticks\":\"\"}}}],\"scatterpolargl\":[{\"type\":\"scatterpolargl\",\"marker\":{\"colorbar\":{\"outlinewidth\":0,\"ticks\":\"\"}}}],\"bar\":[{\"error_x\":{\"color\":\"#2a3f5f\"},\"error_y\":{\"color\":\"#2a3f5f\"},\"marker\":{\"line\":{\"color\":\"#E5ECF6\",\"width\":0.5},\"pattern\":{\"fillmode\":\"overlay\",\"size\":10,\"solidity\":0.2}},\"type\":\"bar\"}],\"scattergeo\":[{\"type\":\"scattergeo\",\"marker\":{\"colorbar\":{\"outlinewidth\":0,\"ticks\":\"\"}}}],\"scatterpolar\":[{\"type\":\"scatterpolar\",\"marker\":{\"colorbar\":{\"outlinewidth\":0,\"ticks\":\"\"}}}],\"histogram\":[{\"marker\":{\"pattern\":{\"fillmode\":\"overlay\",\"size\":10,\"solidity\":0.2}},\"type\":\"histogram\"}],\"scattergl\":[{\"type\":\"scattergl\",\"marker\":{\"colorbar\":{\"outlinewidth\":0,\"ticks\":\"\"}}}],\"scatter3d\":[{\"type\":\"scatter3d\",\"line\":{\"colorbar\":{\"outlinewidth\":0,\"ticks\":\"\"}},\"marker\":{\"colorbar\":{\"outlinewidth\":0,\"ticks\":\"\"}}}],\"scattermapbox\":[{\"type\":\"scattermapbox\",\"marker\":{\"colorbar\":{\"outlinewidth\":0,\"ticks\":\"\"}}}],\"scatterternary\":[{\"type\":\"scatterternary\",\"marker\":{\"colorbar\":{\"outlinewidth\":0,\"ticks\":\"\"}}}],\"scattercarpet\":[{\"type\":\"scattercarpet\",\"marker\":{\"colorbar\":{\"outlinewidth\":0,\"ticks\":\"\"}}}],\"carpet\":[{\"aaxis\":{\"endlinecolor\":\"#2a3f5f\",\"gridcolor\":\"white\",\"linecolor\":\"white\",\"minorgridcolor\":\"white\",\"startlinecolor\":\"#2a3f5f\"},\"baxis\":{\"endlinecolor\":\"#2a3f5f\",\"gridcolor\":\"white\",\"linecolor\":\"white\",\"minorgridcolor\":\"white\",\"startlinecolor\":\"#2a3f5f\"},\"type\":\"carpet\"}],\"table\":[{\"cells\":{\"fill\":{\"color\":\"#EBF0F8\"},\"line\":{\"color\":\"white\"}},\"header\":{\"fill\":{\"color\":\"#C8D4E3\"},\"line\":{\"color\":\"white\"}},\"type\":\"table\"}],\"barpolar\":[{\"marker\":{\"line\":{\"color\":\"#E5ECF6\",\"width\":0.5},\"pattern\":{\"fillmode\":\"overlay\",\"size\":10,\"solidity\":0.2}},\"type\":\"barpolar\"}],\"pie\":[{\"automargin\":true,\"type\":\"pie\"}]},\"layout\":{\"autotypenumbers\":\"strict\",\"colorway\":[\"#636efa\",\"#EF553B\",\"#00cc96\",\"#ab63fa\",\"#FFA15A\",\"#19d3f3\",\"#FF6692\",\"#B6E880\",\"#FF97FF\",\"#FECB52\"],\"font\":{\"color\":\"#2a3f5f\"},\"hovermode\":\"closest\",\"hoverlabel\":{\"align\":\"left\"},\"paper_bgcolor\":\"white\",\"plot_bgcolor\":\"#E5ECF6\",\"polar\":{\"bgcolor\":\"#E5ECF6\",\"angularaxis\":{\"gridcolor\":\"white\",\"linecolor\":\"white\",\"ticks\":\"\"},\"radialaxis\":{\"gridcolor\":\"white\",\"linecolor\":\"white\",\"ticks\":\"\"}},\"ternary\":{\"bgcolor\":\"#E5ECF6\",\"aaxis\":{\"gridcolor\":\"white\",\"linecolor\":\"white\",\"ticks\":\"\"},\"baxis\":{\"gridcolor\":\"white\",\"linecolor\":\"white\",\"ticks\":\"\"},\"caxis\":{\"gridcolor\":\"white\",\"linecolor\":\"white\",\"ticks\":\"\"}},\"coloraxis\":{\"colorbar\":{\"outlinewidth\":0,\"ticks\":\"\"}},\"colorscale\":{\"sequential\":[[0.0,\"#0d0887\"],[0.1111111111111111,\"#46039f\"],[0.2222222222222222,\"#7201a8\"],[0.3333333333333333,\"#9c179e\"],[0.4444444444444444,\"#bd3786\"],[0.5555555555555556,\"#d8576b\"],[0.6666666666666666,\"#ed7953\"],[0.7777777777777778,\"#fb9f3a\"],[0.8888888888888888,\"#fdca26\"],[1.0,\"#f0f921\"]],\"sequentialminus\":[[0.0,\"#0d0887\"],[0.1111111111111111,\"#46039f\"],[0.2222222222222222,\"#7201a8\"],[0.3333333333333333,\"#9c179e\"],[0.4444444444444444,\"#bd3786\"],[0.5555555555555556,\"#d8576b\"],[0.6666666666666666,\"#ed7953\"],[0.7777777777777778,\"#fb9f3a\"],[0.8888888888888888,\"#fdca26\"],[1.0,\"#f0f921\"]],\"diverging\":[[0,\"#8e0152\"],[0.1,\"#c51b7d\"],[0.2,\"#de77ae\"],[0.3,\"#f1b6da\"],[0.4,\"#fde0ef\"],[0.5,\"#f7f7f7\"],[0.6,\"#e6f5d0\"],[0.7,\"#b8e186\"],[0.8,\"#7fbc41\"],[0.9,\"#4d9221\"],[1,\"#276419\"]]},\"xaxis\":{\"gridcolor\":\"white\",\"linecolor\":\"white\",\"ticks\":\"\",\"title\":{\"standoff\":15},\"zerolinecolor\":\"white\",\"automargin\":true,\"zerolinewidth\":2},\"yaxis\":{\"gridcolor\":\"white\",\"linecolor\":\"white\",\"ticks\":\"\",\"title\":{\"standoff\":15},\"zerolinecolor\":\"white\",\"automargin\":true,\"zerolinewidth\":2},\"scene\":{\"xaxis\":{\"backgroundcolor\":\"#E5ECF6\",\"gridcolor\":\"white\",\"linecolor\":\"white\",\"showbackground\":true,\"ticks\":\"\",\"zerolinecolor\":\"white\",\"gridwidth\":2},\"yaxis\":{\"backgroundcolor\":\"#E5ECF6\",\"gridcolor\":\"white\",\"linecolor\":\"white\",\"showbackground\":true,\"ticks\":\"\",\"zerolinecolor\":\"white\",\"gridwidth\":2},\"zaxis\":{\"backgroundcolor\":\"#E5ECF6\",\"gridcolor\":\"white\",\"linecolor\":\"white\",\"showbackground\":true,\"ticks\":\"\",\"zerolinecolor\":\"white\",\"gridwidth\":2}},\"shapedefaults\":{\"line\":{\"color\":\"#2a3f5f\"}},\"annotationdefaults\":{\"arrowcolor\":\"#2a3f5f\",\"arrowhead\":0,\"arrowwidth\":1},\"geo\":{\"bgcolor\":\"white\",\"landcolor\":\"#E5ECF6\",\"subunitcolor\":\"white\",\"showland\":true,\"showlakes\":true,\"lakecolor\":\"white\"},\"title\":{\"x\":0.05},\"mapbox\":{\"style\":\"light\"}}},\"xaxis\":{\"showgrid\":false,\"zeroline\":false,\"tickmode\":\"array\",\"tickvals\":[]},\"yaxis\":{\"showgrid\":false,\"zeroline\":false,\"tickmode\":\"array\",\"tickvals\":[]},\"updatemenus\":[{\"buttons\":[{\"args\":[{\"marker\":{\"size\":[6.0,6.0,6.0,11.928009913453302,6.0,6.0,6.0,6.0,18.0,6.0,6.0,8.037003250024952,6.0,6.0],\"color\":[\"#222A2A\",\"#00A08B\",\"#1616A7\",\"#00A08B\",\"#1616A7\",\"#DA60CA\",\"#1CA71C\",\"#778AAE\",\"#2E91E5\",\"#1616A7\",\"#1CA71C\",\"#2E91E5\",\"#1616A7\",\"#222A2A\"],\"colorscale\":\"Bluered\"}}],\"label\":\"Size by params, color by operation\",\"method\":\"update\"},{\"args\":[{\"marker\":{\"size\":[6.0,6.0,6.0,8.197199409664446,6.0,6.0,6.0,6.0,12.346132083395247,6.0,6.0,6.0,6.0,6.0],\"color\":[\"#222A2A\",\"#00A08B\",\"#1616A7\",\"#00A08B\",\"#1616A7\",\"#DA60CA\",\"#1CA71C\",\"#778AAE\",\"#2E91E5\",\"#1616A7\",\"#1CA71C\",\"#2E91E5\",\"#1616A7\",\"#222A2A\"],\"colorscale\":\"Bluered\"}}],\"label\":\"Size by FLOPS, color by operation\",\"method\":\"update\"},{\"args\":[{\"marker\":{\"size\":[6.0,6.0,6.0,11.928009913453302,6.0,6.0,6.0,6.0,18.0,6.0,6.0,8.037003250024952,6.0,6.0],\"color\":[0.0,0.6672955323027362,0.0,1.0,0.0,0.0,0.355823435636173,0.0,0.8171884416004193,0.0,0.0,0.2492482976593439,0.0,0.0],\"colorscale\":\"Bluered\"}}],\"label\":\"Size by params, color by FLOPS\",\"method\":\"update\"},{\"args\":[{\"marker\":{\"size\":[6.0,6.0,6.0,8.197199409664446,6.0,6.0,6.0,6.0,12.346132083395247,6.0,6.0,6.0,6.0,6.0],\"color\":[0.0,1.0,0.0,1.0,0.0,0.0,0.7467827751382162,0.0,1.0,0.0,0.22603285132684345,0.5908093641053138,0.0,0.0],\"colorscale\":\"Bluered\"}}],\"label\":\"Size by FLOPS, color by params\",\"method\":\"update\"}],\"direction\":\"up\",\"pad\":{\"l\":0,\"t\":0},\"showactive\":true,\"x\":0,\"xanchor\":\"left\",\"y\":0,\"yanchor\":\"top\"}]},                        {\"responsive\": true}                    ).then(function(){\n",
       "                            \n",
       "var gd = document.getElementById('74603271-06bc-4955-9e1d-1c607c1ac6e1');\n",
       "var x = new MutationObserver(function (mutations, observer) {{\n",
       "        var display = window.getComputedStyle(gd).display;\n",
       "        if (!display || display === 'none') {{\n",
       "            console.log([gd, 'removed!']);\n",
       "            Plotly.purge(gd);\n",
       "            observer.disconnect();\n",
       "        }}\n",
       "}});\n",
       "\n",
       "// Listen for the removal of the full notebook cells\n",
       "var notebookContainer = gd.closest('#notebook-container');\n",
       "if (notebookContainer) {{\n",
       "    x.observe(notebookContainer, {childList: true});\n",
       "}}\n",
       "\n",
       "// Listen for the clearing of the current output cell\n",
       "var outputEl = gd.closest('.output');\n",
       "if (outputEl) {{\n",
       "    x.observe(outputEl, {childList: true});\n",
       "}}\n",
       "\n",
       "                        })                };                });            </script>        </div>"
      ]
     },
     "metadata": {},
     "output_type": "display_data"
    }
   ],
   "source": [
    "fig.update_layout(\n",
    "    updatemenus=[\n",
    "        dict(\n",
    "            buttons=list([\n",
    "                dict(\n",
    "                    args=[dict(\n",
    "                        marker=dict(\n",
    "                            size=[renderer.params_to_dot_size(n.params) for n in g.nodes],\n",
    "                            color=[renderer.get_node_color(n) for n in g.nodes],\n",
    "                            colorscale='Bluered'\n",
    "                        )\n",
    "                    )],\n",
    "                    label=\"Size by params, color by operation\",\n",
    "                    method=\"update\"\n",
    "                ),\n",
    "                dict(\n",
    "                    args=[dict(\n",
    "                        marker=dict(\n",
    "                            size=[renderer.flops_to_dot_size(n.params) for n in g.nodes],\n",
    "                            color=[renderer.get_node_color(n) for n in g.nodes],\n",
    "                            colorscale='Bluered'\n",
    "                        )\n",
    "                    )],\n",
    "                    label=\"Size by FLOPS, color by operation\",\n",
    "                    method=\"update\"\n",
    "                ),\n",
    "                dict(\n",
    "                    args=[dict(\n",
    "                        marker=dict(\n",
    "                            size=[renderer.params_to_dot_size(n.params) for n in g.nodes],\n",
    "                            color=[renderer.get_node_color(n, 'flops') for n in g.nodes],\n",
    "                            colorscale='Bluered'\n",
    "                        )\n",
    "                    )],\n",
    "                    label=\"Size by params, color by FLOPS\",\n",
    "                    method=\"update\"\n",
    "                ),\n",
    "                dict(\n",
    "                    args=[dict(\n",
    "                        marker=dict(\n",
    "                            size=[renderer.flops_to_dot_size(n.params) for n in g.nodes],\n",
    "                            color=[renderer.get_node_color(n, 'params') for n in g.nodes],\n",
    "                            colorscale='Bluered'\n",
    "                        )\n",
    "                    )],\n",
    "                    label=\"Size by FLOPS, color by params\",\n",
    "                    method=\"update\"\n",
    "                )\n",
    "            ]),\n",
    "            direction=\"up\", showactive=True,\n",
    "            pad={\"l\": 0, \"t\": 0},\n",
    "            x=0, xanchor=\"left\",\n",
    "            y=0, yanchor=\"top\"\n",
    "        ),\n",
    "    ],\n",
    "    margin=dict(l=0, r=0, t=0, b=0)\n",
    ")\n",
    "fig.show(renderer='notebook_connected')"
   ]
  },
  {
   "cell_type": "markdown",
   "metadata": {},
   "source": [
    "### With multiple traces"
   ]
  },
  {
   "cell_type": "code",
   "execution_count": 6,
   "metadata": {},
   "outputs": [],
   "source": [
    "import sys, importlib\n",
    "sys.path.append('..')\n",
    "import torch\n",
    "from torch import nn, Tensor\n",
    "import torch.nn.functional as F\n",
    "import plotly.graph_objects as go\n",
    "from idlmav import MAV, color_graph_nodes, FigureRenderer\n",
    "\n",
    "def reload_imports():\n",
    "    importlib.reload(sys.modules['idlmav.renderers.figure_renderer'])\n",
    "    importlib.reload(sys.modules['idlmav.tracing'])\n",
    "    importlib.reload(sys.modules['idlmav.layout'])\n",
    "    importlib.reload(sys.modules['idlmav.idlmav'])\n",
    "    importlib.reload(sys.modules['idlmav'])\n",
    "    global MAV, FigureRenderer\n",
    "    from idlmav import MAV, FigureRenderer"
   ]
  },
  {
   "cell_type": "code",
   "execution_count": 7,
   "metadata": {},
   "outputs": [],
   "source": [
    "class MnistCnn(nn.Module):\n",
    "    def __init__(self):\n",
    "        super().__init__()\n",
    "        self.conv1 = nn.Conv2d(1, 32, 3, 1)\n",
    "        self.conv2 = nn.Conv2d(32, 64, 3, 1)\n",
    "        self.dropout1 = nn.Dropout(0.25)\n",
    "        self.dropout2 = nn.Dropout(0.5)\n",
    "        self.fc1 = nn.Linear(9216, 128)\n",
    "        self.fc2 = nn.Linear(128, 10)\n",
    "\n",
    "    def forward(self, x):\n",
    "        x = self.conv1(x)\n",
    "        x = F.relu(x)\n",
    "        x = self.conv2(x)\n",
    "        x = F.relu(x)\n",
    "        x = F.max_pool2d(x, 2)\n",
    "        x = self.dropout1(x)\n",
    "        x = torch.flatten(x, 1)\n",
    "        x = self.fc1(x)\n",
    "        x = F.relu(x)\n",
    "        x = self.dropout2(x)\n",
    "        x = self.fc2(x)\n",
    "        output = F.log_softmax(x, dim=1)\n",
    "        return output\n",
    "    \n",
    "model = MnistCnn()\n",
    "inputs = torch.randn((16,1,28,28))\n",
    "mav = MAV(model, inputs)\n",
    "color_graph_nodes(mav.tracer.g)"
   ]
  },
  {
   "cell_type": "code",
   "execution_count": null,
   "metadata": {},
   "outputs": [
    {
     "data": {
      "text/html": [
       "        <script type=\"text/javascript\">\n",
       "        window.PlotlyConfig = {MathJaxConfig: 'local'};\n",
       "        if (window.MathJax && window.MathJax.Hub && window.MathJax.Hub.Config) {window.MathJax.Hub.Config({SVG: {font: \"STIX-Web\"}});}\n",
       "        if (typeof require !== 'undefined') {\n",
       "        require.undef(\"plotly\");\n",
       "        requirejs.config({\n",
       "            paths: {\n",
       "                'plotly': ['https://cdn.plot.ly/plotly-2.35.2.min']\n",
       "            }\n",
       "        });\n",
       "        require(['plotly'], function(Plotly) {\n",
       "            window._Plotly = Plotly;\n",
       "        });\n",
       "        }\n",
       "        </script>\n",
       "        "
      ]
     },
     "metadata": {},
     "output_type": "display_data"
    },
    {
     "data": {
      "text/html": [
       "<div>                            <div id=\"025c6f0e-7cae-4fc1-af84-88dd117d444a\" class=\"plotly-graph-div\" style=\"height:300px; width:500px;\"></div>            <script type=\"text/javascript\">                require([\"plotly\"], function(Plotly) {                    window.PLOTLYENV=window.PLOTLYENV || {};                                    if (document.getElementById(\"025c6f0e-7cae-4fc1-af84-88dd117d444a\")) {                    Plotly.newPlot(                        \"025c6f0e-7cae-4fc1-af84-88dd117d444a\",                        [{\"customdata\":[[\"x\",\"input\",\"(16,1,28,28)\",\"0\",\"0\",\"()\",\"{}\"],[\"conv1\",\"nn.Conv2d\",\"(16,32,26,26)\",\"320\",\"6 230 016\",\"(x,)\",\"{}\"],[\"relu\",\"relu()\",\"(16,32,26,26)\",\"0\",\"0\",\"(conv1,)\",\"{'inplace': False}\"],[\"conv2\",\"nn.Conv2d\",\"(16,64,24,24)\",\"18 496\",\"339 738 624\",\"(relu,)\",\"{}\"],[\"relu_1\",\"relu()\",\"(16,64,24,24)\",\"0\",\"0\",\"(conv2,)\",\"{'inplace': False}\"],[\"max_pool2d\",\"max_pool2d()\",\"(16,64,12,12)\",\"0\",\"0\",\"(relu_1, 2)\",\"{'stride': None, 'padding': 0, 'dilation': 1, 'ceil_mode': False, 'return_indices': False}\"],[\"dropout1\",\"nn.Dropout\",\"(16,64,12,12)\",\"0\",\"147 456\",\"(max_pool2d,)\",\"{}\"],[\"flatten\",\"flatten()\",\"(16,9216)\",\"0\",\"0\",\"(dropout1, 1)\",\"{}\"],[\"fc1\",\"nn.Linear\",\"(16,128)\",\"1 179 776\",\"37 748 736\",\"(flatten,)\",\"{}\"],[\"relu_2\",\"relu()\",\"(16,128)\",\"0\",\"0\",\"(fc1,)\",\"{'inplace': False}\"],[\"dropout2\",\"nn.Dropout\",\"(16,128)\",\"0\",\"2 048\",\"(relu_2,)\",\"{}\"],[\"fc2\",\"nn.Linear\",\"(16,10)\",\"1 290\",\"40 960\",\"(dropout2,)\",\"{}\"],[\"log_softmax\",\"log_softmax()\",\"(16,10)\",\"0\",\"0\",\"(fc2,)\",\"{'dim': 1, '_stacklevel': 3, 'dtype': None}\"],[\"output\",\"output\",\"(16,10)\",\"0\",\"0\",\"(log_softmax,)\",\"{}\"]],\"hovertemplate\":\"Name: %{customdata[0]}\\u003cbr\\u003eOperation: %{customdata[1]}\\u003cbr\\u003eActivations: %{customdata[2]}\\u003cbr\\u003eParameters: %{customdata[3]}\\u003cbr\\u003eFLOPS: %{customdata[4]}\\u003cbr\\u003e\\u003cbr\\u003eargs: %{customdata[5]}\\u003cbr\\u003ekwargs: %{customdata[6]}\\u003cbr\\u003e\\u003cextra\\u003e\\u003c\\u002fextra\\u003e\",\"marker\":{\"color\":[\"#222A2A\",\"#00A08B\",\"#1616A7\",\"#00A08B\",\"#1616A7\",\"#DA60CA\",\"#1CA71C\",\"#778AAE\",\"#2E91E5\",\"#1616A7\",\"#1CA71C\",\"#2E91E5\",\"#1616A7\",\"#222A2A\"],\"colorscale\":[[0.0,\"rgb(0,0,255)\"],[1.0,\"rgb(255,0,0)\"]],\"size\":[6.0,6.0,6.0,11.928009913453302,6.0,6.0,6.0,6.0,18.0,6.0,6.0,8.037003250024952,6.0,6.0]},\"mode\":\"markers\",\"showlegend\":false,\"x\":[0.0,0.0,0.0,0.0,0.0,0.0,0.0,0.0,0.0,0.0,0.0,0.0,0.0,0.0],\"y\":[0,1,1.15,2,2.15,2.3,2.45,2.6,3,3.15,3.3,4,4.15,5],\"type\":\"scatter\"},{\"customdata\":[[\"x\",\"input\",\"(16,1,28,28)\",\"0\",\"0\",\"()\",\"{}\"],[\"conv1\",\"nn.Conv2d\",\"(16,32,26,26)\",\"320\",\"6 230 016\",\"(x,)\",\"{}\"],[\"relu\",\"relu()\",\"(16,32,26,26)\",\"0\",\"0\",\"(conv1,)\",\"{'inplace': False}\"],[\"conv2\",\"nn.Conv2d\",\"(16,64,24,24)\",\"18 496\",\"339 738 624\",\"(relu,)\",\"{}\"],[\"relu_1\",\"relu()\",\"(16,64,24,24)\",\"0\",\"0\",\"(conv2,)\",\"{'inplace': False}\"],[\"max_pool2d\",\"max_pool2d()\",\"(16,64,12,12)\",\"0\",\"0\",\"(relu_1, 2)\",\"{'stride': None, 'padding': 0, 'dilation': 1, 'ceil_mode': False, 'return_indices': False}\"],[\"dropout1\",\"nn.Dropout\",\"(16,64,12,12)\",\"0\",\"147 456\",\"(max_pool2d,)\",\"{}\"],[\"flatten\",\"flatten()\",\"(16,9216)\",\"0\",\"0\",\"(dropout1, 1)\",\"{}\"],[\"fc1\",\"nn.Linear\",\"(16,128)\",\"1 179 776\",\"37 748 736\",\"(flatten,)\",\"{}\"],[\"relu_2\",\"relu()\",\"(16,128)\",\"0\",\"0\",\"(fc1,)\",\"{'inplace': False}\"],[\"dropout2\",\"nn.Dropout\",\"(16,128)\",\"0\",\"2 048\",\"(relu_2,)\",\"{}\"],[\"fc2\",\"nn.Linear\",\"(16,10)\",\"1 290\",\"40 960\",\"(dropout2,)\",\"{}\"],[\"log_softmax\",\"log_softmax()\",\"(16,10)\",\"0\",\"0\",\"(fc2,)\",\"{'dim': 1, '_stacklevel': 3, 'dtype': None}\"],[\"output\",\"output\",\"(16,10)\",\"0\",\"0\",\"(log_softmax,)\",\"{}\"]],\"hovertemplate\":\"Name: %{customdata[0]}\\u003cbr\\u003eOperation: %{customdata[1]}\\u003cbr\\u003eActivations: %{customdata[2]}\\u003cbr\\u003eParameters: %{customdata[3]}\\u003cbr\\u003eFLOPS: %{customdata[4]}\\u003cbr\\u003e\\u003cbr\\u003eargs: %{customdata[5]}\\u003cbr\\u003ekwargs: %{customdata[6]}\\u003cbr\\u003e\\u003cextra\\u003e\\u003c\\u002fextra\\u003e\",\"marker\":{\"color\":[\"#222A2A\",\"#00A08B\",\"#1616A7\",\"#00A08B\",\"#1616A7\",\"#DA60CA\",\"#1CA71C\",\"#778AAE\",\"#2E91E5\",\"#1616A7\",\"#1CA71C\",\"#2E91E5\",\"#1616A7\",\"#222A2A\"],\"colorscale\":[[0.0,\"rgb(0,0,255)\"],[1.0,\"rgb(255,0,0)\"]],\"size\":[6.0,6.0,6.0,11.928009913453302,6.0,6.0,6.0,6.0,18.0,6.0,6.0,8.037003250024952,6.0,6.0]},\"mode\":\"markers\",\"showlegend\":false,\"x\":[1.0,1.0,1.0,1.0,1.0,1.0,1.0,1.0,1.0,1.0,1.0,1.0,1.0,1.0],\"y\":[0,1,1.15,2,2.15,2.3,2.45,2.6,3,3.15,3.3,4,4.15,5],\"type\":\"scatter\"},{\"hoverinfo\":\"skip\",\"line\":{\"color\":\"gray\",\"width\":1},\"mode\":\"lines\",\"showlegend\":false,\"x\":[0.0,0.0,null,0.0,0.0,null,0.0,0.0,null,0.0,0.0,null,0.0,0.0,null,0.0,0.0,null,0.0,0.0,null,0.0,0.0,null,0.0,0.0,null,0.0,0.0,null,0.0,0.0,null,0.0,0.0,null,0.0,0.0],\"y\":[0,1,null,1,1.15,null,1.15,2,null,2,2.15,null,2.15,2.3,null,2.3,2.45,null,2.45,2.6,null,2.6,3,null,3,3.15,null,3.15,3.3,null,3.3,4,null,4,4.15,null,4.15,5],\"type\":\"scatter\"}],                        {\"height\":300,\"margin\":{\"b\":0,\"l\":0,\"r\":0,\"t\":0},\"width\":500,\"template\":{\"data\":{\"histogram2dcontour\":[{\"type\":\"histogram2dcontour\",\"colorbar\":{\"outlinewidth\":0,\"ticks\":\"\"},\"colorscale\":[[0.0,\"#0d0887\"],[0.1111111111111111,\"#46039f\"],[0.2222222222222222,\"#7201a8\"],[0.3333333333333333,\"#9c179e\"],[0.4444444444444444,\"#bd3786\"],[0.5555555555555556,\"#d8576b\"],[0.6666666666666666,\"#ed7953\"],[0.7777777777777778,\"#fb9f3a\"],[0.8888888888888888,\"#fdca26\"],[1.0,\"#f0f921\"]]}],\"choropleth\":[{\"type\":\"choropleth\",\"colorbar\":{\"outlinewidth\":0,\"ticks\":\"\"}}],\"histogram2d\":[{\"type\":\"histogram2d\",\"colorbar\":{\"outlinewidth\":0,\"ticks\":\"\"},\"colorscale\":[[0.0,\"#0d0887\"],[0.1111111111111111,\"#46039f\"],[0.2222222222222222,\"#7201a8\"],[0.3333333333333333,\"#9c179e\"],[0.4444444444444444,\"#bd3786\"],[0.5555555555555556,\"#d8576b\"],[0.6666666666666666,\"#ed7953\"],[0.7777777777777778,\"#fb9f3a\"],[0.8888888888888888,\"#fdca26\"],[1.0,\"#f0f921\"]]}],\"heatmap\":[{\"type\":\"heatmap\",\"colorbar\":{\"outlinewidth\":0,\"ticks\":\"\"},\"colorscale\":[[0.0,\"#0d0887\"],[0.1111111111111111,\"#46039f\"],[0.2222222222222222,\"#7201a8\"],[0.3333333333333333,\"#9c179e\"],[0.4444444444444444,\"#bd3786\"],[0.5555555555555556,\"#d8576b\"],[0.6666666666666666,\"#ed7953\"],[0.7777777777777778,\"#fb9f3a\"],[0.8888888888888888,\"#fdca26\"],[1.0,\"#f0f921\"]]}],\"heatmapgl\":[{\"type\":\"heatmapgl\",\"colorbar\":{\"outlinewidth\":0,\"ticks\":\"\"},\"colorscale\":[[0.0,\"#0d0887\"],[0.1111111111111111,\"#46039f\"],[0.2222222222222222,\"#7201a8\"],[0.3333333333333333,\"#9c179e\"],[0.4444444444444444,\"#bd3786\"],[0.5555555555555556,\"#d8576b\"],[0.6666666666666666,\"#ed7953\"],[0.7777777777777778,\"#fb9f3a\"],[0.8888888888888888,\"#fdca26\"],[1.0,\"#f0f921\"]]}],\"contourcarpet\":[{\"type\":\"contourcarpet\",\"colorbar\":{\"outlinewidth\":0,\"ticks\":\"\"}}],\"contour\":[{\"type\":\"contour\",\"colorbar\":{\"outlinewidth\":0,\"ticks\":\"\"},\"colorscale\":[[0.0,\"#0d0887\"],[0.1111111111111111,\"#46039f\"],[0.2222222222222222,\"#7201a8\"],[0.3333333333333333,\"#9c179e\"],[0.4444444444444444,\"#bd3786\"],[0.5555555555555556,\"#d8576b\"],[0.6666666666666666,\"#ed7953\"],[0.7777777777777778,\"#fb9f3a\"],[0.8888888888888888,\"#fdca26\"],[1.0,\"#f0f921\"]]}],\"surface\":[{\"type\":\"surface\",\"colorbar\":{\"outlinewidth\":0,\"ticks\":\"\"},\"colorscale\":[[0.0,\"#0d0887\"],[0.1111111111111111,\"#46039f\"],[0.2222222222222222,\"#7201a8\"],[0.3333333333333333,\"#9c179e\"],[0.4444444444444444,\"#bd3786\"],[0.5555555555555556,\"#d8576b\"],[0.6666666666666666,\"#ed7953\"],[0.7777777777777778,\"#fb9f3a\"],[0.8888888888888888,\"#fdca26\"],[1.0,\"#f0f921\"]]}],\"mesh3d\":[{\"type\":\"mesh3d\",\"colorbar\":{\"outlinewidth\":0,\"ticks\":\"\"}}],\"scatter\":[{\"fillpattern\":{\"fillmode\":\"overlay\",\"size\":10,\"solidity\":0.2},\"type\":\"scatter\"}],\"parcoords\":[{\"type\":\"parcoords\",\"line\":{\"colorbar\":{\"outlinewidth\":0,\"ticks\":\"\"}}}],\"scatterpolargl\":[{\"type\":\"scatterpolargl\",\"marker\":{\"colorbar\":{\"outlinewidth\":0,\"ticks\":\"\"}}}],\"bar\":[{\"error_x\":{\"color\":\"#2a3f5f\"},\"error_y\":{\"color\":\"#2a3f5f\"},\"marker\":{\"line\":{\"color\":\"#E5ECF6\",\"width\":0.5},\"pattern\":{\"fillmode\":\"overlay\",\"size\":10,\"solidity\":0.2}},\"type\":\"bar\"}],\"scattergeo\":[{\"type\":\"scattergeo\",\"marker\":{\"colorbar\":{\"outlinewidth\":0,\"ticks\":\"\"}}}],\"scatterpolar\":[{\"type\":\"scatterpolar\",\"marker\":{\"colorbar\":{\"outlinewidth\":0,\"ticks\":\"\"}}}],\"histogram\":[{\"marker\":{\"pattern\":{\"fillmode\":\"overlay\",\"size\":10,\"solidity\":0.2}},\"type\":\"histogram\"}],\"scattergl\":[{\"type\":\"scattergl\",\"marker\":{\"colorbar\":{\"outlinewidth\":0,\"ticks\":\"\"}}}],\"scatter3d\":[{\"type\":\"scatter3d\",\"line\":{\"colorbar\":{\"outlinewidth\":0,\"ticks\":\"\"}},\"marker\":{\"colorbar\":{\"outlinewidth\":0,\"ticks\":\"\"}}}],\"scattermapbox\":[{\"type\":\"scattermapbox\",\"marker\":{\"colorbar\":{\"outlinewidth\":0,\"ticks\":\"\"}}}],\"scatterternary\":[{\"type\":\"scatterternary\",\"marker\":{\"colorbar\":{\"outlinewidth\":0,\"ticks\":\"\"}}}],\"scattercarpet\":[{\"type\":\"scattercarpet\",\"marker\":{\"colorbar\":{\"outlinewidth\":0,\"ticks\":\"\"}}}],\"carpet\":[{\"aaxis\":{\"endlinecolor\":\"#2a3f5f\",\"gridcolor\":\"white\",\"linecolor\":\"white\",\"minorgridcolor\":\"white\",\"startlinecolor\":\"#2a3f5f\"},\"baxis\":{\"endlinecolor\":\"#2a3f5f\",\"gridcolor\":\"white\",\"linecolor\":\"white\",\"minorgridcolor\":\"white\",\"startlinecolor\":\"#2a3f5f\"},\"type\":\"carpet\"}],\"table\":[{\"cells\":{\"fill\":{\"color\":\"#EBF0F8\"},\"line\":{\"color\":\"white\"}},\"header\":{\"fill\":{\"color\":\"#C8D4E3\"},\"line\":{\"color\":\"white\"}},\"type\":\"table\"}],\"barpolar\":[{\"marker\":{\"line\":{\"color\":\"#E5ECF6\",\"width\":0.5},\"pattern\":{\"fillmode\":\"overlay\",\"size\":10,\"solidity\":0.2}},\"type\":\"barpolar\"}],\"pie\":[{\"automargin\":true,\"type\":\"pie\"}]},\"layout\":{\"autotypenumbers\":\"strict\",\"colorway\":[\"#636efa\",\"#EF553B\",\"#00cc96\",\"#ab63fa\",\"#FFA15A\",\"#19d3f3\",\"#FF6692\",\"#B6E880\",\"#FF97FF\",\"#FECB52\"],\"font\":{\"color\":\"#2a3f5f\"},\"hovermode\":\"closest\",\"hoverlabel\":{\"align\":\"left\"},\"paper_bgcolor\":\"white\",\"plot_bgcolor\":\"#E5ECF6\",\"polar\":{\"bgcolor\":\"#E5ECF6\",\"angularaxis\":{\"gridcolor\":\"white\",\"linecolor\":\"white\",\"ticks\":\"\"},\"radialaxis\":{\"gridcolor\":\"white\",\"linecolor\":\"white\",\"ticks\":\"\"}},\"ternary\":{\"bgcolor\":\"#E5ECF6\",\"aaxis\":{\"gridcolor\":\"white\",\"linecolor\":\"white\",\"ticks\":\"\"},\"baxis\":{\"gridcolor\":\"white\",\"linecolor\":\"white\",\"ticks\":\"\"},\"caxis\":{\"gridcolor\":\"white\",\"linecolor\":\"white\",\"ticks\":\"\"}},\"coloraxis\":{\"colorbar\":{\"outlinewidth\":0,\"ticks\":\"\"}},\"colorscale\":{\"sequential\":[[0.0,\"#0d0887\"],[0.1111111111111111,\"#46039f\"],[0.2222222222222222,\"#7201a8\"],[0.3333333333333333,\"#9c179e\"],[0.4444444444444444,\"#bd3786\"],[0.5555555555555556,\"#d8576b\"],[0.6666666666666666,\"#ed7953\"],[0.7777777777777778,\"#fb9f3a\"],[0.8888888888888888,\"#fdca26\"],[1.0,\"#f0f921\"]],\"sequentialminus\":[[0.0,\"#0d0887\"],[0.1111111111111111,\"#46039f\"],[0.2222222222222222,\"#7201a8\"],[0.3333333333333333,\"#9c179e\"],[0.4444444444444444,\"#bd3786\"],[0.5555555555555556,\"#d8576b\"],[0.6666666666666666,\"#ed7953\"],[0.7777777777777778,\"#fb9f3a\"],[0.8888888888888888,\"#fdca26\"],[1.0,\"#f0f921\"]],\"diverging\":[[0,\"#8e0152\"],[0.1,\"#c51b7d\"],[0.2,\"#de77ae\"],[0.3,\"#f1b6da\"],[0.4,\"#fde0ef\"],[0.5,\"#f7f7f7\"],[0.6,\"#e6f5d0\"],[0.7,\"#b8e186\"],[0.8,\"#7fbc41\"],[0.9,\"#4d9221\"],[1,\"#276419\"]]},\"xaxis\":{\"gridcolor\":\"white\",\"linecolor\":\"white\",\"ticks\":\"\",\"title\":{\"standoff\":15},\"zerolinecolor\":\"white\",\"automargin\":true,\"zerolinewidth\":2},\"yaxis\":{\"gridcolor\":\"white\",\"linecolor\":\"white\",\"ticks\":\"\",\"title\":{\"standoff\":15},\"zerolinecolor\":\"white\",\"automargin\":true,\"zerolinewidth\":2},\"scene\":{\"xaxis\":{\"backgroundcolor\":\"#E5ECF6\",\"gridcolor\":\"white\",\"linecolor\":\"white\",\"showbackground\":true,\"ticks\":\"\",\"zerolinecolor\":\"white\",\"gridwidth\":2},\"yaxis\":{\"backgroundcolor\":\"#E5ECF6\",\"gridcolor\":\"white\",\"linecolor\":\"white\",\"showbackground\":true,\"ticks\":\"\",\"zerolinecolor\":\"white\",\"gridwidth\":2},\"zaxis\":{\"backgroundcolor\":\"#E5ECF6\",\"gridcolor\":\"white\",\"linecolor\":\"white\",\"showbackground\":true,\"ticks\":\"\",\"zerolinecolor\":\"white\",\"gridwidth\":2}},\"shapedefaults\":{\"line\":{\"color\":\"#2a3f5f\"}},\"annotationdefaults\":{\"arrowcolor\":\"#2a3f5f\",\"arrowhead\":0,\"arrowwidth\":1},\"geo\":{\"bgcolor\":\"white\",\"landcolor\":\"#E5ECF6\",\"subunitcolor\":\"white\",\"showland\":true,\"showlakes\":true,\"lakecolor\":\"white\"},\"title\":{\"x\":0.05},\"mapbox\":{\"style\":\"light\"}}},\"xaxis\":{\"showgrid\":false,\"zeroline\":false,\"tickmode\":\"array\",\"tickvals\":[]},\"yaxis\":{\"showgrid\":false,\"zeroline\":false,\"tickmode\":\"array\",\"tickvals\":[]}},                        {\"responsive\": true}                    ).then(function(){\n",
       "                            \n",
       "var gd = document.getElementById('025c6f0e-7cae-4fc1-af84-88dd117d444a');\n",
       "var x = new MutationObserver(function (mutations, observer) {{\n",
       "        var display = window.getComputedStyle(gd).display;\n",
       "        if (!display || display === 'none') {{\n",
       "            console.log([gd, 'removed!']);\n",
       "            Plotly.purge(gd);\n",
       "            observer.disconnect();\n",
       "        }}\n",
       "}});\n",
       "\n",
       "// Listen for the removal of the full notebook cells\n",
       "var notebookContainer = gd.closest('#notebook-container');\n",
       "if (notebookContainer) {{\n",
       "    x.observe(notebookContainer, {childList: true});\n",
       "}}\n",
       "\n",
       "// Listen for the clearing of the current output cell\n",
       "var outputEl = gd.closest('.output');\n",
       "if (outputEl) {{\n",
       "    x.observe(outputEl, {childList: true});\n",
       "}}\n",
       "\n",
       "                        })                };                });            </script>        </div>"
      ]
     },
     "metadata": {},
     "output_type": "display_data"
    }
   ],
   "source": [
    "g = mav.tracer.g\n",
    "renderer = FigureRenderer(g)  # For helper functions e.g. \"params_to_dot_size\"\n",
    "fig = go.Figure(layout=dict(width=500, height=300, margin=dict(l=0, r=0, t=0, b=0)))\n",
    "\n",
    "node_trace = go.Scatter(\n",
    "    x=[n.x for n in g.nodes], \n",
    "    y=[n.y for n in g.nodes], \n",
    "    mode='markers', \n",
    "    marker=dict(\n",
    "        size=[renderer.params_to_dot_size(n.params) for n in g.nodes],\n",
    "        color=[renderer.get_node_color(n) for n in g.nodes],\n",
    "        colorscale='Bluered'\n",
    "    ),\n",
    "    hovertemplate=(\n",
    "        'Name: %{customdata[0]}<br>' +\n",
    "        'Operation: %{customdata[1]}<br>' +\n",
    "        'Activations: %{customdata[2]}<br>' +\n",
    "        'Parameters: %{customdata[3]}<br>' +\n",
    "        'FLOPS: %{customdata[4]}<br>' +\n",
    "        '<br>' +\n",
    "        'args: %{customdata[5]}<br>' +\n",
    "        'kwargs: %{customdata[6]}<br>' +\n",
    "        '<extra></extra>'\n",
    "    ),\n",
    "    customdata=[renderer.node_data(n) + renderer.node_arg_data(n) for n in g.nodes],\n",
    "    showlegend=False\n",
    ")\n",
    "fig.add_trace(node_trace)\n",
    "\n",
    "scatter_trace_2 = go.Scatter(\n",
    "    x=[n.x+1 for n in g.nodes], \n",
    "    y=[n.y for n in g.nodes], \n",
    "    mode='markers', \n",
    "    marker=dict(\n",
    "        size=[renderer.params_to_dot_size(n.params) for n in g.nodes],\n",
    "        color=[renderer.get_node_color(n) for n in g.nodes],\n",
    "        colorscale='Bluered'\n",
    "    ),\n",
    "    hovertemplate=(\n",
    "        'Name: %{customdata[0]}<br>' +\n",
    "        'Operation: %{customdata[1]}<br>' +\n",
    "        'Activations: %{customdata[2]}<br>' +\n",
    "        'Parameters: %{customdata[3]}<br>' +\n",
    "        'FLOPS: %{customdata[4]}<br>' +\n",
    "        '<br>' +\n",
    "        'args: %{customdata[5]}<br>' +\n",
    "        'kwargs: %{customdata[6]}<br>' +\n",
    "        '<extra></extra>'\n",
    "    ),\n",
    "    customdata=[renderer.node_data(n) + renderer.node_arg_data(n) for n in g.nodes],\n",
    "    showlegend=False\n",
    ")\n",
    "fig.add_trace(scatter_trace_2)\n",
    "\n",
    "x_coords, y_coords = [],[]\n",
    "for c in g.connections:\n",
    "    xs, ys = renderer.get_connection_coords(c)\n",
    "    if x_coords: x_coords.append(None)\n",
    "    if y_coords: y_coords.append(None)\n",
    "    x_coords += xs\n",
    "    y_coords += ys\n",
    "\n",
    "line_trace = go.Scatter(\n",
    "    x=x_coords, y=y_coords, mode=\"lines\",\n",
    "    line=dict(color=\"gray\", width=1),            \n",
    "    hoverinfo='skip',\n",
    "    showlegend=False\n",
    ")\n",
    "fig.add_trace(line_trace)\n",
    "\n",
    "fig.update_xaxes(showgrid=False, zeroline=False, tickmode='array', tickvals=[])\n",
    "fig.update_yaxes(showgrid=False, zeroline=False, tickmode='array', tickvals=[])\n",
    "\n",
    "fig.show(renderer='notebook_connected')"
   ]
  },
  {
   "cell_type": "code",
   "execution_count": 9,
   "metadata": {},
   "outputs": [
    {
     "data": {
      "text/html": [
       "        <script type=\"text/javascript\">\n",
       "        window.PlotlyConfig = {MathJaxConfig: 'local'};\n",
       "        if (window.MathJax && window.MathJax.Hub && window.MathJax.Hub.Config) {window.MathJax.Hub.Config({SVG: {font: \"STIX-Web\"}});}\n",
       "        if (typeof require !== 'undefined') {\n",
       "        require.undef(\"plotly\");\n",
       "        requirejs.config({\n",
       "            paths: {\n",
       "                'plotly': ['https://cdn.plot.ly/plotly-2.35.2.min']\n",
       "            }\n",
       "        });\n",
       "        require(['plotly'], function(Plotly) {\n",
       "            window._Plotly = Plotly;\n",
       "        });\n",
       "        }\n",
       "        </script>\n",
       "        "
      ]
     },
     "metadata": {},
     "output_type": "display_data"
    },
    {
     "data": {
      "text/html": [
       "<div>                            <div id=\"dc143a68-39b0-4087-8d0e-13ba8eb82023\" class=\"plotly-graph-div\" style=\"height:300px; width:500px;\"></div>            <script type=\"text/javascript\">                require([\"plotly\"], function(Plotly) {                    window.PLOTLYENV=window.PLOTLYENV || {};                                    if (document.getElementById(\"dc143a68-39b0-4087-8d0e-13ba8eb82023\")) {                    Plotly.newPlot(                        \"dc143a68-39b0-4087-8d0e-13ba8eb82023\",                        [{\"customdata\":[[\"x\",\"input\",\"(16,1,28,28)\",\"0\",\"0\",\"()\",\"{}\"],[\"conv1\",\"nn.Conv2d\",\"(16,32,26,26)\",\"320\",\"6 230 016\",\"(x,)\",\"{}\"],[\"relu\",\"relu()\",\"(16,32,26,26)\",\"0\",\"0\",\"(conv1,)\",\"{'inplace': False}\"],[\"conv2\",\"nn.Conv2d\",\"(16,64,24,24)\",\"18 496\",\"339 738 624\",\"(relu,)\",\"{}\"],[\"relu_1\",\"relu()\",\"(16,64,24,24)\",\"0\",\"0\",\"(conv2,)\",\"{'inplace': False}\"],[\"max_pool2d\",\"max_pool2d()\",\"(16,64,12,12)\",\"0\",\"0\",\"(relu_1, 2)\",\"{'stride': None, 'padding': 0, 'dilation': 1, 'ceil_mode': False, 'return_indices': False}\"],[\"dropout1\",\"nn.Dropout\",\"(16,64,12,12)\",\"0\",\"147 456\",\"(max_pool2d,)\",\"{}\"],[\"flatten\",\"flatten()\",\"(16,9216)\",\"0\",\"0\",\"(dropout1, 1)\",\"{}\"],[\"fc1\",\"nn.Linear\",\"(16,128)\",\"1 179 776\",\"37 748 736\",\"(flatten,)\",\"{}\"],[\"relu_2\",\"relu()\",\"(16,128)\",\"0\",\"0\",\"(fc1,)\",\"{'inplace': False}\"],[\"dropout2\",\"nn.Dropout\",\"(16,128)\",\"0\",\"2 048\",\"(relu_2,)\",\"{}\"],[\"fc2\",\"nn.Linear\",\"(16,10)\",\"1 290\",\"40 960\",\"(dropout2,)\",\"{}\"],[\"log_softmax\",\"log_softmax()\",\"(16,10)\",\"0\",\"0\",\"(fc2,)\",\"{'dim': 1, '_stacklevel': 3, 'dtype': None}\"],[\"output\",\"output\",\"(16,10)\",\"0\",\"0\",\"(log_softmax,)\",\"{}\"]],\"hovertemplate\":\"Name: %{customdata[0]}\\u003cbr\\u003eOperation: %{customdata[1]}\\u003cbr\\u003eActivations: %{customdata[2]}\\u003cbr\\u003eParameters: %{customdata[3]}\\u003cbr\\u003eFLOPS: %{customdata[4]}\\u003cbr\\u003e\\u003cbr\\u003eargs: %{customdata[5]}\\u003cbr\\u003ekwargs: %{customdata[6]}\\u003cbr\\u003e\\u003cextra\\u003e\\u003c\\u002fextra\\u003e\",\"marker\":{\"color\":[\"#222A2A\",\"#00A08B\",\"#1616A7\",\"#00A08B\",\"#1616A7\",\"#DA60CA\",\"#1CA71C\",\"#778AAE\",\"#2E91E5\",\"#1616A7\",\"#1CA71C\",\"#2E91E5\",\"#1616A7\",\"#222A2A\"],\"colorscale\":[[0.0,\"rgb(0,0,255)\"],[1.0,\"rgb(255,0,0)\"]],\"size\":[6.0,6.0,6.0,11.928009913453302,6.0,6.0,6.0,6.0,18.0,6.0,6.0,8.037003250024952,6.0,6.0]},\"mode\":\"markers\",\"showlegend\":false,\"x\":[0.0,0.0,0.0,0.0,0.0,0.0,0.0,0.0,0.0,0.0,0.0,0.0,0.0,0.0],\"y\":[0,1,1.15,2,2.15,2.3,2.45,2.6,3,3.15,3.3,4,4.15,5],\"type\":\"scatter\"},{\"customdata\":[[\"x\",\"input\",\"(16,1,28,28)\",\"0\",\"0\",\"()\",\"{}\"],[\"conv1\",\"nn.Conv2d\",\"(16,32,26,26)\",\"320\",\"6 230 016\",\"(x,)\",\"{}\"],[\"relu\",\"relu()\",\"(16,32,26,26)\",\"0\",\"0\",\"(conv1,)\",\"{'inplace': False}\"],[\"conv2\",\"nn.Conv2d\",\"(16,64,24,24)\",\"18 496\",\"339 738 624\",\"(relu,)\",\"{}\"],[\"relu_1\",\"relu()\",\"(16,64,24,24)\",\"0\",\"0\",\"(conv2,)\",\"{'inplace': False}\"],[\"max_pool2d\",\"max_pool2d()\",\"(16,64,12,12)\",\"0\",\"0\",\"(relu_1, 2)\",\"{'stride': None, 'padding': 0, 'dilation': 1, 'ceil_mode': False, 'return_indices': False}\"],[\"dropout1\",\"nn.Dropout\",\"(16,64,12,12)\",\"0\",\"147 456\",\"(max_pool2d,)\",\"{}\"],[\"flatten\",\"flatten()\",\"(16,9216)\",\"0\",\"0\",\"(dropout1, 1)\",\"{}\"],[\"fc1\",\"nn.Linear\",\"(16,128)\",\"1 179 776\",\"37 748 736\",\"(flatten,)\",\"{}\"],[\"relu_2\",\"relu()\",\"(16,128)\",\"0\",\"0\",\"(fc1,)\",\"{'inplace': False}\"],[\"dropout2\",\"nn.Dropout\",\"(16,128)\",\"0\",\"2 048\",\"(relu_2,)\",\"{}\"],[\"fc2\",\"nn.Linear\",\"(16,10)\",\"1 290\",\"40 960\",\"(dropout2,)\",\"{}\"],[\"log_softmax\",\"log_softmax()\",\"(16,10)\",\"0\",\"0\",\"(fc2,)\",\"{'dim': 1, '_stacklevel': 3, 'dtype': None}\"],[\"output\",\"output\",\"(16,10)\",\"0\",\"0\",\"(log_softmax,)\",\"{}\"]],\"hovertemplate\":\"Name: %{customdata[0]}\\u003cbr\\u003eOperation: %{customdata[1]}\\u003cbr\\u003eActivations: %{customdata[2]}\\u003cbr\\u003eParameters: %{customdata[3]}\\u003cbr\\u003eFLOPS: %{customdata[4]}\\u003cbr\\u003e\\u003cbr\\u003eargs: %{customdata[5]}\\u003cbr\\u003ekwargs: %{customdata[6]}\\u003cbr\\u003e\\u003cextra\\u003e\\u003c\\u002fextra\\u003e\",\"marker\":{\"color\":[\"#222A2A\",\"#00A08B\",\"#1616A7\",\"#00A08B\",\"#1616A7\",\"#DA60CA\",\"#1CA71C\",\"#778AAE\",\"#2E91E5\",\"#1616A7\",\"#1CA71C\",\"#2E91E5\",\"#1616A7\",\"#222A2A\"],\"colorscale\":[[0.0,\"rgb(0,0,255)\"],[1.0,\"rgb(255,0,0)\"]],\"size\":[6.0,6.0,6.0,11.928009913453302,6.0,6.0,6.0,6.0,18.0,6.0,6.0,8.037003250024952,6.0,6.0]},\"mode\":\"markers\",\"showlegend\":false,\"x\":[1.0,1.0,1.0,1.0,1.0,1.0,1.0,1.0,1.0,1.0,1.0,1.0,1.0,1.0],\"y\":[0,1,1.15,2,2.15,2.3,2.45,2.6,3,3.15,3.3,4,4.15,5],\"type\":\"scatter\"},{\"hoverinfo\":\"skip\",\"line\":{\"color\":\"gray\",\"width\":1},\"mode\":\"lines\",\"showlegend\":false,\"x\":[0.0,0.0,null,0.0,0.0,null,0.0,0.0,null,0.0,0.0,null,0.0,0.0,null,0.0,0.0,null,0.0,0.0,null,0.0,0.0,null,0.0,0.0,null,0.0,0.0,null,0.0,0.0,null,0.0,0.0,null,0.0,0.0],\"y\":[0,1,null,1,1.15,null,1.15,2,null,2,2.15,null,2.15,2.3,null,2.3,2.45,null,2.45,2.6,null,2.6,3,null,3,3.15,null,3.15,3.3,null,3.3,4,null,4,4.15,null,4.15,5],\"type\":\"scatter\"}],                        {\"height\":300,\"margin\":{\"b\":0,\"l\":0,\"r\":0,\"t\":0},\"width\":500,\"template\":{\"data\":{\"histogram2dcontour\":[{\"type\":\"histogram2dcontour\",\"colorbar\":{\"outlinewidth\":0,\"ticks\":\"\"},\"colorscale\":[[0.0,\"#0d0887\"],[0.1111111111111111,\"#46039f\"],[0.2222222222222222,\"#7201a8\"],[0.3333333333333333,\"#9c179e\"],[0.4444444444444444,\"#bd3786\"],[0.5555555555555556,\"#d8576b\"],[0.6666666666666666,\"#ed7953\"],[0.7777777777777778,\"#fb9f3a\"],[0.8888888888888888,\"#fdca26\"],[1.0,\"#f0f921\"]]}],\"choropleth\":[{\"type\":\"choropleth\",\"colorbar\":{\"outlinewidth\":0,\"ticks\":\"\"}}],\"histogram2d\":[{\"type\":\"histogram2d\",\"colorbar\":{\"outlinewidth\":0,\"ticks\":\"\"},\"colorscale\":[[0.0,\"#0d0887\"],[0.1111111111111111,\"#46039f\"],[0.2222222222222222,\"#7201a8\"],[0.3333333333333333,\"#9c179e\"],[0.4444444444444444,\"#bd3786\"],[0.5555555555555556,\"#d8576b\"],[0.6666666666666666,\"#ed7953\"],[0.7777777777777778,\"#fb9f3a\"],[0.8888888888888888,\"#fdca26\"],[1.0,\"#f0f921\"]]}],\"heatmap\":[{\"type\":\"heatmap\",\"colorbar\":{\"outlinewidth\":0,\"ticks\":\"\"},\"colorscale\":[[0.0,\"#0d0887\"],[0.1111111111111111,\"#46039f\"],[0.2222222222222222,\"#7201a8\"],[0.3333333333333333,\"#9c179e\"],[0.4444444444444444,\"#bd3786\"],[0.5555555555555556,\"#d8576b\"],[0.6666666666666666,\"#ed7953\"],[0.7777777777777778,\"#fb9f3a\"],[0.8888888888888888,\"#fdca26\"],[1.0,\"#f0f921\"]]}],\"heatmapgl\":[{\"type\":\"heatmapgl\",\"colorbar\":{\"outlinewidth\":0,\"ticks\":\"\"},\"colorscale\":[[0.0,\"#0d0887\"],[0.1111111111111111,\"#46039f\"],[0.2222222222222222,\"#7201a8\"],[0.3333333333333333,\"#9c179e\"],[0.4444444444444444,\"#bd3786\"],[0.5555555555555556,\"#d8576b\"],[0.6666666666666666,\"#ed7953\"],[0.7777777777777778,\"#fb9f3a\"],[0.8888888888888888,\"#fdca26\"],[1.0,\"#f0f921\"]]}],\"contourcarpet\":[{\"type\":\"contourcarpet\",\"colorbar\":{\"outlinewidth\":0,\"ticks\":\"\"}}],\"contour\":[{\"type\":\"contour\",\"colorbar\":{\"outlinewidth\":0,\"ticks\":\"\"},\"colorscale\":[[0.0,\"#0d0887\"],[0.1111111111111111,\"#46039f\"],[0.2222222222222222,\"#7201a8\"],[0.3333333333333333,\"#9c179e\"],[0.4444444444444444,\"#bd3786\"],[0.5555555555555556,\"#d8576b\"],[0.6666666666666666,\"#ed7953\"],[0.7777777777777778,\"#fb9f3a\"],[0.8888888888888888,\"#fdca26\"],[1.0,\"#f0f921\"]]}],\"surface\":[{\"type\":\"surface\",\"colorbar\":{\"outlinewidth\":0,\"ticks\":\"\"},\"colorscale\":[[0.0,\"#0d0887\"],[0.1111111111111111,\"#46039f\"],[0.2222222222222222,\"#7201a8\"],[0.3333333333333333,\"#9c179e\"],[0.4444444444444444,\"#bd3786\"],[0.5555555555555556,\"#d8576b\"],[0.6666666666666666,\"#ed7953\"],[0.7777777777777778,\"#fb9f3a\"],[0.8888888888888888,\"#fdca26\"],[1.0,\"#f0f921\"]]}],\"mesh3d\":[{\"type\":\"mesh3d\",\"colorbar\":{\"outlinewidth\":0,\"ticks\":\"\"}}],\"scatter\":[{\"fillpattern\":{\"fillmode\":\"overlay\",\"size\":10,\"solidity\":0.2},\"type\":\"scatter\"}],\"parcoords\":[{\"type\":\"parcoords\",\"line\":{\"colorbar\":{\"outlinewidth\":0,\"ticks\":\"\"}}}],\"scatterpolargl\":[{\"type\":\"scatterpolargl\",\"marker\":{\"colorbar\":{\"outlinewidth\":0,\"ticks\":\"\"}}}],\"bar\":[{\"error_x\":{\"color\":\"#2a3f5f\"},\"error_y\":{\"color\":\"#2a3f5f\"},\"marker\":{\"line\":{\"color\":\"#E5ECF6\",\"width\":0.5},\"pattern\":{\"fillmode\":\"overlay\",\"size\":10,\"solidity\":0.2}},\"type\":\"bar\"}],\"scattergeo\":[{\"type\":\"scattergeo\",\"marker\":{\"colorbar\":{\"outlinewidth\":0,\"ticks\":\"\"}}}],\"scatterpolar\":[{\"type\":\"scatterpolar\",\"marker\":{\"colorbar\":{\"outlinewidth\":0,\"ticks\":\"\"}}}],\"histogram\":[{\"marker\":{\"pattern\":{\"fillmode\":\"overlay\",\"size\":10,\"solidity\":0.2}},\"type\":\"histogram\"}],\"scattergl\":[{\"type\":\"scattergl\",\"marker\":{\"colorbar\":{\"outlinewidth\":0,\"ticks\":\"\"}}}],\"scatter3d\":[{\"type\":\"scatter3d\",\"line\":{\"colorbar\":{\"outlinewidth\":0,\"ticks\":\"\"}},\"marker\":{\"colorbar\":{\"outlinewidth\":0,\"ticks\":\"\"}}}],\"scattermapbox\":[{\"type\":\"scattermapbox\",\"marker\":{\"colorbar\":{\"outlinewidth\":0,\"ticks\":\"\"}}}],\"scatterternary\":[{\"type\":\"scatterternary\",\"marker\":{\"colorbar\":{\"outlinewidth\":0,\"ticks\":\"\"}}}],\"scattercarpet\":[{\"type\":\"scattercarpet\",\"marker\":{\"colorbar\":{\"outlinewidth\":0,\"ticks\":\"\"}}}],\"carpet\":[{\"aaxis\":{\"endlinecolor\":\"#2a3f5f\",\"gridcolor\":\"white\",\"linecolor\":\"white\",\"minorgridcolor\":\"white\",\"startlinecolor\":\"#2a3f5f\"},\"baxis\":{\"endlinecolor\":\"#2a3f5f\",\"gridcolor\":\"white\",\"linecolor\":\"white\",\"minorgridcolor\":\"white\",\"startlinecolor\":\"#2a3f5f\"},\"type\":\"carpet\"}],\"table\":[{\"cells\":{\"fill\":{\"color\":\"#EBF0F8\"},\"line\":{\"color\":\"white\"}},\"header\":{\"fill\":{\"color\":\"#C8D4E3\"},\"line\":{\"color\":\"white\"}},\"type\":\"table\"}],\"barpolar\":[{\"marker\":{\"line\":{\"color\":\"#E5ECF6\",\"width\":0.5},\"pattern\":{\"fillmode\":\"overlay\",\"size\":10,\"solidity\":0.2}},\"type\":\"barpolar\"}],\"pie\":[{\"automargin\":true,\"type\":\"pie\"}]},\"layout\":{\"autotypenumbers\":\"strict\",\"colorway\":[\"#636efa\",\"#EF553B\",\"#00cc96\",\"#ab63fa\",\"#FFA15A\",\"#19d3f3\",\"#FF6692\",\"#B6E880\",\"#FF97FF\",\"#FECB52\"],\"font\":{\"color\":\"#2a3f5f\"},\"hovermode\":\"closest\",\"hoverlabel\":{\"align\":\"left\"},\"paper_bgcolor\":\"white\",\"plot_bgcolor\":\"#E5ECF6\",\"polar\":{\"bgcolor\":\"#E5ECF6\",\"angularaxis\":{\"gridcolor\":\"white\",\"linecolor\":\"white\",\"ticks\":\"\"},\"radialaxis\":{\"gridcolor\":\"white\",\"linecolor\":\"white\",\"ticks\":\"\"}},\"ternary\":{\"bgcolor\":\"#E5ECF6\",\"aaxis\":{\"gridcolor\":\"white\",\"linecolor\":\"white\",\"ticks\":\"\"},\"baxis\":{\"gridcolor\":\"white\",\"linecolor\":\"white\",\"ticks\":\"\"},\"caxis\":{\"gridcolor\":\"white\",\"linecolor\":\"white\",\"ticks\":\"\"}},\"coloraxis\":{\"colorbar\":{\"outlinewidth\":0,\"ticks\":\"\"}},\"colorscale\":{\"sequential\":[[0.0,\"#0d0887\"],[0.1111111111111111,\"#46039f\"],[0.2222222222222222,\"#7201a8\"],[0.3333333333333333,\"#9c179e\"],[0.4444444444444444,\"#bd3786\"],[0.5555555555555556,\"#d8576b\"],[0.6666666666666666,\"#ed7953\"],[0.7777777777777778,\"#fb9f3a\"],[0.8888888888888888,\"#fdca26\"],[1.0,\"#f0f921\"]],\"sequentialminus\":[[0.0,\"#0d0887\"],[0.1111111111111111,\"#46039f\"],[0.2222222222222222,\"#7201a8\"],[0.3333333333333333,\"#9c179e\"],[0.4444444444444444,\"#bd3786\"],[0.5555555555555556,\"#d8576b\"],[0.6666666666666666,\"#ed7953\"],[0.7777777777777778,\"#fb9f3a\"],[0.8888888888888888,\"#fdca26\"],[1.0,\"#f0f921\"]],\"diverging\":[[0,\"#8e0152\"],[0.1,\"#c51b7d\"],[0.2,\"#de77ae\"],[0.3,\"#f1b6da\"],[0.4,\"#fde0ef\"],[0.5,\"#f7f7f7\"],[0.6,\"#e6f5d0\"],[0.7,\"#b8e186\"],[0.8,\"#7fbc41\"],[0.9,\"#4d9221\"],[1,\"#276419\"]]},\"xaxis\":{\"gridcolor\":\"white\",\"linecolor\":\"white\",\"ticks\":\"\",\"title\":{\"standoff\":15},\"zerolinecolor\":\"white\",\"automargin\":true,\"zerolinewidth\":2},\"yaxis\":{\"gridcolor\":\"white\",\"linecolor\":\"white\",\"ticks\":\"\",\"title\":{\"standoff\":15},\"zerolinecolor\":\"white\",\"automargin\":true,\"zerolinewidth\":2},\"scene\":{\"xaxis\":{\"backgroundcolor\":\"#E5ECF6\",\"gridcolor\":\"white\",\"linecolor\":\"white\",\"showbackground\":true,\"ticks\":\"\",\"zerolinecolor\":\"white\",\"gridwidth\":2},\"yaxis\":{\"backgroundcolor\":\"#E5ECF6\",\"gridcolor\":\"white\",\"linecolor\":\"white\",\"showbackground\":true,\"ticks\":\"\",\"zerolinecolor\":\"white\",\"gridwidth\":2},\"zaxis\":{\"backgroundcolor\":\"#E5ECF6\",\"gridcolor\":\"white\",\"linecolor\":\"white\",\"showbackground\":true,\"ticks\":\"\",\"zerolinecolor\":\"white\",\"gridwidth\":2}},\"shapedefaults\":{\"line\":{\"color\":\"#2a3f5f\"}},\"annotationdefaults\":{\"arrowcolor\":\"#2a3f5f\",\"arrowhead\":0,\"arrowwidth\":1},\"geo\":{\"bgcolor\":\"white\",\"landcolor\":\"#E5ECF6\",\"subunitcolor\":\"white\",\"showland\":true,\"showlakes\":true,\"lakecolor\":\"white\"},\"title\":{\"x\":0.05},\"mapbox\":{\"style\":\"light\"}}},\"xaxis\":{\"showgrid\":false,\"zeroline\":false,\"tickmode\":\"array\",\"tickvals\":[]},\"yaxis\":{\"showgrid\":false,\"zeroline\":false,\"tickmode\":\"array\",\"tickvals\":[]},\"updatemenus\":[{\"buttons\":[{\"args\":[{\"marker\":[{\"size\":[6.0,6.0,6.0,11.928009913453302,6.0,6.0,6.0,6.0,18.0,6.0,6.0,8.037003250024952,6.0,6.0],\"color\":[\"#222A2A\",\"#00A08B\",\"#1616A7\",\"#00A08B\",\"#1616A7\",\"#DA60CA\",\"#1CA71C\",\"#778AAE\",\"#2E91E5\",\"#1616A7\",\"#1CA71C\",\"#2E91E5\",\"#1616A7\",\"#222A2A\"],\"colorscale\":\"Bluered\"},{\"size\":[6.0,6.0,6.0,11.928009913453302,6.0,6.0,6.0,6.0,18.0,6.0,6.0,8.037003250024952,6.0,6.0],\"color\":[\"#222A2A\",\"#00A08B\",\"#1616A7\",\"#00A08B\",\"#1616A7\",\"#DA60CA\",\"#1CA71C\",\"#778AAE\",\"#2E91E5\",\"#1616A7\",\"#1CA71C\",\"#2E91E5\",\"#1616A7\",\"#222A2A\"],\"colorscale\":\"Bluered\"},{}]}],\"label\":\"Size by params, color by operation\",\"method\":\"restyle\"},{\"args\":[{\"marker\":[{\"size\":[6.0,6.0,6.0,8.197199409664446,6.0,6.0,6.0,6.0,12.346132083395247,6.0,6.0,6.0,6.0,6.0],\"color\":[\"#222A2A\",\"#00A08B\",\"#1616A7\",\"#00A08B\",\"#1616A7\",\"#DA60CA\",\"#1CA71C\",\"#778AAE\",\"#2E91E5\",\"#1616A7\",\"#1CA71C\",\"#2E91E5\",\"#1616A7\",\"#222A2A\"],\"colorscale\":\"Bluered\"},{\"size\":[6.0,6.0,6.0,11.928009913453302,6.0,6.0,6.0,6.0,18.0,6.0,6.0,8.037003250024952,6.0,6.0],\"color\":[\"#222A2A\",\"#00A08B\",\"#1616A7\",\"#00A08B\",\"#1616A7\",\"#DA60CA\",\"#1CA71C\",\"#778AAE\",\"#2E91E5\",\"#1616A7\",\"#1CA71C\",\"#2E91E5\",\"#1616A7\",\"#222A2A\"],\"colorscale\":\"Bluered\"}]}],\"label\":\"Size by FLOPS, color by operation\",\"method\":\"restyle\"},{\"args\":[{\"marker\":[{\"size\":[6.0,6.0,6.0,11.928009913453302,6.0,6.0,6.0,6.0,18.0,6.0,6.0,8.037003250024952,6.0,6.0],\"color\":[0.0,0.6672955323027362,0.0,1.0,0.0,0.0,0.355823435636173,0.0,0.8171884416004193,0.0,0.0,0.2492482976593439,0.0,0.0],\"colorscale\":\"Bluered\"},{\"size\":[6.0,6.0,6.0,11.928009913453302,6.0,6.0,6.0,6.0,18.0,6.0,6.0,8.037003250024952,6.0,6.0],\"color\":[\"#222A2A\",\"#00A08B\",\"#1616A7\",\"#00A08B\",\"#1616A7\",\"#DA60CA\",\"#1CA71C\",\"#778AAE\",\"#2E91E5\",\"#1616A7\",\"#1CA71C\",\"#2E91E5\",\"#1616A7\",\"#222A2A\"],\"colorscale\":\"Bluered\"}]}],\"label\":\"Size by params, color by FLOPS\",\"method\":\"restyle\"},{\"args\":[{\"marker\":[{\"size\":[6.0,6.0,6.0,8.197199409664446,6.0,6.0,6.0,6.0,12.346132083395247,6.0,6.0,6.0,6.0,6.0],\"color\":[0.0,1.0,0.0,1.0,0.0,0.0,0.7467827751382162,0.0,1.0,0.0,0.22603285132684345,0.5908093641053138,0.0,0.0],\"colorscale\":\"Bluered\"},{\"size\":[6.0,6.0,6.0,11.928009913453302,6.0,6.0,6.0,6.0,18.0,6.0,6.0,8.037003250024952,6.0,6.0],\"color\":[\"#222A2A\",\"#00A08B\",\"#1616A7\",\"#00A08B\",\"#1616A7\",\"#DA60CA\",\"#1CA71C\",\"#778AAE\",\"#2E91E5\",\"#1616A7\",\"#1CA71C\",\"#2E91E5\",\"#1616A7\",\"#222A2A\"],\"colorscale\":\"Bluered\"}]}],\"label\":\"Size by FLOPS, color by params\",\"method\":\"restyle\"}],\"direction\":\"up\",\"pad\":{\"b\":0,\"l\":0,\"r\":0,\"t\":0},\"showactive\":true,\"x\":0,\"xanchor\":\"left\",\"y\":0,\"yanchor\":\"top\"}]},                        {\"responsive\": true}                    ).then(function(){\n",
       "                            \n",
       "var gd = document.getElementById('dc143a68-39b0-4087-8d0e-13ba8eb82023');\n",
       "var x = new MutationObserver(function (mutations, observer) {{\n",
       "        var display = window.getComputedStyle(gd).display;\n",
       "        if (!display || display === 'none') {{\n",
       "            console.log([gd, 'removed!']);\n",
       "            Plotly.purge(gd);\n",
       "            observer.disconnect();\n",
       "        }}\n",
       "}});\n",
       "\n",
       "// Listen for the removal of the full notebook cells\n",
       "var notebookContainer = gd.closest('#notebook-container');\n",
       "if (notebookContainer) {{\n",
       "    x.observe(notebookContainer, {childList: true});\n",
       "}}\n",
       "\n",
       "// Listen for the clearing of the current output cell\n",
       "var outputEl = gd.closest('.output');\n",
       "if (outputEl) {{\n",
       "    x.observe(outputEl, {childList: true});\n",
       "}}\n",
       "\n",
       "                        })                };                });            </script>        </div>"
      ]
     },
     "metadata": {},
     "output_type": "display_data"
    }
   ],
   "source": [
    "fig.update_layout(\n",
    "    updatemenus=[\n",
    "        dict(\n",
    "            buttons=list([\n",
    "                dict(\n",
    "                    args=[dict(\n",
    "                        marker=[\n",
    "                            dict(\n",
    "                                size=[renderer.params_to_dot_size(n.params) for n in g.nodes],\n",
    "                                color=[renderer.get_node_color(n) for n in g.nodes],\n",
    "                                colorscale='Bluered'\n",
    "                            ),\n",
    "                            dict(\n",
    "                                size=[renderer.params_to_dot_size(n.params) for n in g.nodes],\n",
    "                                color=[renderer.get_node_color(n) for n in g.nodes],\n",
    "                                colorscale='Bluered'\n",
    "                            ),\n",
    "                            {}\n",
    "                        ]\n",
    "                    )],\n",
    "                    label=\"Size by params, color by operation\",\n",
    "                    method=\"restyle\"\n",
    "                ),\n",
    "                dict(\n",
    "                    args=[dict(\n",
    "                        marker=[\n",
    "                            dict(\n",
    "                                size=[renderer.flops_to_dot_size(n.params) for n in g.nodes],\n",
    "                                color=[renderer.get_node_color(n) for n in g.nodes],\n",
    "                                colorscale='Bluered'\n",
    "                            ),\n",
    "                            dict(\n",
    "                                # Setting this to `params_to_dot_size` on purpose to examine the possibility\n",
    "                                # of changing one trace while keeping another trace unchanged\n",
    "                                size=[renderer.params_to_dot_size(n.params) for n in g.nodes],\n",
    "                                color=[renderer.get_node_color(n) for n in g.nodes],\n",
    "                                colorscale='Bluered'\n",
    "                            )\n",
    "                        ]\n",
    "                    )],\n",
    "                    label=\"Size by FLOPS, color by operation\",\n",
    "                    method=\"restyle\"\n",
    "                ),\n",
    "                dict(\n",
    "                    args=[dict(\n",
    "                        marker=[\n",
    "                            dict(\n",
    "                                size=[renderer.params_to_dot_size(n.params) for n in g.nodes],\n",
    "                                color=[renderer.get_node_color(n, 'flops') for n in g.nodes],\n",
    "                                colorscale='Bluered'\n",
    "                            ),\n",
    "                            dict(\n",
    "                                # Setting this to defaults on purpose to examine the possibility\n",
    "                                # of changing one trace while keeping another trace unchanged\n",
    "                                size=[renderer.params_to_dot_size(n.params) for n in g.nodes],\n",
    "                                color=[renderer.get_node_color(n) for n in g.nodes],\n",
    "                                colorscale='Bluered'\n",
    "                            )\n",
    "                        ]\n",
    "                    )],\n",
    "                    label=\"Size by params, color by FLOPS\",\n",
    "                    method=\"restyle\"\n",
    "                ),\n",
    "                dict(\n",
    "                    args=[dict(\n",
    "                        marker=[\n",
    "                            dict(\n",
    "                                size=[renderer.flops_to_dot_size(n.params) for n in g.nodes],\n",
    "                                color=[renderer.get_node_color(n, 'params') for n in g.nodes],\n",
    "                                colorscale='Bluered'\n",
    "                            ),\n",
    "                            dict(\n",
    "                                # Setting this to defaults on purpose to examine the possibility\n",
    "                                # of changing one trace while keeping another trace unchanged\n",
    "                                size=[renderer.params_to_dot_size(n.params) for n in g.nodes],\n",
    "                                color=[renderer.get_node_color(n) for n in g.nodes],\n",
    "                                colorscale='Bluered'\n",
    "                            )\n",
    "                        ]\n",
    "                    )],\n",
    "                    label=\"Size by FLOPS, color by params\",\n",
    "                    method=\"restyle\"\n",
    "                )\n",
    "            ]),\n",
    "            direction=\"up\", showactive=True,\n",
    "            pad=dict(l=0, r=0, t=0, b=0),\n",
    "            x=0, xanchor=\"left\",\n",
    "            y=0, yanchor=\"top\"\n",
    "        ),\n",
    "    ],\n",
    "    margin=dict(l=0, r=0, t=0, b=0)\n",
    ")\n",
    "fig.show(renderer='notebook_connected')"
   ]
  },
  {
   "cell_type": "markdown",
   "metadata": {},
   "source": [
    "### Observations\n",
    "* Interactions work after saving and reloading, so they may be expected to work in front-end only deployments\n",
    "* When restyling markers, one can either provide a single `marker` dictionary or an array of dictionaries\n",
    "  * If a single dictionary is provided, it is applied to all traces\n",
    "  * If an array of dictionaries is provided, the first element is applied to the first trace, etc., until either the dictionaries or the traces run out\n",
    "* There is no persistence of marker styling attributes\n",
    "  * If no paramteers are provided for a certain trace containing markers, its markers are reset to default parameters (sizing, coloring, etc)\n",
    "  * If only colors are provided for a certain trace containing markers, the sizes are reset to default parameters\n",
    "  * To change marker styling for one trace without changing another trace, the marker style for the other trace must be specified again\n",
    "  * To change one attribute (e.g. color, size) without changing another attribute, the values for the other attribute must be specified again, unless default values are desired\n",
    "* The magic underscore notation available in other parts of Plotly is not available here\n",
    "  * e.g. Replacing `marker=[dict(size=[...])]` by `marker_size=[...]` does not work\n",
    "* For `direction=\"down\"` and a dropdown menu below the figure, extra padding must be provided\n",
    "* The `x` and `y` values are in normalized coordinates and the `xanchor` and `yanchor` specifies which edges of the menu are tied to these coordinates\n",
    "  * The following configurations place the menu just inside the figure:\n",
    "    * Top left corner:     `dict(x=0, y=1, xanchor='left',  yanchor='top',    direction='down')`\n",
    "    * Bottom left corner:  `dict(x=0, y=0, xanchor='left',  yanchor='bottom', direction='up')`\n",
    "    * Top right corner:    `dict(x=1, y=1, xanchor='right', yanchor='top',    direction='down')`\n",
    "    * Bottom right corner: `dict(x=1, y=0, xanchor='right', yanchor='bottom', direction='up')`\n",
    "  * The following configurations place the menu just outside the figure:\n",
    "    * Top left corner:     `dict(x=0, y=1, xanchor='left',  yanchor='bottom', direction='down')`\n",
    "    * Bottom left corner:  `dict(x=0, y=0, xanchor='left',  yanchor='top',    direction='up')`\n",
    "    * Top right corner:    `dict(x=1, y=1, xanchor='right', yanchor='bottom', direction='down')`\n",
    "    * Bottom right corner: `dict(x=1, y=0, xanchor='right', yanchor='top',    direction='up')`\n",
    "* The `active` parameter may be used for the first item in the list is not the default"
   ]
  },
  {
   "cell_type": "markdown",
   "metadata": {},
   "source": [
    "### Decisions\n",
    "* Use one dropdown menu to change both colors and sizes of markers\n",
    "  * Because of the lack of persistence (which is probably the price of not wanting to rely on a back-end), changing them separately will require additional state and maintenance overhead \n",
    "  * Some combinations of sizing and coloring (e.g both based on FLOPS / both based on params) are undesirable anyway\n",
    "  * This approach works well with more thorough descriptions in the dropdown menu items, saving us the trouble of adding labels, laying out the controls and taking different screen sizes into account\n",
    "* Provide the following marker styling combinations:\n",
    "  * Size by params, color by operation\n",
    "  * Size by FLOPS, color by operation\n",
    "  * Size by params, color by FLOPS\n",
    "  * Size by FLOPS, color by params\n",
    "* Use functions to build up marker and menu dictionaries\n",
    "  * This will result in simpler high-level code for a reader interested in the different buttons and the different updates performed by each button\n",
    "* Make `Size by FLOPS, color by operation` the default when the `show_param_nodes` user variable is set to `True`\n",
    "  * Keep the same order of items, but set `active=1`"
   ]
  },
  {
   "cell_type": "markdown",
   "metadata": {},
   "source": [
    "### Building up marker and menu dictionaries"
   ]
  },
  {
   "cell_type": "code",
   "execution_count": null,
   "metadata": {},
   "outputs": [
    {
     "data": {
      "text/html": [
       "        <script type=\"text/javascript\">\n",
       "        window.PlotlyConfig = {MathJaxConfig: 'local'};\n",
       "        if (window.MathJax && window.MathJax.Hub && window.MathJax.Hub.Config) {window.MathJax.Hub.Config({SVG: {font: \"STIX-Web\"}});}\n",
       "        if (typeof require !== 'undefined') {\n",
       "        require.undef(\"plotly\");\n",
       "        requirejs.config({\n",
       "            paths: {\n",
       "                'plotly': ['https://cdn.plot.ly/plotly-2.35.2.min']\n",
       "            }\n",
       "        });\n",
       "        require(['plotly'], function(Plotly) {\n",
       "            window._Plotly = Plotly;\n",
       "        });\n",
       "        }\n",
       "        </script>\n",
       "        "
      ]
     },
     "metadata": {},
     "output_type": "display_data"
    },
    {
     "data": {
      "text/html": [
       "<div>                            <div id=\"9d750b96-7e23-497c-8444-de50a5d67445\" class=\"plotly-graph-div\" style=\"height:300px; width:500px;\"></div>            <script type=\"text/javascript\">                require([\"plotly\"], function(Plotly) {                    window.PLOTLYENV=window.PLOTLYENV || {};                                    if (document.getElementById(\"9d750b96-7e23-497c-8444-de50a5d67445\")) {                    Plotly.newPlot(                        \"9d750b96-7e23-497c-8444-de50a5d67445\",                        [{\"customdata\":[[\"x\",\"input\",\"(16,1,28,28)\",\"0\",\"0\",\"()\",\"{}\"],[\"conv1\",\"nn.Conv2d\",\"(16,32,26,26)\",\"320\",\"6 230 016\",\"(x,)\",\"{}\"],[\"relu\",\"relu()\",\"(16,32,26,26)\",\"0\",\"0\",\"(conv1,)\",\"{'inplace': False}\"],[\"conv2\",\"nn.Conv2d\",\"(16,64,24,24)\",\"18 496\",\"339 738 624\",\"(relu,)\",\"{}\"],[\"relu_1\",\"relu()\",\"(16,64,24,24)\",\"0\",\"0\",\"(conv2,)\",\"{'inplace': False}\"],[\"max_pool2d\",\"max_pool2d()\",\"(16,64,12,12)\",\"0\",\"0\",\"(relu_1, 2)\",\"{'stride': None, 'padding': 0, 'dilation': 1, 'ceil_mode': False, 'return_indices': False}\"],[\"dropout1\",\"nn.Dropout\",\"(16,64,12,12)\",\"0\",\"147 456\",\"(max_pool2d,)\",\"{}\"],[\"flatten\",\"flatten()\",\"(16,9216)\",\"0\",\"0\",\"(dropout1, 1)\",\"{}\"],[\"fc1\",\"nn.Linear\",\"(16,128)\",\"1 179 776\",\"37 748 736\",\"(flatten,)\",\"{}\"],[\"relu_2\",\"relu()\",\"(16,128)\",\"0\",\"0\",\"(fc1,)\",\"{'inplace': False}\"],[\"dropout2\",\"nn.Dropout\",\"(16,128)\",\"0\",\"2 048\",\"(relu_2,)\",\"{}\"],[\"fc2\",\"nn.Linear\",\"(16,10)\",\"1 290\",\"40 960\",\"(dropout2,)\",\"{}\"],[\"log_softmax\",\"log_softmax()\",\"(16,10)\",\"0\",\"0\",\"(fc2,)\",\"{'dim': 1, '_stacklevel': 3, 'dtype': None}\"],[\"output\",\"output\",\"(16,10)\",\"0\",\"0\",\"(log_softmax,)\",\"{}\"]],\"hovertemplate\":\"Name: %{customdata[0]}\\u003cbr\\u003eOperation: %{customdata[1]}\\u003cbr\\u003eActivations: %{customdata[2]}\\u003cbr\\u003eParameters: %{customdata[3]}\\u003cbr\\u003eFLOPS: %{customdata[4]}\\u003cbr\\u003e\\u003cbr\\u003eargs: %{customdata[5]}\\u003cbr\\u003ekwargs: %{customdata[6]}\\u003cbr\\u003e\\u003cextra\\u003e\\u003c\\u002fextra\\u003e\",\"marker\":{\"color\":[\"#222A2A\",\"#00A08B\",\"#1616A7\",\"#00A08B\",\"#1616A7\",\"#DA60CA\",\"#1CA71C\",\"#778AAE\",\"#2E91E5\",\"#1616A7\",\"#1CA71C\",\"#2E91E5\",\"#1616A7\",\"#222A2A\"],\"colorscale\":[[0.0,\"rgb(0,0,255)\"],[1.0,\"rgb(255,0,0)\"]],\"size\":[6.0,6.0,6.0,11.928009913453302,6.0,6.0,6.0,6.0,18.0,6.0,6.0,8.037003250024952,6.0,6.0]},\"mode\":\"markers\",\"showlegend\":false,\"x\":[0.0,0.0,0.0,0.0,0.0,0.0,0.0,0.0,0.0,0.0,0.0,0.0,0.0,0.0],\"y\":[0,1,1.15,2,2.15,2.3,2.45,2.6,3,3.15,3.3,4,4.15,5],\"type\":\"scatter\"},{\"customdata\":[[\"x\",\"input\",\"(16,1,28,28)\",\"0\",\"0\",\"()\",\"{}\"],[\"conv1\",\"nn.Conv2d\",\"(16,32,26,26)\",\"320\",\"6 230 016\",\"(x,)\",\"{}\"],[\"relu\",\"relu()\",\"(16,32,26,26)\",\"0\",\"0\",\"(conv1,)\",\"{'inplace': False}\"],[\"conv2\",\"nn.Conv2d\",\"(16,64,24,24)\",\"18 496\",\"339 738 624\",\"(relu,)\",\"{}\"],[\"relu_1\",\"relu()\",\"(16,64,24,24)\",\"0\",\"0\",\"(conv2,)\",\"{'inplace': False}\"],[\"max_pool2d\",\"max_pool2d()\",\"(16,64,12,12)\",\"0\",\"0\",\"(relu_1, 2)\",\"{'stride': None, 'padding': 0, 'dilation': 1, 'ceil_mode': False, 'return_indices': False}\"],[\"dropout1\",\"nn.Dropout\",\"(16,64,12,12)\",\"0\",\"147 456\",\"(max_pool2d,)\",\"{}\"],[\"flatten\",\"flatten()\",\"(16,9216)\",\"0\",\"0\",\"(dropout1, 1)\",\"{}\"],[\"fc1\",\"nn.Linear\",\"(16,128)\",\"1 179 776\",\"37 748 736\",\"(flatten,)\",\"{}\"],[\"relu_2\",\"relu()\",\"(16,128)\",\"0\",\"0\",\"(fc1,)\",\"{'inplace': False}\"],[\"dropout2\",\"nn.Dropout\",\"(16,128)\",\"0\",\"2 048\",\"(relu_2,)\",\"{}\"],[\"fc2\",\"nn.Linear\",\"(16,10)\",\"1 290\",\"40 960\",\"(dropout2,)\",\"{}\"],[\"log_softmax\",\"log_softmax()\",\"(16,10)\",\"0\",\"0\",\"(fc2,)\",\"{'dim': 1, '_stacklevel': 3, 'dtype': None}\"],[\"output\",\"output\",\"(16,10)\",\"0\",\"0\",\"(log_softmax,)\",\"{}\"]],\"hovertemplate\":\"Name: %{customdata[0]}\\u003cbr\\u003eOperation: %{customdata[1]}\\u003cbr\\u003eActivations: %{customdata[2]}\\u003cbr\\u003eParameters: %{customdata[3]}\\u003cbr\\u003eFLOPS: %{customdata[4]}\\u003cbr\\u003e\\u003cbr\\u003eargs: %{customdata[5]}\\u003cbr\\u003ekwargs: %{customdata[6]}\\u003cbr\\u003e\\u003cextra\\u003e\\u003c\\u002fextra\\u003e\",\"marker\":{\"color\":[\"#222A2A\",\"#00A08B\",\"#1616A7\",\"#00A08B\",\"#1616A7\",\"#DA60CA\",\"#1CA71C\",\"#778AAE\",\"#2E91E5\",\"#1616A7\",\"#1CA71C\",\"#2E91E5\",\"#1616A7\",\"#222A2A\"],\"colorscale\":[[0.0,\"rgb(0,0,255)\"],[1.0,\"rgb(255,0,0)\"]],\"size\":[6.0,6.0,6.0,11.928009913453302,6.0,6.0,6.0,6.0,18.0,6.0,6.0,8.037003250024952,6.0,6.0]},\"mode\":\"markers\",\"showlegend\":false,\"x\":[1.0,1.0,1.0,1.0,1.0,1.0,1.0,1.0,1.0,1.0,1.0,1.0,1.0,1.0],\"y\":[0,1,1.15,2,2.15,2.3,2.45,2.6,3,3.15,3.3,4,4.15,5],\"type\":\"scatter\"},{\"hoverinfo\":\"skip\",\"line\":{\"color\":\"gray\",\"width\":1},\"mode\":\"lines\",\"showlegend\":false,\"x\":[0.0,0.0,null,0.0,0.0,null,0.0,0.0,null,0.0,0.0,null,0.0,0.0,null,0.0,0.0,null,0.0,0.0,null,0.0,0.0,null,0.0,0.0,null,0.0,0.0,null,0.0,0.0,null,0.0,0.0,null,0.0,0.0],\"y\":[0,1,null,1,1.15,null,1.15,2,null,2,2.15,null,2.15,2.3,null,2.3,2.45,null,2.45,2.6,null,2.6,3,null,3,3.15,null,3.15,3.3,null,3.3,4,null,4,4.15,null,4.15,5],\"type\":\"scatter\"}],                        {\"height\":300,\"margin\":{\"b\":0,\"l\":0,\"r\":0,\"t\":0},\"width\":500,\"template\":{\"data\":{\"histogram2dcontour\":[{\"type\":\"histogram2dcontour\",\"colorbar\":{\"outlinewidth\":0,\"ticks\":\"\"},\"colorscale\":[[0.0,\"#0d0887\"],[0.1111111111111111,\"#46039f\"],[0.2222222222222222,\"#7201a8\"],[0.3333333333333333,\"#9c179e\"],[0.4444444444444444,\"#bd3786\"],[0.5555555555555556,\"#d8576b\"],[0.6666666666666666,\"#ed7953\"],[0.7777777777777778,\"#fb9f3a\"],[0.8888888888888888,\"#fdca26\"],[1.0,\"#f0f921\"]]}],\"choropleth\":[{\"type\":\"choropleth\",\"colorbar\":{\"outlinewidth\":0,\"ticks\":\"\"}}],\"histogram2d\":[{\"type\":\"histogram2d\",\"colorbar\":{\"outlinewidth\":0,\"ticks\":\"\"},\"colorscale\":[[0.0,\"#0d0887\"],[0.1111111111111111,\"#46039f\"],[0.2222222222222222,\"#7201a8\"],[0.3333333333333333,\"#9c179e\"],[0.4444444444444444,\"#bd3786\"],[0.5555555555555556,\"#d8576b\"],[0.6666666666666666,\"#ed7953\"],[0.7777777777777778,\"#fb9f3a\"],[0.8888888888888888,\"#fdca26\"],[1.0,\"#f0f921\"]]}],\"heatmap\":[{\"type\":\"heatmap\",\"colorbar\":{\"outlinewidth\":0,\"ticks\":\"\"},\"colorscale\":[[0.0,\"#0d0887\"],[0.1111111111111111,\"#46039f\"],[0.2222222222222222,\"#7201a8\"],[0.3333333333333333,\"#9c179e\"],[0.4444444444444444,\"#bd3786\"],[0.5555555555555556,\"#d8576b\"],[0.6666666666666666,\"#ed7953\"],[0.7777777777777778,\"#fb9f3a\"],[0.8888888888888888,\"#fdca26\"],[1.0,\"#f0f921\"]]}],\"heatmapgl\":[{\"type\":\"heatmapgl\",\"colorbar\":{\"outlinewidth\":0,\"ticks\":\"\"},\"colorscale\":[[0.0,\"#0d0887\"],[0.1111111111111111,\"#46039f\"],[0.2222222222222222,\"#7201a8\"],[0.3333333333333333,\"#9c179e\"],[0.4444444444444444,\"#bd3786\"],[0.5555555555555556,\"#d8576b\"],[0.6666666666666666,\"#ed7953\"],[0.7777777777777778,\"#fb9f3a\"],[0.8888888888888888,\"#fdca26\"],[1.0,\"#f0f921\"]]}],\"contourcarpet\":[{\"type\":\"contourcarpet\",\"colorbar\":{\"outlinewidth\":0,\"ticks\":\"\"}}],\"contour\":[{\"type\":\"contour\",\"colorbar\":{\"outlinewidth\":0,\"ticks\":\"\"},\"colorscale\":[[0.0,\"#0d0887\"],[0.1111111111111111,\"#46039f\"],[0.2222222222222222,\"#7201a8\"],[0.3333333333333333,\"#9c179e\"],[0.4444444444444444,\"#bd3786\"],[0.5555555555555556,\"#d8576b\"],[0.6666666666666666,\"#ed7953\"],[0.7777777777777778,\"#fb9f3a\"],[0.8888888888888888,\"#fdca26\"],[1.0,\"#f0f921\"]]}],\"surface\":[{\"type\":\"surface\",\"colorbar\":{\"outlinewidth\":0,\"ticks\":\"\"},\"colorscale\":[[0.0,\"#0d0887\"],[0.1111111111111111,\"#46039f\"],[0.2222222222222222,\"#7201a8\"],[0.3333333333333333,\"#9c179e\"],[0.4444444444444444,\"#bd3786\"],[0.5555555555555556,\"#d8576b\"],[0.6666666666666666,\"#ed7953\"],[0.7777777777777778,\"#fb9f3a\"],[0.8888888888888888,\"#fdca26\"],[1.0,\"#f0f921\"]]}],\"mesh3d\":[{\"type\":\"mesh3d\",\"colorbar\":{\"outlinewidth\":0,\"ticks\":\"\"}}],\"scatter\":[{\"fillpattern\":{\"fillmode\":\"overlay\",\"size\":10,\"solidity\":0.2},\"type\":\"scatter\"}],\"parcoords\":[{\"type\":\"parcoords\",\"line\":{\"colorbar\":{\"outlinewidth\":0,\"ticks\":\"\"}}}],\"scatterpolargl\":[{\"type\":\"scatterpolargl\",\"marker\":{\"colorbar\":{\"outlinewidth\":0,\"ticks\":\"\"}}}],\"bar\":[{\"error_x\":{\"color\":\"#2a3f5f\"},\"error_y\":{\"color\":\"#2a3f5f\"},\"marker\":{\"line\":{\"color\":\"#E5ECF6\",\"width\":0.5},\"pattern\":{\"fillmode\":\"overlay\",\"size\":10,\"solidity\":0.2}},\"type\":\"bar\"}],\"scattergeo\":[{\"type\":\"scattergeo\",\"marker\":{\"colorbar\":{\"outlinewidth\":0,\"ticks\":\"\"}}}],\"scatterpolar\":[{\"type\":\"scatterpolar\",\"marker\":{\"colorbar\":{\"outlinewidth\":0,\"ticks\":\"\"}}}],\"histogram\":[{\"marker\":{\"pattern\":{\"fillmode\":\"overlay\",\"size\":10,\"solidity\":0.2}},\"type\":\"histogram\"}],\"scattergl\":[{\"type\":\"scattergl\",\"marker\":{\"colorbar\":{\"outlinewidth\":0,\"ticks\":\"\"}}}],\"scatter3d\":[{\"type\":\"scatter3d\",\"line\":{\"colorbar\":{\"outlinewidth\":0,\"ticks\":\"\"}},\"marker\":{\"colorbar\":{\"outlinewidth\":0,\"ticks\":\"\"}}}],\"scattermapbox\":[{\"type\":\"scattermapbox\",\"marker\":{\"colorbar\":{\"outlinewidth\":0,\"ticks\":\"\"}}}],\"scatterternary\":[{\"type\":\"scatterternary\",\"marker\":{\"colorbar\":{\"outlinewidth\":0,\"ticks\":\"\"}}}],\"scattercarpet\":[{\"type\":\"scattercarpet\",\"marker\":{\"colorbar\":{\"outlinewidth\":0,\"ticks\":\"\"}}}],\"carpet\":[{\"aaxis\":{\"endlinecolor\":\"#2a3f5f\",\"gridcolor\":\"white\",\"linecolor\":\"white\",\"minorgridcolor\":\"white\",\"startlinecolor\":\"#2a3f5f\"},\"baxis\":{\"endlinecolor\":\"#2a3f5f\",\"gridcolor\":\"white\",\"linecolor\":\"white\",\"minorgridcolor\":\"white\",\"startlinecolor\":\"#2a3f5f\"},\"type\":\"carpet\"}],\"table\":[{\"cells\":{\"fill\":{\"color\":\"#EBF0F8\"},\"line\":{\"color\":\"white\"}},\"header\":{\"fill\":{\"color\":\"#C8D4E3\"},\"line\":{\"color\":\"white\"}},\"type\":\"table\"}],\"barpolar\":[{\"marker\":{\"line\":{\"color\":\"#E5ECF6\",\"width\":0.5},\"pattern\":{\"fillmode\":\"overlay\",\"size\":10,\"solidity\":0.2}},\"type\":\"barpolar\"}],\"pie\":[{\"automargin\":true,\"type\":\"pie\"}]},\"layout\":{\"autotypenumbers\":\"strict\",\"colorway\":[\"#636efa\",\"#EF553B\",\"#00cc96\",\"#ab63fa\",\"#FFA15A\",\"#19d3f3\",\"#FF6692\",\"#B6E880\",\"#FF97FF\",\"#FECB52\"],\"font\":{\"color\":\"#2a3f5f\"},\"hovermode\":\"closest\",\"hoverlabel\":{\"align\":\"left\"},\"paper_bgcolor\":\"white\",\"plot_bgcolor\":\"#E5ECF6\",\"polar\":{\"bgcolor\":\"#E5ECF6\",\"angularaxis\":{\"gridcolor\":\"white\",\"linecolor\":\"white\",\"ticks\":\"\"},\"radialaxis\":{\"gridcolor\":\"white\",\"linecolor\":\"white\",\"ticks\":\"\"}},\"ternary\":{\"bgcolor\":\"#E5ECF6\",\"aaxis\":{\"gridcolor\":\"white\",\"linecolor\":\"white\",\"ticks\":\"\"},\"baxis\":{\"gridcolor\":\"white\",\"linecolor\":\"white\",\"ticks\":\"\"},\"caxis\":{\"gridcolor\":\"white\",\"linecolor\":\"white\",\"ticks\":\"\"}},\"coloraxis\":{\"colorbar\":{\"outlinewidth\":0,\"ticks\":\"\"}},\"colorscale\":{\"sequential\":[[0.0,\"#0d0887\"],[0.1111111111111111,\"#46039f\"],[0.2222222222222222,\"#7201a8\"],[0.3333333333333333,\"#9c179e\"],[0.4444444444444444,\"#bd3786\"],[0.5555555555555556,\"#d8576b\"],[0.6666666666666666,\"#ed7953\"],[0.7777777777777778,\"#fb9f3a\"],[0.8888888888888888,\"#fdca26\"],[1.0,\"#f0f921\"]],\"sequentialminus\":[[0.0,\"#0d0887\"],[0.1111111111111111,\"#46039f\"],[0.2222222222222222,\"#7201a8\"],[0.3333333333333333,\"#9c179e\"],[0.4444444444444444,\"#bd3786\"],[0.5555555555555556,\"#d8576b\"],[0.6666666666666666,\"#ed7953\"],[0.7777777777777778,\"#fb9f3a\"],[0.8888888888888888,\"#fdca26\"],[1.0,\"#f0f921\"]],\"diverging\":[[0,\"#8e0152\"],[0.1,\"#c51b7d\"],[0.2,\"#de77ae\"],[0.3,\"#f1b6da\"],[0.4,\"#fde0ef\"],[0.5,\"#f7f7f7\"],[0.6,\"#e6f5d0\"],[0.7,\"#b8e186\"],[0.8,\"#7fbc41\"],[0.9,\"#4d9221\"],[1,\"#276419\"]]},\"xaxis\":{\"gridcolor\":\"white\",\"linecolor\":\"white\",\"ticks\":\"\",\"title\":{\"standoff\":15},\"zerolinecolor\":\"white\",\"automargin\":true,\"zerolinewidth\":2},\"yaxis\":{\"gridcolor\":\"white\",\"linecolor\":\"white\",\"ticks\":\"\",\"title\":{\"standoff\":15},\"zerolinecolor\":\"white\",\"automargin\":true,\"zerolinewidth\":2},\"scene\":{\"xaxis\":{\"backgroundcolor\":\"#E5ECF6\",\"gridcolor\":\"white\",\"linecolor\":\"white\",\"showbackground\":true,\"ticks\":\"\",\"zerolinecolor\":\"white\",\"gridwidth\":2},\"yaxis\":{\"backgroundcolor\":\"#E5ECF6\",\"gridcolor\":\"white\",\"linecolor\":\"white\",\"showbackground\":true,\"ticks\":\"\",\"zerolinecolor\":\"white\",\"gridwidth\":2},\"zaxis\":{\"backgroundcolor\":\"#E5ECF6\",\"gridcolor\":\"white\",\"linecolor\":\"white\",\"showbackground\":true,\"ticks\":\"\",\"zerolinecolor\":\"white\",\"gridwidth\":2}},\"shapedefaults\":{\"line\":{\"color\":\"#2a3f5f\"}},\"annotationdefaults\":{\"arrowcolor\":\"#2a3f5f\",\"arrowhead\":0,\"arrowwidth\":1},\"geo\":{\"bgcolor\":\"white\",\"landcolor\":\"#E5ECF6\",\"subunitcolor\":\"white\",\"showland\":true,\"showlakes\":true,\"lakecolor\":\"white\"},\"title\":{\"x\":0.05},\"mapbox\":{\"style\":\"light\"}}},\"xaxis\":{\"showgrid\":false,\"zeroline\":false,\"tickmode\":\"array\",\"tickvals\":[]},\"yaxis\":{\"showgrid\":false,\"zeroline\":false,\"tickmode\":\"array\",\"tickvals\":[]},\"updatemenus\":[{\"buttons\":[{\"args\":[{\"marker\":[{\"size\":[6.0,6.0,6.0,11.928009913453302,6.0,6.0,6.0,6.0,18.0,6.0,6.0,8.037003250024952,6.0,6.0],\"color\":[\"#222A2A\",\"#00A08B\",\"#1616A7\",\"#00A08B\",\"#1616A7\",\"#DA60CA\",\"#1CA71C\",\"#778AAE\",\"#2E91E5\",\"#1616A7\",\"#1CA71C\",\"#2E91E5\",\"#1616A7\",\"#222A2A\"],\"colorscale\":\"Bluered\"},{\"size\":[6.0,6.0,6.0,11.928009913453302,6.0,6.0,6.0,6.0,18.0,6.0,6.0,8.037003250024952,6.0,6.0],\"color\":[\"#222A2A\",\"#00A08B\",\"#1616A7\",\"#00A08B\",\"#1616A7\",\"#DA60CA\",\"#1CA71C\",\"#778AAE\",\"#2E91E5\",\"#1616A7\",\"#1CA71C\",\"#2E91E5\",\"#1616A7\",\"#222A2A\"],\"colorscale\":\"Bluered\"}]}],\"label\":\"Size by params, color by operation\",\"method\":\"restyle\"},{\"args\":[{\"marker\":[{\"size\":[6.0,6.0,6.0,8.197199409664446,6.0,6.0,6.0,6.0,12.346132083395247,6.0,6.0,6.0,6.0,6.0],\"color\":[\"#222A2A\",\"#00A08B\",\"#1616A7\",\"#00A08B\",\"#1616A7\",\"#DA60CA\",\"#1CA71C\",\"#778AAE\",\"#2E91E5\",\"#1616A7\",\"#1CA71C\",\"#2E91E5\",\"#1616A7\",\"#222A2A\"],\"colorscale\":\"Bluered\"},{\"size\":[6.0,6.0,6.0,11.928009913453302,6.0,6.0,6.0,6.0,18.0,6.0,6.0,8.037003250024952,6.0,6.0],\"color\":[\"#222A2A\",\"#00A08B\",\"#1616A7\",\"#00A08B\",\"#1616A7\",\"#DA60CA\",\"#1CA71C\",\"#778AAE\",\"#2E91E5\",\"#1616A7\",\"#1CA71C\",\"#2E91E5\",\"#1616A7\",\"#222A2A\"],\"colorscale\":\"Bluered\"}]}],\"label\":\"Size by FLOPS, color by operation\",\"method\":\"restyle\"},{\"args\":[{\"marker\":[{\"size\":[6.0,6.0,6.0,11.928009913453302,6.0,6.0,6.0,6.0,18.0,6.0,6.0,8.037003250024952,6.0,6.0],\"color\":[0.0,0.6672955323027362,0.0,1.0,0.0,0.0,0.355823435636173,0.0,0.8171884416004193,0.0,0.0,0.2492482976593439,0.0,0.0],\"colorscale\":\"Bluered\"},{\"size\":[6.0,6.0,6.0,11.928009913453302,6.0,6.0,6.0,6.0,18.0,6.0,6.0,8.037003250024952,6.0,6.0],\"color\":[\"#222A2A\",\"#00A08B\",\"#1616A7\",\"#00A08B\",\"#1616A7\",\"#DA60CA\",\"#1CA71C\",\"#778AAE\",\"#2E91E5\",\"#1616A7\",\"#1CA71C\",\"#2E91E5\",\"#1616A7\",\"#222A2A\"],\"colorscale\":\"Bluered\"}]}],\"label\":\"Size by params, color by FLOPS\",\"method\":\"restyle\"},{\"args\":[{\"marker\":[{\"size\":[6.0,6.0,6.0,8.197199409664446,6.0,6.0,6.0,6.0,12.346132083395247,6.0,6.0,6.0,6.0,6.0],\"color\":[0.0,1.0,0.0,1.0,0.0,0.0,0.7467827751382162,0.0,1.0,0.0,0.22603285132684345,0.5908093641053138,0.0,0.0],\"colorscale\":\"Bluered\"},{\"size\":[6.0,6.0,6.0,11.928009913453302,6.0,6.0,6.0,6.0,18.0,6.0,6.0,8.037003250024952,6.0,6.0],\"color\":[\"#222A2A\",\"#00A08B\",\"#1616A7\",\"#00A08B\",\"#1616A7\",\"#DA60CA\",\"#1CA71C\",\"#778AAE\",\"#2E91E5\",\"#1616A7\",\"#1CA71C\",\"#2E91E5\",\"#1616A7\",\"#222A2A\"],\"colorscale\":\"Bluered\"}]}],\"label\":\"Size by FLOPS, color by params\",\"method\":\"restyle\"}],\"direction\":\"up\",\"pad\":{\"b\":0,\"l\":0,\"r\":0,\"t\":0},\"showactive\":true,\"x\":0,\"xanchor\":\"left\",\"y\":0,\"yanchor\":\"top\"}]},                        {\"responsive\": true}                    ).then(function(){\n",
       "                            \n",
       "var gd = document.getElementById('9d750b96-7e23-497c-8444-de50a5d67445');\n",
       "var x = new MutationObserver(function (mutations, observer) {{\n",
       "        var display = window.getComputedStyle(gd).display;\n",
       "        if (!display || display === 'none') {{\n",
       "            console.log([gd, 'removed!']);\n",
       "            Plotly.purge(gd);\n",
       "            observer.disconnect();\n",
       "        }}\n",
       "}});\n",
       "\n",
       "// Listen for the removal of the full notebook cells\n",
       "var notebookContainer = gd.closest('#notebook-container');\n",
       "if (notebookContainer) {{\n",
       "    x.observe(notebookContainer, {childList: true});\n",
       "}}\n",
       "\n",
       "// Listen for the clearing of the current output cell\n",
       "var outputEl = gd.closest('.output');\n",
       "if (outputEl) {{\n",
       "    x.observe(outputEl, {childList: true});\n",
       "}}\n",
       "\n",
       "                        })                };                });            </script>        </div>"
      ]
     },
     "metadata": {},
     "output_type": "display_data"
    }
   ],
   "source": [
    "def build_marker_dict(renderer:FigureRenderer, trace_idx:int, size_by:str, color_by:str):\n",
    "    g = renderer.g\n",
    "    if trace_idx > 0:\n",
    "        # The trace that does not change\n",
    "        return dict(size=[renderer.params_to_dot_size(n.params) for n in g.nodes],\n",
    "                    color=[renderer.get_node_color(n) for n in g.nodes],\n",
    "                    colorscale='Bluered')\n",
    "    \n",
    "    if size_by=='flops':\n",
    "        sizes = [renderer.flops_to_dot_size(n.params) for n in g.nodes]\n",
    "    elif size_by=='params':\n",
    "        sizes = [renderer.params_to_dot_size(n.params) for n in g.nodes]\n",
    "    else:\n",
    "        raise ValueError(f'Unknown size_by: {size_by}')\n",
    "    \n",
    "    colors = [renderer.get_node_color(n, color_by) for n in g.nodes]\n",
    "\n",
    "    return dict(size=sizes, color=colors, colorscale='Bluered')\n",
    "\n",
    "def build_menu_button(renderer:FigureRenderer, size_by:str, color_by:str):\n",
    "    size_color_labels = dict(operation='operation', params='params', flops='FLOPS')\n",
    "    return dict(\n",
    "        args=[dict(\n",
    "            marker=[\n",
    "                build_marker_dict(renderer, 0, size_by, color_by),\n",
    "                build_marker_dict(renderer, 1, size_by, color_by),\n",
    "            ]\n",
    "        )],\n",
    "        label=f'Size by {size_color_labels[size_by]}, color by {size_color_labels[color_by]}',\n",
    "        method=\"restyle\"\n",
    "    )\n",
    "\n",
    "def build_styling_menu(renderer:FigureRenderer):\n",
    "    size_color_options = [('params','operation'),\n",
    "                          ('flops','operation'),\n",
    "                          ('params','flops'),\n",
    "                          ('flops','params')]\n",
    "    \n",
    "    menu_buttons = [build_menu_button(renderer, size_by, color_by) for (size_by, color_by) in size_color_options]\n",
    "    \n",
    "    return dict(buttons=menu_buttons, showactive=True, direction=\"up\",\n",
    "                pad=dict(l=0, r=0, t=0, b=0),\n",
    "                x=0, xanchor=\"left\",\n",
    "                y=0, yanchor=\"top\")\n",
    "\n",
    "fig.update_layout(\n",
    "    updatemenus=[build_styling_menu(renderer)],\n",
    "    margin=dict(l=0, r=0, t=0, b=0)\n",
    ")\n",
    "fig.show(renderer='notebook_connected')"
   ]
  },
  {
   "cell_type": "markdown",
   "metadata": {},
   "source": [
    "## Slider moving a box around\n",
    "Here, the idea is to use a [slider](https://plotly.com/python/reference/layout/sliders/) to pan one zoomed-in panel (by changing the axis limits) while showing a fully zoomed-out copy of the figure in another panel, along with a rectangle highlighting the area displayed on the zoomed-in panel\n",
    "\n",
    "We start with a single panel to experiment with rectangle updates based on slider events. There are two possible approaches to draw the rectangle:\n",
    "* A normal scatter trace with [mode='lines'](https://plotly.com/python/reference/scatter/#scatter-mode)\n",
    "* The shapes layer: [tutorial](https://plotly.com/python/shapes/) | [reference](https://plotly.com/python/reference/layout/shapes/)"
   ]
  },
  {
   "cell_type": "markdown",
   "metadata": {},
   "source": [
    "### Using a scatter trace with mode='lines'"
   ]
  },
  {
   "cell_type": "code",
   "execution_count": 10,
   "metadata": {},
   "outputs": [],
   "source": [
    "import sys, importlib\n",
    "sys.path.append('..')\n",
    "import torch\n",
    "from torch import nn, Tensor\n",
    "import torch.nn.functional as F\n",
    "import plotly.graph_objects as go\n",
    "import numpy as np\n",
    "from idlmav import MAV, color_graph_nodes, FigureRenderer\n",
    "\n",
    "def reload_imports():\n",
    "    importlib.reload(sys.modules['idlmav.renderers.figure_renderer'])\n",
    "    importlib.reload(sys.modules['idlmav.tracing'])\n",
    "    importlib.reload(sys.modules['idlmav.layout'])\n",
    "    importlib.reload(sys.modules['idlmav.idlmav'])\n",
    "    importlib.reload(sys.modules['idlmav'])\n",
    "    global MAV, FigureRenderer\n",
    "    from idlmav import MAV, FigureRenderer"
   ]
  },
  {
   "cell_type": "code",
   "execution_count": 11,
   "metadata": {},
   "outputs": [],
   "source": [
    "class MnistCnn(nn.Module):\n",
    "    def __init__(self):\n",
    "        super().__init__()\n",
    "        self.conv1 = nn.Conv2d(1, 32, 3, 1)\n",
    "        self.conv2 = nn.Conv2d(32, 64, 3, 1)\n",
    "        self.dropout1 = nn.Dropout(0.25)\n",
    "        self.dropout2 = nn.Dropout(0.5)\n",
    "        self.fc1 = nn.Linear(9216, 128)\n",
    "        self.fc2 = nn.Linear(128, 10)\n",
    "\n",
    "    def forward(self, x):\n",
    "        x = self.conv1(x)\n",
    "        x = F.relu(x)\n",
    "        x = self.conv2(x)\n",
    "        x = F.relu(x)\n",
    "        x = F.max_pool2d(x, 2)\n",
    "        x = self.dropout1(x)\n",
    "        x = torch.flatten(x, 1)\n",
    "        x = self.fc1(x)\n",
    "        x = F.relu(x)\n",
    "        x = self.dropout2(x)\n",
    "        x = self.fc2(x)\n",
    "        output = F.log_softmax(x, dim=1)\n",
    "        return output\n",
    "    \n",
    "model = MnistCnn()\n",
    "inputs = torch.randn((16,1,28,28))\n",
    "mav = MAV(model, inputs)\n",
    "color_graph_nodes(mav.tracer.g)"
   ]
  },
  {
   "cell_type": "code",
   "execution_count": null,
   "metadata": {},
   "outputs": [
    {
     "data": {
      "text/html": [
       "        <script type=\"text/javascript\">\n",
       "        window.PlotlyConfig = {MathJaxConfig: 'local'};\n",
       "        if (window.MathJax && window.MathJax.Hub && window.MathJax.Hub.Config) {window.MathJax.Hub.Config({SVG: {font: \"STIX-Web\"}});}\n",
       "        if (typeof require !== 'undefined') {\n",
       "        require.undef(\"plotly\");\n",
       "        requirejs.config({\n",
       "            paths: {\n",
       "                'plotly': ['https://cdn.plot.ly/plotly-2.35.2.min']\n",
       "            }\n",
       "        });\n",
       "        require(['plotly'], function(Plotly) {\n",
       "            window._Plotly = Plotly;\n",
       "        });\n",
       "        }\n",
       "        </script>\n",
       "        "
      ]
     },
     "metadata": {},
     "output_type": "display_data"
    },
    {
     "data": {
      "text/html": [
       "<div>                            <div id=\"848c9d4f-c554-4e96-92cf-73a8ce9b69f8\" class=\"plotly-graph-div\" style=\"height:300px; width:500px;\"></div>            <script type=\"text/javascript\">                require([\"plotly\"], function(Plotly) {                    window.PLOTLYENV=window.PLOTLYENV || {};                                    if (document.getElementById(\"848c9d4f-c554-4e96-92cf-73a8ce9b69f8\")) {                    Plotly.newPlot(                        \"848c9d4f-c554-4e96-92cf-73a8ce9b69f8\",                        [{\"customdata\":[[\"x\",\"input\",\"(16,1,28,28)\",\"0\",\"0\",\"()\",\"{}\"],[\"conv1\",\"nn.Conv2d\",\"(16,32,26,26)\",\"320\",\"6 230 016\",\"(x,)\",\"{}\"],[\"relu\",\"relu()\",\"(16,32,26,26)\",\"0\",\"0\",\"(conv1,)\",\"{'inplace': False}\"],[\"conv2\",\"nn.Conv2d\",\"(16,64,24,24)\",\"18 496\",\"339 738 624\",\"(relu,)\",\"{}\"],[\"relu_1\",\"relu()\",\"(16,64,24,24)\",\"0\",\"0\",\"(conv2,)\",\"{'inplace': False}\"],[\"max_pool2d\",\"max_pool2d()\",\"(16,64,12,12)\",\"0\",\"0\",\"(relu_1, 2)\",\"{'stride': None, 'padding': 0, 'dilation': 1, 'ceil_mode': False, 'return_indices': False}\"],[\"dropout1\",\"nn.Dropout\",\"(16,64,12,12)\",\"0\",\"147 456\",\"(max_pool2d,)\",\"{}\"],[\"flatten\",\"flatten()\",\"(16,9216)\",\"0\",\"0\",\"(dropout1, 1)\",\"{}\"],[\"fc1\",\"nn.Linear\",\"(16,128)\",\"1 179 776\",\"37 748 736\",\"(flatten,)\",\"{}\"],[\"relu_2\",\"relu()\",\"(16,128)\",\"0\",\"0\",\"(fc1,)\",\"{'inplace': False}\"],[\"dropout2\",\"nn.Dropout\",\"(16,128)\",\"0\",\"2 048\",\"(relu_2,)\",\"{}\"],[\"fc2\",\"nn.Linear\",\"(16,10)\",\"1 290\",\"40 960\",\"(dropout2,)\",\"{}\"],[\"log_softmax\",\"log_softmax()\",\"(16,10)\",\"0\",\"0\",\"(fc2,)\",\"{'dim': 1, '_stacklevel': 3, 'dtype': None}\"],[\"output\",\"output\",\"(16,10)\",\"0\",\"0\",\"(log_softmax,)\",\"{}\"]],\"hovertemplate\":\"Name: %{customdata[0]}\\u003cbr\\u003eOperation: %{customdata[1]}\\u003cbr\\u003eActivations: %{customdata[2]}\\u003cbr\\u003eParameters: %{customdata[3]}\\u003cbr\\u003eFLOPS: %{customdata[4]}\\u003cbr\\u003e\\u003cbr\\u003eargs: %{customdata[5]}\\u003cbr\\u003ekwargs: %{customdata[6]}\\u003cbr\\u003e\\u003cextra\\u003e\\u003c\\u002fextra\\u003e\",\"marker\":{\"color\":[\"#222A2A\",\"#00A08B\",\"#1616A7\",\"#00A08B\",\"#1616A7\",\"#DA60CA\",\"#1CA71C\",\"#778AAE\",\"#2E91E5\",\"#1616A7\",\"#1CA71C\",\"#2E91E5\",\"#1616A7\",\"#222A2A\"],\"colorscale\":[[0.0,\"rgb(0,0,255)\"],[1.0,\"rgb(255,0,0)\"]],\"size\":[6.0,6.0,6.0,11.928009913453302,6.0,6.0,6.0,6.0,18.0,6.0,6.0,8.037003250024952,6.0,6.0]},\"mode\":\"markers\",\"showlegend\":false,\"x\":[0.0,0.0,0.0,0.0,0.0,0.0,0.0,0.0,0.0,0.0,0.0,0.0,0.0,0.0],\"y\":[0,1,1.15,2,2.15,2.3,2.45,2.6,3,3.15,3.3,4,4.15,5],\"type\":\"scatter\"},{\"line\":{\"color\":\"#000000\"},\"mode\":\"lines\",\"showlegend\":false,\"x\":[-0.1,-0.1,0.1,0.1,-0.1],\"y\":[0,1,1,0,0],\"type\":\"scatter\"}],                        {\"height\":300,\"margin\":{\"b\":0,\"l\":0,\"r\":0,\"t\":0},\"width\":500,\"template\":{\"data\":{\"histogram2dcontour\":[{\"type\":\"histogram2dcontour\",\"colorbar\":{\"outlinewidth\":0,\"ticks\":\"\"},\"colorscale\":[[0.0,\"#0d0887\"],[0.1111111111111111,\"#46039f\"],[0.2222222222222222,\"#7201a8\"],[0.3333333333333333,\"#9c179e\"],[0.4444444444444444,\"#bd3786\"],[0.5555555555555556,\"#d8576b\"],[0.6666666666666666,\"#ed7953\"],[0.7777777777777778,\"#fb9f3a\"],[0.8888888888888888,\"#fdca26\"],[1.0,\"#f0f921\"]]}],\"choropleth\":[{\"type\":\"choropleth\",\"colorbar\":{\"outlinewidth\":0,\"ticks\":\"\"}}],\"histogram2d\":[{\"type\":\"histogram2d\",\"colorbar\":{\"outlinewidth\":0,\"ticks\":\"\"},\"colorscale\":[[0.0,\"#0d0887\"],[0.1111111111111111,\"#46039f\"],[0.2222222222222222,\"#7201a8\"],[0.3333333333333333,\"#9c179e\"],[0.4444444444444444,\"#bd3786\"],[0.5555555555555556,\"#d8576b\"],[0.6666666666666666,\"#ed7953\"],[0.7777777777777778,\"#fb9f3a\"],[0.8888888888888888,\"#fdca26\"],[1.0,\"#f0f921\"]]}],\"heatmap\":[{\"type\":\"heatmap\",\"colorbar\":{\"outlinewidth\":0,\"ticks\":\"\"},\"colorscale\":[[0.0,\"#0d0887\"],[0.1111111111111111,\"#46039f\"],[0.2222222222222222,\"#7201a8\"],[0.3333333333333333,\"#9c179e\"],[0.4444444444444444,\"#bd3786\"],[0.5555555555555556,\"#d8576b\"],[0.6666666666666666,\"#ed7953\"],[0.7777777777777778,\"#fb9f3a\"],[0.8888888888888888,\"#fdca26\"],[1.0,\"#f0f921\"]]}],\"heatmapgl\":[{\"type\":\"heatmapgl\",\"colorbar\":{\"outlinewidth\":0,\"ticks\":\"\"},\"colorscale\":[[0.0,\"#0d0887\"],[0.1111111111111111,\"#46039f\"],[0.2222222222222222,\"#7201a8\"],[0.3333333333333333,\"#9c179e\"],[0.4444444444444444,\"#bd3786\"],[0.5555555555555556,\"#d8576b\"],[0.6666666666666666,\"#ed7953\"],[0.7777777777777778,\"#fb9f3a\"],[0.8888888888888888,\"#fdca26\"],[1.0,\"#f0f921\"]]}],\"contourcarpet\":[{\"type\":\"contourcarpet\",\"colorbar\":{\"outlinewidth\":0,\"ticks\":\"\"}}],\"contour\":[{\"type\":\"contour\",\"colorbar\":{\"outlinewidth\":0,\"ticks\":\"\"},\"colorscale\":[[0.0,\"#0d0887\"],[0.1111111111111111,\"#46039f\"],[0.2222222222222222,\"#7201a8\"],[0.3333333333333333,\"#9c179e\"],[0.4444444444444444,\"#bd3786\"],[0.5555555555555556,\"#d8576b\"],[0.6666666666666666,\"#ed7953\"],[0.7777777777777778,\"#fb9f3a\"],[0.8888888888888888,\"#fdca26\"],[1.0,\"#f0f921\"]]}],\"surface\":[{\"type\":\"surface\",\"colorbar\":{\"outlinewidth\":0,\"ticks\":\"\"},\"colorscale\":[[0.0,\"#0d0887\"],[0.1111111111111111,\"#46039f\"],[0.2222222222222222,\"#7201a8\"],[0.3333333333333333,\"#9c179e\"],[0.4444444444444444,\"#bd3786\"],[0.5555555555555556,\"#d8576b\"],[0.6666666666666666,\"#ed7953\"],[0.7777777777777778,\"#fb9f3a\"],[0.8888888888888888,\"#fdca26\"],[1.0,\"#f0f921\"]]}],\"mesh3d\":[{\"type\":\"mesh3d\",\"colorbar\":{\"outlinewidth\":0,\"ticks\":\"\"}}],\"scatter\":[{\"fillpattern\":{\"fillmode\":\"overlay\",\"size\":10,\"solidity\":0.2},\"type\":\"scatter\"}],\"parcoords\":[{\"type\":\"parcoords\",\"line\":{\"colorbar\":{\"outlinewidth\":0,\"ticks\":\"\"}}}],\"scatterpolargl\":[{\"type\":\"scatterpolargl\",\"marker\":{\"colorbar\":{\"outlinewidth\":0,\"ticks\":\"\"}}}],\"bar\":[{\"error_x\":{\"color\":\"#2a3f5f\"},\"error_y\":{\"color\":\"#2a3f5f\"},\"marker\":{\"line\":{\"color\":\"#E5ECF6\",\"width\":0.5},\"pattern\":{\"fillmode\":\"overlay\",\"size\":10,\"solidity\":0.2}},\"type\":\"bar\"}],\"scattergeo\":[{\"type\":\"scattergeo\",\"marker\":{\"colorbar\":{\"outlinewidth\":0,\"ticks\":\"\"}}}],\"scatterpolar\":[{\"type\":\"scatterpolar\",\"marker\":{\"colorbar\":{\"outlinewidth\":0,\"ticks\":\"\"}}}],\"histogram\":[{\"marker\":{\"pattern\":{\"fillmode\":\"overlay\",\"size\":10,\"solidity\":0.2}},\"type\":\"histogram\"}],\"scattergl\":[{\"type\":\"scattergl\",\"marker\":{\"colorbar\":{\"outlinewidth\":0,\"ticks\":\"\"}}}],\"scatter3d\":[{\"type\":\"scatter3d\",\"line\":{\"colorbar\":{\"outlinewidth\":0,\"ticks\":\"\"}},\"marker\":{\"colorbar\":{\"outlinewidth\":0,\"ticks\":\"\"}}}],\"scattermapbox\":[{\"type\":\"scattermapbox\",\"marker\":{\"colorbar\":{\"outlinewidth\":0,\"ticks\":\"\"}}}],\"scatterternary\":[{\"type\":\"scatterternary\",\"marker\":{\"colorbar\":{\"outlinewidth\":0,\"ticks\":\"\"}}}],\"scattercarpet\":[{\"type\":\"scattercarpet\",\"marker\":{\"colorbar\":{\"outlinewidth\":0,\"ticks\":\"\"}}}],\"carpet\":[{\"aaxis\":{\"endlinecolor\":\"#2a3f5f\",\"gridcolor\":\"white\",\"linecolor\":\"white\",\"minorgridcolor\":\"white\",\"startlinecolor\":\"#2a3f5f\"},\"baxis\":{\"endlinecolor\":\"#2a3f5f\",\"gridcolor\":\"white\",\"linecolor\":\"white\",\"minorgridcolor\":\"white\",\"startlinecolor\":\"#2a3f5f\"},\"type\":\"carpet\"}],\"table\":[{\"cells\":{\"fill\":{\"color\":\"#EBF0F8\"},\"line\":{\"color\":\"white\"}},\"header\":{\"fill\":{\"color\":\"#C8D4E3\"},\"line\":{\"color\":\"white\"}},\"type\":\"table\"}],\"barpolar\":[{\"marker\":{\"line\":{\"color\":\"#E5ECF6\",\"width\":0.5},\"pattern\":{\"fillmode\":\"overlay\",\"size\":10,\"solidity\":0.2}},\"type\":\"barpolar\"}],\"pie\":[{\"automargin\":true,\"type\":\"pie\"}]},\"layout\":{\"autotypenumbers\":\"strict\",\"colorway\":[\"#636efa\",\"#EF553B\",\"#00cc96\",\"#ab63fa\",\"#FFA15A\",\"#19d3f3\",\"#FF6692\",\"#B6E880\",\"#FF97FF\",\"#FECB52\"],\"font\":{\"color\":\"#2a3f5f\"},\"hovermode\":\"closest\",\"hoverlabel\":{\"align\":\"left\"},\"paper_bgcolor\":\"white\",\"plot_bgcolor\":\"#E5ECF6\",\"polar\":{\"bgcolor\":\"#E5ECF6\",\"angularaxis\":{\"gridcolor\":\"white\",\"linecolor\":\"white\",\"ticks\":\"\"},\"radialaxis\":{\"gridcolor\":\"white\",\"linecolor\":\"white\",\"ticks\":\"\"}},\"ternary\":{\"bgcolor\":\"#E5ECF6\",\"aaxis\":{\"gridcolor\":\"white\",\"linecolor\":\"white\",\"ticks\":\"\"},\"baxis\":{\"gridcolor\":\"white\",\"linecolor\":\"white\",\"ticks\":\"\"},\"caxis\":{\"gridcolor\":\"white\",\"linecolor\":\"white\",\"ticks\":\"\"}},\"coloraxis\":{\"colorbar\":{\"outlinewidth\":0,\"ticks\":\"\"}},\"colorscale\":{\"sequential\":[[0.0,\"#0d0887\"],[0.1111111111111111,\"#46039f\"],[0.2222222222222222,\"#7201a8\"],[0.3333333333333333,\"#9c179e\"],[0.4444444444444444,\"#bd3786\"],[0.5555555555555556,\"#d8576b\"],[0.6666666666666666,\"#ed7953\"],[0.7777777777777778,\"#fb9f3a\"],[0.8888888888888888,\"#fdca26\"],[1.0,\"#f0f921\"]],\"sequentialminus\":[[0.0,\"#0d0887\"],[0.1111111111111111,\"#46039f\"],[0.2222222222222222,\"#7201a8\"],[0.3333333333333333,\"#9c179e\"],[0.4444444444444444,\"#bd3786\"],[0.5555555555555556,\"#d8576b\"],[0.6666666666666666,\"#ed7953\"],[0.7777777777777778,\"#fb9f3a\"],[0.8888888888888888,\"#fdca26\"],[1.0,\"#f0f921\"]],\"diverging\":[[0,\"#8e0152\"],[0.1,\"#c51b7d\"],[0.2,\"#de77ae\"],[0.3,\"#f1b6da\"],[0.4,\"#fde0ef\"],[0.5,\"#f7f7f7\"],[0.6,\"#e6f5d0\"],[0.7,\"#b8e186\"],[0.8,\"#7fbc41\"],[0.9,\"#4d9221\"],[1,\"#276419\"]]},\"xaxis\":{\"gridcolor\":\"white\",\"linecolor\":\"white\",\"ticks\":\"\",\"title\":{\"standoff\":15},\"zerolinecolor\":\"white\",\"automargin\":true,\"zerolinewidth\":2},\"yaxis\":{\"gridcolor\":\"white\",\"linecolor\":\"white\",\"ticks\":\"\",\"title\":{\"standoff\":15},\"zerolinecolor\":\"white\",\"automargin\":true,\"zerolinewidth\":2},\"scene\":{\"xaxis\":{\"backgroundcolor\":\"#E5ECF6\",\"gridcolor\":\"white\",\"linecolor\":\"white\",\"showbackground\":true,\"ticks\":\"\",\"zerolinecolor\":\"white\",\"gridwidth\":2},\"yaxis\":{\"backgroundcolor\":\"#E5ECF6\",\"gridcolor\":\"white\",\"linecolor\":\"white\",\"showbackground\":true,\"ticks\":\"\",\"zerolinecolor\":\"white\",\"gridwidth\":2},\"zaxis\":{\"backgroundcolor\":\"#E5ECF6\",\"gridcolor\":\"white\",\"linecolor\":\"white\",\"showbackground\":true,\"ticks\":\"\",\"zerolinecolor\":\"white\",\"gridwidth\":2}},\"shapedefaults\":{\"line\":{\"color\":\"#2a3f5f\"}},\"annotationdefaults\":{\"arrowcolor\":\"#2a3f5f\",\"arrowhead\":0,\"arrowwidth\":1},\"geo\":{\"bgcolor\":\"white\",\"landcolor\":\"#E5ECF6\",\"subunitcolor\":\"white\",\"showland\":true,\"showlakes\":true,\"lakecolor\":\"white\"},\"title\":{\"x\":0.05},\"mapbox\":{\"style\":\"light\"}}},\"xaxis\":{\"showgrid\":false,\"zeroline\":false,\"tickmode\":\"array\",\"tickvals\":[],\"range\":[-1,1]},\"yaxis\":{\"showgrid\":false,\"zeroline\":false,\"tickmode\":\"array\",\"tickvals\":[]}},                        {\"responsive\": true}                    ).then(function(){\n",
       "                            \n",
       "var gd = document.getElementById('848c9d4f-c554-4e96-92cf-73a8ce9b69f8');\n",
       "var x = new MutationObserver(function (mutations, observer) {{\n",
       "        var display = window.getComputedStyle(gd).display;\n",
       "        if (!display || display === 'none') {{\n",
       "            console.log([gd, 'removed!']);\n",
       "            Plotly.purge(gd);\n",
       "            observer.disconnect();\n",
       "        }}\n",
       "}});\n",
       "\n",
       "// Listen for the removal of the full notebook cells\n",
       "var notebookContainer = gd.closest('#notebook-container');\n",
       "if (notebookContainer) {{\n",
       "    x.observe(notebookContainer, {childList: true});\n",
       "}}\n",
       "\n",
       "// Listen for the clearing of the current output cell\n",
       "var outputEl = gd.closest('.output');\n",
       "if (outputEl) {{\n",
       "    x.observe(outputEl, {childList: true});\n",
       "}}\n",
       "\n",
       "                        })                };                });            </script>        </div>"
      ]
     },
     "metadata": {},
     "output_type": "display_data"
    }
   ],
   "source": [
    "g = mav.tracer.g\n",
    "renderer = FigureRenderer(g)  # For helper functions e.g. \"params_to_dot_size\"\n",
    "fig = go.Figure(layout=dict(width=500, height=300, margin=dict(l=0, r=0, t=0, b=0)))\n",
    "\n",
    "node_trace = go.Scatter(\n",
    "    x=[n.x for n in g.nodes], \n",
    "    y=[n.y for n in g.nodes], \n",
    "    mode='markers', \n",
    "    marker=dict(\n",
    "        size=[renderer.params_to_dot_size(n.params) for n in g.nodes],\n",
    "        color=[renderer.get_node_color(n) for n in g.nodes],\n",
    "        colorscale='Bluered'\n",
    "    ),\n",
    "    hovertemplate=(\n",
    "        'Name: %{customdata[0]}<br>' +\n",
    "        'Operation: %{customdata[1]}<br>' +\n",
    "        'Activations: %{customdata[2]}<br>' +\n",
    "        'Parameters: %{customdata[3]}<br>' +\n",
    "        'FLOPS: %{customdata[4]}<br>' +\n",
    "        '<br>' +\n",
    "        'args: %{customdata[5]}<br>' +\n",
    "        'kwargs: %{customdata[6]}<br>' +\n",
    "        '<extra></extra>'\n",
    "    ),\n",
    "    customdata=[renderer.node_data(n) + renderer.node_arg_data(n) for n in g.nodes],\n",
    "    showlegend=False\n",
    ")\n",
    "fig.add_trace(node_trace)\n",
    "\n",
    "box_trace = go.Scatter(\n",
    "    x=[-0.1,-0.1,0.1,0.1,-0.1], y=[0,1,1,0,0],\n",
    "    mode='lines',\n",
    "    line=dict(color='#000000'),\n",
    "    showlegend=False\n",
    ")\n",
    "fig.add_trace(box_trace)\n",
    "\n",
    "fig.update_xaxes(showgrid=False, zeroline=False, tickmode='array', tickvals=[], range=[-1,1])\n",
    "fig.update_yaxes(showgrid=False, zeroline=False, tickmode='array', tickvals=[])\n",
    "\n",
    "fig.show(renderer='notebook_connected')"
   ]
  },
  {
   "cell_type": "code",
   "execution_count": 13,
   "metadata": {},
   "outputs": [
    {
     "data": {
      "text/html": [
       "        <script type=\"text/javascript\">\n",
       "        window.PlotlyConfig = {MathJaxConfig: 'local'};\n",
       "        if (window.MathJax && window.MathJax.Hub && window.MathJax.Hub.Config) {window.MathJax.Hub.Config({SVG: {font: \"STIX-Web\"}});}\n",
       "        if (typeof require !== 'undefined') {\n",
       "        require.undef(\"plotly\");\n",
       "        requirejs.config({\n",
       "            paths: {\n",
       "                'plotly': ['https://cdn.plot.ly/plotly-2.35.2.min']\n",
       "            }\n",
       "        });\n",
       "        require(['plotly'], function(Plotly) {\n",
       "            window._Plotly = Plotly;\n",
       "        });\n",
       "        }\n",
       "        </script>\n",
       "        "
      ]
     },
     "metadata": {},
     "output_type": "display_data"
    },
    {
     "data": {
      "text/html": [
       "<div>                            <div id=\"cb06cdbc-e0ee-4fc6-bf37-66c7eb508718\" class=\"plotly-graph-div\" style=\"height:300px; width:500px;\"></div>            <script type=\"text/javascript\">                require([\"plotly\"], function(Plotly) {                    window.PLOTLYENV=window.PLOTLYENV || {};                                    if (document.getElementById(\"cb06cdbc-e0ee-4fc6-bf37-66c7eb508718\")) {                    Plotly.newPlot(                        \"cb06cdbc-e0ee-4fc6-bf37-66c7eb508718\",                        [{\"customdata\":[[\"x\",\"input\",\"(16,1,28,28)\",\"0\",\"0\",\"()\",\"{}\"],[\"conv1\",\"nn.Conv2d\",\"(16,32,26,26)\",\"320\",\"6 230 016\",\"(x,)\",\"{}\"],[\"relu\",\"relu()\",\"(16,32,26,26)\",\"0\",\"0\",\"(conv1,)\",\"{'inplace': False}\"],[\"conv2\",\"nn.Conv2d\",\"(16,64,24,24)\",\"18 496\",\"339 738 624\",\"(relu,)\",\"{}\"],[\"relu_1\",\"relu()\",\"(16,64,24,24)\",\"0\",\"0\",\"(conv2,)\",\"{'inplace': False}\"],[\"max_pool2d\",\"max_pool2d()\",\"(16,64,12,12)\",\"0\",\"0\",\"(relu_1, 2)\",\"{'stride': None, 'padding': 0, 'dilation': 1, 'ceil_mode': False, 'return_indices': False}\"],[\"dropout1\",\"nn.Dropout\",\"(16,64,12,12)\",\"0\",\"147 456\",\"(max_pool2d,)\",\"{}\"],[\"flatten\",\"flatten()\",\"(16,9216)\",\"0\",\"0\",\"(dropout1, 1)\",\"{}\"],[\"fc1\",\"nn.Linear\",\"(16,128)\",\"1 179 776\",\"37 748 736\",\"(flatten,)\",\"{}\"],[\"relu_2\",\"relu()\",\"(16,128)\",\"0\",\"0\",\"(fc1,)\",\"{'inplace': False}\"],[\"dropout2\",\"nn.Dropout\",\"(16,128)\",\"0\",\"2 048\",\"(relu_2,)\",\"{}\"],[\"fc2\",\"nn.Linear\",\"(16,10)\",\"1 290\",\"40 960\",\"(dropout2,)\",\"{}\"],[\"log_softmax\",\"log_softmax()\",\"(16,10)\",\"0\",\"0\",\"(fc2,)\",\"{'dim': 1, '_stacklevel': 3, 'dtype': None}\"],[\"output\",\"output\",\"(16,10)\",\"0\",\"0\",\"(log_softmax,)\",\"{}\"]],\"hovertemplate\":\"Name: %{customdata[0]}\\u003cbr\\u003eOperation: %{customdata[1]}\\u003cbr\\u003eActivations: %{customdata[2]}\\u003cbr\\u003eParameters: %{customdata[3]}\\u003cbr\\u003eFLOPS: %{customdata[4]}\\u003cbr\\u003e\\u003cbr\\u003eargs: %{customdata[5]}\\u003cbr\\u003ekwargs: %{customdata[6]}\\u003cbr\\u003e\\u003cextra\\u003e\\u003c\\u002fextra\\u003e\",\"marker\":{\"color\":[\"#222A2A\",\"#00A08B\",\"#1616A7\",\"#00A08B\",\"#1616A7\",\"#DA60CA\",\"#1CA71C\",\"#778AAE\",\"#2E91E5\",\"#1616A7\",\"#1CA71C\",\"#2E91E5\",\"#1616A7\",\"#222A2A\"],\"colorscale\":[[0.0,\"rgb(0,0,255)\"],[1.0,\"rgb(255,0,0)\"]],\"size\":[6.0,6.0,6.0,11.928009913453302,6.0,6.0,6.0,6.0,18.0,6.0,6.0,8.037003250024952,6.0,6.0]},\"mode\":\"markers\",\"showlegend\":false,\"x\":[0.0,0.0,0.0,0.0,0.0,0.0,0.0,0.0,0.0,0.0,0.0,0.0,0.0,0.0],\"y\":[0,1,1.15,2,2.15,2.3,2.45,2.6,3,3.15,3.3,4,4.15,5],\"type\":\"scatter\"},{\"line\":{\"color\":\"#000000\"},\"mode\":\"lines\",\"showlegend\":false,\"x\":[-0.1,-0.1,0.1,0.1,-0.1],\"y\":[0,1,1,0,0],\"type\":\"scatter\"}],                        {\"height\":300,\"margin\":{\"b\":0,\"l\":0,\"r\":0,\"t\":0},\"width\":500,\"template\":{\"data\":{\"histogram2dcontour\":[{\"type\":\"histogram2dcontour\",\"colorbar\":{\"outlinewidth\":0,\"ticks\":\"\"},\"colorscale\":[[0.0,\"#0d0887\"],[0.1111111111111111,\"#46039f\"],[0.2222222222222222,\"#7201a8\"],[0.3333333333333333,\"#9c179e\"],[0.4444444444444444,\"#bd3786\"],[0.5555555555555556,\"#d8576b\"],[0.6666666666666666,\"#ed7953\"],[0.7777777777777778,\"#fb9f3a\"],[0.8888888888888888,\"#fdca26\"],[1.0,\"#f0f921\"]]}],\"choropleth\":[{\"type\":\"choropleth\",\"colorbar\":{\"outlinewidth\":0,\"ticks\":\"\"}}],\"histogram2d\":[{\"type\":\"histogram2d\",\"colorbar\":{\"outlinewidth\":0,\"ticks\":\"\"},\"colorscale\":[[0.0,\"#0d0887\"],[0.1111111111111111,\"#46039f\"],[0.2222222222222222,\"#7201a8\"],[0.3333333333333333,\"#9c179e\"],[0.4444444444444444,\"#bd3786\"],[0.5555555555555556,\"#d8576b\"],[0.6666666666666666,\"#ed7953\"],[0.7777777777777778,\"#fb9f3a\"],[0.8888888888888888,\"#fdca26\"],[1.0,\"#f0f921\"]]}],\"heatmap\":[{\"type\":\"heatmap\",\"colorbar\":{\"outlinewidth\":0,\"ticks\":\"\"},\"colorscale\":[[0.0,\"#0d0887\"],[0.1111111111111111,\"#46039f\"],[0.2222222222222222,\"#7201a8\"],[0.3333333333333333,\"#9c179e\"],[0.4444444444444444,\"#bd3786\"],[0.5555555555555556,\"#d8576b\"],[0.6666666666666666,\"#ed7953\"],[0.7777777777777778,\"#fb9f3a\"],[0.8888888888888888,\"#fdca26\"],[1.0,\"#f0f921\"]]}],\"heatmapgl\":[{\"type\":\"heatmapgl\",\"colorbar\":{\"outlinewidth\":0,\"ticks\":\"\"},\"colorscale\":[[0.0,\"#0d0887\"],[0.1111111111111111,\"#46039f\"],[0.2222222222222222,\"#7201a8\"],[0.3333333333333333,\"#9c179e\"],[0.4444444444444444,\"#bd3786\"],[0.5555555555555556,\"#d8576b\"],[0.6666666666666666,\"#ed7953\"],[0.7777777777777778,\"#fb9f3a\"],[0.8888888888888888,\"#fdca26\"],[1.0,\"#f0f921\"]]}],\"contourcarpet\":[{\"type\":\"contourcarpet\",\"colorbar\":{\"outlinewidth\":0,\"ticks\":\"\"}}],\"contour\":[{\"type\":\"contour\",\"colorbar\":{\"outlinewidth\":0,\"ticks\":\"\"},\"colorscale\":[[0.0,\"#0d0887\"],[0.1111111111111111,\"#46039f\"],[0.2222222222222222,\"#7201a8\"],[0.3333333333333333,\"#9c179e\"],[0.4444444444444444,\"#bd3786\"],[0.5555555555555556,\"#d8576b\"],[0.6666666666666666,\"#ed7953\"],[0.7777777777777778,\"#fb9f3a\"],[0.8888888888888888,\"#fdca26\"],[1.0,\"#f0f921\"]]}],\"surface\":[{\"type\":\"surface\",\"colorbar\":{\"outlinewidth\":0,\"ticks\":\"\"},\"colorscale\":[[0.0,\"#0d0887\"],[0.1111111111111111,\"#46039f\"],[0.2222222222222222,\"#7201a8\"],[0.3333333333333333,\"#9c179e\"],[0.4444444444444444,\"#bd3786\"],[0.5555555555555556,\"#d8576b\"],[0.6666666666666666,\"#ed7953\"],[0.7777777777777778,\"#fb9f3a\"],[0.8888888888888888,\"#fdca26\"],[1.0,\"#f0f921\"]]}],\"mesh3d\":[{\"type\":\"mesh3d\",\"colorbar\":{\"outlinewidth\":0,\"ticks\":\"\"}}],\"scatter\":[{\"fillpattern\":{\"fillmode\":\"overlay\",\"size\":10,\"solidity\":0.2},\"type\":\"scatter\"}],\"parcoords\":[{\"type\":\"parcoords\",\"line\":{\"colorbar\":{\"outlinewidth\":0,\"ticks\":\"\"}}}],\"scatterpolargl\":[{\"type\":\"scatterpolargl\",\"marker\":{\"colorbar\":{\"outlinewidth\":0,\"ticks\":\"\"}}}],\"bar\":[{\"error_x\":{\"color\":\"#2a3f5f\"},\"error_y\":{\"color\":\"#2a3f5f\"},\"marker\":{\"line\":{\"color\":\"#E5ECF6\",\"width\":0.5},\"pattern\":{\"fillmode\":\"overlay\",\"size\":10,\"solidity\":0.2}},\"type\":\"bar\"}],\"scattergeo\":[{\"type\":\"scattergeo\",\"marker\":{\"colorbar\":{\"outlinewidth\":0,\"ticks\":\"\"}}}],\"scatterpolar\":[{\"type\":\"scatterpolar\",\"marker\":{\"colorbar\":{\"outlinewidth\":0,\"ticks\":\"\"}}}],\"histogram\":[{\"marker\":{\"pattern\":{\"fillmode\":\"overlay\",\"size\":10,\"solidity\":0.2}},\"type\":\"histogram\"}],\"scattergl\":[{\"type\":\"scattergl\",\"marker\":{\"colorbar\":{\"outlinewidth\":0,\"ticks\":\"\"}}}],\"scatter3d\":[{\"type\":\"scatter3d\",\"line\":{\"colorbar\":{\"outlinewidth\":0,\"ticks\":\"\"}},\"marker\":{\"colorbar\":{\"outlinewidth\":0,\"ticks\":\"\"}}}],\"scattermapbox\":[{\"type\":\"scattermapbox\",\"marker\":{\"colorbar\":{\"outlinewidth\":0,\"ticks\":\"\"}}}],\"scatterternary\":[{\"type\":\"scatterternary\",\"marker\":{\"colorbar\":{\"outlinewidth\":0,\"ticks\":\"\"}}}],\"scattercarpet\":[{\"type\":\"scattercarpet\",\"marker\":{\"colorbar\":{\"outlinewidth\":0,\"ticks\":\"\"}}}],\"carpet\":[{\"aaxis\":{\"endlinecolor\":\"#2a3f5f\",\"gridcolor\":\"white\",\"linecolor\":\"white\",\"minorgridcolor\":\"white\",\"startlinecolor\":\"#2a3f5f\"},\"baxis\":{\"endlinecolor\":\"#2a3f5f\",\"gridcolor\":\"white\",\"linecolor\":\"white\",\"minorgridcolor\":\"white\",\"startlinecolor\":\"#2a3f5f\"},\"type\":\"carpet\"}],\"table\":[{\"cells\":{\"fill\":{\"color\":\"#EBF0F8\"},\"line\":{\"color\":\"white\"}},\"header\":{\"fill\":{\"color\":\"#C8D4E3\"},\"line\":{\"color\":\"white\"}},\"type\":\"table\"}],\"barpolar\":[{\"marker\":{\"line\":{\"color\":\"#E5ECF6\",\"width\":0.5},\"pattern\":{\"fillmode\":\"overlay\",\"size\":10,\"solidity\":0.2}},\"type\":\"barpolar\"}],\"pie\":[{\"automargin\":true,\"type\":\"pie\"}]},\"layout\":{\"autotypenumbers\":\"strict\",\"colorway\":[\"#636efa\",\"#EF553B\",\"#00cc96\",\"#ab63fa\",\"#FFA15A\",\"#19d3f3\",\"#FF6692\",\"#B6E880\",\"#FF97FF\",\"#FECB52\"],\"font\":{\"color\":\"#2a3f5f\"},\"hovermode\":\"closest\",\"hoverlabel\":{\"align\":\"left\"},\"paper_bgcolor\":\"white\",\"plot_bgcolor\":\"#E5ECF6\",\"polar\":{\"bgcolor\":\"#E5ECF6\",\"angularaxis\":{\"gridcolor\":\"white\",\"linecolor\":\"white\",\"ticks\":\"\"},\"radialaxis\":{\"gridcolor\":\"white\",\"linecolor\":\"white\",\"ticks\":\"\"}},\"ternary\":{\"bgcolor\":\"#E5ECF6\",\"aaxis\":{\"gridcolor\":\"white\",\"linecolor\":\"white\",\"ticks\":\"\"},\"baxis\":{\"gridcolor\":\"white\",\"linecolor\":\"white\",\"ticks\":\"\"},\"caxis\":{\"gridcolor\":\"white\",\"linecolor\":\"white\",\"ticks\":\"\"}},\"coloraxis\":{\"colorbar\":{\"outlinewidth\":0,\"ticks\":\"\"}},\"colorscale\":{\"sequential\":[[0.0,\"#0d0887\"],[0.1111111111111111,\"#46039f\"],[0.2222222222222222,\"#7201a8\"],[0.3333333333333333,\"#9c179e\"],[0.4444444444444444,\"#bd3786\"],[0.5555555555555556,\"#d8576b\"],[0.6666666666666666,\"#ed7953\"],[0.7777777777777778,\"#fb9f3a\"],[0.8888888888888888,\"#fdca26\"],[1.0,\"#f0f921\"]],\"sequentialminus\":[[0.0,\"#0d0887\"],[0.1111111111111111,\"#46039f\"],[0.2222222222222222,\"#7201a8\"],[0.3333333333333333,\"#9c179e\"],[0.4444444444444444,\"#bd3786\"],[0.5555555555555556,\"#d8576b\"],[0.6666666666666666,\"#ed7953\"],[0.7777777777777778,\"#fb9f3a\"],[0.8888888888888888,\"#fdca26\"],[1.0,\"#f0f921\"]],\"diverging\":[[0,\"#8e0152\"],[0.1,\"#c51b7d\"],[0.2,\"#de77ae\"],[0.3,\"#f1b6da\"],[0.4,\"#fde0ef\"],[0.5,\"#f7f7f7\"],[0.6,\"#e6f5d0\"],[0.7,\"#b8e186\"],[0.8,\"#7fbc41\"],[0.9,\"#4d9221\"],[1,\"#276419\"]]},\"xaxis\":{\"gridcolor\":\"white\",\"linecolor\":\"white\",\"ticks\":\"\",\"title\":{\"standoff\":15},\"zerolinecolor\":\"white\",\"automargin\":true,\"zerolinewidth\":2},\"yaxis\":{\"gridcolor\":\"white\",\"linecolor\":\"white\",\"ticks\":\"\",\"title\":{\"standoff\":15},\"zerolinecolor\":\"white\",\"automargin\":true,\"zerolinewidth\":2},\"scene\":{\"xaxis\":{\"backgroundcolor\":\"#E5ECF6\",\"gridcolor\":\"white\",\"linecolor\":\"white\",\"showbackground\":true,\"ticks\":\"\",\"zerolinecolor\":\"white\",\"gridwidth\":2},\"yaxis\":{\"backgroundcolor\":\"#E5ECF6\",\"gridcolor\":\"white\",\"linecolor\":\"white\",\"showbackground\":true,\"ticks\":\"\",\"zerolinecolor\":\"white\",\"gridwidth\":2},\"zaxis\":{\"backgroundcolor\":\"#E5ECF6\",\"gridcolor\":\"white\",\"linecolor\":\"white\",\"showbackground\":true,\"ticks\":\"\",\"zerolinecolor\":\"white\",\"gridwidth\":2}},\"shapedefaults\":{\"line\":{\"color\":\"#2a3f5f\"}},\"annotationdefaults\":{\"arrowcolor\":\"#2a3f5f\",\"arrowhead\":0,\"arrowwidth\":1},\"geo\":{\"bgcolor\":\"white\",\"landcolor\":\"#E5ECF6\",\"subunitcolor\":\"white\",\"showland\":true,\"showlakes\":true,\"lakecolor\":\"white\"},\"title\":{\"x\":0.05},\"mapbox\":{\"style\":\"light\"}}},\"xaxis\":{\"showgrid\":false,\"zeroline\":false,\"tickmode\":\"array\",\"tickvals\":[],\"range\":[-1,1]},\"yaxis\":{\"showgrid\":false,\"zeroline\":false,\"tickmode\":\"array\",\"tickvals\":[]},\"sliders\":[{\"active\":0,\"currentvalue\":{\"visible\":false},\"pad\":{\"b\":0,\"l\":0,\"r\":0,\"t\":10},\"steps\":[{\"args\":[{\"x\":[[0.0,0.0,0.0,0.0,0.0,0.0,0.0,0.0,0.0,0.0,0.0,0.0,0.0,0.0],[-0.1,-0.1,0.1,0.1,-0.1]],\"y\":[[0,1,1.15,2,2.15,2.3,2.45,2.6,3,3.15,3.3,4,4.15,5],[0.0,1.0,1.0,0.0,0.0]]}],\"label\":\"\",\"method\":\"restyle\"},{\"args\":[{\"x\":[[0.0,0.0,0.0,0.0,0.0,0.0,0.0,0.0,0.0,0.0,0.0,0.0,0.0,0.0],[-0.1,-0.1,0.1,0.1,-0.1]],\"y\":[[0,1,1.15,2,2.15,2.3,2.45,2.6,3,3.15,3.3,4,4.15,5],[0.2631578947368421,1.263157894736842,1.263157894736842,0.2631578947368421,0.2631578947368421]]}],\"label\":\"\",\"method\":\"restyle\"},{\"args\":[{\"x\":[[0.0,0.0,0.0,0.0,0.0,0.0,0.0,0.0,0.0,0.0,0.0,0.0,0.0,0.0],[-0.1,-0.1,0.1,0.1,-0.1]],\"y\":[[0,1,1.15,2,2.15,2.3,2.45,2.6,3,3.15,3.3,4,4.15,5],[0.5263157894736842,1.526315789473684,1.526315789473684,0.5263157894736842,0.5263157894736842]]}],\"label\":\"\",\"method\":\"restyle\"},{\"args\":[{\"x\":[[0.0,0.0,0.0,0.0,0.0,0.0,0.0,0.0,0.0,0.0,0.0,0.0,0.0,0.0],[-0.1,-0.1,0.1,0.1,-0.1]],\"y\":[[0,1,1.15,2,2.15,2.3,2.45,2.6,3,3.15,3.3,4,4.15,5],[0.7894736842105263,1.7894736842105263,1.7894736842105263,0.7894736842105263,0.7894736842105263]]}],\"label\":\"\",\"method\":\"restyle\"},{\"args\":[{\"x\":[[0.0,0.0,0.0,0.0,0.0,0.0,0.0,0.0,0.0,0.0,0.0,0.0,0.0,0.0],[-0.1,-0.1,0.1,0.1,-0.1]],\"y\":[[0,1,1.15,2,2.15,2.3,2.45,2.6,3,3.15,3.3,4,4.15,5],[1.0526315789473684,2.052631578947368,2.052631578947368,1.0526315789473684,1.0526315789473684]]}],\"label\":\"\",\"method\":\"restyle\"},{\"args\":[{\"x\":[[0.0,0.0,0.0,0.0,0.0,0.0,0.0,0.0,0.0,0.0,0.0,0.0,0.0,0.0],[-0.1,-0.1,0.1,0.1,-0.1]],\"y\":[[0,1,1.15,2,2.15,2.3,2.45,2.6,3,3.15,3.3,4,4.15,5],[1.3157894736842104,2.3157894736842106,2.3157894736842106,1.3157894736842104,1.3157894736842104]]}],\"label\":\"\",\"method\":\"restyle\"},{\"args\":[{\"x\":[[0.0,0.0,0.0,0.0,0.0,0.0,0.0,0.0,0.0,0.0,0.0,0.0,0.0,0.0],[-0.1,-0.1,0.1,0.1,-0.1]],\"y\":[[0,1,1.15,2,2.15,2.3,2.45,2.6,3,3.15,3.3,4,4.15,5],[1.5789473684210527,2.5789473684210527,2.5789473684210527,1.5789473684210527,1.5789473684210527]]}],\"label\":\"\",\"method\":\"restyle\"},{\"args\":[{\"x\":[[0.0,0.0,0.0,0.0,0.0,0.0,0.0,0.0,0.0,0.0,0.0,0.0,0.0,0.0],[-0.1,-0.1,0.1,0.1,-0.1]],\"y\":[[0,1,1.15,2,2.15,2.3,2.45,2.6,3,3.15,3.3,4,4.15,5],[1.8421052631578947,2.8421052631578947,2.8421052631578947,1.8421052631578947,1.8421052631578947]]}],\"label\":\"\",\"method\":\"restyle\"},{\"args\":[{\"x\":[[0.0,0.0,0.0,0.0,0.0,0.0,0.0,0.0,0.0,0.0,0.0,0.0,0.0,0.0],[-0.1,-0.1,0.1,0.1,-0.1]],\"y\":[[0,1,1.15,2,2.15,2.3,2.45,2.6,3,3.15,3.3,4,4.15,5],[2.1052631578947367,3.1052631578947367,3.1052631578947367,2.1052631578947367,2.1052631578947367]]}],\"label\":\"\",\"method\":\"restyle\"},{\"args\":[{\"x\":[[0.0,0.0,0.0,0.0,0.0,0.0,0.0,0.0,0.0,0.0,0.0,0.0,0.0,0.0],[-0.1,-0.1,0.1,0.1,-0.1]],\"y\":[[0,1,1.15,2,2.15,2.3,2.45,2.6,3,3.15,3.3,4,4.15,5],[2.3684210526315788,3.3684210526315788,3.3684210526315788,2.3684210526315788,2.3684210526315788]]}],\"label\":\"\",\"method\":\"restyle\"},{\"args\":[{\"x\":[[0.0,0.0,0.0,0.0,0.0,0.0,0.0,0.0,0.0,0.0,0.0,0.0,0.0,0.0],[-0.1,-0.1,0.1,0.1,-0.1]],\"y\":[[0,1,1.15,2,2.15,2.3,2.45,2.6,3,3.15,3.3,4,4.15,5],[2.631578947368421,3.631578947368421,3.631578947368421,2.631578947368421,2.631578947368421]]}],\"label\":\"\",\"method\":\"restyle\"},{\"args\":[{\"x\":[[0.0,0.0,0.0,0.0,0.0,0.0,0.0,0.0,0.0,0.0,0.0,0.0,0.0,0.0],[-0.1,-0.1,0.1,0.1,-0.1]],\"y\":[[0,1,1.15,2,2.15,2.3,2.45,2.6,3,3.15,3.3,4,4.15,5],[2.894736842105263,3.894736842105263,3.894736842105263,2.894736842105263,2.894736842105263]]}],\"label\":\"\",\"method\":\"restyle\"},{\"args\":[{\"x\":[[0.0,0.0,0.0,0.0,0.0,0.0,0.0,0.0,0.0,0.0,0.0,0.0,0.0,0.0],[-0.1,-0.1,0.1,0.1,-0.1]],\"y\":[[0,1,1.15,2,2.15,2.3,2.45,2.6,3,3.15,3.3,4,4.15,5],[3.1578947368421053,4.157894736842105,4.157894736842105,3.1578947368421053,3.1578947368421053]]}],\"label\":\"\",\"method\":\"restyle\"},{\"args\":[{\"x\":[[0.0,0.0,0.0,0.0,0.0,0.0,0.0,0.0,0.0,0.0,0.0,0.0,0.0,0.0],[-0.1,-0.1,0.1,0.1,-0.1]],\"y\":[[0,1,1.15,2,2.15,2.3,2.45,2.6,3,3.15,3.3,4,4.15,5],[3.4210526315789473,4.421052631578947,4.421052631578947,3.4210526315789473,3.4210526315789473]]}],\"label\":\"\",\"method\":\"restyle\"},{\"args\":[{\"x\":[[0.0,0.0,0.0,0.0,0.0,0.0,0.0,0.0,0.0,0.0,0.0,0.0,0.0,0.0],[-0.1,-0.1,0.1,0.1,-0.1]],\"y\":[[0,1,1.15,2,2.15,2.3,2.45,2.6,3,3.15,3.3,4,4.15,5],[3.6842105263157894,4.684210526315789,4.684210526315789,3.6842105263157894,3.6842105263157894]]}],\"label\":\"\",\"method\":\"restyle\"},{\"args\":[{\"x\":[[0.0,0.0,0.0,0.0,0.0,0.0,0.0,0.0,0.0,0.0,0.0,0.0,0.0,0.0],[-0.1,-0.1,0.1,0.1,-0.1]],\"y\":[[0,1,1.15,2,2.15,2.3,2.45,2.6,3,3.15,3.3,4,4.15,5],[3.9473684210526314,4.947368421052632,4.947368421052632,3.9473684210526314,3.9473684210526314]]}],\"label\":\"\",\"method\":\"restyle\"},{\"args\":[{\"x\":[[0.0,0.0,0.0,0.0,0.0,0.0,0.0,0.0,0.0,0.0,0.0,0.0,0.0,0.0],[-0.1,-0.1,0.1,0.1,-0.1]],\"y\":[[0,1,1.15,2,2.15,2.3,2.45,2.6,3,3.15,3.3,4,4.15,5],[4.2105263157894735,5.2105263157894735,5.2105263157894735,4.2105263157894735,4.2105263157894735]]}],\"label\":\"\",\"method\":\"restyle\"},{\"args\":[{\"x\":[[0.0,0.0,0.0,0.0,0.0,0.0,0.0,0.0,0.0,0.0,0.0,0.0,0.0,0.0],[-0.1,-0.1,0.1,0.1,-0.1]],\"y\":[[0,1,1.15,2,2.15,2.3,2.45,2.6,3,3.15,3.3,4,4.15,5],[4.473684210526316,5.473684210526316,5.473684210526316,4.473684210526316,4.473684210526316]]}],\"label\":\"\",\"method\":\"restyle\"},{\"args\":[{\"x\":[[0.0,0.0,0.0,0.0,0.0,0.0,0.0,0.0,0.0,0.0,0.0,0.0,0.0,0.0],[-0.1,-0.1,0.1,0.1,-0.1]],\"y\":[[0,1,1.15,2,2.15,2.3,2.45,2.6,3,3.15,3.3,4,4.15,5],[4.7368421052631575,5.7368421052631575,5.7368421052631575,4.7368421052631575,4.7368421052631575]]}],\"label\":\"\",\"method\":\"restyle\"},{\"args\":[{\"x\":[[0.0,0.0,0.0,0.0,0.0,0.0,0.0,0.0,0.0,0.0,0.0,0.0,0.0,0.0],[-0.1,-0.1,0.1,0.1,-0.1]],\"y\":[[0,1,1.15,2,2.15,2.3,2.45,2.6,3,3.15,3.3,4,4.15,5],[5.0,6.0,6.0,5.0,5.0]]}],\"label\":\"\",\"method\":\"restyle\"}],\"x\":0,\"xanchor\":\"left\",\"y\":0,\"yanchor\":\"top\"}]},                        {\"responsive\": true}                    ).then(function(){\n",
       "                            \n",
       "var gd = document.getElementById('cb06cdbc-e0ee-4fc6-bf37-66c7eb508718');\n",
       "var x = new MutationObserver(function (mutations, observer) {{\n",
       "        var display = window.getComputedStyle(gd).display;\n",
       "        if (!display || display === 'none') {{\n",
       "            console.log([gd, 'removed!']);\n",
       "            Plotly.purge(gd);\n",
       "            observer.disconnect();\n",
       "        }}\n",
       "}});\n",
       "\n",
       "// Listen for the removal of the full notebook cells\n",
       "var notebookContainer = gd.closest('#notebook-container');\n",
       "if (notebookContainer) {{\n",
       "    x.observe(notebookContainer, {childList: true});\n",
       "}}\n",
       "\n",
       "// Listen for the clearing of the current output cell\n",
       "var outputEl = gd.closest('.output');\n",
       "if (outputEl) {{\n",
       "    x.observe(outputEl, {childList: true});\n",
       "}}\n",
       "\n",
       "                        })                };                });            </script>        </div>"
      ]
     },
     "metadata": {},
     "output_type": "display_data"
    }
   ],
   "source": [
    "steps = []\n",
    "for i in np.linspace(0, max([n.y for n in g.nodes]), 20):\n",
    "    step = dict(\n",
    "        method=\"restyle\",\n",
    "        args=[dict(\n",
    "            x=[[n.x for n in g.nodes],[-0.1,-0.1,0.1,0.1,-0.1]], \n",
    "            y=[[n.y for n in g.nodes],[i,i+1,i+1,i,i]], \n",
    "        )],\n",
    "        label=\"\",\n",
    "    )\n",
    "    steps.append(step)\n",
    "\n",
    "fig.update_layout(\n",
    "    sliders=[dict(\n",
    "        steps=steps,\n",
    "        active=0,\n",
    "        currentvalue={\"visible\": False},\n",
    "        pad=dict(t=10, l=0, b=0, r=0),\n",
    "        x=0, xanchor=\"left\",\n",
    "        y=0, yanchor=\"top\"\n",
    "    )],\n",
    "    margin=dict(l=0, r=0, t=0, b=0)\n",
    ")\n",
    "fig.show(renderer='notebook_connected')"
   ]
  },
  {
   "cell_type": "markdown",
   "metadata": {},
   "source": [
    "### Using the shapes layer"
   ]
  },
  {
   "cell_type": "code",
   "execution_count": 14,
   "metadata": {},
   "outputs": [],
   "source": [
    "import sys, importlib\n",
    "sys.path.append('..')\n",
    "import torch\n",
    "from torch import nn, Tensor\n",
    "import torch.nn.functional as F\n",
    "import plotly.graph_objects as go\n",
    "import numpy as np\n",
    "from idlmav import MAV, color_graph_nodes, FigureRenderer\n",
    "\n",
    "def reload_imports():\n",
    "    importlib.reload(sys.modules['idlmav.renderers.figure_renderer'])\n",
    "    importlib.reload(sys.modules['idlmav.tracing'])\n",
    "    importlib.reload(sys.modules['idlmav.layout'])\n",
    "    importlib.reload(sys.modules['idlmav.idlmav'])\n",
    "    importlib.reload(sys.modules['idlmav'])\n",
    "    global MAV, FigureRenderer\n",
    "    from idlmav import MAV, FigureRenderer"
   ]
  },
  {
   "cell_type": "code",
   "execution_count": 15,
   "metadata": {},
   "outputs": [],
   "source": [
    "class MnistCnn(nn.Module):\n",
    "    def __init__(self):\n",
    "        super().__init__()\n",
    "        self.conv1 = nn.Conv2d(1, 32, 3, 1)\n",
    "        self.conv2 = nn.Conv2d(32, 64, 3, 1)\n",
    "        self.dropout1 = nn.Dropout(0.25)\n",
    "        self.dropout2 = nn.Dropout(0.5)\n",
    "        self.fc1 = nn.Linear(9216, 128)\n",
    "        self.fc2 = nn.Linear(128, 10)\n",
    "\n",
    "    def forward(self, x):\n",
    "        x = self.conv1(x)\n",
    "        x = F.relu(x)\n",
    "        x = self.conv2(x)\n",
    "        x = F.relu(x)\n",
    "        x = F.max_pool2d(x, 2)\n",
    "        x = self.dropout1(x)\n",
    "        x = torch.flatten(x, 1)\n",
    "        x = self.fc1(x)\n",
    "        x = F.relu(x)\n",
    "        x = self.dropout2(x)\n",
    "        x = self.fc2(x)\n",
    "        output = F.log_softmax(x, dim=1)\n",
    "        return output\n",
    "    \n",
    "model = MnistCnn()\n",
    "inputs = torch.randn((16,1,28,28))\n",
    "mav = MAV(model, inputs)\n",
    "color_graph_nodes(mav.tracer.g)"
   ]
  },
  {
   "cell_type": "code",
   "execution_count": null,
   "metadata": {},
   "outputs": [
    {
     "data": {
      "text/html": [
       "        <script type=\"text/javascript\">\n",
       "        window.PlotlyConfig = {MathJaxConfig: 'local'};\n",
       "        if (window.MathJax && window.MathJax.Hub && window.MathJax.Hub.Config) {window.MathJax.Hub.Config({SVG: {font: \"STIX-Web\"}});}\n",
       "        if (typeof require !== 'undefined') {\n",
       "        require.undef(\"plotly\");\n",
       "        requirejs.config({\n",
       "            paths: {\n",
       "                'plotly': ['https://cdn.plot.ly/plotly-2.35.2.min']\n",
       "            }\n",
       "        });\n",
       "        require(['plotly'], function(Plotly) {\n",
       "            window._Plotly = Plotly;\n",
       "        });\n",
       "        }\n",
       "        </script>\n",
       "        "
      ]
     },
     "metadata": {},
     "output_type": "display_data"
    },
    {
     "data": {
      "text/html": [
       "<div>                            <div id=\"efdcfc8a-52ae-4b39-8a48-6ed706e4b94d\" class=\"plotly-graph-div\" style=\"height:300px; width:500px;\"></div>            <script type=\"text/javascript\">                require([\"plotly\"], function(Plotly) {                    window.PLOTLYENV=window.PLOTLYENV || {};                                    if (document.getElementById(\"efdcfc8a-52ae-4b39-8a48-6ed706e4b94d\")) {                    Plotly.newPlot(                        \"efdcfc8a-52ae-4b39-8a48-6ed706e4b94d\",                        [{\"customdata\":[[\"x\",\"input\",\"(16,1,28,28)\",\"0\",\"0\",\"()\",\"{}\"],[\"conv1\",\"nn.Conv2d\",\"(16,32,26,26)\",\"320\",\"6 230 016\",\"(x,)\",\"{}\"],[\"relu\",\"relu()\",\"(16,32,26,26)\",\"0\",\"0\",\"(conv1,)\",\"{'inplace': False}\"],[\"conv2\",\"nn.Conv2d\",\"(16,64,24,24)\",\"18 496\",\"339 738 624\",\"(relu,)\",\"{}\"],[\"relu_1\",\"relu()\",\"(16,64,24,24)\",\"0\",\"0\",\"(conv2,)\",\"{'inplace': False}\"],[\"max_pool2d\",\"max_pool2d()\",\"(16,64,12,12)\",\"0\",\"0\",\"(relu_1, 2)\",\"{'stride': None, 'padding': 0, 'dilation': 1, 'ceil_mode': False, 'return_indices': False}\"],[\"dropout1\",\"nn.Dropout\",\"(16,64,12,12)\",\"0\",\"147 456\",\"(max_pool2d,)\",\"{}\"],[\"flatten\",\"flatten()\",\"(16,9216)\",\"0\",\"0\",\"(dropout1, 1)\",\"{}\"],[\"fc1\",\"nn.Linear\",\"(16,128)\",\"1 179 776\",\"37 748 736\",\"(flatten,)\",\"{}\"],[\"relu_2\",\"relu()\",\"(16,128)\",\"0\",\"0\",\"(fc1,)\",\"{'inplace': False}\"],[\"dropout2\",\"nn.Dropout\",\"(16,128)\",\"0\",\"2 048\",\"(relu_2,)\",\"{}\"],[\"fc2\",\"nn.Linear\",\"(16,10)\",\"1 290\",\"40 960\",\"(dropout2,)\",\"{}\"],[\"log_softmax\",\"log_softmax()\",\"(16,10)\",\"0\",\"0\",\"(fc2,)\",\"{'dim': 1, '_stacklevel': 3, 'dtype': None}\"],[\"output\",\"output\",\"(16,10)\",\"0\",\"0\",\"(log_softmax,)\",\"{}\"]],\"hovertemplate\":\"Name: %{customdata[0]}\\u003cbr\\u003eOperation: %{customdata[1]}\\u003cbr\\u003eActivations: %{customdata[2]}\\u003cbr\\u003eParameters: %{customdata[3]}\\u003cbr\\u003eFLOPS: %{customdata[4]}\\u003cbr\\u003e\\u003cbr\\u003eargs: %{customdata[5]}\\u003cbr\\u003ekwargs: %{customdata[6]}\\u003cbr\\u003e\\u003cextra\\u003e\\u003c\\u002fextra\\u003e\",\"marker\":{\"color\":[\"#222A2A\",\"#00A08B\",\"#1616A7\",\"#00A08B\",\"#1616A7\",\"#DA60CA\",\"#1CA71C\",\"#778AAE\",\"#2E91E5\",\"#1616A7\",\"#1CA71C\",\"#2E91E5\",\"#1616A7\",\"#222A2A\"],\"colorscale\":[[0.0,\"rgb(0,0,255)\"],[1.0,\"rgb(255,0,0)\"]],\"size\":[6.0,6.0,6.0,11.928009913453302,6.0,6.0,6.0,6.0,18.0,6.0,6.0,8.037003250024952,6.0,6.0]},\"mode\":\"markers\",\"showlegend\":false,\"x\":[0.0,0.0,0.0,0.0,0.0,0.0,0.0,0.0,0.0,0.0,0.0,0.0,0.0,0.0],\"y\":[0,1,1.15,2,2.15,2.3,2.45,2.6,3,3.15,3.3,4,4.15,5],\"type\":\"scatter\"}],                        {\"height\":300,\"margin\":{\"b\":0,\"l\":0,\"r\":0,\"t\":0},\"width\":500,\"template\":{\"data\":{\"histogram2dcontour\":[{\"type\":\"histogram2dcontour\",\"colorbar\":{\"outlinewidth\":0,\"ticks\":\"\"},\"colorscale\":[[0.0,\"#0d0887\"],[0.1111111111111111,\"#46039f\"],[0.2222222222222222,\"#7201a8\"],[0.3333333333333333,\"#9c179e\"],[0.4444444444444444,\"#bd3786\"],[0.5555555555555556,\"#d8576b\"],[0.6666666666666666,\"#ed7953\"],[0.7777777777777778,\"#fb9f3a\"],[0.8888888888888888,\"#fdca26\"],[1.0,\"#f0f921\"]]}],\"choropleth\":[{\"type\":\"choropleth\",\"colorbar\":{\"outlinewidth\":0,\"ticks\":\"\"}}],\"histogram2d\":[{\"type\":\"histogram2d\",\"colorbar\":{\"outlinewidth\":0,\"ticks\":\"\"},\"colorscale\":[[0.0,\"#0d0887\"],[0.1111111111111111,\"#46039f\"],[0.2222222222222222,\"#7201a8\"],[0.3333333333333333,\"#9c179e\"],[0.4444444444444444,\"#bd3786\"],[0.5555555555555556,\"#d8576b\"],[0.6666666666666666,\"#ed7953\"],[0.7777777777777778,\"#fb9f3a\"],[0.8888888888888888,\"#fdca26\"],[1.0,\"#f0f921\"]]}],\"heatmap\":[{\"type\":\"heatmap\",\"colorbar\":{\"outlinewidth\":0,\"ticks\":\"\"},\"colorscale\":[[0.0,\"#0d0887\"],[0.1111111111111111,\"#46039f\"],[0.2222222222222222,\"#7201a8\"],[0.3333333333333333,\"#9c179e\"],[0.4444444444444444,\"#bd3786\"],[0.5555555555555556,\"#d8576b\"],[0.6666666666666666,\"#ed7953\"],[0.7777777777777778,\"#fb9f3a\"],[0.8888888888888888,\"#fdca26\"],[1.0,\"#f0f921\"]]}],\"heatmapgl\":[{\"type\":\"heatmapgl\",\"colorbar\":{\"outlinewidth\":0,\"ticks\":\"\"},\"colorscale\":[[0.0,\"#0d0887\"],[0.1111111111111111,\"#46039f\"],[0.2222222222222222,\"#7201a8\"],[0.3333333333333333,\"#9c179e\"],[0.4444444444444444,\"#bd3786\"],[0.5555555555555556,\"#d8576b\"],[0.6666666666666666,\"#ed7953\"],[0.7777777777777778,\"#fb9f3a\"],[0.8888888888888888,\"#fdca26\"],[1.0,\"#f0f921\"]]}],\"contourcarpet\":[{\"type\":\"contourcarpet\",\"colorbar\":{\"outlinewidth\":0,\"ticks\":\"\"}}],\"contour\":[{\"type\":\"contour\",\"colorbar\":{\"outlinewidth\":0,\"ticks\":\"\"},\"colorscale\":[[0.0,\"#0d0887\"],[0.1111111111111111,\"#46039f\"],[0.2222222222222222,\"#7201a8\"],[0.3333333333333333,\"#9c179e\"],[0.4444444444444444,\"#bd3786\"],[0.5555555555555556,\"#d8576b\"],[0.6666666666666666,\"#ed7953\"],[0.7777777777777778,\"#fb9f3a\"],[0.8888888888888888,\"#fdca26\"],[1.0,\"#f0f921\"]]}],\"surface\":[{\"type\":\"surface\",\"colorbar\":{\"outlinewidth\":0,\"ticks\":\"\"},\"colorscale\":[[0.0,\"#0d0887\"],[0.1111111111111111,\"#46039f\"],[0.2222222222222222,\"#7201a8\"],[0.3333333333333333,\"#9c179e\"],[0.4444444444444444,\"#bd3786\"],[0.5555555555555556,\"#d8576b\"],[0.6666666666666666,\"#ed7953\"],[0.7777777777777778,\"#fb9f3a\"],[0.8888888888888888,\"#fdca26\"],[1.0,\"#f0f921\"]]}],\"mesh3d\":[{\"type\":\"mesh3d\",\"colorbar\":{\"outlinewidth\":0,\"ticks\":\"\"}}],\"scatter\":[{\"fillpattern\":{\"fillmode\":\"overlay\",\"size\":10,\"solidity\":0.2},\"type\":\"scatter\"}],\"parcoords\":[{\"type\":\"parcoords\",\"line\":{\"colorbar\":{\"outlinewidth\":0,\"ticks\":\"\"}}}],\"scatterpolargl\":[{\"type\":\"scatterpolargl\",\"marker\":{\"colorbar\":{\"outlinewidth\":0,\"ticks\":\"\"}}}],\"bar\":[{\"error_x\":{\"color\":\"#2a3f5f\"},\"error_y\":{\"color\":\"#2a3f5f\"},\"marker\":{\"line\":{\"color\":\"#E5ECF6\",\"width\":0.5},\"pattern\":{\"fillmode\":\"overlay\",\"size\":10,\"solidity\":0.2}},\"type\":\"bar\"}],\"scattergeo\":[{\"type\":\"scattergeo\",\"marker\":{\"colorbar\":{\"outlinewidth\":0,\"ticks\":\"\"}}}],\"scatterpolar\":[{\"type\":\"scatterpolar\",\"marker\":{\"colorbar\":{\"outlinewidth\":0,\"ticks\":\"\"}}}],\"histogram\":[{\"marker\":{\"pattern\":{\"fillmode\":\"overlay\",\"size\":10,\"solidity\":0.2}},\"type\":\"histogram\"}],\"scattergl\":[{\"type\":\"scattergl\",\"marker\":{\"colorbar\":{\"outlinewidth\":0,\"ticks\":\"\"}}}],\"scatter3d\":[{\"type\":\"scatter3d\",\"line\":{\"colorbar\":{\"outlinewidth\":0,\"ticks\":\"\"}},\"marker\":{\"colorbar\":{\"outlinewidth\":0,\"ticks\":\"\"}}}],\"scattermapbox\":[{\"type\":\"scattermapbox\",\"marker\":{\"colorbar\":{\"outlinewidth\":0,\"ticks\":\"\"}}}],\"scatterternary\":[{\"type\":\"scatterternary\",\"marker\":{\"colorbar\":{\"outlinewidth\":0,\"ticks\":\"\"}}}],\"scattercarpet\":[{\"type\":\"scattercarpet\",\"marker\":{\"colorbar\":{\"outlinewidth\":0,\"ticks\":\"\"}}}],\"carpet\":[{\"aaxis\":{\"endlinecolor\":\"#2a3f5f\",\"gridcolor\":\"white\",\"linecolor\":\"white\",\"minorgridcolor\":\"white\",\"startlinecolor\":\"#2a3f5f\"},\"baxis\":{\"endlinecolor\":\"#2a3f5f\",\"gridcolor\":\"white\",\"linecolor\":\"white\",\"minorgridcolor\":\"white\",\"startlinecolor\":\"#2a3f5f\"},\"type\":\"carpet\"}],\"table\":[{\"cells\":{\"fill\":{\"color\":\"#EBF0F8\"},\"line\":{\"color\":\"white\"}},\"header\":{\"fill\":{\"color\":\"#C8D4E3\"},\"line\":{\"color\":\"white\"}},\"type\":\"table\"}],\"barpolar\":[{\"marker\":{\"line\":{\"color\":\"#E5ECF6\",\"width\":0.5},\"pattern\":{\"fillmode\":\"overlay\",\"size\":10,\"solidity\":0.2}},\"type\":\"barpolar\"}],\"pie\":[{\"automargin\":true,\"type\":\"pie\"}]},\"layout\":{\"autotypenumbers\":\"strict\",\"colorway\":[\"#636efa\",\"#EF553B\",\"#00cc96\",\"#ab63fa\",\"#FFA15A\",\"#19d3f3\",\"#FF6692\",\"#B6E880\",\"#FF97FF\",\"#FECB52\"],\"font\":{\"color\":\"#2a3f5f\"},\"hovermode\":\"closest\",\"hoverlabel\":{\"align\":\"left\"},\"paper_bgcolor\":\"white\",\"plot_bgcolor\":\"#E5ECF6\",\"polar\":{\"bgcolor\":\"#E5ECF6\",\"angularaxis\":{\"gridcolor\":\"white\",\"linecolor\":\"white\",\"ticks\":\"\"},\"radialaxis\":{\"gridcolor\":\"white\",\"linecolor\":\"white\",\"ticks\":\"\"}},\"ternary\":{\"bgcolor\":\"#E5ECF6\",\"aaxis\":{\"gridcolor\":\"white\",\"linecolor\":\"white\",\"ticks\":\"\"},\"baxis\":{\"gridcolor\":\"white\",\"linecolor\":\"white\",\"ticks\":\"\"},\"caxis\":{\"gridcolor\":\"white\",\"linecolor\":\"white\",\"ticks\":\"\"}},\"coloraxis\":{\"colorbar\":{\"outlinewidth\":0,\"ticks\":\"\"}},\"colorscale\":{\"sequential\":[[0.0,\"#0d0887\"],[0.1111111111111111,\"#46039f\"],[0.2222222222222222,\"#7201a8\"],[0.3333333333333333,\"#9c179e\"],[0.4444444444444444,\"#bd3786\"],[0.5555555555555556,\"#d8576b\"],[0.6666666666666666,\"#ed7953\"],[0.7777777777777778,\"#fb9f3a\"],[0.8888888888888888,\"#fdca26\"],[1.0,\"#f0f921\"]],\"sequentialminus\":[[0.0,\"#0d0887\"],[0.1111111111111111,\"#46039f\"],[0.2222222222222222,\"#7201a8\"],[0.3333333333333333,\"#9c179e\"],[0.4444444444444444,\"#bd3786\"],[0.5555555555555556,\"#d8576b\"],[0.6666666666666666,\"#ed7953\"],[0.7777777777777778,\"#fb9f3a\"],[0.8888888888888888,\"#fdca26\"],[1.0,\"#f0f921\"]],\"diverging\":[[0,\"#8e0152\"],[0.1,\"#c51b7d\"],[0.2,\"#de77ae\"],[0.3,\"#f1b6da\"],[0.4,\"#fde0ef\"],[0.5,\"#f7f7f7\"],[0.6,\"#e6f5d0\"],[0.7,\"#b8e186\"],[0.8,\"#7fbc41\"],[0.9,\"#4d9221\"],[1,\"#276419\"]]},\"xaxis\":{\"gridcolor\":\"white\",\"linecolor\":\"white\",\"ticks\":\"\",\"title\":{\"standoff\":15},\"zerolinecolor\":\"white\",\"automargin\":true,\"zerolinewidth\":2},\"yaxis\":{\"gridcolor\":\"white\",\"linecolor\":\"white\",\"ticks\":\"\",\"title\":{\"standoff\":15},\"zerolinecolor\":\"white\",\"automargin\":true,\"zerolinewidth\":2},\"scene\":{\"xaxis\":{\"backgroundcolor\":\"#E5ECF6\",\"gridcolor\":\"white\",\"linecolor\":\"white\",\"showbackground\":true,\"ticks\":\"\",\"zerolinecolor\":\"white\",\"gridwidth\":2},\"yaxis\":{\"backgroundcolor\":\"#E5ECF6\",\"gridcolor\":\"white\",\"linecolor\":\"white\",\"showbackground\":true,\"ticks\":\"\",\"zerolinecolor\":\"white\",\"gridwidth\":2},\"zaxis\":{\"backgroundcolor\":\"#E5ECF6\",\"gridcolor\":\"white\",\"linecolor\":\"white\",\"showbackground\":true,\"ticks\":\"\",\"zerolinecolor\":\"white\",\"gridwidth\":2}},\"shapedefaults\":{\"line\":{\"color\":\"#2a3f5f\"}},\"annotationdefaults\":{\"arrowcolor\":\"#2a3f5f\",\"arrowhead\":0,\"arrowwidth\":1},\"geo\":{\"bgcolor\":\"white\",\"landcolor\":\"#E5ECF6\",\"subunitcolor\":\"white\",\"showland\":true,\"showlakes\":true,\"lakecolor\":\"white\"},\"title\":{\"x\":0.05},\"mapbox\":{\"style\":\"light\"}}},\"xaxis\":{\"showgrid\":false,\"zeroline\":false,\"tickmode\":\"array\",\"tickvals\":[],\"range\":[-1,1]},\"yaxis\":{\"showgrid\":false,\"zeroline\":false,\"tickmode\":\"array\",\"tickvals\":[]},\"shapes\":[{\"line\":{\"color\":\"#000000\"},\"type\":\"rect\",\"x0\":-0.1,\"x1\":0.1,\"xref\":\"x\",\"y0\":0,\"y1\":1,\"yref\":\"y\"}]},                        {\"responsive\": true}                    ).then(function(){\n",
       "                            \n",
       "var gd = document.getElementById('efdcfc8a-52ae-4b39-8a48-6ed706e4b94d');\n",
       "var x = new MutationObserver(function (mutations, observer) {{\n",
       "        var display = window.getComputedStyle(gd).display;\n",
       "        if (!display || display === 'none') {{\n",
       "            console.log([gd, 'removed!']);\n",
       "            Plotly.purge(gd);\n",
       "            observer.disconnect();\n",
       "        }}\n",
       "}});\n",
       "\n",
       "// Listen for the removal of the full notebook cells\n",
       "var notebookContainer = gd.closest('#notebook-container');\n",
       "if (notebookContainer) {{\n",
       "    x.observe(notebookContainer, {childList: true});\n",
       "}}\n",
       "\n",
       "// Listen for the clearing of the current output cell\n",
       "var outputEl = gd.closest('.output');\n",
       "if (outputEl) {{\n",
       "    x.observe(outputEl, {childList: true});\n",
       "}}\n",
       "\n",
       "                        })                };                });            </script>        </div>"
      ]
     },
     "metadata": {},
     "output_type": "display_data"
    }
   ],
   "source": [
    "g = mav.tracer.g\n",
    "renderer = FigureRenderer(g)  # For helper functions e.g. \"params_to_dot_size\"\n",
    "fig = go.Figure(layout=dict(width=500, height=300, margin=dict(l=0, r=0, t=0, b=0)))\n",
    "\n",
    "node_trace = go.Scatter(\n",
    "    x=[n.x for n in g.nodes], \n",
    "    y=[n.y for n in g.nodes], \n",
    "    mode='markers', \n",
    "    marker=dict(\n",
    "        size=[renderer.params_to_dot_size(n.params) for n in g.nodes],\n",
    "        color=[renderer.get_node_color(n) for n in g.nodes],\n",
    "        colorscale='Bluered'\n",
    "    ),\n",
    "    hovertemplate=(\n",
    "        'Name: %{customdata[0]}<br>' +\n",
    "        'Operation: %{customdata[1]}<br>' +\n",
    "        'Activations: %{customdata[2]}<br>' +\n",
    "        'Parameters: %{customdata[3]}<br>' +\n",
    "        'FLOPS: %{customdata[4]}<br>' +\n",
    "        '<br>' +\n",
    "        'args: %{customdata[5]}<br>' +\n",
    "        'kwargs: %{customdata[6]}<br>' +\n",
    "        '<extra></extra>'\n",
    "    ),\n",
    "    customdata=[renderer.node_data(n) + renderer.node_arg_data(n) for n in g.nodes],\n",
    "    showlegend=False\n",
    ")\n",
    "fig.add_trace(node_trace)\n",
    "\n",
    "fig.update_xaxes(showgrid=False, zeroline=False, tickmode='array', tickvals=[], range=[-1,1])\n",
    "fig.update_yaxes(showgrid=False, zeroline=False, tickmode='array', tickvals=[])\n",
    "\n",
    "fig.add_shape(type=\"rect\",\n",
    "    xref=\"x\", yref=\"y\",\n",
    "    x0=-0.1, y0=0, x1=0.1, y1=1,\n",
    "    line=dict(color=\"#000000\"),\n",
    ")\n",
    "\n",
    "fig.show(renderer='notebook_connected')"
   ]
  },
  {
   "cell_type": "code",
   "execution_count": 17,
   "metadata": {},
   "outputs": [
    {
     "data": {
      "text/html": [
       "        <script type=\"text/javascript\">\n",
       "        window.PlotlyConfig = {MathJaxConfig: 'local'};\n",
       "        if (window.MathJax && window.MathJax.Hub && window.MathJax.Hub.Config) {window.MathJax.Hub.Config({SVG: {font: \"STIX-Web\"}});}\n",
       "        if (typeof require !== 'undefined') {\n",
       "        require.undef(\"plotly\");\n",
       "        requirejs.config({\n",
       "            paths: {\n",
       "                'plotly': ['https://cdn.plot.ly/plotly-2.35.2.min']\n",
       "            }\n",
       "        });\n",
       "        require(['plotly'], function(Plotly) {\n",
       "            window._Plotly = Plotly;\n",
       "        });\n",
       "        }\n",
       "        </script>\n",
       "        "
      ]
     },
     "metadata": {},
     "output_type": "display_data"
    },
    {
     "data": {
      "text/html": [
       "<div>                            <div id=\"3dcb35a9-3dc8-4cb1-a3d3-3fb180dbeeb7\" class=\"plotly-graph-div\" style=\"height:300px; width:500px;\"></div>            <script type=\"text/javascript\">                require([\"plotly\"], function(Plotly) {                    window.PLOTLYENV=window.PLOTLYENV || {};                                    if (document.getElementById(\"3dcb35a9-3dc8-4cb1-a3d3-3fb180dbeeb7\")) {                    Plotly.newPlot(                        \"3dcb35a9-3dc8-4cb1-a3d3-3fb180dbeeb7\",                        [{\"customdata\":[[\"x\",\"input\",\"(16,1,28,28)\",\"0\",\"0\",\"()\",\"{}\"],[\"conv1\",\"nn.Conv2d\",\"(16,32,26,26)\",\"320\",\"6 230 016\",\"(x,)\",\"{}\"],[\"relu\",\"relu()\",\"(16,32,26,26)\",\"0\",\"0\",\"(conv1,)\",\"{'inplace': False}\"],[\"conv2\",\"nn.Conv2d\",\"(16,64,24,24)\",\"18 496\",\"339 738 624\",\"(relu,)\",\"{}\"],[\"relu_1\",\"relu()\",\"(16,64,24,24)\",\"0\",\"0\",\"(conv2,)\",\"{'inplace': False}\"],[\"max_pool2d\",\"max_pool2d()\",\"(16,64,12,12)\",\"0\",\"0\",\"(relu_1, 2)\",\"{'stride': None, 'padding': 0, 'dilation': 1, 'ceil_mode': False, 'return_indices': False}\"],[\"dropout1\",\"nn.Dropout\",\"(16,64,12,12)\",\"0\",\"147 456\",\"(max_pool2d,)\",\"{}\"],[\"flatten\",\"flatten()\",\"(16,9216)\",\"0\",\"0\",\"(dropout1, 1)\",\"{}\"],[\"fc1\",\"nn.Linear\",\"(16,128)\",\"1 179 776\",\"37 748 736\",\"(flatten,)\",\"{}\"],[\"relu_2\",\"relu()\",\"(16,128)\",\"0\",\"0\",\"(fc1,)\",\"{'inplace': False}\"],[\"dropout2\",\"nn.Dropout\",\"(16,128)\",\"0\",\"2 048\",\"(relu_2,)\",\"{}\"],[\"fc2\",\"nn.Linear\",\"(16,10)\",\"1 290\",\"40 960\",\"(dropout2,)\",\"{}\"],[\"log_softmax\",\"log_softmax()\",\"(16,10)\",\"0\",\"0\",\"(fc2,)\",\"{'dim': 1, '_stacklevel': 3, 'dtype': None}\"],[\"output\",\"output\",\"(16,10)\",\"0\",\"0\",\"(log_softmax,)\",\"{}\"]],\"hovertemplate\":\"Name: %{customdata[0]}\\u003cbr\\u003eOperation: %{customdata[1]}\\u003cbr\\u003eActivations: %{customdata[2]}\\u003cbr\\u003eParameters: %{customdata[3]}\\u003cbr\\u003eFLOPS: %{customdata[4]}\\u003cbr\\u003e\\u003cbr\\u003eargs: %{customdata[5]}\\u003cbr\\u003ekwargs: %{customdata[6]}\\u003cbr\\u003e\\u003cextra\\u003e\\u003c\\u002fextra\\u003e\",\"marker\":{\"color\":[\"#222A2A\",\"#00A08B\",\"#1616A7\",\"#00A08B\",\"#1616A7\",\"#DA60CA\",\"#1CA71C\",\"#778AAE\",\"#2E91E5\",\"#1616A7\",\"#1CA71C\",\"#2E91E5\",\"#1616A7\",\"#222A2A\"],\"colorscale\":[[0.0,\"rgb(0,0,255)\"],[1.0,\"rgb(255,0,0)\"]],\"size\":[6.0,6.0,6.0,11.928009913453302,6.0,6.0,6.0,6.0,18.0,6.0,6.0,8.037003250024952,6.0,6.0]},\"mode\":\"markers\",\"showlegend\":false,\"x\":[0.0,0.0,0.0,0.0,0.0,0.0,0.0,0.0,0.0,0.0,0.0,0.0,0.0,0.0],\"y\":[0,1,1.15,2,2.15,2.3,2.45,2.6,3,3.15,3.3,4,4.15,5],\"type\":\"scatter\"}],                        {\"height\":300,\"margin\":{\"b\":0,\"l\":0,\"r\":0,\"t\":0},\"width\":500,\"template\":{\"data\":{\"histogram2dcontour\":[{\"type\":\"histogram2dcontour\",\"colorbar\":{\"outlinewidth\":0,\"ticks\":\"\"},\"colorscale\":[[0.0,\"#0d0887\"],[0.1111111111111111,\"#46039f\"],[0.2222222222222222,\"#7201a8\"],[0.3333333333333333,\"#9c179e\"],[0.4444444444444444,\"#bd3786\"],[0.5555555555555556,\"#d8576b\"],[0.6666666666666666,\"#ed7953\"],[0.7777777777777778,\"#fb9f3a\"],[0.8888888888888888,\"#fdca26\"],[1.0,\"#f0f921\"]]}],\"choropleth\":[{\"type\":\"choropleth\",\"colorbar\":{\"outlinewidth\":0,\"ticks\":\"\"}}],\"histogram2d\":[{\"type\":\"histogram2d\",\"colorbar\":{\"outlinewidth\":0,\"ticks\":\"\"},\"colorscale\":[[0.0,\"#0d0887\"],[0.1111111111111111,\"#46039f\"],[0.2222222222222222,\"#7201a8\"],[0.3333333333333333,\"#9c179e\"],[0.4444444444444444,\"#bd3786\"],[0.5555555555555556,\"#d8576b\"],[0.6666666666666666,\"#ed7953\"],[0.7777777777777778,\"#fb9f3a\"],[0.8888888888888888,\"#fdca26\"],[1.0,\"#f0f921\"]]}],\"heatmap\":[{\"type\":\"heatmap\",\"colorbar\":{\"outlinewidth\":0,\"ticks\":\"\"},\"colorscale\":[[0.0,\"#0d0887\"],[0.1111111111111111,\"#46039f\"],[0.2222222222222222,\"#7201a8\"],[0.3333333333333333,\"#9c179e\"],[0.4444444444444444,\"#bd3786\"],[0.5555555555555556,\"#d8576b\"],[0.6666666666666666,\"#ed7953\"],[0.7777777777777778,\"#fb9f3a\"],[0.8888888888888888,\"#fdca26\"],[1.0,\"#f0f921\"]]}],\"heatmapgl\":[{\"type\":\"heatmapgl\",\"colorbar\":{\"outlinewidth\":0,\"ticks\":\"\"},\"colorscale\":[[0.0,\"#0d0887\"],[0.1111111111111111,\"#46039f\"],[0.2222222222222222,\"#7201a8\"],[0.3333333333333333,\"#9c179e\"],[0.4444444444444444,\"#bd3786\"],[0.5555555555555556,\"#d8576b\"],[0.6666666666666666,\"#ed7953\"],[0.7777777777777778,\"#fb9f3a\"],[0.8888888888888888,\"#fdca26\"],[1.0,\"#f0f921\"]]}],\"contourcarpet\":[{\"type\":\"contourcarpet\",\"colorbar\":{\"outlinewidth\":0,\"ticks\":\"\"}}],\"contour\":[{\"type\":\"contour\",\"colorbar\":{\"outlinewidth\":0,\"ticks\":\"\"},\"colorscale\":[[0.0,\"#0d0887\"],[0.1111111111111111,\"#46039f\"],[0.2222222222222222,\"#7201a8\"],[0.3333333333333333,\"#9c179e\"],[0.4444444444444444,\"#bd3786\"],[0.5555555555555556,\"#d8576b\"],[0.6666666666666666,\"#ed7953\"],[0.7777777777777778,\"#fb9f3a\"],[0.8888888888888888,\"#fdca26\"],[1.0,\"#f0f921\"]]}],\"surface\":[{\"type\":\"surface\",\"colorbar\":{\"outlinewidth\":0,\"ticks\":\"\"},\"colorscale\":[[0.0,\"#0d0887\"],[0.1111111111111111,\"#46039f\"],[0.2222222222222222,\"#7201a8\"],[0.3333333333333333,\"#9c179e\"],[0.4444444444444444,\"#bd3786\"],[0.5555555555555556,\"#d8576b\"],[0.6666666666666666,\"#ed7953\"],[0.7777777777777778,\"#fb9f3a\"],[0.8888888888888888,\"#fdca26\"],[1.0,\"#f0f921\"]]}],\"mesh3d\":[{\"type\":\"mesh3d\",\"colorbar\":{\"outlinewidth\":0,\"ticks\":\"\"}}],\"scatter\":[{\"fillpattern\":{\"fillmode\":\"overlay\",\"size\":10,\"solidity\":0.2},\"type\":\"scatter\"}],\"parcoords\":[{\"type\":\"parcoords\",\"line\":{\"colorbar\":{\"outlinewidth\":0,\"ticks\":\"\"}}}],\"scatterpolargl\":[{\"type\":\"scatterpolargl\",\"marker\":{\"colorbar\":{\"outlinewidth\":0,\"ticks\":\"\"}}}],\"bar\":[{\"error_x\":{\"color\":\"#2a3f5f\"},\"error_y\":{\"color\":\"#2a3f5f\"},\"marker\":{\"line\":{\"color\":\"#E5ECF6\",\"width\":0.5},\"pattern\":{\"fillmode\":\"overlay\",\"size\":10,\"solidity\":0.2}},\"type\":\"bar\"}],\"scattergeo\":[{\"type\":\"scattergeo\",\"marker\":{\"colorbar\":{\"outlinewidth\":0,\"ticks\":\"\"}}}],\"scatterpolar\":[{\"type\":\"scatterpolar\",\"marker\":{\"colorbar\":{\"outlinewidth\":0,\"ticks\":\"\"}}}],\"histogram\":[{\"marker\":{\"pattern\":{\"fillmode\":\"overlay\",\"size\":10,\"solidity\":0.2}},\"type\":\"histogram\"}],\"scattergl\":[{\"type\":\"scattergl\",\"marker\":{\"colorbar\":{\"outlinewidth\":0,\"ticks\":\"\"}}}],\"scatter3d\":[{\"type\":\"scatter3d\",\"line\":{\"colorbar\":{\"outlinewidth\":0,\"ticks\":\"\"}},\"marker\":{\"colorbar\":{\"outlinewidth\":0,\"ticks\":\"\"}}}],\"scattermapbox\":[{\"type\":\"scattermapbox\",\"marker\":{\"colorbar\":{\"outlinewidth\":0,\"ticks\":\"\"}}}],\"scatterternary\":[{\"type\":\"scatterternary\",\"marker\":{\"colorbar\":{\"outlinewidth\":0,\"ticks\":\"\"}}}],\"scattercarpet\":[{\"type\":\"scattercarpet\",\"marker\":{\"colorbar\":{\"outlinewidth\":0,\"ticks\":\"\"}}}],\"carpet\":[{\"aaxis\":{\"endlinecolor\":\"#2a3f5f\",\"gridcolor\":\"white\",\"linecolor\":\"white\",\"minorgridcolor\":\"white\",\"startlinecolor\":\"#2a3f5f\"},\"baxis\":{\"endlinecolor\":\"#2a3f5f\",\"gridcolor\":\"white\",\"linecolor\":\"white\",\"minorgridcolor\":\"white\",\"startlinecolor\":\"#2a3f5f\"},\"type\":\"carpet\"}],\"table\":[{\"cells\":{\"fill\":{\"color\":\"#EBF0F8\"},\"line\":{\"color\":\"white\"}},\"header\":{\"fill\":{\"color\":\"#C8D4E3\"},\"line\":{\"color\":\"white\"}},\"type\":\"table\"}],\"barpolar\":[{\"marker\":{\"line\":{\"color\":\"#E5ECF6\",\"width\":0.5},\"pattern\":{\"fillmode\":\"overlay\",\"size\":10,\"solidity\":0.2}},\"type\":\"barpolar\"}],\"pie\":[{\"automargin\":true,\"type\":\"pie\"}]},\"layout\":{\"autotypenumbers\":\"strict\",\"colorway\":[\"#636efa\",\"#EF553B\",\"#00cc96\",\"#ab63fa\",\"#FFA15A\",\"#19d3f3\",\"#FF6692\",\"#B6E880\",\"#FF97FF\",\"#FECB52\"],\"font\":{\"color\":\"#2a3f5f\"},\"hovermode\":\"closest\",\"hoverlabel\":{\"align\":\"left\"},\"paper_bgcolor\":\"white\",\"plot_bgcolor\":\"#E5ECF6\",\"polar\":{\"bgcolor\":\"#E5ECF6\",\"angularaxis\":{\"gridcolor\":\"white\",\"linecolor\":\"white\",\"ticks\":\"\"},\"radialaxis\":{\"gridcolor\":\"white\",\"linecolor\":\"white\",\"ticks\":\"\"}},\"ternary\":{\"bgcolor\":\"#E5ECF6\",\"aaxis\":{\"gridcolor\":\"white\",\"linecolor\":\"white\",\"ticks\":\"\"},\"baxis\":{\"gridcolor\":\"white\",\"linecolor\":\"white\",\"ticks\":\"\"},\"caxis\":{\"gridcolor\":\"white\",\"linecolor\":\"white\",\"ticks\":\"\"}},\"coloraxis\":{\"colorbar\":{\"outlinewidth\":0,\"ticks\":\"\"}},\"colorscale\":{\"sequential\":[[0.0,\"#0d0887\"],[0.1111111111111111,\"#46039f\"],[0.2222222222222222,\"#7201a8\"],[0.3333333333333333,\"#9c179e\"],[0.4444444444444444,\"#bd3786\"],[0.5555555555555556,\"#d8576b\"],[0.6666666666666666,\"#ed7953\"],[0.7777777777777778,\"#fb9f3a\"],[0.8888888888888888,\"#fdca26\"],[1.0,\"#f0f921\"]],\"sequentialminus\":[[0.0,\"#0d0887\"],[0.1111111111111111,\"#46039f\"],[0.2222222222222222,\"#7201a8\"],[0.3333333333333333,\"#9c179e\"],[0.4444444444444444,\"#bd3786\"],[0.5555555555555556,\"#d8576b\"],[0.6666666666666666,\"#ed7953\"],[0.7777777777777778,\"#fb9f3a\"],[0.8888888888888888,\"#fdca26\"],[1.0,\"#f0f921\"]],\"diverging\":[[0,\"#8e0152\"],[0.1,\"#c51b7d\"],[0.2,\"#de77ae\"],[0.3,\"#f1b6da\"],[0.4,\"#fde0ef\"],[0.5,\"#f7f7f7\"],[0.6,\"#e6f5d0\"],[0.7,\"#b8e186\"],[0.8,\"#7fbc41\"],[0.9,\"#4d9221\"],[1,\"#276419\"]]},\"xaxis\":{\"gridcolor\":\"white\",\"linecolor\":\"white\",\"ticks\":\"\",\"title\":{\"standoff\":15},\"zerolinecolor\":\"white\",\"automargin\":true,\"zerolinewidth\":2},\"yaxis\":{\"gridcolor\":\"white\",\"linecolor\":\"white\",\"ticks\":\"\",\"title\":{\"standoff\":15},\"zerolinecolor\":\"white\",\"automargin\":true,\"zerolinewidth\":2},\"scene\":{\"xaxis\":{\"backgroundcolor\":\"#E5ECF6\",\"gridcolor\":\"white\",\"linecolor\":\"white\",\"showbackground\":true,\"ticks\":\"\",\"zerolinecolor\":\"white\",\"gridwidth\":2},\"yaxis\":{\"backgroundcolor\":\"#E5ECF6\",\"gridcolor\":\"white\",\"linecolor\":\"white\",\"showbackground\":true,\"ticks\":\"\",\"zerolinecolor\":\"white\",\"gridwidth\":2},\"zaxis\":{\"backgroundcolor\":\"#E5ECF6\",\"gridcolor\":\"white\",\"linecolor\":\"white\",\"showbackground\":true,\"ticks\":\"\",\"zerolinecolor\":\"white\",\"gridwidth\":2}},\"shapedefaults\":{\"line\":{\"color\":\"#2a3f5f\"}},\"annotationdefaults\":{\"arrowcolor\":\"#2a3f5f\",\"arrowhead\":0,\"arrowwidth\":1},\"geo\":{\"bgcolor\":\"white\",\"landcolor\":\"#E5ECF6\",\"subunitcolor\":\"white\",\"showland\":true,\"showlakes\":true,\"lakecolor\":\"white\"},\"title\":{\"x\":0.05},\"mapbox\":{\"style\":\"light\"}}},\"xaxis\":{\"showgrid\":false,\"zeroline\":false,\"tickmode\":\"array\",\"tickvals\":[],\"range\":[-1,1]},\"yaxis\":{\"showgrid\":false,\"zeroline\":false,\"tickmode\":\"array\",\"tickvals\":[]},\"shapes\":[{\"line\":{\"color\":\"#000000\"},\"type\":\"rect\",\"x0\":-0.1,\"x1\":0.1,\"xref\":\"x\",\"y0\":0,\"y1\":1,\"yref\":\"y\"}],\"sliders\":[{\"active\":0,\"currentvalue\":{\"visible\":false},\"pad\":{\"b\":0,\"l\":0,\"r\":0,\"t\":10},\"steps\":[{\"args\":[{\"shapes\":[{\"type\":\"rect\",\"xref\":\"x\",\"yref\":\"y\",\"x0\":-0.1,\"y0\":0.0,\"x1\":0.1,\"y1\":1.0,\"line\":{\"color\":\"#000000\"}}]}],\"label\":\"\",\"method\":\"relayout\"},{\"args\":[{\"shapes\":[{\"type\":\"rect\",\"xref\":\"x\",\"yref\":\"y\",\"x0\":-0.1,\"y0\":0.2631578947368421,\"x1\":0.1,\"y1\":1.263157894736842,\"line\":{\"color\":\"#000000\"}}]}],\"label\":\"\",\"method\":\"relayout\"},{\"args\":[{\"shapes\":[{\"type\":\"rect\",\"xref\":\"x\",\"yref\":\"y\",\"x0\":-0.1,\"y0\":0.5263157894736842,\"x1\":0.1,\"y1\":1.526315789473684,\"line\":{\"color\":\"#000000\"}}]}],\"label\":\"\",\"method\":\"relayout\"},{\"args\":[{\"shapes\":[{\"type\":\"rect\",\"xref\":\"x\",\"yref\":\"y\",\"x0\":-0.1,\"y0\":0.7894736842105263,\"x1\":0.1,\"y1\":1.7894736842105263,\"line\":{\"color\":\"#000000\"}}]}],\"label\":\"\",\"method\":\"relayout\"},{\"args\":[{\"shapes\":[{\"type\":\"rect\",\"xref\":\"x\",\"yref\":\"y\",\"x0\":-0.1,\"y0\":1.0526315789473684,\"x1\":0.1,\"y1\":2.052631578947368,\"line\":{\"color\":\"#000000\"}}]}],\"label\":\"\",\"method\":\"relayout\"},{\"args\":[{\"shapes\":[{\"type\":\"rect\",\"xref\":\"x\",\"yref\":\"y\",\"x0\":-0.1,\"y0\":1.3157894736842104,\"x1\":0.1,\"y1\":2.3157894736842106,\"line\":{\"color\":\"#000000\"}}]}],\"label\":\"\",\"method\":\"relayout\"},{\"args\":[{\"shapes\":[{\"type\":\"rect\",\"xref\":\"x\",\"yref\":\"y\",\"x0\":-0.1,\"y0\":1.5789473684210527,\"x1\":0.1,\"y1\":2.5789473684210527,\"line\":{\"color\":\"#000000\"}}]}],\"label\":\"\",\"method\":\"relayout\"},{\"args\":[{\"shapes\":[{\"type\":\"rect\",\"xref\":\"x\",\"yref\":\"y\",\"x0\":-0.1,\"y0\":1.8421052631578947,\"x1\":0.1,\"y1\":2.8421052631578947,\"line\":{\"color\":\"#000000\"}}]}],\"label\":\"\",\"method\":\"relayout\"},{\"args\":[{\"shapes\":[{\"type\":\"rect\",\"xref\":\"x\",\"yref\":\"y\",\"x0\":-0.1,\"y0\":2.1052631578947367,\"x1\":0.1,\"y1\":3.1052631578947367,\"line\":{\"color\":\"#000000\"}}]}],\"label\":\"\",\"method\":\"relayout\"},{\"args\":[{\"shapes\":[{\"type\":\"rect\",\"xref\":\"x\",\"yref\":\"y\",\"x0\":-0.1,\"y0\":2.3684210526315788,\"x1\":0.1,\"y1\":3.3684210526315788,\"line\":{\"color\":\"#000000\"}}]}],\"label\":\"\",\"method\":\"relayout\"},{\"args\":[{\"shapes\":[{\"type\":\"rect\",\"xref\":\"x\",\"yref\":\"y\",\"x0\":-0.1,\"y0\":2.631578947368421,\"x1\":0.1,\"y1\":3.631578947368421,\"line\":{\"color\":\"#000000\"}}]}],\"label\":\"\",\"method\":\"relayout\"},{\"args\":[{\"shapes\":[{\"type\":\"rect\",\"xref\":\"x\",\"yref\":\"y\",\"x0\":-0.1,\"y0\":2.894736842105263,\"x1\":0.1,\"y1\":3.894736842105263,\"line\":{\"color\":\"#000000\"}}]}],\"label\":\"\",\"method\":\"relayout\"},{\"args\":[{\"shapes\":[{\"type\":\"rect\",\"xref\":\"x\",\"yref\":\"y\",\"x0\":-0.1,\"y0\":3.1578947368421053,\"x1\":0.1,\"y1\":4.157894736842105,\"line\":{\"color\":\"#000000\"}}]}],\"label\":\"\",\"method\":\"relayout\"},{\"args\":[{\"shapes\":[{\"type\":\"rect\",\"xref\":\"x\",\"yref\":\"y\",\"x0\":-0.1,\"y0\":3.4210526315789473,\"x1\":0.1,\"y1\":4.421052631578947,\"line\":{\"color\":\"#000000\"}}]}],\"label\":\"\",\"method\":\"relayout\"},{\"args\":[{\"shapes\":[{\"type\":\"rect\",\"xref\":\"x\",\"yref\":\"y\",\"x0\":-0.1,\"y0\":3.6842105263157894,\"x1\":0.1,\"y1\":4.684210526315789,\"line\":{\"color\":\"#000000\"}}]}],\"label\":\"\",\"method\":\"relayout\"},{\"args\":[{\"shapes\":[{\"type\":\"rect\",\"xref\":\"x\",\"yref\":\"y\",\"x0\":-0.1,\"y0\":3.9473684210526314,\"x1\":0.1,\"y1\":4.947368421052632,\"line\":{\"color\":\"#000000\"}}]}],\"label\":\"\",\"method\":\"relayout\"},{\"args\":[{\"shapes\":[{\"type\":\"rect\",\"xref\":\"x\",\"yref\":\"y\",\"x0\":-0.1,\"y0\":4.2105263157894735,\"x1\":0.1,\"y1\":5.2105263157894735,\"line\":{\"color\":\"#000000\"}}]}],\"label\":\"\",\"method\":\"relayout\"},{\"args\":[{\"shapes\":[{\"type\":\"rect\",\"xref\":\"x\",\"yref\":\"y\",\"x0\":-0.1,\"y0\":4.473684210526316,\"x1\":0.1,\"y1\":5.473684210526316,\"line\":{\"color\":\"#000000\"}}]}],\"label\":\"\",\"method\":\"relayout\"},{\"args\":[{\"shapes\":[{\"type\":\"rect\",\"xref\":\"x\",\"yref\":\"y\",\"x0\":-0.1,\"y0\":4.7368421052631575,\"x1\":0.1,\"y1\":5.7368421052631575,\"line\":{\"color\":\"#000000\"}}]}],\"label\":\"\",\"method\":\"relayout\"},{\"args\":[{\"shapes\":[{\"type\":\"rect\",\"xref\":\"x\",\"yref\":\"y\",\"x0\":-0.1,\"y0\":5.0,\"x1\":0.1,\"y1\":6.0,\"line\":{\"color\":\"#000000\"}}]}],\"label\":\"\",\"method\":\"relayout\"}],\"x\":0,\"xanchor\":\"left\",\"y\":0,\"yanchor\":\"top\"}]},                        {\"responsive\": true}                    ).then(function(){\n",
       "                            \n",
       "var gd = document.getElementById('3dcb35a9-3dc8-4cb1-a3d3-3fb180dbeeb7');\n",
       "var x = new MutationObserver(function (mutations, observer) {{\n",
       "        var display = window.getComputedStyle(gd).display;\n",
       "        if (!display || display === 'none') {{\n",
       "            console.log([gd, 'removed!']);\n",
       "            Plotly.purge(gd);\n",
       "            observer.disconnect();\n",
       "        }}\n",
       "}});\n",
       "\n",
       "// Listen for the removal of the full notebook cells\n",
       "var notebookContainer = gd.closest('#notebook-container');\n",
       "if (notebookContainer) {{\n",
       "    x.observe(notebookContainer, {childList: true});\n",
       "}}\n",
       "\n",
       "// Listen for the clearing of the current output cell\n",
       "var outputEl = gd.closest('.output');\n",
       "if (outputEl) {{\n",
       "    x.observe(outputEl, {childList: true});\n",
       "}}\n",
       "\n",
       "                        })                };                });            </script>        </div>"
      ]
     },
     "metadata": {},
     "output_type": "display_data"
    }
   ],
   "source": [
    "steps = []\n",
    "for i in np.linspace(0, max([n.y for n in g.nodes]), 20):\n",
    "    step = dict(\n",
    "        method=\"relayout\",\n",
    "        args=[dict(\n",
    "            shapes=[dict(type=\"rect\",\n",
    "                xref=\"x\", yref=\"y\",\n",
    "                x0=-0.1, y0=i, x1=0.1, y1=i+1,\n",
    "                line=dict(color=\"#000000\"),\n",
    "            )]\n",
    "        )],\n",
    "        label=\"\",\n",
    "    )\n",
    "    steps.append(step)\n",
    "\n",
    "fig.update_layout(\n",
    "    sliders=[dict(\n",
    "        steps=steps,\n",
    "        active=0,\n",
    "        currentvalue={\"visible\": False},\n",
    "        pad=dict(t=10, l=0, b=0, r=0),\n",
    "        x=0, xanchor=\"left\",\n",
    "        y=0, yanchor=\"top\"\n",
    "    )],\n",
    "    margin=dict(l=0, r=0, t=0, b=0)\n",
    ")\n",
    "fig.show(renderer='notebook_connected')"
   ]
  },
  {
   "cell_type": "markdown",
   "metadata": {},
   "source": [
    "### Cell output sizes"
   ]
  },
  {
   "cell_type": "code",
   "execution_count": 19,
   "metadata": {},
   "outputs": [
    {
     "data": {
      "text/markdown": [
       "|Cell number|Output size|Cell type  |First line  |\n",
       "|-----------|-----------|-----------|------------|\n",
       "|0|0|markdown|## Introduction|\n",
       "|1|0|markdown|## Dropdown menus for marker styling|\n",
       "|2|0|markdown|### For a single trace|\n",
       "|3|0|code|import sys, importlib|\n",
       "|4|532|code|class MnistCnn(nn.Module):|\n",
       "|5|1138|code|mav.tracer.g.nodes|\n",
       "|6|11522|code|g = mav.tracer.g|\n",
       "|7|12352|code|fig.update_layout(|\n",
       "|8|0|markdown|### For multiple traces|\n",
       "|9|0|code|import sys, importlib|\n",
       "|10|0|code|class MnistCnn(nn.Module):|\n",
       "|11|13931|code|g = mav.tracer.g|\n",
       "|12|15320|code|fig.update_layout(|\n",
       "|13|0|markdown|### Observations|\n",
       "|14|0|markdown|### Decisions|\n",
       "|15|0|markdown|## Slider moving a box around|\n",
       "|16|0|markdown|### Scatter trace with mode='lines'|\n",
       "|17|0|code|import sys, importlib|\n",
       "|18|0|code|class MnistCnn(nn.Module):|\n",
       "|19|11662|code|g = mav.tracer.g|\n",
       "|20|17349|code|steps = []|\n",
       "|21|0|markdown|### Shapes layer|\n",
       "|22|0|code|import sys, importlib|\n",
       "|23|0|code|class MnistCnn(nn.Module):|\n",
       "|24|11646|code|g = mav.tracer.g|\n",
       "|25|15459|code|steps = []|\n",
       "|26|0|markdown|### Observations|"
      ],
      "text/plain": [
       "<IPython.core.display.Markdown object>"
      ]
     },
     "metadata": {},
     "output_type": "display_data"
    }
   ],
   "source": [
    "from idlmav.mavdbgutils import display_nb_cell_output_sizes\n",
    "display_nb_cell_output_sizes('18_explore_plotly_frontend_controls.ipynb')"
   ]
  },
  {
   "cell_type": "markdown",
   "metadata": {},
   "source": [
    "### Observations\n",
    "* There is no way to change the orientation of the slider to vertical\n",
    "* Data are written to the DOM for every slider step \n",
    "  * When the user drags a slider, values to update are retrieved via indexing, not calculated\n",
    "  * As such, fine-grained slider steps are expensive in terms of DOM size\n",
    "* Updating coordinates of `go.Scatter` objects is doable, but requires specifying the coordinates of all `go.Scatter` traces for every slider step\n",
    "  * This may be very expensive if the figure contains many scatter data points\n",
    "  * Updating the shapes layer may be more efficient"
   ]
  },
  {
   "cell_type": "markdown",
   "metadata": {},
   "source": [
    "### With multiple panels\n",
    "Now we can proceed to add two panels: one containing the zoomed-out overview with the rectangular box and one containing the zoomed-in data panned by the slider"
   ]
  },
  {
   "cell_type": "code",
   "execution_count": 12,
   "metadata": {},
   "outputs": [],
   "source": [
    "import sys, importlib\n",
    "sys.path.append('..')\n",
    "import torch\n",
    "from torch import nn, Tensor\n",
    "import torch.nn.functional as F\n",
    "import plotly.graph_objects as go\n",
    "from plotly.subplots import make_subplots\n",
    "import numpy as np\n",
    "from idlmav import MAV, color_graph_nodes, FigureRenderer\n",
    "\n",
    "def reload_imports():\n",
    "    importlib.reload(sys.modules['idlmav.renderers.figure_renderer'])\n",
    "    importlib.reload(sys.modules['idlmav.tracing'])\n",
    "    importlib.reload(sys.modules['idlmav.layout'])\n",
    "    importlib.reload(sys.modules['idlmav.idlmav'])\n",
    "    importlib.reload(sys.modules['idlmav'])\n",
    "    global MAV, FigureRenderer\n",
    "    from idlmav import MAV, FigureRenderer"
   ]
  },
  {
   "cell_type": "code",
   "execution_count": 13,
   "metadata": {},
   "outputs": [],
   "source": [
    "class MnistCnn(nn.Module):\n",
    "    def __init__(self):\n",
    "        super().__init__()\n",
    "        self.conv1 = nn.Conv2d(1, 32, 3, 1)\n",
    "        self.conv2 = nn.Conv2d(32, 64, 3, 1)\n",
    "        self.dropout1 = nn.Dropout(0.25)\n",
    "        self.dropout2 = nn.Dropout(0.5)\n",
    "        self.fc1 = nn.Linear(9216, 128)\n",
    "        self.fc2 = nn.Linear(128, 10)\n",
    "\n",
    "    def forward(self, x):\n",
    "        x = self.conv1(x)\n",
    "        x = F.relu(x)\n",
    "        x = self.conv2(x)\n",
    "        x = F.relu(x)\n",
    "        x = F.max_pool2d(x, 2)\n",
    "        x = self.dropout1(x)\n",
    "        x = torch.flatten(x, 1)\n",
    "        x = self.fc1(x)\n",
    "        x = F.relu(x)\n",
    "        x = self.dropout2(x)\n",
    "        x = self.fc2(x)\n",
    "        output = F.log_softmax(x, dim=1)\n",
    "        return output\n",
    "    \n",
    "model = MnistCnn()\n",
    "inputs = torch.randn((16,1,28,28))\n",
    "mav = MAV(model, inputs)\n",
    "color_graph_nodes(mav.tracer.g)"
   ]
  },
  {
   "cell_type": "code",
   "execution_count": null,
   "metadata": {},
   "outputs": [
    {
     "data": {
      "text/html": [
       "        <script type=\"text/javascript\">\n",
       "        window.PlotlyConfig = {MathJaxConfig: 'local'};\n",
       "        if (window.MathJax && window.MathJax.Hub && window.MathJax.Hub.Config) {window.MathJax.Hub.Config({SVG: {font: \"STIX-Web\"}});}\n",
       "        if (typeof require !== 'undefined') {\n",
       "        require.undef(\"plotly\");\n",
       "        requirejs.config({\n",
       "            paths: {\n",
       "                'plotly': ['https://cdn.plot.ly/plotly-2.35.2.min']\n",
       "            }\n",
       "        });\n",
       "        require(['plotly'], function(Plotly) {\n",
       "            window._Plotly = Plotly;\n",
       "        });\n",
       "        }\n",
       "        </script>\n",
       "        "
      ]
     },
     "metadata": {},
     "output_type": "display_data"
    },
    {
     "data": {
      "text/html": [
       "<div>                            <div id=\"16dfc7ea-419a-419c-a757-c73eeb4838d5\" class=\"plotly-graph-div\" style=\"height:300px; width:500px;\"></div>            <script type=\"text/javascript\">                require([\"plotly\"], function(Plotly) {                    window.PLOTLYENV=window.PLOTLYENV || {};                                    if (document.getElementById(\"16dfc7ea-419a-419c-a757-c73eeb4838d5\")) {                    Plotly.newPlot(                        \"16dfc7ea-419a-419c-a757-c73eeb4838d5\",                        [{\"customdata\":[[\"x\",\"input\",\"(16,1,28,28)\",\"0\",\"0\",\"()\",\"{}\"],[\"conv1\",\"nn.Conv2d\",\"(16,32,26,26)\",\"320\",\"6 230 016\",\"(x,)\",\"{}\"],[\"relu\",\"relu()\",\"(16,32,26,26)\",\"0\",\"0\",\"(conv1,)\",\"{'inplace': False}\"],[\"conv2\",\"nn.Conv2d\",\"(16,64,24,24)\",\"18 496\",\"339 738 624\",\"(relu,)\",\"{}\"],[\"relu_1\",\"relu()\",\"(16,64,24,24)\",\"0\",\"0\",\"(conv2,)\",\"{'inplace': False}\"],[\"max_pool2d\",\"max_pool2d()\",\"(16,64,12,12)\",\"0\",\"0\",\"(relu_1, 2)\",\"{'stride': None, 'padding': 0, 'dilation': 1, 'ceil_mode': False, 'return_indices': False}\"],[\"dropout1\",\"nn.Dropout\",\"(16,64,12,12)\",\"0\",\"147 456\",\"(max_pool2d,)\",\"{}\"],[\"flatten\",\"flatten()\",\"(16,9216)\",\"0\",\"0\",\"(dropout1, 1)\",\"{}\"],[\"fc1\",\"nn.Linear\",\"(16,128)\",\"1 179 776\",\"37 748 736\",\"(flatten,)\",\"{}\"],[\"relu_2\",\"relu()\",\"(16,128)\",\"0\",\"0\",\"(fc1,)\",\"{'inplace': False}\"],[\"dropout2\",\"nn.Dropout\",\"(16,128)\",\"0\",\"2 048\",\"(relu_2,)\",\"{}\"],[\"fc2\",\"nn.Linear\",\"(16,10)\",\"1 290\",\"40 960\",\"(dropout2,)\",\"{}\"],[\"log_softmax\",\"log_softmax()\",\"(16,10)\",\"0\",\"0\",\"(fc2,)\",\"{'dim': 1, '_stacklevel': 3, 'dtype': None}\"],[\"output\",\"output\",\"(16,10)\",\"0\",\"0\",\"(log_softmax,)\",\"{}\"]],\"hovertemplate\":\"Name: %{customdata[0]}\\u003cbr\\u003eOperation: %{customdata[1]}\\u003cbr\\u003eActivations: %{customdata[2]}\\u003cbr\\u003eParameters: %{customdata[3]}\\u003cbr\\u003eFLOPS: %{customdata[4]}\\u003cbr\\u003e\\u003cbr\\u003eargs: %{customdata[5]}\\u003cbr\\u003ekwargs: %{customdata[6]}\\u003cbr\\u003e\\u003cextra\\u003e\\u003c\\u002fextra\\u003e\",\"marker\":{\"color\":[\"#222A2A\",\"#00A08B\",\"#1616A7\",\"#00A08B\",\"#1616A7\",\"#DA60CA\",\"#1CA71C\",\"#778AAE\",\"#2E91E5\",\"#1616A7\",\"#1CA71C\",\"#2E91E5\",\"#1616A7\",\"#222A2A\"],\"colorscale\":[[0.0,\"rgb(0,0,255)\"],[1.0,\"rgb(255,0,0)\"]],\"size\":[6.0,6.0,6.0,11.928009913453302,6.0,6.0,6.0,6.0,18.0,6.0,6.0,8.037003250024952,6.0,6.0]},\"mode\":\"markers\",\"showlegend\":false,\"x\":[0.0,0.0,0.0,0.0,0.0,0.0,0.0,0.0,0.0,0.0,0.0,0.0,0.0,0.0],\"y\":[0,1,1.15,2,2.15,2.3,2.45,2.6,3,3.15,3.3,4,4.15,5],\"type\":\"scatter\",\"xaxis\":\"x\",\"yaxis\":\"y\"},{\"customdata\":[[\"x\",\"input\",\"(16,1,28,28)\",\"0\",\"0\",\"()\",\"{}\"],[\"conv1\",\"nn.Conv2d\",\"(16,32,26,26)\",\"320\",\"6 230 016\",\"(x,)\",\"{}\"],[\"relu\",\"relu()\",\"(16,32,26,26)\",\"0\",\"0\",\"(conv1,)\",\"{'inplace': False}\"],[\"conv2\",\"nn.Conv2d\",\"(16,64,24,24)\",\"18 496\",\"339 738 624\",\"(relu,)\",\"{}\"],[\"relu_1\",\"relu()\",\"(16,64,24,24)\",\"0\",\"0\",\"(conv2,)\",\"{'inplace': False}\"],[\"max_pool2d\",\"max_pool2d()\",\"(16,64,12,12)\",\"0\",\"0\",\"(relu_1, 2)\",\"{'stride': None, 'padding': 0, 'dilation': 1, 'ceil_mode': False, 'return_indices': False}\"],[\"dropout1\",\"nn.Dropout\",\"(16,64,12,12)\",\"0\",\"147 456\",\"(max_pool2d,)\",\"{}\"],[\"flatten\",\"flatten()\",\"(16,9216)\",\"0\",\"0\",\"(dropout1, 1)\",\"{}\"],[\"fc1\",\"nn.Linear\",\"(16,128)\",\"1 179 776\",\"37 748 736\",\"(flatten,)\",\"{}\"],[\"relu_2\",\"relu()\",\"(16,128)\",\"0\",\"0\",\"(fc1,)\",\"{'inplace': False}\"],[\"dropout2\",\"nn.Dropout\",\"(16,128)\",\"0\",\"2 048\",\"(relu_2,)\",\"{}\"],[\"fc2\",\"nn.Linear\",\"(16,10)\",\"1 290\",\"40 960\",\"(dropout2,)\",\"{}\"],[\"log_softmax\",\"log_softmax()\",\"(16,10)\",\"0\",\"0\",\"(fc2,)\",\"{'dim': 1, '_stacklevel': 3, 'dtype': None}\"],[\"output\",\"output\",\"(16,10)\",\"0\",\"0\",\"(log_softmax,)\",\"{}\"]],\"hovertemplate\":\"Name: %{customdata[0]}\\u003cbr\\u003eOperation: %{customdata[1]}\\u003cbr\\u003eActivations: %{customdata[2]}\\u003cbr\\u003eParameters: %{customdata[3]}\\u003cbr\\u003eFLOPS: %{customdata[4]}\\u003cbr\\u003e\\u003cbr\\u003eargs: %{customdata[5]}\\u003cbr\\u003ekwargs: %{customdata[6]}\\u003cbr\\u003e\\u003cextra\\u003e\\u003c\\u002fextra\\u003e\",\"marker\":{\"color\":[\"#222A2A\",\"#00A08B\",\"#1616A7\",\"#00A08B\",\"#1616A7\",\"#DA60CA\",\"#1CA71C\",\"#778AAE\",\"#2E91E5\",\"#1616A7\",\"#1CA71C\",\"#2E91E5\",\"#1616A7\",\"#222A2A\"],\"colorscale\":[[0.0,\"rgb(0,0,255)\"],[1.0,\"rgb(255,0,0)\"]],\"size\":[6.0,6.0,6.0,11.928009913453302,6.0,6.0,6.0,6.0,18.0,6.0,6.0,8.037003250024952,6.0,6.0]},\"mode\":\"markers\",\"showlegend\":false,\"x\":[0.0,0.0,0.0,0.0,0.0,0.0,0.0,0.0,0.0,0.0,0.0,0.0,0.0,0.0],\"y\":[0,1,1.15,2,2.15,2.3,2.45,2.6,3,3.15,3.3,4,4.15,5],\"type\":\"scatter\",\"xaxis\":\"x2\",\"yaxis\":\"y2\"}],                        {\"template\":{\"data\":{\"histogram2dcontour\":[{\"type\":\"histogram2dcontour\",\"colorbar\":{\"outlinewidth\":0,\"ticks\":\"\"},\"colorscale\":[[0.0,\"#0d0887\"],[0.1111111111111111,\"#46039f\"],[0.2222222222222222,\"#7201a8\"],[0.3333333333333333,\"#9c179e\"],[0.4444444444444444,\"#bd3786\"],[0.5555555555555556,\"#d8576b\"],[0.6666666666666666,\"#ed7953\"],[0.7777777777777778,\"#fb9f3a\"],[0.8888888888888888,\"#fdca26\"],[1.0,\"#f0f921\"]]}],\"choropleth\":[{\"type\":\"choropleth\",\"colorbar\":{\"outlinewidth\":0,\"ticks\":\"\"}}],\"histogram2d\":[{\"type\":\"histogram2d\",\"colorbar\":{\"outlinewidth\":0,\"ticks\":\"\"},\"colorscale\":[[0.0,\"#0d0887\"],[0.1111111111111111,\"#46039f\"],[0.2222222222222222,\"#7201a8\"],[0.3333333333333333,\"#9c179e\"],[0.4444444444444444,\"#bd3786\"],[0.5555555555555556,\"#d8576b\"],[0.6666666666666666,\"#ed7953\"],[0.7777777777777778,\"#fb9f3a\"],[0.8888888888888888,\"#fdca26\"],[1.0,\"#f0f921\"]]}],\"heatmap\":[{\"type\":\"heatmap\",\"colorbar\":{\"outlinewidth\":0,\"ticks\":\"\"},\"colorscale\":[[0.0,\"#0d0887\"],[0.1111111111111111,\"#46039f\"],[0.2222222222222222,\"#7201a8\"],[0.3333333333333333,\"#9c179e\"],[0.4444444444444444,\"#bd3786\"],[0.5555555555555556,\"#d8576b\"],[0.6666666666666666,\"#ed7953\"],[0.7777777777777778,\"#fb9f3a\"],[0.8888888888888888,\"#fdca26\"],[1.0,\"#f0f921\"]]}],\"heatmapgl\":[{\"type\":\"heatmapgl\",\"colorbar\":{\"outlinewidth\":0,\"ticks\":\"\"},\"colorscale\":[[0.0,\"#0d0887\"],[0.1111111111111111,\"#46039f\"],[0.2222222222222222,\"#7201a8\"],[0.3333333333333333,\"#9c179e\"],[0.4444444444444444,\"#bd3786\"],[0.5555555555555556,\"#d8576b\"],[0.6666666666666666,\"#ed7953\"],[0.7777777777777778,\"#fb9f3a\"],[0.8888888888888888,\"#fdca26\"],[1.0,\"#f0f921\"]]}],\"contourcarpet\":[{\"type\":\"contourcarpet\",\"colorbar\":{\"outlinewidth\":0,\"ticks\":\"\"}}],\"contour\":[{\"type\":\"contour\",\"colorbar\":{\"outlinewidth\":0,\"ticks\":\"\"},\"colorscale\":[[0.0,\"#0d0887\"],[0.1111111111111111,\"#46039f\"],[0.2222222222222222,\"#7201a8\"],[0.3333333333333333,\"#9c179e\"],[0.4444444444444444,\"#bd3786\"],[0.5555555555555556,\"#d8576b\"],[0.6666666666666666,\"#ed7953\"],[0.7777777777777778,\"#fb9f3a\"],[0.8888888888888888,\"#fdca26\"],[1.0,\"#f0f921\"]]}],\"surface\":[{\"type\":\"surface\",\"colorbar\":{\"outlinewidth\":0,\"ticks\":\"\"},\"colorscale\":[[0.0,\"#0d0887\"],[0.1111111111111111,\"#46039f\"],[0.2222222222222222,\"#7201a8\"],[0.3333333333333333,\"#9c179e\"],[0.4444444444444444,\"#bd3786\"],[0.5555555555555556,\"#d8576b\"],[0.6666666666666666,\"#ed7953\"],[0.7777777777777778,\"#fb9f3a\"],[0.8888888888888888,\"#fdca26\"],[1.0,\"#f0f921\"]]}],\"mesh3d\":[{\"type\":\"mesh3d\",\"colorbar\":{\"outlinewidth\":0,\"ticks\":\"\"}}],\"scatter\":[{\"fillpattern\":{\"fillmode\":\"overlay\",\"size\":10,\"solidity\":0.2},\"type\":\"scatter\"}],\"parcoords\":[{\"type\":\"parcoords\",\"line\":{\"colorbar\":{\"outlinewidth\":0,\"ticks\":\"\"}}}],\"scatterpolargl\":[{\"type\":\"scatterpolargl\",\"marker\":{\"colorbar\":{\"outlinewidth\":0,\"ticks\":\"\"}}}],\"bar\":[{\"error_x\":{\"color\":\"#2a3f5f\"},\"error_y\":{\"color\":\"#2a3f5f\"},\"marker\":{\"line\":{\"color\":\"#E5ECF6\",\"width\":0.5},\"pattern\":{\"fillmode\":\"overlay\",\"size\":10,\"solidity\":0.2}},\"type\":\"bar\"}],\"scattergeo\":[{\"type\":\"scattergeo\",\"marker\":{\"colorbar\":{\"outlinewidth\":0,\"ticks\":\"\"}}}],\"scatterpolar\":[{\"type\":\"scatterpolar\",\"marker\":{\"colorbar\":{\"outlinewidth\":0,\"ticks\":\"\"}}}],\"histogram\":[{\"marker\":{\"pattern\":{\"fillmode\":\"overlay\",\"size\":10,\"solidity\":0.2}},\"type\":\"histogram\"}],\"scattergl\":[{\"type\":\"scattergl\",\"marker\":{\"colorbar\":{\"outlinewidth\":0,\"ticks\":\"\"}}}],\"scatter3d\":[{\"type\":\"scatter3d\",\"line\":{\"colorbar\":{\"outlinewidth\":0,\"ticks\":\"\"}},\"marker\":{\"colorbar\":{\"outlinewidth\":0,\"ticks\":\"\"}}}],\"scattermapbox\":[{\"type\":\"scattermapbox\",\"marker\":{\"colorbar\":{\"outlinewidth\":0,\"ticks\":\"\"}}}],\"scatterternary\":[{\"type\":\"scatterternary\",\"marker\":{\"colorbar\":{\"outlinewidth\":0,\"ticks\":\"\"}}}],\"scattercarpet\":[{\"type\":\"scattercarpet\",\"marker\":{\"colorbar\":{\"outlinewidth\":0,\"ticks\":\"\"}}}],\"carpet\":[{\"aaxis\":{\"endlinecolor\":\"#2a3f5f\",\"gridcolor\":\"white\",\"linecolor\":\"white\",\"minorgridcolor\":\"white\",\"startlinecolor\":\"#2a3f5f\"},\"baxis\":{\"endlinecolor\":\"#2a3f5f\",\"gridcolor\":\"white\",\"linecolor\":\"white\",\"minorgridcolor\":\"white\",\"startlinecolor\":\"#2a3f5f\"},\"type\":\"carpet\"}],\"table\":[{\"cells\":{\"fill\":{\"color\":\"#EBF0F8\"},\"line\":{\"color\":\"white\"}},\"header\":{\"fill\":{\"color\":\"#C8D4E3\"},\"line\":{\"color\":\"white\"}},\"type\":\"table\"}],\"barpolar\":[{\"marker\":{\"line\":{\"color\":\"#E5ECF6\",\"width\":0.5},\"pattern\":{\"fillmode\":\"overlay\",\"size\":10,\"solidity\":0.2}},\"type\":\"barpolar\"}],\"pie\":[{\"automargin\":true,\"type\":\"pie\"}]},\"layout\":{\"autotypenumbers\":\"strict\",\"colorway\":[\"#636efa\",\"#EF553B\",\"#00cc96\",\"#ab63fa\",\"#FFA15A\",\"#19d3f3\",\"#FF6692\",\"#B6E880\",\"#FF97FF\",\"#FECB52\"],\"font\":{\"color\":\"#2a3f5f\"},\"hovermode\":\"closest\",\"hoverlabel\":{\"align\":\"left\"},\"paper_bgcolor\":\"white\",\"plot_bgcolor\":\"#E5ECF6\",\"polar\":{\"bgcolor\":\"#E5ECF6\",\"angularaxis\":{\"gridcolor\":\"white\",\"linecolor\":\"white\",\"ticks\":\"\"},\"radialaxis\":{\"gridcolor\":\"white\",\"linecolor\":\"white\",\"ticks\":\"\"}},\"ternary\":{\"bgcolor\":\"#E5ECF6\",\"aaxis\":{\"gridcolor\":\"white\",\"linecolor\":\"white\",\"ticks\":\"\"},\"baxis\":{\"gridcolor\":\"white\",\"linecolor\":\"white\",\"ticks\":\"\"},\"caxis\":{\"gridcolor\":\"white\",\"linecolor\":\"white\",\"ticks\":\"\"}},\"coloraxis\":{\"colorbar\":{\"outlinewidth\":0,\"ticks\":\"\"}},\"colorscale\":{\"sequential\":[[0.0,\"#0d0887\"],[0.1111111111111111,\"#46039f\"],[0.2222222222222222,\"#7201a8\"],[0.3333333333333333,\"#9c179e\"],[0.4444444444444444,\"#bd3786\"],[0.5555555555555556,\"#d8576b\"],[0.6666666666666666,\"#ed7953\"],[0.7777777777777778,\"#fb9f3a\"],[0.8888888888888888,\"#fdca26\"],[1.0,\"#f0f921\"]],\"sequentialminus\":[[0.0,\"#0d0887\"],[0.1111111111111111,\"#46039f\"],[0.2222222222222222,\"#7201a8\"],[0.3333333333333333,\"#9c179e\"],[0.4444444444444444,\"#bd3786\"],[0.5555555555555556,\"#d8576b\"],[0.6666666666666666,\"#ed7953\"],[0.7777777777777778,\"#fb9f3a\"],[0.8888888888888888,\"#fdca26\"],[1.0,\"#f0f921\"]],\"diverging\":[[0,\"#8e0152\"],[0.1,\"#c51b7d\"],[0.2,\"#de77ae\"],[0.3,\"#f1b6da\"],[0.4,\"#fde0ef\"],[0.5,\"#f7f7f7\"],[0.6,\"#e6f5d0\"],[0.7,\"#b8e186\"],[0.8,\"#7fbc41\"],[0.9,\"#4d9221\"],[1,\"#276419\"]]},\"xaxis\":{\"gridcolor\":\"white\",\"linecolor\":\"white\",\"ticks\":\"\",\"title\":{\"standoff\":15},\"zerolinecolor\":\"white\",\"automargin\":true,\"zerolinewidth\":2},\"yaxis\":{\"gridcolor\":\"white\",\"linecolor\":\"white\",\"ticks\":\"\",\"title\":{\"standoff\":15},\"zerolinecolor\":\"white\",\"automargin\":true,\"zerolinewidth\":2},\"scene\":{\"xaxis\":{\"backgroundcolor\":\"#E5ECF6\",\"gridcolor\":\"white\",\"linecolor\":\"white\",\"showbackground\":true,\"ticks\":\"\",\"zerolinecolor\":\"white\",\"gridwidth\":2},\"yaxis\":{\"backgroundcolor\":\"#E5ECF6\",\"gridcolor\":\"white\",\"linecolor\":\"white\",\"showbackground\":true,\"ticks\":\"\",\"zerolinecolor\":\"white\",\"gridwidth\":2},\"zaxis\":{\"backgroundcolor\":\"#E5ECF6\",\"gridcolor\":\"white\",\"linecolor\":\"white\",\"showbackground\":true,\"ticks\":\"\",\"zerolinecolor\":\"white\",\"gridwidth\":2}},\"shapedefaults\":{\"line\":{\"color\":\"#2a3f5f\"}},\"annotationdefaults\":{\"arrowcolor\":\"#2a3f5f\",\"arrowhead\":0,\"arrowwidth\":1},\"geo\":{\"bgcolor\":\"white\",\"landcolor\":\"#E5ECF6\",\"subunitcolor\":\"white\",\"showland\":true,\"showlakes\":true,\"lakecolor\":\"white\"},\"title\":{\"x\":0.05},\"mapbox\":{\"style\":\"light\"}}},\"xaxis\":{\"anchor\":\"y\",\"domain\":[0.0,0.225],\"showgrid\":false,\"zeroline\":false,\"tickmode\":\"array\",\"tickvals\":[],\"range\":[-0.11,0.11]},\"yaxis\":{\"anchor\":\"x\",\"domain\":[0.0,1.0],\"showgrid\":false,\"zeroline\":false,\"tickmode\":\"array\",\"tickvals\":[],\"range\":[5.2,-0.2]},\"xaxis2\":{\"anchor\":\"y2\",\"domain\":[0.325,1.0],\"showgrid\":false,\"zeroline\":false,\"tickmode\":\"array\",\"tickvals\":[],\"range\":[-0.1,0.1]},\"yaxis2\":{\"anchor\":\"x2\",\"domain\":[0.0,1.0],\"showgrid\":false,\"zeroline\":false,\"tickmode\":\"array\",\"tickvals\":[],\"range\":[1.9,-0.1]},\"margin\":{\"l\":0,\"r\":0,\"t\":0,\"b\":0},\"width\":500,\"height\":300,\"shapes\":[{\"line\":{\"color\":\"#000000\"},\"type\":\"rect\",\"x0\":-0.1,\"x1\":0.1,\"xref\":\"x\",\"y0\":-0.1,\"y1\":1.9,\"yref\":\"y\"}]},                        {\"responsive\": true}                    ).then(function(){\n",
       "                            \n",
       "var gd = document.getElementById('16dfc7ea-419a-419c-a757-c73eeb4838d5');\n",
       "var x = new MutationObserver(function (mutations, observer) {{\n",
       "        var display = window.getComputedStyle(gd).display;\n",
       "        if (!display || display === 'none') {{\n",
       "            console.log([gd, 'removed!']);\n",
       "            Plotly.purge(gd);\n",
       "            observer.disconnect();\n",
       "        }}\n",
       "}});\n",
       "\n",
       "// Listen for the removal of the full notebook cells\n",
       "var notebookContainer = gd.closest('#notebook-container');\n",
       "if (notebookContainer) {{\n",
       "    x.observe(notebookContainer, {childList: true});\n",
       "}}\n",
       "\n",
       "// Listen for the clearing of the current output cell\n",
       "var outputEl = gd.closest('.output');\n",
       "if (outputEl) {{\n",
       "    x.observe(outputEl, {childList: true});\n",
       "}}\n",
       "\n",
       "                        })                };                });            </script>        </div>"
      ]
     },
     "metadata": {},
     "output_type": "display_data"
    }
   ],
   "source": [
    "g = mav.tracer.g\n",
    "renderer = FigureRenderer(g)  # For helper functions e.g. \"params_to_dot_size\"\n",
    "max_y = max([n.y for n in g.nodes])\n",
    "\n",
    "fig = make_subplots(rows=1, cols=2, vertical_spacing=0.03, \n",
    "                    specs=[[{\"type\": \"scatter\"},{\"type\": \"scatter\"}]], column_widths=[1,3])\n",
    "fig.update_layout(width=500, height=300, margin=dict(l=0, r=0, t=0, b=0))\n",
    "\n",
    "node_trace = go.Scatter(\n",
    "    x=[n.x for n in g.nodes], \n",
    "    y=[n.y for n in g.nodes], \n",
    "    mode='markers', \n",
    "    marker=dict(\n",
    "        size=[renderer.params_to_dot_size(n.params) for n in g.nodes],\n",
    "        color=[renderer.get_node_color(n) for n in g.nodes],\n",
    "        colorscale='Bluered'\n",
    "    ),\n",
    "    hovertemplate=(\n",
    "        'Name: %{customdata[0]}<br>' +\n",
    "        'Operation: %{customdata[1]}<br>' +\n",
    "        'Activations: %{customdata[2]}<br>' +\n",
    "        'Parameters: %{customdata[3]}<br>' +\n",
    "        'FLOPS: %{customdata[4]}<br>' +\n",
    "        '<br>' +\n",
    "        'args: %{customdata[5]}<br>' +\n",
    "        'kwargs: %{customdata[6]}<br>' +\n",
    "        '<extra></extra>'\n",
    "    ),\n",
    "    customdata=[renderer.node_data(n) + renderer.node_arg_data(n) for n in g.nodes],\n",
    "    showlegend=False\n",
    ")\n",
    "fig.add_trace(node_trace, row=1, col=1)\n",
    "fig.add_trace(node_trace, row=1, col=2)\n",
    "\n",
    "fig.update_xaxes(showgrid=False, zeroline=False, tickmode='array', tickvals=[])\n",
    "fig.update_yaxes(showgrid=False, zeroline=False, tickmode='array', tickvals=[])\n",
    "fig.update_layout(xaxis_range=[-0.11,0.11], xaxis2_range=[-0.1,0.1],\n",
    "                  yaxis_range=[max_y+0.2,-0.2], yaxis2_range=[1.9,-0.1])\n",
    "\n",
    "fig.add_shape(type=\"rect\",\n",
    "    xref=\"x\", yref=\"y\",\n",
    "    x0=-0.1, y0=-0.1, x1=0.1, y1=1.9,\n",
    "    line=dict(color=\"#000000\"),\n",
    "    row=1, col=1\n",
    ")\n",
    "\n",
    "fig.show(renderer='notebook_connected')\n"
   ]
  },
  {
   "cell_type": "code",
   "execution_count": null,
   "metadata": {},
   "outputs": [
    {
     "data": {
      "text/html": [
       "        <script type=\"text/javascript\">\n",
       "        window.PlotlyConfig = {MathJaxConfig: 'local'};\n",
       "        if (window.MathJax && window.MathJax.Hub && window.MathJax.Hub.Config) {window.MathJax.Hub.Config({SVG: {font: \"STIX-Web\"}});}\n",
       "        if (typeof require !== 'undefined') {\n",
       "        require.undef(\"plotly\");\n",
       "        requirejs.config({\n",
       "            paths: {\n",
       "                'plotly': ['https://cdn.plot.ly/plotly-2.35.2.min']\n",
       "            }\n",
       "        });\n",
       "        require(['plotly'], function(Plotly) {\n",
       "            window._Plotly = Plotly;\n",
       "        });\n",
       "        }\n",
       "        </script>\n",
       "        "
      ]
     },
     "metadata": {},
     "output_type": "display_data"
    },
    {
     "data": {
      "text/html": [
       "<div>                            <div id=\"51869075-47fc-4451-93d9-83c150f8523b\" class=\"plotly-graph-div\" style=\"height:300px; width:500px;\"></div>            <script type=\"text/javascript\">                require([\"plotly\"], function(Plotly) {                    window.PLOTLYENV=window.PLOTLYENV || {};                                    if (document.getElementById(\"51869075-47fc-4451-93d9-83c150f8523b\")) {                    Plotly.newPlot(                        \"51869075-47fc-4451-93d9-83c150f8523b\",                        [{\"customdata\":[[\"x\",\"input\",\"(16,1,28,28)\",\"0\",\"0\",\"()\",\"{}\"],[\"conv1\",\"nn.Conv2d\",\"(16,32,26,26)\",\"320\",\"6 230 016\",\"(x,)\",\"{}\"],[\"relu\",\"relu()\",\"(16,32,26,26)\",\"0\",\"0\",\"(conv1,)\",\"{'inplace': False}\"],[\"conv2\",\"nn.Conv2d\",\"(16,64,24,24)\",\"18 496\",\"339 738 624\",\"(relu,)\",\"{}\"],[\"relu_1\",\"relu()\",\"(16,64,24,24)\",\"0\",\"0\",\"(conv2,)\",\"{'inplace': False}\"],[\"max_pool2d\",\"max_pool2d()\",\"(16,64,12,12)\",\"0\",\"0\",\"(relu_1, 2)\",\"{'stride': None, 'padding': 0, 'dilation': 1, 'ceil_mode': False, 'return_indices': False}\"],[\"dropout1\",\"nn.Dropout\",\"(16,64,12,12)\",\"0\",\"147 456\",\"(max_pool2d,)\",\"{}\"],[\"flatten\",\"flatten()\",\"(16,9216)\",\"0\",\"0\",\"(dropout1, 1)\",\"{}\"],[\"fc1\",\"nn.Linear\",\"(16,128)\",\"1 179 776\",\"37 748 736\",\"(flatten,)\",\"{}\"],[\"relu_2\",\"relu()\",\"(16,128)\",\"0\",\"0\",\"(fc1,)\",\"{'inplace': False}\"],[\"dropout2\",\"nn.Dropout\",\"(16,128)\",\"0\",\"2 048\",\"(relu_2,)\",\"{}\"],[\"fc2\",\"nn.Linear\",\"(16,10)\",\"1 290\",\"40 960\",\"(dropout2,)\",\"{}\"],[\"log_softmax\",\"log_softmax()\",\"(16,10)\",\"0\",\"0\",\"(fc2,)\",\"{'dim': 1, '_stacklevel': 3, 'dtype': None}\"],[\"output\",\"output\",\"(16,10)\",\"0\",\"0\",\"(log_softmax,)\",\"{}\"]],\"hovertemplate\":\"Name: %{customdata[0]}\\u003cbr\\u003eOperation: %{customdata[1]}\\u003cbr\\u003eActivations: %{customdata[2]}\\u003cbr\\u003eParameters: %{customdata[3]}\\u003cbr\\u003eFLOPS: %{customdata[4]}\\u003cbr\\u003e\\u003cbr\\u003eargs: %{customdata[5]}\\u003cbr\\u003ekwargs: %{customdata[6]}\\u003cbr\\u003e\\u003cextra\\u003e\\u003c\\u002fextra\\u003e\",\"marker\":{\"color\":[\"#222A2A\",\"#00A08B\",\"#1616A7\",\"#00A08B\",\"#1616A7\",\"#DA60CA\",\"#1CA71C\",\"#778AAE\",\"#2E91E5\",\"#1616A7\",\"#1CA71C\",\"#2E91E5\",\"#1616A7\",\"#222A2A\"],\"colorscale\":[[0.0,\"rgb(0,0,255)\"],[1.0,\"rgb(255,0,0)\"]],\"size\":[6.0,6.0,6.0,11.928009913453302,6.0,6.0,6.0,6.0,18.0,6.0,6.0,8.037003250024952,6.0,6.0]},\"mode\":\"markers\",\"showlegend\":false,\"x\":[0.0,0.0,0.0,0.0,0.0,0.0,0.0,0.0,0.0,0.0,0.0,0.0,0.0,0.0],\"y\":[0,1,1.15,2,2.15,2.3,2.45,2.6,3,3.15,3.3,4,4.15,5],\"type\":\"scatter\",\"xaxis\":\"x\",\"yaxis\":\"y\"},{\"customdata\":[[\"x\",\"input\",\"(16,1,28,28)\",\"0\",\"0\",\"()\",\"{}\"],[\"conv1\",\"nn.Conv2d\",\"(16,32,26,26)\",\"320\",\"6 230 016\",\"(x,)\",\"{}\"],[\"relu\",\"relu()\",\"(16,32,26,26)\",\"0\",\"0\",\"(conv1,)\",\"{'inplace': False}\"],[\"conv2\",\"nn.Conv2d\",\"(16,64,24,24)\",\"18 496\",\"339 738 624\",\"(relu,)\",\"{}\"],[\"relu_1\",\"relu()\",\"(16,64,24,24)\",\"0\",\"0\",\"(conv2,)\",\"{'inplace': False}\"],[\"max_pool2d\",\"max_pool2d()\",\"(16,64,12,12)\",\"0\",\"0\",\"(relu_1, 2)\",\"{'stride': None, 'padding': 0, 'dilation': 1, 'ceil_mode': False, 'return_indices': False}\"],[\"dropout1\",\"nn.Dropout\",\"(16,64,12,12)\",\"0\",\"147 456\",\"(max_pool2d,)\",\"{}\"],[\"flatten\",\"flatten()\",\"(16,9216)\",\"0\",\"0\",\"(dropout1, 1)\",\"{}\"],[\"fc1\",\"nn.Linear\",\"(16,128)\",\"1 179 776\",\"37 748 736\",\"(flatten,)\",\"{}\"],[\"relu_2\",\"relu()\",\"(16,128)\",\"0\",\"0\",\"(fc1,)\",\"{'inplace': False}\"],[\"dropout2\",\"nn.Dropout\",\"(16,128)\",\"0\",\"2 048\",\"(relu_2,)\",\"{}\"],[\"fc2\",\"nn.Linear\",\"(16,10)\",\"1 290\",\"40 960\",\"(dropout2,)\",\"{}\"],[\"log_softmax\",\"log_softmax()\",\"(16,10)\",\"0\",\"0\",\"(fc2,)\",\"{'dim': 1, '_stacklevel': 3, 'dtype': None}\"],[\"output\",\"output\",\"(16,10)\",\"0\",\"0\",\"(log_softmax,)\",\"{}\"]],\"hovertemplate\":\"Name: %{customdata[0]}\\u003cbr\\u003eOperation: %{customdata[1]}\\u003cbr\\u003eActivations: %{customdata[2]}\\u003cbr\\u003eParameters: %{customdata[3]}\\u003cbr\\u003eFLOPS: %{customdata[4]}\\u003cbr\\u003e\\u003cbr\\u003eargs: %{customdata[5]}\\u003cbr\\u003ekwargs: %{customdata[6]}\\u003cbr\\u003e\\u003cextra\\u003e\\u003c\\u002fextra\\u003e\",\"marker\":{\"color\":[\"#222A2A\",\"#00A08B\",\"#1616A7\",\"#00A08B\",\"#1616A7\",\"#DA60CA\",\"#1CA71C\",\"#778AAE\",\"#2E91E5\",\"#1616A7\",\"#1CA71C\",\"#2E91E5\",\"#1616A7\",\"#222A2A\"],\"colorscale\":[[0.0,\"rgb(0,0,255)\"],[1.0,\"rgb(255,0,0)\"]],\"size\":[6.0,6.0,6.0,11.928009913453302,6.0,6.0,6.0,6.0,18.0,6.0,6.0,8.037003250024952,6.0,6.0]},\"mode\":\"markers\",\"showlegend\":false,\"x\":[0.0,0.0,0.0,0.0,0.0,0.0,0.0,0.0,0.0,0.0,0.0,0.0,0.0,0.0],\"y\":[0,1,1.15,2,2.15,2.3,2.45,2.6,3,3.15,3.3,4,4.15,5],\"type\":\"scatter\",\"xaxis\":\"x2\",\"yaxis\":\"y2\"}],                        {\"template\":{\"data\":{\"histogram2dcontour\":[{\"type\":\"histogram2dcontour\",\"colorbar\":{\"outlinewidth\":0,\"ticks\":\"\"},\"colorscale\":[[0.0,\"#0d0887\"],[0.1111111111111111,\"#46039f\"],[0.2222222222222222,\"#7201a8\"],[0.3333333333333333,\"#9c179e\"],[0.4444444444444444,\"#bd3786\"],[0.5555555555555556,\"#d8576b\"],[0.6666666666666666,\"#ed7953\"],[0.7777777777777778,\"#fb9f3a\"],[0.8888888888888888,\"#fdca26\"],[1.0,\"#f0f921\"]]}],\"choropleth\":[{\"type\":\"choropleth\",\"colorbar\":{\"outlinewidth\":0,\"ticks\":\"\"}}],\"histogram2d\":[{\"type\":\"histogram2d\",\"colorbar\":{\"outlinewidth\":0,\"ticks\":\"\"},\"colorscale\":[[0.0,\"#0d0887\"],[0.1111111111111111,\"#46039f\"],[0.2222222222222222,\"#7201a8\"],[0.3333333333333333,\"#9c179e\"],[0.4444444444444444,\"#bd3786\"],[0.5555555555555556,\"#d8576b\"],[0.6666666666666666,\"#ed7953\"],[0.7777777777777778,\"#fb9f3a\"],[0.8888888888888888,\"#fdca26\"],[1.0,\"#f0f921\"]]}],\"heatmap\":[{\"type\":\"heatmap\",\"colorbar\":{\"outlinewidth\":0,\"ticks\":\"\"},\"colorscale\":[[0.0,\"#0d0887\"],[0.1111111111111111,\"#46039f\"],[0.2222222222222222,\"#7201a8\"],[0.3333333333333333,\"#9c179e\"],[0.4444444444444444,\"#bd3786\"],[0.5555555555555556,\"#d8576b\"],[0.6666666666666666,\"#ed7953\"],[0.7777777777777778,\"#fb9f3a\"],[0.8888888888888888,\"#fdca26\"],[1.0,\"#f0f921\"]]}],\"heatmapgl\":[{\"type\":\"heatmapgl\",\"colorbar\":{\"outlinewidth\":0,\"ticks\":\"\"},\"colorscale\":[[0.0,\"#0d0887\"],[0.1111111111111111,\"#46039f\"],[0.2222222222222222,\"#7201a8\"],[0.3333333333333333,\"#9c179e\"],[0.4444444444444444,\"#bd3786\"],[0.5555555555555556,\"#d8576b\"],[0.6666666666666666,\"#ed7953\"],[0.7777777777777778,\"#fb9f3a\"],[0.8888888888888888,\"#fdca26\"],[1.0,\"#f0f921\"]]}],\"contourcarpet\":[{\"type\":\"contourcarpet\",\"colorbar\":{\"outlinewidth\":0,\"ticks\":\"\"}}],\"contour\":[{\"type\":\"contour\",\"colorbar\":{\"outlinewidth\":0,\"ticks\":\"\"},\"colorscale\":[[0.0,\"#0d0887\"],[0.1111111111111111,\"#46039f\"],[0.2222222222222222,\"#7201a8\"],[0.3333333333333333,\"#9c179e\"],[0.4444444444444444,\"#bd3786\"],[0.5555555555555556,\"#d8576b\"],[0.6666666666666666,\"#ed7953\"],[0.7777777777777778,\"#fb9f3a\"],[0.8888888888888888,\"#fdca26\"],[1.0,\"#f0f921\"]]}],\"surface\":[{\"type\":\"surface\",\"colorbar\":{\"outlinewidth\":0,\"ticks\":\"\"},\"colorscale\":[[0.0,\"#0d0887\"],[0.1111111111111111,\"#46039f\"],[0.2222222222222222,\"#7201a8\"],[0.3333333333333333,\"#9c179e\"],[0.4444444444444444,\"#bd3786\"],[0.5555555555555556,\"#d8576b\"],[0.6666666666666666,\"#ed7953\"],[0.7777777777777778,\"#fb9f3a\"],[0.8888888888888888,\"#fdca26\"],[1.0,\"#f0f921\"]]}],\"mesh3d\":[{\"type\":\"mesh3d\",\"colorbar\":{\"outlinewidth\":0,\"ticks\":\"\"}}],\"scatter\":[{\"fillpattern\":{\"fillmode\":\"overlay\",\"size\":10,\"solidity\":0.2},\"type\":\"scatter\"}],\"parcoords\":[{\"type\":\"parcoords\",\"line\":{\"colorbar\":{\"outlinewidth\":0,\"ticks\":\"\"}}}],\"scatterpolargl\":[{\"type\":\"scatterpolargl\",\"marker\":{\"colorbar\":{\"outlinewidth\":0,\"ticks\":\"\"}}}],\"bar\":[{\"error_x\":{\"color\":\"#2a3f5f\"},\"error_y\":{\"color\":\"#2a3f5f\"},\"marker\":{\"line\":{\"color\":\"#E5ECF6\",\"width\":0.5},\"pattern\":{\"fillmode\":\"overlay\",\"size\":10,\"solidity\":0.2}},\"type\":\"bar\"}],\"scattergeo\":[{\"type\":\"scattergeo\",\"marker\":{\"colorbar\":{\"outlinewidth\":0,\"ticks\":\"\"}}}],\"scatterpolar\":[{\"type\":\"scatterpolar\",\"marker\":{\"colorbar\":{\"outlinewidth\":0,\"ticks\":\"\"}}}],\"histogram\":[{\"marker\":{\"pattern\":{\"fillmode\":\"overlay\",\"size\":10,\"solidity\":0.2}},\"type\":\"histogram\"}],\"scattergl\":[{\"type\":\"scattergl\",\"marker\":{\"colorbar\":{\"outlinewidth\":0,\"ticks\":\"\"}}}],\"scatter3d\":[{\"type\":\"scatter3d\",\"line\":{\"colorbar\":{\"outlinewidth\":0,\"ticks\":\"\"}},\"marker\":{\"colorbar\":{\"outlinewidth\":0,\"ticks\":\"\"}}}],\"scattermapbox\":[{\"type\":\"scattermapbox\",\"marker\":{\"colorbar\":{\"outlinewidth\":0,\"ticks\":\"\"}}}],\"scatterternary\":[{\"type\":\"scatterternary\",\"marker\":{\"colorbar\":{\"outlinewidth\":0,\"ticks\":\"\"}}}],\"scattercarpet\":[{\"type\":\"scattercarpet\",\"marker\":{\"colorbar\":{\"outlinewidth\":0,\"ticks\":\"\"}}}],\"carpet\":[{\"aaxis\":{\"endlinecolor\":\"#2a3f5f\",\"gridcolor\":\"white\",\"linecolor\":\"white\",\"minorgridcolor\":\"white\",\"startlinecolor\":\"#2a3f5f\"},\"baxis\":{\"endlinecolor\":\"#2a3f5f\",\"gridcolor\":\"white\",\"linecolor\":\"white\",\"minorgridcolor\":\"white\",\"startlinecolor\":\"#2a3f5f\"},\"type\":\"carpet\"}],\"table\":[{\"cells\":{\"fill\":{\"color\":\"#EBF0F8\"},\"line\":{\"color\":\"white\"}},\"header\":{\"fill\":{\"color\":\"#C8D4E3\"},\"line\":{\"color\":\"white\"}},\"type\":\"table\"}],\"barpolar\":[{\"marker\":{\"line\":{\"color\":\"#E5ECF6\",\"width\":0.5},\"pattern\":{\"fillmode\":\"overlay\",\"size\":10,\"solidity\":0.2}},\"type\":\"barpolar\"}],\"pie\":[{\"automargin\":true,\"type\":\"pie\"}]},\"layout\":{\"autotypenumbers\":\"strict\",\"colorway\":[\"#636efa\",\"#EF553B\",\"#00cc96\",\"#ab63fa\",\"#FFA15A\",\"#19d3f3\",\"#FF6692\",\"#B6E880\",\"#FF97FF\",\"#FECB52\"],\"font\":{\"color\":\"#2a3f5f\"},\"hovermode\":\"closest\",\"hoverlabel\":{\"align\":\"left\"},\"paper_bgcolor\":\"white\",\"plot_bgcolor\":\"#E5ECF6\",\"polar\":{\"bgcolor\":\"#E5ECF6\",\"angularaxis\":{\"gridcolor\":\"white\",\"linecolor\":\"white\",\"ticks\":\"\"},\"radialaxis\":{\"gridcolor\":\"white\",\"linecolor\":\"white\",\"ticks\":\"\"}},\"ternary\":{\"bgcolor\":\"#E5ECF6\",\"aaxis\":{\"gridcolor\":\"white\",\"linecolor\":\"white\",\"ticks\":\"\"},\"baxis\":{\"gridcolor\":\"white\",\"linecolor\":\"white\",\"ticks\":\"\"},\"caxis\":{\"gridcolor\":\"white\",\"linecolor\":\"white\",\"ticks\":\"\"}},\"coloraxis\":{\"colorbar\":{\"outlinewidth\":0,\"ticks\":\"\"}},\"colorscale\":{\"sequential\":[[0.0,\"#0d0887\"],[0.1111111111111111,\"#46039f\"],[0.2222222222222222,\"#7201a8\"],[0.3333333333333333,\"#9c179e\"],[0.4444444444444444,\"#bd3786\"],[0.5555555555555556,\"#d8576b\"],[0.6666666666666666,\"#ed7953\"],[0.7777777777777778,\"#fb9f3a\"],[0.8888888888888888,\"#fdca26\"],[1.0,\"#f0f921\"]],\"sequentialminus\":[[0.0,\"#0d0887\"],[0.1111111111111111,\"#46039f\"],[0.2222222222222222,\"#7201a8\"],[0.3333333333333333,\"#9c179e\"],[0.4444444444444444,\"#bd3786\"],[0.5555555555555556,\"#d8576b\"],[0.6666666666666666,\"#ed7953\"],[0.7777777777777778,\"#fb9f3a\"],[0.8888888888888888,\"#fdca26\"],[1.0,\"#f0f921\"]],\"diverging\":[[0,\"#8e0152\"],[0.1,\"#c51b7d\"],[0.2,\"#de77ae\"],[0.3,\"#f1b6da\"],[0.4,\"#fde0ef\"],[0.5,\"#f7f7f7\"],[0.6,\"#e6f5d0\"],[0.7,\"#b8e186\"],[0.8,\"#7fbc41\"],[0.9,\"#4d9221\"],[1,\"#276419\"]]},\"xaxis\":{\"gridcolor\":\"white\",\"linecolor\":\"white\",\"ticks\":\"\",\"title\":{\"standoff\":15},\"zerolinecolor\":\"white\",\"automargin\":true,\"zerolinewidth\":2},\"yaxis\":{\"gridcolor\":\"white\",\"linecolor\":\"white\",\"ticks\":\"\",\"title\":{\"standoff\":15},\"zerolinecolor\":\"white\",\"automargin\":true,\"zerolinewidth\":2},\"scene\":{\"xaxis\":{\"backgroundcolor\":\"#E5ECF6\",\"gridcolor\":\"white\",\"linecolor\":\"white\",\"showbackground\":true,\"ticks\":\"\",\"zerolinecolor\":\"white\",\"gridwidth\":2},\"yaxis\":{\"backgroundcolor\":\"#E5ECF6\",\"gridcolor\":\"white\",\"linecolor\":\"white\",\"showbackground\":true,\"ticks\":\"\",\"zerolinecolor\":\"white\",\"gridwidth\":2},\"zaxis\":{\"backgroundcolor\":\"#E5ECF6\",\"gridcolor\":\"white\",\"linecolor\":\"white\",\"showbackground\":true,\"ticks\":\"\",\"zerolinecolor\":\"white\",\"gridwidth\":2}},\"shapedefaults\":{\"line\":{\"color\":\"#2a3f5f\"}},\"annotationdefaults\":{\"arrowcolor\":\"#2a3f5f\",\"arrowhead\":0,\"arrowwidth\":1},\"geo\":{\"bgcolor\":\"white\",\"landcolor\":\"#E5ECF6\",\"subunitcolor\":\"white\",\"showland\":true,\"showlakes\":true,\"lakecolor\":\"white\"},\"title\":{\"x\":0.05},\"mapbox\":{\"style\":\"light\"}}},\"xaxis\":{\"anchor\":\"y\",\"domain\":[0.0,0.225],\"showgrid\":false,\"zeroline\":false,\"tickmode\":\"array\",\"tickvals\":[],\"range\":[-0.11,0.11]},\"yaxis\":{\"anchor\":\"x\",\"domain\":[0.0,1.0],\"showgrid\":false,\"zeroline\":false,\"tickmode\":\"array\",\"tickvals\":[],\"range\":[5.2,-0.2]},\"xaxis2\":{\"anchor\":\"y2\",\"domain\":[0.325,1.0],\"showgrid\":false,\"zeroline\":false,\"tickmode\":\"array\",\"tickvals\":[],\"range\":[-0.1,0.1]},\"yaxis2\":{\"anchor\":\"x2\",\"domain\":[0.0,1.0],\"showgrid\":false,\"zeroline\":false,\"tickmode\":\"array\",\"tickvals\":[],\"range\":[1.9,-0.1]},\"margin\":{\"l\":0,\"r\":0,\"t\":0,\"b\":0},\"width\":500,\"height\":300,\"shapes\":[{\"line\":{\"color\":\"#000000\"},\"type\":\"rect\",\"x0\":-0.1,\"x1\":0.1,\"xref\":\"x\",\"y0\":-0.1,\"y1\":1.9,\"yref\":\"y\"}],\"sliders\":[{\"active\":0,\"currentvalue\":{\"visible\":false},\"pad\":{\"b\":0,\"l\":0,\"r\":0,\"t\":10},\"steps\":[{\"args\":[{\"shapes\":[{\"type\":\"rect\",\"xref\":\"x\",\"yref\":\"y\",\"x0\":-0.1,\"y0\":-0.1,\"x1\":0.1,\"y1\":1.9,\"line\":{\"color\":\"#000000\"}}],\"yaxis2\":{\"range\":[1.9,-0.1],\"showgrid\":false,\"zeroline\":false,\"tickmode\":\"array\",\"tickvals\":[]}}],\"label\":\"\",\"method\":\"relayout\"},{\"args\":[{\"shapes\":[{\"type\":\"rect\",\"xref\":\"x\",\"yref\":\"y\",\"x0\":-0.1,\"y0\":0.06842105263157894,\"x1\":0.1,\"y1\":2.068421052631579,\"line\":{\"color\":\"#000000\"}}],\"yaxis2\":{\"range\":[2.068421052631579,0.06842105263157894],\"showgrid\":false,\"zeroline\":false,\"tickmode\":\"array\",\"tickvals\":[]}}],\"label\":\"\",\"method\":\"relayout\"},{\"args\":[{\"shapes\":[{\"type\":\"rect\",\"xref\":\"x\",\"yref\":\"y\",\"x0\":-0.1,\"y0\":0.23684210526315788,\"x1\":0.1,\"y1\":2.236842105263158,\"line\":{\"color\":\"#000000\"}}],\"yaxis2\":{\"range\":[2.236842105263158,0.23684210526315788],\"showgrid\":false,\"zeroline\":false,\"tickmode\":\"array\",\"tickvals\":[]}}],\"label\":\"\",\"method\":\"relayout\"},{\"args\":[{\"shapes\":[{\"type\":\"rect\",\"xref\":\"x\",\"yref\":\"y\",\"x0\":-0.1,\"y0\":0.4052631578947369,\"x1\":0.1,\"y1\":2.405263157894737,\"line\":{\"color\":\"#000000\"}}],\"yaxis2\":{\"range\":[2.405263157894737,0.4052631578947369],\"showgrid\":false,\"zeroline\":false,\"tickmode\":\"array\",\"tickvals\":[]}}],\"label\":\"\",\"method\":\"relayout\"},{\"args\":[{\"shapes\":[{\"type\":\"rect\",\"xref\":\"x\",\"yref\":\"y\",\"x0\":-0.1,\"y0\":0.5736842105263158,\"x1\":0.1,\"y1\":2.5736842105263156,\"line\":{\"color\":\"#000000\"}}],\"yaxis2\":{\"range\":[2.5736842105263156,0.5736842105263158],\"showgrid\":false,\"zeroline\":false,\"tickmode\":\"array\",\"tickvals\":[]}}],\"label\":\"\",\"method\":\"relayout\"},{\"args\":[{\"shapes\":[{\"type\":\"rect\",\"xref\":\"x\",\"yref\":\"y\",\"x0\":-0.1,\"y0\":0.7421052631578947,\"x1\":0.1,\"y1\":2.7421052631578946,\"line\":{\"color\":\"#000000\"}}],\"yaxis2\":{\"range\":[2.7421052631578946,0.7421052631578947],\"showgrid\":false,\"zeroline\":false,\"tickmode\":\"array\",\"tickvals\":[]}}],\"label\":\"\",\"method\":\"relayout\"},{\"args\":[{\"shapes\":[{\"type\":\"rect\",\"xref\":\"x\",\"yref\":\"y\",\"x0\":-0.1,\"y0\":0.9105263157894737,\"x1\":0.1,\"y1\":2.9105263157894736,\"line\":{\"color\":\"#000000\"}}],\"yaxis2\":{\"range\":[2.9105263157894736,0.9105263157894737],\"showgrid\":false,\"zeroline\":false,\"tickmode\":\"array\",\"tickvals\":[]}}],\"label\":\"\",\"method\":\"relayout\"},{\"args\":[{\"shapes\":[{\"type\":\"rect\",\"xref\":\"x\",\"yref\":\"y\",\"x0\":-0.1,\"y0\":1.0789473684210524,\"x1\":0.1,\"y1\":3.078947368421052,\"line\":{\"color\":\"#000000\"}}],\"yaxis2\":{\"range\":[3.078947368421052,1.0789473684210524],\"showgrid\":false,\"zeroline\":false,\"tickmode\":\"array\",\"tickvals\":[]}}],\"label\":\"\",\"method\":\"relayout\"},{\"args\":[{\"shapes\":[{\"type\":\"rect\",\"xref\":\"x\",\"yref\":\"y\",\"x0\":-0.1,\"y0\":1.2473684210526315,\"x1\":0.1,\"y1\":3.2473684210526317,\"line\":{\"color\":\"#000000\"}}],\"yaxis2\":{\"range\":[3.2473684210526317,1.2473684210526315],\"showgrid\":false,\"zeroline\":false,\"tickmode\":\"array\",\"tickvals\":[]}}],\"label\":\"\",\"method\":\"relayout\"},{\"args\":[{\"shapes\":[{\"type\":\"rect\",\"xref\":\"x\",\"yref\":\"y\",\"x0\":-0.1,\"y0\":1.4157894736842105,\"x1\":0.1,\"y1\":3.4157894736842103,\"line\":{\"color\":\"#000000\"}}],\"yaxis2\":{\"range\":[3.4157894736842103,1.4157894736842105],\"showgrid\":false,\"zeroline\":false,\"tickmode\":\"array\",\"tickvals\":[]}}],\"label\":\"\",\"method\":\"relayout\"},{\"args\":[{\"shapes\":[{\"type\":\"rect\",\"xref\":\"x\",\"yref\":\"y\",\"x0\":-0.1,\"y0\":1.5842105263157893,\"x1\":0.1,\"y1\":3.5842105263157893,\"line\":{\"color\":\"#000000\"}}],\"yaxis2\":{\"range\":[3.5842105263157893,1.5842105263157893],\"showgrid\":false,\"zeroline\":false,\"tickmode\":\"array\",\"tickvals\":[]}}],\"label\":\"\",\"method\":\"relayout\"},{\"args\":[{\"shapes\":[{\"type\":\"rect\",\"xref\":\"x\",\"yref\":\"y\",\"x0\":-0.1,\"y0\":1.7526315789473683,\"x1\":0.1,\"y1\":3.7526315789473683,\"line\":{\"color\":\"#000000\"}}],\"yaxis2\":{\"range\":[3.7526315789473683,1.7526315789473683],\"showgrid\":false,\"zeroline\":false,\"tickmode\":\"array\",\"tickvals\":[]}}],\"label\":\"\",\"method\":\"relayout\"},{\"args\":[{\"shapes\":[{\"type\":\"rect\",\"xref\":\"x\",\"yref\":\"y\",\"x0\":-0.1,\"y0\":1.9210526315789473,\"x1\":0.1,\"y1\":3.9210526315789473,\"line\":{\"color\":\"#000000\"}}],\"yaxis2\":{\"range\":[3.9210526315789473,1.9210526315789473],\"showgrid\":false,\"zeroline\":false,\"tickmode\":\"array\",\"tickvals\":[]}}],\"label\":\"\",\"method\":\"relayout\"},{\"args\":[{\"shapes\":[{\"type\":\"rect\",\"xref\":\"x\",\"yref\":\"y\",\"x0\":-0.1,\"y0\":2.0894736842105264,\"x1\":0.1,\"y1\":4.089473684210526,\"line\":{\"color\":\"#000000\"}}],\"yaxis2\":{\"range\":[4.089473684210526,2.0894736842105264],\"showgrid\":false,\"zeroline\":false,\"tickmode\":\"array\",\"tickvals\":[]}}],\"label\":\"\",\"method\":\"relayout\"},{\"args\":[{\"shapes\":[{\"type\":\"rect\",\"xref\":\"x\",\"yref\":\"y\",\"x0\":-0.1,\"y0\":2.257894736842105,\"x1\":0.1,\"y1\":4.257894736842105,\"line\":{\"color\":\"#000000\"}}],\"yaxis2\":{\"range\":[4.257894736842105,2.257894736842105],\"showgrid\":false,\"zeroline\":false,\"tickmode\":\"array\",\"tickvals\":[]}}],\"label\":\"\",\"method\":\"relayout\"},{\"args\":[{\"shapes\":[{\"type\":\"rect\",\"xref\":\"x\",\"yref\":\"y\",\"x0\":-0.1,\"y0\":2.426315789473684,\"x1\":0.1,\"y1\":4.4263157894736835,\"line\":{\"color\":\"#000000\"}}],\"yaxis2\":{\"range\":[4.4263157894736835,2.426315789473684],\"showgrid\":false,\"zeroline\":false,\"tickmode\":\"array\",\"tickvals\":[]}}],\"label\":\"\",\"method\":\"relayout\"},{\"args\":[{\"shapes\":[{\"type\":\"rect\",\"xref\":\"x\",\"yref\":\"y\",\"x0\":-0.1,\"y0\":2.594736842105263,\"x1\":0.1,\"y1\":4.594736842105263,\"line\":{\"color\":\"#000000\"}}],\"yaxis2\":{\"range\":[4.594736842105263,2.594736842105263],\"showgrid\":false,\"zeroline\":false,\"tickmode\":\"array\",\"tickvals\":[]}}],\"label\":\"\",\"method\":\"relayout\"},{\"args\":[{\"shapes\":[{\"type\":\"rect\",\"xref\":\"x\",\"yref\":\"y\",\"x0\":-0.1,\"y0\":2.763157894736842,\"x1\":0.1,\"y1\":4.7631578947368425,\"line\":{\"color\":\"#000000\"}}],\"yaxis2\":{\"range\":[4.7631578947368425,2.763157894736842],\"showgrid\":false,\"zeroline\":false,\"tickmode\":\"array\",\"tickvals\":[]}}],\"label\":\"\",\"method\":\"relayout\"},{\"args\":[{\"shapes\":[{\"type\":\"rect\",\"xref\":\"x\",\"yref\":\"y\",\"x0\":-0.1,\"y0\":2.931578947368421,\"x1\":0.1,\"y1\":4.931578947368421,\"line\":{\"color\":\"#000000\"}}],\"yaxis2\":{\"range\":[4.931578947368421,2.931578947368421],\"showgrid\":false,\"zeroline\":false,\"tickmode\":\"array\",\"tickvals\":[]}}],\"label\":\"\",\"method\":\"relayout\"},{\"args\":[{\"shapes\":[{\"type\":\"rect\",\"xref\":\"x\",\"yref\":\"y\",\"x0\":-0.1,\"y0\":3.0999999999999996,\"x1\":0.1,\"y1\":5.1,\"line\":{\"color\":\"#000000\"}}],\"yaxis2\":{\"range\":[5.1,3.0999999999999996],\"showgrid\":false,\"zeroline\":false,\"tickmode\":\"array\",\"tickvals\":[]}}],\"label\":\"\",\"method\":\"relayout\"}],\"x\":0,\"xanchor\":\"left\",\"y\":0,\"yanchor\":\"top\"}]},                        {\"responsive\": true}                    ).then(function(){\n",
       "                            \n",
       "var gd = document.getElementById('51869075-47fc-4451-93d9-83c150f8523b');\n",
       "var x = new MutationObserver(function (mutations, observer) {{\n",
       "        var display = window.getComputedStyle(gd).display;\n",
       "        if (!display || display === 'none') {{\n",
       "            console.log([gd, 'removed!']);\n",
       "            Plotly.purge(gd);\n",
       "            observer.disconnect();\n",
       "        }}\n",
       "}});\n",
       "\n",
       "// Listen for the removal of the full notebook cells\n",
       "var notebookContainer = gd.closest('#notebook-container');\n",
       "if (notebookContainer) {{\n",
       "    x.observe(notebookContainer, {childList: true});\n",
       "}}\n",
       "\n",
       "// Listen for the clearing of the current output cell\n",
       "var outputEl = gd.closest('.output');\n",
       "if (outputEl) {{\n",
       "    x.observe(outputEl, {childList: true});\n",
       "}}\n",
       "\n",
       "                        })                };                });            </script>        </div>"
      ]
     },
     "metadata": {},
     "output_type": "display_data"
    }
   ],
   "source": [
    "steps = []\n",
    "num_levels_displayed = 2\n",
    "for i in np.linspace(-0.1, max_y+0.1-num_levels_displayed, 20):\n",
    "    step = dict(\n",
    "        method=\"relayout\",\n",
    "        args=[dict(\n",
    "            shapes=[dict(type=\"rect\",\n",
    "                xref=\"x\", yref=\"y\",\n",
    "                x0=-0.1, y0=i, x1=0.1, y1=i+num_levels_displayed,\n",
    "                line=dict(color=\"#000000\"),\n",
    "            )],\n",
    "            yaxis2=dict(range=[i+num_levels_displayed, i], showgrid=False, zeroline=False, tickmode='array', tickvals=[]),\n",
    "        )],\n",
    "        label=\"\",\n",
    "    )\n",
    "    steps.append(step)\n",
    "\n",
    "fig.update_layout(\n",
    "    sliders=[dict(\n",
    "        steps=steps,\n",
    "        active=0,\n",
    "        currentvalue={\"visible\": False},\n",
    "        pad=dict(t=10, l=0, b=0, r=0),\n",
    "        x=0, xanchor=\"left\",\n",
    "        y=0, yanchor=\"top\"\n",
    "    )],\n",
    "    margin=dict(l=0, r=0, t=0, b=0)\n",
    ")\n",
    "fig.show(renderer='notebook_connected')"
   ]
  },
  {
   "cell_type": "markdown",
   "metadata": {},
   "source": [
    "## Both controls together\n",
    "In this section, both controls developed above are implemented on the same figure to check for possible unwanted interactions"
   ]
  },
  {
   "cell_type": "code",
   "execution_count": 1,
   "metadata": {},
   "outputs": [],
   "source": [
    "import sys, importlib\n",
    "sys.path.append('..')\n",
    "import torch\n",
    "from torch import nn, Tensor\n",
    "import torch.nn.functional as F\n",
    "import plotly.graph_objects as go\n",
    "from plotly.subplots import make_subplots\n",
    "import numpy as np\n",
    "from idlmav import MAV, color_graph_nodes, FigureRenderer\n",
    "\n",
    "def reload_imports():\n",
    "    importlib.reload(sys.modules['idlmav.renderers.figure_renderer'])\n",
    "    importlib.reload(sys.modules['idlmav.tracing'])\n",
    "    importlib.reload(sys.modules['idlmav.layout'])\n",
    "    importlib.reload(sys.modules['idlmav.idlmav'])\n",
    "    importlib.reload(sys.modules['idlmav'])\n",
    "    global MAV, FigureRenderer\n",
    "    from idlmav import MAV, FigureRenderer"
   ]
  },
  {
   "cell_type": "code",
   "execution_count": 2,
   "metadata": {},
   "outputs": [
    {
     "name": "stderr",
     "output_type": "stream",
     "text": [
      "WARNING:2025-02-24 20:53:56 611783:611783 init.cpp:178] function cbapi->getCuptiStatus() failed with error CUPTI_ERROR_NOT_INITIALIZED (15)\n",
      "WARNING:2025-02-24 20:53:56 611783:611783 init.cpp:179] CUPTI initialization failed - CUDA profiler activities will be missing\n",
      "INFO:2025-02-24 20:53:56 611783:611783 init.cpp:181] If you see CUPTI_ERROR_INSUFFICIENT_PRIVILEGES, refer to https://developer.nvidia.com/nvidia-development-tools-solutions-err-nvgpuctrperm-cupti\n"
     ]
    }
   ],
   "source": [
    "class MnistCnn(nn.Module):\n",
    "    def __init__(self):\n",
    "        super().__init__()\n",
    "        self.conv1 = nn.Conv2d(1, 32, 3, 1)\n",
    "        self.conv2 = nn.Conv2d(32, 64, 3, 1)\n",
    "        self.dropout1 = nn.Dropout(0.25)\n",
    "        self.dropout2 = nn.Dropout(0.5)\n",
    "        self.fc1 = nn.Linear(9216, 128)\n",
    "        self.fc2 = nn.Linear(128, 10)\n",
    "\n",
    "    def forward(self, x):\n",
    "        x = self.conv1(x)\n",
    "        x = F.relu(x)\n",
    "        x = self.conv2(x)\n",
    "        x = F.relu(x)\n",
    "        x = F.max_pool2d(x, 2)\n",
    "        x = self.dropout1(x)\n",
    "        x = torch.flatten(x, 1)\n",
    "        x = self.fc1(x)\n",
    "        x = F.relu(x)\n",
    "        x = self.dropout2(x)\n",
    "        x = self.fc2(x)\n",
    "        output = F.log_softmax(x, dim=1)\n",
    "        return output\n",
    "    \n",
    "model = MnistCnn()\n",
    "inputs = torch.randn((16,1,28,28))\n",
    "mav = MAV(model, inputs)\n",
    "color_graph_nodes(mav.tracer.g)"
   ]
  },
  {
   "cell_type": "code",
   "execution_count": 13,
   "metadata": {},
   "outputs": [],
   "source": [
    "def build_marker_dict(renderer:FigureRenderer, trace_idx:int, size_by:str, color_by:str):\n",
    "    g = renderer.g\n",
    "    if trace_idx==3:\n",
    "        if size_by=='flops':\n",
    "            sizes = [renderer.flops_to_dot_size(n.params) for n in g.nodes]\n",
    "        elif size_by=='params':\n",
    "            sizes = [renderer.params_to_dot_size(n.params) for n in g.nodes]\n",
    "        else:\n",
    "            raise ValueError(f'Unknown size_by: {size_by}')\n",
    "    elif trace_idx==2:\n",
    "        if size_by=='flops':\n",
    "            sizes = [renderer.flops_to_dot_size_overview(n.params) for n in g.nodes]\n",
    "        elif size_by=='params':\n",
    "            sizes = [renderer.params_to_dot_size_overview(n.params) for n in g.nodes]\n",
    "        else:\n",
    "            raise ValueError(f'Unknown size_by: {size_by}')\n",
    "    else:\n",
    "        raise ValueError(f'Unknown trace_idx: {trace_idx}')\n",
    "    \n",
    "    colors = [renderer.get_node_color(n, color_by) for n in g.nodes]\n",
    "\n",
    "    return dict(size=sizes, color=colors, colorscale='Bluered')\n",
    "\n",
    "def build_menu_button(renderer:FigureRenderer, size_by:str, color_by:str):\n",
    "    size_color_labels = dict(operation='operation', params='params', flops='FLOPS')\n",
    "    return dict(\n",
    "        args=[dict(\n",
    "            marker=[\n",
    "                {},{},\n",
    "                build_marker_dict(renderer, 2, size_by, color_by),\n",
    "                build_marker_dict(renderer, 3, size_by, color_by),\n",
    "            ]\n",
    "        )],\n",
    "        label=f'Size by {size_color_labels[size_by]}, color by {size_color_labels[color_by]}',\n",
    "        method=\"restyle\"\n",
    "    )\n",
    "\n",
    "def build_styling_menu(renderer:FigureRenderer, pad_t=0):\n",
    "    size_color_options = [('params','operation'),\n",
    "                          ('flops','operation'),\n",
    "                          ('params','flops'),\n",
    "                          ('flops','params')]\n",
    "    \n",
    "    menu_buttons = [build_menu_button(renderer, size_by, color_by) for (size_by, color_by) in size_color_options]\n",
    "    \n",
    "    return dict(buttons=menu_buttons, showactive=True, direction=\"up\",\n",
    "                pad=dict(l=0, r=0, t=pad_t, b=0),\n",
    "                x=0, xanchor=\"left\",\n",
    "                y=0, yanchor=\"top\")\n",
    "\n",
    "def build_overview_slider(renderer:FigureRenderer, pad_t=0, margin=0.1, num_levels_displayed=2, num_steps=20):\n",
    "    steps = []\n",
    "    for i in np.linspace(renderer.in_level-margin, renderer.out_level+margin-num_levels_displayed, num_steps):\n",
    "        step = dict(\n",
    "            method=\"relayout\",\n",
    "            args=[dict(\n",
    "                shapes=[dict(type=\"rect\", xref=\"x\", yref=\"y\",line=dict(color=\"#000000\"),\n",
    "                    x0=renderer.min_x-margin, y0=i, x1=renderer.max_x+margin, y1=i+num_levels_displayed,\n",
    "                )],\n",
    "                yaxis2=dict(range=[i+num_levels_displayed, i], showgrid=False, zeroline=False, tickmode='array', tickvals=[]),\n",
    "            )],\n",
    "            label=\"\",\n",
    "        )\n",
    "        steps.append(step)\n",
    "\n",
    "    return dict(\n",
    "            steps=steps,\n",
    "            active=0,\n",
    "            currentvalue=dict(visible=False),\n",
    "            pad=dict(t=pad_t, l=0, b=0, r=0),\n",
    "            x=0, xanchor=\"left\",\n",
    "            y=0, yanchor=\"top\"\n",
    "        )\n",
    "\n",
    "def build_node_trace(renderer:FigureRenderer, trace_idx:int, size_by:str, color_by:str):\n",
    "    return go.Scatter(\n",
    "        x=[n.x for n in g.nodes], \n",
    "        y=[n.y for n in g.nodes], \n",
    "        mode='markers', \n",
    "        marker=build_marker_dict(renderer, trace_idx, size_by, color_by),\n",
    "        hovertemplate=(\n",
    "            'Name: %{customdata[0]}<br>' +\n",
    "            'Operation: %{customdata[1]}<br>' +\n",
    "            'Activations: %{customdata[2]}<br>' +\n",
    "            'Parameters: %{customdata[3]}<br>' +\n",
    "            'FLOPS: %{customdata[4]}<br>' +\n",
    "            '<br>' +\n",
    "            'args: %{customdata[5]}<br>' +\n",
    "            'kwargs: %{customdata[6]}<br>' +\n",
    "            '<extra></extra>'\n",
    "        ),\n",
    "        customdata=[renderer.node_data(n) + renderer.node_arg_data(n) for n in g.nodes],\n",
    "        showlegend=False\n",
    "    )"
   ]
  },
  {
   "cell_type": "code",
   "execution_count": 14,
   "metadata": {},
   "outputs": [
    {
     "data": {
      "text/html": [
       "        <script type=\"text/javascript\">\n",
       "        window.PlotlyConfig = {MathJaxConfig: 'local'};\n",
       "        if (window.MathJax && window.MathJax.Hub && window.MathJax.Hub.Config) {window.MathJax.Hub.Config({SVG: {font: \"STIX-Web\"}});}\n",
       "        if (typeof require !== 'undefined') {\n",
       "        require.undef(\"plotly\");\n",
       "        requirejs.config({\n",
       "            paths: {\n",
       "                'plotly': ['https://cdn.plot.ly/plotly-2.35.2.min']\n",
       "            }\n",
       "        });\n",
       "        require(['plotly'], function(Plotly) {\n",
       "            window._Plotly = Plotly;\n",
       "        });\n",
       "        }\n",
       "        </script>\n",
       "        "
      ]
     },
     "metadata": {},
     "output_type": "display_data"
    },
    {
     "data": {
      "text/html": [
       "<div>                            <div id=\"347e31c0-9569-4072-a7f3-2fc7982dca94\" class=\"plotly-graph-div\" style=\"height:300px; width:500px;\"></div>            <script type=\"text/javascript\">                require([\"plotly\"], function(Plotly) {                    window.PLOTLYENV=window.PLOTLYENV || {};                                    if (document.getElementById(\"347e31c0-9569-4072-a7f3-2fc7982dca94\")) {                    Plotly.newPlot(                        \"347e31c0-9569-4072-a7f3-2fc7982dca94\",                        [{\"hoverinfo\":\"skip\",\"line\":{\"color\":\"gray\",\"width\":1},\"mode\":\"lines\",\"showlegend\":false,\"x\":[0.0,0.0,null,0.0,0.0,null,0.0,0.0,null,0.0,0.0,null,0.0,0.0,null,0.0,0.0,null,0.0,0.0,null,0.0,0.0,null,0.0,0.0,null,0.0,0.0,null,0.0,0.0,null,0.0,0.0,null,0.0,0.0],\"y\":[0,1,null,1,1.15,null,1.15,2,null,2,2.15,null,2.15,2.3,null,2.3,2.45,null,2.45,2.6,null,2.6,3,null,3,3.15,null,3.15,3.3,null,3.3,4,null,4,4.15,null,4.15,5],\"type\":\"scatter\",\"xaxis\":\"x\",\"yaxis\":\"y\"},{\"hoverinfo\":\"skip\",\"line\":{\"color\":\"gray\",\"width\":1},\"mode\":\"lines\",\"showlegend\":false,\"x\":[0.0,0.0,null,0.0,0.0,null,0.0,0.0,null,0.0,0.0,null,0.0,0.0,null,0.0,0.0,null,0.0,0.0,null,0.0,0.0,null,0.0,0.0,null,0.0,0.0,null,0.0,0.0,null,0.0,0.0,null,0.0,0.0],\"y\":[0,1,null,1,1.15,null,1.15,2,null,2,2.15,null,2.15,2.3,null,2.3,2.45,null,2.45,2.6,null,2.6,3,null,3,3.15,null,3.15,3.3,null,3.3,4,null,4,4.15,null,4.15,5],\"type\":\"scatter\",\"xaxis\":\"x2\",\"yaxis\":\"y2\"},{\"customdata\":[[\"x\",\"input\",\"(16,1,28,28)\",\"0\",\"0\",\"()\",\"{}\"],[\"conv1\",\"nn.Conv2d\",\"(16,32,26,26)\",\"320\",\"6 230 016\",\"(x,)\",\"{}\"],[\"relu\",\"relu()\",\"(16,32,26,26)\",\"0\",\"0\",\"(conv1,)\",\"{'inplace': False}\"],[\"conv2\",\"nn.Conv2d\",\"(16,64,24,24)\",\"18 496\",\"339 738 624\",\"(relu,)\",\"{}\"],[\"relu_1\",\"relu()\",\"(16,64,24,24)\",\"0\",\"0\",\"(conv2,)\",\"{'inplace': False}\"],[\"max_pool2d\",\"max_pool2d()\",\"(16,64,12,12)\",\"0\",\"0\",\"(relu_1, 2)\",\"{'stride': None, 'padding': 0, 'dilation': 1, 'ceil_mode': False, 'return_indices': False}\"],[\"dropout1\",\"nn.Dropout\",\"(16,64,12,12)\",\"0\",\"147 456\",\"(max_pool2d,)\",\"{}\"],[\"flatten\",\"flatten()\",\"(16,9216)\",\"0\",\"0\",\"(dropout1, 1)\",\"{}\"],[\"fc1\",\"nn.Linear\",\"(16,128)\",\"1 179 776\",\"37 748 736\",\"(flatten,)\",\"{}\"],[\"relu_2\",\"relu()\",\"(16,128)\",\"0\",\"0\",\"(fc1,)\",\"{'inplace': False}\"],[\"dropout2\",\"nn.Dropout\",\"(16,128)\",\"0\",\"2 048\",\"(relu_2,)\",\"{}\"],[\"fc2\",\"nn.Linear\",\"(16,10)\",\"1 290\",\"40 960\",\"(dropout2,)\",\"{}\"],[\"log_softmax\",\"log_softmax()\",\"(16,10)\",\"0\",\"0\",\"(fc2,)\",\"{'dim': 1, '_stacklevel': 3, 'dtype': None}\"],[\"output\",\"output\",\"(16,10)\",\"0\",\"0\",\"(log_softmax,)\",\"{}\"]],\"hovertemplate\":\"Name: %{customdata[0]}\\u003cbr\\u003eOperation: %{customdata[1]}\\u003cbr\\u003eActivations: %{customdata[2]}\\u003cbr\\u003eParameters: %{customdata[3]}\\u003cbr\\u003eFLOPS: %{customdata[4]}\\u003cbr\\u003e\\u003cbr\\u003eargs: %{customdata[5]}\\u003cbr\\u003ekwargs: %{customdata[6]}\\u003cbr\\u003e\\u003cextra\\u003e\\u003c\\u002fextra\\u003e\",\"marker\":{\"color\":[\"#222A2A\",\"#00A08B\",\"#1616A7\",\"#00A08B\",\"#1616A7\",\"#DA60CA\",\"#1CA71C\",\"#778AAE\",\"#2E91E5\",\"#1616A7\",\"#1CA71C\",\"#2E91E5\",\"#1616A7\",\"#222A2A\"],\"colorscale\":[[0.0,\"rgb(0,0,255)\"],[1.0,\"rgb(255,0,0)\"]],\"size\":[4.0,4.0,4.0,6.964004956726651,4.0,4.0,4.0,4.0,10.0,4.0,4.0,5.018501625012476,4.0,4.0]},\"mode\":\"markers\",\"showlegend\":false,\"x\":[0.0,0.0,0.0,0.0,0.0,0.0,0.0,0.0,0.0,0.0,0.0,0.0,0.0,0.0],\"y\":[0,1,1.15,2,2.15,2.3,2.45,2.6,3,3.15,3.3,4,4.15,5],\"type\":\"scatter\",\"xaxis\":\"x\",\"yaxis\":\"y\"},{\"customdata\":[[\"x\",\"input\",\"(16,1,28,28)\",\"0\",\"0\",\"()\",\"{}\"],[\"conv1\",\"nn.Conv2d\",\"(16,32,26,26)\",\"320\",\"6 230 016\",\"(x,)\",\"{}\"],[\"relu\",\"relu()\",\"(16,32,26,26)\",\"0\",\"0\",\"(conv1,)\",\"{'inplace': False}\"],[\"conv2\",\"nn.Conv2d\",\"(16,64,24,24)\",\"18 496\",\"339 738 624\",\"(relu,)\",\"{}\"],[\"relu_1\",\"relu()\",\"(16,64,24,24)\",\"0\",\"0\",\"(conv2,)\",\"{'inplace': False}\"],[\"max_pool2d\",\"max_pool2d()\",\"(16,64,12,12)\",\"0\",\"0\",\"(relu_1, 2)\",\"{'stride': None, 'padding': 0, 'dilation': 1, 'ceil_mode': False, 'return_indices': False}\"],[\"dropout1\",\"nn.Dropout\",\"(16,64,12,12)\",\"0\",\"147 456\",\"(max_pool2d,)\",\"{}\"],[\"flatten\",\"flatten()\",\"(16,9216)\",\"0\",\"0\",\"(dropout1, 1)\",\"{}\"],[\"fc1\",\"nn.Linear\",\"(16,128)\",\"1 179 776\",\"37 748 736\",\"(flatten,)\",\"{}\"],[\"relu_2\",\"relu()\",\"(16,128)\",\"0\",\"0\",\"(fc1,)\",\"{'inplace': False}\"],[\"dropout2\",\"nn.Dropout\",\"(16,128)\",\"0\",\"2 048\",\"(relu_2,)\",\"{}\"],[\"fc2\",\"nn.Linear\",\"(16,10)\",\"1 290\",\"40 960\",\"(dropout2,)\",\"{}\"],[\"log_softmax\",\"log_softmax()\",\"(16,10)\",\"0\",\"0\",\"(fc2,)\",\"{'dim': 1, '_stacklevel': 3, 'dtype': None}\"],[\"output\",\"output\",\"(16,10)\",\"0\",\"0\",\"(log_softmax,)\",\"{}\"]],\"hovertemplate\":\"Name: %{customdata[0]}\\u003cbr\\u003eOperation: %{customdata[1]}\\u003cbr\\u003eActivations: %{customdata[2]}\\u003cbr\\u003eParameters: %{customdata[3]}\\u003cbr\\u003eFLOPS: %{customdata[4]}\\u003cbr\\u003e\\u003cbr\\u003eargs: %{customdata[5]}\\u003cbr\\u003ekwargs: %{customdata[6]}\\u003cbr\\u003e\\u003cextra\\u003e\\u003c\\u002fextra\\u003e\",\"marker\":{\"color\":[\"#222A2A\",\"#00A08B\",\"#1616A7\",\"#00A08B\",\"#1616A7\",\"#DA60CA\",\"#1CA71C\",\"#778AAE\",\"#2E91E5\",\"#1616A7\",\"#1CA71C\",\"#2E91E5\",\"#1616A7\",\"#222A2A\"],\"colorscale\":[[0.0,\"rgb(0,0,255)\"],[1.0,\"rgb(255,0,0)\"]],\"size\":[6.0,6.0,6.0,11.928009913453302,6.0,6.0,6.0,6.0,18.0,6.0,6.0,8.037003250024952,6.0,6.0]},\"mode\":\"markers\",\"showlegend\":false,\"x\":[0.0,0.0,0.0,0.0,0.0,0.0,0.0,0.0,0.0,0.0,0.0,0.0,0.0,0.0],\"y\":[0,1,1.15,2,2.15,2.3,2.45,2.6,3,3.15,3.3,4,4.15,5],\"type\":\"scatter\",\"xaxis\":\"x2\",\"yaxis\":\"y2\"}],                        {\"template\":{\"data\":{\"histogram2dcontour\":[{\"type\":\"histogram2dcontour\",\"colorbar\":{\"outlinewidth\":0,\"ticks\":\"\"},\"colorscale\":[[0.0,\"#0d0887\"],[0.1111111111111111,\"#46039f\"],[0.2222222222222222,\"#7201a8\"],[0.3333333333333333,\"#9c179e\"],[0.4444444444444444,\"#bd3786\"],[0.5555555555555556,\"#d8576b\"],[0.6666666666666666,\"#ed7953\"],[0.7777777777777778,\"#fb9f3a\"],[0.8888888888888888,\"#fdca26\"],[1.0,\"#f0f921\"]]}],\"choropleth\":[{\"type\":\"choropleth\",\"colorbar\":{\"outlinewidth\":0,\"ticks\":\"\"}}],\"histogram2d\":[{\"type\":\"histogram2d\",\"colorbar\":{\"outlinewidth\":0,\"ticks\":\"\"},\"colorscale\":[[0.0,\"#0d0887\"],[0.1111111111111111,\"#46039f\"],[0.2222222222222222,\"#7201a8\"],[0.3333333333333333,\"#9c179e\"],[0.4444444444444444,\"#bd3786\"],[0.5555555555555556,\"#d8576b\"],[0.6666666666666666,\"#ed7953\"],[0.7777777777777778,\"#fb9f3a\"],[0.8888888888888888,\"#fdca26\"],[1.0,\"#f0f921\"]]}],\"heatmap\":[{\"type\":\"heatmap\",\"colorbar\":{\"outlinewidth\":0,\"ticks\":\"\"},\"colorscale\":[[0.0,\"#0d0887\"],[0.1111111111111111,\"#46039f\"],[0.2222222222222222,\"#7201a8\"],[0.3333333333333333,\"#9c179e\"],[0.4444444444444444,\"#bd3786\"],[0.5555555555555556,\"#d8576b\"],[0.6666666666666666,\"#ed7953\"],[0.7777777777777778,\"#fb9f3a\"],[0.8888888888888888,\"#fdca26\"],[1.0,\"#f0f921\"]]}],\"heatmapgl\":[{\"type\":\"heatmapgl\",\"colorbar\":{\"outlinewidth\":0,\"ticks\":\"\"},\"colorscale\":[[0.0,\"#0d0887\"],[0.1111111111111111,\"#46039f\"],[0.2222222222222222,\"#7201a8\"],[0.3333333333333333,\"#9c179e\"],[0.4444444444444444,\"#bd3786\"],[0.5555555555555556,\"#d8576b\"],[0.6666666666666666,\"#ed7953\"],[0.7777777777777778,\"#fb9f3a\"],[0.8888888888888888,\"#fdca26\"],[1.0,\"#f0f921\"]]}],\"contourcarpet\":[{\"type\":\"contourcarpet\",\"colorbar\":{\"outlinewidth\":0,\"ticks\":\"\"}}],\"contour\":[{\"type\":\"contour\",\"colorbar\":{\"outlinewidth\":0,\"ticks\":\"\"},\"colorscale\":[[0.0,\"#0d0887\"],[0.1111111111111111,\"#46039f\"],[0.2222222222222222,\"#7201a8\"],[0.3333333333333333,\"#9c179e\"],[0.4444444444444444,\"#bd3786\"],[0.5555555555555556,\"#d8576b\"],[0.6666666666666666,\"#ed7953\"],[0.7777777777777778,\"#fb9f3a\"],[0.8888888888888888,\"#fdca26\"],[1.0,\"#f0f921\"]]}],\"surface\":[{\"type\":\"surface\",\"colorbar\":{\"outlinewidth\":0,\"ticks\":\"\"},\"colorscale\":[[0.0,\"#0d0887\"],[0.1111111111111111,\"#46039f\"],[0.2222222222222222,\"#7201a8\"],[0.3333333333333333,\"#9c179e\"],[0.4444444444444444,\"#bd3786\"],[0.5555555555555556,\"#d8576b\"],[0.6666666666666666,\"#ed7953\"],[0.7777777777777778,\"#fb9f3a\"],[0.8888888888888888,\"#fdca26\"],[1.0,\"#f0f921\"]]}],\"mesh3d\":[{\"type\":\"mesh3d\",\"colorbar\":{\"outlinewidth\":0,\"ticks\":\"\"}}],\"scatter\":[{\"fillpattern\":{\"fillmode\":\"overlay\",\"size\":10,\"solidity\":0.2},\"type\":\"scatter\"}],\"parcoords\":[{\"type\":\"parcoords\",\"line\":{\"colorbar\":{\"outlinewidth\":0,\"ticks\":\"\"}}}],\"scatterpolargl\":[{\"type\":\"scatterpolargl\",\"marker\":{\"colorbar\":{\"outlinewidth\":0,\"ticks\":\"\"}}}],\"bar\":[{\"error_x\":{\"color\":\"#2a3f5f\"},\"error_y\":{\"color\":\"#2a3f5f\"},\"marker\":{\"line\":{\"color\":\"#E5ECF6\",\"width\":0.5},\"pattern\":{\"fillmode\":\"overlay\",\"size\":10,\"solidity\":0.2}},\"type\":\"bar\"}],\"scattergeo\":[{\"type\":\"scattergeo\",\"marker\":{\"colorbar\":{\"outlinewidth\":0,\"ticks\":\"\"}}}],\"scatterpolar\":[{\"type\":\"scatterpolar\",\"marker\":{\"colorbar\":{\"outlinewidth\":0,\"ticks\":\"\"}}}],\"histogram\":[{\"marker\":{\"pattern\":{\"fillmode\":\"overlay\",\"size\":10,\"solidity\":0.2}},\"type\":\"histogram\"}],\"scattergl\":[{\"type\":\"scattergl\",\"marker\":{\"colorbar\":{\"outlinewidth\":0,\"ticks\":\"\"}}}],\"scatter3d\":[{\"type\":\"scatter3d\",\"line\":{\"colorbar\":{\"outlinewidth\":0,\"ticks\":\"\"}},\"marker\":{\"colorbar\":{\"outlinewidth\":0,\"ticks\":\"\"}}}],\"scattermapbox\":[{\"type\":\"scattermapbox\",\"marker\":{\"colorbar\":{\"outlinewidth\":0,\"ticks\":\"\"}}}],\"scatterternary\":[{\"type\":\"scatterternary\",\"marker\":{\"colorbar\":{\"outlinewidth\":0,\"ticks\":\"\"}}}],\"scattercarpet\":[{\"type\":\"scattercarpet\",\"marker\":{\"colorbar\":{\"outlinewidth\":0,\"ticks\":\"\"}}}],\"carpet\":[{\"aaxis\":{\"endlinecolor\":\"#2a3f5f\",\"gridcolor\":\"white\",\"linecolor\":\"white\",\"minorgridcolor\":\"white\",\"startlinecolor\":\"#2a3f5f\"},\"baxis\":{\"endlinecolor\":\"#2a3f5f\",\"gridcolor\":\"white\",\"linecolor\":\"white\",\"minorgridcolor\":\"white\",\"startlinecolor\":\"#2a3f5f\"},\"type\":\"carpet\"}],\"table\":[{\"cells\":{\"fill\":{\"color\":\"#EBF0F8\"},\"line\":{\"color\":\"white\"}},\"header\":{\"fill\":{\"color\":\"#C8D4E3\"},\"line\":{\"color\":\"white\"}},\"type\":\"table\"}],\"barpolar\":[{\"marker\":{\"line\":{\"color\":\"#E5ECF6\",\"width\":0.5},\"pattern\":{\"fillmode\":\"overlay\",\"size\":10,\"solidity\":0.2}},\"type\":\"barpolar\"}],\"pie\":[{\"automargin\":true,\"type\":\"pie\"}]},\"layout\":{\"autotypenumbers\":\"strict\",\"colorway\":[\"#636efa\",\"#EF553B\",\"#00cc96\",\"#ab63fa\",\"#FFA15A\",\"#19d3f3\",\"#FF6692\",\"#B6E880\",\"#FF97FF\",\"#FECB52\"],\"font\":{\"color\":\"#2a3f5f\"},\"hovermode\":\"closest\",\"hoverlabel\":{\"align\":\"left\"},\"paper_bgcolor\":\"white\",\"plot_bgcolor\":\"#E5ECF6\",\"polar\":{\"bgcolor\":\"#E5ECF6\",\"angularaxis\":{\"gridcolor\":\"white\",\"linecolor\":\"white\",\"ticks\":\"\"},\"radialaxis\":{\"gridcolor\":\"white\",\"linecolor\":\"white\",\"ticks\":\"\"}},\"ternary\":{\"bgcolor\":\"#E5ECF6\",\"aaxis\":{\"gridcolor\":\"white\",\"linecolor\":\"white\",\"ticks\":\"\"},\"baxis\":{\"gridcolor\":\"white\",\"linecolor\":\"white\",\"ticks\":\"\"},\"caxis\":{\"gridcolor\":\"white\",\"linecolor\":\"white\",\"ticks\":\"\"}},\"coloraxis\":{\"colorbar\":{\"outlinewidth\":0,\"ticks\":\"\"}},\"colorscale\":{\"sequential\":[[0.0,\"#0d0887\"],[0.1111111111111111,\"#46039f\"],[0.2222222222222222,\"#7201a8\"],[0.3333333333333333,\"#9c179e\"],[0.4444444444444444,\"#bd3786\"],[0.5555555555555556,\"#d8576b\"],[0.6666666666666666,\"#ed7953\"],[0.7777777777777778,\"#fb9f3a\"],[0.8888888888888888,\"#fdca26\"],[1.0,\"#f0f921\"]],\"sequentialminus\":[[0.0,\"#0d0887\"],[0.1111111111111111,\"#46039f\"],[0.2222222222222222,\"#7201a8\"],[0.3333333333333333,\"#9c179e\"],[0.4444444444444444,\"#bd3786\"],[0.5555555555555556,\"#d8576b\"],[0.6666666666666666,\"#ed7953\"],[0.7777777777777778,\"#fb9f3a\"],[0.8888888888888888,\"#fdca26\"],[1.0,\"#f0f921\"]],\"diverging\":[[0,\"#8e0152\"],[0.1,\"#c51b7d\"],[0.2,\"#de77ae\"],[0.3,\"#f1b6da\"],[0.4,\"#fde0ef\"],[0.5,\"#f7f7f7\"],[0.6,\"#e6f5d0\"],[0.7,\"#b8e186\"],[0.8,\"#7fbc41\"],[0.9,\"#4d9221\"],[1,\"#276419\"]]},\"xaxis\":{\"gridcolor\":\"white\",\"linecolor\":\"white\",\"ticks\":\"\",\"title\":{\"standoff\":15},\"zerolinecolor\":\"white\",\"automargin\":true,\"zerolinewidth\":2},\"yaxis\":{\"gridcolor\":\"white\",\"linecolor\":\"white\",\"ticks\":\"\",\"title\":{\"standoff\":15},\"zerolinecolor\":\"white\",\"automargin\":true,\"zerolinewidth\":2},\"scene\":{\"xaxis\":{\"backgroundcolor\":\"#E5ECF6\",\"gridcolor\":\"white\",\"linecolor\":\"white\",\"showbackground\":true,\"ticks\":\"\",\"zerolinecolor\":\"white\",\"gridwidth\":2},\"yaxis\":{\"backgroundcolor\":\"#E5ECF6\",\"gridcolor\":\"white\",\"linecolor\":\"white\",\"showbackground\":true,\"ticks\":\"\",\"zerolinecolor\":\"white\",\"gridwidth\":2},\"zaxis\":{\"backgroundcolor\":\"#E5ECF6\",\"gridcolor\":\"white\",\"linecolor\":\"white\",\"showbackground\":true,\"ticks\":\"\",\"zerolinecolor\":\"white\",\"gridwidth\":2}},\"shapedefaults\":{\"line\":{\"color\":\"#2a3f5f\"}},\"annotationdefaults\":{\"arrowcolor\":\"#2a3f5f\",\"arrowhead\":0,\"arrowwidth\":1},\"geo\":{\"bgcolor\":\"white\",\"landcolor\":\"#E5ECF6\",\"subunitcolor\":\"white\",\"showland\":true,\"showlakes\":true,\"lakecolor\":\"white\"},\"title\":{\"x\":0.05},\"mapbox\":{\"style\":\"light\"}}},\"xaxis\":{\"anchor\":\"y\",\"domain\":[0.0,0.225],\"showgrid\":false,\"zeroline\":false,\"tickmode\":\"array\",\"tickvals\":[],\"range\":[-0.11,0.11]},\"yaxis\":{\"anchor\":\"x\",\"domain\":[0.0,1.0],\"showgrid\":false,\"zeroline\":false,\"tickmode\":\"array\",\"tickvals\":[],\"range\":[5.2,-0.2]},\"xaxis2\":{\"anchor\":\"y2\",\"domain\":[0.325,1.0],\"showgrid\":false,\"zeroline\":false,\"tickmode\":\"array\",\"tickvals\":[],\"range\":[-0.1,0.1]},\"yaxis2\":{\"anchor\":\"x2\",\"domain\":[0.0,1.0],\"showgrid\":false,\"zeroline\":false,\"tickmode\":\"array\",\"tickvals\":[],\"range\":[1.9,-0.1]},\"margin\":{\"l\":0,\"r\":0,\"t\":0,\"b\":0},\"width\":500,\"height\":300,\"shapes\":[{\"line\":{\"color\":\"#000000\"},\"type\":\"rect\",\"x0\":-0.1,\"x1\":0.1,\"xref\":\"x\",\"y0\":-0.1,\"y1\":1.9,\"yref\":\"y\"}],\"updatemenus\":[{\"buttons\":[{\"args\":[{\"marker\":[{},{},{\"size\":[4.0,4.0,4.0,6.964004956726651,4.0,4.0,4.0,4.0,10.0,4.0,4.0,5.018501625012476,4.0,4.0],\"color\":[\"#222A2A\",\"#00A08B\",\"#1616A7\",\"#00A08B\",\"#1616A7\",\"#DA60CA\",\"#1CA71C\",\"#778AAE\",\"#2E91E5\",\"#1616A7\",\"#1CA71C\",\"#2E91E5\",\"#1616A7\",\"#222A2A\"],\"colorscale\":\"Bluered\"},{\"size\":[6.0,6.0,6.0,11.928009913453302,6.0,6.0,6.0,6.0,18.0,6.0,6.0,8.037003250024952,6.0,6.0],\"color\":[\"#222A2A\",\"#00A08B\",\"#1616A7\",\"#00A08B\",\"#1616A7\",\"#DA60CA\",\"#1CA71C\",\"#778AAE\",\"#2E91E5\",\"#1616A7\",\"#1CA71C\",\"#2E91E5\",\"#1616A7\",\"#222A2A\"],\"colorscale\":\"Bluered\"}]}],\"label\":\"Size by params, color by operation\",\"method\":\"restyle\"},{\"args\":[{\"marker\":[{},{},{\"size\":[4.0,4.0,4.0,5.098599704832223,4.0,4.0,4.0,4.0,7.1730660416976235,4.0,4.0,4.0,4.0,4.0],\"color\":[\"#222A2A\",\"#00A08B\",\"#1616A7\",\"#00A08B\",\"#1616A7\",\"#DA60CA\",\"#1CA71C\",\"#778AAE\",\"#2E91E5\",\"#1616A7\",\"#1CA71C\",\"#2E91E5\",\"#1616A7\",\"#222A2A\"],\"colorscale\":\"Bluered\"},{\"size\":[6.0,6.0,6.0,8.197199409664446,6.0,6.0,6.0,6.0,12.346132083395247,6.0,6.0,6.0,6.0,6.0],\"color\":[\"#222A2A\",\"#00A08B\",\"#1616A7\",\"#00A08B\",\"#1616A7\",\"#DA60CA\",\"#1CA71C\",\"#778AAE\",\"#2E91E5\",\"#1616A7\",\"#1CA71C\",\"#2E91E5\",\"#1616A7\",\"#222A2A\"],\"colorscale\":\"Bluered\"}]}],\"label\":\"Size by FLOPS, color by operation\",\"method\":\"restyle\"},{\"args\":[{\"marker\":[{},{},{\"size\":[4.0,4.0,4.0,6.964004956726651,4.0,4.0,4.0,4.0,10.0,4.0,4.0,5.018501625012476,4.0,4.0],\"color\":[0.0,0.6672955323027362,0.0,1.0,0.0,0.0,0.355823435636173,0.0,0.8171884416004193,0.0,0.0,0.2492482976593439,0.0,0.0],\"colorscale\":\"Bluered\"},{\"size\":[6.0,6.0,6.0,11.928009913453302,6.0,6.0,6.0,6.0,18.0,6.0,6.0,8.037003250024952,6.0,6.0],\"color\":[0.0,0.6672955323027362,0.0,1.0,0.0,0.0,0.355823435636173,0.0,0.8171884416004193,0.0,0.0,0.2492482976593439,0.0,0.0],\"colorscale\":\"Bluered\"}]}],\"label\":\"Size by params, color by FLOPS\",\"method\":\"restyle\"},{\"args\":[{\"marker\":[{},{},{\"size\":[4.0,4.0,4.0,5.098599704832223,4.0,4.0,4.0,4.0,7.1730660416976235,4.0,4.0,4.0,4.0,4.0],\"color\":[0.0,1.0,0.0,1.0,0.0,0.0,0.7467827751382162,0.0,1.0,0.0,0.22603285132684345,0.5908093641053138,0.0,0.0],\"colorscale\":\"Bluered\"},{\"size\":[6.0,6.0,6.0,8.197199409664446,6.0,6.0,6.0,6.0,12.346132083395247,6.0,6.0,6.0,6.0,6.0],\"color\":[0.0,1.0,0.0,1.0,0.0,0.0,0.7467827751382162,0.0,1.0,0.0,0.22603285132684345,0.5908093641053138,0.0,0.0],\"colorscale\":\"Bluered\"}]}],\"label\":\"Size by FLOPS, color by params\",\"method\":\"restyle\"}],\"direction\":\"up\",\"pad\":{\"b\":0,\"l\":0,\"r\":0,\"t\":0},\"showactive\":true,\"x\":0,\"xanchor\":\"left\",\"y\":0,\"yanchor\":\"top\"}],\"sliders\":[{\"active\":0,\"currentvalue\":{\"visible\":false},\"pad\":{\"b\":0,\"l\":0,\"r\":0,\"t\":40},\"steps\":[{\"args\":[{\"shapes\":[{\"type\":\"rect\",\"xref\":\"x\",\"yref\":\"y\",\"line\":{\"color\":\"#000000\"},\"x0\":-0.1,\"y0\":-0.1,\"x1\":0.1,\"y1\":1.9}],\"yaxis2\":{\"range\":[1.9,-0.1],\"showgrid\":false,\"zeroline\":false,\"tickmode\":\"array\",\"tickvals\":[]}}],\"label\":\"\",\"method\":\"relayout\"},{\"args\":[{\"shapes\":[{\"type\":\"rect\",\"xref\":\"x\",\"yref\":\"y\",\"line\":{\"color\":\"#000000\"},\"x0\":-0.1,\"y0\":0.06842105263157894,\"x1\":0.1,\"y1\":2.068421052631579}],\"yaxis2\":{\"range\":[2.068421052631579,0.06842105263157894],\"showgrid\":false,\"zeroline\":false,\"tickmode\":\"array\",\"tickvals\":[]}}],\"label\":\"\",\"method\":\"relayout\"},{\"args\":[{\"shapes\":[{\"type\":\"rect\",\"xref\":\"x\",\"yref\":\"y\",\"line\":{\"color\":\"#000000\"},\"x0\":-0.1,\"y0\":0.23684210526315788,\"x1\":0.1,\"y1\":2.236842105263158}],\"yaxis2\":{\"range\":[2.236842105263158,0.23684210526315788],\"showgrid\":false,\"zeroline\":false,\"tickmode\":\"array\",\"tickvals\":[]}}],\"label\":\"\",\"method\":\"relayout\"},{\"args\":[{\"shapes\":[{\"type\":\"rect\",\"xref\":\"x\",\"yref\":\"y\",\"line\":{\"color\":\"#000000\"},\"x0\":-0.1,\"y0\":0.4052631578947369,\"x1\":0.1,\"y1\":2.405263157894737}],\"yaxis2\":{\"range\":[2.405263157894737,0.4052631578947369],\"showgrid\":false,\"zeroline\":false,\"tickmode\":\"array\",\"tickvals\":[]}}],\"label\":\"\",\"method\":\"relayout\"},{\"args\":[{\"shapes\":[{\"type\":\"rect\",\"xref\":\"x\",\"yref\":\"y\",\"line\":{\"color\":\"#000000\"},\"x0\":-0.1,\"y0\":0.5736842105263158,\"x1\":0.1,\"y1\":2.5736842105263156}],\"yaxis2\":{\"range\":[2.5736842105263156,0.5736842105263158],\"showgrid\":false,\"zeroline\":false,\"tickmode\":\"array\",\"tickvals\":[]}}],\"label\":\"\",\"method\":\"relayout\"},{\"args\":[{\"shapes\":[{\"type\":\"rect\",\"xref\":\"x\",\"yref\":\"y\",\"line\":{\"color\":\"#000000\"},\"x0\":-0.1,\"y0\":0.7421052631578947,\"x1\":0.1,\"y1\":2.7421052631578946}],\"yaxis2\":{\"range\":[2.7421052631578946,0.7421052631578947],\"showgrid\":false,\"zeroline\":false,\"tickmode\":\"array\",\"tickvals\":[]}}],\"label\":\"\",\"method\":\"relayout\"},{\"args\":[{\"shapes\":[{\"type\":\"rect\",\"xref\":\"x\",\"yref\":\"y\",\"line\":{\"color\":\"#000000\"},\"x0\":-0.1,\"y0\":0.9105263157894737,\"x1\":0.1,\"y1\":2.9105263157894736}],\"yaxis2\":{\"range\":[2.9105263157894736,0.9105263157894737],\"showgrid\":false,\"zeroline\":false,\"tickmode\":\"array\",\"tickvals\":[]}}],\"label\":\"\",\"method\":\"relayout\"},{\"args\":[{\"shapes\":[{\"type\":\"rect\",\"xref\":\"x\",\"yref\":\"y\",\"line\":{\"color\":\"#000000\"},\"x0\":-0.1,\"y0\":1.0789473684210524,\"x1\":0.1,\"y1\":3.078947368421052}],\"yaxis2\":{\"range\":[3.078947368421052,1.0789473684210524],\"showgrid\":false,\"zeroline\":false,\"tickmode\":\"array\",\"tickvals\":[]}}],\"label\":\"\",\"method\":\"relayout\"},{\"args\":[{\"shapes\":[{\"type\":\"rect\",\"xref\":\"x\",\"yref\":\"y\",\"line\":{\"color\":\"#000000\"},\"x0\":-0.1,\"y0\":1.2473684210526315,\"x1\":0.1,\"y1\":3.2473684210526317}],\"yaxis2\":{\"range\":[3.2473684210526317,1.2473684210526315],\"showgrid\":false,\"zeroline\":false,\"tickmode\":\"array\",\"tickvals\":[]}}],\"label\":\"\",\"method\":\"relayout\"},{\"args\":[{\"shapes\":[{\"type\":\"rect\",\"xref\":\"x\",\"yref\":\"y\",\"line\":{\"color\":\"#000000\"},\"x0\":-0.1,\"y0\":1.4157894736842105,\"x1\":0.1,\"y1\":3.4157894736842103}],\"yaxis2\":{\"range\":[3.4157894736842103,1.4157894736842105],\"showgrid\":false,\"zeroline\":false,\"tickmode\":\"array\",\"tickvals\":[]}}],\"label\":\"\",\"method\":\"relayout\"},{\"args\":[{\"shapes\":[{\"type\":\"rect\",\"xref\":\"x\",\"yref\":\"y\",\"line\":{\"color\":\"#000000\"},\"x0\":-0.1,\"y0\":1.5842105263157893,\"x1\":0.1,\"y1\":3.5842105263157893}],\"yaxis2\":{\"range\":[3.5842105263157893,1.5842105263157893],\"showgrid\":false,\"zeroline\":false,\"tickmode\":\"array\",\"tickvals\":[]}}],\"label\":\"\",\"method\":\"relayout\"},{\"args\":[{\"shapes\":[{\"type\":\"rect\",\"xref\":\"x\",\"yref\":\"y\",\"line\":{\"color\":\"#000000\"},\"x0\":-0.1,\"y0\":1.7526315789473683,\"x1\":0.1,\"y1\":3.7526315789473683}],\"yaxis2\":{\"range\":[3.7526315789473683,1.7526315789473683],\"showgrid\":false,\"zeroline\":false,\"tickmode\":\"array\",\"tickvals\":[]}}],\"label\":\"\",\"method\":\"relayout\"},{\"args\":[{\"shapes\":[{\"type\":\"rect\",\"xref\":\"x\",\"yref\":\"y\",\"line\":{\"color\":\"#000000\"},\"x0\":-0.1,\"y0\":1.9210526315789473,\"x1\":0.1,\"y1\":3.9210526315789473}],\"yaxis2\":{\"range\":[3.9210526315789473,1.9210526315789473],\"showgrid\":false,\"zeroline\":false,\"tickmode\":\"array\",\"tickvals\":[]}}],\"label\":\"\",\"method\":\"relayout\"},{\"args\":[{\"shapes\":[{\"type\":\"rect\",\"xref\":\"x\",\"yref\":\"y\",\"line\":{\"color\":\"#000000\"},\"x0\":-0.1,\"y0\":2.0894736842105264,\"x1\":0.1,\"y1\":4.089473684210526}],\"yaxis2\":{\"range\":[4.089473684210526,2.0894736842105264],\"showgrid\":false,\"zeroline\":false,\"tickmode\":\"array\",\"tickvals\":[]}}],\"label\":\"\",\"method\":\"relayout\"},{\"args\":[{\"shapes\":[{\"type\":\"rect\",\"xref\":\"x\",\"yref\":\"y\",\"line\":{\"color\":\"#000000\"},\"x0\":-0.1,\"y0\":2.257894736842105,\"x1\":0.1,\"y1\":4.257894736842105}],\"yaxis2\":{\"range\":[4.257894736842105,2.257894736842105],\"showgrid\":false,\"zeroline\":false,\"tickmode\":\"array\",\"tickvals\":[]}}],\"label\":\"\",\"method\":\"relayout\"},{\"args\":[{\"shapes\":[{\"type\":\"rect\",\"xref\":\"x\",\"yref\":\"y\",\"line\":{\"color\":\"#000000\"},\"x0\":-0.1,\"y0\":2.426315789473684,\"x1\":0.1,\"y1\":4.4263157894736835}],\"yaxis2\":{\"range\":[4.4263157894736835,2.426315789473684],\"showgrid\":false,\"zeroline\":false,\"tickmode\":\"array\",\"tickvals\":[]}}],\"label\":\"\",\"method\":\"relayout\"},{\"args\":[{\"shapes\":[{\"type\":\"rect\",\"xref\":\"x\",\"yref\":\"y\",\"line\":{\"color\":\"#000000\"},\"x0\":-0.1,\"y0\":2.594736842105263,\"x1\":0.1,\"y1\":4.594736842105263}],\"yaxis2\":{\"range\":[4.594736842105263,2.594736842105263],\"showgrid\":false,\"zeroline\":false,\"tickmode\":\"array\",\"tickvals\":[]}}],\"label\":\"\",\"method\":\"relayout\"},{\"args\":[{\"shapes\":[{\"type\":\"rect\",\"xref\":\"x\",\"yref\":\"y\",\"line\":{\"color\":\"#000000\"},\"x0\":-0.1,\"y0\":2.763157894736842,\"x1\":0.1,\"y1\":4.7631578947368425}],\"yaxis2\":{\"range\":[4.7631578947368425,2.763157894736842],\"showgrid\":false,\"zeroline\":false,\"tickmode\":\"array\",\"tickvals\":[]}}],\"label\":\"\",\"method\":\"relayout\"},{\"args\":[{\"shapes\":[{\"type\":\"rect\",\"xref\":\"x\",\"yref\":\"y\",\"line\":{\"color\":\"#000000\"},\"x0\":-0.1,\"y0\":2.931578947368421,\"x1\":0.1,\"y1\":4.931578947368421}],\"yaxis2\":{\"range\":[4.931578947368421,2.931578947368421],\"showgrid\":false,\"zeroline\":false,\"tickmode\":\"array\",\"tickvals\":[]}}],\"label\":\"\",\"method\":\"relayout\"},{\"args\":[{\"shapes\":[{\"type\":\"rect\",\"xref\":\"x\",\"yref\":\"y\",\"line\":{\"color\":\"#000000\"},\"x0\":-0.1,\"y0\":3.0999999999999996,\"x1\":0.1,\"y1\":5.1}],\"yaxis2\":{\"range\":[5.1,3.0999999999999996],\"showgrid\":false,\"zeroline\":false,\"tickmode\":\"array\",\"tickvals\":[]}}],\"label\":\"\",\"method\":\"relayout\"}],\"x\":0,\"xanchor\":\"left\",\"y\":0,\"yanchor\":\"top\"}]},                        {\"responsive\": true}                    ).then(function(){\n",
       "                            \n",
       "var gd = document.getElementById('347e31c0-9569-4072-a7f3-2fc7982dca94');\n",
       "var x = new MutationObserver(function (mutations, observer) {{\n",
       "        var display = window.getComputedStyle(gd).display;\n",
       "        if (!display || display === 'none') {{\n",
       "            console.log([gd, 'removed!']);\n",
       "            Plotly.purge(gd);\n",
       "            observer.disconnect();\n",
       "        }}\n",
       "}});\n",
       "\n",
       "// Listen for the removal of the full notebook cells\n",
       "var notebookContainer = gd.closest('#notebook-container');\n",
       "if (notebookContainer) {{\n",
       "    x.observe(notebookContainer, {childList: true});\n",
       "}}\n",
       "\n",
       "// Listen for the clearing of the current output cell\n",
       "var outputEl = gd.closest('.output');\n",
       "if (outputEl) {{\n",
       "    x.observe(outputEl, {childList: true});\n",
       "}}\n",
       "\n",
       "                        })                };                });            </script>        </div>"
      ]
     },
     "metadata": {},
     "output_type": "display_data"
    }
   ],
   "source": [
    "g = mav.tracer.g\n",
    "renderer = FigureRenderer(g)  # For helper functions e.g. \"params_to_dot_size\"\n",
    "max_y = max([n.y for n in g.nodes])\n",
    "\n",
    "fig = make_subplots(rows=1, cols=2, vertical_spacing=0.03, \n",
    "                    specs=[[{\"type\": \"scatter\"},{\"type\": \"scatter\"}]], column_widths=[1,3])\n",
    "fig.update_layout(width=500, height=300, margin=dict(l=0, r=0, t=0, b=0))\n",
    "\n",
    "# Add connections lines between the nodes\n",
    "# * TODO: Do these first so that they are drawn behind nodes\n",
    "x_coords, y_coords = [],[]\n",
    "for c in g.connections:\n",
    "    xs, ys = renderer.get_connection_coords(c)\n",
    "    if x_coords: x_coords.append(None)\n",
    "    if y_coords: y_coords.append(None)\n",
    "    x_coords += xs\n",
    "    y_coords += ys\n",
    "\n",
    "line_trace = go.Scatter(\n",
    "    x=x_coords, y=y_coords, mode=\"lines\",\n",
    "    line=dict(color=\"gray\", width=1),            \n",
    "    hoverinfo='skip',\n",
    "    showlegend=False\n",
    ")\n",
    "fig.add_trace(line_trace, row=1, col=1)\n",
    "fig.add_trace(line_trace, row=1, col=2)\n",
    "\n",
    "# Add node markers\n",
    "overview_node_trace = build_node_trace(renderer, trace_idx=2, size_by='params', color_by='operation')\n",
    "node_trace = build_node_trace(renderer, trace_idx=3, size_by='params', color_by='operation')\n",
    "fig.add_trace(overview_node_trace, row=1, col=1)\n",
    "fig.add_trace(node_trace, row=1, col=2)\n",
    "\n",
    "# Layout and additional controls\n",
    "fig.update_xaxes(showgrid=False, zeroline=False, tickmode='array', tickvals=[])\n",
    "fig.update_yaxes(showgrid=False, zeroline=False, tickmode='array', tickvals=[])\n",
    "fig.update_layout(xaxis_range=[-0.11,0.11], xaxis2_range=[-0.1,0.1],\n",
    "                  yaxis_range=[max_y+0.2,-0.2], yaxis2_range=[1.9,-0.1])\n",
    "\n",
    "fig.add_shape(type=\"rect\",\n",
    "    xref=\"x\", yref=\"y\",\n",
    "    x0=-0.1, y0=-0.1, x1=0.1, y1=1.9,\n",
    "    line=dict(color=\"#000000\"),\n",
    "    row=1, col=1\n",
    ")\n",
    "\n",
    "fig.update_layout(\n",
    "    updatemenus=[build_styling_menu(renderer, pad_t=0)],\n",
    "    sliders=[build_overview_slider(renderer, pad_t=40)]\n",
    ")\n",
    "\n",
    "fig.show(renderer='notebook_connected')"
   ]
  },
  {
   "cell_type": "code",
   "execution_count": 16,
   "metadata": {},
   "outputs": [
    {
     "data": {
      "text/plain": [
       "4"
      ]
     },
     "execution_count": 16,
     "metadata": {},
     "output_type": "execute_result"
    }
   ],
   "source": [
    "len(fig.data)"
   ]
  },
  {
   "cell_type": "markdown",
   "metadata": {},
   "source": [
    "## Updates to FigureRenderer\n",
    "At this point, the controls developed above are being applied to `FigureRenderer`. This section executes these in order to test them as they are applied"
   ]
  },
  {
   "cell_type": "code",
   "execution_count": 1,
   "metadata": {},
   "outputs": [],
   "source": [
    "import sys, importlib\n",
    "sys.path.append('..')\n",
    "import torch\n",
    "from torch import nn\n",
    "import torch.nn.functional as F\n",
    "from idlmav import MAV, color_graph_nodes, FigureRenderer\n",
    "\n",
    "def reload_imports():\n",
    "    importlib.reload(sys.modules['idlmav.renderers.figure_renderer'])\n",
    "    importlib.reload(sys.modules['idlmav.renderers'])\n",
    "    importlib.reload(sys.modules['idlmav.tracing'])\n",
    "    importlib.reload(sys.modules['idlmav.layout'])\n",
    "    importlib.reload(sys.modules['idlmav.idlmav'])\n",
    "    importlib.reload(sys.modules['idlmav'])\n",
    "    global MAV, FigureRenderer\n",
    "    from idlmav import MAV, FigureRenderer"
   ]
  },
  {
   "cell_type": "code",
   "execution_count": 2,
   "metadata": {},
   "outputs": [
    {
     "name": "stderr",
     "output_type": "stream",
     "text": [
      "WARNING:2025-02-25 00:22:37 655250:655250 init.cpp:178] function cbapi->getCuptiStatus() failed with error CUPTI_ERROR_NOT_INITIALIZED (15)\n",
      "WARNING:2025-02-25 00:22:37 655250:655250 init.cpp:179] CUPTI initialization failed - CUDA profiler activities will be missing\n",
      "INFO:2025-02-25 00:22:37 655250:655250 init.cpp:181] If you see CUPTI_ERROR_INSUFFICIENT_PRIVILEGES, refer to https://developer.nvidia.com/nvidia-development-tools-solutions-err-nvgpuctrperm-cupti\n"
     ]
    }
   ],
   "source": [
    "class MnistCnn(nn.Module):\n",
    "    def __init__(self):\n",
    "        super().__init__()\n",
    "        self.conv1 = nn.Conv2d(1, 32, 3, 1)\n",
    "        self.conv2 = nn.Conv2d(32, 64, 3, 1)\n",
    "        self.dropout1 = nn.Dropout(0.25)\n",
    "        self.dropout2 = nn.Dropout(0.5)\n",
    "        self.fc1 = nn.Linear(9216, 128)\n",
    "        self.fc2 = nn.Linear(128, 10)\n",
    "\n",
    "    def forward(self, x):\n",
    "        x = self.conv1(x)\n",
    "        x = F.relu(x)\n",
    "        x = self.conv2(x)\n",
    "        x = F.relu(x)\n",
    "        x = F.max_pool2d(x, 2)\n",
    "        x = self.dropout1(x)\n",
    "        x = torch.flatten(x, 1)\n",
    "        x = self.fc1(x)\n",
    "        x = F.relu(x)\n",
    "        x = self.dropout2(x)\n",
    "        x = self.fc2(x)\n",
    "        output = F.log_softmax(x, dim=1)\n",
    "        return output\n",
    "    \n",
    "model = MnistCnn()\n",
    "inputs = torch.randn((16,1,28,28))\n",
    "mav = MAV(model, inputs)\n",
    "color_graph_nodes(mav.tracer.g)"
   ]
  },
  {
   "cell_type": "code",
   "execution_count": 19,
   "metadata": {},
   "outputs": [],
   "source": [
    "reload_imports()"
   ]
  },
  {
   "cell_type": "code",
   "execution_count": 20,
   "metadata": {},
   "outputs": [
    {
     "data": {
      "application/vnd.plotly.v1+json": {
       "config": {
        "plotlyServerURL": "https://plot.ly"
       },
       "data": [
        {
         "hoverinfo": "skip",
         "line": {
          "color": "gray",
          "width": 1
         },
         "mode": "lines",
         "showlegend": false,
         "type": "scatter",
         "x": [
          0,
          0,
          null,
          0,
          0,
          null,
          0,
          0,
          null,
          0,
          0,
          null,
          0,
          0,
          null,
          0,
          0,
          null,
          0,
          0,
          null,
          0,
          0,
          null,
          0,
          0,
          null,
          0,
          0,
          null,
          0,
          0,
          null,
          0,
          0,
          null,
          0,
          0
         ],
         "xaxis": "x2",
         "y": [
          0,
          1,
          null,
          1,
          1.15,
          null,
          1.15,
          2,
          null,
          2,
          2.15,
          null,
          2.15,
          2.3,
          null,
          2.3,
          2.45,
          null,
          2.45,
          2.6,
          null,
          2.6,
          3,
          null,
          3,
          3.15,
          null,
          3.15,
          3.3,
          null,
          3.3,
          4,
          null,
          4,
          4.15,
          null,
          4.15,
          5
         ],
         "yaxis": "y2"
        },
        {
         "hoverinfo": "skip",
         "line": {
          "color": "gray",
          "width": 1
         },
         "mode": "lines",
         "showlegend": false,
         "type": "scatter",
         "x": [
          0,
          0,
          null,
          0,
          0,
          null,
          0,
          0,
          null,
          0,
          0,
          null,
          0,
          0,
          null,
          0,
          0,
          null,
          0,
          0,
          null,
          0,
          0,
          null,
          0,
          0,
          null,
          0,
          0,
          null,
          0,
          0,
          null,
          0,
          0,
          null,
          0,
          0
         ],
         "xaxis": "x",
         "y": [
          0,
          1,
          null,
          1,
          1.15,
          null,
          1.15,
          2,
          null,
          2,
          2.15,
          null,
          2.15,
          2.3,
          null,
          2.3,
          2.45,
          null,
          2.45,
          2.6,
          null,
          2.6,
          3,
          null,
          3,
          3.15,
          null,
          3.15,
          3.3,
          null,
          3.3,
          4,
          null,
          4,
          4.15,
          null,
          4.15,
          5
         ],
         "yaxis": "y"
        },
        {
         "customdata": [
          [
           "x",
           "input",
           "(16,1,28,28)",
           "0",
           "0",
           "()",
           "{}"
          ],
          [
           "conv1",
           "nn.Conv2d",
           "(16,32,26,26)",
           "320",
           "6 230 016",
           "(x,)",
           "{}"
          ],
          [
           "relu",
           "relu()",
           "(16,32,26,26)",
           "0",
           "0",
           "(conv1,)",
           "{'inplace': False}"
          ],
          [
           "conv2",
           "nn.Conv2d",
           "(16,64,24,24)",
           "18 496",
           "339 738 624",
           "(relu,)",
           "{}"
          ],
          [
           "relu_1",
           "relu()",
           "(16,64,24,24)",
           "0",
           "0",
           "(conv2,)",
           "{'inplace': False}"
          ],
          [
           "max_pool2d",
           "max_pool2d()",
           "(16,64,12,12)",
           "0",
           "0",
           "(relu_1, 2)",
           "{'stride': None, 'padding': 0, 'dilation': 1, 'ceil_mode': False, 'return_indices': False}"
          ],
          [
           "dropout1",
           "nn.Dropout",
           "(16,64,12,12)",
           "0",
           "147 456",
           "(max_pool2d,)",
           "{}"
          ],
          [
           "flatten",
           "flatten()",
           "(16,9216)",
           "0",
           "0",
           "(dropout1, 1)",
           "{}"
          ],
          [
           "fc1",
           "nn.Linear",
           "(16,128)",
           "1 179 776",
           "37 748 736",
           "(flatten,)",
           "{}"
          ],
          [
           "relu_2",
           "relu()",
           "(16,128)",
           "0",
           "0",
           "(fc1,)",
           "{'inplace': False}"
          ],
          [
           "dropout2",
           "nn.Dropout",
           "(16,128)",
           "0",
           "2 048",
           "(relu_2,)",
           "{}"
          ],
          [
           "fc2",
           "nn.Linear",
           "(16,10)",
           "1 290",
           "40 960",
           "(dropout2,)",
           "{}"
          ],
          [
           "log_softmax",
           "log_softmax()",
           "(16,10)",
           "0",
           "0",
           "(fc2,)",
           "{'dim': 1, '_stacklevel': 3, 'dtype': None}"
          ],
          [
           "output",
           "output",
           "(16,10)",
           "0",
           "0",
           "(log_softmax,)",
           "{}"
          ]
         ],
         "hovertemplate": "Name: %{customdata[0]}<br>Operation: %{customdata[1]}<br>Activations: %{customdata[2]}<br>Parameters: %{customdata[3]}<br>FLOPS: %{customdata[4]}<br><br>args: %{customdata[5]}<br>kwargs: %{customdata[6]}<br><extra></extra>",
         "marker": {
          "color": [
           "#222A2A",
           "#00A08B",
           "#1616A7",
           "#00A08B",
           "#1616A7",
           "#DA60CA",
           "#1CA71C",
           "#778AAE",
           "#2E91E5",
           "#1616A7",
           "#1CA71C",
           "#2E91E5",
           "#1616A7",
           "#222A2A"
          ],
          "colorscale": [
           [
            0,
            "rgb(0,0,255)"
           ],
           [
            1,
            "rgb(255,0,0)"
           ]
          ],
          "size": [
           6,
           6,
           6,
           11.928009913453302,
           6,
           6,
           6,
           6,
           18,
           6,
           6,
           8.037003250024952,
           6,
           6
          ]
         },
         "mode": "markers",
         "showlegend": false,
         "type": "scatter",
         "x": [
          0,
          0,
          0,
          0,
          0,
          0,
          0,
          0,
          0,
          0,
          0,
          0,
          0,
          0
         ],
         "xaxis": "x2",
         "y": [
          0,
          1,
          1.15,
          2,
          2.15,
          2.3,
          2.45,
          2.6,
          3,
          3.15,
          3.3,
          4,
          4.15,
          5
         ],
         "yaxis": "y2"
        },
        {
         "customdata": [
          [
           "x",
           "input",
           "(16,1,28,28)",
           "0",
           "0",
           "()",
           "{}"
          ],
          [
           "conv1",
           "nn.Conv2d",
           "(16,32,26,26)",
           "320",
           "6 230 016",
           "(x,)",
           "{}"
          ],
          [
           "relu",
           "relu()",
           "(16,32,26,26)",
           "0",
           "0",
           "(conv1,)",
           "{'inplace': False}"
          ],
          [
           "conv2",
           "nn.Conv2d",
           "(16,64,24,24)",
           "18 496",
           "339 738 624",
           "(relu,)",
           "{}"
          ],
          [
           "relu_1",
           "relu()",
           "(16,64,24,24)",
           "0",
           "0",
           "(conv2,)",
           "{'inplace': False}"
          ],
          [
           "max_pool2d",
           "max_pool2d()",
           "(16,64,12,12)",
           "0",
           "0",
           "(relu_1, 2)",
           "{'stride': None, 'padding': 0, 'dilation': 1, 'ceil_mode': False, 'return_indices': False}"
          ],
          [
           "dropout1",
           "nn.Dropout",
           "(16,64,12,12)",
           "0",
           "147 456",
           "(max_pool2d,)",
           "{}"
          ],
          [
           "flatten",
           "flatten()",
           "(16,9216)",
           "0",
           "0",
           "(dropout1, 1)",
           "{}"
          ],
          [
           "fc1",
           "nn.Linear",
           "(16,128)",
           "1 179 776",
           "37 748 736",
           "(flatten,)",
           "{}"
          ],
          [
           "relu_2",
           "relu()",
           "(16,128)",
           "0",
           "0",
           "(fc1,)",
           "{'inplace': False}"
          ],
          [
           "dropout2",
           "nn.Dropout",
           "(16,128)",
           "0",
           "2 048",
           "(relu_2,)",
           "{}"
          ],
          [
           "fc2",
           "nn.Linear",
           "(16,10)",
           "1 290",
           "40 960",
           "(dropout2,)",
           "{}"
          ],
          [
           "log_softmax",
           "log_softmax()",
           "(16,10)",
           "0",
           "0",
           "(fc2,)",
           "{'dim': 1, '_stacklevel': 3, 'dtype': None}"
          ],
          [
           "output",
           "output",
           "(16,10)",
           "0",
           "0",
           "(log_softmax,)",
           "{}"
          ]
         ],
         "hovertemplate": "%{customdata[0]}<extra></extra>",
         "marker": {
          "color": [
           "#222A2A",
           "#00A08B",
           "#1616A7",
           "#00A08B",
           "#1616A7",
           "#DA60CA",
           "#1CA71C",
           "#778AAE",
           "#2E91E5",
           "#1616A7",
           "#1CA71C",
           "#2E91E5",
           "#1616A7",
           "#222A2A"
          ],
          "colorscale": [
           [
            0,
            "rgb(0,0,255)"
           ],
           [
            1,
            "rgb(255,0,0)"
           ]
          ],
          "size": [
           4,
           4,
           4,
           6.964004956726651,
           4,
           4,
           4,
           4,
           10,
           4,
           4,
           5.018501625012476,
           4,
           4
          ]
         },
         "mode": "markers",
         "showlegend": false,
         "type": "scatter",
         "x": [
          0,
          0,
          0,
          0,
          0,
          0,
          0,
          0,
          0,
          0,
          0,
          0,
          0,
          0
         ],
         "xaxis": "x",
         "y": [
          0,
          1,
          1.15,
          2,
          2.15,
          2.3,
          2.45,
          2.6,
          3,
          3.15,
          3.3,
          4,
          4.15,
          5
         ],
         "yaxis": "y"
        },
        {
         "cells": {
          "align": "left",
          "values": [
           [
            "x",
            "conv1",
            "relu",
            "conv2",
            "relu_1",
            "max_pool2d",
            "dropout1",
            "flatten",
            "fc1",
            "relu_2",
            "dropout2",
            "fc2",
            "log_softmax",
            "output"
           ],
           [
            "input",
            "nn.Conv2d",
            "relu()",
            "nn.Conv2d",
            "relu()",
            "max_pool2d()",
            "nn.Dropout",
            "flatten()",
            "nn.Linear",
            "relu()",
            "nn.Dropout",
            "nn.Linear",
            "log_softmax()",
            "output"
           ],
           [
            "(16,1,28,28)",
            "(16,32,26,26)",
            "(16,32,26,26)",
            "(16,64,24,24)",
            "(16,64,24,24)",
            "(16,64,12,12)",
            "(16,64,12,12)",
            "(16,9216)",
            "(16,128)",
            "(16,128)",
            "(16,128)",
            "(16,10)",
            "(16,10)",
            "(16,10)"
           ],
           [
            "0",
            "320",
            "0",
            "18 496",
            "0",
            "0",
            "0",
            "0",
            "1 179 776",
            "0",
            "0",
            "1 290",
            "0",
            "0"
           ],
           [
            "0",
            "6 230 016",
            "0",
            "339 738 624",
            "0",
            "0",
            "147 456",
            "0",
            "37 748 736",
            "0",
            "2 048",
            "40 960",
            "0",
            "0"
           ]
          ]
         },
         "domain": {
          "x": [
           0.24516129032258066,
           1
          ],
          "y": [
           0,
           1
          ]
         },
         "header": {
          "align": "left",
          "font": {
           "size": 10
          },
          "values": [
           "Name",
           "Operation",
           "Activations",
           "Params [1 199 882]",
           "FLOPS [383 907 840]"
          ]
         },
         "type": "table"
        }
       ],
       "layout": {
        "margin": {
         "b": 0,
         "l": 0,
         "r": 0,
         "t": 0
        },
        "modebar": {
         "orientation": "v",
         "remove": [
          "select",
          "lasso"
         ]
        },
        "shapes": [
         {
          "line": {
           "color": "#000000"
          },
          "type": "rect",
          "x0": -0.25,
          "x1": 0.25,
          "xref": "x",
          "y0": -0.25,
          "y1": 1.75,
          "yref": "y"
         }
        ],
        "sliders": [
         {
          "active": 0,
          "currentvalue": {
           "visible": false
          },
          "pad": {
           "b": 0,
           "l": 0,
           "r": 0,
           "t": 48
          },
          "steps": [
           {
            "args": [
             {
              "shapes": [
               {
                "line": {
                 "color": "#000000"
                },
                "type": "rect",
                "x0": -0.25,
                "x1": 0.25,
                "xref": "x",
                "y0": -0.25,
                "y1": 1.75,
                "yref": "y"
               }
              ],
              "yaxis2": {
               "range": [
                1.75,
                -0.25
               ],
               "showgrid": false,
               "tickmode": "array",
               "tickvals": [],
               "zeroline": false
              }
             }
            ],
            "label": "",
            "method": "relayout"
           },
           {
            "args": [
             {
              "shapes": [
               {
                "line": {
                 "color": "#000000"
                },
                "type": "rect",
                "x0": -0.25,
                "x1": 0.25,
                "xref": "x",
                "y0": 0.1875,
                "y1": 2.1875,
                "yref": "y"
               }
              ],
              "yaxis2": {
               "range": [
                2.1875,
                0.1875
               ],
               "showgrid": false,
               "tickmode": "array",
               "tickvals": [],
               "zeroline": false
              }
             }
            ],
            "label": "",
            "method": "relayout"
           },
           {
            "args": [
             {
              "shapes": [
               {
                "line": {
                 "color": "#000000"
                },
                "type": "rect",
                "x0": -0.25,
                "x1": 0.25,
                "xref": "x",
                "y0": 0.625,
                "y1": 2.625,
                "yref": "y"
               }
              ],
              "yaxis2": {
               "range": [
                2.625,
                0.625
               ],
               "showgrid": false,
               "tickmode": "array",
               "tickvals": [],
               "zeroline": false
              }
             }
            ],
            "label": "",
            "method": "relayout"
           },
           {
            "args": [
             {
              "shapes": [
               {
                "line": {
                 "color": "#000000"
                },
                "type": "rect",
                "x0": -0.25,
                "x1": 0.25,
                "xref": "x",
                "y0": 1.0625,
                "y1": 3.0625,
                "yref": "y"
               }
              ],
              "yaxis2": {
               "range": [
                3.0625,
                1.0625
               ],
               "showgrid": false,
               "tickmode": "array",
               "tickvals": [],
               "zeroline": false
              }
             }
            ],
            "label": "",
            "method": "relayout"
           },
           {
            "args": [
             {
              "shapes": [
               {
                "line": {
                 "color": "#000000"
                },
                "type": "rect",
                "x0": -0.25,
                "x1": 0.25,
                "xref": "x",
                "y0": 1.5,
                "y1": 3.5,
                "yref": "y"
               }
              ],
              "yaxis2": {
               "range": [
                3.5,
                1.5
               ],
               "showgrid": false,
               "tickmode": "array",
               "tickvals": [],
               "zeroline": false
              }
             }
            ],
            "label": "",
            "method": "relayout"
           },
           {
            "args": [
             {
              "shapes": [
               {
                "line": {
                 "color": "#000000"
                },
                "type": "rect",
                "x0": -0.25,
                "x1": 0.25,
                "xref": "x",
                "y0": 1.9375,
                "y1": 3.9375,
                "yref": "y"
               }
              ],
              "yaxis2": {
               "range": [
                3.9375,
                1.9375
               ],
               "showgrid": false,
               "tickmode": "array",
               "tickvals": [],
               "zeroline": false
              }
             }
            ],
            "label": "",
            "method": "relayout"
           },
           {
            "args": [
             {
              "shapes": [
               {
                "line": {
                 "color": "#000000"
                },
                "type": "rect",
                "x0": -0.25,
                "x1": 0.25,
                "xref": "x",
                "y0": 2.375,
                "y1": 4.375,
                "yref": "y"
               }
              ],
              "yaxis2": {
               "range": [
                4.375,
                2.375
               ],
               "showgrid": false,
               "tickmode": "array",
               "tickvals": [],
               "zeroline": false
              }
             }
            ],
            "label": "",
            "method": "relayout"
           },
           {
            "args": [
             {
              "shapes": [
               {
                "line": {
                 "color": "#000000"
                },
                "type": "rect",
                "x0": -0.25,
                "x1": 0.25,
                "xref": "x",
                "y0": 2.8125,
                "y1": 4.8125,
                "yref": "y"
               }
              ],
              "yaxis2": {
               "range": [
                4.8125,
                2.8125
               ],
               "showgrid": false,
               "tickmode": "array",
               "tickvals": [],
               "zeroline": false
              }
             }
            ],
            "label": "",
            "method": "relayout"
           },
           {
            "args": [
             {
              "shapes": [
               {
                "line": {
                 "color": "#000000"
                },
                "type": "rect",
                "x0": -0.25,
                "x1": 0.25,
                "xref": "x",
                "y0": 3.25,
                "y1": 5.25,
                "yref": "y"
               }
              ],
              "yaxis2": {
               "range": [
                5.25,
                3.25
               ],
               "showgrid": false,
               "tickmode": "array",
               "tickvals": [],
               "zeroline": false
              }
             }
            ],
            "label": "",
            "method": "relayout"
           }
          ],
          "ticklen": 0,
          "tickwidth": 0,
          "x": 0,
          "xanchor": "left",
          "y": 0,
          "yanchor": "top"
         }
        ],
        "template": {
         "data": {
          "bar": [
           {
            "error_x": {
             "color": "#2a3f5f"
            },
            "error_y": {
             "color": "#2a3f5f"
            },
            "marker": {
             "line": {
              "color": "#E5ECF6",
              "width": 0.5
             },
             "pattern": {
              "fillmode": "overlay",
              "size": 10,
              "solidity": 0.2
             }
            },
            "type": "bar"
           }
          ],
          "barpolar": [
           {
            "marker": {
             "line": {
              "color": "#E5ECF6",
              "width": 0.5
             },
             "pattern": {
              "fillmode": "overlay",
              "size": 10,
              "solidity": 0.2
             }
            },
            "type": "barpolar"
           }
          ],
          "carpet": [
           {
            "aaxis": {
             "endlinecolor": "#2a3f5f",
             "gridcolor": "white",
             "linecolor": "white",
             "minorgridcolor": "white",
             "startlinecolor": "#2a3f5f"
            },
            "baxis": {
             "endlinecolor": "#2a3f5f",
             "gridcolor": "white",
             "linecolor": "white",
             "minorgridcolor": "white",
             "startlinecolor": "#2a3f5f"
            },
            "type": "carpet"
           }
          ],
          "choropleth": [
           {
            "colorbar": {
             "outlinewidth": 0,
             "ticks": ""
            },
            "type": "choropleth"
           }
          ],
          "contour": [
           {
            "colorbar": {
             "outlinewidth": 0,
             "ticks": ""
            },
            "colorscale": [
             [
              0,
              "#0d0887"
             ],
             [
              0.1111111111111111,
              "#46039f"
             ],
             [
              0.2222222222222222,
              "#7201a8"
             ],
             [
              0.3333333333333333,
              "#9c179e"
             ],
             [
              0.4444444444444444,
              "#bd3786"
             ],
             [
              0.5555555555555556,
              "#d8576b"
             ],
             [
              0.6666666666666666,
              "#ed7953"
             ],
             [
              0.7777777777777778,
              "#fb9f3a"
             ],
             [
              0.8888888888888888,
              "#fdca26"
             ],
             [
              1,
              "#f0f921"
             ]
            ],
            "type": "contour"
           }
          ],
          "contourcarpet": [
           {
            "colorbar": {
             "outlinewidth": 0,
             "ticks": ""
            },
            "type": "contourcarpet"
           }
          ],
          "heatmap": [
           {
            "colorbar": {
             "outlinewidth": 0,
             "ticks": ""
            },
            "colorscale": [
             [
              0,
              "#0d0887"
             ],
             [
              0.1111111111111111,
              "#46039f"
             ],
             [
              0.2222222222222222,
              "#7201a8"
             ],
             [
              0.3333333333333333,
              "#9c179e"
             ],
             [
              0.4444444444444444,
              "#bd3786"
             ],
             [
              0.5555555555555556,
              "#d8576b"
             ],
             [
              0.6666666666666666,
              "#ed7953"
             ],
             [
              0.7777777777777778,
              "#fb9f3a"
             ],
             [
              0.8888888888888888,
              "#fdca26"
             ],
             [
              1,
              "#f0f921"
             ]
            ],
            "type": "heatmap"
           }
          ],
          "heatmapgl": [
           {
            "colorbar": {
             "outlinewidth": 0,
             "ticks": ""
            },
            "colorscale": [
             [
              0,
              "#0d0887"
             ],
             [
              0.1111111111111111,
              "#46039f"
             ],
             [
              0.2222222222222222,
              "#7201a8"
             ],
             [
              0.3333333333333333,
              "#9c179e"
             ],
             [
              0.4444444444444444,
              "#bd3786"
             ],
             [
              0.5555555555555556,
              "#d8576b"
             ],
             [
              0.6666666666666666,
              "#ed7953"
             ],
             [
              0.7777777777777778,
              "#fb9f3a"
             ],
             [
              0.8888888888888888,
              "#fdca26"
             ],
             [
              1,
              "#f0f921"
             ]
            ],
            "type": "heatmapgl"
           }
          ],
          "histogram": [
           {
            "marker": {
             "pattern": {
              "fillmode": "overlay",
              "size": 10,
              "solidity": 0.2
             }
            },
            "type": "histogram"
           }
          ],
          "histogram2d": [
           {
            "colorbar": {
             "outlinewidth": 0,
             "ticks": ""
            },
            "colorscale": [
             [
              0,
              "#0d0887"
             ],
             [
              0.1111111111111111,
              "#46039f"
             ],
             [
              0.2222222222222222,
              "#7201a8"
             ],
             [
              0.3333333333333333,
              "#9c179e"
             ],
             [
              0.4444444444444444,
              "#bd3786"
             ],
             [
              0.5555555555555556,
              "#d8576b"
             ],
             [
              0.6666666666666666,
              "#ed7953"
             ],
             [
              0.7777777777777778,
              "#fb9f3a"
             ],
             [
              0.8888888888888888,
              "#fdca26"
             ],
             [
              1,
              "#f0f921"
             ]
            ],
            "type": "histogram2d"
           }
          ],
          "histogram2dcontour": [
           {
            "colorbar": {
             "outlinewidth": 0,
             "ticks": ""
            },
            "colorscale": [
             [
              0,
              "#0d0887"
             ],
             [
              0.1111111111111111,
              "#46039f"
             ],
             [
              0.2222222222222222,
              "#7201a8"
             ],
             [
              0.3333333333333333,
              "#9c179e"
             ],
             [
              0.4444444444444444,
              "#bd3786"
             ],
             [
              0.5555555555555556,
              "#d8576b"
             ],
             [
              0.6666666666666666,
              "#ed7953"
             ],
             [
              0.7777777777777778,
              "#fb9f3a"
             ],
             [
              0.8888888888888888,
              "#fdca26"
             ],
             [
              1,
              "#f0f921"
             ]
            ],
            "type": "histogram2dcontour"
           }
          ],
          "mesh3d": [
           {
            "colorbar": {
             "outlinewidth": 0,
             "ticks": ""
            },
            "type": "mesh3d"
           }
          ],
          "parcoords": [
           {
            "line": {
             "colorbar": {
              "outlinewidth": 0,
              "ticks": ""
             }
            },
            "type": "parcoords"
           }
          ],
          "pie": [
           {
            "automargin": true,
            "type": "pie"
           }
          ],
          "scatter": [
           {
            "fillpattern": {
             "fillmode": "overlay",
             "size": 10,
             "solidity": 0.2
            },
            "type": "scatter"
           }
          ],
          "scatter3d": [
           {
            "line": {
             "colorbar": {
              "outlinewidth": 0,
              "ticks": ""
             }
            },
            "marker": {
             "colorbar": {
              "outlinewidth": 0,
              "ticks": ""
             }
            },
            "type": "scatter3d"
           }
          ],
          "scattercarpet": [
           {
            "marker": {
             "colorbar": {
              "outlinewidth": 0,
              "ticks": ""
             }
            },
            "type": "scattercarpet"
           }
          ],
          "scattergeo": [
           {
            "marker": {
             "colorbar": {
              "outlinewidth": 0,
              "ticks": ""
             }
            },
            "type": "scattergeo"
           }
          ],
          "scattergl": [
           {
            "marker": {
             "colorbar": {
              "outlinewidth": 0,
              "ticks": ""
             }
            },
            "type": "scattergl"
           }
          ],
          "scattermapbox": [
           {
            "marker": {
             "colorbar": {
              "outlinewidth": 0,
              "ticks": ""
             }
            },
            "type": "scattermapbox"
           }
          ],
          "scatterpolar": [
           {
            "marker": {
             "colorbar": {
              "outlinewidth": 0,
              "ticks": ""
             }
            },
            "type": "scatterpolar"
           }
          ],
          "scatterpolargl": [
           {
            "marker": {
             "colorbar": {
              "outlinewidth": 0,
              "ticks": ""
             }
            },
            "type": "scatterpolargl"
           }
          ],
          "scatterternary": [
           {
            "marker": {
             "colorbar": {
              "outlinewidth": 0,
              "ticks": ""
             }
            },
            "type": "scatterternary"
           }
          ],
          "surface": [
           {
            "colorbar": {
             "outlinewidth": 0,
             "ticks": ""
            },
            "colorscale": [
             [
              0,
              "#0d0887"
             ],
             [
              0.1111111111111111,
              "#46039f"
             ],
             [
              0.2222222222222222,
              "#7201a8"
             ],
             [
              0.3333333333333333,
              "#9c179e"
             ],
             [
              0.4444444444444444,
              "#bd3786"
             ],
             [
              0.5555555555555556,
              "#d8576b"
             ],
             [
              0.6666666666666666,
              "#ed7953"
             ],
             [
              0.7777777777777778,
              "#fb9f3a"
             ],
             [
              0.8888888888888888,
              "#fdca26"
             ],
             [
              1,
              "#f0f921"
             ]
            ],
            "type": "surface"
           }
          ],
          "table": [
           {
            "cells": {
             "fill": {
              "color": "#EBF0F8"
             },
             "line": {
              "color": "white"
             }
            },
            "header": {
             "fill": {
              "color": "#C8D4E3"
             },
             "line": {
              "color": "white"
             }
            },
            "type": "table"
           }
          ]
         },
         "layout": {
          "annotationdefaults": {
           "arrowcolor": "#2a3f5f",
           "arrowhead": 0,
           "arrowwidth": 1
          },
          "autotypenumbers": "strict",
          "coloraxis": {
           "colorbar": {
            "outlinewidth": 0,
            "ticks": ""
           }
          },
          "colorscale": {
           "diverging": [
            [
             0,
             "#8e0152"
            ],
            [
             0.1,
             "#c51b7d"
            ],
            [
             0.2,
             "#de77ae"
            ],
            [
             0.3,
             "#f1b6da"
            ],
            [
             0.4,
             "#fde0ef"
            ],
            [
             0.5,
             "#f7f7f7"
            ],
            [
             0.6,
             "#e6f5d0"
            ],
            [
             0.7,
             "#b8e186"
            ],
            [
             0.8,
             "#7fbc41"
            ],
            [
             0.9,
             "#4d9221"
            ],
            [
             1,
             "#276419"
            ]
           ],
           "sequential": [
            [
             0,
             "#0d0887"
            ],
            [
             0.1111111111111111,
             "#46039f"
            ],
            [
             0.2222222222222222,
             "#7201a8"
            ],
            [
             0.3333333333333333,
             "#9c179e"
            ],
            [
             0.4444444444444444,
             "#bd3786"
            ],
            [
             0.5555555555555556,
             "#d8576b"
            ],
            [
             0.6666666666666666,
             "#ed7953"
            ],
            [
             0.7777777777777778,
             "#fb9f3a"
            ],
            [
             0.8888888888888888,
             "#fdca26"
            ],
            [
             1,
             "#f0f921"
            ]
           ],
           "sequentialminus": [
            [
             0,
             "#0d0887"
            ],
            [
             0.1111111111111111,
             "#46039f"
            ],
            [
             0.2222222222222222,
             "#7201a8"
            ],
            [
             0.3333333333333333,
             "#9c179e"
            ],
            [
             0.4444444444444444,
             "#bd3786"
            ],
            [
             0.5555555555555556,
             "#d8576b"
            ],
            [
             0.6666666666666666,
             "#ed7953"
            ],
            [
             0.7777777777777778,
             "#fb9f3a"
            ],
            [
             0.8888888888888888,
             "#fdca26"
            ],
            [
             1,
             "#f0f921"
            ]
           ]
          },
          "colorway": [
           "#636efa",
           "#EF553B",
           "#00cc96",
           "#ab63fa",
           "#FFA15A",
           "#19d3f3",
           "#FF6692",
           "#B6E880",
           "#FF97FF",
           "#FECB52"
          ],
          "font": {
           "color": "#2a3f5f"
          },
          "geo": {
           "bgcolor": "white",
           "lakecolor": "white",
           "landcolor": "#E5ECF6",
           "showlakes": true,
           "showland": true,
           "subunitcolor": "white"
          },
          "hoverlabel": {
           "align": "left"
          },
          "hovermode": "closest",
          "mapbox": {
           "style": "light"
          },
          "paper_bgcolor": "white",
          "plot_bgcolor": "#E5ECF6",
          "polar": {
           "angularaxis": {
            "gridcolor": "white",
            "linecolor": "white",
            "ticks": ""
           },
           "bgcolor": "#E5ECF6",
           "radialaxis": {
            "gridcolor": "white",
            "linecolor": "white",
            "ticks": ""
           }
          },
          "scene": {
           "xaxis": {
            "backgroundcolor": "#E5ECF6",
            "gridcolor": "white",
            "gridwidth": 2,
            "linecolor": "white",
            "showbackground": true,
            "ticks": "",
            "zerolinecolor": "white"
           },
           "yaxis": {
            "backgroundcolor": "#E5ECF6",
            "gridcolor": "white",
            "gridwidth": 2,
            "linecolor": "white",
            "showbackground": true,
            "ticks": "",
            "zerolinecolor": "white"
           },
           "zaxis": {
            "backgroundcolor": "#E5ECF6",
            "gridcolor": "white",
            "gridwidth": 2,
            "linecolor": "white",
            "showbackground": true,
            "ticks": "",
            "zerolinecolor": "white"
           }
          },
          "shapedefaults": {
           "line": {
            "color": "#2a3f5f"
           }
          },
          "ternary": {
           "aaxis": {
            "gridcolor": "white",
            "linecolor": "white",
            "ticks": ""
           },
           "baxis": {
            "gridcolor": "white",
            "linecolor": "white",
            "ticks": ""
           },
           "bgcolor": "#E5ECF6",
           "caxis": {
            "gridcolor": "white",
            "linecolor": "white",
            "ticks": ""
           }
          },
          "title": {
           "x": 0.05
          },
          "xaxis": {
           "automargin": true,
           "gridcolor": "white",
           "linecolor": "white",
           "ticks": "",
           "title": {
            "standoff": 15
           },
           "zerolinecolor": "white",
           "zerolinewidth": 2
          },
          "yaxis": {
           "automargin": true,
           "gridcolor": "white",
           "linecolor": "white",
           "ticks": "",
           "title": {
            "standoff": 15
           },
           "zerolinecolor": "white",
           "zerolinewidth": 2
          }
         }
        },
        "updatemenus": [
         {
          "buttons": [
           {
            "args": [
             {
              "marker": [
               {},
               {},
               {
                "color": [
                 "#222A2A",
                 "#00A08B",
                 "#1616A7",
                 "#00A08B",
                 "#1616A7",
                 "#DA60CA",
                 "#1CA71C",
                 "#778AAE",
                 "#2E91E5",
                 "#1616A7",
                 "#1CA71C",
                 "#2E91E5",
                 "#1616A7",
                 "#222A2A"
                ],
                "colorscale": "Bluered",
                "size": [
                 6,
                 6,
                 6,
                 11.928009913453302,
                 6,
                 6,
                 6,
                 6,
                 18,
                 6,
                 6,
                 8.037003250024952,
                 6,
                 6
                ]
               },
               {
                "color": [
                 "#222A2A",
                 "#00A08B",
                 "#1616A7",
                 "#00A08B",
                 "#1616A7",
                 "#DA60CA",
                 "#1CA71C",
                 "#778AAE",
                 "#2E91E5",
                 "#1616A7",
                 "#1CA71C",
                 "#2E91E5",
                 "#1616A7",
                 "#222A2A"
                ],
                "colorscale": "Bluered",
                "size": [
                 4,
                 4,
                 4,
                 6.964004956726651,
                 4,
                 4,
                 4,
                 4,
                 10,
                 4,
                 4,
                 5.018501625012476,
                 4,
                 4
                ]
               },
               {}
              ]
             }
            ],
            "label": "Size by params, color by operation",
            "method": "restyle"
           },
           {
            "args": [
             {
              "marker": [
               {},
               {},
               {
                "color": [
                 "#222A2A",
                 "#00A08B",
                 "#1616A7",
                 "#00A08B",
                 "#1616A7",
                 "#DA60CA",
                 "#1CA71C",
                 "#778AAE",
                 "#2E91E5",
                 "#1616A7",
                 "#1CA71C",
                 "#2E91E5",
                 "#1616A7",
                 "#222A2A"
                ],
                "colorscale": "Bluered",
                "size": [
                 6,
                 6,
                 6,
                 8.197199409664446,
                 6,
                 6,
                 6,
                 6,
                 12.346132083395247,
                 6,
                 6,
                 6,
                 6,
                 6
                ]
               },
               {
                "color": [
                 "#222A2A",
                 "#00A08B",
                 "#1616A7",
                 "#00A08B",
                 "#1616A7",
                 "#DA60CA",
                 "#1CA71C",
                 "#778AAE",
                 "#2E91E5",
                 "#1616A7",
                 "#1CA71C",
                 "#2E91E5",
                 "#1616A7",
                 "#222A2A"
                ],
                "colorscale": "Bluered",
                "size": [
                 4,
                 4,
                 4,
                 5.098599704832223,
                 4,
                 4,
                 4,
                 4,
                 7.1730660416976235,
                 4,
                 4,
                 4,
                 4,
                 4
                ]
               },
               {}
              ]
             }
            ],
            "label": "Size by FLOPS, color by operation",
            "method": "restyle"
           },
           {
            "args": [
             {
              "marker": [
               {},
               {},
               {
                "color": [
                 0,
                 0.6672955323027362,
                 0,
                 1,
                 0,
                 0,
                 0.355823435636173,
                 0,
                 0.8171884416004193,
                 0,
                 0,
                 0.2492482976593439,
                 0,
                 0
                ],
                "colorscale": "Bluered",
                "size": [
                 6,
                 6,
                 6,
                 11.928009913453302,
                 6,
                 6,
                 6,
                 6,
                 18,
                 6,
                 6,
                 8.037003250024952,
                 6,
                 6
                ]
               },
               {
                "color": [
                 0,
                 0.6672955323027362,
                 0,
                 1,
                 0,
                 0,
                 0.355823435636173,
                 0,
                 0.8171884416004193,
                 0,
                 0,
                 0.2492482976593439,
                 0,
                 0
                ],
                "colorscale": "Bluered",
                "size": [
                 4,
                 4,
                 4,
                 6.964004956726651,
                 4,
                 4,
                 4,
                 4,
                 10,
                 4,
                 4,
                 5.018501625012476,
                 4,
                 4
                ]
               },
               {}
              ]
             }
            ],
            "label": "Size by params, color by FLOPS",
            "method": "restyle"
           },
           {
            "args": [
             {
              "marker": [
               {},
               {},
               {
                "color": [
                 0,
                 1,
                 0,
                 1,
                 0,
                 0,
                 0.7467827751382162,
                 0,
                 1,
                 0,
                 0.22603285132684345,
                 0.5908093641053138,
                 0,
                 0
                ],
                "colorscale": "Bluered",
                "size": [
                 6,
                 6,
                 6,
                 8.197199409664446,
                 6,
                 6,
                 6,
                 6,
                 12.346132083395247,
                 6,
                 6,
                 6,
                 6,
                 6
                ]
               },
               {
                "color": [
                 0,
                 1,
                 0,
                 1,
                 0,
                 0,
                 0.7467827751382162,
                 0,
                 1,
                 0,
                 0.22603285132684345,
                 0.5908093641053138,
                 0,
                 0
                ],
                "colorscale": "Bluered",
                "size": [
                 4,
                 4,
                 4,
                 5.098599704832223,
                 4,
                 4,
                 4,
                 4,
                 7.1730660416976235,
                 4,
                 4,
                 4,
                 4,
                 4
                ]
               },
               {}
              ]
             }
            ],
            "label": "Size by FLOPS, color by params",
            "method": "restyle"
           }
          ],
          "direction": "up",
          "pad": {
           "b": 0,
           "l": 0,
           "r": 0,
           "t": 8
          },
          "showactive": true,
          "x": 0,
          "xanchor": "left",
          "y": 0,
          "yanchor": "top"
         }
        ],
        "xaxis": {
         "anchor": "y",
         "domain": [
          0,
          0.02795698924731183
         ],
         "range": [
          -0.5,
          0.5
         ],
         "showgrid": false,
         "tickmode": "array",
         "tickvals": [],
         "zeroline": false
        },
        "xaxis2": {
         "anchor": "y2",
         "domain": [
          0.09462365591397849,
          0.17849462365591398
         ],
         "range": [
          -0.25,
          0.25
         ],
         "showgrid": false,
         "tickmode": "array",
         "tickvals": [],
         "zeroline": false
        },
        "yaxis": {
         "anchor": "x",
         "domain": [
          0,
          1
         ],
         "range": [
          5.5,
          -0.5
         ],
         "showgrid": false,
         "tickmode": "array",
         "tickvals": [],
         "zeroline": false
        },
        "yaxis2": {
         "anchor": "x2",
         "domain": [
          0,
          1
         ],
         "range": [
          1.75,
          -0.25
         ],
         "showgrid": false,
         "tickmode": "array",
         "tickvals": [],
         "zeroline": false
        }
       }
      },
      "text/html": [
       "<div>                            <div id=\"9f3e22fe-d7a0-4a13-97fa-896c4a56cd78\" class=\"plotly-graph-div\" style=\"height:525px; width:100%;\"></div>            <script type=\"text/javascript\">                require([\"plotly\"], function(Plotly) {                    window.PLOTLYENV=window.PLOTLYENV || {};                                    if (document.getElementById(\"9f3e22fe-d7a0-4a13-97fa-896c4a56cd78\")) {                    Plotly.newPlot(                        \"9f3e22fe-d7a0-4a13-97fa-896c4a56cd78\",                        [{\"hoverinfo\":\"skip\",\"line\":{\"color\":\"gray\",\"width\":1},\"mode\":\"lines\",\"showlegend\":false,\"x\":[0.0,0.0,null,0.0,0.0,null,0.0,0.0,null,0.0,0.0,null,0.0,0.0,null,0.0,0.0,null,0.0,0.0,null,0.0,0.0,null,0.0,0.0,null,0.0,0.0,null,0.0,0.0,null,0.0,0.0,null,0.0,0.0],\"y\":[0,1,null,1,1.15,null,1.15,2,null,2,2.15,null,2.15,2.3,null,2.3,2.45,null,2.45,2.6,null,2.6,3,null,3,3.15,null,3.15,3.3,null,3.3,4,null,4,4.15,null,4.15,5],\"type\":\"scatter\",\"xaxis\":\"x2\",\"yaxis\":\"y2\"},{\"hoverinfo\":\"skip\",\"line\":{\"color\":\"gray\",\"width\":1},\"mode\":\"lines\",\"showlegend\":false,\"x\":[0.0,0.0,null,0.0,0.0,null,0.0,0.0,null,0.0,0.0,null,0.0,0.0,null,0.0,0.0,null,0.0,0.0,null,0.0,0.0,null,0.0,0.0,null,0.0,0.0,null,0.0,0.0,null,0.0,0.0,null,0.0,0.0],\"y\":[0,1,null,1,1.15,null,1.15,2,null,2,2.15,null,2.15,2.3,null,2.3,2.45,null,2.45,2.6,null,2.6,3,null,3,3.15,null,3.15,3.3,null,3.3,4,null,4,4.15,null,4.15,5],\"type\":\"scatter\",\"xaxis\":\"x\",\"yaxis\":\"y\"},{\"customdata\":[[\"x\",\"input\",\"(16,1,28,28)\",\"0\",\"0\",\"()\",\"{}\"],[\"conv1\",\"nn.Conv2d\",\"(16,32,26,26)\",\"320\",\"6 230 016\",\"(x,)\",\"{}\"],[\"relu\",\"relu()\",\"(16,32,26,26)\",\"0\",\"0\",\"(conv1,)\",\"{'inplace': False}\"],[\"conv2\",\"nn.Conv2d\",\"(16,64,24,24)\",\"18 496\",\"339 738 624\",\"(relu,)\",\"{}\"],[\"relu_1\",\"relu()\",\"(16,64,24,24)\",\"0\",\"0\",\"(conv2,)\",\"{'inplace': False}\"],[\"max_pool2d\",\"max_pool2d()\",\"(16,64,12,12)\",\"0\",\"0\",\"(relu_1, 2)\",\"{'stride': None, 'padding': 0, 'dilation': 1, 'ceil_mode': False, 'return_indices': False}\"],[\"dropout1\",\"nn.Dropout\",\"(16,64,12,12)\",\"0\",\"147 456\",\"(max_pool2d,)\",\"{}\"],[\"flatten\",\"flatten()\",\"(16,9216)\",\"0\",\"0\",\"(dropout1, 1)\",\"{}\"],[\"fc1\",\"nn.Linear\",\"(16,128)\",\"1 179 776\",\"37 748 736\",\"(flatten,)\",\"{}\"],[\"relu_2\",\"relu()\",\"(16,128)\",\"0\",\"0\",\"(fc1,)\",\"{'inplace': False}\"],[\"dropout2\",\"nn.Dropout\",\"(16,128)\",\"0\",\"2 048\",\"(relu_2,)\",\"{}\"],[\"fc2\",\"nn.Linear\",\"(16,10)\",\"1 290\",\"40 960\",\"(dropout2,)\",\"{}\"],[\"log_softmax\",\"log_softmax()\",\"(16,10)\",\"0\",\"0\",\"(fc2,)\",\"{'dim': 1, '_stacklevel': 3, 'dtype': None}\"],[\"output\",\"output\",\"(16,10)\",\"0\",\"0\",\"(log_softmax,)\",\"{}\"]],\"hovertemplate\":\"Name: %{customdata[0]}\\u003cbr\\u003eOperation: %{customdata[1]}\\u003cbr\\u003eActivations: %{customdata[2]}\\u003cbr\\u003eParameters: %{customdata[3]}\\u003cbr\\u003eFLOPS: %{customdata[4]}\\u003cbr\\u003e\\u003cbr\\u003eargs: %{customdata[5]}\\u003cbr\\u003ekwargs: %{customdata[6]}\\u003cbr\\u003e\\u003cextra\\u003e\\u003c\\u002fextra\\u003e\",\"marker\":{\"color\":[\"#222A2A\",\"#00A08B\",\"#1616A7\",\"#00A08B\",\"#1616A7\",\"#DA60CA\",\"#1CA71C\",\"#778AAE\",\"#2E91E5\",\"#1616A7\",\"#1CA71C\",\"#2E91E5\",\"#1616A7\",\"#222A2A\"],\"colorscale\":[[0.0,\"rgb(0,0,255)\"],[1.0,\"rgb(255,0,0)\"]],\"size\":[6.0,6.0,6.0,11.928009913453302,6.0,6.0,6.0,6.0,18.0,6.0,6.0,8.037003250024952,6.0,6.0]},\"mode\":\"markers\",\"showlegend\":false,\"x\":[0.0,0.0,0.0,0.0,0.0,0.0,0.0,0.0,0.0,0.0,0.0,0.0,0.0,0.0],\"y\":[0,1,1.15,2,2.15,2.3,2.45,2.6,3,3.15,3.3,4,4.15,5],\"type\":\"scatter\",\"xaxis\":\"x2\",\"yaxis\":\"y2\"},{\"customdata\":[[\"x\",\"input\",\"(16,1,28,28)\",\"0\",\"0\",\"()\",\"{}\"],[\"conv1\",\"nn.Conv2d\",\"(16,32,26,26)\",\"320\",\"6 230 016\",\"(x,)\",\"{}\"],[\"relu\",\"relu()\",\"(16,32,26,26)\",\"0\",\"0\",\"(conv1,)\",\"{'inplace': False}\"],[\"conv2\",\"nn.Conv2d\",\"(16,64,24,24)\",\"18 496\",\"339 738 624\",\"(relu,)\",\"{}\"],[\"relu_1\",\"relu()\",\"(16,64,24,24)\",\"0\",\"0\",\"(conv2,)\",\"{'inplace': False}\"],[\"max_pool2d\",\"max_pool2d()\",\"(16,64,12,12)\",\"0\",\"0\",\"(relu_1, 2)\",\"{'stride': None, 'padding': 0, 'dilation': 1, 'ceil_mode': False, 'return_indices': False}\"],[\"dropout1\",\"nn.Dropout\",\"(16,64,12,12)\",\"0\",\"147 456\",\"(max_pool2d,)\",\"{}\"],[\"flatten\",\"flatten()\",\"(16,9216)\",\"0\",\"0\",\"(dropout1, 1)\",\"{}\"],[\"fc1\",\"nn.Linear\",\"(16,128)\",\"1 179 776\",\"37 748 736\",\"(flatten,)\",\"{}\"],[\"relu_2\",\"relu()\",\"(16,128)\",\"0\",\"0\",\"(fc1,)\",\"{'inplace': False}\"],[\"dropout2\",\"nn.Dropout\",\"(16,128)\",\"0\",\"2 048\",\"(relu_2,)\",\"{}\"],[\"fc2\",\"nn.Linear\",\"(16,10)\",\"1 290\",\"40 960\",\"(dropout2,)\",\"{}\"],[\"log_softmax\",\"log_softmax()\",\"(16,10)\",\"0\",\"0\",\"(fc2,)\",\"{'dim': 1, '_stacklevel': 3, 'dtype': None}\"],[\"output\",\"output\",\"(16,10)\",\"0\",\"0\",\"(log_softmax,)\",\"{}\"]],\"hovertemplate\":\"%{customdata[0]}\\u003cextra\\u003e\\u003c\\u002fextra\\u003e\",\"marker\":{\"color\":[\"#222A2A\",\"#00A08B\",\"#1616A7\",\"#00A08B\",\"#1616A7\",\"#DA60CA\",\"#1CA71C\",\"#778AAE\",\"#2E91E5\",\"#1616A7\",\"#1CA71C\",\"#2E91E5\",\"#1616A7\",\"#222A2A\"],\"colorscale\":[[0.0,\"rgb(0,0,255)\"],[1.0,\"rgb(255,0,0)\"]],\"size\":[4.0,4.0,4.0,6.964004956726651,4.0,4.0,4.0,4.0,10.0,4.0,4.0,5.018501625012476,4.0,4.0]},\"mode\":\"markers\",\"showlegend\":false,\"x\":[0.0,0.0,0.0,0.0,0.0,0.0,0.0,0.0,0.0,0.0,0.0,0.0,0.0,0.0],\"y\":[0,1,1.15,2,2.15,2.3,2.45,2.6,3,3.15,3.3,4,4.15,5],\"type\":\"scatter\",\"xaxis\":\"x\",\"yaxis\":\"y\"},{\"cells\":{\"align\":\"left\",\"values\":[[\"x\",\"conv1\",\"relu\",\"conv2\",\"relu_1\",\"max_pool2d\",\"dropout1\",\"flatten\",\"fc1\",\"relu_2\",\"dropout2\",\"fc2\",\"log_softmax\",\"output\"],[\"input\",\"nn.Conv2d\",\"relu()\",\"nn.Conv2d\",\"relu()\",\"max_pool2d()\",\"nn.Dropout\",\"flatten()\",\"nn.Linear\",\"relu()\",\"nn.Dropout\",\"nn.Linear\",\"log_softmax()\",\"output\"],[\"(16,1,28,28)\",\"(16,32,26,26)\",\"(16,32,26,26)\",\"(16,64,24,24)\",\"(16,64,24,24)\",\"(16,64,12,12)\",\"(16,64,12,12)\",\"(16,9216)\",\"(16,128)\",\"(16,128)\",\"(16,128)\",\"(16,10)\",\"(16,10)\",\"(16,10)\"],[\"0\",\"320\",\"0\",\"18 496\",\"0\",\"0\",\"0\",\"0\",\"1 179 776\",\"0\",\"0\",\"1 290\",\"0\",\"0\"],[\"0\",\"6 230 016\",\"0\",\"339 738 624\",\"0\",\"0\",\"147 456\",\"0\",\"37 748 736\",\"0\",\"2 048\",\"40 960\",\"0\",\"0\"]]},\"header\":{\"align\":\"left\",\"font\":{\"size\":10},\"values\":[\"Name\",\"Operation\",\"Activations\",\"Params [1 199 882]\",\"FLOPS [383 907 840]\"]},\"type\":\"table\",\"domain\":{\"x\":[0.24516129032258066,1.0],\"y\":[0.0,1.0]}}],                        {\"template\":{\"data\":{\"histogram2dcontour\":[{\"type\":\"histogram2dcontour\",\"colorbar\":{\"outlinewidth\":0,\"ticks\":\"\"},\"colorscale\":[[0.0,\"#0d0887\"],[0.1111111111111111,\"#46039f\"],[0.2222222222222222,\"#7201a8\"],[0.3333333333333333,\"#9c179e\"],[0.4444444444444444,\"#bd3786\"],[0.5555555555555556,\"#d8576b\"],[0.6666666666666666,\"#ed7953\"],[0.7777777777777778,\"#fb9f3a\"],[0.8888888888888888,\"#fdca26\"],[1.0,\"#f0f921\"]]}],\"choropleth\":[{\"type\":\"choropleth\",\"colorbar\":{\"outlinewidth\":0,\"ticks\":\"\"}}],\"histogram2d\":[{\"type\":\"histogram2d\",\"colorbar\":{\"outlinewidth\":0,\"ticks\":\"\"},\"colorscale\":[[0.0,\"#0d0887\"],[0.1111111111111111,\"#46039f\"],[0.2222222222222222,\"#7201a8\"],[0.3333333333333333,\"#9c179e\"],[0.4444444444444444,\"#bd3786\"],[0.5555555555555556,\"#d8576b\"],[0.6666666666666666,\"#ed7953\"],[0.7777777777777778,\"#fb9f3a\"],[0.8888888888888888,\"#fdca26\"],[1.0,\"#f0f921\"]]}],\"heatmap\":[{\"type\":\"heatmap\",\"colorbar\":{\"outlinewidth\":0,\"ticks\":\"\"},\"colorscale\":[[0.0,\"#0d0887\"],[0.1111111111111111,\"#46039f\"],[0.2222222222222222,\"#7201a8\"],[0.3333333333333333,\"#9c179e\"],[0.4444444444444444,\"#bd3786\"],[0.5555555555555556,\"#d8576b\"],[0.6666666666666666,\"#ed7953\"],[0.7777777777777778,\"#fb9f3a\"],[0.8888888888888888,\"#fdca26\"],[1.0,\"#f0f921\"]]}],\"heatmapgl\":[{\"type\":\"heatmapgl\",\"colorbar\":{\"outlinewidth\":0,\"ticks\":\"\"},\"colorscale\":[[0.0,\"#0d0887\"],[0.1111111111111111,\"#46039f\"],[0.2222222222222222,\"#7201a8\"],[0.3333333333333333,\"#9c179e\"],[0.4444444444444444,\"#bd3786\"],[0.5555555555555556,\"#d8576b\"],[0.6666666666666666,\"#ed7953\"],[0.7777777777777778,\"#fb9f3a\"],[0.8888888888888888,\"#fdca26\"],[1.0,\"#f0f921\"]]}],\"contourcarpet\":[{\"type\":\"contourcarpet\",\"colorbar\":{\"outlinewidth\":0,\"ticks\":\"\"}}],\"contour\":[{\"type\":\"contour\",\"colorbar\":{\"outlinewidth\":0,\"ticks\":\"\"},\"colorscale\":[[0.0,\"#0d0887\"],[0.1111111111111111,\"#46039f\"],[0.2222222222222222,\"#7201a8\"],[0.3333333333333333,\"#9c179e\"],[0.4444444444444444,\"#bd3786\"],[0.5555555555555556,\"#d8576b\"],[0.6666666666666666,\"#ed7953\"],[0.7777777777777778,\"#fb9f3a\"],[0.8888888888888888,\"#fdca26\"],[1.0,\"#f0f921\"]]}],\"surface\":[{\"type\":\"surface\",\"colorbar\":{\"outlinewidth\":0,\"ticks\":\"\"},\"colorscale\":[[0.0,\"#0d0887\"],[0.1111111111111111,\"#46039f\"],[0.2222222222222222,\"#7201a8\"],[0.3333333333333333,\"#9c179e\"],[0.4444444444444444,\"#bd3786\"],[0.5555555555555556,\"#d8576b\"],[0.6666666666666666,\"#ed7953\"],[0.7777777777777778,\"#fb9f3a\"],[0.8888888888888888,\"#fdca26\"],[1.0,\"#f0f921\"]]}],\"mesh3d\":[{\"type\":\"mesh3d\",\"colorbar\":{\"outlinewidth\":0,\"ticks\":\"\"}}],\"scatter\":[{\"fillpattern\":{\"fillmode\":\"overlay\",\"size\":10,\"solidity\":0.2},\"type\":\"scatter\"}],\"parcoords\":[{\"type\":\"parcoords\",\"line\":{\"colorbar\":{\"outlinewidth\":0,\"ticks\":\"\"}}}],\"scatterpolargl\":[{\"type\":\"scatterpolargl\",\"marker\":{\"colorbar\":{\"outlinewidth\":0,\"ticks\":\"\"}}}],\"bar\":[{\"error_x\":{\"color\":\"#2a3f5f\"},\"error_y\":{\"color\":\"#2a3f5f\"},\"marker\":{\"line\":{\"color\":\"#E5ECF6\",\"width\":0.5},\"pattern\":{\"fillmode\":\"overlay\",\"size\":10,\"solidity\":0.2}},\"type\":\"bar\"}],\"scattergeo\":[{\"type\":\"scattergeo\",\"marker\":{\"colorbar\":{\"outlinewidth\":0,\"ticks\":\"\"}}}],\"scatterpolar\":[{\"type\":\"scatterpolar\",\"marker\":{\"colorbar\":{\"outlinewidth\":0,\"ticks\":\"\"}}}],\"histogram\":[{\"marker\":{\"pattern\":{\"fillmode\":\"overlay\",\"size\":10,\"solidity\":0.2}},\"type\":\"histogram\"}],\"scattergl\":[{\"type\":\"scattergl\",\"marker\":{\"colorbar\":{\"outlinewidth\":0,\"ticks\":\"\"}}}],\"scatter3d\":[{\"type\":\"scatter3d\",\"line\":{\"colorbar\":{\"outlinewidth\":0,\"ticks\":\"\"}},\"marker\":{\"colorbar\":{\"outlinewidth\":0,\"ticks\":\"\"}}}],\"scattermapbox\":[{\"type\":\"scattermapbox\",\"marker\":{\"colorbar\":{\"outlinewidth\":0,\"ticks\":\"\"}}}],\"scatterternary\":[{\"type\":\"scatterternary\",\"marker\":{\"colorbar\":{\"outlinewidth\":0,\"ticks\":\"\"}}}],\"scattercarpet\":[{\"type\":\"scattercarpet\",\"marker\":{\"colorbar\":{\"outlinewidth\":0,\"ticks\":\"\"}}}],\"carpet\":[{\"aaxis\":{\"endlinecolor\":\"#2a3f5f\",\"gridcolor\":\"white\",\"linecolor\":\"white\",\"minorgridcolor\":\"white\",\"startlinecolor\":\"#2a3f5f\"},\"baxis\":{\"endlinecolor\":\"#2a3f5f\",\"gridcolor\":\"white\",\"linecolor\":\"white\",\"minorgridcolor\":\"white\",\"startlinecolor\":\"#2a3f5f\"},\"type\":\"carpet\"}],\"table\":[{\"cells\":{\"fill\":{\"color\":\"#EBF0F8\"},\"line\":{\"color\":\"white\"}},\"header\":{\"fill\":{\"color\":\"#C8D4E3\"},\"line\":{\"color\":\"white\"}},\"type\":\"table\"}],\"barpolar\":[{\"marker\":{\"line\":{\"color\":\"#E5ECF6\",\"width\":0.5},\"pattern\":{\"fillmode\":\"overlay\",\"size\":10,\"solidity\":0.2}},\"type\":\"barpolar\"}],\"pie\":[{\"automargin\":true,\"type\":\"pie\"}]},\"layout\":{\"autotypenumbers\":\"strict\",\"colorway\":[\"#636efa\",\"#EF553B\",\"#00cc96\",\"#ab63fa\",\"#FFA15A\",\"#19d3f3\",\"#FF6692\",\"#B6E880\",\"#FF97FF\",\"#FECB52\"],\"font\":{\"color\":\"#2a3f5f\"},\"hovermode\":\"closest\",\"hoverlabel\":{\"align\":\"left\"},\"paper_bgcolor\":\"white\",\"plot_bgcolor\":\"#E5ECF6\",\"polar\":{\"bgcolor\":\"#E5ECF6\",\"angularaxis\":{\"gridcolor\":\"white\",\"linecolor\":\"white\",\"ticks\":\"\"},\"radialaxis\":{\"gridcolor\":\"white\",\"linecolor\":\"white\",\"ticks\":\"\"}},\"ternary\":{\"bgcolor\":\"#E5ECF6\",\"aaxis\":{\"gridcolor\":\"white\",\"linecolor\":\"white\",\"ticks\":\"\"},\"baxis\":{\"gridcolor\":\"white\",\"linecolor\":\"white\",\"ticks\":\"\"},\"caxis\":{\"gridcolor\":\"white\",\"linecolor\":\"white\",\"ticks\":\"\"}},\"coloraxis\":{\"colorbar\":{\"outlinewidth\":0,\"ticks\":\"\"}},\"colorscale\":{\"sequential\":[[0.0,\"#0d0887\"],[0.1111111111111111,\"#46039f\"],[0.2222222222222222,\"#7201a8\"],[0.3333333333333333,\"#9c179e\"],[0.4444444444444444,\"#bd3786\"],[0.5555555555555556,\"#d8576b\"],[0.6666666666666666,\"#ed7953\"],[0.7777777777777778,\"#fb9f3a\"],[0.8888888888888888,\"#fdca26\"],[1.0,\"#f0f921\"]],\"sequentialminus\":[[0.0,\"#0d0887\"],[0.1111111111111111,\"#46039f\"],[0.2222222222222222,\"#7201a8\"],[0.3333333333333333,\"#9c179e\"],[0.4444444444444444,\"#bd3786\"],[0.5555555555555556,\"#d8576b\"],[0.6666666666666666,\"#ed7953\"],[0.7777777777777778,\"#fb9f3a\"],[0.8888888888888888,\"#fdca26\"],[1.0,\"#f0f921\"]],\"diverging\":[[0,\"#8e0152\"],[0.1,\"#c51b7d\"],[0.2,\"#de77ae\"],[0.3,\"#f1b6da\"],[0.4,\"#fde0ef\"],[0.5,\"#f7f7f7\"],[0.6,\"#e6f5d0\"],[0.7,\"#b8e186\"],[0.8,\"#7fbc41\"],[0.9,\"#4d9221\"],[1,\"#276419\"]]},\"xaxis\":{\"gridcolor\":\"white\",\"linecolor\":\"white\",\"ticks\":\"\",\"title\":{\"standoff\":15},\"zerolinecolor\":\"white\",\"automargin\":true,\"zerolinewidth\":2},\"yaxis\":{\"gridcolor\":\"white\",\"linecolor\":\"white\",\"ticks\":\"\",\"title\":{\"standoff\":15},\"zerolinecolor\":\"white\",\"automargin\":true,\"zerolinewidth\":2},\"scene\":{\"xaxis\":{\"backgroundcolor\":\"#E5ECF6\",\"gridcolor\":\"white\",\"linecolor\":\"white\",\"showbackground\":true,\"ticks\":\"\",\"zerolinecolor\":\"white\",\"gridwidth\":2},\"yaxis\":{\"backgroundcolor\":\"#E5ECF6\",\"gridcolor\":\"white\",\"linecolor\":\"white\",\"showbackground\":true,\"ticks\":\"\",\"zerolinecolor\":\"white\",\"gridwidth\":2},\"zaxis\":{\"backgroundcolor\":\"#E5ECF6\",\"gridcolor\":\"white\",\"linecolor\":\"white\",\"showbackground\":true,\"ticks\":\"\",\"zerolinecolor\":\"white\",\"gridwidth\":2}},\"shapedefaults\":{\"line\":{\"color\":\"#2a3f5f\"}},\"annotationdefaults\":{\"arrowcolor\":\"#2a3f5f\",\"arrowhead\":0,\"arrowwidth\":1},\"geo\":{\"bgcolor\":\"white\",\"landcolor\":\"#E5ECF6\",\"subunitcolor\":\"white\",\"showland\":true,\"showlakes\":true,\"lakecolor\":\"white\"},\"title\":{\"x\":0.05},\"mapbox\":{\"style\":\"light\"}}},\"xaxis\":{\"anchor\":\"y\",\"domain\":[0.0,0.02795698924731183],\"showgrid\":false,\"zeroline\":false,\"tickmode\":\"array\",\"tickvals\":[],\"range\":[-0.5,0.5]},\"yaxis\":{\"anchor\":\"x\",\"domain\":[0.0,1.0],\"showgrid\":false,\"zeroline\":false,\"tickmode\":\"array\",\"tickvals\":[],\"range\":[5.5,-0.5]},\"xaxis2\":{\"anchor\":\"y2\",\"domain\":[0.09462365591397849,0.17849462365591398],\"showgrid\":false,\"zeroline\":false,\"tickmode\":\"array\",\"tickvals\":[],\"range\":[-0.25,0.25]},\"yaxis2\":{\"anchor\":\"x2\",\"domain\":[0.0,1.0],\"showgrid\":false,\"zeroline\":false,\"tickmode\":\"array\",\"tickvals\":[],\"range\":[1.75,-0.25]},\"shapes\":[{\"line\":{\"color\":\"#000000\"},\"type\":\"rect\",\"x0\":-0.25,\"x1\":0.25,\"xref\":\"x\",\"y0\":-0.25,\"y1\":1.75,\"yref\":\"y\"}],\"updatemenus\":[{\"buttons\":[{\"args\":[{\"marker\":[{},{},{\"size\":[6.0,6.0,6.0,11.928009913453302,6.0,6.0,6.0,6.0,18.0,6.0,6.0,8.037003250024952,6.0,6.0],\"color\":[\"#222A2A\",\"#00A08B\",\"#1616A7\",\"#00A08B\",\"#1616A7\",\"#DA60CA\",\"#1CA71C\",\"#778AAE\",\"#2E91E5\",\"#1616A7\",\"#1CA71C\",\"#2E91E5\",\"#1616A7\",\"#222A2A\"],\"colorscale\":\"Bluered\"},{\"size\":[4.0,4.0,4.0,6.964004956726651,4.0,4.0,4.0,4.0,10.0,4.0,4.0,5.018501625012476,4.0,4.0],\"color\":[\"#222A2A\",\"#00A08B\",\"#1616A7\",\"#00A08B\",\"#1616A7\",\"#DA60CA\",\"#1CA71C\",\"#778AAE\",\"#2E91E5\",\"#1616A7\",\"#1CA71C\",\"#2E91E5\",\"#1616A7\",\"#222A2A\"],\"colorscale\":\"Bluered\"},{}]}],\"label\":\"Size by params, color by operation\",\"method\":\"restyle\"},{\"args\":[{\"marker\":[{},{},{\"size\":[6.0,6.0,6.0,8.197199409664446,6.0,6.0,6.0,6.0,12.346132083395247,6.0,6.0,6.0,6.0,6.0],\"color\":[\"#222A2A\",\"#00A08B\",\"#1616A7\",\"#00A08B\",\"#1616A7\",\"#DA60CA\",\"#1CA71C\",\"#778AAE\",\"#2E91E5\",\"#1616A7\",\"#1CA71C\",\"#2E91E5\",\"#1616A7\",\"#222A2A\"],\"colorscale\":\"Bluered\"},{\"size\":[4.0,4.0,4.0,5.098599704832223,4.0,4.0,4.0,4.0,7.1730660416976235,4.0,4.0,4.0,4.0,4.0],\"color\":[\"#222A2A\",\"#00A08B\",\"#1616A7\",\"#00A08B\",\"#1616A7\",\"#DA60CA\",\"#1CA71C\",\"#778AAE\",\"#2E91E5\",\"#1616A7\",\"#1CA71C\",\"#2E91E5\",\"#1616A7\",\"#222A2A\"],\"colorscale\":\"Bluered\"},{}]}],\"label\":\"Size by FLOPS, color by operation\",\"method\":\"restyle\"},{\"args\":[{\"marker\":[{},{},{\"size\":[6.0,6.0,6.0,11.928009913453302,6.0,6.0,6.0,6.0,18.0,6.0,6.0,8.037003250024952,6.0,6.0],\"color\":[0.0,0.6672955323027362,0.0,1.0,0.0,0.0,0.355823435636173,0.0,0.8171884416004193,0.0,0.0,0.2492482976593439,0.0,0.0],\"colorscale\":\"Bluered\"},{\"size\":[4.0,4.0,4.0,6.964004956726651,4.0,4.0,4.0,4.0,10.0,4.0,4.0,5.018501625012476,4.0,4.0],\"color\":[0.0,0.6672955323027362,0.0,1.0,0.0,0.0,0.355823435636173,0.0,0.8171884416004193,0.0,0.0,0.2492482976593439,0.0,0.0],\"colorscale\":\"Bluered\"},{}]}],\"label\":\"Size by params, color by FLOPS\",\"method\":\"restyle\"},{\"args\":[{\"marker\":[{},{},{\"size\":[6.0,6.0,6.0,8.197199409664446,6.0,6.0,6.0,6.0,12.346132083395247,6.0,6.0,6.0,6.0,6.0],\"color\":[0.0,1.0,0.0,1.0,0.0,0.0,0.7467827751382162,0.0,1.0,0.0,0.22603285132684345,0.5908093641053138,0.0,0.0],\"colorscale\":\"Bluered\"},{\"size\":[4.0,4.0,4.0,5.098599704832223,4.0,4.0,4.0,4.0,7.1730660416976235,4.0,4.0,4.0,4.0,4.0],\"color\":[0.0,1.0,0.0,1.0,0.0,0.0,0.7467827751382162,0.0,1.0,0.0,0.22603285132684345,0.5908093641053138,0.0,0.0],\"colorscale\":\"Bluered\"},{}]}],\"label\":\"Size by FLOPS, color by params\",\"method\":\"restyle\"}],\"direction\":\"up\",\"pad\":{\"b\":0,\"l\":0,\"r\":0,\"t\":8},\"showactive\":true,\"x\":0,\"xanchor\":\"left\",\"y\":0,\"yanchor\":\"top\"}],\"sliders\":[{\"active\":0,\"currentvalue\":{\"visible\":false},\"pad\":{\"b\":0,\"l\":0,\"r\":0,\"t\":48},\"steps\":[{\"args\":[{\"shapes\":[{\"type\":\"rect\",\"xref\":\"x\",\"yref\":\"y\",\"line\":{\"color\":\"#000000\"},\"x0\":-0.25,\"y0\":-0.25,\"x1\":0.25,\"y1\":1.75}],\"yaxis2\":{\"range\":[1.75,-0.25],\"showgrid\":false,\"zeroline\":false,\"tickmode\":\"array\",\"tickvals\":[]}}],\"label\":\"\",\"method\":\"relayout\"},{\"args\":[{\"shapes\":[{\"type\":\"rect\",\"xref\":\"x\",\"yref\":\"y\",\"line\":{\"color\":\"#000000\"},\"x0\":-0.25,\"y0\":0.1875,\"x1\":0.25,\"y1\":2.1875}],\"yaxis2\":{\"range\":[2.1875,0.1875],\"showgrid\":false,\"zeroline\":false,\"tickmode\":\"array\",\"tickvals\":[]}}],\"label\":\"\",\"method\":\"relayout\"},{\"args\":[{\"shapes\":[{\"type\":\"rect\",\"xref\":\"x\",\"yref\":\"y\",\"line\":{\"color\":\"#000000\"},\"x0\":-0.25,\"y0\":0.625,\"x1\":0.25,\"y1\":2.625}],\"yaxis2\":{\"range\":[2.625,0.625],\"showgrid\":false,\"zeroline\":false,\"tickmode\":\"array\",\"tickvals\":[]}}],\"label\":\"\",\"method\":\"relayout\"},{\"args\":[{\"shapes\":[{\"type\":\"rect\",\"xref\":\"x\",\"yref\":\"y\",\"line\":{\"color\":\"#000000\"},\"x0\":-0.25,\"y0\":1.0625,\"x1\":0.25,\"y1\":3.0625}],\"yaxis2\":{\"range\":[3.0625,1.0625],\"showgrid\":false,\"zeroline\":false,\"tickmode\":\"array\",\"tickvals\":[]}}],\"label\":\"\",\"method\":\"relayout\"},{\"args\":[{\"shapes\":[{\"type\":\"rect\",\"xref\":\"x\",\"yref\":\"y\",\"line\":{\"color\":\"#000000\"},\"x0\":-0.25,\"y0\":1.5,\"x1\":0.25,\"y1\":3.5}],\"yaxis2\":{\"range\":[3.5,1.5],\"showgrid\":false,\"zeroline\":false,\"tickmode\":\"array\",\"tickvals\":[]}}],\"label\":\"\",\"method\":\"relayout\"},{\"args\":[{\"shapes\":[{\"type\":\"rect\",\"xref\":\"x\",\"yref\":\"y\",\"line\":{\"color\":\"#000000\"},\"x0\":-0.25,\"y0\":1.9375,\"x1\":0.25,\"y1\":3.9375}],\"yaxis2\":{\"range\":[3.9375,1.9375],\"showgrid\":false,\"zeroline\":false,\"tickmode\":\"array\",\"tickvals\":[]}}],\"label\":\"\",\"method\":\"relayout\"},{\"args\":[{\"shapes\":[{\"type\":\"rect\",\"xref\":\"x\",\"yref\":\"y\",\"line\":{\"color\":\"#000000\"},\"x0\":-0.25,\"y0\":2.375,\"x1\":0.25,\"y1\":4.375}],\"yaxis2\":{\"range\":[4.375,2.375],\"showgrid\":false,\"zeroline\":false,\"tickmode\":\"array\",\"tickvals\":[]}}],\"label\":\"\",\"method\":\"relayout\"},{\"args\":[{\"shapes\":[{\"type\":\"rect\",\"xref\":\"x\",\"yref\":\"y\",\"line\":{\"color\":\"#000000\"},\"x0\":-0.25,\"y0\":2.8125,\"x1\":0.25,\"y1\":4.8125}],\"yaxis2\":{\"range\":[4.8125,2.8125],\"showgrid\":false,\"zeroline\":false,\"tickmode\":\"array\",\"tickvals\":[]}}],\"label\":\"\",\"method\":\"relayout\"},{\"args\":[{\"shapes\":[{\"type\":\"rect\",\"xref\":\"x\",\"yref\":\"y\",\"line\":{\"color\":\"#000000\"},\"x0\":-0.25,\"y0\":3.25,\"x1\":0.25,\"y1\":5.25}],\"yaxis2\":{\"range\":[5.25,3.25],\"showgrid\":false,\"zeroline\":false,\"tickmode\":\"array\",\"tickvals\":[]}}],\"label\":\"\",\"method\":\"relayout\"}],\"ticklen\":0,\"tickwidth\":0,\"x\":0,\"xanchor\":\"left\",\"y\":0,\"yanchor\":\"top\"}],\"margin\":{\"l\":0,\"r\":0,\"t\":0,\"b\":0},\"modebar\":{\"remove\":[\"select\",\"lasso\"],\"orientation\":\"v\"}},                        {\"responsive\": true}                    ).then(function(){\n",
       "                            \n",
       "var gd = document.getElementById('9f3e22fe-d7a0-4a13-97fa-896c4a56cd78');\n",
       "var x = new MutationObserver(function (mutations, observer) {{\n",
       "        var display = window.getComputedStyle(gd).display;\n",
       "        if (!display || display === 'none') {{\n",
       "            console.log([gd, 'removed!']);\n",
       "            Plotly.purge(gd);\n",
       "            observer.disconnect();\n",
       "        }}\n",
       "}});\n",
       "\n",
       "// Listen for the removal of the full notebook cells\n",
       "var notebookContainer = gd.closest('#notebook-container');\n",
       "if (notebookContainer) {{\n",
       "    x.observe(notebookContainer, {childList: true});\n",
       "}}\n",
       "\n",
       "// Listen for the clearing of the current output cell\n",
       "var outputEl = gd.closest('.output');\n",
       "if (outputEl) {{\n",
       "    x.observe(outputEl, {childList: true});\n",
       "}}\n",
       "\n",
       "                        })                };                });            </script>        </div>"
      ]
     },
     "metadata": {},
     "output_type": "display_data"
    }
   ],
   "source": [
    "mav.show_figure(add_table=True, add_slider=True, add_overview=True, num_levels_displayed=2)"
   ]
  },
  {
   "cell_type": "code",
   "execution_count": null,
   "metadata": {},
   "outputs": [],
   "source": []
  }
 ],
 "metadata": {
  "kernelspec": {
   "display_name": ".venv",
   "language": "python",
   "name": "python3"
  },
  "language_info": {
   "codemirror_mode": {
    "name": "ipython",
    "version": 3
   },
   "file_extension": ".py",
   "mimetype": "text/x-python",
   "name": "python",
   "nbconvert_exporter": "python",
   "pygments_lexer": "ipython3",
   "version": "3.10.12"
  }
 },
 "nbformat": 4,
 "nbformat_minor": 2
}
