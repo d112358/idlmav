{
 "cells": [
  {
   "cell_type": "markdown",
   "metadata": {},
   "source": [
    "## Introduction\n",
    "In this notebook, the algorithm used to position modules in a deep learning model architecture is experimented with"
   ]
  },
  {
   "cell_type": "markdown",
   "metadata": {},
   "source": [
    "## Imports"
   ]
  },
  {
   "cell_type": "code",
   "execution_count": 92,
   "metadata": {},
   "outputs": [],
   "source": [
    "from typing import List, Tuple, Set, Type\n",
    "import torch\n",
    "from torch import nn, tensor\n",
    "import matplotlib.pyplot as plt\n",
    "from matplotlib import patches, lines\n",
    "from collections import deque\n",
    "from munkres import Munkres\n",
    "import random\n",
    "import itertools\n",
    "import numpy as np"
   ]
  },
  {
   "cell_type": "markdown",
   "metadata": {},
   "source": [
    "## Type definitions\n",
    "* Two ways in which this can be written shorter\n",
    "  - Using `fc.store_attr()` from `fastcore` to store passed attributes in `__init__`\n",
    "  - Skipping explicit typing\n",
    "* This is a tradeoff and in this case, writing this in the slightly longer way saved considerable development time by making VSCode's intellisense work better"
   ]
  },
  {
   "cell_type": "code",
   "execution_count": 93,
   "metadata": {},
   "outputs": [],
   "source": [
    "class MavNode:\n",
    "    def __init__(self, name, y, x):\n",
    "        self.name, self.y, self.x = name, y, x\n",
    "        self._idx = None  # Index within graph\n",
    "        self._in_nodes:List[MavNode] = []\n",
    "        self._out_nodes:List[MavNode] = []\n",
    "    def __repr__(self):\n",
    "        return f'MavNode: name={self.name}; (x,y)=({self.x},{self.y}); in={[n.name for n in self._in_nodes]}, out={[n.name for n in self._out_nodes]}'\n",
    "\n",
    "class MavConnection:\n",
    "    def __init__(self, from_node:MavNode, to_node:MavNode):\n",
    "        self.from_node, self.to_node = from_node, to_node\n",
    "\n",
    "class MavGraph:\n",
    "    def __init__(self, nodes:List[MavNode], connections:List[MavConnection]):\n",
    "        self.nodes = nodes\n",
    "        self.connections = connections\n",
    "        self.nw = 0.5  # Node width\n",
    "        self.nh = 0.5  # Node height\n",
    "        self._assign_in_out_nodes()\n",
    "\n",
    "    def __repr__(self):\n",
    "        lines = []\n",
    "        lines.append(f'Inputs: {[n.name for n in self.in_nodes]}')\n",
    "        lines.append(f'Outputs: {[n.name for n in self.out_nodes]}')\n",
    "        lines.append('All nodes:')\n",
    "        lines += [f'    {n.__repr__()}' for n in self.nodes]\n",
    "        return '\\n'.join(lines)\n",
    "\n",
    "    def _assign_in_out_nodes(self):\n",
    "        for i,n in enumerate(self.nodes): n._idx = i\n",
    "\n",
    "        for c in self.connections:\n",
    "            if not c.to_node in c.from_node._out_nodes:\n",
    "                c.from_node._out_nodes.append(c.to_node)\n",
    "            if not c.from_node in c.to_node._in_nodes:\n",
    "                c.to_node._in_nodes.append(c.from_node)\n",
    "        \n",
    "        # Graph input and output nodes\n",
    "        self.in_nodes = [node for node in self.nodes if not node._in_nodes]\n",
    "        self.out_nodes = [node for node in self.nodes if not node._out_nodes]"
   ]
  },
  {
   "cell_type": "markdown",
   "metadata": {},
   "source": [
    "## Graph generation functions"
   ]
  },
  {
   "cell_type": "code",
   "execution_count": 94,
   "metadata": {},
   "outputs": [],
   "source": [
    "def create_sample_graph():\n",
    "    nodes = [\n",
    "        MavNode(\"0\", 0, 0),\n",
    "        MavNode(\"1\", 1, 0),\n",
    "        MavNode(\"2\", 1, 1),\n",
    "        MavNode(\"3\", 2, -1),\n",
    "        MavNode(\"4\", 2, 0),\n",
    "        MavNode(\"5\", 2, 1),\n",
    "        MavNode(\"6\", 2, 2),\n",
    "    ]\n",
    "    connections = [\n",
    "        MavConnection(nodes[0], nodes[1]),\n",
    "        MavConnection(nodes[0], nodes[2]),\n",
    "        MavConnection(nodes[1], nodes[3]),\n",
    "        MavConnection(nodes[1], nodes[4]),\n",
    "        MavConnection(nodes[2], nodes[5]),\n",
    "        MavConnection(nodes[2], nodes[6]),\n",
    "    ]\n",
    "    return MavGraph(nodes=nodes, connections=connections)"
   ]
  },
  {
   "cell_type": "code",
   "execution_count": 95,
   "metadata": {},
   "outputs": [],
   "source": [
    "def create_random_sample_graph(num_nodes, num_connections):\n",
    "    nodes = [MavNode(str(ni), 0, 0) for ni in range(num_nodes)]\n",
    "    connection_tuples: List[Tuple[int]] = []\n",
    "    connections: List[MavConnection] = []\n",
    "    num_attempts = 0\n",
    "    while len(connections) < num_connections and num_attempts < num_connections*10:\n",
    "        n1 = random.randint(0, num_nodes-1)\n",
    "        n2 = random.randint(0, num_nodes-1)\n",
    "        if n1>n2: n_temp = n1; n1 = n2; n2 = n_temp\n",
    "        reject = n1==n2 or (n1,n2) in connection_tuples\n",
    "        if not reject:\n",
    "            connection_tuples.append((n1,n2))\n",
    "            connections.append(MavConnection(nodes[n1], nodes[n2]))\n",
    "        num_attempts += 1\n",
    "    return MavGraph(nodes=nodes, connections=connections)"
   ]
  },
  {
   "cell_type": "markdown",
   "metadata": {},
   "source": [
    "## Simple viewer"
   ]
  },
  {
   "cell_type": "code",
   "execution_count": 96,
   "metadata": {},
   "outputs": [],
   "source": [
    "def draw_graph(g:MavGraph):\n",
    "    fig, ax = plt.subplots()\n",
    "    x_lim, y_lim = (0,0), (0,0)\n",
    "    for n in g.nodes:\n",
    "        rect = patches.Rectangle((n.x - g.nw/2, n.y - g.nh/2), g.nw, g.nh, \n",
    "                                linewidth=1, edgecolor=[0,0,0], facecolor='none')\n",
    "        ax.add_patch(rect)\n",
    "        x_lim = (min((x_lim[0], n.x-1)), max((x_lim[1], n.x+1)))\n",
    "        y_lim = (min((y_lim[0], n.y-1)), max((y_lim[1], n.y+1)))\n",
    "        ax.text(n.x, n.y, n.name, horizontalalignment='center', verticalalignment='center')\n",
    "    for c in g.connections:\n",
    "        xdata=[c.from_node.x, c.to_node.x]\n",
    "        ydata=[c.from_node.y + g.nh/2, c.to_node.y - g.nh/2]\n",
    "        line = lines.Line2D(xdata=xdata, ydata=ydata, linewidth=1, color=[0,0,0])\n",
    "        ax.add_line(line)\n",
    "    ax.set_xlim(left=x_lim[0], right=x_lim[1])\n",
    "    ax.set_ylim(bottom=y_lim[1], top=y_lim[0])\n",
    "    ax.set_yticks([])\n",
    "    ax.set_xticks([])"
   ]
  },
  {
   "cell_type": "code",
   "execution_count": 97,
   "metadata": {},
   "outputs": [
    {
     "data": {
      "image/png": "[encoded data removed]",
      "text/plain": [
       "<Figure size 640x480 with 1 Axes>"
      ]
     },
     "metadata": {},
     "output_type": "display_data"
    }
   ],
   "source": [
    "g1 = create_sample_graph()\n",
    "draw_graph(g1)"
   ]
  },
  {
   "cell_type": "code",
   "execution_count": 98,
   "metadata": {},
   "outputs": [
    {
     "data": {
      "text/plain": [
       "Inputs: ['0']\n",
       "Outputs: ['3', '4', '5', '6']\n",
       "All nodes:\n",
       "    MavNode: name=0; (x,y)=(0,0); in=[], out=['1', '2']\n",
       "    MavNode: name=1; (x,y)=(0,1); in=['0'], out=['3', '4']\n",
       "    MavNode: name=2; (x,y)=(1,1); in=['0'], out=['5', '6']\n",
       "    MavNode: name=3; (x,y)=(-1,2); in=['1'], out=[]\n",
       "    MavNode: name=4; (x,y)=(0,2); in=['1'], out=[]\n",
       "    MavNode: name=5; (x,y)=(1,2); in=['2'], out=[]\n",
       "    MavNode: name=6; (x,y)=(2,2); in=['2'], out=[]"
      ]
     },
     "execution_count": 98,
     "metadata": {},
     "output_type": "execute_result"
    }
   ],
   "source": [
    "g1"
   ]
  },
  {
   "cell_type": "markdown",
   "metadata": {},
   "source": [
    "## Layout algorithm\n",
    "Given node names and connections, calculate the best `x` and `y` for each node"
   ]
  },
  {
   "cell_type": "markdown",
   "metadata": {},
   "source": [
    "## Level assignment (y-values)\n",
    "* Specification\n",
    "  - Final levels are numbered from `0` (input nodes) to `num_levels` (output nodes)\n",
    "  - A node is placed on level `L` if the lowest level of all its direct outputs is `L+1`\n",
    "* Implemented as breadth-first search starting with output nodes\n",
    "  - Because the number of levels is not known beforehand, the first pass assigns negative level numbers and counts the number of levels. A second pass offsets all level numbers by the same amount to have the input nodes at level `0` \n",
    "  - Start by assigning output nodes as level 0 and nodes that input to another node one level higher\n",
    "    - After this pass, all but the output nodes will have negative level numbers\n",
    "  - When done, subtract the minimum level number from that of all nodes\n",
    "    - After this pass, the input nodes will have level 0 and all others will have positive numbers "
   ]
  },
  {
   "cell_type": "code",
   "execution_count": 99,
   "metadata": {},
   "outputs": [
    {
     "data": {
      "text/plain": [
       "Inputs: ['0']\n",
       "Outputs: ['3', '4', '5', '6']\n",
       "All nodes:\n",
       "    MavNode: name=0; (x,y)=(0,0); in=[], out=['1', '2']\n",
       "    MavNode: name=1; (x,y)=(0,1); in=['0'], out=['3', '4']\n",
       "    MavNode: name=2; (x,y)=(1,1); in=['0'], out=['5', '6']\n",
       "    MavNode: name=3; (x,y)=(-1,2); in=['1'], out=[]\n",
       "    MavNode: name=4; (x,y)=(0,2); in=['1'], out=[]\n",
       "    MavNode: name=5; (x,y)=(1,2); in=['2'], out=[]\n",
       "    MavNode: name=6; (x,y)=(2,2); in=['2'], out=[]"
      ]
     },
     "execution_count": 99,
     "metadata": {},
     "output_type": "execute_result"
    }
   ],
   "source": [
    "g1"
   ]
  },
  {
   "cell_type": "code",
   "execution_count": 100,
   "metadata": {},
   "outputs": [],
   "source": [
    "def calc_levels(g:MavGraph, verbose=False):\n",
    "    \n",
    "    # Breadth-first search\n",
    "    queue = deque(g.out_nodes)  # Initialize to contain all output nodes\n",
    "    visited = set(g.out_nodes)\n",
    "    min_level_number = 0\n",
    "    while queue:\n",
    "        if verbose: print([n.name for n in queue])\n",
    "        cur_node = queue.popleft()\n",
    "        if cur_node._out_nodes:\n",
    "            # Set level to just before than earliest output node\n",
    "            cur_node.y = min([n.y-1 for n in cur_node._out_nodes])\n",
    "        else:\n",
    "            # Node is an output node. Set level to 0\n",
    "            cur_node.y = 0\n",
    "\n",
    "        if cur_node.y < min_level_number: min_level_number = cur_node.y\n",
    "\n",
    "        # Queue all input nodes of current node that have all their outputs visited\n",
    "        for in_node in cur_node._in_nodes:\n",
    "            if in_node in visited: continue\n",
    "            if not all([o in visited for o in in_node._out_nodes]): continue\n",
    "            queue.append(in_node)\n",
    "            visited.add(in_node)\n",
    "\n",
    "    # Adjust to have inputs at level 0\n",
    "    # * Other nodes move up by the same amount\n",
    "    # * Also populate the return object: A list of lists of nodes indices at each level\n",
    "    num_levels = 1 - min_level_number\n",
    "    nodes_on_each_level = [[] for i in range(num_levels)]\n",
    "    for i,n in enumerate(g.nodes):\n",
    "        if n in g.in_nodes:\n",
    "            n.y = 0\n",
    "        else:\n",
    "            n.y = n.y - min_level_number\n",
    "        nodes_on_each_level[n.y].append(i)\n",
    "\n",
    "    return nodes_on_each_level"
   ]
  },
  {
   "cell_type": "code",
   "execution_count": 101,
   "metadata": {},
   "outputs": [
    {
     "name": "stdout",
     "output_type": "stream",
     "text": [
      "['3', '4', '5', '6']\n",
      "['4', '5', '6', '1']\n",
      "['5', '6', '1']\n",
      "['6', '1', '2']\n",
      "['1', '2']\n",
      "['2', '0']\n",
      "['0']\n"
     ]
    },
    {
     "data": {
      "text/plain": [
       "[[0], [1, 2], [3, 4, 5, 6]]"
      ]
     },
     "execution_count": 101,
     "metadata": {},
     "output_type": "execute_result"
    }
   ],
   "source": [
    "calc_levels(g1, verbose=True)"
   ]
  },
  {
   "cell_type": "code",
   "execution_count": 102,
   "metadata": {},
   "outputs": [
    {
     "data": {
      "image/png": "[encoded data removed]",
      "text/plain": [
       "<Figure size 640x480 with 1 Axes>"
      ]
     },
     "metadata": {},
     "output_type": "display_data"
    }
   ],
   "source": [
    "draw_graph(g1)"
   ]
  },
  {
   "cell_type": "markdown",
   "metadata": {},
   "source": [
    "# Ordering within levels (x-values)\n",
    "\n"
   ]
  },
  {
   "cell_type": "markdown",
   "metadata": {},
   "source": [
    "### Initial design\n",
    "* The initial idea was to use a dynamic programming (DP) algorithm where one level of modules is added at a time\n",
    "* For each level, the lowest-cost path to `num_assgn` different assignments of modules to positions on that level would be stored\n",
    "  - This is a trade-off for the sake of speed, because the globally optimal layout may not use one of the `num_assgn` most optimal assignments on a particular level\n",
    "  - There is no need for an optimal layout: a near-optimal one would also aid the user in visualizing network structure \n",
    "* To obtain the `num_assgn` most optimal assignments on a particular level is a ranked assignment problem which is typically best solved by Murty's algorithm ([Original paper](https://www.jstor.org/stable/168595), [Fast implementation](https://ieeexplore.ieee.org/document/599256))\n",
    "  - Several implementations are available, e.g. [fbaeuerlein](https://github.com/fbaeuerlein/MurtyAlgorithm), [arg0naut91](https://github.com/arg0naut91/muRty), [lauziere](https://github.com/lauziere/Murty)\n",
    "* We planned on using a greedy algorithm instead of Murty's algorithm for several reasons:\n",
    "  - Execution speed (it is already an inner loop inside a DP algorithm)\n",
    "  - Limiting the number of dependencies\n",
    "  - The outer DP algorithm may produce better globally solutions if local candidate solutions are forced to vary more in structure\n",
    "  - There is no need for an optimal layout: a near-optimal one should also aid the user in visualizing network structure\n",
    "\n",
    "\n",
    "#### Errors in initial design\n",
    "* One cannot have a different set of assignments at level `L` for different sets at level `L-1`. This would break the assumptions of the DP algorithm\n",
    "* Another DP assumption was invalid. The minimum-cost path to a certain configuration on level `L` may not be the minimum-cost path to a configuration on level `L+1`, even if that configuration uses the same configuration at level `L`. Because of things like skip connections, more earlier levels must be taken into account when determining the next level.   "
   ]
  },
  {
   "cell_type": "markdown",
   "metadata": {},
   "source": [
    "### Hungarian algorithm-based approach\n",
    "This approach is by no means optimal in terms of global minimum cost, but it is expected to render a useful visualization for most models without consuming an unnecessary amount of time and resources. Here are the steps:\n",
    "\n",
    "* Identify two or more alternatives for the layout of the largest level:\n",
    "  - Starting at input level, determine the layout of every next level using the Hungarian algorithm, up to the largest level\n",
    "  - Starting at output level, determine the layout of every previous level using the Hungarian algorithm, up to the largest level\n",
    "  - In the case of multiple inputs / outputs, try every permutation, which would result in more alternatives\n",
    "* List all alternatives for the largest level obtained this way\n",
    "* For each alternative, start at the largest level and use the hungarian algorithm in both directions to determine the layout of the entire model\n",
    "* Choose the alternative with the smallest cost across the model"
   ]
  },
  {
   "cell_type": "code",
   "execution_count": 103,
   "metadata": {},
   "outputs": [
    {
     "data": {
      "text/plain": [
       "Inputs: ['0', '2', '3', '7']\n",
       "Outputs: ['8', '9']\n",
       "All nodes:\n",
       "    MavNode: name=0; (x,y)=(0,0); in=[], out=['1', '9', '4']\n",
       "    MavNode: name=1; (x,y)=(0,0); in=['0'], out=['5']\n",
       "    MavNode: name=2; (x,y)=(0,0); in=[], out=['4', '6']\n",
       "    MavNode: name=3; (x,y)=(0,0); in=[], out=['9']\n",
       "    MavNode: name=4; (x,y)=(0,0); in=['2', '0'], out=['9']\n",
       "    MavNode: name=5; (x,y)=(0,0); in=['1'], out=['8']\n",
       "    MavNode: name=6; (x,y)=(0,0); in=['2'], out=['8']\n",
       "    MavNode: name=7; (x,y)=(0,0); in=[], out=['8']\n",
       "    MavNode: name=8; (x,y)=(0,0); in=['6', '5', '7'], out=[]\n",
       "    MavNode: name=9; (x,y)=(0,0); in=['4', '3', '0'], out=[]"
      ]
     },
     "execution_count": 103,
     "metadata": {},
     "output_type": "execute_result"
    }
   ],
   "source": [
    "random.seed(2)\n",
    "g2 = create_random_sample_graph(10,11)\n",
    "g2"
   ]
  },
  {
   "cell_type": "code",
   "execution_count": 104,
   "metadata": {},
   "outputs": [
    {
     "data": {
      "image/png": "[encoded data removed]",
      "text/plain": [
       "<Figure size 640x480 with 1 Axes>"
      ]
     },
     "metadata": {},
     "output_type": "display_data"
    }
   ],
   "source": [
    "levels = calc_levels(g2)\n",
    "for i,n in enumerate(g2.nodes): n.x = i\n",
    "draw_graph(g2)"
   ]
  },
  {
   "cell_type": "markdown",
   "metadata": {},
   "source": [
    "#### Single pass from top to bottom\n",
    "* Perform the Hungarian assignment step for the first level and every subsequent level\n",
    "* For the first level, there won't be any connection cost, as these nodes don't have input nodes"
   ]
  },
  {
   "cell_type": "code",
   "execution_count": 105,
   "metadata": {},
   "outputs": [],
   "source": [
    "wc = 0.1  # Weight of cost associated with distance of node to the center\n",
    "wd = 1.0  # Weight of cost associated with difference in horizontal positions of 2 nodes\n",
    "verbose = False"
   ]
  },
  {
   "cell_type": "code",
   "execution_count": 106,
   "metadata": {},
   "outputs": [
    {
     "data": {
      "image/png": "[encoded data removed]",
      "text/plain": [
       "<Figure size 640x480 with 1 Axes>"
      ]
     },
     "metadata": {},
     "output_type": "display_data"
    }
   ],
   "source": [
    "level_lens = [len(level) for level in levels]\n",
    "largest_level_len = max(level_lens)\n",
    "candidate_xs = [i-(largest_level_len-1)//2 for i in range(largest_level_len)]\n",
    "xdata = [None] * len(g2.nodes)\n",
    "for cur_level in levels:\n",
    "    cur_level_len = len(cur_level)\n",
    "    cur_level_nodes = [g2.nodes[ni] for ni in cur_level]\n",
    "    cost_matrix = np.zeros((cur_level_len, largest_level_len))  # Cost of placing each cur_level node at each candidate x-coordinate\n",
    "    M = Munkres()\n",
    "    for ni,n in enumerate(cur_level_nodes):\n",
    "        for xi,x in enumerate(candidate_xs):\n",
    "            cc = abs(x)  # Cost of placing node away from the center\n",
    "            cd = 0       # Cost of placing node away from connected input node\n",
    "            for in_node in n._in_nodes:\n",
    "                cd += abs(x - xdata[in_node._idx])\n",
    "            cost_matrix[ni,xi] = wc*cc + wd*cd\n",
    "    best_path = M.compute(cost_matrix)\n",
    "    for ni, xi in best_path:\n",
    "        xdata[cur_level_nodes[ni]._idx] = candidate_xs[xi]\n",
    "    if verbose:\n",
    "        print(f'cost_matrix={cost_matrix}')\n",
    "        print(f'best_path={best_path}')\n",
    "        print(f'xs={xdata}')\n",
    "        print('')\n",
    "\n",
    "for ni,x in enumerate(xdata):\n",
    "    g2.nodes[ni].x = x\n",
    "draw_graph(g2)"
   ]
  },
  {
   "cell_type": "markdown",
   "metadata": {},
   "source": [
    "#### Multiple passes with various permutations for input level"
   ]
  },
  {
   "cell_type": "code",
   "execution_count": 107,
   "metadata": {},
   "outputs": [],
   "source": [
    "def best_layout_one_fixed_level(g:MavGraph, levels:List[List[int]], fixed_level, fixed_xs:List[int], wc=1, wd=10, verbose=False):\n",
    "    level_lens = [len(level) for level in levels]\n",
    "    largest_level_len = max(level_lens)\n",
    "    candidate_xs = [i-(largest_level_len-1)//2 for i in range(largest_level_len)]\n",
    "    xs = [None] * len(g.nodes)\n",
    "    total_cost = 0\n",
    "    M = Munkres()\n",
    "\n",
    "    # Fixed level\n",
    "    for xi, ni in enumerate(levels[fixed_level]): \n",
    "        xs[g.nodes[ni]._idx] = fixed_xs[xi]\n",
    "        total_cost += wc*abs(fixed_xs[xi])\n",
    "\n",
    "    # Levels before fixed level\n",
    "    if fixed_level > 0:\n",
    "        for cur_level in levels[fixed_level-1::-1]:\n",
    "            cur_level_len = len(cur_level)\n",
    "            cur_level_nodes = [g.nodes[ni] for ni in cur_level]\n",
    "            cost_matrix = np.zeros((cur_level_len, largest_level_len))  # Cost of placing each cur_level node at each candidate x-coordinate\n",
    "            for ni,n in enumerate(cur_level_nodes):\n",
    "                for xi,x in enumerate(candidate_xs):\n",
    "                    cc = abs(x)  # Cost of placing node away from the center\n",
    "                    cd = 0       # Cost of placing node away from connected output node\n",
    "                    for out_node in n._out_nodes:\n",
    "                        if xs[out_node._idx] is not None:\n",
    "                            cd += abs(x - xs[out_node._idx])\n",
    "                        else:\n",
    "                            pass  # Skip connection between levels before and after fixed_level. Will be counted in other direction.\n",
    "                    cost_matrix[ni,xi] = wc*cc + wd*cd\n",
    "            best_path = M.compute(cost_matrix.copy())\n",
    "            level_cost = 0\n",
    "            for ni, xi in best_path:\n",
    "                xs[cur_level_nodes[ni]._idx] = candidate_xs[xi]\n",
    "                level_cost += cost_matrix[ni,xi]\n",
    "            total_cost += level_cost\n",
    "            if verbose:\n",
    "                print(f'cost_matrix={cost_matrix}')\n",
    "                print(f'best_path={best_path}')\n",
    "                print(f'xs={xs}')\n",
    "                print('')\n",
    "\n",
    "    # Levels after fixed level\n",
    "    if fixed_level < len(levels) -1:\n",
    "        for cur_level in levels[fixed_level+1:]:\n",
    "            cur_level_len = len(cur_level)\n",
    "            cur_level_nodes = [g.nodes[ni] for ni in cur_level]\n",
    "            cost_matrix = np.zeros((cur_level_len, largest_level_len))  # Cost of placing each cur_level node at each candidate x-coordinate\n",
    "            for ni,n in enumerate(cur_level_nodes):\n",
    "                for xi,x in enumerate(candidate_xs):\n",
    "                    cc = abs(x)  # Cost of placing node away from the center\n",
    "                    cd = 0       # Cost of placing node away from connected input node\n",
    "                    for in_node in n._in_nodes:\n",
    "                        if xs[in_node._idx] is not None:\n",
    "                            cd += abs(x - xs[in_node._idx])\n",
    "                        else:\n",
    "                            pass  # Skip connection between levels before and after fixed_level. Will be counted in other direction.\n",
    "                    cost_matrix[ni,xi] = wc*cc + wd*cd\n",
    "            best_path = M.compute(cost_matrix.copy())\n",
    "            level_cost = 0\n",
    "            for ni, xi in best_path:\n",
    "                xs[cur_level_nodes[ni]._idx] = candidate_xs[xi]\n",
    "                level_cost += cost_matrix[ni,xi]\n",
    "            total_cost += level_cost\n",
    "            if verbose:\n",
    "                print(f'cost_matrix={cost_matrix}')\n",
    "                print(f'best_path={best_path}')\n",
    "                print(f'xs={xs}')\n",
    "                print('')\n",
    "    return xs, total_cost"
   ]
  },
  {
   "cell_type": "code",
   "execution_count": 108,
   "metadata": {},
   "outputs": [],
   "source": [
    "in_level_len = len(levels[0])\n",
    "in_xs_0 = [i-(in_level_len-1)//2 for i in range(in_level_len)]\n",
    "in_perms = list(itertools.permutations(in_xs_0))\n",
    "num_perms = len(in_perms)\n",
    "total_costs = [None] * num_perms\n",
    "xdata = np.zeros((num_perms, len(g2.nodes)))\n",
    "for prmi, in_xs in enumerate(in_perms):\n",
    "    xdata[prmi,:], total_costs[prmi] = best_layout_one_fixed_level(g2, levels, 0, in_xs)"
   ]
  },
  {
   "cell_type": "code",
   "execution_count": 109,
   "metadata": {},
   "outputs": [
    {
     "data": {
      "text/plain": [
       "[(array([-1., -1.,  0.,  1.,  0., -1.,  1.,  2.,  1.,  0.]), 78.0),\n",
       " (array([-1., -1.,  0.,  2.,  0., -1.,  1.,  1.,  1.,  0.]), 78.0),\n",
       " (array([-1., -1.,  1.,  0.,  0., -1.,  1.,  2.,  1.,  0.]), 68.0),\n",
       " (array([-1., -1.,  1.,  2.,  0., -1.,  1.,  0.,  0., -1.]), 88.0),\n",
       " (array([-1., -1.,  2.,  0.,  0., -1.,  2.,  1.,  1.,  0.]), 79.0),\n",
       " (array([-1., -1.,  2.,  1.,  0., -1.,  2.,  0.,  0., -1.]), 99.0),\n",
       " (array([ 0.,  0., -1.,  1.,  0.,  1., -1.,  2.,  1.,  0.]), 67.0),\n",
       " (array([ 0.,  0., -1.,  2.,  0.,  1., -1.,  1.,  1.,  0.]), 67.0),\n",
       " (array([ 0.,  0.,  1., -1.,  0., -1.,  1.,  2.,  1.,  0.]), 67.0),\n",
       " (array([ 0.,  0.,  1.,  2.,  0., -1.,  1., -1., -1.,  0.]), 67.0),\n",
       " (array([ 0.,  0.,  2., -1.,  1.,  0.,  2.,  1.,  1.,  0.]), 68.0),\n",
       " (array([ 0.,  0.,  2.,  1.,  1.,  0.,  2., -1.,  0.,  1.]), 68.0),\n",
       " (array([ 1.,  1., -1.,  0.,  0.,  1., -1.,  2.,  1.,  0.]), 68.0),\n",
       " (array([ 1.,  1., -1.,  2.,  0.,  1., -1.,  0.,  0.,  1.]), 68.0),\n",
       " (array([ 1.,  1.,  0., -1.,  0.,  1., -1.,  2.,  1.,  0.]), 78.0),\n",
       " (array([ 1.,  1.,  0.,  2.,  0.,  1., -1., -1., -1.,  1.]), 69.0),\n",
       " (array([ 1.,  1.,  2., -1.,  1.,  0.,  2.,  0.,  0.,  1.]), 69.0),\n",
       " (array([ 1.,  1.,  2.,  0.,  1.,  0.,  2., -1.,  0.,  1.]), 69.0),\n",
       " (array([ 2.,  2., -1.,  0.,  0.,  2., -1.,  1.,  1.,  0.]), 90.0),\n",
       " (array([ 2.,  2., -1.,  1.,  0.,  2., -1.,  0.,  0.,  1.]), 90.0),\n",
       " (array([ 2.,  2.,  0., -1.,  1.,  2.,  0.,  1.,  1.,  0.]), 90.0),\n",
       " (array([ 2.,  2.,  0.,  1.,  1.,  2.,  0., -1.,  0.,  1.]), 70.0),\n",
       " (array([ 2.,  2.,  1., -1.,  1.,  2.,  0.,  0.,  0.,  1.]), 80.0),\n",
       " (array([ 2.,  2.,  1.,  0.,  1.,  2.,  0., -1.,  0.,  1.]), 80.0)]"
      ]
     },
     "execution_count": 109,
     "metadata": {},
     "output_type": "execute_result"
    }
   ],
   "source": [
    "[a for a in zip(xdata, total_costs)]"
   ]
  },
  {
   "cell_type": "code",
   "execution_count": 110,
   "metadata": {},
   "outputs": [
    {
     "data": {
      "image/png": "[encoded data removed]",
      "text/plain": [
       "<Figure size 640x480 with 1 Axes>"
      ]
     },
     "metadata": {},
     "output_type": "display_data"
    }
   ],
   "source": [
    "best_idx = np.argmin(total_costs)\n",
    "best_xs = xdata[best_idx]\n",
    "for ni,xdata in enumerate(best_xs):\n",
    "    g2.nodes[ni].x = xdata\n",
    "draw_graph(g2)"
   ]
  },
  {
   "cell_type": "code",
   "execution_count": 111,
   "metadata": {},
   "outputs": [
    {
     "data": {
      "text/plain": [
       "Inputs: ['0', '2', '3', '7']\n",
       "Outputs: ['8', '9']\n",
       "All nodes:\n",
       "    MavNode: name=0; (x,y)=(0.0,0); in=[], out=['1', '9', '4']\n",
       "    MavNode: name=1; (x,y)=(0.0,1); in=['0'], out=['5']\n",
       "    MavNode: name=2; (x,y)=(-1.0,0); in=[], out=['4', '6']\n",
       "    MavNode: name=3; (x,y)=(1.0,0); in=[], out=['9']\n",
       "    MavNode: name=4; (x,y)=(0.0,2); in=['2', '0'], out=['9']\n",
       "    MavNode: name=5; (x,y)=(1.0,2); in=['1'], out=['8']\n",
       "    MavNode: name=6; (x,y)=(-1.0,2); in=['2'], out=['8']\n",
       "    MavNode: name=7; (x,y)=(2.0,0); in=[], out=['8']\n",
       "    MavNode: name=8; (x,y)=(1.0,3); in=['6', '5', '7'], out=[]\n",
       "    MavNode: name=9; (x,y)=(0.0,3); in=['4', '3', '0'], out=[]"
      ]
     },
     "execution_count": 111,
     "metadata": {},
     "output_type": "execute_result"
    }
   ],
   "source": [
    "g2"
   ]
  },
  {
   "cell_type": "markdown",
   "metadata": {},
   "source": [
    "#### Multiple pases from central level"
   ]
  },
  {
   "cell_type": "code",
   "execution_count": 112,
   "metadata": {},
   "outputs": [],
   "source": [
    "lvl2_len = len(levels[2])\n",
    "xs_2 = [i-(lvl2_len-1)//2 for i in range(lvl2_len)]\n",
    "xs_2_perms = list(itertools.permutations(xs_2))\n",
    "num_xs_2_perms = len(xs_2_perms)\n",
    "total_costs = [None] * num_xs_2_perms\n",
    "xdata = np.zeros((num_xs_2_perms, len(g2.nodes)))\n",
    "for prmi, xs_2 in enumerate(xs_2_perms):\n",
    "    xdata[prmi,:], total_costs[prmi] = best_layout_one_fixed_level(g2, levels, 2, xs_2)"
   ]
  },
  {
   "cell_type": "code",
   "execution_count": 113,
   "metadata": {},
   "outputs": [
    {
     "data": {
      "text/plain": [
       "[(array([ 0.,  0., -1.,  1., -1.,  0.,  1.,  2.,  1.,  0.]), 77.0),\n",
       " (array([ 0.,  1., -1.,  1., -1.,  1.,  0.,  2.,  1.,  0.]), 78.0),\n",
       " (array([-1., -1.,  1.,  0.,  0., -1.,  1.,  2.,  1.,  0.]), 68.0),\n",
       " (array([ 0.,  1., -1.,  1.,  0.,  1., -1.,  2.,  1.,  0.]), 68.0),\n",
       " (array([-1., -1.,  1.,  0.,  1., -1.,  0.,  2.,  0., -1.]), 98.0),\n",
       " (array([ 0.,  0., -1.,  1.,  1.,  0., -1.,  2.,  0.,  1.]), 77.0)]"
      ]
     },
     "execution_count": 113,
     "metadata": {},
     "output_type": "execute_result"
    }
   ],
   "source": [
    "[a for a in zip(xdata, total_costs)]"
   ]
  },
  {
   "cell_type": "code",
   "execution_count": 114,
   "metadata": {},
   "outputs": [
    {
     "data": {
      "image/png": "[encoded data removed]",
      "text/plain": [
       "<Figure size 640x480 with 1 Axes>"
      ]
     },
     "metadata": {},
     "output_type": "display_data"
    }
   ],
   "source": [
    "best_idx = np.argmin(total_costs)\n",
    "best_xs = xdata[best_idx]\n",
    "for ni,xdata in enumerate(best_xs):\n",
    "    g2.nodes[ni].x = xdata\n",
    "draw_graph(g2)"
   ]
  },
  {
   "cell_type": "code",
   "execution_count": 115,
   "metadata": {},
   "outputs": [
    {
     "data": {
      "text/plain": [
       "Inputs: ['0', '2', '3', '7']\n",
       "Outputs: ['8', '9']\n",
       "All nodes:\n",
       "    MavNode: name=0; (x,y)=(-1.0,0); in=[], out=['1', '9', '4']\n",
       "    MavNode: name=1; (x,y)=(-1.0,1); in=['0'], out=['5']\n",
       "    MavNode: name=2; (x,y)=(1.0,0); in=[], out=['4', '6']\n",
       "    MavNode: name=3; (x,y)=(0.0,0); in=[], out=['9']\n",
       "    MavNode: name=4; (x,y)=(0.0,2); in=['2', '0'], out=['9']\n",
       "    MavNode: name=5; (x,y)=(-1.0,2); in=['1'], out=['8']\n",
       "    MavNode: name=6; (x,y)=(1.0,2); in=['2'], out=['8']\n",
       "    MavNode: name=7; (x,y)=(2.0,0); in=[], out=['8']\n",
       "    MavNode: name=8; (x,y)=(1.0,3); in=['6', '5', '7'], out=[]\n",
       "    MavNode: name=9; (x,y)=(0.0,3); in=['4', '3', '0'], out=[]"
      ]
     },
     "execution_count": 115,
     "metadata": {},
     "output_type": "execute_result"
    }
   ],
   "source": [
    "g2"
   ]
  },
  {
   "cell_type": "markdown",
   "metadata": {},
   "source": [
    "#### Experimental cells"
   ]
  },
  {
   "cell_type": "code",
   "execution_count": 116,
   "metadata": {},
   "outputs": [
    {
     "data": {
      "text/plain": [
       "[[0, 2, 3, 7], [1], [4, 5, 6], [8, 9]]"
      ]
     },
     "execution_count": 116,
     "metadata": {},
     "output_type": "execute_result"
    }
   ],
   "source": [
    "levels"
   ]
  },
  {
   "cell_type": "code",
   "execution_count": 117,
   "metadata": {},
   "outputs": [
    {
     "data": {
      "text/plain": [
       "[4, 1, 3, 2]"
      ]
     },
     "execution_count": 117,
     "metadata": {},
     "output_type": "execute_result"
    }
   ],
   "source": [
    "level_lens = [len(level) for level in levels]\n",
    "level_lens"
   ]
  },
  {
   "cell_type": "code",
   "execution_count": 118,
   "metadata": {},
   "outputs": [
    {
     "data": {
      "text/plain": [
       "4"
      ]
     },
     "execution_count": 118,
     "metadata": {},
     "output_type": "execute_result"
    }
   ],
   "source": [
    "largest_level_len = max(level_lens)\n",
    "largest_level_len"
   ]
  },
  {
   "cell_type": "code",
   "execution_count": 119,
   "metadata": {},
   "outputs": [
    {
     "data": {
      "text/plain": [
       "[(8, 9), (9, 8)]"
      ]
     },
     "execution_count": 119,
     "metadata": {},
     "output_type": "execute_result"
    }
   ],
   "source": [
    "list(itertools.permutations(levels[-1]))"
   ]
  },
  {
   "cell_type": "code",
   "execution_count": 120,
   "metadata": {},
   "outputs": [
    {
     "data": {
      "text/plain": [
       "[MavNode: name=0; (x,y)=(-1.0,0); in=[], out=['1', '9', '4'],\n",
       " MavNode: name=2; (x,y)=(1.0,0); in=[], out=['4', '6'],\n",
       " MavNode: name=3; (x,y)=(0.0,0); in=[], out=['9'],\n",
       " MavNode: name=7; (x,y)=(2.0,0); in=[], out=['8']]"
      ]
     },
     "execution_count": 120,
     "metadata": {},
     "output_type": "execute_result"
    }
   ],
   "source": [
    "prev_level = levels[0]\n",
    "prev_level_len = len(prev_level)\n",
    "prev_level_nodes = [g2.nodes[ni] for ni in prev_level]\n",
    "prev_level_nodes"
   ]
  },
  {
   "cell_type": "code",
   "execution_count": 121,
   "metadata": {},
   "outputs": [
    {
     "data": {
      "text/plain": [
       "[MavNode: name=1; (x,y)=(-1.0,1); in=['0'], out=['5']]"
      ]
     },
     "execution_count": 121,
     "metadata": {},
     "output_type": "execute_result"
    }
   ],
   "source": [
    "cur_level = levels[1]\n",
    "cur_level_len = len(cur_level)\n",
    "cur_level_nodes = [g2.nodes[ni] for ni in cur_level]\n",
    "cur_level_nodes"
   ]
  },
  {
   "cell_type": "code",
   "execution_count": 122,
   "metadata": {},
   "outputs": [
    {
     "data": {
      "text/plain": [
       "[-1, 0, 1, 2]"
      ]
     },
     "execution_count": 122,
     "metadata": {},
     "output_type": "execute_result"
    }
   ],
   "source": [
    "prev_level_len = len(prev_level)\n",
    "prev_level_xs = [i-(prev_level_len-1)//2 for i in range(prev_level_len)]\n",
    "prev_level_xs"
   ]
  },
  {
   "cell_type": "code",
   "execution_count": 123,
   "metadata": {},
   "outputs": [
    {
     "data": {
      "text/plain": [
       "[(-1, 0, 1, 2),\n",
       " (-1, 0, 2, 1),\n",
       " (-1, 1, 0, 2),\n",
       " (-1, 1, 2, 0),\n",
       " (-1, 2, 0, 1),\n",
       " (-1, 2, 1, 0),\n",
       " (0, -1, 1, 2),\n",
       " (0, -1, 2, 1),\n",
       " (0, 1, -1, 2),\n",
       " (0, 1, 2, -1),\n",
       " (0, 2, -1, 1),\n",
       " (0, 2, 1, -1),\n",
       " (1, -1, 0, 2),\n",
       " (1, -1, 2, 0),\n",
       " (1, 0, -1, 2),\n",
       " (1, 0, 2, -1),\n",
       " (1, 2, -1, 0),\n",
       " (1, 2, 0, -1),\n",
       " (2, -1, 0, 1),\n",
       " (2, -1, 1, 0),\n",
       " (2, 0, -1, 1),\n",
       " (2, 0, 1, -1),\n",
       " (2, 1, -1, 0),\n",
       " (2, 1, 0, -1)]"
      ]
     },
     "execution_count": 123,
     "metadata": {},
     "output_type": "execute_result"
    }
   ],
   "source": [
    "list(itertools.permutations(prev_level_xs))"
   ]
  },
  {
   "cell_type": "code",
   "execution_count": 124,
   "metadata": {},
   "outputs": [
    {
     "data": {
      "text/plain": [
       "[-1, 0, 1, 2]"
      ]
     },
     "execution_count": 124,
     "metadata": {},
     "output_type": "execute_result"
    }
   ],
   "source": [
    "candidate_xs = [i-(largest_level_len-1)//2 for i in range(largest_level_len)]\n",
    "candidate_xs"
   ]
  },
  {
   "cell_type": "code",
   "execution_count": 125,
   "metadata": {},
   "outputs": [
    {
     "data": {
      "text/plain": [
       "[-1, None, 0, 1, None, None, None, 2, None, None]"
      ]
     },
     "execution_count": 125,
     "metadata": {},
     "output_type": "execute_result"
    }
   ],
   "source": [
    "xdata = [None] * len(g2.nodes)\n",
    "for i,n in enumerate(prev_level_nodes):\n",
    "    xdata[n._idx] = prev_level_xs[i]\n",
    "xdata"
   ]
  },
  {
   "cell_type": "markdown",
   "metadata": {},
   "source": [
    "## Slightly improved viewer\n",
    "Draw arcs rather than straight lines: can visualize more complex model"
   ]
  },
  {
   "cell_type": "code",
   "execution_count": 126,
   "metadata": {},
   "outputs": [],
   "source": [
    "def append_arc_coords(x, y, cx, cy, r, quadrant, ccw, num_points):\n",
    "    if ccw:\n",
    "        t = np.linspace(np.pi/2*(quadrant-1), np.pi/2*quadrant, num_points)\n",
    "    else:\n",
    "        t = np.linspace(np.pi/2*quadrant, np.pi/2*(quadrant-1), num_points)\n",
    "    xdata = cx + r*np.cos(t)\n",
    "    ydata = cy - r*np.sin(t)  # Negative because y-axis is inverted on graph\n",
    "    x += list(xdata)\n",
    "    y += list(ydata)\n",
    "\n",
    "def get_connection_arc_coords(g:MavGraph, n0:MavNode, n1:MavNode):\n",
    "\n",
    "    # Local parameters\n",
    "    r = 0.1  # Arc radius\n",
    "    na = 10  # Number of points per arc\n",
    "\n",
    "    # Aliases\n",
    "    x0, y0, x1, y1 = n0.x, n0.y, n1.x, n1.y\n",
    "\n",
    "    # Determine x-coordinate of main vertical segment\n",
    "    nodes_in_x0_line = [n for n in g.nodes if n.x == x0 and n.y > y0 and n.y < y1]\n",
    "    nodes_in_x1_line = [n for n in g.nodes if n.x == x1 and n.y > y0 and n.y < y1]\n",
    "    if x0 == x1:\n",
    "        # Vertical connection: bend very slightly if other blocks are in the way\n",
    "        if nodes_in_x0_line:\n",
    "            if x0 >= 0:\n",
    "                x_main = x0 + 0.5 - (1-g.nw)*0.4\n",
    "            else:\n",
    "                x_main = x0 - 0.5 + (1-g.nw)*0.4\n",
    "        else:\n",
    "            x_main = x0\n",
    "    elif abs(x0) <= abs(x1):\n",
    "        # Moving from centre towards border\n",
    "        if not nodes_in_x1_line:\n",
    "            # Nothing in the way above output node\n",
    "            x_main = x1\n",
    "        elif not nodes_in_x0_line:\n",
    "            # Nothing in the way below input node\n",
    "            x_main = x0\n",
    "        elif x0 < x1:\n",
    "            # Moving from centre towards right border\n",
    "            x_main = x1 - 0.5 + (1-g.nw)*0.1\n",
    "        else:\n",
    "            # Moving from centre towards left border\n",
    "            x_main = x1 + 0.5 - (1-g.nw)*0.1\n",
    "    else:\n",
    "        # Moving from border in towards centre\n",
    "        if not nodes_in_x0_line:\n",
    "            # Nothing in the way below input node\n",
    "            x_main = x0\n",
    "        elif not nodes_in_x1_line:\n",
    "            # Nothing in the way above output node\n",
    "            x_main = x1\n",
    "        elif x0 < x1:\n",
    "            # Moving from left border towards centre\n",
    "            x_main = x0 + 0.5 + (1-g.nw)*0.1\n",
    "        else:\n",
    "            # Moving from right border towards centre\n",
    "            x_main = x0 - 0.5 - (1-g.nw)*0.1\n",
    "            \n",
    "    # Draw 4 arcs: \n",
    "    # * n0 to upper horizontal line\n",
    "    # * upper horizontal line to main vertical line\n",
    "    # * main vertical line to lower horizontal line\n",
    "    # * lower horizontal line to n1\n",
    "    # If coordinates for arcs are placed in the correct order, straight lines will automatically connect them\n",
    "    xdata, ydata = [x0], [y0+g.nh/2]\n",
    "\n",
    "    # n0 to upper horizontal line\n",
    "    if x0 < x_main:\n",
    "        # CCW 3rd quadrant arc with centre to the right of x0\n",
    "        cx, cy, q, ccw = x0+r, y0+g.nh/2, 3, True\n",
    "        append_arc_coords(xdata, ydata, cx, cy, r, q, ccw, na)\n",
    "    elif x0 > x_main:\n",
    "        # Clockwise 4th quadrant arc with centre to the left of x0\n",
    "        cx, cy, q, ccw = x0-r, y0+g.nh/2, 4, False\n",
    "        append_arc_coords(xdata, ydata, cx, cy, r, q, ccw, na)\n",
    "    \n",
    "    # Upper horizontal to main vertical line\n",
    "    if x0 < x_main:\n",
    "        # Clockwise 1st quadrant arc with centre to the left of x_main\n",
    "        cx, cy, q, ccw = x_main-r, y0+g.nh/2+r+r, 1, False\n",
    "        append_arc_coords(xdata, ydata, cx, cy, r, q, ccw, na)\n",
    "    elif x0 > x_main:\n",
    "        # CCW 2nd quadrant arc with centre to the right of x_main\n",
    "        cx, cy, q, ccw = x_main+r, y0+g.nh/2+r+r, 2, True\n",
    "        append_arc_coords(xdata, ydata, cx, cy, r, q, ccw, na)\n",
    "\n",
    "    # main vertical line to lower horizontal line\n",
    "    if x_main < x1:\n",
    "        # CCW 3rd quadrant arc with centre to the right of x_main\n",
    "        cx, cy, q, ccw = x_main+r, y1-g.nh/2-r-r, 3, True\n",
    "        append_arc_coords(xdata, ydata, cx, cy, r, q, ccw, na)\n",
    "    elif x_main > x1:\n",
    "        # Clockwise 4th quadrant arc with centre to the left of x_main\n",
    "        cx, cy, q, ccw = x_main-r, y1-g.nh/2-r-r, 4, False\n",
    "        append_arc_coords(xdata, ydata, cx, cy, r, q, ccw, na)\n",
    "\n",
    "    # lower horizontal line to n1\n",
    "    if x_main < x1:\n",
    "        # Clockwise 1st quadrant arc with centre to the left of x1\n",
    "        cx, cy, q, ccw = x1-r, y1-g.nh/2, 1, False\n",
    "        append_arc_coords(xdata, ydata, cx, cy, r, q, ccw, na)\n",
    "    elif x_main > x1:\n",
    "        # CCW 2nd quadrant arc with centre to the right of x1\n",
    "        cx, cy, q, ccw = x1+r, y1-g.nh/2, 2, True\n",
    "        append_arc_coords(xdata, ydata, cx, cy, r, q, ccw, na)\n",
    "    \n",
    "    xdata += [x1]\n",
    "    ydata += [y1-g.nh/2]\n",
    "    return xdata,ydata"
   ]
  },
  {
   "cell_type": "code",
   "execution_count": 127,
   "metadata": {},
   "outputs": [],
   "source": [
    "def draw_graph_2(g:MavGraph):\n",
    "    fig, ax = plt.subplots()\n",
    "    x_lim, y_lim = (0,0), (0,0)\n",
    "    for c in g.connections:\n",
    "        xdata, ydata = get_connection_arc_coords(g, c.from_node, c.to_node)\n",
    "        line = lines.Line2D(xdata=xdata, ydata=ydata, linewidth=1, color=[0,0,0])\n",
    "        ax.add_line(line)\n",
    "    for n in g.nodes:\n",
    "        rect = patches.Rectangle((n.x - g.nw/2, n.y - g.nh/2), g.nw, g.nh, \n",
    "                                linewidth=1, edgecolor=[0,0,0], facecolor=[1,1,1])\n",
    "        ax.add_patch(rect)\n",
    "        x_lim = (min((x_lim[0], n.x-1)), max((x_lim[1], n.x+1)))\n",
    "        y_lim = (min((y_lim[0], n.y-1)), max((y_lim[1], n.y+1)))\n",
    "        ax.text(n.x, n.y, n.name, horizontalalignment='center', verticalalignment='center')\n",
    "    ax.set_xlim(left=x_lim[0], right=x_lim[1])\n",
    "    ax.set_ylim(bottom=y_lim[1], top=y_lim[0])\n",
    "    ax.set_yticks([])\n",
    "    ax.set_xticks([])"
   ]
  },
  {
   "cell_type": "code",
   "execution_count": 128,
   "metadata": {},
   "outputs": [
    {
     "data": {
      "image/png": "[encoded data removed]",
      "text/plain": [
       "<Figure size 640x480 with 1 Axes>"
      ]
     },
     "metadata": {},
     "output_type": "display_data"
    }
   ],
   "source": [
    "draw_graph(g2)"
   ]
  },
  {
   "cell_type": "code",
   "execution_count": 129,
   "metadata": {},
   "outputs": [
    {
     "data": {
      "image/png": "[encoded data removed]",
      "text/plain": [
       "<Figure size 640x480 with 1 Axes>"
      ]
     },
     "metadata": {},
     "output_type": "display_data"
    }
   ],
   "source": [
    "draw_graph_2(g2)"
   ]
  },
  {
   "cell_type": "markdown",
   "metadata": {},
   "source": [
    "## Larger architecture example"
   ]
  },
  {
   "cell_type": "code",
   "execution_count": 130,
   "metadata": {},
   "outputs": [
    {
     "name": "stdout",
     "output_type": "stream",
     "text": [
      "[0, 1, 1, 2, 2, 2, 3, 3, 3, 3]\n",
      "[0 1 1 2 2 2 0 0 0 0]\n"
     ]
    },
    {
     "data": {
      "text/plain": [
       "5"
      ]
     },
     "execution_count": 130,
     "metadata": {},
     "output_type": "execute_result"
    }
   ],
   "source": [
    "skip_prob_decay = 0.5\n",
    "nodes_per_level = [1,2,3,4]\n",
    "num_nodes = sum(nodes_per_level)\n",
    "levels = []\n",
    "for i,num in enumerate(nodes_per_level):\n",
    "    levels += [i]*num\n",
    "print(levels)\n",
    "print(np.where(np.array(levels)<3, levels, 0))\n",
    "\n",
    "p0 = [skip_prob_decay**(3-level) for level in levels if level <= 3]\n",
    "p = np.array(p0) / sum(p0)\n",
    "np.random.choice(list(range(len(p))), p=p)"
   ]
  },
  {
   "cell_type": "code",
   "execution_count": 131,
   "metadata": {},
   "outputs": [],
   "source": [
    "def create_random_sample_graph_2(nodes_per_level, rep_prob_decay, skip_prob_decay, num_connections):\n",
    "    \"\"\"\n",
    "    nodes_per_level is a list of the number of nodes on each level, e.g. [1,2,3,4,3,2,1]\n",
    "    rep_prob_decay is the fraction by which the probability of a node being chosen as input\n",
    "        is multiplied each time that node is chosen\n",
    "    skip_prob_decay is the fraction by which the probability of a node being chosen as input\n",
    "        to another node decays when the candidact input node is moved to an earlier level\n",
    "    \"\"\"\n",
    "    # Create nodes\n",
    "    num_levels = len(nodes_per_level)\n",
    "    num_nodes = sum(nodes_per_level)\n",
    "    levels = []\n",
    "    for i,num in enumerate(nodes_per_level):\n",
    "        levels += [i]*num\n",
    "    nodes = [MavNode(str(ni), 0, 0) for ni in range(num_nodes)]\n",
    "\n",
    "    # Create main input connection for each node\n",
    "    p0 = np.array([skip_prob_decay**(num_levels-lvl) for lvl in levels])  # Unscaled probability of picking each node as input\n",
    "    connection_tuples: List[Tuple[int]] = []\n",
    "    connections: List[MavConnection] = []\n",
    "    for n2,node in enumerate(nodes):\n",
    "        level = levels[n2]\n",
    "        if level==0: continue  # Input node has no inputs\n",
    "        p1 = np.where(np.array(levels)<level, p0, 0)\n",
    "        p = p1 / np.sum(p1)\n",
    "        n1 = np.random.choice(list(range(len(p))), p=p)\n",
    "        connection_tuples.append((n1,n2))\n",
    "        connections.append(MavConnection(nodes[n1], nodes[n2]))\n",
    "        p0[n1] *= rep_prob_decay\n",
    "\n",
    "    # Create main output connection for each node\n",
    "    p0 = np.array([skip_prob_decay**lvl for lvl in levels])  # Unscaled probability of picking each node as output\n",
    "    for n1,node in enumerate(nodes):\n",
    "        level = levels[n1]\n",
    "        if level==num_levels-1: continue  # Output node has no outputs\n",
    "        if [tpl[1] for tpl in connection_tuples if tpl[0]==n1]: continue  # Node already has outputs\n",
    "        p1 = np.where(np.array(levels)>level, p0, 0)\n",
    "        p = p1 / np.sum(p1)\n",
    "        n2 = np.random.choice(list(range(len(p))), p=p)\n",
    "        connection_tuples.append((n1,n2))\n",
    "        connections.append(MavConnection(nodes[n1], nodes[n2]))\n",
    "        p0[n2] *= rep_prob_decay\n",
    "\n",
    "    # Create additional connections\n",
    "    num_attempts = 0\n",
    "    while len(connections) < num_connections and num_attempts < num_connections*10:\n",
    "        n1 = random.randint(0, num_nodes-1)\n",
    "        n2 = random.randint(0, num_nodes-1)\n",
    "        if n1>n2: n_temp = n1; n1 = n2; n2 = n_temp\n",
    "        reject = n1==n2 or (n1,n2) in connection_tuples or levels[n1] >= levels[n2]\n",
    "        if not reject:\n",
    "            connection_tuples.append((n1,n2))\n",
    "            connections.append(MavConnection(nodes[n1], nodes[n2]))\n",
    "        num_attempts += 1\n",
    "    return MavGraph(nodes=nodes, connections=connections)"
   ]
  },
  {
   "cell_type": "code",
   "execution_count": 132,
   "metadata": {},
   "outputs": [
    {
     "data": {
      "image/png": "[encoded data removed]",
      "text/plain": [
       "<Figure size 640x480 with 1 Axes>"
      ]
     },
     "metadata": {},
     "output_type": "display_data"
    }
   ],
   "source": [
    "random.seed(2)\n",
    "g3 = create_random_sample_graph_2([1,2,3,4,3,2,1], 0.1, 0.1, 20)\n",
    "levels = calc_levels(g3)\n",
    "for i,n in enumerate(g3.nodes): n.x = i\n",
    "draw_graph(g3)"
   ]
  },
  {
   "cell_type": "code",
   "execution_count": 133,
   "metadata": {},
   "outputs": [],
   "source": [
    "level_lens = [len(level) for level in levels]\n",
    "largest_level_idx = np.argmax(level_lens)\n",
    "largest_level_len = level_lens[largest_level_idx]\n",
    "xs = [i-(largest_level_len-1)//2 for i in range(largest_level_len)]\n",
    "xs_perms = list(itertools.permutations(xs))\n",
    "num_xs_perms = len(xs_perms)\n",
    "total_costs = [None] * num_xs_perms\n",
    "xdata = np.zeros((num_xs_perms, len(g3.nodes)))\n",
    "for prmi, xs_perm in enumerate(xs_perms):\n",
    "    xdata[prmi,:], total_costs[prmi] = best_layout_one_fixed_level(g3, levels, largest_level_idx, xs_perm)"
   ]
  },
  {
   "cell_type": "code",
   "execution_count": 134,
   "metadata": {},
   "outputs": [
    {
     "data": {
      "text/plain": [
       "[(array([ 0.,  0.,  1.,  1.,  0., -1., -1.,  0.,  1.,  2.,  0., -1.,  1.,\n",
       "          1.,  0.,  0.]),\n",
       "  140.0),\n",
       " (array([ 0.,  0.,  1.,  2.,  0., -1., -1.,  0.,  2.,  1.,  0., -1.,  1.,\n",
       "          1.,  0.,  0.]),\n",
       "  131.0),\n",
       " (array([ 0.,  1.,  0.,  0.,  1., -1., -1.,  1.,  0.,  2.,  1., -1.,  0.,\n",
       "          0.,  1.,  0.]),\n",
       "  130.0),\n",
       " (array([ 0.,  0.,  1.,  2.,  0., -1., -1.,  1.,  2.,  0.,  1., -1.,  0.,\n",
       "          0.,  1.,  0.]),\n",
       "  141.0),\n",
       " (array([ 0.,  1.,  0.,  0.,  1., -1., -1.,  2.,  0.,  1.,  2.,  0.,  1.,\n",
       "          1.,  0.,  0.]),\n",
       "  111.0),\n",
       " (array([ 0.,  0.,  1.,  1.,  0., -1., -1.,  2.,  1.,  0.,  2.,  0.,  1.,\n",
       "          1.,  0.,  0.]),\n",
       "  131.0),\n",
       " (array([ 0., -1.,  0.,  1., -1.,  0.,  0., -1.,  1.,  2., -1.,  0.,  1.,\n",
       "          1.,  0.,  0.]),\n",
       "  110.0),\n",
       " (array([ 0.,  0.,  1.,  2.,  0.,  1.,  0., -1.,  2.,  1., -1.,  0.,  1.,\n",
       "          1.,  0.,  0.]),\n",
       "  101.0),\n",
       " (array([ 0.,  1.,  0., -1.,  1.,  0.,  0.,  1., -1.,  2.,  1.,  0., -1.,\n",
       "         -1.,  0.,  0.]),\n",
       "  110.0),\n",
       " (array([ 0.,  0.,  1.,  2.,  0., -1.,  0.,  1.,  2., -1.,  1.,  0., -1.,\n",
       "         -1.,  0.,  0.]),\n",
       "  141.0),\n",
       " (array([ 0.,  1.,  0., -1.,  1.,  0.,  0.,  2., -1.,  1.,  2.,  0.,  1.,\n",
       "          1.,  0.,  0.]),\n",
       "  101.0),\n",
       " (array([ 0.,  0.,  1.,  1.,  0., -1.,  0.,  2.,  1., -1.,  2.,  0., -1.,\n",
       "         -1.,  0.,  0.]),\n",
       "  141.0),\n",
       " (array([ 0., -1.,  0.,  0., -1.,  1.,  1., -1.,  0.,  2., -1.,  0.,  1.,\n",
       "          1.,  0.,  0.]),\n",
       "  120.0),\n",
       " (array([ 0.,  0.,  1.,  2.,  0.,  1.,  1., -1.,  2.,  0., -1.,  1.,  0.,\n",
       "          0.,  1.,  0.]),\n",
       "  101.0),\n",
       " (array([ 0.,  0.,  1., -1.,  0.,  1.,  1.,  0., -1.,  2.,  0.,  1., -1.,\n",
       "         -1.,  0.,  0.]),\n",
       "  120.0),\n",
       " (array([ 0.,  0.,  1.,  2.,  0., -1.,  1.,  0.,  2., -1.,  0.,  1., -1.,\n",
       "         -1.,  0.,  0.]),\n",
       "  131.0),\n",
       " (array([ 0.,  0.,  1., -1.,  0.,  1.,  1.,  2., -1.,  0.,  2.,  1.,  0.,\n",
       "          0.,  1.,  0.]),\n",
       "  101.0),\n",
       " (array([ 0.,  1.,  0.,  0.,  1., -1.,  1.,  2.,  0., -1.,  2.,  0., -1.,\n",
       "         -1.,  0.,  0.]),\n",
       "  131.0),\n",
       " (array([ 0., -1.,  0.,  0., -1.,  1.,  2., -1.,  0.,  1., -1.,  0.,  1.,\n",
       "          1.,  0.,  0.]),\n",
       "  110.0),\n",
       " (array([ 0., -1.,  0.,  1., -1.,  0.,  2., -1.,  1.,  0., -1.,  0.,  1.,\n",
       "          1.,  0.,  0.]),\n",
       "  110.0),\n",
       " (array([ 0.,  0.,  1., -1.,  0.,  1.,  2.,  0., -1.,  1.,  0.,  1., -1.,\n",
       "         -1.,  0.,  0.]),\n",
       "  110.0),\n",
       " (array([ 0.,  0.,  1.,  1.,  0., -1.,  2.,  0.,  1., -1.,  0.,  1., -1.,\n",
       "         -1.,  0.,  0.]),\n",
       "  130.0),\n",
       " (array([ 0.,  0.,  1., -1.,  0.,  1.,  2.,  1., -1.,  0.,  1.,  2.,  0.,\n",
       "          0.,  1.,  0.]),\n",
       "  111.0),\n",
       " (array([ 0.,  1.,  0.,  0.,  1., -1.,  2.,  1.,  0., -1.,  1.,  0., -1.,\n",
       "         -1.,  0.,  0.]),\n",
       "  130.0)]"
      ]
     },
     "execution_count": 134,
     "metadata": {},
     "output_type": "execute_result"
    }
   ],
   "source": [
    "[a for a in zip(xdata, total_costs)]"
   ]
  },
  {
   "cell_type": "code",
   "execution_count": 135,
   "metadata": {},
   "outputs": [
    {
     "data": {
      "image/png": "[encoded data removed]",
      "text/plain": [
       "<Figure size 640x480 with 1 Axes>"
      ]
     },
     "metadata": {},
     "output_type": "display_data"
    }
   ],
   "source": [
    "best_idx = np.argmin(total_costs)\n",
    "best_xs = xdata[best_idx]\n",
    "for ni,x in enumerate(best_xs):\n",
    "    g3.nodes[ni].x = x\n",
    "draw_graph_2(g3)"
   ]
  }
 ],
 "metadata": {
  "kernelspec": {
   "display_name": ".venv",
   "language": "python",
   "name": "python3"
  },
  "language_info": {
   "codemirror_mode": {
    "name": "ipython",
    "version": 3
   },
   "file_extension": ".py",
   "mimetype": "text/x-python",
   "name": "python",
   "nbconvert_exporter": "python",
   "pygments_lexer": "ipython3",
   "version": "3.10.12"
  }
 },
 "nbformat": 4,
 "nbformat_minor": 2
}
