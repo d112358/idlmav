{
  "nbformat": 4,
  "nbformat_minor": 0,
  "metadata": {
    "colab": {
      "provenance": [],
      "toc_visible": true,
      "authorship_tag": "ABX9TyOhPVozE+CeSeCkZgSn7qTI",
      "include_colab_link": true
    },
    "kernelspec": {
      "name": "python3",
      "display_name": "Python 3"
    },
    "language_info": {
      "name": "python"
    }
  },
  "cells": [
    {
      "cell_type": "markdown",
      "metadata": {
        "id": "view-in-github",
        "colab_type": "text"
      },
      "source": [
        "<a href=\"https://colab.research.google.com/github/d112358/idlmav/blob/main/setup_colab.ipynb\" target=\"_parent\"><img src=\"https://colab.research.google.com/assets/colab-badge.svg\" alt=\"Open In Colab\"/></a>"
      ]
    },
    {
      "cell_type": "markdown",
      "source": [
        "## Colab environment setup\n",
        "This notebook contains several manually and automatically executed setup steps required to run the notebooks in this repo on Google Colab."
      ],
      "metadata": {
        "id": "PtFDLbDqRgYQ"
      }
    },
    {
      "cell_type": "markdown",
      "source": [
        "## Confirm we're running on Colab"
      ],
      "metadata": {
        "id": "-sTRHEywbFqN"
      }
    },
    {
      "cell_type": "code",
      "source": [
        "import sys, os, platform, warnings\n",
        "from datetime import datetime\n",
        "from pathlib import Path\n",
        "\n",
        "try:\n",
        "    import google.colab\n",
        "    print('Running in Colab')\n",
        "except ImportError:\n",
        "    warnings.warn('This notebook is designed to be executed in Colab. You are not currently running in Colab')\n",
        "\n",
        "class StopExecution(Exception):\n",
        "    def _render_traceback_(self):\n",
        "        return []\n",
        "\n",
        "def check_colab():\n",
        "    try:\n",
        "        import google.colab\n",
        "    except ImportError:\n",
        "        print('Skipping cell. This notebook is designed to be executed in Colab')\n",
        "        raise StopExecution"
      ],
      "metadata": {
        "colab": {
          "base_uri": "https://localhost:8080/"
        },
        "id": "nmeOCwQ6bZsJ",
        "outputId": "c90e78d6-53d2-46a8-99c2-e572a313ccb2"
      },
      "execution_count": 1,
      "outputs": [
        {
          "output_type": "stream",
          "name": "stdout",
          "text": [
            "Running in Colab\n"
          ]
        }
      ]
    },
    {
      "cell_type": "markdown",
      "source": [
        "## Information about existing environment"
      ],
      "metadata": {
        "id": "zBMRvX4ySJDU"
      }
    },
    {
      "cell_type": "markdown",
      "source": [
        "### OS and Python"
      ],
      "metadata": {
        "id": "sJsNDR4eXebc"
      }
    },
    {
      "cell_type": "code",
      "source": [
        "print(f\"Operating System: {platform.system()} {platform.release()} ({platform.version()})\")\n",
        "!cat /etc/os-release\n",
        "print(f\"Current Date and Time: {datetime.now()}\")\n",
        "print(f\"Python Version: {sys.version}\")"
      ],
      "metadata": {
        "colab": {
          "base_uri": "https://localhost:8080/"
        },
        "id": "1GX3hYvNUV4N",
        "outputId": "ca03fecd-00bc-46a2-e8e3-e0c5d8cee1b2"
      },
      "execution_count": 2,
      "outputs": [
        {
          "output_type": "stream",
          "name": "stdout",
          "text": [
            "Operating System: Linux 6.1.85+ (#1 SMP PREEMPT_DYNAMIC Thu Jun 27 21:05:47 UTC 2024)\n",
            "PRETTY_NAME=\"Ubuntu 22.04.3 LTS\"\n",
            "NAME=\"Ubuntu\"\n",
            "VERSION_ID=\"22.04\"\n",
            "VERSION=\"22.04.3 LTS (Jammy Jellyfish)\"\n",
            "VERSION_CODENAME=jammy\n",
            "ID=ubuntu\n",
            "ID_LIKE=debian\n",
            "HOME_URL=\"https://www.ubuntu.com/\"\n",
            "SUPPORT_URL=\"https://help.ubuntu.com/\"\n",
            "BUG_REPORT_URL=\"https://bugs.launchpad.net/ubuntu/\"\n",
            "PRIVACY_POLICY_URL=\"https://www.ubuntu.com/legal/terms-and-policies/privacy-policy\"\n",
            "UBUNTU_CODENAME=jammy\n",
            "Current Date and Time: 2024-12-10 12:28:41.040460\n",
            "Python Version: 3.10.12 (main, Nov  6 2024, 20:22:13) [GCC 11.4.0]\n"
          ]
        }
      ]
    },
    {
      "cell_type": "markdown",
      "source": [
        "### Existing packages and versions"
      ],
      "metadata": {
        "id": "dxiQ5zMJYBw_"
      }
    },
    {
      "cell_type": "code",
      "source": [
        "import subprocess\n",
        "filter_strings = [\"beautifulsoup\", \"colorspacious\", \"fast\", \"graphviz\", \"ipy\", \"jsbeautifier\", \"matplotlib\", \"munkres\", \"nbformat\", \"numpy\", \"pandas\", \"plotly\", \"tabulate\", \"timm\", \"torch\"]\n",
        "result = subprocess.run([\"pip\", \"list\"], stdout=subprocess.PIPE, text=True)\n",
        "lines = result.stdout.split(\"\\n\")\n",
        "\n",
        "filtered_lines = [line for line in lines if any(s in line for s in filter_strings)]\n",
        "print(\"\\n\".join(filtered_lines))"
      ],
      "metadata": {
        "colab": {
          "base_uri": "https://localhost:8080/"
        },
        "id": "Tplq5TNuYGD1",
        "outputId": "9a1e7151-f9cc-406c-a476-46810c052ad4"
      },
      "execution_count": 3,
      "outputs": [
        {
          "output_type": "stream",
          "name": "stdout",
          "text": [
            "beautifulsoup4                     4.12.3\n",
            "fastai                             2.7.18\n",
            "fastcore                           1.7.22\n",
            "fastdownload                       0.0.7\n",
            "fastjsonschema                     2.21.1\n",
            "fastprogress                       1.0.3\n",
            "fastrlock                          0.8.2\n",
            "geopandas                          1.0.1\n",
            "graphviz                           0.20.3\n",
            "ipyevents                          2.0.2\n",
            "ipyfilechooser                     0.6.0\n",
            "ipykernel                          5.5.6\n",
            "ipyleaflet                         0.19.2\n",
            "ipyparallel                        8.8.0\n",
            "ipython                            7.34.0\n",
            "ipython-genutils                   0.2.0\n",
            "ipython-sql                        0.5.0\n",
            "ipytree                            0.2.2\n",
            "ipywidgets                         7.7.1\n",
            "matplotlib                         3.8.0\n",
            "matplotlib-inline                  0.1.7\n",
            "matplotlib-venn                    1.1.1\n",
            "nbformat                           5.10.4\n",
            "numpy                              1.26.4\n",
            "pandas                             2.2.2\n",
            "pandas-datareader                  0.10.0\n",
            "pandas-gbq                         0.24.0\n",
            "pandas-stubs                       2.2.2.240909\n",
            "plotly                             5.24.1\n",
            "scipy                              1.13.1\n",
            "sklearn-pandas                     2.2.0\n",
            "tabulate                           0.9.0\n",
            "timm                               1.0.12\n",
            "torch                              2.5.1+cu121\n",
            "torchaudio                         2.5.1+cu121\n",
            "torchsummary                       1.5.1\n",
            "torchvision                        0.20.1+cu121\n"
          ]
        }
      ]
    },
    {
      "cell_type": "markdown",
      "source": [
        "### Memory and disk space"
      ],
      "metadata": {
        "id": "64gGNTebZzFB"
      }
    },
    {
      "cell_type": "code",
      "source": [
        "print(\"Memory Usage:\")\n",
        "!free -h\n",
        "print(\"\")\n",
        "print(\"Disk Space:\")\n",
        "!df -h"
      ],
      "metadata": {
        "colab": {
          "base_uri": "https://localhost:8080/"
        },
        "id": "3lnA2FlMT_03",
        "outputId": "5d622335-bcf5-4ca4-9ba4-a3bd9a36468f"
      },
      "execution_count": 4,
      "outputs": [
        {
          "output_type": "stream",
          "name": "stdout",
          "text": [
            "Memory Usage:\n",
            "               total        used        free      shared  buff/cache   available\n",
            "Mem:            12Gi       860Mi       8.6Gi       1.0Mi       3.2Gi        11Gi\n",
            "Swap:             0B          0B          0B\n",
            "\n",
            "Disk Space:\n",
            "Filesystem      Size  Used Avail Use% Mounted on\n",
            "overlay         108G   33G   76G  31% /\n",
            "tmpfs            64M     0   64M   0% /dev\n",
            "shm             5.8G     0  5.8G   0% /dev/shm\n",
            "/dev/root       2.0G  1.2G  820M  59% /usr/sbin/docker-init\n",
            "tmpfs           6.4G  116K  6.4G   1% /var/colab\n",
            "/dev/sda1        50G   34G   17G  68% /etc/hosts\n",
            "tmpfs           6.4G     0  6.4G   0% /proc/acpi\n",
            "tmpfs           6.4G     0  6.4G   0% /proc/scsi\n",
            "tmpfs           6.4G     0  6.4G   0% /sys/firmware\n"
          ]
        }
      ]
    },
    {
      "cell_type": "markdown",
      "source": [
        "### Git head revision"
      ],
      "metadata": {
        "id": "XouNNGq_aJkp"
      }
    },
    {
      "cell_type": "code",
      "source": [
        "!git rev-parse HEAD"
      ],
      "metadata": {
        "colab": {
          "base_uri": "https://localhost:8080/"
        },
        "id": "c9N2PwKOWscZ",
        "outputId": "5369b0d8-5d2b-416e-d23b-da4e8a0903f5"
      },
      "execution_count": 6,
      "outputs": [
        {
          "output_type": "stream",
          "name": "stdout",
          "text": [
            "78779e076d66a0e0d31c5f94c2fcc0b55a6a754f\n"
          ]
        }
      ]
    },
    {
      "cell_type": "markdown",
      "source": [
        "## Clone or pull IDLMAV"
      ],
      "metadata": {
        "id": "I6_FqCbtae9s"
      }
    },
    {
      "cell_type": "code",
      "source": [
        "check_colab()\n",
        "if Path('idlmav').exists():\n",
        "    !git -C idlmav pull\n",
        "else:\n",
        "    !git clone --depth 1 https://github.com/d112358/idlmav.git\n",
        "\n",
        "%cd idlmav"
      ],
      "metadata": {
        "colab": {
          "base_uri": "https://localhost:8080/"
        },
        "id": "89sLWhxIaiiw",
        "outputId": "a800b898-3dd4-49f6-b2f4-94c93aaf573e"
      },
      "execution_count": 7,
      "outputs": [
        {
          "output_type": "stream",
          "name": "stdout",
          "text": [
            "Already up to date.\n",
            "/content/idlmav/idlmav\n"
          ]
        }
      ]
    },
    {
      "cell_type": "markdown",
      "source": [
        "## Install additional dependencies\n",
        "* Model tracing is based on `torch.fx`\n",
        "  - `tabulate` is required by `torch.fx.print_tabular()`\n",
        "* `torchprofile` is used for FLOPS calculations\n",
        "* `munkres` is required for the layout calculation (Hungarian method implementation)\n",
        "* `plotly` is used for rendering\n",
        "  - `nbformat` is required for important `plotly` functionality to work\n",
        "  - `pandas` is required for `plotly.express` to work"
      ],
      "metadata": {
        "id": "Lsw5iwSDg2Z-"
      }
    },
    {
      "cell_type": "code",
      "source": [
        "check_colab()\n",
        "%pip install matplotlib\n",
        "%pip install numpy\n",
        "%pip install tabulate\n",
        "%pip install torchprofile\n",
        "%pip install munkres\n",
        "%pip install plotly\n",
        "%pip install nbformat"
      ],
      "metadata": {
        "colab": {
          "base_uri": "https://localhost:8080/"
        },
        "collapsed": true,
        "id": "ZxBElubYe8lA",
        "outputId": "7b856805-2ac5-4fcb-95fd-e34c1b237f55"
      },
      "execution_count": 8,
      "outputs": [
        {
          "output_type": "stream",
          "name": "stdout",
          "text": [
            "Requirement already satisfied: matplotlib in /usr/local/lib/python3.10/dist-packages (3.8.0)\n",
            "Requirement already satisfied: contourpy>=1.0.1 in /usr/local/lib/python3.10/dist-packages (from matplotlib) (1.3.1)\n",
            "Requirement already satisfied: cycler>=0.10 in /usr/local/lib/python3.10/dist-packages (from matplotlib) (0.12.1)\n",
            "Requirement already satisfied: fonttools>=4.22.0 in /usr/local/lib/python3.10/dist-packages (from matplotlib) (4.55.1)\n",
            "Requirement already satisfied: kiwisolver>=1.0.1 in /usr/local/lib/python3.10/dist-packages (from matplotlib) (1.4.7)\n",
            "Requirement already satisfied: numpy<2,>=1.21 in /usr/local/lib/python3.10/dist-packages (from matplotlib) (1.26.4)\n",
            "Requirement already satisfied: packaging>=20.0 in /usr/local/lib/python3.10/dist-packages (from matplotlib) (24.2)\n",
            "Requirement already satisfied: pillow>=6.2.0 in /usr/local/lib/python3.10/dist-packages (from matplotlib) (11.0.0)\n",
            "Requirement already satisfied: pyparsing>=2.3.1 in /usr/local/lib/python3.10/dist-packages (from matplotlib) (3.2.0)\n",
            "Requirement already satisfied: python-dateutil>=2.7 in /usr/local/lib/python3.10/dist-packages (from matplotlib) (2.8.2)\n",
            "Requirement already satisfied: six>=1.5 in /usr/local/lib/python3.10/dist-packages (from python-dateutil>=2.7->matplotlib) (1.16.0)\n",
            "Requirement already satisfied: numpy in /usr/local/lib/python3.10/dist-packages (1.26.4)\n",
            "Requirement already satisfied: tabulate in /usr/local/lib/python3.10/dist-packages (0.9.0)\n",
            "Collecting munkres\n",
            "  Downloading munkres-1.1.4-py2.py3-none-any.whl.metadata (980 bytes)\n",
            "Downloading munkres-1.1.4-py2.py3-none-any.whl (7.0 kB)\n",
            "Installing collected packages: munkres\n",
            "Successfully installed munkres-1.1.4\n",
            "Requirement already satisfied: plotly in /usr/local/lib/python3.10/dist-packages (5.24.1)\n",
            "Requirement already satisfied: tenacity>=6.2.0 in /usr/local/lib/python3.10/dist-packages (from plotly) (9.0.0)\n",
            "Requirement already satisfied: packaging in /usr/local/lib/python3.10/dist-packages (from plotly) (24.2)\n",
            "Requirement already satisfied: nbformat in /usr/local/lib/python3.10/dist-packages (5.10.4)\n",
            "Requirement already satisfied: fastjsonschema>=2.15 in /usr/local/lib/python3.10/dist-packages (from nbformat) (2.21.1)\n",
            "Requirement already satisfied: jsonschema>=2.6 in /usr/local/lib/python3.10/dist-packages (from nbformat) (4.23.0)\n",
            "Requirement already satisfied: jupyter-core!=5.0.*,>=4.12 in /usr/local/lib/python3.10/dist-packages (from nbformat) (5.7.2)\n",
            "Requirement already satisfied: traitlets>=5.1 in /usr/local/lib/python3.10/dist-packages (from nbformat) (5.7.1)\n",
            "Requirement already satisfied: attrs>=22.2.0 in /usr/local/lib/python3.10/dist-packages (from jsonschema>=2.6->nbformat) (24.2.0)\n",
            "Requirement already satisfied: jsonschema-specifications>=2023.03.6 in /usr/local/lib/python3.10/dist-packages (from jsonschema>=2.6->nbformat) (2024.10.1)\n",
            "Requirement already satisfied: referencing>=0.28.4 in /usr/local/lib/python3.10/dist-packages (from jsonschema>=2.6->nbformat) (0.35.1)\n",
            "Requirement already satisfied: rpds-py>=0.7.1 in /usr/local/lib/python3.10/dist-packages (from jsonschema>=2.6->nbformat) (0.22.3)\n",
            "Requirement already satisfied: platformdirs>=2.5 in /usr/local/lib/python3.10/dist-packages (from jupyter-core!=5.0.*,>=4.12->nbformat) (4.3.6)\n"
          ]
        }
      ]
    },
    {
      "cell_type": "markdown",
      "source": [
        "Testing and verification\n",
        "* `timm` and `fastcore` are required for some models with which this library is tested\n",
        "* `torchview` and `torchinfo` are used to verify the correctness of the model tracing algoritm\n",
        "  - `graphviz` is required by `torchview`\n",
        "* `colorspacious` was used to convert RGB colors to CIELAB to select the colors to used for nodes"
      ],
      "metadata": {
        "id": "nG1WtQ1HhYIm"
      }
    },
    {
      "cell_type": "code",
      "source": [
        "check_colab()\n",
        "%pip install timm\n",
        "%pip install fastcore\n",
        "%pip install torchview\n",
        "%pip install torchinfo\n",
        "%pip install graphviz\n",
        "%pip install colorspacious"
      ],
      "metadata": {
        "colab": {
          "base_uri": "https://localhost:8080/"
        },
        "collapsed": true,
        "id": "VMijxdFUhUZy",
        "outputId": "5c349896-2a9d-45f5-e414-73f9ef297dbb"
      },
      "execution_count": 9,
      "outputs": [
        {
          "output_type": "stream",
          "name": "stdout",
          "text": [
            "Requirement already satisfied: timm in /usr/local/lib/python3.10/dist-packages (1.0.12)\n",
            "Requirement already satisfied: torch in /usr/local/lib/python3.10/dist-packages (from timm) (2.5.1+cu121)\n",
            "Requirement already satisfied: torchvision in /usr/local/lib/python3.10/dist-packages (from timm) (0.20.1+cu121)\n",
            "Requirement already satisfied: pyyaml in /usr/local/lib/python3.10/dist-packages (from timm) (6.0.2)\n",
            "Requirement already satisfied: huggingface_hub in /usr/local/lib/python3.10/dist-packages (from timm) (0.26.3)\n",
            "Requirement already satisfied: safetensors in /usr/local/lib/python3.10/dist-packages (from timm) (0.4.5)\n",
            "Requirement already satisfied: filelock in /usr/local/lib/python3.10/dist-packages (from huggingface_hub->timm) (3.16.1)\n",
            "Requirement already satisfied: fsspec>=2023.5.0 in /usr/local/lib/python3.10/dist-packages (from huggingface_hub->timm) (2024.10.0)\n",
            "Requirement already satisfied: packaging>=20.9 in /usr/local/lib/python3.10/dist-packages (from huggingface_hub->timm) (24.2)\n",
            "Requirement already satisfied: requests in /usr/local/lib/python3.10/dist-packages (from huggingface_hub->timm) (2.32.3)\n",
            "Requirement already satisfied: tqdm>=4.42.1 in /usr/local/lib/python3.10/dist-packages (from huggingface_hub->timm) (4.66.6)\n",
            "Requirement already satisfied: typing-extensions>=3.7.4.3 in /usr/local/lib/python3.10/dist-packages (from huggingface_hub->timm) (4.12.2)\n",
            "Requirement already satisfied: networkx in /usr/local/lib/python3.10/dist-packages (from torch->timm) (3.4.2)\n",
            "Requirement already satisfied: jinja2 in /usr/local/lib/python3.10/dist-packages (from torch->timm) (3.1.4)\n",
            "Requirement already satisfied: sympy==1.13.1 in /usr/local/lib/python3.10/dist-packages (from torch->timm) (1.13.1)\n",
            "Requirement already satisfied: mpmath<1.4,>=1.1.0 in /usr/local/lib/python3.10/dist-packages (from sympy==1.13.1->torch->timm) (1.3.0)\n",
            "Requirement already satisfied: numpy in /usr/local/lib/python3.10/dist-packages (from torchvision->timm) (1.26.4)\n",
            "Requirement already satisfied: pillow!=8.3.*,>=5.3.0 in /usr/local/lib/python3.10/dist-packages (from torchvision->timm) (11.0.0)\n",
            "Requirement already satisfied: MarkupSafe>=2.0 in /usr/local/lib/python3.10/dist-packages (from jinja2->torch->timm) (3.0.2)\n",
            "Requirement already satisfied: charset-normalizer<4,>=2 in /usr/local/lib/python3.10/dist-packages (from requests->huggingface_hub->timm) (3.4.0)\n",
            "Requirement already satisfied: idna<4,>=2.5 in /usr/local/lib/python3.10/dist-packages (from requests->huggingface_hub->timm) (3.10)\n",
            "Requirement already satisfied: urllib3<3,>=1.21.1 in /usr/local/lib/python3.10/dist-packages (from requests->huggingface_hub->timm) (2.2.3)\n",
            "Requirement already satisfied: certifi>=2017.4.17 in /usr/local/lib/python3.10/dist-packages (from requests->huggingface_hub->timm) (2024.8.30)\n",
            "Requirement already satisfied: fastcore in /usr/local/lib/python3.10/dist-packages (1.7.22)\n",
            "Requirement already satisfied: packaging in /usr/local/lib/python3.10/dist-packages (from fastcore) (24.2)\n",
            "Collecting torchview\n",
            "  Downloading torchview-0.2.6-py3-none-any.whl.metadata (12 kB)\n",
            "Downloading torchview-0.2.6-py3-none-any.whl (25 kB)\n",
            "Installing collected packages: torchview\n",
            "Successfully installed torchview-0.2.6\n",
            "Collecting torchinfo\n",
            "  Downloading torchinfo-1.8.0-py3-none-any.whl.metadata (21 kB)\n",
            "Downloading torchinfo-1.8.0-py3-none-any.whl (23 kB)\n",
            "Installing collected packages: torchinfo\n",
            "Successfully installed torchinfo-1.8.0\n",
            "Requirement already satisfied: graphviz in /usr/local/lib/python3.10/dist-packages (0.20.3)\n",
            "Collecting torchprofile\n",
            "  Downloading torchprofile-0.0.4-py3-none-any.whl.metadata (303 bytes)\n",
            "Requirement already satisfied: numpy>=1.14 in /usr/local/lib/python3.10/dist-packages (from torchprofile) (1.26.4)\n",
            "Requirement already satisfied: torch>=1.4 in /usr/local/lib/python3.10/dist-packages (from torchprofile) (2.5.1+cu121)\n",
            "Requirement already satisfied: torchvision>=0.4 in /usr/local/lib/python3.10/dist-packages (from torchprofile) (0.20.1+cu121)\n",
            "Requirement already satisfied: filelock in /usr/local/lib/python3.10/dist-packages (from torch>=1.4->torchprofile) (3.16.1)\n",
            "Requirement already satisfied: typing-extensions>=4.8.0 in /usr/local/lib/python3.10/dist-packages (from torch>=1.4->torchprofile) (4.12.2)\n",
            "Requirement already satisfied: networkx in /usr/local/lib/python3.10/dist-packages (from torch>=1.4->torchprofile) (3.4.2)\n",
            "Requirement already satisfied: jinja2 in /usr/local/lib/python3.10/dist-packages (from torch>=1.4->torchprofile) (3.1.4)\n",
            "Requirement already satisfied: fsspec in /usr/local/lib/python3.10/dist-packages (from torch>=1.4->torchprofile) (2024.10.0)\n",
            "Requirement already satisfied: sympy==1.13.1 in /usr/local/lib/python3.10/dist-packages (from torch>=1.4->torchprofile) (1.13.1)\n",
            "Requirement already satisfied: mpmath<1.4,>=1.1.0 in /usr/local/lib/python3.10/dist-packages (from sympy==1.13.1->torch>=1.4->torchprofile) (1.3.0)\n",
            "Requirement already satisfied: pillow!=8.3.*,>=5.3.0 in /usr/local/lib/python3.10/dist-packages (from torchvision>=0.4->torchprofile) (11.0.0)\n",
            "Requirement already satisfied: MarkupSafe>=2.0 in /usr/local/lib/python3.10/dist-packages (from jinja2->torch>=1.4->torchprofile) (3.0.2)\n",
            "Downloading torchprofile-0.0.4-py3-none-any.whl (7.7 kB)\n",
            "Installing collected packages: torchprofile\n",
            "Successfully installed torchprofile-0.0.4\n",
            "Collecting colorspacious\n",
            "  Downloading colorspacious-1.1.2-py2.py3-none-any.whl.metadata (3.6 kB)\n",
            "Requirement already satisfied: numpy in /usr/local/lib/python3.10/dist-packages (from colorspacious) (1.26.4)\n",
            "Downloading colorspacious-1.1.2-py2.py3-none-any.whl (37 kB)\n",
            "Installing collected packages: colorspacious\n",
            "Successfully installed colorspacious-1.1.2\n"
          ]
        }
      ]
    },
    {
      "cell_type": "markdown",
      "source": [
        "## Run library notebooks\n",
        "This can certainly be improved. I'm hesitant to bloat the first part of every notebook with setup code for different environments and I also still need to find the best way to separate the setup and execution scripts on Colab. For now this entails a bit of manual effort\n",
        "\n",
        "### Steps\n",
        "* Open the notebook from the links below\n",
        "* Paste the following code above the first cell\n",
        "  ```python\n",
        "  !git clone --depth 1 https://github.com/d112358/idlmav.git\n",
        "  %pip install torchprofile\n",
        "  %pip install munkres\n",
        "  %pip install torchview\n",
        "  %pip install torchinfo\n",
        "  %pip install colorspacious\n",
        "  %cd idlmav\n",
        "  ```\n",
        "* Run the notebook normally\n",
        "\n",
        "### Links\n",
        "* [00_overview.ipynb](nbs/00_overview.ipynb)\n",
        "* [01_explore_layout.ipynb](nbs/01_explore_layout.ipynb)\n",
        "* [02_test_layout.ipynb](nbs/02_test_layout.ipynb)\n",
        "* [03_explore_rendering.ipynb](nbs/03_explore_rendering.ipynb)\n",
        "* [04_explore_plotly_interaction.ipynb](nbs/04_explore_plotly_interaction.ipynb)\n",
        "* [05_explore_js_interaction.ipynb](nbs/05_explore_js_interaction.ipynb)\n",
        "* [06_test_rendering.ipynb](nbs/06_test_rendering.ipynb)\n",
        "* [07_explore_tracing.ipynb](nbs/07_explore_tracing.ipynb)\n",
        "* [08_fx_profiling_tutorial.ipynb](nbs/08_fx_profiling_tutorial.ipynb)\n",
        "* [09_explore_fx_interpreter.ipynb](nbs/09_explore_fx_interpreter.ipynb)\n",
        "* [10_test_tracing.ipynb](nbs/10_test_tracing.ipynb)\n",
        "* [11_explore_colors.ipynb](nbs/11_explore_colors.ipynb)\n",
        "* [12_test_idlmav.ipynb](nbs/12_test_idlmav.ipynb)"
      ],
      "metadata": {
        "id": "ucMd1bKskpCS"
      }
    }
  ]
}