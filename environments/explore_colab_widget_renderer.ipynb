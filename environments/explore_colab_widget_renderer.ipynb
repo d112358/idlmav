{
 "cells": [
  {
   "cell_type": "markdown",
   "metadata": {
    "colab_type": "text",
    "id": "view-in-github"
   },
   "source": [
    "<a href=\"https://colab.research.google.com/github/d112358/idlmav/blob/main/environments/explore_colab_widget_renderer.ipynb\" target=\"_parent\"><img src=\"https://colab.research.google.com/assets/colab-badge.svg\" alt=\"Open In Colab\"/></a>"
   ]
  },
  {
   "cell_type": "markdown",
   "metadata": {
    "id": "ldznOYAt7D2m"
   },
   "source": [
    "## Imports and setup"
   ]
  },
  {
   "cell_type": "code",
   "execution_count": null,
   "metadata": {
    "collapsed": true,
    "id": "BY6QGm8Q5QrU"
   },
   "outputs": [],
   "source": [
    "%pip install git+https://github.com/d112358/idlmav.git\n",
    "\n",
    "import torch, torchvision\n",
    "from idlmav import MAV, plotly_renderer\n",
    "from IPython.display import display\n",
    "\n",
    "from google.colab import output\n",
    "output.enable_custom_widget_manager()"
   ]
  },
  {
   "cell_type": "code",
   "execution_count": 2,
   "metadata": {
    "id": "uFZijAJj6xEj"
   },
   "outputs": [],
   "source": [
    "device = 'cpu'\n",
    "model = torchvision.models.resnet18().to(device)\n",
    "x = torch.randn(16,3,160,160).to(device)\n",
    "mav = MAV(model, x, device=device)"
   ]
  },
  {
   "cell_type": "markdown",
   "metadata": {
    "id": "y5flQNCB7I10"
   },
   "source": [
    "## Issue: blank plotly graph subplots\n",
    "* Initially, the table and slider displayed correctly, but the plotly graphs were just blank\n",
    "* After some experimentation with the rendering fuction, it was found that if the number of connection lines were reduced to around 20 (the exact number varied run by run), everything would display correctly\n",
    "* Eventually, this was resolved by using a single `go.Scatter` trace object for all the connection lines, using `None` values where we need discontinuities. This reduced the number of graphics objects, which were probably just too many to handle."
   ]
  },
  {
   "cell_type": "markdown",
   "metadata": {
    "id": "CAilJSZp7LGF"
   },
   "source": [
    "### High-level call via MAV object"
   ]
  },
  {
   "cell_type": "code",
   "execution_count": null,
   "metadata": {
    "id": "8-Cs6NO0CnjR"
   },
   "outputs": [],
   "source": [
    "from idlmav import WidgetRenderer\n",
    "WidgetRenderer(mav.tracer.g)"
   ]
  },
  {
   "cell_type": "code",
   "execution_count": null,
   "metadata": {
    "id": "WMb53CEl6xy_"
   },
   "outputs": [],
   "source": [
    "container1 = mav.render_widget(add_slider=False, add_overview=True, add_table=True)\n",
    "display(container1)"
   ]
  },
  {
   "cell_type": "markdown",
   "metadata": {
    "id": "brLgyCzQ7Rpl"
   },
   "source": [
    "### Via intermediate object"
   ]
  },
  {
   "cell_type": "code",
   "execution_count": null,
   "metadata": {
    "id": "ZQTSPWgK7hNs"
   },
   "outputs": [],
   "source": [
    "from idlmav import WidgetRenderer\n",
    "viewer = WidgetRenderer(mav.tracer.g)\n",
    "container2 = viewer.render(add_slider=False, add_overview=True, add_table=True)\n",
    "display(container2)"
   ]
  },
  {
   "cell_type": "markdown",
   "metadata": {
    "id": "O6g3rNey82N_"
   },
   "source": [
    "### Using copied contents of rendering method\n",
    "* Used built-in refactoring to replace `self` with `viewer`\n",
    "* Other methods of `WidgetRenderer` referenced from here are resolved in the imported library"
   ]
  },
  {
   "cell_type": "code",
   "execution_count": null,
   "metadata": {
    "colab": {
     "base_uri": "https://localhost:8080/",
     "height": 417,
     "referenced_widgets": [
      "a9c53591417849bca7383fc26763a7bd",
      "c8e0f4d9696b4369b4adf1cb59d01347",
      "56a89ad83fff47e8891fedd56f51bf3c",
      "9573cb4362d14a5e9d5bb04c14bb165d",
      "39f280e8bbab422b8d1a1d5d4a3caf62",
      "02c6f3009989482289670ae7dd23c662",
      "9af835ce905f45e191d2ed56d4a67c3b",
      "854a100054fc46d9b1f80d372d97fb6c",
      "f6c8737b66914021ba10cef783910f36",
      "59dc26a450424a5f86e01d143e238a60",
      "a41627a03b914a55ad92499c16064e39",
      "3281f202e16245219dc4ffc0b52d03d6"
     ]
    },
    "id": "Pd-mqTbe9DFl",
    "outputId": "7e6ba408-551f-4c1e-994a-44a14597786c"
   },
   "outputs": [
    {
     "data": {
      "application/vnd.jupyter.widget-view+json": {
       "model_id": "a9c53591417849bca7383fc26763a7bd",
       "version_major": 2,
       "version_minor": 0
      },
      "text/plain": [
       "HBox(children=(Box(children=(FigureWidget({\n",
       "    'data': [{'line': {'color': 'gray', 'width': 1},\n",
       "             …"
      ]
     },
     "metadata": {
      "application/vnd.jupyter.widget-view+json": {
       "colab": {
        "custom_widget_manager": {
         "url": "https://ssl.gstatic.com/colaboratory-static/widgets/colab-cdn-widget-manager/2b70e893a8ba7c0f/manager.min.js"
        }
       }
      }
     },
     "output_type": "display_data"
    }
   ],
   "source": [
    "# Additional imports\n",
    "import time\n",
    "import ipywidgets as widgets\n",
    "import plotly.graph_objects as go\n",
    "from IPython.display import display, HTML, Javascript\n",
    "\n",
    "# Arguments passed to method\n",
    "add_table:bool=True\n",
    "add_slider:bool=False\n",
    "add_overview:bool=True\n",
    "num_levels_displayed:float=10\n",
    "height_px=400\n",
    "\n",
    "# Create viewer\n",
    "viewer = WidgetRenderer(mav.tracer.g)\n",
    "\n",
    "# Setup parameters\n",
    "g = viewer.g\n",
    "initial_y_range = viewer.fit_range([viewer.in_level+num_levels_displayed-0.5, viewer.in_level-0.5], viewer.full_y_range)\n",
    "initial_x_range = viewer.full_x_range\n",
    "\n",
    "# Create a new unique ID every time this is called\n",
    "viewer.unique_id = f'{id(viewer)}_{int(time.time() * 1000)}'\n",
    "\n",
    "# Create the main panel\n",
    "main_panel_layout = widgets.Layout(flex = '0 1 auto', margin='0px', padding='0px', overflow='hidden')\n",
    "main_fig_layout = go.Layout(\n",
    "    width=max((viewer.graph_num_cols*100, 180)), height=height_px,\n",
    "    plot_bgcolor='#e5ecf6',\n",
    "    autosize=True,\n",
    "    xaxis=dict(range=initial_x_range, showgrid=False, zeroline=False, visible=False),\n",
    "    yaxis=dict(range=initial_y_range, showgrid=False, zeroline=False, visible=False),\n",
    "    margin=dict(l=0, r=2, t=1, b=1),\n",
    "    showlegend=False,\n",
    "    title=dict(text=None)\n",
    ")\n",
    "viewer.main_fig = go.FigureWidget(layout=main_fig_layout)\n",
    "viewer.main_panel = widgets.Box(children=[viewer.main_fig], layout=main_panel_layout)\n",
    "panels = [viewer.main_panel]\n",
    "\n",
    "# Add a selection marker (behind notes for hover purposes)\n",
    "node = g.nodes[0]\n",
    "sel_marker = go.Scatter(\n",
    "    x=[node.x], y=[node.y],\n",
    "    mode='markers',\n",
    "    marker=dict(\n",
    "        size=[viewer.params_to_dot_size(node.params)],\n",
    "        color='rgba(0,0,0,0.1)',\n",
    "        line=dict(color='black', width=3)\n",
    "    ),\n",
    "    hovertemplate='<extra></extra>', showlegend=False\n",
    ")\n",
    "viewer.main_fig.add_trace(sel_marker)\n",
    "viewer.sel_marker_idx = len(viewer.main_fig.data)-1\n",
    "\n",
    "# Add connections lines between the nodes\n",
    "# * Use a single trace with `None` values separating different lines\n",
    "# * Using a separate trace for every line cause a blank display\n",
    "#   on Colab\n",
    "# * Separate traces may also negatively impact responsiveness, e.g.\n",
    "#   to pan & zoom actions\n",
    "x_coords, y_coords = [],[]\n",
    "for c in g.connections:\n",
    "    xs, ys = viewer.get_connection_coords(c)\n",
    "    if x_coords: x_coords.append(None)\n",
    "    if y_coords: y_coords.append(None)\n",
    "    x_coords += xs\n",
    "    y_coords += ys\n",
    "\n",
    "line_trace = go.Scatter(\n",
    "    x=x_coords, y=y_coords, mode=\"lines\",\n",
    "    line=dict(color=\"gray\", width=1),\n",
    "    showlegend=False\n",
    ")\n",
    "viewer.main_fig.add_trace(line_trace)\n",
    "\n",
    "# Add the node markers\n",
    "node_trace = go.Scatter(\n",
    "    x=[n.x for n in g.nodes],\n",
    "    y=[n.y for n in g.nodes],\n",
    "    mode='markers',\n",
    "    marker=dict(\n",
    "        size=[viewer.params_to_dot_size(n.params) for n in g.nodes],\n",
    "        color=[viewer.get_node_color(n) for n in g.nodes],\n",
    "        colorscale='Bluered'\n",
    "    ),\n",
    "    hovertemplate=(\n",
    "        'Name: %{customdata[0]}<br>' +\n",
    "        'Operation: %{customdata[1]}<br>' +\n",
    "        'Activations: %{customdata[2]}<br>' +\n",
    "        'Parameters: %{customdata[3]}<br>' +\n",
    "        'FLOPS: %{customdata[4]}<br>' +\n",
    "        '<extra></extra>'\n",
    "    ),\n",
    "    customdata=[viewer.node_data(n) for n in g.nodes],\n",
    "    showlegend=False\n",
    ")\n",
    "viewer.main_fig.add_trace(node_trace)\n",
    "node_trace_idx = len(viewer.main_fig.data)-1\n",
    "\n",
    "# Add table if selected\n",
    "if add_table:\n",
    "    table_panel_layout = widgets.Layout(flex='0 0 auto', margin='0px', padding='0px', overflow='visible')\n",
    "    table_style = viewer.write_table_style()\n",
    "    table_html = viewer.write_table_html(g)\n",
    "    scrolling_table_html = f'<div id=\"{viewer.html_scrolling_table_id()}\" style=\"height: {height_px}px; overflow: auto; width: fit-content\">{table_html}</div>'\n",
    "    viewer.table_widget = widgets.Output()\n",
    "    with viewer.table_widget:\n",
    "        display(HTML(table_style))\n",
    "        display(HTML(scrolling_table_html))\n",
    "    viewer.table_panel = widgets.Box(children=[viewer.table_widget], layout=table_panel_layout)\n",
    "    panels.append(viewer.table_panel)\n",
    "\n",
    "# Add overview window if selected\n",
    "overview_trace_idx = None\n",
    "if add_overview:\n",
    "    # Overview panel\n",
    "    overview_panel_layout = widgets.Layout(flex = '0 0 auto', margin='0px', padding='0px', overflow='hidden')\n",
    "    overview_fig_layout = go.Layout(\n",
    "        width=max((viewer.graph_num_cols*15, 45)),\n",
    "        height=height_px,\n",
    "        plot_bgcolor='#dfdfdf',\n",
    "        xaxis=dict(showgrid=False, zeroline=False, visible=False),\n",
    "        yaxis=dict(range=viewer.full_y_range,\n",
    "                    showgrid=False, zeroline=False, visible=False),\n",
    "        margin=dict(l=0, r=4, t=1, b=1),\n",
    "        showlegend=False,\n",
    "        title=dict(text=None),\n",
    "        hoverdistance=-1,  # Always hover over something\n",
    "    )\n",
    "    viewer.overview_fig = go.FigureWidget(layout=overview_fig_layout)\n",
    "    viewer.overview_panel = widgets.Box(children=[viewer.overview_fig], layout=overview_panel_layout)\n",
    "    panels.insert(0, viewer.overview_panel)\n",
    "\n",
    "    # Connection lines\n",
    "    viewer.overview_fig.add_trace(line_trace)\n",
    "\n",
    "    # Nodes\n",
    "    overview_nodes_trace = go.Scatter(\n",
    "        x=[n.x for n in g.nodes],\n",
    "        y=[n.y for n in g.nodes],\n",
    "        mode='markers',\n",
    "        marker=dict(\n",
    "            size=[viewer.params_to_dot_size_overview(n.params) for n in g.nodes],\n",
    "            color=[viewer.get_node_color(n) for n in g.nodes],\n",
    "            colorscale='Bluered'\n",
    "        ),\n",
    "        hovertemplate='%{customdata[0]}<extra></extra>',\n",
    "        customdata=[viewer.node_data(n) for n in g.nodes],\n",
    "        showlegend=False\n",
    "    )\n",
    "    viewer.overview_fig.add_trace(overview_nodes_trace)\n",
    "    overview_trace_idx = len(viewer.overview_fig.data)-1\n",
    "\n",
    "    # Rectangle\n",
    "    x0, y0, x1, y1 = viewer.min_x-0.5, initial_y_range[0], viewer.max_x+0.5, initial_y_range[1]\n",
    "    rect_trace = go.Scatter(\n",
    "        x=[x0, x0, x1, x1, x0],\n",
    "        y=[y0, y1, y1, y0, y0],\n",
    "        fill='toself',\n",
    "        mode='lines',\n",
    "        line=dict(color=\"#3d6399\", width=1),\n",
    "        fillcolor='rgba(112,133,161,0.25)',\n",
    "        hoveron='points',\n",
    "        hovertemplate='<extra></extra>',\n",
    "        showlegend=False\n",
    "    )\n",
    "    viewer.overview_fig.add_trace(rect_trace)\n",
    "    viewer.overview_rect_idx = len(viewer.overview_fig.data)-1\n",
    "\n",
    "# Add slider if selected\n",
    "# * Use negative values everywhere, because ipywidgets does not support\n",
    "#   inverting the direction of vertical sliders\n",
    "if add_slider:\n",
    "    slider_panel_layout = widgets.Layout(flex = '0 0 auto', margin='0px', padding='0px', overflow='visible')\n",
    "    viewer.slider_widget = widgets.FloatRangeSlider(\n",
    "        value=[-initial_y_range[0], -initial_y_range[1]], min=-viewer.full_y_range[0], max=-viewer.full_y_range[1],\n",
    "        step=0.01, description='', orientation='vertical', continuous_update=True,\n",
    "        layout=widgets.Layout(height=f'{height_px}px')\n",
    "    )\n",
    "    viewer.slider_widget.readout = False  # For some reason it does not seem to work if set during construction\n",
    "    viewer.slider_panel = widgets.Box(children=[viewer.slider_widget], layout=slider_panel_layout)\n",
    "    panels.insert(0, viewer.slider_panel)\n",
    "\n",
    "# Create container for all panels\n",
    "# * To be displayed in Notebook using `display`\n",
    "container_layout = widgets.Layout(\n",
    "    width='100%',\n",
    "    margin='0px', padding='0px')\n",
    "container2 = widgets.HBox(panels, layout=container_layout)\n",
    "\n",
    "# Set up event handlers\n",
    "viewer.main_fig.data[node_trace_idx].on_click(viewer.on_main_panel_click)\n",
    "viewer.main_fig.layout.on_change(viewer.on_main_panel_pan_zoom, 'xaxis.range', 'yaxis.range')\n",
    "if viewer.overview_fig:\n",
    "    viewer.overview_fig.data[overview_trace_idx].on_click(viewer.on_overview_panel_click)\n",
    "if viewer.slider_widget:\n",
    "    viewer.slider_widget.observe(viewer.on_slider_value_change, names=\"value\")\n",
    "\n",
    "# Restrict actions on plots\n",
    "# self.main_fig.update_layout(config=dict(displayModeBar=False))\n",
    "# [ \"autoScale2d\", \"autoscale\", \"editInChartStudio\", \"editinchartstudio\", \"hoverCompareCartesian\", \"hovercompare\", \"lasso\", \"lasso2d\", \"orbitRotation\", \"orbitrotation\", \"pan\", \"pan2d\", \"pan3d\", \"reset\", \"resetCameraDefault3d\", \"resetCameraLastSave3d\", \"resetGeo\", \"resetSankeyGroup\", \"resetScale2d\", \"resetViewMap\", \"resetViewMapbox\", \"resetViews\", \"resetcameradefault\", \"resetcameralastsave\", \"resetsankeygroup\", \"resetscale\", \"resetview\", \"resetviews\", \"select\", \"select2d\", \"sendDataToCloud\", \"senddatatocloud\", \"tableRotation\", \"tablerotation\", \"toImage\", \"toggleHover\", \"toggleSpikelines\", \"togglehover\", \"togglespikelines\", \"toimage\", \"zoom\", \"zoom2d\", \"zoom3d\", \"zoomIn2d\", \"zoomInGeo\", \"zoomInMap\", \"zoomInMapbox\", \"zoomOut2d\", \"zoomOutGeo\", \"zoomOutMap\", \"zoomOutMapbox\", \"zoomin\", \"zoomout\"]\n",
    "viewer.main_fig.update_layout(modebar_remove=[\"toimage\", \"resetscale\", \"select\", \"lasso\", \"reset\"])\n",
    "viewer.main_fig.layout.dragmode = 'zoom'\n",
    "if viewer.overview_fig:\n",
    "    viewer.overview_fig.update_layout(modebar_remove=[\"toimage\", \"autoscale\", \"select\", \"lasso\", \"pan\", \"reset\", \"resetscale\", \"zoom\", \"zoomin\", \"zoomout\"])\n",
    "    viewer.overview_fig.layout.dragmode = False\n",
    "\n",
    "# Display the container\n",
    "display(container2)"
   ]
  },
  {
   "cell_type": "markdown",
   "metadata": {
    "id": "C_Gk8rQmELzU"
   },
   "source": [
    "## Issue: blank plotly graph subplots when using high-level interface\n",
    "* After fixing the previous issue, the graphs were rendered correctly when generating them from directly from `WidgetRenderer`, but not from the high-level `MAV` object\n",
    "  - What's more: once rendered successfully via `WidgetRenderer`, the graphs were now rendered correctly from any class until the kernel is restarted\n",
    "* To investigate this, we rewrite the MAV class here under a different name\n",
    "* The issue appeared to be the fact that the `WidgetRenderer` object goes out of scope from `MAV.render_widget`. Assigning this object to a property like `self.viewer` seemed to fix this.\n",
    "  - One possible explanation may be that `WidgetRenderer` stores references to the `go.FigureWidget` objects it uses and that something may attempt a clean-up action when these references go out of scope\n",
    "  - It was later discovered that this fix only works if the creation of the `MAV` object (and specifically the tracer inside it) and the rendering takes place in different notebook cells. This remains to be fully understood.\n",
    "* For now, it will be recommended to call the 5 steps directly when widgets are desired on Colab."
   ]
  },
  {
   "cell_type": "markdown",
   "metadata": {
    "id": "tKku4qRMFqtZ"
   },
   "source": [
    "Since debugging this requires frequent kernel restarts, we copy the first cell here to improve the workflow"
   ]
  },
  {
   "cell_type": "code",
   "execution_count": null,
   "metadata": {
    "id": "LrgrhNe8FpFt"
   },
   "outputs": [],
   "source": [
    "%pip install git+https://github.com/d112358/idlmav.git\n",
    "\n",
    "import torch, torchvision\n",
    "from IPython.display import display\n",
    "\n",
    "from google.colab import output\n",
    "output.enable_custom_widget_manager()"
   ]
  },
  {
   "cell_type": "code",
   "execution_count": null,
   "metadata": {
    "id": "mMIy1B9UE7xQ"
   },
   "outputs": [],
   "source": [
    "from typing import Tuple, List, Dict, Set, Union, overload\n",
    "from torch import nn, Tensor\n",
    "import plotly.graph_objects as go\n",
    "import ipywidgets as widgets\n",
    "from idlmav.tracing import MavTracer\n",
    "from idlmav.merging import merge_graph_nodes\n",
    "from idlmav.coloring import color_graph_nodes\n",
    "from idlmav.layout import layout_graph_nodes\n",
    "from idlmav.renderers.widget_renderer import WidgetRenderer\n"
   ]
  },
  {
   "cell_type": "code",
   "execution_count": null,
   "metadata": {
    "id": "ff1N3uolIAbR"
   },
   "outputs": [],
   "source": [
    "class MAV1:\n",
    "    def __init__(self, model:nn.Module, inputs:Union[Tensor, Tuple[Tensor]], device=None,\n",
    "                 merge_threshold=0.01,\n",
    "                 palette:Union[str, List[str]]='large',\n",
    "                 avoid_palette_idxs:Set[int]=set([]),\n",
    "                 fixed_color_map:Dict[str,int]={}):\n",
    "        self.tracer = MavTracer(model, inputs, device=device)\n",
    "        merge_graph_nodes(self.tracer.g,\n",
    "                          cumul_param_threshold=merge_threshold)\n",
    "        color_graph_nodes(self.tracer.g,\n",
    "                          palette=palette,\n",
    "                          avoid_palette_idxs=avoid_palette_idxs,\n",
    "                          fixed_color_map=fixed_color_map)\n",
    "        layout_graph_nodes(self.tracer.g)\n",
    "\n",
    "    def render_widget(self,\n",
    "                      add_table:bool=True,\n",
    "                      add_slider:bool=True,\n",
    "                      add_overview:bool=False,\n",
    "                      num_levels_displayed:float=10,\n",
    "                      height_px=400\n",
    "                      ):\n",
    "        self.viewer = WidgetRenderer(self.tracer.g)\n",
    "        return self.viewer.render(add_table=add_table, add_slider=add_slider, add_overview=add_overview, num_levels_displayed=num_levels_displayed, height_px=height_px)"
   ]
  },
  {
   "cell_type": "code",
   "execution_count": 21,
   "metadata": {
    "id": "4vUYSHmgF_lG"
   },
   "outputs": [],
   "source": [
    "device = 'cpu'\n",
    "model = torchvision.models.resnet18().to(device)\n",
    "x = torch.randn(16,3,160,160).to(device)\n",
    "mav = MAV1(model, x, device=device)"
   ]
  },
  {
   "cell_type": "code",
   "execution_count": null,
   "metadata": {
    "colab": {
     "base_uri": "https://localhost:8080/",
     "height": 417,
     "referenced_widgets": [
      "81182016e1e840b3b5f4a7b9eba3b455",
      "3be8fb7adda84b168371392260c33188",
      "e1e649b96b7c41b79b486674bba7c666",
      "f39ecaf94aa647198a3fff6c3752d52c",
      "f5d17aac39be48588238c4cc640b56b5",
      "da228563b6d047f59e07f578b98e4d9d",
      "6d9c83c2fbe8400a87bb4716220cf93c",
      "01bc45456eda40a49ca58614b9e51088",
      "0c0e0dee4b3546b5a291458c96fdc971",
      "0d21ab2b36994ebab1b68594aa0a495a",
      "b4ce1adff94d415483cc70533ef69b39",
      "2b3ffd0c7cb74484a7e9486f390c3548"
     ]
    },
    "id": "zuKD83DEF6uV",
    "outputId": "54aec3c3-9bc0-4ba6-f44c-3c982e87625a"
   },
   "outputs": [
    {
     "data": {
      "application/vnd.jupyter.widget-view+json": {
       "model_id": "81182016e1e840b3b5f4a7b9eba3b455",
       "version_major": 2,
       "version_minor": 0
      },
      "text/plain": [
       "HBox(children=(Box(children=(FigureWidget({\n",
       "    'data': [{'line': {'color': 'gray', 'width': 1},\n",
       "             …"
      ]
     },
     "metadata": {
      "application/vnd.jupyter.widget-view+json": {
       "colab": {
        "custom_widget_manager": {
         "url": "https://ssl.gstatic.com/colaboratory-static/widgets/colab-cdn-widget-manager/2b70e893a8ba7c0f/manager.min.js"
        }
       }
      }
     },
     "output_type": "display_data"
    }
   ],
   "source": [
    "container1 = mav.render_widget(add_slider=False, add_overview=True, add_table=True)\n",
    "display(container1)"
   ]
  },
  {
   "cell_type": "code",
   "execution_count": null,
   "metadata": {
    "id": "zcnwBFuYIeeY"
   },
   "outputs": [],
   "source": []
  }
 ],
 "metadata": {
  "colab": {
   "authorship_tag": "ABX9TyNu6urXjuZKZc7/gYdLWyII",
   "include_colab_link": true,
   "provenance": []
  },
  "kernelspec": {
   "display_name": "Python 3",
   "name": "python3"
  },
  "language_info": {
   "name": "python"
  },
  "widgets": {
   "application/vnd.jupyter.widget-state+json": {
    "01bc45456eda40a49ca58614b9e51088": {
     "model_module": "jupyterlab-plotly",
     "model_module_version": "^5.24.1",
     "model_name": "FigureModel",
     "state": {
      "_config": {
       "plotlyServerURL": "https://plot.ly"
      },
      "_data": [],
      "_dom_classes": [],
      "_js2py_layoutDelta": null,
      "_js2py_pointsCallback": {},
      "_js2py_relayout": {},
      "_js2py_restyle": {},
      "_js2py_traceDeltas": null,
      "_js2py_update": {},
      "_last_layout_edit_id": 5,
      "_last_trace_edit_id": 4,
      "_layout": {
       "autosize": true,
       "height": 400,
       "margin": {
        "b": 1,
        "l": 0,
        "r": 2,
        "t": 1
       },
       "plot_bgcolor": "#e5ecf6",
       "showlegend": false,
       "width": 200,
       "xaxis": {
        "range": [
         -0.5,
         1.5
        ],
        "showgrid": false,
        "visible": false,
        "zeroline": false
       },
       "yaxis": {
        "range": [
         9.5,
         -0.5
        ],
        "showgrid": false,
        "visible": false,
        "zeroline": false
       }
      },
      "_model_module": "jupyterlab-plotly",
      "_model_module_version": "^5.24.1",
      "_model_name": "FigureModel",
      "_py2js_addTraces": null,
      "_py2js_animate": {},
      "_py2js_deleteTraces": {},
      "_py2js_moveTraces": {},
      "_py2js_relayout": null,
      "_py2js_removeLayoutProps": {},
      "_py2js_removeTraceProps": {},
      "_py2js_restyle": {},
      "_py2js_update": null,
      "_view_count": 1,
      "_view_module": "jupyterlab-plotly",
      "_view_module_version": "^5.24.1",
      "_view_name": "FigureView"
     }
    },
    "02c6f3009989482289670ae7dd23c662": {
     "model_module": "jupyterlab-plotly",
     "model_module_version": "^5.24.1",
     "model_name": "FigureModel",
     "state": {
      "_config": {
       "plotlyServerURL": "https://plot.ly"
      },
      "_data": [],
      "_dom_classes": [],
      "_js2py_layoutDelta": {
       "layout_delta": {
        "activeselection": {
         "fillcolor": "rgba(0,0,0,0)",
         "opacity": 0.5
        },
        "activeshape": {
         "fillcolor": "rgb(255,0,255)",
         "opacity": 0.5
        },
        "annotations": [],
        "autosize": false,
        "autotypenumbers": "strict",
        "calendar": "gregorian",
        "clickmode": "event",
        "colorscale": {
         "diverging": [
          [
           0,
           "#8e0152"
          ],
          [
           0.1,
           "#c51b7d"
          ],
          [
           0.2,
           "#de77ae"
          ],
          [
           0.3,
           "#f1b6da"
          ],
          [
           0.4,
           "#fde0ef"
          ],
          [
           0.5,
           "#f7f7f7"
          ],
          [
           0.6,
           "#e6f5d0"
          ],
          [
           0.7,
           "#b8e186"
          ],
          [
           0.8,
           "#7fbc41"
          ],
          [
           0.9,
           "#4d9221"
          ],
          [
           1,
           "#276419"
          ]
         ],
         "sequential": [
          [
           0,
           "#0d0887"
          ],
          [
           0.1111111111111111,
           "#46039f"
          ],
          [
           0.2222222222222222,
           "#7201a8"
          ],
          [
           0.3333333333333333,
           "#9c179e"
          ],
          [
           0.4444444444444444,
           "#bd3786"
          ],
          [
           0.5555555555555556,
           "#d8576b"
          ],
          [
           0.6666666666666666,
           "#ed7953"
          ],
          [
           0.7777777777777778,
           "#fb9f3a"
          ],
          [
           0.8888888888888888,
           "#fdca26"
          ],
          [
           1,
           "#f0f921"
          ]
         ],
         "sequentialminus": [
          [
           0,
           "#0d0887"
          ],
          [
           0.1111111111111111,
           "#46039f"
          ],
          [
           0.2222222222222222,
           "#7201a8"
          ],
          [
           0.3333333333333333,
           "#9c179e"
          ],
          [
           0.4444444444444444,
           "#bd3786"
          ],
          [
           0.5555555555555556,
           "#d8576b"
          ],
          [
           0.6666666666666666,
           "#ed7953"
          ],
          [
           0.7777777777777778,
           "#fb9f3a"
          ],
          [
           0.8888888888888888,
           "#fdca26"
          ],
          [
           1,
           "#f0f921"
          ]
         ]
        },
        "colorway": [
         "#636efa",
         "#EF553B",
         "#00cc96",
         "#ab63fa",
         "#FFA15A",
         "#19d3f3",
         "#FF6692",
         "#B6E880",
         "#FF97FF",
         "#FECB52"
        ],
        "font": {
         "color": "#2a3f5f",
         "family": "\"Open Sans\", verdana, arial, sans-serif",
         "lineposition": "none",
         "shadow": "none",
         "size": 12,
         "style": "normal",
         "textcase": "normal",
         "variant": "normal",
         "weight": "normal"
        },
        "hidesources": false,
        "hoverlabel": {
         "align": "left",
         "font": {
          "family": "Arial, sans-serif",
          "lineposition": "none",
          "shadow": "none",
          "size": 13,
          "style": "normal",
          "textcase": "normal",
          "variant": "normal",
          "weight": "normal"
         },
         "grouptitlefont": {
          "family": "Arial, sans-serif",
          "lineposition": "none",
          "shadow": "none",
          "size": 13,
          "style": "normal",
          "textcase": "normal",
          "variant": "normal",
          "weight": "normal"
         },
         "namelength": 15
        },
        "hovermode": "closest",
        "hoversubplots": "overlaying",
        "images": [],
        "margin": {
         "autoexpand": true,
         "pad": 0
        },
        "minreducedheight": 64,
        "minreducedwidth": 64,
        "modebar": {
         "activecolor": "rgba(68, 68, 68, 0.7)",
         "add": "",
         "bgcolor": "rgba(255, 255, 255, 0.5)",
         "color": "rgba(68, 68, 68, 0.3)",
         "orientation": "h"
        },
        "newselection": {
         "line": {
          "dash": "dot",
          "width": 1
         },
         "mode": "immediate"
        },
        "newshape": {
         "drawdirection": "diagonal",
         "fillcolor": "rgba(0,0,0,0)",
         "fillrule": "evenodd",
         "label": {
          "text": "",
          "texttemplate": ""
         },
         "layer": "above",
         "legend": "legend",
         "legendgroup": "",
         "legendgrouptitle": {
          "font": {
           "lineposition": "none",
           "shadow": "none",
           "style": "normal",
           "textcase": "normal",
           "variant": "normal",
           "weight": "normal"
          },
          "text": ""
         },
         "legendrank": 1000,
         "line": {
          "color": "#444",
          "dash": "solid",
          "width": 4
         },
         "opacity": 1,
         "showlegend": false,
         "visible": true
        },
        "paper_bgcolor": "white",
        "scattermode": "overlay",
        "selections": [],
        "separators": ".,",
        "shapes": [],
        "sliders": [],
        "spikedistance": -1,
        "title": {
         "automargin": false,
         "font": {
          "color": "#2a3f5f",
          "family": "\"Open Sans\", verdana, arial, sans-serif",
          "lineposition": "none",
          "shadow": "none",
          "size": 17,
          "style": "normal",
          "textcase": "normal",
          "variant": "normal",
          "weight": "normal"
         },
         "pad": {
          "b": 0,
          "l": 0,
          "r": 0,
          "t": 0
         },
         "subtitle": {
          "font": {
           "color": "#2a3f5f",
           "family": "\"Open Sans\", verdana, arial, sans-serif",
           "lineposition": "none",
           "shadow": "none",
           "size": 12,
           "style": "normal",
           "textcase": "normal",
           "variant": "normal",
           "weight": "normal"
          },
          "text": "Click to enter Plot subtitle"
         },
         "text": "Click to enter Plot title",
         "x": 0.05,
         "xanchor": "auto",
         "xref": "container",
         "y": "auto",
         "yanchor": "auto",
         "yref": "container"
        },
        "uniformtext": {
         "mode": false
        },
        "updatemenus": [],
        "xaxis": {
         "anchor": "y",
         "automargin": true,
         "autorange": true,
         "autotypenumbers": "strict",
         "color": "#444",
         "constrain": "range",
         "constraintoward": "center",
         "domain": [
          0,
          1
         ],
         "dtick": 0.5,
         "fixedrange": false,
         "hoverformat": "",
         "layer": "above traces",
         "range": [
          -0.5,
          1.5
         ],
         "rangemode": "normal",
         "showspikes": false,
         "side": "bottom",
         "tick0": 0,
         "ticklabeloverflow": "hide past div",
         "ticklabelposition": "outside",
         "tickprefix": "",
         "ticksuffix": "",
         "title": {
          "standoff": 15
         },
         "type": "linear"
        },
        "yaxis": {
         "anchor": "x",
         "automargin": true,
         "autorange": false,
         "autotypenumbers": "strict",
         "color": "#444",
         "constrain": "range",
         "constraintoward": "middle",
         "domain": [
          0,
          1
         ],
         "dtick": 5,
         "fixedrange": false,
         "hoverformat": "",
         "layer": "above traces",
         "showspikes": false,
         "side": "left",
         "tick0": 0,
         "ticklabeloverflow": "hide past div",
         "ticklabelposition": "outside",
         "tickprefix": "",
         "ticksuffix": "",
         "title": {
          "standoff": 15
         },
         "type": "linear"
        }
       },
       "layout_edit_id": 5
      },
      "_js2py_pointsCallback": {
       "device_state": {
        "alt": false,
        "button": 0,
        "buttons": 0,
        "ctrl": false,
        "meta": false,
        "shift": false
       },
       "event_type": "plotly_unhover",
       "points": {
        "point_indexes": [
         47
        ],
        "trace_indexes": [
         1
        ],
        "xs": [
         0
        ],
        "ys": [
         18
        ]
       },
       "selector": null
      },
      "_js2py_relayout": {},
      "_js2py_restyle": {},
      "_js2py_traceDeltas": null,
      "_js2py_update": {},
      "_last_layout_edit_id": 5,
      "_last_trace_edit_id": 4,
      "_layout": {
       "height": 400,
       "hoverdistance": -1,
       "margin": {
        "b": 1,
        "l": 0,
        "r": 4,
        "t": 1
       },
       "plot_bgcolor": "#dfdfdf",
       "showlegend": false,
       "width": 45,
       "xaxis": {
        "showgrid": false,
        "visible": false,
        "zeroline": false
       },
       "yaxis": {
        "range": [
         27.5,
         -0.5
        ],
        "showgrid": false,
        "visible": false,
        "zeroline": false
       }
      },
      "_model_module": "jupyterlab-plotly",
      "_model_module_version": "^5.24.1",
      "_model_name": "FigureModel",
      "_py2js_addTraces": null,
      "_py2js_animate": {},
      "_py2js_deleteTraces": {},
      "_py2js_moveTraces": {},
      "_py2js_relayout": null,
      "_py2js_removeLayoutProps": {},
      "_py2js_removeTraceProps": {},
      "_py2js_restyle": {},
      "_py2js_update": null,
      "_view_count": 1,
      "_view_module": "jupyterlab-plotly",
      "_view_module_version": "^5.24.1",
      "_view_name": "FigureView"
     }
    },
    "0c0e0dee4b3546b5a291458c96fdc971": {
     "model_module": "@jupyter-widgets/base",
     "model_module_version": "1.2.0",
     "model_name": "LayoutModel",
     "state": {
      "_model_module": "@jupyter-widgets/base",
      "_model_module_version": "1.2.0",
      "_model_name": "LayoutModel",
      "_view_count": null,
      "_view_module": "@jupyter-widgets/base",
      "_view_module_version": "1.2.0",
      "_view_name": "LayoutView",
      "align_content": null,
      "align_items": null,
      "align_self": null,
      "border": null,
      "bottom": null,
      "display": null,
      "flex": "0 1 auto",
      "flex_flow": null,
      "grid_area": null,
      "grid_auto_columns": null,
      "grid_auto_flow": null,
      "grid_auto_rows": null,
      "grid_column": null,
      "grid_gap": null,
      "grid_row": null,
      "grid_template_areas": null,
      "grid_template_columns": null,
      "grid_template_rows": null,
      "height": null,
      "justify_content": null,
      "justify_items": null,
      "left": null,
      "margin": "0px",
      "max_height": null,
      "max_width": null,
      "min_height": null,
      "min_width": null,
      "object_fit": null,
      "object_position": null,
      "order": null,
      "overflow": "hidden",
      "overflow_x": null,
      "overflow_y": null,
      "padding": "0px",
      "right": null,
      "top": null,
      "visibility": null,
      "width": null
     }
    },
    "0d21ab2b36994ebab1b68594aa0a495a": {
     "model_module": "@jupyter-widgets/output",
     "model_module_version": "1.0.0",
     "model_name": "OutputModel",
     "state": {
      "_dom_classes": [],
      "_model_module": "@jupyter-widgets/output",
      "_model_module_version": "1.0.0",
      "_model_name": "OutputModel",
      "_view_count": null,
      "_view_module": "@jupyter-widgets/output",
      "_view_module_version": "1.0.0",
      "_view_name": "OutputView",
      "layout": "IPY_MODEL_2b3ffd0c7cb74484a7e9486f390c3548",
      "msg_id": "",
      "outputs": [
       {
        "data": {
         "text/html": "<style>\n.highlight {background-color: #b0c0e0;}\nthead th {position: sticky; top:0; z-index: 1; background-color: #ebebeb;}\n</style>",
         "text/plain": "<IPython.core.display.HTML object>"
        },
        "metadata": {},
        "output_type": "display_data"
       },
       {
        "data": {
         "text/html": "<div id=\"scr_table_136783986748112_1733944317403\" style=\"height: 400px; overflow: auto; width: fit-content\"><table id=\"table_136783986748112_1733944317403\">\n  <thead>\n    <tr>\n      <th>Name</th>\n      <th>Operation</th>\n      <th>Activations</th>\n      <th>Params</th>\n      <th>FLOPS</th>\n    </tr>\n  <thead>\n  <tbody>\n    <tr>\n      <td id=\"cell_136783986748112_1733944317403_0_0\">x</td>\n      <td id=\"cell_136783986748112_1733944317403_0_1\">input</td>\n      <td id=\"cell_136783986748112_1733944317403_0_2\">(16, 3, 160, 160)</td>\n      <td id=\"cell_136783986748112_1733944317403_0_3\">0</td>\n      <td id=\"cell_136783986748112_1733944317403_0_4\">0</td>\n    </tr>\n    <tr>\n      <td id=\"cell_136783986748112_1733944317403_1_0\">conv1</td>\n      <td id=\"cell_136783986748112_1733944317403_1_1\">nn.Conv2d</td>\n      <td id=\"cell_136783986748112_1733944317403_1_2\">(16, 64, 80, 80)</td>\n      <td id=\"cell_136783986748112_1733944317403_1_3\">9408</td>\n      <td id=\"cell_136783986748112_1733944317403_1_4\">1926758400</td>\n    </tr>\n    <tr>\n      <td id=\"cell_136783986748112_1733944317403_2_0\">bn1</td>\n      <td id=\"cell_136783986748112_1733944317403_2_1\">nn.BatchNorm2d</td>\n      <td id=\"cell_136783986748112_1733944317403_2_2\">(16, 64, 80, 80)</td>\n      <td id=\"cell_136783986748112_1733944317403_2_3\">128</td>\n      <td id=\"cell_136783986748112_1733944317403_2_4\">13107200</td>\n    </tr>\n    <tr>\n      <td id=\"cell_136783986748112_1733944317403_3_0\">relu</td>\n      <td id=\"cell_136783986748112_1733944317403_3_1\">nn.ReLU</td>\n      <td id=\"cell_136783986748112_1733944317403_3_2\">(16, 64, 80, 80)</td>\n      <td id=\"cell_136783986748112_1733944317403_3_3\">0</td>\n      <td id=\"cell_136783986748112_1733944317403_3_4\">0</td>\n    </tr>\n    <tr>\n      <td id=\"cell_136783986748112_1733944317403_4_0\">maxpool</td>\n      <td id=\"cell_136783986748112_1733944317403_4_1\">nn.MaxPool2d</td>\n      <td id=\"cell_136783986748112_1733944317403_4_2\">(16, 64, 40, 40)</td>\n      <td id=\"cell_136783986748112_1733944317403_4_3\">0</td>\n      <td id=\"cell_136783986748112_1733944317403_4_4\">0</td>\n    </tr>\n    <tr>\n      <td id=\"cell_136783986748112_1733944317403_5_0\">layer1_0_conv1</td>\n      <td id=\"cell_136783986748112_1733944317403_5_1\">nn.Conv2d</td>\n      <td id=\"cell_136783986748112_1733944317403_5_2\">(16, 64, 40, 40)</td>\n      <td id=\"cell_136783986748112_1733944317403_5_3\">36864</td>\n      <td id=\"cell_136783986748112_1733944317403_5_4\">1887436800</td>\n    </tr>\n    <tr>\n      <td id=\"cell_136783986748112_1733944317403_6_0\">layer1_0_bn1</td>\n      <td id=\"cell_136783986748112_1733944317403_6_1\">nn.BatchNorm2d</td>\n      <td id=\"cell_136783986748112_1733944317403_6_2\">(16, 64, 40, 40)</td>\n      <td id=\"cell_136783986748112_1733944317403_6_3\">128</td>\n      <td id=\"cell_136783986748112_1733944317403_6_4\">3276800</td>\n    </tr>\n    <tr>\n      <td id=\"cell_136783986748112_1733944317403_7_0\">layer1_0_relu</td>\n      <td id=\"cell_136783986748112_1733944317403_7_1\">nn.ReLU</td>\n      <td id=\"cell_136783986748112_1733944317403_7_2\">(16, 64, 40, 40)</td>\n      <td id=\"cell_136783986748112_1733944317403_7_3\">0</td>\n      <td id=\"cell_136783986748112_1733944317403_7_4\">0</td>\n    </tr>\n    <tr>\n      <td id=\"cell_136783986748112_1733944317403_8_0\">layer1_0_conv2</td>\n      <td id=\"cell_136783986748112_1733944317403_8_1\">nn.Conv2d</td>\n      <td id=\"cell_136783986748112_1733944317403_8_2\">(16, 64, 40, 40)</td>\n      <td id=\"cell_136783986748112_1733944317403_8_3\">36864</td>\n      <td id=\"cell_136783986748112_1733944317403_8_4\">1887436800</td>\n    </tr>\n    <tr>\n      <td id=\"cell_136783986748112_1733944317403_9_0\">layer1_0_bn2</td>\n      <td id=\"cell_136783986748112_1733944317403_9_1\">nn.BatchNorm2d</td>\n      <td id=\"cell_136783986748112_1733944317403_9_2\">(16, 64, 40, 40)</td>\n      <td id=\"cell_136783986748112_1733944317403_9_3\">128</td>\n      <td id=\"cell_136783986748112_1733944317403_9_4\">3276800</td>\n    </tr>\n    <tr>\n      <td id=\"cell_136783986748112_1733944317403_10_0\">add</td>\n      <td id=\"cell_136783986748112_1733944317403_10_1\">add()</td>\n      <td id=\"cell_136783986748112_1733944317403_10_2\">(16, 64, 40, 40)</td>\n      <td id=\"cell_136783986748112_1733944317403_10_3\">0</td>\n      <td id=\"cell_136783986748112_1733944317403_10_4\">0</td>\n    </tr>\n    <tr>\n      <td id=\"cell_136783986748112_1733944317403_11_0\">layer1_0_relu_1</td>\n      <td id=\"cell_136783986748112_1733944317403_11_1\">nn.ReLU</td>\n      <td id=\"cell_136783986748112_1733944317403_11_2\">(16, 64, 40, 40)</td>\n      <td id=\"cell_136783986748112_1733944317403_11_3\">0</td>\n      <td id=\"cell_136783986748112_1733944317403_11_4\">0</td>\n    </tr>\n    <tr>\n      <td id=\"cell_136783986748112_1733944317403_12_0\">layer1_1_conv1</td>\n      <td id=\"cell_136783986748112_1733944317403_12_1\">nn.Conv2d</td>\n      <td id=\"cell_136783986748112_1733944317403_12_2\">(16, 64, 40, 40)</td>\n      <td id=\"cell_136783986748112_1733944317403_12_3\">36864</td>\n      <td id=\"cell_136783986748112_1733944317403_12_4\">1887436800</td>\n    </tr>\n    <tr>\n      <td id=\"cell_136783986748112_1733944317403_13_0\">layer1_1_bn1</td>\n      <td id=\"cell_136783986748112_1733944317403_13_1\">nn.BatchNorm2d</td>\n      <td id=\"cell_136783986748112_1733944317403_13_2\">(16, 64, 40, 40)</td>\n      <td id=\"cell_136783986748112_1733944317403_13_3\">128</td>\n      <td id=\"cell_136783986748112_1733944317403_13_4\">3276800</td>\n    </tr>\n    <tr>\n      <td id=\"cell_136783986748112_1733944317403_14_0\">layer1_1_relu</td>\n      <td id=\"cell_136783986748112_1733944317403_14_1\">nn.ReLU</td>\n      <td id=\"cell_136783986748112_1733944317403_14_2\">(16, 64, 40, 40)</td>\n      <td id=\"cell_136783986748112_1733944317403_14_3\">0</td>\n      <td id=\"cell_136783986748112_1733944317403_14_4\">0</td>\n    </tr>\n    <tr>\n      <td id=\"cell_136783986748112_1733944317403_15_0\">layer1_1_conv2</td>\n      <td id=\"cell_136783986748112_1733944317403_15_1\">nn.Conv2d</td>\n      <td id=\"cell_136783986748112_1733944317403_15_2\">(16, 64, 40, 40)</td>\n      <td id=\"cell_136783986748112_1733944317403_15_3\">36864</td>\n      <td id=\"cell_136783986748112_1733944317403_15_4\">1887436800</td>\n    </tr>\n    <tr>\n      <td id=\"cell_136783986748112_1733944317403_16_0\">layer1_1_bn2</td>\n      <td id=\"cell_136783986748112_1733944317403_16_1\">nn.BatchNorm2d</td>\n      <td id=\"cell_136783986748112_1733944317403_16_2\">(16, 64, 40, 40)</td>\n      <td id=\"cell_136783986748112_1733944317403_16_3\">128</td>\n      <td id=\"cell_136783986748112_1733944317403_16_4\">3276800</td>\n    </tr>\n    <tr>\n      <td id=\"cell_136783986748112_1733944317403_17_0\">add_1</td>\n      <td id=\"cell_136783986748112_1733944317403_17_1\">add()</td>\n      <td id=\"cell_136783986748112_1733944317403_17_2\">(16, 64, 40, 40)</td>\n      <td id=\"cell_136783986748112_1733944317403_17_3\">0</td>\n      <td id=\"cell_136783986748112_1733944317403_17_4\">0</td>\n    </tr>\n    <tr>\n      <td id=\"cell_136783986748112_1733944317403_18_0\">layer1_1_relu_1</td>\n      <td id=\"cell_136783986748112_1733944317403_18_1\">nn.ReLU</td>\n      <td id=\"cell_136783986748112_1733944317403_18_2\">(16, 64, 40, 40)</td>\n      <td id=\"cell_136783986748112_1733944317403_18_3\">0</td>\n      <td id=\"cell_136783986748112_1733944317403_18_4\">0</td>\n    </tr>\n    <tr>\n      <td id=\"cell_136783986748112_1733944317403_19_0\">layer2_0_conv1</td>\n      <td id=\"cell_136783986748112_1733944317403_19_1\">nn.Conv2d</td>\n      <td id=\"cell_136783986748112_1733944317403_19_2\">(16, 128, 20, 20)</td>\n      <td id=\"cell_136783986748112_1733944317403_19_3\">73728</td>\n      <td id=\"cell_136783986748112_1733944317403_19_4\">943718400</td>\n    </tr>\n    <tr>\n      <td id=\"cell_136783986748112_1733944317403_20_0\">layer2_0_bn1</td>\n      <td id=\"cell_136783986748112_1733944317403_20_1\">nn.BatchNorm2d</td>\n      <td id=\"cell_136783986748112_1733944317403_20_2\">(16, 128, 20, 20)</td>\n      <td id=\"cell_136783986748112_1733944317403_20_3\">256</td>\n      <td id=\"cell_136783986748112_1733944317403_20_4\">1638400</td>\n    </tr>\n    <tr>\n      <td id=\"cell_136783986748112_1733944317403_21_0\">layer2_0_relu</td>\n      <td id=\"cell_136783986748112_1733944317403_21_1\">nn.ReLU</td>\n      <td id=\"cell_136783986748112_1733944317403_21_2\">(16, 128, 20, 20)</td>\n      <td id=\"cell_136783986748112_1733944317403_21_3\">0</td>\n      <td id=\"cell_136783986748112_1733944317403_21_4\">0</td>\n    </tr>\n    <tr>\n      <td id=\"cell_136783986748112_1733944317403_22_0\">layer2_0_conv2</td>\n      <td id=\"cell_136783986748112_1733944317403_22_1\">nn.Conv2d</td>\n      <td id=\"cell_136783986748112_1733944317403_22_2\">(16, 128, 20, 20)</td>\n      <td id=\"cell_136783986748112_1733944317403_22_3\">147456</td>\n      <td id=\"cell_136783986748112_1733944317403_22_4\">1887436800</td>\n    </tr>\n    <tr>\n      <td id=\"cell_136783986748112_1733944317403_23_0\">layer2_0_bn2</td>\n      <td id=\"cell_136783986748112_1733944317403_23_1\">nn.BatchNorm2d</td>\n      <td id=\"cell_136783986748112_1733944317403_23_2\">(16, 128, 20, 20)</td>\n      <td id=\"cell_136783986748112_1733944317403_23_3\">256</td>\n      <td id=\"cell_136783986748112_1733944317403_23_4\">1638400</td>\n    </tr>\n    <tr>\n      <td id=\"cell_136783986748112_1733944317403_24_0\">layer2_0_downsample_0</td>\n      <td id=\"cell_136783986748112_1733944317403_24_1\">nn.Conv2d</td>\n      <td id=\"cell_136783986748112_1733944317403_24_2\">(16, 128, 20, 20)</td>\n      <td id=\"cell_136783986748112_1733944317403_24_3\">8192</td>\n      <td id=\"cell_136783986748112_1733944317403_24_4\">104857600</td>\n    </tr>\n    <tr>\n      <td id=\"cell_136783986748112_1733944317403_25_0\">layer2_0_downsample_1</td>\n      <td id=\"cell_136783986748112_1733944317403_25_1\">nn.BatchNorm2d</td>\n      <td id=\"cell_136783986748112_1733944317403_25_2\">(16, 128, 20, 20)</td>\n      <td id=\"cell_136783986748112_1733944317403_25_3\">256</td>\n      <td id=\"cell_136783986748112_1733944317403_25_4\">1638400</td>\n    </tr>\n    <tr>\n      <td id=\"cell_136783986748112_1733944317403_26_0\">add_2</td>\n      <td id=\"cell_136783986748112_1733944317403_26_1\">add()</td>\n      <td id=\"cell_136783986748112_1733944317403_26_2\">(16, 128, 20, 20)</td>\n      <td id=\"cell_136783986748112_1733944317403_26_3\">0</td>\n      <td id=\"cell_136783986748112_1733944317403_26_4\">0</td>\n    </tr>\n    <tr>\n      <td id=\"cell_136783986748112_1733944317403_27_0\">layer2_0_relu_1</td>\n      <td id=\"cell_136783986748112_1733944317403_27_1\">nn.ReLU</td>\n      <td id=\"cell_136783986748112_1733944317403_27_2\">(16, 128, 20, 20)</td>\n      <td id=\"cell_136783986748112_1733944317403_27_3\">0</td>\n      <td id=\"cell_136783986748112_1733944317403_27_4\">0</td>\n    </tr>\n    <tr>\n      <td id=\"cell_136783986748112_1733944317403_28_0\">layer2_1_conv1</td>\n      <td id=\"cell_136783986748112_1733944317403_28_1\">nn.Conv2d</td>\n      <td id=\"cell_136783986748112_1733944317403_28_2\">(16, 128, 20, 20)</td>\n      <td id=\"cell_136783986748112_1733944317403_28_3\">147456</td>\n      <td id=\"cell_136783986748112_1733944317403_28_4\">1887436800</td>\n    </tr>\n    <tr>\n      <td id=\"cell_136783986748112_1733944317403_29_0\">layer2_1_bn1</td>\n      <td id=\"cell_136783986748112_1733944317403_29_1\">nn.BatchNorm2d</td>\n      <td id=\"cell_136783986748112_1733944317403_29_2\">(16, 128, 20, 20)</td>\n      <td id=\"cell_136783986748112_1733944317403_29_3\">256</td>\n      <td id=\"cell_136783986748112_1733944317403_29_4\">1638400</td>\n    </tr>\n    <tr>\n      <td id=\"cell_136783986748112_1733944317403_30_0\">layer2_1_relu</td>\n      <td id=\"cell_136783986748112_1733944317403_30_1\">nn.ReLU</td>\n      <td id=\"cell_136783986748112_1733944317403_30_2\">(16, 128, 20, 20)</td>\n      <td id=\"cell_136783986748112_1733944317403_30_3\">0</td>\n      <td id=\"cell_136783986748112_1733944317403_30_4\">0</td>\n    </tr>\n    <tr>\n      <td id=\"cell_136783986748112_1733944317403_31_0\">layer2_1_conv2</td>\n      <td id=\"cell_136783986748112_1733944317403_31_1\">nn.Conv2d</td>\n      <td id=\"cell_136783986748112_1733944317403_31_2\">(16, 128, 20, 20)</td>\n      <td id=\"cell_136783986748112_1733944317403_31_3\">147456</td>\n      <td id=\"cell_136783986748112_1733944317403_31_4\">1887436800</td>\n    </tr>\n    <tr>\n      <td id=\"cell_136783986748112_1733944317403_32_0\">layer2_1_bn2</td>\n      <td id=\"cell_136783986748112_1733944317403_32_1\">nn.BatchNorm2d</td>\n      <td id=\"cell_136783986748112_1733944317403_32_2\">(16, 128, 20, 20)</td>\n      <td id=\"cell_136783986748112_1733944317403_32_3\">256</td>\n      <td id=\"cell_136783986748112_1733944317403_32_4\">1638400</td>\n    </tr>\n    <tr>\n      <td id=\"cell_136783986748112_1733944317403_33_0\">add_3</td>\n      <td id=\"cell_136783986748112_1733944317403_33_1\">add()</td>\n      <td id=\"cell_136783986748112_1733944317403_33_2\">(16, 128, 20, 20)</td>\n      <td id=\"cell_136783986748112_1733944317403_33_3\">0</td>\n      <td id=\"cell_136783986748112_1733944317403_33_4\">0</td>\n    </tr>\n    <tr>\n      <td id=\"cell_136783986748112_1733944317403_34_0\">layer2_1_relu_1</td>\n      <td id=\"cell_136783986748112_1733944317403_34_1\">nn.ReLU</td>\n      <td id=\"cell_136783986748112_1733944317403_34_2\">(16, 128, 20, 20)</td>\n      <td id=\"cell_136783986748112_1733944317403_34_3\">0</td>\n      <td id=\"cell_136783986748112_1733944317403_34_4\">0</td>\n    </tr>\n    <tr>\n      <td id=\"cell_136783986748112_1733944317403_35_0\">layer3_0_conv1</td>\n      <td id=\"cell_136783986748112_1733944317403_35_1\">nn.Conv2d</td>\n      <td id=\"cell_136783986748112_1733944317403_35_2\">(16, 256, 10, 10)</td>\n      <td id=\"cell_136783986748112_1733944317403_35_3\">294912</td>\n      <td id=\"cell_136783986748112_1733944317403_35_4\">943718400</td>\n    </tr>\n    <tr>\n      <td id=\"cell_136783986748112_1733944317403_36_0\">layer3_0_bn1</td>\n      <td id=\"cell_136783986748112_1733944317403_36_1\">nn.BatchNorm2d</td>\n      <td id=\"cell_136783986748112_1733944317403_36_2\">(16, 256, 10, 10)</td>\n      <td id=\"cell_136783986748112_1733944317403_36_3\">512</td>\n      <td id=\"cell_136783986748112_1733944317403_36_4\">819200</td>\n    </tr>\n    <tr>\n      <td id=\"cell_136783986748112_1733944317403_37_0\">layer3_0_relu</td>\n      <td id=\"cell_136783986748112_1733944317403_37_1\">nn.ReLU</td>\n      <td id=\"cell_136783986748112_1733944317403_37_2\">(16, 256, 10, 10)</td>\n      <td id=\"cell_136783986748112_1733944317403_37_3\">0</td>\n      <td id=\"cell_136783986748112_1733944317403_37_4\">0</td>\n    </tr>\n    <tr>\n      <td id=\"cell_136783986748112_1733944317403_38_0\">layer3_0_conv2</td>\n      <td id=\"cell_136783986748112_1733944317403_38_1\">nn.Conv2d</td>\n      <td id=\"cell_136783986748112_1733944317403_38_2\">(16, 256, 10, 10)</td>\n      <td id=\"cell_136783986748112_1733944317403_38_3\">589824</td>\n      <td id=\"cell_136783986748112_1733944317403_38_4\">1887436800</td>\n    </tr>\n    <tr>\n      <td id=\"cell_136783986748112_1733944317403_39_0\">layer3_0_bn2</td>\n      <td id=\"cell_136783986748112_1733944317403_39_1\">nn.BatchNorm2d</td>\n      <td id=\"cell_136783986748112_1733944317403_39_2\">(16, 256, 10, 10)</td>\n      <td id=\"cell_136783986748112_1733944317403_39_3\">512</td>\n      <td id=\"cell_136783986748112_1733944317403_39_4\">819200</td>\n    </tr>\n    <tr>\n      <td id=\"cell_136783986748112_1733944317403_40_0\">layer3_0_downsample_0</td>\n      <td id=\"cell_136783986748112_1733944317403_40_1\">nn.Conv2d</td>\n      <td id=\"cell_136783986748112_1733944317403_40_2\">(16, 256, 10, 10)</td>\n      <td id=\"cell_136783986748112_1733944317403_40_3\">32768</td>\n      <td id=\"cell_136783986748112_1733944317403_40_4\">104857600</td>\n    </tr>\n    <tr>\n      <td id=\"cell_136783986748112_1733944317403_41_0\">layer3_0_downsample_1</td>\n      <td id=\"cell_136783986748112_1733944317403_41_1\">nn.BatchNorm2d</td>\n      <td id=\"cell_136783986748112_1733944317403_41_2\">(16, 256, 10, 10)</td>\n      <td id=\"cell_136783986748112_1733944317403_41_3\">512</td>\n      <td id=\"cell_136783986748112_1733944317403_41_4\">819200</td>\n    </tr>\n    <tr>\n      <td id=\"cell_136783986748112_1733944317403_42_0\">add_4</td>\n      <td id=\"cell_136783986748112_1733944317403_42_1\">add()</td>\n      <td id=\"cell_136783986748112_1733944317403_42_2\">(16, 256, 10, 10)</td>\n      <td id=\"cell_136783986748112_1733944317403_42_3\">0</td>\n      <td id=\"cell_136783986748112_1733944317403_42_4\">0</td>\n    </tr>\n    <tr>\n      <td id=\"cell_136783986748112_1733944317403_43_0\">layer3_0_relu_1</td>\n      <td id=\"cell_136783986748112_1733944317403_43_1\">nn.ReLU</td>\n      <td id=\"cell_136783986748112_1733944317403_43_2\">(16, 256, 10, 10)</td>\n      <td id=\"cell_136783986748112_1733944317403_43_3\">0</td>\n      <td id=\"cell_136783986748112_1733944317403_43_4\">0</td>\n    </tr>\n    <tr>\n      <td id=\"cell_136783986748112_1733944317403_44_0\">layer3_1_conv1</td>\n      <td id=\"cell_136783986748112_1733944317403_44_1\">nn.Conv2d</td>\n      <td id=\"cell_136783986748112_1733944317403_44_2\">(16, 256, 10, 10)</td>\n      <td id=\"cell_136783986748112_1733944317403_44_3\">589824</td>\n      <td id=\"cell_136783986748112_1733944317403_44_4\">1887436800</td>\n    </tr>\n    <tr>\n      <td id=\"cell_136783986748112_1733944317403_45_0\">layer3_1_bn1</td>\n      <td id=\"cell_136783986748112_1733944317403_45_1\">nn.BatchNorm2d</td>\n      <td id=\"cell_136783986748112_1733944317403_45_2\">(16, 256, 10, 10)</td>\n      <td id=\"cell_136783986748112_1733944317403_45_3\">512</td>\n      <td id=\"cell_136783986748112_1733944317403_45_4\">819200</td>\n    </tr>\n    <tr>\n      <td id=\"cell_136783986748112_1733944317403_46_0\">layer3_1_relu</td>\n      <td id=\"cell_136783986748112_1733944317403_46_1\">nn.ReLU</td>\n      <td id=\"cell_136783986748112_1733944317403_46_2\">(16, 256, 10, 10)</td>\n      <td id=\"cell_136783986748112_1733944317403_46_3\">0</td>\n      <td id=\"cell_136783986748112_1733944317403_46_4\">0</td>\n    </tr>\n    <tr>\n      <td id=\"cell_136783986748112_1733944317403_47_0\">layer3_1_conv2</td>\n      <td id=\"cell_136783986748112_1733944317403_47_1\">nn.Conv2d</td>\n      <td id=\"cell_136783986748112_1733944317403_47_2\">(16, 256, 10, 10)</td>\n      <td id=\"cell_136783986748112_1733944317403_47_3\">589824</td>\n      <td id=\"cell_136783986748112_1733944317403_47_4\">1887436800</td>\n    </tr>\n    <tr>\n      <td id=\"cell_136783986748112_1733944317403_48_0\">layer3_1_bn2</td>\n      <td id=\"cell_136783986748112_1733944317403_48_1\">nn.BatchNorm2d</td>\n      <td id=\"cell_136783986748112_1733944317403_48_2\">(16, 256, 10, 10)</td>\n      <td id=\"cell_136783986748112_1733944317403_48_3\">512</td>\n      <td id=\"cell_136783986748112_1733944317403_48_4\">819200</td>\n    </tr>\n    <tr>\n      <td id=\"cell_136783986748112_1733944317403_49_0\">add_5</td>\n      <td id=\"cell_136783986748112_1733944317403_49_1\">add()</td>\n      <td id=\"cell_136783986748112_1733944317403_49_2\">(16, 256, 10, 10)</td>\n      <td id=\"cell_136783986748112_1733944317403_49_3\">0</td>\n      <td id=\"cell_136783986748112_1733944317403_49_4\">0</td>\n    </tr>\n    <tr>\n      <td id=\"cell_136783986748112_1733944317403_50_0\">layer3_1_relu_1</td>\n      <td id=\"cell_136783986748112_1733944317403_50_1\">nn.ReLU</td>\n      <td id=\"cell_136783986748112_1733944317403_50_2\">(16, 256, 10, 10)</td>\n      <td id=\"cell_136783986748112_1733944317403_50_3\">0</td>\n      <td id=\"cell_136783986748112_1733944317403_50_4\">0</td>\n    </tr>\n    <tr>\n      <td id=\"cell_136783986748112_1733944317403_51_0\">layer4_0_conv1</td>\n      <td id=\"cell_136783986748112_1733944317403_51_1\">nn.Conv2d</td>\n      <td id=\"cell_136783986748112_1733944317403_51_2\">(16, 512, 5, 5)</td>\n      <td id=\"cell_136783986748112_1733944317403_51_3\">1179648</td>\n      <td id=\"cell_136783986748112_1733944317403_51_4\">943718400</td>\n    </tr>\n    <tr>\n      <td id=\"cell_136783986748112_1733944317403_52_0\">layer4_0_bn1</td>\n      <td id=\"cell_136783986748112_1733944317403_52_1\">nn.BatchNorm2d</td>\n      <td id=\"cell_136783986748112_1733944317403_52_2\">(16, 512, 5, 5)</td>\n      <td id=\"cell_136783986748112_1733944317403_52_3\">1024</td>\n      <td id=\"cell_136783986748112_1733944317403_52_4\">409600</td>\n    </tr>\n    <tr>\n      <td id=\"cell_136783986748112_1733944317403_53_0\">layer4_0_relu</td>\n      <td id=\"cell_136783986748112_1733944317403_53_1\">nn.ReLU</td>\n      <td id=\"cell_136783986748112_1733944317403_53_2\">(16, 512, 5, 5)</td>\n      <td id=\"cell_136783986748112_1733944317403_53_3\">0</td>\n      <td id=\"cell_136783986748112_1733944317403_53_4\">0</td>\n    </tr>\n    <tr>\n      <td id=\"cell_136783986748112_1733944317403_54_0\">layer4_0_conv2</td>\n      <td id=\"cell_136783986748112_1733944317403_54_1\">nn.Conv2d</td>\n      <td id=\"cell_136783986748112_1733944317403_54_2\">(16, 512, 5, 5)</td>\n      <td id=\"cell_136783986748112_1733944317403_54_3\">2359296</td>\n      <td id=\"cell_136783986748112_1733944317403_54_4\">1887436800</td>\n    </tr>\n    <tr>\n      <td id=\"cell_136783986748112_1733944317403_55_0\">layer4_0_bn2</td>\n      <td id=\"cell_136783986748112_1733944317403_55_1\">nn.BatchNorm2d</td>\n      <td id=\"cell_136783986748112_1733944317403_55_2\">(16, 512, 5, 5)</td>\n      <td id=\"cell_136783986748112_1733944317403_55_3\">1024</td>\n      <td id=\"cell_136783986748112_1733944317403_55_4\">409600</td>\n    </tr>\n    <tr>\n      <td id=\"cell_136783986748112_1733944317403_56_0\">layer4_0_downsample_0</td>\n      <td id=\"cell_136783986748112_1733944317403_56_1\">nn.Conv2d</td>\n      <td id=\"cell_136783986748112_1733944317403_56_2\">(16, 512, 5, 5)</td>\n      <td id=\"cell_136783986748112_1733944317403_56_3\">131072</td>\n      <td id=\"cell_136783986748112_1733944317403_56_4\">104857600</td>\n    </tr>\n    <tr>\n      <td id=\"cell_136783986748112_1733944317403_57_0\">layer4_0_downsample_1</td>\n      <td id=\"cell_136783986748112_1733944317403_57_1\">nn.BatchNorm2d</td>\n      <td id=\"cell_136783986748112_1733944317403_57_2\">(16, 512, 5, 5)</td>\n      <td id=\"cell_136783986748112_1733944317403_57_3\">1024</td>\n      <td id=\"cell_136783986748112_1733944317403_57_4\">409600</td>\n    </tr>\n    <tr>\n      <td id=\"cell_136783986748112_1733944317403_58_0\">add_6</td>\n      <td id=\"cell_136783986748112_1733944317403_58_1\">add()</td>\n      <td id=\"cell_136783986748112_1733944317403_58_2\">(16, 512, 5, 5)</td>\n      <td id=\"cell_136783986748112_1733944317403_58_3\">0</td>\n      <td id=\"cell_136783986748112_1733944317403_58_4\">0</td>\n    </tr>\n    <tr>\n      <td id=\"cell_136783986748112_1733944317403_59_0\">layer4_0_relu_1</td>\n      <td id=\"cell_136783986748112_1733944317403_59_1\">nn.ReLU</td>\n      <td id=\"cell_136783986748112_1733944317403_59_2\">(16, 512, 5, 5)</td>\n      <td id=\"cell_136783986748112_1733944317403_59_3\">0</td>\n      <td id=\"cell_136783986748112_1733944317403_59_4\">0</td>\n    </tr>\n    <tr>\n      <td id=\"cell_136783986748112_1733944317403_60_0\">layer4_1_conv1</td>\n      <td id=\"cell_136783986748112_1733944317403_60_1\">nn.Conv2d</td>\n      <td id=\"cell_136783986748112_1733944317403_60_2\">(16, 512, 5, 5)</td>\n      <td id=\"cell_136783986748112_1733944317403_60_3\">2359296</td>\n      <td id=\"cell_136783986748112_1733944317403_60_4\">1887436800</td>\n    </tr>\n    <tr>\n      <td id=\"cell_136783986748112_1733944317403_61_0\">layer4_1_bn1</td>\n      <td id=\"cell_136783986748112_1733944317403_61_1\">nn.BatchNorm2d</td>\n      <td id=\"cell_136783986748112_1733944317403_61_2\">(16, 512, 5, 5)</td>\n      <td id=\"cell_136783986748112_1733944317403_61_3\">1024</td>\n      <td id=\"cell_136783986748112_1733944317403_61_4\">409600</td>\n    </tr>\n    <tr>\n      <td id=\"cell_136783986748112_1733944317403_62_0\">layer4_1_relu</td>\n      <td id=\"cell_136783986748112_1733944317403_62_1\">nn.ReLU</td>\n      <td id=\"cell_136783986748112_1733944317403_62_2\">(16, 512, 5, 5)</td>\n      <td id=\"cell_136783986748112_1733944317403_62_3\">0</td>\n      <td id=\"cell_136783986748112_1733944317403_62_4\">0</td>\n    </tr>\n    <tr>\n      <td id=\"cell_136783986748112_1733944317403_63_0\">layer4_1_conv2</td>\n      <td id=\"cell_136783986748112_1733944317403_63_1\">nn.Conv2d</td>\n      <td id=\"cell_136783986748112_1733944317403_63_2\">(16, 512, 5, 5)</td>\n      <td id=\"cell_136783986748112_1733944317403_63_3\">2359296</td>\n      <td id=\"cell_136783986748112_1733944317403_63_4\">1887436800</td>\n    </tr>\n    <tr>\n      <td id=\"cell_136783986748112_1733944317403_64_0\">layer4_1_bn2</td>\n      <td id=\"cell_136783986748112_1733944317403_64_1\">nn.BatchNorm2d</td>\n      <td id=\"cell_136783986748112_1733944317403_64_2\">(16, 512, 5, 5)</td>\n      <td id=\"cell_136783986748112_1733944317403_64_3\">1024</td>\n      <td id=\"cell_136783986748112_1733944317403_64_4\">409600</td>\n    </tr>\n    <tr>\n      <td id=\"cell_136783986748112_1733944317403_65_0\">add_7</td>\n      <td id=\"cell_136783986748112_1733944317403_65_1\">add()</td>\n      <td id=\"cell_136783986748112_1733944317403_65_2\">(16, 512, 5, 5)</td>\n      <td id=\"cell_136783986748112_1733944317403_65_3\">0</td>\n      <td id=\"cell_136783986748112_1733944317403_65_4\">0</td>\n    </tr>\n    <tr>\n      <td id=\"cell_136783986748112_1733944317403_66_0\">layer4_1_relu_1</td>\n      <td id=\"cell_136783986748112_1733944317403_66_1\">nn.ReLU</td>\n      <td id=\"cell_136783986748112_1733944317403_66_2\">(16, 512, 5, 5)</td>\n      <td id=\"cell_136783986748112_1733944317403_66_3\">0</td>\n      <td id=\"cell_136783986748112_1733944317403_66_4\">0</td>\n    </tr>\n    <tr>\n      <td id=\"cell_136783986748112_1733944317403_67_0\">avgpool</td>\n      <td id=\"cell_136783986748112_1733944317403_67_1\">nn.AdaptiveAvgPool2d</td>\n      <td id=\"cell_136783986748112_1733944317403_67_2\">(16, 512, 1, 1)</td>\n      <td id=\"cell_136783986748112_1733944317403_67_3\">0</td>\n      <td id=\"cell_136783986748112_1733944317403_67_4\">16384</td>\n    </tr>\n    <tr>\n      <td id=\"cell_136783986748112_1733944317403_68_0\">flatten</td>\n      <td id=\"cell_136783986748112_1733944317403_68_1\">flatten()</td>\n      <td id=\"cell_136783986748112_1733944317403_68_2\">(16, 512)</td>\n      <td id=\"cell_136783986748112_1733944317403_68_3\">0</td>\n      <td id=\"cell_136783986748112_1733944317403_68_4\">0</td>\n    </tr>\n    <tr>\n      <td id=\"cell_136783986748112_1733944317403_69_0\">fc</td>\n      <td id=\"cell_136783986748112_1733944317403_69_1\">nn.Linear</td>\n      <td id=\"cell_136783986748112_1733944317403_69_2\">(16, 1000)</td>\n      <td id=\"cell_136783986748112_1733944317403_69_3\">513000</td>\n      <td id=\"cell_136783986748112_1733944317403_69_4\">16384000</td>\n    </tr>\n    <tr>\n      <td id=\"cell_136783986748112_1733944317403_70_0\">output</td>\n      <td id=\"cell_136783986748112_1733944317403_70_1\">output</td>\n      <td id=\"cell_136783986748112_1733944317403_70_2\">(16, 1000)</td>\n      <td id=\"cell_136783986748112_1733944317403_70_3\">0</td>\n      <td id=\"cell_136783986748112_1733944317403_70_4\">0</td>\n    </tr>\n  </tbody>\n</table></div>",
         "text/plain": "<IPython.core.display.HTML object>"
        },
        "metadata": {},
        "output_type": "display_data"
       }
      ]
     }
    },
    "2b3ffd0c7cb74484a7e9486f390c3548": {
     "model_module": "@jupyter-widgets/base",
     "model_module_version": "1.2.0",
     "model_name": "LayoutModel",
     "state": {
      "_model_module": "@jupyter-widgets/base",
      "_model_module_version": "1.2.0",
      "_model_name": "LayoutModel",
      "_view_count": null,
      "_view_module": "@jupyter-widgets/base",
      "_view_module_version": "1.2.0",
      "_view_name": "LayoutView",
      "align_content": null,
      "align_items": null,
      "align_self": null,
      "border": null,
      "bottom": null,
      "display": null,
      "flex": null,
      "flex_flow": null,
      "grid_area": null,
      "grid_auto_columns": null,
      "grid_auto_flow": null,
      "grid_auto_rows": null,
      "grid_column": null,
      "grid_gap": null,
      "grid_row": null,
      "grid_template_areas": null,
      "grid_template_columns": null,
      "grid_template_rows": null,
      "height": null,
      "justify_content": null,
      "justify_items": null,
      "left": null,
      "margin": null,
      "max_height": null,
      "max_width": null,
      "min_height": null,
      "min_width": null,
      "object_fit": null,
      "object_position": null,
      "order": null,
      "overflow": null,
      "overflow_x": null,
      "overflow_y": null,
      "padding": null,
      "right": null,
      "top": null,
      "visibility": null,
      "width": null
     }
    },
    "3281f202e16245219dc4ffc0b52d03d6": {
     "model_module": "@jupyter-widgets/base",
     "model_module_version": "1.2.0",
     "model_name": "LayoutModel",
     "state": {
      "_model_module": "@jupyter-widgets/base",
      "_model_module_version": "1.2.0",
      "_model_name": "LayoutModel",
      "_view_count": null,
      "_view_module": "@jupyter-widgets/base",
      "_view_module_version": "1.2.0",
      "_view_name": "LayoutView",
      "align_content": null,
      "align_items": null,
      "align_self": null,
      "border": null,
      "bottom": null,
      "display": null,
      "flex": null,
      "flex_flow": null,
      "grid_area": null,
      "grid_auto_columns": null,
      "grid_auto_flow": null,
      "grid_auto_rows": null,
      "grid_column": null,
      "grid_gap": null,
      "grid_row": null,
      "grid_template_areas": null,
      "grid_template_columns": null,
      "grid_template_rows": null,
      "height": null,
      "justify_content": null,
      "justify_items": null,
      "left": null,
      "margin": null,
      "max_height": null,
      "max_width": null,
      "min_height": null,
      "min_width": null,
      "object_fit": null,
      "object_position": null,
      "order": null,
      "overflow": null,
      "overflow_x": null,
      "overflow_y": null,
      "padding": null,
      "right": null,
      "top": null,
      "visibility": null,
      "width": null
     }
    },
    "39f280e8bbab422b8d1a1d5d4a3caf62": {
     "model_module": "@jupyter-widgets/base",
     "model_module_version": "1.2.0",
     "model_name": "LayoutModel",
     "state": {
      "_model_module": "@jupyter-widgets/base",
      "_model_module_version": "1.2.0",
      "_model_name": "LayoutModel",
      "_view_count": null,
      "_view_module": "@jupyter-widgets/base",
      "_view_module_version": "1.2.0",
      "_view_name": "LayoutView",
      "align_content": null,
      "align_items": null,
      "align_self": null,
      "border": null,
      "bottom": null,
      "display": null,
      "flex": null,
      "flex_flow": null,
      "grid_area": null,
      "grid_auto_columns": null,
      "grid_auto_flow": null,
      "grid_auto_rows": null,
      "grid_column": null,
      "grid_gap": null,
      "grid_row": null,
      "grid_template_areas": null,
      "grid_template_columns": null,
      "grid_template_rows": null,
      "height": null,
      "justify_content": null,
      "justify_items": null,
      "left": null,
      "margin": "0px",
      "max_height": null,
      "max_width": null,
      "min_height": null,
      "min_width": null,
      "object_fit": null,
      "object_position": null,
      "order": null,
      "overflow": null,
      "overflow_x": null,
      "overflow_y": null,
      "padding": "0px",
      "right": null,
      "top": null,
      "visibility": null,
      "width": "100%"
     }
    },
    "3be8fb7adda84b168371392260c33188": {
     "model_module": "@jupyter-widgets/controls",
     "model_module_version": "1.5.0",
     "model_name": "BoxModel",
     "state": {
      "_dom_classes": [],
      "_model_module": "@jupyter-widgets/controls",
      "_model_module_version": "1.5.0",
      "_model_name": "BoxModel",
      "_view_count": null,
      "_view_module": "@jupyter-widgets/controls",
      "_view_module_version": "1.5.0",
      "_view_name": "BoxView",
      "box_style": "",
      "children": [
       "IPY_MODEL_da228563b6d047f59e07f578b98e4d9d"
      ],
      "layout": "IPY_MODEL_6d9c83c2fbe8400a87bb4716220cf93c"
     }
    },
    "56a89ad83fff47e8891fedd56f51bf3c": {
     "model_module": "@jupyter-widgets/controls",
     "model_module_version": "1.5.0",
     "model_name": "BoxModel",
     "state": {
      "_dom_classes": [],
      "_model_module": "@jupyter-widgets/controls",
      "_model_module_version": "1.5.0",
      "_model_name": "BoxModel",
      "_view_count": null,
      "_view_module": "@jupyter-widgets/controls",
      "_view_module_version": "1.5.0",
      "_view_name": "BoxView",
      "box_style": "",
      "children": [
       "IPY_MODEL_854a100054fc46d9b1f80d372d97fb6c"
      ],
      "layout": "IPY_MODEL_f6c8737b66914021ba10cef783910f36"
     }
    },
    "59dc26a450424a5f86e01d143e238a60": {
     "model_module": "@jupyter-widgets/output",
     "model_module_version": "1.0.0",
     "model_name": "OutputModel",
     "state": {
      "_dom_classes": [],
      "_model_module": "@jupyter-widgets/output",
      "_model_module_version": "1.0.0",
      "_model_name": "OutputModel",
      "_view_count": null,
      "_view_module": "@jupyter-widgets/output",
      "_view_module_version": "1.0.0",
      "_view_name": "OutputView",
      "layout": "IPY_MODEL_3281f202e16245219dc4ffc0b52d03d6",
      "msg_id": "",
      "outputs": [
       {
        "data": {
         "text/html": "<style>\n.highlight {background-color: #b0c0e0;}\nthead th {position: sticky; top:0; z-index: 1; background-color: #ebebeb;}\n</style>",
         "text/plain": "<IPython.core.display.HTML object>"
        },
        "metadata": {},
        "output_type": "display_data"
       },
       {
        "data": {
         "text/html": "<div id=\"scr_table_140269647578832_1733942217619\" style=\"height: 400px; overflow: auto; width: fit-content\"><table id=\"table_140269647578832_1733942217619\">\n  <thead>\n    <tr>\n      <th>Name</th>\n      <th>Operation</th>\n      <th>Activations</th>\n      <th>Params</th>\n      <th>FLOPS</th>\n    </tr>\n  <thead>\n  <tbody>\n    <tr>\n      <td id=\"cell_140269647578832_1733942217619_0_0\">x</td>\n      <td id=\"cell_140269647578832_1733942217619_0_1\">input</td>\n      <td id=\"cell_140269647578832_1733942217619_0_2\">(16, 3, 160, 160)</td>\n      <td id=\"cell_140269647578832_1733942217619_0_3\">0</td>\n      <td id=\"cell_140269647578832_1733942217619_0_4\">0</td>\n    </tr>\n    <tr>\n      <td id=\"cell_140269647578832_1733942217619_1_0\">conv1</td>\n      <td id=\"cell_140269647578832_1733942217619_1_1\">nn.Conv2d</td>\n      <td id=\"cell_140269647578832_1733942217619_1_2\">(16, 64, 80, 80)</td>\n      <td id=\"cell_140269647578832_1733942217619_1_3\">9408</td>\n      <td id=\"cell_140269647578832_1733942217619_1_4\">1926758400</td>\n    </tr>\n    <tr>\n      <td id=\"cell_140269647578832_1733942217619_2_0\">bn1</td>\n      <td id=\"cell_140269647578832_1733942217619_2_1\">nn.BatchNorm2d</td>\n      <td id=\"cell_140269647578832_1733942217619_2_2\">(16, 64, 80, 80)</td>\n      <td id=\"cell_140269647578832_1733942217619_2_3\">128</td>\n      <td id=\"cell_140269647578832_1733942217619_2_4\">13107200</td>\n    </tr>\n    <tr>\n      <td id=\"cell_140269647578832_1733942217619_3_0\">relu</td>\n      <td id=\"cell_140269647578832_1733942217619_3_1\">nn.ReLU</td>\n      <td id=\"cell_140269647578832_1733942217619_3_2\">(16, 64, 80, 80)</td>\n      <td id=\"cell_140269647578832_1733942217619_3_3\">0</td>\n      <td id=\"cell_140269647578832_1733942217619_3_4\">0</td>\n    </tr>\n    <tr>\n      <td id=\"cell_140269647578832_1733942217619_4_0\">maxpool</td>\n      <td id=\"cell_140269647578832_1733942217619_4_1\">nn.MaxPool2d</td>\n      <td id=\"cell_140269647578832_1733942217619_4_2\">(16, 64, 40, 40)</td>\n      <td id=\"cell_140269647578832_1733942217619_4_3\">0</td>\n      <td id=\"cell_140269647578832_1733942217619_4_4\">0</td>\n    </tr>\n    <tr>\n      <td id=\"cell_140269647578832_1733942217619_5_0\">layer1_0_conv1</td>\n      <td id=\"cell_140269647578832_1733942217619_5_1\">nn.Conv2d</td>\n      <td id=\"cell_140269647578832_1733942217619_5_2\">(16, 64, 40, 40)</td>\n      <td id=\"cell_140269647578832_1733942217619_5_3\">36864</td>\n      <td id=\"cell_140269647578832_1733942217619_5_4\">1887436800</td>\n    </tr>\n    <tr>\n      <td id=\"cell_140269647578832_1733942217619_6_0\">layer1_0_bn1</td>\n      <td id=\"cell_140269647578832_1733942217619_6_1\">nn.BatchNorm2d</td>\n      <td id=\"cell_140269647578832_1733942217619_6_2\">(16, 64, 40, 40)</td>\n      <td id=\"cell_140269647578832_1733942217619_6_3\">128</td>\n      <td id=\"cell_140269647578832_1733942217619_6_4\">3276800</td>\n    </tr>\n    <tr>\n      <td id=\"cell_140269647578832_1733942217619_7_0\">layer1_0_relu</td>\n      <td id=\"cell_140269647578832_1733942217619_7_1\">nn.ReLU</td>\n      <td id=\"cell_140269647578832_1733942217619_7_2\">(16, 64, 40, 40)</td>\n      <td id=\"cell_140269647578832_1733942217619_7_3\">0</td>\n      <td id=\"cell_140269647578832_1733942217619_7_4\">0</td>\n    </tr>\n    <tr>\n      <td id=\"cell_140269647578832_1733942217619_8_0\">layer1_0_conv2</td>\n      <td id=\"cell_140269647578832_1733942217619_8_1\">nn.Conv2d</td>\n      <td id=\"cell_140269647578832_1733942217619_8_2\">(16, 64, 40, 40)</td>\n      <td id=\"cell_140269647578832_1733942217619_8_3\">36864</td>\n      <td id=\"cell_140269647578832_1733942217619_8_4\">1887436800</td>\n    </tr>\n    <tr>\n      <td id=\"cell_140269647578832_1733942217619_9_0\">layer1_0_bn2</td>\n      <td id=\"cell_140269647578832_1733942217619_9_1\">nn.BatchNorm2d</td>\n      <td id=\"cell_140269647578832_1733942217619_9_2\">(16, 64, 40, 40)</td>\n      <td id=\"cell_140269647578832_1733942217619_9_3\">128</td>\n      <td id=\"cell_140269647578832_1733942217619_9_4\">3276800</td>\n    </tr>\n    <tr>\n      <td id=\"cell_140269647578832_1733942217619_10_0\">add</td>\n      <td id=\"cell_140269647578832_1733942217619_10_1\">add()</td>\n      <td id=\"cell_140269647578832_1733942217619_10_2\">(16, 64, 40, 40)</td>\n      <td id=\"cell_140269647578832_1733942217619_10_3\">0</td>\n      <td id=\"cell_140269647578832_1733942217619_10_4\">0</td>\n    </tr>\n    <tr>\n      <td id=\"cell_140269647578832_1733942217619_11_0\">layer1_0_relu_1</td>\n      <td id=\"cell_140269647578832_1733942217619_11_1\">nn.ReLU</td>\n      <td id=\"cell_140269647578832_1733942217619_11_2\">(16, 64, 40, 40)</td>\n      <td id=\"cell_140269647578832_1733942217619_11_3\">0</td>\n      <td id=\"cell_140269647578832_1733942217619_11_4\">0</td>\n    </tr>\n    <tr>\n      <td id=\"cell_140269647578832_1733942217619_12_0\">layer1_1_conv1</td>\n      <td id=\"cell_140269647578832_1733942217619_12_1\">nn.Conv2d</td>\n      <td id=\"cell_140269647578832_1733942217619_12_2\">(16, 64, 40, 40)</td>\n      <td id=\"cell_140269647578832_1733942217619_12_3\">36864</td>\n      <td id=\"cell_140269647578832_1733942217619_12_4\">1887436800</td>\n    </tr>\n    <tr>\n      <td id=\"cell_140269647578832_1733942217619_13_0\">layer1_1_bn1</td>\n      <td id=\"cell_140269647578832_1733942217619_13_1\">nn.BatchNorm2d</td>\n      <td id=\"cell_140269647578832_1733942217619_13_2\">(16, 64, 40, 40)</td>\n      <td id=\"cell_140269647578832_1733942217619_13_3\">128</td>\n      <td id=\"cell_140269647578832_1733942217619_13_4\">3276800</td>\n    </tr>\n    <tr>\n      <td id=\"cell_140269647578832_1733942217619_14_0\">layer1_1_relu</td>\n      <td id=\"cell_140269647578832_1733942217619_14_1\">nn.ReLU</td>\n      <td id=\"cell_140269647578832_1733942217619_14_2\">(16, 64, 40, 40)</td>\n      <td id=\"cell_140269647578832_1733942217619_14_3\">0</td>\n      <td id=\"cell_140269647578832_1733942217619_14_4\">0</td>\n    </tr>\n    <tr>\n      <td id=\"cell_140269647578832_1733942217619_15_0\">layer1_1_conv2</td>\n      <td id=\"cell_140269647578832_1733942217619_15_1\">nn.Conv2d</td>\n      <td id=\"cell_140269647578832_1733942217619_15_2\">(16, 64, 40, 40)</td>\n      <td id=\"cell_140269647578832_1733942217619_15_3\">36864</td>\n      <td id=\"cell_140269647578832_1733942217619_15_4\">1887436800</td>\n    </tr>\n    <tr>\n      <td id=\"cell_140269647578832_1733942217619_16_0\">layer1_1_bn2</td>\n      <td id=\"cell_140269647578832_1733942217619_16_1\">nn.BatchNorm2d</td>\n      <td id=\"cell_140269647578832_1733942217619_16_2\">(16, 64, 40, 40)</td>\n      <td id=\"cell_140269647578832_1733942217619_16_3\">128</td>\n      <td id=\"cell_140269647578832_1733942217619_16_4\">3276800</td>\n    </tr>\n    <tr>\n      <td id=\"cell_140269647578832_1733942217619_17_0\">add_1</td>\n      <td id=\"cell_140269647578832_1733942217619_17_1\">add()</td>\n      <td id=\"cell_140269647578832_1733942217619_17_2\">(16, 64, 40, 40)</td>\n      <td id=\"cell_140269647578832_1733942217619_17_3\">0</td>\n      <td id=\"cell_140269647578832_1733942217619_17_4\">0</td>\n    </tr>\n    <tr>\n      <td id=\"cell_140269647578832_1733942217619_18_0\">layer1_1_relu_1</td>\n      <td id=\"cell_140269647578832_1733942217619_18_1\">nn.ReLU</td>\n      <td id=\"cell_140269647578832_1733942217619_18_2\">(16, 64, 40, 40)</td>\n      <td id=\"cell_140269647578832_1733942217619_18_3\">0</td>\n      <td id=\"cell_140269647578832_1733942217619_18_4\">0</td>\n    </tr>\n    <tr>\n      <td id=\"cell_140269647578832_1733942217619_19_0\">layer2_0_conv1</td>\n      <td id=\"cell_140269647578832_1733942217619_19_1\">nn.Conv2d</td>\n      <td id=\"cell_140269647578832_1733942217619_19_2\">(16, 128, 20, 20)</td>\n      <td id=\"cell_140269647578832_1733942217619_19_3\">73728</td>\n      <td id=\"cell_140269647578832_1733942217619_19_4\">943718400</td>\n    </tr>\n    <tr>\n      <td id=\"cell_140269647578832_1733942217619_20_0\">layer2_0_bn1</td>\n      <td id=\"cell_140269647578832_1733942217619_20_1\">nn.BatchNorm2d</td>\n      <td id=\"cell_140269647578832_1733942217619_20_2\">(16, 128, 20, 20)</td>\n      <td id=\"cell_140269647578832_1733942217619_20_3\">256</td>\n      <td id=\"cell_140269647578832_1733942217619_20_4\">1638400</td>\n    </tr>\n    <tr>\n      <td id=\"cell_140269647578832_1733942217619_21_0\">layer2_0_relu</td>\n      <td id=\"cell_140269647578832_1733942217619_21_1\">nn.ReLU</td>\n      <td id=\"cell_140269647578832_1733942217619_21_2\">(16, 128, 20, 20)</td>\n      <td id=\"cell_140269647578832_1733942217619_21_3\">0</td>\n      <td id=\"cell_140269647578832_1733942217619_21_4\">0</td>\n    </tr>\n    <tr>\n      <td id=\"cell_140269647578832_1733942217619_22_0\">layer2_0_conv2</td>\n      <td id=\"cell_140269647578832_1733942217619_22_1\">nn.Conv2d</td>\n      <td id=\"cell_140269647578832_1733942217619_22_2\">(16, 128, 20, 20)</td>\n      <td id=\"cell_140269647578832_1733942217619_22_3\">147456</td>\n      <td id=\"cell_140269647578832_1733942217619_22_4\">1887436800</td>\n    </tr>\n    <tr>\n      <td id=\"cell_140269647578832_1733942217619_23_0\">layer2_0_bn2</td>\n      <td id=\"cell_140269647578832_1733942217619_23_1\">nn.BatchNorm2d</td>\n      <td id=\"cell_140269647578832_1733942217619_23_2\">(16, 128, 20, 20)</td>\n      <td id=\"cell_140269647578832_1733942217619_23_3\">256</td>\n      <td id=\"cell_140269647578832_1733942217619_23_4\">1638400</td>\n    </tr>\n    <tr>\n      <td id=\"cell_140269647578832_1733942217619_24_0\">layer2_0_downsample_0</td>\n      <td id=\"cell_140269647578832_1733942217619_24_1\">nn.Conv2d</td>\n      <td id=\"cell_140269647578832_1733942217619_24_2\">(16, 128, 20, 20)</td>\n      <td id=\"cell_140269647578832_1733942217619_24_3\">8192</td>\n      <td id=\"cell_140269647578832_1733942217619_24_4\">104857600</td>\n    </tr>\n    <tr>\n      <td id=\"cell_140269647578832_1733942217619_25_0\">layer2_0_downsample_1</td>\n      <td id=\"cell_140269647578832_1733942217619_25_1\">nn.BatchNorm2d</td>\n      <td id=\"cell_140269647578832_1733942217619_25_2\">(16, 128, 20, 20)</td>\n      <td id=\"cell_140269647578832_1733942217619_25_3\">256</td>\n      <td id=\"cell_140269647578832_1733942217619_25_4\">1638400</td>\n    </tr>\n    <tr>\n      <td id=\"cell_140269647578832_1733942217619_26_0\">add_2</td>\n      <td id=\"cell_140269647578832_1733942217619_26_1\">add()</td>\n      <td id=\"cell_140269647578832_1733942217619_26_2\">(16, 128, 20, 20)</td>\n      <td id=\"cell_140269647578832_1733942217619_26_3\">0</td>\n      <td id=\"cell_140269647578832_1733942217619_26_4\">0</td>\n    </tr>\n    <tr>\n      <td id=\"cell_140269647578832_1733942217619_27_0\">layer2_0_relu_1</td>\n      <td id=\"cell_140269647578832_1733942217619_27_1\">nn.ReLU</td>\n      <td id=\"cell_140269647578832_1733942217619_27_2\">(16, 128, 20, 20)</td>\n      <td id=\"cell_140269647578832_1733942217619_27_3\">0</td>\n      <td id=\"cell_140269647578832_1733942217619_27_4\">0</td>\n    </tr>\n    <tr>\n      <td id=\"cell_140269647578832_1733942217619_28_0\">layer2_1_conv1</td>\n      <td id=\"cell_140269647578832_1733942217619_28_1\">nn.Conv2d</td>\n      <td id=\"cell_140269647578832_1733942217619_28_2\">(16, 128, 20, 20)</td>\n      <td id=\"cell_140269647578832_1733942217619_28_3\">147456</td>\n      <td id=\"cell_140269647578832_1733942217619_28_4\">1887436800</td>\n    </tr>\n    <tr>\n      <td id=\"cell_140269647578832_1733942217619_29_0\">layer2_1_bn1</td>\n      <td id=\"cell_140269647578832_1733942217619_29_1\">nn.BatchNorm2d</td>\n      <td id=\"cell_140269647578832_1733942217619_29_2\">(16, 128, 20, 20)</td>\n      <td id=\"cell_140269647578832_1733942217619_29_3\">256</td>\n      <td id=\"cell_140269647578832_1733942217619_29_4\">1638400</td>\n    </tr>\n    <tr>\n      <td id=\"cell_140269647578832_1733942217619_30_0\">layer2_1_relu</td>\n      <td id=\"cell_140269647578832_1733942217619_30_1\">nn.ReLU</td>\n      <td id=\"cell_140269647578832_1733942217619_30_2\">(16, 128, 20, 20)</td>\n      <td id=\"cell_140269647578832_1733942217619_30_3\">0</td>\n      <td id=\"cell_140269647578832_1733942217619_30_4\">0</td>\n    </tr>\n    <tr>\n      <td id=\"cell_140269647578832_1733942217619_31_0\">layer2_1_conv2</td>\n      <td id=\"cell_140269647578832_1733942217619_31_1\">nn.Conv2d</td>\n      <td id=\"cell_140269647578832_1733942217619_31_2\">(16, 128, 20, 20)</td>\n      <td id=\"cell_140269647578832_1733942217619_31_3\">147456</td>\n      <td id=\"cell_140269647578832_1733942217619_31_4\">1887436800</td>\n    </tr>\n    <tr>\n      <td id=\"cell_140269647578832_1733942217619_32_0\">layer2_1_bn2</td>\n      <td id=\"cell_140269647578832_1733942217619_32_1\">nn.BatchNorm2d</td>\n      <td id=\"cell_140269647578832_1733942217619_32_2\">(16, 128, 20, 20)</td>\n      <td id=\"cell_140269647578832_1733942217619_32_3\">256</td>\n      <td id=\"cell_140269647578832_1733942217619_32_4\">1638400</td>\n    </tr>\n    <tr>\n      <td id=\"cell_140269647578832_1733942217619_33_0\">add_3</td>\n      <td id=\"cell_140269647578832_1733942217619_33_1\">add()</td>\n      <td id=\"cell_140269647578832_1733942217619_33_2\">(16, 128, 20, 20)</td>\n      <td id=\"cell_140269647578832_1733942217619_33_3\">0</td>\n      <td id=\"cell_140269647578832_1733942217619_33_4\">0</td>\n    </tr>\n    <tr>\n      <td id=\"cell_140269647578832_1733942217619_34_0\">layer2_1_relu_1</td>\n      <td id=\"cell_140269647578832_1733942217619_34_1\">nn.ReLU</td>\n      <td id=\"cell_140269647578832_1733942217619_34_2\">(16, 128, 20, 20)</td>\n      <td id=\"cell_140269647578832_1733942217619_34_3\">0</td>\n      <td id=\"cell_140269647578832_1733942217619_34_4\">0</td>\n    </tr>\n    <tr>\n      <td id=\"cell_140269647578832_1733942217619_35_0\">layer3_0_conv1</td>\n      <td id=\"cell_140269647578832_1733942217619_35_1\">nn.Conv2d</td>\n      <td id=\"cell_140269647578832_1733942217619_35_2\">(16, 256, 10, 10)</td>\n      <td id=\"cell_140269647578832_1733942217619_35_3\">294912</td>\n      <td id=\"cell_140269647578832_1733942217619_35_4\">943718400</td>\n    </tr>\n    <tr>\n      <td id=\"cell_140269647578832_1733942217619_36_0\">layer3_0_bn1</td>\n      <td id=\"cell_140269647578832_1733942217619_36_1\">nn.BatchNorm2d</td>\n      <td id=\"cell_140269647578832_1733942217619_36_2\">(16, 256, 10, 10)</td>\n      <td id=\"cell_140269647578832_1733942217619_36_3\">512</td>\n      <td id=\"cell_140269647578832_1733942217619_36_4\">819200</td>\n    </tr>\n    <tr>\n      <td id=\"cell_140269647578832_1733942217619_37_0\">layer3_0_relu</td>\n      <td id=\"cell_140269647578832_1733942217619_37_1\">nn.ReLU</td>\n      <td id=\"cell_140269647578832_1733942217619_37_2\">(16, 256, 10, 10)</td>\n      <td id=\"cell_140269647578832_1733942217619_37_3\">0</td>\n      <td id=\"cell_140269647578832_1733942217619_37_4\">0</td>\n    </tr>\n    <tr>\n      <td id=\"cell_140269647578832_1733942217619_38_0\">layer3_0_conv2</td>\n      <td id=\"cell_140269647578832_1733942217619_38_1\">nn.Conv2d</td>\n      <td id=\"cell_140269647578832_1733942217619_38_2\">(16, 256, 10, 10)</td>\n      <td id=\"cell_140269647578832_1733942217619_38_3\">589824</td>\n      <td id=\"cell_140269647578832_1733942217619_38_4\">1887436800</td>\n    </tr>\n    <tr>\n      <td id=\"cell_140269647578832_1733942217619_39_0\">layer3_0_bn2</td>\n      <td id=\"cell_140269647578832_1733942217619_39_1\">nn.BatchNorm2d</td>\n      <td id=\"cell_140269647578832_1733942217619_39_2\">(16, 256, 10, 10)</td>\n      <td id=\"cell_140269647578832_1733942217619_39_3\">512</td>\n      <td id=\"cell_140269647578832_1733942217619_39_4\">819200</td>\n    </tr>\n    <tr>\n      <td id=\"cell_140269647578832_1733942217619_40_0\">layer3_0_downsample_0</td>\n      <td id=\"cell_140269647578832_1733942217619_40_1\">nn.Conv2d</td>\n      <td id=\"cell_140269647578832_1733942217619_40_2\">(16, 256, 10, 10)</td>\n      <td id=\"cell_140269647578832_1733942217619_40_3\">32768</td>\n      <td id=\"cell_140269647578832_1733942217619_40_4\">104857600</td>\n    </tr>\n    <tr>\n      <td id=\"cell_140269647578832_1733942217619_41_0\">layer3_0_downsample_1</td>\n      <td id=\"cell_140269647578832_1733942217619_41_1\">nn.BatchNorm2d</td>\n      <td id=\"cell_140269647578832_1733942217619_41_2\">(16, 256, 10, 10)</td>\n      <td id=\"cell_140269647578832_1733942217619_41_3\">512</td>\n      <td id=\"cell_140269647578832_1733942217619_41_4\">819200</td>\n    </tr>\n    <tr>\n      <td id=\"cell_140269647578832_1733942217619_42_0\">add_4</td>\n      <td id=\"cell_140269647578832_1733942217619_42_1\">add()</td>\n      <td id=\"cell_140269647578832_1733942217619_42_2\">(16, 256, 10, 10)</td>\n      <td id=\"cell_140269647578832_1733942217619_42_3\">0</td>\n      <td id=\"cell_140269647578832_1733942217619_42_4\">0</td>\n    </tr>\n    <tr>\n      <td id=\"cell_140269647578832_1733942217619_43_0\">layer3_0_relu_1</td>\n      <td id=\"cell_140269647578832_1733942217619_43_1\">nn.ReLU</td>\n      <td id=\"cell_140269647578832_1733942217619_43_2\">(16, 256, 10, 10)</td>\n      <td id=\"cell_140269647578832_1733942217619_43_3\">0</td>\n      <td id=\"cell_140269647578832_1733942217619_43_4\">0</td>\n    </tr>\n    <tr>\n      <td id=\"cell_140269647578832_1733942217619_44_0\">layer3_1_conv1</td>\n      <td id=\"cell_140269647578832_1733942217619_44_1\">nn.Conv2d</td>\n      <td id=\"cell_140269647578832_1733942217619_44_2\">(16, 256, 10, 10)</td>\n      <td id=\"cell_140269647578832_1733942217619_44_3\">589824</td>\n      <td id=\"cell_140269647578832_1733942217619_44_4\">1887436800</td>\n    </tr>\n    <tr>\n      <td id=\"cell_140269647578832_1733942217619_45_0\">layer3_1_bn1</td>\n      <td id=\"cell_140269647578832_1733942217619_45_1\">nn.BatchNorm2d</td>\n      <td id=\"cell_140269647578832_1733942217619_45_2\">(16, 256, 10, 10)</td>\n      <td id=\"cell_140269647578832_1733942217619_45_3\">512</td>\n      <td id=\"cell_140269647578832_1733942217619_45_4\">819200</td>\n    </tr>\n    <tr>\n      <td id=\"cell_140269647578832_1733942217619_46_0\">layer3_1_relu</td>\n      <td id=\"cell_140269647578832_1733942217619_46_1\">nn.ReLU</td>\n      <td id=\"cell_140269647578832_1733942217619_46_2\">(16, 256, 10, 10)</td>\n      <td id=\"cell_140269647578832_1733942217619_46_3\">0</td>\n      <td id=\"cell_140269647578832_1733942217619_46_4\">0</td>\n    </tr>\n    <tr>\n      <td id=\"cell_140269647578832_1733942217619_47_0\">layer3_1_conv2</td>\n      <td id=\"cell_140269647578832_1733942217619_47_1\">nn.Conv2d</td>\n      <td id=\"cell_140269647578832_1733942217619_47_2\">(16, 256, 10, 10)</td>\n      <td id=\"cell_140269647578832_1733942217619_47_3\">589824</td>\n      <td id=\"cell_140269647578832_1733942217619_47_4\">1887436800</td>\n    </tr>\n    <tr>\n      <td id=\"cell_140269647578832_1733942217619_48_0\">layer3_1_bn2</td>\n      <td id=\"cell_140269647578832_1733942217619_48_1\">nn.BatchNorm2d</td>\n      <td id=\"cell_140269647578832_1733942217619_48_2\">(16, 256, 10, 10)</td>\n      <td id=\"cell_140269647578832_1733942217619_48_3\">512</td>\n      <td id=\"cell_140269647578832_1733942217619_48_4\">819200</td>\n    </tr>\n    <tr>\n      <td id=\"cell_140269647578832_1733942217619_49_0\">add_5</td>\n      <td id=\"cell_140269647578832_1733942217619_49_1\">add()</td>\n      <td id=\"cell_140269647578832_1733942217619_49_2\">(16, 256, 10, 10)</td>\n      <td id=\"cell_140269647578832_1733942217619_49_3\">0</td>\n      <td id=\"cell_140269647578832_1733942217619_49_4\">0</td>\n    </tr>\n    <tr>\n      <td id=\"cell_140269647578832_1733942217619_50_0\">layer3_1_relu_1</td>\n      <td id=\"cell_140269647578832_1733942217619_50_1\">nn.ReLU</td>\n      <td id=\"cell_140269647578832_1733942217619_50_2\">(16, 256, 10, 10)</td>\n      <td id=\"cell_140269647578832_1733942217619_50_3\">0</td>\n      <td id=\"cell_140269647578832_1733942217619_50_4\">0</td>\n    </tr>\n    <tr>\n      <td id=\"cell_140269647578832_1733942217619_51_0\">layer4_0_conv1</td>\n      <td id=\"cell_140269647578832_1733942217619_51_1\">nn.Conv2d</td>\n      <td id=\"cell_140269647578832_1733942217619_51_2\">(16, 512, 5, 5)</td>\n      <td id=\"cell_140269647578832_1733942217619_51_3\">1179648</td>\n      <td id=\"cell_140269647578832_1733942217619_51_4\">943718400</td>\n    </tr>\n    <tr>\n      <td id=\"cell_140269647578832_1733942217619_52_0\">layer4_0_bn1</td>\n      <td id=\"cell_140269647578832_1733942217619_52_1\">nn.BatchNorm2d</td>\n      <td id=\"cell_140269647578832_1733942217619_52_2\">(16, 512, 5, 5)</td>\n      <td id=\"cell_140269647578832_1733942217619_52_3\">1024</td>\n      <td id=\"cell_140269647578832_1733942217619_52_4\">409600</td>\n    </tr>\n    <tr>\n      <td id=\"cell_140269647578832_1733942217619_53_0\">layer4_0_relu</td>\n      <td id=\"cell_140269647578832_1733942217619_53_1\">nn.ReLU</td>\n      <td id=\"cell_140269647578832_1733942217619_53_2\">(16, 512, 5, 5)</td>\n      <td id=\"cell_140269647578832_1733942217619_53_3\">0</td>\n      <td id=\"cell_140269647578832_1733942217619_53_4\">0</td>\n    </tr>\n    <tr>\n      <td id=\"cell_140269647578832_1733942217619_54_0\">layer4_0_conv2</td>\n      <td id=\"cell_140269647578832_1733942217619_54_1\">nn.Conv2d</td>\n      <td id=\"cell_140269647578832_1733942217619_54_2\">(16, 512, 5, 5)</td>\n      <td id=\"cell_140269647578832_1733942217619_54_3\">2359296</td>\n      <td id=\"cell_140269647578832_1733942217619_54_4\">1887436800</td>\n    </tr>\n    <tr>\n      <td id=\"cell_140269647578832_1733942217619_55_0\">layer4_0_bn2</td>\n      <td id=\"cell_140269647578832_1733942217619_55_1\">nn.BatchNorm2d</td>\n      <td id=\"cell_140269647578832_1733942217619_55_2\">(16, 512, 5, 5)</td>\n      <td id=\"cell_140269647578832_1733942217619_55_3\">1024</td>\n      <td id=\"cell_140269647578832_1733942217619_55_4\">409600</td>\n    </tr>\n    <tr>\n      <td id=\"cell_140269647578832_1733942217619_56_0\">layer4_0_downsample_0</td>\n      <td id=\"cell_140269647578832_1733942217619_56_1\">nn.Conv2d</td>\n      <td id=\"cell_140269647578832_1733942217619_56_2\">(16, 512, 5, 5)</td>\n      <td id=\"cell_140269647578832_1733942217619_56_3\">131072</td>\n      <td id=\"cell_140269647578832_1733942217619_56_4\">104857600</td>\n    </tr>\n    <tr>\n      <td id=\"cell_140269647578832_1733942217619_57_0\">layer4_0_downsample_1</td>\n      <td id=\"cell_140269647578832_1733942217619_57_1\">nn.BatchNorm2d</td>\n      <td id=\"cell_140269647578832_1733942217619_57_2\">(16, 512, 5, 5)</td>\n      <td id=\"cell_140269647578832_1733942217619_57_3\">1024</td>\n      <td id=\"cell_140269647578832_1733942217619_57_4\">409600</td>\n    </tr>\n    <tr>\n      <td id=\"cell_140269647578832_1733942217619_58_0\">add_6</td>\n      <td id=\"cell_140269647578832_1733942217619_58_1\">add()</td>\n      <td id=\"cell_140269647578832_1733942217619_58_2\">(16, 512, 5, 5)</td>\n      <td id=\"cell_140269647578832_1733942217619_58_3\">0</td>\n      <td id=\"cell_140269647578832_1733942217619_58_4\">0</td>\n    </tr>\n    <tr>\n      <td id=\"cell_140269647578832_1733942217619_59_0\">layer4_0_relu_1</td>\n      <td id=\"cell_140269647578832_1733942217619_59_1\">nn.ReLU</td>\n      <td id=\"cell_140269647578832_1733942217619_59_2\">(16, 512, 5, 5)</td>\n      <td id=\"cell_140269647578832_1733942217619_59_3\">0</td>\n      <td id=\"cell_140269647578832_1733942217619_59_4\">0</td>\n    </tr>\n    <tr>\n      <td id=\"cell_140269647578832_1733942217619_60_0\">layer4_1_conv1</td>\n      <td id=\"cell_140269647578832_1733942217619_60_1\">nn.Conv2d</td>\n      <td id=\"cell_140269647578832_1733942217619_60_2\">(16, 512, 5, 5)</td>\n      <td id=\"cell_140269647578832_1733942217619_60_3\">2359296</td>\n      <td id=\"cell_140269647578832_1733942217619_60_4\">1887436800</td>\n    </tr>\n    <tr>\n      <td id=\"cell_140269647578832_1733942217619_61_0\">layer4_1_bn1</td>\n      <td id=\"cell_140269647578832_1733942217619_61_1\">nn.BatchNorm2d</td>\n      <td id=\"cell_140269647578832_1733942217619_61_2\">(16, 512, 5, 5)</td>\n      <td id=\"cell_140269647578832_1733942217619_61_3\">1024</td>\n      <td id=\"cell_140269647578832_1733942217619_61_4\">409600</td>\n    </tr>\n    <tr>\n      <td id=\"cell_140269647578832_1733942217619_62_0\">layer4_1_relu</td>\n      <td id=\"cell_140269647578832_1733942217619_62_1\">nn.ReLU</td>\n      <td id=\"cell_140269647578832_1733942217619_62_2\">(16, 512, 5, 5)</td>\n      <td id=\"cell_140269647578832_1733942217619_62_3\">0</td>\n      <td id=\"cell_140269647578832_1733942217619_62_4\">0</td>\n    </tr>\n    <tr>\n      <td id=\"cell_140269647578832_1733942217619_63_0\">layer4_1_conv2</td>\n      <td id=\"cell_140269647578832_1733942217619_63_1\">nn.Conv2d</td>\n      <td id=\"cell_140269647578832_1733942217619_63_2\">(16, 512, 5, 5)</td>\n      <td id=\"cell_140269647578832_1733942217619_63_3\">2359296</td>\n      <td id=\"cell_140269647578832_1733942217619_63_4\">1887436800</td>\n    </tr>\n    <tr>\n      <td id=\"cell_140269647578832_1733942217619_64_0\">layer4_1_bn2</td>\n      <td id=\"cell_140269647578832_1733942217619_64_1\">nn.BatchNorm2d</td>\n      <td id=\"cell_140269647578832_1733942217619_64_2\">(16, 512, 5, 5)</td>\n      <td id=\"cell_140269647578832_1733942217619_64_3\">1024</td>\n      <td id=\"cell_140269647578832_1733942217619_64_4\">409600</td>\n    </tr>\n    <tr>\n      <td id=\"cell_140269647578832_1733942217619_65_0\">add_7</td>\n      <td id=\"cell_140269647578832_1733942217619_65_1\">add()</td>\n      <td id=\"cell_140269647578832_1733942217619_65_2\">(16, 512, 5, 5)</td>\n      <td id=\"cell_140269647578832_1733942217619_65_3\">0</td>\n      <td id=\"cell_140269647578832_1733942217619_65_4\">0</td>\n    </tr>\n    <tr>\n      <td id=\"cell_140269647578832_1733942217619_66_0\">layer4_1_relu_1</td>\n      <td id=\"cell_140269647578832_1733942217619_66_1\">nn.ReLU</td>\n      <td id=\"cell_140269647578832_1733942217619_66_2\">(16, 512, 5, 5)</td>\n      <td id=\"cell_140269647578832_1733942217619_66_3\">0</td>\n      <td id=\"cell_140269647578832_1733942217619_66_4\">0</td>\n    </tr>\n    <tr>\n      <td id=\"cell_140269647578832_1733942217619_67_0\">avgpool</td>\n      <td id=\"cell_140269647578832_1733942217619_67_1\">nn.AdaptiveAvgPool2d</td>\n      <td id=\"cell_140269647578832_1733942217619_67_2\">(16, 512, 1, 1)</td>\n      <td id=\"cell_140269647578832_1733942217619_67_3\">0</td>\n      <td id=\"cell_140269647578832_1733942217619_67_4\">16384</td>\n    </tr>\n    <tr>\n      <td id=\"cell_140269647578832_1733942217619_68_0\">flatten</td>\n      <td id=\"cell_140269647578832_1733942217619_68_1\">flatten()</td>\n      <td id=\"cell_140269647578832_1733942217619_68_2\">(16, 512)</td>\n      <td id=\"cell_140269647578832_1733942217619_68_3\">0</td>\n      <td id=\"cell_140269647578832_1733942217619_68_4\">0</td>\n    </tr>\n    <tr>\n      <td id=\"cell_140269647578832_1733942217619_69_0\">fc</td>\n      <td id=\"cell_140269647578832_1733942217619_69_1\">nn.Linear</td>\n      <td id=\"cell_140269647578832_1733942217619_69_2\">(16, 1000)</td>\n      <td id=\"cell_140269647578832_1733942217619_69_3\">513000</td>\n      <td id=\"cell_140269647578832_1733942217619_69_4\">16384000</td>\n    </tr>\n    <tr>\n      <td id=\"cell_140269647578832_1733942217619_70_0\">output</td>\n      <td id=\"cell_140269647578832_1733942217619_70_1\">output</td>\n      <td id=\"cell_140269647578832_1733942217619_70_2\">(16, 1000)</td>\n      <td id=\"cell_140269647578832_1733942217619_70_3\">0</td>\n      <td id=\"cell_140269647578832_1733942217619_70_4\">0</td>\n    </tr>\n  </tbody>\n</table></div>",
         "text/plain": "<IPython.core.display.HTML object>"
        },
        "metadata": {},
        "output_type": "display_data"
       }
      ]
     }
    },
    "6d9c83c2fbe8400a87bb4716220cf93c": {
     "model_module": "@jupyter-widgets/base",
     "model_module_version": "1.2.0",
     "model_name": "LayoutModel",
     "state": {
      "_model_module": "@jupyter-widgets/base",
      "_model_module_version": "1.2.0",
      "_model_name": "LayoutModel",
      "_view_count": null,
      "_view_module": "@jupyter-widgets/base",
      "_view_module_version": "1.2.0",
      "_view_name": "LayoutView",
      "align_content": null,
      "align_items": null,
      "align_self": null,
      "border": null,
      "bottom": null,
      "display": null,
      "flex": "0 0 auto",
      "flex_flow": null,
      "grid_area": null,
      "grid_auto_columns": null,
      "grid_auto_flow": null,
      "grid_auto_rows": null,
      "grid_column": null,
      "grid_gap": null,
      "grid_row": null,
      "grid_template_areas": null,
      "grid_template_columns": null,
      "grid_template_rows": null,
      "height": null,
      "justify_content": null,
      "justify_items": null,
      "left": null,
      "margin": "0px",
      "max_height": null,
      "max_width": null,
      "min_height": null,
      "min_width": null,
      "object_fit": null,
      "object_position": null,
      "order": null,
      "overflow": "hidden",
      "overflow_x": null,
      "overflow_y": null,
      "padding": "0px",
      "right": null,
      "top": null,
      "visibility": null,
      "width": null
     }
    },
    "81182016e1e840b3b5f4a7b9eba3b455": {
     "model_module": "@jupyter-widgets/controls",
     "model_module_version": "1.5.0",
     "model_name": "HBoxModel",
     "state": {
      "_dom_classes": [],
      "_model_module": "@jupyter-widgets/controls",
      "_model_module_version": "1.5.0",
      "_model_name": "HBoxModel",
      "_view_count": null,
      "_view_module": "@jupyter-widgets/controls",
      "_view_module_version": "1.5.0",
      "_view_name": "HBoxView",
      "box_style": "",
      "children": [
       "IPY_MODEL_3be8fb7adda84b168371392260c33188",
       "IPY_MODEL_e1e649b96b7c41b79b486674bba7c666",
       "IPY_MODEL_f39ecaf94aa647198a3fff6c3752d52c"
      ],
      "layout": "IPY_MODEL_f5d17aac39be48588238c4cc640b56b5"
     }
    },
    "854a100054fc46d9b1f80d372d97fb6c": {
     "model_module": "jupyterlab-plotly",
     "model_module_version": "^5.24.1",
     "model_name": "FigureModel",
     "state": {
      "_config": {
       "plotlyServerURL": "https://plot.ly"
      },
      "_data": [],
      "_dom_classes": [],
      "_js2py_layoutDelta": null,
      "_js2py_pointsCallback": {
       "device_state": {
        "alt": false,
        "button": 0,
        "buttons": 0,
        "ctrl": false,
        "meta": false,
        "shift": false
       },
       "event_type": "plotly_unhover",
       "points": {
        "point_indexes": [
         15
        ],
        "trace_indexes": [
         2
        ],
        "xs": [
         0
        ],
        "ys": [
         6
        ]
       },
       "selector": null
      },
      "_js2py_relayout": {},
      "_js2py_restyle": {},
      "_js2py_traceDeltas": null,
      "_js2py_update": {},
      "_last_layout_edit_id": 5,
      "_last_trace_edit_id": 4,
      "_layout": {
       "autosize": true,
       "height": 400,
       "margin": {
        "b": 1,
        "l": 0,
        "r": 2,
        "t": 1
       },
       "plot_bgcolor": "#e5ecf6",
       "showlegend": false,
       "width": 200,
       "xaxis": {
        "range": [
         -0.5,
         1.5
        ],
        "showgrid": false,
        "visible": false,
        "zeroline": false
       },
       "yaxis": {
        "range": [
         9.5,
         -0.5
        ],
        "showgrid": false,
        "visible": false,
        "zeroline": false
       }
      },
      "_model_module": "jupyterlab-plotly",
      "_model_module_version": "^5.24.1",
      "_model_name": "FigureModel",
      "_py2js_addTraces": null,
      "_py2js_animate": {},
      "_py2js_deleteTraces": {},
      "_py2js_moveTraces": {},
      "_py2js_relayout": null,
      "_py2js_removeLayoutProps": {},
      "_py2js_removeTraceProps": {},
      "_py2js_restyle": {},
      "_py2js_update": null,
      "_view_count": 1,
      "_view_module": "jupyterlab-plotly",
      "_view_module_version": "^5.24.1",
      "_view_name": "FigureView"
     }
    },
    "9573cb4362d14a5e9d5bb04c14bb165d": {
     "model_module": "@jupyter-widgets/controls",
     "model_module_version": "1.5.0",
     "model_name": "BoxModel",
     "state": {
      "_dom_classes": [],
      "_model_module": "@jupyter-widgets/controls",
      "_model_module_version": "1.5.0",
      "_model_name": "BoxModel",
      "_view_count": null,
      "_view_module": "@jupyter-widgets/controls",
      "_view_module_version": "1.5.0",
      "_view_name": "BoxView",
      "box_style": "",
      "children": [
       "IPY_MODEL_59dc26a450424a5f86e01d143e238a60"
      ],
      "layout": "IPY_MODEL_a41627a03b914a55ad92499c16064e39"
     }
    },
    "9af835ce905f45e191d2ed56d4a67c3b": {
     "model_module": "@jupyter-widgets/base",
     "model_module_version": "1.2.0",
     "model_name": "LayoutModel",
     "state": {
      "_model_module": "@jupyter-widgets/base",
      "_model_module_version": "1.2.0",
      "_model_name": "LayoutModel",
      "_view_count": null,
      "_view_module": "@jupyter-widgets/base",
      "_view_module_version": "1.2.0",
      "_view_name": "LayoutView",
      "align_content": null,
      "align_items": null,
      "align_self": null,
      "border": null,
      "bottom": null,
      "display": null,
      "flex": "0 0 auto",
      "flex_flow": null,
      "grid_area": null,
      "grid_auto_columns": null,
      "grid_auto_flow": null,
      "grid_auto_rows": null,
      "grid_column": null,
      "grid_gap": null,
      "grid_row": null,
      "grid_template_areas": null,
      "grid_template_columns": null,
      "grid_template_rows": null,
      "height": null,
      "justify_content": null,
      "justify_items": null,
      "left": null,
      "margin": "0px",
      "max_height": null,
      "max_width": null,
      "min_height": null,
      "min_width": null,
      "object_fit": null,
      "object_position": null,
      "order": null,
      "overflow": "hidden",
      "overflow_x": null,
      "overflow_y": null,
      "padding": "0px",
      "right": null,
      "top": null,
      "visibility": null,
      "width": null
     }
    },
    "a41627a03b914a55ad92499c16064e39": {
     "model_module": "@jupyter-widgets/base",
     "model_module_version": "1.2.0",
     "model_name": "LayoutModel",
     "state": {
      "_model_module": "@jupyter-widgets/base",
      "_model_module_version": "1.2.0",
      "_model_name": "LayoutModel",
      "_view_count": null,
      "_view_module": "@jupyter-widgets/base",
      "_view_module_version": "1.2.0",
      "_view_name": "LayoutView",
      "align_content": null,
      "align_items": null,
      "align_self": null,
      "border": null,
      "bottom": null,
      "display": null,
      "flex": "0 0 auto",
      "flex_flow": null,
      "grid_area": null,
      "grid_auto_columns": null,
      "grid_auto_flow": null,
      "grid_auto_rows": null,
      "grid_column": null,
      "grid_gap": null,
      "grid_row": null,
      "grid_template_areas": null,
      "grid_template_columns": null,
      "grid_template_rows": null,
      "height": null,
      "justify_content": null,
      "justify_items": null,
      "left": null,
      "margin": "0px",
      "max_height": null,
      "max_width": null,
      "min_height": null,
      "min_width": null,
      "object_fit": null,
      "object_position": null,
      "order": null,
      "overflow": "visible",
      "overflow_x": null,
      "overflow_y": null,
      "padding": "0px",
      "right": null,
      "top": null,
      "visibility": null,
      "width": null
     }
    },
    "a9c53591417849bca7383fc26763a7bd": {
     "model_module": "@jupyter-widgets/controls",
     "model_module_version": "1.5.0",
     "model_name": "HBoxModel",
     "state": {
      "_dom_classes": [],
      "_model_module": "@jupyter-widgets/controls",
      "_model_module_version": "1.5.0",
      "_model_name": "HBoxModel",
      "_view_count": null,
      "_view_module": "@jupyter-widgets/controls",
      "_view_module_version": "1.5.0",
      "_view_name": "HBoxView",
      "box_style": "",
      "children": [
       "IPY_MODEL_c8e0f4d9696b4369b4adf1cb59d01347",
       "IPY_MODEL_56a89ad83fff47e8891fedd56f51bf3c",
       "IPY_MODEL_9573cb4362d14a5e9d5bb04c14bb165d"
      ],
      "layout": "IPY_MODEL_39f280e8bbab422b8d1a1d5d4a3caf62"
     }
    },
    "b4ce1adff94d415483cc70533ef69b39": {
     "model_module": "@jupyter-widgets/base",
     "model_module_version": "1.2.0",
     "model_name": "LayoutModel",
     "state": {
      "_model_module": "@jupyter-widgets/base",
      "_model_module_version": "1.2.0",
      "_model_name": "LayoutModel",
      "_view_count": null,
      "_view_module": "@jupyter-widgets/base",
      "_view_module_version": "1.2.0",
      "_view_name": "LayoutView",
      "align_content": null,
      "align_items": null,
      "align_self": null,
      "border": null,
      "bottom": null,
      "display": null,
      "flex": "0 0 auto",
      "flex_flow": null,
      "grid_area": null,
      "grid_auto_columns": null,
      "grid_auto_flow": null,
      "grid_auto_rows": null,
      "grid_column": null,
      "grid_gap": null,
      "grid_row": null,
      "grid_template_areas": null,
      "grid_template_columns": null,
      "grid_template_rows": null,
      "height": null,
      "justify_content": null,
      "justify_items": null,
      "left": null,
      "margin": "0px",
      "max_height": null,
      "max_width": null,
      "min_height": null,
      "min_width": null,
      "object_fit": null,
      "object_position": null,
      "order": null,
      "overflow": "visible",
      "overflow_x": null,
      "overflow_y": null,
      "padding": "0px",
      "right": null,
      "top": null,
      "visibility": null,
      "width": null
     }
    },
    "c8e0f4d9696b4369b4adf1cb59d01347": {
     "model_module": "@jupyter-widgets/controls",
     "model_module_version": "1.5.0",
     "model_name": "BoxModel",
     "state": {
      "_dom_classes": [],
      "_model_module": "@jupyter-widgets/controls",
      "_model_module_version": "1.5.0",
      "_model_name": "BoxModel",
      "_view_count": null,
      "_view_module": "@jupyter-widgets/controls",
      "_view_module_version": "1.5.0",
      "_view_name": "BoxView",
      "box_style": "",
      "children": [
       "IPY_MODEL_02c6f3009989482289670ae7dd23c662"
      ],
      "layout": "IPY_MODEL_9af835ce905f45e191d2ed56d4a67c3b"
     }
    },
    "da228563b6d047f59e07f578b98e4d9d": {
     "model_module": "jupyterlab-plotly",
     "model_module_version": "^5.24.1",
     "model_name": "FigureModel",
     "state": {
      "_config": {
       "plotlyServerURL": "https://plot.ly"
      },
      "_data": [],
      "_dom_classes": [],
      "_js2py_layoutDelta": null,
      "_js2py_pointsCallback": {},
      "_js2py_relayout": {},
      "_js2py_restyle": {},
      "_js2py_traceDeltas": null,
      "_js2py_update": {},
      "_last_layout_edit_id": 5,
      "_last_trace_edit_id": 4,
      "_layout": {
       "height": 400,
       "hoverdistance": -1,
       "margin": {
        "b": 1,
        "l": 0,
        "r": 4,
        "t": 1
       },
       "plot_bgcolor": "#dfdfdf",
       "showlegend": false,
       "width": 45,
       "xaxis": {
        "showgrid": false,
        "visible": false,
        "zeroline": false
       },
       "yaxis": {
        "range": [
         27.5,
         -0.5
        ],
        "showgrid": false,
        "visible": false,
        "zeroline": false
       }
      },
      "_model_module": "jupyterlab-plotly",
      "_model_module_version": "^5.24.1",
      "_model_name": "FigureModel",
      "_py2js_addTraces": null,
      "_py2js_animate": {},
      "_py2js_deleteTraces": {},
      "_py2js_moveTraces": {},
      "_py2js_relayout": null,
      "_py2js_removeLayoutProps": {},
      "_py2js_removeTraceProps": {},
      "_py2js_restyle": {},
      "_py2js_update": null,
      "_view_count": 1,
      "_view_module": "jupyterlab-plotly",
      "_view_module_version": "^5.24.1",
      "_view_name": "FigureView"
     }
    },
    "e1e649b96b7c41b79b486674bba7c666": {
     "model_module": "@jupyter-widgets/controls",
     "model_module_version": "1.5.0",
     "model_name": "BoxModel",
     "state": {
      "_dom_classes": [],
      "_model_module": "@jupyter-widgets/controls",
      "_model_module_version": "1.5.0",
      "_model_name": "BoxModel",
      "_view_count": null,
      "_view_module": "@jupyter-widgets/controls",
      "_view_module_version": "1.5.0",
      "_view_name": "BoxView",
      "box_style": "",
      "children": [
       "IPY_MODEL_01bc45456eda40a49ca58614b9e51088"
      ],
      "layout": "IPY_MODEL_0c0e0dee4b3546b5a291458c96fdc971"
     }
    },
    "f39ecaf94aa647198a3fff6c3752d52c": {
     "model_module": "@jupyter-widgets/controls",
     "model_module_version": "1.5.0",
     "model_name": "BoxModel",
     "state": {
      "_dom_classes": [],
      "_model_module": "@jupyter-widgets/controls",
      "_model_module_version": "1.5.0",
      "_model_name": "BoxModel",
      "_view_count": null,
      "_view_module": "@jupyter-widgets/controls",
      "_view_module_version": "1.5.0",
      "_view_name": "BoxView",
      "box_style": "",
      "children": [
       "IPY_MODEL_0d21ab2b36994ebab1b68594aa0a495a"
      ],
      "layout": "IPY_MODEL_b4ce1adff94d415483cc70533ef69b39"
     }
    },
    "f5d17aac39be48588238c4cc640b56b5": {
     "model_module": "@jupyter-widgets/base",
     "model_module_version": "1.2.0",
     "model_name": "LayoutModel",
     "state": {
      "_model_module": "@jupyter-widgets/base",
      "_model_module_version": "1.2.0",
      "_model_name": "LayoutModel",
      "_view_count": null,
      "_view_module": "@jupyter-widgets/base",
      "_view_module_version": "1.2.0",
      "_view_name": "LayoutView",
      "align_content": null,
      "align_items": null,
      "align_self": null,
      "border": null,
      "bottom": null,
      "display": null,
      "flex": null,
      "flex_flow": null,
      "grid_area": null,
      "grid_auto_columns": null,
      "grid_auto_flow": null,
      "grid_auto_rows": null,
      "grid_column": null,
      "grid_gap": null,
      "grid_row": null,
      "grid_template_areas": null,
      "grid_template_columns": null,
      "grid_template_rows": null,
      "height": null,
      "justify_content": null,
      "justify_items": null,
      "left": null,
      "margin": "0px",
      "max_height": null,
      "max_width": null,
      "min_height": null,
      "min_width": null,
      "object_fit": null,
      "object_position": null,
      "order": null,
      "overflow": null,
      "overflow_x": null,
      "overflow_y": null,
      "padding": "0px",
      "right": null,
      "top": null,
      "visibility": null,
      "width": "100%"
     }
    },
    "f6c8737b66914021ba10cef783910f36": {
     "model_module": "@jupyter-widgets/base",
     "model_module_version": "1.2.0",
     "model_name": "LayoutModel",
     "state": {
      "_model_module": "@jupyter-widgets/base",
      "_model_module_version": "1.2.0",
      "_model_name": "LayoutModel",
      "_view_count": null,
      "_view_module": "@jupyter-widgets/base",
      "_view_module_version": "1.2.0",
      "_view_name": "LayoutView",
      "align_content": null,
      "align_items": null,
      "align_self": null,
      "border": null,
      "bottom": null,
      "display": null,
      "flex": "0 1 auto",
      "flex_flow": null,
      "grid_area": null,
      "grid_auto_columns": null,
      "grid_auto_flow": null,
      "grid_auto_rows": null,
      "grid_column": null,
      "grid_gap": null,
      "grid_row": null,
      "grid_template_areas": null,
      "grid_template_columns": null,
      "grid_template_rows": null,
      "height": null,
      "justify_content": null,
      "justify_items": null,
      "left": null,
      "margin": "0px",
      "max_height": null,
      "max_width": null,
      "min_height": null,
      "min_width": null,
      "object_fit": null,
      "object_position": null,
      "order": null,
      "overflow": "hidden",
      "overflow_x": null,
      "overflow_y": null,
      "padding": "0px",
      "right": null,
      "top": null,
      "visibility": null,
      "width": null
     }
    }
   }
  }
 },
 "nbformat": 4,
 "nbformat_minor": 0
}
