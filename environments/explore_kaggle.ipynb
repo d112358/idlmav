{
 "cells": [
  {
   "cell_type": "markdown",
   "metadata": {
    "id": "PtFDLbDqRgYQ"
   },
   "source": [
    "## Kaggle environment notes and experiments\n",
    "This notebook contains several experiments performed on Kaggle"
   ]
  },
  {
   "cell_type": "markdown",
   "metadata": {
    "id": "ijYWrYSF7zQY"
   },
   "source": [
    "## Running library notebooks on Kaggle\n",
    "TODO: Update this section"
   ]
  },
  {
   "cell_type": "markdown",
   "metadata": {
    "id": "dO2rTp7Y_g36"
   },
   "source": [
    "### Notebook links\n",
    "* [00_overview.ipynb](../nbs/00_overview.ipynb)\n",
    "* [01_explore_layout.ipynb](../nbs/01_explore_layout.ipynb)\n",
    "* [02_test_layout.ipynb](../nbs/02_test_layout.ipynb)\n",
    "* [03_explore_rendering.ipynb](../nbs/03_explore_rendering.ipynb)\n",
    "* [04_explore_plotly_interaction.ipynb](../nbs/04_explore_plotly_interaction.ipynb)\n",
    "* [05_explore_js_interaction.ipynb](../nbs/05_explore_js_interaction.ipynb)\n",
    "* [06_test_rendering.ipynb](../nbs/06_test_rendering.ipynb)\n",
    "* [07_explore_tracing.ipynb](../nbs/07_explore_tracing.ipynb)\n",
    "* [08_fx_profiling_tutorial.ipynb](../nbs/08_fx_profiling_tutorial.ipynb)\n",
    "* [09_explore_fx_interpreter.ipynb](../nbs/09_explore_fx_interpreter.ipynb)\n",
    "* [10_test_tracing.ipynb](../nbs/10_test_tracing.ipynb)\n",
    "* [11_explore_colors.ipynb](../nbs/11_explore_colors.ipynb)\n",
    "* [12_test_idlmav.ipynb](../nbs/12_test_idlmav.ipynb)\n",
    "\n"
   ]
  },
  {
   "cell_type": "markdown",
   "metadata": {
    "id": "7t7PDfkT_jp6"
   },
   "source": [
    "### Steps\n",
    "* Open the notebook from the links below\n",
    "* Paste the following code above the first cell\n",
    "  ```python\n",
    "  %pip install git+https://github.com/d112358/idlmav.git\n",
    "  %pip install torchview\n",
    "  %pip install torchinfo\n",
    "  %pip install colorspacious\n",
    "  ```\n",
    "* Run the notebook normally\n",
    "\n"
   ]
  },
  {
   "cell_type": "markdown",
   "metadata": {
    "id": "QdIOzoAa9jzL"
   },
   "source": [
    "### Notes\n",
    "* In general, wherever the `plotly_renderer_context` context manager is used, pass `'kaggle'` as its argument for better results on Kaggle"
   ]
  },
  {
   "cell_type": "markdown",
   "metadata": {
    "id": "zBMRvX4ySJDU"
   },
   "source": [
    "## Information about existing environment"
   ]
  },
  {
   "cell_type": "code",
   "execution_count": null,
   "metadata": {
    "id": "7-p589ONtTRf"
   },
   "outputs": [],
   "source": [
    "import sys, os, platform\n",
    "from datetime import datetime\n",
    "from pathlib import Path"
   ]
  },
  {
   "cell_type": "markdown",
   "metadata": {
    "id": "sJsNDR4eXebc"
   },
   "source": [
    "### OS, Kaggle Kernel and Python"
   ]
  },
  {
   "cell_type": "code",
   "execution_count": null,
   "metadata": {
    "colab": {
     "base_uri": "https://localhost:8080/"
    },
    "id": "1GX3hYvNUV4N",
    "outputId": "ca03fecd-00bc-46a2-e8e3-e0c5d8cee1b2"
   },
   "outputs": [],
   "source": [
    "print(f\"Operating System: {platform.system()} {platform.release()} ({platform.version()})\")\n",
    "!cat /etc/os-release\n",
    "print(\"\")\n",
    "print(f\"Kaggle Kernel Version: {os.getenv('KAGGLE_KERNEL_VERSION')}\")\n",
    "print(f\"Python Version: {sys.version}\")\n",
    "print(f\"Current Date and Time: {datetime.now()}\")"
   ]
  },
  {
   "cell_type": "markdown",
   "metadata": {
    "id": "dxiQ5zMJYBw_"
   },
   "source": [
    "### Existing packages and versions"
   ]
  },
  {
   "cell_type": "code",
   "execution_count": null,
   "metadata": {
    "colab": {
     "base_uri": "https://localhost:8080/"
    },
    "id": "Tplq5TNuYGD1",
    "outputId": "9a1e7151-f9cc-406c-a476-46810c052ad4"
   },
   "outputs": [],
   "source": [
    "import subprocess\n",
    "filter_strings = [\"beautifulsoup\", \"colorspacious\", \"fast\", \"graphviz\", \"ipy\", \"jsbeautifier\", \"matplotlib\", \"munkres\", \"nbformat\", \"numpy\", \"pandas\", \"plotly\", \"tabulate\", \"timm\", \"torch\"]\n",
    "result = subprocess.run([\"pip\", \"list\"], stdout=subprocess.PIPE, text=True)\n",
    "lines = result.stdout.split(\"\\n\")\n",
    "\n",
    "filtered_lines = [line for line in lines if any(s in line for s in filter_strings)]\n",
    "print(\"\\n\".join(filtered_lines))"
   ]
  },
  {
   "cell_type": "markdown",
   "metadata": {
    "id": "64gGNTebZzFB"
   },
   "source": [
    "### Memory and disk space"
   ]
  },
  {
   "cell_type": "code",
   "execution_count": null,
   "metadata": {},
   "outputs": [],
   "source": [
    "import psutil, shutil\n",
    "print(f\"Processor: {platform.processor()}\")\n",
    "print(f\"CPU Count: {psutil.cpu_count(logical=True)}\")\n",
    "print(f\"Total RAM: {psutil.virtual_memory().total / 1e9:.2f} GB\")\n",
    "print(f\"Disk Space: {shutil.disk_usage('/').total / 1e9:.2f} GB\")"
   ]
  },
  {
   "cell_type": "code",
   "execution_count": null,
   "metadata": {
    "colab": {
     "base_uri": "https://localhost:8080/"
    },
    "id": "3lnA2FlMT_03",
    "outputId": "5d622335-bcf5-4ca4-9ba4-a3bd9a36468f"
   },
   "outputs": [],
   "source": [
    "print(\"Memory Usage:\")\n",
    "!free -h\n",
    "print(\"\")\n",
    "print(\"Disk Space:\")\n",
    "!df -h"
   ]
  },
  {
   "cell_type": "markdown",
   "metadata": {},
   "source": [
    "### Internet connectivity"
   ]
  },
  {
   "cell_type": "code",
   "execution_count": null,
   "metadata": {},
   "outputs": [],
   "source": [
    "import requests\n",
    "try:\n",
    "    response = requests.get(\"https://www.google.com\", timeout=5)\n",
    "    print(f\"Internet Access: OK (Status Code {response.status_code})\")\n",
    "except requests.ConnectionError:\n",
    "    print(\"Internet Access: Failed\")"
   ]
  },
  {
   "cell_type": "markdown",
   "metadata": {
    "id": "XouNNGq_aJkp"
   },
   "source": [
    "### Git head revision"
   ]
  },
  {
   "cell_type": "code",
   "execution_count": null,
   "metadata": {
    "colab": {
     "base_uri": "https://localhost:8080/"
    },
    "id": "c9N2PwKOWscZ",
    "outputId": "5369b0d8-5d2b-416e-d23b-da4e8a0903f5"
   },
   "outputs": [],
   "source": [
    "!git rev-parse HEAD"
   ]
  },
  {
   "cell_type": "markdown",
   "metadata": {
    "id": "W_25XTi27zQZ"
   },
   "source": [
    "## Installation experiments"
   ]
  },
  {
   "cell_type": "markdown",
   "metadata": {
    "id": "-sTRHEywbFqN"
   },
   "source": [
    "### Confirm we're running on Kaggle"
   ]
  },
  {
   "cell_type": "code",
   "execution_count": null,
   "metadata": {
    "colab": {
     "base_uri": "https://localhost:8080/"
    },
    "id": "nmeOCwQ6bZsJ",
    "outputId": "5c8ecf7c-ccaa-4804-a798-b13deb42fc30"
   },
   "outputs": [],
   "source": [
    "import os, warnings\n",
    "\n",
    "if \"KAGGLE_KERNEL_RUN_TYPE\" in os.environ:\n",
    "    print('Running in Kaggle')\n",
    "else:\n",
    "    warnings.warn('This notebook is designed to be executed in Kaggle. You are not currently running in Kaggle')\n",
    "\n",
    "class StopExecution(Exception):\n",
    "    def _render_traceback_(self):\n",
    "        return []\n",
    "\n",
    "def check_kaggle():\n",
    "    if not \"KAGGLE_KERNEL_RUN_TYPE\" in os.environ:\n",
    "        print('Skipping cell. This notebook is designed to be executed in Kaggle')\n",
    "        raise StopExecution"
   ]
  },
  {
   "cell_type": "markdown",
   "metadata": {
    "id": "I6_FqCbtae9s"
   },
   "source": [
    "### Install IDLMAV"
   ]
  },
  {
   "cell_type": "code",
   "execution_count": null,
   "metadata": {
    "colab": {
     "base_uri": "https://localhost:8080/"
    },
    "collapsed": true,
    "id": "89sLWhxIaiiw",
    "outputId": "6532d713-86d7-41d5-9283-8ef7399fbc50"
   },
   "outputs": [],
   "source": [
    "check_kaggle()\n",
    "%pip install git+https://github.com/d112358/idlmav.git"
   ]
  },
  {
   "cell_type": "markdown",
   "metadata": {
    "id": "nG1WtQ1HhYIm"
   },
   "source": [
    "### Additional dependencies used in development and testing\n",
    "* `timm` and `fastcore` are required for some models with which this library is tested\n",
    "* `torchview` and `torchinfo` are used to verify the correctness of the model tracing algoritm\n",
    "  - `graphviz` is required by `torchview`\n",
    "* `colorspacious` was used to convert RGB colors to CIELAB to select the colors to used for nodes"
   ]
  },
  {
   "cell_type": "code",
   "execution_count": null,
   "metadata": {
    "colab": {
     "base_uri": "https://localhost:8080/"
    },
    "collapsed": true,
    "id": "VMijxdFUhUZy",
    "outputId": "3d985d3b-c262-4522-b5f0-7c2f02dcec10"
   },
   "outputs": [],
   "source": [
    "check_kaggle()\n",
    "%pip install timm\n",
    "%pip install fastcore\n",
    "%pip install torchview\n",
    "%pip install torchinfo\n",
    "%pip install graphviz\n",
    "%pip install colorspacious"
   ]
  },
  {
   "cell_type": "markdown",
   "metadata": {
    "id": "N6WocQKT7zQo"
   },
   "source": [
    "### Install miniai (optional)\n",
    "* See notes in [setup_vscode_wsl.ipynb](./setup_vscode_wsl.ipynb)\n",
    "* Some of the notebooks in this library perform experiments on models built with the `miniai` library from the [2022 fastai course](https://course.fast.ai/)"
   ]
  },
  {
   "cell_type": "code",
   "execution_count": null,
   "metadata": {
    "colab": {
     "base_uri": "https://localhost:8080/"
    },
    "collapsed": true,
    "id": "alPaZ6J17zQp",
    "outputId": "e17762a8-384d-4763-d3f2-995dce054576"
   },
   "outputs": [],
   "source": [
    "# Archive the miniai repo to the `tmp` directory and extract the archive to the `miniai` directory\n",
    "check_kaggle()\n",
    "from pathlib import Path\n",
    "Path('tmp').mkdir(exist_ok=True)     # Location to archive the repo to\n",
    "Path('miniai').mkdir(exist_ok=True)  # Location to extract the archive to\n",
    "!git -C tmp init -b master\n",
    "!git -C tmp remote add origin https://github.com/fastai/course22p2.git\n",
    "!git -C tmp fetch --depth=1 origin master\n",
    "!git -C tmp archive --format=tar origin/master:miniai | tar -x -C miniai\n",
    "!rm -rf tmp"
   ]
  },
  {
   "cell_type": "code",
   "execution_count": null,
   "metadata": {
    "colab": {
     "base_uri": "https://localhost:8080/"
    },
    "collapsed": true,
    "id": "L9oF1i2D7zQp",
    "outputId": "248a01f9-e6bc-4864-a447-2fe498c87602"
   },
   "outputs": [],
   "source": [
    "# Install miniai dependencies\n",
    "check_kaggle()\n",
    "%pip install fastprogress\n",
    "%pip install torcheval\n",
    "%pip install datasets"
   ]
  },
  {
   "cell_type": "markdown",
   "metadata": {
    "id": "WWouUtKJ7zQq"
   },
   "source": [
    "### Test imports"
   ]
  },
  {
   "cell_type": "code",
   "execution_count": 8,
   "metadata": {
    "id": "N9v2kWKw7zQq"
   },
   "outputs": [],
   "source": [
    "import sys\n",
    "from pathlib import Path\n",
    "sys.path.append(str(Path.cwd().parent))\n",
    "\n",
    "from idlmav import MAV\n",
    "from miniai.init import clean_mem"
   ]
  },
  {
   "cell_type": "markdown",
   "metadata": {
    "id": "vD_jy25mx4Ox"
   },
   "source": [
    "## Plotly experiments"
   ]
  },
  {
   "cell_type": "code",
   "execution_count": 10,
   "metadata": {
    "id": "Sx7Qj-N7ybCX"
   },
   "outputs": [],
   "source": [
    "import plotly.io as pio\n",
    "import plotly.graph_objects as go\n",
    "\n",
    "data = {\n",
    "    'name': ['A', 'B', 'C', 'D', 'E', 'F', 'G', 'H', 'I', 'J', 'K', 'L', 'M', 'N', 'O', 'P', 'Q', 'R', 'S', 'T'],\n",
    "    'x': [1, 2, 3, 4, 5, 6, 7, 8, 9, 10, 11, 12, 13, 14, 15, 16, 17, 18, 19, 20],\n",
    "    'y': [10, 15, 13, 17, 11, 13, 18, 14, 12, 19, 17, 15, 10, 19, 18, 13, 12, 17, 14, 15]\n",
    "}"
   ]
  },
  {
   "cell_type": "markdown",
   "metadata": {
    "id": "pjreXQqmyNbO"
   },
   "source": [
    "### Available renderers"
   ]
  },
  {
   "cell_type": "code",
   "execution_count": null,
   "metadata": {
    "colab": {
     "base_uri": "https://localhost:8080/"
    },
    "id": "rO6yPGyOyEzh",
    "outputId": "79cefef4-b943-4a09-f5e5-2a94dfdfd80e"
   },
   "outputs": [],
   "source": [
    "available_renderers = list(pio.renderers)\n",
    "print(f'Available renderers: {\", \".join(available_renderers)}')"
   ]
  },
  {
   "cell_type": "markdown",
   "metadata": {
    "id": "i39suqVsyShq"
   },
   "source": [
    "### Standard figure"
   ]
  },
  {
   "cell_type": "code",
   "execution_count": null,
   "metadata": {
    "colab": {
     "base_uri": "https://localhost:8080/",
     "height": 542
    },
    "id": "Mds0O-60ywEK",
    "outputId": "218fa2fc-8ebc-48d1-ec02-29eb5b16c024"
   },
   "outputs": [],
   "source": [
    "fig = go.Figure(\n",
    "    go.Scatter(x=data['x'], y=data['y'], mode='markers',\n",
    "               hovertemplate=('name: %{customdata}'),\n",
    "               customdata=data['name']\n",
    "    )\n",
    ")\n",
    "fig.show()\n"
   ]
  },
  {
   "cell_type": "markdown",
   "metadata": {
    "id": "MKnh7SvlyyDh"
   },
   "source": [
    "### Figure widget"
   ]
  },
  {
   "cell_type": "code",
   "execution_count": null,
   "metadata": {
    "colab": {
     "base_uri": "https://localhost:8080/",
     "height": 542
    },
    "id": "72F9CDCLyW-g",
    "outputId": "d4686a24-bbbb-43c3-9f4c-0b542b597957"
   },
   "outputs": [],
   "source": [
    "widget = go.FigureWidget(\n",
    "    data=go.Scatter(x=data['x'], y=data['y'], mode='markers',\n",
    "        hovertemplate=('name: %{customdata}'),\n",
    "        customdata=data['name']\n",
    "    )\n",
    ")\n",
    "\n",
    "display(fig)"
   ]
  },
  {
   "cell_type": "markdown",
   "metadata": {
    "id": "loxUxF-rzmJn"
   },
   "source": [
    "### Figure widget inside ipywidgets container"
   ]
  },
  {
   "cell_type": "code",
   "execution_count": null,
   "metadata": {
    "colab": {
     "base_uri": "https://localhost:8080/",
     "height": 421,
     "referenced_widgets": [
      "9637486b7404479da1d535467954af84",
      "fe8912c8f6ad45c78de877fd21499d94",
      "7853b42096444139802fdc3d28e57149",
      "a6e483a3dd86415aa2b6ef8b9daf5ef1",
      "2febece783224cd4a29c631ea25a4197",
      "f7b141c79ad1439883cb3f3c930474f5"
     ]
    },
    "id": "naSY0T79zlmd",
    "outputId": "5cbfb5d5-c544-4688-83cc-88330b6a275a"
   },
   "outputs": [],
   "source": [
    "import ipywidgets as widgets\n",
    "widget = go.FigureWidget(\n",
    "    data=go.Scatter(x=data['x'], y=data['y'], mode='markers',\n",
    "        hovertemplate=('name: %{customdata}'),\n",
    "        customdata=data['name']\n",
    "    )\n",
    ")\n",
    "\n",
    "min_y, max_y = min(data['y']), max(data['y'])\n",
    "slider = widgets.FloatRangeSlider(\n",
    "    value=[min_y, max_y], min=min_y, max=max_y, step=0.01,\n",
    "    description='Y Range:', orientation='vertical', continuous_update=True,\n",
    "    layout=widgets.Layout(height='400px'))\n",
    "\n",
    "container1 = widgets.HBox([slider, widget])\n",
    "\n",
    "def update_plot(change):\n",
    "    widget.update_layout(yaxis=dict(range=slider.value))\n",
    "\n",
    "slider.observe(update_plot, names=\"value\")\n",
    "display(container1)"
   ]
  },
  {
   "cell_type": "markdown",
   "metadata": {
    "id": "UT8d15sD1-Ia"
   },
   "source": [
    "## IDLMAV experiments"
   ]
  },
  {
   "cell_type": "code",
   "execution_count": null,
   "metadata": {
    "colab": {
     "base_uri": "https://localhost:8080/",
     "height": 421,
     "referenced_widgets": [
      "ef8390b581564524907856d43a57de45",
      "304fb5cd261b44d88797d0d1ba357028",
      "425037c22dba4b189f50911c4c48dd32",
      "b296c45e7468428ebcc1af3b31a28a0b",
      "7fa115802aa744ceb3738b26499a865c",
      "2d2777c8ba104b43b89de89d829cdb39",
      "1e8eb4f606644e3d8ccefdaeaaa27662",
      "4c476ed548844fcd84752aa92158c9da",
      "06c20bd5489d4f5293bbf14f37a2f700",
      "683ffe98231247e08c1f9201c710e50e"
     ]
    },
    "id": "l3e-HL6I2NLP",
    "outputId": "5879763f-ad04-496c-84b3-32341f5ada06"
   },
   "outputs": [],
   "source": [
    "import torch, torchvision\n",
    "from idlmav import MAV, plotly_renderer_context\n",
    "from IPython.display import display\n",
    "device = 'cpu'\n",
    "model = torchvision.models.resnet18().to(device)\n",
    "x = torch.randn(16,3,160,160).to(device)\n",
    "mav = MAV(model, x, device=device)\n",
    "container2 = mav.draw_interactive_graph(add_slider=True, add_overview=False, add_table=False)\n",
    "display(container2)"
   ]
  }
 ],
 "metadata": {
  "colab": {
   "include_colab_link": true,
   "provenance": [],
   "toc_visible": true
  },
  "kernelspec": {
   "display_name": ".venv",
   "language": "python",
   "name": "python3"
  },
  "language_info": {
   "name": "python",
   "version": "3.10.12"
  },
  "widgets": {
   "application/vnd.jupyter.widget-state+json": {
    "06c20bd5489d4f5293bbf14f37a2f700": {
     "model_module": "@jupyter-widgets/base",
     "model_module_version": "1.2.0",
     "model_name": "LayoutModel",
     "state": {
      "_model_module": "@jupyter-widgets/base",
      "_model_module_version": "1.2.0",
      "_model_name": "LayoutModel",
      "_view_count": null,
      "_view_module": "@jupyter-widgets/base",
      "_view_module_version": "1.2.0",
      "_view_name": "LayoutView",
      "align_content": null,
      "align_items": null,
      "align_self": null,
      "border": null,
      "bottom": null,
      "display": null,
      "flex": null,
      "flex_flow": null,
      "grid_area": null,
      "grid_auto_columns": null,
      "grid_auto_flow": null,
      "grid_auto_rows": null,
      "grid_column": null,
      "grid_gap": null,
      "grid_row": null,
      "grid_template_areas": null,
      "grid_template_columns": null,
      "grid_template_rows": null,
      "height": "400px",
      "justify_content": null,
      "justify_items": null,
      "left": null,
      "margin": null,
      "max_height": null,
      "max_width": null,
      "min_height": null,
      "min_width": null,
      "object_fit": null,
      "object_position": null,
      "order": null,
      "overflow": null,
      "overflow_x": null,
      "overflow_y": null,
      "padding": null,
      "right": null,
      "top": null,
      "visibility": null,
      "width": null
     }
    },
    "1010733180b1481d99669d6aa393f51c": {
     "model_module": "@jupyter-widgets/base",
     "model_module_version": "1.2.0",
     "model_name": "LayoutModel",
     "state": {
      "_model_module": "@jupyter-widgets/base",
      "_model_module_version": "1.2.0",
      "_model_name": "LayoutModel",
      "_view_count": null,
      "_view_module": "@jupyter-widgets/base",
      "_view_module_version": "1.2.0",
      "_view_name": "LayoutView",
      "align_content": null,
      "align_items": null,
      "align_self": null,
      "border": null,
      "bottom": null,
      "display": null,
      "flex": "0 1 auto",
      "flex_flow": null,
      "grid_area": null,
      "grid_auto_columns": null,
      "grid_auto_flow": null,
      "grid_auto_rows": null,
      "grid_column": null,
      "grid_gap": null,
      "grid_row": null,
      "grid_template_areas": null,
      "grid_template_columns": null,
      "grid_template_rows": null,
      "height": null,
      "justify_content": null,
      "justify_items": null,
      "left": null,
      "margin": "0px",
      "max_height": null,
      "max_width": null,
      "min_height": null,
      "min_width": null,
      "object_fit": null,
      "object_position": null,
      "order": null,
      "overflow": "hidden",
      "overflow_x": null,
      "overflow_y": null,
      "padding": "0px",
      "right": null,
      "top": null,
      "visibility": null,
      "width": null
     }
    },
    "189cb3d58df741928ffb5386d42cda30": {
     "model_module": "jupyterlab-plotly",
     "model_module_version": "^5.24.1",
     "model_name": "FigureModel",
     "state": {
      "_config": {
       "plotlyServerURL": "https://plot.ly"
      },
      "_data": [],
      "_dom_classes": [],
      "_js2py_layoutDelta": null,
      "_js2py_pointsCallback": null,
      "_js2py_relayout": {},
      "_js2py_restyle": {},
      "_js2py_traceDeltas": null,
      "_js2py_update": {},
      "_last_layout_edit_id": 26,
      "_last_trace_edit_id": 25,
      "_layout": {
       "autosize": true,
       "height": 400,
       "margin": {
        "b": 1,
        "l": 0,
        "r": 2,
        "t": 1
       },
       "plot_bgcolor": "#e5ecf6",
       "showlegend": false,
       "width": 200,
       "xaxis": {
        "range": [
         -0.5,
         1.5
        ],
        "showgrid": false,
        "visible": false,
        "zeroline": false
       },
       "yaxis": {
        "range": [
         19.5,
         -0.5
        ],
        "showgrid": false,
        "visible": false,
        "zeroline": false
       }
      },
      "_model_module": "jupyterlab-plotly",
      "_model_module_version": "^5.24.1",
      "_model_name": "FigureModel",
      "_py2js_addTraces": null,
      "_py2js_animate": {},
      "_py2js_deleteTraces": {},
      "_py2js_moveTraces": {},
      "_py2js_relayout": null,
      "_py2js_removeLayoutProps": {},
      "_py2js_removeTraceProps": {},
      "_py2js_restyle": {},
      "_py2js_update": null,
      "_view_count": 1,
      "_view_module": "jupyterlab-plotly",
      "_view_module_version": "^5.24.1",
      "_view_name": "FigureView"
     }
    },
    "1b3c71fda5ff4f44904d5791f3e820c3": {
     "model_module": "@jupyter-widgets/base",
     "model_module_version": "1.2.0",
     "model_name": "LayoutModel",
     "state": {
      "_model_module": "@jupyter-widgets/base",
      "_model_module_version": "1.2.0",
      "_model_name": "LayoutModel",
      "_view_count": null,
      "_view_module": "@jupyter-widgets/base",
      "_view_module_version": "1.2.0",
      "_view_name": "LayoutView",
      "align_content": null,
      "align_items": null,
      "align_self": null,
      "border": null,
      "bottom": null,
      "display": null,
      "flex": null,
      "flex_flow": null,
      "grid_area": null,
      "grid_auto_columns": null,
      "grid_auto_flow": null,
      "grid_auto_rows": null,
      "grid_column": null,
      "grid_gap": null,
      "grid_row": null,
      "grid_template_areas": null,
      "grid_template_columns": null,
      "grid_template_rows": null,
      "height": "400px",
      "justify_content": null,
      "justify_items": null,
      "left": null,
      "margin": null,
      "max_height": null,
      "max_width": null,
      "min_height": null,
      "min_width": null,
      "object_fit": null,
      "object_position": null,
      "order": null,
      "overflow": null,
      "overflow_x": null,
      "overflow_y": null,
      "padding": null,
      "right": null,
      "top": null,
      "visibility": null,
      "width": null
     }
    },
    "1e8eb4f606644e3d8ccefdaeaaa27662": {
     "model_module": "jupyterlab-plotly",
     "model_module_version": "^5.24.1",
     "model_name": "FigureModel",
     "state": {
      "_config": {
       "plotlyServerURL": "https://plot.ly"
      },
      "_data": [],
      "_dom_classes": [],
      "_js2py_layoutDelta": null,
      "_js2py_pointsCallback": {},
      "_js2py_relayout": {},
      "_js2py_restyle": {},
      "_js2py_traceDeltas": null,
      "_js2py_update": {},
      "_last_layout_edit_id": 83,
      "_last_trace_edit_id": 82,
      "_layout": {
       "autosize": true,
       "height": 400,
       "margin": {
        "b": 1,
        "l": 0,
        "r": 2,
        "t": 1
       },
       "plot_bgcolor": "#e5ecf6",
       "showlegend": false,
       "width": 200,
       "xaxis": {
        "range": [
         -0.5,
         1.5
        ],
        "showgrid": false,
        "visible": false,
        "zeroline": false
       },
       "yaxis": {
        "range": [
         9.5,
         -0.5
        ],
        "showgrid": false,
        "visible": false,
        "zeroline": false
       }
      },
      "_model_module": "jupyterlab-plotly",
      "_model_module_version": "^5.24.1",
      "_model_name": "FigureModel",
      "_py2js_addTraces": null,
      "_py2js_animate": {},
      "_py2js_deleteTraces": {},
      "_py2js_moveTraces": {},
      "_py2js_relayout": null,
      "_py2js_removeLayoutProps": null,
      "_py2js_removeTraceProps": {},
      "_py2js_restyle": {},
      "_py2js_update": null,
      "_view_count": 1,
      "_view_module": "jupyterlab-plotly",
      "_view_module_version": "^5.24.1",
      "_view_name": "FigureView"
     }
    },
    "1ff3356caee44c4fa6170748c114c4ff": {
     "model_module": "@jupyter-widgets/controls",
     "model_module_version": "1.5.0",
     "model_name": "FloatRangeSliderModel",
     "state": {
      "_dom_classes": [],
      "_model_module": "@jupyter-widgets/controls",
      "_model_module_version": "1.5.0",
      "_model_name": "FloatRangeSliderModel",
      "_view_count": null,
      "_view_module": "@jupyter-widgets/controls",
      "_view_module_version": "1.5.0",
      "_view_name": "FloatRangeSliderView",
      "continuous_update": true,
      "description": "",
      "description_tooltip": null,
      "disabled": false,
      "layout": "IPY_MODEL_1b3c71fda5ff4f44904d5791f3e820c3",
      "max": 0.5,
      "min": -27.5,
      "orientation": "vertical",
      "readout": false,
      "readout_format": ".2f",
      "step": 0.01,
      "style": "IPY_MODEL_a45508f067c443fb9398766afac00da5",
      "value": [
       -9.500000000000004,
       0.5
      ]
     }
    },
    "2d2777c8ba104b43b89de89d829cdb39": {
     "model_module": "@jupyter-widgets/base",
     "model_module_version": "1.2.0",
     "model_name": "LayoutModel",
     "state": {
      "_model_module": "@jupyter-widgets/base",
      "_model_module_version": "1.2.0",
      "_model_name": "LayoutModel",
      "_view_count": null,
      "_view_module": "@jupyter-widgets/base",
      "_view_module_version": "1.2.0",
      "_view_name": "LayoutView",
      "align_content": null,
      "align_items": null,
      "align_self": null,
      "border": null,
      "bottom": null,
      "display": null,
      "flex": "0 0 auto",
      "flex_flow": null,
      "grid_area": null,
      "grid_auto_columns": null,
      "grid_auto_flow": null,
      "grid_auto_rows": null,
      "grid_column": null,
      "grid_gap": null,
      "grid_row": null,
      "grid_template_areas": null,
      "grid_template_columns": null,
      "grid_template_rows": null,
      "height": null,
      "justify_content": null,
      "justify_items": null,
      "left": null,
      "margin": "0px",
      "max_height": null,
      "max_width": null,
      "min_height": null,
      "min_width": null,
      "object_fit": null,
      "object_position": null,
      "order": null,
      "overflow": "visible",
      "overflow_x": null,
      "overflow_y": null,
      "padding": "0px",
      "right": null,
      "top": null,
      "visibility": null,
      "width": null
     }
    },
    "2febece783224cd4a29c631ea25a4197": {
     "model_module": "@jupyter-widgets/base",
     "model_module_version": "1.2.0",
     "model_name": "LayoutModel",
     "state": {
      "_model_module": "@jupyter-widgets/base",
      "_model_module_version": "1.2.0",
      "_model_name": "LayoutModel",
      "_view_count": null,
      "_view_module": "@jupyter-widgets/base",
      "_view_module_version": "1.2.0",
      "_view_name": "LayoutView",
      "align_content": null,
      "align_items": null,
      "align_self": null,
      "border": null,
      "bottom": null,
      "display": null,
      "flex": null,
      "flex_flow": null,
      "grid_area": null,
      "grid_auto_columns": null,
      "grid_auto_flow": null,
      "grid_auto_rows": null,
      "grid_column": null,
      "grid_gap": null,
      "grid_row": null,
      "grid_template_areas": null,
      "grid_template_columns": null,
      "grid_template_rows": null,
      "height": "400px",
      "justify_content": null,
      "justify_items": null,
      "left": null,
      "margin": null,
      "max_height": null,
      "max_width": null,
      "min_height": null,
      "min_width": null,
      "object_fit": null,
      "object_position": null,
      "order": null,
      "overflow": null,
      "overflow_x": null,
      "overflow_y": null,
      "padding": null,
      "right": null,
      "top": null,
      "visibility": null,
      "width": null
     }
    },
    "304fb5cd261b44d88797d0d1ba357028": {
     "model_module": "@jupyter-widgets/controls",
     "model_module_version": "1.5.0",
     "model_name": "BoxModel",
     "state": {
      "_dom_classes": [],
      "_model_module": "@jupyter-widgets/controls",
      "_model_module_version": "1.5.0",
      "_model_name": "BoxModel",
      "_view_count": null,
      "_view_module": "@jupyter-widgets/controls",
      "_view_module_version": "1.5.0",
      "_view_name": "BoxView",
      "box_style": "",
      "children": [
       "IPY_MODEL_7fa115802aa744ceb3738b26499a865c"
      ],
      "layout": "IPY_MODEL_2d2777c8ba104b43b89de89d829cdb39"
     }
    },
    "32f57dea686b405ca62315d6a8be963d": {
     "model_module": "@jupyter-widgets/controls",
     "model_module_version": "1.5.0",
     "model_name": "BoxModel",
     "state": {
      "_dom_classes": [],
      "_model_module": "@jupyter-widgets/controls",
      "_model_module_version": "1.5.0",
      "_model_name": "BoxModel",
      "_view_count": null,
      "_view_module": "@jupyter-widgets/controls",
      "_view_module_version": "1.5.0",
      "_view_name": "BoxView",
      "box_style": "",
      "children": [
       "IPY_MODEL_189cb3d58df741928ffb5386d42cda30"
      ],
      "layout": "IPY_MODEL_6e7156e85be043d1b9c2090a69b23f0f"
     }
    },
    "425037c22dba4b189f50911c4c48dd32": {
     "model_module": "@jupyter-widgets/controls",
     "model_module_version": "1.5.0",
     "model_name": "BoxModel",
     "state": {
      "_dom_classes": [],
      "_model_module": "@jupyter-widgets/controls",
      "_model_module_version": "1.5.0",
      "_model_name": "BoxModel",
      "_view_count": null,
      "_view_module": "@jupyter-widgets/controls",
      "_view_module_version": "1.5.0",
      "_view_name": "BoxView",
      "box_style": "",
      "children": [
       "IPY_MODEL_1e8eb4f606644e3d8ccefdaeaaa27662"
      ],
      "layout": "IPY_MODEL_4c476ed548844fcd84752aa92158c9da"
     }
    },
    "4c476ed548844fcd84752aa92158c9da": {
     "model_module": "@jupyter-widgets/base",
     "model_module_version": "1.2.0",
     "model_name": "LayoutModel",
     "state": {
      "_model_module": "@jupyter-widgets/base",
      "_model_module_version": "1.2.0",
      "_model_name": "LayoutModel",
      "_view_count": null,
      "_view_module": "@jupyter-widgets/base",
      "_view_module_version": "1.2.0",
      "_view_name": "LayoutView",
      "align_content": null,
      "align_items": null,
      "align_self": null,
      "border": null,
      "bottom": null,
      "display": null,
      "flex": "0 1 auto",
      "flex_flow": null,
      "grid_area": null,
      "grid_auto_columns": null,
      "grid_auto_flow": null,
      "grid_auto_rows": null,
      "grid_column": null,
      "grid_gap": null,
      "grid_row": null,
      "grid_template_areas": null,
      "grid_template_columns": null,
      "grid_template_rows": null,
      "height": null,
      "justify_content": null,
      "justify_items": null,
      "left": null,
      "margin": "0px",
      "max_height": null,
      "max_width": null,
      "min_height": null,
      "min_width": null,
      "object_fit": null,
      "object_position": null,
      "order": null,
      "overflow": "hidden",
      "overflow_x": null,
      "overflow_y": null,
      "padding": "0px",
      "right": null,
      "top": null,
      "visibility": null,
      "width": null
     }
    },
    "4d499b0645a140b6a329c2e26b47e74a": {
     "model_module": "jupyterlab-plotly",
     "model_module_version": "^5.24.1",
     "model_name": "FigureModel",
     "state": {
      "_config": {
       "plotlyServerURL": "https://plot.ly"
      },
      "_data": [],
      "_dom_classes": [],
      "_js2py_layoutDelta": null,
      "_js2py_pointsCallback": {},
      "_js2py_relayout": {},
      "_js2py_restyle": {},
      "_js2py_traceDeltas": null,
      "_js2py_update": {},
      "_last_layout_edit_id": 83,
      "_last_trace_edit_id": 82,
      "_layout": {
       "autosize": true,
       "height": 400,
       "margin": {
        "b": 1,
        "l": 0,
        "r": 2,
        "t": 1
       },
       "plot_bgcolor": "#e5ecf6",
       "showlegend": false,
       "width": 200,
       "xaxis": {
        "range": [
         -0.5,
         1.5
        ],
        "showgrid": false,
        "visible": false,
        "zeroline": false
       },
       "yaxis": {
        "range": [
         9.5,
         -0.5
        ],
        "showgrid": false,
        "visible": false,
        "zeroline": false
       }
      },
      "_model_module": "jupyterlab-plotly",
      "_model_module_version": "^5.24.1",
      "_model_name": "FigureModel",
      "_py2js_addTraces": null,
      "_py2js_animate": {},
      "_py2js_deleteTraces": {},
      "_py2js_moveTraces": {},
      "_py2js_relayout": null,
      "_py2js_removeLayoutProps": null,
      "_py2js_removeTraceProps": {},
      "_py2js_restyle": {},
      "_py2js_update": null,
      "_view_count": 1,
      "_view_module": "jupyterlab-plotly",
      "_view_module_version": "^5.24.1",
      "_view_name": "FigureView"
     }
    },
    "4f2f04a2a5854199b6bd78330ab36fd4": {
     "model_module": "@jupyter-widgets/controls",
     "model_module_version": "1.5.0",
     "model_name": "HBoxModel",
     "state": {
      "_dom_classes": [],
      "_model_module": "@jupyter-widgets/controls",
      "_model_module_version": "1.5.0",
      "_model_name": "HBoxModel",
      "_view_count": null,
      "_view_module": "@jupyter-widgets/controls",
      "_view_module_version": "1.5.0",
      "_view_name": "HBoxView",
      "box_style": "",
      "children": [
       "IPY_MODEL_810fb69bdc6849b8aeb370c82018656a",
       "IPY_MODEL_908af09caeb54d06a0dad44ee0e4d5d8"
      ],
      "layout": "IPY_MODEL_abfc23602d944654995a9cb97d3cd397"
     }
    },
    "582de278d1f541e3ad237b34ac3169cd": {
     "model_module": "@jupyter-widgets/controls",
     "model_module_version": "1.5.0",
     "model_name": "SliderStyleModel",
     "state": {
      "_model_module": "@jupyter-widgets/controls",
      "_model_module_version": "1.5.0",
      "_model_name": "SliderStyleModel",
      "_view_count": null,
      "_view_module": "@jupyter-widgets/base",
      "_view_module_version": "1.2.0",
      "_view_name": "StyleView",
      "description_width": "",
      "handle_color": null
     }
    },
    "67a1e4cb092542e3852c77505fc9d624": {
     "model_module": "@jupyter-widgets/controls",
     "model_module_version": "1.5.0",
     "model_name": "BoxModel",
     "state": {
      "_dom_classes": [],
      "_model_module": "@jupyter-widgets/controls",
      "_model_module_version": "1.5.0",
      "_model_name": "BoxModel",
      "_view_count": null,
      "_view_module": "@jupyter-widgets/controls",
      "_view_module_version": "1.5.0",
      "_view_name": "BoxView",
      "box_style": "",
      "children": [
       "IPY_MODEL_ceda85c993944718b6efd19026dd167c"
      ],
      "layout": "IPY_MODEL_f3790247b0164f5d8752cac46cd86e53"
     }
    },
    "683ffe98231247e08c1f9201c710e50e": {
     "model_module": "@jupyter-widgets/controls",
     "model_module_version": "1.5.0",
     "model_name": "SliderStyleModel",
     "state": {
      "_model_module": "@jupyter-widgets/controls",
      "_model_module_version": "1.5.0",
      "_model_name": "SliderStyleModel",
      "_view_count": null,
      "_view_module": "@jupyter-widgets/base",
      "_view_module_version": "1.2.0",
      "_view_name": "StyleView",
      "description_width": "",
      "handle_color": null
     }
    },
    "6e7156e85be043d1b9c2090a69b23f0f": {
     "model_module": "@jupyter-widgets/base",
     "model_module_version": "1.2.0",
     "model_name": "LayoutModel",
     "state": {
      "_model_module": "@jupyter-widgets/base",
      "_model_module_version": "1.2.0",
      "_model_name": "LayoutModel",
      "_view_count": null,
      "_view_module": "@jupyter-widgets/base",
      "_view_module_version": "1.2.0",
      "_view_name": "LayoutView",
      "align_content": null,
      "align_items": null,
      "align_self": null,
      "border": null,
      "bottom": null,
      "display": null,
      "flex": "0 1 auto",
      "flex_flow": null,
      "grid_area": null,
      "grid_auto_columns": null,
      "grid_auto_flow": null,
      "grid_auto_rows": null,
      "grid_column": null,
      "grid_gap": null,
      "grid_row": null,
      "grid_template_areas": null,
      "grid_template_columns": null,
      "grid_template_rows": null,
      "height": null,
      "justify_content": null,
      "justify_items": null,
      "left": null,
      "margin": "0px",
      "max_height": null,
      "max_width": null,
      "min_height": null,
      "min_width": null,
      "object_fit": null,
      "object_position": null,
      "order": null,
      "overflow": "hidden",
      "overflow_x": null,
      "overflow_y": null,
      "padding": "0px",
      "right": null,
      "top": null,
      "visibility": null,
      "width": null
     }
    },
    "72de6f560c334fadada1078a903740ab": {
     "model_module": "@jupyter-widgets/base",
     "model_module_version": "1.2.0",
     "model_name": "LayoutModel",
     "state": {
      "_model_module": "@jupyter-widgets/base",
      "_model_module_version": "1.2.0",
      "_model_name": "LayoutModel",
      "_view_count": null,
      "_view_module": "@jupyter-widgets/base",
      "_view_module_version": "1.2.0",
      "_view_name": "LayoutView",
      "align_content": null,
      "align_items": null,
      "align_self": null,
      "border": null,
      "bottom": null,
      "display": null,
      "flex": null,
      "flex_flow": null,
      "grid_area": null,
      "grid_auto_columns": null,
      "grid_auto_flow": null,
      "grid_auto_rows": null,
      "grid_column": null,
      "grid_gap": null,
      "grid_row": null,
      "grid_template_areas": null,
      "grid_template_columns": null,
      "grid_template_rows": null,
      "height": null,
      "justify_content": null,
      "justify_items": null,
      "left": null,
      "margin": "0px",
      "max_height": null,
      "max_width": null,
      "min_height": null,
      "min_width": null,
      "object_fit": null,
      "object_position": null,
      "order": null,
      "overflow": null,
      "overflow_x": null,
      "overflow_y": null,
      "padding": "0px",
      "right": null,
      "top": null,
      "visibility": null,
      "width": "100%"
     }
    },
    "7853b42096444139802fdc3d28e57149": {
     "model_module": "jupyterlab-plotly",
     "model_module_version": "^5.24.1",
     "model_name": "FigureModel",
     "state": {
      "_config": {
       "plotlyServerURL": "https://plot.ly"
      },
      "_data": [
       {
        "customdata": [
         "A",
         "B",
         "C",
         "D",
         "E",
         "F",
         "G",
         "H",
         "I",
         "J",
         "K",
         "L",
         "M",
         "N",
         "O",
         "P",
         "Q",
         "R",
         "S",
         "T"
        ],
        "hovertemplate": "name: %{customdata}",
        "mode": "markers",
        "type": "scatter",
        "uid": "14095e66-da6e-415a-b6f9-f5ad27467448",
        "x": [
         1,
         2,
         3,
         4,
         5,
         6,
         7,
         8,
         9,
         10,
         11,
         12,
         13,
         14,
         15,
         16,
         17,
         18,
         19,
         20
        ],
        "y": [
         10,
         15,
         13,
         17,
         11,
         13,
         18,
         14,
         12,
         19,
         17,
         15,
         10,
         19,
         18,
         13,
         12,
         17,
         14,
         15
        ]
       }
      ],
      "_dom_classes": [],
      "_js2py_layoutDelta": null,
      "_js2py_pointsCallback": null,
      "_js2py_relayout": null,
      "_js2py_restyle": {},
      "_js2py_traceDeltas": null,
      "_js2py_update": {},
      "_last_layout_edit_id": 4,
      "_last_trace_edit_id": 3,
      "_layout": {},
      "_model_module": "jupyterlab-plotly",
      "_model_module_version": "^5.24.1",
      "_model_name": "FigureModel",
      "_py2js_addTraces": {},
      "_py2js_animate": {},
      "_py2js_deleteTraces": {},
      "_py2js_moveTraces": {},
      "_py2js_relayout": null,
      "_py2js_removeLayoutProps": {},
      "_py2js_removeTraceProps": {},
      "_py2js_restyle": {},
      "_py2js_update": null,
      "_view_count": 1,
      "_view_module": "jupyterlab-plotly",
      "_view_module_version": "^5.24.1",
      "_view_name": "FigureView"
     }
    },
    "7ce4345b0c664fafa7b95804bd95fbad": {
     "model_module": "@jupyter-widgets/base",
     "model_module_version": "1.2.0",
     "model_name": "LayoutModel",
     "state": {
      "_model_module": "@jupyter-widgets/base",
      "_model_module_version": "1.2.0",
      "_model_name": "LayoutModel",
      "_view_count": null,
      "_view_module": "@jupyter-widgets/base",
      "_view_module_version": "1.2.0",
      "_view_name": "LayoutView",
      "align_content": null,
      "align_items": null,
      "align_self": null,
      "border": null,
      "bottom": null,
      "display": null,
      "flex": null,
      "flex_flow": null,
      "grid_area": null,
      "grid_auto_columns": null,
      "grid_auto_flow": null,
      "grid_auto_rows": null,
      "grid_column": null,
      "grid_gap": null,
      "grid_row": null,
      "grid_template_areas": null,
      "grid_template_columns": null,
      "grid_template_rows": null,
      "height": "400px",
      "justify_content": null,
      "justify_items": null,
      "left": null,
      "margin": null,
      "max_height": null,
      "max_width": null,
      "min_height": null,
      "min_width": null,
      "object_fit": null,
      "object_position": null,
      "order": null,
      "overflow": null,
      "overflow_x": null,
      "overflow_y": null,
      "padding": null,
      "right": null,
      "top": null,
      "visibility": null,
      "width": null
     }
    },
    "7fa115802aa744ceb3738b26499a865c": {
     "model_module": "@jupyter-widgets/controls",
     "model_module_version": "1.5.0",
     "model_name": "FloatRangeSliderModel",
     "state": {
      "_dom_classes": [],
      "_model_module": "@jupyter-widgets/controls",
      "_model_module_version": "1.5.0",
      "_model_name": "FloatRangeSliderModel",
      "_view_count": null,
      "_view_module": "@jupyter-widgets/controls",
      "_view_module_version": "1.5.0",
      "_view_name": "FloatRangeSliderView",
      "continuous_update": true,
      "description": "",
      "description_tooltip": null,
      "disabled": false,
      "layout": "IPY_MODEL_06c20bd5489d4f5293bbf14f37a2f700",
      "max": 0.5,
      "min": -27.5,
      "orientation": "vertical",
      "readout": false,
      "readout_format": ".2f",
      "step": 0.01,
      "style": "IPY_MODEL_683ffe98231247e08c1f9201c710e50e",
      "value": [
       -9.500000000000004,
       0.5
      ]
     }
    },
    "810fb69bdc6849b8aeb370c82018656a": {
     "model_module": "@jupyter-widgets/controls",
     "model_module_version": "1.5.0",
     "model_name": "BoxModel",
     "state": {
      "_dom_classes": [],
      "_model_module": "@jupyter-widgets/controls",
      "_model_module_version": "1.5.0",
      "_model_name": "BoxModel",
      "_view_count": null,
      "_view_module": "@jupyter-widgets/controls",
      "_view_module_version": "1.5.0",
      "_view_name": "BoxView",
      "box_style": "",
      "children": [
       "IPY_MODEL_1ff3356caee44c4fa6170748c114c4ff"
      ],
      "layout": "IPY_MODEL_e8cc96c776b948f2abf1e186a6163861"
     }
    },
    "908af09caeb54d06a0dad44ee0e4d5d8": {
     "model_module": "@jupyter-widgets/controls",
     "model_module_version": "1.5.0",
     "model_name": "BoxModel",
     "state": {
      "_dom_classes": [],
      "_model_module": "@jupyter-widgets/controls",
      "_model_module_version": "1.5.0",
      "_model_name": "BoxModel",
      "_view_count": null,
      "_view_module": "@jupyter-widgets/controls",
      "_view_module_version": "1.5.0",
      "_view_name": "BoxView",
      "box_style": "",
      "children": [
       "IPY_MODEL_4d499b0645a140b6a329c2e26b47e74a"
      ],
      "layout": "IPY_MODEL_1010733180b1481d99669d6aa393f51c"
     }
    },
    "9637486b7404479da1d535467954af84": {
     "model_module": "@jupyter-widgets/controls",
     "model_module_version": "1.5.0",
     "model_name": "HBoxModel",
     "state": {
      "_dom_classes": [],
      "_model_module": "@jupyter-widgets/controls",
      "_model_module_version": "1.5.0",
      "_model_name": "HBoxModel",
      "_view_count": null,
      "_view_module": "@jupyter-widgets/controls",
      "_view_module_version": "1.5.0",
      "_view_name": "HBoxView",
      "box_style": "",
      "children": [
       "IPY_MODEL_fe8912c8f6ad45c78de877fd21499d94",
       "IPY_MODEL_7853b42096444139802fdc3d28e57149"
      ],
      "layout": "IPY_MODEL_a6e483a3dd86415aa2b6ef8b9daf5ef1"
     }
    },
    "a15420639b454e1cb936437aec3c0f74": {
     "model_module": "@jupyter-widgets/controls",
     "model_module_version": "1.5.0",
     "model_name": "HBoxModel",
     "state": {
      "_dom_classes": [],
      "_model_module": "@jupyter-widgets/controls",
      "_model_module_version": "1.5.0",
      "_model_name": "HBoxModel",
      "_view_count": null,
      "_view_module": "@jupyter-widgets/controls",
      "_view_module_version": "1.5.0",
      "_view_name": "HBoxView",
      "box_style": "",
      "children": [
       "IPY_MODEL_67a1e4cb092542e3852c77505fc9d624",
       "IPY_MODEL_32f57dea686b405ca62315d6a8be963d"
      ],
      "layout": "IPY_MODEL_72de6f560c334fadada1078a903740ab"
     }
    },
    "a45508f067c443fb9398766afac00da5": {
     "model_module": "@jupyter-widgets/controls",
     "model_module_version": "1.5.0",
     "model_name": "SliderStyleModel",
     "state": {
      "_model_module": "@jupyter-widgets/controls",
      "_model_module_version": "1.5.0",
      "_model_name": "SliderStyleModel",
      "_view_count": null,
      "_view_module": "@jupyter-widgets/base",
      "_view_module_version": "1.2.0",
      "_view_name": "StyleView",
      "description_width": "",
      "handle_color": null
     }
    },
    "a6e483a3dd86415aa2b6ef8b9daf5ef1": {
     "model_module": "@jupyter-widgets/base",
     "model_module_version": "1.2.0",
     "model_name": "LayoutModel",
     "state": {
      "_model_module": "@jupyter-widgets/base",
      "_model_module_version": "1.2.0",
      "_model_name": "LayoutModel",
      "_view_count": null,
      "_view_module": "@jupyter-widgets/base",
      "_view_module_version": "1.2.0",
      "_view_name": "LayoutView",
      "align_content": null,
      "align_items": null,
      "align_self": null,
      "border": null,
      "bottom": null,
      "display": null,
      "flex": null,
      "flex_flow": null,
      "grid_area": null,
      "grid_auto_columns": null,
      "grid_auto_flow": null,
      "grid_auto_rows": null,
      "grid_column": null,
      "grid_gap": null,
      "grid_row": null,
      "grid_template_areas": null,
      "grid_template_columns": null,
      "grid_template_rows": null,
      "height": null,
      "justify_content": null,
      "justify_items": null,
      "left": null,
      "margin": null,
      "max_height": null,
      "max_width": null,
      "min_height": null,
      "min_width": null,
      "object_fit": null,
      "object_position": null,
      "order": null,
      "overflow": null,
      "overflow_x": null,
      "overflow_y": null,
      "padding": null,
      "right": null,
      "top": null,
      "visibility": null,
      "width": null
     }
    },
    "abfc23602d944654995a9cb97d3cd397": {
     "model_module": "@jupyter-widgets/base",
     "model_module_version": "1.2.0",
     "model_name": "LayoutModel",
     "state": {
      "_model_module": "@jupyter-widgets/base",
      "_model_module_version": "1.2.0",
      "_model_name": "LayoutModel",
      "_view_count": null,
      "_view_module": "@jupyter-widgets/base",
      "_view_module_version": "1.2.0",
      "_view_name": "LayoutView",
      "align_content": null,
      "align_items": null,
      "align_self": null,
      "border": null,
      "bottom": null,
      "display": null,
      "flex": null,
      "flex_flow": null,
      "grid_area": null,
      "grid_auto_columns": null,
      "grid_auto_flow": null,
      "grid_auto_rows": null,
      "grid_column": null,
      "grid_gap": null,
      "grid_row": null,
      "grid_template_areas": null,
      "grid_template_columns": null,
      "grid_template_rows": null,
      "height": null,
      "justify_content": null,
      "justify_items": null,
      "left": null,
      "margin": "0px",
      "max_height": null,
      "max_width": null,
      "min_height": null,
      "min_width": null,
      "object_fit": null,
      "object_position": null,
      "order": null,
      "overflow": null,
      "overflow_x": null,
      "overflow_y": null,
      "padding": "0px",
      "right": null,
      "top": null,
      "visibility": null,
      "width": "100%"
     }
    },
    "b296c45e7468428ebcc1af3b31a28a0b": {
     "model_module": "@jupyter-widgets/base",
     "model_module_version": "1.2.0",
     "model_name": "LayoutModel",
     "state": {
      "_model_module": "@jupyter-widgets/base",
      "_model_module_version": "1.2.0",
      "_model_name": "LayoutModel",
      "_view_count": null,
      "_view_module": "@jupyter-widgets/base",
      "_view_module_version": "1.2.0",
      "_view_name": "LayoutView",
      "align_content": null,
      "align_items": null,
      "align_self": null,
      "border": null,
      "bottom": null,
      "display": null,
      "flex": null,
      "flex_flow": null,
      "grid_area": null,
      "grid_auto_columns": null,
      "grid_auto_flow": null,
      "grid_auto_rows": null,
      "grid_column": null,
      "grid_gap": null,
      "grid_row": null,
      "grid_template_areas": null,
      "grid_template_columns": null,
      "grid_template_rows": null,
      "height": null,
      "justify_content": null,
      "justify_items": null,
      "left": null,
      "margin": "0px",
      "max_height": null,
      "max_width": null,
      "min_height": null,
      "min_width": null,
      "object_fit": null,
      "object_position": null,
      "order": null,
      "overflow": null,
      "overflow_x": null,
      "overflow_y": null,
      "padding": "0px",
      "right": null,
      "top": null,
      "visibility": null,
      "width": "100%"
     }
    },
    "ceda85c993944718b6efd19026dd167c": {
     "model_module": "@jupyter-widgets/controls",
     "model_module_version": "1.5.0",
     "model_name": "FloatRangeSliderModel",
     "state": {
      "_dom_classes": [],
      "_model_module": "@jupyter-widgets/controls",
      "_model_module_version": "1.5.0",
      "_model_name": "FloatRangeSliderModel",
      "_view_count": null,
      "_view_module": "@jupyter-widgets/controls",
      "_view_module_version": "1.5.0",
      "_view_name": "FloatRangeSliderView",
      "continuous_update": true,
      "description": "",
      "description_tooltip": null,
      "disabled": false,
      "layout": "IPY_MODEL_7ce4345b0c664fafa7b95804bd95fbad",
      "max": 0.5,
      "min": -27.5,
      "orientation": "vertical",
      "readout": false,
      "readout_format": ".2f",
      "step": 0.01,
      "style": "IPY_MODEL_582de278d1f541e3ad237b34ac3169cd",
      "value": [
       -6.289999999999999,
       0.5
      ]
     }
    },
    "e8cc96c776b948f2abf1e186a6163861": {
     "model_module": "@jupyter-widgets/base",
     "model_module_version": "1.2.0",
     "model_name": "LayoutModel",
     "state": {
      "_model_module": "@jupyter-widgets/base",
      "_model_module_version": "1.2.0",
      "_model_name": "LayoutModel",
      "_view_count": null,
      "_view_module": "@jupyter-widgets/base",
      "_view_module_version": "1.2.0",
      "_view_name": "LayoutView",
      "align_content": null,
      "align_items": null,
      "align_self": null,
      "border": null,
      "bottom": null,
      "display": null,
      "flex": "0 0 auto",
      "flex_flow": null,
      "grid_area": null,
      "grid_auto_columns": null,
      "grid_auto_flow": null,
      "grid_auto_rows": null,
      "grid_column": null,
      "grid_gap": null,
      "grid_row": null,
      "grid_template_areas": null,
      "grid_template_columns": null,
      "grid_template_rows": null,
      "height": null,
      "justify_content": null,
      "justify_items": null,
      "left": null,
      "margin": "0px",
      "max_height": null,
      "max_width": null,
      "min_height": null,
      "min_width": null,
      "object_fit": null,
      "object_position": null,
      "order": null,
      "overflow": "visible",
      "overflow_x": null,
      "overflow_y": null,
      "padding": "0px",
      "right": null,
      "top": null,
      "visibility": null,
      "width": null
     }
    },
    "ef8390b581564524907856d43a57de45": {
     "model_module": "@jupyter-widgets/controls",
     "model_module_version": "1.5.0",
     "model_name": "HBoxModel",
     "state": {
      "_dom_classes": [],
      "_model_module": "@jupyter-widgets/controls",
      "_model_module_version": "1.5.0",
      "_model_name": "HBoxModel",
      "_view_count": null,
      "_view_module": "@jupyter-widgets/controls",
      "_view_module_version": "1.5.0",
      "_view_name": "HBoxView",
      "box_style": "",
      "children": [
       "IPY_MODEL_304fb5cd261b44d88797d0d1ba357028",
       "IPY_MODEL_425037c22dba4b189f50911c4c48dd32"
      ],
      "layout": "IPY_MODEL_b296c45e7468428ebcc1af3b31a28a0b"
     }
    },
    "f3790247b0164f5d8752cac46cd86e53": {
     "model_module": "@jupyter-widgets/base",
     "model_module_version": "1.2.0",
     "model_name": "LayoutModel",
     "state": {
      "_model_module": "@jupyter-widgets/base",
      "_model_module_version": "1.2.0",
      "_model_name": "LayoutModel",
      "_view_count": null,
      "_view_module": "@jupyter-widgets/base",
      "_view_module_version": "1.2.0",
      "_view_name": "LayoutView",
      "align_content": null,
      "align_items": null,
      "align_self": null,
      "border": null,
      "bottom": null,
      "display": null,
      "flex": "0 0 auto",
      "flex_flow": null,
      "grid_area": null,
      "grid_auto_columns": null,
      "grid_auto_flow": null,
      "grid_auto_rows": null,
      "grid_column": null,
      "grid_gap": null,
      "grid_row": null,
      "grid_template_areas": null,
      "grid_template_columns": null,
      "grid_template_rows": null,
      "height": null,
      "justify_content": null,
      "justify_items": null,
      "left": null,
      "margin": "0px",
      "max_height": null,
      "max_width": null,
      "min_height": null,
      "min_width": null,
      "object_fit": null,
      "object_position": null,
      "order": null,
      "overflow": "visible",
      "overflow_x": null,
      "overflow_y": null,
      "padding": "0px",
      "right": null,
      "top": null,
      "visibility": null,
      "width": null
     }
    },
    "f7b141c79ad1439883cb3f3c930474f5": {
     "model_module": "@jupyter-widgets/controls",
     "model_module_version": "1.5.0",
     "model_name": "SliderStyleModel",
     "state": {
      "_model_module": "@jupyter-widgets/controls",
      "_model_module_version": "1.5.0",
      "_model_name": "SliderStyleModel",
      "_view_count": null,
      "_view_module": "@jupyter-widgets/base",
      "_view_module_version": "1.2.0",
      "_view_name": "StyleView",
      "description_width": "",
      "handle_color": null
     }
    },
    "fe8912c8f6ad45c78de877fd21499d94": {
     "model_module": "@jupyter-widgets/controls",
     "model_module_version": "1.5.0",
     "model_name": "FloatRangeSliderModel",
     "state": {
      "_dom_classes": [],
      "_model_module": "@jupyter-widgets/controls",
      "_model_module_version": "1.5.0",
      "_model_name": "FloatRangeSliderModel",
      "_view_count": null,
      "_view_module": "@jupyter-widgets/controls",
      "_view_module_version": "1.5.0",
      "_view_name": "FloatRangeSliderView",
      "continuous_update": true,
      "description": "Y Range:",
      "description_tooltip": null,
      "disabled": false,
      "layout": "IPY_MODEL_2febece783224cd4a29c631ea25a4197",
      "max": 19,
      "min": 10,
      "orientation": "vertical",
      "readout": true,
      "readout_format": ".2f",
      "step": 0.01,
      "style": "IPY_MODEL_f7b141c79ad1439883cb3f3c930474f5",
      "value": [
       10,
       19
      ]
     }
    }
   }
  }
 },
 "nbformat": 4,
 "nbformat_minor": 0
}
