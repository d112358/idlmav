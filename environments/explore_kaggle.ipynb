{
 "cells": [
  {
   "cell_type": "markdown",
   "metadata": {
    "colab_type": "text",
    "id": "view-in-github"
   },
   "source": [
    "<a href=\"https://colab.research.google.com/github/d112358/idlmav/blob/main/environments/explore_colab.ipynb\" target=\"_parent\"><img src=\"https://colab.research.google.com/assets/colab-badge.svg\" alt=\"Open In Colab\"/></a>"
   ]
  },
  {
   "cell_type": "markdown",
   "metadata": {
    "id": "PtFDLbDqRgYQ"
   },
   "source": [
    "## Kaggle environment notes and experiments\n",
    "This notebook contains several experiments performed on Kaggle"
   ]
  },
  {
   "cell_type": "markdown",
   "metadata": {
    "id": "ijYWrYSF7zQY"
   },
   "source": [
    "## Running library notebooks on Kaggle\n",
    "TODO"
   ]
  },
  {
   "cell_type": "markdown",
   "metadata": {
    "id": "dO2rTp7Y_g36"
   },
   "source": [
    "### Notebook links\n",
    "* [00_overview.ipynb](../nbs/00_overview.ipynb)\n",
    "* [01_explore_layout.ipynb](../nbs/01_explore_layout.ipynb)\n",
    "* [02_test_layout.ipynb](../nbs/02_test_layout.ipynb)\n",
    "* [03_explore_rendering.ipynb](../nbs/03_explore_rendering.ipynb)\n",
    "* [04_explore_plotly_interaction.ipynb](../nbs/04_explore_plotly_interaction.ipynb)\n",
    "* [05_explore_js_interaction.ipynb](../nbs/05_explore_js_interaction.ipynb)\n",
    "* [06_test_rendering.ipynb](../nbs/06_test_rendering.ipynb)\n",
    "* [07_explore_tracing.ipynb](../nbs/07_explore_tracing.ipynb)\n",
    "* [08_fx_profiling_tutorial.ipynb](../nbs/08_fx_profiling_tutorial.ipynb)\n",
    "* [09_explore_fx_interpreter.ipynb](../nbs/09_explore_fx_interpreter.ipynb)\n",
    "* [10_test_tracing.ipynb](../nbs/10_test_tracing.ipynb)\n",
    "* [11_explore_colors.ipynb](../nbs/11_explore_colors.ipynb)\n",
    "* [12_test_idlmav.ipynb](../nbs/12_test_idlmav.ipynb)\n",
    "\n"
   ]
  },
  {
   "cell_type": "markdown",
   "metadata": {
    "id": "7t7PDfkT_jp6"
   },
   "source": [
    "### Steps\n",
    "* Open the notebook from the links below\n",
    "* Paste the following code above the first cell\n",
    "  ```python\n",
    "  from google.colab import output\n",
    "  output.enable_custom_widget_manager()\n",
    "  %pip install git+https://github.com/d112358/idlmav.git\n",
    "  %pip install torchview\n",
    "  %pip install torchinfo\n",
    "  %pip install colorspacious\n",
    "  ```\n",
    "* Run the notebook normally\n",
    "\n"
   ]
  },
  {
   "cell_type": "markdown",
   "metadata": {
    "id": "QdIOzoAa9jzL"
   },
   "source": [
    "### Notes\n",
    "* In general, wherever the `plotly_renderer_context` context manager is used, pass `'kaggle'` as its argument for better results on Kaggle"
   ]
  },
  {
   "cell_type": "markdown",
   "metadata": {
    "id": "zBMRvX4ySJDU"
   },
   "source": [
    "## Information about existing environment"
   ]
  },
  {
   "cell_type": "code",
   "execution_count": null,
   "metadata": {
    "id": "7-p589ONtTRf"
   },
   "outputs": [],
   "source": [
    "import sys, os, platform\n",
    "from datetime import datetime\n",
    "from pathlib import Path"
   ]
  },
  {
   "cell_type": "markdown",
   "metadata": {
    "id": "sJsNDR4eXebc"
   },
   "source": [
    "### OS, Kaggle Kernel and Python"
   ]
  },
  {
   "cell_type": "code",
   "execution_count": null,
   "metadata": {
    "colab": {
     "base_uri": "https://localhost:8080/"
    },
    "id": "1GX3hYvNUV4N",
    "outputId": "ca03fecd-00bc-46a2-e8e3-e0c5d8cee1b2"
   },
   "outputs": [
    {
     "name": "stdout",
     "output_type": "stream",
     "text": [
      "Operating System: Linux 6.1.85+ (#1 SMP PREEMPT_DYNAMIC Thu Jun 27 21:05:47 UTC 2024)\n",
      "PRETTY_NAME=\"Ubuntu 22.04.3 LTS\"\n",
      "NAME=\"Ubuntu\"\n",
      "VERSION_ID=\"22.04\"\n",
      "VERSION=\"22.04.3 LTS (Jammy Jellyfish)\"\n",
      "VERSION_CODENAME=jammy\n",
      "ID=ubuntu\n",
      "ID_LIKE=debian\n",
      "HOME_URL=\"https://www.ubuntu.com/\"\n",
      "SUPPORT_URL=\"https://help.ubuntu.com/\"\n",
      "BUG_REPORT_URL=\"https://bugs.launchpad.net/ubuntu/\"\n",
      "PRIVACY_POLICY_URL=\"https://www.ubuntu.com/legal/terms-and-policies/privacy-policy\"\n",
      "UBUNTU_CODENAME=jammy\n",
      "Current Date and Time: 2024-12-10 12:28:41.040460\n",
      "Python Version: 3.10.12 (main, Nov  6 2024, 20:22:13) [GCC 11.4.0]\n"
     ]
    }
   ],
   "source": [
    "print(f\"Operating System: {platform.system()} {platform.release()} ({platform.version()})\")\n",
    "!cat /etc/os-release\n",
    "print(\"\")\n",
    "print(f\"Kaggle Kernel Version: {os.getenv('KAGGLE_KERNEL_VERSION')}\")\n",
    "print(f\"Python Version: {sys.version}\")\n",
    "print(f\"Current Date and Time: {datetime.now()}\")"
   ]
  },
  {
   "cell_type": "markdown",
   "metadata": {
    "id": "dxiQ5zMJYBw_"
   },
   "source": [
    "### Existing packages and versions"
   ]
  },
  {
   "cell_type": "code",
   "execution_count": null,
   "metadata": {
    "colab": {
     "base_uri": "https://localhost:8080/"
    },
    "id": "Tplq5TNuYGD1",
    "outputId": "9a1e7151-f9cc-406c-a476-46810c052ad4"
   },
   "outputs": [
    {
     "name": "stdout",
     "output_type": "stream",
     "text": [
      "beautifulsoup4                     4.12.3\n",
      "fastai                             2.7.18\n",
      "fastcore                           1.7.22\n",
      "fastdownload                       0.0.7\n",
      "fastjsonschema                     2.21.1\n",
      "fastprogress                       1.0.3\n",
      "fastrlock                          0.8.2\n",
      "geopandas                          1.0.1\n",
      "graphviz                           0.20.3\n",
      "ipyevents                          2.0.2\n",
      "ipyfilechooser                     0.6.0\n",
      "ipykernel                          5.5.6\n",
      "ipyleaflet                         0.19.2\n",
      "ipyparallel                        8.8.0\n",
      "ipython                            7.34.0\n",
      "ipython-genutils                   0.2.0\n",
      "ipython-sql                        0.5.0\n",
      "ipytree                            0.2.2\n",
      "ipywidgets                         7.7.1\n",
      "matplotlib                         3.8.0\n",
      "matplotlib-inline                  0.1.7\n",
      "matplotlib-venn                    1.1.1\n",
      "nbformat                           5.10.4\n",
      "numpy                              1.26.4\n",
      "pandas                             2.2.2\n",
      "pandas-datareader                  0.10.0\n",
      "pandas-gbq                         0.24.0\n",
      "pandas-stubs                       2.2.2.240909\n",
      "plotly                             5.24.1\n",
      "scipy                              1.13.1\n",
      "sklearn-pandas                     2.2.0\n",
      "tabulate                           0.9.0\n",
      "timm                               1.0.12\n",
      "torch                              2.5.1+cu121\n",
      "torchaudio                         2.5.1+cu121\n",
      "torchsummary                       1.5.1\n",
      "torchvision                        0.20.1+cu121\n"
     ]
    }
   ],
   "source": [
    "import subprocess\n",
    "filter_strings = [\"beautifulsoup\", \"colorspacious\", \"fast\", \"graphviz\", \"ipy\", \"jsbeautifier\", \"matplotlib\", \"munkres\", \"nbformat\", \"numpy\", \"pandas\", \"plotly\", \"tabulate\", \"timm\", \"torch\"]\n",
    "result = subprocess.run([\"pip\", \"list\"], stdout=subprocess.PIPE, text=True)\n",
    "lines = result.stdout.split(\"\\n\")\n",
    "\n",
    "filtered_lines = [line for line in lines if any(s in line for s in filter_strings)]\n",
    "print(\"\\n\".join(filtered_lines))"
   ]
  },
  {
   "cell_type": "markdown",
   "metadata": {
    "id": "64gGNTebZzFB"
   },
   "source": [
    "### Memory and disk space"
   ]
  },
  {
   "cell_type": "code",
   "execution_count": null,
   "metadata": {},
   "outputs": [],
   "source": [
    "import psutil, shutil\n",
    "print(f\"Processor: {platform.processor()}\")\n",
    "print(f\"CPU Count: {psutil.cpu_count(logical=True)}\")\n",
    "print(f\"Total RAM: {psutil.virtual_memory().total / 1e9:.2f} GB\")\n",
    "print(f\"Disk Space: {shutil.disk_usage('/').total / 1e9:.2f} GB\")"
   ]
  },
  {
   "cell_type": "code",
   "execution_count": null,
   "metadata": {
    "colab": {
     "base_uri": "https://localhost:8080/"
    },
    "id": "3lnA2FlMT_03",
    "outputId": "5d622335-bcf5-4ca4-9ba4-a3bd9a36468f"
   },
   "outputs": [
    {
     "name": "stdout",
     "output_type": "stream",
     "text": [
      "Memory Usage:\n",
      "               total        used        free      shared  buff/cache   available\n",
      "Mem:            12Gi       860Mi       8.6Gi       1.0Mi       3.2Gi        11Gi\n",
      "Swap:             0B          0B          0B\n",
      "\n",
      "Disk Space:\n",
      "Filesystem      Size  Used Avail Use% Mounted on\n",
      "overlay         108G   33G   76G  31% /\n",
      "tmpfs            64M     0   64M   0% /dev\n",
      "shm             5.8G     0  5.8G   0% /dev/shm\n",
      "/dev/root       2.0G  1.2G  820M  59% /usr/sbin/docker-init\n",
      "tmpfs           6.4G  116K  6.4G   1% /var/colab\n",
      "/dev/sda1        50G   34G   17G  68% /etc/hosts\n",
      "tmpfs           6.4G     0  6.4G   0% /proc/acpi\n",
      "tmpfs           6.4G     0  6.4G   0% /proc/scsi\n",
      "tmpfs           6.4G     0  6.4G   0% /sys/firmware\n"
     ]
    }
   ],
   "source": [
    "print(\"Memory Usage:\")\n",
    "!free -h\n",
    "print(\"\")\n",
    "print(\"Disk Space:\")\n",
    "!df -h"
   ]
  },
  {
   "cell_type": "markdown",
   "metadata": {},
   "source": [
    "### Internet connectivity"
   ]
  },
  {
   "cell_type": "code",
   "execution_count": null,
   "metadata": {},
   "outputs": [],
   "source": [
    "import requests\n",
    "try:\n",
    "    response = requests.get(\"https://www.google.com\", timeout=5)\n",
    "    print(f\"Internet Access: OK (Status Code {response.status_code})\")\n",
    "except requests.ConnectionError:\n",
    "    print(\"Internet Access: Failed\")"
   ]
  },
  {
   "cell_type": "markdown",
   "metadata": {
    "id": "XouNNGq_aJkp"
   },
   "source": [
    "### Git head revision"
   ]
  },
  {
   "cell_type": "code",
   "execution_count": null,
   "metadata": {
    "colab": {
     "base_uri": "https://localhost:8080/"
    },
    "id": "c9N2PwKOWscZ",
    "outputId": "5369b0d8-5d2b-416e-d23b-da4e8a0903f5"
   },
   "outputs": [
    {
     "name": "stdout",
     "output_type": "stream",
     "text": [
      "78779e076d66a0e0d31c5f94c2fcc0b55a6a754f\n"
     ]
    }
   ],
   "source": [
    "!git rev-parse HEAD"
   ]
  },
  {
   "cell_type": "markdown",
   "metadata": {
    "id": "W_25XTi27zQZ"
   },
   "source": [
    "## Installation experiments"
   ]
  },
  {
   "cell_type": "markdown",
   "metadata": {
    "id": "-sTRHEywbFqN"
   },
   "source": [
    "### Confirm we're running on Colab"
   ]
  },
  {
   "cell_type": "code",
   "execution_count": 1,
   "metadata": {
    "colab": {
     "base_uri": "https://localhost:8080/"
    },
    "id": "nmeOCwQ6bZsJ",
    "outputId": "5c8ecf7c-ccaa-4804-a798-b13deb42fc30"
   },
   "outputs": [
    {
     "name": "stdout",
     "output_type": "stream",
     "text": [
      "Running in Colab\n"
     ]
    }
   ],
   "source": [
    "import sys, os, platform, warnings\n",
    "from datetime import datetime\n",
    "from pathlib import Path\n",
    "\n",
    "try:\n",
    "    import google.colab\n",
    "    print('Running in Colab')\n",
    "except ImportError:\n",
    "    warnings.warn('This notebook is designed to be executed in Colab. You are not currently running in Colab')\n",
    "\n",
    "class StopExecution(Exception):\n",
    "    def _render_traceback_(self):\n",
    "        return []\n",
    "\n",
    "def check_colab():\n",
    "    try:\n",
    "        import google.colab\n",
    "    except ImportError:\n",
    "        print('Skipping cell. This notebook is designed to be executed in Colab')\n",
    "        raise StopExecution"
   ]
  },
  {
   "cell_type": "markdown",
   "metadata": {
    "id": "I6_FqCbtae9s"
   },
   "source": [
    "### Install IDLMAV"
   ]
  },
  {
   "cell_type": "code",
   "execution_count": 2,
   "metadata": {
    "colab": {
     "base_uri": "https://localhost:8080/"
    },
    "collapsed": true,
    "id": "89sLWhxIaiiw",
    "outputId": "6532d713-86d7-41d5-9283-8ef7399fbc50"
   },
   "outputs": [
    {
     "name": "stdout",
     "output_type": "stream",
     "text": [
      "Collecting git+https://github.com/d112358/idlmav.git\n",
      "  Cloning https://github.com/d112358/idlmav.git to /tmp/pip-req-build-b5p0ns9n\n",
      "  Running command git clone --filter=blob:none --quiet https://github.com/d112358/idlmav.git /tmp/pip-req-build-b5p0ns9n\n",
      "  Resolved https://github.com/d112358/idlmav.git to commit acc03f70a25b22ae797e08b0ff3b0fe2daa58ba1\n",
      "  Installing build dependencies ... \u001b[?25l\u001b[?25hdone\n",
      "  Getting requirements to build wheel ... \u001b[?25l\u001b[?25hdone\n",
      "  Preparing metadata (pyproject.toml) ... \u001b[?25l\u001b[?25hdone\n",
      "Requirement already satisfied: torch>=2.3.0 in /usr/local/lib/python3.10/dist-packages (from idlmav==1.0.0) (2.5.1+cu121)\n",
      "Requirement already satisfied: numpy in /usr/local/lib/python3.10/dist-packages (from idlmav==1.0.0) (1.26.4)\n",
      "Requirement already satisfied: tabulate in /usr/local/lib/python3.10/dist-packages (from idlmav==1.0.0) (0.9.0)\n",
      "Collecting torchprofile (from idlmav==1.0.0)\n",
      "  Downloading torchprofile-0.0.4-py3-none-any.whl.metadata (303 bytes)\n",
      "Collecting munkres (from idlmav==1.0.0)\n",
      "  Downloading munkres-1.1.4-py2.py3-none-any.whl.metadata (980 bytes)\n",
      "Requirement already satisfied: plotly in /usr/local/lib/python3.10/dist-packages (from idlmav==1.0.0) (5.24.1)\n",
      "Requirement already satisfied: nbformat in /usr/local/lib/python3.10/dist-packages (from idlmav==1.0.0) (5.10.4)\n",
      "Requirement already satisfied: filelock in /usr/local/lib/python3.10/dist-packages (from torch>=2.3.0->idlmav==1.0.0) (3.16.1)\n",
      "Requirement already satisfied: typing-extensions>=4.8.0 in /usr/local/lib/python3.10/dist-packages (from torch>=2.3.0->idlmav==1.0.0) (4.12.2)\n",
      "Requirement already satisfied: networkx in /usr/local/lib/python3.10/dist-packages (from torch>=2.3.0->idlmav==1.0.0) (3.4.2)\n",
      "Requirement already satisfied: jinja2 in /usr/local/lib/python3.10/dist-packages (from torch>=2.3.0->idlmav==1.0.0) (3.1.4)\n",
      "Requirement already satisfied: fsspec in /usr/local/lib/python3.10/dist-packages (from torch>=2.3.0->idlmav==1.0.0) (2024.10.0)\n",
      "Requirement already satisfied: sympy==1.13.1 in /usr/local/lib/python3.10/dist-packages (from torch>=2.3.0->idlmav==1.0.0) (1.13.1)\n",
      "Requirement already satisfied: mpmath<1.4,>=1.1.0 in /usr/local/lib/python3.10/dist-packages (from sympy==1.13.1->torch>=2.3.0->idlmav==1.0.0) (1.3.0)\n",
      "Requirement already satisfied: fastjsonschema>=2.15 in /usr/local/lib/python3.10/dist-packages (from nbformat->idlmav==1.0.0) (2.21.1)\n",
      "Requirement already satisfied: jsonschema>=2.6 in /usr/local/lib/python3.10/dist-packages (from nbformat->idlmav==1.0.0) (4.23.0)\n",
      "Requirement already satisfied: jupyter-core!=5.0.*,>=4.12 in /usr/local/lib/python3.10/dist-packages (from nbformat->idlmav==1.0.0) (5.7.2)\n",
      "Requirement already satisfied: traitlets>=5.1 in /usr/local/lib/python3.10/dist-packages (from nbformat->idlmav==1.0.0) (5.7.1)\n",
      "Requirement already satisfied: tenacity>=6.2.0 in /usr/local/lib/python3.10/dist-packages (from plotly->idlmav==1.0.0) (9.0.0)\n",
      "Requirement already satisfied: packaging in /usr/local/lib/python3.10/dist-packages (from plotly->idlmav==1.0.0) (24.2)\n",
      "Requirement already satisfied: torchvision>=0.4 in /usr/local/lib/python3.10/dist-packages (from torchprofile->idlmav==1.0.0) (0.20.1+cu121)\n",
      "Requirement already satisfied: attrs>=22.2.0 in /usr/local/lib/python3.10/dist-packages (from jsonschema>=2.6->nbformat->idlmav==1.0.0) (24.2.0)\n",
      "Requirement already satisfied: jsonschema-specifications>=2023.03.6 in /usr/local/lib/python3.10/dist-packages (from jsonschema>=2.6->nbformat->idlmav==1.0.0) (2024.10.1)\n",
      "Requirement already satisfied: referencing>=0.28.4 in /usr/local/lib/python3.10/dist-packages (from jsonschema>=2.6->nbformat->idlmav==1.0.0) (0.35.1)\n",
      "Requirement already satisfied: rpds-py>=0.7.1 in /usr/local/lib/python3.10/dist-packages (from jsonschema>=2.6->nbformat->idlmav==1.0.0) (0.22.3)\n",
      "Requirement already satisfied: platformdirs>=2.5 in /usr/local/lib/python3.10/dist-packages (from jupyter-core!=5.0.*,>=4.12->nbformat->idlmav==1.0.0) (4.3.6)\n",
      "Requirement already satisfied: pillow!=8.3.*,>=5.3.0 in /usr/local/lib/python3.10/dist-packages (from torchvision>=0.4->torchprofile->idlmav==1.0.0) (11.0.0)\n",
      "Requirement already satisfied: MarkupSafe>=2.0 in /usr/local/lib/python3.10/dist-packages (from jinja2->torch>=2.3.0->idlmav==1.0.0) (3.0.2)\n",
      "Downloading munkres-1.1.4-py2.py3-none-any.whl (7.0 kB)\n",
      "Downloading torchprofile-0.0.4-py3-none-any.whl (7.7 kB)\n",
      "Building wheels for collected packages: idlmav\n",
      "  Building wheel for idlmav (pyproject.toml) ... \u001b[?25l\u001b[?25hdone\n",
      "  Created wheel for idlmav: filename=idlmav-1.0.0-py3-none-any.whl size=34853 sha256=3b062b806a41af722a991164635ab650c78be175a718566b6b178c03bd21f72f\n",
      "  Stored in directory: /tmp/pip-ephem-wheel-cache-_m9vytnn/wheels/51/a4/e6/3bc66208df7c6cbe818b92bf4fc2f55aff92c4b31b8e2bbf5a\n",
      "Successfully built idlmav\n",
      "Installing collected packages: munkres, torchprofile, idlmav\n",
      "Successfully installed idlmav-1.0.0 munkres-1.1.4 torchprofile-0.0.4\n"
     ]
    }
   ],
   "source": [
    "check_colab()\n",
    "%pip install git+https://github.com/d112358/idlmav.git"
   ]
  },
  {
   "cell_type": "markdown",
   "metadata": {
    "id": "nG1WtQ1HhYIm"
   },
   "source": [
    "### Additional dependencies used in development and testing\n",
    "* `timm` and `fastcore` are required for some models with which this library is tested\n",
    "* `torchview` and `torchinfo` are used to verify the correctness of the model tracing algoritm\n",
    "  - `graphviz` is required by `torchview`\n",
    "* `colorspacious` was used to convert RGB colors to CIELAB to select the colors to used for nodes"
   ]
  },
  {
   "cell_type": "code",
   "execution_count": 4,
   "metadata": {
    "colab": {
     "base_uri": "https://localhost:8080/"
    },
    "collapsed": true,
    "id": "VMijxdFUhUZy",
    "outputId": "3d985d3b-c262-4522-b5f0-7c2f02dcec10"
   },
   "outputs": [
    {
     "name": "stdout",
     "output_type": "stream",
     "text": [
      "Requirement already satisfied: timm in /usr/local/lib/python3.10/dist-packages (1.0.12)\n",
      "Requirement already satisfied: torch in /usr/local/lib/python3.10/dist-packages (from timm) (2.5.1+cu121)\n",
      "Requirement already satisfied: torchvision in /usr/local/lib/python3.10/dist-packages (from timm) (0.20.1+cu121)\n",
      "Requirement already satisfied: pyyaml in /usr/local/lib/python3.10/dist-packages (from timm) (6.0.2)\n",
      "Requirement already satisfied: huggingface_hub in /usr/local/lib/python3.10/dist-packages (from timm) (0.26.3)\n",
      "Requirement already satisfied: safetensors in /usr/local/lib/python3.10/dist-packages (from timm) (0.4.5)\n",
      "Requirement already satisfied: filelock in /usr/local/lib/python3.10/dist-packages (from huggingface_hub->timm) (3.16.1)\n",
      "Requirement already satisfied: fsspec>=2023.5.0 in /usr/local/lib/python3.10/dist-packages (from huggingface_hub->timm) (2024.10.0)\n",
      "Requirement already satisfied: packaging>=20.9 in /usr/local/lib/python3.10/dist-packages (from huggingface_hub->timm) (24.2)\n",
      "Requirement already satisfied: requests in /usr/local/lib/python3.10/dist-packages (from huggingface_hub->timm) (2.32.3)\n",
      "Requirement already satisfied: tqdm>=4.42.1 in /usr/local/lib/python3.10/dist-packages (from huggingface_hub->timm) (4.66.6)\n",
      "Requirement already satisfied: typing-extensions>=3.7.4.3 in /usr/local/lib/python3.10/dist-packages (from huggingface_hub->timm) (4.12.2)\n",
      "Requirement already satisfied: networkx in /usr/local/lib/python3.10/dist-packages (from torch->timm) (3.4.2)\n",
      "Requirement already satisfied: jinja2 in /usr/local/lib/python3.10/dist-packages (from torch->timm) (3.1.4)\n",
      "Requirement already satisfied: sympy==1.13.1 in /usr/local/lib/python3.10/dist-packages (from torch->timm) (1.13.1)\n",
      "Requirement already satisfied: mpmath<1.4,>=1.1.0 in /usr/local/lib/python3.10/dist-packages (from sympy==1.13.1->torch->timm) (1.3.0)\n",
      "Requirement already satisfied: numpy in /usr/local/lib/python3.10/dist-packages (from torchvision->timm) (1.26.4)\n",
      "Requirement already satisfied: pillow!=8.3.*,>=5.3.0 in /usr/local/lib/python3.10/dist-packages (from torchvision->timm) (11.0.0)\n",
      "Requirement already satisfied: MarkupSafe>=2.0 in /usr/local/lib/python3.10/dist-packages (from jinja2->torch->timm) (3.0.2)\n",
      "Requirement already satisfied: charset-normalizer<4,>=2 in /usr/local/lib/python3.10/dist-packages (from requests->huggingface_hub->timm) (3.4.0)\n",
      "Requirement already satisfied: idna<4,>=2.5 in /usr/local/lib/python3.10/dist-packages (from requests->huggingface_hub->timm) (3.10)\n",
      "Requirement already satisfied: urllib3<3,>=1.21.1 in /usr/local/lib/python3.10/dist-packages (from requests->huggingface_hub->timm) (2.2.3)\n",
      "Requirement already satisfied: certifi>=2017.4.17 in /usr/local/lib/python3.10/dist-packages (from requests->huggingface_hub->timm) (2024.8.30)\n",
      "Requirement already satisfied: fastcore in /usr/local/lib/python3.10/dist-packages (1.7.22)\n",
      "Requirement already satisfied: packaging in /usr/local/lib/python3.10/dist-packages (from fastcore) (24.2)\n",
      "Requirement already satisfied: torchview in /usr/local/lib/python3.10/dist-packages (0.2.6)\n",
      "Requirement already satisfied: torchinfo in /usr/local/lib/python3.10/dist-packages (1.8.0)\n",
      "Requirement already satisfied: graphviz in /usr/local/lib/python3.10/dist-packages (0.20.3)\n",
      "Requirement already satisfied: colorspacious in /usr/local/lib/python3.10/dist-packages (1.1.2)\n",
      "Requirement already satisfied: numpy in /usr/local/lib/python3.10/dist-packages (from colorspacious) (1.26.4)\n"
     ]
    }
   ],
   "source": [
    "check_colab()\n",
    "%pip install timm\n",
    "%pip install fastcore\n",
    "%pip install torchview\n",
    "%pip install torchinfo\n",
    "%pip install graphviz\n",
    "%pip install colorspacious"
   ]
  },
  {
   "cell_type": "markdown",
   "metadata": {
    "id": "N6WocQKT7zQo"
   },
   "source": [
    "### Install miniai (optional)\n",
    "* See notes in [setup_vscode_wsl.ipynb](./setup_vscode_wsl.ipynb)\n",
    "* Some of the notebooks in this library perform experiments on models built with the `miniai` library from the [2022 fastai course](https://course.fast.ai/)\n",
    "* The installation of `datasets` sometimes fails on Colab due to 2nd order dependency version conflicts, but so far this has not broken the functionality we're interested in\n",
    "  - `miniai` imports `datasets`, but we're not using features from `miniai` that uses `datasets` intensively"
   ]
  },
  {
   "cell_type": "code",
   "execution_count": 6,
   "metadata": {
    "colab": {
     "base_uri": "https://localhost:8080/"
    },
    "collapsed": true,
    "id": "alPaZ6J17zQp",
    "outputId": "e17762a8-384d-4763-d3f2-995dce054576"
   },
   "outputs": [
    {
     "name": "stdout",
     "output_type": "stream",
     "text": [
      "Initialized empty Git repository in /content/tmp/.git/\n",
      "remote: Enumerating objects: 145, done.\u001b[K\n",
      "remote: Counting objects: 100% (145/145), done.\u001b[K\n",
      "remote: Compressing objects: 100% (139/139), done.\u001b[K\n",
      "remote: Total 145 (delta 10), reused 82 (delta 5), pack-reused 0 (from 0)\u001b[K\n",
      "Receiving objects: 100% (145/145), 28.36 MiB | 1.01 MiB/s, done.\n",
      "Resolving deltas: 100% (10/10), done.\n",
      "From https://github.com/fastai/course22p2\n",
      " * branch            master     -> FETCH_HEAD\n",
      " * [new branch]      master     -> origin/master\n"
     ]
    }
   ],
   "source": [
    "# Archive the miniai repo to the `tmp` directory and extract the archive to the `miniai` directory\n",
    "check_colab()\n",
    "from pathlib import Path\n",
    "Path('tmp').mkdir(exist_ok=True)     # Location to archive the repo to\n",
    "Path('miniai').mkdir(exist_ok=True)  # Location to extract the archive to\n",
    "!git -C tmp init -b master\n",
    "!git -C tmp remote add origin https://github.com/fastai/course22p2.git\n",
    "!git -C tmp fetch --depth=1 origin master\n",
    "!git -C tmp archive --format=tar origin/master:miniai | tar -x -C miniai\n",
    "!rm -rf tmp"
   ]
  },
  {
   "cell_type": "code",
   "execution_count": 7,
   "metadata": {
    "colab": {
     "base_uri": "https://localhost:8080/"
    },
    "collapsed": true,
    "id": "L9oF1i2D7zQp",
    "outputId": "248a01f9-e6bc-4864-a447-2fe498c87602"
   },
   "outputs": [
    {
     "name": "stdout",
     "output_type": "stream",
     "text": [
      "Requirement already satisfied: fastprogress in /usr/local/lib/python3.10/dist-packages (1.0.3)\n",
      "Collecting torcheval\n",
      "  Downloading torcheval-0.0.7-py3-none-any.whl.metadata (8.6 kB)\n",
      "Requirement already satisfied: typing-extensions in /usr/local/lib/python3.10/dist-packages (from torcheval) (4.12.2)\n",
      "Downloading torcheval-0.0.7-py3-none-any.whl (179 kB)\n",
      "\u001b[2K   \u001b[90m━━━━━━━━━━━━━━━━━━━━━━━━━━━━━━━━━━━━━━━━\u001b[0m \u001b[32m179.2/179.2 kB\u001b[0m \u001b[31m8.1 MB/s\u001b[0m eta \u001b[36m0:00:00\u001b[0m\n",
      "\u001b[?25hInstalling collected packages: torcheval\n",
      "Successfully installed torcheval-0.0.7\n",
      "Collecting datasets\n",
      "  Downloading datasets-3.2.0-py3-none-any.whl.metadata (20 kB)\n",
      "Requirement already satisfied: filelock in /usr/local/lib/python3.10/dist-packages (from datasets) (3.16.1)\n",
      "Requirement already satisfied: numpy>=1.17 in /usr/local/lib/python3.10/dist-packages (from datasets) (1.26.4)\n",
      "Requirement already satisfied: pyarrow>=15.0.0 in /usr/local/lib/python3.10/dist-packages (from datasets) (17.0.0)\n",
      "Collecting dill<0.3.9,>=0.3.0 (from datasets)\n",
      "  Downloading dill-0.3.8-py3-none-any.whl.metadata (10 kB)\n",
      "Requirement already satisfied: pandas in /usr/local/lib/python3.10/dist-packages (from datasets) (2.2.2)\n",
      "Requirement already satisfied: requests>=2.32.2 in /usr/local/lib/python3.10/dist-packages (from datasets) (2.32.3)\n",
      "Requirement already satisfied: tqdm>=4.66.3 in /usr/local/lib/python3.10/dist-packages (from datasets) (4.66.6)\n",
      "Collecting xxhash (from datasets)\n",
      "  Downloading xxhash-3.5.0-cp310-cp310-manylinux_2_17_x86_64.manylinux2014_x86_64.whl.metadata (12 kB)\n",
      "Collecting multiprocess<0.70.17 (from datasets)\n",
      "  Downloading multiprocess-0.70.16-py310-none-any.whl.metadata (7.2 kB)\n",
      "Collecting fsspec<=2024.9.0,>=2023.1.0 (from fsspec[http]<=2024.9.0,>=2023.1.0->datasets)\n",
      "  Downloading fsspec-2024.9.0-py3-none-any.whl.metadata (11 kB)\n",
      "Requirement already satisfied: aiohttp in /usr/local/lib/python3.10/dist-packages (from datasets) (3.11.9)\n",
      "Requirement already satisfied: huggingface-hub>=0.23.0 in /usr/local/lib/python3.10/dist-packages (from datasets) (0.26.3)\n",
      "Requirement already satisfied: packaging in /usr/local/lib/python3.10/dist-packages (from datasets) (24.2)\n",
      "Requirement already satisfied: pyyaml>=5.1 in /usr/local/lib/python3.10/dist-packages (from datasets) (6.0.2)\n",
      "Requirement already satisfied: aiohappyeyeballs>=2.3.0 in /usr/local/lib/python3.10/dist-packages (from aiohttp->datasets) (2.4.4)\n",
      "Requirement already satisfied: aiosignal>=1.1.2 in /usr/local/lib/python3.10/dist-packages (from aiohttp->datasets) (1.3.1)\n",
      "Requirement already satisfied: async-timeout<6.0,>=4.0 in /usr/local/lib/python3.10/dist-packages (from aiohttp->datasets) (4.0.3)\n",
      "Requirement already satisfied: attrs>=17.3.0 in /usr/local/lib/python3.10/dist-packages (from aiohttp->datasets) (24.2.0)\n",
      "Requirement already satisfied: frozenlist>=1.1.1 in /usr/local/lib/python3.10/dist-packages (from aiohttp->datasets) (1.5.0)\n",
      "Requirement already satisfied: multidict<7.0,>=4.5 in /usr/local/lib/python3.10/dist-packages (from aiohttp->datasets) (6.1.0)\n",
      "Requirement already satisfied: propcache>=0.2.0 in /usr/local/lib/python3.10/dist-packages (from aiohttp->datasets) (0.2.1)\n",
      "Requirement already satisfied: yarl<2.0,>=1.17.0 in /usr/local/lib/python3.10/dist-packages (from aiohttp->datasets) (1.18.3)\n",
      "Requirement already satisfied: typing-extensions>=3.7.4.3 in /usr/local/lib/python3.10/dist-packages (from huggingface-hub>=0.23.0->datasets) (4.12.2)\n",
      "Requirement already satisfied: charset-normalizer<4,>=2 in /usr/local/lib/python3.10/dist-packages (from requests>=2.32.2->datasets) (3.4.0)\n",
      "Requirement already satisfied: idna<4,>=2.5 in /usr/local/lib/python3.10/dist-packages (from requests>=2.32.2->datasets) (3.10)\n",
      "Requirement already satisfied: urllib3<3,>=1.21.1 in /usr/local/lib/python3.10/dist-packages (from requests>=2.32.2->datasets) (2.2.3)\n",
      "Requirement already satisfied: certifi>=2017.4.17 in /usr/local/lib/python3.10/dist-packages (from requests>=2.32.2->datasets) (2024.8.30)\n",
      "Requirement already satisfied: python-dateutil>=2.8.2 in /usr/local/lib/python3.10/dist-packages (from pandas->datasets) (2.8.2)\n",
      "Requirement already satisfied: pytz>=2020.1 in /usr/local/lib/python3.10/dist-packages (from pandas->datasets) (2024.2)\n",
      "Requirement already satisfied: tzdata>=2022.7 in /usr/local/lib/python3.10/dist-packages (from pandas->datasets) (2024.2)\n",
      "Requirement already satisfied: six>=1.5 in /usr/local/lib/python3.10/dist-packages (from python-dateutil>=2.8.2->pandas->datasets) (1.16.0)\n",
      "Downloading datasets-3.2.0-py3-none-any.whl (480 kB)\n",
      "\u001b[2K   \u001b[90m━━━━━━━━━━━━━━━━━━━━━━━━━━━━━━━━━━━━━━━━\u001b[0m \u001b[32m480.6/480.6 kB\u001b[0m \u001b[31m18.1 MB/s\u001b[0m eta \u001b[36m0:00:00\u001b[0m\n",
      "\u001b[?25hDownloading dill-0.3.8-py3-none-any.whl (116 kB)\n",
      "\u001b[2K   \u001b[90m━━━━━━━━━━━━━━━━━━━━━━━━━━━━━━━━━━━━━━━━\u001b[0m \u001b[32m116.3/116.3 kB\u001b[0m \u001b[31m9.3 MB/s\u001b[0m eta \u001b[36m0:00:00\u001b[0m\n",
      "\u001b[?25hDownloading fsspec-2024.9.0-py3-none-any.whl (179 kB)\n",
      "\u001b[2K   \u001b[90m━━━━━━━━━━━━━━━━━━━━━━━━━━━━━━━━━━━━━━━━\u001b[0m \u001b[32m179.3/179.3 kB\u001b[0m \u001b[31m13.8 MB/s\u001b[0m eta \u001b[36m0:00:00\u001b[0m\n",
      "\u001b[?25hDownloading multiprocess-0.70.16-py310-none-any.whl (134 kB)\n",
      "\u001b[2K   \u001b[90m━━━━━━━━━━━━━━━━━━━━━━━━━━━━━━━━━━━━━━━━\u001b[0m \u001b[32m134.8/134.8 kB\u001b[0m \u001b[31m10.7 MB/s\u001b[0m eta \u001b[36m0:00:00\u001b[0m\n",
      "\u001b[?25hDownloading xxhash-3.5.0-cp310-cp310-manylinux_2_17_x86_64.manylinux2014_x86_64.whl (194 kB)\n",
      "\u001b[2K   \u001b[90m━━━━━━━━━━━━━━━━━━━━━━━━━━━━━━━━━━━━━━━━\u001b[0m \u001b[32m194.1/194.1 kB\u001b[0m \u001b[31m13.5 MB/s\u001b[0m eta \u001b[36m0:00:00\u001b[0m\n",
      "\u001b[?25hInstalling collected packages: xxhash, fsspec, dill, multiprocess, datasets\n",
      "  Attempting uninstall: fsspec\n",
      "    Found existing installation: fsspec 2024.10.0\n",
      "    Uninstalling fsspec-2024.10.0:\n",
      "      Successfully uninstalled fsspec-2024.10.0\n",
      "\u001b[31mERROR: pip's dependency resolver does not currently take into account all the packages that are installed. This behaviour is the source of the following dependency conflicts.\n",
      "gcsfs 2024.10.0 requires fsspec==2024.10.0, but you have fsspec 2024.9.0 which is incompatible.\u001b[0m\u001b[31m\n",
      "\u001b[0mSuccessfully installed datasets-3.2.0 dill-0.3.8 fsspec-2024.9.0 multiprocess-0.70.16 xxhash-3.5.0\n"
     ]
    }
   ],
   "source": [
    "# Install miniai dependencies\n",
    "check_colab()\n",
    "%pip install fastprogress\n",
    "%pip install torcheval\n",
    "%pip install datasets"
   ]
  },
  {
   "cell_type": "markdown",
   "metadata": {
    "id": "WWouUtKJ7zQq"
   },
   "source": [
    "### Test imports"
   ]
  },
  {
   "cell_type": "code",
   "execution_count": 8,
   "metadata": {
    "id": "N9v2kWKw7zQq"
   },
   "outputs": [],
   "source": [
    "import sys\n",
    "from pathlib import Path\n",
    "sys.path.append(str(Path.cwd().parent))\n",
    "\n",
    "from idlmav import MAV\n",
    "from miniai.init import clean_mem"
   ]
  },
  {
   "cell_type": "markdown",
   "metadata": {
    "id": "vD_jy25mx4Ox"
   },
   "source": [
    "## Plotly experiments"
   ]
  },
  {
   "cell_type": "code",
   "execution_count": 10,
   "metadata": {
    "id": "Sx7Qj-N7ybCX"
   },
   "outputs": [],
   "source": [
    "import plotly.io as pio\n",
    "import plotly.graph_objects as go\n",
    "\n",
    "data = {\n",
    "    'name': ['A', 'B', 'C', 'D', 'E', 'F', 'G', 'H', 'I', 'J', 'K', 'L', 'M', 'N', 'O', 'P', 'Q', 'R', 'S', 'T'],\n",
    "    'x': [1, 2, 3, 4, 5, 6, 7, 8, 9, 10, 11, 12, 13, 14, 15, 16, 17, 18, 19, 20],\n",
    "    'y': [10, 15, 13, 17, 11, 13, 18, 14, 12, 19, 17, 15, 10, 19, 18, 13, 12, 17, 14, 15]\n",
    "}"
   ]
  },
  {
   "cell_type": "markdown",
   "metadata": {
    "id": "pjreXQqmyNbO"
   },
   "source": [
    "### Available renderers"
   ]
  },
  {
   "cell_type": "code",
   "execution_count": 9,
   "metadata": {
    "colab": {
     "base_uri": "https://localhost:8080/"
    },
    "id": "rO6yPGyOyEzh",
    "outputId": "79cefef4-b943-4a09-f5e5-2a94dfdfd80e"
   },
   "outputs": [
    {
     "name": "stdout",
     "output_type": "stream",
     "text": [
      "Available renderers: plotly_mimetype, jupyterlab, nteract, vscode, notebook, notebook_connected, kaggle, azure, colab, cocalc, databricks, json, png, jpeg, jpg, svg, pdf, browser, firefox, chrome, chromium, iframe, iframe_connected, sphinx_gallery, sphinx_gallery_png\n"
     ]
    }
   ],
   "source": [
    "available_renderers = list(pio.renderers)\n",
    "print(f'Available renderers: {\", \".join(available_renderers)}')"
   ]
  },
  {
   "cell_type": "markdown",
   "metadata": {
    "id": "i39suqVsyShq"
   },
   "source": [
    "### Standard figure"
   ]
  },
  {
   "cell_type": "code",
   "execution_count": 14,
   "metadata": {
    "colab": {
     "base_uri": "https://localhost:8080/",
     "height": 542
    },
    "id": "Mds0O-60ywEK",
    "outputId": "218fa2fc-8ebc-48d1-ec02-29eb5b16c024"
   },
   "outputs": [
    {
     "data": {
      "text/html": [
       "<html>\n",
       "<head><meta charset=\"utf-8\" /></head>\n",
       "<body>\n",
       "    <div>            <script src=\"https://cdnjs.cloudflare.com/ajax/libs/mathjax/2.7.5/MathJax.js?config=TeX-AMS-MML_SVG\"></script><script type=\"text/javascript\">if (window.MathJax && window.MathJax.Hub && window.MathJax.Hub.Config) {window.MathJax.Hub.Config({SVG: {font: \"STIX-Web\"}});}</script>                <script type=\"text/javascript\">window.PlotlyConfig = {MathJaxConfig: 'local'};</script>\n",
       "        <script charset=\"utf-8\" src=\"https://cdn.plot.ly/plotly-2.35.2.min.js\"></script>                <div id=\"c8184e44-5740-49de-94af-a415395b02ff\" class=\"plotly-graph-div\" style=\"height:525px; width:100%;\"></div>            <script type=\"text/javascript\">                                    window.PLOTLYENV=window.PLOTLYENV || {};                                    if (document.getElementById(\"c8184e44-5740-49de-94af-a415395b02ff\")) {                    Plotly.newPlot(                        \"c8184e44-5740-49de-94af-a415395b02ff\",                        [{\"customdata\":[\"A\",\"B\",\"C\",\"D\",\"E\",\"F\",\"G\",\"H\",\"I\",\"J\",\"K\",\"L\",\"M\",\"N\",\"O\",\"P\",\"Q\",\"R\",\"S\",\"T\"],\"hovertemplate\":\"name: %{customdata}\",\"mode\":\"markers\",\"x\":[1,2,3,4,5,6,7,8,9,10,11,12,13,14,15,16,17,18,19,20],\"y\":[10,15,13,17,11,13,18,14,12,19,17,15,10,19,18,13,12,17,14,15],\"type\":\"scatter\"}],                        {\"template\":{\"data\":{\"histogram2dcontour\":[{\"type\":\"histogram2dcontour\",\"colorbar\":{\"outlinewidth\":0,\"ticks\":\"\"},\"colorscale\":[[0.0,\"#0d0887\"],[0.1111111111111111,\"#46039f\"],[0.2222222222222222,\"#7201a8\"],[0.3333333333333333,\"#9c179e\"],[0.4444444444444444,\"#bd3786\"],[0.5555555555555556,\"#d8576b\"],[0.6666666666666666,\"#ed7953\"],[0.7777777777777778,\"#fb9f3a\"],[0.8888888888888888,\"#fdca26\"],[1.0,\"#f0f921\"]]}],\"choropleth\":[{\"type\":\"choropleth\",\"colorbar\":{\"outlinewidth\":0,\"ticks\":\"\"}}],\"histogram2d\":[{\"type\":\"histogram2d\",\"colorbar\":{\"outlinewidth\":0,\"ticks\":\"\"},\"colorscale\":[[0.0,\"#0d0887\"],[0.1111111111111111,\"#46039f\"],[0.2222222222222222,\"#7201a8\"],[0.3333333333333333,\"#9c179e\"],[0.4444444444444444,\"#bd3786\"],[0.5555555555555556,\"#d8576b\"],[0.6666666666666666,\"#ed7953\"],[0.7777777777777778,\"#fb9f3a\"],[0.8888888888888888,\"#fdca26\"],[1.0,\"#f0f921\"]]}],\"heatmap\":[{\"type\":\"heatmap\",\"colorbar\":{\"outlinewidth\":0,\"ticks\":\"\"},\"colorscale\":[[0.0,\"#0d0887\"],[0.1111111111111111,\"#46039f\"],[0.2222222222222222,\"#7201a8\"],[0.3333333333333333,\"#9c179e\"],[0.4444444444444444,\"#bd3786\"],[0.5555555555555556,\"#d8576b\"],[0.6666666666666666,\"#ed7953\"],[0.7777777777777778,\"#fb9f3a\"],[0.8888888888888888,\"#fdca26\"],[1.0,\"#f0f921\"]]}],\"heatmapgl\":[{\"type\":\"heatmapgl\",\"colorbar\":{\"outlinewidth\":0,\"ticks\":\"\"},\"colorscale\":[[0.0,\"#0d0887\"],[0.1111111111111111,\"#46039f\"],[0.2222222222222222,\"#7201a8\"],[0.3333333333333333,\"#9c179e\"],[0.4444444444444444,\"#bd3786\"],[0.5555555555555556,\"#d8576b\"],[0.6666666666666666,\"#ed7953\"],[0.7777777777777778,\"#fb9f3a\"],[0.8888888888888888,\"#fdca26\"],[1.0,\"#f0f921\"]]}],\"contourcarpet\":[{\"type\":\"contourcarpet\",\"colorbar\":{\"outlinewidth\":0,\"ticks\":\"\"}}],\"contour\":[{\"type\":\"contour\",\"colorbar\":{\"outlinewidth\":0,\"ticks\":\"\"},\"colorscale\":[[0.0,\"#0d0887\"],[0.1111111111111111,\"#46039f\"],[0.2222222222222222,\"#7201a8\"],[0.3333333333333333,\"#9c179e\"],[0.4444444444444444,\"#bd3786\"],[0.5555555555555556,\"#d8576b\"],[0.6666666666666666,\"#ed7953\"],[0.7777777777777778,\"#fb9f3a\"],[0.8888888888888888,\"#fdca26\"],[1.0,\"#f0f921\"]]}],\"surface\":[{\"type\":\"surface\",\"colorbar\":{\"outlinewidth\":0,\"ticks\":\"\"},\"colorscale\":[[0.0,\"#0d0887\"],[0.1111111111111111,\"#46039f\"],[0.2222222222222222,\"#7201a8\"],[0.3333333333333333,\"#9c179e\"],[0.4444444444444444,\"#bd3786\"],[0.5555555555555556,\"#d8576b\"],[0.6666666666666666,\"#ed7953\"],[0.7777777777777778,\"#fb9f3a\"],[0.8888888888888888,\"#fdca26\"],[1.0,\"#f0f921\"]]}],\"mesh3d\":[{\"type\":\"mesh3d\",\"colorbar\":{\"outlinewidth\":0,\"ticks\":\"\"}}],\"scatter\":[{\"fillpattern\":{\"fillmode\":\"overlay\",\"size\":10,\"solidity\":0.2},\"type\":\"scatter\"}],\"parcoords\":[{\"type\":\"parcoords\",\"line\":{\"colorbar\":{\"outlinewidth\":0,\"ticks\":\"\"}}}],\"scatterpolargl\":[{\"type\":\"scatterpolargl\",\"marker\":{\"colorbar\":{\"outlinewidth\":0,\"ticks\":\"\"}}}],\"bar\":[{\"error_x\":{\"color\":\"#2a3f5f\"},\"error_y\":{\"color\":\"#2a3f5f\"},\"marker\":{\"line\":{\"color\":\"#E5ECF6\",\"width\":0.5},\"pattern\":{\"fillmode\":\"overlay\",\"size\":10,\"solidity\":0.2}},\"type\":\"bar\"}],\"scattergeo\":[{\"type\":\"scattergeo\",\"marker\":{\"colorbar\":{\"outlinewidth\":0,\"ticks\":\"\"}}}],\"scatterpolar\":[{\"type\":\"scatterpolar\",\"marker\":{\"colorbar\":{\"outlinewidth\":0,\"ticks\":\"\"}}}],\"histogram\":[{\"marker\":{\"pattern\":{\"fillmode\":\"overlay\",\"size\":10,\"solidity\":0.2}},\"type\":\"histogram\"}],\"scattergl\":[{\"type\":\"scattergl\",\"marker\":{\"colorbar\":{\"outlinewidth\":0,\"ticks\":\"\"}}}],\"scatter3d\":[{\"type\":\"scatter3d\",\"line\":{\"colorbar\":{\"outlinewidth\":0,\"ticks\":\"\"}},\"marker\":{\"colorbar\":{\"outlinewidth\":0,\"ticks\":\"\"}}}],\"scattermapbox\":[{\"type\":\"scattermapbox\",\"marker\":{\"colorbar\":{\"outlinewidth\":0,\"ticks\":\"\"}}}],\"scatterternary\":[{\"type\":\"scatterternary\",\"marker\":{\"colorbar\":{\"outlinewidth\":0,\"ticks\":\"\"}}}],\"scattercarpet\":[{\"type\":\"scattercarpet\",\"marker\":{\"colorbar\":{\"outlinewidth\":0,\"ticks\":\"\"}}}],\"carpet\":[{\"aaxis\":{\"endlinecolor\":\"#2a3f5f\",\"gridcolor\":\"white\",\"linecolor\":\"white\",\"minorgridcolor\":\"white\",\"startlinecolor\":\"#2a3f5f\"},\"baxis\":{\"endlinecolor\":\"#2a3f5f\",\"gridcolor\":\"white\",\"linecolor\":\"white\",\"minorgridcolor\":\"white\",\"startlinecolor\":\"#2a3f5f\"},\"type\":\"carpet\"}],\"table\":[{\"cells\":{\"fill\":{\"color\":\"#EBF0F8\"},\"line\":{\"color\":\"white\"}},\"header\":{\"fill\":{\"color\":\"#C8D4E3\"},\"line\":{\"color\":\"white\"}},\"type\":\"table\"}],\"barpolar\":[{\"marker\":{\"line\":{\"color\":\"#E5ECF6\",\"width\":0.5},\"pattern\":{\"fillmode\":\"overlay\",\"size\":10,\"solidity\":0.2}},\"type\":\"barpolar\"}],\"pie\":[{\"automargin\":true,\"type\":\"pie\"}]},\"layout\":{\"autotypenumbers\":\"strict\",\"colorway\":[\"#636efa\",\"#EF553B\",\"#00cc96\",\"#ab63fa\",\"#FFA15A\",\"#19d3f3\",\"#FF6692\",\"#B6E880\",\"#FF97FF\",\"#FECB52\"],\"font\":{\"color\":\"#2a3f5f\"},\"hovermode\":\"closest\",\"hoverlabel\":{\"align\":\"left\"},\"paper_bgcolor\":\"white\",\"plot_bgcolor\":\"#E5ECF6\",\"polar\":{\"bgcolor\":\"#E5ECF6\",\"angularaxis\":{\"gridcolor\":\"white\",\"linecolor\":\"white\",\"ticks\":\"\"},\"radialaxis\":{\"gridcolor\":\"white\",\"linecolor\":\"white\",\"ticks\":\"\"}},\"ternary\":{\"bgcolor\":\"#E5ECF6\",\"aaxis\":{\"gridcolor\":\"white\",\"linecolor\":\"white\",\"ticks\":\"\"},\"baxis\":{\"gridcolor\":\"white\",\"linecolor\":\"white\",\"ticks\":\"\"},\"caxis\":{\"gridcolor\":\"white\",\"linecolor\":\"white\",\"ticks\":\"\"}},\"coloraxis\":{\"colorbar\":{\"outlinewidth\":0,\"ticks\":\"\"}},\"colorscale\":{\"sequential\":[[0.0,\"#0d0887\"],[0.1111111111111111,\"#46039f\"],[0.2222222222222222,\"#7201a8\"],[0.3333333333333333,\"#9c179e\"],[0.4444444444444444,\"#bd3786\"],[0.5555555555555556,\"#d8576b\"],[0.6666666666666666,\"#ed7953\"],[0.7777777777777778,\"#fb9f3a\"],[0.8888888888888888,\"#fdca26\"],[1.0,\"#f0f921\"]],\"sequentialminus\":[[0.0,\"#0d0887\"],[0.1111111111111111,\"#46039f\"],[0.2222222222222222,\"#7201a8\"],[0.3333333333333333,\"#9c179e\"],[0.4444444444444444,\"#bd3786\"],[0.5555555555555556,\"#d8576b\"],[0.6666666666666666,\"#ed7953\"],[0.7777777777777778,\"#fb9f3a\"],[0.8888888888888888,\"#fdca26\"],[1.0,\"#f0f921\"]],\"diverging\":[[0,\"#8e0152\"],[0.1,\"#c51b7d\"],[0.2,\"#de77ae\"],[0.3,\"#f1b6da\"],[0.4,\"#fde0ef\"],[0.5,\"#f7f7f7\"],[0.6,\"#e6f5d0\"],[0.7,\"#b8e186\"],[0.8,\"#7fbc41\"],[0.9,\"#4d9221\"],[1,\"#276419\"]]},\"xaxis\":{\"gridcolor\":\"white\",\"linecolor\":\"white\",\"ticks\":\"\",\"title\":{\"standoff\":15},\"zerolinecolor\":\"white\",\"automargin\":true,\"zerolinewidth\":2},\"yaxis\":{\"gridcolor\":\"white\",\"linecolor\":\"white\",\"ticks\":\"\",\"title\":{\"standoff\":15},\"zerolinecolor\":\"white\",\"automargin\":true,\"zerolinewidth\":2},\"scene\":{\"xaxis\":{\"backgroundcolor\":\"#E5ECF6\",\"gridcolor\":\"white\",\"linecolor\":\"white\",\"showbackground\":true,\"ticks\":\"\",\"zerolinecolor\":\"white\",\"gridwidth\":2},\"yaxis\":{\"backgroundcolor\":\"#E5ECF6\",\"gridcolor\":\"white\",\"linecolor\":\"white\",\"showbackground\":true,\"ticks\":\"\",\"zerolinecolor\":\"white\",\"gridwidth\":2},\"zaxis\":{\"backgroundcolor\":\"#E5ECF6\",\"gridcolor\":\"white\",\"linecolor\":\"white\",\"showbackground\":true,\"ticks\":\"\",\"zerolinecolor\":\"white\",\"gridwidth\":2}},\"shapedefaults\":{\"line\":{\"color\":\"#2a3f5f\"}},\"annotationdefaults\":{\"arrowcolor\":\"#2a3f5f\",\"arrowhead\":0,\"arrowwidth\":1},\"geo\":{\"bgcolor\":\"white\",\"landcolor\":\"#E5ECF6\",\"subunitcolor\":\"white\",\"showland\":true,\"showlakes\":true,\"lakecolor\":\"white\"},\"title\":{\"x\":0.05},\"mapbox\":{\"style\":\"light\"}}}},                        {\"responsive\": true}                    ).then(function(){\n",
       "                            \n",
       "var gd = document.getElementById('c8184e44-5740-49de-94af-a415395b02ff');\n",
       "var x = new MutationObserver(function (mutations, observer) {{\n",
       "        var display = window.getComputedStyle(gd).display;\n",
       "        if (!display || display === 'none') {{\n",
       "            console.log([gd, 'removed!']);\n",
       "            Plotly.purge(gd);\n",
       "            observer.disconnect();\n",
       "        }}\n",
       "}});\n",
       "\n",
       "// Listen for the removal of the full notebook cells\n",
       "var notebookContainer = gd.closest('#notebook-container');\n",
       "if (notebookContainer) {{\n",
       "    x.observe(notebookContainer, {childList: true});\n",
       "}}\n",
       "\n",
       "// Listen for the clearing of the current output cell\n",
       "var outputEl = gd.closest('.output');\n",
       "if (outputEl) {{\n",
       "    x.observe(outputEl, {childList: true});\n",
       "}}\n",
       "\n",
       "                        })                };                            </script>        </div>\n",
       "</body>\n",
       "</html>"
      ]
     },
     "metadata": {},
     "output_type": "display_data"
    }
   ],
   "source": [
    "fig = go.Figure(\n",
    "    go.Scatter(x=data['x'], y=data['y'], mode='markers',\n",
    "               hovertemplate=('name: %{customdata}'),\n",
    "               customdata=data['name']\n",
    "    )\n",
    ")\n",
    "fig.show()\n"
   ]
  },
  {
   "cell_type": "markdown",
   "metadata": {
    "id": "MKnh7SvlyyDh"
   },
   "source": [
    "### Figure widget"
   ]
  },
  {
   "cell_type": "code",
   "execution_count": 15,
   "metadata": {
    "colab": {
     "base_uri": "https://localhost:8080/",
     "height": 542
    },
    "id": "72F9CDCLyW-g",
    "outputId": "d4686a24-bbbb-43c3-9f4c-0b542b597957"
   },
   "outputs": [
    {
     "data": {
      "text/html": [
       "<html>\n",
       "<head><meta charset=\"utf-8\" /></head>\n",
       "<body>\n",
       "    <div>            <script src=\"https://cdnjs.cloudflare.com/ajax/libs/mathjax/2.7.5/MathJax.js?config=TeX-AMS-MML_SVG\"></script><script type=\"text/javascript\">if (window.MathJax && window.MathJax.Hub && window.MathJax.Hub.Config) {window.MathJax.Hub.Config({SVG: {font: \"STIX-Web\"}});}</script>                <script type=\"text/javascript\">window.PlotlyConfig = {MathJaxConfig: 'local'};</script>\n",
       "        <script charset=\"utf-8\" src=\"https://cdn.plot.ly/plotly-2.35.2.min.js\"></script>                <div id=\"94718638-f7cf-4e25-bd70-45fd28a520f6\" class=\"plotly-graph-div\" style=\"height:525px; width:100%;\"></div>            <script type=\"text/javascript\">                                    window.PLOTLYENV=window.PLOTLYENV || {};                                    if (document.getElementById(\"94718638-f7cf-4e25-bd70-45fd28a520f6\")) {                    Plotly.newPlot(                        \"94718638-f7cf-4e25-bd70-45fd28a520f6\",                        [{\"customdata\":[\"A\",\"B\",\"C\",\"D\",\"E\",\"F\",\"G\",\"H\",\"I\",\"J\",\"K\",\"L\",\"M\",\"N\",\"O\",\"P\",\"Q\",\"R\",\"S\",\"T\"],\"hovertemplate\":\"name: %{customdata}\",\"mode\":\"markers\",\"x\":[1,2,3,4,5,6,7,8,9,10,11,12,13,14,15,16,17,18,19,20],\"y\":[10,15,13,17,11,13,18,14,12,19,17,15,10,19,18,13,12,17,14,15],\"type\":\"scatter\"}],                        {\"template\":{\"data\":{\"histogram2dcontour\":[{\"type\":\"histogram2dcontour\",\"colorbar\":{\"outlinewidth\":0,\"ticks\":\"\"},\"colorscale\":[[0.0,\"#0d0887\"],[0.1111111111111111,\"#46039f\"],[0.2222222222222222,\"#7201a8\"],[0.3333333333333333,\"#9c179e\"],[0.4444444444444444,\"#bd3786\"],[0.5555555555555556,\"#d8576b\"],[0.6666666666666666,\"#ed7953\"],[0.7777777777777778,\"#fb9f3a\"],[0.8888888888888888,\"#fdca26\"],[1.0,\"#f0f921\"]]}],\"choropleth\":[{\"type\":\"choropleth\",\"colorbar\":{\"outlinewidth\":0,\"ticks\":\"\"}}],\"histogram2d\":[{\"type\":\"histogram2d\",\"colorbar\":{\"outlinewidth\":0,\"ticks\":\"\"},\"colorscale\":[[0.0,\"#0d0887\"],[0.1111111111111111,\"#46039f\"],[0.2222222222222222,\"#7201a8\"],[0.3333333333333333,\"#9c179e\"],[0.4444444444444444,\"#bd3786\"],[0.5555555555555556,\"#d8576b\"],[0.6666666666666666,\"#ed7953\"],[0.7777777777777778,\"#fb9f3a\"],[0.8888888888888888,\"#fdca26\"],[1.0,\"#f0f921\"]]}],\"heatmap\":[{\"type\":\"heatmap\",\"colorbar\":{\"outlinewidth\":0,\"ticks\":\"\"},\"colorscale\":[[0.0,\"#0d0887\"],[0.1111111111111111,\"#46039f\"],[0.2222222222222222,\"#7201a8\"],[0.3333333333333333,\"#9c179e\"],[0.4444444444444444,\"#bd3786\"],[0.5555555555555556,\"#d8576b\"],[0.6666666666666666,\"#ed7953\"],[0.7777777777777778,\"#fb9f3a\"],[0.8888888888888888,\"#fdca26\"],[1.0,\"#f0f921\"]]}],\"heatmapgl\":[{\"type\":\"heatmapgl\",\"colorbar\":{\"outlinewidth\":0,\"ticks\":\"\"},\"colorscale\":[[0.0,\"#0d0887\"],[0.1111111111111111,\"#46039f\"],[0.2222222222222222,\"#7201a8\"],[0.3333333333333333,\"#9c179e\"],[0.4444444444444444,\"#bd3786\"],[0.5555555555555556,\"#d8576b\"],[0.6666666666666666,\"#ed7953\"],[0.7777777777777778,\"#fb9f3a\"],[0.8888888888888888,\"#fdca26\"],[1.0,\"#f0f921\"]]}],\"contourcarpet\":[{\"type\":\"contourcarpet\",\"colorbar\":{\"outlinewidth\":0,\"ticks\":\"\"}}],\"contour\":[{\"type\":\"contour\",\"colorbar\":{\"outlinewidth\":0,\"ticks\":\"\"},\"colorscale\":[[0.0,\"#0d0887\"],[0.1111111111111111,\"#46039f\"],[0.2222222222222222,\"#7201a8\"],[0.3333333333333333,\"#9c179e\"],[0.4444444444444444,\"#bd3786\"],[0.5555555555555556,\"#d8576b\"],[0.6666666666666666,\"#ed7953\"],[0.7777777777777778,\"#fb9f3a\"],[0.8888888888888888,\"#fdca26\"],[1.0,\"#f0f921\"]]}],\"surface\":[{\"type\":\"surface\",\"colorbar\":{\"outlinewidth\":0,\"ticks\":\"\"},\"colorscale\":[[0.0,\"#0d0887\"],[0.1111111111111111,\"#46039f\"],[0.2222222222222222,\"#7201a8\"],[0.3333333333333333,\"#9c179e\"],[0.4444444444444444,\"#bd3786\"],[0.5555555555555556,\"#d8576b\"],[0.6666666666666666,\"#ed7953\"],[0.7777777777777778,\"#fb9f3a\"],[0.8888888888888888,\"#fdca26\"],[1.0,\"#f0f921\"]]}],\"mesh3d\":[{\"type\":\"mesh3d\",\"colorbar\":{\"outlinewidth\":0,\"ticks\":\"\"}}],\"scatter\":[{\"fillpattern\":{\"fillmode\":\"overlay\",\"size\":10,\"solidity\":0.2},\"type\":\"scatter\"}],\"parcoords\":[{\"type\":\"parcoords\",\"line\":{\"colorbar\":{\"outlinewidth\":0,\"ticks\":\"\"}}}],\"scatterpolargl\":[{\"type\":\"scatterpolargl\",\"marker\":{\"colorbar\":{\"outlinewidth\":0,\"ticks\":\"\"}}}],\"bar\":[{\"error_x\":{\"color\":\"#2a3f5f\"},\"error_y\":{\"color\":\"#2a3f5f\"},\"marker\":{\"line\":{\"color\":\"#E5ECF6\",\"width\":0.5},\"pattern\":{\"fillmode\":\"overlay\",\"size\":10,\"solidity\":0.2}},\"type\":\"bar\"}],\"scattergeo\":[{\"type\":\"scattergeo\",\"marker\":{\"colorbar\":{\"outlinewidth\":0,\"ticks\":\"\"}}}],\"scatterpolar\":[{\"type\":\"scatterpolar\",\"marker\":{\"colorbar\":{\"outlinewidth\":0,\"ticks\":\"\"}}}],\"histogram\":[{\"marker\":{\"pattern\":{\"fillmode\":\"overlay\",\"size\":10,\"solidity\":0.2}},\"type\":\"histogram\"}],\"scattergl\":[{\"type\":\"scattergl\",\"marker\":{\"colorbar\":{\"outlinewidth\":0,\"ticks\":\"\"}}}],\"scatter3d\":[{\"type\":\"scatter3d\",\"line\":{\"colorbar\":{\"outlinewidth\":0,\"ticks\":\"\"}},\"marker\":{\"colorbar\":{\"outlinewidth\":0,\"ticks\":\"\"}}}],\"scattermapbox\":[{\"type\":\"scattermapbox\",\"marker\":{\"colorbar\":{\"outlinewidth\":0,\"ticks\":\"\"}}}],\"scatterternary\":[{\"type\":\"scatterternary\",\"marker\":{\"colorbar\":{\"outlinewidth\":0,\"ticks\":\"\"}}}],\"scattercarpet\":[{\"type\":\"scattercarpet\",\"marker\":{\"colorbar\":{\"outlinewidth\":0,\"ticks\":\"\"}}}],\"carpet\":[{\"aaxis\":{\"endlinecolor\":\"#2a3f5f\",\"gridcolor\":\"white\",\"linecolor\":\"white\",\"minorgridcolor\":\"white\",\"startlinecolor\":\"#2a3f5f\"},\"baxis\":{\"endlinecolor\":\"#2a3f5f\",\"gridcolor\":\"white\",\"linecolor\":\"white\",\"minorgridcolor\":\"white\",\"startlinecolor\":\"#2a3f5f\"},\"type\":\"carpet\"}],\"table\":[{\"cells\":{\"fill\":{\"color\":\"#EBF0F8\"},\"line\":{\"color\":\"white\"}},\"header\":{\"fill\":{\"color\":\"#C8D4E3\"},\"line\":{\"color\":\"white\"}},\"type\":\"table\"}],\"barpolar\":[{\"marker\":{\"line\":{\"color\":\"#E5ECF6\",\"width\":0.5},\"pattern\":{\"fillmode\":\"overlay\",\"size\":10,\"solidity\":0.2}},\"type\":\"barpolar\"}],\"pie\":[{\"automargin\":true,\"type\":\"pie\"}]},\"layout\":{\"autotypenumbers\":\"strict\",\"colorway\":[\"#636efa\",\"#EF553B\",\"#00cc96\",\"#ab63fa\",\"#FFA15A\",\"#19d3f3\",\"#FF6692\",\"#B6E880\",\"#FF97FF\",\"#FECB52\"],\"font\":{\"color\":\"#2a3f5f\"},\"hovermode\":\"closest\",\"hoverlabel\":{\"align\":\"left\"},\"paper_bgcolor\":\"white\",\"plot_bgcolor\":\"#E5ECF6\",\"polar\":{\"bgcolor\":\"#E5ECF6\",\"angularaxis\":{\"gridcolor\":\"white\",\"linecolor\":\"white\",\"ticks\":\"\"},\"radialaxis\":{\"gridcolor\":\"white\",\"linecolor\":\"white\",\"ticks\":\"\"}},\"ternary\":{\"bgcolor\":\"#E5ECF6\",\"aaxis\":{\"gridcolor\":\"white\",\"linecolor\":\"white\",\"ticks\":\"\"},\"baxis\":{\"gridcolor\":\"white\",\"linecolor\":\"white\",\"ticks\":\"\"},\"caxis\":{\"gridcolor\":\"white\",\"linecolor\":\"white\",\"ticks\":\"\"}},\"coloraxis\":{\"colorbar\":{\"outlinewidth\":0,\"ticks\":\"\"}},\"colorscale\":{\"sequential\":[[0.0,\"#0d0887\"],[0.1111111111111111,\"#46039f\"],[0.2222222222222222,\"#7201a8\"],[0.3333333333333333,\"#9c179e\"],[0.4444444444444444,\"#bd3786\"],[0.5555555555555556,\"#d8576b\"],[0.6666666666666666,\"#ed7953\"],[0.7777777777777778,\"#fb9f3a\"],[0.8888888888888888,\"#fdca26\"],[1.0,\"#f0f921\"]],\"sequentialminus\":[[0.0,\"#0d0887\"],[0.1111111111111111,\"#46039f\"],[0.2222222222222222,\"#7201a8\"],[0.3333333333333333,\"#9c179e\"],[0.4444444444444444,\"#bd3786\"],[0.5555555555555556,\"#d8576b\"],[0.6666666666666666,\"#ed7953\"],[0.7777777777777778,\"#fb9f3a\"],[0.8888888888888888,\"#fdca26\"],[1.0,\"#f0f921\"]],\"diverging\":[[0,\"#8e0152\"],[0.1,\"#c51b7d\"],[0.2,\"#de77ae\"],[0.3,\"#f1b6da\"],[0.4,\"#fde0ef\"],[0.5,\"#f7f7f7\"],[0.6,\"#e6f5d0\"],[0.7,\"#b8e186\"],[0.8,\"#7fbc41\"],[0.9,\"#4d9221\"],[1,\"#276419\"]]},\"xaxis\":{\"gridcolor\":\"white\",\"linecolor\":\"white\",\"ticks\":\"\",\"title\":{\"standoff\":15},\"zerolinecolor\":\"white\",\"automargin\":true,\"zerolinewidth\":2},\"yaxis\":{\"gridcolor\":\"white\",\"linecolor\":\"white\",\"ticks\":\"\",\"title\":{\"standoff\":15},\"zerolinecolor\":\"white\",\"automargin\":true,\"zerolinewidth\":2},\"scene\":{\"xaxis\":{\"backgroundcolor\":\"#E5ECF6\",\"gridcolor\":\"white\",\"linecolor\":\"white\",\"showbackground\":true,\"ticks\":\"\",\"zerolinecolor\":\"white\",\"gridwidth\":2},\"yaxis\":{\"backgroundcolor\":\"#E5ECF6\",\"gridcolor\":\"white\",\"linecolor\":\"white\",\"showbackground\":true,\"ticks\":\"\",\"zerolinecolor\":\"white\",\"gridwidth\":2},\"zaxis\":{\"backgroundcolor\":\"#E5ECF6\",\"gridcolor\":\"white\",\"linecolor\":\"white\",\"showbackground\":true,\"ticks\":\"\",\"zerolinecolor\":\"white\",\"gridwidth\":2}},\"shapedefaults\":{\"line\":{\"color\":\"#2a3f5f\"}},\"annotationdefaults\":{\"arrowcolor\":\"#2a3f5f\",\"arrowhead\":0,\"arrowwidth\":1},\"geo\":{\"bgcolor\":\"white\",\"landcolor\":\"#E5ECF6\",\"subunitcolor\":\"white\",\"showland\":true,\"showlakes\":true,\"lakecolor\":\"white\"},\"title\":{\"x\":0.05},\"mapbox\":{\"style\":\"light\"}}}},                        {\"responsive\": true}                    ).then(function(){\n",
       "                            \n",
       "var gd = document.getElementById('94718638-f7cf-4e25-bd70-45fd28a520f6');\n",
       "var x = new MutationObserver(function (mutations, observer) {{\n",
       "        var display = window.getComputedStyle(gd).display;\n",
       "        if (!display || display === 'none') {{\n",
       "            console.log([gd, 'removed!']);\n",
       "            Plotly.purge(gd);\n",
       "            observer.disconnect();\n",
       "        }}\n",
       "}});\n",
       "\n",
       "// Listen for the removal of the full notebook cells\n",
       "var notebookContainer = gd.closest('#notebook-container');\n",
       "if (notebookContainer) {{\n",
       "    x.observe(notebookContainer, {childList: true});\n",
       "}}\n",
       "\n",
       "// Listen for the clearing of the current output cell\n",
       "var outputEl = gd.closest('.output');\n",
       "if (outputEl) {{\n",
       "    x.observe(outputEl, {childList: true});\n",
       "}}\n",
       "\n",
       "                        })                };                            </script>        </div>\n",
       "</body>\n",
       "</html>"
      ]
     },
     "metadata": {},
     "output_type": "display_data"
    }
   ],
   "source": [
    "from google.colab import output\n",
    "output.enable_custom_widget_manager()\n",
    "\n",
    "widget = go.FigureWidget(\n",
    "    data=go.Scatter(x=data['x'], y=data['y'], mode='markers',\n",
    "        hovertemplate=('name: %{customdata}'),\n",
    "        customdata=data['name']\n",
    "    )\n",
    ")\n",
    "\n",
    "display(fig)"
   ]
  },
  {
   "cell_type": "markdown",
   "metadata": {
    "id": "loxUxF-rzmJn"
   },
   "source": [
    "### Figure widget inside ipywidgets container"
   ]
  },
  {
   "cell_type": "code",
   "execution_count": 18,
   "metadata": {
    "colab": {
     "base_uri": "https://localhost:8080/",
     "height": 421,
     "referenced_widgets": [
      "9637486b7404479da1d535467954af84",
      "fe8912c8f6ad45c78de877fd21499d94",
      "7853b42096444139802fdc3d28e57149",
      "a6e483a3dd86415aa2b6ef8b9daf5ef1",
      "2febece783224cd4a29c631ea25a4197",
      "f7b141c79ad1439883cb3f3c930474f5"
     ]
    },
    "id": "naSY0T79zlmd",
    "outputId": "5cbfb5d5-c544-4688-83cc-88330b6a275a"
   },
   "outputs": [
    {
     "data": {
      "application/vnd.jupyter.widget-view+json": {
       "model_id": "9637486b7404479da1d535467954af84",
       "version_major": 2,
       "version_minor": 0
      },
      "text/plain": [
       "HBox(children=(FloatRangeSlider(value=(10.0, 19.0), description='Y Range:', layout=Layout(height='400px'), max…"
      ]
     },
     "metadata": {
      "application/vnd.jupyter.widget-view+json": {
       "colab": {
        "custom_widget_manager": {
         "url": "https://ssl.gstatic.com/colaboratory-static/widgets/colab-cdn-widget-manager/2b70e893a8ba7c0f/manager.min.js"
        }
       }
      }
     },
     "output_type": "display_data"
    }
   ],
   "source": [
    "import ipywidgets as widgets\n",
    "from google.colab import output\n",
    "output.enable_custom_widget_manager()\n",
    "\n",
    "widget = go.FigureWidget(\n",
    "    data=go.Scatter(x=data['x'], y=data['y'], mode='markers',\n",
    "        hovertemplate=('name: %{customdata}'),\n",
    "        customdata=data['name']\n",
    "    )\n",
    ")\n",
    "\n",
    "min_y, max_y = min(data['y']), max(data['y'])\n",
    "slider = widgets.FloatRangeSlider(\n",
    "    value=[min_y, max_y], min=min_y, max=max_y, step=0.01,\n",
    "    description='Y Range:', orientation='vertical', continuous_update=True,\n",
    "    layout=widgets.Layout(height='400px'))\n",
    "\n",
    "container1 = widgets.HBox([slider, widget])\n",
    "\n",
    "def update_plot(change):\n",
    "    widget.update_layout(yaxis=dict(range=slider.value))\n",
    "\n",
    "slider.observe(update_plot, names=\"value\")\n",
    "display(container1)"
   ]
  },
  {
   "cell_type": "markdown",
   "metadata": {
    "id": "UT8d15sD1-Ia"
   },
   "source": [
    "## IDLMAV experiments"
   ]
  },
  {
   "cell_type": "code",
   "execution_count": 19,
   "metadata": {
    "colab": {
     "base_uri": "https://localhost:8080/",
     "height": 421,
     "referenced_widgets": [
      "ef8390b581564524907856d43a57de45",
      "304fb5cd261b44d88797d0d1ba357028",
      "425037c22dba4b189f50911c4c48dd32",
      "b296c45e7468428ebcc1af3b31a28a0b",
      "7fa115802aa744ceb3738b26499a865c",
      "2d2777c8ba104b43b89de89d829cdb39",
      "1e8eb4f606644e3d8ccefdaeaaa27662",
      "4c476ed548844fcd84752aa92158c9da",
      "06c20bd5489d4f5293bbf14f37a2f700",
      "683ffe98231247e08c1f9201c710e50e"
     ]
    },
    "id": "l3e-HL6I2NLP",
    "outputId": "5879763f-ad04-496c-84b3-32341f5ada06"
   },
   "outputs": [
    {
     "data": {
      "application/vnd.jupyter.widget-view+json": {
       "model_id": "ef8390b581564524907856d43a57de45",
       "version_major": 2,
       "version_minor": 0
      },
      "text/plain": [
       "HBox(children=(Box(children=(FloatRangeSlider(value=(-9.5, 0.5), layout=Layout(height='400px'), max=0.5, min=-…"
      ]
     },
     "metadata": {
      "application/vnd.jupyter.widget-view+json": {
       "colab": {
        "custom_widget_manager": {
         "url": "https://ssl.gstatic.com/colaboratory-static/widgets/colab-cdn-widget-manager/2b70e893a8ba7c0f/manager.min.js"
        }
       }
      }
     },
     "output_type": "display_data"
    }
   ],
   "source": [
    "import torch, torchvision\n",
    "from idlmav import MAV, plotly_renderer_context\n",
    "from IPython.display import display\n",
    "device = 'cpu'\n",
    "model = torchvision.models.resnet18().to(device)\n",
    "x = torch.randn(16,3,160,160).to(device)\n",
    "mav = MAV(model, x, device=device)\n",
    "container2 = mav.draw_interactive_graph(add_slider=True, add_overview=False, add_table=False)\n",
    "display(container2)"
   ]
  },
  {
   "cell_type": "code",
   "execution_count": 20,
   "metadata": {
    "colab": {
     "base_uri": "https://localhost:8080/",
     "height": 421,
     "referenced_widgets": [
      "4f2f04a2a5854199b6bd78330ab36fd4",
      "810fb69bdc6849b8aeb370c82018656a",
      "908af09caeb54d06a0dad44ee0e4d5d8",
      "abfc23602d944654995a9cb97d3cd397",
      "1ff3356caee44c4fa6170748c114c4ff",
      "e8cc96c776b948f2abf1e186a6163861",
      "4d499b0645a140b6a329c2e26b47e74a",
      "1010733180b1481d99669d6aa393f51c",
      "1b3c71fda5ff4f44904d5791f3e820c3",
      "a45508f067c443fb9398766afac00da5"
     ]
    },
    "id": "jIZ6PGj92u2v",
    "outputId": "aecd9a7e-c9f1-4059-d349-70b8400de4fd"
   },
   "outputs": [
    {
     "data": {
      "application/vnd.jupyter.widget-view+json": {
       "model_id": "4f2f04a2a5854199b6bd78330ab36fd4",
       "version_major": 2,
       "version_minor": 0
      },
      "text/plain": [
       "HBox(children=(Box(children=(FloatRangeSlider(value=(-9.5, 0.5), layout=Layout(height='400px'), max=0.5, min=-…"
      ]
     },
     "metadata": {
      "application/vnd.jupyter.widget-view+json": {
       "colab": {
        "custom_widget_manager": {
         "url": "https://ssl.gstatic.com/colaboratory-static/widgets/colab-cdn-widget-manager/2b70e893a8ba7c0f/manager.min.js"
        }
       }
      }
     },
     "output_type": "display_data"
    }
   ],
   "source": [
    "from idlmav import InteractiveViewer\n",
    "v = InteractiveViewer(mav.tracer.g)\n",
    "v.draw(add_slider=True, add_overview=False, add_table=False)"
   ]
  },
  {
   "cell_type": "code",
   "execution_count": 38,
   "metadata": {
    "colab": {
     "base_uri": "https://localhost:8080/",
     "height": 421,
     "referenced_widgets": [
      "a15420639b454e1cb936437aec3c0f74",
      "67a1e4cb092542e3852c77505fc9d624",
      "32f57dea686b405ca62315d6a8be963d",
      "72de6f560c334fadada1078a903740ab",
      "ceda85c993944718b6efd19026dd167c",
      "f3790247b0164f5d8752cac46cd86e53",
      "189cb3d58df741928ffb5386d42cda30",
      "6e7156e85be043d1b9c2090a69b23f0f",
      "7ce4345b0c664fafa7b95804bd95fbad",
      "582de278d1f541e3ad237b34ac3169cd"
     ]
    },
    "id": "N1QGwD4h4_oD",
    "outputId": "6dd7c1ad-343b-44f4-be17-4675d4bb7b86"
   },
   "outputs": [
    {
     "data": {
      "application/vnd.jupyter.widget-view+json": {
       "model_id": "a15420639b454e1cb936437aec3c0f74",
       "version_major": 2,
       "version_minor": 0
      },
      "text/plain": [
       "HBox(children=(Box(children=(FloatRangeSlider(value=(-19.5, 0.5), layout=Layout(height='400px'), max=0.5, min=…"
      ]
     },
     "metadata": {
      "application/vnd.jupyter.widget-view+json": {
       "colab": {
        "custom_widget_manager": {
         "url": "https://ssl.gstatic.com/colaboratory-static/widgets/colab-cdn-widget-manager/2b70e893a8ba7c0f/manager.min.js"
        }
       }
      }
     },
     "output_type": "display_data"
    }
   ],
   "source": [
    "# Setup parameters\n",
    "num_levels_displayed = 20\n",
    "height_px = 400\n",
    "g = v.g\n",
    "initial_y_range = v.fit_range([v.in_level+num_levels_displayed-0.5, v.in_level-0.5], v.full_y_range)\n",
    "initial_x_range = v.full_x_range\n",
    "\n",
    "# Create the main panel\n",
    "main_panel_layout = widgets.Layout(flex = '0 1 auto', margin='0px', padding='0px', overflow='hidden')\n",
    "main_fig_layout = go.Layout(\n",
    "    width=max((v.graph_num_cols*100, 180)), height=height_px,\n",
    "    plot_bgcolor='#e5ecf6',\n",
    "    autosize=True,\n",
    "    xaxis=dict(range=initial_x_range, showgrid=False, zeroline=False, visible=False),\n",
    "    yaxis=dict(range=initial_y_range, showgrid=False, zeroline=False, visible=False),\n",
    "    margin=dict(l=0, r=2, t=1, b=1),\n",
    "    showlegend=False,\n",
    "    title=dict(text=None)\n",
    ")\n",
    "v.main_fig = go.FigureWidget(layout=main_fig_layout)\n",
    "v.main_panel = widgets.Box(children=[v.main_fig], layout=main_panel_layout)\n",
    "panels = [v.main_panel]\n",
    "\n",
    "# Add connections lines between the nodes\n",
    "line_traces = []\n",
    "for ci,c in enumerate(g.connections):\n",
    "    if ci>20: break\n",
    "    x_coords, y_coords = v.get_connection_coords(c)\n",
    "    line_trace = go.Scatter(\n",
    "        x=x_coords, y=y_coords, mode=\"lines\",\n",
    "        line=dict(color=\"gray\", width=1),\n",
    "        showlegend=False\n",
    "    )\n",
    "    v.main_fig.add_trace(line_trace)\n",
    "    line_traces.append(line_trace)\n",
    "\n",
    "# Add the node markers\n",
    "node_trace = go.Scatter(\n",
    "    x=[n.x for n in g.nodes],\n",
    "    y=[n.y for n in g.nodes],\n",
    "    mode='markers',\n",
    "    marker=dict(\n",
    "        size=[v.params_to_dot_size(n.params) for n in g.nodes],\n",
    "        color=[v.get_node_color(n) for n in g.nodes],\n",
    "        colorscale='Bluered'\n",
    "    ),\n",
    "    hovertemplate=(\n",
    "        'Name: %{customdata[0]}<br>' +\n",
    "        'Operation: %{customdata[1]}<br>' +\n",
    "        'Activations: %{customdata[2]}<br>' +\n",
    "        'Parameters: %{customdata[3]}<br>' +\n",
    "        'FLOPS: %{customdata[4]}<br>' +\n",
    "        '<extra></extra>'\n",
    "    ),\n",
    "    customdata=[v.node_data(n) for n in g.nodes],\n",
    "    showlegend=False\n",
    ")\n",
    "v.main_fig.add_trace(node_trace)\n",
    "node_trace_idx = len(v.main_fig.data)-1\n",
    "\n",
    "# Add slider\n",
    "# * Use negative values everywhere, because ipywidgets does not support\n",
    "#   inverting the direction of vertical sliders\n",
    "slider_panel_layout = widgets.Layout(flex = '0 0 auto', margin='0px', padding='0px', overflow='visible')\n",
    "v.slider_widget = widgets.FloatRangeSlider(\n",
    "    value=[-initial_y_range[0], -initial_y_range[1]], min=-v.full_y_range[0], max=-v.full_y_range[1],\n",
    "    step=0.01, description='', orientation='vertical', continuous_update=True,\n",
    "    layout=widgets.Layout(height=f'{height_px}px')\n",
    ")\n",
    "v.slider_widget.readout = False  # For some reason it does not seem to work if set during construction\n",
    "v.slider_panel = widgets.Box(children=[v.slider_widget], layout=slider_panel_layout)\n",
    "panels.insert(0, v.slider_panel)\n",
    "\n",
    "# Create container for all panels\n",
    "# * To be displayed in Notebook using `display`\n",
    "container_layout = widgets.Layout(\n",
    "    width='100%',\n",
    "    margin='0px', padding='0px')\n",
    "container = widgets.HBox(panels, layout=container_layout)\n",
    "\n",
    "# Set up event handlers\n",
    "v.main_fig.data[node_trace_idx].on_click(v.on_main_panel_click)\n",
    "v.main_fig.layout.on_change(v.on_main_panel_pan_zoom, 'xaxis.range', 'yaxis.range')\n",
    "v.slider_widget.observe(v.on_slider_value_change, names=\"value\")\n",
    "\n",
    "# Restrict actions on plots\n",
    "# v.main_fig.update_layout(config=dict(displayModeBar=False))\n",
    "# [ \"autoScale2d\", \"autoscale\", \"editInChartStudio\", \"editinchartstudio\", \"hoverCompareCartesian\", \"hovercompare\", \"lasso\", \"lasso2d\", \"orbitRotation\", \"orbitrotation\", \"pan\", \"pan2d\", \"pan3d\", \"reset\", \"resetCameraDefault3d\", \"resetCameraLastSave3d\", \"resetGeo\", \"resetSankeyGroup\", \"resetScale2d\", \"resetViewMap\", \"resetViewMapbox\", \"resetViews\", \"resetcameradefault\", \"resetcameralastsave\", \"resetsankeygroup\", \"resetscale\", \"resetview\", \"resetviews\", \"select\", \"select2d\", \"sendDataToCloud\", \"senddatatocloud\", \"tableRotation\", \"tablerotation\", \"toImage\", \"toggleHover\", \"toggleSpikelines\", \"togglehover\", \"togglespikelines\", \"toimage\", \"zoom\", \"zoom2d\", \"zoom3d\", \"zoomIn2d\", \"zoomInGeo\", \"zoomInMap\", \"zoomInMapbox\", \"zoomOut2d\", \"zoomOutGeo\", \"zoomOutMap\", \"zoomOutMapbox\", \"zoomin\", \"zoomout\"]\n",
    "v.main_fig.update_layout(modebar_remove=[\"toimage\", \"resetscale\", \"select\", \"lasso\", \"reset\"])\n",
    "v.main_fig.layout.dragmode = 'zoom'\n",
    "if v.overview_fig:\n",
    "    v.overview_fig.update_layout(modebar_remove=[\"toimage\", \"autoscale\", \"select\", \"lasso\", \"pan\", \"reset\", \"resetscale\", \"zoom\", \"zoomin\", \"zoomout\"])\n",
    "    v.overview_fig.layout.dragmode = False\n",
    "\n",
    "display(container)"
   ]
  }
 ],
 "metadata": {
  "colab": {
   "include_colab_link": true,
   "provenance": [],
   "toc_visible": true
  },
  "kernelspec": {
   "display_name": ".venv",
   "language": "python",
   "name": "python3"
  },
  "language_info": {
   "name": "python",
   "version": "3.10.12"
  },
  "widgets": {
   "application/vnd.jupyter.widget-state+json": {
    "06c20bd5489d4f5293bbf14f37a2f700": {
     "model_module": "@jupyter-widgets/base",
     "model_module_version": "1.2.0",
     "model_name": "LayoutModel",
     "state": {
      "_model_module": "@jupyter-widgets/base",
      "_model_module_version": "1.2.0",
      "_model_name": "LayoutModel",
      "_view_count": null,
      "_view_module": "@jupyter-widgets/base",
      "_view_module_version": "1.2.0",
      "_view_name": "LayoutView",
      "align_content": null,
      "align_items": null,
      "align_self": null,
      "border": null,
      "bottom": null,
      "display": null,
      "flex": null,
      "flex_flow": null,
      "grid_area": null,
      "grid_auto_columns": null,
      "grid_auto_flow": null,
      "grid_auto_rows": null,
      "grid_column": null,
      "grid_gap": null,
      "grid_row": null,
      "grid_template_areas": null,
      "grid_template_columns": null,
      "grid_template_rows": null,
      "height": "400px",
      "justify_content": null,
      "justify_items": null,
      "left": null,
      "margin": null,
      "max_height": null,
      "max_width": null,
      "min_height": null,
      "min_width": null,
      "object_fit": null,
      "object_position": null,
      "order": null,
      "overflow": null,
      "overflow_x": null,
      "overflow_y": null,
      "padding": null,
      "right": null,
      "top": null,
      "visibility": null,
      "width": null
     }
    },
    "1010733180b1481d99669d6aa393f51c": {
     "model_module": "@jupyter-widgets/base",
     "model_module_version": "1.2.0",
     "model_name": "LayoutModel",
     "state": {
      "_model_module": "@jupyter-widgets/base",
      "_model_module_version": "1.2.0",
      "_model_name": "LayoutModel",
      "_view_count": null,
      "_view_module": "@jupyter-widgets/base",
      "_view_module_version": "1.2.0",
      "_view_name": "LayoutView",
      "align_content": null,
      "align_items": null,
      "align_self": null,
      "border": null,
      "bottom": null,
      "display": null,
      "flex": "0 1 auto",
      "flex_flow": null,
      "grid_area": null,
      "grid_auto_columns": null,
      "grid_auto_flow": null,
      "grid_auto_rows": null,
      "grid_column": null,
      "grid_gap": null,
      "grid_row": null,
      "grid_template_areas": null,
      "grid_template_columns": null,
      "grid_template_rows": null,
      "height": null,
      "justify_content": null,
      "justify_items": null,
      "left": null,
      "margin": "0px",
      "max_height": null,
      "max_width": null,
      "min_height": null,
      "min_width": null,
      "object_fit": null,
      "object_position": null,
      "order": null,
      "overflow": "hidden",
      "overflow_x": null,
      "overflow_y": null,
      "padding": "0px",
      "right": null,
      "top": null,
      "visibility": null,
      "width": null
     }
    },
    "189cb3d58df741928ffb5386d42cda30": {
     "model_module": "jupyterlab-plotly",
     "model_module_version": "^5.24.1",
     "model_name": "FigureModel",
     "state": {
      "_config": {
       "plotlyServerURL": "https://plot.ly"
      },
      "_data": [],
      "_dom_classes": [],
      "_js2py_layoutDelta": null,
      "_js2py_pointsCallback": null,
      "_js2py_relayout": {},
      "_js2py_restyle": {},
      "_js2py_traceDeltas": null,
      "_js2py_update": {},
      "_last_layout_edit_id": 26,
      "_last_trace_edit_id": 25,
      "_layout": {
       "autosize": true,
       "height": 400,
       "margin": {
        "b": 1,
        "l": 0,
        "r": 2,
        "t": 1
       },
       "plot_bgcolor": "#e5ecf6",
       "showlegend": false,
       "width": 200,
       "xaxis": {
        "range": [
         -0.5,
         1.5
        ],
        "showgrid": false,
        "visible": false,
        "zeroline": false
       },
       "yaxis": {
        "range": [
         19.5,
         -0.5
        ],
        "showgrid": false,
        "visible": false,
        "zeroline": false
       }
      },
      "_model_module": "jupyterlab-plotly",
      "_model_module_version": "^5.24.1",
      "_model_name": "FigureModel",
      "_py2js_addTraces": null,
      "_py2js_animate": {},
      "_py2js_deleteTraces": {},
      "_py2js_moveTraces": {},
      "_py2js_relayout": null,
      "_py2js_removeLayoutProps": {},
      "_py2js_removeTraceProps": {},
      "_py2js_restyle": {},
      "_py2js_update": null,
      "_view_count": 1,
      "_view_module": "jupyterlab-plotly",
      "_view_module_version": "^5.24.1",
      "_view_name": "FigureView"
     }
    },
    "1b3c71fda5ff4f44904d5791f3e820c3": {
     "model_module": "@jupyter-widgets/base",
     "model_module_version": "1.2.0",
     "model_name": "LayoutModel",
     "state": {
      "_model_module": "@jupyter-widgets/base",
      "_model_module_version": "1.2.0",
      "_model_name": "LayoutModel",
      "_view_count": null,
      "_view_module": "@jupyter-widgets/base",
      "_view_module_version": "1.2.0",
      "_view_name": "LayoutView",
      "align_content": null,
      "align_items": null,
      "align_self": null,
      "border": null,
      "bottom": null,
      "display": null,
      "flex": null,
      "flex_flow": null,
      "grid_area": null,
      "grid_auto_columns": null,
      "grid_auto_flow": null,
      "grid_auto_rows": null,
      "grid_column": null,
      "grid_gap": null,
      "grid_row": null,
      "grid_template_areas": null,
      "grid_template_columns": null,
      "grid_template_rows": null,
      "height": "400px",
      "justify_content": null,
      "justify_items": null,
      "left": null,
      "margin": null,
      "max_height": null,
      "max_width": null,
      "min_height": null,
      "min_width": null,
      "object_fit": null,
      "object_position": null,
      "order": null,
      "overflow": null,
      "overflow_x": null,
      "overflow_y": null,
      "padding": null,
      "right": null,
      "top": null,
      "visibility": null,
      "width": null
     }
    },
    "1e8eb4f606644e3d8ccefdaeaaa27662": {
     "model_module": "jupyterlab-plotly",
     "model_module_version": "^5.24.1",
     "model_name": "FigureModel",
     "state": {
      "_config": {
       "plotlyServerURL": "https://plot.ly"
      },
      "_data": [],
      "_dom_classes": [],
      "_js2py_layoutDelta": null,
      "_js2py_pointsCallback": {},
      "_js2py_relayout": {},
      "_js2py_restyle": {},
      "_js2py_traceDeltas": null,
      "_js2py_update": {},
      "_last_layout_edit_id": 83,
      "_last_trace_edit_id": 82,
      "_layout": {
       "autosize": true,
       "height": 400,
       "margin": {
        "b": 1,
        "l": 0,
        "r": 2,
        "t": 1
       },
       "plot_bgcolor": "#e5ecf6",
       "showlegend": false,
       "width": 200,
       "xaxis": {
        "range": [
         -0.5,
         1.5
        ],
        "showgrid": false,
        "visible": false,
        "zeroline": false
       },
       "yaxis": {
        "range": [
         9.5,
         -0.5
        ],
        "showgrid": false,
        "visible": false,
        "zeroline": false
       }
      },
      "_model_module": "jupyterlab-plotly",
      "_model_module_version": "^5.24.1",
      "_model_name": "FigureModel",
      "_py2js_addTraces": null,
      "_py2js_animate": {},
      "_py2js_deleteTraces": {},
      "_py2js_moveTraces": {},
      "_py2js_relayout": null,
      "_py2js_removeLayoutProps": null,
      "_py2js_removeTraceProps": {},
      "_py2js_restyle": {},
      "_py2js_update": null,
      "_view_count": 1,
      "_view_module": "jupyterlab-plotly",
      "_view_module_version": "^5.24.1",
      "_view_name": "FigureView"
     }
    },
    "1ff3356caee44c4fa6170748c114c4ff": {
     "model_module": "@jupyter-widgets/controls",
     "model_module_version": "1.5.0",
     "model_name": "FloatRangeSliderModel",
     "state": {
      "_dom_classes": [],
      "_model_module": "@jupyter-widgets/controls",
      "_model_module_version": "1.5.0",
      "_model_name": "FloatRangeSliderModel",
      "_view_count": null,
      "_view_module": "@jupyter-widgets/controls",
      "_view_module_version": "1.5.0",
      "_view_name": "FloatRangeSliderView",
      "continuous_update": true,
      "description": "",
      "description_tooltip": null,
      "disabled": false,
      "layout": "IPY_MODEL_1b3c71fda5ff4f44904d5791f3e820c3",
      "max": 0.5,
      "min": -27.5,
      "orientation": "vertical",
      "readout": false,
      "readout_format": ".2f",
      "step": 0.01,
      "style": "IPY_MODEL_a45508f067c443fb9398766afac00da5",
      "value": [
       -9.500000000000004,
       0.5
      ]
     }
    },
    "2d2777c8ba104b43b89de89d829cdb39": {
     "model_module": "@jupyter-widgets/base",
     "model_module_version": "1.2.0",
     "model_name": "LayoutModel",
     "state": {
      "_model_module": "@jupyter-widgets/base",
      "_model_module_version": "1.2.0",
      "_model_name": "LayoutModel",
      "_view_count": null,
      "_view_module": "@jupyter-widgets/base",
      "_view_module_version": "1.2.0",
      "_view_name": "LayoutView",
      "align_content": null,
      "align_items": null,
      "align_self": null,
      "border": null,
      "bottom": null,
      "display": null,
      "flex": "0 0 auto",
      "flex_flow": null,
      "grid_area": null,
      "grid_auto_columns": null,
      "grid_auto_flow": null,
      "grid_auto_rows": null,
      "grid_column": null,
      "grid_gap": null,
      "grid_row": null,
      "grid_template_areas": null,
      "grid_template_columns": null,
      "grid_template_rows": null,
      "height": null,
      "justify_content": null,
      "justify_items": null,
      "left": null,
      "margin": "0px",
      "max_height": null,
      "max_width": null,
      "min_height": null,
      "min_width": null,
      "object_fit": null,
      "object_position": null,
      "order": null,
      "overflow": "visible",
      "overflow_x": null,
      "overflow_y": null,
      "padding": "0px",
      "right": null,
      "top": null,
      "visibility": null,
      "width": null
     }
    },
    "2febece783224cd4a29c631ea25a4197": {
     "model_module": "@jupyter-widgets/base",
     "model_module_version": "1.2.0",
     "model_name": "LayoutModel",
     "state": {
      "_model_module": "@jupyter-widgets/base",
      "_model_module_version": "1.2.0",
      "_model_name": "LayoutModel",
      "_view_count": null,
      "_view_module": "@jupyter-widgets/base",
      "_view_module_version": "1.2.0",
      "_view_name": "LayoutView",
      "align_content": null,
      "align_items": null,
      "align_self": null,
      "border": null,
      "bottom": null,
      "display": null,
      "flex": null,
      "flex_flow": null,
      "grid_area": null,
      "grid_auto_columns": null,
      "grid_auto_flow": null,
      "grid_auto_rows": null,
      "grid_column": null,
      "grid_gap": null,
      "grid_row": null,
      "grid_template_areas": null,
      "grid_template_columns": null,
      "grid_template_rows": null,
      "height": "400px",
      "justify_content": null,
      "justify_items": null,
      "left": null,
      "margin": null,
      "max_height": null,
      "max_width": null,
      "min_height": null,
      "min_width": null,
      "object_fit": null,
      "object_position": null,
      "order": null,
      "overflow": null,
      "overflow_x": null,
      "overflow_y": null,
      "padding": null,
      "right": null,
      "top": null,
      "visibility": null,
      "width": null
     }
    },
    "304fb5cd261b44d88797d0d1ba357028": {
     "model_module": "@jupyter-widgets/controls",
     "model_module_version": "1.5.0",
     "model_name": "BoxModel",
     "state": {
      "_dom_classes": [],
      "_model_module": "@jupyter-widgets/controls",
      "_model_module_version": "1.5.0",
      "_model_name": "BoxModel",
      "_view_count": null,
      "_view_module": "@jupyter-widgets/controls",
      "_view_module_version": "1.5.0",
      "_view_name": "BoxView",
      "box_style": "",
      "children": [
       "IPY_MODEL_7fa115802aa744ceb3738b26499a865c"
      ],
      "layout": "IPY_MODEL_2d2777c8ba104b43b89de89d829cdb39"
     }
    },
    "32f57dea686b405ca62315d6a8be963d": {
     "model_module": "@jupyter-widgets/controls",
     "model_module_version": "1.5.0",
     "model_name": "BoxModel",
     "state": {
      "_dom_classes": [],
      "_model_module": "@jupyter-widgets/controls",
      "_model_module_version": "1.5.0",
      "_model_name": "BoxModel",
      "_view_count": null,
      "_view_module": "@jupyter-widgets/controls",
      "_view_module_version": "1.5.0",
      "_view_name": "BoxView",
      "box_style": "",
      "children": [
       "IPY_MODEL_189cb3d58df741928ffb5386d42cda30"
      ],
      "layout": "IPY_MODEL_6e7156e85be043d1b9c2090a69b23f0f"
     }
    },
    "425037c22dba4b189f50911c4c48dd32": {
     "model_module": "@jupyter-widgets/controls",
     "model_module_version": "1.5.0",
     "model_name": "BoxModel",
     "state": {
      "_dom_classes": [],
      "_model_module": "@jupyter-widgets/controls",
      "_model_module_version": "1.5.0",
      "_model_name": "BoxModel",
      "_view_count": null,
      "_view_module": "@jupyter-widgets/controls",
      "_view_module_version": "1.5.0",
      "_view_name": "BoxView",
      "box_style": "",
      "children": [
       "IPY_MODEL_1e8eb4f606644e3d8ccefdaeaaa27662"
      ],
      "layout": "IPY_MODEL_4c476ed548844fcd84752aa92158c9da"
     }
    },
    "4c476ed548844fcd84752aa92158c9da": {
     "model_module": "@jupyter-widgets/base",
     "model_module_version": "1.2.0",
     "model_name": "LayoutModel",
     "state": {
      "_model_module": "@jupyter-widgets/base",
      "_model_module_version": "1.2.0",
      "_model_name": "LayoutModel",
      "_view_count": null,
      "_view_module": "@jupyter-widgets/base",
      "_view_module_version": "1.2.0",
      "_view_name": "LayoutView",
      "align_content": null,
      "align_items": null,
      "align_self": null,
      "border": null,
      "bottom": null,
      "display": null,
      "flex": "0 1 auto",
      "flex_flow": null,
      "grid_area": null,
      "grid_auto_columns": null,
      "grid_auto_flow": null,
      "grid_auto_rows": null,
      "grid_column": null,
      "grid_gap": null,
      "grid_row": null,
      "grid_template_areas": null,
      "grid_template_columns": null,
      "grid_template_rows": null,
      "height": null,
      "justify_content": null,
      "justify_items": null,
      "left": null,
      "margin": "0px",
      "max_height": null,
      "max_width": null,
      "min_height": null,
      "min_width": null,
      "object_fit": null,
      "object_position": null,
      "order": null,
      "overflow": "hidden",
      "overflow_x": null,
      "overflow_y": null,
      "padding": "0px",
      "right": null,
      "top": null,
      "visibility": null,
      "width": null
     }
    },
    "4d499b0645a140b6a329c2e26b47e74a": {
     "model_module": "jupyterlab-plotly",
     "model_module_version": "^5.24.1",
     "model_name": "FigureModel",
     "state": {
      "_config": {
       "plotlyServerURL": "https://plot.ly"
      },
      "_data": [],
      "_dom_classes": [],
      "_js2py_layoutDelta": null,
      "_js2py_pointsCallback": {},
      "_js2py_relayout": {},
      "_js2py_restyle": {},
      "_js2py_traceDeltas": null,
      "_js2py_update": {},
      "_last_layout_edit_id": 83,
      "_last_trace_edit_id": 82,
      "_layout": {
       "autosize": true,
       "height": 400,
       "margin": {
        "b": 1,
        "l": 0,
        "r": 2,
        "t": 1
       },
       "plot_bgcolor": "#e5ecf6",
       "showlegend": false,
       "width": 200,
       "xaxis": {
        "range": [
         -0.5,
         1.5
        ],
        "showgrid": false,
        "visible": false,
        "zeroline": false
       },
       "yaxis": {
        "range": [
         9.5,
         -0.5
        ],
        "showgrid": false,
        "visible": false,
        "zeroline": false
       }
      },
      "_model_module": "jupyterlab-plotly",
      "_model_module_version": "^5.24.1",
      "_model_name": "FigureModel",
      "_py2js_addTraces": null,
      "_py2js_animate": {},
      "_py2js_deleteTraces": {},
      "_py2js_moveTraces": {},
      "_py2js_relayout": null,
      "_py2js_removeLayoutProps": null,
      "_py2js_removeTraceProps": {},
      "_py2js_restyle": {},
      "_py2js_update": null,
      "_view_count": 1,
      "_view_module": "jupyterlab-plotly",
      "_view_module_version": "^5.24.1",
      "_view_name": "FigureView"
     }
    },
    "4f2f04a2a5854199b6bd78330ab36fd4": {
     "model_module": "@jupyter-widgets/controls",
     "model_module_version": "1.5.0",
     "model_name": "HBoxModel",
     "state": {
      "_dom_classes": [],
      "_model_module": "@jupyter-widgets/controls",
      "_model_module_version": "1.5.0",
      "_model_name": "HBoxModel",
      "_view_count": null,
      "_view_module": "@jupyter-widgets/controls",
      "_view_module_version": "1.5.0",
      "_view_name": "HBoxView",
      "box_style": "",
      "children": [
       "IPY_MODEL_810fb69bdc6849b8aeb370c82018656a",
       "IPY_MODEL_908af09caeb54d06a0dad44ee0e4d5d8"
      ],
      "layout": "IPY_MODEL_abfc23602d944654995a9cb97d3cd397"
     }
    },
    "582de278d1f541e3ad237b34ac3169cd": {
     "model_module": "@jupyter-widgets/controls",
     "model_module_version": "1.5.0",
     "model_name": "SliderStyleModel",
     "state": {
      "_model_module": "@jupyter-widgets/controls",
      "_model_module_version": "1.5.0",
      "_model_name": "SliderStyleModel",
      "_view_count": null,
      "_view_module": "@jupyter-widgets/base",
      "_view_module_version": "1.2.0",
      "_view_name": "StyleView",
      "description_width": "",
      "handle_color": null
     }
    },
    "67a1e4cb092542e3852c77505fc9d624": {
     "model_module": "@jupyter-widgets/controls",
     "model_module_version": "1.5.0",
     "model_name": "BoxModel",
     "state": {
      "_dom_classes": [],
      "_model_module": "@jupyter-widgets/controls",
      "_model_module_version": "1.5.0",
      "_model_name": "BoxModel",
      "_view_count": null,
      "_view_module": "@jupyter-widgets/controls",
      "_view_module_version": "1.5.0",
      "_view_name": "BoxView",
      "box_style": "",
      "children": [
       "IPY_MODEL_ceda85c993944718b6efd19026dd167c"
      ],
      "layout": "IPY_MODEL_f3790247b0164f5d8752cac46cd86e53"
     }
    },
    "683ffe98231247e08c1f9201c710e50e": {
     "model_module": "@jupyter-widgets/controls",
     "model_module_version": "1.5.0",
     "model_name": "SliderStyleModel",
     "state": {
      "_model_module": "@jupyter-widgets/controls",
      "_model_module_version": "1.5.0",
      "_model_name": "SliderStyleModel",
      "_view_count": null,
      "_view_module": "@jupyter-widgets/base",
      "_view_module_version": "1.2.0",
      "_view_name": "StyleView",
      "description_width": "",
      "handle_color": null
     }
    },
    "6e7156e85be043d1b9c2090a69b23f0f": {
     "model_module": "@jupyter-widgets/base",
     "model_module_version": "1.2.0",
     "model_name": "LayoutModel",
     "state": {
      "_model_module": "@jupyter-widgets/base",
      "_model_module_version": "1.2.0",
      "_model_name": "LayoutModel",
      "_view_count": null,
      "_view_module": "@jupyter-widgets/base",
      "_view_module_version": "1.2.0",
      "_view_name": "LayoutView",
      "align_content": null,
      "align_items": null,
      "align_self": null,
      "border": null,
      "bottom": null,
      "display": null,
      "flex": "0 1 auto",
      "flex_flow": null,
      "grid_area": null,
      "grid_auto_columns": null,
      "grid_auto_flow": null,
      "grid_auto_rows": null,
      "grid_column": null,
      "grid_gap": null,
      "grid_row": null,
      "grid_template_areas": null,
      "grid_template_columns": null,
      "grid_template_rows": null,
      "height": null,
      "justify_content": null,
      "justify_items": null,
      "left": null,
      "margin": "0px",
      "max_height": null,
      "max_width": null,
      "min_height": null,
      "min_width": null,
      "object_fit": null,
      "object_position": null,
      "order": null,
      "overflow": "hidden",
      "overflow_x": null,
      "overflow_y": null,
      "padding": "0px",
      "right": null,
      "top": null,
      "visibility": null,
      "width": null
     }
    },
    "72de6f560c334fadada1078a903740ab": {
     "model_module": "@jupyter-widgets/base",
     "model_module_version": "1.2.0",
     "model_name": "LayoutModel",
     "state": {
      "_model_module": "@jupyter-widgets/base",
      "_model_module_version": "1.2.0",
      "_model_name": "LayoutModel",
      "_view_count": null,
      "_view_module": "@jupyter-widgets/base",
      "_view_module_version": "1.2.0",
      "_view_name": "LayoutView",
      "align_content": null,
      "align_items": null,
      "align_self": null,
      "border": null,
      "bottom": null,
      "display": null,
      "flex": null,
      "flex_flow": null,
      "grid_area": null,
      "grid_auto_columns": null,
      "grid_auto_flow": null,
      "grid_auto_rows": null,
      "grid_column": null,
      "grid_gap": null,
      "grid_row": null,
      "grid_template_areas": null,
      "grid_template_columns": null,
      "grid_template_rows": null,
      "height": null,
      "justify_content": null,
      "justify_items": null,
      "left": null,
      "margin": "0px",
      "max_height": null,
      "max_width": null,
      "min_height": null,
      "min_width": null,
      "object_fit": null,
      "object_position": null,
      "order": null,
      "overflow": null,
      "overflow_x": null,
      "overflow_y": null,
      "padding": "0px",
      "right": null,
      "top": null,
      "visibility": null,
      "width": "100%"
     }
    },
    "7853b42096444139802fdc3d28e57149": {
     "model_module": "jupyterlab-plotly",
     "model_module_version": "^5.24.1",
     "model_name": "FigureModel",
     "state": {
      "_config": {
       "plotlyServerURL": "https://plot.ly"
      },
      "_data": [
       {
        "customdata": [
         "A",
         "B",
         "C",
         "D",
         "E",
         "F",
         "G",
         "H",
         "I",
         "J",
         "K",
         "L",
         "M",
         "N",
         "O",
         "P",
         "Q",
         "R",
         "S",
         "T"
        ],
        "hovertemplate": "name: %{customdata}",
        "mode": "markers",
        "type": "scatter",
        "uid": "14095e66-da6e-415a-b6f9-f5ad27467448",
        "x": [
         1,
         2,
         3,
         4,
         5,
         6,
         7,
         8,
         9,
         10,
         11,
         12,
         13,
         14,
         15,
         16,
         17,
         18,
         19,
         20
        ],
        "y": [
         10,
         15,
         13,
         17,
         11,
         13,
         18,
         14,
         12,
         19,
         17,
         15,
         10,
         19,
         18,
         13,
         12,
         17,
         14,
         15
        ]
       }
      ],
      "_dom_classes": [],
      "_js2py_layoutDelta": null,
      "_js2py_pointsCallback": null,
      "_js2py_relayout": null,
      "_js2py_restyle": {},
      "_js2py_traceDeltas": null,
      "_js2py_update": {},
      "_last_layout_edit_id": 4,
      "_last_trace_edit_id": 3,
      "_layout": {},
      "_model_module": "jupyterlab-plotly",
      "_model_module_version": "^5.24.1",
      "_model_name": "FigureModel",
      "_py2js_addTraces": {},
      "_py2js_animate": {},
      "_py2js_deleteTraces": {},
      "_py2js_moveTraces": {},
      "_py2js_relayout": null,
      "_py2js_removeLayoutProps": {},
      "_py2js_removeTraceProps": {},
      "_py2js_restyle": {},
      "_py2js_update": null,
      "_view_count": 1,
      "_view_module": "jupyterlab-plotly",
      "_view_module_version": "^5.24.1",
      "_view_name": "FigureView"
     }
    },
    "7ce4345b0c664fafa7b95804bd95fbad": {
     "model_module": "@jupyter-widgets/base",
     "model_module_version": "1.2.0",
     "model_name": "LayoutModel",
     "state": {
      "_model_module": "@jupyter-widgets/base",
      "_model_module_version": "1.2.0",
      "_model_name": "LayoutModel",
      "_view_count": null,
      "_view_module": "@jupyter-widgets/base",
      "_view_module_version": "1.2.0",
      "_view_name": "LayoutView",
      "align_content": null,
      "align_items": null,
      "align_self": null,
      "border": null,
      "bottom": null,
      "display": null,
      "flex": null,
      "flex_flow": null,
      "grid_area": null,
      "grid_auto_columns": null,
      "grid_auto_flow": null,
      "grid_auto_rows": null,
      "grid_column": null,
      "grid_gap": null,
      "grid_row": null,
      "grid_template_areas": null,
      "grid_template_columns": null,
      "grid_template_rows": null,
      "height": "400px",
      "justify_content": null,
      "justify_items": null,
      "left": null,
      "margin": null,
      "max_height": null,
      "max_width": null,
      "min_height": null,
      "min_width": null,
      "object_fit": null,
      "object_position": null,
      "order": null,
      "overflow": null,
      "overflow_x": null,
      "overflow_y": null,
      "padding": null,
      "right": null,
      "top": null,
      "visibility": null,
      "width": null
     }
    },
    "7fa115802aa744ceb3738b26499a865c": {
     "model_module": "@jupyter-widgets/controls",
     "model_module_version": "1.5.0",
     "model_name": "FloatRangeSliderModel",
     "state": {
      "_dom_classes": [],
      "_model_module": "@jupyter-widgets/controls",
      "_model_module_version": "1.5.0",
      "_model_name": "FloatRangeSliderModel",
      "_view_count": null,
      "_view_module": "@jupyter-widgets/controls",
      "_view_module_version": "1.5.0",
      "_view_name": "FloatRangeSliderView",
      "continuous_update": true,
      "description": "",
      "description_tooltip": null,
      "disabled": false,
      "layout": "IPY_MODEL_06c20bd5489d4f5293bbf14f37a2f700",
      "max": 0.5,
      "min": -27.5,
      "orientation": "vertical",
      "readout": false,
      "readout_format": ".2f",
      "step": 0.01,
      "style": "IPY_MODEL_683ffe98231247e08c1f9201c710e50e",
      "value": [
       -9.500000000000004,
       0.5
      ]
     }
    },
    "810fb69bdc6849b8aeb370c82018656a": {
     "model_module": "@jupyter-widgets/controls",
     "model_module_version": "1.5.0",
     "model_name": "BoxModel",
     "state": {
      "_dom_classes": [],
      "_model_module": "@jupyter-widgets/controls",
      "_model_module_version": "1.5.0",
      "_model_name": "BoxModel",
      "_view_count": null,
      "_view_module": "@jupyter-widgets/controls",
      "_view_module_version": "1.5.0",
      "_view_name": "BoxView",
      "box_style": "",
      "children": [
       "IPY_MODEL_1ff3356caee44c4fa6170748c114c4ff"
      ],
      "layout": "IPY_MODEL_e8cc96c776b948f2abf1e186a6163861"
     }
    },
    "908af09caeb54d06a0dad44ee0e4d5d8": {
     "model_module": "@jupyter-widgets/controls",
     "model_module_version": "1.5.0",
     "model_name": "BoxModel",
     "state": {
      "_dom_classes": [],
      "_model_module": "@jupyter-widgets/controls",
      "_model_module_version": "1.5.0",
      "_model_name": "BoxModel",
      "_view_count": null,
      "_view_module": "@jupyter-widgets/controls",
      "_view_module_version": "1.5.0",
      "_view_name": "BoxView",
      "box_style": "",
      "children": [
       "IPY_MODEL_4d499b0645a140b6a329c2e26b47e74a"
      ],
      "layout": "IPY_MODEL_1010733180b1481d99669d6aa393f51c"
     }
    },
    "9637486b7404479da1d535467954af84": {
     "model_module": "@jupyter-widgets/controls",
     "model_module_version": "1.5.0",
     "model_name": "HBoxModel",
     "state": {
      "_dom_classes": [],
      "_model_module": "@jupyter-widgets/controls",
      "_model_module_version": "1.5.0",
      "_model_name": "HBoxModel",
      "_view_count": null,
      "_view_module": "@jupyter-widgets/controls",
      "_view_module_version": "1.5.0",
      "_view_name": "HBoxView",
      "box_style": "",
      "children": [
       "IPY_MODEL_fe8912c8f6ad45c78de877fd21499d94",
       "IPY_MODEL_7853b42096444139802fdc3d28e57149"
      ],
      "layout": "IPY_MODEL_a6e483a3dd86415aa2b6ef8b9daf5ef1"
     }
    },
    "a15420639b454e1cb936437aec3c0f74": {
     "model_module": "@jupyter-widgets/controls",
     "model_module_version": "1.5.0",
     "model_name": "HBoxModel",
     "state": {
      "_dom_classes": [],
      "_model_module": "@jupyter-widgets/controls",
      "_model_module_version": "1.5.0",
      "_model_name": "HBoxModel",
      "_view_count": null,
      "_view_module": "@jupyter-widgets/controls",
      "_view_module_version": "1.5.0",
      "_view_name": "HBoxView",
      "box_style": "",
      "children": [
       "IPY_MODEL_67a1e4cb092542e3852c77505fc9d624",
       "IPY_MODEL_32f57dea686b405ca62315d6a8be963d"
      ],
      "layout": "IPY_MODEL_72de6f560c334fadada1078a903740ab"
     }
    },
    "a45508f067c443fb9398766afac00da5": {
     "model_module": "@jupyter-widgets/controls",
     "model_module_version": "1.5.0",
     "model_name": "SliderStyleModel",
     "state": {
      "_model_module": "@jupyter-widgets/controls",
      "_model_module_version": "1.5.0",
      "_model_name": "SliderStyleModel",
      "_view_count": null,
      "_view_module": "@jupyter-widgets/base",
      "_view_module_version": "1.2.0",
      "_view_name": "StyleView",
      "description_width": "",
      "handle_color": null
     }
    },
    "a6e483a3dd86415aa2b6ef8b9daf5ef1": {
     "model_module": "@jupyter-widgets/base",
     "model_module_version": "1.2.0",
     "model_name": "LayoutModel",
     "state": {
      "_model_module": "@jupyter-widgets/base",
      "_model_module_version": "1.2.0",
      "_model_name": "LayoutModel",
      "_view_count": null,
      "_view_module": "@jupyter-widgets/base",
      "_view_module_version": "1.2.0",
      "_view_name": "LayoutView",
      "align_content": null,
      "align_items": null,
      "align_self": null,
      "border": null,
      "bottom": null,
      "display": null,
      "flex": null,
      "flex_flow": null,
      "grid_area": null,
      "grid_auto_columns": null,
      "grid_auto_flow": null,
      "grid_auto_rows": null,
      "grid_column": null,
      "grid_gap": null,
      "grid_row": null,
      "grid_template_areas": null,
      "grid_template_columns": null,
      "grid_template_rows": null,
      "height": null,
      "justify_content": null,
      "justify_items": null,
      "left": null,
      "margin": null,
      "max_height": null,
      "max_width": null,
      "min_height": null,
      "min_width": null,
      "object_fit": null,
      "object_position": null,
      "order": null,
      "overflow": null,
      "overflow_x": null,
      "overflow_y": null,
      "padding": null,
      "right": null,
      "top": null,
      "visibility": null,
      "width": null
     }
    },
    "abfc23602d944654995a9cb97d3cd397": {
     "model_module": "@jupyter-widgets/base",
     "model_module_version": "1.2.0",
     "model_name": "LayoutModel",
     "state": {
      "_model_module": "@jupyter-widgets/base",
      "_model_module_version": "1.2.0",
      "_model_name": "LayoutModel",
      "_view_count": null,
      "_view_module": "@jupyter-widgets/base",
      "_view_module_version": "1.2.0",
      "_view_name": "LayoutView",
      "align_content": null,
      "align_items": null,
      "align_self": null,
      "border": null,
      "bottom": null,
      "display": null,
      "flex": null,
      "flex_flow": null,
      "grid_area": null,
      "grid_auto_columns": null,
      "grid_auto_flow": null,
      "grid_auto_rows": null,
      "grid_column": null,
      "grid_gap": null,
      "grid_row": null,
      "grid_template_areas": null,
      "grid_template_columns": null,
      "grid_template_rows": null,
      "height": null,
      "justify_content": null,
      "justify_items": null,
      "left": null,
      "margin": "0px",
      "max_height": null,
      "max_width": null,
      "min_height": null,
      "min_width": null,
      "object_fit": null,
      "object_position": null,
      "order": null,
      "overflow": null,
      "overflow_x": null,
      "overflow_y": null,
      "padding": "0px",
      "right": null,
      "top": null,
      "visibility": null,
      "width": "100%"
     }
    },
    "b296c45e7468428ebcc1af3b31a28a0b": {
     "model_module": "@jupyter-widgets/base",
     "model_module_version": "1.2.0",
     "model_name": "LayoutModel",
     "state": {
      "_model_module": "@jupyter-widgets/base",
      "_model_module_version": "1.2.0",
      "_model_name": "LayoutModel",
      "_view_count": null,
      "_view_module": "@jupyter-widgets/base",
      "_view_module_version": "1.2.0",
      "_view_name": "LayoutView",
      "align_content": null,
      "align_items": null,
      "align_self": null,
      "border": null,
      "bottom": null,
      "display": null,
      "flex": null,
      "flex_flow": null,
      "grid_area": null,
      "grid_auto_columns": null,
      "grid_auto_flow": null,
      "grid_auto_rows": null,
      "grid_column": null,
      "grid_gap": null,
      "grid_row": null,
      "grid_template_areas": null,
      "grid_template_columns": null,
      "grid_template_rows": null,
      "height": null,
      "justify_content": null,
      "justify_items": null,
      "left": null,
      "margin": "0px",
      "max_height": null,
      "max_width": null,
      "min_height": null,
      "min_width": null,
      "object_fit": null,
      "object_position": null,
      "order": null,
      "overflow": null,
      "overflow_x": null,
      "overflow_y": null,
      "padding": "0px",
      "right": null,
      "top": null,
      "visibility": null,
      "width": "100%"
     }
    },
    "ceda85c993944718b6efd19026dd167c": {
     "model_module": "@jupyter-widgets/controls",
     "model_module_version": "1.5.0",
     "model_name": "FloatRangeSliderModel",
     "state": {
      "_dom_classes": [],
      "_model_module": "@jupyter-widgets/controls",
      "_model_module_version": "1.5.0",
      "_model_name": "FloatRangeSliderModel",
      "_view_count": null,
      "_view_module": "@jupyter-widgets/controls",
      "_view_module_version": "1.5.0",
      "_view_name": "FloatRangeSliderView",
      "continuous_update": true,
      "description": "",
      "description_tooltip": null,
      "disabled": false,
      "layout": "IPY_MODEL_7ce4345b0c664fafa7b95804bd95fbad",
      "max": 0.5,
      "min": -27.5,
      "orientation": "vertical",
      "readout": false,
      "readout_format": ".2f",
      "step": 0.01,
      "style": "IPY_MODEL_582de278d1f541e3ad237b34ac3169cd",
      "value": [
       -6.289999999999999,
       0.5
      ]
     }
    },
    "e8cc96c776b948f2abf1e186a6163861": {
     "model_module": "@jupyter-widgets/base",
     "model_module_version": "1.2.0",
     "model_name": "LayoutModel",
     "state": {
      "_model_module": "@jupyter-widgets/base",
      "_model_module_version": "1.2.0",
      "_model_name": "LayoutModel",
      "_view_count": null,
      "_view_module": "@jupyter-widgets/base",
      "_view_module_version": "1.2.0",
      "_view_name": "LayoutView",
      "align_content": null,
      "align_items": null,
      "align_self": null,
      "border": null,
      "bottom": null,
      "display": null,
      "flex": "0 0 auto",
      "flex_flow": null,
      "grid_area": null,
      "grid_auto_columns": null,
      "grid_auto_flow": null,
      "grid_auto_rows": null,
      "grid_column": null,
      "grid_gap": null,
      "grid_row": null,
      "grid_template_areas": null,
      "grid_template_columns": null,
      "grid_template_rows": null,
      "height": null,
      "justify_content": null,
      "justify_items": null,
      "left": null,
      "margin": "0px",
      "max_height": null,
      "max_width": null,
      "min_height": null,
      "min_width": null,
      "object_fit": null,
      "object_position": null,
      "order": null,
      "overflow": "visible",
      "overflow_x": null,
      "overflow_y": null,
      "padding": "0px",
      "right": null,
      "top": null,
      "visibility": null,
      "width": null
     }
    },
    "ef8390b581564524907856d43a57de45": {
     "model_module": "@jupyter-widgets/controls",
     "model_module_version": "1.5.0",
     "model_name": "HBoxModel",
     "state": {
      "_dom_classes": [],
      "_model_module": "@jupyter-widgets/controls",
      "_model_module_version": "1.5.0",
      "_model_name": "HBoxModel",
      "_view_count": null,
      "_view_module": "@jupyter-widgets/controls",
      "_view_module_version": "1.5.0",
      "_view_name": "HBoxView",
      "box_style": "",
      "children": [
       "IPY_MODEL_304fb5cd261b44d88797d0d1ba357028",
       "IPY_MODEL_425037c22dba4b189f50911c4c48dd32"
      ],
      "layout": "IPY_MODEL_b296c45e7468428ebcc1af3b31a28a0b"
     }
    },
    "f3790247b0164f5d8752cac46cd86e53": {
     "model_module": "@jupyter-widgets/base",
     "model_module_version": "1.2.0",
     "model_name": "LayoutModel",
     "state": {
      "_model_module": "@jupyter-widgets/base",
      "_model_module_version": "1.2.0",
      "_model_name": "LayoutModel",
      "_view_count": null,
      "_view_module": "@jupyter-widgets/base",
      "_view_module_version": "1.2.0",
      "_view_name": "LayoutView",
      "align_content": null,
      "align_items": null,
      "align_self": null,
      "border": null,
      "bottom": null,
      "display": null,
      "flex": "0 0 auto",
      "flex_flow": null,
      "grid_area": null,
      "grid_auto_columns": null,
      "grid_auto_flow": null,
      "grid_auto_rows": null,
      "grid_column": null,
      "grid_gap": null,
      "grid_row": null,
      "grid_template_areas": null,
      "grid_template_columns": null,
      "grid_template_rows": null,
      "height": null,
      "justify_content": null,
      "justify_items": null,
      "left": null,
      "margin": "0px",
      "max_height": null,
      "max_width": null,
      "min_height": null,
      "min_width": null,
      "object_fit": null,
      "object_position": null,
      "order": null,
      "overflow": "visible",
      "overflow_x": null,
      "overflow_y": null,
      "padding": "0px",
      "right": null,
      "top": null,
      "visibility": null,
      "width": null
     }
    },
    "f7b141c79ad1439883cb3f3c930474f5": {
     "model_module": "@jupyter-widgets/controls",
     "model_module_version": "1.5.0",
     "model_name": "SliderStyleModel",
     "state": {
      "_model_module": "@jupyter-widgets/controls",
      "_model_module_version": "1.5.0",
      "_model_name": "SliderStyleModel",
      "_view_count": null,
      "_view_module": "@jupyter-widgets/base",
      "_view_module_version": "1.2.0",
      "_view_name": "StyleView",
      "description_width": "",
      "handle_color": null
     }
    },
    "fe8912c8f6ad45c78de877fd21499d94": {
     "model_module": "@jupyter-widgets/controls",
     "model_module_version": "1.5.0",
     "model_name": "FloatRangeSliderModel",
     "state": {
      "_dom_classes": [],
      "_model_module": "@jupyter-widgets/controls",
      "_model_module_version": "1.5.0",
      "_model_name": "FloatRangeSliderModel",
      "_view_count": null,
      "_view_module": "@jupyter-widgets/controls",
      "_view_module_version": "1.5.0",
      "_view_name": "FloatRangeSliderView",
      "continuous_update": true,
      "description": "Y Range:",
      "description_tooltip": null,
      "disabled": false,
      "layout": "IPY_MODEL_2febece783224cd4a29c631ea25a4197",
      "max": 19,
      "min": 10,
      "orientation": "vertical",
      "readout": true,
      "readout_format": ".2f",
      "step": 0.01,
      "style": "IPY_MODEL_f7b141c79ad1439883cb3f3c930474f5",
      "value": [
       10,
       19
      ]
     }
    }
   }
  }
 },
 "nbformat": 4,
 "nbformat_minor": 0
}
