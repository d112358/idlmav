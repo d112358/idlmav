{
 "cells": [
  {
   "cell_type": "markdown",
   "metadata": {},
   "source": [
    "## Preparation (first release only)\n",
    "Write [pyproject.toml](../pyproject.toml) and [setup.py](../setup.py)"
   ]
  },
  {
   "cell_type": "markdown",
   "metadata": {},
   "source": [
    "## Build"
   ]
  },
  {
   "cell_type": "markdown",
   "metadata": {},
   "source": [
    "* Ensure that this notebook's kernel is running in the main virtual environment (.venv)\n",
    "* Restart the kernel if changed\n",
    "* Step the version number in [\\_\\_init\\_\\_.py](../idlmav/__init__.py) \n",
    "* Update [CHANGELOG.md](../CHANGELOG.md) (see example at [Keep a Changelog](https://keepachangelog.com/en/1.0.0/)) "
   ]
  },
  {
   "cell_type": "code",
   "execution_count": 3,
   "metadata": {},
   "outputs": [
    {
     "name": "stdout",
     "output_type": "stream",
     "text": [
      "Requirement already satisfied: build in ./.venv/lib/python3.10/site-packages (1.2.2.post1)\n",
      "Requirement already satisfied: packaging>=19.1 in ./.venv/lib/python3.10/site-packages (from build) (24.2)\n",
      "Requirement already satisfied: pyproject_hooks in ./.venv/lib/python3.10/site-packages (from build) (1.2.0)\n",
      "Requirement already satisfied: tomli>=1.1.0 in ./.venv/lib/python3.10/site-packages (from build) (2.2.1)\n",
      "\n",
      "\u001b[1m[\u001b[0m\u001b[34;49mnotice\u001b[0m\u001b[1;39;49m]\u001b[0m\u001b[39;49m A new release of pip is available: \u001b[0m\u001b[31;49m24.3.1\u001b[0m\u001b[39;49m -> \u001b[0m\u001b[32;49m25.0.1\u001b[0m\n",
      "\u001b[1m[\u001b[0m\u001b[34;49mnotice\u001b[0m\u001b[1;39;49m]\u001b[0m\u001b[39;49m To update, run: \u001b[0m\u001b[32;49mpip install --upgrade pip\u001b[0m\n",
      "Note: you may need to restart the kernel to use updated packages.\n"
     ]
    }
   ],
   "source": [
    "%pip install --upgrade build"
   ]
  },
  {
   "cell_type": "code",
   "execution_count": 4,
   "metadata": {},
   "outputs": [
    {
     "data": {
      "text/plain": [
       "'/home/dev/ai/idlmav'"
      ]
     },
     "execution_count": 4,
     "metadata": {},
     "output_type": "execute_result"
    }
   ],
   "source": [
    "from pathlib import Path\n",
    "if Path.cwd().name != 'idlmav':\n",
    "    %cd ..\n",
    "%pwd"
   ]
  },
  {
   "cell_type": "code",
   "execution_count": 5,
   "metadata": {},
   "outputs": [],
   "source": [
    "!rm -rf dist"
   ]
  },
  {
   "cell_type": "code",
   "execution_count": 6,
   "metadata": {},
   "outputs": [
    {
     "name": "stdout",
     "output_type": "stream",
     "text": [
      "\u001b[1m* Creating isolated environment: venv+pip...\u001b[0m\n",
      "\u001b[1m* Installing packages in isolated environment:\u001b[0m\n",
      "  - setuptools >= 64.0\n",
      "\u001b[1m* Getting build dependencies for sdist...\u001b[0m\n",
      "running egg_info\n",
      "writing idlmav.egg-info/PKG-INFO\n",
      "writing dependency_links to idlmav.egg-info/dependency_links.txt\n",
      "writing requirements to idlmav.egg-info/requires.txt\n",
      "writing top-level names to idlmav.egg-info/top_level.txt\n",
      "reading manifest file 'idlmav.egg-info/SOURCES.txt'\n",
      "adding license file 'LICENSE'\n",
      "writing manifest file 'idlmav.egg-info/SOURCES.txt'\n",
      "\u001b[1m* Building sdist...\u001b[0m\n",
      "running sdist\n",
      "running egg_info\n",
      "writing idlmav.egg-info/PKG-INFO\n",
      "writing dependency_links to idlmav.egg-info/dependency_links.txt\n",
      "writing requirements to idlmav.egg-info/requires.txt\n",
      "writing top-level names to idlmav.egg-info/top_level.txt\n",
      "reading manifest file 'idlmav.egg-info/SOURCES.txt'\n",
      "adding license file 'LICENSE'\n",
      "writing manifest file 'idlmav.egg-info/SOURCES.txt'\n",
      "running check\n",
      "creating idlmav-1.1.0\n",
      "creating idlmav-1.1.0/idlmav\n",
      "creating idlmav-1.1.0/idlmav.egg-info\n",
      "creating idlmav-1.1.0/idlmav/renderers\n",
      "copying files to idlmav-1.1.0...\n",
      "copying LICENSE -> idlmav-1.1.0\n",
      "copying README.md -> idlmav-1.1.0\n",
      "copying pyproject.toml -> idlmav-1.1.0\n",
      "copying setup.py -> idlmav-1.1.0\n",
      "copying idlmav/__init__.py -> idlmav-1.1.0/idlmav\n",
      "copying idlmav/coloring.py -> idlmav-1.1.0/idlmav\n",
      "copying idlmav/idlmav.py -> idlmav-1.1.0/idlmav\n",
      "copying idlmav/layout.py -> idlmav-1.1.0/idlmav\n",
      "copying idlmav/mavdbgutils.py -> idlmav-1.1.0/idlmav\n",
      "copying idlmav/mavoptions.py -> idlmav-1.1.0/idlmav\n",
      "copying idlmav/mavtypes.py -> idlmav-1.1.0/idlmav\n",
      "copying idlmav/mavutils.py -> idlmav-1.1.0/idlmav\n",
      "copying idlmav/merging.py -> idlmav-1.1.0/idlmav\n",
      "copying idlmav/static_viewers.py -> idlmav-1.1.0/idlmav\n",
      "copying idlmav/tracing.py -> idlmav-1.1.0/idlmav\n",
      "copying idlmav.egg-info/PKG-INFO -> idlmav-1.1.0/idlmav.egg-info\n",
      "copying idlmav.egg-info/SOURCES.txt -> idlmav-1.1.0/idlmav.egg-info\n",
      "copying idlmav.egg-info/dependency_links.txt -> idlmav-1.1.0/idlmav.egg-info\n",
      "copying idlmav.egg-info/requires.txt -> idlmav-1.1.0/idlmav.egg-info\n",
      "copying idlmav.egg-info/top_level.txt -> idlmav-1.1.0/idlmav.egg-info\n",
      "copying idlmav/renderers/figure_renderer.py -> idlmav-1.1.0/idlmav/renderers\n",
      "copying idlmav/renderers/renderer_utils.py -> idlmav-1.1.0/idlmav/renderers\n",
      "copying idlmav/renderers/widget_renderer.py -> idlmav-1.1.0/idlmav/renderers\n",
      "copying idlmav.egg-info/SOURCES.txt -> idlmav-1.1.0/idlmav.egg-info\n",
      "Writing idlmav-1.1.0/setup.cfg\n",
      "Creating tar archive\n",
      "removing 'idlmav-1.1.0' (and everything under it)\n",
      "\u001b[1m* Building wheel from sdist\u001b[0m\n",
      "\u001b[1m* Creating isolated environment: venv+pip...\u001b[0m\n",
      "\u001b[1m* Installing packages in isolated environment:\u001b[0m\n",
      "  - setuptools >= 64.0\n",
      "\u001b[1m* Getting build dependencies for wheel...\u001b[0m\n",
      "running egg_info\n",
      "writing idlmav.egg-info/PKG-INFO\n",
      "writing dependency_links to idlmav.egg-info/dependency_links.txt\n",
      "writing requirements to idlmav.egg-info/requires.txt\n",
      "writing top-level names to idlmav.egg-info/top_level.txt\n",
      "reading manifest file 'idlmav.egg-info/SOURCES.txt'\n",
      "adding license file 'LICENSE'\n",
      "writing manifest file 'idlmav.egg-info/SOURCES.txt'\n",
      "\u001b[1m* Building wheel...\u001b[0m\n",
      "running bdist_wheel\n",
      "running build\n",
      "running build_py\n",
      "creating build/lib/idlmav\n",
      "copying idlmav/static_viewers.py -> build/lib/idlmav\n",
      "copying idlmav/mavtypes.py -> build/lib/idlmav\n",
      "copying idlmav/mavutils.py -> build/lib/idlmav\n",
      "copying idlmav/merging.py -> build/lib/idlmav\n",
      "copying idlmav/idlmav.py -> build/lib/idlmav\n",
      "copying idlmav/coloring.py -> build/lib/idlmav\n",
      "copying idlmav/mavdbgutils.py -> build/lib/idlmav\n",
      "copying idlmav/mavoptions.py -> build/lib/idlmav\n",
      "copying idlmav/__init__.py -> build/lib/idlmav\n",
      "copying idlmav/layout.py -> build/lib/idlmav\n",
      "copying idlmav/tracing.py -> build/lib/idlmav\n",
      "creating build/lib/idlmav/renderers\n",
      "copying idlmav/renderers/renderer_utils.py -> build/lib/idlmav/renderers\n",
      "copying idlmav/renderers/widget_renderer.py -> build/lib/idlmav/renderers\n",
      "copying idlmav/renderers/figure_renderer.py -> build/lib/idlmav/renderers\n",
      "running egg_info\n",
      "writing idlmav.egg-info/PKG-INFO\n",
      "writing dependency_links to idlmav.egg-info/dependency_links.txt\n",
      "writing requirements to idlmav.egg-info/requires.txt\n",
      "writing top-level names to idlmav.egg-info/top_level.txt\n",
      "reading manifest file 'idlmav.egg-info/SOURCES.txt'\n",
      "adding license file 'LICENSE'\n",
      "writing manifest file 'idlmav.egg-info/SOURCES.txt'\n",
      "installing to build/bdist.linux-x86_64/wheel\n",
      "running install\n",
      "running install_lib\n",
      "creating build/bdist.linux-x86_64/wheel\n",
      "creating build/bdist.linux-x86_64/wheel/idlmav\n",
      "copying build/lib/idlmav/static_viewers.py -> build/bdist.linux-x86_64/wheel/./idlmav\n",
      "creating build/bdist.linux-x86_64/wheel/idlmav/renderers\n",
      "copying build/lib/idlmav/renderers/renderer_utils.py -> build/bdist.linux-x86_64/wheel/./idlmav/renderers\n",
      "copying build/lib/idlmav/renderers/widget_renderer.py -> build/bdist.linux-x86_64/wheel/./idlmav/renderers\n",
      "copying build/lib/idlmav/renderers/figure_renderer.py -> build/bdist.linux-x86_64/wheel/./idlmav/renderers\n",
      "copying build/lib/idlmav/mavtypes.py -> build/bdist.linux-x86_64/wheel/./idlmav\n",
      "copying build/lib/idlmav/mavutils.py -> build/bdist.linux-x86_64/wheel/./idlmav\n",
      "copying build/lib/idlmav/merging.py -> build/bdist.linux-x86_64/wheel/./idlmav\n",
      "copying build/lib/idlmav/idlmav.py -> build/bdist.linux-x86_64/wheel/./idlmav\n",
      "copying build/lib/idlmav/coloring.py -> build/bdist.linux-x86_64/wheel/./idlmav\n",
      "copying build/lib/idlmav/mavdbgutils.py -> build/bdist.linux-x86_64/wheel/./idlmav\n",
      "copying build/lib/idlmav/mavoptions.py -> build/bdist.linux-x86_64/wheel/./idlmav\n",
      "copying build/lib/idlmav/__init__.py -> build/bdist.linux-x86_64/wheel/./idlmav\n",
      "copying build/lib/idlmav/layout.py -> build/bdist.linux-x86_64/wheel/./idlmav\n",
      "copying build/lib/idlmav/tracing.py -> build/bdist.linux-x86_64/wheel/./idlmav\n",
      "running install_egg_info\n",
      "Copying idlmav.egg-info to build/bdist.linux-x86_64/wheel/./idlmav-1.1.0-py3.10.egg-info\n",
      "running install_scripts\n",
      "creating build/bdist.linux-x86_64/wheel/idlmav-1.1.0.dist-info/WHEEL\n",
      "creating '/home/dev/ai/idlmav/dist/.tmp-stp1wwy5/idlmav-1.1.0-py3-none-any.whl' and adding 'build/bdist.linux-x86_64/wheel' to it\n",
      "adding 'idlmav/__init__.py'\n",
      "adding 'idlmav/coloring.py'\n",
      "adding 'idlmav/idlmav.py'\n",
      "adding 'idlmav/layout.py'\n",
      "adding 'idlmav/mavdbgutils.py'\n",
      "adding 'idlmav/mavoptions.py'\n",
      "adding 'idlmav/mavtypes.py'\n",
      "adding 'idlmav/mavutils.py'\n",
      "adding 'idlmav/merging.py'\n",
      "adding 'idlmav/static_viewers.py'\n",
      "adding 'idlmav/tracing.py'\n",
      "adding 'idlmav/renderers/figure_renderer.py'\n",
      "adding 'idlmav/renderers/renderer_utils.py'\n",
      "adding 'idlmav/renderers/widget_renderer.py'\n",
      "adding 'idlmav-1.1.0.dist-info/LICENSE'\n",
      "adding 'idlmav-1.1.0.dist-info/METADATA'\n",
      "adding 'idlmav-1.1.0.dist-info/WHEEL'\n",
      "adding 'idlmav-1.1.0.dist-info/top_level.txt'\n",
      "adding 'idlmav-1.1.0.dist-info/RECORD'\n",
      "removing build/bdist.linux-x86_64/wheel\n",
      "\u001b[1m\u001b[92mSuccessfully built \u001b[4midlmav-1.1.0.tar.gz\u001b[0m\u001b[1m\u001b[92m and \u001b[4midlmav-1.1.0-py3-none-any.whl\u001b[0m\u001b[1m\u001b[92m\u001b[0m\n"
     ]
    }
   ],
   "source": [
    "!python -m build"
   ]
  },
  {
   "cell_type": "markdown",
   "metadata": {},
   "source": [
    "### Check what was built"
   ]
  },
  {
   "cell_type": "code",
   "execution_count": 7,
   "metadata": {},
   "outputs": [],
   "source": [
    "Path('build_output').mkdir(exist_ok=True)  # Location to extract the archive to\n",
    "!tar -xf dist/idlmav-1.1.0.tar.gz -C build_output"
   ]
  },
  {
   "cell_type": "markdown",
   "metadata": {},
   "source": [
    "### Test in a temporary virtual environment"
   ]
  },
  {
   "cell_type": "markdown",
   "metadata": {},
   "source": [
    "* Ensure that this notebook's kernel is running in the main virtual environment (.venv)\n",
    "* Restart the kernel if changed"
   ]
  },
  {
   "cell_type": "code",
   "execution_count": 1,
   "metadata": {},
   "outputs": [
    {
     "name": "stdout",
     "output_type": "stream",
     "text": [
      "/home/dev/ai/idlmav\n"
     ]
    },
    {
     "name": "stderr",
     "output_type": "stream",
     "text": [
      "/home/dev/ai/idlmav/.venv/lib/python3.10/site-packages/IPython/core/magics/osm.py:417: UserWarning: This is now an optional IPython functionality, setting dhist requires you to install the `pickleshare` library.\n",
      "  self.shell.db['dhist'] = compress_dhist(dhist)[-100:]\n"
     ]
    }
   ],
   "source": [
    "from pathlib import Path\n",
    "if Path.cwd().name != 'idlmav':\n",
    "    %cd ..\n",
    "%pwd\n",
    "\n",
    "!rm -rf .venv_temp\n",
    "!python -m venv .venv_temp"
   ]
  },
  {
   "cell_type": "markdown",
   "metadata": {},
   "source": [
    "* Change this notebook's kernel to run in the temporary virtual environment (.venv_temp)\n",
    "* Restart the kernel"
   ]
  },
  {
   "cell_type": "code",
   "execution_count": 1,
   "metadata": {},
   "outputs": [
    {
     "name": "stdout",
     "output_type": "stream",
     "text": [
      "Looking in indexes: https://download.pytorch.org/whl/cu118\n",
      "Collecting torch\n",
      "  Using cached https://download.pytorch.org/whl/cu118/torch-2.6.0%2Bcu118-cp310-cp310-linux_x86_64.whl (848.7 MB)\n",
      "Collecting torchvision\n",
      "  Using cached https://download.pytorch.org/whl/cu118/torchvision-0.21.0%2Bcu118-cp310-cp310-linux_x86_64.whl (6.5 MB)\n",
      "Collecting torchaudio\n",
      "  Using cached https://download.pytorch.org/whl/cu118/torchaudio-2.6.0%2Bcu118-cp310-cp310-linux_x86_64.whl (3.3 MB)\n",
      "Collecting nvidia-cufft-cu11==10.9.0.58\n",
      "  Using cached https://download.pytorch.org/whl/cu118/nvidia_cufft_cu11-10.9.0.58-py3-none-manylinux1_x86_64.whl (168.4 MB)\n",
      "Collecting nvidia-cublas-cu11==11.11.3.6\n",
      "  Using cached https://download.pytorch.org/whl/cu118/nvidia_cublas_cu11-11.11.3.6-py3-none-manylinux1_x86_64.whl (417.9 MB)\n",
      "Collecting jinja2\n",
      "  Using cached https://download.pytorch.org/whl/Jinja2-3.1.4-py3-none-any.whl (133 kB)\n",
      "Collecting nvidia-cuda-nvrtc-cu11==11.8.89\n",
      "  Using cached https://download.pytorch.org/whl/cu118/nvidia_cuda_nvrtc_cu11-11.8.89-py3-none-manylinux1_x86_64.whl (23.2 MB)\n",
      "Collecting nvidia-nvtx-cu11==11.8.86\n",
      "  Using cached https://download.pytorch.org/whl/cu118/nvidia_nvtx_cu11-11.8.86-py3-none-manylinux1_x86_64.whl (99 kB)\n",
      "Collecting nvidia-cuda-runtime-cu11==11.8.89\n",
      "  Using cached https://download.pytorch.org/whl/cu118/nvidia_cuda_runtime_cu11-11.8.89-py3-none-manylinux1_x86_64.whl (875 kB)\n",
      "Collecting networkx\n",
      "  Using cached https://download.pytorch.org/whl/networkx-3.3-py3-none-any.whl (1.7 MB)\n",
      "Collecting nvidia-cusolver-cu11==11.4.1.48\n",
      "  Using cached https://download.pytorch.org/whl/cu118/nvidia_cusolver_cu11-11.4.1.48-py3-none-manylinux1_x86_64.whl (128.2 MB)\n",
      "Collecting sympy==1.13.1\n",
      "  Using cached https://download.pytorch.org/whl/sympy-1.13.1-py3-none-any.whl (6.2 MB)\n",
      "Collecting nvidia-cudnn-cu11==9.1.0.70\n",
      "  Using cached https://download.pytorch.org/whl/cu118/nvidia_cudnn_cu11-9.1.0.70-py3-none-manylinux2014_x86_64.whl (663.9 MB)\n",
      "Collecting nvidia-cuda-cupti-cu11==11.8.87\n",
      "  Using cached https://download.pytorch.org/whl/cu118/nvidia_cuda_cupti_cu11-11.8.87-py3-none-manylinux1_x86_64.whl (13.1 MB)\n",
      "Collecting nvidia-cusparse-cu11==11.7.5.86\n",
      "  Using cached https://download.pytorch.org/whl/cu118/nvidia_cusparse_cu11-11.7.5.86-py3-none-manylinux1_x86_64.whl (204.1 MB)\n",
      "Collecting nvidia-nccl-cu11==2.21.5\n",
      "  Using cached https://download.pytorch.org/whl/cu118/nvidia_nccl_cu11-2.21.5-py3-none-manylinux2014_x86_64.whl (147.8 MB)\n",
      "Collecting fsspec\n",
      "  Using cached https://download.pytorch.org/whl/fsspec-2024.6.1-py3-none-any.whl (177 kB)\n",
      "Collecting filelock\n",
      "  Using cached https://download.pytorch.org/whl/filelock-3.13.1-py3-none-any.whl (11 kB)\n",
      "Collecting nvidia-curand-cu11==10.3.0.86\n",
      "  Using cached https://download.pytorch.org/whl/cu118/nvidia_curand_cu11-10.3.0.86-py3-none-manylinux1_x86_64.whl (58.1 MB)\n",
      "Collecting triton==3.2.0\n",
      "  Using cached https://download.pytorch.org/whl/triton-3.2.0-cp310-cp310-manylinux_2_27_x86_64.manylinux_2_28_x86_64.whl (166.6 MB)\n",
      "Requirement already satisfied: typing-extensions>=4.10.0 in /home/dev/ai/idlmav/.venv_temp/lib/python3.10/site-packages (from torch) (4.12.2)\n",
      "Collecting mpmath<1.4,>=1.1.0\n",
      "  Using cached https://download.pytorch.org/whl/mpmath-1.3.0-py3-none-any.whl (536 kB)\n",
      "Collecting numpy\n",
      "  Using cached https://download.pytorch.org/whl/numpy-2.1.2-cp310-cp310-manylinux_2_17_x86_64.manylinux2014_x86_64.whl (16.3 MB)\n",
      "Collecting pillow!=8.3.*,>=5.3.0\n",
      "  Using cached https://download.pytorch.org/whl/pillow-11.0.0-cp310-cp310-manylinux_2_28_x86_64.whl (4.4 MB)\n",
      "Collecting MarkupSafe>=2.0\n",
      "  Using cached https://download.pytorch.org/whl/MarkupSafe-2.1.5-cp310-cp310-manylinux_2_17_x86_64.manylinux2014_x86_64.whl (25 kB)\n",
      "Installing collected packages: triton, mpmath, sympy, pillow, nvidia-nvtx-cu11, nvidia-nccl-cu11, nvidia-cusparse-cu11, nvidia-curand-cu11, nvidia-cufft-cu11, nvidia-cuda-runtime-cu11, nvidia-cuda-nvrtc-cu11, nvidia-cuda-cupti-cu11, nvidia-cublas-cu11, numpy, networkx, MarkupSafe, fsspec, filelock, nvidia-cusolver-cu11, nvidia-cudnn-cu11, jinja2, torch, torchvision, torchaudio\n",
      "Successfully installed MarkupSafe-2.1.5 filelock-3.13.1 fsspec-2024.6.1 jinja2-3.1.4 mpmath-1.3.0 networkx-3.3 numpy-2.1.2 nvidia-cublas-cu11-11.11.3.6 nvidia-cuda-cupti-cu11-11.8.87 nvidia-cuda-nvrtc-cu11-11.8.89 nvidia-cuda-runtime-cu11-11.8.89 nvidia-cudnn-cu11-9.1.0.70 nvidia-cufft-cu11-10.9.0.58 nvidia-curand-cu11-10.3.0.86 nvidia-cusolver-cu11-11.4.1.48 nvidia-cusparse-cu11-11.7.5.86 nvidia-nccl-cu11-2.21.5 nvidia-nvtx-cu11-11.8.86 pillow-11.0.0 sympy-1.13.1 torch-2.6.0+cu118 torchaudio-2.6.0+cu118 torchvision-0.21.0+cu118 triton-3.2.0\n",
      "Note: you may need to restart the kernel to use updated packages.\n",
      "Collecting plotly<6,>=5\n",
      "  Using cached plotly-5.24.1-py3-none-any.whl (19.1 MB)\n",
      "Requirement already satisfied: packaging in /home/dev/ai/idlmav/.venv_temp/lib/python3.10/site-packages (from plotly<6,>=5) (24.2)\n",
      "Collecting tenacity>=6.2.0\n",
      "  Using cached tenacity-9.0.0-py3-none-any.whl (28 kB)\n",
      "Installing collected packages: tenacity, plotly\n",
      "Successfully installed plotly-5.24.1 tenacity-9.0.0\n",
      "Note: you may need to restart the kernel to use updated packages.\n"
     ]
    }
   ],
   "source": [
    "%pip install torch torchvision torchaudio --index-url https://download.pytorch.org/whl/cu118\n",
    "%pip install \"plotly>=5,<6\""
   ]
  },
  {
   "cell_type": "code",
   "execution_count": 2,
   "metadata": {},
   "outputs": [
    {
     "data": {
      "text/plain": [
       "'/home/dev/ai/idlmav/environments'"
      ]
     },
     "execution_count": 2,
     "metadata": {},
     "output_type": "execute_result"
    }
   ],
   "source": [
    "%pwd"
   ]
  },
  {
   "cell_type": "code",
   "execution_count": 3,
   "metadata": {},
   "outputs": [
    {
     "name": "stdout",
     "output_type": "stream",
     "text": [
      "Processing /home/dev/ai/idlmav\n",
      "  Installing build dependencies ... \u001b[?25ldone\n",
      "\u001b[?25h  Getting requirements to build wheel ... \u001b[?25ldone\n",
      "\u001b[?25h  Preparing metadata (pyproject.toml) ... \u001b[?25ldone\n",
      "\u001b[?25hRequirement already satisfied: numpy in /home/dev/ai/idlmav/.venv_temp/lib/python3.10/site-packages (from idlmav==1.1.0) (2.1.2)\n",
      "Collecting munkres\n",
      "  Using cached munkres-1.1.4-py2.py3-none-any.whl (7.0 kB)\n",
      "Requirement already satisfied: torch>=2.3.0 in /home/dev/ai/idlmav/.venv_temp/lib/python3.10/site-packages (from idlmav==1.1.0) (2.6.0+cu118)\n",
      "Requirement already satisfied: plotly in /home/dev/ai/idlmav/.venv_temp/lib/python3.10/site-packages (from idlmav==1.1.0) (5.24.1)\n",
      "Collecting nbformat\n",
      "  Using cached nbformat-5.10.4-py3-none-any.whl (78 kB)\n",
      "Collecting ipywidgets\n",
      "  Using cached ipywidgets-8.1.5-py3-none-any.whl (139 kB)\n",
      "Collecting tabulate\n",
      "  Using cached tabulate-0.9.0-py3-none-any.whl (35 kB)\n",
      "Requirement already satisfied: nvidia-cuda-cupti-cu11==11.8.87 in /home/dev/ai/idlmav/.venv_temp/lib/python3.10/site-packages (from torch>=2.3.0->idlmav==1.1.0) (11.8.87)\n",
      "Requirement already satisfied: nvidia-cusparse-cu11==11.7.5.86 in /home/dev/ai/idlmav/.venv_temp/lib/python3.10/site-packages (from torch>=2.3.0->idlmav==1.1.0) (11.7.5.86)\n",
      "Requirement already satisfied: nvidia-cudnn-cu11==9.1.0.70 in /home/dev/ai/idlmav/.venv_temp/lib/python3.10/site-packages (from torch>=2.3.0->idlmav==1.1.0) (9.1.0.70)\n",
      "Requirement already satisfied: nvidia-nccl-cu11==2.21.5 in /home/dev/ai/idlmav/.venv_temp/lib/python3.10/site-packages (from torch>=2.3.0->idlmav==1.1.0) (2.21.5)\n",
      "Requirement already satisfied: nvidia-cusolver-cu11==11.4.1.48 in /home/dev/ai/idlmav/.venv_temp/lib/python3.10/site-packages (from torch>=2.3.0->idlmav==1.1.0) (11.4.1.48)\n",
      "Requirement already satisfied: typing-extensions>=4.10.0 in /home/dev/ai/idlmav/.venv_temp/lib/python3.10/site-packages (from torch>=2.3.0->idlmav==1.1.0) (4.12.2)\n",
      "Requirement already satisfied: filelock in /home/dev/ai/idlmav/.venv_temp/lib/python3.10/site-packages (from torch>=2.3.0->idlmav==1.1.0) (3.13.1)\n",
      "Requirement already satisfied: nvidia-cublas-cu11==11.11.3.6 in /home/dev/ai/idlmav/.venv_temp/lib/python3.10/site-packages (from torch>=2.3.0->idlmav==1.1.0) (11.11.3.6)\n",
      "Requirement already satisfied: nvidia-cufft-cu11==10.9.0.58 in /home/dev/ai/idlmav/.venv_temp/lib/python3.10/site-packages (from torch>=2.3.0->idlmav==1.1.0) (10.9.0.58)\n",
      "Requirement already satisfied: nvidia-curand-cu11==10.3.0.86 in /home/dev/ai/idlmav/.venv_temp/lib/python3.10/site-packages (from torch>=2.3.0->idlmav==1.1.0) (10.3.0.86)\n",
      "Requirement already satisfied: sympy==1.13.1 in /home/dev/ai/idlmav/.venv_temp/lib/python3.10/site-packages (from torch>=2.3.0->idlmav==1.1.0) (1.13.1)\n",
      "Requirement already satisfied: nvidia-cuda-runtime-cu11==11.8.89 in /home/dev/ai/idlmav/.venv_temp/lib/python3.10/site-packages (from torch>=2.3.0->idlmav==1.1.0) (11.8.89)\n",
      "Requirement already satisfied: nvidia-nvtx-cu11==11.8.86 in /home/dev/ai/idlmav/.venv_temp/lib/python3.10/site-packages (from torch>=2.3.0->idlmav==1.1.0) (11.8.86)\n",
      "Requirement already satisfied: nvidia-cuda-nvrtc-cu11==11.8.89 in /home/dev/ai/idlmav/.venv_temp/lib/python3.10/site-packages (from torch>=2.3.0->idlmav==1.1.0) (11.8.89)\n",
      "Requirement already satisfied: jinja2 in /home/dev/ai/idlmav/.venv_temp/lib/python3.10/site-packages (from torch>=2.3.0->idlmav==1.1.0) (3.1.4)\n",
      "Requirement already satisfied: networkx in /home/dev/ai/idlmav/.venv_temp/lib/python3.10/site-packages (from torch>=2.3.0->idlmav==1.1.0) (3.3)\n",
      "Requirement already satisfied: fsspec in /home/dev/ai/idlmav/.venv_temp/lib/python3.10/site-packages (from torch>=2.3.0->idlmav==1.1.0) (2024.6.1)\n",
      "Requirement already satisfied: triton==3.2.0 in /home/dev/ai/idlmav/.venv_temp/lib/python3.10/site-packages (from torch>=2.3.0->idlmav==1.1.0) (3.2.0)\n",
      "Requirement already satisfied: mpmath<1.4,>=1.1.0 in /home/dev/ai/idlmav/.venv_temp/lib/python3.10/site-packages (from sympy==1.13.1->torch>=2.3.0->idlmav==1.1.0) (1.3.0)\n",
      "Requirement already satisfied: ipython>=6.1.0 in /home/dev/ai/idlmav/.venv_temp/lib/python3.10/site-packages (from ipywidgets->idlmav==1.1.0) (8.33.0)\n",
      "Requirement already satisfied: comm>=0.1.3 in /home/dev/ai/idlmav/.venv_temp/lib/python3.10/site-packages (from ipywidgets->idlmav==1.1.0) (0.2.2)\n",
      "Collecting jupyterlab-widgets~=3.0.12\n",
      "  Using cached jupyterlab_widgets-3.0.13-py3-none-any.whl (214 kB)\n",
      "Requirement already satisfied: traitlets>=4.3.1 in /home/dev/ai/idlmav/.venv_temp/lib/python3.10/site-packages (from ipywidgets->idlmav==1.1.0) (5.14.3)\n",
      "Collecting widgetsnbextension~=4.0.12\n",
      "  Using cached widgetsnbextension-4.0.13-py3-none-any.whl (2.3 MB)\n",
      "Collecting fastjsonschema>=2.15\n",
      "  Using cached fastjsonschema-2.21.1-py3-none-any.whl (23 kB)\n",
      "Collecting jsonschema>=2.6\n",
      "  Using cached jsonschema-4.23.0-py3-none-any.whl (88 kB)\n",
      "Requirement already satisfied: jupyter-core!=5.0.*,>=4.12 in /home/dev/ai/idlmav/.venv_temp/lib/python3.10/site-packages (from nbformat->idlmav==1.1.0) (5.7.2)\n",
      "Requirement already satisfied: tenacity>=6.2.0 in /home/dev/ai/idlmav/.venv_temp/lib/python3.10/site-packages (from plotly->idlmav==1.1.0) (9.0.0)\n",
      "Requirement already satisfied: packaging in /home/dev/ai/idlmav/.venv_temp/lib/python3.10/site-packages (from plotly->idlmav==1.1.0) (24.2)\n",
      "Requirement already satisfied: stack_data in /home/dev/ai/idlmav/.venv_temp/lib/python3.10/site-packages (from ipython>=6.1.0->ipywidgets->idlmav==1.1.0) (0.6.3)\n",
      "Requirement already satisfied: jedi>=0.16 in /home/dev/ai/idlmav/.venv_temp/lib/python3.10/site-packages (from ipython>=6.1.0->ipywidgets->idlmav==1.1.0) (0.19.2)\n",
      "Requirement already satisfied: pexpect>4.3 in /home/dev/ai/idlmav/.venv_temp/lib/python3.10/site-packages (from ipython>=6.1.0->ipywidgets->idlmav==1.1.0) (4.9.0)\n",
      "Requirement already satisfied: pygments>=2.4.0 in /home/dev/ai/idlmav/.venv_temp/lib/python3.10/site-packages (from ipython>=6.1.0->ipywidgets->idlmav==1.1.0) (2.19.1)\n",
      "Requirement already satisfied: decorator in /home/dev/ai/idlmav/.venv_temp/lib/python3.10/site-packages (from ipython>=6.1.0->ipywidgets->idlmav==1.1.0) (5.2.1)\n",
      "Requirement already satisfied: matplotlib-inline in /home/dev/ai/idlmav/.venv_temp/lib/python3.10/site-packages (from ipython>=6.1.0->ipywidgets->idlmav==1.1.0) (0.1.7)\n",
      "Requirement already satisfied: prompt_toolkit<3.1.0,>=3.0.41 in /home/dev/ai/idlmav/.venv_temp/lib/python3.10/site-packages (from ipython>=6.1.0->ipywidgets->idlmav==1.1.0) (3.0.50)\n",
      "Requirement already satisfied: exceptiongroup in /home/dev/ai/idlmav/.venv_temp/lib/python3.10/site-packages (from ipython>=6.1.0->ipywidgets->idlmav==1.1.0) (1.2.2)\n",
      "Collecting attrs>=22.2.0\n",
      "  Using cached attrs-25.1.0-py3-none-any.whl (63 kB)\n",
      "Collecting rpds-py>=0.7.1\n",
      "  Using cached rpds_py-0.23.1-cp310-cp310-manylinux_2_17_x86_64.manylinux2014_x86_64.whl (386 kB)\n",
      "Collecting jsonschema-specifications>=2023.03.6\n",
      "  Using cached jsonschema_specifications-2024.10.1-py3-none-any.whl (18 kB)\n",
      "Collecting referencing>=0.28.4\n",
      "  Using cached referencing-0.36.2-py3-none-any.whl (26 kB)\n",
      "Requirement already satisfied: platformdirs>=2.5 in /home/dev/ai/idlmav/.venv_temp/lib/python3.10/site-packages (from jupyter-core!=5.0.*,>=4.12->nbformat->idlmav==1.1.0) (4.3.6)\n",
      "Requirement already satisfied: MarkupSafe>=2.0 in /home/dev/ai/idlmav/.venv_temp/lib/python3.10/site-packages (from jinja2->torch>=2.3.0->idlmav==1.1.0) (2.1.5)\n",
      "Requirement already satisfied: parso<0.9.0,>=0.8.4 in /home/dev/ai/idlmav/.venv_temp/lib/python3.10/site-packages (from jedi>=0.16->ipython>=6.1.0->ipywidgets->idlmav==1.1.0) (0.8.4)\n",
      "Requirement already satisfied: ptyprocess>=0.5 in /home/dev/ai/idlmav/.venv_temp/lib/python3.10/site-packages (from pexpect>4.3->ipython>=6.1.0->ipywidgets->idlmav==1.1.0) (0.7.0)\n",
      "Requirement already satisfied: wcwidth in /home/dev/ai/idlmav/.venv_temp/lib/python3.10/site-packages (from prompt_toolkit<3.1.0,>=3.0.41->ipython>=6.1.0->ipywidgets->idlmav==1.1.0) (0.2.13)\n",
      "Requirement already satisfied: pure-eval in /home/dev/ai/idlmav/.venv_temp/lib/python3.10/site-packages (from stack_data->ipython>=6.1.0->ipywidgets->idlmav==1.1.0) (0.2.3)\n",
      "Requirement already satisfied: executing>=1.2.0 in /home/dev/ai/idlmav/.venv_temp/lib/python3.10/site-packages (from stack_data->ipython>=6.1.0->ipywidgets->idlmav==1.1.0) (2.2.0)\n",
      "Requirement already satisfied: asttokens>=2.1.0 in /home/dev/ai/idlmav/.venv_temp/lib/python3.10/site-packages (from stack_data->ipython>=6.1.0->ipywidgets->idlmav==1.1.0) (3.0.0)\n",
      "Building wheels for collected packages: idlmav\n",
      "  Building wheel for idlmav (pyproject.toml) ... \u001b[?25ldone\n",
      "\u001b[?25h  Created wheel for idlmav: filename=idlmav-1.1.0-py3-none-any.whl size=55589 sha256=67883668826b0c5fa186709400a3983f90daf47b90de2d1b8fec6ed0dd20695f\n",
      "  Stored in directory: /tmp/pip-ephem-wheel-cache-a_xh6ugf/wheels/97/9d/d6/fbe97a64e507f33056fa5fe3fbe10f80d69cc80ddd911255dd\n",
      "Successfully built idlmav\n",
      "Installing collected packages: munkres, fastjsonschema, widgetsnbextension, tabulate, rpds-py, jupyterlab-widgets, attrs, referencing, jsonschema-specifications, ipywidgets, jsonschema, nbformat, idlmav\n",
      "Successfully installed attrs-25.1.0 fastjsonschema-2.21.1 idlmav-1.1.0 ipywidgets-8.1.5 jsonschema-4.23.0 jsonschema-specifications-2024.10.1 jupyterlab-widgets-3.0.13 munkres-1.1.4 nbformat-5.10.4 referencing-0.36.2 rpds-py-0.23.1 tabulate-0.9.0 widgetsnbextension-4.0.13\n",
      "Note: you may need to restart the kernel to use updated packages.\n"
     ]
    }
   ],
   "source": [
    "%pip install .."
   ]
  },
  {
   "cell_type": "code",
   "execution_count": 1,
   "metadata": {},
   "outputs": [
    {
     "data": {
      "text/html": [
       "        <script type=\"text/javascript\">\n",
       "        window.PlotlyConfig = {MathJaxConfig: 'local'};\n",
       "        if (window.MathJax && window.MathJax.Hub && window.MathJax.Hub.Config) {window.MathJax.Hub.Config({SVG: {font: \"STIX-Web\"}});}\n",
       "        if (typeof require !== 'undefined') {\n",
       "        require.undef(\"plotly\");\n",
       "        requirejs.config({\n",
       "            paths: {\n",
       "                'plotly': ['https://cdn.plot.ly/plotly-2.35.2.min']\n",
       "            }\n",
       "        });\n",
       "        require(['plotly'], function(Plotly) {\n",
       "            window._Plotly = Plotly;\n",
       "        });\n",
       "        }\n",
       "        </script>\n",
       "        "
      ]
     },
     "metadata": {},
     "output_type": "display_data"
    },
    {
     "data": {
      "text/html": [
       "<div>                            <div id=\"27999197-4a79-4f83-854c-4fa8394babe0\" class=\"plotly-graph-div\" style=\"height:525px; width:100%;\"></div>            <script type=\"text/javascript\">                require([\"plotly\"], function(Plotly) {                    window.PLOTLYENV=window.PLOTLYENV || {};                                    if (document.getElementById(\"27999197-4a79-4f83-854c-4fa8394babe0\")) {                    Plotly.newPlot(                        \"27999197-4a79-4f83-854c-4fa8394babe0\",                        [{\"hoverinfo\":\"skip\",\"line\":{\"color\":\"gray\",\"width\":1},\"mode\":\"lines\",\"showlegend\":false,\"x\":[0.0,0.0,null,0.0,0.0,null,0.0,0.0,null,0.0,0.0,null,0.0,0.0,null,0.0,0.0,null,0.0,0.0,null,0.0,0.0,null,0.0,0.0,null,0.0,0.0,null,0.0,0.4,0.4,0.0,null,0.0,0.0,null,0.0,0.0,null,0.0,0.0,null,0.0,0.0,null,0.0,0.0,null,0.0,0.0,null,0.0,0.0,null,0.0,-0.4,-0.4,0.0,null,0.0,0.0,null,0.0,0.0,null,0.0,0.0,null,0.0,0.0,null,0.0,0.0,null,0.0,0.0,null,0.0,1.0,null,1.0,1.0,null,0.0,0.0,null,1.0,0.0,null,0.0,0.0,null,0.0,0.0,null,0.0,0.0,null,0.0,0.0,null,0.0,0.0,null,0.0,0.0,null,0.0,0.0,null,0.0,-0.4,-0.4,0.0,null,0.0,0.0,null,0.0,0.0,null,0.0,0.0,null,0.0,0.0,null,0.0,0.0,null,0.0,0.0,null,0.0,1.0,null,1.0,1.0,null,0.0,0.0,null,1.0,0.0,null,0.0,0.0,null,0.0,0.0,null,0.0,0.0,null,0.0,0.0,null,0.0,0.0,null,0.0,0.0,null,0.0,0.0,null,0.0,-0.4,-0.4,0.0,null,0.0,0.0,null,0.0,0.0,null,0.0,0.0,null,0.0,0.0,null,0.0,0.0,null,0.0,0.0,null,0.0,1.0,null,1.0,1.0,null,0.0,0.0,null,1.0,0.0,null,0.0,0.0,null,0.0,0.0,null,0.0,0.0,null,0.0,0.0,null,0.0,0.0,null,0.0,0.0,null,0.0,0.0,null,0.0,-0.4,-0.4,0.0,null,0.0,0.0,null,0.0,0.0,null,0.0,0.0,null,0.0,0.0,null,0.0,0.0],\"y\":[0,1,null,1,1.15,null,1.15,1.3,null,1.3,1.45,null,1.45,2,null,2,2.15,null,2.15,2.3,null,2.3,3,null,3,3.15,null,3.15,4,null,1.45,1.95,3.5,4,null,4,4.15,null,4.15,5,null,5,5.15,null,5.15,5.3,null,5.3,6,null,6,6.15,null,6.15,7,null,4.15,4.65,6.5,7,null,7,7.15,null,7.15,8,null,8,8.15,null,8.15,8.3,null,8.3,9,null,9,9.15,null,7.15,9,null,9,9.15,null,9.15,10,null,9.15,10,null,10,10.15,null,10.15,11,null,11,11.15,null,11.15,11.3,null,11.3,12,null,12,12.15,null,12.15,13,null,10.15,10.65,12.5,13,null,13,13.15,null,13.15,14,null,14,14.15,null,14.15,14.3,null,14.3,15,null,15,15.15,null,13.15,15,null,15,15.15,null,15.15,16,null,15.15,16,null,16,16.15,null,16.15,17,null,17,17.15,null,17.15,17.3,null,17.3,18,null,18,18.15,null,18.15,19,null,16.15,16.65,18.5,19,null,19,19.15,null,19.15,20,null,20,20.15,null,20.15,20.3,null,20.3,21,null,21,21.15,null,19.15,21,null,21,21.15,null,21.15,22,null,21.15,22,null,22,22.15,null,22.15,23,null,23,23.15,null,23.15,23.3,null,23.3,24,null,24,24.15,null,24.15,25,null,22.15,22.65,24.5,25,null,25,25.15,null,25.15,25.3,null,25.3,25.45,null,25.45,26,null,26,27],\"type\":\"scatter\",\"xaxis\":\"x2\",\"yaxis\":\"y2\"},{\"hoverinfo\":\"skip\",\"line\":{\"color\":\"gray\",\"width\":1},\"mode\":\"lines\",\"showlegend\":false,\"x\":[0.0,0.0,null,0.0,0.0,null,0.0,0.0,null,0.0,0.0,null,0.0,0.0,null,0.0,0.0,null,0.0,0.0,null,0.0,0.0,null,0.0,0.0,null,0.0,0.0,null,0.0,0.4,0.4,0.0,null,0.0,0.0,null,0.0,0.0,null,0.0,0.0,null,0.0,0.0,null,0.0,0.0,null,0.0,0.0,null,0.0,0.0,null,0.0,-0.4,-0.4,0.0,null,0.0,0.0,null,0.0,0.0,null,0.0,0.0,null,0.0,0.0,null,0.0,0.0,null,0.0,0.0,null,0.0,1.0,null,1.0,1.0,null,0.0,0.0,null,1.0,0.0,null,0.0,0.0,null,0.0,0.0,null,0.0,0.0,null,0.0,0.0,null,0.0,0.0,null,0.0,0.0,null,0.0,0.0,null,0.0,-0.4,-0.4,0.0,null,0.0,0.0,null,0.0,0.0,null,0.0,0.0,null,0.0,0.0,null,0.0,0.0,null,0.0,0.0,null,0.0,1.0,null,1.0,1.0,null,0.0,0.0,null,1.0,0.0,null,0.0,0.0,null,0.0,0.0,null,0.0,0.0,null,0.0,0.0,null,0.0,0.0,null,0.0,0.0,null,0.0,0.0,null,0.0,-0.4,-0.4,0.0,null,0.0,0.0,null,0.0,0.0,null,0.0,0.0,null,0.0,0.0,null,0.0,0.0,null,0.0,0.0,null,0.0,1.0,null,1.0,1.0,null,0.0,0.0,null,1.0,0.0,null,0.0,0.0,null,0.0,0.0,null,0.0,0.0,null,0.0,0.0,null,0.0,0.0,null,0.0,0.0,null,0.0,0.0,null,0.0,-0.4,-0.4,0.0,null,0.0,0.0,null,0.0,0.0,null,0.0,0.0,null,0.0,0.0,null,0.0,0.0],\"y\":[0,1,null,1,1.15,null,1.15,1.3,null,1.3,1.45,null,1.45,2,null,2,2.15,null,2.15,2.3,null,2.3,3,null,3,3.15,null,3.15,4,null,1.45,1.95,3.5,4,null,4,4.15,null,4.15,5,null,5,5.15,null,5.15,5.3,null,5.3,6,null,6,6.15,null,6.15,7,null,4.15,4.65,6.5,7,null,7,7.15,null,7.15,8,null,8,8.15,null,8.15,8.3,null,8.3,9,null,9,9.15,null,7.15,9,null,9,9.15,null,9.15,10,null,9.15,10,null,10,10.15,null,10.15,11,null,11,11.15,null,11.15,11.3,null,11.3,12,null,12,12.15,null,12.15,13,null,10.15,10.65,12.5,13,null,13,13.15,null,13.15,14,null,14,14.15,null,14.15,14.3,null,14.3,15,null,15,15.15,null,13.15,15,null,15,15.15,null,15.15,16,null,15.15,16,null,16,16.15,null,16.15,17,null,17,17.15,null,17.15,17.3,null,17.3,18,null,18,18.15,null,18.15,19,null,16.15,16.65,18.5,19,null,19,19.15,null,19.15,20,null,20,20.15,null,20.15,20.3,null,20.3,21,null,21,21.15,null,19.15,21,null,21,21.15,null,21.15,22,null,21.15,22,null,22,22.15,null,22.15,23,null,23,23.15,null,23.15,23.3,null,23.3,24,null,24,24.15,null,24.15,25,null,22.15,22.65,24.5,25,null,25,25.15,null,25.15,25.3,null,25.3,25.45,null,25.45,26,null,26,27],\"type\":\"scatter\",\"xaxis\":\"x\",\"yaxis\":\"y\"},{\"customdata\":[[\"x\",\"input\",\"(16,3,160,160)\",\"0\",\"0\",\"()\",\"{}\"],[\"conv1\",\"nn.Conv2d\",\"(16,64,80,80)\",\"9 408\",\"1 926 758 400\",\"(x,)\",\"{}\"],[\"bn1\",\"nn.BatchNorm2d\",\"(16,64,80,80)\",\"128\",\"0\",\"(conv1,)\",\"{}\"],[\"relu\",\"nn.ReLU\",\"(16,64,80,80)\",\"0\",\"0\",\"(bn1,)\",\"{}\"],[\"maxpool\",\"nn.MaxPool2d\",\"(16,64,40,40)\",\"0\",\"0\",\"(relu,)\",\"{}\"],[\"layer1_0_conv1\",\"nn.Conv2d\",\"(16,64,40,40)\",\"36 864\",\"1 887 436 800\",\"(maxpool,)\",\"{}\"],[\"layer1_0_bn1\",\"nn.BatchNorm2d\",\"(16,64,40,40)\",\"128\",\"0\",\"(layer1_0_conv1,)\",\"{}\"],[\"layer1_0_relu\",\"nn.ReLU\",\"(16,64,40,40)\",\"0\",\"0\",\"(layer1_0_bn1,)\",\"{}\"],[\"layer1_0_conv2\",\"nn.Conv2d\",\"(16,64,40,40)\",\"36 864\",\"1 887 436 800\",\"(layer1_0_relu,)\",\"{}\"],[\"layer1_0_bn2\",\"nn.BatchNorm2d\",\"(16,64,40,40)\",\"128\",\"0\",\"(layer1_0_conv2,)\",\"{}\"],[\"add\",\"add()\",\"(16,64,40,40)\",\"0\",\"1 638 400\",\"(layer1_0_bn2, maxpool)\",\"{}\"],[\"layer1_0_relu_1\",\"nn.ReLU\",\"(16,64,40,40)\",\"0\",\"0\",\"(add,)\",\"{}\"],[\"layer1_1_conv1\",\"nn.Conv2d\",\"(16,64,40,40)\",\"36 864\",\"1 887 436 800\",\"(layer1_0_relu_1,)\",\"{}\"],[\"layer1_1_bn1\",\"nn.BatchNorm2d\",\"(16,64,40,40)\",\"128\",\"0\",\"(layer1_1_conv1,)\",\"{}\"],[\"layer1_1_relu\",\"nn.ReLU\",\"(16,64,40,40)\",\"0\",\"0\",\"(layer1_1_bn1,)\",\"{}\"],[\"layer1_1_conv2\",\"nn.Conv2d\",\"(16,64,40,40)\",\"36 864\",\"1 887 436 800\",\"(layer1_1_relu,)\",\"{}\"],[\"layer1_1_bn2\",\"nn.BatchNorm2d\",\"(16,64,40,40)\",\"128\",\"0\",\"(layer1_1_conv2,)\",\"{}\"],[\"add_1\",\"add()\",\"(16,64,40,40)\",\"0\",\"1 638 400\",\"(layer1_1_bn2, layer1_0_relu_1)\",\"{}\"],[\"layer1_1_relu_1\",\"nn.ReLU\",\"(16,64,40,40)\",\"0\",\"0\",\"(add_1,)\",\"{}\"],[\"layer2_0_conv1\",\"nn.Conv2d\",\"(16,128,20,20)\",\"73 728\",\"943 718 400\",\"(layer1_1_relu_1,)\",\"{}\"],[\"layer2_0_bn1\",\"nn.BatchNorm2d\",\"(16,128,20,20)\",\"256\",\"0\",\"(layer2_0_conv1,)\",\"{}\"],[\"layer2_0_relu\",\"nn.ReLU\",\"(16,128,20,20)\",\"0\",\"0\",\"(layer2_0_bn1,)\",\"{}\"],[\"layer2_0_conv2\",\"nn.Conv2d\",\"(16,128,20,20)\",\"147 456\",\"1 887 436 800\",\"(layer2_0_relu,)\",\"{}\"],[\"layer2_0_bn2\",\"nn.BatchNorm2d\",\"(16,128,20,20)\",\"256\",\"0\",\"(layer2_0_conv2,)\",\"{}\"],[\"layer2_0_downsample_0\",\"nn.Conv2d\",\"(16,128,20,20)\",\"8 192\",\"104 857 600\",\"(layer1_1_relu_1,)\",\"{}\"],[\"layer2_0_downsample_1\",\"nn.BatchNorm2d\",\"(16,128,20,20)\",\"256\",\"0\",\"(layer2_0_downsample_0,)\",\"{}\"],[\"add_2\",\"add()\",\"(16,128,20,20)\",\"0\",\"819 200\",\"(layer2_0_bn2, layer2_0_downsample_1)\",\"{}\"],[\"layer2_0_relu_1\",\"nn.ReLU\",\"(16,128,20,20)\",\"0\",\"0\",\"(add_2,)\",\"{}\"],[\"layer2_1_conv1\",\"nn.Conv2d\",\"(16,128,20,20)\",\"147 456\",\"1 887 436 800\",\"(layer2_0_relu_1,)\",\"{}\"],[\"layer2_1_bn1\",\"nn.BatchNorm2d\",\"(16,128,20,20)\",\"256\",\"0\",\"(layer2_1_conv1,)\",\"{}\"],[\"layer2_1_relu\",\"nn.ReLU\",\"(16,128,20,20)\",\"0\",\"0\",\"(layer2_1_bn1,)\",\"{}\"],[\"layer2_1_conv2\",\"nn.Conv2d\",\"(16,128,20,20)\",\"147 456\",\"1 887 436 800\",\"(layer2_1_relu,)\",\"{}\"],[\"layer2_1_bn2\",\"nn.BatchNorm2d\",\"(16,128,20,20)\",\"256\",\"0\",\"(layer2_1_conv2,)\",\"{}\"],[\"add_3\",\"add()\",\"(16,128,20,20)\",\"0\",\"819 200\",\"(layer2_1_bn2, layer2_0_relu_1)\",\"{}\"],[\"layer2_1_relu_1\",\"nn.ReLU\",\"(16,128,20,20)\",\"0\",\"0\",\"(add_3,)\",\"{}\"],[\"layer3_0_conv1\",\"nn.Conv2d\",\"(16,256,10,10)\",\"294 912\",\"943 718 400\",\"(layer2_1_relu_1,)\",\"{}\"],[\"layer3_0_bn1\",\"nn.BatchNorm2d\",\"(16,256,10,10)\",\"512\",\"0\",\"(layer3_0_conv1,)\",\"{}\"],[\"layer3_0_relu\",\"nn.ReLU\",\"(16,256,10,10)\",\"0\",\"0\",\"(layer3_0_bn1,)\",\"{}\"],[\"layer3_0_conv2\",\"nn.Conv2d\",\"(16,256,10,10)\",\"589 824\",\"1 887 436 800\",\"(layer3_0_relu,)\",\"{}\"],[\"layer3_0_bn2\",\"nn.BatchNorm2d\",\"(16,256,10,10)\",\"512\",\"0\",\"(layer3_0_conv2,)\",\"{}\"],[\"layer3_0_downsample_0\",\"nn.Conv2d\",\"(16,256,10,10)\",\"32 768\",\"104 857 600\",\"(layer2_1_relu_1,)\",\"{}\"],[\"layer3_0_downsample_1\",\"nn.BatchNorm2d\",\"(16,256,10,10)\",\"512\",\"0\",\"(layer3_0_downsample_0,)\",\"{}\"],[\"add_4\",\"add()\",\"(16,256,10,10)\",\"0\",\"409 600\",\"(layer3_0_bn2, layer3_0_downsample_1)\",\"{}\"],[\"layer3_0_relu_1\",\"nn.ReLU\",\"(16,256,10,10)\",\"0\",\"0\",\"(add_4,)\",\"{}\"],[\"layer3_1_conv1\",\"nn.Conv2d\",\"(16,256,10,10)\",\"589 824\",\"1 887 436 800\",\"(layer3_0_relu_1,)\",\"{}\"],[\"layer3_1_bn1\",\"nn.BatchNorm2d\",\"(16,256,10,10)\",\"512\",\"0\",\"(layer3_1_conv1,)\",\"{}\"],[\"layer3_1_relu\",\"nn.ReLU\",\"(16,256,10,10)\",\"0\",\"0\",\"(layer3_1_bn1,)\",\"{}\"],[\"layer3_1_conv2\",\"nn.Conv2d\",\"(16,256,10,10)\",\"589 824\",\"1 887 436 800\",\"(layer3_1_relu,)\",\"{}\"],[\"layer3_1_bn2\",\"nn.BatchNorm2d\",\"(16,256,10,10)\",\"512\",\"0\",\"(layer3_1_conv2,)\",\"{}\"],[\"add_5\",\"add()\",\"(16,256,10,10)\",\"0\",\"409 600\",\"(layer3_1_bn2, layer3_0_relu_1)\",\"{}\"],[\"layer3_1_relu_1\",\"nn.ReLU\",\"(16,256,10,10)\",\"0\",\"0\",\"(add_5,)\",\"{}\"],[\"layer4_0_conv1\",\"nn.Conv2d\",\"(16,512,5,5)\",\"1 179 648\",\"943 718 400\",\"(layer3_1_relu_1,)\",\"{}\"],[\"layer4_0_bn1\",\"nn.BatchNorm2d\",\"(16,512,5,5)\",\"1 024\",\"0\",\"(layer4_0_conv1,)\",\"{}\"],[\"layer4_0_relu\",\"nn.ReLU\",\"(16,512,5,5)\",\"0\",\"0\",\"(layer4_0_bn1,)\",\"{}\"],[\"layer4_0_conv2\",\"nn.Conv2d\",\"(16,512,5,5)\",\"2 359 296\",\"1 887 436 800\",\"(layer4_0_relu,)\",\"{}\"],[\"layer4_0_bn2\",\"nn.BatchNorm2d\",\"(16,512,5,5)\",\"1 024\",\"0\",\"(layer4_0_conv2,)\",\"{}\"],[\"layer4_0_downsample_0\",\"nn.Conv2d\",\"(16,512,5,5)\",\"131 072\",\"104 857 600\",\"(layer3_1_relu_1,)\",\"{}\"],[\"layer4_0_downsample_1\",\"nn.BatchNorm2d\",\"(16,512,5,5)\",\"1 024\",\"0\",\"(layer4_0_downsample_0,)\",\"{}\"],[\"add_6\",\"add()\",\"(16,512,5,5)\",\"0\",\"204 800\",\"(layer4_0_bn2, layer4_0_downsample_1)\",\"{}\"],[\"layer4_0_relu_1\",\"nn.ReLU\",\"(16,512,5,5)\",\"0\",\"0\",\"(add_6,)\",\"{}\"],[\"layer4_1_conv1\",\"nn.Conv2d\",\"(16,512,5,5)\",\"2 359 296\",\"1 887 436 800\",\"(layer4_0_relu_1,)\",\"{}\"],[\"layer4_1_bn1\",\"nn.BatchNorm2d\",\"(16,512,5,5)\",\"1 024\",\"0\",\"(layer4_1_conv1,)\",\"{}\"],[\"layer4_1_relu\",\"nn.ReLU\",\"(16,512,5,5)\",\"0\",\"0\",\"(layer4_1_bn1,)\",\"{}\"],[\"layer4_1_conv2\",\"nn.Conv2d\",\"(16,512,5,5)\",\"2 359 296\",\"1 887 436 800\",\"(layer4_1_relu,)\",\"{}\"],[\"layer4_1_bn2\",\"nn.BatchNorm2d\",\"(16,512,5,5)\",\"1 024\",\"0\",\"(layer4_1_conv2,)\",\"{}\"],[\"add_7\",\"add()\",\"(16,512,5,5)\",\"0\",\"204 800\",\"(layer4_1_bn2, layer4_0_relu_1)\",\"{}\"],[\"layer4_1_relu_1\",\"nn.ReLU\",\"(16,512,5,5)\",\"0\",\"0\",\"(add_7,)\",\"{}\"],[\"avgpool\",\"nn.AdaptiveAvgPool2d\",\"(16,512,1,1)\",\"0\",\"0\",\"(layer4_1_relu_1,)\",\"{}\"],[\"flatten\",\"flatten()\",\"(16,512)\",\"0\",\"0\",\"(avgpool, 1)\",\"{}\"],[\"fc\",\"nn.Linear\",\"(16,1000)\",\"513 000\",\"16 384 000\",\"(flatten,)\",\"{}\"],[\"output\",\"output\",\"(16,1000)\",\"0\",\"0\",\"(fc,)\",\"{}\"]],\"hovertemplate\":\"Name: %{customdata[0]}\\u003cbr\\u003eOperation: %{customdata[1]}\\u003cbr\\u003eActivations: %{customdata[2]}\\u003cbr\\u003eParameters: %{customdata[3]}\\u003cbr\\u003eFLOPS: %{customdata[4]}\\u003cbr\\u003e\\u003cbr\\u003eargs: %{customdata[5]}\\u003cbr\\u003ekwargs: %{customdata[6]}\\u003cbr\\u003e\\u003cextra\\u003e\\u003c\\u002fextra\\u003e\",\"marker\":{\"color\":[\"#222A2A\",\"#00A08B\",\"#EB663B\",\"#1616A7\",\"#DA60CA\",\"#00A08B\",\"#EB663B\",\"#1616A7\",\"#00A08B\",\"#EB663B\",\"#778AAE\",\"#1616A7\",\"#00A08B\",\"#EB663B\",\"#1616A7\",\"#00A08B\",\"#EB663B\",\"#778AAE\",\"#1616A7\",\"#00A08B\",\"#EB663B\",\"#1616A7\",\"#00A08B\",\"#EB663B\",\"#00A08B\",\"#EB663B\",\"#778AAE\",\"#1616A7\",\"#00A08B\",\"#EB663B\",\"#1616A7\",\"#00A08B\",\"#EB663B\",\"#778AAE\",\"#1616A7\",\"#00A08B\",\"#EB663B\",\"#1616A7\",\"#00A08B\",\"#EB663B\",\"#00A08B\",\"#EB663B\",\"#778AAE\",\"#1616A7\",\"#00A08B\",\"#EB663B\",\"#1616A7\",\"#00A08B\",\"#EB663B\",\"#778AAE\",\"#1616A7\",\"#00A08B\",\"#EB663B\",\"#1616A7\",\"#00A08B\",\"#EB663B\",\"#00A08B\",\"#EB663B\",\"#778AAE\",\"#1616A7\",\"#00A08B\",\"#EB663B\",\"#1616A7\",\"#00A08B\",\"#EB663B\",\"#778AAE\",\"#1616A7\",\"#DA60CA\",\"#778AAE\",\"#2E91E5\",\"#222A2A\"],\"colorscale\":[[0.0,\"rgb(0,0,255)\"],[1.0,\"rgb(255,0,0)\"]],\"size\":[6.0,11.250279597842884,6.0,6.0,6.0,12.91881573172255,6.0,6.0,12.91881573172255,6.0,6.0,6.0,12.91881573172255,6.0,6.0,12.91881573172255,6.0,6.0,6.0,13.765679776435459,6.846864044712908,6.0,14.612543821148368,6.846864044712908,11.08118426827745,6.846864044712908,6.0,6.0,14.612543821148368,6.846864044712908,6.0,14.612543821148368,6.846864044712908,6.0,6.0,15.459407865861275,7.693728089425816,6.0,16.306271910574182,7.693728089425816,12.774912357703267,7.693728089425816,6.0,6.0,16.306271910574182,7.693728089425816,6.0,16.306271910574182,7.693728089425816,6.0,6.0,17.15313595528709,8.540592134138725,6.0,18.0,8.540592134138725,14.468640447129083,8.540592134138725,6.0,6.0,18.0,8.540592134138725,6.0,18.0,8.540592134138725,6.0,6.0,6.0,6.0,16.13577641297401,6.0]},\"mode\":\"markers\",\"showlegend\":false,\"x\":[0.0,0.0,0.0,0.0,0.0,0.0,0.0,0.0,0.0,0.0,0.0,0.0,0.0,0.0,0.0,0.0,0.0,0.0,0.0,0.0,0.0,0.0,0.0,0.0,1.0,1.0,0.0,0.0,0.0,0.0,0.0,0.0,0.0,0.0,0.0,0.0,0.0,0.0,0.0,0.0,1.0,1.0,0.0,0.0,0.0,0.0,0.0,0.0,0.0,0.0,0.0,0.0,0.0,0.0,0.0,0.0,1.0,1.0,0.0,0.0,0.0,0.0,0.0,0.0,0.0,0.0,0.0,0.0,0.0,0.0,0.0],\"y\":[0,1,1.15,1.3,1.45,2,2.15,2.3,3,3.15,4,4.15,5,5.15,5.3,6,6.15,7,7.15,8,8.15,8.3,9,9.15,9,9.15,10,10.15,11,11.15,11.3,12,12.15,13,13.15,14,14.15,14.3,15,15.15,15,15.15,16,16.15,17,17.15,17.3,18,18.15,19,19.15,20,20.15,20.3,21,21.15,21,21.15,22,22.15,23,23.15,23.3,24,24.15,25,25.15,25.3,25.45,26,27],\"type\":\"scatter\",\"xaxis\":\"x2\",\"yaxis\":\"y2\"},{\"customdata\":[[\"x\",\"input\",\"(16,3,160,160)\",\"0\",\"0\",\"()\",\"{}\"],[\"conv1\",\"nn.Conv2d\",\"(16,64,80,80)\",\"9 408\",\"1 926 758 400\",\"(x,)\",\"{}\"],[\"bn1\",\"nn.BatchNorm2d\",\"(16,64,80,80)\",\"128\",\"0\",\"(conv1,)\",\"{}\"],[\"relu\",\"nn.ReLU\",\"(16,64,80,80)\",\"0\",\"0\",\"(bn1,)\",\"{}\"],[\"maxpool\",\"nn.MaxPool2d\",\"(16,64,40,40)\",\"0\",\"0\",\"(relu,)\",\"{}\"],[\"layer1_0_conv1\",\"nn.Conv2d\",\"(16,64,40,40)\",\"36 864\",\"1 887 436 800\",\"(maxpool,)\",\"{}\"],[\"layer1_0_bn1\",\"nn.BatchNorm2d\",\"(16,64,40,40)\",\"128\",\"0\",\"(layer1_0_conv1,)\",\"{}\"],[\"layer1_0_relu\",\"nn.ReLU\",\"(16,64,40,40)\",\"0\",\"0\",\"(layer1_0_bn1,)\",\"{}\"],[\"layer1_0_conv2\",\"nn.Conv2d\",\"(16,64,40,40)\",\"36 864\",\"1 887 436 800\",\"(layer1_0_relu,)\",\"{}\"],[\"layer1_0_bn2\",\"nn.BatchNorm2d\",\"(16,64,40,40)\",\"128\",\"0\",\"(layer1_0_conv2,)\",\"{}\"],[\"add\",\"add()\",\"(16,64,40,40)\",\"0\",\"1 638 400\",\"(layer1_0_bn2, maxpool)\",\"{}\"],[\"layer1_0_relu_1\",\"nn.ReLU\",\"(16,64,40,40)\",\"0\",\"0\",\"(add,)\",\"{}\"],[\"layer1_1_conv1\",\"nn.Conv2d\",\"(16,64,40,40)\",\"36 864\",\"1 887 436 800\",\"(layer1_0_relu_1,)\",\"{}\"],[\"layer1_1_bn1\",\"nn.BatchNorm2d\",\"(16,64,40,40)\",\"128\",\"0\",\"(layer1_1_conv1,)\",\"{}\"],[\"layer1_1_relu\",\"nn.ReLU\",\"(16,64,40,40)\",\"0\",\"0\",\"(layer1_1_bn1,)\",\"{}\"],[\"layer1_1_conv2\",\"nn.Conv2d\",\"(16,64,40,40)\",\"36 864\",\"1 887 436 800\",\"(layer1_1_relu,)\",\"{}\"],[\"layer1_1_bn2\",\"nn.BatchNorm2d\",\"(16,64,40,40)\",\"128\",\"0\",\"(layer1_1_conv2,)\",\"{}\"],[\"add_1\",\"add()\",\"(16,64,40,40)\",\"0\",\"1 638 400\",\"(layer1_1_bn2, layer1_0_relu_1)\",\"{}\"],[\"layer1_1_relu_1\",\"nn.ReLU\",\"(16,64,40,40)\",\"0\",\"0\",\"(add_1,)\",\"{}\"],[\"layer2_0_conv1\",\"nn.Conv2d\",\"(16,128,20,20)\",\"73 728\",\"943 718 400\",\"(layer1_1_relu_1,)\",\"{}\"],[\"layer2_0_bn1\",\"nn.BatchNorm2d\",\"(16,128,20,20)\",\"256\",\"0\",\"(layer2_0_conv1,)\",\"{}\"],[\"layer2_0_relu\",\"nn.ReLU\",\"(16,128,20,20)\",\"0\",\"0\",\"(layer2_0_bn1,)\",\"{}\"],[\"layer2_0_conv2\",\"nn.Conv2d\",\"(16,128,20,20)\",\"147 456\",\"1 887 436 800\",\"(layer2_0_relu,)\",\"{}\"],[\"layer2_0_bn2\",\"nn.BatchNorm2d\",\"(16,128,20,20)\",\"256\",\"0\",\"(layer2_0_conv2,)\",\"{}\"],[\"layer2_0_downsample_0\",\"nn.Conv2d\",\"(16,128,20,20)\",\"8 192\",\"104 857 600\",\"(layer1_1_relu_1,)\",\"{}\"],[\"layer2_0_downsample_1\",\"nn.BatchNorm2d\",\"(16,128,20,20)\",\"256\",\"0\",\"(layer2_0_downsample_0,)\",\"{}\"],[\"add_2\",\"add()\",\"(16,128,20,20)\",\"0\",\"819 200\",\"(layer2_0_bn2, layer2_0_downsample_1)\",\"{}\"],[\"layer2_0_relu_1\",\"nn.ReLU\",\"(16,128,20,20)\",\"0\",\"0\",\"(add_2,)\",\"{}\"],[\"layer2_1_conv1\",\"nn.Conv2d\",\"(16,128,20,20)\",\"147 456\",\"1 887 436 800\",\"(layer2_0_relu_1,)\",\"{}\"],[\"layer2_1_bn1\",\"nn.BatchNorm2d\",\"(16,128,20,20)\",\"256\",\"0\",\"(layer2_1_conv1,)\",\"{}\"],[\"layer2_1_relu\",\"nn.ReLU\",\"(16,128,20,20)\",\"0\",\"0\",\"(layer2_1_bn1,)\",\"{}\"],[\"layer2_1_conv2\",\"nn.Conv2d\",\"(16,128,20,20)\",\"147 456\",\"1 887 436 800\",\"(layer2_1_relu,)\",\"{}\"],[\"layer2_1_bn2\",\"nn.BatchNorm2d\",\"(16,128,20,20)\",\"256\",\"0\",\"(layer2_1_conv2,)\",\"{}\"],[\"add_3\",\"add()\",\"(16,128,20,20)\",\"0\",\"819 200\",\"(layer2_1_bn2, layer2_0_relu_1)\",\"{}\"],[\"layer2_1_relu_1\",\"nn.ReLU\",\"(16,128,20,20)\",\"0\",\"0\",\"(add_3,)\",\"{}\"],[\"layer3_0_conv1\",\"nn.Conv2d\",\"(16,256,10,10)\",\"294 912\",\"943 718 400\",\"(layer2_1_relu_1,)\",\"{}\"],[\"layer3_0_bn1\",\"nn.BatchNorm2d\",\"(16,256,10,10)\",\"512\",\"0\",\"(layer3_0_conv1,)\",\"{}\"],[\"layer3_0_relu\",\"nn.ReLU\",\"(16,256,10,10)\",\"0\",\"0\",\"(layer3_0_bn1,)\",\"{}\"],[\"layer3_0_conv2\",\"nn.Conv2d\",\"(16,256,10,10)\",\"589 824\",\"1 887 436 800\",\"(layer3_0_relu,)\",\"{}\"],[\"layer3_0_bn2\",\"nn.BatchNorm2d\",\"(16,256,10,10)\",\"512\",\"0\",\"(layer3_0_conv2,)\",\"{}\"],[\"layer3_0_downsample_0\",\"nn.Conv2d\",\"(16,256,10,10)\",\"32 768\",\"104 857 600\",\"(layer2_1_relu_1,)\",\"{}\"],[\"layer3_0_downsample_1\",\"nn.BatchNorm2d\",\"(16,256,10,10)\",\"512\",\"0\",\"(layer3_0_downsample_0,)\",\"{}\"],[\"add_4\",\"add()\",\"(16,256,10,10)\",\"0\",\"409 600\",\"(layer3_0_bn2, layer3_0_downsample_1)\",\"{}\"],[\"layer3_0_relu_1\",\"nn.ReLU\",\"(16,256,10,10)\",\"0\",\"0\",\"(add_4,)\",\"{}\"],[\"layer3_1_conv1\",\"nn.Conv2d\",\"(16,256,10,10)\",\"589 824\",\"1 887 436 800\",\"(layer3_0_relu_1,)\",\"{}\"],[\"layer3_1_bn1\",\"nn.BatchNorm2d\",\"(16,256,10,10)\",\"512\",\"0\",\"(layer3_1_conv1,)\",\"{}\"],[\"layer3_1_relu\",\"nn.ReLU\",\"(16,256,10,10)\",\"0\",\"0\",\"(layer3_1_bn1,)\",\"{}\"],[\"layer3_1_conv2\",\"nn.Conv2d\",\"(16,256,10,10)\",\"589 824\",\"1 887 436 800\",\"(layer3_1_relu,)\",\"{}\"],[\"layer3_1_bn2\",\"nn.BatchNorm2d\",\"(16,256,10,10)\",\"512\",\"0\",\"(layer3_1_conv2,)\",\"{}\"],[\"add_5\",\"add()\",\"(16,256,10,10)\",\"0\",\"409 600\",\"(layer3_1_bn2, layer3_0_relu_1)\",\"{}\"],[\"layer3_1_relu_1\",\"nn.ReLU\",\"(16,256,10,10)\",\"0\",\"0\",\"(add_5,)\",\"{}\"],[\"layer4_0_conv1\",\"nn.Conv2d\",\"(16,512,5,5)\",\"1 179 648\",\"943 718 400\",\"(layer3_1_relu_1,)\",\"{}\"],[\"layer4_0_bn1\",\"nn.BatchNorm2d\",\"(16,512,5,5)\",\"1 024\",\"0\",\"(layer4_0_conv1,)\",\"{}\"],[\"layer4_0_relu\",\"nn.ReLU\",\"(16,512,5,5)\",\"0\",\"0\",\"(layer4_0_bn1,)\",\"{}\"],[\"layer4_0_conv2\",\"nn.Conv2d\",\"(16,512,5,5)\",\"2 359 296\",\"1 887 436 800\",\"(layer4_0_relu,)\",\"{}\"],[\"layer4_0_bn2\",\"nn.BatchNorm2d\",\"(16,512,5,5)\",\"1 024\",\"0\",\"(layer4_0_conv2,)\",\"{}\"],[\"layer4_0_downsample_0\",\"nn.Conv2d\",\"(16,512,5,5)\",\"131 072\",\"104 857 600\",\"(layer3_1_relu_1,)\",\"{}\"],[\"layer4_0_downsample_1\",\"nn.BatchNorm2d\",\"(16,512,5,5)\",\"1 024\",\"0\",\"(layer4_0_downsample_0,)\",\"{}\"],[\"add_6\",\"add()\",\"(16,512,5,5)\",\"0\",\"204 800\",\"(layer4_0_bn2, layer4_0_downsample_1)\",\"{}\"],[\"layer4_0_relu_1\",\"nn.ReLU\",\"(16,512,5,5)\",\"0\",\"0\",\"(add_6,)\",\"{}\"],[\"layer4_1_conv1\",\"nn.Conv2d\",\"(16,512,5,5)\",\"2 359 296\",\"1 887 436 800\",\"(layer4_0_relu_1,)\",\"{}\"],[\"layer4_1_bn1\",\"nn.BatchNorm2d\",\"(16,512,5,5)\",\"1 024\",\"0\",\"(layer4_1_conv1,)\",\"{}\"],[\"layer4_1_relu\",\"nn.ReLU\",\"(16,512,5,5)\",\"0\",\"0\",\"(layer4_1_bn1,)\",\"{}\"],[\"layer4_1_conv2\",\"nn.Conv2d\",\"(16,512,5,5)\",\"2 359 296\",\"1 887 436 800\",\"(layer4_1_relu,)\",\"{}\"],[\"layer4_1_bn2\",\"nn.BatchNorm2d\",\"(16,512,5,5)\",\"1 024\",\"0\",\"(layer4_1_conv2,)\",\"{}\"],[\"add_7\",\"add()\",\"(16,512,5,5)\",\"0\",\"204 800\",\"(layer4_1_bn2, layer4_0_relu_1)\",\"{}\"],[\"layer4_1_relu_1\",\"nn.ReLU\",\"(16,512,5,5)\",\"0\",\"0\",\"(add_7,)\",\"{}\"],[\"avgpool\",\"nn.AdaptiveAvgPool2d\",\"(16,512,1,1)\",\"0\",\"0\",\"(layer4_1_relu_1,)\",\"{}\"],[\"flatten\",\"flatten()\",\"(16,512)\",\"0\",\"0\",\"(avgpool, 1)\",\"{}\"],[\"fc\",\"nn.Linear\",\"(16,1000)\",\"513 000\",\"16 384 000\",\"(flatten,)\",\"{}\"],[\"output\",\"output\",\"(16,1000)\",\"0\",\"0\",\"(fc,)\",\"{}\"]],\"hovertemplate\":\"%{customdata[0]}\\u003cextra\\u003e\\u003c\\u002fextra\\u003e\",\"marker\":{\"color\":[\"#222A2A\",\"#00A08B\",\"#EB663B\",\"#1616A7\",\"#DA60CA\",\"#00A08B\",\"#EB663B\",\"#1616A7\",\"#00A08B\",\"#EB663B\",\"#778AAE\",\"#1616A7\",\"#00A08B\",\"#EB663B\",\"#1616A7\",\"#00A08B\",\"#EB663B\",\"#778AAE\",\"#1616A7\",\"#00A08B\",\"#EB663B\",\"#1616A7\",\"#00A08B\",\"#EB663B\",\"#00A08B\",\"#EB663B\",\"#778AAE\",\"#1616A7\",\"#00A08B\",\"#EB663B\",\"#1616A7\",\"#00A08B\",\"#EB663B\",\"#778AAE\",\"#1616A7\",\"#00A08B\",\"#EB663B\",\"#1616A7\",\"#00A08B\",\"#EB663B\",\"#00A08B\",\"#EB663B\",\"#778AAE\",\"#1616A7\",\"#00A08B\",\"#EB663B\",\"#1616A7\",\"#00A08B\",\"#EB663B\",\"#778AAE\",\"#1616A7\",\"#00A08B\",\"#EB663B\",\"#1616A7\",\"#00A08B\",\"#EB663B\",\"#00A08B\",\"#EB663B\",\"#778AAE\",\"#1616A7\",\"#00A08B\",\"#EB663B\",\"#1616A7\",\"#00A08B\",\"#EB663B\",\"#778AAE\",\"#1616A7\",\"#DA60CA\",\"#778AAE\",\"#2E91E5\",\"#222A2A\"],\"colorscale\":[[0.0,\"rgb(0,0,255)\"],[1.0,\"rgb(255,0,0)\"]],\"size\":[4.0,6.625139798921442,4.0,4.0,4.0,7.459407865861275,4.0,4.0,7.459407865861275,4.0,4.0,4.0,7.459407865861275,4.0,4.0,7.459407865861275,4.0,4.0,4.0,7.882839888217729,4.4234320223564545,4.0,8.306271910574184,4.4234320223564545,6.540592134138725,4.4234320223564545,4.0,4.0,8.306271910574184,4.4234320223564545,4.0,8.306271910574184,4.4234320223564545,4.0,4.0,8.729703932930637,4.846864044712908,4.0,9.153135955287091,4.846864044712908,7.387456178851633,4.846864044712908,4.0,4.0,9.153135955287091,4.846864044712908,4.0,9.153135955287091,4.846864044712908,4.0,4.0,9.576567977643546,5.270296067069363,4.0,10.0,5.270296067069363,8.234320223564541,5.270296067069363,4.0,4.0,10.0,5.270296067069363,4.0,10.0,5.270296067069363,4.0,4.0,4.0,4.0,9.067888206487005,4.0]},\"mode\":\"markers\",\"showlegend\":false,\"x\":[0.0,0.0,0.0,0.0,0.0,0.0,0.0,0.0,0.0,0.0,0.0,0.0,0.0,0.0,0.0,0.0,0.0,0.0,0.0,0.0,0.0,0.0,0.0,0.0,1.0,1.0,0.0,0.0,0.0,0.0,0.0,0.0,0.0,0.0,0.0,0.0,0.0,0.0,0.0,0.0,1.0,1.0,0.0,0.0,0.0,0.0,0.0,0.0,0.0,0.0,0.0,0.0,0.0,0.0,0.0,0.0,1.0,1.0,0.0,0.0,0.0,0.0,0.0,0.0,0.0,0.0,0.0,0.0,0.0,0.0,0.0],\"y\":[0,1,1.15,1.3,1.45,2,2.15,2.3,3,3.15,4,4.15,5,5.15,5.3,6,6.15,7,7.15,8,8.15,8.3,9,9.15,9,9.15,10,10.15,11,11.15,11.3,12,12.15,13,13.15,14,14.15,14.3,15,15.15,15,15.15,16,16.15,17,17.15,17.3,18,18.15,19,19.15,20,20.15,20.3,21,21.15,21,21.15,22,22.15,23,23.15,23.3,24,24.15,25,25.15,25.3,25.45,26,27],\"type\":\"scatter\",\"xaxis\":\"x\",\"yaxis\":\"y\"},{\"cells\":{\"align\":\"left\",\"values\":[[\"x\",\"conv1\",\"bn1\",\"relu\",\"maxpool\",\"layer1_0_conv1\",\"layer1_0_bn1\",\"layer1_0_relu\",\"layer1_0_conv2\",\"layer1_0_bn2\",\"add\",\"layer1_0_relu_1\",\"layer1_1_conv1\",\"layer1_1_bn1\",\"layer1_1_relu\",\"layer1_1_conv2\",\"layer1_1_bn2\",\"add_1\",\"layer1_1_relu_1\",\"layer2_0_conv1\",\"layer2_0_bn1\",\"layer2_0_relu\",\"layer2_0_conv2\",\"layer2_0_bn2\",\"layer2_0_downsample_0\",\"layer2_0_downsample_1\",\"add_2\",\"layer2_0_relu_1\",\"layer2_1_conv1\",\"layer2_1_bn1\",\"layer2_1_relu\",\"layer2_1_conv2\",\"layer2_1_bn2\",\"add_3\",\"layer2_1_relu_1\",\"layer3_0_conv1\",\"layer3_0_bn1\",\"layer3_0_relu\",\"layer3_0_conv2\",\"layer3_0_bn2\",\"layer3_0_downsample_0\",\"layer3_0_downsample_1\",\"add_4\",\"layer3_0_relu_1\",\"layer3_1_conv1\",\"layer3_1_bn1\",\"layer3_1_relu\",\"layer3_1_conv2\",\"layer3_1_bn2\",\"add_5\",\"layer3_1_relu_1\",\"layer4_0_conv1\",\"layer4_0_bn1\",\"layer4_0_relu\",\"layer4_0_conv2\",\"layer4_0_bn2\",\"layer4_0_downsample_0\",\"layer4_0_downsample_1\",\"add_6\",\"layer4_0_relu_1\",\"layer4_1_conv1\",\"layer4_1_bn1\",\"layer4_1_relu\",\"layer4_1_conv2\",\"layer4_1_bn2\",\"add_7\",\"layer4_1_relu_1\",\"avgpool\",\"flatten\",\"fc\",\"output\"],[\"input\",\"nn.Conv2d\",\"nn.BatchNorm2d\",\"nn.ReLU\",\"nn.MaxPool2d\",\"nn.Conv2d\",\"nn.BatchNorm2d\",\"nn.ReLU\",\"nn.Conv2d\",\"nn.BatchNorm2d\",\"add()\",\"nn.ReLU\",\"nn.Conv2d\",\"nn.BatchNorm2d\",\"nn.ReLU\",\"nn.Conv2d\",\"nn.BatchNorm2d\",\"add()\",\"nn.ReLU\",\"nn.Conv2d\",\"nn.BatchNorm2d\",\"nn.ReLU\",\"nn.Conv2d\",\"nn.BatchNorm2d\",\"nn.Conv2d\",\"nn.BatchNorm2d\",\"add()\",\"nn.ReLU\",\"nn.Conv2d\",\"nn.BatchNorm2d\",\"nn.ReLU\",\"nn.Conv2d\",\"nn.BatchNorm2d\",\"add()\",\"nn.ReLU\",\"nn.Conv2d\",\"nn.BatchNorm2d\",\"nn.ReLU\",\"nn.Conv2d\",\"nn.BatchNorm2d\",\"nn.Conv2d\",\"nn.BatchNorm2d\",\"add()\",\"nn.ReLU\",\"nn.Conv2d\",\"nn.BatchNorm2d\",\"nn.ReLU\",\"nn.Conv2d\",\"nn.BatchNorm2d\",\"add()\",\"nn.ReLU\",\"nn.Conv2d\",\"nn.BatchNorm2d\",\"nn.ReLU\",\"nn.Conv2d\",\"nn.BatchNorm2d\",\"nn.Conv2d\",\"nn.BatchNorm2d\",\"add()\",\"nn.ReLU\",\"nn.Conv2d\",\"nn.BatchNorm2d\",\"nn.ReLU\",\"nn.Conv2d\",\"nn.BatchNorm2d\",\"add()\",\"nn.ReLU\",\"nn.AdaptiveAvgPool2d\",\"flatten()\",\"nn.Linear\",\"output\"],[\"(16,3,160,160)\",\"(16,64,80,80)\",\"(16,64,80,80)\",\"(16,64,80,80)\",\"(16,64,40,40)\",\"(16,64,40,40)\",\"(16,64,40,40)\",\"(16,64,40,40)\",\"(16,64,40,40)\",\"(16,64,40,40)\",\"(16,64,40,40)\",\"(16,64,40,40)\",\"(16,64,40,40)\",\"(16,64,40,40)\",\"(16,64,40,40)\",\"(16,64,40,40)\",\"(16,64,40,40)\",\"(16,64,40,40)\",\"(16,64,40,40)\",\"(16,128,20,20)\",\"(16,128,20,20)\",\"(16,128,20,20)\",\"(16,128,20,20)\",\"(16,128,20,20)\",\"(16,128,20,20)\",\"(16,128,20,20)\",\"(16,128,20,20)\",\"(16,128,20,20)\",\"(16,128,20,20)\",\"(16,128,20,20)\",\"(16,128,20,20)\",\"(16,128,20,20)\",\"(16,128,20,20)\",\"(16,128,20,20)\",\"(16,128,20,20)\",\"(16,256,10,10)\",\"(16,256,10,10)\",\"(16,256,10,10)\",\"(16,256,10,10)\",\"(16,256,10,10)\",\"(16,256,10,10)\",\"(16,256,10,10)\",\"(16,256,10,10)\",\"(16,256,10,10)\",\"(16,256,10,10)\",\"(16,256,10,10)\",\"(16,256,10,10)\",\"(16,256,10,10)\",\"(16,256,10,10)\",\"(16,256,10,10)\",\"(16,256,10,10)\",\"(16,512,5,5)\",\"(16,512,5,5)\",\"(16,512,5,5)\",\"(16,512,5,5)\",\"(16,512,5,5)\",\"(16,512,5,5)\",\"(16,512,5,5)\",\"(16,512,5,5)\",\"(16,512,5,5)\",\"(16,512,5,5)\",\"(16,512,5,5)\",\"(16,512,5,5)\",\"(16,512,5,5)\",\"(16,512,5,5)\",\"(16,512,5,5)\",\"(16,512,5,5)\",\"(16,512,1,1)\",\"(16,512)\",\"(16,1000)\",\"(16,1000)\"],[\"0\",\"9 408\",\"128\",\"0\",\"0\",\"36 864\",\"128\",\"0\",\"36 864\",\"128\",\"0\",\"0\",\"36 864\",\"128\",\"0\",\"36 864\",\"128\",\"0\",\"0\",\"73 728\",\"256\",\"0\",\"147 456\",\"256\",\"8 192\",\"256\",\"0\",\"0\",\"147 456\",\"256\",\"0\",\"147 456\",\"256\",\"0\",\"0\",\"294 912\",\"512\",\"0\",\"589 824\",\"512\",\"32 768\",\"512\",\"0\",\"0\",\"589 824\",\"512\",\"0\",\"589 824\",\"512\",\"0\",\"0\",\"1 179 648\",\"1 024\",\"0\",\"2 359 296\",\"1 024\",\"131 072\",\"1 024\",\"0\",\"0\",\"2 359 296\",\"1 024\",\"0\",\"2 359 296\",\"1 024\",\"0\",\"0\",\"0\",\"0\",\"513 000\",\"0\"],[\"0\",\"1 926 758 400\",\"0\",\"0\",\"0\",\"1 887 436 800\",\"0\",\"0\",\"1 887 436 800\",\"0\",\"1 638 400\",\"0\",\"1 887 436 800\",\"0\",\"0\",\"1 887 436 800\",\"0\",\"1 638 400\",\"0\",\"943 718 400\",\"0\",\"0\",\"1 887 436 800\",\"0\",\"104 857 600\",\"0\",\"819 200\",\"0\",\"1 887 436 800\",\"0\",\"0\",\"1 887 436 800\",\"0\",\"819 200\",\"0\",\"943 718 400\",\"0\",\"0\",\"1 887 436 800\",\"0\",\"104 857 600\",\"0\",\"409 600\",\"0\",\"1 887 436 800\",\"0\",\"0\",\"1 887 436 800\",\"0\",\"409 600\",\"0\",\"943 718 400\",\"0\",\"0\",\"1 887 436 800\",\"0\",\"104 857 600\",\"0\",\"204 800\",\"0\",\"1 887 436 800\",\"0\",\"0\",\"1 887 436 800\",\"0\",\"204 800\",\"0\",\"0\",\"0\",\"16 384 000\",\"0\"]]},\"header\":{\"align\":\"left\",\"font\":{\"size\":10},\"values\":[\"Name\",\"Operation\",\"Activations\",\"Params [11 689 512]\",\"FLOPS [29 631 692 800]\"]},\"type\":\"table\",\"domain\":{\"x\":[0.244,1.0],\"y\":[0.0,1.0]}}],                        {\"template\":{\"data\":{\"histogram2dcontour\":[{\"type\":\"histogram2dcontour\",\"colorbar\":{\"outlinewidth\":0,\"ticks\":\"\"},\"colorscale\":[[0.0,\"#0d0887\"],[0.1111111111111111,\"#46039f\"],[0.2222222222222222,\"#7201a8\"],[0.3333333333333333,\"#9c179e\"],[0.4444444444444444,\"#bd3786\"],[0.5555555555555556,\"#d8576b\"],[0.6666666666666666,\"#ed7953\"],[0.7777777777777778,\"#fb9f3a\"],[0.8888888888888888,\"#fdca26\"],[1.0,\"#f0f921\"]]}],\"choropleth\":[{\"type\":\"choropleth\",\"colorbar\":{\"outlinewidth\":0,\"ticks\":\"\"}}],\"histogram2d\":[{\"type\":\"histogram2d\",\"colorbar\":{\"outlinewidth\":0,\"ticks\":\"\"},\"colorscale\":[[0.0,\"#0d0887\"],[0.1111111111111111,\"#46039f\"],[0.2222222222222222,\"#7201a8\"],[0.3333333333333333,\"#9c179e\"],[0.4444444444444444,\"#bd3786\"],[0.5555555555555556,\"#d8576b\"],[0.6666666666666666,\"#ed7953\"],[0.7777777777777778,\"#fb9f3a\"],[0.8888888888888888,\"#fdca26\"],[1.0,\"#f0f921\"]]}],\"heatmap\":[{\"type\":\"heatmap\",\"colorbar\":{\"outlinewidth\":0,\"ticks\":\"\"},\"colorscale\":[[0.0,\"#0d0887\"],[0.1111111111111111,\"#46039f\"],[0.2222222222222222,\"#7201a8\"],[0.3333333333333333,\"#9c179e\"],[0.4444444444444444,\"#bd3786\"],[0.5555555555555556,\"#d8576b\"],[0.6666666666666666,\"#ed7953\"],[0.7777777777777778,\"#fb9f3a\"],[0.8888888888888888,\"#fdca26\"],[1.0,\"#f0f921\"]]}],\"heatmapgl\":[{\"type\":\"heatmapgl\",\"colorbar\":{\"outlinewidth\":0,\"ticks\":\"\"},\"colorscale\":[[0.0,\"#0d0887\"],[0.1111111111111111,\"#46039f\"],[0.2222222222222222,\"#7201a8\"],[0.3333333333333333,\"#9c179e\"],[0.4444444444444444,\"#bd3786\"],[0.5555555555555556,\"#d8576b\"],[0.6666666666666666,\"#ed7953\"],[0.7777777777777778,\"#fb9f3a\"],[0.8888888888888888,\"#fdca26\"],[1.0,\"#f0f921\"]]}],\"contourcarpet\":[{\"type\":\"contourcarpet\",\"colorbar\":{\"outlinewidth\":0,\"ticks\":\"\"}}],\"contour\":[{\"type\":\"contour\",\"colorbar\":{\"outlinewidth\":0,\"ticks\":\"\"},\"colorscale\":[[0.0,\"#0d0887\"],[0.1111111111111111,\"#46039f\"],[0.2222222222222222,\"#7201a8\"],[0.3333333333333333,\"#9c179e\"],[0.4444444444444444,\"#bd3786\"],[0.5555555555555556,\"#d8576b\"],[0.6666666666666666,\"#ed7953\"],[0.7777777777777778,\"#fb9f3a\"],[0.8888888888888888,\"#fdca26\"],[1.0,\"#f0f921\"]]}],\"surface\":[{\"type\":\"surface\",\"colorbar\":{\"outlinewidth\":0,\"ticks\":\"\"},\"colorscale\":[[0.0,\"#0d0887\"],[0.1111111111111111,\"#46039f\"],[0.2222222222222222,\"#7201a8\"],[0.3333333333333333,\"#9c179e\"],[0.4444444444444444,\"#bd3786\"],[0.5555555555555556,\"#d8576b\"],[0.6666666666666666,\"#ed7953\"],[0.7777777777777778,\"#fb9f3a\"],[0.8888888888888888,\"#fdca26\"],[1.0,\"#f0f921\"]]}],\"mesh3d\":[{\"type\":\"mesh3d\",\"colorbar\":{\"outlinewidth\":0,\"ticks\":\"\"}}],\"scatter\":[{\"fillpattern\":{\"fillmode\":\"overlay\",\"size\":10,\"solidity\":0.2},\"type\":\"scatter\"}],\"parcoords\":[{\"type\":\"parcoords\",\"line\":{\"colorbar\":{\"outlinewidth\":0,\"ticks\":\"\"}}}],\"scatterpolargl\":[{\"type\":\"scatterpolargl\",\"marker\":{\"colorbar\":{\"outlinewidth\":0,\"ticks\":\"\"}}}],\"bar\":[{\"error_x\":{\"color\":\"#2a3f5f\"},\"error_y\":{\"color\":\"#2a3f5f\"},\"marker\":{\"line\":{\"color\":\"#E5ECF6\",\"width\":0.5},\"pattern\":{\"fillmode\":\"overlay\",\"size\":10,\"solidity\":0.2}},\"type\":\"bar\"}],\"scattergeo\":[{\"type\":\"scattergeo\",\"marker\":{\"colorbar\":{\"outlinewidth\":0,\"ticks\":\"\"}}}],\"scatterpolar\":[{\"type\":\"scatterpolar\",\"marker\":{\"colorbar\":{\"outlinewidth\":0,\"ticks\":\"\"}}}],\"histogram\":[{\"marker\":{\"pattern\":{\"fillmode\":\"overlay\",\"size\":10,\"solidity\":0.2}},\"type\":\"histogram\"}],\"scattergl\":[{\"type\":\"scattergl\",\"marker\":{\"colorbar\":{\"outlinewidth\":0,\"ticks\":\"\"}}}],\"scatter3d\":[{\"type\":\"scatter3d\",\"line\":{\"colorbar\":{\"outlinewidth\":0,\"ticks\":\"\"}},\"marker\":{\"colorbar\":{\"outlinewidth\":0,\"ticks\":\"\"}}}],\"scattermapbox\":[{\"type\":\"scattermapbox\",\"marker\":{\"colorbar\":{\"outlinewidth\":0,\"ticks\":\"\"}}}],\"scatterternary\":[{\"type\":\"scatterternary\",\"marker\":{\"colorbar\":{\"outlinewidth\":0,\"ticks\":\"\"}}}],\"scattercarpet\":[{\"type\":\"scattercarpet\",\"marker\":{\"colorbar\":{\"outlinewidth\":0,\"ticks\":\"\"}}}],\"carpet\":[{\"aaxis\":{\"endlinecolor\":\"#2a3f5f\",\"gridcolor\":\"white\",\"linecolor\":\"white\",\"minorgridcolor\":\"white\",\"startlinecolor\":\"#2a3f5f\"},\"baxis\":{\"endlinecolor\":\"#2a3f5f\",\"gridcolor\":\"white\",\"linecolor\":\"white\",\"minorgridcolor\":\"white\",\"startlinecolor\":\"#2a3f5f\"},\"type\":\"carpet\"}],\"table\":[{\"cells\":{\"fill\":{\"color\":\"#EBF0F8\"},\"line\":{\"color\":\"white\"}},\"header\":{\"fill\":{\"color\":\"#C8D4E3\"},\"line\":{\"color\":\"white\"}},\"type\":\"table\"}],\"barpolar\":[{\"marker\":{\"line\":{\"color\":\"#E5ECF6\",\"width\":0.5},\"pattern\":{\"fillmode\":\"overlay\",\"size\":10,\"solidity\":0.2}},\"type\":\"barpolar\"}],\"pie\":[{\"automargin\":true,\"type\":\"pie\"}]},\"layout\":{\"autotypenumbers\":\"strict\",\"colorway\":[\"#636efa\",\"#EF553B\",\"#00cc96\",\"#ab63fa\",\"#FFA15A\",\"#19d3f3\",\"#FF6692\",\"#B6E880\",\"#FF97FF\",\"#FECB52\"],\"font\":{\"color\":\"#2a3f5f\"},\"hovermode\":\"closest\",\"hoverlabel\":{\"align\":\"left\"},\"paper_bgcolor\":\"white\",\"plot_bgcolor\":\"#E5ECF6\",\"polar\":{\"bgcolor\":\"#E5ECF6\",\"angularaxis\":{\"gridcolor\":\"white\",\"linecolor\":\"white\",\"ticks\":\"\"},\"radialaxis\":{\"gridcolor\":\"white\",\"linecolor\":\"white\",\"ticks\":\"\"}},\"ternary\":{\"bgcolor\":\"#E5ECF6\",\"aaxis\":{\"gridcolor\":\"white\",\"linecolor\":\"white\",\"ticks\":\"\"},\"baxis\":{\"gridcolor\":\"white\",\"linecolor\":\"white\",\"ticks\":\"\"},\"caxis\":{\"gridcolor\":\"white\",\"linecolor\":\"white\",\"ticks\":\"\"}},\"coloraxis\":{\"colorbar\":{\"outlinewidth\":0,\"ticks\":\"\"}},\"colorscale\":{\"sequential\":[[0.0,\"#0d0887\"],[0.1111111111111111,\"#46039f\"],[0.2222222222222222,\"#7201a8\"],[0.3333333333333333,\"#9c179e\"],[0.4444444444444444,\"#bd3786\"],[0.5555555555555556,\"#d8576b\"],[0.6666666666666666,\"#ed7953\"],[0.7777777777777778,\"#fb9f3a\"],[0.8888888888888888,\"#fdca26\"],[1.0,\"#f0f921\"]],\"sequentialminus\":[[0.0,\"#0d0887\"],[0.1111111111111111,\"#46039f\"],[0.2222222222222222,\"#7201a8\"],[0.3333333333333333,\"#9c179e\"],[0.4444444444444444,\"#bd3786\"],[0.5555555555555556,\"#d8576b\"],[0.6666666666666666,\"#ed7953\"],[0.7777777777777778,\"#fb9f3a\"],[0.8888888888888888,\"#fdca26\"],[1.0,\"#f0f921\"]],\"diverging\":[[0,\"#8e0152\"],[0.1,\"#c51b7d\"],[0.2,\"#de77ae\"],[0.3,\"#f1b6da\"],[0.4,\"#fde0ef\"],[0.5,\"#f7f7f7\"],[0.6,\"#e6f5d0\"],[0.7,\"#b8e186\"],[0.8,\"#7fbc41\"],[0.9,\"#4d9221\"],[1,\"#276419\"]]},\"xaxis\":{\"gridcolor\":\"white\",\"linecolor\":\"white\",\"ticks\":\"\",\"title\":{\"standoff\":15},\"zerolinecolor\":\"white\",\"automargin\":true,\"zerolinewidth\":2},\"yaxis\":{\"gridcolor\":\"white\",\"linecolor\":\"white\",\"ticks\":\"\",\"title\":{\"standoff\":15},\"zerolinecolor\":\"white\",\"automargin\":true,\"zerolinewidth\":2},\"scene\":{\"xaxis\":{\"backgroundcolor\":\"#E5ECF6\",\"gridcolor\":\"white\",\"linecolor\":\"white\",\"showbackground\":true,\"ticks\":\"\",\"zerolinecolor\":\"white\",\"gridwidth\":2},\"yaxis\":{\"backgroundcolor\":\"#E5ECF6\",\"gridcolor\":\"white\",\"linecolor\":\"white\",\"showbackground\":true,\"ticks\":\"\",\"zerolinecolor\":\"white\",\"gridwidth\":2},\"zaxis\":{\"backgroundcolor\":\"#E5ECF6\",\"gridcolor\":\"white\",\"linecolor\":\"white\",\"showbackground\":true,\"ticks\":\"\",\"zerolinecolor\":\"white\",\"gridwidth\":2}},\"shapedefaults\":{\"line\":{\"color\":\"#2a3f5f\"}},\"annotationdefaults\":{\"arrowcolor\":\"#2a3f5f\",\"arrowhead\":0,\"arrowwidth\":1},\"geo\":{\"bgcolor\":\"white\",\"landcolor\":\"#E5ECF6\",\"subunitcolor\":\"white\",\"showland\":true,\"showlakes\":true,\"lakecolor\":\"white\"},\"title\":{\"x\":0.05},\"mapbox\":{\"style\":\"light\"}}},\"xaxis\":{\"anchor\":\"y\",\"domain\":[0.0,0.055999999999999994],\"showgrid\":false,\"zeroline\":false,\"tickmode\":\"array\",\"tickvals\":[],\"range\":[-1.0,2.0]},\"yaxis\":{\"anchor\":\"x\",\"domain\":[0.0,1.0],\"showgrid\":false,\"zeroline\":false,\"tickmode\":\"array\",\"tickvals\":[],\"range\":[27.5,-0.5]},\"xaxis2\":{\"anchor\":\"y2\",\"domain\":[0.06599999999999999,0.23399999999999999],\"showgrid\":false,\"zeroline\":false,\"tickmode\":\"array\",\"tickvals\":[],\"range\":[-0.5,1.5]},\"yaxis2\":{\"anchor\":\"x2\",\"domain\":[0.0,1.0],\"showgrid\":false,\"zeroline\":false,\"tickmode\":\"array\",\"tickvals\":[],\"range\":[9.75,-0.25]},\"shapes\":[{\"fillcolor\":\"rgba(42,63,96,0.2)\",\"line\":{\"color\":\"#2A3F5F\",\"width\":1},\"type\":\"rect\",\"x0\":-0.5,\"x1\":1.5,\"xref\":\"x\",\"y0\":-0.25,\"y1\":9.75,\"yref\":\"y\"}],\"updatemenus\":[{\"active\":0,\"buttons\":[{\"args\":[{\"marker\":[{},{},{\"size\":[6.0,11.250279597842884,6.0,6.0,6.0,12.91881573172255,6.0,6.0,12.91881573172255,6.0,6.0,6.0,12.91881573172255,6.0,6.0,12.91881573172255,6.0,6.0,6.0,13.765679776435459,6.846864044712908,6.0,14.612543821148368,6.846864044712908,11.08118426827745,6.846864044712908,6.0,6.0,14.612543821148368,6.846864044712908,6.0,14.612543821148368,6.846864044712908,6.0,6.0,15.459407865861275,7.693728089425816,6.0,16.306271910574182,7.693728089425816,12.774912357703267,7.693728089425816,6.0,6.0,16.306271910574182,7.693728089425816,6.0,16.306271910574182,7.693728089425816,6.0,6.0,17.15313595528709,8.540592134138725,6.0,18.0,8.540592134138725,14.468640447129083,8.540592134138725,6.0,6.0,18.0,8.540592134138725,6.0,18.0,8.540592134138725,6.0,6.0,6.0,6.0,16.13577641297401,6.0],\"color\":[\"#222A2A\",\"#00A08B\",\"#EB663B\",\"#1616A7\",\"#DA60CA\",\"#00A08B\",\"#EB663B\",\"#1616A7\",\"#00A08B\",\"#EB663B\",\"#778AAE\",\"#1616A7\",\"#00A08B\",\"#EB663B\",\"#1616A7\",\"#00A08B\",\"#EB663B\",\"#778AAE\",\"#1616A7\",\"#00A08B\",\"#EB663B\",\"#1616A7\",\"#00A08B\",\"#EB663B\",\"#00A08B\",\"#EB663B\",\"#778AAE\",\"#1616A7\",\"#00A08B\",\"#EB663B\",\"#1616A7\",\"#00A08B\",\"#EB663B\",\"#778AAE\",\"#1616A7\",\"#00A08B\",\"#EB663B\",\"#1616A7\",\"#00A08B\",\"#EB663B\",\"#00A08B\",\"#EB663B\",\"#778AAE\",\"#1616A7\",\"#00A08B\",\"#EB663B\",\"#1616A7\",\"#00A08B\",\"#EB663B\",\"#778AAE\",\"#1616A7\",\"#00A08B\",\"#EB663B\",\"#1616A7\",\"#00A08B\",\"#EB663B\",\"#00A08B\",\"#EB663B\",\"#778AAE\",\"#1616A7\",\"#00A08B\",\"#EB663B\",\"#1616A7\",\"#00A08B\",\"#EB663B\",\"#778AAE\",\"#1616A7\",\"#DA60CA\",\"#778AAE\",\"#2E91E5\",\"#222A2A\"],\"colorscale\":\"Bluered\"},{\"size\":[4.0,6.625139798921442,4.0,4.0,4.0,7.459407865861275,4.0,4.0,7.459407865861275,4.0,4.0,4.0,7.459407865861275,4.0,4.0,7.459407865861275,4.0,4.0,4.0,7.882839888217729,4.4234320223564545,4.0,8.306271910574184,4.4234320223564545,6.540592134138725,4.4234320223564545,4.0,4.0,8.306271910574184,4.4234320223564545,4.0,8.306271910574184,4.4234320223564545,4.0,4.0,8.729703932930637,4.846864044712908,4.0,9.153135955287091,4.846864044712908,7.387456178851633,4.846864044712908,4.0,4.0,9.153135955287091,4.846864044712908,4.0,9.153135955287091,4.846864044712908,4.0,4.0,9.576567977643546,5.270296067069363,4.0,10.0,5.270296067069363,8.234320223564541,5.270296067069363,4.0,4.0,10.0,5.270296067069363,4.0,10.0,5.270296067069363,4.0,4.0,4.0,4.0,9.067888206487005,4.0],\"color\":[\"#222A2A\",\"#00A08B\",\"#EB663B\",\"#1616A7\",\"#DA60CA\",\"#00A08B\",\"#EB663B\",\"#1616A7\",\"#00A08B\",\"#EB663B\",\"#778AAE\",\"#1616A7\",\"#00A08B\",\"#EB663B\",\"#1616A7\",\"#00A08B\",\"#EB663B\",\"#778AAE\",\"#1616A7\",\"#00A08B\",\"#EB663B\",\"#1616A7\",\"#00A08B\",\"#EB663B\",\"#00A08B\",\"#EB663B\",\"#778AAE\",\"#1616A7\",\"#00A08B\",\"#EB663B\",\"#1616A7\",\"#00A08B\",\"#EB663B\",\"#778AAE\",\"#1616A7\",\"#00A08B\",\"#EB663B\",\"#1616A7\",\"#00A08B\",\"#EB663B\",\"#00A08B\",\"#EB663B\",\"#778AAE\",\"#1616A7\",\"#00A08B\",\"#EB663B\",\"#1616A7\",\"#00A08B\",\"#EB663B\",\"#778AAE\",\"#1616A7\",\"#00A08B\",\"#EB663B\",\"#1616A7\",\"#00A08B\",\"#EB663B\",\"#00A08B\",\"#EB663B\",\"#778AAE\",\"#1616A7\",\"#00A08B\",\"#EB663B\",\"#1616A7\",\"#00A08B\",\"#EB663B\",\"#778AAE\",\"#1616A7\",\"#DA60CA\",\"#778AAE\",\"#2E91E5\",\"#222A2A\"],\"colorscale\":\"Bluered\"},{}]}],\"label\":\"Size by params, color by operation\",\"method\":\"restyle\"},{\"args\":[{\"marker\":[{},{},{\"size\":[6.0,18.0,6.0,6.0,6.0,17.972956289262115,6.0,6.0,17.972956289262115,6.0,8.727340426301035,6.0,17.972956289262115,6.0,6.0,17.972956289262115,6.0,8.727340426301035,6.0,17.063842813828437,6.0,6.0,17.972956289262115,6.0,14.182021278903106,6.0,7.818226950867357,6.0,17.972956289262115,6.0,6.0,17.972956289262115,6.0,7.818226950867357,6.0,17.063842813828437,6.0,6.0,17.972956289262115,6.0,14.182021278903106,6.0,6.909113475433679,6.0,17.972956289262115,6.0,6.0,17.972956289262115,6.0,6.909113475433679,6.0,17.063842813828437,6.0,6.0,17.972956289262115,6.0,14.182021278903106,6.0,6.0,6.0,17.972956289262115,6.0,6.0,17.972956289262115,6.0,6.0,6.0,6.0,6.0,11.747350021784866,6.0],\"color\":[\"#222A2A\",\"#00A08B\",\"#EB663B\",\"#1616A7\",\"#DA60CA\",\"#00A08B\",\"#EB663B\",\"#1616A7\",\"#00A08B\",\"#EB663B\",\"#778AAE\",\"#1616A7\",\"#00A08B\",\"#EB663B\",\"#1616A7\",\"#00A08B\",\"#EB663B\",\"#778AAE\",\"#1616A7\",\"#00A08B\",\"#EB663B\",\"#1616A7\",\"#00A08B\",\"#EB663B\",\"#00A08B\",\"#EB663B\",\"#778AAE\",\"#1616A7\",\"#00A08B\",\"#EB663B\",\"#1616A7\",\"#00A08B\",\"#EB663B\",\"#778AAE\",\"#1616A7\",\"#00A08B\",\"#EB663B\",\"#1616A7\",\"#00A08B\",\"#EB663B\",\"#00A08B\",\"#EB663B\",\"#778AAE\",\"#1616A7\",\"#00A08B\",\"#EB663B\",\"#1616A7\",\"#00A08B\",\"#EB663B\",\"#778AAE\",\"#1616A7\",\"#00A08B\",\"#EB663B\",\"#1616A7\",\"#00A08B\",\"#EB663B\",\"#00A08B\",\"#EB663B\",\"#778AAE\",\"#1616A7\",\"#00A08B\",\"#EB663B\",\"#1616A7\",\"#00A08B\",\"#EB663B\",\"#778AAE\",\"#1616A7\",\"#DA60CA\",\"#778AAE\",\"#2E91E5\",\"#222A2A\"],\"colorscale\":\"Bluered\"},{\"size\":[4.0,10.0,4.0,4.0,4.0,9.986478144631057,4.0,4.0,9.986478144631057,4.0,5.363670213150518,4.0,9.986478144631057,4.0,4.0,9.986478144631057,4.0,5.363670213150518,4.0,9.531921406914218,4.0,4.0,9.986478144631057,4.0,8.091010639451554,4.0,4.909113475433679,4.0,9.986478144631057,4.0,4.0,9.986478144631057,4.0,4.909113475433679,4.0,9.531921406914218,4.0,4.0,9.986478144631057,4.0,8.091010639451554,4.0,4.454556737716839,4.0,9.986478144631057,4.0,4.0,9.986478144631057,4.0,4.454556737716839,4.0,9.531921406914218,4.0,4.0,9.986478144631057,4.0,8.091010639451554,4.0,4.0,4.0,9.986478144631057,4.0,4.0,9.986478144631057,4.0,4.0,4.0,4.0,4.0,6.873675010892433,4.0],\"color\":[\"#222A2A\",\"#00A08B\",\"#EB663B\",\"#1616A7\",\"#DA60CA\",\"#00A08B\",\"#EB663B\",\"#1616A7\",\"#00A08B\",\"#EB663B\",\"#778AAE\",\"#1616A7\",\"#00A08B\",\"#EB663B\",\"#1616A7\",\"#00A08B\",\"#EB663B\",\"#778AAE\",\"#1616A7\",\"#00A08B\",\"#EB663B\",\"#1616A7\",\"#00A08B\",\"#EB663B\",\"#00A08B\",\"#EB663B\",\"#778AAE\",\"#1616A7\",\"#00A08B\",\"#EB663B\",\"#1616A7\",\"#00A08B\",\"#EB663B\",\"#778AAE\",\"#1616A7\",\"#00A08B\",\"#EB663B\",\"#1616A7\",\"#00A08B\",\"#EB663B\",\"#00A08B\",\"#EB663B\",\"#778AAE\",\"#1616A7\",\"#00A08B\",\"#EB663B\",\"#1616A7\",\"#00A08B\",\"#EB663B\",\"#778AAE\",\"#1616A7\",\"#00A08B\",\"#EB663B\",\"#1616A7\",\"#00A08B\",\"#EB663B\",\"#00A08B\",\"#EB663B\",\"#778AAE\",\"#1616A7\",\"#00A08B\",\"#EB663B\",\"#1616A7\",\"#00A08B\",\"#EB663B\",\"#778AAE\",\"#1616A7\",\"#DA60CA\",\"#778AAE\",\"#2E91E5\",\"#222A2A\"],\"colorscale\":\"Bluered\"},{}]}],\"label\":\"Size by FLOPS, color by operation\",\"method\":\"restyle\"},{\"args\":[{\"marker\":[{},{},{\"size\":[6.0,11.250279597842884,6.0,6.0,6.0,12.91881573172255,6.0,6.0,12.91881573172255,6.0,6.0,6.0,12.91881573172255,6.0,6.0,12.91881573172255,6.0,6.0,6.0,13.765679776435459,6.846864044712908,6.0,14.612543821148368,6.846864044712908,11.08118426827745,6.846864044712908,6.0,6.0,14.612543821148368,6.846864044712908,6.0,14.612543821148368,6.846864044712908,6.0,6.0,15.459407865861275,7.693728089425816,6.0,16.306271910574182,7.693728089425816,12.774912357703267,7.693728089425816,6.0,6.0,16.306271910574182,7.693728089425816,6.0,16.306271910574182,7.693728089425816,6.0,6.0,17.15313595528709,8.540592134138725,6.0,18.0,8.540592134138725,14.468640447129083,8.540592134138725,6.0,6.0,18.0,8.540592134138725,6.0,18.0,8.540592134138725,6.0,6.0,6.0,6.0,16.13577641297401,6.0],\"color\":[0.0,1.0,0.0,0.0,0.0,0.9977463574385095,0.0,0.0,0.9977463574385095,0.0,0.22727836885841962,0.0,0.9977463574385095,0.0,0.0,0.9977463574385095,0.0,0.22727836885841962,0.0,0.9219869011523696,0.0,0.0,0.9977463574385095,0.0,0.6818351065752588,0.0,0.15151891257227976,0.0,0.9977463574385095,0.0,0.0,0.9977463574385095,0.0,0.15151891257227976,0.0,0.9219869011523696,0.0,0.0,0.9977463574385095,0.0,0.6818351065752588,0.0,0.07575945628613988,0.0,0.9977463574385095,0.0,0.0,0.9977463574385095,0.0,0.07575945628613988,0.0,0.9219869011523696,0.0,0.0,0.9977463574385095,0.0,0.6818351065752588,0.0,0.0,0.0,0.9977463574385095,0.0,0.0,0.9977463574385095,0.0,0.0,0.0,0.0,0.0,0.4789458351487389,0.0],\"colorscale\":\"Bluered\"},{\"size\":[4.0,6.625139798921442,4.0,4.0,4.0,7.459407865861275,4.0,4.0,7.459407865861275,4.0,4.0,4.0,7.459407865861275,4.0,4.0,7.459407865861275,4.0,4.0,4.0,7.882839888217729,4.4234320223564545,4.0,8.306271910574184,4.4234320223564545,6.540592134138725,4.4234320223564545,4.0,4.0,8.306271910574184,4.4234320223564545,4.0,8.306271910574184,4.4234320223564545,4.0,4.0,8.729703932930637,4.846864044712908,4.0,9.153135955287091,4.846864044712908,7.387456178851633,4.846864044712908,4.0,4.0,9.153135955287091,4.846864044712908,4.0,9.153135955287091,4.846864044712908,4.0,4.0,9.576567977643546,5.270296067069363,4.0,10.0,5.270296067069363,8.234320223564541,5.270296067069363,4.0,4.0,10.0,5.270296067069363,4.0,10.0,5.270296067069363,4.0,4.0,4.0,4.0,9.067888206487005,4.0],\"color\":[0.0,1.0,0.0,0.0,0.0,0.9977463574385095,0.0,0.0,0.9977463574385095,0.0,0.22727836885841962,0.0,0.9977463574385095,0.0,0.0,0.9977463574385095,0.0,0.22727836885841962,0.0,0.9219869011523696,0.0,0.0,0.9977463574385095,0.0,0.6818351065752588,0.0,0.15151891257227976,0.0,0.9977463574385095,0.0,0.0,0.9977463574385095,0.0,0.15151891257227976,0.0,0.9219869011523696,0.0,0.0,0.9977463574385095,0.0,0.6818351065752588,0.0,0.07575945628613988,0.0,0.9977463574385095,0.0,0.0,0.9977463574385095,0.0,0.07575945628613988,0.0,0.9219869011523696,0.0,0.0,0.9977463574385095,0.0,0.6818351065752588,0.0,0.0,0.0,0.9977463574385095,0.0,0.0,0.9977463574385095,0.0,0.0,0.0,0.0,0.0,0.4789458351487389,0.0],\"colorscale\":\"Bluered\"},{}]}],\"label\":\"Size by params, color by FLOPS\",\"method\":\"restyle\"},{\"args\":[{\"marker\":[{},{},{\"size\":[6.0,18.0,6.0,6.0,6.0,17.972956289262115,6.0,6.0,17.972956289262115,6.0,8.727340426301035,6.0,17.972956289262115,6.0,6.0,17.972956289262115,6.0,8.727340426301035,6.0,17.063842813828437,6.0,6.0,17.972956289262115,6.0,14.182021278903106,6.0,7.818226950867357,6.0,17.972956289262115,6.0,6.0,17.972956289262115,6.0,7.818226950867357,6.0,17.063842813828437,6.0,6.0,17.972956289262115,6.0,14.182021278903106,6.0,6.909113475433679,6.0,17.972956289262115,6.0,6.0,17.972956289262115,6.0,6.909113475433679,6.0,17.063842813828437,6.0,6.0,17.972956289262115,6.0,14.182021278903106,6.0,6.0,6.0,17.972956289262115,6.0,6.0,17.972956289262115,6.0,6.0,6.0,6.0,6.0,11.747350021784866,6.0],\"color\":[0.0,0.4375232998202403,0.0,0.0,0.0,0.5765679776435458,0.0,0.0,0.5765679776435458,0.0,0.0,0.0,0.5765679776435458,0.0,0.0,0.5765679776435458,0.0,0.0,0.0,0.6471399813696215,0.0705720037260757,0.0,0.7177119850956972,0.0705720037260757,0.42343202235645416,0.0705720037260757,0.0,0.0,0.7177119850956972,0.0705720037260757,0.0,0.7177119850956972,0.0705720037260757,0.0,0.0,0.7882839888217729,0.1411440074521514,0.0,0.8588559925478486,0.1411440074521514,0.5645760298086056,0.1411440074521514,0.0,0.0,0.8588559925478486,0.1411440074521514,0.0,0.8588559925478486,0.1411440074521514,0.0,0.0,0.9294279962739243,0.21171601117822708,0.0,1.0,0.21171601117822708,0.7057200372607569,0.21171601117822708,0.0,0.0,1.0,0.21171601117822708,0.0,1.0,0.21171601117822708,0.0,0.0,0.0,0.0,0.8446480344145008,0.0],\"colorscale\":\"Bluered\"},{\"size\":[4.0,10.0,4.0,4.0,4.0,9.986478144631057,4.0,4.0,9.986478144631057,4.0,5.363670213150518,4.0,9.986478144631057,4.0,4.0,9.986478144631057,4.0,5.363670213150518,4.0,9.531921406914218,4.0,4.0,9.986478144631057,4.0,8.091010639451554,4.0,4.909113475433679,4.0,9.986478144631057,4.0,4.0,9.986478144631057,4.0,4.909113475433679,4.0,9.531921406914218,4.0,4.0,9.986478144631057,4.0,8.091010639451554,4.0,4.454556737716839,4.0,9.986478144631057,4.0,4.0,9.986478144631057,4.0,4.454556737716839,4.0,9.531921406914218,4.0,4.0,9.986478144631057,4.0,8.091010639451554,4.0,4.0,4.0,9.986478144631057,4.0,4.0,9.986478144631057,4.0,4.0,4.0,4.0,4.0,6.873675010892433,4.0],\"color\":[0.0,0.4375232998202403,0.0,0.0,0.0,0.5765679776435458,0.0,0.0,0.5765679776435458,0.0,0.0,0.0,0.5765679776435458,0.0,0.0,0.5765679776435458,0.0,0.0,0.0,0.6471399813696215,0.0705720037260757,0.0,0.7177119850956972,0.0705720037260757,0.42343202235645416,0.0705720037260757,0.0,0.0,0.7177119850956972,0.0705720037260757,0.0,0.7177119850956972,0.0705720037260757,0.0,0.0,0.7882839888217729,0.1411440074521514,0.0,0.8588559925478486,0.1411440074521514,0.5645760298086056,0.1411440074521514,0.0,0.0,0.8588559925478486,0.1411440074521514,0.0,0.8588559925478486,0.1411440074521514,0.0,0.0,0.9294279962739243,0.21171601117822708,0.0,1.0,0.21171601117822708,0.7057200372607569,0.21171601117822708,0.0,0.0,1.0,0.21171601117822708,0.0,1.0,0.21171601117822708,0.0,0.0,0.0,0.0,0.8446480344145008,0.0],\"colorscale\":\"Bluered\"},{}]}],\"label\":\"Size by FLOPS, color by params\",\"method\":\"restyle\"}],\"direction\":\"up\",\"pad\":{\"b\":0,\"l\":0,\"r\":0,\"t\":8},\"showactive\":true,\"x\":0,\"xanchor\":\"left\",\"y\":0,\"yanchor\":\"top\"}],\"sliders\":[{\"active\":0,\"currentvalue\":{\"visible\":false},\"pad\":{\"b\":0,\"l\":0,\"r\":0,\"t\":48},\"steps\":[{\"args\":[{\"shapes\":[{\"type\":\"rect\",\"xref\":\"x\",\"yref\":\"y\",\"line\":{\"color\":\"#2A3F5F\",\"width\":1},\"fillcolor\":\"rgba(42,63,96,0.2)\",\"x0\":-0.5,\"y0\":-0.25,\"x1\":1.5,\"y1\":9.75}],\"yaxis2\":{\"range\":[9.75,-0.25],\"showgrid\":false,\"zeroline\":false,\"tickmode\":\"array\",\"tickvals\":[]}}],\"label\":\"\",\"method\":\"relayout\"},{\"args\":[{\"shapes\":[{\"type\":\"rect\",\"xref\":\"x\",\"yref\":\"y\",\"line\":{\"color\":\"#2A3F5F\",\"width\":1},\"fillcolor\":\"rgba(42,63,96,0.2)\",\"x0\":-0.5,\"y0\":1.9375,\"x1\":1.5,\"y1\":11.9375}],\"yaxis2\":{\"range\":[11.9375,1.9375],\"showgrid\":false,\"zeroline\":false,\"tickmode\":\"array\",\"tickvals\":[]}}],\"label\":\"\",\"method\":\"relayout\"},{\"args\":[{\"shapes\":[{\"type\":\"rect\",\"xref\":\"x\",\"yref\":\"y\",\"line\":{\"color\":\"#2A3F5F\",\"width\":1},\"fillcolor\":\"rgba(42,63,96,0.2)\",\"x0\":-0.5,\"y0\":4.125,\"x1\":1.5,\"y1\":14.125}],\"yaxis2\":{\"range\":[14.125,4.125],\"showgrid\":false,\"zeroline\":false,\"tickmode\":\"array\",\"tickvals\":[]}}],\"label\":\"\",\"method\":\"relayout\"},{\"args\":[{\"shapes\":[{\"type\":\"rect\",\"xref\":\"x\",\"yref\":\"y\",\"line\":{\"color\":\"#2A3F5F\",\"width\":1},\"fillcolor\":\"rgba(42,63,96,0.2)\",\"x0\":-0.5,\"y0\":6.3125,\"x1\":1.5,\"y1\":16.3125}],\"yaxis2\":{\"range\":[16.3125,6.3125],\"showgrid\":false,\"zeroline\":false,\"tickmode\":\"array\",\"tickvals\":[]}}],\"label\":\"\",\"method\":\"relayout\"},{\"args\":[{\"shapes\":[{\"type\":\"rect\",\"xref\":\"x\",\"yref\":\"y\",\"line\":{\"color\":\"#2A3F5F\",\"width\":1},\"fillcolor\":\"rgba(42,63,96,0.2)\",\"x0\":-0.5,\"y0\":8.5,\"x1\":1.5,\"y1\":18.5}],\"yaxis2\":{\"range\":[18.5,8.5],\"showgrid\":false,\"zeroline\":false,\"tickmode\":\"array\",\"tickvals\":[]}}],\"label\":\"\",\"method\":\"relayout\"},{\"args\":[{\"shapes\":[{\"type\":\"rect\",\"xref\":\"x\",\"yref\":\"y\",\"line\":{\"color\":\"#2A3F5F\",\"width\":1},\"fillcolor\":\"rgba(42,63,96,0.2)\",\"x0\":-0.5,\"y0\":10.6875,\"x1\":1.5,\"y1\":20.6875}],\"yaxis2\":{\"range\":[20.6875,10.6875],\"showgrid\":false,\"zeroline\":false,\"tickmode\":\"array\",\"tickvals\":[]}}],\"label\":\"\",\"method\":\"relayout\"},{\"args\":[{\"shapes\":[{\"type\":\"rect\",\"xref\":\"x\",\"yref\":\"y\",\"line\":{\"color\":\"#2A3F5F\",\"width\":1},\"fillcolor\":\"rgba(42,63,96,0.2)\",\"x0\":-0.5,\"y0\":12.875,\"x1\":1.5,\"y1\":22.875}],\"yaxis2\":{\"range\":[22.875,12.875],\"showgrid\":false,\"zeroline\":false,\"tickmode\":\"array\",\"tickvals\":[]}}],\"label\":\"\",\"method\":\"relayout\"},{\"args\":[{\"shapes\":[{\"type\":\"rect\",\"xref\":\"x\",\"yref\":\"y\",\"line\":{\"color\":\"#2A3F5F\",\"width\":1},\"fillcolor\":\"rgba(42,63,96,0.2)\",\"x0\":-0.5,\"y0\":15.0625,\"x1\":1.5,\"y1\":25.0625}],\"yaxis2\":{\"range\":[25.0625,15.0625],\"showgrid\":false,\"zeroline\":false,\"tickmode\":\"array\",\"tickvals\":[]}}],\"label\":\"\",\"method\":\"relayout\"},{\"args\":[{\"shapes\":[{\"type\":\"rect\",\"xref\":\"x\",\"yref\":\"y\",\"line\":{\"color\":\"#2A3F5F\",\"width\":1},\"fillcolor\":\"rgba(42,63,96,0.2)\",\"x0\":-0.5,\"y0\":17.25,\"x1\":1.5,\"y1\":27.25}],\"yaxis2\":{\"range\":[27.25,17.25],\"showgrid\":false,\"zeroline\":false,\"tickmode\":\"array\",\"tickvals\":[]}}],\"label\":\"\",\"method\":\"relayout\"}],\"ticklen\":0,\"tickwidth\":0,\"x\":0,\"xanchor\":\"left\",\"y\":0,\"yanchor\":\"top\"}],\"margin\":{\"l\":0,\"r\":0,\"t\":0,\"b\":0},\"modebar\":{\"remove\":[\"select\",\"lasso\"],\"orientation\":\"v\"}},                        {\"responsive\": true}                    ).then(function(){\n",
       "                            \n",
       "var gd = document.getElementById('27999197-4a79-4f83-854c-4fa8394babe0');\n",
       "var x = new MutationObserver(function (mutations, observer) {{\n",
       "        var display = window.getComputedStyle(gd).display;\n",
       "        if (!display || display === 'none') {{\n",
       "            console.log([gd, 'removed!']);\n",
       "            Plotly.purge(gd);\n",
       "            observer.disconnect();\n",
       "        }}\n",
       "}});\n",
       "\n",
       "// Listen for the removal of the full notebook cells\n",
       "var notebookContainer = gd.closest('#notebook-container');\n",
       "if (notebookContainer) {{\n",
       "    x.observe(notebookContainer, {childList: true});\n",
       "}}\n",
       "\n",
       "// Listen for the clearing of the current output cell\n",
       "var outputEl = gd.closest('.output');\n",
       "if (outputEl) {{\n",
       "    x.observe(outputEl, {childList: true});\n",
       "}}\n",
       "\n",
       "                        })                };                });            </script>        </div>"
      ]
     },
     "metadata": {},
     "output_type": "display_data"
    }
   ],
   "source": [
    "import torch, torchvision\n",
    "from idlmav import MAV, plotly_renderer\n",
    "device = 'cpu'\n",
    "model = torchvision.models.resnet18().to(device)\n",
    "x = torch.randn(16,3,160,160).to(device)\n",
    "mav = MAV(model, x, device=device)\n",
    "\n",
    "with plotly_renderer('notebook_connected'):\n",
    "    mav.show_figure(add_slider=True, add_overview=True, add_table=True)"
   ]
  },
  {
   "cell_type": "code",
   "execution_count": 2,
   "metadata": {},
   "outputs": [
    {
     "data": {
      "application/vnd.jupyter.widget-view+json": {
       "model_id": "6ae2455dee404decb0a6f4dd25fb1c9c",
       "version_major": 2,
       "version_minor": 0
      },
      "text/plain": [
       "VBox(children=(HBox(children=(Box(children=(FloatRangeSlider(value=(-9.5, 0.5), layout=Layout(height='400px'),…"
      ]
     },
     "metadata": {},
     "output_type": "display_data"
    },
    {
     "data": {
      "application/javascript": "document.getElementById(\"scr_table_140435767348096_1741307585293\").scrollTo({behavior:\"smooth\", top:0, left:0});",
      "text/plain": [
       "<IPython.core.display.Javascript object>"
      ]
     },
     "metadata": {},
     "output_type": "display_data"
    }
   ],
   "source": [
    "mav.show_widget(add_slider=True, add_overview=True, add_table=True)"
   ]
  },
  {
   "cell_type": "markdown",
   "metadata": {},
   "source": [
    "## Install directly from GitHub"
   ]
  },
  {
   "cell_type": "markdown",
   "metadata": {},
   "source": [
    "### Test in a temporary virtual environment"
   ]
  },
  {
   "cell_type": "markdown",
   "metadata": {},
   "source": [
    "* Ensure that this notebook's kernel is running in the main virtual environment (.venv)\n",
    "* Restart the kernel if changed"
   ]
  },
  {
   "cell_type": "code",
   "execution_count": 2,
   "metadata": {},
   "outputs": [
    {
     "name": "stdout",
     "output_type": "stream",
     "text": [
      "/home/dev/ai\n"
     ]
    }
   ],
   "source": [
    "from pathlib import Path\n",
    "project_root = str(Path.cwd().parent)\n",
    "%cd {project_root}\n",
    "\n",
    "!rm -rf .venv_temp\n",
    "!python -m venv .venv_temp"
   ]
  },
  {
   "cell_type": "markdown",
   "metadata": {},
   "source": [
    "* Change this notebook's kernel to run in the temporary virtual environment (.venv_temp)\n",
    "* Restart the kernel"
   ]
  },
  {
   "cell_type": "code",
   "execution_count": 1,
   "metadata": {},
   "outputs": [
    {
     "name": "stdout",
     "output_type": "stream",
     "text": [
      "Looking in indexes: https://download.pytorch.org/whl/cu118\n",
      "Collecting torch\n",
      "  Using cached https://download.pytorch.org/whl/cu118/torch-2.6.0%2Bcu118-cp310-cp310-linux_x86_64.whl (848.7 MB)\n",
      "Collecting torchvision\n",
      "  Using cached https://download.pytorch.org/whl/cu118/torchvision-0.21.0%2Bcu118-cp310-cp310-linux_x86_64.whl (6.5 MB)\n",
      "Collecting torchaudio\n",
      "  Using cached https://download.pytorch.org/whl/cu118/torchaudio-2.6.0%2Bcu118-cp310-cp310-linux_x86_64.whl (3.3 MB)\n",
      "Collecting nvidia-cufft-cu11==10.9.0.58\n",
      "  Using cached https://download.pytorch.org/whl/cu118/nvidia_cufft_cu11-10.9.0.58-py3-none-manylinux1_x86_64.whl (168.4 MB)\n",
      "Collecting nvidia-nvtx-cu11==11.8.86\n",
      "  Using cached https://download.pytorch.org/whl/cu118/nvidia_nvtx_cu11-11.8.86-py3-none-manylinux1_x86_64.whl (99 kB)\n",
      "Collecting fsspec\n",
      "  Using cached https://download.pytorch.org/whl/fsspec-2024.6.1-py3-none-any.whl (177 kB)\n",
      "Collecting nvidia-cuda-nvrtc-cu11==11.8.89\n",
      "  Using cached https://download.pytorch.org/whl/cu118/nvidia_cuda_nvrtc_cu11-11.8.89-py3-none-manylinux1_x86_64.whl (23.2 MB)\n",
      "Collecting nvidia-cuda-cupti-cu11==11.8.87\n",
      "  Using cached https://download.pytorch.org/whl/cu118/nvidia_cuda_cupti_cu11-11.8.87-py3-none-manylinux1_x86_64.whl (13.1 MB)\n",
      "Collecting nvidia-cublas-cu11==11.11.3.6\n",
      "  Using cached https://download.pytorch.org/whl/cu118/nvidia_cublas_cu11-11.11.3.6-py3-none-manylinux1_x86_64.whl (417.9 MB)\n",
      "Collecting networkx\n",
      "  Using cached https://download.pytorch.org/whl/networkx-3.3-py3-none-any.whl (1.7 MB)\n",
      "Collecting nvidia-curand-cu11==10.3.0.86\n",
      "  Using cached https://download.pytorch.org/whl/cu118/nvidia_curand_cu11-10.3.0.86-py3-none-manylinux1_x86_64.whl (58.1 MB)\n",
      "Collecting nvidia-cudnn-cu11==9.1.0.70\n",
      "  Using cached https://download.pytorch.org/whl/cu118/nvidia_cudnn_cu11-9.1.0.70-py3-none-manylinux2014_x86_64.whl (663.9 MB)\n",
      "Collecting nvidia-nccl-cu11==2.21.5\n",
      "  Using cached https://download.pytorch.org/whl/cu118/nvidia_nccl_cu11-2.21.5-py3-none-manylinux2014_x86_64.whl (147.8 MB)\n",
      "Requirement already satisfied: typing-extensions>=4.10.0 in /home/dev/ai/idlmav/.venv_temp/lib/python3.10/site-packages (from torch) (4.12.2)\n",
      "Collecting triton==3.2.0\n",
      "  Using cached https://download.pytorch.org/whl/triton-3.2.0-cp310-cp310-manylinux_2_27_x86_64.manylinux_2_28_x86_64.whl (166.6 MB)\n",
      "Collecting sympy==1.13.1\n",
      "  Using cached https://download.pytorch.org/whl/sympy-1.13.1-py3-none-any.whl (6.2 MB)\n",
      "Collecting filelock\n",
      "  Using cached https://download.pytorch.org/whl/filelock-3.13.1-py3-none-any.whl (11 kB)\n",
      "Collecting nvidia-cusparse-cu11==11.7.5.86\n",
      "  Using cached https://download.pytorch.org/whl/cu118/nvidia_cusparse_cu11-11.7.5.86-py3-none-manylinux1_x86_64.whl (204.1 MB)\n",
      "Collecting nvidia-cusolver-cu11==11.4.1.48\n",
      "  Using cached https://download.pytorch.org/whl/cu118/nvidia_cusolver_cu11-11.4.1.48-py3-none-manylinux1_x86_64.whl (128.2 MB)\n",
      "Collecting jinja2\n",
      "  Using cached https://download.pytorch.org/whl/Jinja2-3.1.4-py3-none-any.whl (133 kB)\n",
      "Collecting nvidia-cuda-runtime-cu11==11.8.89\n",
      "  Using cached https://download.pytorch.org/whl/cu118/nvidia_cuda_runtime_cu11-11.8.89-py3-none-manylinux1_x86_64.whl (875 kB)\n",
      "Collecting mpmath<1.4,>=1.1.0\n",
      "  Using cached https://download.pytorch.org/whl/mpmath-1.3.0-py3-none-any.whl (536 kB)\n",
      "Collecting numpy\n",
      "  Using cached https://download.pytorch.org/whl/numpy-2.1.2-cp310-cp310-manylinux_2_17_x86_64.manylinux2014_x86_64.whl (16.3 MB)\n",
      "Collecting pillow!=8.3.*,>=5.3.0\n",
      "  Using cached https://download.pytorch.org/whl/pillow-11.0.0-cp310-cp310-manylinux_2_28_x86_64.whl (4.4 MB)\n",
      "Collecting MarkupSafe>=2.0\n",
      "  Using cached https://download.pytorch.org/whl/MarkupSafe-2.1.5-cp310-cp310-manylinux_2_17_x86_64.manylinux2014_x86_64.whl (25 kB)\n",
      "Installing collected packages: triton, mpmath, sympy, pillow, nvidia-nvtx-cu11, nvidia-nccl-cu11, nvidia-cusparse-cu11, nvidia-curand-cu11, nvidia-cufft-cu11, nvidia-cuda-runtime-cu11, nvidia-cuda-nvrtc-cu11, nvidia-cuda-cupti-cu11, nvidia-cublas-cu11, numpy, networkx, MarkupSafe, fsspec, filelock, nvidia-cusolver-cu11, nvidia-cudnn-cu11, jinja2, torch, torchvision, torchaudio\n",
      "Successfully installed MarkupSafe-2.1.5 filelock-3.13.1 fsspec-2024.6.1 jinja2-3.1.4 mpmath-1.3.0 networkx-3.3 numpy-2.1.2 nvidia-cublas-cu11-11.11.3.6 nvidia-cuda-cupti-cu11-11.8.87 nvidia-cuda-nvrtc-cu11-11.8.89 nvidia-cuda-runtime-cu11-11.8.89 nvidia-cudnn-cu11-9.1.0.70 nvidia-cufft-cu11-10.9.0.58 nvidia-curand-cu11-10.3.0.86 nvidia-cusolver-cu11-11.4.1.48 nvidia-cusparse-cu11-11.7.5.86 nvidia-nccl-cu11-2.21.5 nvidia-nvtx-cu11-11.8.86 pillow-11.0.0 sympy-1.13.1 torch-2.6.0+cu118 torchaudio-2.6.0+cu118 torchvision-0.21.0+cu118 triton-3.2.0\n",
      "Note: you may need to restart the kernel to use updated packages.\n",
      "Collecting plotly<6,>=5\n",
      "  Using cached plotly-5.24.1-py3-none-any.whl (19.1 MB)\n",
      "Requirement already satisfied: packaging in /home/dev/ai/idlmav/.venv_temp/lib/python3.10/site-packages (from plotly<6,>=5) (24.2)\n",
      "Collecting tenacity>=6.2.0\n",
      "  Using cached tenacity-9.0.0-py3-none-any.whl (28 kB)\n",
      "Installing collected packages: tenacity, plotly\n",
      "Successfully installed plotly-5.24.1 tenacity-9.0.0\n",
      "Note: you may need to restart the kernel to use updated packages.\n"
     ]
    }
   ],
   "source": [
    "%pip install torch torchvision torchaudio --index-url https://download.pytorch.org/whl/cu118\n",
    "%pip install \"plotly>=5,<6\""
   ]
  },
  {
   "cell_type": "code",
   "execution_count": 2,
   "metadata": {},
   "outputs": [
    {
     "name": "stdout",
     "output_type": "stream",
     "text": [
      "Collecting git+https://github.com/d112358/idlmav.git\n",
      "  Cloning https://github.com/d112358/idlmav.git to /tmp/pip-req-build-jh180rwf\n",
      "  Running command git clone --filter=blob:none --quiet https://github.com/d112358/idlmav.git /tmp/pip-req-build-jh180rwf\n",
      "  Resolved https://github.com/d112358/idlmav.git to commit 37ec5e3fb84da62bac65a67dbac4eff0f3910462\n",
      "  Installing build dependencies ... \u001b[?25ldone\n",
      "\u001b[?25h  Getting requirements to build wheel ... \u001b[?25ldone\n",
      "\u001b[?25h  Preparing metadata (pyproject.toml) ... \u001b[?25ldone\n",
      "\u001b[?25hRequirement already satisfied: numpy in /home/dev/ai/idlmav/.venv_temp/lib/python3.10/site-packages (from idlmav==1.1.0) (2.1.2)\n",
      "Collecting munkres\n",
      "  Using cached munkres-1.1.4-py2.py3-none-any.whl (7.0 kB)\n",
      "Collecting tabulate\n",
      "  Using cached tabulate-0.9.0-py3-none-any.whl (35 kB)\n",
      "Requirement already satisfied: torch>=2.3.0 in /home/dev/ai/idlmav/.venv_temp/lib/python3.10/site-packages (from idlmav==1.1.0) (2.6.0+cu118)\n",
      "Requirement already satisfied: plotly in /home/dev/ai/idlmav/.venv_temp/lib/python3.10/site-packages (from idlmav==1.1.0) (5.24.1)\n",
      "Collecting ipywidgets\n",
      "  Using cached ipywidgets-8.1.5-py3-none-any.whl (139 kB)\n",
      "Collecting nbformat\n",
      "  Using cached nbformat-5.10.4-py3-none-any.whl (78 kB)\n",
      "Requirement already satisfied: typing-extensions>=4.10.0 in /home/dev/ai/idlmav/.venv_temp/lib/python3.10/site-packages (from torch>=2.3.0->idlmav==1.1.0) (4.12.2)\n",
      "Requirement already satisfied: nvidia-cudnn-cu11==9.1.0.70 in /home/dev/ai/idlmav/.venv_temp/lib/python3.10/site-packages (from torch>=2.3.0->idlmav==1.1.0) (9.1.0.70)\n",
      "Requirement already satisfied: nvidia-cusolver-cu11==11.4.1.48 in /home/dev/ai/idlmav/.venv_temp/lib/python3.10/site-packages (from torch>=2.3.0->idlmav==1.1.0) (11.4.1.48)\n",
      "Requirement already satisfied: nvidia-nccl-cu11==2.21.5 in /home/dev/ai/idlmav/.venv_temp/lib/python3.10/site-packages (from torch>=2.3.0->idlmav==1.1.0) (2.21.5)\n",
      "Requirement already satisfied: nvidia-nvtx-cu11==11.8.86 in /home/dev/ai/idlmav/.venv_temp/lib/python3.10/site-packages (from torch>=2.3.0->idlmav==1.1.0) (11.8.86)\n",
      "Requirement already satisfied: nvidia-cublas-cu11==11.11.3.6 in /home/dev/ai/idlmav/.venv_temp/lib/python3.10/site-packages (from torch>=2.3.0->idlmav==1.1.0) (11.11.3.6)\n",
      "Requirement already satisfied: nvidia-curand-cu11==10.3.0.86 in /home/dev/ai/idlmav/.venv_temp/lib/python3.10/site-packages (from torch>=2.3.0->idlmav==1.1.0) (10.3.0.86)\n",
      "Requirement already satisfied: sympy==1.13.1 in /home/dev/ai/idlmav/.venv_temp/lib/python3.10/site-packages (from torch>=2.3.0->idlmav==1.1.0) (1.13.1)\n",
      "Requirement already satisfied: nvidia-cufft-cu11==10.9.0.58 in /home/dev/ai/idlmav/.venv_temp/lib/python3.10/site-packages (from torch>=2.3.0->idlmav==1.1.0) (10.9.0.58)\n",
      "Requirement already satisfied: triton==3.2.0 in /home/dev/ai/idlmav/.venv_temp/lib/python3.10/site-packages (from torch>=2.3.0->idlmav==1.1.0) (3.2.0)\n",
      "Requirement already satisfied: nvidia-cuda-nvrtc-cu11==11.8.89 in /home/dev/ai/idlmav/.venv_temp/lib/python3.10/site-packages (from torch>=2.3.0->idlmav==1.1.0) (11.8.89)\n",
      "Requirement already satisfied: fsspec in /home/dev/ai/idlmav/.venv_temp/lib/python3.10/site-packages (from torch>=2.3.0->idlmav==1.1.0) (2024.6.1)\n",
      "Requirement already satisfied: jinja2 in /home/dev/ai/idlmav/.venv_temp/lib/python3.10/site-packages (from torch>=2.3.0->idlmav==1.1.0) (3.1.4)\n",
      "Requirement already satisfied: nvidia-cuda-runtime-cu11==11.8.89 in /home/dev/ai/idlmav/.venv_temp/lib/python3.10/site-packages (from torch>=2.3.0->idlmav==1.1.0) (11.8.89)\n",
      "Requirement already satisfied: nvidia-cusparse-cu11==11.7.5.86 in /home/dev/ai/idlmav/.venv_temp/lib/python3.10/site-packages (from torch>=2.3.0->idlmav==1.1.0) (11.7.5.86)\n",
      "Requirement already satisfied: networkx in /home/dev/ai/idlmav/.venv_temp/lib/python3.10/site-packages (from torch>=2.3.0->idlmav==1.1.0) (3.3)\n",
      "Requirement already satisfied: filelock in /home/dev/ai/idlmav/.venv_temp/lib/python3.10/site-packages (from torch>=2.3.0->idlmav==1.1.0) (3.13.1)\n",
      "Requirement already satisfied: nvidia-cuda-cupti-cu11==11.8.87 in /home/dev/ai/idlmav/.venv_temp/lib/python3.10/site-packages (from torch>=2.3.0->idlmav==1.1.0) (11.8.87)\n",
      "Requirement already satisfied: mpmath<1.4,>=1.1.0 in /home/dev/ai/idlmav/.venv_temp/lib/python3.10/site-packages (from sympy==1.13.1->torch>=2.3.0->idlmav==1.1.0) (1.3.0)\n",
      "Requirement already satisfied: ipython>=6.1.0 in /home/dev/ai/idlmav/.venv_temp/lib/python3.10/site-packages (from ipywidgets->idlmav==1.1.0) (8.33.0)\n",
      "Collecting jupyterlab-widgets~=3.0.12\n",
      "  Using cached jupyterlab_widgets-3.0.13-py3-none-any.whl (214 kB)\n",
      "Requirement already satisfied: comm>=0.1.3 in /home/dev/ai/idlmav/.venv_temp/lib/python3.10/site-packages (from ipywidgets->idlmav==1.1.0) (0.2.2)\n",
      "Requirement already satisfied: traitlets>=4.3.1 in /home/dev/ai/idlmav/.venv_temp/lib/python3.10/site-packages (from ipywidgets->idlmav==1.1.0) (5.14.3)\n",
      "Collecting widgetsnbextension~=4.0.12\n",
      "  Using cached widgetsnbextension-4.0.13-py3-none-any.whl (2.3 MB)\n",
      "Collecting jsonschema>=2.6\n",
      "  Using cached jsonschema-4.23.0-py3-none-any.whl (88 kB)\n",
      "Requirement already satisfied: jupyter-core!=5.0.*,>=4.12 in /home/dev/ai/idlmav/.venv_temp/lib/python3.10/site-packages (from nbformat->idlmav==1.1.0) (5.7.2)\n",
      "Collecting fastjsonschema>=2.15\n",
      "  Using cached fastjsonschema-2.21.1-py3-none-any.whl (23 kB)\n",
      "Requirement already satisfied: packaging in /home/dev/ai/idlmav/.venv_temp/lib/python3.10/site-packages (from plotly->idlmav==1.1.0) (24.2)\n",
      "Requirement already satisfied: tenacity>=6.2.0 in /home/dev/ai/idlmav/.venv_temp/lib/python3.10/site-packages (from plotly->idlmav==1.1.0) (9.0.0)\n",
      "Requirement already satisfied: pexpect>4.3 in /home/dev/ai/idlmav/.venv_temp/lib/python3.10/site-packages (from ipython>=6.1.0->ipywidgets->idlmav==1.1.0) (4.9.0)\n",
      "Requirement already satisfied: matplotlib-inline in /home/dev/ai/idlmav/.venv_temp/lib/python3.10/site-packages (from ipython>=6.1.0->ipywidgets->idlmav==1.1.0) (0.1.7)\n",
      "Requirement already satisfied: stack_data in /home/dev/ai/idlmav/.venv_temp/lib/python3.10/site-packages (from ipython>=6.1.0->ipywidgets->idlmav==1.1.0) (0.6.3)\n",
      "Requirement already satisfied: exceptiongroup in /home/dev/ai/idlmav/.venv_temp/lib/python3.10/site-packages (from ipython>=6.1.0->ipywidgets->idlmav==1.1.0) (1.2.2)\n",
      "Requirement already satisfied: pygments>=2.4.0 in /home/dev/ai/idlmav/.venv_temp/lib/python3.10/site-packages (from ipython>=6.1.0->ipywidgets->idlmav==1.1.0) (2.19.1)\n",
      "Requirement already satisfied: jedi>=0.16 in /home/dev/ai/idlmav/.venv_temp/lib/python3.10/site-packages (from ipython>=6.1.0->ipywidgets->idlmav==1.1.0) (0.19.2)\n",
      "Requirement already satisfied: prompt_toolkit<3.1.0,>=3.0.41 in /home/dev/ai/idlmav/.venv_temp/lib/python3.10/site-packages (from ipython>=6.1.0->ipywidgets->idlmav==1.1.0) (3.0.50)\n",
      "Requirement already satisfied: decorator in /home/dev/ai/idlmav/.venv_temp/lib/python3.10/site-packages (from ipython>=6.1.0->ipywidgets->idlmav==1.1.0) (5.2.1)\n",
      "Collecting referencing>=0.28.4\n",
      "  Using cached referencing-0.36.2-py3-none-any.whl (26 kB)\n",
      "Collecting attrs>=22.2.0\n",
      "  Using cached attrs-25.1.0-py3-none-any.whl (63 kB)\n",
      "Collecting rpds-py>=0.7.1\n",
      "  Using cached rpds_py-0.23.1-cp310-cp310-manylinux_2_17_x86_64.manylinux2014_x86_64.whl (386 kB)\n",
      "Collecting jsonschema-specifications>=2023.03.6\n",
      "  Using cached jsonschema_specifications-2024.10.1-py3-none-any.whl (18 kB)\n",
      "Requirement already satisfied: platformdirs>=2.5 in /home/dev/ai/idlmav/.venv_temp/lib/python3.10/site-packages (from jupyter-core!=5.0.*,>=4.12->nbformat->idlmav==1.1.0) (4.3.6)\n",
      "Requirement already satisfied: MarkupSafe>=2.0 in /home/dev/ai/idlmav/.venv_temp/lib/python3.10/site-packages (from jinja2->torch>=2.3.0->idlmav==1.1.0) (2.1.5)\n",
      "Requirement already satisfied: parso<0.9.0,>=0.8.4 in /home/dev/ai/idlmav/.venv_temp/lib/python3.10/site-packages (from jedi>=0.16->ipython>=6.1.0->ipywidgets->idlmav==1.1.0) (0.8.4)\n",
      "Requirement already satisfied: ptyprocess>=0.5 in /home/dev/ai/idlmav/.venv_temp/lib/python3.10/site-packages (from pexpect>4.3->ipython>=6.1.0->ipywidgets->idlmav==1.1.0) (0.7.0)\n",
      "Requirement already satisfied: wcwidth in /home/dev/ai/idlmav/.venv_temp/lib/python3.10/site-packages (from prompt_toolkit<3.1.0,>=3.0.41->ipython>=6.1.0->ipywidgets->idlmav==1.1.0) (0.2.13)\n",
      "Requirement already satisfied: pure-eval in /home/dev/ai/idlmav/.venv_temp/lib/python3.10/site-packages (from stack_data->ipython>=6.1.0->ipywidgets->idlmav==1.1.0) (0.2.3)\n",
      "Requirement already satisfied: asttokens>=2.1.0 in /home/dev/ai/idlmav/.venv_temp/lib/python3.10/site-packages (from stack_data->ipython>=6.1.0->ipywidgets->idlmav==1.1.0) (3.0.0)\n",
      "Requirement already satisfied: executing>=1.2.0 in /home/dev/ai/idlmav/.venv_temp/lib/python3.10/site-packages (from stack_data->ipython>=6.1.0->ipywidgets->idlmav==1.1.0) (2.2.0)\n",
      "Building wheels for collected packages: idlmav\n",
      "  Building wheel for idlmav (pyproject.toml) ... \u001b[?25ldone\n",
      "\u001b[?25h  Created wheel for idlmav: filename=idlmav-1.1.0-py3-none-any.whl size=55492 sha256=48c1c27ed2e0b4fa3148f49edc62e780215c279515ba95a6d98dcb68006bd8db\n",
      "  Stored in directory: /tmp/pip-ephem-wheel-cache-1bk621i6/wheels/51/a4/e6/3bc66208df7c6cbe818b92bf4fc2f55aff92c4b31b8e2bbf5a\n",
      "Successfully built idlmav\n",
      "Installing collected packages: munkres, fastjsonschema, widgetsnbextension, tabulate, rpds-py, jupyterlab-widgets, attrs, referencing, jsonschema-specifications, ipywidgets, jsonschema, nbformat, idlmav\n",
      "Successfully installed attrs-25.1.0 fastjsonschema-2.21.1 idlmav-1.1.0 ipywidgets-8.1.5 jsonschema-4.23.0 jsonschema-specifications-2024.10.1 jupyterlab-widgets-3.0.13 munkres-1.1.4 nbformat-5.10.4 referencing-0.36.2 rpds-py-0.23.1 tabulate-0.9.0 widgetsnbextension-4.0.13\n",
      "Note: you may need to restart the kernel to use updated packages.\n"
     ]
    }
   ],
   "source": [
    "%pip install git+https://github.com/d112358/idlmav.git"
   ]
  },
  {
   "cell_type": "code",
   "execution_count": 3,
   "metadata": {},
   "outputs": [
    {
     "data": {
      "application/vnd.plotly.v1+json": {
       "config": {
        "plotlyServerURL": "https://plot.ly"
       },
       "data": [
        {
         "hoverinfo": "skip",
         "line": {
          "color": "gray",
          "width": 1
         },
         "mode": "lines",
         "showlegend": false,
         "type": "scatter",
         "x": [
          0,
          0,
          null,
          0,
          0,
          null,
          0,
          0,
          null,
          0,
          0,
          null,
          0,
          0,
          null,
          0,
          0,
          null,
          0,
          0,
          null,
          0,
          0,
          null,
          0,
          0,
          null,
          0,
          0,
          null,
          0,
          0.4,
          0.4,
          0,
          null,
          0,
          0,
          null,
          0,
          0,
          null,
          0,
          0,
          null,
          0,
          0,
          null,
          0,
          0,
          null,
          0,
          0,
          null,
          0,
          0,
          null,
          0,
          -0.4,
          -0.4,
          0,
          null,
          0,
          0,
          null,
          0,
          0,
          null,
          0,
          0,
          null,
          0,
          0,
          null,
          0,
          0,
          null,
          0,
          0,
          null,
          0,
          1,
          null,
          1,
          1,
          null,
          0,
          0,
          null,
          1,
          0,
          null,
          0,
          0,
          null,
          0,
          0,
          null,
          0,
          0,
          null,
          0,
          0,
          null,
          0,
          0,
          null,
          0,
          0,
          null,
          0,
          0,
          null,
          0,
          -0.4,
          -0.4,
          0,
          null,
          0,
          0,
          null,
          0,
          0,
          null,
          0,
          0,
          null,
          0,
          0,
          null,
          0,
          0,
          null,
          0,
          0,
          null,
          0,
          1,
          null,
          1,
          1,
          null,
          0,
          0,
          null,
          1,
          0,
          null,
          0,
          0,
          null,
          0,
          0,
          null,
          0,
          0,
          null,
          0,
          0,
          null,
          0,
          0,
          null,
          0,
          0,
          null,
          0,
          0,
          null,
          0,
          -0.4,
          -0.4,
          0,
          null,
          0,
          0,
          null,
          0,
          0,
          null,
          0,
          0,
          null,
          0,
          0,
          null,
          0,
          0,
          null,
          0,
          0,
          null,
          0,
          1,
          null,
          1,
          1,
          null,
          0,
          0,
          null,
          1,
          0,
          null,
          0,
          0,
          null,
          0,
          0,
          null,
          0,
          0,
          null,
          0,
          0,
          null,
          0,
          0,
          null,
          0,
          0,
          null,
          0,
          0,
          null,
          0,
          -0.4,
          -0.4,
          0,
          null,
          0,
          0,
          null,
          0,
          0,
          null,
          0,
          0,
          null,
          0,
          0,
          null,
          0,
          0
         ],
         "xaxis": "x",
         "y": [
          0,
          1,
          null,
          1,
          1.15,
          null,
          1.15,
          1.3,
          null,
          1.3,
          1.45,
          null,
          1.45,
          2,
          null,
          2,
          2.15,
          null,
          2.15,
          2.3,
          null,
          2.3,
          3,
          null,
          3,
          3.15,
          null,
          3.15,
          4,
          null,
          1.45,
          1.95,
          3.5,
          4,
          null,
          4,
          4.15,
          null,
          4.15,
          5,
          null,
          5,
          5.15,
          null,
          5.15,
          5.3,
          null,
          5.3,
          6,
          null,
          6,
          6.15,
          null,
          6.15,
          7,
          null,
          4.15,
          4.65,
          6.5,
          7,
          null,
          7,
          7.15,
          null,
          7.15,
          8,
          null,
          8,
          8.15,
          null,
          8.15,
          8.3,
          null,
          8.3,
          9,
          null,
          9,
          9.15,
          null,
          7.15,
          9,
          null,
          9,
          9.15,
          null,
          9.15,
          10,
          null,
          9.15,
          10,
          null,
          10,
          10.15,
          null,
          10.15,
          11,
          null,
          11,
          11.15,
          null,
          11.15,
          11.3,
          null,
          11.3,
          12,
          null,
          12,
          12.15,
          null,
          12.15,
          13,
          null,
          10.15,
          10.65,
          12.5,
          13,
          null,
          13,
          13.15,
          null,
          13.15,
          14,
          null,
          14,
          14.15,
          null,
          14.15,
          14.3,
          null,
          14.3,
          15,
          null,
          15,
          15.15,
          null,
          13.15,
          15,
          null,
          15,
          15.15,
          null,
          15.15,
          16,
          null,
          15.15,
          16,
          null,
          16,
          16.15,
          null,
          16.15,
          17,
          null,
          17,
          17.15,
          null,
          17.15,
          17.3,
          null,
          17.3,
          18,
          null,
          18,
          18.15,
          null,
          18.15,
          19,
          null,
          16.15,
          16.65,
          18.5,
          19,
          null,
          19,
          19.15,
          null,
          19.15,
          20,
          null,
          20,
          20.15,
          null,
          20.15,
          20.3,
          null,
          20.3,
          21,
          null,
          21,
          21.15,
          null,
          19.15,
          21,
          null,
          21,
          21.15,
          null,
          21.15,
          22,
          null,
          21.15,
          22,
          null,
          22,
          22.15,
          null,
          22.15,
          23,
          null,
          23,
          23.15,
          null,
          23.15,
          23.3,
          null,
          23.3,
          24,
          null,
          24,
          24.15,
          null,
          24.15,
          25,
          null,
          22.15,
          22.65,
          24.5,
          25,
          null,
          25,
          25.15,
          null,
          25.15,
          25.3,
          null,
          25.3,
          25.45,
          null,
          25.45,
          26,
          null,
          26,
          27
         ],
         "yaxis": "y"
        },
        {
         "customdata": [
          [
           "x",
           "input",
           "(16,3,160,160)",
           "0",
           "0",
           "()",
           "{}"
          ],
          [
           "conv1",
           "nn.Conv2d",
           "(16,64,80,80)",
           "9 408",
           "1 926 758 400",
           "(x,)",
           "{}"
          ],
          [
           "bn1",
           "nn.BatchNorm2d",
           "(16,64,80,80)",
           "128",
           "0",
           "(conv1,)",
           "{}"
          ],
          [
           "relu",
           "nn.ReLU",
           "(16,64,80,80)",
           "0",
           "0",
           "(bn1,)",
           "{}"
          ],
          [
           "maxpool",
           "nn.MaxPool2d",
           "(16,64,40,40)",
           "0",
           "0",
           "(relu,)",
           "{}"
          ],
          [
           "layer1_0_conv1",
           "nn.Conv2d",
           "(16,64,40,40)",
           "36 864",
           "1 887 436 800",
           "(maxpool,)",
           "{}"
          ],
          [
           "layer1_0_bn1",
           "nn.BatchNorm2d",
           "(16,64,40,40)",
           "128",
           "0",
           "(layer1_0_conv1,)",
           "{}"
          ],
          [
           "layer1_0_relu",
           "nn.ReLU",
           "(16,64,40,40)",
           "0",
           "0",
           "(layer1_0_bn1,)",
           "{}"
          ],
          [
           "layer1_0_conv2",
           "nn.Conv2d",
           "(16,64,40,40)",
           "36 864",
           "1 887 436 800",
           "(layer1_0_relu,)",
           "{}"
          ],
          [
           "layer1_0_bn2",
           "nn.BatchNorm2d",
           "(16,64,40,40)",
           "128",
           "0",
           "(layer1_0_conv2,)",
           "{}"
          ],
          [
           "add",
           "add()",
           "(16,64,40,40)",
           "0",
           "1 638 400",
           "(layer1_0_bn2, maxpool)",
           "{}"
          ],
          [
           "layer1_0_relu_1",
           "nn.ReLU",
           "(16,64,40,40)",
           "0",
           "0",
           "(add,)",
           "{}"
          ],
          [
           "layer1_1_conv1",
           "nn.Conv2d",
           "(16,64,40,40)",
           "36 864",
           "1 887 436 800",
           "(layer1_0_relu_1,)",
           "{}"
          ],
          [
           "layer1_1_bn1",
           "nn.BatchNorm2d",
           "(16,64,40,40)",
           "128",
           "0",
           "(layer1_1_conv1,)",
           "{}"
          ],
          [
           "layer1_1_relu",
           "nn.ReLU",
           "(16,64,40,40)",
           "0",
           "0",
           "(layer1_1_bn1,)",
           "{}"
          ],
          [
           "layer1_1_conv2",
           "nn.Conv2d",
           "(16,64,40,40)",
           "36 864",
           "1 887 436 800",
           "(layer1_1_relu,)",
           "{}"
          ],
          [
           "layer1_1_bn2",
           "nn.BatchNorm2d",
           "(16,64,40,40)",
           "128",
           "0",
           "(layer1_1_conv2,)",
           "{}"
          ],
          [
           "add_1",
           "add()",
           "(16,64,40,40)",
           "0",
           "1 638 400",
           "(layer1_1_bn2, layer1_0_relu_1)",
           "{}"
          ],
          [
           "layer1_1_relu_1",
           "nn.ReLU",
           "(16,64,40,40)",
           "0",
           "0",
           "(add_1,)",
           "{}"
          ],
          [
           "layer2_0_conv1",
           "nn.Conv2d",
           "(16,128,20,20)",
           "73 728",
           "943 718 400",
           "(layer1_1_relu_1,)",
           "{}"
          ],
          [
           "layer2_0_bn1",
           "nn.BatchNorm2d",
           "(16,128,20,20)",
           "256",
           "0",
           "(layer2_0_conv1,)",
           "{}"
          ],
          [
           "layer2_0_relu",
           "nn.ReLU",
           "(16,128,20,20)",
           "0",
           "0",
           "(layer2_0_bn1,)",
           "{}"
          ],
          [
           "layer2_0_conv2",
           "nn.Conv2d",
           "(16,128,20,20)",
           "147 456",
           "1 887 436 800",
           "(layer2_0_relu,)",
           "{}"
          ],
          [
           "layer2_0_bn2",
           "nn.BatchNorm2d",
           "(16,128,20,20)",
           "256",
           "0",
           "(layer2_0_conv2,)",
           "{}"
          ],
          [
           "layer2_0_downsample_0",
           "nn.Conv2d",
           "(16,128,20,20)",
           "8 192",
           "104 857 600",
           "(layer1_1_relu_1,)",
           "{}"
          ],
          [
           "layer2_0_downsample_1",
           "nn.BatchNorm2d",
           "(16,128,20,20)",
           "256",
           "0",
           "(layer2_0_downsample_0,)",
           "{}"
          ],
          [
           "add_2",
           "add()",
           "(16,128,20,20)",
           "0",
           "819 200",
           "(layer2_0_bn2, layer2_0_downsample_1)",
           "{}"
          ],
          [
           "layer2_0_relu_1",
           "nn.ReLU",
           "(16,128,20,20)",
           "0",
           "0",
           "(add_2,)",
           "{}"
          ],
          [
           "layer2_1_conv1",
           "nn.Conv2d",
           "(16,128,20,20)",
           "147 456",
           "1 887 436 800",
           "(layer2_0_relu_1,)",
           "{}"
          ],
          [
           "layer2_1_bn1",
           "nn.BatchNorm2d",
           "(16,128,20,20)",
           "256",
           "0",
           "(layer2_1_conv1,)",
           "{}"
          ],
          [
           "layer2_1_relu",
           "nn.ReLU",
           "(16,128,20,20)",
           "0",
           "0",
           "(layer2_1_bn1,)",
           "{}"
          ],
          [
           "layer2_1_conv2",
           "nn.Conv2d",
           "(16,128,20,20)",
           "147 456",
           "1 887 436 800",
           "(layer2_1_relu,)",
           "{}"
          ],
          [
           "layer2_1_bn2",
           "nn.BatchNorm2d",
           "(16,128,20,20)",
           "256",
           "0",
           "(layer2_1_conv2,)",
           "{}"
          ],
          [
           "add_3",
           "add()",
           "(16,128,20,20)",
           "0",
           "819 200",
           "(layer2_1_bn2, layer2_0_relu_1)",
           "{}"
          ],
          [
           "layer2_1_relu_1",
           "nn.ReLU",
           "(16,128,20,20)",
           "0",
           "0",
           "(add_3,)",
           "{}"
          ],
          [
           "layer3_0_conv1",
           "nn.Conv2d",
           "(16,256,10,10)",
           "294 912",
           "943 718 400",
           "(layer2_1_relu_1,)",
           "{}"
          ],
          [
           "layer3_0_bn1",
           "nn.BatchNorm2d",
           "(16,256,10,10)",
           "512",
           "0",
           "(layer3_0_conv1,)",
           "{}"
          ],
          [
           "layer3_0_relu",
           "nn.ReLU",
           "(16,256,10,10)",
           "0",
           "0",
           "(layer3_0_bn1,)",
           "{}"
          ],
          [
           "layer3_0_conv2",
           "nn.Conv2d",
           "(16,256,10,10)",
           "589 824",
           "1 887 436 800",
           "(layer3_0_relu,)",
           "{}"
          ],
          [
           "layer3_0_bn2",
           "nn.BatchNorm2d",
           "(16,256,10,10)",
           "512",
           "0",
           "(layer3_0_conv2,)",
           "{}"
          ],
          [
           "layer3_0_downsample_0",
           "nn.Conv2d",
           "(16,256,10,10)",
           "32 768",
           "104 857 600",
           "(layer2_1_relu_1,)",
           "{}"
          ],
          [
           "layer3_0_downsample_1",
           "nn.BatchNorm2d",
           "(16,256,10,10)",
           "512",
           "0",
           "(layer3_0_downsample_0,)",
           "{}"
          ],
          [
           "add_4",
           "add()",
           "(16,256,10,10)",
           "0",
           "409 600",
           "(layer3_0_bn2, layer3_0_downsample_1)",
           "{}"
          ],
          [
           "layer3_0_relu_1",
           "nn.ReLU",
           "(16,256,10,10)",
           "0",
           "0",
           "(add_4,)",
           "{}"
          ],
          [
           "layer3_1_conv1",
           "nn.Conv2d",
           "(16,256,10,10)",
           "589 824",
           "1 887 436 800",
           "(layer3_0_relu_1,)",
           "{}"
          ],
          [
           "layer3_1_bn1",
           "nn.BatchNorm2d",
           "(16,256,10,10)",
           "512",
           "0",
           "(layer3_1_conv1,)",
           "{}"
          ],
          [
           "layer3_1_relu",
           "nn.ReLU",
           "(16,256,10,10)",
           "0",
           "0",
           "(layer3_1_bn1,)",
           "{}"
          ],
          [
           "layer3_1_conv2",
           "nn.Conv2d",
           "(16,256,10,10)",
           "589 824",
           "1 887 436 800",
           "(layer3_1_relu,)",
           "{}"
          ],
          [
           "layer3_1_bn2",
           "nn.BatchNorm2d",
           "(16,256,10,10)",
           "512",
           "0",
           "(layer3_1_conv2,)",
           "{}"
          ],
          [
           "add_5",
           "add()",
           "(16,256,10,10)",
           "0",
           "409 600",
           "(layer3_1_bn2, layer3_0_relu_1)",
           "{}"
          ],
          [
           "layer3_1_relu_1",
           "nn.ReLU",
           "(16,256,10,10)",
           "0",
           "0",
           "(add_5,)",
           "{}"
          ],
          [
           "layer4_0_conv1",
           "nn.Conv2d",
           "(16,512,5,5)",
           "1 179 648",
           "943 718 400",
           "(layer3_1_relu_1,)",
           "{}"
          ],
          [
           "layer4_0_bn1",
           "nn.BatchNorm2d",
           "(16,512,5,5)",
           "1 024",
           "0",
           "(layer4_0_conv1,)",
           "{}"
          ],
          [
           "layer4_0_relu",
           "nn.ReLU",
           "(16,512,5,5)",
           "0",
           "0",
           "(layer4_0_bn1,)",
           "{}"
          ],
          [
           "layer4_0_conv2",
           "nn.Conv2d",
           "(16,512,5,5)",
           "2 359 296",
           "1 887 436 800",
           "(layer4_0_relu,)",
           "{}"
          ],
          [
           "layer4_0_bn2",
           "nn.BatchNorm2d",
           "(16,512,5,5)",
           "1 024",
           "0",
           "(layer4_0_conv2,)",
           "{}"
          ],
          [
           "layer4_0_downsample_0",
           "nn.Conv2d",
           "(16,512,5,5)",
           "131 072",
           "104 857 600",
           "(layer3_1_relu_1,)",
           "{}"
          ],
          [
           "layer4_0_downsample_1",
           "nn.BatchNorm2d",
           "(16,512,5,5)",
           "1 024",
           "0",
           "(layer4_0_downsample_0,)",
           "{}"
          ],
          [
           "add_6",
           "add()",
           "(16,512,5,5)",
           "0",
           "204 800",
           "(layer4_0_bn2, layer4_0_downsample_1)",
           "{}"
          ],
          [
           "layer4_0_relu_1",
           "nn.ReLU",
           "(16,512,5,5)",
           "0",
           "0",
           "(add_6,)",
           "{}"
          ],
          [
           "layer4_1_conv1",
           "nn.Conv2d",
           "(16,512,5,5)",
           "2 359 296",
           "1 887 436 800",
           "(layer4_0_relu_1,)",
           "{}"
          ],
          [
           "layer4_1_bn1",
           "nn.BatchNorm2d",
           "(16,512,5,5)",
           "1 024",
           "0",
           "(layer4_1_conv1,)",
           "{}"
          ],
          [
           "layer4_1_relu",
           "nn.ReLU",
           "(16,512,5,5)",
           "0",
           "0",
           "(layer4_1_bn1,)",
           "{}"
          ],
          [
           "layer4_1_conv2",
           "nn.Conv2d",
           "(16,512,5,5)",
           "2 359 296",
           "1 887 436 800",
           "(layer4_1_relu,)",
           "{}"
          ],
          [
           "layer4_1_bn2",
           "nn.BatchNorm2d",
           "(16,512,5,5)",
           "1 024",
           "0",
           "(layer4_1_conv2,)",
           "{}"
          ],
          [
           "add_7",
           "add()",
           "(16,512,5,5)",
           "0",
           "204 800",
           "(layer4_1_bn2, layer4_0_relu_1)",
           "{}"
          ],
          [
           "layer4_1_relu_1",
           "nn.ReLU",
           "(16,512,5,5)",
           "0",
           "0",
           "(add_7,)",
           "{}"
          ],
          [
           "avgpool",
           "nn.AdaptiveAvgPool2d",
           "(16,512,1,1)",
           "0",
           "0",
           "(layer4_1_relu_1,)",
           "{}"
          ],
          [
           "flatten",
           "flatten()",
           "(16,512)",
           "0",
           "0",
           "(avgpool, 1)",
           "{}"
          ],
          [
           "fc",
           "nn.Linear",
           "(16,1000)",
           "513 000",
           "16 384 000",
           "(flatten,)",
           "{}"
          ],
          [
           "output",
           "output",
           "(16,1000)",
           "0",
           "0",
           "(fc,)",
           "{}"
          ]
         ],
         "hovertemplate": "Name: %{customdata[0]}<br>Operation: %{customdata[1]}<br>Activations: %{customdata[2]}<br>Parameters: %{customdata[3]}<br>FLOPS: %{customdata[4]}<br><br>args: %{customdata[5]}<br>kwargs: %{customdata[6]}<br><extra></extra>",
         "marker": {
          "color": [
           "#222A2A",
           "#00A08B",
           "#EB663B",
           "#1616A7",
           "#DA60CA",
           "#00A08B",
           "#EB663B",
           "#1616A7",
           "#00A08B",
           "#EB663B",
           "#778AAE",
           "#1616A7",
           "#00A08B",
           "#EB663B",
           "#1616A7",
           "#00A08B",
           "#EB663B",
           "#778AAE",
           "#1616A7",
           "#00A08B",
           "#EB663B",
           "#1616A7",
           "#00A08B",
           "#EB663B",
           "#00A08B",
           "#EB663B",
           "#778AAE",
           "#1616A7",
           "#00A08B",
           "#EB663B",
           "#1616A7",
           "#00A08B",
           "#EB663B",
           "#778AAE",
           "#1616A7",
           "#00A08B",
           "#EB663B",
           "#1616A7",
           "#00A08B",
           "#EB663B",
           "#00A08B",
           "#EB663B",
           "#778AAE",
           "#1616A7",
           "#00A08B",
           "#EB663B",
           "#1616A7",
           "#00A08B",
           "#EB663B",
           "#778AAE",
           "#1616A7",
           "#00A08B",
           "#EB663B",
           "#1616A7",
           "#00A08B",
           "#EB663B",
           "#00A08B",
           "#EB663B",
           "#778AAE",
           "#1616A7",
           "#00A08B",
           "#EB663B",
           "#1616A7",
           "#00A08B",
           "#EB663B",
           "#778AAE",
           "#1616A7",
           "#DA60CA",
           "#778AAE",
           "#2E91E5",
           "#222A2A"
          ],
          "colorscale": [
           [
            0,
            "rgb(0,0,255)"
           ],
           [
            1,
            "rgb(255,0,0)"
           ]
          ],
          "size": [
           6,
           11.250279597842884,
           6,
           6,
           6,
           12.91881573172255,
           6,
           6,
           12.91881573172255,
           6,
           6,
           6,
           12.91881573172255,
           6,
           6,
           12.91881573172255,
           6,
           6,
           6,
           13.765679776435459,
           6.846864044712908,
           6,
           14.612543821148368,
           6.846864044712908,
           11.08118426827745,
           6.846864044712908,
           6,
           6,
           14.612543821148368,
           6.846864044712908,
           6,
           14.612543821148368,
           6.846864044712908,
           6,
           6,
           15.459407865861275,
           7.693728089425816,
           6,
           16.306271910574182,
           7.693728089425816,
           12.774912357703267,
           7.693728089425816,
           6,
           6,
           16.306271910574182,
           7.693728089425816,
           6,
           16.306271910574182,
           7.693728089425816,
           6,
           6,
           17.15313595528709,
           8.540592134138725,
           6,
           18,
           8.540592134138725,
           14.468640447129083,
           8.540592134138725,
           6,
           6,
           18,
           8.540592134138725,
           6,
           18,
           8.540592134138725,
           6,
           6,
           6,
           6,
           16.13577641297401,
           6
          ]
         },
         "mode": "markers",
         "showlegend": false,
         "type": "scatter",
         "x": [
          0,
          0,
          0,
          0,
          0,
          0,
          0,
          0,
          0,
          0,
          0,
          0,
          0,
          0,
          0,
          0,
          0,
          0,
          0,
          0,
          0,
          0,
          0,
          0,
          1,
          1,
          0,
          0,
          0,
          0,
          0,
          0,
          0,
          0,
          0,
          0,
          0,
          0,
          0,
          0,
          1,
          1,
          0,
          0,
          0,
          0,
          0,
          0,
          0,
          0,
          0,
          0,
          0,
          0,
          0,
          0,
          1,
          1,
          0,
          0,
          0,
          0,
          0,
          0,
          0,
          0,
          0,
          0,
          0,
          0,
          0
         ],
         "xaxis": "x",
         "y": [
          0,
          1,
          1.15,
          1.3,
          1.45,
          2,
          2.15,
          2.3,
          3,
          3.15,
          4,
          4.15,
          5,
          5.15,
          5.3,
          6,
          6.15,
          7,
          7.15,
          8,
          8.15,
          8.3,
          9,
          9.15,
          9,
          9.15,
          10,
          10.15,
          11,
          11.15,
          11.3,
          12,
          12.15,
          13,
          13.15,
          14,
          14.15,
          14.3,
          15,
          15.15,
          15,
          15.15,
          16,
          16.15,
          17,
          17.15,
          17.3,
          18,
          18.15,
          19,
          19.15,
          20,
          20.15,
          20.3,
          21,
          21.15,
          21,
          21.15,
          22,
          22.15,
          23,
          23.15,
          23.3,
          24,
          24.15,
          25,
          25.15,
          25.3,
          25.45,
          26,
          27
         ],
         "yaxis": "y"
        },
        {
         "cells": {
          "align": "left",
          "values": [
           [
            "x",
            "conv1",
            "bn1",
            "relu",
            "maxpool",
            "layer1_0_conv1",
            "layer1_0_bn1",
            "layer1_0_relu",
            "layer1_0_conv2",
            "layer1_0_bn2",
            "add",
            "layer1_0_relu_1",
            "layer1_1_conv1",
            "layer1_1_bn1",
            "layer1_1_relu",
            "layer1_1_conv2",
            "layer1_1_bn2",
            "add_1",
            "layer1_1_relu_1",
            "layer2_0_conv1",
            "layer2_0_bn1",
            "layer2_0_relu",
            "layer2_0_conv2",
            "layer2_0_bn2",
            "layer2_0_downsample_0",
            "layer2_0_downsample_1",
            "add_2",
            "layer2_0_relu_1",
            "layer2_1_conv1",
            "layer2_1_bn1",
            "layer2_1_relu",
            "layer2_1_conv2",
            "layer2_1_bn2",
            "add_3",
            "layer2_1_relu_1",
            "layer3_0_conv1",
            "layer3_0_bn1",
            "layer3_0_relu",
            "layer3_0_conv2",
            "layer3_0_bn2",
            "layer3_0_downsample_0",
            "layer3_0_downsample_1",
            "add_4",
            "layer3_0_relu_1",
            "layer3_1_conv1",
            "layer3_1_bn1",
            "layer3_1_relu",
            "layer3_1_conv2",
            "layer3_1_bn2",
            "add_5",
            "layer3_1_relu_1",
            "layer4_0_conv1",
            "layer4_0_bn1",
            "layer4_0_relu",
            "layer4_0_conv2",
            "layer4_0_bn2",
            "layer4_0_downsample_0",
            "layer4_0_downsample_1",
            "add_6",
            "layer4_0_relu_1",
            "layer4_1_conv1",
            "layer4_1_bn1",
            "layer4_1_relu",
            "layer4_1_conv2",
            "layer4_1_bn2",
            "add_7",
            "layer4_1_relu_1",
            "avgpool",
            "flatten",
            "fc",
            "output"
           ],
           [
            "input",
            "nn.Conv2d",
            "nn.BatchNorm2d",
            "nn.ReLU",
            "nn.MaxPool2d",
            "nn.Conv2d",
            "nn.BatchNorm2d",
            "nn.ReLU",
            "nn.Conv2d",
            "nn.BatchNorm2d",
            "add()",
            "nn.ReLU",
            "nn.Conv2d",
            "nn.BatchNorm2d",
            "nn.ReLU",
            "nn.Conv2d",
            "nn.BatchNorm2d",
            "add()",
            "nn.ReLU",
            "nn.Conv2d",
            "nn.BatchNorm2d",
            "nn.ReLU",
            "nn.Conv2d",
            "nn.BatchNorm2d",
            "nn.Conv2d",
            "nn.BatchNorm2d",
            "add()",
            "nn.ReLU",
            "nn.Conv2d",
            "nn.BatchNorm2d",
            "nn.ReLU",
            "nn.Conv2d",
            "nn.BatchNorm2d",
            "add()",
            "nn.ReLU",
            "nn.Conv2d",
            "nn.BatchNorm2d",
            "nn.ReLU",
            "nn.Conv2d",
            "nn.BatchNorm2d",
            "nn.Conv2d",
            "nn.BatchNorm2d",
            "add()",
            "nn.ReLU",
            "nn.Conv2d",
            "nn.BatchNorm2d",
            "nn.ReLU",
            "nn.Conv2d",
            "nn.BatchNorm2d",
            "add()",
            "nn.ReLU",
            "nn.Conv2d",
            "nn.BatchNorm2d",
            "nn.ReLU",
            "nn.Conv2d",
            "nn.BatchNorm2d",
            "nn.Conv2d",
            "nn.BatchNorm2d",
            "add()",
            "nn.ReLU",
            "nn.Conv2d",
            "nn.BatchNorm2d",
            "nn.ReLU",
            "nn.Conv2d",
            "nn.BatchNorm2d",
            "add()",
            "nn.ReLU",
            "nn.AdaptiveAvgPool2d",
            "flatten()",
            "nn.Linear",
            "output"
           ],
           [
            "(16,3,160,160)",
            "(16,64,80,80)",
            "(16,64,80,80)",
            "(16,64,80,80)",
            "(16,64,40,40)",
            "(16,64,40,40)",
            "(16,64,40,40)",
            "(16,64,40,40)",
            "(16,64,40,40)",
            "(16,64,40,40)",
            "(16,64,40,40)",
            "(16,64,40,40)",
            "(16,64,40,40)",
            "(16,64,40,40)",
            "(16,64,40,40)",
            "(16,64,40,40)",
            "(16,64,40,40)",
            "(16,64,40,40)",
            "(16,64,40,40)",
            "(16,128,20,20)",
            "(16,128,20,20)",
            "(16,128,20,20)",
            "(16,128,20,20)",
            "(16,128,20,20)",
            "(16,128,20,20)",
            "(16,128,20,20)",
            "(16,128,20,20)",
            "(16,128,20,20)",
            "(16,128,20,20)",
            "(16,128,20,20)",
            "(16,128,20,20)",
            "(16,128,20,20)",
            "(16,128,20,20)",
            "(16,128,20,20)",
            "(16,128,20,20)",
            "(16,256,10,10)",
            "(16,256,10,10)",
            "(16,256,10,10)",
            "(16,256,10,10)",
            "(16,256,10,10)",
            "(16,256,10,10)",
            "(16,256,10,10)",
            "(16,256,10,10)",
            "(16,256,10,10)",
            "(16,256,10,10)",
            "(16,256,10,10)",
            "(16,256,10,10)",
            "(16,256,10,10)",
            "(16,256,10,10)",
            "(16,256,10,10)",
            "(16,256,10,10)",
            "(16,512,5,5)",
            "(16,512,5,5)",
            "(16,512,5,5)",
            "(16,512,5,5)",
            "(16,512,5,5)",
            "(16,512,5,5)",
            "(16,512,5,5)",
            "(16,512,5,5)",
            "(16,512,5,5)",
            "(16,512,5,5)",
            "(16,512,5,5)",
            "(16,512,5,5)",
            "(16,512,5,5)",
            "(16,512,5,5)",
            "(16,512,5,5)",
            "(16,512,5,5)",
            "(16,512,1,1)",
            "(16,512)",
            "(16,1000)",
            "(16,1000)"
           ],
           [
            "0",
            "9 408",
            "128",
            "0",
            "0",
            "36 864",
            "128",
            "0",
            "36 864",
            "128",
            "0",
            "0",
            "36 864",
            "128",
            "0",
            "36 864",
            "128",
            "0",
            "0",
            "73 728",
            "256",
            "0",
            "147 456",
            "256",
            "8 192",
            "256",
            "0",
            "0",
            "147 456",
            "256",
            "0",
            "147 456",
            "256",
            "0",
            "0",
            "294 912",
            "512",
            "0",
            "589 824",
            "512",
            "32 768",
            "512",
            "0",
            "0",
            "589 824",
            "512",
            "0",
            "589 824",
            "512",
            "0",
            "0",
            "1 179 648",
            "1 024",
            "0",
            "2 359 296",
            "1 024",
            "131 072",
            "1 024",
            "0",
            "0",
            "2 359 296",
            "1 024",
            "0",
            "2 359 296",
            "1 024",
            "0",
            "0",
            "0",
            "0",
            "513 000",
            "0"
           ],
           [
            "0",
            "1 926 758 400",
            "0",
            "0",
            "0",
            "1 887 436 800",
            "0",
            "0",
            "1 887 436 800",
            "0",
            "1 638 400",
            "0",
            "1 887 436 800",
            "0",
            "0",
            "1 887 436 800",
            "0",
            "1 638 400",
            "0",
            "943 718 400",
            "0",
            "0",
            "1 887 436 800",
            "0",
            "104 857 600",
            "0",
            "819 200",
            "0",
            "1 887 436 800",
            "0",
            "0",
            "1 887 436 800",
            "0",
            "819 200",
            "0",
            "943 718 400",
            "0",
            "0",
            "1 887 436 800",
            "0",
            "104 857 600",
            "0",
            "409 600",
            "0",
            "1 887 436 800",
            "0",
            "0",
            "1 887 436 800",
            "0",
            "409 600",
            "0",
            "943 718 400",
            "0",
            "0",
            "1 887 436 800",
            "0",
            "104 857 600",
            "0",
            "204 800",
            "0",
            "1 887 436 800",
            "0",
            "0",
            "1 887 436 800",
            "0",
            "204 800",
            "0",
            "0",
            "0",
            "16 384 000",
            "0"
           ]
          ]
         },
         "domain": {
          "x": [
           0.19,
           1
          ],
          "y": [
           0,
           1
          ]
         },
         "header": {
          "align": "left",
          "font": {
           "size": 10
          },
          "values": [
           "Name",
           "Operation",
           "Activations",
           "Params [11 689 512]",
           "FLOPS [29 631 692 800]"
          ]
         },
         "type": "table"
        }
       ],
       "layout": {
        "margin": {
         "b": 0,
         "l": 0,
         "r": 0,
         "t": 0
        },
        "modebar": {
         "orientation": "v",
         "remove": [
          "select",
          "lasso"
         ]
        },
        "sliders": [
         {
          "active": 0,
          "currentvalue": {
           "visible": false
          },
          "pad": {
           "b": 0,
           "l": 0,
           "r": 0,
           "t": 48
          },
          "steps": [
           {
            "args": [
             {
              "shapes": [
               {
                "fillcolor": "rgba(42,63,96,0.2)",
                "line": {
                 "color": "#2A3F5F",
                 "width": 1
                },
                "type": "rect",
                "x0": -0.5,
                "x1": 1.5,
                "xref": "x",
                "y0": -0.25,
                "y1": 9.75,
                "yref": "y"
               }
              ],
              "yaxis": {
               "range": [
                9.75,
                -0.25
               ],
               "showgrid": false,
               "tickmode": "array",
               "tickvals": [],
               "zeroline": false
              }
             }
            ],
            "label": "",
            "method": "relayout"
           },
           {
            "args": [
             {
              "shapes": [
               {
                "fillcolor": "rgba(42,63,96,0.2)",
                "line": {
                 "color": "#2A3F5F",
                 "width": 1
                },
                "type": "rect",
                "x0": -0.5,
                "x1": 1.5,
                "xref": "x",
                "y0": 1.9375,
                "y1": 11.9375,
                "yref": "y"
               }
              ],
              "yaxis": {
               "range": [
                11.9375,
                1.9375
               ],
               "showgrid": false,
               "tickmode": "array",
               "tickvals": [],
               "zeroline": false
              }
             }
            ],
            "label": "",
            "method": "relayout"
           },
           {
            "args": [
             {
              "shapes": [
               {
                "fillcolor": "rgba(42,63,96,0.2)",
                "line": {
                 "color": "#2A3F5F",
                 "width": 1
                },
                "type": "rect",
                "x0": -0.5,
                "x1": 1.5,
                "xref": "x",
                "y0": 4.125,
                "y1": 14.125,
                "yref": "y"
               }
              ],
              "yaxis": {
               "range": [
                14.125,
                4.125
               ],
               "showgrid": false,
               "tickmode": "array",
               "tickvals": [],
               "zeroline": false
              }
             }
            ],
            "label": "",
            "method": "relayout"
           },
           {
            "args": [
             {
              "shapes": [
               {
                "fillcolor": "rgba(42,63,96,0.2)",
                "line": {
                 "color": "#2A3F5F",
                 "width": 1
                },
                "type": "rect",
                "x0": -0.5,
                "x1": 1.5,
                "xref": "x",
                "y0": 6.3125,
                "y1": 16.3125,
                "yref": "y"
               }
              ],
              "yaxis": {
               "range": [
                16.3125,
                6.3125
               ],
               "showgrid": false,
               "tickmode": "array",
               "tickvals": [],
               "zeroline": false
              }
             }
            ],
            "label": "",
            "method": "relayout"
           },
           {
            "args": [
             {
              "shapes": [
               {
                "fillcolor": "rgba(42,63,96,0.2)",
                "line": {
                 "color": "#2A3F5F",
                 "width": 1
                },
                "type": "rect",
                "x0": -0.5,
                "x1": 1.5,
                "xref": "x",
                "y0": 8.5,
                "y1": 18.5,
                "yref": "y"
               }
              ],
              "yaxis": {
               "range": [
                18.5,
                8.5
               ],
               "showgrid": false,
               "tickmode": "array",
               "tickvals": [],
               "zeroline": false
              }
             }
            ],
            "label": "",
            "method": "relayout"
           },
           {
            "args": [
             {
              "shapes": [
               {
                "fillcolor": "rgba(42,63,96,0.2)",
                "line": {
                 "color": "#2A3F5F",
                 "width": 1
                },
                "type": "rect",
                "x0": -0.5,
                "x1": 1.5,
                "xref": "x",
                "y0": 10.6875,
                "y1": 20.6875,
                "yref": "y"
               }
              ],
              "yaxis": {
               "range": [
                20.6875,
                10.6875
               ],
               "showgrid": false,
               "tickmode": "array",
               "tickvals": [],
               "zeroline": false
              }
             }
            ],
            "label": "",
            "method": "relayout"
           },
           {
            "args": [
             {
              "shapes": [
               {
                "fillcolor": "rgba(42,63,96,0.2)",
                "line": {
                 "color": "#2A3F5F",
                 "width": 1
                },
                "type": "rect",
                "x0": -0.5,
                "x1": 1.5,
                "xref": "x",
                "y0": 12.875,
                "y1": 22.875,
                "yref": "y"
               }
              ],
              "yaxis": {
               "range": [
                22.875,
                12.875
               ],
               "showgrid": false,
               "tickmode": "array",
               "tickvals": [],
               "zeroline": false
              }
             }
            ],
            "label": "",
            "method": "relayout"
           },
           {
            "args": [
             {
              "shapes": [
               {
                "fillcolor": "rgba(42,63,96,0.2)",
                "line": {
                 "color": "#2A3F5F",
                 "width": 1
                },
                "type": "rect",
                "x0": -0.5,
                "x1": 1.5,
                "xref": "x",
                "y0": 15.0625,
                "y1": 25.0625,
                "yref": "y"
               }
              ],
              "yaxis": {
               "range": [
                25.0625,
                15.0625
               ],
               "showgrid": false,
               "tickmode": "array",
               "tickvals": [],
               "zeroline": false
              }
             }
            ],
            "label": "",
            "method": "relayout"
           },
           {
            "args": [
             {
              "shapes": [
               {
                "fillcolor": "rgba(42,63,96,0.2)",
                "line": {
                 "color": "#2A3F5F",
                 "width": 1
                },
                "type": "rect",
                "x0": -0.5,
                "x1": 1.5,
                "xref": "x",
                "y0": 17.25,
                "y1": 27.25,
                "yref": "y"
               }
              ],
              "yaxis": {
               "range": [
                27.25,
                17.25
               ],
               "showgrid": false,
               "tickmode": "array",
               "tickvals": [],
               "zeroline": false
              }
             }
            ],
            "label": "",
            "method": "relayout"
           }
          ],
          "ticklen": 0,
          "tickwidth": 0,
          "x": 0,
          "xanchor": "left",
          "y": 0,
          "yanchor": "top"
         }
        ],
        "template": {
         "data": {
          "bar": [
           {
            "error_x": {
             "color": "#2a3f5f"
            },
            "error_y": {
             "color": "#2a3f5f"
            },
            "marker": {
             "line": {
              "color": "#E5ECF6",
              "width": 0.5
             },
             "pattern": {
              "fillmode": "overlay",
              "size": 10,
              "solidity": 0.2
             }
            },
            "type": "bar"
           }
          ],
          "barpolar": [
           {
            "marker": {
             "line": {
              "color": "#E5ECF6",
              "width": 0.5
             },
             "pattern": {
              "fillmode": "overlay",
              "size": 10,
              "solidity": 0.2
             }
            },
            "type": "barpolar"
           }
          ],
          "carpet": [
           {
            "aaxis": {
             "endlinecolor": "#2a3f5f",
             "gridcolor": "white",
             "linecolor": "white",
             "minorgridcolor": "white",
             "startlinecolor": "#2a3f5f"
            },
            "baxis": {
             "endlinecolor": "#2a3f5f",
             "gridcolor": "white",
             "linecolor": "white",
             "minorgridcolor": "white",
             "startlinecolor": "#2a3f5f"
            },
            "type": "carpet"
           }
          ],
          "choropleth": [
           {
            "colorbar": {
             "outlinewidth": 0,
             "ticks": ""
            },
            "type": "choropleth"
           }
          ],
          "contour": [
           {
            "colorbar": {
             "outlinewidth": 0,
             "ticks": ""
            },
            "colorscale": [
             [
              0,
              "#0d0887"
             ],
             [
              0.1111111111111111,
              "#46039f"
             ],
             [
              0.2222222222222222,
              "#7201a8"
             ],
             [
              0.3333333333333333,
              "#9c179e"
             ],
             [
              0.4444444444444444,
              "#bd3786"
             ],
             [
              0.5555555555555556,
              "#d8576b"
             ],
             [
              0.6666666666666666,
              "#ed7953"
             ],
             [
              0.7777777777777778,
              "#fb9f3a"
             ],
             [
              0.8888888888888888,
              "#fdca26"
             ],
             [
              1,
              "#f0f921"
             ]
            ],
            "type": "contour"
           }
          ],
          "contourcarpet": [
           {
            "colorbar": {
             "outlinewidth": 0,
             "ticks": ""
            },
            "type": "contourcarpet"
           }
          ],
          "heatmap": [
           {
            "colorbar": {
             "outlinewidth": 0,
             "ticks": ""
            },
            "colorscale": [
             [
              0,
              "#0d0887"
             ],
             [
              0.1111111111111111,
              "#46039f"
             ],
             [
              0.2222222222222222,
              "#7201a8"
             ],
             [
              0.3333333333333333,
              "#9c179e"
             ],
             [
              0.4444444444444444,
              "#bd3786"
             ],
             [
              0.5555555555555556,
              "#d8576b"
             ],
             [
              0.6666666666666666,
              "#ed7953"
             ],
             [
              0.7777777777777778,
              "#fb9f3a"
             ],
             [
              0.8888888888888888,
              "#fdca26"
             ],
             [
              1,
              "#f0f921"
             ]
            ],
            "type": "heatmap"
           }
          ],
          "heatmapgl": [
           {
            "colorbar": {
             "outlinewidth": 0,
             "ticks": ""
            },
            "colorscale": [
             [
              0,
              "#0d0887"
             ],
             [
              0.1111111111111111,
              "#46039f"
             ],
             [
              0.2222222222222222,
              "#7201a8"
             ],
             [
              0.3333333333333333,
              "#9c179e"
             ],
             [
              0.4444444444444444,
              "#bd3786"
             ],
             [
              0.5555555555555556,
              "#d8576b"
             ],
             [
              0.6666666666666666,
              "#ed7953"
             ],
             [
              0.7777777777777778,
              "#fb9f3a"
             ],
             [
              0.8888888888888888,
              "#fdca26"
             ],
             [
              1,
              "#f0f921"
             ]
            ],
            "type": "heatmapgl"
           }
          ],
          "histogram": [
           {
            "marker": {
             "pattern": {
              "fillmode": "overlay",
              "size": 10,
              "solidity": 0.2
             }
            },
            "type": "histogram"
           }
          ],
          "histogram2d": [
           {
            "colorbar": {
             "outlinewidth": 0,
             "ticks": ""
            },
            "colorscale": [
             [
              0,
              "#0d0887"
             ],
             [
              0.1111111111111111,
              "#46039f"
             ],
             [
              0.2222222222222222,
              "#7201a8"
             ],
             [
              0.3333333333333333,
              "#9c179e"
             ],
             [
              0.4444444444444444,
              "#bd3786"
             ],
             [
              0.5555555555555556,
              "#d8576b"
             ],
             [
              0.6666666666666666,
              "#ed7953"
             ],
             [
              0.7777777777777778,
              "#fb9f3a"
             ],
             [
              0.8888888888888888,
              "#fdca26"
             ],
             [
              1,
              "#f0f921"
             ]
            ],
            "type": "histogram2d"
           }
          ],
          "histogram2dcontour": [
           {
            "colorbar": {
             "outlinewidth": 0,
             "ticks": ""
            },
            "colorscale": [
             [
              0,
              "#0d0887"
             ],
             [
              0.1111111111111111,
              "#46039f"
             ],
             [
              0.2222222222222222,
              "#7201a8"
             ],
             [
              0.3333333333333333,
              "#9c179e"
             ],
             [
              0.4444444444444444,
              "#bd3786"
             ],
             [
              0.5555555555555556,
              "#d8576b"
             ],
             [
              0.6666666666666666,
              "#ed7953"
             ],
             [
              0.7777777777777778,
              "#fb9f3a"
             ],
             [
              0.8888888888888888,
              "#fdca26"
             ],
             [
              1,
              "#f0f921"
             ]
            ],
            "type": "histogram2dcontour"
           }
          ],
          "mesh3d": [
           {
            "colorbar": {
             "outlinewidth": 0,
             "ticks": ""
            },
            "type": "mesh3d"
           }
          ],
          "parcoords": [
           {
            "line": {
             "colorbar": {
              "outlinewidth": 0,
              "ticks": ""
             }
            },
            "type": "parcoords"
           }
          ],
          "pie": [
           {
            "automargin": true,
            "type": "pie"
           }
          ],
          "scatter": [
           {
            "fillpattern": {
             "fillmode": "overlay",
             "size": 10,
             "solidity": 0.2
            },
            "type": "scatter"
           }
          ],
          "scatter3d": [
           {
            "line": {
             "colorbar": {
              "outlinewidth": 0,
              "ticks": ""
             }
            },
            "marker": {
             "colorbar": {
              "outlinewidth": 0,
              "ticks": ""
             }
            },
            "type": "scatter3d"
           }
          ],
          "scattercarpet": [
           {
            "marker": {
             "colorbar": {
              "outlinewidth": 0,
              "ticks": ""
             }
            },
            "type": "scattercarpet"
           }
          ],
          "scattergeo": [
           {
            "marker": {
             "colorbar": {
              "outlinewidth": 0,
              "ticks": ""
             }
            },
            "type": "scattergeo"
           }
          ],
          "scattergl": [
           {
            "marker": {
             "colorbar": {
              "outlinewidth": 0,
              "ticks": ""
             }
            },
            "type": "scattergl"
           }
          ],
          "scattermapbox": [
           {
            "marker": {
             "colorbar": {
              "outlinewidth": 0,
              "ticks": ""
             }
            },
            "type": "scattermapbox"
           }
          ],
          "scatterpolar": [
           {
            "marker": {
             "colorbar": {
              "outlinewidth": 0,
              "ticks": ""
             }
            },
            "type": "scatterpolar"
           }
          ],
          "scatterpolargl": [
           {
            "marker": {
             "colorbar": {
              "outlinewidth": 0,
              "ticks": ""
             }
            },
            "type": "scatterpolargl"
           }
          ],
          "scatterternary": [
           {
            "marker": {
             "colorbar": {
              "outlinewidth": 0,
              "ticks": ""
             }
            },
            "type": "scatterternary"
           }
          ],
          "surface": [
           {
            "colorbar": {
             "outlinewidth": 0,
             "ticks": ""
            },
            "colorscale": [
             [
              0,
              "#0d0887"
             ],
             [
              0.1111111111111111,
              "#46039f"
             ],
             [
              0.2222222222222222,
              "#7201a8"
             ],
             [
              0.3333333333333333,
              "#9c179e"
             ],
             [
              0.4444444444444444,
              "#bd3786"
             ],
             [
              0.5555555555555556,
              "#d8576b"
             ],
             [
              0.6666666666666666,
              "#ed7953"
             ],
             [
              0.7777777777777778,
              "#fb9f3a"
             ],
             [
              0.8888888888888888,
              "#fdca26"
             ],
             [
              1,
              "#f0f921"
             ]
            ],
            "type": "surface"
           }
          ],
          "table": [
           {
            "cells": {
             "fill": {
              "color": "#EBF0F8"
             },
             "line": {
              "color": "white"
             }
            },
            "header": {
             "fill": {
              "color": "#C8D4E3"
             },
             "line": {
              "color": "white"
             }
            },
            "type": "table"
           }
          ]
         },
         "layout": {
          "annotationdefaults": {
           "arrowcolor": "#2a3f5f",
           "arrowhead": 0,
           "arrowwidth": 1
          },
          "autotypenumbers": "strict",
          "coloraxis": {
           "colorbar": {
            "outlinewidth": 0,
            "ticks": ""
           }
          },
          "colorscale": {
           "diverging": [
            [
             0,
             "#8e0152"
            ],
            [
             0.1,
             "#c51b7d"
            ],
            [
             0.2,
             "#de77ae"
            ],
            [
             0.3,
             "#f1b6da"
            ],
            [
             0.4,
             "#fde0ef"
            ],
            [
             0.5,
             "#f7f7f7"
            ],
            [
             0.6,
             "#e6f5d0"
            ],
            [
             0.7,
             "#b8e186"
            ],
            [
             0.8,
             "#7fbc41"
            ],
            [
             0.9,
             "#4d9221"
            ],
            [
             1,
             "#276419"
            ]
           ],
           "sequential": [
            [
             0,
             "#0d0887"
            ],
            [
             0.1111111111111111,
             "#46039f"
            ],
            [
             0.2222222222222222,
             "#7201a8"
            ],
            [
             0.3333333333333333,
             "#9c179e"
            ],
            [
             0.4444444444444444,
             "#bd3786"
            ],
            [
             0.5555555555555556,
             "#d8576b"
            ],
            [
             0.6666666666666666,
             "#ed7953"
            ],
            [
             0.7777777777777778,
             "#fb9f3a"
            ],
            [
             0.8888888888888888,
             "#fdca26"
            ],
            [
             1,
             "#f0f921"
            ]
           ],
           "sequentialminus": [
            [
             0,
             "#0d0887"
            ],
            [
             0.1111111111111111,
             "#46039f"
            ],
            [
             0.2222222222222222,
             "#7201a8"
            ],
            [
             0.3333333333333333,
             "#9c179e"
            ],
            [
             0.4444444444444444,
             "#bd3786"
            ],
            [
             0.5555555555555556,
             "#d8576b"
            ],
            [
             0.6666666666666666,
             "#ed7953"
            ],
            [
             0.7777777777777778,
             "#fb9f3a"
            ],
            [
             0.8888888888888888,
             "#fdca26"
            ],
            [
             1,
             "#f0f921"
            ]
           ]
          },
          "colorway": [
           "#636efa",
           "#EF553B",
           "#00cc96",
           "#ab63fa",
           "#FFA15A",
           "#19d3f3",
           "#FF6692",
           "#B6E880",
           "#FF97FF",
           "#FECB52"
          ],
          "font": {
           "color": "#2a3f5f"
          },
          "geo": {
           "bgcolor": "white",
           "lakecolor": "white",
           "landcolor": "#E5ECF6",
           "showlakes": true,
           "showland": true,
           "subunitcolor": "white"
          },
          "hoverlabel": {
           "align": "left"
          },
          "hovermode": "closest",
          "mapbox": {
           "style": "light"
          },
          "paper_bgcolor": "white",
          "plot_bgcolor": "#E5ECF6",
          "polar": {
           "angularaxis": {
            "gridcolor": "white",
            "linecolor": "white",
            "ticks": ""
           },
           "bgcolor": "#E5ECF6",
           "radialaxis": {
            "gridcolor": "white",
            "linecolor": "white",
            "ticks": ""
           }
          },
          "scene": {
           "xaxis": {
            "backgroundcolor": "#E5ECF6",
            "gridcolor": "white",
            "gridwidth": 2,
            "linecolor": "white",
            "showbackground": true,
            "ticks": "",
            "zerolinecolor": "white"
           },
           "yaxis": {
            "backgroundcolor": "#E5ECF6",
            "gridcolor": "white",
            "gridwidth": 2,
            "linecolor": "white",
            "showbackground": true,
            "ticks": "",
            "zerolinecolor": "white"
           },
           "zaxis": {
            "backgroundcolor": "#E5ECF6",
            "gridcolor": "white",
            "gridwidth": 2,
            "linecolor": "white",
            "showbackground": true,
            "ticks": "",
            "zerolinecolor": "white"
           }
          },
          "shapedefaults": {
           "line": {
            "color": "#2a3f5f"
           }
          },
          "ternary": {
           "aaxis": {
            "gridcolor": "white",
            "linecolor": "white",
            "ticks": ""
           },
           "baxis": {
            "gridcolor": "white",
            "linecolor": "white",
            "ticks": ""
           },
           "bgcolor": "#E5ECF6",
           "caxis": {
            "gridcolor": "white",
            "linecolor": "white",
            "ticks": ""
           }
          },
          "title": {
           "x": 0.05
          },
          "xaxis": {
           "automargin": true,
           "gridcolor": "white",
           "linecolor": "white",
           "ticks": "",
           "title": {
            "standoff": 15
           },
           "zerolinecolor": "white",
           "zerolinewidth": 2
          },
          "yaxis": {
           "automargin": true,
           "gridcolor": "white",
           "linecolor": "white",
           "ticks": "",
           "title": {
            "standoff": 15
           },
           "zerolinecolor": "white",
           "zerolinewidth": 2
          }
         }
        },
        "updatemenus": [
         {
          "active": 0,
          "buttons": [
           {
            "args": [
             {
              "marker": [
               {},
               {
                "color": [
                 "#222A2A",
                 "#00A08B",
                 "#EB663B",
                 "#1616A7",
                 "#DA60CA",
                 "#00A08B",
                 "#EB663B",
                 "#1616A7",
                 "#00A08B",
                 "#EB663B",
                 "#778AAE",
                 "#1616A7",
                 "#00A08B",
                 "#EB663B",
                 "#1616A7",
                 "#00A08B",
                 "#EB663B",
                 "#778AAE",
                 "#1616A7",
                 "#00A08B",
                 "#EB663B",
                 "#1616A7",
                 "#00A08B",
                 "#EB663B",
                 "#00A08B",
                 "#EB663B",
                 "#778AAE",
                 "#1616A7",
                 "#00A08B",
                 "#EB663B",
                 "#1616A7",
                 "#00A08B",
                 "#EB663B",
                 "#778AAE",
                 "#1616A7",
                 "#00A08B",
                 "#EB663B",
                 "#1616A7",
                 "#00A08B",
                 "#EB663B",
                 "#00A08B",
                 "#EB663B",
                 "#778AAE",
                 "#1616A7",
                 "#00A08B",
                 "#EB663B",
                 "#1616A7",
                 "#00A08B",
                 "#EB663B",
                 "#778AAE",
                 "#1616A7",
                 "#00A08B",
                 "#EB663B",
                 "#1616A7",
                 "#00A08B",
                 "#EB663B",
                 "#00A08B",
                 "#EB663B",
                 "#778AAE",
                 "#1616A7",
                 "#00A08B",
                 "#EB663B",
                 "#1616A7",
                 "#00A08B",
                 "#EB663B",
                 "#778AAE",
                 "#1616A7",
                 "#DA60CA",
                 "#778AAE",
                 "#2E91E5",
                 "#222A2A"
                ],
                "colorscale": "Bluered",
                "size": [
                 6,
                 11.250279597842884,
                 6,
                 6,
                 6,
                 12.91881573172255,
                 6,
                 6,
                 12.91881573172255,
                 6,
                 6,
                 6,
                 12.91881573172255,
                 6,
                 6,
                 12.91881573172255,
                 6,
                 6,
                 6,
                 13.765679776435459,
                 6.846864044712908,
                 6,
                 14.612543821148368,
                 6.846864044712908,
                 11.08118426827745,
                 6.846864044712908,
                 6,
                 6,
                 14.612543821148368,
                 6.846864044712908,
                 6,
                 14.612543821148368,
                 6.846864044712908,
                 6,
                 6,
                 15.459407865861275,
                 7.693728089425816,
                 6,
                 16.306271910574182,
                 7.693728089425816,
                 12.774912357703267,
                 7.693728089425816,
                 6,
                 6,
                 16.306271910574182,
                 7.693728089425816,
                 6,
                 16.306271910574182,
                 7.693728089425816,
                 6,
                 6,
                 17.15313595528709,
                 8.540592134138725,
                 6,
                 18,
                 8.540592134138725,
                 14.468640447129083,
                 8.540592134138725,
                 6,
                 6,
                 18,
                 8.540592134138725,
                 6,
                 18,
                 8.540592134138725,
                 6,
                 6,
                 6,
                 6,
                 16.13577641297401,
                 6
                ]
               },
               {}
              ]
             }
            ],
            "label": "Size by params, color by operation",
            "method": "restyle"
           },
           {
            "args": [
             {
              "marker": [
               {},
               {
                "color": [
                 "#222A2A",
                 "#00A08B",
                 "#EB663B",
                 "#1616A7",
                 "#DA60CA",
                 "#00A08B",
                 "#EB663B",
                 "#1616A7",
                 "#00A08B",
                 "#EB663B",
                 "#778AAE",
                 "#1616A7",
                 "#00A08B",
                 "#EB663B",
                 "#1616A7",
                 "#00A08B",
                 "#EB663B",
                 "#778AAE",
                 "#1616A7",
                 "#00A08B",
                 "#EB663B",
                 "#1616A7",
                 "#00A08B",
                 "#EB663B",
                 "#00A08B",
                 "#EB663B",
                 "#778AAE",
                 "#1616A7",
                 "#00A08B",
                 "#EB663B",
                 "#1616A7",
                 "#00A08B",
                 "#EB663B",
                 "#778AAE",
                 "#1616A7",
                 "#00A08B",
                 "#EB663B",
                 "#1616A7",
                 "#00A08B",
                 "#EB663B",
                 "#00A08B",
                 "#EB663B",
                 "#778AAE",
                 "#1616A7",
                 "#00A08B",
                 "#EB663B",
                 "#1616A7",
                 "#00A08B",
                 "#EB663B",
                 "#778AAE",
                 "#1616A7",
                 "#00A08B",
                 "#EB663B",
                 "#1616A7",
                 "#00A08B",
                 "#EB663B",
                 "#00A08B",
                 "#EB663B",
                 "#778AAE",
                 "#1616A7",
                 "#00A08B",
                 "#EB663B",
                 "#1616A7",
                 "#00A08B",
                 "#EB663B",
                 "#778AAE",
                 "#1616A7",
                 "#DA60CA",
                 "#778AAE",
                 "#2E91E5",
                 "#222A2A"
                ],
                "colorscale": "Bluered",
                "size": [
                 6,
                 18,
                 6,
                 6,
                 6,
                 17.972956289262115,
                 6,
                 6,
                 17.972956289262115,
                 6,
                 8.727340426301035,
                 6,
                 17.972956289262115,
                 6,
                 6,
                 17.972956289262115,
                 6,
                 8.727340426301035,
                 6,
                 17.063842813828437,
                 6,
                 6,
                 17.972956289262115,
                 6,
                 14.182021278903106,
                 6,
                 7.818226950867357,
                 6,
                 17.972956289262115,
                 6,
                 6,
                 17.972956289262115,
                 6,
                 7.818226950867357,
                 6,
                 17.063842813828437,
                 6,
                 6,
                 17.972956289262115,
                 6,
                 14.182021278903106,
                 6,
                 6.909113475433679,
                 6,
                 17.972956289262115,
                 6,
                 6,
                 17.972956289262115,
                 6,
                 6.909113475433679,
                 6,
                 17.063842813828437,
                 6,
                 6,
                 17.972956289262115,
                 6,
                 14.182021278903106,
                 6,
                 6,
                 6,
                 17.972956289262115,
                 6,
                 6,
                 17.972956289262115,
                 6,
                 6,
                 6,
                 6,
                 6,
                 11.747350021784866,
                 6
                ]
               },
               {}
              ]
             }
            ],
            "label": "Size by FLOPS, color by operation",
            "method": "restyle"
           },
           {
            "args": [
             {
              "marker": [
               {},
               {
                "color": [
                 0,
                 1,
                 0,
                 0,
                 0,
                 0.9977463574385095,
                 0,
                 0,
                 0.9977463574385095,
                 0,
                 0.22727836885841962,
                 0,
                 0.9977463574385095,
                 0,
                 0,
                 0.9977463574385095,
                 0,
                 0.22727836885841962,
                 0,
                 0.9219869011523696,
                 0,
                 0,
                 0.9977463574385095,
                 0,
                 0.6818351065752588,
                 0,
                 0.15151891257227976,
                 0,
                 0.9977463574385095,
                 0,
                 0,
                 0.9977463574385095,
                 0,
                 0.15151891257227976,
                 0,
                 0.9219869011523696,
                 0,
                 0,
                 0.9977463574385095,
                 0,
                 0.6818351065752588,
                 0,
                 0.07575945628613988,
                 0,
                 0.9977463574385095,
                 0,
                 0,
                 0.9977463574385095,
                 0,
                 0.07575945628613988,
                 0,
                 0.9219869011523696,
                 0,
                 0,
                 0.9977463574385095,
                 0,
                 0.6818351065752588,
                 0,
                 0,
                 0,
                 0.9977463574385095,
                 0,
                 0,
                 0.9977463574385095,
                 0,
                 0,
                 0,
                 0,
                 0,
                 0.4789458351487389,
                 0
                ],
                "colorscale": "Bluered",
                "size": [
                 6,
                 11.250279597842884,
                 6,
                 6,
                 6,
                 12.91881573172255,
                 6,
                 6,
                 12.91881573172255,
                 6,
                 6,
                 6,
                 12.91881573172255,
                 6,
                 6,
                 12.91881573172255,
                 6,
                 6,
                 6,
                 13.765679776435459,
                 6.846864044712908,
                 6,
                 14.612543821148368,
                 6.846864044712908,
                 11.08118426827745,
                 6.846864044712908,
                 6,
                 6,
                 14.612543821148368,
                 6.846864044712908,
                 6,
                 14.612543821148368,
                 6.846864044712908,
                 6,
                 6,
                 15.459407865861275,
                 7.693728089425816,
                 6,
                 16.306271910574182,
                 7.693728089425816,
                 12.774912357703267,
                 7.693728089425816,
                 6,
                 6,
                 16.306271910574182,
                 7.693728089425816,
                 6,
                 16.306271910574182,
                 7.693728089425816,
                 6,
                 6,
                 17.15313595528709,
                 8.540592134138725,
                 6,
                 18,
                 8.540592134138725,
                 14.468640447129083,
                 8.540592134138725,
                 6,
                 6,
                 18,
                 8.540592134138725,
                 6,
                 18,
                 8.540592134138725,
                 6,
                 6,
                 6,
                 6,
                 16.13577641297401,
                 6
                ]
               },
               {}
              ]
             }
            ],
            "label": "Size by params, color by FLOPS",
            "method": "restyle"
           },
           {
            "args": [
             {
              "marker": [
               {},
               {
                "color": [
                 0,
                 0.4375232998202403,
                 0,
                 0,
                 0,
                 0.5765679776435458,
                 0,
                 0,
                 0.5765679776435458,
                 0,
                 0,
                 0,
                 0.5765679776435458,
                 0,
                 0,
                 0.5765679776435458,
                 0,
                 0,
                 0,
                 0.6471399813696215,
                 0.0705720037260757,
                 0,
                 0.7177119850956972,
                 0.0705720037260757,
                 0.42343202235645416,
                 0.0705720037260757,
                 0,
                 0,
                 0.7177119850956972,
                 0.0705720037260757,
                 0,
                 0.7177119850956972,
                 0.0705720037260757,
                 0,
                 0,
                 0.7882839888217729,
                 0.1411440074521514,
                 0,
                 0.8588559925478486,
                 0.1411440074521514,
                 0.5645760298086056,
                 0.1411440074521514,
                 0,
                 0,
                 0.8588559925478486,
                 0.1411440074521514,
                 0,
                 0.8588559925478486,
                 0.1411440074521514,
                 0,
                 0,
                 0.9294279962739243,
                 0.21171601117822708,
                 0,
                 1,
                 0.21171601117822708,
                 0.7057200372607569,
                 0.21171601117822708,
                 0,
                 0,
                 1,
                 0.21171601117822708,
                 0,
                 1,
                 0.21171601117822708,
                 0,
                 0,
                 0,
                 0,
                 0.8446480344145008,
                 0
                ],
                "colorscale": "Bluered",
                "size": [
                 6,
                 18,
                 6,
                 6,
                 6,
                 17.972956289262115,
                 6,
                 6,
                 17.972956289262115,
                 6,
                 8.727340426301035,
                 6,
                 17.972956289262115,
                 6,
                 6,
                 17.972956289262115,
                 6,
                 8.727340426301035,
                 6,
                 17.063842813828437,
                 6,
                 6,
                 17.972956289262115,
                 6,
                 14.182021278903106,
                 6,
                 7.818226950867357,
                 6,
                 17.972956289262115,
                 6,
                 6,
                 17.972956289262115,
                 6,
                 7.818226950867357,
                 6,
                 17.063842813828437,
                 6,
                 6,
                 17.972956289262115,
                 6,
                 14.182021278903106,
                 6,
                 6.909113475433679,
                 6,
                 17.972956289262115,
                 6,
                 6,
                 17.972956289262115,
                 6,
                 6.909113475433679,
                 6,
                 17.063842813828437,
                 6,
                 6,
                 17.972956289262115,
                 6,
                 14.182021278903106,
                 6,
                 6,
                 6,
                 17.972956289262115,
                 6,
                 6,
                 17.972956289262115,
                 6,
                 6,
                 6,
                 6,
                 6,
                 11.747350021784866,
                 6
                ]
               },
               {}
              ]
             }
            ],
            "label": "Size by FLOPS, color by params",
            "method": "restyle"
           }
          ],
          "direction": "up",
          "pad": {
           "b": 0,
           "l": 0,
           "r": 0,
           "t": 8
          },
          "showactive": true,
          "x": 0,
          "xanchor": "left",
          "y": 0,
          "yanchor": "top"
         }
        ],
        "xaxis": {
         "anchor": "y",
         "domain": [
          0,
          0.18
         ],
         "range": [
          -0.5,
          1.5
         ],
         "showgrid": false,
         "tickmode": "array",
         "tickvals": [],
         "zeroline": false
        },
        "yaxis": {
         "anchor": "x",
         "domain": [
          0,
          1
         ],
         "range": [
          9.75,
          -0.25
         ],
         "showgrid": false,
         "tickmode": "array",
         "tickvals": [],
         "zeroline": false
        }
       }
      }
     },
     "metadata": {},
     "output_type": "display_data"
    }
   ],
   "source": [
    "import torch, torchvision\n",
    "from idlmav import MAV, plotly_renderer\n",
    "device = 'cpu'\n",
    "model = torchvision.models.resnet18().to(device)\n",
    "x = torch.randn(16,3,160,160).to(device)\n",
    "mav = MAV(model, x, device=device)\n",
    "\n",
    "with plotly_renderer('vscode'):\n",
    "    mav.show_figure(add_slider=True)"
   ]
  },
  {
   "cell_type": "markdown",
   "metadata": {},
   "source": [
    "## Upload to TestPyPI\n",
    "* Ensure that this notebook's kernel is running in the main virtual environment (.venv)\n",
    "* Restart the kernel if changed\n",
    "* Verify API key in `$HOME/.pypirc`\n",
    "* More information [here](https://packaging.python.org/en/latest/tutorials/packaging-projects/#uploading-the-distribution-archives)"
   ]
  },
  {
   "cell_type": "code",
   "execution_count": 9,
   "metadata": {},
   "outputs": [
    {
     "name": "stdout",
     "output_type": "stream",
     "text": [
      "Requirement already satisfied: twine in ./.venv/lib/python3.10/site-packages (6.1.0)\n",
      "Requirement already satisfied: readme-renderer>=35.0 in ./.venv/lib/python3.10/site-packages (from twine) (44.0)\n",
      "Requirement already satisfied: requests>=2.20 in ./.venv/lib/python3.10/site-packages (from twine) (2.32.3)\n",
      "Requirement already satisfied: requests-toolbelt!=0.9.0,>=0.8.0 in ./.venv/lib/python3.10/site-packages (from twine) (1.0.0)\n",
      "Requirement already satisfied: urllib3>=1.26.0 in ./.venv/lib/python3.10/site-packages (from twine) (2.2.3)\n",
      "Requirement already satisfied: keyring>=15.1 in ./.venv/lib/python3.10/site-packages (from twine) (25.5.0)\n",
      "Requirement already satisfied: rfc3986>=1.4.0 in ./.venv/lib/python3.10/site-packages (from twine) (2.0.0)\n",
      "Requirement already satisfied: rich>=12.0.0 in ./.venv/lib/python3.10/site-packages (from twine) (13.9.4)\n",
      "Requirement already satisfied: packaging>=24.0 in ./.venv/lib/python3.10/site-packages (from twine) (24.2)\n",
      "Requirement already satisfied: id in ./.venv/lib/python3.10/site-packages (from twine) (1.5.0)\n",
      "Requirement already satisfied: jaraco.classes in ./.venv/lib/python3.10/site-packages (from keyring>=15.1->twine) (3.4.0)\n",
      "Requirement already satisfied: jaraco.functools in ./.venv/lib/python3.10/site-packages (from keyring>=15.1->twine) (4.1.0)\n",
      "Requirement already satisfied: jaraco.context in ./.venv/lib/python3.10/site-packages (from keyring>=15.1->twine) (6.0.1)\n",
      "Requirement already satisfied: importlib-metadata>=4.11.4 in ./.venv/lib/python3.10/site-packages (from keyring>=15.1->twine) (8.5.0)\n",
      "Requirement already satisfied: SecretStorage>=3.2 in ./.venv/lib/python3.10/site-packages (from keyring>=15.1->twine) (3.3.3)\n",
      "Requirement already satisfied: jeepney>=0.4.2 in ./.venv/lib/python3.10/site-packages (from keyring>=15.1->twine) (0.8.0)\n",
      "Requirement already satisfied: nh3>=0.2.14 in ./.venv/lib/python3.10/site-packages (from readme-renderer>=35.0->twine) (0.2.19)\n",
      "Requirement already satisfied: docutils>=0.21.2 in ./.venv/lib/python3.10/site-packages (from readme-renderer>=35.0->twine) (0.21.2)\n",
      "Requirement already satisfied: Pygments>=2.5.1 in ./.venv/lib/python3.10/site-packages (from readme-renderer>=35.0->twine) (2.18.0)\n",
      "Requirement already satisfied: charset-normalizer<4,>=2 in ./.venv/lib/python3.10/site-packages (from requests>=2.20->twine) (3.4.0)\n",
      "Requirement already satisfied: idna<4,>=2.5 in ./.venv/lib/python3.10/site-packages (from requests>=2.20->twine) (3.10)\n",
      "Requirement already satisfied: certifi>=2017.4.17 in ./.venv/lib/python3.10/site-packages (from requests>=2.20->twine) (2024.8.30)\n",
      "Requirement already satisfied: markdown-it-py>=2.2.0 in ./.venv/lib/python3.10/site-packages (from rich>=12.0.0->twine) (3.0.0)\n",
      "Requirement already satisfied: typing-extensions<5.0,>=4.0.0 in ./.venv/lib/python3.10/site-packages (from rich>=12.0.0->twine) (4.12.2)\n",
      "Requirement already satisfied: zipp>=3.20 in ./.venv/lib/python3.10/site-packages (from importlib-metadata>=4.11.4->keyring>=15.1->twine) (3.21.0)\n",
      "Requirement already satisfied: mdurl~=0.1 in ./.venv/lib/python3.10/site-packages (from markdown-it-py>=2.2.0->rich>=12.0.0->twine) (0.1.2)\n",
      "Requirement already satisfied: cryptography>=2.0 in ./.venv/lib/python3.10/site-packages (from SecretStorage>=3.2->keyring>=15.1->twine) (44.0.0)\n",
      "Requirement already satisfied: more-itertools in ./.venv/lib/python3.10/site-packages (from jaraco.classes->keyring>=15.1->twine) (10.5.0)\n",
      "Requirement already satisfied: backports.tarfile in ./.venv/lib/python3.10/site-packages (from jaraco.context->keyring>=15.1->twine) (1.2.0)\n",
      "Requirement already satisfied: cffi>=1.12 in ./.venv/lib/python3.10/site-packages (from cryptography>=2.0->SecretStorage>=3.2->keyring>=15.1->twine) (1.17.1)\n",
      "Requirement already satisfied: pycparser in ./.venv/lib/python3.10/site-packages (from cffi>=1.12->cryptography>=2.0->SecretStorage>=3.2->keyring>=15.1->twine) (2.22)\n",
      "\n",
      "\u001b[1m[\u001b[0m\u001b[34;49mnotice\u001b[0m\u001b[1;39;49m]\u001b[0m\u001b[39;49m A new release of pip is available: \u001b[0m\u001b[31;49m24.3.1\u001b[0m\u001b[39;49m -> \u001b[0m\u001b[32;49m25.0.1\u001b[0m\n",
      "\u001b[1m[\u001b[0m\u001b[34;49mnotice\u001b[0m\u001b[1;39;49m]\u001b[0m\u001b[39;49m To update, run: \u001b[0m\u001b[32;49mpip install --upgrade pip\u001b[0m\n",
      "Note: you may need to restart the kernel to use updated packages.\n"
     ]
    }
   ],
   "source": [
    "%pip install --upgrade twine"
   ]
  },
  {
   "cell_type": "code",
   "execution_count": 10,
   "metadata": {},
   "outputs": [
    {
     "data": {
      "text/plain": [
       "'/home/dev/ai/idlmav'"
      ]
     },
     "execution_count": 10,
     "metadata": {},
     "output_type": "execute_result"
    }
   ],
   "source": [
    "from pathlib import Path\n",
    "if Path.cwd().name != 'idlmav':\n",
    "    %cd ..\n",
    "%pwd"
   ]
  },
  {
   "cell_type": "code",
   "execution_count": null,
   "metadata": {},
   "outputs": [],
   "source": [
    "!python -m twine upload --repository testpypi dist/*"
   ]
  },
  {
   "cell_type": "markdown",
   "metadata": {},
   "source": [
    "### Test in a temporary virtual environment"
   ]
  },
  {
   "cell_type": "markdown",
   "metadata": {},
   "source": [
    "* Ensure that this notebook's kernel is running in the main virtual environment (.venv)\n",
    "* Restart the kernel if changed"
   ]
  },
  {
   "cell_type": "code",
   "execution_count": 4,
   "metadata": {},
   "outputs": [],
   "source": [
    "from pathlib import Path\n",
    "if Path.cwd().name != 'idlmav':\n",
    "    %cd ..\n",
    "%pwd\n",
    "\n",
    "!rm -rf .venv_temp\n",
    "!python -m venv .venv_temp"
   ]
  },
  {
   "cell_type": "markdown",
   "metadata": {},
   "source": [
    "* Change this notebook's kernel to run in the temporary virtual environment (.venv_temp)\n",
    "* Restart the kernel"
   ]
  },
  {
   "cell_type": "code",
   "execution_count": 1,
   "metadata": {},
   "outputs": [
    {
     "name": "stdout",
     "output_type": "stream",
     "text": [
      "Looking in indexes: https://download.pytorch.org/whl/cu118\n",
      "Collecting torch\n",
      "  Using cached https://download.pytorch.org/whl/cu118/torch-2.6.0%2Bcu118-cp310-cp310-linux_x86_64.whl (848.7 MB)\n",
      "Collecting torchvision\n",
      "  Using cached https://download.pytorch.org/whl/cu118/torchvision-0.21.0%2Bcu118-cp310-cp310-linux_x86_64.whl (6.5 MB)\n",
      "Collecting torchaudio\n",
      "  Using cached https://download.pytorch.org/whl/cu118/torchaudio-2.6.0%2Bcu118-cp310-cp310-linux_x86_64.whl (3.3 MB)\n",
      "Collecting nvidia-curand-cu11==10.3.0.86\n",
      "  Using cached https://download.pytorch.org/whl/cu118/nvidia_curand_cu11-10.3.0.86-py3-none-manylinux1_x86_64.whl (58.1 MB)\n",
      "Collecting nvidia-cublas-cu11==11.11.3.6\n",
      "  Using cached https://download.pytorch.org/whl/cu118/nvidia_cublas_cu11-11.11.3.6-py3-none-manylinux1_x86_64.whl (417.9 MB)\n",
      "Collecting nvidia-nccl-cu11==2.21.5\n",
      "  Using cached https://download.pytorch.org/whl/cu118/nvidia_nccl_cu11-2.21.5-py3-none-manylinux2014_x86_64.whl (147.8 MB)\n",
      "Collecting filelock\n",
      "  Using cached https://download.pytorch.org/whl/filelock-3.13.1-py3-none-any.whl (11 kB)\n",
      "Collecting jinja2\n",
      "  Using cached https://download.pytorch.org/whl/Jinja2-3.1.4-py3-none-any.whl (133 kB)\n",
      "Collecting fsspec\n",
      "  Using cached https://download.pytorch.org/whl/fsspec-2024.6.1-py3-none-any.whl (177 kB)\n",
      "Collecting nvidia-cuda-cupti-cu11==11.8.87\n",
      "  Using cached https://download.pytorch.org/whl/cu118/nvidia_cuda_cupti_cu11-11.8.87-py3-none-manylinux1_x86_64.whl (13.1 MB)\n",
      "Collecting nvidia-nvtx-cu11==11.8.86\n",
      "  Using cached https://download.pytorch.org/whl/cu118/nvidia_nvtx_cu11-11.8.86-py3-none-manylinux1_x86_64.whl (99 kB)\n",
      "Collecting nvidia-cufft-cu11==10.9.0.58\n",
      "  Using cached https://download.pytorch.org/whl/cu118/nvidia_cufft_cu11-10.9.0.58-py3-none-manylinux1_x86_64.whl (168.4 MB)\n",
      "Collecting nvidia-cusparse-cu11==11.7.5.86\n",
      "  Using cached https://download.pytorch.org/whl/cu118/nvidia_cusparse_cu11-11.7.5.86-py3-none-manylinux1_x86_64.whl (204.1 MB)\n",
      "Collecting nvidia-cuda-runtime-cu11==11.8.89\n",
      "  Using cached https://download.pytorch.org/whl/cu118/nvidia_cuda_runtime_cu11-11.8.89-py3-none-manylinux1_x86_64.whl (875 kB)\n",
      "Collecting nvidia-cudnn-cu11==9.1.0.70\n",
      "  Using cached https://download.pytorch.org/whl/cu118/nvidia_cudnn_cu11-9.1.0.70-py3-none-manylinux2014_x86_64.whl (663.9 MB)\n",
      "Collecting nvidia-cusolver-cu11==11.4.1.48\n",
      "  Using cached https://download.pytorch.org/whl/cu118/nvidia_cusolver_cu11-11.4.1.48-py3-none-manylinux1_x86_64.whl (128.2 MB)\n",
      "Requirement already satisfied: typing-extensions>=4.10.0 in /home/dev/ai/idlmav/.venv_temp/lib/python3.10/site-packages (from torch) (4.12.2)\n",
      "Collecting sympy==1.13.1\n",
      "  Using cached https://download.pytorch.org/whl/sympy-1.13.1-py3-none-any.whl (6.2 MB)\n",
      "Collecting nvidia-cuda-nvrtc-cu11==11.8.89\n",
      "  Using cached https://download.pytorch.org/whl/cu118/nvidia_cuda_nvrtc_cu11-11.8.89-py3-none-manylinux1_x86_64.whl (23.2 MB)\n",
      "Collecting networkx\n",
      "  Using cached https://download.pytorch.org/whl/networkx-3.3-py3-none-any.whl (1.7 MB)\n",
      "Collecting triton==3.2.0\n",
      "  Using cached https://download.pytorch.org/whl/triton-3.2.0-cp310-cp310-manylinux_2_27_x86_64.manylinux_2_28_x86_64.whl (166.6 MB)\n",
      "Collecting mpmath<1.4,>=1.1.0\n",
      "  Using cached https://download.pytorch.org/whl/mpmath-1.3.0-py3-none-any.whl (536 kB)\n",
      "Collecting numpy\n",
      "  Using cached https://download.pytorch.org/whl/numpy-2.1.2-cp310-cp310-manylinux_2_17_x86_64.manylinux2014_x86_64.whl (16.3 MB)\n",
      "Collecting pillow!=8.3.*,>=5.3.0\n",
      "  Using cached https://download.pytorch.org/whl/pillow-11.0.0-cp310-cp310-manylinux_2_28_x86_64.whl (4.4 MB)\n",
      "Collecting MarkupSafe>=2.0\n",
      "  Using cached https://download.pytorch.org/whl/MarkupSafe-2.1.5-cp310-cp310-manylinux_2_17_x86_64.manylinux2014_x86_64.whl (25 kB)\n",
      "Installing collected packages: triton, mpmath, sympy, pillow, nvidia-nvtx-cu11, nvidia-nccl-cu11, nvidia-cusparse-cu11, nvidia-curand-cu11, nvidia-cufft-cu11, nvidia-cuda-runtime-cu11, nvidia-cuda-nvrtc-cu11, nvidia-cuda-cupti-cu11, nvidia-cublas-cu11, numpy, networkx, MarkupSafe, fsspec, filelock, nvidia-cusolver-cu11, nvidia-cudnn-cu11, jinja2, torch, torchvision, torchaudio\n",
      "Successfully installed MarkupSafe-2.1.5 filelock-3.13.1 fsspec-2024.6.1 jinja2-3.1.4 mpmath-1.3.0 networkx-3.3 numpy-2.1.2 nvidia-cublas-cu11-11.11.3.6 nvidia-cuda-cupti-cu11-11.8.87 nvidia-cuda-nvrtc-cu11-11.8.89 nvidia-cuda-runtime-cu11-11.8.89 nvidia-cudnn-cu11-9.1.0.70 nvidia-cufft-cu11-10.9.0.58 nvidia-curand-cu11-10.3.0.86 nvidia-cusolver-cu11-11.4.1.48 nvidia-cusparse-cu11-11.7.5.86 nvidia-nccl-cu11-2.21.5 nvidia-nvtx-cu11-11.8.86 pillow-11.0.0 sympy-1.13.1 torch-2.6.0+cu118 torchaudio-2.6.0+cu118 torchvision-0.21.0+cu118 triton-3.2.0\n",
      "Note: you may need to restart the kernel to use updated packages.\n",
      "Collecting plotly<6,>=5\n",
      "  Using cached plotly-5.24.1-py3-none-any.whl (19.1 MB)\n",
      "Collecting tenacity>=6.2.0\n",
      "  Using cached tenacity-9.0.0-py3-none-any.whl (28 kB)\n",
      "Requirement already satisfied: packaging in /home/dev/ai/idlmav/.venv_temp/lib/python3.10/site-packages (from plotly<6,>=5) (24.2)\n",
      "Installing collected packages: tenacity, plotly\n",
      "Successfully installed plotly-5.24.1 tenacity-9.0.0\n",
      "Note: you may need to restart the kernel to use updated packages.\n",
      "Requirement already satisfied: numpy in /home/dev/ai/idlmav/.venv_temp/lib/python3.10/site-packages (2.1.2)\n",
      "Collecting tabulate\n",
      "  Using cached tabulate-0.9.0-py3-none-any.whl (35 kB)\n",
      "Collecting munkres\n",
      "  Using cached munkres-1.1.4-py2.py3-none-any.whl (7.0 kB)\n",
      "Requirement already satisfied: plotly in /home/dev/ai/idlmav/.venv_temp/lib/python3.10/site-packages (5.24.1)\n",
      "Collecting nbformat\n",
      "  Using cached nbformat-5.10.4-py3-none-any.whl (78 kB)\n",
      "Collecting ipywidgets\n",
      "  Using cached ipywidgets-8.1.5-py3-none-any.whl (139 kB)\n",
      "Requirement already satisfied: tenacity>=6.2.0 in /home/dev/ai/idlmav/.venv_temp/lib/python3.10/site-packages (from plotly) (9.0.0)\n",
      "Requirement already satisfied: packaging in /home/dev/ai/idlmav/.venv_temp/lib/python3.10/site-packages (from plotly) (24.2)\n",
      "Collecting fastjsonschema>=2.15\n",
      "  Using cached fastjsonschema-2.21.1-py3-none-any.whl (23 kB)\n",
      "Collecting jsonschema>=2.6\n",
      "  Using cached jsonschema-4.23.0-py3-none-any.whl (88 kB)\n",
      "Requirement already satisfied: traitlets>=5.1 in /home/dev/ai/idlmav/.venv_temp/lib/python3.10/site-packages (from nbformat) (5.14.3)\n",
      "Requirement already satisfied: jupyter-core!=5.0.*,>=4.12 in /home/dev/ai/idlmav/.venv_temp/lib/python3.10/site-packages (from nbformat) (5.7.2)\n",
      "Requirement already satisfied: comm>=0.1.3 in /home/dev/ai/idlmav/.venv_temp/lib/python3.10/site-packages (from ipywidgets) (0.2.2)\n",
      "Requirement already satisfied: ipython>=6.1.0 in /home/dev/ai/idlmav/.venv_temp/lib/python3.10/site-packages (from ipywidgets) (8.33.0)\n",
      "Collecting widgetsnbextension~=4.0.12\n",
      "  Using cached widgetsnbextension-4.0.13-py3-none-any.whl (2.3 MB)\n",
      "Collecting jupyterlab-widgets~=3.0.12\n",
      "  Using cached jupyterlab_widgets-3.0.13-py3-none-any.whl (214 kB)\n",
      "Requirement already satisfied: matplotlib-inline in /home/dev/ai/idlmav/.venv_temp/lib/python3.10/site-packages (from ipython>=6.1.0->ipywidgets) (0.1.7)\n",
      "Requirement already satisfied: pexpect>4.3 in /home/dev/ai/idlmav/.venv_temp/lib/python3.10/site-packages (from ipython>=6.1.0->ipywidgets) (4.9.0)\n",
      "Requirement already satisfied: exceptiongroup in /home/dev/ai/idlmav/.venv_temp/lib/python3.10/site-packages (from ipython>=6.1.0->ipywidgets) (1.2.2)\n",
      "Requirement already satisfied: decorator in /home/dev/ai/idlmav/.venv_temp/lib/python3.10/site-packages (from ipython>=6.1.0->ipywidgets) (5.2.1)\n",
      "Requirement already satisfied: jedi>=0.16 in /home/dev/ai/idlmav/.venv_temp/lib/python3.10/site-packages (from ipython>=6.1.0->ipywidgets) (0.19.2)\n",
      "Requirement already satisfied: pygments>=2.4.0 in /home/dev/ai/idlmav/.venv_temp/lib/python3.10/site-packages (from ipython>=6.1.0->ipywidgets) (2.19.1)\n",
      "Requirement already satisfied: typing_extensions>=4.6 in /home/dev/ai/idlmav/.venv_temp/lib/python3.10/site-packages (from ipython>=6.1.0->ipywidgets) (4.12.2)\n",
      "Requirement already satisfied: prompt_toolkit<3.1.0,>=3.0.41 in /home/dev/ai/idlmav/.venv_temp/lib/python3.10/site-packages (from ipython>=6.1.0->ipywidgets) (3.0.50)\n",
      "Requirement already satisfied: stack_data in /home/dev/ai/idlmav/.venv_temp/lib/python3.10/site-packages (from ipython>=6.1.0->ipywidgets) (0.6.3)\n",
      "Collecting attrs>=22.2.0\n",
      "  Using cached attrs-25.1.0-py3-none-any.whl (63 kB)\n",
      "Collecting jsonschema-specifications>=2023.03.6\n",
      "  Using cached jsonschema_specifications-2024.10.1-py3-none-any.whl (18 kB)\n",
      "Collecting rpds-py>=0.7.1\n",
      "  Using cached rpds_py-0.23.1-cp310-cp310-manylinux_2_17_x86_64.manylinux2014_x86_64.whl (386 kB)\n",
      "Collecting referencing>=0.28.4\n",
      "  Using cached referencing-0.36.2-py3-none-any.whl (26 kB)\n",
      "Requirement already satisfied: platformdirs>=2.5 in /home/dev/ai/idlmav/.venv_temp/lib/python3.10/site-packages (from jupyter-core!=5.0.*,>=4.12->nbformat) (4.3.6)\n",
      "Requirement already satisfied: parso<0.9.0,>=0.8.4 in /home/dev/ai/idlmav/.venv_temp/lib/python3.10/site-packages (from jedi>=0.16->ipython>=6.1.0->ipywidgets) (0.8.4)\n",
      "Requirement already satisfied: ptyprocess>=0.5 in /home/dev/ai/idlmav/.venv_temp/lib/python3.10/site-packages (from pexpect>4.3->ipython>=6.1.0->ipywidgets) (0.7.0)\n",
      "Requirement already satisfied: wcwidth in /home/dev/ai/idlmav/.venv_temp/lib/python3.10/site-packages (from prompt_toolkit<3.1.0,>=3.0.41->ipython>=6.1.0->ipywidgets) (0.2.13)\n",
      "Requirement already satisfied: executing>=1.2.0 in /home/dev/ai/idlmav/.venv_temp/lib/python3.10/site-packages (from stack_data->ipython>=6.1.0->ipywidgets) (2.2.0)\n",
      "Requirement already satisfied: asttokens>=2.1.0 in /home/dev/ai/idlmav/.venv_temp/lib/python3.10/site-packages (from stack_data->ipython>=6.1.0->ipywidgets) (3.0.0)\n",
      "Requirement already satisfied: pure-eval in /home/dev/ai/idlmav/.venv_temp/lib/python3.10/site-packages (from stack_data->ipython>=6.1.0->ipywidgets) (0.2.3)\n",
      "Installing collected packages: munkres, fastjsonschema, widgetsnbextension, tabulate, rpds-py, jupyterlab-widgets, attrs, referencing, jsonschema-specifications, ipywidgets, jsonschema, nbformat\n",
      "Successfully installed attrs-25.1.0 fastjsonschema-2.21.1 ipywidgets-8.1.5 jsonschema-4.23.0 jsonschema-specifications-2024.10.1 jupyterlab-widgets-3.0.13 munkres-1.1.4 nbformat-5.10.4 referencing-0.36.2 rpds-py-0.23.1 tabulate-0.9.0 widgetsnbextension-4.0.13\n",
      "Note: you may need to restart the kernel to use updated packages.\n"
     ]
    }
   ],
   "source": [
    "%pip install torch torchvision torchaudio --index-url https://download.pytorch.org/whl/cu118\n",
    "%pip install \"plotly>=5,<6\"\n",
    "%pip install numpy tabulate munkres plotly nbformat ipywidgets"
   ]
  },
  {
   "cell_type": "code",
   "execution_count": 3,
   "metadata": {},
   "outputs": [
    {
     "name": "stdout",
     "output_type": "stream",
     "text": [
      "Looking in indexes: https://test.pypi.org/simple/\n",
      "Collecting idlmav\n",
      "  Downloading https://test-files.pythonhosted.org/packages/ff/31/6b3e33371cda8217e958bd9d6ea7173dcc49dcfa42761000c56f3bc0f31b/idlmav-1.1.0-py3-none-any.whl (54 kB)\n",
      "\u001b[2K     \u001b[90m━━━━━━━━━━━━━━━━━━━━━━━━━━━━━━━━━━━━━━━\u001b[0m \u001b[32m55.0/55.0 KB\u001b[0m \u001b[31m963.1 kB/s\u001b[0m eta \u001b[36m0:00:00\u001b[0m \u001b[36m0:00:01\u001b[0m\n",
      "\u001b[?25hRequirement already satisfied: numpy in /home/dev/ai/idlmav/.venv_temp/lib/python3.10/site-packages (from idlmav) (2.1.2)\n",
      "Requirement already satisfied: munkres in /home/dev/ai/idlmav/.venv_temp/lib/python3.10/site-packages (from idlmav) (1.1.4)\n",
      "Requirement already satisfied: nbformat in /home/dev/ai/idlmav/.venv_temp/lib/python3.10/site-packages (from idlmav) (5.10.4)\n",
      "Requirement already satisfied: plotly in /home/dev/ai/idlmav/.venv_temp/lib/python3.10/site-packages (from idlmav) (5.24.1)\n",
      "Requirement already satisfied: torch>=2.3.0 in /home/dev/ai/idlmav/.venv_temp/lib/python3.10/site-packages (from idlmav) (2.6.0+cu118)\n",
      "Requirement already satisfied: tabulate in /home/dev/ai/idlmav/.venv_temp/lib/python3.10/site-packages (from idlmav) (0.9.0)\n",
      "Requirement already satisfied: ipywidgets in /home/dev/ai/idlmav/.venv_temp/lib/python3.10/site-packages (from idlmav) (8.1.5)\n",
      "Requirement already satisfied: nvidia-cuda-cupti-cu11==11.8.87 in /home/dev/ai/idlmav/.venv_temp/lib/python3.10/site-packages (from torch>=2.3.0->idlmav) (11.8.87)\n",
      "Requirement already satisfied: nvidia-cufft-cu11==10.9.0.58 in /home/dev/ai/idlmav/.venv_temp/lib/python3.10/site-packages (from torch>=2.3.0->idlmav) (10.9.0.58)\n",
      "Requirement already satisfied: jinja2 in /home/dev/ai/idlmav/.venv_temp/lib/python3.10/site-packages (from torch>=2.3.0->idlmav) (3.1.4)\n",
      "Requirement already satisfied: networkx in /home/dev/ai/idlmav/.venv_temp/lib/python3.10/site-packages (from torch>=2.3.0->idlmav) (3.3)\n",
      "Requirement already satisfied: filelock in /home/dev/ai/idlmav/.venv_temp/lib/python3.10/site-packages (from torch>=2.3.0->idlmav) (3.13.1)\n",
      "Requirement already satisfied: nvidia-cuda-nvrtc-cu11==11.8.89 in /home/dev/ai/idlmav/.venv_temp/lib/python3.10/site-packages (from torch>=2.3.0->idlmav) (11.8.89)\n",
      "Requirement already satisfied: nvidia-cublas-cu11==11.11.3.6 in /home/dev/ai/idlmav/.venv_temp/lib/python3.10/site-packages (from torch>=2.3.0->idlmav) (11.11.3.6)\n",
      "Requirement already satisfied: nvidia-curand-cu11==10.3.0.86 in /home/dev/ai/idlmav/.venv_temp/lib/python3.10/site-packages (from torch>=2.3.0->idlmav) (10.3.0.86)\n",
      "Requirement already satisfied: nvidia-cusolver-cu11==11.4.1.48 in /home/dev/ai/idlmav/.venv_temp/lib/python3.10/site-packages (from torch>=2.3.0->idlmav) (11.4.1.48)\n",
      "Requirement already satisfied: nvidia-nccl-cu11==2.21.5 in /home/dev/ai/idlmav/.venv_temp/lib/python3.10/site-packages (from torch>=2.3.0->idlmav) (2.21.5)\n",
      "Requirement already satisfied: nvidia-nvtx-cu11==11.8.86 in /home/dev/ai/idlmav/.venv_temp/lib/python3.10/site-packages (from torch>=2.3.0->idlmav) (11.8.86)\n",
      "Requirement already satisfied: triton==3.2.0 in /home/dev/ai/idlmav/.venv_temp/lib/python3.10/site-packages (from torch>=2.3.0->idlmav) (3.2.0)\n",
      "Requirement already satisfied: nvidia-cusparse-cu11==11.7.5.86 in /home/dev/ai/idlmav/.venv_temp/lib/python3.10/site-packages (from torch>=2.3.0->idlmav) (11.7.5.86)\n",
      "Requirement already satisfied: nvidia-cuda-runtime-cu11==11.8.89 in /home/dev/ai/idlmav/.venv_temp/lib/python3.10/site-packages (from torch>=2.3.0->idlmav) (11.8.89)\n",
      "Requirement already satisfied: sympy==1.13.1 in /home/dev/ai/idlmav/.venv_temp/lib/python3.10/site-packages (from torch>=2.3.0->idlmav) (1.13.1)\n",
      "Requirement already satisfied: nvidia-cudnn-cu11==9.1.0.70 in /home/dev/ai/idlmav/.venv_temp/lib/python3.10/site-packages (from torch>=2.3.0->idlmav) (9.1.0.70)\n",
      "Requirement already satisfied: typing-extensions>=4.10.0 in /home/dev/ai/idlmav/.venv_temp/lib/python3.10/site-packages (from torch>=2.3.0->idlmav) (4.12.2)\n",
      "Requirement already satisfied: fsspec in /home/dev/ai/idlmav/.venv_temp/lib/python3.10/site-packages (from torch>=2.3.0->idlmav) (2024.6.1)\n",
      "Requirement already satisfied: mpmath<1.4,>=1.1.0 in /home/dev/ai/idlmav/.venv_temp/lib/python3.10/site-packages (from sympy==1.13.1->torch>=2.3.0->idlmav) (1.3.0)\n",
      "Requirement already satisfied: traitlets>=4.3.1 in /home/dev/ai/idlmav/.venv_temp/lib/python3.10/site-packages (from ipywidgets->idlmav) (5.14.3)\n",
      "Requirement already satisfied: comm>=0.1.3 in /home/dev/ai/idlmav/.venv_temp/lib/python3.10/site-packages (from ipywidgets->idlmav) (0.2.2)\n",
      "Requirement already satisfied: widgetsnbextension~=4.0.12 in /home/dev/ai/idlmav/.venv_temp/lib/python3.10/site-packages (from ipywidgets->idlmav) (4.0.13)\n",
      "Requirement already satisfied: jupyterlab-widgets~=3.0.12 in /home/dev/ai/idlmav/.venv_temp/lib/python3.10/site-packages (from ipywidgets->idlmav) (3.0.13)\n",
      "Requirement already satisfied: ipython>=6.1.0 in /home/dev/ai/idlmav/.venv_temp/lib/python3.10/site-packages (from ipywidgets->idlmav) (8.33.0)\n",
      "Requirement already satisfied: jsonschema>=2.6 in /home/dev/ai/idlmav/.venv_temp/lib/python3.10/site-packages (from nbformat->idlmav) (4.23.0)\n",
      "Requirement already satisfied: fastjsonschema>=2.15 in /home/dev/ai/idlmav/.venv_temp/lib/python3.10/site-packages (from nbformat->idlmav) (2.21.1)\n",
      "Requirement already satisfied: jupyter-core!=5.0.*,>=4.12 in /home/dev/ai/idlmav/.venv_temp/lib/python3.10/site-packages (from nbformat->idlmav) (5.7.2)\n",
      "Requirement already satisfied: tenacity>=6.2.0 in /home/dev/ai/idlmav/.venv_temp/lib/python3.10/site-packages (from plotly->idlmav) (9.0.0)\n",
      "Requirement already satisfied: packaging in /home/dev/ai/idlmav/.venv_temp/lib/python3.10/site-packages (from plotly->idlmav) (24.2)\n",
      "Requirement already satisfied: stack_data in /home/dev/ai/idlmav/.venv_temp/lib/python3.10/site-packages (from ipython>=6.1.0->ipywidgets->idlmav) (0.6.3)\n",
      "Requirement already satisfied: pexpect>4.3 in /home/dev/ai/idlmav/.venv_temp/lib/python3.10/site-packages (from ipython>=6.1.0->ipywidgets->idlmav) (4.9.0)\n",
      "Requirement already satisfied: matplotlib-inline in /home/dev/ai/idlmav/.venv_temp/lib/python3.10/site-packages (from ipython>=6.1.0->ipywidgets->idlmav) (0.1.7)\n",
      "Requirement already satisfied: decorator in /home/dev/ai/idlmav/.venv_temp/lib/python3.10/site-packages (from ipython>=6.1.0->ipywidgets->idlmav) (5.2.1)\n",
      "Requirement already satisfied: prompt_toolkit<3.1.0,>=3.0.41 in /home/dev/ai/idlmav/.venv_temp/lib/python3.10/site-packages (from ipython>=6.1.0->ipywidgets->idlmav) (3.0.50)\n",
      "Requirement already satisfied: exceptiongroup in /home/dev/ai/idlmav/.venv_temp/lib/python3.10/site-packages (from ipython>=6.1.0->ipywidgets->idlmav) (1.2.2)\n",
      "Requirement already satisfied: jedi>=0.16 in /home/dev/ai/idlmav/.venv_temp/lib/python3.10/site-packages (from ipython>=6.1.0->ipywidgets->idlmav) (0.19.2)\n",
      "Requirement already satisfied: pygments>=2.4.0 in /home/dev/ai/idlmav/.venv_temp/lib/python3.10/site-packages (from ipython>=6.1.0->ipywidgets->idlmav) (2.19.1)\n",
      "Requirement already satisfied: referencing>=0.28.4 in /home/dev/ai/idlmav/.venv_temp/lib/python3.10/site-packages (from jsonschema>=2.6->nbformat->idlmav) (0.36.2)\n",
      "Requirement already satisfied: attrs>=22.2.0 in /home/dev/ai/idlmav/.venv_temp/lib/python3.10/site-packages (from jsonschema>=2.6->nbformat->idlmav) (25.1.0)\n",
      "Requirement already satisfied: rpds-py>=0.7.1 in /home/dev/ai/idlmav/.venv_temp/lib/python3.10/site-packages (from jsonschema>=2.6->nbformat->idlmav) (0.23.1)\n",
      "Requirement already satisfied: jsonschema-specifications>=2023.03.6 in /home/dev/ai/idlmav/.venv_temp/lib/python3.10/site-packages (from jsonschema>=2.6->nbformat->idlmav) (2024.10.1)\n",
      "Requirement already satisfied: platformdirs>=2.5 in /home/dev/ai/idlmav/.venv_temp/lib/python3.10/site-packages (from jupyter-core!=5.0.*,>=4.12->nbformat->idlmav) (4.3.6)\n",
      "Requirement already satisfied: MarkupSafe>=2.0 in /home/dev/ai/idlmav/.venv_temp/lib/python3.10/site-packages (from jinja2->torch>=2.3.0->idlmav) (2.1.5)\n",
      "Requirement already satisfied: parso<0.9.0,>=0.8.4 in /home/dev/ai/idlmav/.venv_temp/lib/python3.10/site-packages (from jedi>=0.16->ipython>=6.1.0->ipywidgets->idlmav) (0.8.4)\n",
      "Requirement already satisfied: ptyprocess>=0.5 in /home/dev/ai/idlmav/.venv_temp/lib/python3.10/site-packages (from pexpect>4.3->ipython>=6.1.0->ipywidgets->idlmav) (0.7.0)\n",
      "Requirement already satisfied: wcwidth in /home/dev/ai/idlmav/.venv_temp/lib/python3.10/site-packages (from prompt_toolkit<3.1.0,>=3.0.41->ipython>=6.1.0->ipywidgets->idlmav) (0.2.13)\n",
      "Requirement already satisfied: asttokens>=2.1.0 in /home/dev/ai/idlmav/.venv_temp/lib/python3.10/site-packages (from stack_data->ipython>=6.1.0->ipywidgets->idlmav) (3.0.0)\n",
      "Requirement already satisfied: pure-eval in /home/dev/ai/idlmav/.venv_temp/lib/python3.10/site-packages (from stack_data->ipython>=6.1.0->ipywidgets->idlmav) (0.2.3)\n",
      "Requirement already satisfied: executing>=1.2.0 in /home/dev/ai/idlmav/.venv_temp/lib/python3.10/site-packages (from stack_data->ipython>=6.1.0->ipywidgets->idlmav) (2.2.0)\n",
      "Installing collected packages: idlmav\n",
      "Successfully installed idlmav-1.1.0\n",
      "Note: you may need to restart the kernel to use updated packages.\n"
     ]
    }
   ],
   "source": [
    "%pip install --index-url https://test.pypi.org/simple/ idlmav"
   ]
  },
  {
   "cell_type": "code",
   "execution_count": null,
   "metadata": {},
   "outputs": [
    {
     "data": {
      "text/html": [
       "        <script type=\"text/javascript\">\n",
       "        window.PlotlyConfig = {MathJaxConfig: 'local'};\n",
       "        if (window.MathJax && window.MathJax.Hub && window.MathJax.Hub.Config) {window.MathJax.Hub.Config({SVG: {font: \"STIX-Web\"}});}\n",
       "        if (typeof require !== 'undefined') {\n",
       "        require.undef(\"plotly\");\n",
       "        requirejs.config({\n",
       "            paths: {\n",
       "                'plotly': ['https://cdn.plot.ly/plotly-2.35.2.min']\n",
       "            }\n",
       "        });\n",
       "        require(['plotly'], function(Plotly) {\n",
       "            window._Plotly = Plotly;\n",
       "        });\n",
       "        }\n",
       "        </script>\n",
       "        "
      ]
     },
     "metadata": {},
     "output_type": "display_data"
    },
    {
     "data": {
      "text/html": [
       "<div>                            <div id=\"a94a99cd-7ab0-4135-b165-dd1acbdff0fb\" class=\"plotly-graph-div\" style=\"height:525px; width:100%;\"></div>            <script type=\"text/javascript\">                require([\"plotly\"], function(Plotly) {                    window.PLOTLYENV=window.PLOTLYENV || {};                                    if (document.getElementById(\"a94a99cd-7ab0-4135-b165-dd1acbdff0fb\")) {                    Plotly.newPlot(                        \"a94a99cd-7ab0-4135-b165-dd1acbdff0fb\",                        [{\"hoverinfo\":\"skip\",\"line\":{\"color\":\"gray\",\"width\":1},\"mode\":\"lines\",\"showlegend\":false,\"x\":[0.0,0.0,null,0.0,0.0,null,0.0,0.0,null,0.0,0.0,null,0.0,0.0,null,0.0,0.0,null,0.0,0.0,null,0.0,0.0,null,0.0,0.0,null,0.0,0.0,null,0.0,0.4,0.4,0.0,null,0.0,0.0,null,0.0,0.0,null,0.0,0.0,null,0.0,0.0,null,0.0,0.0,null,0.0,0.0,null,0.0,0.0,null,0.0,-0.4,-0.4,0.0,null,0.0,0.0,null,0.0,0.0,null,0.0,0.0,null,0.0,0.0,null,0.0,0.0,null,0.0,0.0,null,0.0,1.0,null,1.0,1.0,null,0.0,0.0,null,1.0,0.0,null,0.0,0.0,null,0.0,0.0,null,0.0,0.0,null,0.0,0.0,null,0.0,0.0,null,0.0,0.0,null,0.0,0.0,null,0.0,-0.4,-0.4,0.0,null,0.0,0.0,null,0.0,0.0,null,0.0,0.0,null,0.0,0.0,null,0.0,0.0,null,0.0,0.0,null,0.0,1.0,null,1.0,1.0,null,0.0,0.0,null,1.0,0.0,null,0.0,0.0,null,0.0,0.0,null,0.0,0.0,null,0.0,0.0,null,0.0,0.0,null,0.0,0.0,null,0.0,0.0,null,0.0,-0.4,-0.4,0.0,null,0.0,0.0,null,0.0,0.0,null,0.0,0.0,null,0.0,0.0,null,0.0,0.0,null,0.0,0.0,null,0.0,1.0,null,1.0,1.0,null,0.0,0.0,null,1.0,0.0,null,0.0,0.0,null,0.0,0.0,null,0.0,0.0,null,0.0,0.0,null,0.0,0.0,null,0.0,0.0,null,0.0,0.0,null,0.0,-0.4,-0.4,0.0,null,0.0,0.0,null,0.0,0.0,null,0.0,0.0,null,0.0,0.0,null,0.0,0.0],\"y\":[0,1,null,1,1.15,null,1.15,1.3,null,1.3,1.45,null,1.45,2,null,2,2.15,null,2.15,2.3,null,2.3,3,null,3,3.15,null,3.15,4,null,1.45,1.95,3.5,4,null,4,4.15,null,4.15,5,null,5,5.15,null,5.15,5.3,null,5.3,6,null,6,6.15,null,6.15,7,null,4.15,4.65,6.5,7,null,7,7.15,null,7.15,8,null,8,8.15,null,8.15,8.3,null,8.3,9,null,9,9.15,null,7.15,9,null,9,9.15,null,9.15,10,null,9.15,10,null,10,10.15,null,10.15,11,null,11,11.15,null,11.15,11.3,null,11.3,12,null,12,12.15,null,12.15,13,null,10.15,10.65,12.5,13,null,13,13.15,null,13.15,14,null,14,14.15,null,14.15,14.3,null,14.3,15,null,15,15.15,null,13.15,15,null,15,15.15,null,15.15,16,null,15.15,16,null,16,16.15,null,16.15,17,null,17,17.15,null,17.15,17.3,null,17.3,18,null,18,18.15,null,18.15,19,null,16.15,16.65,18.5,19,null,19,19.15,null,19.15,20,null,20,20.15,null,20.15,20.3,null,20.3,21,null,21,21.15,null,19.15,21,null,21,21.15,null,21.15,22,null,21.15,22,null,22,22.15,null,22.15,23,null,23,23.15,null,23.15,23.3,null,23.3,24,null,24,24.15,null,24.15,25,null,22.15,22.65,24.5,25,null,25,25.15,null,25.15,25.3,null,25.3,25.45,null,25.45,26,null,26,27],\"type\":\"scatter\",\"xaxis\":\"x\",\"yaxis\":\"y\"},{\"customdata\":[[\"x\",\"input\",\"(16,3,160,160)\",\"0\",\"0\",\"()\",\"{}\"],[\"conv1\",\"nn.Conv2d\",\"(16,64,80,80)\",\"9 408\",\"1 926 758 400\",\"(x,)\",\"{}\"],[\"bn1\",\"nn.BatchNorm2d\",\"(16,64,80,80)\",\"128\",\"0\",\"(conv1,)\",\"{}\"],[\"relu\",\"nn.ReLU\",\"(16,64,80,80)\",\"0\",\"0\",\"(bn1,)\",\"{}\"],[\"maxpool\",\"nn.MaxPool2d\",\"(16,64,40,40)\",\"0\",\"0\",\"(relu,)\",\"{}\"],[\"layer1_0_conv1\",\"nn.Conv2d\",\"(16,64,40,40)\",\"36 864\",\"1 887 436 800\",\"(maxpool,)\",\"{}\"],[\"layer1_0_bn1\",\"nn.BatchNorm2d\",\"(16,64,40,40)\",\"128\",\"0\",\"(layer1_0_conv1,)\",\"{}\"],[\"layer1_0_relu\",\"nn.ReLU\",\"(16,64,40,40)\",\"0\",\"0\",\"(layer1_0_bn1,)\",\"{}\"],[\"layer1_0_conv2\",\"nn.Conv2d\",\"(16,64,40,40)\",\"36 864\",\"1 887 436 800\",\"(layer1_0_relu,)\",\"{}\"],[\"layer1_0_bn2\",\"nn.BatchNorm2d\",\"(16,64,40,40)\",\"128\",\"0\",\"(layer1_0_conv2,)\",\"{}\"],[\"add\",\"add()\",\"(16,64,40,40)\",\"0\",\"1 638 400\",\"(layer1_0_bn2, maxpool)\",\"{}\"],[\"layer1_0_relu_1\",\"nn.ReLU\",\"(16,64,40,40)\",\"0\",\"0\",\"(add,)\",\"{}\"],[\"layer1_1_conv1\",\"nn.Conv2d\",\"(16,64,40,40)\",\"36 864\",\"1 887 436 800\",\"(layer1_0_relu_1,)\",\"{}\"],[\"layer1_1_bn1\",\"nn.BatchNorm2d\",\"(16,64,40,40)\",\"128\",\"0\",\"(layer1_1_conv1,)\",\"{}\"],[\"layer1_1_relu\",\"nn.ReLU\",\"(16,64,40,40)\",\"0\",\"0\",\"(layer1_1_bn1,)\",\"{}\"],[\"layer1_1_conv2\",\"nn.Conv2d\",\"(16,64,40,40)\",\"36 864\",\"1 887 436 800\",\"(layer1_1_relu,)\",\"{}\"],[\"layer1_1_bn2\",\"nn.BatchNorm2d\",\"(16,64,40,40)\",\"128\",\"0\",\"(layer1_1_conv2,)\",\"{}\"],[\"add_1\",\"add()\",\"(16,64,40,40)\",\"0\",\"1 638 400\",\"(layer1_1_bn2, layer1_0_relu_1)\",\"{}\"],[\"layer1_1_relu_1\",\"nn.ReLU\",\"(16,64,40,40)\",\"0\",\"0\",\"(add_1,)\",\"{}\"],[\"layer2_0_conv1\",\"nn.Conv2d\",\"(16,128,20,20)\",\"73 728\",\"943 718 400\",\"(layer1_1_relu_1,)\",\"{}\"],[\"layer2_0_bn1\",\"nn.BatchNorm2d\",\"(16,128,20,20)\",\"256\",\"0\",\"(layer2_0_conv1,)\",\"{}\"],[\"layer2_0_relu\",\"nn.ReLU\",\"(16,128,20,20)\",\"0\",\"0\",\"(layer2_0_bn1,)\",\"{}\"],[\"layer2_0_conv2\",\"nn.Conv2d\",\"(16,128,20,20)\",\"147 456\",\"1 887 436 800\",\"(layer2_0_relu,)\",\"{}\"],[\"layer2_0_bn2\",\"nn.BatchNorm2d\",\"(16,128,20,20)\",\"256\",\"0\",\"(layer2_0_conv2,)\",\"{}\"],[\"layer2_0_downsample_0\",\"nn.Conv2d\",\"(16,128,20,20)\",\"8 192\",\"104 857 600\",\"(layer1_1_relu_1,)\",\"{}\"],[\"layer2_0_downsample_1\",\"nn.BatchNorm2d\",\"(16,128,20,20)\",\"256\",\"0\",\"(layer2_0_downsample_0,)\",\"{}\"],[\"add_2\",\"add()\",\"(16,128,20,20)\",\"0\",\"819 200\",\"(layer2_0_bn2, layer2_0_downsample_1)\",\"{}\"],[\"layer2_0_relu_1\",\"nn.ReLU\",\"(16,128,20,20)\",\"0\",\"0\",\"(add_2,)\",\"{}\"],[\"layer2_1_conv1\",\"nn.Conv2d\",\"(16,128,20,20)\",\"147 456\",\"1 887 436 800\",\"(layer2_0_relu_1,)\",\"{}\"],[\"layer2_1_bn1\",\"nn.BatchNorm2d\",\"(16,128,20,20)\",\"256\",\"0\",\"(layer2_1_conv1,)\",\"{}\"],[\"layer2_1_relu\",\"nn.ReLU\",\"(16,128,20,20)\",\"0\",\"0\",\"(layer2_1_bn1,)\",\"{}\"],[\"layer2_1_conv2\",\"nn.Conv2d\",\"(16,128,20,20)\",\"147 456\",\"1 887 436 800\",\"(layer2_1_relu,)\",\"{}\"],[\"layer2_1_bn2\",\"nn.BatchNorm2d\",\"(16,128,20,20)\",\"256\",\"0\",\"(layer2_1_conv2,)\",\"{}\"],[\"add_3\",\"add()\",\"(16,128,20,20)\",\"0\",\"819 200\",\"(layer2_1_bn2, layer2_0_relu_1)\",\"{}\"],[\"layer2_1_relu_1\",\"nn.ReLU\",\"(16,128,20,20)\",\"0\",\"0\",\"(add_3,)\",\"{}\"],[\"layer3_0_conv1\",\"nn.Conv2d\",\"(16,256,10,10)\",\"294 912\",\"943 718 400\",\"(layer2_1_relu_1,)\",\"{}\"],[\"layer3_0_bn1\",\"nn.BatchNorm2d\",\"(16,256,10,10)\",\"512\",\"0\",\"(layer3_0_conv1,)\",\"{}\"],[\"layer3_0_relu\",\"nn.ReLU\",\"(16,256,10,10)\",\"0\",\"0\",\"(layer3_0_bn1,)\",\"{}\"],[\"layer3_0_conv2\",\"nn.Conv2d\",\"(16,256,10,10)\",\"589 824\",\"1 887 436 800\",\"(layer3_0_relu,)\",\"{}\"],[\"layer3_0_bn2\",\"nn.BatchNorm2d\",\"(16,256,10,10)\",\"512\",\"0\",\"(layer3_0_conv2,)\",\"{}\"],[\"layer3_0_downsample_0\",\"nn.Conv2d\",\"(16,256,10,10)\",\"32 768\",\"104 857 600\",\"(layer2_1_relu_1,)\",\"{}\"],[\"layer3_0_downsample_1\",\"nn.BatchNorm2d\",\"(16,256,10,10)\",\"512\",\"0\",\"(layer3_0_downsample_0,)\",\"{}\"],[\"add_4\",\"add()\",\"(16,256,10,10)\",\"0\",\"409 600\",\"(layer3_0_bn2, layer3_0_downsample_1)\",\"{}\"],[\"layer3_0_relu_1\",\"nn.ReLU\",\"(16,256,10,10)\",\"0\",\"0\",\"(add_4,)\",\"{}\"],[\"layer3_1_conv1\",\"nn.Conv2d\",\"(16,256,10,10)\",\"589 824\",\"1 887 436 800\",\"(layer3_0_relu_1,)\",\"{}\"],[\"layer3_1_bn1\",\"nn.BatchNorm2d\",\"(16,256,10,10)\",\"512\",\"0\",\"(layer3_1_conv1,)\",\"{}\"],[\"layer3_1_relu\",\"nn.ReLU\",\"(16,256,10,10)\",\"0\",\"0\",\"(layer3_1_bn1,)\",\"{}\"],[\"layer3_1_conv2\",\"nn.Conv2d\",\"(16,256,10,10)\",\"589 824\",\"1 887 436 800\",\"(layer3_1_relu,)\",\"{}\"],[\"layer3_1_bn2\",\"nn.BatchNorm2d\",\"(16,256,10,10)\",\"512\",\"0\",\"(layer3_1_conv2,)\",\"{}\"],[\"add_5\",\"add()\",\"(16,256,10,10)\",\"0\",\"409 600\",\"(layer3_1_bn2, layer3_0_relu_1)\",\"{}\"],[\"layer3_1_relu_1\",\"nn.ReLU\",\"(16,256,10,10)\",\"0\",\"0\",\"(add_5,)\",\"{}\"],[\"layer4_0_conv1\",\"nn.Conv2d\",\"(16,512,5,5)\",\"1 179 648\",\"943 718 400\",\"(layer3_1_relu_1,)\",\"{}\"],[\"layer4_0_bn1\",\"nn.BatchNorm2d\",\"(16,512,5,5)\",\"1 024\",\"0\",\"(layer4_0_conv1,)\",\"{}\"],[\"layer4_0_relu\",\"nn.ReLU\",\"(16,512,5,5)\",\"0\",\"0\",\"(layer4_0_bn1,)\",\"{}\"],[\"layer4_0_conv2\",\"nn.Conv2d\",\"(16,512,5,5)\",\"2 359 296\",\"1 887 436 800\",\"(layer4_0_relu,)\",\"{}\"],[\"layer4_0_bn2\",\"nn.BatchNorm2d\",\"(16,512,5,5)\",\"1 024\",\"0\",\"(layer4_0_conv2,)\",\"{}\"],[\"layer4_0_downsample_0\",\"nn.Conv2d\",\"(16,512,5,5)\",\"131 072\",\"104 857 600\",\"(layer3_1_relu_1,)\",\"{}\"],[\"layer4_0_downsample_1\",\"nn.BatchNorm2d\",\"(16,512,5,5)\",\"1 024\",\"0\",\"(layer4_0_downsample_0,)\",\"{}\"],[\"add_6\",\"add()\",\"(16,512,5,5)\",\"0\",\"204 800\",\"(layer4_0_bn2, layer4_0_downsample_1)\",\"{}\"],[\"layer4_0_relu_1\",\"nn.ReLU\",\"(16,512,5,5)\",\"0\",\"0\",\"(add_6,)\",\"{}\"],[\"layer4_1_conv1\",\"nn.Conv2d\",\"(16,512,5,5)\",\"2 359 296\",\"1 887 436 800\",\"(layer4_0_relu_1,)\",\"{}\"],[\"layer4_1_bn1\",\"nn.BatchNorm2d\",\"(16,512,5,5)\",\"1 024\",\"0\",\"(layer4_1_conv1,)\",\"{}\"],[\"layer4_1_relu\",\"nn.ReLU\",\"(16,512,5,5)\",\"0\",\"0\",\"(layer4_1_bn1,)\",\"{}\"],[\"layer4_1_conv2\",\"nn.Conv2d\",\"(16,512,5,5)\",\"2 359 296\",\"1 887 436 800\",\"(layer4_1_relu,)\",\"{}\"],[\"layer4_1_bn2\",\"nn.BatchNorm2d\",\"(16,512,5,5)\",\"1 024\",\"0\",\"(layer4_1_conv2,)\",\"{}\"],[\"add_7\",\"add()\",\"(16,512,5,5)\",\"0\",\"204 800\",\"(layer4_1_bn2, layer4_0_relu_1)\",\"{}\"],[\"layer4_1_relu_1\",\"nn.ReLU\",\"(16,512,5,5)\",\"0\",\"0\",\"(add_7,)\",\"{}\"],[\"avgpool\",\"nn.AdaptiveAvgPool2d\",\"(16,512,1,1)\",\"0\",\"0\",\"(layer4_1_relu_1,)\",\"{}\"],[\"flatten\",\"flatten()\",\"(16,512)\",\"0\",\"0\",\"(avgpool, 1)\",\"{}\"],[\"fc\",\"nn.Linear\",\"(16,1000)\",\"513 000\",\"16 384 000\",\"(flatten,)\",\"{}\"],[\"output\",\"output\",\"(16,1000)\",\"0\",\"0\",\"(fc,)\",\"{}\"]],\"hovertemplate\":\"Name: %{customdata[0]}\\u003cbr\\u003eOperation: %{customdata[1]}\\u003cbr\\u003eActivations: %{customdata[2]}\\u003cbr\\u003eParameters: %{customdata[3]}\\u003cbr\\u003eFLOPS: %{customdata[4]}\\u003cbr\\u003e\\u003cbr\\u003eargs: %{customdata[5]}\\u003cbr\\u003ekwargs: %{customdata[6]}\\u003cbr\\u003e\\u003cextra\\u003e\\u003c\\u002fextra\\u003e\",\"marker\":{\"color\":[\"#222A2A\",\"#00A08B\",\"#EB663B\",\"#1616A7\",\"#DA60CA\",\"#00A08B\",\"#EB663B\",\"#1616A7\",\"#00A08B\",\"#EB663B\",\"#778AAE\",\"#1616A7\",\"#00A08B\",\"#EB663B\",\"#1616A7\",\"#00A08B\",\"#EB663B\",\"#778AAE\",\"#1616A7\",\"#00A08B\",\"#EB663B\",\"#1616A7\",\"#00A08B\",\"#EB663B\",\"#00A08B\",\"#EB663B\",\"#778AAE\",\"#1616A7\",\"#00A08B\",\"#EB663B\",\"#1616A7\",\"#00A08B\",\"#EB663B\",\"#778AAE\",\"#1616A7\",\"#00A08B\",\"#EB663B\",\"#1616A7\",\"#00A08B\",\"#EB663B\",\"#00A08B\",\"#EB663B\",\"#778AAE\",\"#1616A7\",\"#00A08B\",\"#EB663B\",\"#1616A7\",\"#00A08B\",\"#EB663B\",\"#778AAE\",\"#1616A7\",\"#00A08B\",\"#EB663B\",\"#1616A7\",\"#00A08B\",\"#EB663B\",\"#00A08B\",\"#EB663B\",\"#778AAE\",\"#1616A7\",\"#00A08B\",\"#EB663B\",\"#1616A7\",\"#00A08B\",\"#EB663B\",\"#778AAE\",\"#1616A7\",\"#DA60CA\",\"#778AAE\",\"#2E91E5\",\"#222A2A\"],\"colorscale\":[[0.0,\"rgb(0,0,255)\"],[1.0,\"rgb(255,0,0)\"]],\"size\":[6.0,11.250279597842884,6.0,6.0,6.0,12.91881573172255,6.0,6.0,12.91881573172255,6.0,6.0,6.0,12.91881573172255,6.0,6.0,12.91881573172255,6.0,6.0,6.0,13.765679776435459,6.846864044712908,6.0,14.612543821148368,6.846864044712908,11.08118426827745,6.846864044712908,6.0,6.0,14.612543821148368,6.846864044712908,6.0,14.612543821148368,6.846864044712908,6.0,6.0,15.459407865861275,7.693728089425816,6.0,16.306271910574182,7.693728089425816,12.774912357703267,7.693728089425816,6.0,6.0,16.306271910574182,7.693728089425816,6.0,16.306271910574182,7.693728089425816,6.0,6.0,17.15313595528709,8.540592134138725,6.0,18.0,8.540592134138725,14.468640447129083,8.540592134138725,6.0,6.0,18.0,8.540592134138725,6.0,18.0,8.540592134138725,6.0,6.0,6.0,6.0,16.13577641297401,6.0]},\"mode\":\"markers\",\"showlegend\":false,\"x\":[0.0,0.0,0.0,0.0,0.0,0.0,0.0,0.0,0.0,0.0,0.0,0.0,0.0,0.0,0.0,0.0,0.0,0.0,0.0,0.0,0.0,0.0,0.0,0.0,1.0,1.0,0.0,0.0,0.0,0.0,0.0,0.0,0.0,0.0,0.0,0.0,0.0,0.0,0.0,0.0,1.0,1.0,0.0,0.0,0.0,0.0,0.0,0.0,0.0,0.0,0.0,0.0,0.0,0.0,0.0,0.0,1.0,1.0,0.0,0.0,0.0,0.0,0.0,0.0,0.0,0.0,0.0,0.0,0.0,0.0,0.0],\"y\":[0,1,1.15,1.3,1.45,2,2.15,2.3,3,3.15,4,4.15,5,5.15,5.3,6,6.15,7,7.15,8,8.15,8.3,9,9.15,9,9.15,10,10.15,11,11.15,11.3,12,12.15,13,13.15,14,14.15,14.3,15,15.15,15,15.15,16,16.15,17,17.15,17.3,18,18.15,19,19.15,20,20.15,20.3,21,21.15,21,21.15,22,22.15,23,23.15,23.3,24,24.15,25,25.15,25.3,25.45,26,27],\"type\":\"scatter\",\"xaxis\":\"x\",\"yaxis\":\"y\"},{\"cells\":{\"align\":\"left\",\"values\":[[\"x\",\"conv1\",\"bn1\",\"relu\",\"maxpool\",\"layer1_0_conv1\",\"layer1_0_bn1\",\"layer1_0_relu\",\"layer1_0_conv2\",\"layer1_0_bn2\",\"add\",\"layer1_0_relu_1\",\"layer1_1_conv1\",\"layer1_1_bn1\",\"layer1_1_relu\",\"layer1_1_conv2\",\"layer1_1_bn2\",\"add_1\",\"layer1_1_relu_1\",\"layer2_0_conv1\",\"layer2_0_bn1\",\"layer2_0_relu\",\"layer2_0_conv2\",\"layer2_0_bn2\",\"layer2_0_downsample_0\",\"layer2_0_downsample_1\",\"add_2\",\"layer2_0_relu_1\",\"layer2_1_conv1\",\"layer2_1_bn1\",\"layer2_1_relu\",\"layer2_1_conv2\",\"layer2_1_bn2\",\"add_3\",\"layer2_1_relu_1\",\"layer3_0_conv1\",\"layer3_0_bn1\",\"layer3_0_relu\",\"layer3_0_conv2\",\"layer3_0_bn2\",\"layer3_0_downsample_0\",\"layer3_0_downsample_1\",\"add_4\",\"layer3_0_relu_1\",\"layer3_1_conv1\",\"layer3_1_bn1\",\"layer3_1_relu\",\"layer3_1_conv2\",\"layer3_1_bn2\",\"add_5\",\"layer3_1_relu_1\",\"layer4_0_conv1\",\"layer4_0_bn1\",\"layer4_0_relu\",\"layer4_0_conv2\",\"layer4_0_bn2\",\"layer4_0_downsample_0\",\"layer4_0_downsample_1\",\"add_6\",\"layer4_0_relu_1\",\"layer4_1_conv1\",\"layer4_1_bn1\",\"layer4_1_relu\",\"layer4_1_conv2\",\"layer4_1_bn2\",\"add_7\",\"layer4_1_relu_1\",\"avgpool\",\"flatten\",\"fc\",\"output\"],[\"input\",\"nn.Conv2d\",\"nn.BatchNorm2d\",\"nn.ReLU\",\"nn.MaxPool2d\",\"nn.Conv2d\",\"nn.BatchNorm2d\",\"nn.ReLU\",\"nn.Conv2d\",\"nn.BatchNorm2d\",\"add()\",\"nn.ReLU\",\"nn.Conv2d\",\"nn.BatchNorm2d\",\"nn.ReLU\",\"nn.Conv2d\",\"nn.BatchNorm2d\",\"add()\",\"nn.ReLU\",\"nn.Conv2d\",\"nn.BatchNorm2d\",\"nn.ReLU\",\"nn.Conv2d\",\"nn.BatchNorm2d\",\"nn.Conv2d\",\"nn.BatchNorm2d\",\"add()\",\"nn.ReLU\",\"nn.Conv2d\",\"nn.BatchNorm2d\",\"nn.ReLU\",\"nn.Conv2d\",\"nn.BatchNorm2d\",\"add()\",\"nn.ReLU\",\"nn.Conv2d\",\"nn.BatchNorm2d\",\"nn.ReLU\",\"nn.Conv2d\",\"nn.BatchNorm2d\",\"nn.Conv2d\",\"nn.BatchNorm2d\",\"add()\",\"nn.ReLU\",\"nn.Conv2d\",\"nn.BatchNorm2d\",\"nn.ReLU\",\"nn.Conv2d\",\"nn.BatchNorm2d\",\"add()\",\"nn.ReLU\",\"nn.Conv2d\",\"nn.BatchNorm2d\",\"nn.ReLU\",\"nn.Conv2d\",\"nn.BatchNorm2d\",\"nn.Conv2d\",\"nn.BatchNorm2d\",\"add()\",\"nn.ReLU\",\"nn.Conv2d\",\"nn.BatchNorm2d\",\"nn.ReLU\",\"nn.Conv2d\",\"nn.BatchNorm2d\",\"add()\",\"nn.ReLU\",\"nn.AdaptiveAvgPool2d\",\"flatten()\",\"nn.Linear\",\"output\"],[\"(16,3,160,160)\",\"(16,64,80,80)\",\"(16,64,80,80)\",\"(16,64,80,80)\",\"(16,64,40,40)\",\"(16,64,40,40)\",\"(16,64,40,40)\",\"(16,64,40,40)\",\"(16,64,40,40)\",\"(16,64,40,40)\",\"(16,64,40,40)\",\"(16,64,40,40)\",\"(16,64,40,40)\",\"(16,64,40,40)\",\"(16,64,40,40)\",\"(16,64,40,40)\",\"(16,64,40,40)\",\"(16,64,40,40)\",\"(16,64,40,40)\",\"(16,128,20,20)\",\"(16,128,20,20)\",\"(16,128,20,20)\",\"(16,128,20,20)\",\"(16,128,20,20)\",\"(16,128,20,20)\",\"(16,128,20,20)\",\"(16,128,20,20)\",\"(16,128,20,20)\",\"(16,128,20,20)\",\"(16,128,20,20)\",\"(16,128,20,20)\",\"(16,128,20,20)\",\"(16,128,20,20)\",\"(16,128,20,20)\",\"(16,128,20,20)\",\"(16,256,10,10)\",\"(16,256,10,10)\",\"(16,256,10,10)\",\"(16,256,10,10)\",\"(16,256,10,10)\",\"(16,256,10,10)\",\"(16,256,10,10)\",\"(16,256,10,10)\",\"(16,256,10,10)\",\"(16,256,10,10)\",\"(16,256,10,10)\",\"(16,256,10,10)\",\"(16,256,10,10)\",\"(16,256,10,10)\",\"(16,256,10,10)\",\"(16,256,10,10)\",\"(16,512,5,5)\",\"(16,512,5,5)\",\"(16,512,5,5)\",\"(16,512,5,5)\",\"(16,512,5,5)\",\"(16,512,5,5)\",\"(16,512,5,5)\",\"(16,512,5,5)\",\"(16,512,5,5)\",\"(16,512,5,5)\",\"(16,512,5,5)\",\"(16,512,5,5)\",\"(16,512,5,5)\",\"(16,512,5,5)\",\"(16,512,5,5)\",\"(16,512,5,5)\",\"(16,512,1,1)\",\"(16,512)\",\"(16,1000)\",\"(16,1000)\"],[\"0\",\"9 408\",\"128\",\"0\",\"0\",\"36 864\",\"128\",\"0\",\"36 864\",\"128\",\"0\",\"0\",\"36 864\",\"128\",\"0\",\"36 864\",\"128\",\"0\",\"0\",\"73 728\",\"256\",\"0\",\"147 456\",\"256\",\"8 192\",\"256\",\"0\",\"0\",\"147 456\",\"256\",\"0\",\"147 456\",\"256\",\"0\",\"0\",\"294 912\",\"512\",\"0\",\"589 824\",\"512\",\"32 768\",\"512\",\"0\",\"0\",\"589 824\",\"512\",\"0\",\"589 824\",\"512\",\"0\",\"0\",\"1 179 648\",\"1 024\",\"0\",\"2 359 296\",\"1 024\",\"131 072\",\"1 024\",\"0\",\"0\",\"2 359 296\",\"1 024\",\"0\",\"2 359 296\",\"1 024\",\"0\",\"0\",\"0\",\"0\",\"513 000\",\"0\"],[\"0\",\"1 926 758 400\",\"0\",\"0\",\"0\",\"1 887 436 800\",\"0\",\"0\",\"1 887 436 800\",\"0\",\"1 638 400\",\"0\",\"1 887 436 800\",\"0\",\"0\",\"1 887 436 800\",\"0\",\"1 638 400\",\"0\",\"943 718 400\",\"0\",\"0\",\"1 887 436 800\",\"0\",\"104 857 600\",\"0\",\"819 200\",\"0\",\"1 887 436 800\",\"0\",\"0\",\"1 887 436 800\",\"0\",\"819 200\",\"0\",\"943 718 400\",\"0\",\"0\",\"1 887 436 800\",\"0\",\"104 857 600\",\"0\",\"409 600\",\"0\",\"1 887 436 800\",\"0\",\"0\",\"1 887 436 800\",\"0\",\"409 600\",\"0\",\"943 718 400\",\"0\",\"0\",\"1 887 436 800\",\"0\",\"104 857 600\",\"0\",\"204 800\",\"0\",\"1 887 436 800\",\"0\",\"0\",\"1 887 436 800\",\"0\",\"204 800\",\"0\",\"0\",\"0\",\"16 384 000\",\"0\"]]},\"header\":{\"align\":\"left\",\"font\":{\"size\":10},\"values\":[\"Name\",\"Operation\",\"Activations\",\"Params [11 689 512]\",\"FLOPS [29 631 692 800]\"]},\"type\":\"table\",\"domain\":{\"x\":[0.19,1.0],\"y\":[0.0,1.0]}}],                        {\"template\":{\"data\":{\"histogram2dcontour\":[{\"type\":\"histogram2dcontour\",\"colorbar\":{\"outlinewidth\":0,\"ticks\":\"\"},\"colorscale\":[[0.0,\"#0d0887\"],[0.1111111111111111,\"#46039f\"],[0.2222222222222222,\"#7201a8\"],[0.3333333333333333,\"#9c179e\"],[0.4444444444444444,\"#bd3786\"],[0.5555555555555556,\"#d8576b\"],[0.6666666666666666,\"#ed7953\"],[0.7777777777777778,\"#fb9f3a\"],[0.8888888888888888,\"#fdca26\"],[1.0,\"#f0f921\"]]}],\"choropleth\":[{\"type\":\"choropleth\",\"colorbar\":{\"outlinewidth\":0,\"ticks\":\"\"}}],\"histogram2d\":[{\"type\":\"histogram2d\",\"colorbar\":{\"outlinewidth\":0,\"ticks\":\"\"},\"colorscale\":[[0.0,\"#0d0887\"],[0.1111111111111111,\"#46039f\"],[0.2222222222222222,\"#7201a8\"],[0.3333333333333333,\"#9c179e\"],[0.4444444444444444,\"#bd3786\"],[0.5555555555555556,\"#d8576b\"],[0.6666666666666666,\"#ed7953\"],[0.7777777777777778,\"#fb9f3a\"],[0.8888888888888888,\"#fdca26\"],[1.0,\"#f0f921\"]]}],\"heatmap\":[{\"type\":\"heatmap\",\"colorbar\":{\"outlinewidth\":0,\"ticks\":\"\"},\"colorscale\":[[0.0,\"#0d0887\"],[0.1111111111111111,\"#46039f\"],[0.2222222222222222,\"#7201a8\"],[0.3333333333333333,\"#9c179e\"],[0.4444444444444444,\"#bd3786\"],[0.5555555555555556,\"#d8576b\"],[0.6666666666666666,\"#ed7953\"],[0.7777777777777778,\"#fb9f3a\"],[0.8888888888888888,\"#fdca26\"],[1.0,\"#f0f921\"]]}],\"heatmapgl\":[{\"type\":\"heatmapgl\",\"colorbar\":{\"outlinewidth\":0,\"ticks\":\"\"},\"colorscale\":[[0.0,\"#0d0887\"],[0.1111111111111111,\"#46039f\"],[0.2222222222222222,\"#7201a8\"],[0.3333333333333333,\"#9c179e\"],[0.4444444444444444,\"#bd3786\"],[0.5555555555555556,\"#d8576b\"],[0.6666666666666666,\"#ed7953\"],[0.7777777777777778,\"#fb9f3a\"],[0.8888888888888888,\"#fdca26\"],[1.0,\"#f0f921\"]]}],\"contourcarpet\":[{\"type\":\"contourcarpet\",\"colorbar\":{\"outlinewidth\":0,\"ticks\":\"\"}}],\"contour\":[{\"type\":\"contour\",\"colorbar\":{\"outlinewidth\":0,\"ticks\":\"\"},\"colorscale\":[[0.0,\"#0d0887\"],[0.1111111111111111,\"#46039f\"],[0.2222222222222222,\"#7201a8\"],[0.3333333333333333,\"#9c179e\"],[0.4444444444444444,\"#bd3786\"],[0.5555555555555556,\"#d8576b\"],[0.6666666666666666,\"#ed7953\"],[0.7777777777777778,\"#fb9f3a\"],[0.8888888888888888,\"#fdca26\"],[1.0,\"#f0f921\"]]}],\"surface\":[{\"type\":\"surface\",\"colorbar\":{\"outlinewidth\":0,\"ticks\":\"\"},\"colorscale\":[[0.0,\"#0d0887\"],[0.1111111111111111,\"#46039f\"],[0.2222222222222222,\"#7201a8\"],[0.3333333333333333,\"#9c179e\"],[0.4444444444444444,\"#bd3786\"],[0.5555555555555556,\"#d8576b\"],[0.6666666666666666,\"#ed7953\"],[0.7777777777777778,\"#fb9f3a\"],[0.8888888888888888,\"#fdca26\"],[1.0,\"#f0f921\"]]}],\"mesh3d\":[{\"type\":\"mesh3d\",\"colorbar\":{\"outlinewidth\":0,\"ticks\":\"\"}}],\"scatter\":[{\"fillpattern\":{\"fillmode\":\"overlay\",\"size\":10,\"solidity\":0.2},\"type\":\"scatter\"}],\"parcoords\":[{\"type\":\"parcoords\",\"line\":{\"colorbar\":{\"outlinewidth\":0,\"ticks\":\"\"}}}],\"scatterpolargl\":[{\"type\":\"scatterpolargl\",\"marker\":{\"colorbar\":{\"outlinewidth\":0,\"ticks\":\"\"}}}],\"bar\":[{\"error_x\":{\"color\":\"#2a3f5f\"},\"error_y\":{\"color\":\"#2a3f5f\"},\"marker\":{\"line\":{\"color\":\"#E5ECF6\",\"width\":0.5},\"pattern\":{\"fillmode\":\"overlay\",\"size\":10,\"solidity\":0.2}},\"type\":\"bar\"}],\"scattergeo\":[{\"type\":\"scattergeo\",\"marker\":{\"colorbar\":{\"outlinewidth\":0,\"ticks\":\"\"}}}],\"scatterpolar\":[{\"type\":\"scatterpolar\",\"marker\":{\"colorbar\":{\"outlinewidth\":0,\"ticks\":\"\"}}}],\"histogram\":[{\"marker\":{\"pattern\":{\"fillmode\":\"overlay\",\"size\":10,\"solidity\":0.2}},\"type\":\"histogram\"}],\"scattergl\":[{\"type\":\"scattergl\",\"marker\":{\"colorbar\":{\"outlinewidth\":0,\"ticks\":\"\"}}}],\"scatter3d\":[{\"type\":\"scatter3d\",\"line\":{\"colorbar\":{\"outlinewidth\":0,\"ticks\":\"\"}},\"marker\":{\"colorbar\":{\"outlinewidth\":0,\"ticks\":\"\"}}}],\"scattermapbox\":[{\"type\":\"scattermapbox\",\"marker\":{\"colorbar\":{\"outlinewidth\":0,\"ticks\":\"\"}}}],\"scatterternary\":[{\"type\":\"scatterternary\",\"marker\":{\"colorbar\":{\"outlinewidth\":0,\"ticks\":\"\"}}}],\"scattercarpet\":[{\"type\":\"scattercarpet\",\"marker\":{\"colorbar\":{\"outlinewidth\":0,\"ticks\":\"\"}}}],\"carpet\":[{\"aaxis\":{\"endlinecolor\":\"#2a3f5f\",\"gridcolor\":\"white\",\"linecolor\":\"white\",\"minorgridcolor\":\"white\",\"startlinecolor\":\"#2a3f5f\"},\"baxis\":{\"endlinecolor\":\"#2a3f5f\",\"gridcolor\":\"white\",\"linecolor\":\"white\",\"minorgridcolor\":\"white\",\"startlinecolor\":\"#2a3f5f\"},\"type\":\"carpet\"}],\"table\":[{\"cells\":{\"fill\":{\"color\":\"#EBF0F8\"},\"line\":{\"color\":\"white\"}},\"header\":{\"fill\":{\"color\":\"#C8D4E3\"},\"line\":{\"color\":\"white\"}},\"type\":\"table\"}],\"barpolar\":[{\"marker\":{\"line\":{\"color\":\"#E5ECF6\",\"width\":0.5},\"pattern\":{\"fillmode\":\"overlay\",\"size\":10,\"solidity\":0.2}},\"type\":\"barpolar\"}],\"pie\":[{\"automargin\":true,\"type\":\"pie\"}]},\"layout\":{\"autotypenumbers\":\"strict\",\"colorway\":[\"#636efa\",\"#EF553B\",\"#00cc96\",\"#ab63fa\",\"#FFA15A\",\"#19d3f3\",\"#FF6692\",\"#B6E880\",\"#FF97FF\",\"#FECB52\"],\"font\":{\"color\":\"#2a3f5f\"},\"hovermode\":\"closest\",\"hoverlabel\":{\"align\":\"left\"},\"paper_bgcolor\":\"white\",\"plot_bgcolor\":\"#E5ECF6\",\"polar\":{\"bgcolor\":\"#E5ECF6\",\"angularaxis\":{\"gridcolor\":\"white\",\"linecolor\":\"white\",\"ticks\":\"\"},\"radialaxis\":{\"gridcolor\":\"white\",\"linecolor\":\"white\",\"ticks\":\"\"}},\"ternary\":{\"bgcolor\":\"#E5ECF6\",\"aaxis\":{\"gridcolor\":\"white\",\"linecolor\":\"white\",\"ticks\":\"\"},\"baxis\":{\"gridcolor\":\"white\",\"linecolor\":\"white\",\"ticks\":\"\"},\"caxis\":{\"gridcolor\":\"white\",\"linecolor\":\"white\",\"ticks\":\"\"}},\"coloraxis\":{\"colorbar\":{\"outlinewidth\":0,\"ticks\":\"\"}},\"colorscale\":{\"sequential\":[[0.0,\"#0d0887\"],[0.1111111111111111,\"#46039f\"],[0.2222222222222222,\"#7201a8\"],[0.3333333333333333,\"#9c179e\"],[0.4444444444444444,\"#bd3786\"],[0.5555555555555556,\"#d8576b\"],[0.6666666666666666,\"#ed7953\"],[0.7777777777777778,\"#fb9f3a\"],[0.8888888888888888,\"#fdca26\"],[1.0,\"#f0f921\"]],\"sequentialminus\":[[0.0,\"#0d0887\"],[0.1111111111111111,\"#46039f\"],[0.2222222222222222,\"#7201a8\"],[0.3333333333333333,\"#9c179e\"],[0.4444444444444444,\"#bd3786\"],[0.5555555555555556,\"#d8576b\"],[0.6666666666666666,\"#ed7953\"],[0.7777777777777778,\"#fb9f3a\"],[0.8888888888888888,\"#fdca26\"],[1.0,\"#f0f921\"]],\"diverging\":[[0,\"#8e0152\"],[0.1,\"#c51b7d\"],[0.2,\"#de77ae\"],[0.3,\"#f1b6da\"],[0.4,\"#fde0ef\"],[0.5,\"#f7f7f7\"],[0.6,\"#e6f5d0\"],[0.7,\"#b8e186\"],[0.8,\"#7fbc41\"],[0.9,\"#4d9221\"],[1,\"#276419\"]]},\"xaxis\":{\"gridcolor\":\"white\",\"linecolor\":\"white\",\"ticks\":\"\",\"title\":{\"standoff\":15},\"zerolinecolor\":\"white\",\"automargin\":true,\"zerolinewidth\":2},\"yaxis\":{\"gridcolor\":\"white\",\"linecolor\":\"white\",\"ticks\":\"\",\"title\":{\"standoff\":15},\"zerolinecolor\":\"white\",\"automargin\":true,\"zerolinewidth\":2},\"scene\":{\"xaxis\":{\"backgroundcolor\":\"#E5ECF6\",\"gridcolor\":\"white\",\"linecolor\":\"white\",\"showbackground\":true,\"ticks\":\"\",\"zerolinecolor\":\"white\",\"gridwidth\":2},\"yaxis\":{\"backgroundcolor\":\"#E5ECF6\",\"gridcolor\":\"white\",\"linecolor\":\"white\",\"showbackground\":true,\"ticks\":\"\",\"zerolinecolor\":\"white\",\"gridwidth\":2},\"zaxis\":{\"backgroundcolor\":\"#E5ECF6\",\"gridcolor\":\"white\",\"linecolor\":\"white\",\"showbackground\":true,\"ticks\":\"\",\"zerolinecolor\":\"white\",\"gridwidth\":2}},\"shapedefaults\":{\"line\":{\"color\":\"#2a3f5f\"}},\"annotationdefaults\":{\"arrowcolor\":\"#2a3f5f\",\"arrowhead\":0,\"arrowwidth\":1},\"geo\":{\"bgcolor\":\"white\",\"landcolor\":\"#E5ECF6\",\"subunitcolor\":\"white\",\"showland\":true,\"showlakes\":true,\"lakecolor\":\"white\"},\"title\":{\"x\":0.05},\"mapbox\":{\"style\":\"light\"}}},\"xaxis\":{\"anchor\":\"y\",\"domain\":[0.0,0.18],\"showgrid\":false,\"zeroline\":false,\"tickmode\":\"array\",\"tickvals\":[],\"range\":[-0.5,1.5]},\"yaxis\":{\"anchor\":\"x\",\"domain\":[0.0,1.0],\"showgrid\":false,\"zeroline\":false,\"tickmode\":\"array\",\"tickvals\":[],\"range\":[9.75,-0.25]},\"updatemenus\":[{\"active\":0,\"buttons\":[{\"args\":[{\"marker\":[{},{\"size\":[6.0,11.250279597842884,6.0,6.0,6.0,12.91881573172255,6.0,6.0,12.91881573172255,6.0,6.0,6.0,12.91881573172255,6.0,6.0,12.91881573172255,6.0,6.0,6.0,13.765679776435459,6.846864044712908,6.0,14.612543821148368,6.846864044712908,11.08118426827745,6.846864044712908,6.0,6.0,14.612543821148368,6.846864044712908,6.0,14.612543821148368,6.846864044712908,6.0,6.0,15.459407865861275,7.693728089425816,6.0,16.306271910574182,7.693728089425816,12.774912357703267,7.693728089425816,6.0,6.0,16.306271910574182,7.693728089425816,6.0,16.306271910574182,7.693728089425816,6.0,6.0,17.15313595528709,8.540592134138725,6.0,18.0,8.540592134138725,14.468640447129083,8.540592134138725,6.0,6.0,18.0,8.540592134138725,6.0,18.0,8.540592134138725,6.0,6.0,6.0,6.0,16.13577641297401,6.0],\"color\":[\"#222A2A\",\"#00A08B\",\"#EB663B\",\"#1616A7\",\"#DA60CA\",\"#00A08B\",\"#EB663B\",\"#1616A7\",\"#00A08B\",\"#EB663B\",\"#778AAE\",\"#1616A7\",\"#00A08B\",\"#EB663B\",\"#1616A7\",\"#00A08B\",\"#EB663B\",\"#778AAE\",\"#1616A7\",\"#00A08B\",\"#EB663B\",\"#1616A7\",\"#00A08B\",\"#EB663B\",\"#00A08B\",\"#EB663B\",\"#778AAE\",\"#1616A7\",\"#00A08B\",\"#EB663B\",\"#1616A7\",\"#00A08B\",\"#EB663B\",\"#778AAE\",\"#1616A7\",\"#00A08B\",\"#EB663B\",\"#1616A7\",\"#00A08B\",\"#EB663B\",\"#00A08B\",\"#EB663B\",\"#778AAE\",\"#1616A7\",\"#00A08B\",\"#EB663B\",\"#1616A7\",\"#00A08B\",\"#EB663B\",\"#778AAE\",\"#1616A7\",\"#00A08B\",\"#EB663B\",\"#1616A7\",\"#00A08B\",\"#EB663B\",\"#00A08B\",\"#EB663B\",\"#778AAE\",\"#1616A7\",\"#00A08B\",\"#EB663B\",\"#1616A7\",\"#00A08B\",\"#EB663B\",\"#778AAE\",\"#1616A7\",\"#DA60CA\",\"#778AAE\",\"#2E91E5\",\"#222A2A\"],\"colorscale\":\"Bluered\"},{}]}],\"label\":\"Size by params, color by operation\",\"method\":\"restyle\"},{\"args\":[{\"marker\":[{},{\"size\":[6.0,18.0,6.0,6.0,6.0,17.972956289262115,6.0,6.0,17.972956289262115,6.0,8.727340426301035,6.0,17.972956289262115,6.0,6.0,17.972956289262115,6.0,8.727340426301035,6.0,17.063842813828437,6.0,6.0,17.972956289262115,6.0,14.182021278903106,6.0,7.818226950867357,6.0,17.972956289262115,6.0,6.0,17.972956289262115,6.0,7.818226950867357,6.0,17.063842813828437,6.0,6.0,17.972956289262115,6.0,14.182021278903106,6.0,6.909113475433679,6.0,17.972956289262115,6.0,6.0,17.972956289262115,6.0,6.909113475433679,6.0,17.063842813828437,6.0,6.0,17.972956289262115,6.0,14.182021278903106,6.0,6.0,6.0,17.972956289262115,6.0,6.0,17.972956289262115,6.0,6.0,6.0,6.0,6.0,11.747350021784866,6.0],\"color\":[\"#222A2A\",\"#00A08B\",\"#EB663B\",\"#1616A7\",\"#DA60CA\",\"#00A08B\",\"#EB663B\",\"#1616A7\",\"#00A08B\",\"#EB663B\",\"#778AAE\",\"#1616A7\",\"#00A08B\",\"#EB663B\",\"#1616A7\",\"#00A08B\",\"#EB663B\",\"#778AAE\",\"#1616A7\",\"#00A08B\",\"#EB663B\",\"#1616A7\",\"#00A08B\",\"#EB663B\",\"#00A08B\",\"#EB663B\",\"#778AAE\",\"#1616A7\",\"#00A08B\",\"#EB663B\",\"#1616A7\",\"#00A08B\",\"#EB663B\",\"#778AAE\",\"#1616A7\",\"#00A08B\",\"#EB663B\",\"#1616A7\",\"#00A08B\",\"#EB663B\",\"#00A08B\",\"#EB663B\",\"#778AAE\",\"#1616A7\",\"#00A08B\",\"#EB663B\",\"#1616A7\",\"#00A08B\",\"#EB663B\",\"#778AAE\",\"#1616A7\",\"#00A08B\",\"#EB663B\",\"#1616A7\",\"#00A08B\",\"#EB663B\",\"#00A08B\",\"#EB663B\",\"#778AAE\",\"#1616A7\",\"#00A08B\",\"#EB663B\",\"#1616A7\",\"#00A08B\",\"#EB663B\",\"#778AAE\",\"#1616A7\",\"#DA60CA\",\"#778AAE\",\"#2E91E5\",\"#222A2A\"],\"colorscale\":\"Bluered\"},{}]}],\"label\":\"Size by FLOPS, color by operation\",\"method\":\"restyle\"},{\"args\":[{\"marker\":[{},{\"size\":[6.0,11.250279597842884,6.0,6.0,6.0,12.91881573172255,6.0,6.0,12.91881573172255,6.0,6.0,6.0,12.91881573172255,6.0,6.0,12.91881573172255,6.0,6.0,6.0,13.765679776435459,6.846864044712908,6.0,14.612543821148368,6.846864044712908,11.08118426827745,6.846864044712908,6.0,6.0,14.612543821148368,6.846864044712908,6.0,14.612543821148368,6.846864044712908,6.0,6.0,15.459407865861275,7.693728089425816,6.0,16.306271910574182,7.693728089425816,12.774912357703267,7.693728089425816,6.0,6.0,16.306271910574182,7.693728089425816,6.0,16.306271910574182,7.693728089425816,6.0,6.0,17.15313595528709,8.540592134138725,6.0,18.0,8.540592134138725,14.468640447129083,8.540592134138725,6.0,6.0,18.0,8.540592134138725,6.0,18.0,8.540592134138725,6.0,6.0,6.0,6.0,16.13577641297401,6.0],\"color\":[0.0,1.0,0.0,0.0,0.0,0.9977463574385095,0.0,0.0,0.9977463574385095,0.0,0.22727836885841962,0.0,0.9977463574385095,0.0,0.0,0.9977463574385095,0.0,0.22727836885841962,0.0,0.9219869011523696,0.0,0.0,0.9977463574385095,0.0,0.6818351065752588,0.0,0.15151891257227976,0.0,0.9977463574385095,0.0,0.0,0.9977463574385095,0.0,0.15151891257227976,0.0,0.9219869011523696,0.0,0.0,0.9977463574385095,0.0,0.6818351065752588,0.0,0.07575945628613988,0.0,0.9977463574385095,0.0,0.0,0.9977463574385095,0.0,0.07575945628613988,0.0,0.9219869011523696,0.0,0.0,0.9977463574385095,0.0,0.6818351065752588,0.0,0.0,0.0,0.9977463574385095,0.0,0.0,0.9977463574385095,0.0,0.0,0.0,0.0,0.0,0.4789458351487389,0.0],\"colorscale\":\"Bluered\"},{}]}],\"label\":\"Size by params, color by FLOPS\",\"method\":\"restyle\"},{\"args\":[{\"marker\":[{},{\"size\":[6.0,18.0,6.0,6.0,6.0,17.972956289262115,6.0,6.0,17.972956289262115,6.0,8.727340426301035,6.0,17.972956289262115,6.0,6.0,17.972956289262115,6.0,8.727340426301035,6.0,17.063842813828437,6.0,6.0,17.972956289262115,6.0,14.182021278903106,6.0,7.818226950867357,6.0,17.972956289262115,6.0,6.0,17.972956289262115,6.0,7.818226950867357,6.0,17.063842813828437,6.0,6.0,17.972956289262115,6.0,14.182021278903106,6.0,6.909113475433679,6.0,17.972956289262115,6.0,6.0,17.972956289262115,6.0,6.909113475433679,6.0,17.063842813828437,6.0,6.0,17.972956289262115,6.0,14.182021278903106,6.0,6.0,6.0,17.972956289262115,6.0,6.0,17.972956289262115,6.0,6.0,6.0,6.0,6.0,11.747350021784866,6.0],\"color\":[0.0,0.4375232998202403,0.0,0.0,0.0,0.5765679776435458,0.0,0.0,0.5765679776435458,0.0,0.0,0.0,0.5765679776435458,0.0,0.0,0.5765679776435458,0.0,0.0,0.0,0.6471399813696215,0.0705720037260757,0.0,0.7177119850956972,0.0705720037260757,0.42343202235645416,0.0705720037260757,0.0,0.0,0.7177119850956972,0.0705720037260757,0.0,0.7177119850956972,0.0705720037260757,0.0,0.0,0.7882839888217729,0.1411440074521514,0.0,0.8588559925478486,0.1411440074521514,0.5645760298086056,0.1411440074521514,0.0,0.0,0.8588559925478486,0.1411440074521514,0.0,0.8588559925478486,0.1411440074521514,0.0,0.0,0.9294279962739243,0.21171601117822708,0.0,1.0,0.21171601117822708,0.7057200372607569,0.21171601117822708,0.0,0.0,1.0,0.21171601117822708,0.0,1.0,0.21171601117822708,0.0,0.0,0.0,0.0,0.8446480344145008,0.0],\"colorscale\":\"Bluered\"},{}]}],\"label\":\"Size by FLOPS, color by params\",\"method\":\"restyle\"}],\"direction\":\"up\",\"pad\":{\"b\":0,\"l\":0,\"r\":0,\"t\":8},\"showactive\":true,\"x\":0,\"xanchor\":\"left\",\"y\":0,\"yanchor\":\"top\"}],\"sliders\":[{\"active\":0,\"currentvalue\":{\"visible\":false},\"pad\":{\"b\":0,\"l\":0,\"r\":0,\"t\":48},\"steps\":[{\"args\":[{\"shapes\":[{\"type\":\"rect\",\"xref\":\"x\",\"yref\":\"y\",\"line\":{\"color\":\"#2A3F5F\",\"width\":1},\"fillcolor\":\"rgba(42,63,96,0.2)\",\"x0\":-0.5,\"y0\":-0.25,\"x1\":1.5,\"y1\":9.75}],\"yaxis\":{\"range\":[9.75,-0.25],\"showgrid\":false,\"zeroline\":false,\"tickmode\":\"array\",\"tickvals\":[]}}],\"label\":\"\",\"method\":\"relayout\"},{\"args\":[{\"shapes\":[{\"type\":\"rect\",\"xref\":\"x\",\"yref\":\"y\",\"line\":{\"color\":\"#2A3F5F\",\"width\":1},\"fillcolor\":\"rgba(42,63,96,0.2)\",\"x0\":-0.5,\"y0\":1.9375,\"x1\":1.5,\"y1\":11.9375}],\"yaxis\":{\"range\":[11.9375,1.9375],\"showgrid\":false,\"zeroline\":false,\"tickmode\":\"array\",\"tickvals\":[]}}],\"label\":\"\",\"method\":\"relayout\"},{\"args\":[{\"shapes\":[{\"type\":\"rect\",\"xref\":\"x\",\"yref\":\"y\",\"line\":{\"color\":\"#2A3F5F\",\"width\":1},\"fillcolor\":\"rgba(42,63,96,0.2)\",\"x0\":-0.5,\"y0\":4.125,\"x1\":1.5,\"y1\":14.125}],\"yaxis\":{\"range\":[14.125,4.125],\"showgrid\":false,\"zeroline\":false,\"tickmode\":\"array\",\"tickvals\":[]}}],\"label\":\"\",\"method\":\"relayout\"},{\"args\":[{\"shapes\":[{\"type\":\"rect\",\"xref\":\"x\",\"yref\":\"y\",\"line\":{\"color\":\"#2A3F5F\",\"width\":1},\"fillcolor\":\"rgba(42,63,96,0.2)\",\"x0\":-0.5,\"y0\":6.3125,\"x1\":1.5,\"y1\":16.3125}],\"yaxis\":{\"range\":[16.3125,6.3125],\"showgrid\":false,\"zeroline\":false,\"tickmode\":\"array\",\"tickvals\":[]}}],\"label\":\"\",\"method\":\"relayout\"},{\"args\":[{\"shapes\":[{\"type\":\"rect\",\"xref\":\"x\",\"yref\":\"y\",\"line\":{\"color\":\"#2A3F5F\",\"width\":1},\"fillcolor\":\"rgba(42,63,96,0.2)\",\"x0\":-0.5,\"y0\":8.5,\"x1\":1.5,\"y1\":18.5}],\"yaxis\":{\"range\":[18.5,8.5],\"showgrid\":false,\"zeroline\":false,\"tickmode\":\"array\",\"tickvals\":[]}}],\"label\":\"\",\"method\":\"relayout\"},{\"args\":[{\"shapes\":[{\"type\":\"rect\",\"xref\":\"x\",\"yref\":\"y\",\"line\":{\"color\":\"#2A3F5F\",\"width\":1},\"fillcolor\":\"rgba(42,63,96,0.2)\",\"x0\":-0.5,\"y0\":10.6875,\"x1\":1.5,\"y1\":20.6875}],\"yaxis\":{\"range\":[20.6875,10.6875],\"showgrid\":false,\"zeroline\":false,\"tickmode\":\"array\",\"tickvals\":[]}}],\"label\":\"\",\"method\":\"relayout\"},{\"args\":[{\"shapes\":[{\"type\":\"rect\",\"xref\":\"x\",\"yref\":\"y\",\"line\":{\"color\":\"#2A3F5F\",\"width\":1},\"fillcolor\":\"rgba(42,63,96,0.2)\",\"x0\":-0.5,\"y0\":12.875,\"x1\":1.5,\"y1\":22.875}],\"yaxis\":{\"range\":[22.875,12.875],\"showgrid\":false,\"zeroline\":false,\"tickmode\":\"array\",\"tickvals\":[]}}],\"label\":\"\",\"method\":\"relayout\"},{\"args\":[{\"shapes\":[{\"type\":\"rect\",\"xref\":\"x\",\"yref\":\"y\",\"line\":{\"color\":\"#2A3F5F\",\"width\":1},\"fillcolor\":\"rgba(42,63,96,0.2)\",\"x0\":-0.5,\"y0\":15.0625,\"x1\":1.5,\"y1\":25.0625}],\"yaxis\":{\"range\":[25.0625,15.0625],\"showgrid\":false,\"zeroline\":false,\"tickmode\":\"array\",\"tickvals\":[]}}],\"label\":\"\",\"method\":\"relayout\"},{\"args\":[{\"shapes\":[{\"type\":\"rect\",\"xref\":\"x\",\"yref\":\"y\",\"line\":{\"color\":\"#2A3F5F\",\"width\":1},\"fillcolor\":\"rgba(42,63,96,0.2)\",\"x0\":-0.5,\"y0\":17.25,\"x1\":1.5,\"y1\":27.25}],\"yaxis\":{\"range\":[27.25,17.25],\"showgrid\":false,\"zeroline\":false,\"tickmode\":\"array\",\"tickvals\":[]}}],\"label\":\"\",\"method\":\"relayout\"}],\"ticklen\":0,\"tickwidth\":0,\"x\":0,\"xanchor\":\"left\",\"y\":0,\"yanchor\":\"top\"}],\"margin\":{\"l\":0,\"r\":0,\"t\":0,\"b\":0},\"modebar\":{\"remove\":[\"select\",\"lasso\"],\"orientation\":\"v\"}},                        {\"responsive\": true}                    ).then(function(){\n",
       "                            \n",
       "var gd = document.getElementById('a94a99cd-7ab0-4135-b165-dd1acbdff0fb');\n",
       "var x = new MutationObserver(function (mutations, observer) {{\n",
       "        var display = window.getComputedStyle(gd).display;\n",
       "        if (!display || display === 'none') {{\n",
       "            console.log([gd, 'removed!']);\n",
       "            Plotly.purge(gd);\n",
       "            observer.disconnect();\n",
       "        }}\n",
       "}});\n",
       "\n",
       "// Listen for the removal of the full notebook cells\n",
       "var notebookContainer = gd.closest('#notebook-container');\n",
       "if (notebookContainer) {{\n",
       "    x.observe(notebookContainer, {childList: true});\n",
       "}}\n",
       "\n",
       "// Listen for the clearing of the current output cell\n",
       "var outputEl = gd.closest('.output');\n",
       "if (outputEl) {{\n",
       "    x.observe(outputEl, {childList: true});\n",
       "}}\n",
       "\n",
       "                        })                };                });            </script>        </div>"
      ]
     },
     "metadata": {},
     "output_type": "display_data"
    }
   ],
   "source": [
    "import torch, torchvision\n",
    "from idlmav import MAV, plotly_renderer\n",
    "device = 'cpu'\n",
    "model = torchvision.models.resnet18().to(device)\n",
    "x = torch.randn(16,3,160,160).to(device)\n",
    "mav = MAV(model, x, device=device)\n",
    "\n",
    "with plotly_renderer('vscode'):\n",
    "    mav.show_figure(add_slider=True)"
   ]
  },
  {
   "cell_type": "markdown",
   "metadata": {},
   "source": [
    "## Upload to PyPI\n",
    "* Ensure that this notebook's kernel is running in the main virtual environment (.venv)\n",
    "* Restart the kernel if changed\n",
    "* Verify API key in `$HOME/.pypirc`"
   ]
  },
  {
   "cell_type": "code",
   "execution_count": 1,
   "metadata": {},
   "outputs": [
    {
     "name": "stdout",
     "output_type": "stream",
     "text": [
      "Requirement already satisfied: twine in /home/dev/ai/idlmav/.venv/lib/python3.10/site-packages (6.1.0)\n",
      "Requirement already satisfied: readme-renderer>=35.0 in /home/dev/ai/idlmav/.venv/lib/python3.10/site-packages (from twine) (44.0)\n",
      "Requirement already satisfied: requests>=2.20 in /home/dev/ai/idlmav/.venv/lib/python3.10/site-packages (from twine) (2.32.3)\n",
      "Requirement already satisfied: requests-toolbelt!=0.9.0,>=0.8.0 in /home/dev/ai/idlmav/.venv/lib/python3.10/site-packages (from twine) (1.0.0)\n",
      "Requirement already satisfied: urllib3>=1.26.0 in /home/dev/ai/idlmav/.venv/lib/python3.10/site-packages (from twine) (2.2.3)\n",
      "Requirement already satisfied: keyring>=15.1 in /home/dev/ai/idlmav/.venv/lib/python3.10/site-packages (from twine) (25.5.0)\n",
      "Requirement already satisfied: rfc3986>=1.4.0 in /home/dev/ai/idlmav/.venv/lib/python3.10/site-packages (from twine) (2.0.0)\n",
      "Requirement already satisfied: rich>=12.0.0 in /home/dev/ai/idlmav/.venv/lib/python3.10/site-packages (from twine) (13.9.4)\n",
      "Requirement already satisfied: packaging>=24.0 in /home/dev/ai/idlmav/.venv/lib/python3.10/site-packages (from twine) (24.2)\n",
      "Requirement already satisfied: id in /home/dev/ai/idlmav/.venv/lib/python3.10/site-packages (from twine) (1.5.0)\n",
      "Requirement already satisfied: jaraco.classes in /home/dev/ai/idlmav/.venv/lib/python3.10/site-packages (from keyring>=15.1->twine) (3.4.0)\n",
      "Requirement already satisfied: jaraco.functools in /home/dev/ai/idlmav/.venv/lib/python3.10/site-packages (from keyring>=15.1->twine) (4.1.0)\n",
      "Requirement already satisfied: jaraco.context in /home/dev/ai/idlmav/.venv/lib/python3.10/site-packages (from keyring>=15.1->twine) (6.0.1)\n",
      "Requirement already satisfied: importlib-metadata>=4.11.4 in /home/dev/ai/idlmav/.venv/lib/python3.10/site-packages (from keyring>=15.1->twine) (8.5.0)\n",
      "Requirement already satisfied: SecretStorage>=3.2 in /home/dev/ai/idlmav/.venv/lib/python3.10/site-packages (from keyring>=15.1->twine) (3.3.3)\n",
      "Requirement already satisfied: jeepney>=0.4.2 in /home/dev/ai/idlmav/.venv/lib/python3.10/site-packages (from keyring>=15.1->twine) (0.8.0)\n",
      "Requirement already satisfied: nh3>=0.2.14 in /home/dev/ai/idlmav/.venv/lib/python3.10/site-packages (from readme-renderer>=35.0->twine) (0.2.19)\n",
      "Requirement already satisfied: docutils>=0.21.2 in /home/dev/ai/idlmav/.venv/lib/python3.10/site-packages (from readme-renderer>=35.0->twine) (0.21.2)\n",
      "Requirement already satisfied: Pygments>=2.5.1 in /home/dev/ai/idlmav/.venv/lib/python3.10/site-packages (from readme-renderer>=35.0->twine) (2.18.0)\n",
      "Requirement already satisfied: charset-normalizer<4,>=2 in /home/dev/ai/idlmav/.venv/lib/python3.10/site-packages (from requests>=2.20->twine) (3.4.0)\n",
      "Requirement already satisfied: idna<4,>=2.5 in /home/dev/ai/idlmav/.venv/lib/python3.10/site-packages (from requests>=2.20->twine) (3.10)\n",
      "Requirement already satisfied: certifi>=2017.4.17 in /home/dev/ai/idlmav/.venv/lib/python3.10/site-packages (from requests>=2.20->twine) (2024.8.30)\n",
      "Requirement already satisfied: markdown-it-py>=2.2.0 in /home/dev/ai/idlmav/.venv/lib/python3.10/site-packages (from rich>=12.0.0->twine) (3.0.0)\n",
      "Requirement already satisfied: typing-extensions<5.0,>=4.0.0 in /home/dev/ai/idlmav/.venv/lib/python3.10/site-packages (from rich>=12.0.0->twine) (4.12.2)\n",
      "Requirement already satisfied: zipp>=3.20 in /home/dev/ai/idlmav/.venv/lib/python3.10/site-packages (from importlib-metadata>=4.11.4->keyring>=15.1->twine) (3.21.0)\n",
      "Requirement already satisfied: mdurl~=0.1 in /home/dev/ai/idlmav/.venv/lib/python3.10/site-packages (from markdown-it-py>=2.2.0->rich>=12.0.0->twine) (0.1.2)\n",
      "Requirement already satisfied: cryptography>=2.0 in /home/dev/ai/idlmav/.venv/lib/python3.10/site-packages (from SecretStorage>=3.2->keyring>=15.1->twine) (44.0.0)\n",
      "Requirement already satisfied: more-itertools in /home/dev/ai/idlmav/.venv/lib/python3.10/site-packages (from jaraco.classes->keyring>=15.1->twine) (10.5.0)\n",
      "Requirement already satisfied: backports.tarfile in /home/dev/ai/idlmav/.venv/lib/python3.10/site-packages (from jaraco.context->keyring>=15.1->twine) (1.2.0)\n",
      "Requirement already satisfied: cffi>=1.12 in /home/dev/ai/idlmav/.venv/lib/python3.10/site-packages (from cryptography>=2.0->SecretStorage>=3.2->keyring>=15.1->twine) (1.17.1)\n",
      "Requirement already satisfied: pycparser in /home/dev/ai/idlmav/.venv/lib/python3.10/site-packages (from cffi>=1.12->cryptography>=2.0->SecretStorage>=3.2->keyring>=15.1->twine) (2.22)\n",
      "\n",
      "\u001b[1m[\u001b[0m\u001b[34;49mnotice\u001b[0m\u001b[1;39;49m]\u001b[0m\u001b[39;49m A new release of pip is available: \u001b[0m\u001b[31;49m24.3.1\u001b[0m\u001b[39;49m -> \u001b[0m\u001b[32;49m25.0.1\u001b[0m\n",
      "\u001b[1m[\u001b[0m\u001b[34;49mnotice\u001b[0m\u001b[1;39;49m]\u001b[0m\u001b[39;49m To update, run: \u001b[0m\u001b[32;49mpip install --upgrade pip\u001b[0m\n",
      "Note: you may need to restart the kernel to use updated packages.\n"
     ]
    }
   ],
   "source": [
    "%pip install --upgrade twine"
   ]
  },
  {
   "cell_type": "code",
   "execution_count": 2,
   "metadata": {},
   "outputs": [
    {
     "name": "stdout",
     "output_type": "stream",
     "text": [
      "/home/dev/ai/idlmav\n"
     ]
    },
    {
     "name": "stderr",
     "output_type": "stream",
     "text": [
      "/home/dev/ai/idlmav/.venv/lib/python3.10/site-packages/IPython/core/magics/osm.py:417: UserWarning: This is now an optional IPython functionality, setting dhist requires you to install the `pickleshare` library.\n",
      "  self.shell.db['dhist'] = compress_dhist(dhist)[-100:]\n"
     ]
    },
    {
     "data": {
      "text/plain": [
       "'/home/dev/ai/idlmav'"
      ]
     },
     "execution_count": 2,
     "metadata": {},
     "output_type": "execute_result"
    }
   ],
   "source": [
    "from pathlib import Path\n",
    "if Path.cwd().name != 'idlmav':\n",
    "    %cd ..\n",
    "%pwd"
   ]
  },
  {
   "cell_type": "code",
   "execution_count": 3,
   "metadata": {},
   "outputs": [
    {
     "name": "stdout",
     "output_type": "stream",
     "text": [
      "Uploading distributions to https://upload.pypi.org/legacy/\n",
      "Uploading idlmav-1.1.0-py3-none-any.whl\n",
      "\u001b[2K\u001b[35m100%\u001b[0m \u001b[90m━━━━━━━━━━━━━━━━━━━━━━━━━━━━━━━━━━━━━━━━\u001b[0m \u001b[32m75.7/75.7 kB\u001b[0m • \u001b[33m00:00\u001b[0m • \u001b[31m228.1 kB/s\u001b[0m[31m164.4 MB/s\u001b[0m\n",
      "\u001b[?25hUploading idlmav-1.1.0.tar.gz\n",
      "\u001b[2K\u001b[35m100%\u001b[0m \u001b[90m━━━━━━━━━━━━━━━━━━━━━━━━━━━━━━━━━━━━━━━━\u001b[0m \u001b[32m72.0/72.0 kB\u001b[0m • \u001b[33m00:00\u001b[0m • \u001b[31m169.5 MB/s\u001b[0m\n",
      "\u001b[?25h\n",
      "\u001b[32mView at:\u001b[0m\n",
      "https://pypi.org/project/idlmav/1.1.0/\n"
     ]
    }
   ],
   "source": [
    "!python -m twine upload dist/*"
   ]
  },
  {
   "cell_type": "markdown",
   "metadata": {},
   "source": [
    "### Test in a temporary virtual environment"
   ]
  },
  {
   "cell_type": "markdown",
   "metadata": {},
   "source": [
    "* Ensure that this notebook's kernel is running in the main virtual environment (.venv)\n",
    "* Restart the kernel if changed"
   ]
  },
  {
   "cell_type": "code",
   "execution_count": 4,
   "metadata": {},
   "outputs": [],
   "source": [
    "from pathlib import Path\n",
    "if Path.cwd().name != 'idlmav':\n",
    "    %cd ..\n",
    "%pwd\n",
    "\n",
    "!rm -rf .venv_temp\n",
    "!python -m venv .venv_temp"
   ]
  },
  {
   "cell_type": "markdown",
   "metadata": {},
   "source": [
    "* Change this notebook's kernel to run in the temporary virtual environment (.venv_temp)\n",
    "* Restart the kernel"
   ]
  },
  {
   "cell_type": "code",
   "execution_count": 1,
   "metadata": {},
   "outputs": [
    {
     "name": "stdout",
     "output_type": "stream",
     "text": [
      "Looking in indexes: https://download.pytorch.org/whl/cu118\n",
      "Collecting torch\n",
      "  Using cached https://download.pytorch.org/whl/cu118/torch-2.6.0%2Bcu118-cp310-cp310-linux_x86_64.whl (848.7 MB)\n",
      "Collecting torchvision\n",
      "  Using cached https://download.pytorch.org/whl/cu118/torchvision-0.21.0%2Bcu118-cp310-cp310-linux_x86_64.whl (6.5 MB)\n",
      "Collecting torchaudio\n",
      "  Using cached https://download.pytorch.org/whl/cu118/torchaudio-2.6.0%2Bcu118-cp310-cp310-linux_x86_64.whl (3.3 MB)\n",
      "Collecting nvidia-cuda-cupti-cu11==11.8.87\n",
      "  Using cached https://download.pytorch.org/whl/cu118/nvidia_cuda_cupti_cu11-11.8.87-py3-none-manylinux1_x86_64.whl (13.1 MB)\n",
      "Collecting triton==3.2.0\n",
      "  Using cached https://download.pytorch.org/whl/triton-3.2.0-cp310-cp310-manylinux_2_27_x86_64.manylinux_2_28_x86_64.whl (166.6 MB)\n",
      "Collecting jinja2\n",
      "  Using cached https://download.pytorch.org/whl/Jinja2-3.1.4-py3-none-any.whl (133 kB)\n",
      "Collecting nvidia-cudnn-cu11==9.1.0.70\n",
      "  Using cached https://download.pytorch.org/whl/cu118/nvidia_cudnn_cu11-9.1.0.70-py3-none-manylinux2014_x86_64.whl (663.9 MB)\n",
      "Collecting nvidia-curand-cu11==10.3.0.86\n",
      "  Using cached https://download.pytorch.org/whl/cu118/nvidia_curand_cu11-10.3.0.86-py3-none-manylinux1_x86_64.whl (58.1 MB)\n",
      "Collecting nvidia-nvtx-cu11==11.8.86\n",
      "  Using cached https://download.pytorch.org/whl/cu118/nvidia_nvtx_cu11-11.8.86-py3-none-manylinux1_x86_64.whl (99 kB)\n",
      "Collecting fsspec\n",
      "  Using cached https://download.pytorch.org/whl/fsspec-2024.6.1-py3-none-any.whl (177 kB)\n",
      "Collecting filelock\n",
      "  Using cached https://download.pytorch.org/whl/filelock-3.13.1-py3-none-any.whl (11 kB)\n",
      "Collecting nvidia-nccl-cu11==2.21.5\n",
      "  Using cached https://download.pytorch.org/whl/cu118/nvidia_nccl_cu11-2.21.5-py3-none-manylinux2014_x86_64.whl (147.8 MB)\n",
      "Collecting nvidia-cuda-runtime-cu11==11.8.89\n",
      "  Using cached https://download.pytorch.org/whl/cu118/nvidia_cuda_runtime_cu11-11.8.89-py3-none-manylinux1_x86_64.whl (875 kB)\n",
      "Collecting nvidia-cufft-cu11==10.9.0.58\n",
      "  Using cached https://download.pytorch.org/whl/cu118/nvidia_cufft_cu11-10.9.0.58-py3-none-manylinux1_x86_64.whl (168.4 MB)\n",
      "Collecting sympy==1.13.1\n",
      "  Using cached https://download.pytorch.org/whl/sympy-1.13.1-py3-none-any.whl (6.2 MB)\n",
      "Collecting nvidia-cublas-cu11==11.11.3.6\n",
      "  Using cached https://download.pytorch.org/whl/cu118/nvidia_cublas_cu11-11.11.3.6-py3-none-manylinux1_x86_64.whl (417.9 MB)\n",
      "Collecting nvidia-cuda-nvrtc-cu11==11.8.89\n",
      "  Using cached https://download.pytorch.org/whl/cu118/nvidia_cuda_nvrtc_cu11-11.8.89-py3-none-manylinux1_x86_64.whl (23.2 MB)\n",
      "Collecting networkx\n",
      "  Using cached https://download.pytorch.org/whl/networkx-3.3-py3-none-any.whl (1.7 MB)\n",
      "Requirement already satisfied: typing-extensions>=4.10.0 in /home/dev/ai/idlmav/.venv_temp/lib/python3.10/site-packages (from torch) (4.12.2)\n",
      "Collecting nvidia-cusparse-cu11==11.7.5.86\n",
      "  Using cached https://download.pytorch.org/whl/cu118/nvidia_cusparse_cu11-11.7.5.86-py3-none-manylinux1_x86_64.whl (204.1 MB)\n",
      "Collecting nvidia-cusolver-cu11==11.4.1.48\n",
      "  Using cached https://download.pytorch.org/whl/cu118/nvidia_cusolver_cu11-11.4.1.48-py3-none-manylinux1_x86_64.whl (128.2 MB)\n",
      "Collecting mpmath<1.4,>=1.1.0\n",
      "  Using cached https://download.pytorch.org/whl/mpmath-1.3.0-py3-none-any.whl (536 kB)\n",
      "Collecting pillow!=8.3.*,>=5.3.0\n",
      "  Using cached https://download.pytorch.org/whl/pillow-11.0.0-cp310-cp310-manylinux_2_28_x86_64.whl (4.4 MB)\n",
      "Collecting numpy\n",
      "  Using cached https://download.pytorch.org/whl/numpy-2.1.2-cp310-cp310-manylinux_2_17_x86_64.manylinux2014_x86_64.whl (16.3 MB)\n",
      "Collecting MarkupSafe>=2.0\n",
      "  Using cached https://download.pytorch.org/whl/MarkupSafe-2.1.5-cp310-cp310-manylinux_2_17_x86_64.manylinux2014_x86_64.whl (25 kB)\n",
      "Installing collected packages: triton, mpmath, sympy, pillow, nvidia-nvtx-cu11, nvidia-nccl-cu11, nvidia-cusparse-cu11, nvidia-curand-cu11, nvidia-cufft-cu11, nvidia-cuda-runtime-cu11, nvidia-cuda-nvrtc-cu11, nvidia-cuda-cupti-cu11, nvidia-cublas-cu11, numpy, networkx, MarkupSafe, fsspec, filelock, nvidia-cusolver-cu11, nvidia-cudnn-cu11, jinja2, torch, torchvision, torchaudio\n",
      "Successfully installed MarkupSafe-2.1.5 filelock-3.13.1 fsspec-2024.6.1 jinja2-3.1.4 mpmath-1.3.0 networkx-3.3 numpy-2.1.2 nvidia-cublas-cu11-11.11.3.6 nvidia-cuda-cupti-cu11-11.8.87 nvidia-cuda-nvrtc-cu11-11.8.89 nvidia-cuda-runtime-cu11-11.8.89 nvidia-cudnn-cu11-9.1.0.70 nvidia-cufft-cu11-10.9.0.58 nvidia-curand-cu11-10.3.0.86 nvidia-cusolver-cu11-11.4.1.48 nvidia-cusparse-cu11-11.7.5.86 nvidia-nccl-cu11-2.21.5 nvidia-nvtx-cu11-11.8.86 pillow-11.0.0 sympy-1.13.1 torch-2.6.0+cu118 torchaudio-2.6.0+cu118 torchvision-0.21.0+cu118 triton-3.2.0\n",
      "Note: you may need to restart the kernel to use updated packages.\n",
      "Collecting plotly<6,>=5\n",
      "  Using cached plotly-5.24.1-py3-none-any.whl (19.1 MB)\n",
      "Collecting tenacity>=6.2.0\n",
      "  Using cached tenacity-9.0.0-py3-none-any.whl (28 kB)\n",
      "Requirement already satisfied: packaging in /home/dev/ai/idlmav/.venv_temp/lib/python3.10/site-packages (from plotly<6,>=5) (24.2)\n",
      "Installing collected packages: tenacity, plotly\n",
      "Successfully installed plotly-5.24.1 tenacity-9.0.0\n",
      "Note: you may need to restart the kernel to use updated packages.\n",
      "Collecting idlmav\n",
      "  Downloading idlmav-1.1.0-py3-none-any.whl (55 kB)\n",
      "\u001b[2K     \u001b[90m━━━━━━━━━━━━━━━━━━━━━━━━━━━━━━━━━━━━━━━━\u001b[0m \u001b[32m55.6/55.6 KB\u001b[0m \u001b[31m1.2 MB/s\u001b[0m eta \u001b[36m0:00:00\u001b[0ma \u001b[36m0:00:01\u001b[0m\n",
      "\u001b[?25hRequirement already satisfied: numpy in /home/dev/ai/idlmav/.venv_temp/lib/python3.10/site-packages (from idlmav) (2.1.2)\n",
      "Collecting tabulate\n",
      "  Using cached tabulate-0.9.0-py3-none-any.whl (35 kB)\n",
      "Requirement already satisfied: plotly in /home/dev/ai/idlmav/.venv_temp/lib/python3.10/site-packages (from idlmav) (5.24.1)\n",
      "Collecting munkres\n",
      "  Using cached munkres-1.1.4-py2.py3-none-any.whl (7.0 kB)\n",
      "Collecting ipywidgets\n",
      "  Using cached ipywidgets-8.1.5-py3-none-any.whl (139 kB)\n",
      "Requirement already satisfied: torch>=2.3.0 in /home/dev/ai/idlmav/.venv_temp/lib/python3.10/site-packages (from idlmav) (2.6.0+cu118)\n",
      "Collecting nbformat\n",
      "  Using cached nbformat-5.10.4-py3-none-any.whl (78 kB)\n",
      "Requirement already satisfied: jinja2 in /home/dev/ai/idlmav/.venv_temp/lib/python3.10/site-packages (from torch>=2.3.0->idlmav) (3.1.4)\n",
      "Requirement already satisfied: sympy==1.13.1 in /home/dev/ai/idlmav/.venv_temp/lib/python3.10/site-packages (from torch>=2.3.0->idlmav) (1.13.1)\n",
      "Requirement already satisfied: nvidia-cusparse-cu11==11.7.5.86 in /home/dev/ai/idlmav/.venv_temp/lib/python3.10/site-packages (from torch>=2.3.0->idlmav) (11.7.5.86)\n",
      "Requirement already satisfied: networkx in /home/dev/ai/idlmav/.venv_temp/lib/python3.10/site-packages (from torch>=2.3.0->idlmav) (3.3)\n",
      "Requirement already satisfied: nvidia-cuda-runtime-cu11==11.8.89 in /home/dev/ai/idlmav/.venv_temp/lib/python3.10/site-packages (from torch>=2.3.0->idlmav) (11.8.89)\n",
      "Requirement already satisfied: nvidia-nvtx-cu11==11.8.86 in /home/dev/ai/idlmav/.venv_temp/lib/python3.10/site-packages (from torch>=2.3.0->idlmav) (11.8.86)\n",
      "Requirement already satisfied: triton==3.2.0 in /home/dev/ai/idlmav/.venv_temp/lib/python3.10/site-packages (from torch>=2.3.0->idlmav) (3.2.0)\n",
      "Requirement already satisfied: nvidia-cudnn-cu11==9.1.0.70 in /home/dev/ai/idlmav/.venv_temp/lib/python3.10/site-packages (from torch>=2.3.0->idlmav) (9.1.0.70)\n",
      "Requirement already satisfied: typing-extensions>=4.10.0 in /home/dev/ai/idlmav/.venv_temp/lib/python3.10/site-packages (from torch>=2.3.0->idlmav) (4.12.2)\n",
      "Requirement already satisfied: nvidia-curand-cu11==10.3.0.86 in /home/dev/ai/idlmav/.venv_temp/lib/python3.10/site-packages (from torch>=2.3.0->idlmav) (10.3.0.86)\n",
      "Requirement already satisfied: nvidia-cuda-cupti-cu11==11.8.87 in /home/dev/ai/idlmav/.venv_temp/lib/python3.10/site-packages (from torch>=2.3.0->idlmav) (11.8.87)\n",
      "Requirement already satisfied: nvidia-cufft-cu11==10.9.0.58 in /home/dev/ai/idlmav/.venv_temp/lib/python3.10/site-packages (from torch>=2.3.0->idlmav) (10.9.0.58)\n",
      "Requirement already satisfied: nvidia-nccl-cu11==2.21.5 in /home/dev/ai/idlmav/.venv_temp/lib/python3.10/site-packages (from torch>=2.3.0->idlmav) (2.21.5)\n",
      "Requirement already satisfied: filelock in /home/dev/ai/idlmav/.venv_temp/lib/python3.10/site-packages (from torch>=2.3.0->idlmav) (3.13.1)\n",
      "Requirement already satisfied: nvidia-cuda-nvrtc-cu11==11.8.89 in /home/dev/ai/idlmav/.venv_temp/lib/python3.10/site-packages (from torch>=2.3.0->idlmav) (11.8.89)\n",
      "Requirement already satisfied: fsspec in /home/dev/ai/idlmav/.venv_temp/lib/python3.10/site-packages (from torch>=2.3.0->idlmav) (2024.6.1)\n",
      "Requirement already satisfied: nvidia-cusolver-cu11==11.4.1.48 in /home/dev/ai/idlmav/.venv_temp/lib/python3.10/site-packages (from torch>=2.3.0->idlmav) (11.4.1.48)\n",
      "Requirement already satisfied: nvidia-cublas-cu11==11.11.3.6 in /home/dev/ai/idlmav/.venv_temp/lib/python3.10/site-packages (from torch>=2.3.0->idlmav) (11.11.3.6)\n",
      "Requirement already satisfied: mpmath<1.4,>=1.1.0 in /home/dev/ai/idlmav/.venv_temp/lib/python3.10/site-packages (from sympy==1.13.1->torch>=2.3.0->idlmav) (1.3.0)\n",
      "Collecting widgetsnbextension~=4.0.12\n",
      "  Using cached widgetsnbextension-4.0.13-py3-none-any.whl (2.3 MB)\n",
      "Requirement already satisfied: traitlets>=4.3.1 in /home/dev/ai/idlmav/.venv_temp/lib/python3.10/site-packages (from ipywidgets->idlmav) (5.14.3)\n",
      "Requirement already satisfied: comm>=0.1.3 in /home/dev/ai/idlmav/.venv_temp/lib/python3.10/site-packages (from ipywidgets->idlmav) (0.2.2)\n",
      "Requirement already satisfied: ipython>=6.1.0 in /home/dev/ai/idlmav/.venv_temp/lib/python3.10/site-packages (from ipywidgets->idlmav) (8.33.0)\n",
      "Collecting jupyterlab-widgets~=3.0.12\n",
      "  Using cached jupyterlab_widgets-3.0.13-py3-none-any.whl (214 kB)\n",
      "Collecting fastjsonschema>=2.15\n",
      "  Using cached fastjsonschema-2.21.1-py3-none-any.whl (23 kB)\n",
      "Collecting jsonschema>=2.6\n",
      "  Using cached jsonschema-4.23.0-py3-none-any.whl (88 kB)\n",
      "Requirement already satisfied: jupyter-core!=5.0.*,>=4.12 in /home/dev/ai/idlmav/.venv_temp/lib/python3.10/site-packages (from nbformat->idlmav) (5.7.2)\n",
      "Requirement already satisfied: packaging in /home/dev/ai/idlmav/.venv_temp/lib/python3.10/site-packages (from plotly->idlmav) (24.2)\n",
      "Requirement already satisfied: tenacity>=6.2.0 in /home/dev/ai/idlmav/.venv_temp/lib/python3.10/site-packages (from plotly->idlmav) (9.0.0)\n",
      "Requirement already satisfied: jedi>=0.16 in /home/dev/ai/idlmav/.venv_temp/lib/python3.10/site-packages (from ipython>=6.1.0->ipywidgets->idlmav) (0.19.2)\n",
      "Requirement already satisfied: pexpect>4.3 in /home/dev/ai/idlmav/.venv_temp/lib/python3.10/site-packages (from ipython>=6.1.0->ipywidgets->idlmav) (4.9.0)\n",
      "Requirement already satisfied: decorator in /home/dev/ai/idlmav/.venv_temp/lib/python3.10/site-packages (from ipython>=6.1.0->ipywidgets->idlmav) (5.2.1)\n",
      "Requirement already satisfied: pygments>=2.4.0 in /home/dev/ai/idlmav/.venv_temp/lib/python3.10/site-packages (from ipython>=6.1.0->ipywidgets->idlmav) (2.19.1)\n",
      "Requirement already satisfied: exceptiongroup in /home/dev/ai/idlmav/.venv_temp/lib/python3.10/site-packages (from ipython>=6.1.0->ipywidgets->idlmav) (1.2.2)\n",
      "Requirement already satisfied: stack_data in /home/dev/ai/idlmav/.venv_temp/lib/python3.10/site-packages (from ipython>=6.1.0->ipywidgets->idlmav) (0.6.3)\n",
      "Requirement already satisfied: matplotlib-inline in /home/dev/ai/idlmav/.venv_temp/lib/python3.10/site-packages (from ipython>=6.1.0->ipywidgets->idlmav) (0.1.7)\n",
      "Requirement already satisfied: prompt_toolkit<3.1.0,>=3.0.41 in /home/dev/ai/idlmav/.venv_temp/lib/python3.10/site-packages (from ipython>=6.1.0->ipywidgets->idlmav) (3.0.50)\n",
      "Collecting attrs>=22.2.0\n",
      "  Using cached attrs-25.1.0-py3-none-any.whl (63 kB)\n",
      "Collecting jsonschema-specifications>=2023.03.6\n",
      "  Using cached jsonschema_specifications-2024.10.1-py3-none-any.whl (18 kB)\n",
      "Collecting rpds-py>=0.7.1\n",
      "  Using cached rpds_py-0.23.1-cp310-cp310-manylinux_2_17_x86_64.manylinux2014_x86_64.whl (386 kB)\n",
      "Collecting referencing>=0.28.4\n",
      "  Using cached referencing-0.36.2-py3-none-any.whl (26 kB)\n",
      "Requirement already satisfied: platformdirs>=2.5 in /home/dev/ai/idlmav/.venv_temp/lib/python3.10/site-packages (from jupyter-core!=5.0.*,>=4.12->nbformat->idlmav) (4.3.6)\n",
      "Requirement already satisfied: MarkupSafe>=2.0 in /home/dev/ai/idlmav/.venv_temp/lib/python3.10/site-packages (from jinja2->torch>=2.3.0->idlmav) (2.1.5)\n",
      "Requirement already satisfied: parso<0.9.0,>=0.8.4 in /home/dev/ai/idlmav/.venv_temp/lib/python3.10/site-packages (from jedi>=0.16->ipython>=6.1.0->ipywidgets->idlmav) (0.8.4)\n",
      "Requirement already satisfied: ptyprocess>=0.5 in /home/dev/ai/idlmav/.venv_temp/lib/python3.10/site-packages (from pexpect>4.3->ipython>=6.1.0->ipywidgets->idlmav) (0.7.0)\n",
      "Requirement already satisfied: wcwidth in /home/dev/ai/idlmav/.venv_temp/lib/python3.10/site-packages (from prompt_toolkit<3.1.0,>=3.0.41->ipython>=6.1.0->ipywidgets->idlmav) (0.2.13)\n",
      "Requirement already satisfied: executing>=1.2.0 in /home/dev/ai/idlmav/.venv_temp/lib/python3.10/site-packages (from stack_data->ipython>=6.1.0->ipywidgets->idlmav) (2.2.0)\n",
      "Requirement already satisfied: asttokens>=2.1.0 in /home/dev/ai/idlmav/.venv_temp/lib/python3.10/site-packages (from stack_data->ipython>=6.1.0->ipywidgets->idlmav) (3.0.0)\n",
      "Requirement already satisfied: pure-eval in /home/dev/ai/idlmav/.venv_temp/lib/python3.10/site-packages (from stack_data->ipython>=6.1.0->ipywidgets->idlmav) (0.2.3)\n",
      "Installing collected packages: munkres, fastjsonschema, widgetsnbextension, tabulate, rpds-py, jupyterlab-widgets, attrs, referencing, jsonschema-specifications, ipywidgets, jsonschema, nbformat, idlmav\n",
      "Successfully installed attrs-25.1.0 fastjsonschema-2.21.1 idlmav-1.1.0 ipywidgets-8.1.5 jsonschema-4.23.0 jsonschema-specifications-2024.10.1 jupyterlab-widgets-3.0.13 munkres-1.1.4 nbformat-5.10.4 referencing-0.36.2 rpds-py-0.23.1 tabulate-0.9.0 widgetsnbextension-4.0.13\n",
      "Note: you may need to restart the kernel to use updated packages.\n"
     ]
    }
   ],
   "source": [
    "%pip install torch torchvision torchaudio --index-url https://download.pytorch.org/whl/cu118\n",
    "%pip install \"plotly>=5,<6\"\n",
    "%pip install idlmav"
   ]
  },
  {
   "cell_type": "code",
   "execution_count": 2,
   "metadata": {},
   "outputs": [
    {
     "data": {
      "application/vnd.plotly.v1+json": {
       "config": {
        "plotlyServerURL": "https://plot.ly"
       },
       "data": [
        {
         "hoverinfo": "skip",
         "line": {
          "color": "gray",
          "width": 1
         },
         "mode": "lines",
         "showlegend": false,
         "type": "scatter",
         "x": [
          0,
          0,
          null,
          0,
          0,
          null,
          0,
          0,
          null,
          0,
          0,
          null,
          0,
          0,
          null,
          0,
          0,
          null,
          0,
          0,
          null,
          0,
          0,
          null,
          0,
          0,
          null,
          0,
          0,
          null,
          0,
          0.4,
          0.4,
          0,
          null,
          0,
          0,
          null,
          0,
          0,
          null,
          0,
          0,
          null,
          0,
          0,
          null,
          0,
          0,
          null,
          0,
          0,
          null,
          0,
          0,
          null,
          0,
          -0.4,
          -0.4,
          0,
          null,
          0,
          0,
          null,
          0,
          0,
          null,
          0,
          0,
          null,
          0,
          0,
          null,
          0,
          0,
          null,
          0,
          0,
          null,
          0,
          1,
          null,
          1,
          1,
          null,
          0,
          0,
          null,
          1,
          0,
          null,
          0,
          0,
          null,
          0,
          0,
          null,
          0,
          0,
          null,
          0,
          0,
          null,
          0,
          0,
          null,
          0,
          0,
          null,
          0,
          0,
          null,
          0,
          -0.4,
          -0.4,
          0,
          null,
          0,
          0,
          null,
          0,
          0,
          null,
          0,
          0,
          null,
          0,
          0,
          null,
          0,
          0,
          null,
          0,
          0,
          null,
          0,
          1,
          null,
          1,
          1,
          null,
          0,
          0,
          null,
          1,
          0,
          null,
          0,
          0,
          null,
          0,
          0,
          null,
          0,
          0,
          null,
          0,
          0,
          null,
          0,
          0,
          null,
          0,
          0,
          null,
          0,
          0,
          null,
          0,
          -0.4,
          -0.4,
          0,
          null,
          0,
          0,
          null,
          0,
          0,
          null,
          0,
          0,
          null,
          0,
          0,
          null,
          0,
          0,
          null,
          0,
          0,
          null,
          0,
          1,
          null,
          1,
          1,
          null,
          0,
          0,
          null,
          1,
          0,
          null,
          0,
          0,
          null,
          0,
          0,
          null,
          0,
          0,
          null,
          0,
          0,
          null,
          0,
          0,
          null,
          0,
          0,
          null,
          0,
          0,
          null,
          0,
          -0.4,
          -0.4,
          0,
          null,
          0,
          0,
          null,
          0,
          0,
          null,
          0,
          0,
          null,
          0,
          0,
          null,
          0,
          0
         ],
         "xaxis": "x",
         "y": [
          0,
          1,
          null,
          1,
          1.15,
          null,
          1.15,
          1.3,
          null,
          1.3,
          1.45,
          null,
          1.45,
          2,
          null,
          2,
          2.15,
          null,
          2.15,
          2.3,
          null,
          2.3,
          3,
          null,
          3,
          3.15,
          null,
          3.15,
          4,
          null,
          1.45,
          1.95,
          3.5,
          4,
          null,
          4,
          4.15,
          null,
          4.15,
          5,
          null,
          5,
          5.15,
          null,
          5.15,
          5.3,
          null,
          5.3,
          6,
          null,
          6,
          6.15,
          null,
          6.15,
          7,
          null,
          4.15,
          4.65,
          6.5,
          7,
          null,
          7,
          7.15,
          null,
          7.15,
          8,
          null,
          8,
          8.15,
          null,
          8.15,
          8.3,
          null,
          8.3,
          9,
          null,
          9,
          9.15,
          null,
          7.15,
          9,
          null,
          9,
          9.15,
          null,
          9.15,
          10,
          null,
          9.15,
          10,
          null,
          10,
          10.15,
          null,
          10.15,
          11,
          null,
          11,
          11.15,
          null,
          11.15,
          11.3,
          null,
          11.3,
          12,
          null,
          12,
          12.15,
          null,
          12.15,
          13,
          null,
          10.15,
          10.65,
          12.5,
          13,
          null,
          13,
          13.15,
          null,
          13.15,
          14,
          null,
          14,
          14.15,
          null,
          14.15,
          14.3,
          null,
          14.3,
          15,
          null,
          15,
          15.15,
          null,
          13.15,
          15,
          null,
          15,
          15.15,
          null,
          15.15,
          16,
          null,
          15.15,
          16,
          null,
          16,
          16.15,
          null,
          16.15,
          17,
          null,
          17,
          17.15,
          null,
          17.15,
          17.3,
          null,
          17.3,
          18,
          null,
          18,
          18.15,
          null,
          18.15,
          19,
          null,
          16.15,
          16.65,
          18.5,
          19,
          null,
          19,
          19.15,
          null,
          19.15,
          20,
          null,
          20,
          20.15,
          null,
          20.15,
          20.3,
          null,
          20.3,
          21,
          null,
          21,
          21.15,
          null,
          19.15,
          21,
          null,
          21,
          21.15,
          null,
          21.15,
          22,
          null,
          21.15,
          22,
          null,
          22,
          22.15,
          null,
          22.15,
          23,
          null,
          23,
          23.15,
          null,
          23.15,
          23.3,
          null,
          23.3,
          24,
          null,
          24,
          24.15,
          null,
          24.15,
          25,
          null,
          22.15,
          22.65,
          24.5,
          25,
          null,
          25,
          25.15,
          null,
          25.15,
          25.3,
          null,
          25.3,
          25.45,
          null,
          25.45,
          26,
          null,
          26,
          27
         ],
         "yaxis": "y"
        },
        {
         "customdata": [
          [
           "x",
           "input",
           "(16,3,160,160)",
           "0",
           "0",
           "()",
           "{}"
          ],
          [
           "conv1",
           "nn.Conv2d",
           "(16,64,80,80)",
           "9 408",
           "1 926 758 400",
           "(x,)",
           "{}"
          ],
          [
           "bn1",
           "nn.BatchNorm2d",
           "(16,64,80,80)",
           "128",
           "0",
           "(conv1,)",
           "{}"
          ],
          [
           "relu",
           "nn.ReLU",
           "(16,64,80,80)",
           "0",
           "0",
           "(bn1,)",
           "{}"
          ],
          [
           "maxpool",
           "nn.MaxPool2d",
           "(16,64,40,40)",
           "0",
           "0",
           "(relu,)",
           "{}"
          ],
          [
           "layer1_0_conv1",
           "nn.Conv2d",
           "(16,64,40,40)",
           "36 864",
           "1 887 436 800",
           "(maxpool,)",
           "{}"
          ],
          [
           "layer1_0_bn1",
           "nn.BatchNorm2d",
           "(16,64,40,40)",
           "128",
           "0",
           "(layer1_0_conv1,)",
           "{}"
          ],
          [
           "layer1_0_relu",
           "nn.ReLU",
           "(16,64,40,40)",
           "0",
           "0",
           "(layer1_0_bn1,)",
           "{}"
          ],
          [
           "layer1_0_conv2",
           "nn.Conv2d",
           "(16,64,40,40)",
           "36 864",
           "1 887 436 800",
           "(layer1_0_relu,)",
           "{}"
          ],
          [
           "layer1_0_bn2",
           "nn.BatchNorm2d",
           "(16,64,40,40)",
           "128",
           "0",
           "(layer1_0_conv2,)",
           "{}"
          ],
          [
           "add",
           "add()",
           "(16,64,40,40)",
           "0",
           "1 638 400",
           "(layer1_0_bn2, maxpool)",
           "{}"
          ],
          [
           "layer1_0_relu_1",
           "nn.ReLU",
           "(16,64,40,40)",
           "0",
           "0",
           "(add,)",
           "{}"
          ],
          [
           "layer1_1_conv1",
           "nn.Conv2d",
           "(16,64,40,40)",
           "36 864",
           "1 887 436 800",
           "(layer1_0_relu_1,)",
           "{}"
          ],
          [
           "layer1_1_bn1",
           "nn.BatchNorm2d",
           "(16,64,40,40)",
           "128",
           "0",
           "(layer1_1_conv1,)",
           "{}"
          ],
          [
           "layer1_1_relu",
           "nn.ReLU",
           "(16,64,40,40)",
           "0",
           "0",
           "(layer1_1_bn1,)",
           "{}"
          ],
          [
           "layer1_1_conv2",
           "nn.Conv2d",
           "(16,64,40,40)",
           "36 864",
           "1 887 436 800",
           "(layer1_1_relu,)",
           "{}"
          ],
          [
           "layer1_1_bn2",
           "nn.BatchNorm2d",
           "(16,64,40,40)",
           "128",
           "0",
           "(layer1_1_conv2,)",
           "{}"
          ],
          [
           "add_1",
           "add()",
           "(16,64,40,40)",
           "0",
           "1 638 400",
           "(layer1_1_bn2, layer1_0_relu_1)",
           "{}"
          ],
          [
           "layer1_1_relu_1",
           "nn.ReLU",
           "(16,64,40,40)",
           "0",
           "0",
           "(add_1,)",
           "{}"
          ],
          [
           "layer2_0_conv1",
           "nn.Conv2d",
           "(16,128,20,20)",
           "73 728",
           "943 718 400",
           "(layer1_1_relu_1,)",
           "{}"
          ],
          [
           "layer2_0_bn1",
           "nn.BatchNorm2d",
           "(16,128,20,20)",
           "256",
           "0",
           "(layer2_0_conv1,)",
           "{}"
          ],
          [
           "layer2_0_relu",
           "nn.ReLU",
           "(16,128,20,20)",
           "0",
           "0",
           "(layer2_0_bn1,)",
           "{}"
          ],
          [
           "layer2_0_conv2",
           "nn.Conv2d",
           "(16,128,20,20)",
           "147 456",
           "1 887 436 800",
           "(layer2_0_relu,)",
           "{}"
          ],
          [
           "layer2_0_bn2",
           "nn.BatchNorm2d",
           "(16,128,20,20)",
           "256",
           "0",
           "(layer2_0_conv2,)",
           "{}"
          ],
          [
           "layer2_0_downsample_0",
           "nn.Conv2d",
           "(16,128,20,20)",
           "8 192",
           "104 857 600",
           "(layer1_1_relu_1,)",
           "{}"
          ],
          [
           "layer2_0_downsample_1",
           "nn.BatchNorm2d",
           "(16,128,20,20)",
           "256",
           "0",
           "(layer2_0_downsample_0,)",
           "{}"
          ],
          [
           "add_2",
           "add()",
           "(16,128,20,20)",
           "0",
           "819 200",
           "(layer2_0_bn2, layer2_0_downsample_1)",
           "{}"
          ],
          [
           "layer2_0_relu_1",
           "nn.ReLU",
           "(16,128,20,20)",
           "0",
           "0",
           "(add_2,)",
           "{}"
          ],
          [
           "layer2_1_conv1",
           "nn.Conv2d",
           "(16,128,20,20)",
           "147 456",
           "1 887 436 800",
           "(layer2_0_relu_1,)",
           "{}"
          ],
          [
           "layer2_1_bn1",
           "nn.BatchNorm2d",
           "(16,128,20,20)",
           "256",
           "0",
           "(layer2_1_conv1,)",
           "{}"
          ],
          [
           "layer2_1_relu",
           "nn.ReLU",
           "(16,128,20,20)",
           "0",
           "0",
           "(layer2_1_bn1,)",
           "{}"
          ],
          [
           "layer2_1_conv2",
           "nn.Conv2d",
           "(16,128,20,20)",
           "147 456",
           "1 887 436 800",
           "(layer2_1_relu,)",
           "{}"
          ],
          [
           "layer2_1_bn2",
           "nn.BatchNorm2d",
           "(16,128,20,20)",
           "256",
           "0",
           "(layer2_1_conv2,)",
           "{}"
          ],
          [
           "add_3",
           "add()",
           "(16,128,20,20)",
           "0",
           "819 200",
           "(layer2_1_bn2, layer2_0_relu_1)",
           "{}"
          ],
          [
           "layer2_1_relu_1",
           "nn.ReLU",
           "(16,128,20,20)",
           "0",
           "0",
           "(add_3,)",
           "{}"
          ],
          [
           "layer3_0_conv1",
           "nn.Conv2d",
           "(16,256,10,10)",
           "294 912",
           "943 718 400",
           "(layer2_1_relu_1,)",
           "{}"
          ],
          [
           "layer3_0_bn1",
           "nn.BatchNorm2d",
           "(16,256,10,10)",
           "512",
           "0",
           "(layer3_0_conv1,)",
           "{}"
          ],
          [
           "layer3_0_relu",
           "nn.ReLU",
           "(16,256,10,10)",
           "0",
           "0",
           "(layer3_0_bn1,)",
           "{}"
          ],
          [
           "layer3_0_conv2",
           "nn.Conv2d",
           "(16,256,10,10)",
           "589 824",
           "1 887 436 800",
           "(layer3_0_relu,)",
           "{}"
          ],
          [
           "layer3_0_bn2",
           "nn.BatchNorm2d",
           "(16,256,10,10)",
           "512",
           "0",
           "(layer3_0_conv2,)",
           "{}"
          ],
          [
           "layer3_0_downsample_0",
           "nn.Conv2d",
           "(16,256,10,10)",
           "32 768",
           "104 857 600",
           "(layer2_1_relu_1,)",
           "{}"
          ],
          [
           "layer3_0_downsample_1",
           "nn.BatchNorm2d",
           "(16,256,10,10)",
           "512",
           "0",
           "(layer3_0_downsample_0,)",
           "{}"
          ],
          [
           "add_4",
           "add()",
           "(16,256,10,10)",
           "0",
           "409 600",
           "(layer3_0_bn2, layer3_0_downsample_1)",
           "{}"
          ],
          [
           "layer3_0_relu_1",
           "nn.ReLU",
           "(16,256,10,10)",
           "0",
           "0",
           "(add_4,)",
           "{}"
          ],
          [
           "layer3_1_conv1",
           "nn.Conv2d",
           "(16,256,10,10)",
           "589 824",
           "1 887 436 800",
           "(layer3_0_relu_1,)",
           "{}"
          ],
          [
           "layer3_1_bn1",
           "nn.BatchNorm2d",
           "(16,256,10,10)",
           "512",
           "0",
           "(layer3_1_conv1,)",
           "{}"
          ],
          [
           "layer3_1_relu",
           "nn.ReLU",
           "(16,256,10,10)",
           "0",
           "0",
           "(layer3_1_bn1,)",
           "{}"
          ],
          [
           "layer3_1_conv2",
           "nn.Conv2d",
           "(16,256,10,10)",
           "589 824",
           "1 887 436 800",
           "(layer3_1_relu,)",
           "{}"
          ],
          [
           "layer3_1_bn2",
           "nn.BatchNorm2d",
           "(16,256,10,10)",
           "512",
           "0",
           "(layer3_1_conv2,)",
           "{}"
          ],
          [
           "add_5",
           "add()",
           "(16,256,10,10)",
           "0",
           "409 600",
           "(layer3_1_bn2, layer3_0_relu_1)",
           "{}"
          ],
          [
           "layer3_1_relu_1",
           "nn.ReLU",
           "(16,256,10,10)",
           "0",
           "0",
           "(add_5,)",
           "{}"
          ],
          [
           "layer4_0_conv1",
           "nn.Conv2d",
           "(16,512,5,5)",
           "1 179 648",
           "943 718 400",
           "(layer3_1_relu_1,)",
           "{}"
          ],
          [
           "layer4_0_bn1",
           "nn.BatchNorm2d",
           "(16,512,5,5)",
           "1 024",
           "0",
           "(layer4_0_conv1,)",
           "{}"
          ],
          [
           "layer4_0_relu",
           "nn.ReLU",
           "(16,512,5,5)",
           "0",
           "0",
           "(layer4_0_bn1,)",
           "{}"
          ],
          [
           "layer4_0_conv2",
           "nn.Conv2d",
           "(16,512,5,5)",
           "2 359 296",
           "1 887 436 800",
           "(layer4_0_relu,)",
           "{}"
          ],
          [
           "layer4_0_bn2",
           "nn.BatchNorm2d",
           "(16,512,5,5)",
           "1 024",
           "0",
           "(layer4_0_conv2,)",
           "{}"
          ],
          [
           "layer4_0_downsample_0",
           "nn.Conv2d",
           "(16,512,5,5)",
           "131 072",
           "104 857 600",
           "(layer3_1_relu_1,)",
           "{}"
          ],
          [
           "layer4_0_downsample_1",
           "nn.BatchNorm2d",
           "(16,512,5,5)",
           "1 024",
           "0",
           "(layer4_0_downsample_0,)",
           "{}"
          ],
          [
           "add_6",
           "add()",
           "(16,512,5,5)",
           "0",
           "204 800",
           "(layer4_0_bn2, layer4_0_downsample_1)",
           "{}"
          ],
          [
           "layer4_0_relu_1",
           "nn.ReLU",
           "(16,512,5,5)",
           "0",
           "0",
           "(add_6,)",
           "{}"
          ],
          [
           "layer4_1_conv1",
           "nn.Conv2d",
           "(16,512,5,5)",
           "2 359 296",
           "1 887 436 800",
           "(layer4_0_relu_1,)",
           "{}"
          ],
          [
           "layer4_1_bn1",
           "nn.BatchNorm2d",
           "(16,512,5,5)",
           "1 024",
           "0",
           "(layer4_1_conv1,)",
           "{}"
          ],
          [
           "layer4_1_relu",
           "nn.ReLU",
           "(16,512,5,5)",
           "0",
           "0",
           "(layer4_1_bn1,)",
           "{}"
          ],
          [
           "layer4_1_conv2",
           "nn.Conv2d",
           "(16,512,5,5)",
           "2 359 296",
           "1 887 436 800",
           "(layer4_1_relu,)",
           "{}"
          ],
          [
           "layer4_1_bn2",
           "nn.BatchNorm2d",
           "(16,512,5,5)",
           "1 024",
           "0",
           "(layer4_1_conv2,)",
           "{}"
          ],
          [
           "add_7",
           "add()",
           "(16,512,5,5)",
           "0",
           "204 800",
           "(layer4_1_bn2, layer4_0_relu_1)",
           "{}"
          ],
          [
           "layer4_1_relu_1",
           "nn.ReLU",
           "(16,512,5,5)",
           "0",
           "0",
           "(add_7,)",
           "{}"
          ],
          [
           "avgpool",
           "nn.AdaptiveAvgPool2d",
           "(16,512,1,1)",
           "0",
           "0",
           "(layer4_1_relu_1,)",
           "{}"
          ],
          [
           "flatten",
           "flatten()",
           "(16,512)",
           "0",
           "0",
           "(avgpool, 1)",
           "{}"
          ],
          [
           "fc",
           "nn.Linear",
           "(16,1000)",
           "513 000",
           "16 384 000",
           "(flatten,)",
           "{}"
          ],
          [
           "output",
           "output",
           "(16,1000)",
           "0",
           "0",
           "(fc,)",
           "{}"
          ]
         ],
         "hovertemplate": "Name: %{customdata[0]}<br>Operation: %{customdata[1]}<br>Activations: %{customdata[2]}<br>Parameters: %{customdata[3]}<br>FLOPS: %{customdata[4]}<br><br>args: %{customdata[5]}<br>kwargs: %{customdata[6]}<br><extra></extra>",
         "marker": {
          "color": [
           "#222A2A",
           "#00A08B",
           "#EB663B",
           "#1616A7",
           "#DA60CA",
           "#00A08B",
           "#EB663B",
           "#1616A7",
           "#00A08B",
           "#EB663B",
           "#778AAE",
           "#1616A7",
           "#00A08B",
           "#EB663B",
           "#1616A7",
           "#00A08B",
           "#EB663B",
           "#778AAE",
           "#1616A7",
           "#00A08B",
           "#EB663B",
           "#1616A7",
           "#00A08B",
           "#EB663B",
           "#00A08B",
           "#EB663B",
           "#778AAE",
           "#1616A7",
           "#00A08B",
           "#EB663B",
           "#1616A7",
           "#00A08B",
           "#EB663B",
           "#778AAE",
           "#1616A7",
           "#00A08B",
           "#EB663B",
           "#1616A7",
           "#00A08B",
           "#EB663B",
           "#00A08B",
           "#EB663B",
           "#778AAE",
           "#1616A7",
           "#00A08B",
           "#EB663B",
           "#1616A7",
           "#00A08B",
           "#EB663B",
           "#778AAE",
           "#1616A7",
           "#00A08B",
           "#EB663B",
           "#1616A7",
           "#00A08B",
           "#EB663B",
           "#00A08B",
           "#EB663B",
           "#778AAE",
           "#1616A7",
           "#00A08B",
           "#EB663B",
           "#1616A7",
           "#00A08B",
           "#EB663B",
           "#778AAE",
           "#1616A7",
           "#DA60CA",
           "#778AAE",
           "#2E91E5",
           "#222A2A"
          ],
          "colorscale": [
           [
            0,
            "rgb(0,0,255)"
           ],
           [
            1,
            "rgb(255,0,0)"
           ]
          ],
          "size": [
           6,
           11.250279597842884,
           6,
           6,
           6,
           12.91881573172255,
           6,
           6,
           12.91881573172255,
           6,
           6,
           6,
           12.91881573172255,
           6,
           6,
           12.91881573172255,
           6,
           6,
           6,
           13.765679776435459,
           6.846864044712908,
           6,
           14.612543821148368,
           6.846864044712908,
           11.08118426827745,
           6.846864044712908,
           6,
           6,
           14.612543821148368,
           6.846864044712908,
           6,
           14.612543821148368,
           6.846864044712908,
           6,
           6,
           15.459407865861275,
           7.693728089425816,
           6,
           16.306271910574182,
           7.693728089425816,
           12.774912357703267,
           7.693728089425816,
           6,
           6,
           16.306271910574182,
           7.693728089425816,
           6,
           16.306271910574182,
           7.693728089425816,
           6,
           6,
           17.15313595528709,
           8.540592134138725,
           6,
           18,
           8.540592134138725,
           14.468640447129083,
           8.540592134138725,
           6,
           6,
           18,
           8.540592134138725,
           6,
           18,
           8.540592134138725,
           6,
           6,
           6,
           6,
           16.13577641297401,
           6
          ]
         },
         "mode": "markers",
         "showlegend": false,
         "type": "scatter",
         "x": [
          0,
          0,
          0,
          0,
          0,
          0,
          0,
          0,
          0,
          0,
          0,
          0,
          0,
          0,
          0,
          0,
          0,
          0,
          0,
          0,
          0,
          0,
          0,
          0,
          1,
          1,
          0,
          0,
          0,
          0,
          0,
          0,
          0,
          0,
          0,
          0,
          0,
          0,
          0,
          0,
          1,
          1,
          0,
          0,
          0,
          0,
          0,
          0,
          0,
          0,
          0,
          0,
          0,
          0,
          0,
          0,
          1,
          1,
          0,
          0,
          0,
          0,
          0,
          0,
          0,
          0,
          0,
          0,
          0,
          0,
          0
         ],
         "xaxis": "x",
         "y": [
          0,
          1,
          1.15,
          1.3,
          1.45,
          2,
          2.15,
          2.3,
          3,
          3.15,
          4,
          4.15,
          5,
          5.15,
          5.3,
          6,
          6.15,
          7,
          7.15,
          8,
          8.15,
          8.3,
          9,
          9.15,
          9,
          9.15,
          10,
          10.15,
          11,
          11.15,
          11.3,
          12,
          12.15,
          13,
          13.15,
          14,
          14.15,
          14.3,
          15,
          15.15,
          15,
          15.15,
          16,
          16.15,
          17,
          17.15,
          17.3,
          18,
          18.15,
          19,
          19.15,
          20,
          20.15,
          20.3,
          21,
          21.15,
          21,
          21.15,
          22,
          22.15,
          23,
          23.15,
          23.3,
          24,
          24.15,
          25,
          25.15,
          25.3,
          25.45,
          26,
          27
         ],
         "yaxis": "y"
        },
        {
         "cells": {
          "align": "left",
          "values": [
           [
            "x",
            "conv1",
            "bn1",
            "relu",
            "maxpool",
            "layer1_0_conv1",
            "layer1_0_bn1",
            "layer1_0_relu",
            "layer1_0_conv2",
            "layer1_0_bn2",
            "add",
            "layer1_0_relu_1",
            "layer1_1_conv1",
            "layer1_1_bn1",
            "layer1_1_relu",
            "layer1_1_conv2",
            "layer1_1_bn2",
            "add_1",
            "layer1_1_relu_1",
            "layer2_0_conv1",
            "layer2_0_bn1",
            "layer2_0_relu",
            "layer2_0_conv2",
            "layer2_0_bn2",
            "layer2_0_downsample_0",
            "layer2_0_downsample_1",
            "add_2",
            "layer2_0_relu_1",
            "layer2_1_conv1",
            "layer2_1_bn1",
            "layer2_1_relu",
            "layer2_1_conv2",
            "layer2_1_bn2",
            "add_3",
            "layer2_1_relu_1",
            "layer3_0_conv1",
            "layer3_0_bn1",
            "layer3_0_relu",
            "layer3_0_conv2",
            "layer3_0_bn2",
            "layer3_0_downsample_0",
            "layer3_0_downsample_1",
            "add_4",
            "layer3_0_relu_1",
            "layer3_1_conv1",
            "layer3_1_bn1",
            "layer3_1_relu",
            "layer3_1_conv2",
            "layer3_1_bn2",
            "add_5",
            "layer3_1_relu_1",
            "layer4_0_conv1",
            "layer4_0_bn1",
            "layer4_0_relu",
            "layer4_0_conv2",
            "layer4_0_bn2",
            "layer4_0_downsample_0",
            "layer4_0_downsample_1",
            "add_6",
            "layer4_0_relu_1",
            "layer4_1_conv1",
            "layer4_1_bn1",
            "layer4_1_relu",
            "layer4_1_conv2",
            "layer4_1_bn2",
            "add_7",
            "layer4_1_relu_1",
            "avgpool",
            "flatten",
            "fc",
            "output"
           ],
           [
            "input",
            "nn.Conv2d",
            "nn.BatchNorm2d",
            "nn.ReLU",
            "nn.MaxPool2d",
            "nn.Conv2d",
            "nn.BatchNorm2d",
            "nn.ReLU",
            "nn.Conv2d",
            "nn.BatchNorm2d",
            "add()",
            "nn.ReLU",
            "nn.Conv2d",
            "nn.BatchNorm2d",
            "nn.ReLU",
            "nn.Conv2d",
            "nn.BatchNorm2d",
            "add()",
            "nn.ReLU",
            "nn.Conv2d",
            "nn.BatchNorm2d",
            "nn.ReLU",
            "nn.Conv2d",
            "nn.BatchNorm2d",
            "nn.Conv2d",
            "nn.BatchNorm2d",
            "add()",
            "nn.ReLU",
            "nn.Conv2d",
            "nn.BatchNorm2d",
            "nn.ReLU",
            "nn.Conv2d",
            "nn.BatchNorm2d",
            "add()",
            "nn.ReLU",
            "nn.Conv2d",
            "nn.BatchNorm2d",
            "nn.ReLU",
            "nn.Conv2d",
            "nn.BatchNorm2d",
            "nn.Conv2d",
            "nn.BatchNorm2d",
            "add()",
            "nn.ReLU",
            "nn.Conv2d",
            "nn.BatchNorm2d",
            "nn.ReLU",
            "nn.Conv2d",
            "nn.BatchNorm2d",
            "add()",
            "nn.ReLU",
            "nn.Conv2d",
            "nn.BatchNorm2d",
            "nn.ReLU",
            "nn.Conv2d",
            "nn.BatchNorm2d",
            "nn.Conv2d",
            "nn.BatchNorm2d",
            "add()",
            "nn.ReLU",
            "nn.Conv2d",
            "nn.BatchNorm2d",
            "nn.ReLU",
            "nn.Conv2d",
            "nn.BatchNorm2d",
            "add()",
            "nn.ReLU",
            "nn.AdaptiveAvgPool2d",
            "flatten()",
            "nn.Linear",
            "output"
           ],
           [
            "(16,3,160,160)",
            "(16,64,80,80)",
            "(16,64,80,80)",
            "(16,64,80,80)",
            "(16,64,40,40)",
            "(16,64,40,40)",
            "(16,64,40,40)",
            "(16,64,40,40)",
            "(16,64,40,40)",
            "(16,64,40,40)",
            "(16,64,40,40)",
            "(16,64,40,40)",
            "(16,64,40,40)",
            "(16,64,40,40)",
            "(16,64,40,40)",
            "(16,64,40,40)",
            "(16,64,40,40)",
            "(16,64,40,40)",
            "(16,64,40,40)",
            "(16,128,20,20)",
            "(16,128,20,20)",
            "(16,128,20,20)",
            "(16,128,20,20)",
            "(16,128,20,20)",
            "(16,128,20,20)",
            "(16,128,20,20)",
            "(16,128,20,20)",
            "(16,128,20,20)",
            "(16,128,20,20)",
            "(16,128,20,20)",
            "(16,128,20,20)",
            "(16,128,20,20)",
            "(16,128,20,20)",
            "(16,128,20,20)",
            "(16,128,20,20)",
            "(16,256,10,10)",
            "(16,256,10,10)",
            "(16,256,10,10)",
            "(16,256,10,10)",
            "(16,256,10,10)",
            "(16,256,10,10)",
            "(16,256,10,10)",
            "(16,256,10,10)",
            "(16,256,10,10)",
            "(16,256,10,10)",
            "(16,256,10,10)",
            "(16,256,10,10)",
            "(16,256,10,10)",
            "(16,256,10,10)",
            "(16,256,10,10)",
            "(16,256,10,10)",
            "(16,512,5,5)",
            "(16,512,5,5)",
            "(16,512,5,5)",
            "(16,512,5,5)",
            "(16,512,5,5)",
            "(16,512,5,5)",
            "(16,512,5,5)",
            "(16,512,5,5)",
            "(16,512,5,5)",
            "(16,512,5,5)",
            "(16,512,5,5)",
            "(16,512,5,5)",
            "(16,512,5,5)",
            "(16,512,5,5)",
            "(16,512,5,5)",
            "(16,512,5,5)",
            "(16,512,1,1)",
            "(16,512)",
            "(16,1000)",
            "(16,1000)"
           ],
           [
            "0",
            "9 408",
            "128",
            "0",
            "0",
            "36 864",
            "128",
            "0",
            "36 864",
            "128",
            "0",
            "0",
            "36 864",
            "128",
            "0",
            "36 864",
            "128",
            "0",
            "0",
            "73 728",
            "256",
            "0",
            "147 456",
            "256",
            "8 192",
            "256",
            "0",
            "0",
            "147 456",
            "256",
            "0",
            "147 456",
            "256",
            "0",
            "0",
            "294 912",
            "512",
            "0",
            "589 824",
            "512",
            "32 768",
            "512",
            "0",
            "0",
            "589 824",
            "512",
            "0",
            "589 824",
            "512",
            "0",
            "0",
            "1 179 648",
            "1 024",
            "0",
            "2 359 296",
            "1 024",
            "131 072",
            "1 024",
            "0",
            "0",
            "2 359 296",
            "1 024",
            "0",
            "2 359 296",
            "1 024",
            "0",
            "0",
            "0",
            "0",
            "513 000",
            "0"
           ],
           [
            "0",
            "1 926 758 400",
            "0",
            "0",
            "0",
            "1 887 436 800",
            "0",
            "0",
            "1 887 436 800",
            "0",
            "1 638 400",
            "0",
            "1 887 436 800",
            "0",
            "0",
            "1 887 436 800",
            "0",
            "1 638 400",
            "0",
            "943 718 400",
            "0",
            "0",
            "1 887 436 800",
            "0",
            "104 857 600",
            "0",
            "819 200",
            "0",
            "1 887 436 800",
            "0",
            "0",
            "1 887 436 800",
            "0",
            "819 200",
            "0",
            "943 718 400",
            "0",
            "0",
            "1 887 436 800",
            "0",
            "104 857 600",
            "0",
            "409 600",
            "0",
            "1 887 436 800",
            "0",
            "0",
            "1 887 436 800",
            "0",
            "409 600",
            "0",
            "943 718 400",
            "0",
            "0",
            "1 887 436 800",
            "0",
            "104 857 600",
            "0",
            "204 800",
            "0",
            "1 887 436 800",
            "0",
            "0",
            "1 887 436 800",
            "0",
            "204 800",
            "0",
            "0",
            "0",
            "16 384 000",
            "0"
           ]
          ]
         },
         "domain": {
          "x": [
           0.19,
           1
          ],
          "y": [
           0,
           1
          ]
         },
         "header": {
          "align": "left",
          "font": {
           "size": 10
          },
          "values": [
           "Name",
           "Operation",
           "Activations",
           "Params [11 689 512]",
           "FLOPS [29 631 692 800]"
          ]
         },
         "type": "table"
        }
       ],
       "layout": {
        "margin": {
         "b": 0,
         "l": 0,
         "r": 0,
         "t": 0
        },
        "modebar": {
         "orientation": "v",
         "remove": [
          "select",
          "lasso"
         ]
        },
        "sliders": [
         {
          "active": 0,
          "currentvalue": {
           "visible": false
          },
          "pad": {
           "b": 0,
           "l": 0,
           "r": 0,
           "t": 48
          },
          "steps": [
           {
            "args": [
             {
              "shapes": [
               {
                "fillcolor": "rgba(42,63,96,0.2)",
                "line": {
                 "color": "#2A3F5F",
                 "width": 1
                },
                "type": "rect",
                "x0": -0.5,
                "x1": 1.5,
                "xref": "x",
                "y0": -0.25,
                "y1": 9.75,
                "yref": "y"
               }
              ],
              "yaxis": {
               "range": [
                9.75,
                -0.25
               ],
               "showgrid": false,
               "tickmode": "array",
               "tickvals": [],
               "zeroline": false
              }
             }
            ],
            "label": "",
            "method": "relayout"
           },
           {
            "args": [
             {
              "shapes": [
               {
                "fillcolor": "rgba(42,63,96,0.2)",
                "line": {
                 "color": "#2A3F5F",
                 "width": 1
                },
                "type": "rect",
                "x0": -0.5,
                "x1": 1.5,
                "xref": "x",
                "y0": 1.9375,
                "y1": 11.9375,
                "yref": "y"
               }
              ],
              "yaxis": {
               "range": [
                11.9375,
                1.9375
               ],
               "showgrid": false,
               "tickmode": "array",
               "tickvals": [],
               "zeroline": false
              }
             }
            ],
            "label": "",
            "method": "relayout"
           },
           {
            "args": [
             {
              "shapes": [
               {
                "fillcolor": "rgba(42,63,96,0.2)",
                "line": {
                 "color": "#2A3F5F",
                 "width": 1
                },
                "type": "rect",
                "x0": -0.5,
                "x1": 1.5,
                "xref": "x",
                "y0": 4.125,
                "y1": 14.125,
                "yref": "y"
               }
              ],
              "yaxis": {
               "range": [
                14.125,
                4.125
               ],
               "showgrid": false,
               "tickmode": "array",
               "tickvals": [],
               "zeroline": false
              }
             }
            ],
            "label": "",
            "method": "relayout"
           },
           {
            "args": [
             {
              "shapes": [
               {
                "fillcolor": "rgba(42,63,96,0.2)",
                "line": {
                 "color": "#2A3F5F",
                 "width": 1
                },
                "type": "rect",
                "x0": -0.5,
                "x1": 1.5,
                "xref": "x",
                "y0": 6.3125,
                "y1": 16.3125,
                "yref": "y"
               }
              ],
              "yaxis": {
               "range": [
                16.3125,
                6.3125
               ],
               "showgrid": false,
               "tickmode": "array",
               "tickvals": [],
               "zeroline": false
              }
             }
            ],
            "label": "",
            "method": "relayout"
           },
           {
            "args": [
             {
              "shapes": [
               {
                "fillcolor": "rgba(42,63,96,0.2)",
                "line": {
                 "color": "#2A3F5F",
                 "width": 1
                },
                "type": "rect",
                "x0": -0.5,
                "x1": 1.5,
                "xref": "x",
                "y0": 8.5,
                "y1": 18.5,
                "yref": "y"
               }
              ],
              "yaxis": {
               "range": [
                18.5,
                8.5
               ],
               "showgrid": false,
               "tickmode": "array",
               "tickvals": [],
               "zeroline": false
              }
             }
            ],
            "label": "",
            "method": "relayout"
           },
           {
            "args": [
             {
              "shapes": [
               {
                "fillcolor": "rgba(42,63,96,0.2)",
                "line": {
                 "color": "#2A3F5F",
                 "width": 1
                },
                "type": "rect",
                "x0": -0.5,
                "x1": 1.5,
                "xref": "x",
                "y0": 10.6875,
                "y1": 20.6875,
                "yref": "y"
               }
              ],
              "yaxis": {
               "range": [
                20.6875,
                10.6875
               ],
               "showgrid": false,
               "tickmode": "array",
               "tickvals": [],
               "zeroline": false
              }
             }
            ],
            "label": "",
            "method": "relayout"
           },
           {
            "args": [
             {
              "shapes": [
               {
                "fillcolor": "rgba(42,63,96,0.2)",
                "line": {
                 "color": "#2A3F5F",
                 "width": 1
                },
                "type": "rect",
                "x0": -0.5,
                "x1": 1.5,
                "xref": "x",
                "y0": 12.875,
                "y1": 22.875,
                "yref": "y"
               }
              ],
              "yaxis": {
               "range": [
                22.875,
                12.875
               ],
               "showgrid": false,
               "tickmode": "array",
               "tickvals": [],
               "zeroline": false
              }
             }
            ],
            "label": "",
            "method": "relayout"
           },
           {
            "args": [
             {
              "shapes": [
               {
                "fillcolor": "rgba(42,63,96,0.2)",
                "line": {
                 "color": "#2A3F5F",
                 "width": 1
                },
                "type": "rect",
                "x0": -0.5,
                "x1": 1.5,
                "xref": "x",
                "y0": 15.0625,
                "y1": 25.0625,
                "yref": "y"
               }
              ],
              "yaxis": {
               "range": [
                25.0625,
                15.0625
               ],
               "showgrid": false,
               "tickmode": "array",
               "tickvals": [],
               "zeroline": false
              }
             }
            ],
            "label": "",
            "method": "relayout"
           },
           {
            "args": [
             {
              "shapes": [
               {
                "fillcolor": "rgba(42,63,96,0.2)",
                "line": {
                 "color": "#2A3F5F",
                 "width": 1
                },
                "type": "rect",
                "x0": -0.5,
                "x1": 1.5,
                "xref": "x",
                "y0": 17.25,
                "y1": 27.25,
                "yref": "y"
               }
              ],
              "yaxis": {
               "range": [
                27.25,
                17.25
               ],
               "showgrid": false,
               "tickmode": "array",
               "tickvals": [],
               "zeroline": false
              }
             }
            ],
            "label": "",
            "method": "relayout"
           }
          ],
          "ticklen": 0,
          "tickwidth": 0,
          "x": 0,
          "xanchor": "left",
          "y": 0,
          "yanchor": "top"
         }
        ],
        "template": {
         "data": {
          "bar": [
           {
            "error_x": {
             "color": "#2a3f5f"
            },
            "error_y": {
             "color": "#2a3f5f"
            },
            "marker": {
             "line": {
              "color": "#E5ECF6",
              "width": 0.5
             },
             "pattern": {
              "fillmode": "overlay",
              "size": 10,
              "solidity": 0.2
             }
            },
            "type": "bar"
           }
          ],
          "barpolar": [
           {
            "marker": {
             "line": {
              "color": "#E5ECF6",
              "width": 0.5
             },
             "pattern": {
              "fillmode": "overlay",
              "size": 10,
              "solidity": 0.2
             }
            },
            "type": "barpolar"
           }
          ],
          "carpet": [
           {
            "aaxis": {
             "endlinecolor": "#2a3f5f",
             "gridcolor": "white",
             "linecolor": "white",
             "minorgridcolor": "white",
             "startlinecolor": "#2a3f5f"
            },
            "baxis": {
             "endlinecolor": "#2a3f5f",
             "gridcolor": "white",
             "linecolor": "white",
             "minorgridcolor": "white",
             "startlinecolor": "#2a3f5f"
            },
            "type": "carpet"
           }
          ],
          "choropleth": [
           {
            "colorbar": {
             "outlinewidth": 0,
             "ticks": ""
            },
            "type": "choropleth"
           }
          ],
          "contour": [
           {
            "colorbar": {
             "outlinewidth": 0,
             "ticks": ""
            },
            "colorscale": [
             [
              0,
              "#0d0887"
             ],
             [
              0.1111111111111111,
              "#46039f"
             ],
             [
              0.2222222222222222,
              "#7201a8"
             ],
             [
              0.3333333333333333,
              "#9c179e"
             ],
             [
              0.4444444444444444,
              "#bd3786"
             ],
             [
              0.5555555555555556,
              "#d8576b"
             ],
             [
              0.6666666666666666,
              "#ed7953"
             ],
             [
              0.7777777777777778,
              "#fb9f3a"
             ],
             [
              0.8888888888888888,
              "#fdca26"
             ],
             [
              1,
              "#f0f921"
             ]
            ],
            "type": "contour"
           }
          ],
          "contourcarpet": [
           {
            "colorbar": {
             "outlinewidth": 0,
             "ticks": ""
            },
            "type": "contourcarpet"
           }
          ],
          "heatmap": [
           {
            "colorbar": {
             "outlinewidth": 0,
             "ticks": ""
            },
            "colorscale": [
             [
              0,
              "#0d0887"
             ],
             [
              0.1111111111111111,
              "#46039f"
             ],
             [
              0.2222222222222222,
              "#7201a8"
             ],
             [
              0.3333333333333333,
              "#9c179e"
             ],
             [
              0.4444444444444444,
              "#bd3786"
             ],
             [
              0.5555555555555556,
              "#d8576b"
             ],
             [
              0.6666666666666666,
              "#ed7953"
             ],
             [
              0.7777777777777778,
              "#fb9f3a"
             ],
             [
              0.8888888888888888,
              "#fdca26"
             ],
             [
              1,
              "#f0f921"
             ]
            ],
            "type": "heatmap"
           }
          ],
          "heatmapgl": [
           {
            "colorbar": {
             "outlinewidth": 0,
             "ticks": ""
            },
            "colorscale": [
             [
              0,
              "#0d0887"
             ],
             [
              0.1111111111111111,
              "#46039f"
             ],
             [
              0.2222222222222222,
              "#7201a8"
             ],
             [
              0.3333333333333333,
              "#9c179e"
             ],
             [
              0.4444444444444444,
              "#bd3786"
             ],
             [
              0.5555555555555556,
              "#d8576b"
             ],
             [
              0.6666666666666666,
              "#ed7953"
             ],
             [
              0.7777777777777778,
              "#fb9f3a"
             ],
             [
              0.8888888888888888,
              "#fdca26"
             ],
             [
              1,
              "#f0f921"
             ]
            ],
            "type": "heatmapgl"
           }
          ],
          "histogram": [
           {
            "marker": {
             "pattern": {
              "fillmode": "overlay",
              "size": 10,
              "solidity": 0.2
             }
            },
            "type": "histogram"
           }
          ],
          "histogram2d": [
           {
            "colorbar": {
             "outlinewidth": 0,
             "ticks": ""
            },
            "colorscale": [
             [
              0,
              "#0d0887"
             ],
             [
              0.1111111111111111,
              "#46039f"
             ],
             [
              0.2222222222222222,
              "#7201a8"
             ],
             [
              0.3333333333333333,
              "#9c179e"
             ],
             [
              0.4444444444444444,
              "#bd3786"
             ],
             [
              0.5555555555555556,
              "#d8576b"
             ],
             [
              0.6666666666666666,
              "#ed7953"
             ],
             [
              0.7777777777777778,
              "#fb9f3a"
             ],
             [
              0.8888888888888888,
              "#fdca26"
             ],
             [
              1,
              "#f0f921"
             ]
            ],
            "type": "histogram2d"
           }
          ],
          "histogram2dcontour": [
           {
            "colorbar": {
             "outlinewidth": 0,
             "ticks": ""
            },
            "colorscale": [
             [
              0,
              "#0d0887"
             ],
             [
              0.1111111111111111,
              "#46039f"
             ],
             [
              0.2222222222222222,
              "#7201a8"
             ],
             [
              0.3333333333333333,
              "#9c179e"
             ],
             [
              0.4444444444444444,
              "#bd3786"
             ],
             [
              0.5555555555555556,
              "#d8576b"
             ],
             [
              0.6666666666666666,
              "#ed7953"
             ],
             [
              0.7777777777777778,
              "#fb9f3a"
             ],
             [
              0.8888888888888888,
              "#fdca26"
             ],
             [
              1,
              "#f0f921"
             ]
            ],
            "type": "histogram2dcontour"
           }
          ],
          "mesh3d": [
           {
            "colorbar": {
             "outlinewidth": 0,
             "ticks": ""
            },
            "type": "mesh3d"
           }
          ],
          "parcoords": [
           {
            "line": {
             "colorbar": {
              "outlinewidth": 0,
              "ticks": ""
             }
            },
            "type": "parcoords"
           }
          ],
          "pie": [
           {
            "automargin": true,
            "type": "pie"
           }
          ],
          "scatter": [
           {
            "fillpattern": {
             "fillmode": "overlay",
             "size": 10,
             "solidity": 0.2
            },
            "type": "scatter"
           }
          ],
          "scatter3d": [
           {
            "line": {
             "colorbar": {
              "outlinewidth": 0,
              "ticks": ""
             }
            },
            "marker": {
             "colorbar": {
              "outlinewidth": 0,
              "ticks": ""
             }
            },
            "type": "scatter3d"
           }
          ],
          "scattercarpet": [
           {
            "marker": {
             "colorbar": {
              "outlinewidth": 0,
              "ticks": ""
             }
            },
            "type": "scattercarpet"
           }
          ],
          "scattergeo": [
           {
            "marker": {
             "colorbar": {
              "outlinewidth": 0,
              "ticks": ""
             }
            },
            "type": "scattergeo"
           }
          ],
          "scattergl": [
           {
            "marker": {
             "colorbar": {
              "outlinewidth": 0,
              "ticks": ""
             }
            },
            "type": "scattergl"
           }
          ],
          "scattermapbox": [
           {
            "marker": {
             "colorbar": {
              "outlinewidth": 0,
              "ticks": ""
             }
            },
            "type": "scattermapbox"
           }
          ],
          "scatterpolar": [
           {
            "marker": {
             "colorbar": {
              "outlinewidth": 0,
              "ticks": ""
             }
            },
            "type": "scatterpolar"
           }
          ],
          "scatterpolargl": [
           {
            "marker": {
             "colorbar": {
              "outlinewidth": 0,
              "ticks": ""
             }
            },
            "type": "scatterpolargl"
           }
          ],
          "scatterternary": [
           {
            "marker": {
             "colorbar": {
              "outlinewidth": 0,
              "ticks": ""
             }
            },
            "type": "scatterternary"
           }
          ],
          "surface": [
           {
            "colorbar": {
             "outlinewidth": 0,
             "ticks": ""
            },
            "colorscale": [
             [
              0,
              "#0d0887"
             ],
             [
              0.1111111111111111,
              "#46039f"
             ],
             [
              0.2222222222222222,
              "#7201a8"
             ],
             [
              0.3333333333333333,
              "#9c179e"
             ],
             [
              0.4444444444444444,
              "#bd3786"
             ],
             [
              0.5555555555555556,
              "#d8576b"
             ],
             [
              0.6666666666666666,
              "#ed7953"
             ],
             [
              0.7777777777777778,
              "#fb9f3a"
             ],
             [
              0.8888888888888888,
              "#fdca26"
             ],
             [
              1,
              "#f0f921"
             ]
            ],
            "type": "surface"
           }
          ],
          "table": [
           {
            "cells": {
             "fill": {
              "color": "#EBF0F8"
             },
             "line": {
              "color": "white"
             }
            },
            "header": {
             "fill": {
              "color": "#C8D4E3"
             },
             "line": {
              "color": "white"
             }
            },
            "type": "table"
           }
          ]
         },
         "layout": {
          "annotationdefaults": {
           "arrowcolor": "#2a3f5f",
           "arrowhead": 0,
           "arrowwidth": 1
          },
          "autotypenumbers": "strict",
          "coloraxis": {
           "colorbar": {
            "outlinewidth": 0,
            "ticks": ""
           }
          },
          "colorscale": {
           "diverging": [
            [
             0,
             "#8e0152"
            ],
            [
             0.1,
             "#c51b7d"
            ],
            [
             0.2,
             "#de77ae"
            ],
            [
             0.3,
             "#f1b6da"
            ],
            [
             0.4,
             "#fde0ef"
            ],
            [
             0.5,
             "#f7f7f7"
            ],
            [
             0.6,
             "#e6f5d0"
            ],
            [
             0.7,
             "#b8e186"
            ],
            [
             0.8,
             "#7fbc41"
            ],
            [
             0.9,
             "#4d9221"
            ],
            [
             1,
             "#276419"
            ]
           ],
           "sequential": [
            [
             0,
             "#0d0887"
            ],
            [
             0.1111111111111111,
             "#46039f"
            ],
            [
             0.2222222222222222,
             "#7201a8"
            ],
            [
             0.3333333333333333,
             "#9c179e"
            ],
            [
             0.4444444444444444,
             "#bd3786"
            ],
            [
             0.5555555555555556,
             "#d8576b"
            ],
            [
             0.6666666666666666,
             "#ed7953"
            ],
            [
             0.7777777777777778,
             "#fb9f3a"
            ],
            [
             0.8888888888888888,
             "#fdca26"
            ],
            [
             1,
             "#f0f921"
            ]
           ],
           "sequentialminus": [
            [
             0,
             "#0d0887"
            ],
            [
             0.1111111111111111,
             "#46039f"
            ],
            [
             0.2222222222222222,
             "#7201a8"
            ],
            [
             0.3333333333333333,
             "#9c179e"
            ],
            [
             0.4444444444444444,
             "#bd3786"
            ],
            [
             0.5555555555555556,
             "#d8576b"
            ],
            [
             0.6666666666666666,
             "#ed7953"
            ],
            [
             0.7777777777777778,
             "#fb9f3a"
            ],
            [
             0.8888888888888888,
             "#fdca26"
            ],
            [
             1,
             "#f0f921"
            ]
           ]
          },
          "colorway": [
           "#636efa",
           "#EF553B",
           "#00cc96",
           "#ab63fa",
           "#FFA15A",
           "#19d3f3",
           "#FF6692",
           "#B6E880",
           "#FF97FF",
           "#FECB52"
          ],
          "font": {
           "color": "#2a3f5f"
          },
          "geo": {
           "bgcolor": "white",
           "lakecolor": "white",
           "landcolor": "#E5ECF6",
           "showlakes": true,
           "showland": true,
           "subunitcolor": "white"
          },
          "hoverlabel": {
           "align": "left"
          },
          "hovermode": "closest",
          "mapbox": {
           "style": "light"
          },
          "paper_bgcolor": "white",
          "plot_bgcolor": "#E5ECF6",
          "polar": {
           "angularaxis": {
            "gridcolor": "white",
            "linecolor": "white",
            "ticks": ""
           },
           "bgcolor": "#E5ECF6",
           "radialaxis": {
            "gridcolor": "white",
            "linecolor": "white",
            "ticks": ""
           }
          },
          "scene": {
           "xaxis": {
            "backgroundcolor": "#E5ECF6",
            "gridcolor": "white",
            "gridwidth": 2,
            "linecolor": "white",
            "showbackground": true,
            "ticks": "",
            "zerolinecolor": "white"
           },
           "yaxis": {
            "backgroundcolor": "#E5ECF6",
            "gridcolor": "white",
            "gridwidth": 2,
            "linecolor": "white",
            "showbackground": true,
            "ticks": "",
            "zerolinecolor": "white"
           },
           "zaxis": {
            "backgroundcolor": "#E5ECF6",
            "gridcolor": "white",
            "gridwidth": 2,
            "linecolor": "white",
            "showbackground": true,
            "ticks": "",
            "zerolinecolor": "white"
           }
          },
          "shapedefaults": {
           "line": {
            "color": "#2a3f5f"
           }
          },
          "ternary": {
           "aaxis": {
            "gridcolor": "white",
            "linecolor": "white",
            "ticks": ""
           },
           "baxis": {
            "gridcolor": "white",
            "linecolor": "white",
            "ticks": ""
           },
           "bgcolor": "#E5ECF6",
           "caxis": {
            "gridcolor": "white",
            "linecolor": "white",
            "ticks": ""
           }
          },
          "title": {
           "x": 0.05
          },
          "xaxis": {
           "automargin": true,
           "gridcolor": "white",
           "linecolor": "white",
           "ticks": "",
           "title": {
            "standoff": 15
           },
           "zerolinecolor": "white",
           "zerolinewidth": 2
          },
          "yaxis": {
           "automargin": true,
           "gridcolor": "white",
           "linecolor": "white",
           "ticks": "",
           "title": {
            "standoff": 15
           },
           "zerolinecolor": "white",
           "zerolinewidth": 2
          }
         }
        },
        "updatemenus": [
         {
          "active": 0,
          "buttons": [
           {
            "args": [
             {
              "marker": [
               {},
               {
                "color": [
                 "#222A2A",
                 "#00A08B",
                 "#EB663B",
                 "#1616A7",
                 "#DA60CA",
                 "#00A08B",
                 "#EB663B",
                 "#1616A7",
                 "#00A08B",
                 "#EB663B",
                 "#778AAE",
                 "#1616A7",
                 "#00A08B",
                 "#EB663B",
                 "#1616A7",
                 "#00A08B",
                 "#EB663B",
                 "#778AAE",
                 "#1616A7",
                 "#00A08B",
                 "#EB663B",
                 "#1616A7",
                 "#00A08B",
                 "#EB663B",
                 "#00A08B",
                 "#EB663B",
                 "#778AAE",
                 "#1616A7",
                 "#00A08B",
                 "#EB663B",
                 "#1616A7",
                 "#00A08B",
                 "#EB663B",
                 "#778AAE",
                 "#1616A7",
                 "#00A08B",
                 "#EB663B",
                 "#1616A7",
                 "#00A08B",
                 "#EB663B",
                 "#00A08B",
                 "#EB663B",
                 "#778AAE",
                 "#1616A7",
                 "#00A08B",
                 "#EB663B",
                 "#1616A7",
                 "#00A08B",
                 "#EB663B",
                 "#778AAE",
                 "#1616A7",
                 "#00A08B",
                 "#EB663B",
                 "#1616A7",
                 "#00A08B",
                 "#EB663B",
                 "#00A08B",
                 "#EB663B",
                 "#778AAE",
                 "#1616A7",
                 "#00A08B",
                 "#EB663B",
                 "#1616A7",
                 "#00A08B",
                 "#EB663B",
                 "#778AAE",
                 "#1616A7",
                 "#DA60CA",
                 "#778AAE",
                 "#2E91E5",
                 "#222A2A"
                ],
                "colorscale": "Bluered",
                "size": [
                 6,
                 11.250279597842884,
                 6,
                 6,
                 6,
                 12.91881573172255,
                 6,
                 6,
                 12.91881573172255,
                 6,
                 6,
                 6,
                 12.91881573172255,
                 6,
                 6,
                 12.91881573172255,
                 6,
                 6,
                 6,
                 13.765679776435459,
                 6.846864044712908,
                 6,
                 14.612543821148368,
                 6.846864044712908,
                 11.08118426827745,
                 6.846864044712908,
                 6,
                 6,
                 14.612543821148368,
                 6.846864044712908,
                 6,
                 14.612543821148368,
                 6.846864044712908,
                 6,
                 6,
                 15.459407865861275,
                 7.693728089425816,
                 6,
                 16.306271910574182,
                 7.693728089425816,
                 12.774912357703267,
                 7.693728089425816,
                 6,
                 6,
                 16.306271910574182,
                 7.693728089425816,
                 6,
                 16.306271910574182,
                 7.693728089425816,
                 6,
                 6,
                 17.15313595528709,
                 8.540592134138725,
                 6,
                 18,
                 8.540592134138725,
                 14.468640447129083,
                 8.540592134138725,
                 6,
                 6,
                 18,
                 8.540592134138725,
                 6,
                 18,
                 8.540592134138725,
                 6,
                 6,
                 6,
                 6,
                 16.13577641297401,
                 6
                ]
               },
               {}
              ]
             }
            ],
            "label": "Size by params, color by operation",
            "method": "restyle"
           },
           {
            "args": [
             {
              "marker": [
               {},
               {
                "color": [
                 "#222A2A",
                 "#00A08B",
                 "#EB663B",
                 "#1616A7",
                 "#DA60CA",
                 "#00A08B",
                 "#EB663B",
                 "#1616A7",
                 "#00A08B",
                 "#EB663B",
                 "#778AAE",
                 "#1616A7",
                 "#00A08B",
                 "#EB663B",
                 "#1616A7",
                 "#00A08B",
                 "#EB663B",
                 "#778AAE",
                 "#1616A7",
                 "#00A08B",
                 "#EB663B",
                 "#1616A7",
                 "#00A08B",
                 "#EB663B",
                 "#00A08B",
                 "#EB663B",
                 "#778AAE",
                 "#1616A7",
                 "#00A08B",
                 "#EB663B",
                 "#1616A7",
                 "#00A08B",
                 "#EB663B",
                 "#778AAE",
                 "#1616A7",
                 "#00A08B",
                 "#EB663B",
                 "#1616A7",
                 "#00A08B",
                 "#EB663B",
                 "#00A08B",
                 "#EB663B",
                 "#778AAE",
                 "#1616A7",
                 "#00A08B",
                 "#EB663B",
                 "#1616A7",
                 "#00A08B",
                 "#EB663B",
                 "#778AAE",
                 "#1616A7",
                 "#00A08B",
                 "#EB663B",
                 "#1616A7",
                 "#00A08B",
                 "#EB663B",
                 "#00A08B",
                 "#EB663B",
                 "#778AAE",
                 "#1616A7",
                 "#00A08B",
                 "#EB663B",
                 "#1616A7",
                 "#00A08B",
                 "#EB663B",
                 "#778AAE",
                 "#1616A7",
                 "#DA60CA",
                 "#778AAE",
                 "#2E91E5",
                 "#222A2A"
                ],
                "colorscale": "Bluered",
                "size": [
                 6,
                 18,
                 6,
                 6,
                 6,
                 17.972956289262115,
                 6,
                 6,
                 17.972956289262115,
                 6,
                 8.727340426301035,
                 6,
                 17.972956289262115,
                 6,
                 6,
                 17.972956289262115,
                 6,
                 8.727340426301035,
                 6,
                 17.063842813828437,
                 6,
                 6,
                 17.972956289262115,
                 6,
                 14.182021278903106,
                 6,
                 7.818226950867357,
                 6,
                 17.972956289262115,
                 6,
                 6,
                 17.972956289262115,
                 6,
                 7.818226950867357,
                 6,
                 17.063842813828437,
                 6,
                 6,
                 17.972956289262115,
                 6,
                 14.182021278903106,
                 6,
                 6.909113475433679,
                 6,
                 17.972956289262115,
                 6,
                 6,
                 17.972956289262115,
                 6,
                 6.909113475433679,
                 6,
                 17.063842813828437,
                 6,
                 6,
                 17.972956289262115,
                 6,
                 14.182021278903106,
                 6,
                 6,
                 6,
                 17.972956289262115,
                 6,
                 6,
                 17.972956289262115,
                 6,
                 6,
                 6,
                 6,
                 6,
                 11.747350021784866,
                 6
                ]
               },
               {}
              ]
             }
            ],
            "label": "Size by FLOPS, color by operation",
            "method": "restyle"
           },
           {
            "args": [
             {
              "marker": [
               {},
               {
                "color": [
                 0,
                 1,
                 0,
                 0,
                 0,
                 0.9977463574385095,
                 0,
                 0,
                 0.9977463574385095,
                 0,
                 0.22727836885841962,
                 0,
                 0.9977463574385095,
                 0,
                 0,
                 0.9977463574385095,
                 0,
                 0.22727836885841962,
                 0,
                 0.9219869011523696,
                 0,
                 0,
                 0.9977463574385095,
                 0,
                 0.6818351065752588,
                 0,
                 0.15151891257227976,
                 0,
                 0.9977463574385095,
                 0,
                 0,
                 0.9977463574385095,
                 0,
                 0.15151891257227976,
                 0,
                 0.9219869011523696,
                 0,
                 0,
                 0.9977463574385095,
                 0,
                 0.6818351065752588,
                 0,
                 0.07575945628613988,
                 0,
                 0.9977463574385095,
                 0,
                 0,
                 0.9977463574385095,
                 0,
                 0.07575945628613988,
                 0,
                 0.9219869011523696,
                 0,
                 0,
                 0.9977463574385095,
                 0,
                 0.6818351065752588,
                 0,
                 0,
                 0,
                 0.9977463574385095,
                 0,
                 0,
                 0.9977463574385095,
                 0,
                 0,
                 0,
                 0,
                 0,
                 0.4789458351487389,
                 0
                ],
                "colorscale": "Bluered",
                "size": [
                 6,
                 11.250279597842884,
                 6,
                 6,
                 6,
                 12.91881573172255,
                 6,
                 6,
                 12.91881573172255,
                 6,
                 6,
                 6,
                 12.91881573172255,
                 6,
                 6,
                 12.91881573172255,
                 6,
                 6,
                 6,
                 13.765679776435459,
                 6.846864044712908,
                 6,
                 14.612543821148368,
                 6.846864044712908,
                 11.08118426827745,
                 6.846864044712908,
                 6,
                 6,
                 14.612543821148368,
                 6.846864044712908,
                 6,
                 14.612543821148368,
                 6.846864044712908,
                 6,
                 6,
                 15.459407865861275,
                 7.693728089425816,
                 6,
                 16.306271910574182,
                 7.693728089425816,
                 12.774912357703267,
                 7.693728089425816,
                 6,
                 6,
                 16.306271910574182,
                 7.693728089425816,
                 6,
                 16.306271910574182,
                 7.693728089425816,
                 6,
                 6,
                 17.15313595528709,
                 8.540592134138725,
                 6,
                 18,
                 8.540592134138725,
                 14.468640447129083,
                 8.540592134138725,
                 6,
                 6,
                 18,
                 8.540592134138725,
                 6,
                 18,
                 8.540592134138725,
                 6,
                 6,
                 6,
                 6,
                 16.13577641297401,
                 6
                ]
               },
               {}
              ]
             }
            ],
            "label": "Size by params, color by FLOPS",
            "method": "restyle"
           },
           {
            "args": [
             {
              "marker": [
               {},
               {
                "color": [
                 0,
                 0.4375232998202403,
                 0,
                 0,
                 0,
                 0.5765679776435458,
                 0,
                 0,
                 0.5765679776435458,
                 0,
                 0,
                 0,
                 0.5765679776435458,
                 0,
                 0,
                 0.5765679776435458,
                 0,
                 0,
                 0,
                 0.6471399813696215,
                 0.0705720037260757,
                 0,
                 0.7177119850956972,
                 0.0705720037260757,
                 0.42343202235645416,
                 0.0705720037260757,
                 0,
                 0,
                 0.7177119850956972,
                 0.0705720037260757,
                 0,
                 0.7177119850956972,
                 0.0705720037260757,
                 0,
                 0,
                 0.7882839888217729,
                 0.1411440074521514,
                 0,
                 0.8588559925478486,
                 0.1411440074521514,
                 0.5645760298086056,
                 0.1411440074521514,
                 0,
                 0,
                 0.8588559925478486,
                 0.1411440074521514,
                 0,
                 0.8588559925478486,
                 0.1411440074521514,
                 0,
                 0,
                 0.9294279962739243,
                 0.21171601117822708,
                 0,
                 1,
                 0.21171601117822708,
                 0.7057200372607569,
                 0.21171601117822708,
                 0,
                 0,
                 1,
                 0.21171601117822708,
                 0,
                 1,
                 0.21171601117822708,
                 0,
                 0,
                 0,
                 0,
                 0.8446480344145008,
                 0
                ],
                "colorscale": "Bluered",
                "size": [
                 6,
                 18,
                 6,
                 6,
                 6,
                 17.972956289262115,
                 6,
                 6,
                 17.972956289262115,
                 6,
                 8.727340426301035,
                 6,
                 17.972956289262115,
                 6,
                 6,
                 17.972956289262115,
                 6,
                 8.727340426301035,
                 6,
                 17.063842813828437,
                 6,
                 6,
                 17.972956289262115,
                 6,
                 14.182021278903106,
                 6,
                 7.818226950867357,
                 6,
                 17.972956289262115,
                 6,
                 6,
                 17.972956289262115,
                 6,
                 7.818226950867357,
                 6,
                 17.063842813828437,
                 6,
                 6,
                 17.972956289262115,
                 6,
                 14.182021278903106,
                 6,
                 6.909113475433679,
                 6,
                 17.972956289262115,
                 6,
                 6,
                 17.972956289262115,
                 6,
                 6.909113475433679,
                 6,
                 17.063842813828437,
                 6,
                 6,
                 17.972956289262115,
                 6,
                 14.182021278903106,
                 6,
                 6,
                 6,
                 17.972956289262115,
                 6,
                 6,
                 17.972956289262115,
                 6,
                 6,
                 6,
                 6,
                 6,
                 11.747350021784866,
                 6
                ]
               },
               {}
              ]
             }
            ],
            "label": "Size by FLOPS, color by params",
            "method": "restyle"
           }
          ],
          "direction": "up",
          "pad": {
           "b": 0,
           "l": 0,
           "r": 0,
           "t": 8
          },
          "showactive": true,
          "x": 0,
          "xanchor": "left",
          "y": 0,
          "yanchor": "top"
         }
        ],
        "xaxis": {
         "anchor": "y",
         "domain": [
          0,
          0.18
         ],
         "range": [
          -0.5,
          1.5
         ],
         "showgrid": false,
         "tickmode": "array",
         "tickvals": [],
         "zeroline": false
        },
        "yaxis": {
         "anchor": "x",
         "domain": [
          0,
          1
         ],
         "range": [
          9.75,
          -0.25
         ],
         "showgrid": false,
         "tickmode": "array",
         "tickvals": [],
         "zeroline": false
        }
       }
      }
     },
     "metadata": {},
     "output_type": "display_data"
    }
   ],
   "source": [
    "import torch, torchvision\n",
    "from idlmav import MAV, plotly_renderer\n",
    "device = 'cpu'\n",
    "model = torchvision.models.resnet18().to(device)\n",
    "x = torch.randn(16,3,160,160).to(device)\n",
    "mav = MAV(model, x, device=device)\n",
    "\n",
    "with plotly_renderer('vscode'):\n",
    "    mav.show_figure(add_slider=True)"
   ]
  },
  {
   "cell_type": "code",
   "execution_count": null,
   "metadata": {},
   "outputs": [],
   "source": []
  }
 ],
 "metadata": {
  "kernelspec": {
   "display_name": ".venv_temp",
   "language": "python",
   "name": "python3"
  },
  "language_info": {
   "codemirror_mode": {
    "name": "ipython",
    "version": 3
   },
   "file_extension": ".py",
   "mimetype": "text/x-python",
   "name": "python",
   "nbconvert_exporter": "python",
   "pygments_lexer": "ipython3",
   "version": "3.10.12"
  }
 },
 "nbformat": 4,
 "nbformat_minor": 2
}
