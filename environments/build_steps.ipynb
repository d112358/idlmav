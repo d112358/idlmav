{
 "cells": [
  {
   "cell_type": "markdown",
   "metadata": {},
   "source": [
    "## Preparation (first release only)\n",
    "Write [pyproject.toml](../pyproject.toml) and [setup.py](../setup.py)"
   ]
  },
  {
   "cell_type": "markdown",
   "metadata": {},
   "source": [
    "## Build"
   ]
  },
  {
   "cell_type": "markdown",
   "metadata": {},
   "source": [
    "* Ensure that this notebook's kernel is running in the main virtual environment (.venv)\n",
    "* Restart the kernel if changed\n",
    "* Step the version number in [\\_\\_init\\_\\_.py](../idlmav/__init__.py) \n",
    "* Update [CHANGELOG.md](../CHANGELOG.md) (see example at [Keep a Changelog](https://keepachangelog.com/en/1.0.0/)) "
   ]
  },
  {
   "cell_type": "code",
   "execution_count": null,
   "metadata": {},
   "outputs": [],
   "source": [
    "%pip install --upgrade build"
   ]
  },
  {
   "cell_type": "code",
   "execution_count": null,
   "metadata": {},
   "outputs": [
    {
     "data": {
      "text/plain": [
       "'/home/dev/ai/idlmav'"
      ]
     },
     "metadata": {},
     "output_type": "display_data"
    }
   ],
   "source": [
    "from pathlib import Path\n",
    "if Path.cwd().name != 'idlmav':\n",
    "    %cd ..\n",
    "%pwd"
   ]
  },
  {
   "cell_type": "code",
   "execution_count": 2,
   "metadata": {},
   "outputs": [],
   "source": [
    "!rm -rf dist"
   ]
  },
  {
   "cell_type": "code",
   "execution_count": 3,
   "metadata": {},
   "outputs": [
    {
     "name": "stdout",
     "output_type": "stream",
     "text": [
      "\u001b[1m* Creating isolated environment: venv+pip...\u001b[0m\n",
      "\u001b[1m* Installing packages in isolated environment:\u001b[0m\n",
      "  - setuptools >= 64.0\n",
      "\u001b[1m* Getting build dependencies for sdist...\u001b[0m\n",
      "running egg_info\n",
      "writing idlmav.egg-info/PKG-INFO\n",
      "writing dependency_links to idlmav.egg-info/dependency_links.txt\n",
      "writing requirements to idlmav.egg-info/requires.txt\n",
      "writing top-level names to idlmav.egg-info/top_level.txt\n",
      "reading manifest file 'idlmav.egg-info/SOURCES.txt'\n",
      "adding license file 'LICENSE'\n",
      "writing manifest file 'idlmav.egg-info/SOURCES.txt'\n",
      "\u001b[1m* Building sdist...\u001b[0m\n",
      "running sdist\n",
      "running egg_info\n",
      "writing idlmav.egg-info/PKG-INFO\n",
      "writing dependency_links to idlmav.egg-info/dependency_links.txt\n",
      "writing requirements to idlmav.egg-info/requires.txt\n",
      "writing top-level names to idlmav.egg-info/top_level.txt\n",
      "reading manifest file 'idlmav.egg-info/SOURCES.txt'\n",
      "adding license file 'LICENSE'\n",
      "writing manifest file 'idlmav.egg-info/SOURCES.txt'\n",
      "running check\n",
      "creating idlmav-1.0.4\n",
      "creating idlmav-1.0.4/idlmav\n",
      "creating idlmav-1.0.4/idlmav.egg-info\n",
      "creating idlmav-1.0.4/idlmav/renderers\n",
      "copying files to idlmav-1.0.4...\n",
      "copying LICENSE -> idlmav-1.0.4\n",
      "copying README.md -> idlmav-1.0.4\n",
      "copying pyproject.toml -> idlmav-1.0.4\n",
      "copying setup.py -> idlmav-1.0.4\n",
      "copying idlmav/__init__.py -> idlmav-1.0.4/idlmav\n",
      "copying idlmav/coloring.py -> idlmav-1.0.4/idlmav\n",
      "copying idlmav/idlmav.py -> idlmav-1.0.4/idlmav\n",
      "copying idlmav/layout.py -> idlmav-1.0.4/idlmav\n",
      "copying idlmav/mavdbgutils.py -> idlmav-1.0.4/idlmav\n",
      "copying idlmav/mavtypes.py -> idlmav-1.0.4/idlmav\n",
      "copying idlmav/mavutils.py -> idlmav-1.0.4/idlmav\n",
      "copying idlmav/merging.py -> idlmav-1.0.4/idlmav\n",
      "copying idlmav/static_viewers.py -> idlmav-1.0.4/idlmav\n",
      "copying idlmav/tracing.py -> idlmav-1.0.4/idlmav\n",
      "copying idlmav.egg-info/PKG-INFO -> idlmav-1.0.4/idlmav.egg-info\n",
      "copying idlmav.egg-info/SOURCES.txt -> idlmav-1.0.4/idlmav.egg-info\n",
      "copying idlmav.egg-info/dependency_links.txt -> idlmav-1.0.4/idlmav.egg-info\n",
      "copying idlmav.egg-info/requires.txt -> idlmav-1.0.4/idlmav.egg-info\n",
      "copying idlmav.egg-info/top_level.txt -> idlmav-1.0.4/idlmav.egg-info\n",
      "copying idlmav/renderers/figure_renderer.py -> idlmav-1.0.4/idlmav/renderers\n",
      "copying idlmav/renderers/renderer_utils.py -> idlmav-1.0.4/idlmav/renderers\n",
      "copying idlmav/renderers/widget_renderer.py -> idlmav-1.0.4/idlmav/renderers\n",
      "copying idlmav.egg-info/SOURCES.txt -> idlmav-1.0.4/idlmav.egg-info\n",
      "Writing idlmav-1.0.4/setup.cfg\n",
      "Creating tar archive\n",
      "removing 'idlmav-1.0.4' (and everything under it)\n",
      "\u001b[1m* Building wheel from sdist\u001b[0m\n",
      "\u001b[1m* Creating isolated environment: venv+pip...\u001b[0m\n",
      "\u001b[1m* Installing packages in isolated environment:\u001b[0m\n",
      "  - setuptools >= 64.0\n",
      "\u001b[1m* Getting build dependencies for wheel...\u001b[0m\n",
      "running egg_info\n",
      "writing idlmav.egg-info/PKG-INFO\n",
      "writing dependency_links to idlmav.egg-info/dependency_links.txt\n",
      "writing requirements to idlmav.egg-info/requires.txt\n",
      "writing top-level names to idlmav.egg-info/top_level.txt\n",
      "reading manifest file 'idlmav.egg-info/SOURCES.txt'\n",
      "adding license file 'LICENSE'\n",
      "writing manifest file 'idlmav.egg-info/SOURCES.txt'\n",
      "\u001b[1m* Building wheel...\u001b[0m\n",
      "running bdist_wheel\n",
      "running build\n",
      "running build_py\n",
      "creating build/lib/idlmav\n",
      "copying idlmav/static_viewers.py -> build/lib/idlmav\n",
      "copying idlmav/mavtypes.py -> build/lib/idlmav\n",
      "copying idlmav/mavutils.py -> build/lib/idlmav\n",
      "copying idlmav/merging.py -> build/lib/idlmav\n",
      "copying idlmav/idlmav.py -> build/lib/idlmav\n",
      "copying idlmav/coloring.py -> build/lib/idlmav\n",
      "copying idlmav/mavdbgutils.py -> build/lib/idlmav\n",
      "copying idlmav/__init__.py -> build/lib/idlmav\n",
      "copying idlmav/layout.py -> build/lib/idlmav\n",
      "copying idlmav/tracing.py -> build/lib/idlmav\n",
      "creating build/lib/idlmav/renderers\n",
      "copying idlmav/renderers/renderer_utils.py -> build/lib/idlmav/renderers\n",
      "copying idlmav/renderers/widget_renderer.py -> build/lib/idlmav/renderers\n",
      "copying idlmav/renderers/figure_renderer.py -> build/lib/idlmav/renderers\n",
      "running egg_info\n",
      "writing idlmav.egg-info/PKG-INFO\n",
      "writing dependency_links to idlmav.egg-info/dependency_links.txt\n",
      "writing requirements to idlmav.egg-info/requires.txt\n",
      "writing top-level names to idlmav.egg-info/top_level.txt\n",
      "reading manifest file 'idlmav.egg-info/SOURCES.txt'\n",
      "adding license file 'LICENSE'\n",
      "writing manifest file 'idlmav.egg-info/SOURCES.txt'\n",
      "installing to build/bdist.linux-x86_64/wheel\n",
      "running install\n",
      "running install_lib\n",
      "creating build/bdist.linux-x86_64/wheel\n",
      "creating build/bdist.linux-x86_64/wheel/idlmav\n",
      "copying build/lib/idlmav/static_viewers.py -> build/bdist.linux-x86_64/wheel/./idlmav\n",
      "creating build/bdist.linux-x86_64/wheel/idlmav/renderers\n",
      "copying build/lib/idlmav/renderers/renderer_utils.py -> build/bdist.linux-x86_64/wheel/./idlmav/renderers\n",
      "copying build/lib/idlmav/renderers/widget_renderer.py -> build/bdist.linux-x86_64/wheel/./idlmav/renderers\n",
      "copying build/lib/idlmav/renderers/figure_renderer.py -> build/bdist.linux-x86_64/wheel/./idlmav/renderers\n",
      "copying build/lib/idlmav/mavtypes.py -> build/bdist.linux-x86_64/wheel/./idlmav\n",
      "copying build/lib/idlmav/mavutils.py -> build/bdist.linux-x86_64/wheel/./idlmav\n",
      "copying build/lib/idlmav/merging.py -> build/bdist.linux-x86_64/wheel/./idlmav\n",
      "copying build/lib/idlmav/idlmav.py -> build/bdist.linux-x86_64/wheel/./idlmav\n",
      "copying build/lib/idlmav/coloring.py -> build/bdist.linux-x86_64/wheel/./idlmav\n",
      "copying build/lib/idlmav/mavdbgutils.py -> build/bdist.linux-x86_64/wheel/./idlmav\n",
      "copying build/lib/idlmav/__init__.py -> build/bdist.linux-x86_64/wheel/./idlmav\n",
      "copying build/lib/idlmav/layout.py -> build/bdist.linux-x86_64/wheel/./idlmav\n",
      "copying build/lib/idlmav/tracing.py -> build/bdist.linux-x86_64/wheel/./idlmav\n",
      "running install_egg_info\n",
      "Copying idlmav.egg-info to build/bdist.linux-x86_64/wheel/./idlmav-1.0.4-py3.10.egg-info\n",
      "running install_scripts\n",
      "creating build/bdist.linux-x86_64/wheel/idlmav-1.0.4.dist-info/WHEEL\n",
      "creating '/home/dev/ai/idlmav/dist/.tmp-rw9__gzz/idlmav-1.0.4-py3-none-any.whl' and adding 'build/bdist.linux-x86_64/wheel' to it\n",
      "adding 'idlmav/__init__.py'\n",
      "adding 'idlmav/coloring.py'\n",
      "adding 'idlmav/idlmav.py'\n",
      "adding 'idlmav/layout.py'\n",
      "adding 'idlmav/mavdbgutils.py'\n",
      "adding 'idlmav/mavtypes.py'\n",
      "adding 'idlmav/mavutils.py'\n",
      "adding 'idlmav/merging.py'\n",
      "adding 'idlmav/static_viewers.py'\n",
      "adding 'idlmav/tracing.py'\n",
      "adding 'idlmav/renderers/figure_renderer.py'\n",
      "adding 'idlmav/renderers/renderer_utils.py'\n",
      "adding 'idlmav/renderers/widget_renderer.py'\n",
      "adding 'idlmav-1.0.4.dist-info/LICENSE'\n",
      "adding 'idlmav-1.0.4.dist-info/METADATA'\n",
      "adding 'idlmav-1.0.4.dist-info/WHEEL'\n",
      "adding 'idlmav-1.0.4.dist-info/top_level.txt'\n",
      "adding 'idlmav-1.0.4.dist-info/RECORD'\n",
      "removing build/bdist.linux-x86_64/wheel\n",
      "\u001b[1m\u001b[92mSuccessfully built \u001b[4midlmav-1.0.4.tar.gz\u001b[0m\u001b[1m\u001b[92m and \u001b[4midlmav-1.0.4-py3-none-any.whl\u001b[0m\u001b[1m\u001b[92m\u001b[0m\n"
     ]
    }
   ],
   "source": [
    "!python -m build"
   ]
  },
  {
   "cell_type": "markdown",
   "metadata": {},
   "source": [
    "### Check what was built"
   ]
  },
  {
   "cell_type": "code",
   "execution_count": 4,
   "metadata": {},
   "outputs": [],
   "source": [
    "Path('build_output').mkdir(exist_ok=True)  # Location to extract the archive to\n",
    "!tar -xf dist/idlmav-1.0.4.tar.gz -C build_output"
   ]
  },
  {
   "cell_type": "markdown",
   "metadata": {},
   "source": [
    "### Test in a temporary virtual environment"
   ]
  },
  {
   "cell_type": "markdown",
   "metadata": {},
   "source": [
    "* Ensure that this notebook's kernel is running in the main virtual environment (.venv)\n",
    "* Restart the kernel if changed"
   ]
  },
  {
   "cell_type": "code",
   "execution_count": 1,
   "metadata": {},
   "outputs": [
    {
     "name": "stdout",
     "output_type": "stream",
     "text": [
      "/home/dev/ai/idlmav\n"
     ]
    },
    {
     "name": "stderr",
     "output_type": "stream",
     "text": [
      "/home/dev/ai/idlmav/.venv/lib/python3.10/site-packages/IPython/core/magics/osm.py:417: UserWarning: This is now an optional IPython functionality, setting dhist requires you to install the `pickleshare` library.\n",
      "  self.shell.db['dhist'] = compress_dhist(dhist)[-100:]\n"
     ]
    }
   ],
   "source": [
    "from pathlib import Path\n",
    "if Path.cwd().name != 'idlmav':\n",
    "    %cd ..\n",
    "%pwd\n",
    "\n",
    "!rm -rf .venv_temp\n",
    "!python -m venv .venv_temp"
   ]
  },
  {
   "cell_type": "markdown",
   "metadata": {},
   "source": [
    "* Change this notebook's kernel to run in the temporary virtual environment (.venv_temp)\n",
    "* Restart the kernel"
   ]
  },
  {
   "cell_type": "code",
   "execution_count": null,
   "metadata": {},
   "outputs": [],
   "source": [
    "%pip install torch torchvision torchaudio --index-url https://download.pytorch.org/whl/cu118"
   ]
  },
  {
   "cell_type": "code",
   "execution_count": 6,
   "metadata": {},
   "outputs": [
    {
     "data": {
      "text/plain": [
       "'/home/dev/ai/idlmav/environments'"
      ]
     },
     "execution_count": 6,
     "metadata": {},
     "output_type": "execute_result"
    }
   ],
   "source": [
    "%pwd"
   ]
  },
  {
   "cell_type": "code",
   "execution_count": null,
   "metadata": {},
   "outputs": [
    {
     "name": "stdout",
     "output_type": "stream",
     "text": [
      "Processing /home/dev/ai/idlmav\n",
      "  Installing build dependencies ... \u001b[?25ldone\n",
      "\u001b[?25h  Getting requirements to build wheel ... \u001b[?25ldone\n",
      "\u001b[?25h  Preparing metadata (pyproject.toml) ... \u001b[?25ldone\n",
      "\u001b[?25hRequirement already satisfied: numpy in /home/dev/ai/idlmav/.venv_temp/lib/python3.10/site-packages (from idlmav==1.0.4) (1.26.3)\n",
      "Requirement already satisfied: nbformat in /home/dev/ai/idlmav/.venv_temp/lib/python3.10/site-packages (from idlmav==1.0.4) (5.10.4)\n",
      "Requirement already satisfied: ipywidgets in /home/dev/ai/idlmav/.venv_temp/lib/python3.10/site-packages (from idlmav==1.0.4) (8.1.5)\n",
      "Requirement already satisfied: munkres in /home/dev/ai/idlmav/.venv_temp/lib/python3.10/site-packages (from idlmav==1.0.4) (1.1.4)\n",
      "Requirement already satisfied: torch>=2.3.0 in /home/dev/ai/idlmav/.venv_temp/lib/python3.10/site-packages (from idlmav==1.0.4) (2.5.1+cu118)\n",
      "Requirement already satisfied: tabulate in /home/dev/ai/idlmav/.venv_temp/lib/python3.10/site-packages (from idlmav==1.0.4) (0.9.0)\n",
      "Requirement already satisfied: plotly in /home/dev/ai/idlmav/.venv_temp/lib/python3.10/site-packages (from idlmav==1.0.4) (5.24.1)\n",
      "Requirement already satisfied: torchprofile in /home/dev/ai/idlmav/.venv_temp/lib/python3.10/site-packages (from idlmav==1.0.4) (0.0.4)\n",
      "Requirement already satisfied: filelock in /home/dev/ai/idlmav/.venv_temp/lib/python3.10/site-packages (from torch>=2.3.0->idlmav==1.0.4) (3.13.1)\n",
      "Requirement already satisfied: nvidia-cusolver-cu11==11.4.1.48 in /home/dev/ai/idlmav/.venv_temp/lib/python3.10/site-packages (from torch>=2.3.0->idlmav==1.0.4) (11.4.1.48)\n",
      "Requirement already satisfied: nvidia-cusparse-cu11==11.7.5.86 in /home/dev/ai/idlmav/.venv_temp/lib/python3.10/site-packages (from torch>=2.3.0->idlmav==1.0.4) (11.7.5.86)\n",
      "Requirement already satisfied: typing-extensions>=4.8.0 in /home/dev/ai/idlmav/.venv_temp/lib/python3.10/site-packages (from torch>=2.3.0->idlmav==1.0.4) (4.12.2)\n",
      "Requirement already satisfied: jinja2 in /home/dev/ai/idlmav/.venv_temp/lib/python3.10/site-packages (from torch>=2.3.0->idlmav==1.0.4) (3.1.3)\n",
      "Requirement already satisfied: nvidia-cuda-nvrtc-cu11==11.8.89 in /home/dev/ai/idlmav/.venv_temp/lib/python3.10/site-packages (from torch>=2.3.0->idlmav==1.0.4) (11.8.89)\n",
      "Requirement already satisfied: networkx in /home/dev/ai/idlmav/.venv_temp/lib/python3.10/site-packages (from torch>=2.3.0->idlmav==1.0.4) (3.2.1)\n",
      "Requirement already satisfied: nvidia-nvtx-cu11==11.8.86 in /home/dev/ai/idlmav/.venv_temp/lib/python3.10/site-packages (from torch>=2.3.0->idlmav==1.0.4) (11.8.86)\n",
      "Requirement already satisfied: nvidia-curand-cu11==10.3.0.86 in /home/dev/ai/idlmav/.venv_temp/lib/python3.10/site-packages (from torch>=2.3.0->idlmav==1.0.4) (10.3.0.86)\n",
      "Requirement already satisfied: nvidia-cufft-cu11==10.9.0.58 in /home/dev/ai/idlmav/.venv_temp/lib/python3.10/site-packages (from torch>=2.3.0->idlmav==1.0.4) (10.9.0.58)\n",
      "Requirement already satisfied: nvidia-cublas-cu11==11.11.3.6 in /home/dev/ai/idlmav/.venv_temp/lib/python3.10/site-packages (from torch>=2.3.0->idlmav==1.0.4) (11.11.3.6)\n",
      "Requirement already satisfied: sympy==1.13.1 in /home/dev/ai/idlmav/.venv_temp/lib/python3.10/site-packages (from torch>=2.3.0->idlmav==1.0.4) (1.13.1)\n",
      "Requirement already satisfied: triton==3.1.0 in /home/dev/ai/idlmav/.venv_temp/lib/python3.10/site-packages (from torch>=2.3.0->idlmav==1.0.4) (3.1.0)\n",
      "Requirement already satisfied: fsspec in /home/dev/ai/idlmav/.venv_temp/lib/python3.10/site-packages (from torch>=2.3.0->idlmav==1.0.4) (2024.2.0)\n",
      "Requirement already satisfied: nvidia-cudnn-cu11==9.1.0.70 in /home/dev/ai/idlmav/.venv_temp/lib/python3.10/site-packages (from torch>=2.3.0->idlmav==1.0.4) (9.1.0.70)\n",
      "Requirement already satisfied: nvidia-nccl-cu11==2.21.5 in /home/dev/ai/idlmav/.venv_temp/lib/python3.10/site-packages (from torch>=2.3.0->idlmav==1.0.4) (2.21.5)\n",
      "Requirement already satisfied: nvidia-cuda-runtime-cu11==11.8.89 in /home/dev/ai/idlmav/.venv_temp/lib/python3.10/site-packages (from torch>=2.3.0->idlmav==1.0.4) (11.8.89)\n",
      "Requirement already satisfied: nvidia-cuda-cupti-cu11==11.8.87 in /home/dev/ai/idlmav/.venv_temp/lib/python3.10/site-packages (from torch>=2.3.0->idlmav==1.0.4) (11.8.87)\n",
      "Requirement already satisfied: mpmath<1.4,>=1.1.0 in /home/dev/ai/idlmav/.venv_temp/lib/python3.10/site-packages (from sympy==1.13.1->torch>=2.3.0->idlmav==1.0.4) (1.3.0)\n",
      "Requirement already satisfied: jupyterlab-widgets~=3.0.12 in /home/dev/ai/idlmav/.venv_temp/lib/python3.10/site-packages (from ipywidgets->idlmav==1.0.4) (3.0.13)\n",
      "Requirement already satisfied: ipython>=6.1.0 in /home/dev/ai/idlmav/.venv_temp/lib/python3.10/site-packages (from ipywidgets->idlmav==1.0.4) (8.31.0)\n",
      "Requirement already satisfied: widgetsnbextension~=4.0.12 in /home/dev/ai/idlmav/.venv_temp/lib/python3.10/site-packages (from ipywidgets->idlmav==1.0.4) (4.0.13)\n",
      "Requirement already satisfied: comm>=0.1.3 in /home/dev/ai/idlmav/.venv_temp/lib/python3.10/site-packages (from ipywidgets->idlmav==1.0.4) (0.2.2)\n",
      "Requirement already satisfied: traitlets>=4.3.1 in /home/dev/ai/idlmav/.venv_temp/lib/python3.10/site-packages (from ipywidgets->idlmav==1.0.4) (5.14.3)\n",
      "Requirement already satisfied: jupyter-core!=5.0.*,>=4.12 in /home/dev/ai/idlmav/.venv_temp/lib/python3.10/site-packages (from nbformat->idlmav==1.0.4) (5.7.2)\n",
      "Requirement already satisfied: jsonschema>=2.6 in /home/dev/ai/idlmav/.venv_temp/lib/python3.10/site-packages (from nbformat->idlmav==1.0.4) (4.23.0)\n",
      "Requirement already satisfied: fastjsonschema>=2.15 in /home/dev/ai/idlmav/.venv_temp/lib/python3.10/site-packages (from nbformat->idlmav==1.0.4) (2.21.1)\n",
      "Requirement already satisfied: tenacity>=6.2.0 in /home/dev/ai/idlmav/.venv_temp/lib/python3.10/site-packages (from plotly->idlmav==1.0.4) (9.0.0)\n",
      "Requirement already satisfied: packaging in /home/dev/ai/idlmav/.venv_temp/lib/python3.10/site-packages (from plotly->idlmav==1.0.4) (24.2)\n",
      "Requirement already satisfied: torchvision>=0.4 in /home/dev/ai/idlmav/.venv_temp/lib/python3.10/site-packages (from torchprofile->idlmav==1.0.4) (0.20.1+cu118)\n",
      "Requirement already satisfied: pygments>=2.4.0 in /home/dev/ai/idlmav/.venv_temp/lib/python3.10/site-packages (from ipython>=6.1.0->ipywidgets->idlmav==1.0.4) (2.19.1)\n",
      "Requirement already satisfied: exceptiongroup in /home/dev/ai/idlmav/.venv_temp/lib/python3.10/site-packages (from ipython>=6.1.0->ipywidgets->idlmav==1.0.4) (1.2.2)\n",
      "Requirement already satisfied: jedi>=0.16 in /home/dev/ai/idlmav/.venv_temp/lib/python3.10/site-packages (from ipython>=6.1.0->ipywidgets->idlmav==1.0.4) (0.19.2)\n",
      "Requirement already satisfied: matplotlib-inline in /home/dev/ai/idlmav/.venv_temp/lib/python3.10/site-packages (from ipython>=6.1.0->ipywidgets->idlmav==1.0.4) (0.1.7)\n",
      "Requirement already satisfied: pexpect>4.3 in /home/dev/ai/idlmav/.venv_temp/lib/python3.10/site-packages (from ipython>=6.1.0->ipywidgets->idlmav==1.0.4) (4.9.0)\n",
      "Requirement already satisfied: decorator in /home/dev/ai/idlmav/.venv_temp/lib/python3.10/site-packages (from ipython>=6.1.0->ipywidgets->idlmav==1.0.4) (5.1.1)\n",
      "Requirement already satisfied: prompt_toolkit<3.1.0,>=3.0.41 in /home/dev/ai/idlmav/.venv_temp/lib/python3.10/site-packages (from ipython>=6.1.0->ipywidgets->idlmav==1.0.4) (3.0.48)\n",
      "Requirement already satisfied: stack_data in /home/dev/ai/idlmav/.venv_temp/lib/python3.10/site-packages (from ipython>=6.1.0->ipywidgets->idlmav==1.0.4) (0.6.3)\n",
      "Requirement already satisfied: referencing>=0.28.4 in /home/dev/ai/idlmav/.venv_temp/lib/python3.10/site-packages (from jsonschema>=2.6->nbformat->idlmav==1.0.4) (0.35.1)\n",
      "Requirement already satisfied: attrs>=22.2.0 in /home/dev/ai/idlmav/.venv_temp/lib/python3.10/site-packages (from jsonschema>=2.6->nbformat->idlmav==1.0.4) (24.3.0)\n",
      "Requirement already satisfied: jsonschema-specifications>=2023.03.6 in /home/dev/ai/idlmav/.venv_temp/lib/python3.10/site-packages (from jsonschema>=2.6->nbformat->idlmav==1.0.4) (2024.10.1)\n",
      "Requirement already satisfied: rpds-py>=0.7.1 in /home/dev/ai/idlmav/.venv_temp/lib/python3.10/site-packages (from jsonschema>=2.6->nbformat->idlmav==1.0.4) (0.22.3)\n",
      "Requirement already satisfied: platformdirs>=2.5 in /home/dev/ai/idlmav/.venv_temp/lib/python3.10/site-packages (from jupyter-core!=5.0.*,>=4.12->nbformat->idlmav==1.0.4) (4.3.6)\n",
      "Requirement already satisfied: pillow!=8.3.*,>=5.3.0 in /home/dev/ai/idlmav/.venv_temp/lib/python3.10/site-packages (from torchvision>=0.4->torchprofile->idlmav==1.0.4) (10.2.0)\n",
      "Requirement already satisfied: MarkupSafe>=2.0 in /home/dev/ai/idlmav/.venv_temp/lib/python3.10/site-packages (from jinja2->torch>=2.3.0->idlmav==1.0.4) (2.1.5)\n",
      "Requirement already satisfied: parso<0.9.0,>=0.8.4 in /home/dev/ai/idlmav/.venv_temp/lib/python3.10/site-packages (from jedi>=0.16->ipython>=6.1.0->ipywidgets->idlmav==1.0.4) (0.8.4)\n",
      "Requirement already satisfied: ptyprocess>=0.5 in /home/dev/ai/idlmav/.venv_temp/lib/python3.10/site-packages (from pexpect>4.3->ipython>=6.1.0->ipywidgets->idlmav==1.0.4) (0.7.0)\n",
      "Requirement already satisfied: wcwidth in /home/dev/ai/idlmav/.venv_temp/lib/python3.10/site-packages (from prompt_toolkit<3.1.0,>=3.0.41->ipython>=6.1.0->ipywidgets->idlmav==1.0.4) (0.2.13)\n",
      "Requirement already satisfied: asttokens>=2.1.0 in /home/dev/ai/idlmav/.venv_temp/lib/python3.10/site-packages (from stack_data->ipython>=6.1.0->ipywidgets->idlmav==1.0.4) (3.0.0)\n",
      "Requirement already satisfied: pure-eval in /home/dev/ai/idlmav/.venv_temp/lib/python3.10/site-packages (from stack_data->ipython>=6.1.0->ipywidgets->idlmav==1.0.4) (0.2.3)\n",
      "Requirement already satisfied: executing>=1.2.0 in /home/dev/ai/idlmav/.venv_temp/lib/python3.10/site-packages (from stack_data->ipython>=6.1.0->ipywidgets->idlmav==1.0.4) (2.1.0)\n",
      "Building wheels for collected packages: idlmav\n",
      "  Building wheel for idlmav (pyproject.toml) ... \u001b[?25ldone\n",
      "\u001b[?25h  Created wheel for idlmav: filename=idlmav-1.0.4-py3-none-any.whl size=36581 sha256=ac0d2124b435cb91dab4274c8ea1dfc7d23e9dff4d409d42758b195bac07028f\n",
      "  Stored in directory: /tmp/pip-ephem-wheel-cache-oqa1_lme/wheels/97/9d/d6/fbe97a64e507f33056fa5fe3fbe10f80d69cc80ddd911255dd\n",
      "Successfully built idlmav\n",
      "Installing collected packages: idlmav\n",
      "  Attempting uninstall: idlmav\n",
      "    Found existing installation: idlmav 1.0.4\n",
      "    Uninstalling idlmav-1.0.4:\n",
      "      Successfully uninstalled idlmav-1.0.4\n",
      "Successfully installed idlmav-1.0.4\n",
      "Note: you may need to restart the kernel to use updated packages.\n"
     ]
    }
   ],
   "source": [
    "%pip install .."
   ]
  },
  {
   "cell_type": "code",
   "execution_count": null,
   "metadata": {},
   "outputs": [
    {
     "data": {
      "text/html": [
       "        <script type=\"text/javascript\">\n",
       "        window.PlotlyConfig = {MathJaxConfig: 'local'};\n",
       "        if (window.MathJax && window.MathJax.Hub && window.MathJax.Hub.Config) {window.MathJax.Hub.Config({SVG: {font: \"STIX-Web\"}});}\n",
       "        if (typeof require !== 'undefined') {\n",
       "        require.undef(\"plotly\");\n",
       "        requirejs.config({\n",
       "            paths: {\n",
       "                'plotly': ['https://cdn.plot.ly/plotly-2.35.2.min']\n",
       "            }\n",
       "        });\n",
       "        require(['plotly'], function(Plotly) {\n",
       "            window._Plotly = Plotly;\n",
       "        });\n",
       "        }\n",
       "        </script>\n",
       "        "
      ]
     },
     "metadata": {},
     "output_type": "display_data"
    },
    {
     "data": {
      "text/html": [
       "<div>                            <div id=\"a3bbe99d-3a13-45bd-94c9-54ba63bac96b\" class=\"plotly-graph-div\" style=\"height:525px; width:100%;\"></div>            <script type=\"text/javascript\">                require([\"plotly\"], function(Plotly) {                    window.PLOTLYENV=window.PLOTLYENV || {};                                    if (document.getElementById(\"a3bbe99d-3a13-45bd-94c9-54ba63bac96b\")) {                    Plotly.newPlot(                        \"a3bbe99d-3a13-45bd-94c9-54ba63bac96b\",                        [{\"customdata\":[[\"x\",\"input\",[16,3,160,160],0,0],[\"conv1\",\"nn.Conv2d\",[16,64,80,80],9408,1926758400],[\"bn1\",\"nn.BatchNorm2d\",[16,64,80,80],128,13107200],[\"relu\",\"nn.ReLU\",[16,64,80,80],0,0],[\"maxpool\",\"nn.MaxPool2d\",[16,64,40,40],0,0],[\"layer1_0_conv1\",\"nn.Conv2d\",[16,64,40,40],36864,1887436800],[\"layer1_0_bn1\",\"nn.BatchNorm2d\",[16,64,40,40],128,3276800],[\"layer1_0_relu\",\"nn.ReLU\",[16,64,40,40],0,0],[\"layer1_0_conv2\",\"nn.Conv2d\",[16,64,40,40],36864,1887436800],[\"layer1_0_bn2\",\"nn.BatchNorm2d\",[16,64,40,40],128,3276800],[\"add\",\"add()\",[16,64,40,40],0,0],[\"layer1_0_relu_1\",\"nn.ReLU\",[16,64,40,40],0,0],[\"layer1_1_conv1\",\"nn.Conv2d\",[16,64,40,40],36864,1887436800],[\"layer1_1_bn1\",\"nn.BatchNorm2d\",[16,64,40,40],128,3276800],[\"layer1_1_relu\",\"nn.ReLU\",[16,64,40,40],0,0],[\"layer1_1_conv2\",\"nn.Conv2d\",[16,64,40,40],36864,1887436800],[\"layer1_1_bn2\",\"nn.BatchNorm2d\",[16,64,40,40],128,3276800],[\"add_1\",\"add()\",[16,64,40,40],0,0],[\"layer1_1_relu_1\",\"nn.ReLU\",[16,64,40,40],0,0],[\"layer2_0_conv1\",\"nn.Conv2d\",[16,128,20,20],73728,943718400],[\"layer2_0_bn1\",\"nn.BatchNorm2d\",[16,128,20,20],256,1638400],[\"layer2_0_relu\",\"nn.ReLU\",[16,128,20,20],0,0],[\"layer2_0_conv2\",\"nn.Conv2d\",[16,128,20,20],147456,1887436800],[\"layer2_0_bn2\",\"nn.BatchNorm2d\",[16,128,20,20],256,1638400],[\"layer2_0_downsample_0\",\"nn.Conv2d\",[16,128,20,20],8192,104857600],[\"layer2_0_downsample_1\",\"nn.BatchNorm2d\",[16,128,20,20],256,1638400],[\"add_2\",\"add()\",[16,128,20,20],0,0],[\"layer2_0_relu_1\",\"nn.ReLU\",[16,128,20,20],0,0],[\"layer2_1_conv1\",\"nn.Conv2d\",[16,128,20,20],147456,1887436800],[\"layer2_1_bn1\",\"nn.BatchNorm2d\",[16,128,20,20],256,1638400],[\"layer2_1_relu\",\"nn.ReLU\",[16,128,20,20],0,0],[\"layer2_1_conv2\",\"nn.Conv2d\",[16,128,20,20],147456,1887436800],[\"layer2_1_bn2\",\"nn.BatchNorm2d\",[16,128,20,20],256,1638400],[\"add_3\",\"add()\",[16,128,20,20],0,0],[\"layer2_1_relu_1\",\"nn.ReLU\",[16,128,20,20],0,0],[\"layer3_0_conv1\",\"nn.Conv2d\",[16,256,10,10],294912,943718400],[\"layer3_0_bn1\",\"nn.BatchNorm2d\",[16,256,10,10],512,819200],[\"layer3_0_relu\",\"nn.ReLU\",[16,256,10,10],0,0],[\"layer3_0_conv2\",\"nn.Conv2d\",[16,256,10,10],589824,1887436800],[\"layer3_0_bn2\",\"nn.BatchNorm2d\",[16,256,10,10],512,819200],[\"layer3_0_downsample_0\",\"nn.Conv2d\",[16,256,10,10],32768,104857600],[\"layer3_0_downsample_1\",\"nn.BatchNorm2d\",[16,256,10,10],512,819200],[\"add_4\",\"add()\",[16,256,10,10],0,0],[\"layer3_0_relu_1\",\"nn.ReLU\",[16,256,10,10],0,0],[\"layer3_1_conv1\",\"nn.Conv2d\",[16,256,10,10],589824,1887436800],[\"layer3_1_bn1\",\"nn.BatchNorm2d\",[16,256,10,10],512,819200],[\"layer3_1_relu\",\"nn.ReLU\",[16,256,10,10],0,0],[\"layer3_1_conv2\",\"nn.Conv2d\",[16,256,10,10],589824,1887436800],[\"layer3_1_bn2\",\"nn.BatchNorm2d\",[16,256,10,10],512,819200],[\"add_5\",\"add()\",[16,256,10,10],0,0],[\"layer3_1_relu_1\",\"nn.ReLU\",[16,256,10,10],0,0],[\"layer4_0_conv1\",\"nn.Conv2d\",[16,512,5,5],1179648,943718400],[\"layer4_0_bn1\",\"nn.BatchNorm2d\",[16,512,5,5],1024,409600],[\"layer4_0_relu\",\"nn.ReLU\",[16,512,5,5],0,0],[\"layer4_0_conv2\",\"nn.Conv2d\",[16,512,5,5],2359296,1887436800],[\"layer4_0_bn2\",\"nn.BatchNorm2d\",[16,512,5,5],1024,409600],[\"layer4_0_downsample_0\",\"nn.Conv2d\",[16,512,5,5],131072,104857600],[\"layer4_0_downsample_1\",\"nn.BatchNorm2d\",[16,512,5,5],1024,409600],[\"add_6\",\"add()\",[16,512,5,5],0,0],[\"layer4_0_relu_1\",\"nn.ReLU\",[16,512,5,5],0,0],[\"layer4_1_conv1\",\"nn.Conv2d\",[16,512,5,5],2359296,1887436800],[\"layer4_1_bn1\",\"nn.BatchNorm2d\",[16,512,5,5],1024,409600],[\"layer4_1_relu\",\"nn.ReLU\",[16,512,5,5],0,0],[\"layer4_1_conv2\",\"nn.Conv2d\",[16,512,5,5],2359296,1887436800],[\"layer4_1_bn2\",\"nn.BatchNorm2d\",[16,512,5,5],1024,409600],[\"add_7\",\"add()\",[16,512,5,5],0,0],[\"layer4_1_relu_1\",\"nn.ReLU\",[16,512,5,5],0,0],[\"avgpool\",\"nn.AdaptiveAvgPool2d\",[16,512,1,1],0,16384],[\"flatten\",\"flatten()\",[16,512],0,0],[\"fc\",\"nn.Linear\",[16,1000],513000,16384000],[\"output\",\"output\",[16,1000],0,0]],\"hovertemplate\":\"Name: %{customdata[0]}\\u003cbr\\u003eOperation: %{customdata[1]}\\u003cbr\\u003eActivations: %{customdata[2]}\\u003cbr\\u003eParameters: %{customdata[3]}\\u003cbr\\u003eFLOPS: %{customdata[4]}\\u003cbr\\u003e\\u003cextra\\u003e\\u003c\\u002fextra\\u003e\",\"marker\":{\"color\":[\"#222A2A\",\"#00A08B\",\"#EB663B\",\"#1616A7\",\"#DA60CA\",\"#00A08B\",\"#EB663B\",\"#1616A7\",\"#00A08B\",\"#EB663B\",\"#778AAE\",\"#1616A7\",\"#00A08B\",\"#EB663B\",\"#1616A7\",\"#00A08B\",\"#EB663B\",\"#778AAE\",\"#1616A7\",\"#00A08B\",\"#EB663B\",\"#1616A7\",\"#00A08B\",\"#EB663B\",\"#00A08B\",\"#EB663B\",\"#778AAE\",\"#1616A7\",\"#00A08B\",\"#EB663B\",\"#1616A7\",\"#00A08B\",\"#EB663B\",\"#778AAE\",\"#1616A7\",\"#00A08B\",\"#EB663B\",\"#1616A7\",\"#00A08B\",\"#EB663B\",\"#00A08B\",\"#EB663B\",\"#778AAE\",\"#1616A7\",\"#00A08B\",\"#EB663B\",\"#1616A7\",\"#00A08B\",\"#EB663B\",\"#778AAE\",\"#1616A7\",\"#00A08B\",\"#EB663B\",\"#1616A7\",\"#00A08B\",\"#EB663B\",\"#00A08B\",\"#EB663B\",\"#778AAE\",\"#1616A7\",\"#00A08B\",\"#EB663B\",\"#1616A7\",\"#00A08B\",\"#EB663B\",\"#778AAE\",\"#1616A7\",\"#DA60CA\",\"#778AAE\",\"#2E91E5\",\"#222A2A\"],\"colorscale\":[[0.0,\"rgb(0,0,255)\"],[1.0,\"rgb(255,0,0)\"]],\"size\":[6.0,11.250279597842884,6.0,6.0,6.0,12.91881573172255,6.0,6.0,12.91881573172255,6.0,6.0,6.0,12.91881573172255,6.0,6.0,12.91881573172255,6.0,6.0,6.0,13.765679776435459,6.846864044712908,6.0,14.612543821148368,6.846864044712908,11.08118426827745,6.846864044712908,6.0,6.0,14.612543821148368,6.846864044712908,6.0,14.612543821148368,6.846864044712908,6.0,6.0,15.459407865861275,7.693728089425816,6.0,16.306271910574182,7.693728089425816,12.774912357703267,7.693728089425816,6.0,6.0,16.306271910574182,7.693728089425816,6.0,16.306271910574182,7.693728089425816,6.0,6.0,17.15313595528709,8.540592134138725,6.0,18.0,8.540592134138725,14.468640447129083,8.540592134138725,6.0,6.0,18.0,8.540592134138725,6.0,18.0,8.540592134138725,6.0,6.0,6.0,6.0,16.13577641297401,6.0]},\"mode\":\"markers\",\"showlegend\":false,\"x\":[0.0,0.0,0.0,0.0,0.0,0.0,0.0,0.0,0.0,0.0,0.0,0.0,0.0,0.0,0.0,0.0,0.0,0.0,0.0,0.0,0.0,0.0,0.0,0.0,1.0,1.0,0.0,0.0,0.0,0.0,0.0,0.0,0.0,0.0,0.0,0.0,0.0,0.0,0.0,0.0,1.0,1.0,0.0,0.0,0.0,0.0,0.0,0.0,0.0,0.0,0.0,0.0,0.0,0.0,0.0,0.0,1.0,1.0,0.0,0.0,0.0,0.0,0.0,0.0,0.0,0.0,0.0,0.0,0.0,0.0,0.0],\"y\":[0,1,1.15,1.3,1.45,2,2.15,2.3,3,3.15,4,4.15,5,5.15,5.3,6,6.15,7,7.15,8,8.15,8.3,9,9.15,9,9.15,10,10.15,11,11.15,11.3,12,12.15,13,13.15,14,14.15,14.3,15,15.15,15,15.15,16,16.15,17,17.15,17.3,18,18.15,19,19.15,20,20.15,20.3,21,21.15,21,21.15,22,22.15,23,23.15,23.3,24,24.15,25,25.15,25.3,25.45,26,27],\"type\":\"scatter\",\"xaxis\":\"x\",\"yaxis\":\"y\"},{\"hoverinfo\":\"skip\",\"line\":{\"color\":\"gray\",\"width\":1},\"mode\":\"lines\",\"showlegend\":false,\"x\":[0.0,0.0,null,0.0,0.0,null,0.0,0.0,null,0.0,0.0,null,0.0,0.0,null,0.0,0.0,null,0.0,0.0,null,0.0,0.0,null,0.0,0.0,null,0.0,0.0,null,0.0,0.4,0.4,0.0,null,0.0,0.0,null,0.0,0.0,null,0.0,0.0,null,0.0,0.0,null,0.0,0.0,null,0.0,0.0,null,0.0,0.0,null,0.0,0.4,0.4,0.0,null,0.0,0.0,null,0.0,0.0,null,0.0,0.0,null,0.0,0.0,null,0.0,0.0,null,0.0,0.0,null,0.0,1.0,null,1.0,1.0,null,0.0,0.0,null,1.0,0.0,null,0.0,0.0,null,0.0,0.0,null,0.0,0.0,null,0.0,0.0,null,0.0,0.0,null,0.0,0.0,null,0.0,0.0,null,0.0,0.4,0.4,0.0,null,0.0,0.0,null,0.0,0.0,null,0.0,0.0,null,0.0,0.0,null,0.0,0.0,null,0.0,0.0,null,0.0,1.0,null,1.0,1.0,null,0.0,0.0,null,1.0,0.0,null,0.0,0.0,null,0.0,0.0,null,0.0,0.0,null,0.0,0.0,null,0.0,0.0,null,0.0,0.0,null,0.0,0.0,null,0.0,0.4,0.4,0.0,null,0.0,0.0,null,0.0,0.0,null,0.0,0.0,null,0.0,0.0,null,0.0,0.0,null,0.0,0.0,null,0.0,1.0,null,1.0,1.0,null,0.0,0.0,null,1.0,0.0,null,0.0,0.0,null,0.0,0.0,null,0.0,0.0,null,0.0,0.0,null,0.0,0.0,null,0.0,0.0,null,0.0,0.0,null,0.0,0.4,0.4,0.0,null,0.0,0.0,null,0.0,0.0,null,0.0,0.0,null,0.0,0.0,null,0.0,0.0],\"y\":[0,1,null,1,1.15,null,1.15,1.3,null,1.3,1.45,null,1.45,2,null,2,2.15,null,2.15,2.3,null,2.3,3,null,3,3.15,null,3.15,4,null,1.45,1.85,3.6,4,null,4,4.15,null,4.15,5,null,5,5.15,null,5.15,5.3,null,5.3,6,null,6,6.15,null,6.15,7,null,4.15,4.550000000000001,6.6,7,null,7,7.15,null,7.15,8,null,8,8.15,null,8.15,8.3,null,8.3,9,null,9,9.15,null,7.15,9,null,9,9.15,null,9.15,10,null,9.15,10,null,10,10.15,null,10.15,11,null,11,11.15,null,11.15,11.3,null,11.3,12,null,12,12.15,null,12.15,13,null,10.15,10.55,12.6,13,null,13,13.15,null,13.15,14,null,14,14.15,null,14.15,14.3,null,14.3,15,null,15,15.15,null,13.15,15,null,15,15.15,null,15.15,16,null,15.15,16,null,16,16.15,null,16.15,17,null,17,17.15,null,17.15,17.3,null,17.3,18,null,18,18.15,null,18.15,19,null,16.15,16.549999999999997,18.6,19,null,19,19.15,null,19.15,20,null,20,20.15,null,20.15,20.3,null,20.3,21,null,21,21.15,null,19.15,21,null,21,21.15,null,21.15,22,null,21.15,22,null,22,22.15,null,22.15,23,null,23,23.15,null,23.15,23.3,null,23.3,24,null,24,24.15,null,24.15,25,null,22.15,22.549999999999997,24.6,25,null,25,25.15,null,25.15,25.3,null,25.3,25.45,null,25.45,26,null,26,27],\"type\":\"scatter\",\"xaxis\":\"x\",\"yaxis\":\"y\"},{\"cells\":{\"align\":\"left\",\"values\":[[\"x\",\"conv1\",\"bn1\",\"relu\",\"maxpool\",\"layer1_0_conv1\",\"layer1_0_bn1\",\"layer1_0_relu\",\"layer1_0_conv2\",\"layer1_0_bn2\",\"add\",\"layer1_0_relu_1\",\"layer1_1_conv1\",\"layer1_1_bn1\",\"layer1_1_relu\",\"layer1_1_conv2\",\"layer1_1_bn2\",\"add_1\",\"layer1_1_relu_1\",\"layer2_0_conv1\",\"layer2_0_bn1\",\"layer2_0_relu\",\"layer2_0_conv2\",\"layer2_0_bn2\",\"layer2_0_downsample_0\",\"layer2_0_downsample_1\",\"add_2\",\"layer2_0_relu_1\",\"layer2_1_conv1\",\"layer2_1_bn1\",\"layer2_1_relu\",\"layer2_1_conv2\",\"layer2_1_bn2\",\"add_3\",\"layer2_1_relu_1\",\"layer3_0_conv1\",\"layer3_0_bn1\",\"layer3_0_relu\",\"layer3_0_conv2\",\"layer3_0_bn2\",\"layer3_0_downsample_0\",\"layer3_0_downsample_1\",\"add_4\",\"layer3_0_relu_1\",\"layer3_1_conv1\",\"layer3_1_bn1\",\"layer3_1_relu\",\"layer3_1_conv2\",\"layer3_1_bn2\",\"add_5\",\"layer3_1_relu_1\",\"layer4_0_conv1\",\"layer4_0_bn1\",\"layer4_0_relu\",\"layer4_0_conv2\",\"layer4_0_bn2\",\"layer4_0_downsample_0\",\"layer4_0_downsample_1\",\"add_6\",\"layer4_0_relu_1\",\"layer4_1_conv1\",\"layer4_1_bn1\",\"layer4_1_relu\",\"layer4_1_conv2\",\"layer4_1_bn2\",\"add_7\",\"layer4_1_relu_1\",\"avgpool\",\"flatten\",\"fc\",\"output\"],[\"input\",\"nn.Conv2d\",\"nn.BatchNorm2d\",\"nn.ReLU\",\"nn.MaxPool2d\",\"nn.Conv2d\",\"nn.BatchNorm2d\",\"nn.ReLU\",\"nn.Conv2d\",\"nn.BatchNorm2d\",\"add()\",\"nn.ReLU\",\"nn.Conv2d\",\"nn.BatchNorm2d\",\"nn.ReLU\",\"nn.Conv2d\",\"nn.BatchNorm2d\",\"add()\",\"nn.ReLU\",\"nn.Conv2d\",\"nn.BatchNorm2d\",\"nn.ReLU\",\"nn.Conv2d\",\"nn.BatchNorm2d\",\"nn.Conv2d\",\"nn.BatchNorm2d\",\"add()\",\"nn.ReLU\",\"nn.Conv2d\",\"nn.BatchNorm2d\",\"nn.ReLU\",\"nn.Conv2d\",\"nn.BatchNorm2d\",\"add()\",\"nn.ReLU\",\"nn.Conv2d\",\"nn.BatchNorm2d\",\"nn.ReLU\",\"nn.Conv2d\",\"nn.BatchNorm2d\",\"nn.Conv2d\",\"nn.BatchNorm2d\",\"add()\",\"nn.ReLU\",\"nn.Conv2d\",\"nn.BatchNorm2d\",\"nn.ReLU\",\"nn.Conv2d\",\"nn.BatchNorm2d\",\"add()\",\"nn.ReLU\",\"nn.Conv2d\",\"nn.BatchNorm2d\",\"nn.ReLU\",\"nn.Conv2d\",\"nn.BatchNorm2d\",\"nn.Conv2d\",\"nn.BatchNorm2d\",\"add()\",\"nn.ReLU\",\"nn.Conv2d\",\"nn.BatchNorm2d\",\"nn.ReLU\",\"nn.Conv2d\",\"nn.BatchNorm2d\",\"add()\",\"nn.ReLU\",\"nn.AdaptiveAvgPool2d\",\"flatten()\",\"nn.Linear\",\"output\"],[[16,3,160,160],[16,64,80,80],[16,64,80,80],[16,64,80,80],[16,64,40,40],[16,64,40,40],[16,64,40,40],[16,64,40,40],[16,64,40,40],[16,64,40,40],[16,64,40,40],[16,64,40,40],[16,64,40,40],[16,64,40,40],[16,64,40,40],[16,64,40,40],[16,64,40,40],[16,64,40,40],[16,64,40,40],[16,128,20,20],[16,128,20,20],[16,128,20,20],[16,128,20,20],[16,128,20,20],[16,128,20,20],[16,128,20,20],[16,128,20,20],[16,128,20,20],[16,128,20,20],[16,128,20,20],[16,128,20,20],[16,128,20,20],[16,128,20,20],[16,128,20,20],[16,128,20,20],[16,256,10,10],[16,256,10,10],[16,256,10,10],[16,256,10,10],[16,256,10,10],[16,256,10,10],[16,256,10,10],[16,256,10,10],[16,256,10,10],[16,256,10,10],[16,256,10,10],[16,256,10,10],[16,256,10,10],[16,256,10,10],[16,256,10,10],[16,256,10,10],[16,512,5,5],[16,512,5,5],[16,512,5,5],[16,512,5,5],[16,512,5,5],[16,512,5,5],[16,512,5,5],[16,512,5,5],[16,512,5,5],[16,512,5,5],[16,512,5,5],[16,512,5,5],[16,512,5,5],[16,512,5,5],[16,512,5,5],[16,512,5,5],[16,512,1,1],[16,512],[16,1000],[16,1000]],[0,9408,128,0,0,36864,128,0,36864,128,0,0,36864,128,0,36864,128,0,0,73728,256,0,147456,256,8192,256,0,0,147456,256,0,147456,256,0,0,294912,512,0,589824,512,32768,512,0,0,589824,512,0,589824,512,0,0,1179648,1024,0,2359296,1024,131072,1024,0,0,2359296,1024,0,2359296,1024,0,0,0,0,513000,0],[0,1926758400,13107200,0,0,1887436800,3276800,0,1887436800,3276800,0,0,1887436800,3276800,0,1887436800,3276800,0,0,943718400,1638400,0,1887436800,1638400,104857600,1638400,0,0,1887436800,1638400,0,1887436800,1638400,0,0,943718400,819200,0,1887436800,819200,104857600,819200,0,0,1887436800,819200,0,1887436800,819200,0,0,943718400,409600,0,1887436800,409600,104857600,409600,0,0,1887436800,409600,0,1887436800,409600,0,0,16384,0,16384000,0]]},\"header\":{\"align\":\"left\",\"font\":{\"size\":10},\"values\":[\"Name\",\"Operation\",\"Activations\",\"Params\",\"FLOPS\"]},\"type\":\"table\",\"domain\":{\"x\":[0.26363636363636367,1.0],\"y\":[0.0,1.0]}}],                        {\"template\":{\"data\":{\"histogram2dcontour\":[{\"type\":\"histogram2dcontour\",\"colorbar\":{\"outlinewidth\":0,\"ticks\":\"\"},\"colorscale\":[[0.0,\"#0d0887\"],[0.1111111111111111,\"#46039f\"],[0.2222222222222222,\"#7201a8\"],[0.3333333333333333,\"#9c179e\"],[0.4444444444444444,\"#bd3786\"],[0.5555555555555556,\"#d8576b\"],[0.6666666666666666,\"#ed7953\"],[0.7777777777777778,\"#fb9f3a\"],[0.8888888888888888,\"#fdca26\"],[1.0,\"#f0f921\"]]}],\"choropleth\":[{\"type\":\"choropleth\",\"colorbar\":{\"outlinewidth\":0,\"ticks\":\"\"}}],\"histogram2d\":[{\"type\":\"histogram2d\",\"colorbar\":{\"outlinewidth\":0,\"ticks\":\"\"},\"colorscale\":[[0.0,\"#0d0887\"],[0.1111111111111111,\"#46039f\"],[0.2222222222222222,\"#7201a8\"],[0.3333333333333333,\"#9c179e\"],[0.4444444444444444,\"#bd3786\"],[0.5555555555555556,\"#d8576b\"],[0.6666666666666666,\"#ed7953\"],[0.7777777777777778,\"#fb9f3a\"],[0.8888888888888888,\"#fdca26\"],[1.0,\"#f0f921\"]]}],\"heatmap\":[{\"type\":\"heatmap\",\"colorbar\":{\"outlinewidth\":0,\"ticks\":\"\"},\"colorscale\":[[0.0,\"#0d0887\"],[0.1111111111111111,\"#46039f\"],[0.2222222222222222,\"#7201a8\"],[0.3333333333333333,\"#9c179e\"],[0.4444444444444444,\"#bd3786\"],[0.5555555555555556,\"#d8576b\"],[0.6666666666666666,\"#ed7953\"],[0.7777777777777778,\"#fb9f3a\"],[0.8888888888888888,\"#fdca26\"],[1.0,\"#f0f921\"]]}],\"heatmapgl\":[{\"type\":\"heatmapgl\",\"colorbar\":{\"outlinewidth\":0,\"ticks\":\"\"},\"colorscale\":[[0.0,\"#0d0887\"],[0.1111111111111111,\"#46039f\"],[0.2222222222222222,\"#7201a8\"],[0.3333333333333333,\"#9c179e\"],[0.4444444444444444,\"#bd3786\"],[0.5555555555555556,\"#d8576b\"],[0.6666666666666666,\"#ed7953\"],[0.7777777777777778,\"#fb9f3a\"],[0.8888888888888888,\"#fdca26\"],[1.0,\"#f0f921\"]]}],\"contourcarpet\":[{\"type\":\"contourcarpet\",\"colorbar\":{\"outlinewidth\":0,\"ticks\":\"\"}}],\"contour\":[{\"type\":\"contour\",\"colorbar\":{\"outlinewidth\":0,\"ticks\":\"\"},\"colorscale\":[[0.0,\"#0d0887\"],[0.1111111111111111,\"#46039f\"],[0.2222222222222222,\"#7201a8\"],[0.3333333333333333,\"#9c179e\"],[0.4444444444444444,\"#bd3786\"],[0.5555555555555556,\"#d8576b\"],[0.6666666666666666,\"#ed7953\"],[0.7777777777777778,\"#fb9f3a\"],[0.8888888888888888,\"#fdca26\"],[1.0,\"#f0f921\"]]}],\"surface\":[{\"type\":\"surface\",\"colorbar\":{\"outlinewidth\":0,\"ticks\":\"\"},\"colorscale\":[[0.0,\"#0d0887\"],[0.1111111111111111,\"#46039f\"],[0.2222222222222222,\"#7201a8\"],[0.3333333333333333,\"#9c179e\"],[0.4444444444444444,\"#bd3786\"],[0.5555555555555556,\"#d8576b\"],[0.6666666666666666,\"#ed7953\"],[0.7777777777777778,\"#fb9f3a\"],[0.8888888888888888,\"#fdca26\"],[1.0,\"#f0f921\"]]}],\"mesh3d\":[{\"type\":\"mesh3d\",\"colorbar\":{\"outlinewidth\":0,\"ticks\":\"\"}}],\"scatter\":[{\"fillpattern\":{\"fillmode\":\"overlay\",\"size\":10,\"solidity\":0.2},\"type\":\"scatter\"}],\"parcoords\":[{\"type\":\"parcoords\",\"line\":{\"colorbar\":{\"outlinewidth\":0,\"ticks\":\"\"}}}],\"scatterpolargl\":[{\"type\":\"scatterpolargl\",\"marker\":{\"colorbar\":{\"outlinewidth\":0,\"ticks\":\"\"}}}],\"bar\":[{\"error_x\":{\"color\":\"#2a3f5f\"},\"error_y\":{\"color\":\"#2a3f5f\"},\"marker\":{\"line\":{\"color\":\"#E5ECF6\",\"width\":0.5},\"pattern\":{\"fillmode\":\"overlay\",\"size\":10,\"solidity\":0.2}},\"type\":\"bar\"}],\"scattergeo\":[{\"type\":\"scattergeo\",\"marker\":{\"colorbar\":{\"outlinewidth\":0,\"ticks\":\"\"}}}],\"scatterpolar\":[{\"type\":\"scatterpolar\",\"marker\":{\"colorbar\":{\"outlinewidth\":0,\"ticks\":\"\"}}}],\"histogram\":[{\"marker\":{\"pattern\":{\"fillmode\":\"overlay\",\"size\":10,\"solidity\":0.2}},\"type\":\"histogram\"}],\"scattergl\":[{\"type\":\"scattergl\",\"marker\":{\"colorbar\":{\"outlinewidth\":0,\"ticks\":\"\"}}}],\"scatter3d\":[{\"type\":\"scatter3d\",\"line\":{\"colorbar\":{\"outlinewidth\":0,\"ticks\":\"\"}},\"marker\":{\"colorbar\":{\"outlinewidth\":0,\"ticks\":\"\"}}}],\"scattermapbox\":[{\"type\":\"scattermapbox\",\"marker\":{\"colorbar\":{\"outlinewidth\":0,\"ticks\":\"\"}}}],\"scatterternary\":[{\"type\":\"scatterternary\",\"marker\":{\"colorbar\":{\"outlinewidth\":0,\"ticks\":\"\"}}}],\"scattercarpet\":[{\"type\":\"scattercarpet\",\"marker\":{\"colorbar\":{\"outlinewidth\":0,\"ticks\":\"\"}}}],\"carpet\":[{\"aaxis\":{\"endlinecolor\":\"#2a3f5f\",\"gridcolor\":\"white\",\"linecolor\":\"white\",\"minorgridcolor\":\"white\",\"startlinecolor\":\"#2a3f5f\"},\"baxis\":{\"endlinecolor\":\"#2a3f5f\",\"gridcolor\":\"white\",\"linecolor\":\"white\",\"minorgridcolor\":\"white\",\"startlinecolor\":\"#2a3f5f\"},\"type\":\"carpet\"}],\"table\":[{\"cells\":{\"fill\":{\"color\":\"#EBF0F8\"},\"line\":{\"color\":\"white\"}},\"header\":{\"fill\":{\"color\":\"#C8D4E3\"},\"line\":{\"color\":\"white\"}},\"type\":\"table\"}],\"barpolar\":[{\"marker\":{\"line\":{\"color\":\"#E5ECF6\",\"width\":0.5},\"pattern\":{\"fillmode\":\"overlay\",\"size\":10,\"solidity\":0.2}},\"type\":\"barpolar\"}],\"pie\":[{\"automargin\":true,\"type\":\"pie\"}]},\"layout\":{\"autotypenumbers\":\"strict\",\"colorway\":[\"#636efa\",\"#EF553B\",\"#00cc96\",\"#ab63fa\",\"#FFA15A\",\"#19d3f3\",\"#FF6692\",\"#B6E880\",\"#FF97FF\",\"#FECB52\"],\"font\":{\"color\":\"#2a3f5f\"},\"hovermode\":\"closest\",\"hoverlabel\":{\"align\":\"left\"},\"paper_bgcolor\":\"white\",\"plot_bgcolor\":\"#E5ECF6\",\"polar\":{\"bgcolor\":\"#E5ECF6\",\"angularaxis\":{\"gridcolor\":\"white\",\"linecolor\":\"white\",\"ticks\":\"\"},\"radialaxis\":{\"gridcolor\":\"white\",\"linecolor\":\"white\",\"ticks\":\"\"}},\"ternary\":{\"bgcolor\":\"#E5ECF6\",\"aaxis\":{\"gridcolor\":\"white\",\"linecolor\":\"white\",\"ticks\":\"\"},\"baxis\":{\"gridcolor\":\"white\",\"linecolor\":\"white\",\"ticks\":\"\"},\"caxis\":{\"gridcolor\":\"white\",\"linecolor\":\"white\",\"ticks\":\"\"}},\"coloraxis\":{\"colorbar\":{\"outlinewidth\":0,\"ticks\":\"\"}},\"colorscale\":{\"sequential\":[[0.0,\"#0d0887\"],[0.1111111111111111,\"#46039f\"],[0.2222222222222222,\"#7201a8\"],[0.3333333333333333,\"#9c179e\"],[0.4444444444444444,\"#bd3786\"],[0.5555555555555556,\"#d8576b\"],[0.6666666666666666,\"#ed7953\"],[0.7777777777777778,\"#fb9f3a\"],[0.8888888888888888,\"#fdca26\"],[1.0,\"#f0f921\"]],\"sequentialminus\":[[0.0,\"#0d0887\"],[0.1111111111111111,\"#46039f\"],[0.2222222222222222,\"#7201a8\"],[0.3333333333333333,\"#9c179e\"],[0.4444444444444444,\"#bd3786\"],[0.5555555555555556,\"#d8576b\"],[0.6666666666666666,\"#ed7953\"],[0.7777777777777778,\"#fb9f3a\"],[0.8888888888888888,\"#fdca26\"],[1.0,\"#f0f921\"]],\"diverging\":[[0,\"#8e0152\"],[0.1,\"#c51b7d\"],[0.2,\"#de77ae\"],[0.3,\"#f1b6da\"],[0.4,\"#fde0ef\"],[0.5,\"#f7f7f7\"],[0.6,\"#e6f5d0\"],[0.7,\"#b8e186\"],[0.8,\"#7fbc41\"],[0.9,\"#4d9221\"],[1,\"#276419\"]]},\"xaxis\":{\"gridcolor\":\"white\",\"linecolor\":\"white\",\"ticks\":\"\",\"title\":{\"standoff\":15},\"zerolinecolor\":\"white\",\"automargin\":true,\"zerolinewidth\":2},\"yaxis\":{\"gridcolor\":\"white\",\"linecolor\":\"white\",\"ticks\":\"\",\"title\":{\"standoff\":15},\"zerolinecolor\":\"white\",\"automargin\":true,\"zerolinewidth\":2},\"scene\":{\"xaxis\":{\"backgroundcolor\":\"#E5ECF6\",\"gridcolor\":\"white\",\"linecolor\":\"white\",\"showbackground\":true,\"ticks\":\"\",\"zerolinecolor\":\"white\",\"gridwidth\":2},\"yaxis\":{\"backgroundcolor\":\"#E5ECF6\",\"gridcolor\":\"white\",\"linecolor\":\"white\",\"showbackground\":true,\"ticks\":\"\",\"zerolinecolor\":\"white\",\"gridwidth\":2},\"zaxis\":{\"backgroundcolor\":\"#E5ECF6\",\"gridcolor\":\"white\",\"linecolor\":\"white\",\"showbackground\":true,\"ticks\":\"\",\"zerolinecolor\":\"white\",\"gridwidth\":2}},\"shapedefaults\":{\"line\":{\"color\":\"#2a3f5f\"}},\"annotationdefaults\":{\"arrowcolor\":\"#2a3f5f\",\"arrowhead\":0,\"arrowwidth\":1},\"geo\":{\"bgcolor\":\"white\",\"landcolor\":\"#E5ECF6\",\"subunitcolor\":\"white\",\"showland\":true,\"showlakes\":true,\"lakecolor\":\"white\"},\"title\":{\"x\":0.05},\"mapbox\":{\"style\":\"light\"}}},\"xaxis\":{\"anchor\":\"y\",\"domain\":[0.0,0.16363636363636364],\"showgrid\":false,\"zeroline\":false,\"tickmode\":\"array\",\"tickvals\":[]},\"yaxis\":{\"anchor\":\"x\",\"domain\":[0.0,1.0],\"showgrid\":false,\"zeroline\":false,\"tickmode\":\"array\",\"tickvals\":[],\"range\":[9.5,-0.5]},\"sliders\":[{\"active\":0,\"currentvalue\":{\"visible\":false},\"pad\":{\"t\":50},\"steps\":[{\"args\":[{\"yaxis\":{\"range\":[9.5,-0.5],\"showgrid\":false,\"zeroline\":false,\"tickmode\":\"array\",\"tickvals\":[]}}],\"label\":\"\",\"method\":\"relayout\"},{\"args\":[{\"yaxis\":{\"range\":[9.6,-0.4],\"showgrid\":false,\"zeroline\":false,\"tickmode\":\"array\",\"tickvals\":[]}}],\"label\":\"\",\"method\":\"relayout\"},{\"args\":[{\"yaxis\":{\"range\":[9.7,-0.3],\"showgrid\":false,\"zeroline\":false,\"tickmode\":\"array\",\"tickvals\":[]}}],\"label\":\"\",\"method\":\"relayout\"},{\"args\":[{\"yaxis\":{\"range\":[9.8,-0.19999999999999996],\"showgrid\":false,\"zeroline\":false,\"tickmode\":\"array\",\"tickvals\":[]}}],\"label\":\"\",\"method\":\"relayout\"},{\"args\":[{\"yaxis\":{\"range\":[9.9,-0.09999999999999998],\"showgrid\":false,\"zeroline\":false,\"tickmode\":\"array\",\"tickvals\":[]}}],\"label\":\"\",\"method\":\"relayout\"},{\"args\":[{\"yaxis\":{\"range\":[10.0,0.0],\"showgrid\":false,\"zeroline\":false,\"tickmode\":\"array\",\"tickvals\":[]}}],\"label\":\"\",\"method\":\"relayout\"},{\"args\":[{\"yaxis\":{\"range\":[10.1,0.10000000000000009],\"showgrid\":false,\"zeroline\":false,\"tickmode\":\"array\",\"tickvals\":[]}}],\"label\":\"\",\"method\":\"relayout\"},{\"args\":[{\"yaxis\":{\"range\":[10.2,0.20000000000000007],\"showgrid\":false,\"zeroline\":false,\"tickmode\":\"array\",\"tickvals\":[]}}],\"label\":\"\",\"method\":\"relayout\"},{\"args\":[{\"yaxis\":{\"range\":[10.3,0.30000000000000004],\"showgrid\":false,\"zeroline\":false,\"tickmode\":\"array\",\"tickvals\":[]}}],\"label\":\"\",\"method\":\"relayout\"},{\"args\":[{\"yaxis\":{\"range\":[10.4,0.4],\"showgrid\":false,\"zeroline\":false,\"tickmode\":\"array\",\"tickvals\":[]}}],\"label\":\"\",\"method\":\"relayout\"},{\"args\":[{\"yaxis\":{\"range\":[10.5,0.5],\"showgrid\":false,\"zeroline\":false,\"tickmode\":\"array\",\"tickvals\":[]}}],\"label\":\"\",\"method\":\"relayout\"},{\"args\":[{\"yaxis\":{\"range\":[10.6,0.6000000000000001],\"showgrid\":false,\"zeroline\":false,\"tickmode\":\"array\",\"tickvals\":[]}}],\"label\":\"\",\"method\":\"relayout\"},{\"args\":[{\"yaxis\":{\"range\":[10.7,0.7000000000000002],\"showgrid\":false,\"zeroline\":false,\"tickmode\":\"array\",\"tickvals\":[]}}],\"label\":\"\",\"method\":\"relayout\"},{\"args\":[{\"yaxis\":{\"range\":[10.8,0.8],\"showgrid\":false,\"zeroline\":false,\"tickmode\":\"array\",\"tickvals\":[]}}],\"label\":\"\",\"method\":\"relayout\"},{\"args\":[{\"yaxis\":{\"range\":[10.9,0.9000000000000001],\"showgrid\":false,\"zeroline\":false,\"tickmode\":\"array\",\"tickvals\":[]}}],\"label\":\"\",\"method\":\"relayout\"},{\"args\":[{\"yaxis\":{\"range\":[11.0,1.0],\"showgrid\":false,\"zeroline\":false,\"tickmode\":\"array\",\"tickvals\":[]}}],\"label\":\"\",\"method\":\"relayout\"},{\"args\":[{\"yaxis\":{\"range\":[11.1,1.1],\"showgrid\":false,\"zeroline\":false,\"tickmode\":\"array\",\"tickvals\":[]}}],\"label\":\"\",\"method\":\"relayout\"},{\"args\":[{\"yaxis\":{\"range\":[11.2,1.2000000000000002],\"showgrid\":false,\"zeroline\":false,\"tickmode\":\"array\",\"tickvals\":[]}}],\"label\":\"\",\"method\":\"relayout\"},{\"args\":[{\"yaxis\":{\"range\":[11.3,1.3],\"showgrid\":false,\"zeroline\":false,\"tickmode\":\"array\",\"tickvals\":[]}}],\"label\":\"\",\"method\":\"relayout\"},{\"args\":[{\"yaxis\":{\"range\":[11.4,1.4000000000000001],\"showgrid\":false,\"zeroline\":false,\"tickmode\":\"array\",\"tickvals\":[]}}],\"label\":\"\",\"method\":\"relayout\"},{\"args\":[{\"yaxis\":{\"range\":[11.5,1.5],\"showgrid\":false,\"zeroline\":false,\"tickmode\":\"array\",\"tickvals\":[]}}],\"label\":\"\",\"method\":\"relayout\"},{\"args\":[{\"yaxis\":{\"range\":[11.6,1.6],\"showgrid\":false,\"zeroline\":false,\"tickmode\":\"array\",\"tickvals\":[]}}],\"label\":\"\",\"method\":\"relayout\"},{\"args\":[{\"yaxis\":{\"range\":[11.7,1.7000000000000002],\"showgrid\":false,\"zeroline\":false,\"tickmode\":\"array\",\"tickvals\":[]}}],\"label\":\"\",\"method\":\"relayout\"},{\"args\":[{\"yaxis\":{\"range\":[11.8,1.8000000000000003],\"showgrid\":false,\"zeroline\":false,\"tickmode\":\"array\",\"tickvals\":[]}}],\"label\":\"\",\"method\":\"relayout\"},{\"args\":[{\"yaxis\":{\"range\":[11.9,1.9000000000000004],\"showgrid\":false,\"zeroline\":false,\"tickmode\":\"array\",\"tickvals\":[]}}],\"label\":\"\",\"method\":\"relayout\"},{\"args\":[{\"yaxis\":{\"range\":[12.0,2.0],\"showgrid\":false,\"zeroline\":false,\"tickmode\":\"array\",\"tickvals\":[]}}],\"label\":\"\",\"method\":\"relayout\"},{\"args\":[{\"yaxis\":{\"range\":[12.1,2.1],\"showgrid\":false,\"zeroline\":false,\"tickmode\":\"array\",\"tickvals\":[]}}],\"label\":\"\",\"method\":\"relayout\"},{\"args\":[{\"yaxis\":{\"range\":[12.2,2.2],\"showgrid\":false,\"zeroline\":false,\"tickmode\":\"array\",\"tickvals\":[]}}],\"label\":\"\",\"method\":\"relayout\"},{\"args\":[{\"yaxis\":{\"range\":[12.3,2.3000000000000003],\"showgrid\":false,\"zeroline\":false,\"tickmode\":\"array\",\"tickvals\":[]}}],\"label\":\"\",\"method\":\"relayout\"},{\"args\":[{\"yaxis\":{\"range\":[12.4,2.4000000000000004],\"showgrid\":false,\"zeroline\":false,\"tickmode\":\"array\",\"tickvals\":[]}}],\"label\":\"\",\"method\":\"relayout\"},{\"args\":[{\"yaxis\":{\"range\":[12.5,2.5],\"showgrid\":false,\"zeroline\":false,\"tickmode\":\"array\",\"tickvals\":[]}}],\"label\":\"\",\"method\":\"relayout\"},{\"args\":[{\"yaxis\":{\"range\":[12.6,2.6],\"showgrid\":false,\"zeroline\":false,\"tickmode\":\"array\",\"tickvals\":[]}}],\"label\":\"\",\"method\":\"relayout\"},{\"args\":[{\"yaxis\":{\"range\":[12.7,2.7],\"showgrid\":false,\"zeroline\":false,\"tickmode\":\"array\",\"tickvals\":[]}}],\"label\":\"\",\"method\":\"relayout\"},{\"args\":[{\"yaxis\":{\"range\":[12.8,2.8000000000000003],\"showgrid\":false,\"zeroline\":false,\"tickmode\":\"array\",\"tickvals\":[]}}],\"label\":\"\",\"method\":\"relayout\"},{\"args\":[{\"yaxis\":{\"range\":[12.9,2.9000000000000004],\"showgrid\":false,\"zeroline\":false,\"tickmode\":\"array\",\"tickvals\":[]}}],\"label\":\"\",\"method\":\"relayout\"},{\"args\":[{\"yaxis\":{\"range\":[13.0,3.0],\"showgrid\":false,\"zeroline\":false,\"tickmode\":\"array\",\"tickvals\":[]}}],\"label\":\"\",\"method\":\"relayout\"},{\"args\":[{\"yaxis\":{\"range\":[13.1,3.1],\"showgrid\":false,\"zeroline\":false,\"tickmode\":\"array\",\"tickvals\":[]}}],\"label\":\"\",\"method\":\"relayout\"},{\"args\":[{\"yaxis\":{\"range\":[13.2,3.2],\"showgrid\":false,\"zeroline\":false,\"tickmode\":\"array\",\"tickvals\":[]}}],\"label\":\"\",\"method\":\"relayout\"},{\"args\":[{\"yaxis\":{\"range\":[13.3,3.3000000000000003],\"showgrid\":false,\"zeroline\":false,\"tickmode\":\"array\",\"tickvals\":[]}}],\"label\":\"\",\"method\":\"relayout\"},{\"args\":[{\"yaxis\":{\"range\":[13.4,3.4000000000000004],\"showgrid\":false,\"zeroline\":false,\"tickmode\":\"array\",\"tickvals\":[]}}],\"label\":\"\",\"method\":\"relayout\"},{\"args\":[{\"yaxis\":{\"range\":[13.5,3.5],\"showgrid\":false,\"zeroline\":false,\"tickmode\":\"array\",\"tickvals\":[]}}],\"label\":\"\",\"method\":\"relayout\"},{\"args\":[{\"yaxis\":{\"range\":[13.600000000000001,3.6000000000000005],\"showgrid\":false,\"zeroline\":false,\"tickmode\":\"array\",\"tickvals\":[]}}],\"label\":\"\",\"method\":\"relayout\"},{\"args\":[{\"yaxis\":{\"range\":[13.7,3.7],\"showgrid\":false,\"zeroline\":false,\"tickmode\":\"array\",\"tickvals\":[]}}],\"label\":\"\",\"method\":\"relayout\"},{\"args\":[{\"yaxis\":{\"range\":[13.8,3.8],\"showgrid\":false,\"zeroline\":false,\"tickmode\":\"array\",\"tickvals\":[]}}],\"label\":\"\",\"method\":\"relayout\"},{\"args\":[{\"yaxis\":{\"range\":[13.9,3.9000000000000004],\"showgrid\":false,\"zeroline\":false,\"tickmode\":\"array\",\"tickvals\":[]}}],\"label\":\"\",\"method\":\"relayout\"},{\"args\":[{\"yaxis\":{\"range\":[14.0,4.0],\"showgrid\":false,\"zeroline\":false,\"tickmode\":\"array\",\"tickvals\":[]}}],\"label\":\"\",\"method\":\"relayout\"},{\"args\":[{\"yaxis\":{\"range\":[14.100000000000001,4.1000000000000005],\"showgrid\":false,\"zeroline\":false,\"tickmode\":\"array\",\"tickvals\":[]}}],\"label\":\"\",\"method\":\"relayout\"},{\"args\":[{\"yaxis\":{\"range\":[14.2,4.2],\"showgrid\":false,\"zeroline\":false,\"tickmode\":\"array\",\"tickvals\":[]}}],\"label\":\"\",\"method\":\"relayout\"},{\"args\":[{\"yaxis\":{\"range\":[14.3,4.300000000000001],\"showgrid\":false,\"zeroline\":false,\"tickmode\":\"array\",\"tickvals\":[]}}],\"label\":\"\",\"method\":\"relayout\"},{\"args\":[{\"yaxis\":{\"range\":[14.4,4.4],\"showgrid\":false,\"zeroline\":false,\"tickmode\":\"array\",\"tickvals\":[]}}],\"label\":\"\",\"method\":\"relayout\"},{\"args\":[{\"yaxis\":{\"range\":[14.5,4.5],\"showgrid\":false,\"zeroline\":false,\"tickmode\":\"array\",\"tickvals\":[]}}],\"label\":\"\",\"method\":\"relayout\"},{\"args\":[{\"yaxis\":{\"range\":[14.600000000000001,4.6000000000000005],\"showgrid\":false,\"zeroline\":false,\"tickmode\":\"array\",\"tickvals\":[]}}],\"label\":\"\",\"method\":\"relayout\"},{\"args\":[{\"yaxis\":{\"range\":[14.7,4.7],\"showgrid\":false,\"zeroline\":false,\"tickmode\":\"array\",\"tickvals\":[]}}],\"label\":\"\",\"method\":\"relayout\"},{\"args\":[{\"yaxis\":{\"range\":[14.8,4.800000000000001],\"showgrid\":false,\"zeroline\":false,\"tickmode\":\"array\",\"tickvals\":[]}}],\"label\":\"\",\"method\":\"relayout\"},{\"args\":[{\"yaxis\":{\"range\":[14.9,4.9],\"showgrid\":false,\"zeroline\":false,\"tickmode\":\"array\",\"tickvals\":[]}}],\"label\":\"\",\"method\":\"relayout\"},{\"args\":[{\"yaxis\":{\"range\":[15.0,5.0],\"showgrid\":false,\"zeroline\":false,\"tickmode\":\"array\",\"tickvals\":[]}}],\"label\":\"\",\"method\":\"relayout\"},{\"args\":[{\"yaxis\":{\"range\":[15.100000000000001,5.1000000000000005],\"showgrid\":false,\"zeroline\":false,\"tickmode\":\"array\",\"tickvals\":[]}}],\"label\":\"\",\"method\":\"relayout\"},{\"args\":[{\"yaxis\":{\"range\":[15.2,5.2],\"showgrid\":false,\"zeroline\":false,\"tickmode\":\"array\",\"tickvals\":[]}}],\"label\":\"\",\"method\":\"relayout\"},{\"args\":[{\"yaxis\":{\"range\":[15.3,5.300000000000001],\"showgrid\":false,\"zeroline\":false,\"tickmode\":\"array\",\"tickvals\":[]}}],\"label\":\"\",\"method\":\"relayout\"},{\"args\":[{\"yaxis\":{\"range\":[15.4,5.4],\"showgrid\":false,\"zeroline\":false,\"tickmode\":\"array\",\"tickvals\":[]}}],\"label\":\"\",\"method\":\"relayout\"},{\"args\":[{\"yaxis\":{\"range\":[15.5,5.5],\"showgrid\":false,\"zeroline\":false,\"tickmode\":\"array\",\"tickvals\":[]}}],\"label\":\"\",\"method\":\"relayout\"},{\"args\":[{\"yaxis\":{\"range\":[15.600000000000001,5.6000000000000005],\"showgrid\":false,\"zeroline\":false,\"tickmode\":\"array\",\"tickvals\":[]}}],\"label\":\"\",\"method\":\"relayout\"},{\"args\":[{\"yaxis\":{\"range\":[15.7,5.7],\"showgrid\":false,\"zeroline\":false,\"tickmode\":\"array\",\"tickvals\":[]}}],\"label\":\"\",\"method\":\"relayout\"},{\"args\":[{\"yaxis\":{\"range\":[15.8,5.800000000000001],\"showgrid\":false,\"zeroline\":false,\"tickmode\":\"array\",\"tickvals\":[]}}],\"label\":\"\",\"method\":\"relayout\"},{\"args\":[{\"yaxis\":{\"range\":[15.899999999999999,5.9],\"showgrid\":false,\"zeroline\":false,\"tickmode\":\"array\",\"tickvals\":[]}}],\"label\":\"\",\"method\":\"relayout\"},{\"args\":[{\"yaxis\":{\"range\":[16.0,6.0],\"showgrid\":false,\"zeroline\":false,\"tickmode\":\"array\",\"tickvals\":[]}}],\"label\":\"\",\"method\":\"relayout\"},{\"args\":[{\"yaxis\":{\"range\":[16.1,6.1000000000000005],\"showgrid\":false,\"zeroline\":false,\"tickmode\":\"array\",\"tickvals\":[]}}],\"label\":\"\",\"method\":\"relayout\"},{\"args\":[{\"yaxis\":{\"range\":[16.2,6.2],\"showgrid\":false,\"zeroline\":false,\"tickmode\":\"array\",\"tickvals\":[]}}],\"label\":\"\",\"method\":\"relayout\"},{\"args\":[{\"yaxis\":{\"range\":[16.3,6.300000000000001],\"showgrid\":false,\"zeroline\":false,\"tickmode\":\"array\",\"tickvals\":[]}}],\"label\":\"\",\"method\":\"relayout\"},{\"args\":[{\"yaxis\":{\"range\":[16.4,6.4],\"showgrid\":false,\"zeroline\":false,\"tickmode\":\"array\",\"tickvals\":[]}}],\"label\":\"\",\"method\":\"relayout\"},{\"args\":[{\"yaxis\":{\"range\":[16.5,6.5],\"showgrid\":false,\"zeroline\":false,\"tickmode\":\"array\",\"tickvals\":[]}}],\"label\":\"\",\"method\":\"relayout\"},{\"args\":[{\"yaxis\":{\"range\":[16.6,6.6000000000000005],\"showgrid\":false,\"zeroline\":false,\"tickmode\":\"array\",\"tickvals\":[]}}],\"label\":\"\",\"method\":\"relayout\"},{\"args\":[{\"yaxis\":{\"range\":[16.7,6.7],\"showgrid\":false,\"zeroline\":false,\"tickmode\":\"array\",\"tickvals\":[]}}],\"label\":\"\",\"method\":\"relayout\"},{\"args\":[{\"yaxis\":{\"range\":[16.8,6.800000000000001],\"showgrid\":false,\"zeroline\":false,\"tickmode\":\"array\",\"tickvals\":[]}}],\"label\":\"\",\"method\":\"relayout\"},{\"args\":[{\"yaxis\":{\"range\":[16.9,6.9],\"showgrid\":false,\"zeroline\":false,\"tickmode\":\"array\",\"tickvals\":[]}}],\"label\":\"\",\"method\":\"relayout\"},{\"args\":[{\"yaxis\":{\"range\":[17.0,7.0],\"showgrid\":false,\"zeroline\":false,\"tickmode\":\"array\",\"tickvals\":[]}}],\"label\":\"\",\"method\":\"relayout\"},{\"args\":[{\"yaxis\":{\"range\":[17.1,7.1000000000000005],\"showgrid\":false,\"zeroline\":false,\"tickmode\":\"array\",\"tickvals\":[]}}],\"label\":\"\",\"method\":\"relayout\"},{\"args\":[{\"yaxis\":{\"range\":[17.2,7.2],\"showgrid\":false,\"zeroline\":false,\"tickmode\":\"array\",\"tickvals\":[]}}],\"label\":\"\",\"method\":\"relayout\"},{\"args\":[{\"yaxis\":{\"range\":[17.3,7.300000000000001],\"showgrid\":false,\"zeroline\":false,\"tickmode\":\"array\",\"tickvals\":[]}}],\"label\":\"\",\"method\":\"relayout\"},{\"args\":[{\"yaxis\":{\"range\":[17.4,7.4],\"showgrid\":false,\"zeroline\":false,\"tickmode\":\"array\",\"tickvals\":[]}}],\"label\":\"\",\"method\":\"relayout\"},{\"args\":[{\"yaxis\":{\"range\":[17.5,7.5],\"showgrid\":false,\"zeroline\":false,\"tickmode\":\"array\",\"tickvals\":[]}}],\"label\":\"\",\"method\":\"relayout\"},{\"args\":[{\"yaxis\":{\"range\":[17.6,7.6],\"showgrid\":false,\"zeroline\":false,\"tickmode\":\"array\",\"tickvals\":[]}}],\"label\":\"\",\"method\":\"relayout\"},{\"args\":[{\"yaxis\":{\"range\":[17.700000000000003,7.700000000000001],\"showgrid\":false,\"zeroline\":false,\"tickmode\":\"array\",\"tickvals\":[]}}],\"label\":\"\",\"method\":\"relayout\"},{\"args\":[{\"yaxis\":{\"range\":[17.8,7.800000000000001],\"showgrid\":false,\"zeroline\":false,\"tickmode\":\"array\",\"tickvals\":[]}}],\"label\":\"\",\"method\":\"relayout\"},{\"args\":[{\"yaxis\":{\"range\":[17.9,7.9],\"showgrid\":false,\"zeroline\":false,\"tickmode\":\"array\",\"tickvals\":[]}}],\"label\":\"\",\"method\":\"relayout\"},{\"args\":[{\"yaxis\":{\"range\":[18.0,8.0],\"showgrid\":false,\"zeroline\":false,\"tickmode\":\"array\",\"tickvals\":[]}}],\"label\":\"\",\"method\":\"relayout\"},{\"args\":[{\"yaxis\":{\"range\":[18.1,8.1],\"showgrid\":false,\"zeroline\":false,\"tickmode\":\"array\",\"tickvals\":[]}}],\"label\":\"\",\"method\":\"relayout\"},{\"args\":[{\"yaxis\":{\"range\":[18.200000000000003,8.200000000000001],\"showgrid\":false,\"zeroline\":false,\"tickmode\":\"array\",\"tickvals\":[]}}],\"label\":\"\",\"method\":\"relayout\"},{\"args\":[{\"yaxis\":{\"range\":[18.3,8.3],\"showgrid\":false,\"zeroline\":false,\"tickmode\":\"array\",\"tickvals\":[]}}],\"label\":\"\",\"method\":\"relayout\"},{\"args\":[{\"yaxis\":{\"range\":[18.4,8.4],\"showgrid\":false,\"zeroline\":false,\"tickmode\":\"array\",\"tickvals\":[]}}],\"label\":\"\",\"method\":\"relayout\"},{\"args\":[{\"yaxis\":{\"range\":[18.5,8.5],\"showgrid\":false,\"zeroline\":false,\"tickmode\":\"array\",\"tickvals\":[]}}],\"label\":\"\",\"method\":\"relayout\"},{\"args\":[{\"yaxis\":{\"range\":[18.6,8.6],\"showgrid\":false,\"zeroline\":false,\"tickmode\":\"array\",\"tickvals\":[]}}],\"label\":\"\",\"method\":\"relayout\"},{\"args\":[{\"yaxis\":{\"range\":[18.700000000000003,8.700000000000001],\"showgrid\":false,\"zeroline\":false,\"tickmode\":\"array\",\"tickvals\":[]}}],\"label\":\"\",\"method\":\"relayout\"},{\"args\":[{\"yaxis\":{\"range\":[18.8,8.8],\"showgrid\":false,\"zeroline\":false,\"tickmode\":\"array\",\"tickvals\":[]}}],\"label\":\"\",\"method\":\"relayout\"},{\"args\":[{\"yaxis\":{\"range\":[18.9,8.9],\"showgrid\":false,\"zeroline\":false,\"tickmode\":\"array\",\"tickvals\":[]}}],\"label\":\"\",\"method\":\"relayout\"},{\"args\":[{\"yaxis\":{\"range\":[19.0,9.0],\"showgrid\":false,\"zeroline\":false,\"tickmode\":\"array\",\"tickvals\":[]}}],\"label\":\"\",\"method\":\"relayout\"},{\"args\":[{\"yaxis\":{\"range\":[19.1,9.100000000000001],\"showgrid\":false,\"zeroline\":false,\"tickmode\":\"array\",\"tickvals\":[]}}],\"label\":\"\",\"method\":\"relayout\"},{\"args\":[{\"yaxis\":{\"range\":[19.200000000000003,9.200000000000001],\"showgrid\":false,\"zeroline\":false,\"tickmode\":\"array\",\"tickvals\":[]}}],\"label\":\"\",\"method\":\"relayout\"},{\"args\":[{\"yaxis\":{\"range\":[19.3,9.3],\"showgrid\":false,\"zeroline\":false,\"tickmode\":\"array\",\"tickvals\":[]}}],\"label\":\"\",\"method\":\"relayout\"},{\"args\":[{\"yaxis\":{\"range\":[19.4,9.4],\"showgrid\":false,\"zeroline\":false,\"tickmode\":\"array\",\"tickvals\":[]}}],\"label\":\"\",\"method\":\"relayout\"},{\"args\":[{\"yaxis\":{\"range\":[19.5,9.5],\"showgrid\":false,\"zeroline\":false,\"tickmode\":\"array\",\"tickvals\":[]}}],\"label\":\"\",\"method\":\"relayout\"},{\"args\":[{\"yaxis\":{\"range\":[19.6,9.600000000000001],\"showgrid\":false,\"zeroline\":false,\"tickmode\":\"array\",\"tickvals\":[]}}],\"label\":\"\",\"method\":\"relayout\"},{\"args\":[{\"yaxis\":{\"range\":[19.700000000000003,9.700000000000001],\"showgrid\":false,\"zeroline\":false,\"tickmode\":\"array\",\"tickvals\":[]}}],\"label\":\"\",\"method\":\"relayout\"},{\"args\":[{\"yaxis\":{\"range\":[19.8,9.8],\"showgrid\":false,\"zeroline\":false,\"tickmode\":\"array\",\"tickvals\":[]}}],\"label\":\"\",\"method\":\"relayout\"},{\"args\":[{\"yaxis\":{\"range\":[19.9,9.9],\"showgrid\":false,\"zeroline\":false,\"tickmode\":\"array\",\"tickvals\":[]}}],\"label\":\"\",\"method\":\"relayout\"},{\"args\":[{\"yaxis\":{\"range\":[20.0,10.0],\"showgrid\":false,\"zeroline\":false,\"tickmode\":\"array\",\"tickvals\":[]}}],\"label\":\"\",\"method\":\"relayout\"},{\"args\":[{\"yaxis\":{\"range\":[20.1,10.100000000000001],\"showgrid\":false,\"zeroline\":false,\"tickmode\":\"array\",\"tickvals\":[]}}],\"label\":\"\",\"method\":\"relayout\"},{\"args\":[{\"yaxis\":{\"range\":[20.200000000000003,10.200000000000001],\"showgrid\":false,\"zeroline\":false,\"tickmode\":\"array\",\"tickvals\":[]}}],\"label\":\"\",\"method\":\"relayout\"},{\"args\":[{\"yaxis\":{\"range\":[20.3,10.3],\"showgrid\":false,\"zeroline\":false,\"tickmode\":\"array\",\"tickvals\":[]}}],\"label\":\"\",\"method\":\"relayout\"},{\"args\":[{\"yaxis\":{\"range\":[20.4,10.4],\"showgrid\":false,\"zeroline\":false,\"tickmode\":\"array\",\"tickvals\":[]}}],\"label\":\"\",\"method\":\"relayout\"},{\"args\":[{\"yaxis\":{\"range\":[20.5,10.5],\"showgrid\":false,\"zeroline\":false,\"tickmode\":\"array\",\"tickvals\":[]}}],\"label\":\"\",\"method\":\"relayout\"},{\"args\":[{\"yaxis\":{\"range\":[20.6,10.600000000000001],\"showgrid\":false,\"zeroline\":false,\"tickmode\":\"array\",\"tickvals\":[]}}],\"label\":\"\",\"method\":\"relayout\"},{\"args\":[{\"yaxis\":{\"range\":[20.700000000000003,10.700000000000001],\"showgrid\":false,\"zeroline\":false,\"tickmode\":\"array\",\"tickvals\":[]}}],\"label\":\"\",\"method\":\"relayout\"},{\"args\":[{\"yaxis\":{\"range\":[20.8,10.8],\"showgrid\":false,\"zeroline\":false,\"tickmode\":\"array\",\"tickvals\":[]}}],\"label\":\"\",\"method\":\"relayout\"},{\"args\":[{\"yaxis\":{\"range\":[20.9,10.9],\"showgrid\":false,\"zeroline\":false,\"tickmode\":\"array\",\"tickvals\":[]}}],\"label\":\"\",\"method\":\"relayout\"},{\"args\":[{\"yaxis\":{\"range\":[21.0,11.0],\"showgrid\":false,\"zeroline\":false,\"tickmode\":\"array\",\"tickvals\":[]}}],\"label\":\"\",\"method\":\"relayout\"},{\"args\":[{\"yaxis\":{\"range\":[21.1,11.100000000000001],\"showgrid\":false,\"zeroline\":false,\"tickmode\":\"array\",\"tickvals\":[]}}],\"label\":\"\",\"method\":\"relayout\"},{\"args\":[{\"yaxis\":{\"range\":[21.200000000000003,11.200000000000001],\"showgrid\":false,\"zeroline\":false,\"tickmode\":\"array\",\"tickvals\":[]}}],\"label\":\"\",\"method\":\"relayout\"},{\"args\":[{\"yaxis\":{\"range\":[21.3,11.3],\"showgrid\":false,\"zeroline\":false,\"tickmode\":\"array\",\"tickvals\":[]}}],\"label\":\"\",\"method\":\"relayout\"},{\"args\":[{\"yaxis\":{\"range\":[21.4,11.4],\"showgrid\":false,\"zeroline\":false,\"tickmode\":\"array\",\"tickvals\":[]}}],\"label\":\"\",\"method\":\"relayout\"},{\"args\":[{\"yaxis\":{\"range\":[21.5,11.5],\"showgrid\":false,\"zeroline\":false,\"tickmode\":\"array\",\"tickvals\":[]}}],\"label\":\"\",\"method\":\"relayout\"},{\"args\":[{\"yaxis\":{\"range\":[21.6,11.600000000000001],\"showgrid\":false,\"zeroline\":false,\"tickmode\":\"array\",\"tickvals\":[]}}],\"label\":\"\",\"method\":\"relayout\"},{\"args\":[{\"yaxis\":{\"range\":[21.700000000000003,11.700000000000001],\"showgrid\":false,\"zeroline\":false,\"tickmode\":\"array\",\"tickvals\":[]}}],\"label\":\"\",\"method\":\"relayout\"},{\"args\":[{\"yaxis\":{\"range\":[21.8,11.8],\"showgrid\":false,\"zeroline\":false,\"tickmode\":\"array\",\"tickvals\":[]}}],\"label\":\"\",\"method\":\"relayout\"},{\"args\":[{\"yaxis\":{\"range\":[21.9,11.9],\"showgrid\":false,\"zeroline\":false,\"tickmode\":\"array\",\"tickvals\":[]}}],\"label\":\"\",\"method\":\"relayout\"},{\"args\":[{\"yaxis\":{\"range\":[22.0,12.0],\"showgrid\":false,\"zeroline\":false,\"tickmode\":\"array\",\"tickvals\":[]}}],\"label\":\"\",\"method\":\"relayout\"},{\"args\":[{\"yaxis\":{\"range\":[22.1,12.100000000000001],\"showgrid\":false,\"zeroline\":false,\"tickmode\":\"array\",\"tickvals\":[]}}],\"label\":\"\",\"method\":\"relayout\"},{\"args\":[{\"yaxis\":{\"range\":[22.200000000000003,12.200000000000001],\"showgrid\":false,\"zeroline\":false,\"tickmode\":\"array\",\"tickvals\":[]}}],\"label\":\"\",\"method\":\"relayout\"},{\"args\":[{\"yaxis\":{\"range\":[22.3,12.3],\"showgrid\":false,\"zeroline\":false,\"tickmode\":\"array\",\"tickvals\":[]}}],\"label\":\"\",\"method\":\"relayout\"},{\"args\":[{\"yaxis\":{\"range\":[22.4,12.4],\"showgrid\":false,\"zeroline\":false,\"tickmode\":\"array\",\"tickvals\":[]}}],\"label\":\"\",\"method\":\"relayout\"},{\"args\":[{\"yaxis\":{\"range\":[22.5,12.5],\"showgrid\":false,\"zeroline\":false,\"tickmode\":\"array\",\"tickvals\":[]}}],\"label\":\"\",\"method\":\"relayout\"},{\"args\":[{\"yaxis\":{\"range\":[22.6,12.600000000000001],\"showgrid\":false,\"zeroline\":false,\"tickmode\":\"array\",\"tickvals\":[]}}],\"label\":\"\",\"method\":\"relayout\"},{\"args\":[{\"yaxis\":{\"range\":[22.700000000000003,12.700000000000001],\"showgrid\":false,\"zeroline\":false,\"tickmode\":\"array\",\"tickvals\":[]}}],\"label\":\"\",\"method\":\"relayout\"},{\"args\":[{\"yaxis\":{\"range\":[22.8,12.8],\"showgrid\":false,\"zeroline\":false,\"tickmode\":\"array\",\"tickvals\":[]}}],\"label\":\"\",\"method\":\"relayout\"},{\"args\":[{\"yaxis\":{\"range\":[22.9,12.9],\"showgrid\":false,\"zeroline\":false,\"tickmode\":\"array\",\"tickvals\":[]}}],\"label\":\"\",\"method\":\"relayout\"},{\"args\":[{\"yaxis\":{\"range\":[23.0,13.0],\"showgrid\":false,\"zeroline\":false,\"tickmode\":\"array\",\"tickvals\":[]}}],\"label\":\"\",\"method\":\"relayout\"},{\"args\":[{\"yaxis\":{\"range\":[23.1,13.100000000000001],\"showgrid\":false,\"zeroline\":false,\"tickmode\":\"array\",\"tickvals\":[]}}],\"label\":\"\",\"method\":\"relayout\"},{\"args\":[{\"yaxis\":{\"range\":[23.200000000000003,13.200000000000001],\"showgrid\":false,\"zeroline\":false,\"tickmode\":\"array\",\"tickvals\":[]}}],\"label\":\"\",\"method\":\"relayout\"},{\"args\":[{\"yaxis\":{\"range\":[23.3,13.3],\"showgrid\":false,\"zeroline\":false,\"tickmode\":\"array\",\"tickvals\":[]}}],\"label\":\"\",\"method\":\"relayout\"},{\"args\":[{\"yaxis\":{\"range\":[23.4,13.4],\"showgrid\":false,\"zeroline\":false,\"tickmode\":\"array\",\"tickvals\":[]}}],\"label\":\"\",\"method\":\"relayout\"},{\"args\":[{\"yaxis\":{\"range\":[23.5,13.5],\"showgrid\":false,\"zeroline\":false,\"tickmode\":\"array\",\"tickvals\":[]}}],\"label\":\"\",\"method\":\"relayout\"},{\"args\":[{\"yaxis\":{\"range\":[23.6,13.600000000000001],\"showgrid\":false,\"zeroline\":false,\"tickmode\":\"array\",\"tickvals\":[]}}],\"label\":\"\",\"method\":\"relayout\"},{\"args\":[{\"yaxis\":{\"range\":[23.700000000000003,13.700000000000001],\"showgrid\":false,\"zeroline\":false,\"tickmode\":\"array\",\"tickvals\":[]}}],\"label\":\"\",\"method\":\"relayout\"},{\"args\":[{\"yaxis\":{\"range\":[23.8,13.8],\"showgrid\":false,\"zeroline\":false,\"tickmode\":\"array\",\"tickvals\":[]}}],\"label\":\"\",\"method\":\"relayout\"},{\"args\":[{\"yaxis\":{\"range\":[23.9,13.9],\"showgrid\":false,\"zeroline\":false,\"tickmode\":\"array\",\"tickvals\":[]}}],\"label\":\"\",\"method\":\"relayout\"},{\"args\":[{\"yaxis\":{\"range\":[24.0,14.0],\"showgrid\":false,\"zeroline\":false,\"tickmode\":\"array\",\"tickvals\":[]}}],\"label\":\"\",\"method\":\"relayout\"},{\"args\":[{\"yaxis\":{\"range\":[24.1,14.100000000000001],\"showgrid\":false,\"zeroline\":false,\"tickmode\":\"array\",\"tickvals\":[]}}],\"label\":\"\",\"method\":\"relayout\"},{\"args\":[{\"yaxis\":{\"range\":[24.200000000000003,14.200000000000001],\"showgrid\":false,\"zeroline\":false,\"tickmode\":\"array\",\"tickvals\":[]}}],\"label\":\"\",\"method\":\"relayout\"},{\"args\":[{\"yaxis\":{\"range\":[24.3,14.3],\"showgrid\":false,\"zeroline\":false,\"tickmode\":\"array\",\"tickvals\":[]}}],\"label\":\"\",\"method\":\"relayout\"},{\"args\":[{\"yaxis\":{\"range\":[24.4,14.4],\"showgrid\":false,\"zeroline\":false,\"tickmode\":\"array\",\"tickvals\":[]}}],\"label\":\"\",\"method\":\"relayout\"},{\"args\":[{\"yaxis\":{\"range\":[24.5,14.5],\"showgrid\":false,\"zeroline\":false,\"tickmode\":\"array\",\"tickvals\":[]}}],\"label\":\"\",\"method\":\"relayout\"},{\"args\":[{\"yaxis\":{\"range\":[24.6,14.600000000000001],\"showgrid\":false,\"zeroline\":false,\"tickmode\":\"array\",\"tickvals\":[]}}],\"label\":\"\",\"method\":\"relayout\"},{\"args\":[{\"yaxis\":{\"range\":[24.700000000000003,14.700000000000001],\"showgrid\":false,\"zeroline\":false,\"tickmode\":\"array\",\"tickvals\":[]}}],\"label\":\"\",\"method\":\"relayout\"},{\"args\":[{\"yaxis\":{\"range\":[24.8,14.8],\"showgrid\":false,\"zeroline\":false,\"tickmode\":\"array\",\"tickvals\":[]}}],\"label\":\"\",\"method\":\"relayout\"},{\"args\":[{\"yaxis\":{\"range\":[24.9,14.9],\"showgrid\":false,\"zeroline\":false,\"tickmode\":\"array\",\"tickvals\":[]}}],\"label\":\"\",\"method\":\"relayout\"},{\"args\":[{\"yaxis\":{\"range\":[25.0,15.0],\"showgrid\":false,\"zeroline\":false,\"tickmode\":\"array\",\"tickvals\":[]}}],\"label\":\"\",\"method\":\"relayout\"},{\"args\":[{\"yaxis\":{\"range\":[25.1,15.100000000000001],\"showgrid\":false,\"zeroline\":false,\"tickmode\":\"array\",\"tickvals\":[]}}],\"label\":\"\",\"method\":\"relayout\"},{\"args\":[{\"yaxis\":{\"range\":[25.200000000000003,15.200000000000001],\"showgrid\":false,\"zeroline\":false,\"tickmode\":\"array\",\"tickvals\":[]}}],\"label\":\"\",\"method\":\"relayout\"},{\"args\":[{\"yaxis\":{\"range\":[25.3,15.3],\"showgrid\":false,\"zeroline\":false,\"tickmode\":\"array\",\"tickvals\":[]}}],\"label\":\"\",\"method\":\"relayout\"},{\"args\":[{\"yaxis\":{\"range\":[25.4,15.4],\"showgrid\":false,\"zeroline\":false,\"tickmode\":\"array\",\"tickvals\":[]}}],\"label\":\"\",\"method\":\"relayout\"},{\"args\":[{\"yaxis\":{\"range\":[25.5,15.5],\"showgrid\":false,\"zeroline\":false,\"tickmode\":\"array\",\"tickvals\":[]}}],\"label\":\"\",\"method\":\"relayout\"},{\"args\":[{\"yaxis\":{\"range\":[25.6,15.600000000000001],\"showgrid\":false,\"zeroline\":false,\"tickmode\":\"array\",\"tickvals\":[]}}],\"label\":\"\",\"method\":\"relayout\"},{\"args\":[{\"yaxis\":{\"range\":[25.7,15.7],\"showgrid\":false,\"zeroline\":false,\"tickmode\":\"array\",\"tickvals\":[]}}],\"label\":\"\",\"method\":\"relayout\"},{\"args\":[{\"yaxis\":{\"range\":[25.8,15.8],\"showgrid\":false,\"zeroline\":false,\"tickmode\":\"array\",\"tickvals\":[]}}],\"label\":\"\",\"method\":\"relayout\"},{\"args\":[{\"yaxis\":{\"range\":[25.900000000000002,15.900000000000002],\"showgrid\":false,\"zeroline\":false,\"tickmode\":\"array\",\"tickvals\":[]}}],\"label\":\"\",\"method\":\"relayout\"},{\"args\":[{\"yaxis\":{\"range\":[26.0,16.0],\"showgrid\":false,\"zeroline\":false,\"tickmode\":\"array\",\"tickvals\":[]}}],\"label\":\"\",\"method\":\"relayout\"},{\"args\":[{\"yaxis\":{\"range\":[26.1,16.1],\"showgrid\":false,\"zeroline\":false,\"tickmode\":\"array\",\"tickvals\":[]}}],\"label\":\"\",\"method\":\"relayout\"},{\"args\":[{\"yaxis\":{\"range\":[26.2,16.2],\"showgrid\":false,\"zeroline\":false,\"tickmode\":\"array\",\"tickvals\":[]}}],\"label\":\"\",\"method\":\"relayout\"},{\"args\":[{\"yaxis\":{\"range\":[26.3,16.3],\"showgrid\":false,\"zeroline\":false,\"tickmode\":\"array\",\"tickvals\":[]}}],\"label\":\"\",\"method\":\"relayout\"},{\"args\":[{\"yaxis\":{\"range\":[26.400000000000002,16.400000000000002],\"showgrid\":false,\"zeroline\":false,\"tickmode\":\"array\",\"tickvals\":[]}}],\"label\":\"\",\"method\":\"relayout\"},{\"args\":[{\"yaxis\":{\"range\":[26.5,16.5],\"showgrid\":false,\"zeroline\":false,\"tickmode\":\"array\",\"tickvals\":[]}}],\"label\":\"\",\"method\":\"relayout\"},{\"args\":[{\"yaxis\":{\"range\":[26.6,16.6],\"showgrid\":false,\"zeroline\":false,\"tickmode\":\"array\",\"tickvals\":[]}}],\"label\":\"\",\"method\":\"relayout\"},{\"args\":[{\"yaxis\":{\"range\":[26.7,16.7],\"showgrid\":false,\"zeroline\":false,\"tickmode\":\"array\",\"tickvals\":[]}}],\"label\":\"\",\"method\":\"relayout\"},{\"args\":[{\"yaxis\":{\"range\":[26.8,16.8],\"showgrid\":false,\"zeroline\":false,\"tickmode\":\"array\",\"tickvals\":[]}}],\"label\":\"\",\"method\":\"relayout\"},{\"args\":[{\"yaxis\":{\"range\":[26.900000000000002,16.900000000000002],\"showgrid\":false,\"zeroline\":false,\"tickmode\":\"array\",\"tickvals\":[]}}],\"label\":\"\",\"method\":\"relayout\"},{\"args\":[{\"yaxis\":{\"range\":[27.0,17.0],\"showgrid\":false,\"zeroline\":false,\"tickmode\":\"array\",\"tickvals\":[]}}],\"label\":\"\",\"method\":\"relayout\"},{\"args\":[{\"yaxis\":{\"range\":[27.1,17.1],\"showgrid\":false,\"zeroline\":false,\"tickmode\":\"array\",\"tickvals\":[]}}],\"label\":\"\",\"method\":\"relayout\"},{\"args\":[{\"yaxis\":{\"range\":[27.2,17.2],\"showgrid\":false,\"zeroline\":false,\"tickmode\":\"array\",\"tickvals\":[]}}],\"label\":\"\",\"method\":\"relayout\"},{\"args\":[{\"yaxis\":{\"range\":[27.3,17.3],\"showgrid\":false,\"zeroline\":false,\"tickmode\":\"array\",\"tickvals\":[]}}],\"label\":\"\",\"method\":\"relayout\"},{\"args\":[{\"yaxis\":{\"range\":[27.400000000000002,17.400000000000002],\"showgrid\":false,\"zeroline\":false,\"tickmode\":\"array\",\"tickvals\":[]}}],\"label\":\"\",\"method\":\"relayout\"}],\"ticklen\":0,\"tickwidth\":0}],\"margin\":{\"l\":0,\"r\":0,\"t\":0,\"b\":0},\"modebar\":{\"remove\":[\"select\",\"lasso\"],\"orientation\":\"v\"}},                        {\"responsive\": true}                    ).then(function(){\n",
       "                            \n",
       "var gd = document.getElementById('a3bbe99d-3a13-45bd-94c9-54ba63bac96b');\n",
       "var x = new MutationObserver(function (mutations, observer) {{\n",
       "        var display = window.getComputedStyle(gd).display;\n",
       "        if (!display || display === 'none') {{\n",
       "            console.log([gd, 'removed!']);\n",
       "            Plotly.purge(gd);\n",
       "            observer.disconnect();\n",
       "        }}\n",
       "}});\n",
       "\n",
       "// Listen for the removal of the full notebook cells\n",
       "var notebookContainer = gd.closest('#notebook-container');\n",
       "if (notebookContainer) {{\n",
       "    x.observe(notebookContainer, {childList: true});\n",
       "}}\n",
       "\n",
       "// Listen for the clearing of the current output cell\n",
       "var outputEl = gd.closest('.output');\n",
       "if (outputEl) {{\n",
       "    x.observe(outputEl, {childList: true});\n",
       "}}\n",
       "\n",
       "                        })                };                });            </script>        </div>"
      ]
     },
     "metadata": {},
     "output_type": "display_data"
    }
   ],
   "source": [
    "import torch, torchvision\n",
    "from idlmav import MAV, plotly_renderer\n",
    "device = 'cpu'\n",
    "model = torchvision.models.resnet18().to(device)\n",
    "x = torch.randn(16,3,160,160).to(device)\n",
    "mav = MAV(model, x, device=device)\n",
    "\n",
    "with plotly_renderer('notebook_connected'):\n",
    "    mav.show_figure(add_slider=True)"
   ]
  },
  {
   "cell_type": "markdown",
   "metadata": {},
   "source": [
    "## Install directly from GitHub"
   ]
  },
  {
   "cell_type": "markdown",
   "metadata": {},
   "source": [
    "### Test in a temporary virtual environment"
   ]
  },
  {
   "cell_type": "markdown",
   "metadata": {},
   "source": [
    "* Ensure that this notebook's kernel is running in the main virtual environment (.venv)\n",
    "* Restart the kernel if changed"
   ]
  },
  {
   "cell_type": "code",
   "execution_count": null,
   "metadata": {},
   "outputs": [
    {
     "name": "stdout",
     "output_type": "stream",
     "text": [
      "/home/dev/ai\n"
     ]
    }
   ],
   "source": [
    "from pathlib import Path\n",
    "project_root = str(Path.cwd().parent)\n",
    "%cd {project_root}\n",
    "\n",
    "!rm -rf .venv_temp\n",
    "!python -m venv .venv_temp"
   ]
  },
  {
   "cell_type": "markdown",
   "metadata": {},
   "source": [
    "* Change this notebook's kernel to run in the temporary virtual environment (.venv_temp)\n",
    "* Restart the kernel"
   ]
  },
  {
   "cell_type": "code",
   "execution_count": null,
   "metadata": {},
   "outputs": [],
   "source": [
    "%pip install torch torchvision torchaudio --index-url https://download.pytorch.org/whl/cu118"
   ]
  },
  {
   "cell_type": "code",
   "execution_count": null,
   "metadata": {},
   "outputs": [],
   "source": [
    "%pip install git+https://github.com/d112358/idlmav.git"
   ]
  },
  {
   "cell_type": "code",
   "execution_count": null,
   "metadata": {},
   "outputs": [],
   "source": [
    "import torch, torchvision\n",
    "from idlmav import MAV, plotly_renderer\n",
    "device = 'cpu'\n",
    "model = torchvision.models.resnet18().to(device)\n",
    "x = torch.randn(16,3,160,160).to(device)\n",
    "mav = MAV(model, x, device=device)\n",
    "\n",
    "with plotly_renderer('notebook_connected'):\n",
    "    mav.show_figure(add_slider=True)"
   ]
  },
  {
   "cell_type": "markdown",
   "metadata": {},
   "source": [
    "## Upload to TestPyPI\n",
    "* Ensure that this notebook's kernel is running in the main virtual environment (.venv)\n",
    "* Restart the kernel if changed\n",
    "* Verify API key in `$HOME/.pypirc`\n",
    "* More information [here](https://packaging.python.org/en/latest/tutorials/packaging-projects/#uploading-the-distribution-archives)"
   ]
  },
  {
   "cell_type": "code",
   "execution_count": null,
   "metadata": {},
   "outputs": [],
   "source": [
    "%pip install --upgrade twine"
   ]
  },
  {
   "cell_type": "code",
   "execution_count": 2,
   "metadata": {},
   "outputs": [
    {
     "data": {
      "text/plain": [
       "'/home/dev/ai/idlmav'"
      ]
     },
     "execution_count": 2,
     "metadata": {},
     "output_type": "execute_result"
    }
   ],
   "source": [
    "from pathlib import Path\n",
    "if Path.cwd().name != 'idlmav':\n",
    "    %cd ..\n",
    "%pwd"
   ]
  },
  {
   "cell_type": "code",
   "execution_count": 3,
   "metadata": {},
   "outputs": [
    {
     "name": "stdout",
     "output_type": "stream",
     "text": [
      "Uploading distributions to https://test.pypi.org/legacy/\n",
      "Uploading idlmav-1.0.4-py3-none-any.whl\n",
      "\u001b[2K\u001b[35m100%\u001b[0m \u001b[90m━━━━━━━━━━━━━━━━━━━━━━━━━━━━━━━━━━━━━━━━\u001b[0m \u001b[32m50.2/50.2 kB\u001b[0m • \u001b[33m00:00\u001b[0m • \u001b[31m177.9 MB/s\u001b[0m\n",
      "\u001b[?25hUploading idlmav-1.0.4.tar.gz\n",
      "\u001b[2K\u001b[35m100%\u001b[0m \u001b[90m━━━━━━━━━━━━━━━━━━━━━━━━━━━━━━━━━━━━━━━━\u001b[0m \u001b[32m48.1/48.1 kB\u001b[0m • \u001b[33m00:00\u001b[0m • \u001b[31m259.0 MB/s\u001b[0m\n",
      "\u001b[?25h\n",
      "\u001b[32mView at:\u001b[0m\n",
      "https://test.pypi.org/project/idlmav/1.0.4/\n"
     ]
    }
   ],
   "source": [
    "!python -m twine upload --repository testpypi dist/*"
   ]
  },
  {
   "cell_type": "markdown",
   "metadata": {},
   "source": [
    "### Test in a temporary virtual environment"
   ]
  },
  {
   "cell_type": "markdown",
   "metadata": {},
   "source": [
    "* Ensure that this notebook's kernel is running in the main virtual environment (.venv)\n",
    "* Restart the kernel if changed"
   ]
  },
  {
   "cell_type": "code",
   "execution_count": 1,
   "metadata": {},
   "outputs": [
    {
     "name": "stdout",
     "output_type": "stream",
     "text": [
      "/home/dev/ai/idlmav\n"
     ]
    },
    {
     "name": "stderr",
     "output_type": "stream",
     "text": [
      "/home/dev/ai/idlmav/.venv/lib/python3.10/site-packages/IPython/core/magics/osm.py:417: UserWarning: This is now an optional IPython functionality, setting dhist requires you to install the `pickleshare` library.\n",
      "  self.shell.db['dhist'] = compress_dhist(dhist)[-100:]\n"
     ]
    }
   ],
   "source": [
    "from pathlib import Path\n",
    "if Path.cwd().name != 'idlmav':\n",
    "    %cd ..\n",
    "%pwd\n",
    "\n",
    "!rm -rf .venv_temp\n",
    "!python -m venv .venv_temp"
   ]
  },
  {
   "cell_type": "markdown",
   "metadata": {},
   "source": [
    "* Change this notebook's kernel to run in the temporary virtual environment (.venv_temp)\n",
    "* Restart the kernel"
   ]
  },
  {
   "cell_type": "code",
   "execution_count": 1,
   "metadata": {},
   "outputs": [
    {
     "name": "stdout",
     "output_type": "stream",
     "text": [
      "Looking in indexes: https://download.pytorch.org/whl/cu118\n",
      "Collecting torch\n",
      "  Using cached https://download.pytorch.org/whl/cu118/torch-2.5.1%2Bcu118-cp310-cp310-linux_x86_64.whl (838.3 MB)\n",
      "Collecting torchvision\n",
      "  Using cached https://download.pytorch.org/whl/cu118/torchvision-0.20.1%2Bcu118-cp310-cp310-linux_x86_64.whl (6.5 MB)\n",
      "Collecting torchaudio\n",
      "  Using cached https://download.pytorch.org/whl/cu118/torchaudio-2.5.1%2Bcu118-cp310-cp310-linux_x86_64.whl (3.3 MB)\n",
      "Collecting sympy==1.13.1\n",
      "  Using cached https://download.pytorch.org/whl/sympy-1.13.1-py3-none-any.whl (6.2 MB)\n",
      "Collecting nvidia-cuda-runtime-cu11==11.8.89\n",
      "  Using cached https://download.pytorch.org/whl/cu118/nvidia_cuda_runtime_cu11-11.8.89-py3-none-manylinux1_x86_64.whl (875 kB)\n",
      "Collecting nvidia-cuda-nvrtc-cu11==11.8.89\n",
      "  Using cached https://download.pytorch.org/whl/cu118/nvidia_cuda_nvrtc_cu11-11.8.89-py3-none-manylinux1_x86_64.whl (23.2 MB)\n",
      "Collecting nvidia-nccl-cu11==2.21.5\n",
      "  Using cached https://download.pytorch.org/whl/cu118/nvidia_nccl_cu11-2.21.5-py3-none-manylinux2014_x86_64.whl (147.8 MB)\n",
      "Collecting nvidia-curand-cu11==10.3.0.86\n",
      "  Using cached https://download.pytorch.org/whl/cu118/nvidia_curand_cu11-10.3.0.86-py3-none-manylinux1_x86_64.whl (58.1 MB)\n",
      "Collecting nvidia-nvtx-cu11==11.8.86\n",
      "  Using cached https://download.pytorch.org/whl/cu118/nvidia_nvtx_cu11-11.8.86-py3-none-manylinux1_x86_64.whl (99 kB)\n",
      "Collecting triton==3.1.0\n",
      "  Using cached https://download.pytorch.org/whl/triton-3.1.0-cp310-cp310-manylinux_2_17_x86_64.manylinux2014_x86_64.whl (209.5 MB)\n",
      "Collecting filelock\n",
      "  Using cached https://download.pytorch.org/whl/filelock-3.13.1-py3-none-any.whl (11 kB)\n",
      "Requirement already satisfied: typing-extensions>=4.8.0 in /home/dev/ai/idlmav/.venv_temp/lib/python3.10/site-packages (from torch) (4.12.2)\n",
      "Collecting nvidia-cuda-cupti-cu11==11.8.87\n",
      "  Using cached https://download.pytorch.org/whl/cu118/nvidia_cuda_cupti_cu11-11.8.87-py3-none-manylinux1_x86_64.whl (13.1 MB)\n",
      "Collecting nvidia-cudnn-cu11==9.1.0.70\n",
      "  Using cached https://download.pytorch.org/whl/cu118/nvidia_cudnn_cu11-9.1.0.70-py3-none-manylinux2014_x86_64.whl (663.9 MB)\n",
      "Collecting nvidia-cufft-cu11==10.9.0.58\n",
      "  Using cached https://download.pytorch.org/whl/cu118/nvidia_cufft_cu11-10.9.0.58-py3-none-manylinux1_x86_64.whl (168.4 MB)\n",
      "Collecting nvidia-cusolver-cu11==11.4.1.48\n",
      "  Using cached https://download.pytorch.org/whl/cu118/nvidia_cusolver_cu11-11.4.1.48-py3-none-manylinux1_x86_64.whl (128.2 MB)\n",
      "Collecting nvidia-cublas-cu11==11.11.3.6\n",
      "  Using cached https://download.pytorch.org/whl/cu118/nvidia_cublas_cu11-11.11.3.6-py3-none-manylinux1_x86_64.whl (417.9 MB)\n",
      "Collecting fsspec\n",
      "  Using cached https://download.pytorch.org/whl/fsspec-2024.2.0-py3-none-any.whl (170 kB)\n",
      "Collecting nvidia-cusparse-cu11==11.7.5.86\n",
      "  Using cached https://download.pytorch.org/whl/cu118/nvidia_cusparse_cu11-11.7.5.86-py3-none-manylinux1_x86_64.whl (204.1 MB)\n",
      "Collecting jinja2\n",
      "  Using cached https://download.pytorch.org/whl/Jinja2-3.1.3-py3-none-any.whl (133 kB)\n",
      "Collecting networkx\n",
      "  Using cached https://download.pytorch.org/whl/networkx-3.2.1-py3-none-any.whl (1.6 MB)\n",
      "Collecting mpmath<1.4,>=1.1.0\n",
      "  Using cached https://download.pytorch.org/whl/mpmath-1.3.0-py3-none-any.whl (536 kB)\n",
      "Collecting pillow!=8.3.*,>=5.3.0\n",
      "  Using cached https://download.pytorch.org/whl/pillow-10.2.0-cp310-cp310-manylinux_2_28_x86_64.whl (4.5 MB)\n",
      "Collecting numpy\n",
      "  Using cached https://download.pytorch.org/whl/numpy-1.26.3-cp310-cp310-manylinux_2_17_x86_64.manylinux2014_x86_64.whl (18.2 MB)\n",
      "Collecting MarkupSafe>=2.0\n",
      "  Using cached https://download.pytorch.org/whl/MarkupSafe-2.1.5-cp310-cp310-manylinux_2_17_x86_64.manylinux2014_x86_64.whl (25 kB)\n",
      "Installing collected packages: mpmath, sympy, pillow, nvidia-nvtx-cu11, nvidia-nccl-cu11, nvidia-cusparse-cu11, nvidia-curand-cu11, nvidia-cufft-cu11, nvidia-cuda-runtime-cu11, nvidia-cuda-nvrtc-cu11, nvidia-cuda-cupti-cu11, nvidia-cublas-cu11, numpy, networkx, MarkupSafe, fsspec, filelock, triton, nvidia-cusolver-cu11, nvidia-cudnn-cu11, jinja2, torch, torchvision, torchaudio\n",
      "Successfully installed MarkupSafe-2.1.5 filelock-3.13.1 fsspec-2024.2.0 jinja2-3.1.3 mpmath-1.3.0 networkx-3.2.1 numpy-1.26.3 nvidia-cublas-cu11-11.11.3.6 nvidia-cuda-cupti-cu11-11.8.87 nvidia-cuda-nvrtc-cu11-11.8.89 nvidia-cuda-runtime-cu11-11.8.89 nvidia-cudnn-cu11-9.1.0.70 nvidia-cufft-cu11-10.9.0.58 nvidia-curand-cu11-10.3.0.86 nvidia-cusolver-cu11-11.4.1.48 nvidia-cusparse-cu11-11.7.5.86 nvidia-nccl-cu11-2.21.5 nvidia-nvtx-cu11-11.8.86 pillow-10.2.0 sympy-1.13.1 torch-2.5.1+cu118 torchaudio-2.5.1+cu118 torchvision-0.20.1+cu118 triton-3.1.0\n",
      "Note: you may need to restart the kernel to use updated packages.\n",
      "Requirement already satisfied: numpy in /home/dev/ai/idlmav/.venv_temp/lib/python3.10/site-packages (1.26.3)\n",
      "Collecting tabulate\n",
      "  Using cached tabulate-0.9.0-py3-none-any.whl (35 kB)\n",
      "Collecting torchprofile\n",
      "  Using cached torchprofile-0.0.4-py3-none-any.whl (7.7 kB)\n",
      "Collecting munkres\n",
      "  Using cached munkres-1.1.4-py2.py3-none-any.whl (7.0 kB)\n",
      "Collecting plotly\n",
      "  Using cached plotly-5.24.1-py3-none-any.whl (19.1 MB)\n",
      "Collecting nbformat\n",
      "  Using cached nbformat-5.10.4-py3-none-any.whl (78 kB)\n",
      "Collecting ipywidgets\n",
      "  Using cached ipywidgets-8.1.5-py3-none-any.whl (139 kB)\n",
      "Requirement already satisfied: torch>=1.4 in /home/dev/ai/idlmav/.venv_temp/lib/python3.10/site-packages (from torchprofile) (2.5.1+cu118)\n",
      "Requirement already satisfied: torchvision>=0.4 in /home/dev/ai/idlmav/.venv_temp/lib/python3.10/site-packages (from torchprofile) (0.20.1+cu118)\n",
      "Collecting tenacity>=6.2.0\n",
      "  Using cached tenacity-9.0.0-py3-none-any.whl (28 kB)\n",
      "Requirement already satisfied: packaging in /home/dev/ai/idlmav/.venv_temp/lib/python3.10/site-packages (from plotly) (24.2)\n",
      "Requirement already satisfied: traitlets>=5.1 in /home/dev/ai/idlmav/.venv_temp/lib/python3.10/site-packages (from nbformat) (5.14.3)\n",
      "Collecting fastjsonschema>=2.15\n",
      "  Using cached fastjsonschema-2.21.1-py3-none-any.whl (23 kB)\n",
      "Requirement already satisfied: jupyter-core!=5.0.*,>=4.12 in /home/dev/ai/idlmav/.venv_temp/lib/python3.10/site-packages (from nbformat) (5.7.2)\n",
      "Collecting jsonschema>=2.6\n",
      "  Using cached jsonschema-4.23.0-py3-none-any.whl (88 kB)\n",
      "Collecting jupyterlab-widgets~=3.0.12\n",
      "  Using cached jupyterlab_widgets-3.0.13-py3-none-any.whl (214 kB)\n",
      "Requirement already satisfied: comm>=0.1.3 in /home/dev/ai/idlmav/.venv_temp/lib/python3.10/site-packages (from ipywidgets) (0.2.2)\n",
      "Requirement already satisfied: ipython>=6.1.0 in /home/dev/ai/idlmav/.venv_temp/lib/python3.10/site-packages (from ipywidgets) (8.31.0)\n",
      "Collecting widgetsnbextension~=4.0.12\n",
      "  Using cached widgetsnbextension-4.0.13-py3-none-any.whl (2.3 MB)\n",
      "Requirement already satisfied: typing_extensions>=4.6 in /home/dev/ai/idlmav/.venv_temp/lib/python3.10/site-packages (from ipython>=6.1.0->ipywidgets) (4.12.2)\n",
      "Requirement already satisfied: matplotlib-inline in /home/dev/ai/idlmav/.venv_temp/lib/python3.10/site-packages (from ipython>=6.1.0->ipywidgets) (0.1.7)\n",
      "Requirement already satisfied: decorator in /home/dev/ai/idlmav/.venv_temp/lib/python3.10/site-packages (from ipython>=6.1.0->ipywidgets) (5.1.1)\n",
      "Requirement already satisfied: prompt_toolkit<3.1.0,>=3.0.41 in /home/dev/ai/idlmav/.venv_temp/lib/python3.10/site-packages (from ipython>=6.1.0->ipywidgets) (3.0.48)\n",
      "Requirement already satisfied: exceptiongroup in /home/dev/ai/idlmav/.venv_temp/lib/python3.10/site-packages (from ipython>=6.1.0->ipywidgets) (1.2.2)\n",
      "Requirement already satisfied: pygments>=2.4.0 in /home/dev/ai/idlmav/.venv_temp/lib/python3.10/site-packages (from ipython>=6.1.0->ipywidgets) (2.19.1)\n",
      "Requirement already satisfied: stack_data in /home/dev/ai/idlmav/.venv_temp/lib/python3.10/site-packages (from ipython>=6.1.0->ipywidgets) (0.6.3)\n",
      "Requirement already satisfied: pexpect>4.3 in /home/dev/ai/idlmav/.venv_temp/lib/python3.10/site-packages (from ipython>=6.1.0->ipywidgets) (4.9.0)\n",
      "Requirement already satisfied: jedi>=0.16 in /home/dev/ai/idlmav/.venv_temp/lib/python3.10/site-packages (from ipython>=6.1.0->ipywidgets) (0.19.2)\n",
      "Collecting attrs>=22.2.0\n",
      "  Using cached attrs-24.3.0-py3-none-any.whl (63 kB)\n",
      "Collecting referencing>=0.28.4\n",
      "  Using cached referencing-0.35.1-py3-none-any.whl (26 kB)\n",
      "Collecting jsonschema-specifications>=2023.03.6\n",
      "  Using cached jsonschema_specifications-2024.10.1-py3-none-any.whl (18 kB)\n",
      "Collecting rpds-py>=0.7.1\n",
      "  Using cached rpds_py-0.22.3-cp310-cp310-manylinux_2_17_x86_64.manylinux2014_x86_64.whl (381 kB)\n",
      "Requirement already satisfied: platformdirs>=2.5 in /home/dev/ai/idlmav/.venv_temp/lib/python3.10/site-packages (from jupyter-core!=5.0.*,>=4.12->nbformat) (4.3.6)\n",
      "Requirement already satisfied: nvidia-curand-cu11==10.3.0.86 in /home/dev/ai/idlmav/.venv_temp/lib/python3.10/site-packages (from torch>=1.4->torchprofile) (10.3.0.86)\n",
      "Requirement already satisfied: nvidia-cuda-nvrtc-cu11==11.8.89 in /home/dev/ai/idlmav/.venv_temp/lib/python3.10/site-packages (from torch>=1.4->torchprofile) (11.8.89)\n",
      "Requirement already satisfied: jinja2 in /home/dev/ai/idlmav/.venv_temp/lib/python3.10/site-packages (from torch>=1.4->torchprofile) (3.1.3)\n",
      "Requirement already satisfied: nvidia-cudnn-cu11==9.1.0.70 in /home/dev/ai/idlmav/.venv_temp/lib/python3.10/site-packages (from torch>=1.4->torchprofile) (9.1.0.70)\n",
      "Requirement already satisfied: nvidia-cusparse-cu11==11.7.5.86 in /home/dev/ai/idlmav/.venv_temp/lib/python3.10/site-packages (from torch>=1.4->torchprofile) (11.7.5.86)\n",
      "Requirement already satisfied: sympy==1.13.1 in /home/dev/ai/idlmav/.venv_temp/lib/python3.10/site-packages (from torch>=1.4->torchprofile) (1.13.1)\n",
      "Requirement already satisfied: nvidia-cusolver-cu11==11.4.1.48 in /home/dev/ai/idlmav/.venv_temp/lib/python3.10/site-packages (from torch>=1.4->torchprofile) (11.4.1.48)\n",
      "Requirement already satisfied: filelock in /home/dev/ai/idlmav/.venv_temp/lib/python3.10/site-packages (from torch>=1.4->torchprofile) (3.13.1)\n",
      "Requirement already satisfied: nvidia-cuda-cupti-cu11==11.8.87 in /home/dev/ai/idlmav/.venv_temp/lib/python3.10/site-packages (from torch>=1.4->torchprofile) (11.8.87)\n",
      "Requirement already satisfied: networkx in /home/dev/ai/idlmav/.venv_temp/lib/python3.10/site-packages (from torch>=1.4->torchprofile) (3.2.1)\n",
      "Requirement already satisfied: fsspec in /home/dev/ai/idlmav/.venv_temp/lib/python3.10/site-packages (from torch>=1.4->torchprofile) (2024.2.0)\n",
      "Requirement already satisfied: nvidia-nvtx-cu11==11.8.86 in /home/dev/ai/idlmav/.venv_temp/lib/python3.10/site-packages (from torch>=1.4->torchprofile) (11.8.86)\n",
      "Requirement already satisfied: nvidia-cublas-cu11==11.11.3.6 in /home/dev/ai/idlmav/.venv_temp/lib/python3.10/site-packages (from torch>=1.4->torchprofile) (11.11.3.6)\n",
      "Requirement already satisfied: triton==3.1.0 in /home/dev/ai/idlmav/.venv_temp/lib/python3.10/site-packages (from torch>=1.4->torchprofile) (3.1.0)\n",
      "Requirement already satisfied: nvidia-cuda-runtime-cu11==11.8.89 in /home/dev/ai/idlmav/.venv_temp/lib/python3.10/site-packages (from torch>=1.4->torchprofile) (11.8.89)\n",
      "Requirement already satisfied: nvidia-nccl-cu11==2.21.5 in /home/dev/ai/idlmav/.venv_temp/lib/python3.10/site-packages (from torch>=1.4->torchprofile) (2.21.5)\n",
      "Requirement already satisfied: nvidia-cufft-cu11==10.9.0.58 in /home/dev/ai/idlmav/.venv_temp/lib/python3.10/site-packages (from torch>=1.4->torchprofile) (10.9.0.58)\n",
      "Requirement already satisfied: mpmath<1.4,>=1.1.0 in /home/dev/ai/idlmav/.venv_temp/lib/python3.10/site-packages (from sympy==1.13.1->torch>=1.4->torchprofile) (1.3.0)\n",
      "Requirement already satisfied: pillow!=8.3.*,>=5.3.0 in /home/dev/ai/idlmav/.venv_temp/lib/python3.10/site-packages (from torchvision>=0.4->torchprofile) (10.2.0)\n",
      "Requirement already satisfied: parso<0.9.0,>=0.8.4 in /home/dev/ai/idlmav/.venv_temp/lib/python3.10/site-packages (from jedi>=0.16->ipython>=6.1.0->ipywidgets) (0.8.4)\n",
      "Requirement already satisfied: ptyprocess>=0.5 in /home/dev/ai/idlmav/.venv_temp/lib/python3.10/site-packages (from pexpect>4.3->ipython>=6.1.0->ipywidgets) (0.7.0)\n",
      "Requirement already satisfied: wcwidth in /home/dev/ai/idlmav/.venv_temp/lib/python3.10/site-packages (from prompt_toolkit<3.1.0,>=3.0.41->ipython>=6.1.0->ipywidgets) (0.2.13)\n",
      "Requirement already satisfied: MarkupSafe>=2.0 in /home/dev/ai/idlmav/.venv_temp/lib/python3.10/site-packages (from jinja2->torch>=1.4->torchprofile) (2.1.5)\n",
      "Requirement already satisfied: pure-eval in /home/dev/ai/idlmav/.venv_temp/lib/python3.10/site-packages (from stack_data->ipython>=6.1.0->ipywidgets) (0.2.3)\n",
      "Requirement already satisfied: executing>=1.2.0 in /home/dev/ai/idlmav/.venv_temp/lib/python3.10/site-packages (from stack_data->ipython>=6.1.0->ipywidgets) (2.1.0)\n",
      "Requirement already satisfied: asttokens>=2.1.0 in /home/dev/ai/idlmav/.venv_temp/lib/python3.10/site-packages (from stack_data->ipython>=6.1.0->ipywidgets) (3.0.0)\n",
      "Installing collected packages: munkres, fastjsonschema, widgetsnbextension, tenacity, tabulate, rpds-py, jupyterlab-widgets, attrs, referencing, plotly, jsonschema-specifications, ipywidgets, torchprofile, jsonschema, nbformat\n",
      "Successfully installed attrs-24.3.0 fastjsonschema-2.21.1 ipywidgets-8.1.5 jsonschema-4.23.0 jsonschema-specifications-2024.10.1 jupyterlab-widgets-3.0.13 munkres-1.1.4 nbformat-5.10.4 plotly-5.24.1 referencing-0.35.1 rpds-py-0.22.3 tabulate-0.9.0 tenacity-9.0.0 torchprofile-0.0.4 widgetsnbextension-4.0.13\n",
      "Note: you may need to restart the kernel to use updated packages.\n"
     ]
    }
   ],
   "source": [
    "%pip install torch torchvision torchaudio --index-url https://download.pytorch.org/whl/cu118\n",
    "%pip install numpy tabulate torchprofile munkres plotly nbformat ipywidgets"
   ]
  },
  {
   "cell_type": "code",
   "execution_count": 2,
   "metadata": {},
   "outputs": [
    {
     "name": "stdout",
     "output_type": "stream",
     "text": [
      "Looking in indexes: https://test.pypi.org/simple/\n",
      "Collecting idlmav\n",
      "  Downloading https://test-files.pythonhosted.org/packages/b5/e1/c453180da2e88df12cec7ee2c60f96c53e6b532544c6eba28a675bc3bbe3/idlmav-1.0.4-py3-none-any.whl (36 kB)\n",
      "Requirement already satisfied: torch>=2.3.0 in /home/dev/ai/idlmav/.venv_temp/lib/python3.10/site-packages (from idlmav) (2.5.1+cu118)\n",
      "Requirement already satisfied: tabulate in /home/dev/ai/idlmav/.venv_temp/lib/python3.10/site-packages (from idlmav) (0.9.0)\n",
      "Requirement already satisfied: plotly in /home/dev/ai/idlmav/.venv_temp/lib/python3.10/site-packages (from idlmav) (5.24.1)\n",
      "Requirement already satisfied: torchprofile in /home/dev/ai/idlmav/.venv_temp/lib/python3.10/site-packages (from idlmav) (0.0.4)\n",
      "Requirement already satisfied: ipywidgets in /home/dev/ai/idlmav/.venv_temp/lib/python3.10/site-packages (from idlmav) (8.1.5)\n",
      "Requirement already satisfied: munkres in /home/dev/ai/idlmav/.venv_temp/lib/python3.10/site-packages (from idlmav) (1.1.4)\n",
      "Requirement already satisfied: nbformat in /home/dev/ai/idlmav/.venv_temp/lib/python3.10/site-packages (from idlmav) (5.10.4)\n",
      "Requirement already satisfied: numpy in /home/dev/ai/idlmav/.venv_temp/lib/python3.10/site-packages (from idlmav) (1.26.3)\n",
      "Requirement already satisfied: jinja2 in /home/dev/ai/idlmav/.venv_temp/lib/python3.10/site-packages (from torch>=2.3.0->idlmav) (3.1.3)\n",
      "Requirement already satisfied: networkx in /home/dev/ai/idlmav/.venv_temp/lib/python3.10/site-packages (from torch>=2.3.0->idlmav) (3.2.1)\n",
      "Requirement already satisfied: nvidia-curand-cu11==10.3.0.86 in /home/dev/ai/idlmav/.venv_temp/lib/python3.10/site-packages (from torch>=2.3.0->idlmav) (10.3.0.86)\n",
      "Requirement already satisfied: nvidia-cuda-cupti-cu11==11.8.87 in /home/dev/ai/idlmav/.venv_temp/lib/python3.10/site-packages (from torch>=2.3.0->idlmav) (11.8.87)\n",
      "Requirement already satisfied: fsspec in /home/dev/ai/idlmav/.venv_temp/lib/python3.10/site-packages (from torch>=2.3.0->idlmav) (2024.2.0)\n",
      "Requirement already satisfied: triton==3.1.0 in /home/dev/ai/idlmav/.venv_temp/lib/python3.10/site-packages (from torch>=2.3.0->idlmav) (3.1.0)\n",
      "Requirement already satisfied: nvidia-cudnn-cu11==9.1.0.70 in /home/dev/ai/idlmav/.venv_temp/lib/python3.10/site-packages (from torch>=2.3.0->idlmav) (9.1.0.70)\n",
      "Requirement already satisfied: nvidia-cublas-cu11==11.11.3.6 in /home/dev/ai/idlmav/.venv_temp/lib/python3.10/site-packages (from torch>=2.3.0->idlmav) (11.11.3.6)\n",
      "Requirement already satisfied: nvidia-cuda-nvrtc-cu11==11.8.89 in /home/dev/ai/idlmav/.venv_temp/lib/python3.10/site-packages (from torch>=2.3.0->idlmav) (11.8.89)\n",
      "Requirement already satisfied: typing-extensions>=4.8.0 in /home/dev/ai/idlmav/.venv_temp/lib/python3.10/site-packages (from torch>=2.3.0->idlmav) (4.12.2)\n",
      "Requirement already satisfied: nvidia-cuda-runtime-cu11==11.8.89 in /home/dev/ai/idlmav/.venv_temp/lib/python3.10/site-packages (from torch>=2.3.0->idlmav) (11.8.89)\n",
      "Requirement already satisfied: nvidia-cusolver-cu11==11.4.1.48 in /home/dev/ai/idlmav/.venv_temp/lib/python3.10/site-packages (from torch>=2.3.0->idlmav) (11.4.1.48)\n",
      "Requirement already satisfied: nvidia-cusparse-cu11==11.7.5.86 in /home/dev/ai/idlmav/.venv_temp/lib/python3.10/site-packages (from torch>=2.3.0->idlmav) (11.7.5.86)\n",
      "Requirement already satisfied: nvidia-nvtx-cu11==11.8.86 in /home/dev/ai/idlmav/.venv_temp/lib/python3.10/site-packages (from torch>=2.3.0->idlmav) (11.8.86)\n",
      "Requirement already satisfied: filelock in /home/dev/ai/idlmav/.venv_temp/lib/python3.10/site-packages (from torch>=2.3.0->idlmav) (3.13.1)\n",
      "Requirement already satisfied: nvidia-cufft-cu11==10.9.0.58 in /home/dev/ai/idlmav/.venv_temp/lib/python3.10/site-packages (from torch>=2.3.0->idlmav) (10.9.0.58)\n",
      "Requirement already satisfied: sympy==1.13.1 in /home/dev/ai/idlmav/.venv_temp/lib/python3.10/site-packages (from torch>=2.3.0->idlmav) (1.13.1)\n",
      "Requirement already satisfied: nvidia-nccl-cu11==2.21.5 in /home/dev/ai/idlmav/.venv_temp/lib/python3.10/site-packages (from torch>=2.3.0->idlmav) (2.21.5)\n",
      "Requirement already satisfied: mpmath<1.4,>=1.1.0 in /home/dev/ai/idlmav/.venv_temp/lib/python3.10/site-packages (from sympy==1.13.1->torch>=2.3.0->idlmav) (1.3.0)\n",
      "Requirement already satisfied: widgetsnbextension~=4.0.12 in /home/dev/ai/idlmav/.venv_temp/lib/python3.10/site-packages (from ipywidgets->idlmav) (4.0.13)\n",
      "Requirement already satisfied: comm>=0.1.3 in /home/dev/ai/idlmav/.venv_temp/lib/python3.10/site-packages (from ipywidgets->idlmav) (0.2.2)\n",
      "Requirement already satisfied: ipython>=6.1.0 in /home/dev/ai/idlmav/.venv_temp/lib/python3.10/site-packages (from ipywidgets->idlmav) (8.31.0)\n",
      "Requirement already satisfied: traitlets>=4.3.1 in /home/dev/ai/idlmav/.venv_temp/lib/python3.10/site-packages (from ipywidgets->idlmav) (5.14.3)\n",
      "Requirement already satisfied: jupyterlab-widgets~=3.0.12 in /home/dev/ai/idlmav/.venv_temp/lib/python3.10/site-packages (from ipywidgets->idlmav) (3.0.13)\n",
      "Requirement already satisfied: fastjsonschema>=2.15 in /home/dev/ai/idlmav/.venv_temp/lib/python3.10/site-packages (from nbformat->idlmav) (2.21.1)\n",
      "Requirement already satisfied: jupyter-core!=5.0.*,>=4.12 in /home/dev/ai/idlmav/.venv_temp/lib/python3.10/site-packages (from nbformat->idlmav) (5.7.2)\n",
      "Requirement already satisfied: jsonschema>=2.6 in /home/dev/ai/idlmav/.venv_temp/lib/python3.10/site-packages (from nbformat->idlmav) (4.23.0)\n",
      "Requirement already satisfied: packaging in /home/dev/ai/idlmav/.venv_temp/lib/python3.10/site-packages (from plotly->idlmav) (24.2)\n",
      "Requirement already satisfied: tenacity>=6.2.0 in /home/dev/ai/idlmav/.venv_temp/lib/python3.10/site-packages (from plotly->idlmav) (9.0.0)\n",
      "Requirement already satisfied: torchvision>=0.4 in /home/dev/ai/idlmav/.venv_temp/lib/python3.10/site-packages (from torchprofile->idlmav) (0.20.1+cu118)\n",
      "Requirement already satisfied: jedi>=0.16 in /home/dev/ai/idlmav/.venv_temp/lib/python3.10/site-packages (from ipython>=6.1.0->ipywidgets->idlmav) (0.19.2)\n",
      "Requirement already satisfied: decorator in /home/dev/ai/idlmav/.venv_temp/lib/python3.10/site-packages (from ipython>=6.1.0->ipywidgets->idlmav) (5.1.1)\n",
      "Requirement already satisfied: prompt_toolkit<3.1.0,>=3.0.41 in /home/dev/ai/idlmav/.venv_temp/lib/python3.10/site-packages (from ipython>=6.1.0->ipywidgets->idlmav) (3.0.48)\n",
      "Requirement already satisfied: stack_data in /home/dev/ai/idlmav/.venv_temp/lib/python3.10/site-packages (from ipython>=6.1.0->ipywidgets->idlmav) (0.6.3)\n",
      "Requirement already satisfied: exceptiongroup in /home/dev/ai/idlmav/.venv_temp/lib/python3.10/site-packages (from ipython>=6.1.0->ipywidgets->idlmav) (1.2.2)\n",
      "Requirement already satisfied: matplotlib-inline in /home/dev/ai/idlmav/.venv_temp/lib/python3.10/site-packages (from ipython>=6.1.0->ipywidgets->idlmav) (0.1.7)\n",
      "Requirement already satisfied: pexpect>4.3 in /home/dev/ai/idlmav/.venv_temp/lib/python3.10/site-packages (from ipython>=6.1.0->ipywidgets->idlmav) (4.9.0)\n",
      "Requirement already satisfied: pygments>=2.4.0 in /home/dev/ai/idlmav/.venv_temp/lib/python3.10/site-packages (from ipython>=6.1.0->ipywidgets->idlmav) (2.19.1)\n",
      "Requirement already satisfied: referencing>=0.28.4 in /home/dev/ai/idlmav/.venv_temp/lib/python3.10/site-packages (from jsonschema>=2.6->nbformat->idlmav) (0.35.1)\n",
      "Requirement already satisfied: rpds-py>=0.7.1 in /home/dev/ai/idlmav/.venv_temp/lib/python3.10/site-packages (from jsonschema>=2.6->nbformat->idlmav) (0.22.3)\n",
      "Requirement already satisfied: jsonschema-specifications>=2023.03.6 in /home/dev/ai/idlmav/.venv_temp/lib/python3.10/site-packages (from jsonschema>=2.6->nbformat->idlmav) (2024.10.1)\n",
      "Requirement already satisfied: attrs>=22.2.0 in /home/dev/ai/idlmav/.venv_temp/lib/python3.10/site-packages (from jsonschema>=2.6->nbformat->idlmav) (24.3.0)\n",
      "Requirement already satisfied: platformdirs>=2.5 in /home/dev/ai/idlmav/.venv_temp/lib/python3.10/site-packages (from jupyter-core!=5.0.*,>=4.12->nbformat->idlmav) (4.3.6)\n",
      "Requirement already satisfied: pillow!=8.3.*,>=5.3.0 in /home/dev/ai/idlmav/.venv_temp/lib/python3.10/site-packages (from torchvision>=0.4->torchprofile->idlmav) (10.2.0)\n",
      "Requirement already satisfied: MarkupSafe>=2.0 in /home/dev/ai/idlmav/.venv_temp/lib/python3.10/site-packages (from jinja2->torch>=2.3.0->idlmav) (2.1.5)\n",
      "Requirement already satisfied: parso<0.9.0,>=0.8.4 in /home/dev/ai/idlmav/.venv_temp/lib/python3.10/site-packages (from jedi>=0.16->ipython>=6.1.0->ipywidgets->idlmav) (0.8.4)\n",
      "Requirement already satisfied: ptyprocess>=0.5 in /home/dev/ai/idlmav/.venv_temp/lib/python3.10/site-packages (from pexpect>4.3->ipython>=6.1.0->ipywidgets->idlmav) (0.7.0)\n",
      "Requirement already satisfied: wcwidth in /home/dev/ai/idlmav/.venv_temp/lib/python3.10/site-packages (from prompt_toolkit<3.1.0,>=3.0.41->ipython>=6.1.0->ipywidgets->idlmav) (0.2.13)\n",
      "Requirement already satisfied: executing>=1.2.0 in /home/dev/ai/idlmav/.venv_temp/lib/python3.10/site-packages (from stack_data->ipython>=6.1.0->ipywidgets->idlmav) (2.1.0)\n",
      "Requirement already satisfied: pure-eval in /home/dev/ai/idlmav/.venv_temp/lib/python3.10/site-packages (from stack_data->ipython>=6.1.0->ipywidgets->idlmav) (0.2.3)\n",
      "Requirement already satisfied: asttokens>=2.1.0 in /home/dev/ai/idlmav/.venv_temp/lib/python3.10/site-packages (from stack_data->ipython>=6.1.0->ipywidgets->idlmav) (3.0.0)\n",
      "Installing collected packages: idlmav\n",
      "Successfully installed idlmav-1.0.4\n",
      "Note: you may need to restart the kernel to use updated packages.\n"
     ]
    }
   ],
   "source": [
    "%pip install --index-url https://test.pypi.org/simple/ idlmav"
   ]
  },
  {
   "cell_type": "code",
   "execution_count": 3,
   "metadata": {},
   "outputs": [
    {
     "data": {
      "text/html": [
       "        <script type=\"text/javascript\">\n",
       "        window.PlotlyConfig = {MathJaxConfig: 'local'};\n",
       "        if (window.MathJax && window.MathJax.Hub && window.MathJax.Hub.Config) {window.MathJax.Hub.Config({SVG: {font: \"STIX-Web\"}});}\n",
       "        if (typeof require !== 'undefined') {\n",
       "        require.undef(\"plotly\");\n",
       "        requirejs.config({\n",
       "            paths: {\n",
       "                'plotly': ['https://cdn.plot.ly/plotly-2.35.2.min']\n",
       "            }\n",
       "        });\n",
       "        require(['plotly'], function(Plotly) {\n",
       "            window._Plotly = Plotly;\n",
       "        });\n",
       "        }\n",
       "        </script>\n",
       "        "
      ]
     },
     "metadata": {},
     "output_type": "display_data"
    },
    {
     "data": {
      "text/html": [
       "<div>                            <div id=\"b269ffc2-95a7-452b-82b0-de59d23ba5b6\" class=\"plotly-graph-div\" style=\"height:525px; width:100%;\"></div>            <script type=\"text/javascript\">                require([\"plotly\"], function(Plotly) {                    window.PLOTLYENV=window.PLOTLYENV || {};                                    if (document.getElementById(\"b269ffc2-95a7-452b-82b0-de59d23ba5b6\")) {                    Plotly.newPlot(                        \"b269ffc2-95a7-452b-82b0-de59d23ba5b6\",                        [{\"customdata\":[[\"x\",\"input\",[16,3,160,160],0,0],[\"conv1\",\"nn.Conv2d\",[16,64,80,80],9408,1926758400],[\"bn1\",\"nn.BatchNorm2d\",[16,64,80,80],128,13107200],[\"relu\",\"nn.ReLU\",[16,64,80,80],0,0],[\"maxpool\",\"nn.MaxPool2d\",[16,64,40,40],0,0],[\"layer1_0_conv1\",\"nn.Conv2d\",[16,64,40,40],36864,1887436800],[\"layer1_0_bn1\",\"nn.BatchNorm2d\",[16,64,40,40],128,3276800],[\"layer1_0_relu\",\"nn.ReLU\",[16,64,40,40],0,0],[\"layer1_0_conv2\",\"nn.Conv2d\",[16,64,40,40],36864,1887436800],[\"layer1_0_bn2\",\"nn.BatchNorm2d\",[16,64,40,40],128,3276800],[\"add\",\"add()\",[16,64,40,40],0,0],[\"layer1_0_relu_1\",\"nn.ReLU\",[16,64,40,40],0,0],[\"layer1_1_conv1\",\"nn.Conv2d\",[16,64,40,40],36864,1887436800],[\"layer1_1_bn1\",\"nn.BatchNorm2d\",[16,64,40,40],128,3276800],[\"layer1_1_relu\",\"nn.ReLU\",[16,64,40,40],0,0],[\"layer1_1_conv2\",\"nn.Conv2d\",[16,64,40,40],36864,1887436800],[\"layer1_1_bn2\",\"nn.BatchNorm2d\",[16,64,40,40],128,3276800],[\"add_1\",\"add()\",[16,64,40,40],0,0],[\"layer1_1_relu_1\",\"nn.ReLU\",[16,64,40,40],0,0],[\"layer2_0_conv1\",\"nn.Conv2d\",[16,128,20,20],73728,943718400],[\"layer2_0_bn1\",\"nn.BatchNorm2d\",[16,128,20,20],256,1638400],[\"layer2_0_relu\",\"nn.ReLU\",[16,128,20,20],0,0],[\"layer2_0_conv2\",\"nn.Conv2d\",[16,128,20,20],147456,1887436800],[\"layer2_0_bn2\",\"nn.BatchNorm2d\",[16,128,20,20],256,1638400],[\"layer2_0_downsample_0\",\"nn.Conv2d\",[16,128,20,20],8192,104857600],[\"layer2_0_downsample_1\",\"nn.BatchNorm2d\",[16,128,20,20],256,1638400],[\"add_2\",\"add()\",[16,128,20,20],0,0],[\"layer2_0_relu_1\",\"nn.ReLU\",[16,128,20,20],0,0],[\"layer2_1_conv1\",\"nn.Conv2d\",[16,128,20,20],147456,1887436800],[\"layer2_1_bn1\",\"nn.BatchNorm2d\",[16,128,20,20],256,1638400],[\"layer2_1_relu\",\"nn.ReLU\",[16,128,20,20],0,0],[\"layer2_1_conv2\",\"nn.Conv2d\",[16,128,20,20],147456,1887436800],[\"layer2_1_bn2\",\"nn.BatchNorm2d\",[16,128,20,20],256,1638400],[\"add_3\",\"add()\",[16,128,20,20],0,0],[\"layer2_1_relu_1\",\"nn.ReLU\",[16,128,20,20],0,0],[\"layer3_0_conv1\",\"nn.Conv2d\",[16,256,10,10],294912,943718400],[\"layer3_0_bn1\",\"nn.BatchNorm2d\",[16,256,10,10],512,819200],[\"layer3_0_relu\",\"nn.ReLU\",[16,256,10,10],0,0],[\"layer3_0_conv2\",\"nn.Conv2d\",[16,256,10,10],589824,1887436800],[\"layer3_0_bn2\",\"nn.BatchNorm2d\",[16,256,10,10],512,819200],[\"layer3_0_downsample_0\",\"nn.Conv2d\",[16,256,10,10],32768,104857600],[\"layer3_0_downsample_1\",\"nn.BatchNorm2d\",[16,256,10,10],512,819200],[\"add_4\",\"add()\",[16,256,10,10],0,0],[\"layer3_0_relu_1\",\"nn.ReLU\",[16,256,10,10],0,0],[\"layer3_1_conv1\",\"nn.Conv2d\",[16,256,10,10],589824,1887436800],[\"layer3_1_bn1\",\"nn.BatchNorm2d\",[16,256,10,10],512,819200],[\"layer3_1_relu\",\"nn.ReLU\",[16,256,10,10],0,0],[\"layer3_1_conv2\",\"nn.Conv2d\",[16,256,10,10],589824,1887436800],[\"layer3_1_bn2\",\"nn.BatchNorm2d\",[16,256,10,10],512,819200],[\"add_5\",\"add()\",[16,256,10,10],0,0],[\"layer3_1_relu_1\",\"nn.ReLU\",[16,256,10,10],0,0],[\"layer4_0_conv1\",\"nn.Conv2d\",[16,512,5,5],1179648,943718400],[\"layer4_0_bn1\",\"nn.BatchNorm2d\",[16,512,5,5],1024,409600],[\"layer4_0_relu\",\"nn.ReLU\",[16,512,5,5],0,0],[\"layer4_0_conv2\",\"nn.Conv2d\",[16,512,5,5],2359296,1887436800],[\"layer4_0_bn2\",\"nn.BatchNorm2d\",[16,512,5,5],1024,409600],[\"layer4_0_downsample_0\",\"nn.Conv2d\",[16,512,5,5],131072,104857600],[\"layer4_0_downsample_1\",\"nn.BatchNorm2d\",[16,512,5,5],1024,409600],[\"add_6\",\"add()\",[16,512,5,5],0,0],[\"layer4_0_relu_1\",\"nn.ReLU\",[16,512,5,5],0,0],[\"layer4_1_conv1\",\"nn.Conv2d\",[16,512,5,5],2359296,1887436800],[\"layer4_1_bn1\",\"nn.BatchNorm2d\",[16,512,5,5],1024,409600],[\"layer4_1_relu\",\"nn.ReLU\",[16,512,5,5],0,0],[\"layer4_1_conv2\",\"nn.Conv2d\",[16,512,5,5],2359296,1887436800],[\"layer4_1_bn2\",\"nn.BatchNorm2d\",[16,512,5,5],1024,409600],[\"add_7\",\"add()\",[16,512,5,5],0,0],[\"layer4_1_relu_1\",\"nn.ReLU\",[16,512,5,5],0,0],[\"avgpool\",\"nn.AdaptiveAvgPool2d\",[16,512,1,1],0,16384],[\"flatten\",\"flatten()\",[16,512],0,0],[\"fc\",\"nn.Linear\",[16,1000],513000,16384000],[\"output\",\"output\",[16,1000],0,0]],\"hovertemplate\":\"Name: %{customdata[0]}\\u003cbr\\u003eOperation: %{customdata[1]}\\u003cbr\\u003eActivations: %{customdata[2]}\\u003cbr\\u003eParameters: %{customdata[3]}\\u003cbr\\u003eFLOPS: %{customdata[4]}\\u003cbr\\u003e\\u003cextra\\u003e\\u003c\\u002fextra\\u003e\",\"marker\":{\"color\":[\"#222A2A\",\"#00A08B\",\"#EB663B\",\"#1616A7\",\"#DA60CA\",\"#00A08B\",\"#EB663B\",\"#1616A7\",\"#00A08B\",\"#EB663B\",\"#778AAE\",\"#1616A7\",\"#00A08B\",\"#EB663B\",\"#1616A7\",\"#00A08B\",\"#EB663B\",\"#778AAE\",\"#1616A7\",\"#00A08B\",\"#EB663B\",\"#1616A7\",\"#00A08B\",\"#EB663B\",\"#00A08B\",\"#EB663B\",\"#778AAE\",\"#1616A7\",\"#00A08B\",\"#EB663B\",\"#1616A7\",\"#00A08B\",\"#EB663B\",\"#778AAE\",\"#1616A7\",\"#00A08B\",\"#EB663B\",\"#1616A7\",\"#00A08B\",\"#EB663B\",\"#00A08B\",\"#EB663B\",\"#778AAE\",\"#1616A7\",\"#00A08B\",\"#EB663B\",\"#1616A7\",\"#00A08B\",\"#EB663B\",\"#778AAE\",\"#1616A7\",\"#00A08B\",\"#EB663B\",\"#1616A7\",\"#00A08B\",\"#EB663B\",\"#00A08B\",\"#EB663B\",\"#778AAE\",\"#1616A7\",\"#00A08B\",\"#EB663B\",\"#1616A7\",\"#00A08B\",\"#EB663B\",\"#778AAE\",\"#1616A7\",\"#DA60CA\",\"#778AAE\",\"#2E91E5\",\"#222A2A\"],\"colorscale\":[[0.0,\"rgb(0,0,255)\"],[1.0,\"rgb(255,0,0)\"]],\"size\":[6.0,11.250279597842884,6.0,6.0,6.0,12.91881573172255,6.0,6.0,12.91881573172255,6.0,6.0,6.0,12.91881573172255,6.0,6.0,12.91881573172255,6.0,6.0,6.0,13.765679776435459,6.846864044712908,6.0,14.612543821148368,6.846864044712908,11.08118426827745,6.846864044712908,6.0,6.0,14.612543821148368,6.846864044712908,6.0,14.612543821148368,6.846864044712908,6.0,6.0,15.459407865861275,7.693728089425816,6.0,16.306271910574182,7.693728089425816,12.774912357703267,7.693728089425816,6.0,6.0,16.306271910574182,7.693728089425816,6.0,16.306271910574182,7.693728089425816,6.0,6.0,17.15313595528709,8.540592134138725,6.0,18.0,8.540592134138725,14.468640447129083,8.540592134138725,6.0,6.0,18.0,8.540592134138725,6.0,18.0,8.540592134138725,6.0,6.0,6.0,6.0,16.13577641297401,6.0]},\"mode\":\"markers\",\"showlegend\":false,\"x\":[0.0,0.0,0.0,0.0,0.0,0.0,0.0,0.0,0.0,0.0,0.0,0.0,0.0,0.0,0.0,0.0,0.0,0.0,0.0,0.0,0.0,0.0,0.0,0.0,1.0,1.0,0.0,0.0,0.0,0.0,0.0,0.0,0.0,0.0,0.0,0.0,0.0,0.0,0.0,0.0,1.0,1.0,0.0,0.0,0.0,0.0,0.0,0.0,0.0,0.0,0.0,0.0,0.0,0.0,0.0,0.0,1.0,1.0,0.0,0.0,0.0,0.0,0.0,0.0,0.0,0.0,0.0,0.0,0.0,0.0,0.0],\"y\":[0,1,1.15,1.3,1.45,2,2.15,2.3,3,3.15,4,4.15,5,5.15,5.3,6,6.15,7,7.15,8,8.15,8.3,9,9.15,9,9.15,10,10.15,11,11.15,11.3,12,12.15,13,13.15,14,14.15,14.3,15,15.15,15,15.15,16,16.15,17,17.15,17.3,18,18.15,19,19.15,20,20.15,20.3,21,21.15,21,21.15,22,22.15,23,23.15,23.3,24,24.15,25,25.15,25.3,25.45,26,27],\"type\":\"scatter\",\"xaxis\":\"x\",\"yaxis\":\"y\"},{\"hoverinfo\":\"skip\",\"line\":{\"color\":\"gray\",\"width\":1},\"mode\":\"lines\",\"showlegend\":false,\"x\":[0.0,0.0,null,0.0,0.0,null,0.0,0.0,null,0.0,0.0,null,0.0,0.0,null,0.0,0.0,null,0.0,0.0,null,0.0,0.0,null,0.0,0.0,null,0.0,0.0,null,0.0,0.4,0.4,0.0,null,0.0,0.0,null,0.0,0.0,null,0.0,0.0,null,0.0,0.0,null,0.0,0.0,null,0.0,0.0,null,0.0,0.0,null,0.0,0.4,0.4,0.0,null,0.0,0.0,null,0.0,0.0,null,0.0,0.0,null,0.0,0.0,null,0.0,0.0,null,0.0,0.0,null,0.0,1.0,null,1.0,1.0,null,0.0,0.0,null,1.0,0.0,null,0.0,0.0,null,0.0,0.0,null,0.0,0.0,null,0.0,0.0,null,0.0,0.0,null,0.0,0.0,null,0.0,0.0,null,0.0,0.4,0.4,0.0,null,0.0,0.0,null,0.0,0.0,null,0.0,0.0,null,0.0,0.0,null,0.0,0.0,null,0.0,0.0,null,0.0,1.0,null,1.0,1.0,null,0.0,0.0,null,1.0,0.0,null,0.0,0.0,null,0.0,0.0,null,0.0,0.0,null,0.0,0.0,null,0.0,0.0,null,0.0,0.0,null,0.0,0.0,null,0.0,0.4,0.4,0.0,null,0.0,0.0,null,0.0,0.0,null,0.0,0.0,null,0.0,0.0,null,0.0,0.0,null,0.0,0.0,null,0.0,1.0,null,1.0,1.0,null,0.0,0.0,null,1.0,0.0,null,0.0,0.0,null,0.0,0.0,null,0.0,0.0,null,0.0,0.0,null,0.0,0.0,null,0.0,0.0,null,0.0,0.0,null,0.0,0.4,0.4,0.0,null,0.0,0.0,null,0.0,0.0,null,0.0,0.0,null,0.0,0.0,null,0.0,0.0],\"y\":[0,1,null,1,1.15,null,1.15,1.3,null,1.3,1.45,null,1.45,2,null,2,2.15,null,2.15,2.3,null,2.3,3,null,3,3.15,null,3.15,4,null,1.45,1.85,3.6,4,null,4,4.15,null,4.15,5,null,5,5.15,null,5.15,5.3,null,5.3,6,null,6,6.15,null,6.15,7,null,4.15,4.550000000000001,6.6,7,null,7,7.15,null,7.15,8,null,8,8.15,null,8.15,8.3,null,8.3,9,null,9,9.15,null,7.15,9,null,9,9.15,null,9.15,10,null,9.15,10,null,10,10.15,null,10.15,11,null,11,11.15,null,11.15,11.3,null,11.3,12,null,12,12.15,null,12.15,13,null,10.15,10.55,12.6,13,null,13,13.15,null,13.15,14,null,14,14.15,null,14.15,14.3,null,14.3,15,null,15,15.15,null,13.15,15,null,15,15.15,null,15.15,16,null,15.15,16,null,16,16.15,null,16.15,17,null,17,17.15,null,17.15,17.3,null,17.3,18,null,18,18.15,null,18.15,19,null,16.15,16.549999999999997,18.6,19,null,19,19.15,null,19.15,20,null,20,20.15,null,20.15,20.3,null,20.3,21,null,21,21.15,null,19.15,21,null,21,21.15,null,21.15,22,null,21.15,22,null,22,22.15,null,22.15,23,null,23,23.15,null,23.15,23.3,null,23.3,24,null,24,24.15,null,24.15,25,null,22.15,22.549999999999997,24.6,25,null,25,25.15,null,25.15,25.3,null,25.3,25.45,null,25.45,26,null,26,27],\"type\":\"scatter\",\"xaxis\":\"x\",\"yaxis\":\"y\"},{\"cells\":{\"align\":\"left\",\"values\":[[\"x\",\"conv1\",\"bn1\",\"relu\",\"maxpool\",\"layer1_0_conv1\",\"layer1_0_bn1\",\"layer1_0_relu\",\"layer1_0_conv2\",\"layer1_0_bn2\",\"add\",\"layer1_0_relu_1\",\"layer1_1_conv1\",\"layer1_1_bn1\",\"layer1_1_relu\",\"layer1_1_conv2\",\"layer1_1_bn2\",\"add_1\",\"layer1_1_relu_1\",\"layer2_0_conv1\",\"layer2_0_bn1\",\"layer2_0_relu\",\"layer2_0_conv2\",\"layer2_0_bn2\",\"layer2_0_downsample_0\",\"layer2_0_downsample_1\",\"add_2\",\"layer2_0_relu_1\",\"layer2_1_conv1\",\"layer2_1_bn1\",\"layer2_1_relu\",\"layer2_1_conv2\",\"layer2_1_bn2\",\"add_3\",\"layer2_1_relu_1\",\"layer3_0_conv1\",\"layer3_0_bn1\",\"layer3_0_relu\",\"layer3_0_conv2\",\"layer3_0_bn2\",\"layer3_0_downsample_0\",\"layer3_0_downsample_1\",\"add_4\",\"layer3_0_relu_1\",\"layer3_1_conv1\",\"layer3_1_bn1\",\"layer3_1_relu\",\"layer3_1_conv2\",\"layer3_1_bn2\",\"add_5\",\"layer3_1_relu_1\",\"layer4_0_conv1\",\"layer4_0_bn1\",\"layer4_0_relu\",\"layer4_0_conv2\",\"layer4_0_bn2\",\"layer4_0_downsample_0\",\"layer4_0_downsample_1\",\"add_6\",\"layer4_0_relu_1\",\"layer4_1_conv1\",\"layer4_1_bn1\",\"layer4_1_relu\",\"layer4_1_conv2\",\"layer4_1_bn2\",\"add_7\",\"layer4_1_relu_1\",\"avgpool\",\"flatten\",\"fc\",\"output\"],[\"input\",\"nn.Conv2d\",\"nn.BatchNorm2d\",\"nn.ReLU\",\"nn.MaxPool2d\",\"nn.Conv2d\",\"nn.BatchNorm2d\",\"nn.ReLU\",\"nn.Conv2d\",\"nn.BatchNorm2d\",\"add()\",\"nn.ReLU\",\"nn.Conv2d\",\"nn.BatchNorm2d\",\"nn.ReLU\",\"nn.Conv2d\",\"nn.BatchNorm2d\",\"add()\",\"nn.ReLU\",\"nn.Conv2d\",\"nn.BatchNorm2d\",\"nn.ReLU\",\"nn.Conv2d\",\"nn.BatchNorm2d\",\"nn.Conv2d\",\"nn.BatchNorm2d\",\"add()\",\"nn.ReLU\",\"nn.Conv2d\",\"nn.BatchNorm2d\",\"nn.ReLU\",\"nn.Conv2d\",\"nn.BatchNorm2d\",\"add()\",\"nn.ReLU\",\"nn.Conv2d\",\"nn.BatchNorm2d\",\"nn.ReLU\",\"nn.Conv2d\",\"nn.BatchNorm2d\",\"nn.Conv2d\",\"nn.BatchNorm2d\",\"add()\",\"nn.ReLU\",\"nn.Conv2d\",\"nn.BatchNorm2d\",\"nn.ReLU\",\"nn.Conv2d\",\"nn.BatchNorm2d\",\"add()\",\"nn.ReLU\",\"nn.Conv2d\",\"nn.BatchNorm2d\",\"nn.ReLU\",\"nn.Conv2d\",\"nn.BatchNorm2d\",\"nn.Conv2d\",\"nn.BatchNorm2d\",\"add()\",\"nn.ReLU\",\"nn.Conv2d\",\"nn.BatchNorm2d\",\"nn.ReLU\",\"nn.Conv2d\",\"nn.BatchNorm2d\",\"add()\",\"nn.ReLU\",\"nn.AdaptiveAvgPool2d\",\"flatten()\",\"nn.Linear\",\"output\"],[[16,3,160,160],[16,64,80,80],[16,64,80,80],[16,64,80,80],[16,64,40,40],[16,64,40,40],[16,64,40,40],[16,64,40,40],[16,64,40,40],[16,64,40,40],[16,64,40,40],[16,64,40,40],[16,64,40,40],[16,64,40,40],[16,64,40,40],[16,64,40,40],[16,64,40,40],[16,64,40,40],[16,64,40,40],[16,128,20,20],[16,128,20,20],[16,128,20,20],[16,128,20,20],[16,128,20,20],[16,128,20,20],[16,128,20,20],[16,128,20,20],[16,128,20,20],[16,128,20,20],[16,128,20,20],[16,128,20,20],[16,128,20,20],[16,128,20,20],[16,128,20,20],[16,128,20,20],[16,256,10,10],[16,256,10,10],[16,256,10,10],[16,256,10,10],[16,256,10,10],[16,256,10,10],[16,256,10,10],[16,256,10,10],[16,256,10,10],[16,256,10,10],[16,256,10,10],[16,256,10,10],[16,256,10,10],[16,256,10,10],[16,256,10,10],[16,256,10,10],[16,512,5,5],[16,512,5,5],[16,512,5,5],[16,512,5,5],[16,512,5,5],[16,512,5,5],[16,512,5,5],[16,512,5,5],[16,512,5,5],[16,512,5,5],[16,512,5,5],[16,512,5,5],[16,512,5,5],[16,512,5,5],[16,512,5,5],[16,512,5,5],[16,512,1,1],[16,512],[16,1000],[16,1000]],[0,9408,128,0,0,36864,128,0,36864,128,0,0,36864,128,0,36864,128,0,0,73728,256,0,147456,256,8192,256,0,0,147456,256,0,147456,256,0,0,294912,512,0,589824,512,32768,512,0,0,589824,512,0,589824,512,0,0,1179648,1024,0,2359296,1024,131072,1024,0,0,2359296,1024,0,2359296,1024,0,0,0,0,513000,0],[0,1926758400,13107200,0,0,1887436800,3276800,0,1887436800,3276800,0,0,1887436800,3276800,0,1887436800,3276800,0,0,943718400,1638400,0,1887436800,1638400,104857600,1638400,0,0,1887436800,1638400,0,1887436800,1638400,0,0,943718400,819200,0,1887436800,819200,104857600,819200,0,0,1887436800,819200,0,1887436800,819200,0,0,943718400,409600,0,1887436800,409600,104857600,409600,0,0,1887436800,409600,0,1887436800,409600,0,0,16384,0,16384000,0]]},\"header\":{\"align\":\"left\",\"font\":{\"size\":10},\"values\":[\"Name\",\"Operation\",\"Activations\",\"Params\",\"FLOPS\"]},\"type\":\"table\",\"domain\":{\"x\":[0.26363636363636367,1.0],\"y\":[0.0,1.0]}}],                        {\"template\":{\"data\":{\"histogram2dcontour\":[{\"type\":\"histogram2dcontour\",\"colorbar\":{\"outlinewidth\":0,\"ticks\":\"\"},\"colorscale\":[[0.0,\"#0d0887\"],[0.1111111111111111,\"#46039f\"],[0.2222222222222222,\"#7201a8\"],[0.3333333333333333,\"#9c179e\"],[0.4444444444444444,\"#bd3786\"],[0.5555555555555556,\"#d8576b\"],[0.6666666666666666,\"#ed7953\"],[0.7777777777777778,\"#fb9f3a\"],[0.8888888888888888,\"#fdca26\"],[1.0,\"#f0f921\"]]}],\"choropleth\":[{\"type\":\"choropleth\",\"colorbar\":{\"outlinewidth\":0,\"ticks\":\"\"}}],\"histogram2d\":[{\"type\":\"histogram2d\",\"colorbar\":{\"outlinewidth\":0,\"ticks\":\"\"},\"colorscale\":[[0.0,\"#0d0887\"],[0.1111111111111111,\"#46039f\"],[0.2222222222222222,\"#7201a8\"],[0.3333333333333333,\"#9c179e\"],[0.4444444444444444,\"#bd3786\"],[0.5555555555555556,\"#d8576b\"],[0.6666666666666666,\"#ed7953\"],[0.7777777777777778,\"#fb9f3a\"],[0.8888888888888888,\"#fdca26\"],[1.0,\"#f0f921\"]]}],\"heatmap\":[{\"type\":\"heatmap\",\"colorbar\":{\"outlinewidth\":0,\"ticks\":\"\"},\"colorscale\":[[0.0,\"#0d0887\"],[0.1111111111111111,\"#46039f\"],[0.2222222222222222,\"#7201a8\"],[0.3333333333333333,\"#9c179e\"],[0.4444444444444444,\"#bd3786\"],[0.5555555555555556,\"#d8576b\"],[0.6666666666666666,\"#ed7953\"],[0.7777777777777778,\"#fb9f3a\"],[0.8888888888888888,\"#fdca26\"],[1.0,\"#f0f921\"]]}],\"heatmapgl\":[{\"type\":\"heatmapgl\",\"colorbar\":{\"outlinewidth\":0,\"ticks\":\"\"},\"colorscale\":[[0.0,\"#0d0887\"],[0.1111111111111111,\"#46039f\"],[0.2222222222222222,\"#7201a8\"],[0.3333333333333333,\"#9c179e\"],[0.4444444444444444,\"#bd3786\"],[0.5555555555555556,\"#d8576b\"],[0.6666666666666666,\"#ed7953\"],[0.7777777777777778,\"#fb9f3a\"],[0.8888888888888888,\"#fdca26\"],[1.0,\"#f0f921\"]]}],\"contourcarpet\":[{\"type\":\"contourcarpet\",\"colorbar\":{\"outlinewidth\":0,\"ticks\":\"\"}}],\"contour\":[{\"type\":\"contour\",\"colorbar\":{\"outlinewidth\":0,\"ticks\":\"\"},\"colorscale\":[[0.0,\"#0d0887\"],[0.1111111111111111,\"#46039f\"],[0.2222222222222222,\"#7201a8\"],[0.3333333333333333,\"#9c179e\"],[0.4444444444444444,\"#bd3786\"],[0.5555555555555556,\"#d8576b\"],[0.6666666666666666,\"#ed7953\"],[0.7777777777777778,\"#fb9f3a\"],[0.8888888888888888,\"#fdca26\"],[1.0,\"#f0f921\"]]}],\"surface\":[{\"type\":\"surface\",\"colorbar\":{\"outlinewidth\":0,\"ticks\":\"\"},\"colorscale\":[[0.0,\"#0d0887\"],[0.1111111111111111,\"#46039f\"],[0.2222222222222222,\"#7201a8\"],[0.3333333333333333,\"#9c179e\"],[0.4444444444444444,\"#bd3786\"],[0.5555555555555556,\"#d8576b\"],[0.6666666666666666,\"#ed7953\"],[0.7777777777777778,\"#fb9f3a\"],[0.8888888888888888,\"#fdca26\"],[1.0,\"#f0f921\"]]}],\"mesh3d\":[{\"type\":\"mesh3d\",\"colorbar\":{\"outlinewidth\":0,\"ticks\":\"\"}}],\"scatter\":[{\"fillpattern\":{\"fillmode\":\"overlay\",\"size\":10,\"solidity\":0.2},\"type\":\"scatter\"}],\"parcoords\":[{\"type\":\"parcoords\",\"line\":{\"colorbar\":{\"outlinewidth\":0,\"ticks\":\"\"}}}],\"scatterpolargl\":[{\"type\":\"scatterpolargl\",\"marker\":{\"colorbar\":{\"outlinewidth\":0,\"ticks\":\"\"}}}],\"bar\":[{\"error_x\":{\"color\":\"#2a3f5f\"},\"error_y\":{\"color\":\"#2a3f5f\"},\"marker\":{\"line\":{\"color\":\"#E5ECF6\",\"width\":0.5},\"pattern\":{\"fillmode\":\"overlay\",\"size\":10,\"solidity\":0.2}},\"type\":\"bar\"}],\"scattergeo\":[{\"type\":\"scattergeo\",\"marker\":{\"colorbar\":{\"outlinewidth\":0,\"ticks\":\"\"}}}],\"scatterpolar\":[{\"type\":\"scatterpolar\",\"marker\":{\"colorbar\":{\"outlinewidth\":0,\"ticks\":\"\"}}}],\"histogram\":[{\"marker\":{\"pattern\":{\"fillmode\":\"overlay\",\"size\":10,\"solidity\":0.2}},\"type\":\"histogram\"}],\"scattergl\":[{\"type\":\"scattergl\",\"marker\":{\"colorbar\":{\"outlinewidth\":0,\"ticks\":\"\"}}}],\"scatter3d\":[{\"type\":\"scatter3d\",\"line\":{\"colorbar\":{\"outlinewidth\":0,\"ticks\":\"\"}},\"marker\":{\"colorbar\":{\"outlinewidth\":0,\"ticks\":\"\"}}}],\"scattermapbox\":[{\"type\":\"scattermapbox\",\"marker\":{\"colorbar\":{\"outlinewidth\":0,\"ticks\":\"\"}}}],\"scatterternary\":[{\"type\":\"scatterternary\",\"marker\":{\"colorbar\":{\"outlinewidth\":0,\"ticks\":\"\"}}}],\"scattercarpet\":[{\"type\":\"scattercarpet\",\"marker\":{\"colorbar\":{\"outlinewidth\":0,\"ticks\":\"\"}}}],\"carpet\":[{\"aaxis\":{\"endlinecolor\":\"#2a3f5f\",\"gridcolor\":\"white\",\"linecolor\":\"white\",\"minorgridcolor\":\"white\",\"startlinecolor\":\"#2a3f5f\"},\"baxis\":{\"endlinecolor\":\"#2a3f5f\",\"gridcolor\":\"white\",\"linecolor\":\"white\",\"minorgridcolor\":\"white\",\"startlinecolor\":\"#2a3f5f\"},\"type\":\"carpet\"}],\"table\":[{\"cells\":{\"fill\":{\"color\":\"#EBF0F8\"},\"line\":{\"color\":\"white\"}},\"header\":{\"fill\":{\"color\":\"#C8D4E3\"},\"line\":{\"color\":\"white\"}},\"type\":\"table\"}],\"barpolar\":[{\"marker\":{\"line\":{\"color\":\"#E5ECF6\",\"width\":0.5},\"pattern\":{\"fillmode\":\"overlay\",\"size\":10,\"solidity\":0.2}},\"type\":\"barpolar\"}],\"pie\":[{\"automargin\":true,\"type\":\"pie\"}]},\"layout\":{\"autotypenumbers\":\"strict\",\"colorway\":[\"#636efa\",\"#EF553B\",\"#00cc96\",\"#ab63fa\",\"#FFA15A\",\"#19d3f3\",\"#FF6692\",\"#B6E880\",\"#FF97FF\",\"#FECB52\"],\"font\":{\"color\":\"#2a3f5f\"},\"hovermode\":\"closest\",\"hoverlabel\":{\"align\":\"left\"},\"paper_bgcolor\":\"white\",\"plot_bgcolor\":\"#E5ECF6\",\"polar\":{\"bgcolor\":\"#E5ECF6\",\"angularaxis\":{\"gridcolor\":\"white\",\"linecolor\":\"white\",\"ticks\":\"\"},\"radialaxis\":{\"gridcolor\":\"white\",\"linecolor\":\"white\",\"ticks\":\"\"}},\"ternary\":{\"bgcolor\":\"#E5ECF6\",\"aaxis\":{\"gridcolor\":\"white\",\"linecolor\":\"white\",\"ticks\":\"\"},\"baxis\":{\"gridcolor\":\"white\",\"linecolor\":\"white\",\"ticks\":\"\"},\"caxis\":{\"gridcolor\":\"white\",\"linecolor\":\"white\",\"ticks\":\"\"}},\"coloraxis\":{\"colorbar\":{\"outlinewidth\":0,\"ticks\":\"\"}},\"colorscale\":{\"sequential\":[[0.0,\"#0d0887\"],[0.1111111111111111,\"#46039f\"],[0.2222222222222222,\"#7201a8\"],[0.3333333333333333,\"#9c179e\"],[0.4444444444444444,\"#bd3786\"],[0.5555555555555556,\"#d8576b\"],[0.6666666666666666,\"#ed7953\"],[0.7777777777777778,\"#fb9f3a\"],[0.8888888888888888,\"#fdca26\"],[1.0,\"#f0f921\"]],\"sequentialminus\":[[0.0,\"#0d0887\"],[0.1111111111111111,\"#46039f\"],[0.2222222222222222,\"#7201a8\"],[0.3333333333333333,\"#9c179e\"],[0.4444444444444444,\"#bd3786\"],[0.5555555555555556,\"#d8576b\"],[0.6666666666666666,\"#ed7953\"],[0.7777777777777778,\"#fb9f3a\"],[0.8888888888888888,\"#fdca26\"],[1.0,\"#f0f921\"]],\"diverging\":[[0,\"#8e0152\"],[0.1,\"#c51b7d\"],[0.2,\"#de77ae\"],[0.3,\"#f1b6da\"],[0.4,\"#fde0ef\"],[0.5,\"#f7f7f7\"],[0.6,\"#e6f5d0\"],[0.7,\"#b8e186\"],[0.8,\"#7fbc41\"],[0.9,\"#4d9221\"],[1,\"#276419\"]]},\"xaxis\":{\"gridcolor\":\"white\",\"linecolor\":\"white\",\"ticks\":\"\",\"title\":{\"standoff\":15},\"zerolinecolor\":\"white\",\"automargin\":true,\"zerolinewidth\":2},\"yaxis\":{\"gridcolor\":\"white\",\"linecolor\":\"white\",\"ticks\":\"\",\"title\":{\"standoff\":15},\"zerolinecolor\":\"white\",\"automargin\":true,\"zerolinewidth\":2},\"scene\":{\"xaxis\":{\"backgroundcolor\":\"#E5ECF6\",\"gridcolor\":\"white\",\"linecolor\":\"white\",\"showbackground\":true,\"ticks\":\"\",\"zerolinecolor\":\"white\",\"gridwidth\":2},\"yaxis\":{\"backgroundcolor\":\"#E5ECF6\",\"gridcolor\":\"white\",\"linecolor\":\"white\",\"showbackground\":true,\"ticks\":\"\",\"zerolinecolor\":\"white\",\"gridwidth\":2},\"zaxis\":{\"backgroundcolor\":\"#E5ECF6\",\"gridcolor\":\"white\",\"linecolor\":\"white\",\"showbackground\":true,\"ticks\":\"\",\"zerolinecolor\":\"white\",\"gridwidth\":2}},\"shapedefaults\":{\"line\":{\"color\":\"#2a3f5f\"}},\"annotationdefaults\":{\"arrowcolor\":\"#2a3f5f\",\"arrowhead\":0,\"arrowwidth\":1},\"geo\":{\"bgcolor\":\"white\",\"landcolor\":\"#E5ECF6\",\"subunitcolor\":\"white\",\"showland\":true,\"showlakes\":true,\"lakecolor\":\"white\"},\"title\":{\"x\":0.05},\"mapbox\":{\"style\":\"light\"}}},\"xaxis\":{\"anchor\":\"y\",\"domain\":[0.0,0.16363636363636364],\"showgrid\":false,\"zeroline\":false,\"tickmode\":\"array\",\"tickvals\":[]},\"yaxis\":{\"anchor\":\"x\",\"domain\":[0.0,1.0],\"showgrid\":false,\"zeroline\":false,\"tickmode\":\"array\",\"tickvals\":[],\"range\":[9.5,-0.5]},\"sliders\":[{\"active\":0,\"currentvalue\":{\"visible\":false},\"pad\":{\"t\":50},\"steps\":[{\"args\":[{\"yaxis\":{\"range\":[9.5,-0.5],\"showgrid\":false,\"zeroline\":false,\"tickmode\":\"array\",\"tickvals\":[]}}],\"label\":\"\",\"method\":\"relayout\"},{\"args\":[{\"yaxis\":{\"range\":[9.6,-0.4],\"showgrid\":false,\"zeroline\":false,\"tickmode\":\"array\",\"tickvals\":[]}}],\"label\":\"\",\"method\":\"relayout\"},{\"args\":[{\"yaxis\":{\"range\":[9.7,-0.3],\"showgrid\":false,\"zeroline\":false,\"tickmode\":\"array\",\"tickvals\":[]}}],\"label\":\"\",\"method\":\"relayout\"},{\"args\":[{\"yaxis\":{\"range\":[9.8,-0.19999999999999996],\"showgrid\":false,\"zeroline\":false,\"tickmode\":\"array\",\"tickvals\":[]}}],\"label\":\"\",\"method\":\"relayout\"},{\"args\":[{\"yaxis\":{\"range\":[9.9,-0.09999999999999998],\"showgrid\":false,\"zeroline\":false,\"tickmode\":\"array\",\"tickvals\":[]}}],\"label\":\"\",\"method\":\"relayout\"},{\"args\":[{\"yaxis\":{\"range\":[10.0,0.0],\"showgrid\":false,\"zeroline\":false,\"tickmode\":\"array\",\"tickvals\":[]}}],\"label\":\"\",\"method\":\"relayout\"},{\"args\":[{\"yaxis\":{\"range\":[10.1,0.10000000000000009],\"showgrid\":false,\"zeroline\":false,\"tickmode\":\"array\",\"tickvals\":[]}}],\"label\":\"\",\"method\":\"relayout\"},{\"args\":[{\"yaxis\":{\"range\":[10.2,0.20000000000000007],\"showgrid\":false,\"zeroline\":false,\"tickmode\":\"array\",\"tickvals\":[]}}],\"label\":\"\",\"method\":\"relayout\"},{\"args\":[{\"yaxis\":{\"range\":[10.3,0.30000000000000004],\"showgrid\":false,\"zeroline\":false,\"tickmode\":\"array\",\"tickvals\":[]}}],\"label\":\"\",\"method\":\"relayout\"},{\"args\":[{\"yaxis\":{\"range\":[10.4,0.4],\"showgrid\":false,\"zeroline\":false,\"tickmode\":\"array\",\"tickvals\":[]}}],\"label\":\"\",\"method\":\"relayout\"},{\"args\":[{\"yaxis\":{\"range\":[10.5,0.5],\"showgrid\":false,\"zeroline\":false,\"tickmode\":\"array\",\"tickvals\":[]}}],\"label\":\"\",\"method\":\"relayout\"},{\"args\":[{\"yaxis\":{\"range\":[10.6,0.6000000000000001],\"showgrid\":false,\"zeroline\":false,\"tickmode\":\"array\",\"tickvals\":[]}}],\"label\":\"\",\"method\":\"relayout\"},{\"args\":[{\"yaxis\":{\"range\":[10.7,0.7000000000000002],\"showgrid\":false,\"zeroline\":false,\"tickmode\":\"array\",\"tickvals\":[]}}],\"label\":\"\",\"method\":\"relayout\"},{\"args\":[{\"yaxis\":{\"range\":[10.8,0.8],\"showgrid\":false,\"zeroline\":false,\"tickmode\":\"array\",\"tickvals\":[]}}],\"label\":\"\",\"method\":\"relayout\"},{\"args\":[{\"yaxis\":{\"range\":[10.9,0.9000000000000001],\"showgrid\":false,\"zeroline\":false,\"tickmode\":\"array\",\"tickvals\":[]}}],\"label\":\"\",\"method\":\"relayout\"},{\"args\":[{\"yaxis\":{\"range\":[11.0,1.0],\"showgrid\":false,\"zeroline\":false,\"tickmode\":\"array\",\"tickvals\":[]}}],\"label\":\"\",\"method\":\"relayout\"},{\"args\":[{\"yaxis\":{\"range\":[11.1,1.1],\"showgrid\":false,\"zeroline\":false,\"tickmode\":\"array\",\"tickvals\":[]}}],\"label\":\"\",\"method\":\"relayout\"},{\"args\":[{\"yaxis\":{\"range\":[11.2,1.2000000000000002],\"showgrid\":false,\"zeroline\":false,\"tickmode\":\"array\",\"tickvals\":[]}}],\"label\":\"\",\"method\":\"relayout\"},{\"args\":[{\"yaxis\":{\"range\":[11.3,1.3],\"showgrid\":false,\"zeroline\":false,\"tickmode\":\"array\",\"tickvals\":[]}}],\"label\":\"\",\"method\":\"relayout\"},{\"args\":[{\"yaxis\":{\"range\":[11.4,1.4000000000000001],\"showgrid\":false,\"zeroline\":false,\"tickmode\":\"array\",\"tickvals\":[]}}],\"label\":\"\",\"method\":\"relayout\"},{\"args\":[{\"yaxis\":{\"range\":[11.5,1.5],\"showgrid\":false,\"zeroline\":false,\"tickmode\":\"array\",\"tickvals\":[]}}],\"label\":\"\",\"method\":\"relayout\"},{\"args\":[{\"yaxis\":{\"range\":[11.6,1.6],\"showgrid\":false,\"zeroline\":false,\"tickmode\":\"array\",\"tickvals\":[]}}],\"label\":\"\",\"method\":\"relayout\"},{\"args\":[{\"yaxis\":{\"range\":[11.7,1.7000000000000002],\"showgrid\":false,\"zeroline\":false,\"tickmode\":\"array\",\"tickvals\":[]}}],\"label\":\"\",\"method\":\"relayout\"},{\"args\":[{\"yaxis\":{\"range\":[11.8,1.8000000000000003],\"showgrid\":false,\"zeroline\":false,\"tickmode\":\"array\",\"tickvals\":[]}}],\"label\":\"\",\"method\":\"relayout\"},{\"args\":[{\"yaxis\":{\"range\":[11.9,1.9000000000000004],\"showgrid\":false,\"zeroline\":false,\"tickmode\":\"array\",\"tickvals\":[]}}],\"label\":\"\",\"method\":\"relayout\"},{\"args\":[{\"yaxis\":{\"range\":[12.0,2.0],\"showgrid\":false,\"zeroline\":false,\"tickmode\":\"array\",\"tickvals\":[]}}],\"label\":\"\",\"method\":\"relayout\"},{\"args\":[{\"yaxis\":{\"range\":[12.1,2.1],\"showgrid\":false,\"zeroline\":false,\"tickmode\":\"array\",\"tickvals\":[]}}],\"label\":\"\",\"method\":\"relayout\"},{\"args\":[{\"yaxis\":{\"range\":[12.2,2.2],\"showgrid\":false,\"zeroline\":false,\"tickmode\":\"array\",\"tickvals\":[]}}],\"label\":\"\",\"method\":\"relayout\"},{\"args\":[{\"yaxis\":{\"range\":[12.3,2.3000000000000003],\"showgrid\":false,\"zeroline\":false,\"tickmode\":\"array\",\"tickvals\":[]}}],\"label\":\"\",\"method\":\"relayout\"},{\"args\":[{\"yaxis\":{\"range\":[12.4,2.4000000000000004],\"showgrid\":false,\"zeroline\":false,\"tickmode\":\"array\",\"tickvals\":[]}}],\"label\":\"\",\"method\":\"relayout\"},{\"args\":[{\"yaxis\":{\"range\":[12.5,2.5],\"showgrid\":false,\"zeroline\":false,\"tickmode\":\"array\",\"tickvals\":[]}}],\"label\":\"\",\"method\":\"relayout\"},{\"args\":[{\"yaxis\":{\"range\":[12.6,2.6],\"showgrid\":false,\"zeroline\":false,\"tickmode\":\"array\",\"tickvals\":[]}}],\"label\":\"\",\"method\":\"relayout\"},{\"args\":[{\"yaxis\":{\"range\":[12.7,2.7],\"showgrid\":false,\"zeroline\":false,\"tickmode\":\"array\",\"tickvals\":[]}}],\"label\":\"\",\"method\":\"relayout\"},{\"args\":[{\"yaxis\":{\"range\":[12.8,2.8000000000000003],\"showgrid\":false,\"zeroline\":false,\"tickmode\":\"array\",\"tickvals\":[]}}],\"label\":\"\",\"method\":\"relayout\"},{\"args\":[{\"yaxis\":{\"range\":[12.9,2.9000000000000004],\"showgrid\":false,\"zeroline\":false,\"tickmode\":\"array\",\"tickvals\":[]}}],\"label\":\"\",\"method\":\"relayout\"},{\"args\":[{\"yaxis\":{\"range\":[13.0,3.0],\"showgrid\":false,\"zeroline\":false,\"tickmode\":\"array\",\"tickvals\":[]}}],\"label\":\"\",\"method\":\"relayout\"},{\"args\":[{\"yaxis\":{\"range\":[13.1,3.1],\"showgrid\":false,\"zeroline\":false,\"tickmode\":\"array\",\"tickvals\":[]}}],\"label\":\"\",\"method\":\"relayout\"},{\"args\":[{\"yaxis\":{\"range\":[13.2,3.2],\"showgrid\":false,\"zeroline\":false,\"tickmode\":\"array\",\"tickvals\":[]}}],\"label\":\"\",\"method\":\"relayout\"},{\"args\":[{\"yaxis\":{\"range\":[13.3,3.3000000000000003],\"showgrid\":false,\"zeroline\":false,\"tickmode\":\"array\",\"tickvals\":[]}}],\"label\":\"\",\"method\":\"relayout\"},{\"args\":[{\"yaxis\":{\"range\":[13.4,3.4000000000000004],\"showgrid\":false,\"zeroline\":false,\"tickmode\":\"array\",\"tickvals\":[]}}],\"label\":\"\",\"method\":\"relayout\"},{\"args\":[{\"yaxis\":{\"range\":[13.5,3.5],\"showgrid\":false,\"zeroline\":false,\"tickmode\":\"array\",\"tickvals\":[]}}],\"label\":\"\",\"method\":\"relayout\"},{\"args\":[{\"yaxis\":{\"range\":[13.600000000000001,3.6000000000000005],\"showgrid\":false,\"zeroline\":false,\"tickmode\":\"array\",\"tickvals\":[]}}],\"label\":\"\",\"method\":\"relayout\"},{\"args\":[{\"yaxis\":{\"range\":[13.7,3.7],\"showgrid\":false,\"zeroline\":false,\"tickmode\":\"array\",\"tickvals\":[]}}],\"label\":\"\",\"method\":\"relayout\"},{\"args\":[{\"yaxis\":{\"range\":[13.8,3.8],\"showgrid\":false,\"zeroline\":false,\"tickmode\":\"array\",\"tickvals\":[]}}],\"label\":\"\",\"method\":\"relayout\"},{\"args\":[{\"yaxis\":{\"range\":[13.9,3.9000000000000004],\"showgrid\":false,\"zeroline\":false,\"tickmode\":\"array\",\"tickvals\":[]}}],\"label\":\"\",\"method\":\"relayout\"},{\"args\":[{\"yaxis\":{\"range\":[14.0,4.0],\"showgrid\":false,\"zeroline\":false,\"tickmode\":\"array\",\"tickvals\":[]}}],\"label\":\"\",\"method\":\"relayout\"},{\"args\":[{\"yaxis\":{\"range\":[14.100000000000001,4.1000000000000005],\"showgrid\":false,\"zeroline\":false,\"tickmode\":\"array\",\"tickvals\":[]}}],\"label\":\"\",\"method\":\"relayout\"},{\"args\":[{\"yaxis\":{\"range\":[14.2,4.2],\"showgrid\":false,\"zeroline\":false,\"tickmode\":\"array\",\"tickvals\":[]}}],\"label\":\"\",\"method\":\"relayout\"},{\"args\":[{\"yaxis\":{\"range\":[14.3,4.300000000000001],\"showgrid\":false,\"zeroline\":false,\"tickmode\":\"array\",\"tickvals\":[]}}],\"label\":\"\",\"method\":\"relayout\"},{\"args\":[{\"yaxis\":{\"range\":[14.4,4.4],\"showgrid\":false,\"zeroline\":false,\"tickmode\":\"array\",\"tickvals\":[]}}],\"label\":\"\",\"method\":\"relayout\"},{\"args\":[{\"yaxis\":{\"range\":[14.5,4.5],\"showgrid\":false,\"zeroline\":false,\"tickmode\":\"array\",\"tickvals\":[]}}],\"label\":\"\",\"method\":\"relayout\"},{\"args\":[{\"yaxis\":{\"range\":[14.600000000000001,4.6000000000000005],\"showgrid\":false,\"zeroline\":false,\"tickmode\":\"array\",\"tickvals\":[]}}],\"label\":\"\",\"method\":\"relayout\"},{\"args\":[{\"yaxis\":{\"range\":[14.7,4.7],\"showgrid\":false,\"zeroline\":false,\"tickmode\":\"array\",\"tickvals\":[]}}],\"label\":\"\",\"method\":\"relayout\"},{\"args\":[{\"yaxis\":{\"range\":[14.8,4.800000000000001],\"showgrid\":false,\"zeroline\":false,\"tickmode\":\"array\",\"tickvals\":[]}}],\"label\":\"\",\"method\":\"relayout\"},{\"args\":[{\"yaxis\":{\"range\":[14.9,4.9],\"showgrid\":false,\"zeroline\":false,\"tickmode\":\"array\",\"tickvals\":[]}}],\"label\":\"\",\"method\":\"relayout\"},{\"args\":[{\"yaxis\":{\"range\":[15.0,5.0],\"showgrid\":false,\"zeroline\":false,\"tickmode\":\"array\",\"tickvals\":[]}}],\"label\":\"\",\"method\":\"relayout\"},{\"args\":[{\"yaxis\":{\"range\":[15.100000000000001,5.1000000000000005],\"showgrid\":false,\"zeroline\":false,\"tickmode\":\"array\",\"tickvals\":[]}}],\"label\":\"\",\"method\":\"relayout\"},{\"args\":[{\"yaxis\":{\"range\":[15.2,5.2],\"showgrid\":false,\"zeroline\":false,\"tickmode\":\"array\",\"tickvals\":[]}}],\"label\":\"\",\"method\":\"relayout\"},{\"args\":[{\"yaxis\":{\"range\":[15.3,5.300000000000001],\"showgrid\":false,\"zeroline\":false,\"tickmode\":\"array\",\"tickvals\":[]}}],\"label\":\"\",\"method\":\"relayout\"},{\"args\":[{\"yaxis\":{\"range\":[15.4,5.4],\"showgrid\":false,\"zeroline\":false,\"tickmode\":\"array\",\"tickvals\":[]}}],\"label\":\"\",\"method\":\"relayout\"},{\"args\":[{\"yaxis\":{\"range\":[15.5,5.5],\"showgrid\":false,\"zeroline\":false,\"tickmode\":\"array\",\"tickvals\":[]}}],\"label\":\"\",\"method\":\"relayout\"},{\"args\":[{\"yaxis\":{\"range\":[15.600000000000001,5.6000000000000005],\"showgrid\":false,\"zeroline\":false,\"tickmode\":\"array\",\"tickvals\":[]}}],\"label\":\"\",\"method\":\"relayout\"},{\"args\":[{\"yaxis\":{\"range\":[15.7,5.7],\"showgrid\":false,\"zeroline\":false,\"tickmode\":\"array\",\"tickvals\":[]}}],\"label\":\"\",\"method\":\"relayout\"},{\"args\":[{\"yaxis\":{\"range\":[15.8,5.800000000000001],\"showgrid\":false,\"zeroline\":false,\"tickmode\":\"array\",\"tickvals\":[]}}],\"label\":\"\",\"method\":\"relayout\"},{\"args\":[{\"yaxis\":{\"range\":[15.899999999999999,5.9],\"showgrid\":false,\"zeroline\":false,\"tickmode\":\"array\",\"tickvals\":[]}}],\"label\":\"\",\"method\":\"relayout\"},{\"args\":[{\"yaxis\":{\"range\":[16.0,6.0],\"showgrid\":false,\"zeroline\":false,\"tickmode\":\"array\",\"tickvals\":[]}}],\"label\":\"\",\"method\":\"relayout\"},{\"args\":[{\"yaxis\":{\"range\":[16.1,6.1000000000000005],\"showgrid\":false,\"zeroline\":false,\"tickmode\":\"array\",\"tickvals\":[]}}],\"label\":\"\",\"method\":\"relayout\"},{\"args\":[{\"yaxis\":{\"range\":[16.2,6.2],\"showgrid\":false,\"zeroline\":false,\"tickmode\":\"array\",\"tickvals\":[]}}],\"label\":\"\",\"method\":\"relayout\"},{\"args\":[{\"yaxis\":{\"range\":[16.3,6.300000000000001],\"showgrid\":false,\"zeroline\":false,\"tickmode\":\"array\",\"tickvals\":[]}}],\"label\":\"\",\"method\":\"relayout\"},{\"args\":[{\"yaxis\":{\"range\":[16.4,6.4],\"showgrid\":false,\"zeroline\":false,\"tickmode\":\"array\",\"tickvals\":[]}}],\"label\":\"\",\"method\":\"relayout\"},{\"args\":[{\"yaxis\":{\"range\":[16.5,6.5],\"showgrid\":false,\"zeroline\":false,\"tickmode\":\"array\",\"tickvals\":[]}}],\"label\":\"\",\"method\":\"relayout\"},{\"args\":[{\"yaxis\":{\"range\":[16.6,6.6000000000000005],\"showgrid\":false,\"zeroline\":false,\"tickmode\":\"array\",\"tickvals\":[]}}],\"label\":\"\",\"method\":\"relayout\"},{\"args\":[{\"yaxis\":{\"range\":[16.7,6.7],\"showgrid\":false,\"zeroline\":false,\"tickmode\":\"array\",\"tickvals\":[]}}],\"label\":\"\",\"method\":\"relayout\"},{\"args\":[{\"yaxis\":{\"range\":[16.8,6.800000000000001],\"showgrid\":false,\"zeroline\":false,\"tickmode\":\"array\",\"tickvals\":[]}}],\"label\":\"\",\"method\":\"relayout\"},{\"args\":[{\"yaxis\":{\"range\":[16.9,6.9],\"showgrid\":false,\"zeroline\":false,\"tickmode\":\"array\",\"tickvals\":[]}}],\"label\":\"\",\"method\":\"relayout\"},{\"args\":[{\"yaxis\":{\"range\":[17.0,7.0],\"showgrid\":false,\"zeroline\":false,\"tickmode\":\"array\",\"tickvals\":[]}}],\"label\":\"\",\"method\":\"relayout\"},{\"args\":[{\"yaxis\":{\"range\":[17.1,7.1000000000000005],\"showgrid\":false,\"zeroline\":false,\"tickmode\":\"array\",\"tickvals\":[]}}],\"label\":\"\",\"method\":\"relayout\"},{\"args\":[{\"yaxis\":{\"range\":[17.2,7.2],\"showgrid\":false,\"zeroline\":false,\"tickmode\":\"array\",\"tickvals\":[]}}],\"label\":\"\",\"method\":\"relayout\"},{\"args\":[{\"yaxis\":{\"range\":[17.3,7.300000000000001],\"showgrid\":false,\"zeroline\":false,\"tickmode\":\"array\",\"tickvals\":[]}}],\"label\":\"\",\"method\":\"relayout\"},{\"args\":[{\"yaxis\":{\"range\":[17.4,7.4],\"showgrid\":false,\"zeroline\":false,\"tickmode\":\"array\",\"tickvals\":[]}}],\"label\":\"\",\"method\":\"relayout\"},{\"args\":[{\"yaxis\":{\"range\":[17.5,7.5],\"showgrid\":false,\"zeroline\":false,\"tickmode\":\"array\",\"tickvals\":[]}}],\"label\":\"\",\"method\":\"relayout\"},{\"args\":[{\"yaxis\":{\"range\":[17.6,7.6],\"showgrid\":false,\"zeroline\":false,\"tickmode\":\"array\",\"tickvals\":[]}}],\"label\":\"\",\"method\":\"relayout\"},{\"args\":[{\"yaxis\":{\"range\":[17.700000000000003,7.700000000000001],\"showgrid\":false,\"zeroline\":false,\"tickmode\":\"array\",\"tickvals\":[]}}],\"label\":\"\",\"method\":\"relayout\"},{\"args\":[{\"yaxis\":{\"range\":[17.8,7.800000000000001],\"showgrid\":false,\"zeroline\":false,\"tickmode\":\"array\",\"tickvals\":[]}}],\"label\":\"\",\"method\":\"relayout\"},{\"args\":[{\"yaxis\":{\"range\":[17.9,7.9],\"showgrid\":false,\"zeroline\":false,\"tickmode\":\"array\",\"tickvals\":[]}}],\"label\":\"\",\"method\":\"relayout\"},{\"args\":[{\"yaxis\":{\"range\":[18.0,8.0],\"showgrid\":false,\"zeroline\":false,\"tickmode\":\"array\",\"tickvals\":[]}}],\"label\":\"\",\"method\":\"relayout\"},{\"args\":[{\"yaxis\":{\"range\":[18.1,8.1],\"showgrid\":false,\"zeroline\":false,\"tickmode\":\"array\",\"tickvals\":[]}}],\"label\":\"\",\"method\":\"relayout\"},{\"args\":[{\"yaxis\":{\"range\":[18.200000000000003,8.200000000000001],\"showgrid\":false,\"zeroline\":false,\"tickmode\":\"array\",\"tickvals\":[]}}],\"label\":\"\",\"method\":\"relayout\"},{\"args\":[{\"yaxis\":{\"range\":[18.3,8.3],\"showgrid\":false,\"zeroline\":false,\"tickmode\":\"array\",\"tickvals\":[]}}],\"label\":\"\",\"method\":\"relayout\"},{\"args\":[{\"yaxis\":{\"range\":[18.4,8.4],\"showgrid\":false,\"zeroline\":false,\"tickmode\":\"array\",\"tickvals\":[]}}],\"label\":\"\",\"method\":\"relayout\"},{\"args\":[{\"yaxis\":{\"range\":[18.5,8.5],\"showgrid\":false,\"zeroline\":false,\"tickmode\":\"array\",\"tickvals\":[]}}],\"label\":\"\",\"method\":\"relayout\"},{\"args\":[{\"yaxis\":{\"range\":[18.6,8.6],\"showgrid\":false,\"zeroline\":false,\"tickmode\":\"array\",\"tickvals\":[]}}],\"label\":\"\",\"method\":\"relayout\"},{\"args\":[{\"yaxis\":{\"range\":[18.700000000000003,8.700000000000001],\"showgrid\":false,\"zeroline\":false,\"tickmode\":\"array\",\"tickvals\":[]}}],\"label\":\"\",\"method\":\"relayout\"},{\"args\":[{\"yaxis\":{\"range\":[18.8,8.8],\"showgrid\":false,\"zeroline\":false,\"tickmode\":\"array\",\"tickvals\":[]}}],\"label\":\"\",\"method\":\"relayout\"},{\"args\":[{\"yaxis\":{\"range\":[18.9,8.9],\"showgrid\":false,\"zeroline\":false,\"tickmode\":\"array\",\"tickvals\":[]}}],\"label\":\"\",\"method\":\"relayout\"},{\"args\":[{\"yaxis\":{\"range\":[19.0,9.0],\"showgrid\":false,\"zeroline\":false,\"tickmode\":\"array\",\"tickvals\":[]}}],\"label\":\"\",\"method\":\"relayout\"},{\"args\":[{\"yaxis\":{\"range\":[19.1,9.100000000000001],\"showgrid\":false,\"zeroline\":false,\"tickmode\":\"array\",\"tickvals\":[]}}],\"label\":\"\",\"method\":\"relayout\"},{\"args\":[{\"yaxis\":{\"range\":[19.200000000000003,9.200000000000001],\"showgrid\":false,\"zeroline\":false,\"tickmode\":\"array\",\"tickvals\":[]}}],\"label\":\"\",\"method\":\"relayout\"},{\"args\":[{\"yaxis\":{\"range\":[19.3,9.3],\"showgrid\":false,\"zeroline\":false,\"tickmode\":\"array\",\"tickvals\":[]}}],\"label\":\"\",\"method\":\"relayout\"},{\"args\":[{\"yaxis\":{\"range\":[19.4,9.4],\"showgrid\":false,\"zeroline\":false,\"tickmode\":\"array\",\"tickvals\":[]}}],\"label\":\"\",\"method\":\"relayout\"},{\"args\":[{\"yaxis\":{\"range\":[19.5,9.5],\"showgrid\":false,\"zeroline\":false,\"tickmode\":\"array\",\"tickvals\":[]}}],\"label\":\"\",\"method\":\"relayout\"},{\"args\":[{\"yaxis\":{\"range\":[19.6,9.600000000000001],\"showgrid\":false,\"zeroline\":false,\"tickmode\":\"array\",\"tickvals\":[]}}],\"label\":\"\",\"method\":\"relayout\"},{\"args\":[{\"yaxis\":{\"range\":[19.700000000000003,9.700000000000001],\"showgrid\":false,\"zeroline\":false,\"tickmode\":\"array\",\"tickvals\":[]}}],\"label\":\"\",\"method\":\"relayout\"},{\"args\":[{\"yaxis\":{\"range\":[19.8,9.8],\"showgrid\":false,\"zeroline\":false,\"tickmode\":\"array\",\"tickvals\":[]}}],\"label\":\"\",\"method\":\"relayout\"},{\"args\":[{\"yaxis\":{\"range\":[19.9,9.9],\"showgrid\":false,\"zeroline\":false,\"tickmode\":\"array\",\"tickvals\":[]}}],\"label\":\"\",\"method\":\"relayout\"},{\"args\":[{\"yaxis\":{\"range\":[20.0,10.0],\"showgrid\":false,\"zeroline\":false,\"tickmode\":\"array\",\"tickvals\":[]}}],\"label\":\"\",\"method\":\"relayout\"},{\"args\":[{\"yaxis\":{\"range\":[20.1,10.100000000000001],\"showgrid\":false,\"zeroline\":false,\"tickmode\":\"array\",\"tickvals\":[]}}],\"label\":\"\",\"method\":\"relayout\"},{\"args\":[{\"yaxis\":{\"range\":[20.200000000000003,10.200000000000001],\"showgrid\":false,\"zeroline\":false,\"tickmode\":\"array\",\"tickvals\":[]}}],\"label\":\"\",\"method\":\"relayout\"},{\"args\":[{\"yaxis\":{\"range\":[20.3,10.3],\"showgrid\":false,\"zeroline\":false,\"tickmode\":\"array\",\"tickvals\":[]}}],\"label\":\"\",\"method\":\"relayout\"},{\"args\":[{\"yaxis\":{\"range\":[20.4,10.4],\"showgrid\":false,\"zeroline\":false,\"tickmode\":\"array\",\"tickvals\":[]}}],\"label\":\"\",\"method\":\"relayout\"},{\"args\":[{\"yaxis\":{\"range\":[20.5,10.5],\"showgrid\":false,\"zeroline\":false,\"tickmode\":\"array\",\"tickvals\":[]}}],\"label\":\"\",\"method\":\"relayout\"},{\"args\":[{\"yaxis\":{\"range\":[20.6,10.600000000000001],\"showgrid\":false,\"zeroline\":false,\"tickmode\":\"array\",\"tickvals\":[]}}],\"label\":\"\",\"method\":\"relayout\"},{\"args\":[{\"yaxis\":{\"range\":[20.700000000000003,10.700000000000001],\"showgrid\":false,\"zeroline\":false,\"tickmode\":\"array\",\"tickvals\":[]}}],\"label\":\"\",\"method\":\"relayout\"},{\"args\":[{\"yaxis\":{\"range\":[20.8,10.8],\"showgrid\":false,\"zeroline\":false,\"tickmode\":\"array\",\"tickvals\":[]}}],\"label\":\"\",\"method\":\"relayout\"},{\"args\":[{\"yaxis\":{\"range\":[20.9,10.9],\"showgrid\":false,\"zeroline\":false,\"tickmode\":\"array\",\"tickvals\":[]}}],\"label\":\"\",\"method\":\"relayout\"},{\"args\":[{\"yaxis\":{\"range\":[21.0,11.0],\"showgrid\":false,\"zeroline\":false,\"tickmode\":\"array\",\"tickvals\":[]}}],\"label\":\"\",\"method\":\"relayout\"},{\"args\":[{\"yaxis\":{\"range\":[21.1,11.100000000000001],\"showgrid\":false,\"zeroline\":false,\"tickmode\":\"array\",\"tickvals\":[]}}],\"label\":\"\",\"method\":\"relayout\"},{\"args\":[{\"yaxis\":{\"range\":[21.200000000000003,11.200000000000001],\"showgrid\":false,\"zeroline\":false,\"tickmode\":\"array\",\"tickvals\":[]}}],\"label\":\"\",\"method\":\"relayout\"},{\"args\":[{\"yaxis\":{\"range\":[21.3,11.3],\"showgrid\":false,\"zeroline\":false,\"tickmode\":\"array\",\"tickvals\":[]}}],\"label\":\"\",\"method\":\"relayout\"},{\"args\":[{\"yaxis\":{\"range\":[21.4,11.4],\"showgrid\":false,\"zeroline\":false,\"tickmode\":\"array\",\"tickvals\":[]}}],\"label\":\"\",\"method\":\"relayout\"},{\"args\":[{\"yaxis\":{\"range\":[21.5,11.5],\"showgrid\":false,\"zeroline\":false,\"tickmode\":\"array\",\"tickvals\":[]}}],\"label\":\"\",\"method\":\"relayout\"},{\"args\":[{\"yaxis\":{\"range\":[21.6,11.600000000000001],\"showgrid\":false,\"zeroline\":false,\"tickmode\":\"array\",\"tickvals\":[]}}],\"label\":\"\",\"method\":\"relayout\"},{\"args\":[{\"yaxis\":{\"range\":[21.700000000000003,11.700000000000001],\"showgrid\":false,\"zeroline\":false,\"tickmode\":\"array\",\"tickvals\":[]}}],\"label\":\"\",\"method\":\"relayout\"},{\"args\":[{\"yaxis\":{\"range\":[21.8,11.8],\"showgrid\":false,\"zeroline\":false,\"tickmode\":\"array\",\"tickvals\":[]}}],\"label\":\"\",\"method\":\"relayout\"},{\"args\":[{\"yaxis\":{\"range\":[21.9,11.9],\"showgrid\":false,\"zeroline\":false,\"tickmode\":\"array\",\"tickvals\":[]}}],\"label\":\"\",\"method\":\"relayout\"},{\"args\":[{\"yaxis\":{\"range\":[22.0,12.0],\"showgrid\":false,\"zeroline\":false,\"tickmode\":\"array\",\"tickvals\":[]}}],\"label\":\"\",\"method\":\"relayout\"},{\"args\":[{\"yaxis\":{\"range\":[22.1,12.100000000000001],\"showgrid\":false,\"zeroline\":false,\"tickmode\":\"array\",\"tickvals\":[]}}],\"label\":\"\",\"method\":\"relayout\"},{\"args\":[{\"yaxis\":{\"range\":[22.200000000000003,12.200000000000001],\"showgrid\":false,\"zeroline\":false,\"tickmode\":\"array\",\"tickvals\":[]}}],\"label\":\"\",\"method\":\"relayout\"},{\"args\":[{\"yaxis\":{\"range\":[22.3,12.3],\"showgrid\":false,\"zeroline\":false,\"tickmode\":\"array\",\"tickvals\":[]}}],\"label\":\"\",\"method\":\"relayout\"},{\"args\":[{\"yaxis\":{\"range\":[22.4,12.4],\"showgrid\":false,\"zeroline\":false,\"tickmode\":\"array\",\"tickvals\":[]}}],\"label\":\"\",\"method\":\"relayout\"},{\"args\":[{\"yaxis\":{\"range\":[22.5,12.5],\"showgrid\":false,\"zeroline\":false,\"tickmode\":\"array\",\"tickvals\":[]}}],\"label\":\"\",\"method\":\"relayout\"},{\"args\":[{\"yaxis\":{\"range\":[22.6,12.600000000000001],\"showgrid\":false,\"zeroline\":false,\"tickmode\":\"array\",\"tickvals\":[]}}],\"label\":\"\",\"method\":\"relayout\"},{\"args\":[{\"yaxis\":{\"range\":[22.700000000000003,12.700000000000001],\"showgrid\":false,\"zeroline\":false,\"tickmode\":\"array\",\"tickvals\":[]}}],\"label\":\"\",\"method\":\"relayout\"},{\"args\":[{\"yaxis\":{\"range\":[22.8,12.8],\"showgrid\":false,\"zeroline\":false,\"tickmode\":\"array\",\"tickvals\":[]}}],\"label\":\"\",\"method\":\"relayout\"},{\"args\":[{\"yaxis\":{\"range\":[22.9,12.9],\"showgrid\":false,\"zeroline\":false,\"tickmode\":\"array\",\"tickvals\":[]}}],\"label\":\"\",\"method\":\"relayout\"},{\"args\":[{\"yaxis\":{\"range\":[23.0,13.0],\"showgrid\":false,\"zeroline\":false,\"tickmode\":\"array\",\"tickvals\":[]}}],\"label\":\"\",\"method\":\"relayout\"},{\"args\":[{\"yaxis\":{\"range\":[23.1,13.100000000000001],\"showgrid\":false,\"zeroline\":false,\"tickmode\":\"array\",\"tickvals\":[]}}],\"label\":\"\",\"method\":\"relayout\"},{\"args\":[{\"yaxis\":{\"range\":[23.200000000000003,13.200000000000001],\"showgrid\":false,\"zeroline\":false,\"tickmode\":\"array\",\"tickvals\":[]}}],\"label\":\"\",\"method\":\"relayout\"},{\"args\":[{\"yaxis\":{\"range\":[23.3,13.3],\"showgrid\":false,\"zeroline\":false,\"tickmode\":\"array\",\"tickvals\":[]}}],\"label\":\"\",\"method\":\"relayout\"},{\"args\":[{\"yaxis\":{\"range\":[23.4,13.4],\"showgrid\":false,\"zeroline\":false,\"tickmode\":\"array\",\"tickvals\":[]}}],\"label\":\"\",\"method\":\"relayout\"},{\"args\":[{\"yaxis\":{\"range\":[23.5,13.5],\"showgrid\":false,\"zeroline\":false,\"tickmode\":\"array\",\"tickvals\":[]}}],\"label\":\"\",\"method\":\"relayout\"},{\"args\":[{\"yaxis\":{\"range\":[23.6,13.600000000000001],\"showgrid\":false,\"zeroline\":false,\"tickmode\":\"array\",\"tickvals\":[]}}],\"label\":\"\",\"method\":\"relayout\"},{\"args\":[{\"yaxis\":{\"range\":[23.700000000000003,13.700000000000001],\"showgrid\":false,\"zeroline\":false,\"tickmode\":\"array\",\"tickvals\":[]}}],\"label\":\"\",\"method\":\"relayout\"},{\"args\":[{\"yaxis\":{\"range\":[23.8,13.8],\"showgrid\":false,\"zeroline\":false,\"tickmode\":\"array\",\"tickvals\":[]}}],\"label\":\"\",\"method\":\"relayout\"},{\"args\":[{\"yaxis\":{\"range\":[23.9,13.9],\"showgrid\":false,\"zeroline\":false,\"tickmode\":\"array\",\"tickvals\":[]}}],\"label\":\"\",\"method\":\"relayout\"},{\"args\":[{\"yaxis\":{\"range\":[24.0,14.0],\"showgrid\":false,\"zeroline\":false,\"tickmode\":\"array\",\"tickvals\":[]}}],\"label\":\"\",\"method\":\"relayout\"},{\"args\":[{\"yaxis\":{\"range\":[24.1,14.100000000000001],\"showgrid\":false,\"zeroline\":false,\"tickmode\":\"array\",\"tickvals\":[]}}],\"label\":\"\",\"method\":\"relayout\"},{\"args\":[{\"yaxis\":{\"range\":[24.200000000000003,14.200000000000001],\"showgrid\":false,\"zeroline\":false,\"tickmode\":\"array\",\"tickvals\":[]}}],\"label\":\"\",\"method\":\"relayout\"},{\"args\":[{\"yaxis\":{\"range\":[24.3,14.3],\"showgrid\":false,\"zeroline\":false,\"tickmode\":\"array\",\"tickvals\":[]}}],\"label\":\"\",\"method\":\"relayout\"},{\"args\":[{\"yaxis\":{\"range\":[24.4,14.4],\"showgrid\":false,\"zeroline\":false,\"tickmode\":\"array\",\"tickvals\":[]}}],\"label\":\"\",\"method\":\"relayout\"},{\"args\":[{\"yaxis\":{\"range\":[24.5,14.5],\"showgrid\":false,\"zeroline\":false,\"tickmode\":\"array\",\"tickvals\":[]}}],\"label\":\"\",\"method\":\"relayout\"},{\"args\":[{\"yaxis\":{\"range\":[24.6,14.600000000000001],\"showgrid\":false,\"zeroline\":false,\"tickmode\":\"array\",\"tickvals\":[]}}],\"label\":\"\",\"method\":\"relayout\"},{\"args\":[{\"yaxis\":{\"range\":[24.700000000000003,14.700000000000001],\"showgrid\":false,\"zeroline\":false,\"tickmode\":\"array\",\"tickvals\":[]}}],\"label\":\"\",\"method\":\"relayout\"},{\"args\":[{\"yaxis\":{\"range\":[24.8,14.8],\"showgrid\":false,\"zeroline\":false,\"tickmode\":\"array\",\"tickvals\":[]}}],\"label\":\"\",\"method\":\"relayout\"},{\"args\":[{\"yaxis\":{\"range\":[24.9,14.9],\"showgrid\":false,\"zeroline\":false,\"tickmode\":\"array\",\"tickvals\":[]}}],\"label\":\"\",\"method\":\"relayout\"},{\"args\":[{\"yaxis\":{\"range\":[25.0,15.0],\"showgrid\":false,\"zeroline\":false,\"tickmode\":\"array\",\"tickvals\":[]}}],\"label\":\"\",\"method\":\"relayout\"},{\"args\":[{\"yaxis\":{\"range\":[25.1,15.100000000000001],\"showgrid\":false,\"zeroline\":false,\"tickmode\":\"array\",\"tickvals\":[]}}],\"label\":\"\",\"method\":\"relayout\"},{\"args\":[{\"yaxis\":{\"range\":[25.200000000000003,15.200000000000001],\"showgrid\":false,\"zeroline\":false,\"tickmode\":\"array\",\"tickvals\":[]}}],\"label\":\"\",\"method\":\"relayout\"},{\"args\":[{\"yaxis\":{\"range\":[25.3,15.3],\"showgrid\":false,\"zeroline\":false,\"tickmode\":\"array\",\"tickvals\":[]}}],\"label\":\"\",\"method\":\"relayout\"},{\"args\":[{\"yaxis\":{\"range\":[25.4,15.4],\"showgrid\":false,\"zeroline\":false,\"tickmode\":\"array\",\"tickvals\":[]}}],\"label\":\"\",\"method\":\"relayout\"},{\"args\":[{\"yaxis\":{\"range\":[25.5,15.5],\"showgrid\":false,\"zeroline\":false,\"tickmode\":\"array\",\"tickvals\":[]}}],\"label\":\"\",\"method\":\"relayout\"},{\"args\":[{\"yaxis\":{\"range\":[25.6,15.600000000000001],\"showgrid\":false,\"zeroline\":false,\"tickmode\":\"array\",\"tickvals\":[]}}],\"label\":\"\",\"method\":\"relayout\"},{\"args\":[{\"yaxis\":{\"range\":[25.7,15.7],\"showgrid\":false,\"zeroline\":false,\"tickmode\":\"array\",\"tickvals\":[]}}],\"label\":\"\",\"method\":\"relayout\"},{\"args\":[{\"yaxis\":{\"range\":[25.8,15.8],\"showgrid\":false,\"zeroline\":false,\"tickmode\":\"array\",\"tickvals\":[]}}],\"label\":\"\",\"method\":\"relayout\"},{\"args\":[{\"yaxis\":{\"range\":[25.900000000000002,15.900000000000002],\"showgrid\":false,\"zeroline\":false,\"tickmode\":\"array\",\"tickvals\":[]}}],\"label\":\"\",\"method\":\"relayout\"},{\"args\":[{\"yaxis\":{\"range\":[26.0,16.0],\"showgrid\":false,\"zeroline\":false,\"tickmode\":\"array\",\"tickvals\":[]}}],\"label\":\"\",\"method\":\"relayout\"},{\"args\":[{\"yaxis\":{\"range\":[26.1,16.1],\"showgrid\":false,\"zeroline\":false,\"tickmode\":\"array\",\"tickvals\":[]}}],\"label\":\"\",\"method\":\"relayout\"},{\"args\":[{\"yaxis\":{\"range\":[26.2,16.2],\"showgrid\":false,\"zeroline\":false,\"tickmode\":\"array\",\"tickvals\":[]}}],\"label\":\"\",\"method\":\"relayout\"},{\"args\":[{\"yaxis\":{\"range\":[26.3,16.3],\"showgrid\":false,\"zeroline\":false,\"tickmode\":\"array\",\"tickvals\":[]}}],\"label\":\"\",\"method\":\"relayout\"},{\"args\":[{\"yaxis\":{\"range\":[26.400000000000002,16.400000000000002],\"showgrid\":false,\"zeroline\":false,\"tickmode\":\"array\",\"tickvals\":[]}}],\"label\":\"\",\"method\":\"relayout\"},{\"args\":[{\"yaxis\":{\"range\":[26.5,16.5],\"showgrid\":false,\"zeroline\":false,\"tickmode\":\"array\",\"tickvals\":[]}}],\"label\":\"\",\"method\":\"relayout\"},{\"args\":[{\"yaxis\":{\"range\":[26.6,16.6],\"showgrid\":false,\"zeroline\":false,\"tickmode\":\"array\",\"tickvals\":[]}}],\"label\":\"\",\"method\":\"relayout\"},{\"args\":[{\"yaxis\":{\"range\":[26.7,16.7],\"showgrid\":false,\"zeroline\":false,\"tickmode\":\"array\",\"tickvals\":[]}}],\"label\":\"\",\"method\":\"relayout\"},{\"args\":[{\"yaxis\":{\"range\":[26.8,16.8],\"showgrid\":false,\"zeroline\":false,\"tickmode\":\"array\",\"tickvals\":[]}}],\"label\":\"\",\"method\":\"relayout\"},{\"args\":[{\"yaxis\":{\"range\":[26.900000000000002,16.900000000000002],\"showgrid\":false,\"zeroline\":false,\"tickmode\":\"array\",\"tickvals\":[]}}],\"label\":\"\",\"method\":\"relayout\"},{\"args\":[{\"yaxis\":{\"range\":[27.0,17.0],\"showgrid\":false,\"zeroline\":false,\"tickmode\":\"array\",\"tickvals\":[]}}],\"label\":\"\",\"method\":\"relayout\"},{\"args\":[{\"yaxis\":{\"range\":[27.1,17.1],\"showgrid\":false,\"zeroline\":false,\"tickmode\":\"array\",\"tickvals\":[]}}],\"label\":\"\",\"method\":\"relayout\"},{\"args\":[{\"yaxis\":{\"range\":[27.2,17.2],\"showgrid\":false,\"zeroline\":false,\"tickmode\":\"array\",\"tickvals\":[]}}],\"label\":\"\",\"method\":\"relayout\"},{\"args\":[{\"yaxis\":{\"range\":[27.3,17.3],\"showgrid\":false,\"zeroline\":false,\"tickmode\":\"array\",\"tickvals\":[]}}],\"label\":\"\",\"method\":\"relayout\"},{\"args\":[{\"yaxis\":{\"range\":[27.400000000000002,17.400000000000002],\"showgrid\":false,\"zeroline\":false,\"tickmode\":\"array\",\"tickvals\":[]}}],\"label\":\"\",\"method\":\"relayout\"}],\"ticklen\":0,\"tickwidth\":0}],\"margin\":{\"l\":0,\"r\":0,\"t\":0,\"b\":0},\"modebar\":{\"remove\":[\"select\",\"lasso\"],\"orientation\":\"v\"}},                        {\"responsive\": true}                    ).then(function(){\n",
       "                            \n",
       "var gd = document.getElementById('b269ffc2-95a7-452b-82b0-de59d23ba5b6');\n",
       "var x = new MutationObserver(function (mutations, observer) {{\n",
       "        var display = window.getComputedStyle(gd).display;\n",
       "        if (!display || display === 'none') {{\n",
       "            console.log([gd, 'removed!']);\n",
       "            Plotly.purge(gd);\n",
       "            observer.disconnect();\n",
       "        }}\n",
       "}});\n",
       "\n",
       "// Listen for the removal of the full notebook cells\n",
       "var notebookContainer = gd.closest('#notebook-container');\n",
       "if (notebookContainer) {{\n",
       "    x.observe(notebookContainer, {childList: true});\n",
       "}}\n",
       "\n",
       "// Listen for the clearing of the current output cell\n",
       "var outputEl = gd.closest('.output');\n",
       "if (outputEl) {{\n",
       "    x.observe(outputEl, {childList: true});\n",
       "}}\n",
       "\n",
       "                        })                };                });            </script>        </div>"
      ]
     },
     "metadata": {},
     "output_type": "display_data"
    }
   ],
   "source": [
    "import torch, torchvision\n",
    "from idlmav import MAV, plotly_renderer\n",
    "device = 'cpu'\n",
    "model = torchvision.models.resnet18().to(device)\n",
    "x = torch.randn(16,3,160,160).to(device)\n",
    "mav = MAV(model, x, device=device)\n",
    "\n",
    "with plotly_renderer('notebook_connected'):\n",
    "    mav.show_figure(add_slider=True)"
   ]
  },
  {
   "cell_type": "markdown",
   "metadata": {},
   "source": [
    "## Upload to PyPI\n",
    "* Ensure that this notebook's kernel is running in the main virtual environment (.venv)\n",
    "* Restart the kernel if changed\n",
    "* Verify API key in `$HOME/.pypirc`"
   ]
  },
  {
   "cell_type": "code",
   "execution_count": null,
   "metadata": {},
   "outputs": [],
   "source": [
    "%pip install --upgrade twine"
   ]
  },
  {
   "cell_type": "code",
   "execution_count": 1,
   "metadata": {},
   "outputs": [
    {
     "name": "stdout",
     "output_type": "stream",
     "text": [
      "/home/dev/ai/idlmav\n"
     ]
    },
    {
     "name": "stderr",
     "output_type": "stream",
     "text": [
      "/home/dev/ai/idlmav/.venv/lib/python3.10/site-packages/IPython/core/magics/osm.py:417: UserWarning: This is now an optional IPython functionality, setting dhist requires you to install the `pickleshare` library.\n",
      "  self.shell.db['dhist'] = compress_dhist(dhist)[-100:]\n"
     ]
    },
    {
     "data": {
      "text/plain": [
       "'/home/dev/ai/idlmav'"
      ]
     },
     "execution_count": 1,
     "metadata": {},
     "output_type": "execute_result"
    }
   ],
   "source": [
    "from pathlib import Path\n",
    "if Path.cwd().name != 'idlmav':\n",
    "    %cd ..\n",
    "%pwd"
   ]
  },
  {
   "cell_type": "code",
   "execution_count": 2,
   "metadata": {},
   "outputs": [
    {
     "name": "stdout",
     "output_type": "stream",
     "text": [
      "Uploading distributions to https://upload.pypi.org/legacy/\n",
      "Uploading idlmav-1.0.4-py3-none-any.whl\n",
      "\u001b[2K\u001b[35m100%\u001b[0m \u001b[90m━━━━━━━━━━━━━━━━━━━━━━━━━━━━━━━━━━━━━━━━\u001b[0m \u001b[32m50.2/50.2 kB\u001b[0m • \u001b[33m00:01\u001b[0m • \u001b[31m87.4 kB/s\u001b[0m MB/s\u001b[0m\n",
      "\u001b[?25hUploading idlmav-1.0.4.tar.gz\n",
      "\u001b[2K\u001b[35m100%\u001b[0m \u001b[90m━━━━━━━━━━━━━━━━━━━━━━━━━━━━━━━━━━━━━━━━\u001b[0m \u001b[32m48.1/48.1 kB\u001b[0m • \u001b[33m00:00\u001b[0m • \u001b[31m137.2 MB/s\u001b[0m\n",
      "\u001b[?25h\n",
      "\u001b[32mView at:\u001b[0m\n",
      "https://pypi.org/project/idlmav/1.0.4/\n"
     ]
    }
   ],
   "source": [
    "!python -m twine upload dist/*"
   ]
  },
  {
   "cell_type": "markdown",
   "metadata": {},
   "source": [
    "### Test in a temporary virtual environment"
   ]
  },
  {
   "cell_type": "markdown",
   "metadata": {},
   "source": [
    "* Ensure that this notebook's kernel is running in the main virtual environment (.venv)\n",
    "* Restart the kernel if changed"
   ]
  },
  {
   "cell_type": "code",
   "execution_count": 3,
   "metadata": {},
   "outputs": [],
   "source": [
    "from pathlib import Path\n",
    "if Path.cwd().name != 'idlmav':\n",
    "    %cd ..\n",
    "%pwd\n",
    "\n",
    "!rm -rf .venv_temp\n",
    "!python -m venv .venv_temp"
   ]
  },
  {
   "cell_type": "markdown",
   "metadata": {},
   "source": [
    "* Change this notebook's kernel to run in the temporary virtual environment (.venv_temp)\n",
    "* Restart the kernel"
   ]
  },
  {
   "cell_type": "code",
   "execution_count": 1,
   "metadata": {},
   "outputs": [
    {
     "name": "stdout",
     "output_type": "stream",
     "text": [
      "Collecting idlmav\n",
      "  Downloading idlmav-1.0.4-py3-none-any.whl (36 kB)\n",
      "Collecting numpy\n",
      "  Using cached numpy-2.2.1-cp310-cp310-manylinux_2_17_x86_64.manylinux2014_x86_64.whl (16.4 MB)\n",
      "Collecting ipywidgets\n",
      "  Using cached ipywidgets-8.1.5-py3-none-any.whl (139 kB)\n",
      "Collecting torchprofile\n",
      "  Using cached torchprofile-0.0.4-py3-none-any.whl (7.7 kB)\n",
      "Collecting tabulate\n",
      "  Using cached tabulate-0.9.0-py3-none-any.whl (35 kB)\n",
      "Collecting munkres\n",
      "  Using cached munkres-1.1.4-py2.py3-none-any.whl (7.0 kB)\n",
      "Collecting torch>=2.3.0\n",
      "  Using cached torch-2.5.1-cp310-cp310-manylinux1_x86_64.whl (906.4 MB)\n",
      "Collecting nbformat\n",
      "  Using cached nbformat-5.10.4-py3-none-any.whl (78 kB)\n",
      "Collecting plotly\n",
      "  Using cached plotly-5.24.1-py3-none-any.whl (19.1 MB)\n",
      "Collecting nvidia-cufft-cu12==11.2.1.3\n",
      "  Using cached nvidia_cufft_cu12-11.2.1.3-py3-none-manylinux2014_x86_64.whl (211.5 MB)\n",
      "Collecting sympy==1.13.1\n",
      "  Using cached sympy-1.13.1-py3-none-any.whl (6.2 MB)\n",
      "Collecting nvidia-nccl-cu12==2.21.5\n",
      "  Using cached nvidia_nccl_cu12-2.21.5-py3-none-manylinux2014_x86_64.whl (188.7 MB)\n",
      "Collecting jinja2\n",
      "  Downloading jinja2-3.1.5-py3-none-any.whl (134 kB)\n",
      "\u001b[2K     \u001b[90m━━━━━━━━━━━━━━━━━━━━━━━━━━━━━━━━━━━━━\u001b[0m \u001b[32m134.6/134.6 KB\u001b[0m \u001b[31m519.0 kB/s\u001b[0m eta \u001b[36m0:00:00\u001b[0m00:01\u001b[0m00:01\u001b[0m\n",
      "\u001b[?25hCollecting nvidia-cusolver-cu12==11.6.1.9\n",
      "  Downloading nvidia_cusolver_cu12-11.6.1.9-py3-none-manylinux2014_x86_64.whl (127.9 MB)\n",
      "\u001b[2K     \u001b[90m━━━━━━━━━━━━━━━━━━━━━━━━━━━━━━━━━━━━━━━\u001b[0m \u001b[32m127.9/127.9 MB\u001b[0m \u001b[31m1.2 MB/s\u001b[0m eta \u001b[36m0:00:00\u001b[0m00:01\u001b[0m00:02\u001b[0m\n",
      "\u001b[?25hCollecting triton==3.1.0\n",
      "  Using cached triton-3.1.0-cp310-cp310-manylinux_2_17_x86_64.manylinux2014_x86_64.whl (209.5 MB)\n",
      "Collecting nvidia-cusparse-cu12==12.3.1.170\n",
      "  Downloading nvidia_cusparse_cu12-12.3.1.170-py3-none-manylinux2014_x86_64.whl (207.5 MB)\n",
      "\u001b[2K     \u001b[90m━━━━━━━━━━━━━━━━━━━━━━━━━━━━━━━━━━━━━━━\u001b[0m \u001b[32m207.5/207.5 MB\u001b[0m \u001b[31m1.6 MB/s\u001b[0m eta \u001b[36m0:00:00\u001b[0m00:01\u001b[0m00:04\u001b[0m\n",
      "\u001b[?25hCollecting nvidia-cuda-nvrtc-cu12==12.4.127\n",
      "  Using cached nvidia_cuda_nvrtc_cu12-12.4.127-py3-none-manylinux2014_x86_64.whl (24.6 MB)\n",
      "Collecting nvidia-cudnn-cu12==9.1.0.70\n",
      "  Using cached nvidia_cudnn_cu12-9.1.0.70-py3-none-manylinux2014_x86_64.whl (664.8 MB)\n",
      "Collecting nvidia-cuda-cupti-cu12==12.4.127\n",
      "  Downloading nvidia_cuda_cupti_cu12-12.4.127-py3-none-manylinux2014_x86_64.whl (13.8 MB)\n",
      "\u001b[2K     \u001b[90m━━━━━━━━━━━━━━━━━━━━━━━━━━━━━━━━━━━━━━━━\u001b[0m \u001b[32m13.8/13.8 MB\u001b[0m \u001b[31m1.2 MB/s\u001b[0m eta \u001b[36m0:00:00\u001b[0m00:01\u001b[0m00:01\u001b[0m\n",
      "\u001b[?25hCollecting nvidia-nvjitlink-cu12==12.4.127\n",
      "  Using cached nvidia_nvjitlink_cu12-12.4.127-py3-none-manylinux2014_x86_64.whl (21.1 MB)\n",
      "Requirement already satisfied: typing-extensions>=4.8.0 in /home/dev/ai/idlmav/.venv_temp/lib/python3.10/site-packages (from torch>=2.3.0->idlmav) (4.12.2)\n",
      "Collecting filelock\n",
      "  Using cached filelock-3.16.1-py3-none-any.whl (16 kB)\n",
      "Collecting networkx\n",
      "  Downloading networkx-3.4.2-py3-none-any.whl (1.7 MB)\n",
      "\u001b[2K     \u001b[90m━━━━━━━━━━━━━━━━━━━━━━━━━━━━━━━━━━━━━━━━\u001b[0m \u001b[32m1.7/1.7 MB\u001b[0m \u001b[31m2.3 MB/s\u001b[0m eta \u001b[36m0:00:00\u001b[0m00:01\u001b[0m00:01\u001b[0m\n",
      "\u001b[?25hCollecting nvidia-curand-cu12==10.3.5.147\n",
      "  Using cached nvidia_curand_cu12-10.3.5.147-py3-none-manylinux2014_x86_64.whl (56.3 MB)\n",
      "Collecting nvidia-cuda-runtime-cu12==12.4.127\n",
      "  Using cached nvidia_cuda_runtime_cu12-12.4.127-py3-none-manylinux2014_x86_64.whl (883 kB)\n",
      "Collecting nvidia-cublas-cu12==12.4.5.8\n",
      "  Using cached nvidia_cublas_cu12-12.4.5.8-py3-none-manylinux2014_x86_64.whl (363.4 MB)\n",
      "Collecting nvidia-nvtx-cu12==12.4.127\n",
      "  Downloading nvidia_nvtx_cu12-12.4.127-py3-none-manylinux2014_x86_64.whl (99 kB)\n",
      "\u001b[2K     \u001b[90m━━━━━━━━━━━━━━━━━━━━━━━━━━━━━━━━━━━━━━━━\u001b[0m \u001b[32m99.1/99.1 KB\u001b[0m \u001b[31m1.4 MB/s\u001b[0m eta \u001b[36m0:00:00\u001b[0ma \u001b[36m0:00:01\u001b[0m\n",
      "\u001b[?25hCollecting fsspec\n",
      "  Downloading fsspec-2024.12.0-py3-none-any.whl (183 kB)\n",
      "\u001b[2K     \u001b[90m━━━━━━━━━━━━━━━━━━━━━━━━━━━━━━━━━━━━━━━\u001b[0m \u001b[32m183.9/183.9 KB\u001b[0m \u001b[31m2.0 MB/s\u001b[0m eta \u001b[36m0:00:00\u001b[0ma \u001b[36m0:00:01\u001b[0m\n",
      "\u001b[?25hCollecting mpmath<1.4,>=1.1.0\n",
      "  Using cached mpmath-1.3.0-py3-none-any.whl (536 kB)\n",
      "Collecting widgetsnbextension~=4.0.12\n",
      "  Using cached widgetsnbextension-4.0.13-py3-none-any.whl (2.3 MB)\n",
      "Requirement already satisfied: comm>=0.1.3 in /home/dev/ai/idlmav/.venv_temp/lib/python3.10/site-packages (from ipywidgets->idlmav) (0.2.2)\n",
      "Requirement already satisfied: traitlets>=4.3.1 in /home/dev/ai/idlmav/.venv_temp/lib/python3.10/site-packages (from ipywidgets->idlmav) (5.14.3)\n",
      "Requirement already satisfied: ipython>=6.1.0 in /home/dev/ai/idlmav/.venv_temp/lib/python3.10/site-packages (from ipywidgets->idlmav) (8.31.0)\n",
      "Collecting jupyterlab-widgets~=3.0.12\n",
      "  Using cached jupyterlab_widgets-3.0.13-py3-none-any.whl (214 kB)\n",
      "Requirement already satisfied: jupyter-core!=5.0.*,>=4.12 in /home/dev/ai/idlmav/.venv_temp/lib/python3.10/site-packages (from nbformat->idlmav) (5.7.2)\n",
      "Collecting jsonschema>=2.6\n",
      "  Using cached jsonschema-4.23.0-py3-none-any.whl (88 kB)\n",
      "Collecting fastjsonschema>=2.15\n",
      "  Using cached fastjsonschema-2.21.1-py3-none-any.whl (23 kB)\n",
      "Collecting tenacity>=6.2.0\n",
      "  Using cached tenacity-9.0.0-py3-none-any.whl (28 kB)\n",
      "Requirement already satisfied: packaging in /home/dev/ai/idlmav/.venv_temp/lib/python3.10/site-packages (from plotly->idlmav) (24.2)\n",
      "Collecting torchvision>=0.4\n",
      "  Downloading torchvision-0.20.1-cp310-cp310-manylinux1_x86_64.whl (7.2 MB)\n",
      "\u001b[2K     \u001b[90m━━━━━━━━━━━━━━━━━━━━━━━━━━━━━━━━━━━━━━━━\u001b[0m \u001b[32m7.2/7.2 MB\u001b[0m \u001b[31m2.2 MB/s\u001b[0m eta \u001b[36m0:00:00\u001b[0m00:01\u001b[0m00:01\u001b[0m\n",
      "\u001b[?25hRequirement already satisfied: matplotlib-inline in /home/dev/ai/idlmav/.venv_temp/lib/python3.10/site-packages (from ipython>=6.1.0->ipywidgets->idlmav) (0.1.7)\n",
      "Requirement already satisfied: exceptiongroup in /home/dev/ai/idlmav/.venv_temp/lib/python3.10/site-packages (from ipython>=6.1.0->ipywidgets->idlmav) (1.2.2)\n",
      "Requirement already satisfied: decorator in /home/dev/ai/idlmav/.venv_temp/lib/python3.10/site-packages (from ipython>=6.1.0->ipywidgets->idlmav) (5.1.1)\n",
      "Requirement already satisfied: pexpect>4.3 in /home/dev/ai/idlmav/.venv_temp/lib/python3.10/site-packages (from ipython>=6.1.0->ipywidgets->idlmav) (4.9.0)\n",
      "Requirement already satisfied: pygments>=2.4.0 in /home/dev/ai/idlmav/.venv_temp/lib/python3.10/site-packages (from ipython>=6.1.0->ipywidgets->idlmav) (2.19.1)\n",
      "Requirement already satisfied: stack_data in /home/dev/ai/idlmav/.venv_temp/lib/python3.10/site-packages (from ipython>=6.1.0->ipywidgets->idlmav) (0.6.3)\n",
      "Requirement already satisfied: prompt_toolkit<3.1.0,>=3.0.41 in /home/dev/ai/idlmav/.venv_temp/lib/python3.10/site-packages (from ipython>=6.1.0->ipywidgets->idlmav) (3.0.48)\n",
      "Requirement already satisfied: jedi>=0.16 in /home/dev/ai/idlmav/.venv_temp/lib/python3.10/site-packages (from ipython>=6.1.0->ipywidgets->idlmav) (0.19.2)\n",
      "Collecting referencing>=0.28.4\n",
      "  Using cached referencing-0.35.1-py3-none-any.whl (26 kB)\n",
      "Collecting rpds-py>=0.7.1\n",
      "  Using cached rpds_py-0.22.3-cp310-cp310-manylinux_2_17_x86_64.manylinux2014_x86_64.whl (381 kB)\n",
      "Collecting jsonschema-specifications>=2023.03.6\n",
      "  Using cached jsonschema_specifications-2024.10.1-py3-none-any.whl (18 kB)\n",
      "Collecting attrs>=22.2.0\n",
      "  Using cached attrs-24.3.0-py3-none-any.whl (63 kB)\n",
      "Requirement already satisfied: platformdirs>=2.5 in /home/dev/ai/idlmav/.venv_temp/lib/python3.10/site-packages (from jupyter-core!=5.0.*,>=4.12->nbformat->idlmav) (4.3.6)\n",
      "Collecting pillow!=8.3.*,>=5.3.0\n",
      "  Downloading pillow-11.1.0-cp310-cp310-manylinux_2_28_x86_64.whl (4.5 MB)\n",
      "\u001b[2K     \u001b[90m━━━━━━━━━━━━━━━━━━━━━━━━━━━━━━━━━━━━━━━━\u001b[0m \u001b[32m4.5/4.5 MB\u001b[0m \u001b[31m2.1 MB/s\u001b[0m eta \u001b[36m0:00:00\u001b[0m00:01\u001b[0m00:01\u001b[0m\n",
      "\u001b[?25hCollecting MarkupSafe>=2.0\n",
      "  Downloading MarkupSafe-3.0.2-cp310-cp310-manylinux_2_17_x86_64.manylinux2014_x86_64.whl (20 kB)\n",
      "Requirement already satisfied: parso<0.9.0,>=0.8.4 in /home/dev/ai/idlmav/.venv_temp/lib/python3.10/site-packages (from jedi>=0.16->ipython>=6.1.0->ipywidgets->idlmav) (0.8.4)\n",
      "Requirement already satisfied: ptyprocess>=0.5 in /home/dev/ai/idlmav/.venv_temp/lib/python3.10/site-packages (from pexpect>4.3->ipython>=6.1.0->ipywidgets->idlmav) (0.7.0)\n",
      "Requirement already satisfied: wcwidth in /home/dev/ai/idlmav/.venv_temp/lib/python3.10/site-packages (from prompt_toolkit<3.1.0,>=3.0.41->ipython>=6.1.0->ipywidgets->idlmav) (0.2.13)\n",
      "Requirement already satisfied: asttokens>=2.1.0 in /home/dev/ai/idlmav/.venv_temp/lib/python3.10/site-packages (from stack_data->ipython>=6.1.0->ipywidgets->idlmav) (3.0.0)\n",
      "Requirement already satisfied: executing>=1.2.0 in /home/dev/ai/idlmav/.venv_temp/lib/python3.10/site-packages (from stack_data->ipython>=6.1.0->ipywidgets->idlmav) (2.1.0)\n",
      "Requirement already satisfied: pure-eval in /home/dev/ai/idlmav/.venv_temp/lib/python3.10/site-packages (from stack_data->ipython>=6.1.0->ipywidgets->idlmav) (0.2.3)\n",
      "Installing collected packages: munkres, mpmath, fastjsonschema, widgetsnbextension, tenacity, tabulate, sympy, rpds-py, pillow, nvidia-nvtx-cu12, nvidia-nvjitlink-cu12, nvidia-nccl-cu12, nvidia-curand-cu12, nvidia-cufft-cu12, nvidia-cuda-runtime-cu12, nvidia-cuda-nvrtc-cu12, nvidia-cuda-cupti-cu12, nvidia-cublas-cu12, numpy, networkx, MarkupSafe, jupyterlab-widgets, fsspec, filelock, attrs, triton, referencing, plotly, nvidia-cusparse-cu12, nvidia-cudnn-cu12, jinja2, nvidia-cusolver-cu12, jsonschema-specifications, ipywidgets, torch, jsonschema, torchvision, nbformat, torchprofile, idlmav\n",
      "Successfully installed MarkupSafe-3.0.2 attrs-24.3.0 fastjsonschema-2.21.1 filelock-3.16.1 fsspec-2024.12.0 idlmav-1.0.4 ipywidgets-8.1.5 jinja2-3.1.5 jsonschema-4.23.0 jsonschema-specifications-2024.10.1 jupyterlab-widgets-3.0.13 mpmath-1.3.0 munkres-1.1.4 nbformat-5.10.4 networkx-3.4.2 numpy-2.2.1 nvidia-cublas-cu12-12.4.5.8 nvidia-cuda-cupti-cu12-12.4.127 nvidia-cuda-nvrtc-cu12-12.4.127 nvidia-cuda-runtime-cu12-12.4.127 nvidia-cudnn-cu12-9.1.0.70 nvidia-cufft-cu12-11.2.1.3 nvidia-curand-cu12-10.3.5.147 nvidia-cusolver-cu12-11.6.1.9 nvidia-cusparse-cu12-12.3.1.170 nvidia-nccl-cu12-2.21.5 nvidia-nvjitlink-cu12-12.4.127 nvidia-nvtx-cu12-12.4.127 pillow-11.1.0 plotly-5.24.1 referencing-0.35.1 rpds-py-0.22.3 sympy-1.13.1 tabulate-0.9.0 tenacity-9.0.0 torch-2.5.1 torchprofile-0.0.4 torchvision-0.20.1 triton-3.1.0 widgetsnbextension-4.0.13\n",
      "Note: you may need to restart the kernel to use updated packages.\n"
     ]
    }
   ],
   "source": [
    "%pip install idlmav"
   ]
  },
  {
   "cell_type": "code",
   "execution_count": 2,
   "metadata": {},
   "outputs": [
    {
     "data": {
      "text/html": [
       "        <script type=\"text/javascript\">\n",
       "        window.PlotlyConfig = {MathJaxConfig: 'local'};\n",
       "        if (window.MathJax && window.MathJax.Hub && window.MathJax.Hub.Config) {window.MathJax.Hub.Config({SVG: {font: \"STIX-Web\"}});}\n",
       "        if (typeof require !== 'undefined') {\n",
       "        require.undef(\"plotly\");\n",
       "        requirejs.config({\n",
       "            paths: {\n",
       "                'plotly': ['https://cdn.plot.ly/plotly-2.35.2.min']\n",
       "            }\n",
       "        });\n",
       "        require(['plotly'], function(Plotly) {\n",
       "            window._Plotly = Plotly;\n",
       "        });\n",
       "        }\n",
       "        </script>\n",
       "        "
      ]
     },
     "metadata": {},
     "output_type": "display_data"
    },
    {
     "data": {
      "text/html": [
       "<div>                            <div id=\"70dc2a1c-6157-46dc-b78b-9b02a4b0c1ae\" class=\"plotly-graph-div\" style=\"height:525px; width:100%;\"></div>            <script type=\"text/javascript\">                require([\"plotly\"], function(Plotly) {                    window.PLOTLYENV=window.PLOTLYENV || {};                                    if (document.getElementById(\"70dc2a1c-6157-46dc-b78b-9b02a4b0c1ae\")) {                    Plotly.newPlot(                        \"70dc2a1c-6157-46dc-b78b-9b02a4b0c1ae\",                        [{\"customdata\":[[\"x\",\"input\",[16,3,160,160],0,0],[\"conv1\",\"nn.Conv2d\",[16,64,80,80],9408,1926758400],[\"bn1\",\"nn.BatchNorm2d\",[16,64,80,80],128,13107200],[\"relu\",\"nn.ReLU\",[16,64,80,80],0,0],[\"maxpool\",\"nn.MaxPool2d\",[16,64,40,40],0,0],[\"layer1_0_conv1\",\"nn.Conv2d\",[16,64,40,40],36864,1887436800],[\"layer1_0_bn1\",\"nn.BatchNorm2d\",[16,64,40,40],128,3276800],[\"layer1_0_relu\",\"nn.ReLU\",[16,64,40,40],0,0],[\"layer1_0_conv2\",\"nn.Conv2d\",[16,64,40,40],36864,1887436800],[\"layer1_0_bn2\",\"nn.BatchNorm2d\",[16,64,40,40],128,3276800],[\"add\",\"add()\",[16,64,40,40],0,0],[\"layer1_0_relu_1\",\"nn.ReLU\",[16,64,40,40],0,0],[\"layer1_1_conv1\",\"nn.Conv2d\",[16,64,40,40],36864,1887436800],[\"layer1_1_bn1\",\"nn.BatchNorm2d\",[16,64,40,40],128,3276800],[\"layer1_1_relu\",\"nn.ReLU\",[16,64,40,40],0,0],[\"layer1_1_conv2\",\"nn.Conv2d\",[16,64,40,40],36864,1887436800],[\"layer1_1_bn2\",\"nn.BatchNorm2d\",[16,64,40,40],128,3276800],[\"add_1\",\"add()\",[16,64,40,40],0,0],[\"layer1_1_relu_1\",\"nn.ReLU\",[16,64,40,40],0,0],[\"layer2_0_conv1\",\"nn.Conv2d\",[16,128,20,20],73728,943718400],[\"layer2_0_bn1\",\"nn.BatchNorm2d\",[16,128,20,20],256,1638400],[\"layer2_0_relu\",\"nn.ReLU\",[16,128,20,20],0,0],[\"layer2_0_conv2\",\"nn.Conv2d\",[16,128,20,20],147456,1887436800],[\"layer2_0_bn2\",\"nn.BatchNorm2d\",[16,128,20,20],256,1638400],[\"layer2_0_downsample_0\",\"nn.Conv2d\",[16,128,20,20],8192,104857600],[\"layer2_0_downsample_1\",\"nn.BatchNorm2d\",[16,128,20,20],256,1638400],[\"add_2\",\"add()\",[16,128,20,20],0,0],[\"layer2_0_relu_1\",\"nn.ReLU\",[16,128,20,20],0,0],[\"layer2_1_conv1\",\"nn.Conv2d\",[16,128,20,20],147456,1887436800],[\"layer2_1_bn1\",\"nn.BatchNorm2d\",[16,128,20,20],256,1638400],[\"layer2_1_relu\",\"nn.ReLU\",[16,128,20,20],0,0],[\"layer2_1_conv2\",\"nn.Conv2d\",[16,128,20,20],147456,1887436800],[\"layer2_1_bn2\",\"nn.BatchNorm2d\",[16,128,20,20],256,1638400],[\"add_3\",\"add()\",[16,128,20,20],0,0],[\"layer2_1_relu_1\",\"nn.ReLU\",[16,128,20,20],0,0],[\"layer3_0_conv1\",\"nn.Conv2d\",[16,256,10,10],294912,943718400],[\"layer3_0_bn1\",\"nn.BatchNorm2d\",[16,256,10,10],512,819200],[\"layer3_0_relu\",\"nn.ReLU\",[16,256,10,10],0,0],[\"layer3_0_conv2\",\"nn.Conv2d\",[16,256,10,10],589824,1887436800],[\"layer3_0_bn2\",\"nn.BatchNorm2d\",[16,256,10,10],512,819200],[\"layer3_0_downsample_0\",\"nn.Conv2d\",[16,256,10,10],32768,104857600],[\"layer3_0_downsample_1\",\"nn.BatchNorm2d\",[16,256,10,10],512,819200],[\"add_4\",\"add()\",[16,256,10,10],0,0],[\"layer3_0_relu_1\",\"nn.ReLU\",[16,256,10,10],0,0],[\"layer3_1_conv1\",\"nn.Conv2d\",[16,256,10,10],589824,1887436800],[\"layer3_1_bn1\",\"nn.BatchNorm2d\",[16,256,10,10],512,819200],[\"layer3_1_relu\",\"nn.ReLU\",[16,256,10,10],0,0],[\"layer3_1_conv2\",\"nn.Conv2d\",[16,256,10,10],589824,1887436800],[\"layer3_1_bn2\",\"nn.BatchNorm2d\",[16,256,10,10],512,819200],[\"add_5\",\"add()\",[16,256,10,10],0,0],[\"layer3_1_relu_1\",\"nn.ReLU\",[16,256,10,10],0,0],[\"layer4_0_conv1\",\"nn.Conv2d\",[16,512,5,5],1179648,943718400],[\"layer4_0_bn1\",\"nn.BatchNorm2d\",[16,512,5,5],1024,409600],[\"layer4_0_relu\",\"nn.ReLU\",[16,512,5,5],0,0],[\"layer4_0_conv2\",\"nn.Conv2d\",[16,512,5,5],2359296,1887436800],[\"layer4_0_bn2\",\"nn.BatchNorm2d\",[16,512,5,5],1024,409600],[\"layer4_0_downsample_0\",\"nn.Conv2d\",[16,512,5,5],131072,104857600],[\"layer4_0_downsample_1\",\"nn.BatchNorm2d\",[16,512,5,5],1024,409600],[\"add_6\",\"add()\",[16,512,5,5],0,0],[\"layer4_0_relu_1\",\"nn.ReLU\",[16,512,5,5],0,0],[\"layer4_1_conv1\",\"nn.Conv2d\",[16,512,5,5],2359296,1887436800],[\"layer4_1_bn1\",\"nn.BatchNorm2d\",[16,512,5,5],1024,409600],[\"layer4_1_relu\",\"nn.ReLU\",[16,512,5,5],0,0],[\"layer4_1_conv2\",\"nn.Conv2d\",[16,512,5,5],2359296,1887436800],[\"layer4_1_bn2\",\"nn.BatchNorm2d\",[16,512,5,5],1024,409600],[\"add_7\",\"add()\",[16,512,5,5],0,0],[\"layer4_1_relu_1\",\"nn.ReLU\",[16,512,5,5],0,0],[\"avgpool\",\"nn.AdaptiveAvgPool2d\",[16,512,1,1],0,16384],[\"flatten\",\"flatten()\",[16,512],0,0],[\"fc\",\"nn.Linear\",[16,1000],513000,16384000],[\"output\",\"output\",[16,1000],0,0]],\"hovertemplate\":\"Name: %{customdata[0]}\\u003cbr\\u003eOperation: %{customdata[1]}\\u003cbr\\u003eActivations: %{customdata[2]}\\u003cbr\\u003eParameters: %{customdata[3]}\\u003cbr\\u003eFLOPS: %{customdata[4]}\\u003cbr\\u003e\\u003cextra\\u003e\\u003c\\u002fextra\\u003e\",\"marker\":{\"color\":[\"#222A2A\",\"#00A08B\",\"#EB663B\",\"#1616A7\",\"#DA60CA\",\"#00A08B\",\"#EB663B\",\"#1616A7\",\"#00A08B\",\"#EB663B\",\"#778AAE\",\"#1616A7\",\"#00A08B\",\"#EB663B\",\"#1616A7\",\"#00A08B\",\"#EB663B\",\"#778AAE\",\"#1616A7\",\"#00A08B\",\"#EB663B\",\"#1616A7\",\"#00A08B\",\"#EB663B\",\"#00A08B\",\"#EB663B\",\"#778AAE\",\"#1616A7\",\"#00A08B\",\"#EB663B\",\"#1616A7\",\"#00A08B\",\"#EB663B\",\"#778AAE\",\"#1616A7\",\"#00A08B\",\"#EB663B\",\"#1616A7\",\"#00A08B\",\"#EB663B\",\"#00A08B\",\"#EB663B\",\"#778AAE\",\"#1616A7\",\"#00A08B\",\"#EB663B\",\"#1616A7\",\"#00A08B\",\"#EB663B\",\"#778AAE\",\"#1616A7\",\"#00A08B\",\"#EB663B\",\"#1616A7\",\"#00A08B\",\"#EB663B\",\"#00A08B\",\"#EB663B\",\"#778AAE\",\"#1616A7\",\"#00A08B\",\"#EB663B\",\"#1616A7\",\"#00A08B\",\"#EB663B\",\"#778AAE\",\"#1616A7\",\"#DA60CA\",\"#778AAE\",\"#2E91E5\",\"#222A2A\"],\"colorscale\":[[0.0,\"rgb(0,0,255)\"],[1.0,\"rgb(255,0,0)\"]],\"size\":[6.0,11.250279597842884,6.0,6.0,6.0,12.91881573172255,6.0,6.0,12.91881573172255,6.0,6.0,6.0,12.91881573172255,6.0,6.0,12.91881573172255,6.0,6.0,6.0,13.765679776435459,6.846864044712908,6.0,14.612543821148368,6.846864044712908,11.08118426827745,6.846864044712908,6.0,6.0,14.612543821148368,6.846864044712908,6.0,14.612543821148368,6.846864044712908,6.0,6.0,15.459407865861275,7.693728089425816,6.0,16.306271910574182,7.693728089425816,12.774912357703267,7.693728089425816,6.0,6.0,16.306271910574182,7.693728089425816,6.0,16.306271910574182,7.693728089425816,6.0,6.0,17.15313595528709,8.540592134138725,6.0,18.0,8.540592134138725,14.468640447129083,8.540592134138725,6.0,6.0,18.0,8.540592134138725,6.0,18.0,8.540592134138725,6.0,6.0,6.0,6.0,16.13577641297401,6.0]},\"mode\":\"markers\",\"showlegend\":false,\"x\":[0.0,0.0,0.0,0.0,0.0,0.0,0.0,0.0,0.0,0.0,0.0,0.0,0.0,0.0,0.0,0.0,0.0,0.0,0.0,0.0,0.0,0.0,0.0,0.0,1.0,1.0,0.0,0.0,0.0,0.0,0.0,0.0,0.0,0.0,0.0,0.0,0.0,0.0,0.0,0.0,1.0,1.0,0.0,0.0,0.0,0.0,0.0,0.0,0.0,0.0,0.0,0.0,0.0,0.0,0.0,0.0,1.0,1.0,0.0,0.0,0.0,0.0,0.0,0.0,0.0,0.0,0.0,0.0,0.0,0.0,0.0],\"y\":[0,1,1.15,1.3,1.45,2,2.15,2.3,3,3.15,4,4.15,5,5.15,5.3,6,6.15,7,7.15,8,8.15,8.3,9,9.15,9,9.15,10,10.15,11,11.15,11.3,12,12.15,13,13.15,14,14.15,14.3,15,15.15,15,15.15,16,16.15,17,17.15,17.3,18,18.15,19,19.15,20,20.15,20.3,21,21.15,21,21.15,22,22.15,23,23.15,23.3,24,24.15,25,25.15,25.3,25.45,26,27],\"type\":\"scatter\",\"xaxis\":\"x\",\"yaxis\":\"y\"},{\"hoverinfo\":\"skip\",\"line\":{\"color\":\"gray\",\"width\":1},\"mode\":\"lines\",\"showlegend\":false,\"x\":[0.0,0.0,null,0.0,0.0,null,0.0,0.0,null,0.0,0.0,null,0.0,0.0,null,0.0,0.0,null,0.0,0.0,null,0.0,0.0,null,0.0,0.0,null,0.0,0.0,null,0.0,0.4,0.4,0.0,null,0.0,0.0,null,0.0,0.0,null,0.0,0.0,null,0.0,0.0,null,0.0,0.0,null,0.0,0.0,null,0.0,0.0,null,0.0,0.4,0.4,0.0,null,0.0,0.0,null,0.0,0.0,null,0.0,0.0,null,0.0,0.0,null,0.0,0.0,null,0.0,0.0,null,0.0,1.0,null,1.0,1.0,null,0.0,0.0,null,1.0,0.0,null,0.0,0.0,null,0.0,0.0,null,0.0,0.0,null,0.0,0.0,null,0.0,0.0,null,0.0,0.0,null,0.0,0.0,null,0.0,0.4,0.4,0.0,null,0.0,0.0,null,0.0,0.0,null,0.0,0.0,null,0.0,0.0,null,0.0,0.0,null,0.0,0.0,null,0.0,1.0,null,1.0,1.0,null,0.0,0.0,null,1.0,0.0,null,0.0,0.0,null,0.0,0.0,null,0.0,0.0,null,0.0,0.0,null,0.0,0.0,null,0.0,0.0,null,0.0,0.0,null,0.0,0.4,0.4,0.0,null,0.0,0.0,null,0.0,0.0,null,0.0,0.0,null,0.0,0.0,null,0.0,0.0,null,0.0,0.0,null,0.0,1.0,null,1.0,1.0,null,0.0,0.0,null,1.0,0.0,null,0.0,0.0,null,0.0,0.0,null,0.0,0.0,null,0.0,0.0,null,0.0,0.0,null,0.0,0.0,null,0.0,0.0,null,0.0,0.4,0.4,0.0,null,0.0,0.0,null,0.0,0.0,null,0.0,0.0,null,0.0,0.0,null,0.0,0.0],\"y\":[0,1,null,1,1.15,null,1.15,1.3,null,1.3,1.45,null,1.45,2,null,2,2.15,null,2.15,2.3,null,2.3,3,null,3,3.15,null,3.15,4,null,1.45,1.85,3.6,4,null,4,4.15,null,4.15,5,null,5,5.15,null,5.15,5.3,null,5.3,6,null,6,6.15,null,6.15,7,null,4.15,4.550000000000001,6.6,7,null,7,7.15,null,7.15,8,null,8,8.15,null,8.15,8.3,null,8.3,9,null,9,9.15,null,7.15,9,null,9,9.15,null,9.15,10,null,9.15,10,null,10,10.15,null,10.15,11,null,11,11.15,null,11.15,11.3,null,11.3,12,null,12,12.15,null,12.15,13,null,10.15,10.55,12.6,13,null,13,13.15,null,13.15,14,null,14,14.15,null,14.15,14.3,null,14.3,15,null,15,15.15,null,13.15,15,null,15,15.15,null,15.15,16,null,15.15,16,null,16,16.15,null,16.15,17,null,17,17.15,null,17.15,17.3,null,17.3,18,null,18,18.15,null,18.15,19,null,16.15,16.549999999999997,18.6,19,null,19,19.15,null,19.15,20,null,20,20.15,null,20.15,20.3,null,20.3,21,null,21,21.15,null,19.15,21,null,21,21.15,null,21.15,22,null,21.15,22,null,22,22.15,null,22.15,23,null,23,23.15,null,23.15,23.3,null,23.3,24,null,24,24.15,null,24.15,25,null,22.15,22.549999999999997,24.6,25,null,25,25.15,null,25.15,25.3,null,25.3,25.45,null,25.45,26,null,26,27],\"type\":\"scatter\",\"xaxis\":\"x\",\"yaxis\":\"y\"},{\"cells\":{\"align\":\"left\",\"values\":[[\"x\",\"conv1\",\"bn1\",\"relu\",\"maxpool\",\"layer1_0_conv1\",\"layer1_0_bn1\",\"layer1_0_relu\",\"layer1_0_conv2\",\"layer1_0_bn2\",\"add\",\"layer1_0_relu_1\",\"layer1_1_conv1\",\"layer1_1_bn1\",\"layer1_1_relu\",\"layer1_1_conv2\",\"layer1_1_bn2\",\"add_1\",\"layer1_1_relu_1\",\"layer2_0_conv1\",\"layer2_0_bn1\",\"layer2_0_relu\",\"layer2_0_conv2\",\"layer2_0_bn2\",\"layer2_0_downsample_0\",\"layer2_0_downsample_1\",\"add_2\",\"layer2_0_relu_1\",\"layer2_1_conv1\",\"layer2_1_bn1\",\"layer2_1_relu\",\"layer2_1_conv2\",\"layer2_1_bn2\",\"add_3\",\"layer2_1_relu_1\",\"layer3_0_conv1\",\"layer3_0_bn1\",\"layer3_0_relu\",\"layer3_0_conv2\",\"layer3_0_bn2\",\"layer3_0_downsample_0\",\"layer3_0_downsample_1\",\"add_4\",\"layer3_0_relu_1\",\"layer3_1_conv1\",\"layer3_1_bn1\",\"layer3_1_relu\",\"layer3_1_conv2\",\"layer3_1_bn2\",\"add_5\",\"layer3_1_relu_1\",\"layer4_0_conv1\",\"layer4_0_bn1\",\"layer4_0_relu\",\"layer4_0_conv2\",\"layer4_0_bn2\",\"layer4_0_downsample_0\",\"layer4_0_downsample_1\",\"add_6\",\"layer4_0_relu_1\",\"layer4_1_conv1\",\"layer4_1_bn1\",\"layer4_1_relu\",\"layer4_1_conv2\",\"layer4_1_bn2\",\"add_7\",\"layer4_1_relu_1\",\"avgpool\",\"flatten\",\"fc\",\"output\"],[\"input\",\"nn.Conv2d\",\"nn.BatchNorm2d\",\"nn.ReLU\",\"nn.MaxPool2d\",\"nn.Conv2d\",\"nn.BatchNorm2d\",\"nn.ReLU\",\"nn.Conv2d\",\"nn.BatchNorm2d\",\"add()\",\"nn.ReLU\",\"nn.Conv2d\",\"nn.BatchNorm2d\",\"nn.ReLU\",\"nn.Conv2d\",\"nn.BatchNorm2d\",\"add()\",\"nn.ReLU\",\"nn.Conv2d\",\"nn.BatchNorm2d\",\"nn.ReLU\",\"nn.Conv2d\",\"nn.BatchNorm2d\",\"nn.Conv2d\",\"nn.BatchNorm2d\",\"add()\",\"nn.ReLU\",\"nn.Conv2d\",\"nn.BatchNorm2d\",\"nn.ReLU\",\"nn.Conv2d\",\"nn.BatchNorm2d\",\"add()\",\"nn.ReLU\",\"nn.Conv2d\",\"nn.BatchNorm2d\",\"nn.ReLU\",\"nn.Conv2d\",\"nn.BatchNorm2d\",\"nn.Conv2d\",\"nn.BatchNorm2d\",\"add()\",\"nn.ReLU\",\"nn.Conv2d\",\"nn.BatchNorm2d\",\"nn.ReLU\",\"nn.Conv2d\",\"nn.BatchNorm2d\",\"add()\",\"nn.ReLU\",\"nn.Conv2d\",\"nn.BatchNorm2d\",\"nn.ReLU\",\"nn.Conv2d\",\"nn.BatchNorm2d\",\"nn.Conv2d\",\"nn.BatchNorm2d\",\"add()\",\"nn.ReLU\",\"nn.Conv2d\",\"nn.BatchNorm2d\",\"nn.ReLU\",\"nn.Conv2d\",\"nn.BatchNorm2d\",\"add()\",\"nn.ReLU\",\"nn.AdaptiveAvgPool2d\",\"flatten()\",\"nn.Linear\",\"output\"],[[16,3,160,160],[16,64,80,80],[16,64,80,80],[16,64,80,80],[16,64,40,40],[16,64,40,40],[16,64,40,40],[16,64,40,40],[16,64,40,40],[16,64,40,40],[16,64,40,40],[16,64,40,40],[16,64,40,40],[16,64,40,40],[16,64,40,40],[16,64,40,40],[16,64,40,40],[16,64,40,40],[16,64,40,40],[16,128,20,20],[16,128,20,20],[16,128,20,20],[16,128,20,20],[16,128,20,20],[16,128,20,20],[16,128,20,20],[16,128,20,20],[16,128,20,20],[16,128,20,20],[16,128,20,20],[16,128,20,20],[16,128,20,20],[16,128,20,20],[16,128,20,20],[16,128,20,20],[16,256,10,10],[16,256,10,10],[16,256,10,10],[16,256,10,10],[16,256,10,10],[16,256,10,10],[16,256,10,10],[16,256,10,10],[16,256,10,10],[16,256,10,10],[16,256,10,10],[16,256,10,10],[16,256,10,10],[16,256,10,10],[16,256,10,10],[16,256,10,10],[16,512,5,5],[16,512,5,5],[16,512,5,5],[16,512,5,5],[16,512,5,5],[16,512,5,5],[16,512,5,5],[16,512,5,5],[16,512,5,5],[16,512,5,5],[16,512,5,5],[16,512,5,5],[16,512,5,5],[16,512,5,5],[16,512,5,5],[16,512,5,5],[16,512,1,1],[16,512],[16,1000],[16,1000]],[0,9408,128,0,0,36864,128,0,36864,128,0,0,36864,128,0,36864,128,0,0,73728,256,0,147456,256,8192,256,0,0,147456,256,0,147456,256,0,0,294912,512,0,589824,512,32768,512,0,0,589824,512,0,589824,512,0,0,1179648,1024,0,2359296,1024,131072,1024,0,0,2359296,1024,0,2359296,1024,0,0,0,0,513000,0],[0,1926758400,13107200,0,0,1887436800,3276800,0,1887436800,3276800,0,0,1887436800,3276800,0,1887436800,3276800,0,0,943718400,1638400,0,1887436800,1638400,104857600,1638400,0,0,1887436800,1638400,0,1887436800,1638400,0,0,943718400,819200,0,1887436800,819200,104857600,819200,0,0,1887436800,819200,0,1887436800,819200,0,0,943718400,409600,0,1887436800,409600,104857600,409600,0,0,1887436800,409600,0,1887436800,409600,0,0,16384,0,16384000,0]]},\"header\":{\"align\":\"left\",\"font\":{\"size\":10},\"values\":[\"Name\",\"Operation\",\"Activations\",\"Params\",\"FLOPS\"]},\"type\":\"table\",\"domain\":{\"x\":[0.26363636363636367,1.0],\"y\":[0.0,1.0]}}],                        {\"template\":{\"data\":{\"histogram2dcontour\":[{\"type\":\"histogram2dcontour\",\"colorbar\":{\"outlinewidth\":0,\"ticks\":\"\"},\"colorscale\":[[0.0,\"#0d0887\"],[0.1111111111111111,\"#46039f\"],[0.2222222222222222,\"#7201a8\"],[0.3333333333333333,\"#9c179e\"],[0.4444444444444444,\"#bd3786\"],[0.5555555555555556,\"#d8576b\"],[0.6666666666666666,\"#ed7953\"],[0.7777777777777778,\"#fb9f3a\"],[0.8888888888888888,\"#fdca26\"],[1.0,\"#f0f921\"]]}],\"choropleth\":[{\"type\":\"choropleth\",\"colorbar\":{\"outlinewidth\":0,\"ticks\":\"\"}}],\"histogram2d\":[{\"type\":\"histogram2d\",\"colorbar\":{\"outlinewidth\":0,\"ticks\":\"\"},\"colorscale\":[[0.0,\"#0d0887\"],[0.1111111111111111,\"#46039f\"],[0.2222222222222222,\"#7201a8\"],[0.3333333333333333,\"#9c179e\"],[0.4444444444444444,\"#bd3786\"],[0.5555555555555556,\"#d8576b\"],[0.6666666666666666,\"#ed7953\"],[0.7777777777777778,\"#fb9f3a\"],[0.8888888888888888,\"#fdca26\"],[1.0,\"#f0f921\"]]}],\"heatmap\":[{\"type\":\"heatmap\",\"colorbar\":{\"outlinewidth\":0,\"ticks\":\"\"},\"colorscale\":[[0.0,\"#0d0887\"],[0.1111111111111111,\"#46039f\"],[0.2222222222222222,\"#7201a8\"],[0.3333333333333333,\"#9c179e\"],[0.4444444444444444,\"#bd3786\"],[0.5555555555555556,\"#d8576b\"],[0.6666666666666666,\"#ed7953\"],[0.7777777777777778,\"#fb9f3a\"],[0.8888888888888888,\"#fdca26\"],[1.0,\"#f0f921\"]]}],\"heatmapgl\":[{\"type\":\"heatmapgl\",\"colorbar\":{\"outlinewidth\":0,\"ticks\":\"\"},\"colorscale\":[[0.0,\"#0d0887\"],[0.1111111111111111,\"#46039f\"],[0.2222222222222222,\"#7201a8\"],[0.3333333333333333,\"#9c179e\"],[0.4444444444444444,\"#bd3786\"],[0.5555555555555556,\"#d8576b\"],[0.6666666666666666,\"#ed7953\"],[0.7777777777777778,\"#fb9f3a\"],[0.8888888888888888,\"#fdca26\"],[1.0,\"#f0f921\"]]}],\"contourcarpet\":[{\"type\":\"contourcarpet\",\"colorbar\":{\"outlinewidth\":0,\"ticks\":\"\"}}],\"contour\":[{\"type\":\"contour\",\"colorbar\":{\"outlinewidth\":0,\"ticks\":\"\"},\"colorscale\":[[0.0,\"#0d0887\"],[0.1111111111111111,\"#46039f\"],[0.2222222222222222,\"#7201a8\"],[0.3333333333333333,\"#9c179e\"],[0.4444444444444444,\"#bd3786\"],[0.5555555555555556,\"#d8576b\"],[0.6666666666666666,\"#ed7953\"],[0.7777777777777778,\"#fb9f3a\"],[0.8888888888888888,\"#fdca26\"],[1.0,\"#f0f921\"]]}],\"surface\":[{\"type\":\"surface\",\"colorbar\":{\"outlinewidth\":0,\"ticks\":\"\"},\"colorscale\":[[0.0,\"#0d0887\"],[0.1111111111111111,\"#46039f\"],[0.2222222222222222,\"#7201a8\"],[0.3333333333333333,\"#9c179e\"],[0.4444444444444444,\"#bd3786\"],[0.5555555555555556,\"#d8576b\"],[0.6666666666666666,\"#ed7953\"],[0.7777777777777778,\"#fb9f3a\"],[0.8888888888888888,\"#fdca26\"],[1.0,\"#f0f921\"]]}],\"mesh3d\":[{\"type\":\"mesh3d\",\"colorbar\":{\"outlinewidth\":0,\"ticks\":\"\"}}],\"scatter\":[{\"fillpattern\":{\"fillmode\":\"overlay\",\"size\":10,\"solidity\":0.2},\"type\":\"scatter\"}],\"parcoords\":[{\"type\":\"parcoords\",\"line\":{\"colorbar\":{\"outlinewidth\":0,\"ticks\":\"\"}}}],\"scatterpolargl\":[{\"type\":\"scatterpolargl\",\"marker\":{\"colorbar\":{\"outlinewidth\":0,\"ticks\":\"\"}}}],\"bar\":[{\"error_x\":{\"color\":\"#2a3f5f\"},\"error_y\":{\"color\":\"#2a3f5f\"},\"marker\":{\"line\":{\"color\":\"#E5ECF6\",\"width\":0.5},\"pattern\":{\"fillmode\":\"overlay\",\"size\":10,\"solidity\":0.2}},\"type\":\"bar\"}],\"scattergeo\":[{\"type\":\"scattergeo\",\"marker\":{\"colorbar\":{\"outlinewidth\":0,\"ticks\":\"\"}}}],\"scatterpolar\":[{\"type\":\"scatterpolar\",\"marker\":{\"colorbar\":{\"outlinewidth\":0,\"ticks\":\"\"}}}],\"histogram\":[{\"marker\":{\"pattern\":{\"fillmode\":\"overlay\",\"size\":10,\"solidity\":0.2}},\"type\":\"histogram\"}],\"scattergl\":[{\"type\":\"scattergl\",\"marker\":{\"colorbar\":{\"outlinewidth\":0,\"ticks\":\"\"}}}],\"scatter3d\":[{\"type\":\"scatter3d\",\"line\":{\"colorbar\":{\"outlinewidth\":0,\"ticks\":\"\"}},\"marker\":{\"colorbar\":{\"outlinewidth\":0,\"ticks\":\"\"}}}],\"scattermapbox\":[{\"type\":\"scattermapbox\",\"marker\":{\"colorbar\":{\"outlinewidth\":0,\"ticks\":\"\"}}}],\"scatterternary\":[{\"type\":\"scatterternary\",\"marker\":{\"colorbar\":{\"outlinewidth\":0,\"ticks\":\"\"}}}],\"scattercarpet\":[{\"type\":\"scattercarpet\",\"marker\":{\"colorbar\":{\"outlinewidth\":0,\"ticks\":\"\"}}}],\"carpet\":[{\"aaxis\":{\"endlinecolor\":\"#2a3f5f\",\"gridcolor\":\"white\",\"linecolor\":\"white\",\"minorgridcolor\":\"white\",\"startlinecolor\":\"#2a3f5f\"},\"baxis\":{\"endlinecolor\":\"#2a3f5f\",\"gridcolor\":\"white\",\"linecolor\":\"white\",\"minorgridcolor\":\"white\",\"startlinecolor\":\"#2a3f5f\"},\"type\":\"carpet\"}],\"table\":[{\"cells\":{\"fill\":{\"color\":\"#EBF0F8\"},\"line\":{\"color\":\"white\"}},\"header\":{\"fill\":{\"color\":\"#C8D4E3\"},\"line\":{\"color\":\"white\"}},\"type\":\"table\"}],\"barpolar\":[{\"marker\":{\"line\":{\"color\":\"#E5ECF6\",\"width\":0.5},\"pattern\":{\"fillmode\":\"overlay\",\"size\":10,\"solidity\":0.2}},\"type\":\"barpolar\"}],\"pie\":[{\"automargin\":true,\"type\":\"pie\"}]},\"layout\":{\"autotypenumbers\":\"strict\",\"colorway\":[\"#636efa\",\"#EF553B\",\"#00cc96\",\"#ab63fa\",\"#FFA15A\",\"#19d3f3\",\"#FF6692\",\"#B6E880\",\"#FF97FF\",\"#FECB52\"],\"font\":{\"color\":\"#2a3f5f\"},\"hovermode\":\"closest\",\"hoverlabel\":{\"align\":\"left\"},\"paper_bgcolor\":\"white\",\"plot_bgcolor\":\"#E5ECF6\",\"polar\":{\"bgcolor\":\"#E5ECF6\",\"angularaxis\":{\"gridcolor\":\"white\",\"linecolor\":\"white\",\"ticks\":\"\"},\"radialaxis\":{\"gridcolor\":\"white\",\"linecolor\":\"white\",\"ticks\":\"\"}},\"ternary\":{\"bgcolor\":\"#E5ECF6\",\"aaxis\":{\"gridcolor\":\"white\",\"linecolor\":\"white\",\"ticks\":\"\"},\"baxis\":{\"gridcolor\":\"white\",\"linecolor\":\"white\",\"ticks\":\"\"},\"caxis\":{\"gridcolor\":\"white\",\"linecolor\":\"white\",\"ticks\":\"\"}},\"coloraxis\":{\"colorbar\":{\"outlinewidth\":0,\"ticks\":\"\"}},\"colorscale\":{\"sequential\":[[0.0,\"#0d0887\"],[0.1111111111111111,\"#46039f\"],[0.2222222222222222,\"#7201a8\"],[0.3333333333333333,\"#9c179e\"],[0.4444444444444444,\"#bd3786\"],[0.5555555555555556,\"#d8576b\"],[0.6666666666666666,\"#ed7953\"],[0.7777777777777778,\"#fb9f3a\"],[0.8888888888888888,\"#fdca26\"],[1.0,\"#f0f921\"]],\"sequentialminus\":[[0.0,\"#0d0887\"],[0.1111111111111111,\"#46039f\"],[0.2222222222222222,\"#7201a8\"],[0.3333333333333333,\"#9c179e\"],[0.4444444444444444,\"#bd3786\"],[0.5555555555555556,\"#d8576b\"],[0.6666666666666666,\"#ed7953\"],[0.7777777777777778,\"#fb9f3a\"],[0.8888888888888888,\"#fdca26\"],[1.0,\"#f0f921\"]],\"diverging\":[[0,\"#8e0152\"],[0.1,\"#c51b7d\"],[0.2,\"#de77ae\"],[0.3,\"#f1b6da\"],[0.4,\"#fde0ef\"],[0.5,\"#f7f7f7\"],[0.6,\"#e6f5d0\"],[0.7,\"#b8e186\"],[0.8,\"#7fbc41\"],[0.9,\"#4d9221\"],[1,\"#276419\"]]},\"xaxis\":{\"gridcolor\":\"white\",\"linecolor\":\"white\",\"ticks\":\"\",\"title\":{\"standoff\":15},\"zerolinecolor\":\"white\",\"automargin\":true,\"zerolinewidth\":2},\"yaxis\":{\"gridcolor\":\"white\",\"linecolor\":\"white\",\"ticks\":\"\",\"title\":{\"standoff\":15},\"zerolinecolor\":\"white\",\"automargin\":true,\"zerolinewidth\":2},\"scene\":{\"xaxis\":{\"backgroundcolor\":\"#E5ECF6\",\"gridcolor\":\"white\",\"linecolor\":\"white\",\"showbackground\":true,\"ticks\":\"\",\"zerolinecolor\":\"white\",\"gridwidth\":2},\"yaxis\":{\"backgroundcolor\":\"#E5ECF6\",\"gridcolor\":\"white\",\"linecolor\":\"white\",\"showbackground\":true,\"ticks\":\"\",\"zerolinecolor\":\"white\",\"gridwidth\":2},\"zaxis\":{\"backgroundcolor\":\"#E5ECF6\",\"gridcolor\":\"white\",\"linecolor\":\"white\",\"showbackground\":true,\"ticks\":\"\",\"zerolinecolor\":\"white\",\"gridwidth\":2}},\"shapedefaults\":{\"line\":{\"color\":\"#2a3f5f\"}},\"annotationdefaults\":{\"arrowcolor\":\"#2a3f5f\",\"arrowhead\":0,\"arrowwidth\":1},\"geo\":{\"bgcolor\":\"white\",\"landcolor\":\"#E5ECF6\",\"subunitcolor\":\"white\",\"showland\":true,\"showlakes\":true,\"lakecolor\":\"white\"},\"title\":{\"x\":0.05},\"mapbox\":{\"style\":\"light\"}}},\"xaxis\":{\"anchor\":\"y\",\"domain\":[0.0,0.16363636363636364],\"showgrid\":false,\"zeroline\":false,\"tickmode\":\"array\",\"tickvals\":[]},\"yaxis\":{\"anchor\":\"x\",\"domain\":[0.0,1.0],\"showgrid\":false,\"zeroline\":false,\"tickmode\":\"array\",\"tickvals\":[],\"range\":[9.5,-0.5]},\"sliders\":[{\"active\":0,\"currentvalue\":{\"visible\":false},\"pad\":{\"t\":50},\"steps\":[{\"args\":[{\"yaxis\":{\"range\":[9.5,-0.5],\"showgrid\":false,\"zeroline\":false,\"tickmode\":\"array\",\"tickvals\":[]}}],\"label\":\"\",\"method\":\"relayout\"},{\"args\":[{\"yaxis\":{\"range\":[9.6,-0.4],\"showgrid\":false,\"zeroline\":false,\"tickmode\":\"array\",\"tickvals\":[]}}],\"label\":\"\",\"method\":\"relayout\"},{\"args\":[{\"yaxis\":{\"range\":[9.7,-0.3],\"showgrid\":false,\"zeroline\":false,\"tickmode\":\"array\",\"tickvals\":[]}}],\"label\":\"\",\"method\":\"relayout\"},{\"args\":[{\"yaxis\":{\"range\":[9.8,-0.19999999999999996],\"showgrid\":false,\"zeroline\":false,\"tickmode\":\"array\",\"tickvals\":[]}}],\"label\":\"\",\"method\":\"relayout\"},{\"args\":[{\"yaxis\":{\"range\":[9.9,-0.09999999999999998],\"showgrid\":false,\"zeroline\":false,\"tickmode\":\"array\",\"tickvals\":[]}}],\"label\":\"\",\"method\":\"relayout\"},{\"args\":[{\"yaxis\":{\"range\":[10.0,0.0],\"showgrid\":false,\"zeroline\":false,\"tickmode\":\"array\",\"tickvals\":[]}}],\"label\":\"\",\"method\":\"relayout\"},{\"args\":[{\"yaxis\":{\"range\":[10.1,0.10000000000000009],\"showgrid\":false,\"zeroline\":false,\"tickmode\":\"array\",\"tickvals\":[]}}],\"label\":\"\",\"method\":\"relayout\"},{\"args\":[{\"yaxis\":{\"range\":[10.2,0.20000000000000007],\"showgrid\":false,\"zeroline\":false,\"tickmode\":\"array\",\"tickvals\":[]}}],\"label\":\"\",\"method\":\"relayout\"},{\"args\":[{\"yaxis\":{\"range\":[10.3,0.30000000000000004],\"showgrid\":false,\"zeroline\":false,\"tickmode\":\"array\",\"tickvals\":[]}}],\"label\":\"\",\"method\":\"relayout\"},{\"args\":[{\"yaxis\":{\"range\":[10.4,0.4],\"showgrid\":false,\"zeroline\":false,\"tickmode\":\"array\",\"tickvals\":[]}}],\"label\":\"\",\"method\":\"relayout\"},{\"args\":[{\"yaxis\":{\"range\":[10.5,0.5],\"showgrid\":false,\"zeroline\":false,\"tickmode\":\"array\",\"tickvals\":[]}}],\"label\":\"\",\"method\":\"relayout\"},{\"args\":[{\"yaxis\":{\"range\":[10.6,0.6000000000000001],\"showgrid\":false,\"zeroline\":false,\"tickmode\":\"array\",\"tickvals\":[]}}],\"label\":\"\",\"method\":\"relayout\"},{\"args\":[{\"yaxis\":{\"range\":[10.7,0.7000000000000002],\"showgrid\":false,\"zeroline\":false,\"tickmode\":\"array\",\"tickvals\":[]}}],\"label\":\"\",\"method\":\"relayout\"},{\"args\":[{\"yaxis\":{\"range\":[10.8,0.8],\"showgrid\":false,\"zeroline\":false,\"tickmode\":\"array\",\"tickvals\":[]}}],\"label\":\"\",\"method\":\"relayout\"},{\"args\":[{\"yaxis\":{\"range\":[10.9,0.9000000000000001],\"showgrid\":false,\"zeroline\":false,\"tickmode\":\"array\",\"tickvals\":[]}}],\"label\":\"\",\"method\":\"relayout\"},{\"args\":[{\"yaxis\":{\"range\":[11.0,1.0],\"showgrid\":false,\"zeroline\":false,\"tickmode\":\"array\",\"tickvals\":[]}}],\"label\":\"\",\"method\":\"relayout\"},{\"args\":[{\"yaxis\":{\"range\":[11.1,1.1],\"showgrid\":false,\"zeroline\":false,\"tickmode\":\"array\",\"tickvals\":[]}}],\"label\":\"\",\"method\":\"relayout\"},{\"args\":[{\"yaxis\":{\"range\":[11.2,1.2000000000000002],\"showgrid\":false,\"zeroline\":false,\"tickmode\":\"array\",\"tickvals\":[]}}],\"label\":\"\",\"method\":\"relayout\"},{\"args\":[{\"yaxis\":{\"range\":[11.3,1.3],\"showgrid\":false,\"zeroline\":false,\"tickmode\":\"array\",\"tickvals\":[]}}],\"label\":\"\",\"method\":\"relayout\"},{\"args\":[{\"yaxis\":{\"range\":[11.4,1.4000000000000001],\"showgrid\":false,\"zeroline\":false,\"tickmode\":\"array\",\"tickvals\":[]}}],\"label\":\"\",\"method\":\"relayout\"},{\"args\":[{\"yaxis\":{\"range\":[11.5,1.5],\"showgrid\":false,\"zeroline\":false,\"tickmode\":\"array\",\"tickvals\":[]}}],\"label\":\"\",\"method\":\"relayout\"},{\"args\":[{\"yaxis\":{\"range\":[11.6,1.6],\"showgrid\":false,\"zeroline\":false,\"tickmode\":\"array\",\"tickvals\":[]}}],\"label\":\"\",\"method\":\"relayout\"},{\"args\":[{\"yaxis\":{\"range\":[11.7,1.7000000000000002],\"showgrid\":false,\"zeroline\":false,\"tickmode\":\"array\",\"tickvals\":[]}}],\"label\":\"\",\"method\":\"relayout\"},{\"args\":[{\"yaxis\":{\"range\":[11.8,1.8000000000000003],\"showgrid\":false,\"zeroline\":false,\"tickmode\":\"array\",\"tickvals\":[]}}],\"label\":\"\",\"method\":\"relayout\"},{\"args\":[{\"yaxis\":{\"range\":[11.9,1.9000000000000004],\"showgrid\":false,\"zeroline\":false,\"tickmode\":\"array\",\"tickvals\":[]}}],\"label\":\"\",\"method\":\"relayout\"},{\"args\":[{\"yaxis\":{\"range\":[12.0,2.0],\"showgrid\":false,\"zeroline\":false,\"tickmode\":\"array\",\"tickvals\":[]}}],\"label\":\"\",\"method\":\"relayout\"},{\"args\":[{\"yaxis\":{\"range\":[12.1,2.1],\"showgrid\":false,\"zeroline\":false,\"tickmode\":\"array\",\"tickvals\":[]}}],\"label\":\"\",\"method\":\"relayout\"},{\"args\":[{\"yaxis\":{\"range\":[12.2,2.2],\"showgrid\":false,\"zeroline\":false,\"tickmode\":\"array\",\"tickvals\":[]}}],\"label\":\"\",\"method\":\"relayout\"},{\"args\":[{\"yaxis\":{\"range\":[12.3,2.3000000000000003],\"showgrid\":false,\"zeroline\":false,\"tickmode\":\"array\",\"tickvals\":[]}}],\"label\":\"\",\"method\":\"relayout\"},{\"args\":[{\"yaxis\":{\"range\":[12.4,2.4000000000000004],\"showgrid\":false,\"zeroline\":false,\"tickmode\":\"array\",\"tickvals\":[]}}],\"label\":\"\",\"method\":\"relayout\"},{\"args\":[{\"yaxis\":{\"range\":[12.5,2.5],\"showgrid\":false,\"zeroline\":false,\"tickmode\":\"array\",\"tickvals\":[]}}],\"label\":\"\",\"method\":\"relayout\"},{\"args\":[{\"yaxis\":{\"range\":[12.6,2.6],\"showgrid\":false,\"zeroline\":false,\"tickmode\":\"array\",\"tickvals\":[]}}],\"label\":\"\",\"method\":\"relayout\"},{\"args\":[{\"yaxis\":{\"range\":[12.7,2.7],\"showgrid\":false,\"zeroline\":false,\"tickmode\":\"array\",\"tickvals\":[]}}],\"label\":\"\",\"method\":\"relayout\"},{\"args\":[{\"yaxis\":{\"range\":[12.8,2.8000000000000003],\"showgrid\":false,\"zeroline\":false,\"tickmode\":\"array\",\"tickvals\":[]}}],\"label\":\"\",\"method\":\"relayout\"},{\"args\":[{\"yaxis\":{\"range\":[12.9,2.9000000000000004],\"showgrid\":false,\"zeroline\":false,\"tickmode\":\"array\",\"tickvals\":[]}}],\"label\":\"\",\"method\":\"relayout\"},{\"args\":[{\"yaxis\":{\"range\":[13.0,3.0],\"showgrid\":false,\"zeroline\":false,\"tickmode\":\"array\",\"tickvals\":[]}}],\"label\":\"\",\"method\":\"relayout\"},{\"args\":[{\"yaxis\":{\"range\":[13.1,3.1],\"showgrid\":false,\"zeroline\":false,\"tickmode\":\"array\",\"tickvals\":[]}}],\"label\":\"\",\"method\":\"relayout\"},{\"args\":[{\"yaxis\":{\"range\":[13.2,3.2],\"showgrid\":false,\"zeroline\":false,\"tickmode\":\"array\",\"tickvals\":[]}}],\"label\":\"\",\"method\":\"relayout\"},{\"args\":[{\"yaxis\":{\"range\":[13.3,3.3000000000000003],\"showgrid\":false,\"zeroline\":false,\"tickmode\":\"array\",\"tickvals\":[]}}],\"label\":\"\",\"method\":\"relayout\"},{\"args\":[{\"yaxis\":{\"range\":[13.4,3.4000000000000004],\"showgrid\":false,\"zeroline\":false,\"tickmode\":\"array\",\"tickvals\":[]}}],\"label\":\"\",\"method\":\"relayout\"},{\"args\":[{\"yaxis\":{\"range\":[13.5,3.5],\"showgrid\":false,\"zeroline\":false,\"tickmode\":\"array\",\"tickvals\":[]}}],\"label\":\"\",\"method\":\"relayout\"},{\"args\":[{\"yaxis\":{\"range\":[13.600000000000001,3.6000000000000005],\"showgrid\":false,\"zeroline\":false,\"tickmode\":\"array\",\"tickvals\":[]}}],\"label\":\"\",\"method\":\"relayout\"},{\"args\":[{\"yaxis\":{\"range\":[13.7,3.7],\"showgrid\":false,\"zeroline\":false,\"tickmode\":\"array\",\"tickvals\":[]}}],\"label\":\"\",\"method\":\"relayout\"},{\"args\":[{\"yaxis\":{\"range\":[13.8,3.8],\"showgrid\":false,\"zeroline\":false,\"tickmode\":\"array\",\"tickvals\":[]}}],\"label\":\"\",\"method\":\"relayout\"},{\"args\":[{\"yaxis\":{\"range\":[13.9,3.9000000000000004],\"showgrid\":false,\"zeroline\":false,\"tickmode\":\"array\",\"tickvals\":[]}}],\"label\":\"\",\"method\":\"relayout\"},{\"args\":[{\"yaxis\":{\"range\":[14.0,4.0],\"showgrid\":false,\"zeroline\":false,\"tickmode\":\"array\",\"tickvals\":[]}}],\"label\":\"\",\"method\":\"relayout\"},{\"args\":[{\"yaxis\":{\"range\":[14.100000000000001,4.1000000000000005],\"showgrid\":false,\"zeroline\":false,\"tickmode\":\"array\",\"tickvals\":[]}}],\"label\":\"\",\"method\":\"relayout\"},{\"args\":[{\"yaxis\":{\"range\":[14.2,4.2],\"showgrid\":false,\"zeroline\":false,\"tickmode\":\"array\",\"tickvals\":[]}}],\"label\":\"\",\"method\":\"relayout\"},{\"args\":[{\"yaxis\":{\"range\":[14.3,4.300000000000001],\"showgrid\":false,\"zeroline\":false,\"tickmode\":\"array\",\"tickvals\":[]}}],\"label\":\"\",\"method\":\"relayout\"},{\"args\":[{\"yaxis\":{\"range\":[14.4,4.4],\"showgrid\":false,\"zeroline\":false,\"tickmode\":\"array\",\"tickvals\":[]}}],\"label\":\"\",\"method\":\"relayout\"},{\"args\":[{\"yaxis\":{\"range\":[14.5,4.5],\"showgrid\":false,\"zeroline\":false,\"tickmode\":\"array\",\"tickvals\":[]}}],\"label\":\"\",\"method\":\"relayout\"},{\"args\":[{\"yaxis\":{\"range\":[14.600000000000001,4.6000000000000005],\"showgrid\":false,\"zeroline\":false,\"tickmode\":\"array\",\"tickvals\":[]}}],\"label\":\"\",\"method\":\"relayout\"},{\"args\":[{\"yaxis\":{\"range\":[14.7,4.7],\"showgrid\":false,\"zeroline\":false,\"tickmode\":\"array\",\"tickvals\":[]}}],\"label\":\"\",\"method\":\"relayout\"},{\"args\":[{\"yaxis\":{\"range\":[14.8,4.800000000000001],\"showgrid\":false,\"zeroline\":false,\"tickmode\":\"array\",\"tickvals\":[]}}],\"label\":\"\",\"method\":\"relayout\"},{\"args\":[{\"yaxis\":{\"range\":[14.9,4.9],\"showgrid\":false,\"zeroline\":false,\"tickmode\":\"array\",\"tickvals\":[]}}],\"label\":\"\",\"method\":\"relayout\"},{\"args\":[{\"yaxis\":{\"range\":[15.0,5.0],\"showgrid\":false,\"zeroline\":false,\"tickmode\":\"array\",\"tickvals\":[]}}],\"label\":\"\",\"method\":\"relayout\"},{\"args\":[{\"yaxis\":{\"range\":[15.100000000000001,5.1000000000000005],\"showgrid\":false,\"zeroline\":false,\"tickmode\":\"array\",\"tickvals\":[]}}],\"label\":\"\",\"method\":\"relayout\"},{\"args\":[{\"yaxis\":{\"range\":[15.2,5.2],\"showgrid\":false,\"zeroline\":false,\"tickmode\":\"array\",\"tickvals\":[]}}],\"label\":\"\",\"method\":\"relayout\"},{\"args\":[{\"yaxis\":{\"range\":[15.3,5.300000000000001],\"showgrid\":false,\"zeroline\":false,\"tickmode\":\"array\",\"tickvals\":[]}}],\"label\":\"\",\"method\":\"relayout\"},{\"args\":[{\"yaxis\":{\"range\":[15.4,5.4],\"showgrid\":false,\"zeroline\":false,\"tickmode\":\"array\",\"tickvals\":[]}}],\"label\":\"\",\"method\":\"relayout\"},{\"args\":[{\"yaxis\":{\"range\":[15.5,5.5],\"showgrid\":false,\"zeroline\":false,\"tickmode\":\"array\",\"tickvals\":[]}}],\"label\":\"\",\"method\":\"relayout\"},{\"args\":[{\"yaxis\":{\"range\":[15.600000000000001,5.6000000000000005],\"showgrid\":false,\"zeroline\":false,\"tickmode\":\"array\",\"tickvals\":[]}}],\"label\":\"\",\"method\":\"relayout\"},{\"args\":[{\"yaxis\":{\"range\":[15.7,5.7],\"showgrid\":false,\"zeroline\":false,\"tickmode\":\"array\",\"tickvals\":[]}}],\"label\":\"\",\"method\":\"relayout\"},{\"args\":[{\"yaxis\":{\"range\":[15.8,5.800000000000001],\"showgrid\":false,\"zeroline\":false,\"tickmode\":\"array\",\"tickvals\":[]}}],\"label\":\"\",\"method\":\"relayout\"},{\"args\":[{\"yaxis\":{\"range\":[15.899999999999999,5.9],\"showgrid\":false,\"zeroline\":false,\"tickmode\":\"array\",\"tickvals\":[]}}],\"label\":\"\",\"method\":\"relayout\"},{\"args\":[{\"yaxis\":{\"range\":[16.0,6.0],\"showgrid\":false,\"zeroline\":false,\"tickmode\":\"array\",\"tickvals\":[]}}],\"label\":\"\",\"method\":\"relayout\"},{\"args\":[{\"yaxis\":{\"range\":[16.1,6.1000000000000005],\"showgrid\":false,\"zeroline\":false,\"tickmode\":\"array\",\"tickvals\":[]}}],\"label\":\"\",\"method\":\"relayout\"},{\"args\":[{\"yaxis\":{\"range\":[16.2,6.2],\"showgrid\":false,\"zeroline\":false,\"tickmode\":\"array\",\"tickvals\":[]}}],\"label\":\"\",\"method\":\"relayout\"},{\"args\":[{\"yaxis\":{\"range\":[16.3,6.300000000000001],\"showgrid\":false,\"zeroline\":false,\"tickmode\":\"array\",\"tickvals\":[]}}],\"label\":\"\",\"method\":\"relayout\"},{\"args\":[{\"yaxis\":{\"range\":[16.4,6.4],\"showgrid\":false,\"zeroline\":false,\"tickmode\":\"array\",\"tickvals\":[]}}],\"label\":\"\",\"method\":\"relayout\"},{\"args\":[{\"yaxis\":{\"range\":[16.5,6.5],\"showgrid\":false,\"zeroline\":false,\"tickmode\":\"array\",\"tickvals\":[]}}],\"label\":\"\",\"method\":\"relayout\"},{\"args\":[{\"yaxis\":{\"range\":[16.6,6.6000000000000005],\"showgrid\":false,\"zeroline\":false,\"tickmode\":\"array\",\"tickvals\":[]}}],\"label\":\"\",\"method\":\"relayout\"},{\"args\":[{\"yaxis\":{\"range\":[16.7,6.7],\"showgrid\":false,\"zeroline\":false,\"tickmode\":\"array\",\"tickvals\":[]}}],\"label\":\"\",\"method\":\"relayout\"},{\"args\":[{\"yaxis\":{\"range\":[16.8,6.800000000000001],\"showgrid\":false,\"zeroline\":false,\"tickmode\":\"array\",\"tickvals\":[]}}],\"label\":\"\",\"method\":\"relayout\"},{\"args\":[{\"yaxis\":{\"range\":[16.9,6.9],\"showgrid\":false,\"zeroline\":false,\"tickmode\":\"array\",\"tickvals\":[]}}],\"label\":\"\",\"method\":\"relayout\"},{\"args\":[{\"yaxis\":{\"range\":[17.0,7.0],\"showgrid\":false,\"zeroline\":false,\"tickmode\":\"array\",\"tickvals\":[]}}],\"label\":\"\",\"method\":\"relayout\"},{\"args\":[{\"yaxis\":{\"range\":[17.1,7.1000000000000005],\"showgrid\":false,\"zeroline\":false,\"tickmode\":\"array\",\"tickvals\":[]}}],\"label\":\"\",\"method\":\"relayout\"},{\"args\":[{\"yaxis\":{\"range\":[17.2,7.2],\"showgrid\":false,\"zeroline\":false,\"tickmode\":\"array\",\"tickvals\":[]}}],\"label\":\"\",\"method\":\"relayout\"},{\"args\":[{\"yaxis\":{\"range\":[17.3,7.300000000000001],\"showgrid\":false,\"zeroline\":false,\"tickmode\":\"array\",\"tickvals\":[]}}],\"label\":\"\",\"method\":\"relayout\"},{\"args\":[{\"yaxis\":{\"range\":[17.4,7.4],\"showgrid\":false,\"zeroline\":false,\"tickmode\":\"array\",\"tickvals\":[]}}],\"label\":\"\",\"method\":\"relayout\"},{\"args\":[{\"yaxis\":{\"range\":[17.5,7.5],\"showgrid\":false,\"zeroline\":false,\"tickmode\":\"array\",\"tickvals\":[]}}],\"label\":\"\",\"method\":\"relayout\"},{\"args\":[{\"yaxis\":{\"range\":[17.6,7.6],\"showgrid\":false,\"zeroline\":false,\"tickmode\":\"array\",\"tickvals\":[]}}],\"label\":\"\",\"method\":\"relayout\"},{\"args\":[{\"yaxis\":{\"range\":[17.700000000000003,7.700000000000001],\"showgrid\":false,\"zeroline\":false,\"tickmode\":\"array\",\"tickvals\":[]}}],\"label\":\"\",\"method\":\"relayout\"},{\"args\":[{\"yaxis\":{\"range\":[17.8,7.800000000000001],\"showgrid\":false,\"zeroline\":false,\"tickmode\":\"array\",\"tickvals\":[]}}],\"label\":\"\",\"method\":\"relayout\"},{\"args\":[{\"yaxis\":{\"range\":[17.9,7.9],\"showgrid\":false,\"zeroline\":false,\"tickmode\":\"array\",\"tickvals\":[]}}],\"label\":\"\",\"method\":\"relayout\"},{\"args\":[{\"yaxis\":{\"range\":[18.0,8.0],\"showgrid\":false,\"zeroline\":false,\"tickmode\":\"array\",\"tickvals\":[]}}],\"label\":\"\",\"method\":\"relayout\"},{\"args\":[{\"yaxis\":{\"range\":[18.1,8.1],\"showgrid\":false,\"zeroline\":false,\"tickmode\":\"array\",\"tickvals\":[]}}],\"label\":\"\",\"method\":\"relayout\"},{\"args\":[{\"yaxis\":{\"range\":[18.200000000000003,8.200000000000001],\"showgrid\":false,\"zeroline\":false,\"tickmode\":\"array\",\"tickvals\":[]}}],\"label\":\"\",\"method\":\"relayout\"},{\"args\":[{\"yaxis\":{\"range\":[18.3,8.3],\"showgrid\":false,\"zeroline\":false,\"tickmode\":\"array\",\"tickvals\":[]}}],\"label\":\"\",\"method\":\"relayout\"},{\"args\":[{\"yaxis\":{\"range\":[18.4,8.4],\"showgrid\":false,\"zeroline\":false,\"tickmode\":\"array\",\"tickvals\":[]}}],\"label\":\"\",\"method\":\"relayout\"},{\"args\":[{\"yaxis\":{\"range\":[18.5,8.5],\"showgrid\":false,\"zeroline\":false,\"tickmode\":\"array\",\"tickvals\":[]}}],\"label\":\"\",\"method\":\"relayout\"},{\"args\":[{\"yaxis\":{\"range\":[18.6,8.6],\"showgrid\":false,\"zeroline\":false,\"tickmode\":\"array\",\"tickvals\":[]}}],\"label\":\"\",\"method\":\"relayout\"},{\"args\":[{\"yaxis\":{\"range\":[18.700000000000003,8.700000000000001],\"showgrid\":false,\"zeroline\":false,\"tickmode\":\"array\",\"tickvals\":[]}}],\"label\":\"\",\"method\":\"relayout\"},{\"args\":[{\"yaxis\":{\"range\":[18.8,8.8],\"showgrid\":false,\"zeroline\":false,\"tickmode\":\"array\",\"tickvals\":[]}}],\"label\":\"\",\"method\":\"relayout\"},{\"args\":[{\"yaxis\":{\"range\":[18.9,8.9],\"showgrid\":false,\"zeroline\":false,\"tickmode\":\"array\",\"tickvals\":[]}}],\"label\":\"\",\"method\":\"relayout\"},{\"args\":[{\"yaxis\":{\"range\":[19.0,9.0],\"showgrid\":false,\"zeroline\":false,\"tickmode\":\"array\",\"tickvals\":[]}}],\"label\":\"\",\"method\":\"relayout\"},{\"args\":[{\"yaxis\":{\"range\":[19.1,9.100000000000001],\"showgrid\":false,\"zeroline\":false,\"tickmode\":\"array\",\"tickvals\":[]}}],\"label\":\"\",\"method\":\"relayout\"},{\"args\":[{\"yaxis\":{\"range\":[19.200000000000003,9.200000000000001],\"showgrid\":false,\"zeroline\":false,\"tickmode\":\"array\",\"tickvals\":[]}}],\"label\":\"\",\"method\":\"relayout\"},{\"args\":[{\"yaxis\":{\"range\":[19.3,9.3],\"showgrid\":false,\"zeroline\":false,\"tickmode\":\"array\",\"tickvals\":[]}}],\"label\":\"\",\"method\":\"relayout\"},{\"args\":[{\"yaxis\":{\"range\":[19.4,9.4],\"showgrid\":false,\"zeroline\":false,\"tickmode\":\"array\",\"tickvals\":[]}}],\"label\":\"\",\"method\":\"relayout\"},{\"args\":[{\"yaxis\":{\"range\":[19.5,9.5],\"showgrid\":false,\"zeroline\":false,\"tickmode\":\"array\",\"tickvals\":[]}}],\"label\":\"\",\"method\":\"relayout\"},{\"args\":[{\"yaxis\":{\"range\":[19.6,9.600000000000001],\"showgrid\":false,\"zeroline\":false,\"tickmode\":\"array\",\"tickvals\":[]}}],\"label\":\"\",\"method\":\"relayout\"},{\"args\":[{\"yaxis\":{\"range\":[19.700000000000003,9.700000000000001],\"showgrid\":false,\"zeroline\":false,\"tickmode\":\"array\",\"tickvals\":[]}}],\"label\":\"\",\"method\":\"relayout\"},{\"args\":[{\"yaxis\":{\"range\":[19.8,9.8],\"showgrid\":false,\"zeroline\":false,\"tickmode\":\"array\",\"tickvals\":[]}}],\"label\":\"\",\"method\":\"relayout\"},{\"args\":[{\"yaxis\":{\"range\":[19.9,9.9],\"showgrid\":false,\"zeroline\":false,\"tickmode\":\"array\",\"tickvals\":[]}}],\"label\":\"\",\"method\":\"relayout\"},{\"args\":[{\"yaxis\":{\"range\":[20.0,10.0],\"showgrid\":false,\"zeroline\":false,\"tickmode\":\"array\",\"tickvals\":[]}}],\"label\":\"\",\"method\":\"relayout\"},{\"args\":[{\"yaxis\":{\"range\":[20.1,10.100000000000001],\"showgrid\":false,\"zeroline\":false,\"tickmode\":\"array\",\"tickvals\":[]}}],\"label\":\"\",\"method\":\"relayout\"},{\"args\":[{\"yaxis\":{\"range\":[20.200000000000003,10.200000000000001],\"showgrid\":false,\"zeroline\":false,\"tickmode\":\"array\",\"tickvals\":[]}}],\"label\":\"\",\"method\":\"relayout\"},{\"args\":[{\"yaxis\":{\"range\":[20.3,10.3],\"showgrid\":false,\"zeroline\":false,\"tickmode\":\"array\",\"tickvals\":[]}}],\"label\":\"\",\"method\":\"relayout\"},{\"args\":[{\"yaxis\":{\"range\":[20.4,10.4],\"showgrid\":false,\"zeroline\":false,\"tickmode\":\"array\",\"tickvals\":[]}}],\"label\":\"\",\"method\":\"relayout\"},{\"args\":[{\"yaxis\":{\"range\":[20.5,10.5],\"showgrid\":false,\"zeroline\":false,\"tickmode\":\"array\",\"tickvals\":[]}}],\"label\":\"\",\"method\":\"relayout\"},{\"args\":[{\"yaxis\":{\"range\":[20.6,10.600000000000001],\"showgrid\":false,\"zeroline\":false,\"tickmode\":\"array\",\"tickvals\":[]}}],\"label\":\"\",\"method\":\"relayout\"},{\"args\":[{\"yaxis\":{\"range\":[20.700000000000003,10.700000000000001],\"showgrid\":false,\"zeroline\":false,\"tickmode\":\"array\",\"tickvals\":[]}}],\"label\":\"\",\"method\":\"relayout\"},{\"args\":[{\"yaxis\":{\"range\":[20.8,10.8],\"showgrid\":false,\"zeroline\":false,\"tickmode\":\"array\",\"tickvals\":[]}}],\"label\":\"\",\"method\":\"relayout\"},{\"args\":[{\"yaxis\":{\"range\":[20.9,10.9],\"showgrid\":false,\"zeroline\":false,\"tickmode\":\"array\",\"tickvals\":[]}}],\"label\":\"\",\"method\":\"relayout\"},{\"args\":[{\"yaxis\":{\"range\":[21.0,11.0],\"showgrid\":false,\"zeroline\":false,\"tickmode\":\"array\",\"tickvals\":[]}}],\"label\":\"\",\"method\":\"relayout\"},{\"args\":[{\"yaxis\":{\"range\":[21.1,11.100000000000001],\"showgrid\":false,\"zeroline\":false,\"tickmode\":\"array\",\"tickvals\":[]}}],\"label\":\"\",\"method\":\"relayout\"},{\"args\":[{\"yaxis\":{\"range\":[21.200000000000003,11.200000000000001],\"showgrid\":false,\"zeroline\":false,\"tickmode\":\"array\",\"tickvals\":[]}}],\"label\":\"\",\"method\":\"relayout\"},{\"args\":[{\"yaxis\":{\"range\":[21.3,11.3],\"showgrid\":false,\"zeroline\":false,\"tickmode\":\"array\",\"tickvals\":[]}}],\"label\":\"\",\"method\":\"relayout\"},{\"args\":[{\"yaxis\":{\"range\":[21.4,11.4],\"showgrid\":false,\"zeroline\":false,\"tickmode\":\"array\",\"tickvals\":[]}}],\"label\":\"\",\"method\":\"relayout\"},{\"args\":[{\"yaxis\":{\"range\":[21.5,11.5],\"showgrid\":false,\"zeroline\":false,\"tickmode\":\"array\",\"tickvals\":[]}}],\"label\":\"\",\"method\":\"relayout\"},{\"args\":[{\"yaxis\":{\"range\":[21.6,11.600000000000001],\"showgrid\":false,\"zeroline\":false,\"tickmode\":\"array\",\"tickvals\":[]}}],\"label\":\"\",\"method\":\"relayout\"},{\"args\":[{\"yaxis\":{\"range\":[21.700000000000003,11.700000000000001],\"showgrid\":false,\"zeroline\":false,\"tickmode\":\"array\",\"tickvals\":[]}}],\"label\":\"\",\"method\":\"relayout\"},{\"args\":[{\"yaxis\":{\"range\":[21.8,11.8],\"showgrid\":false,\"zeroline\":false,\"tickmode\":\"array\",\"tickvals\":[]}}],\"label\":\"\",\"method\":\"relayout\"},{\"args\":[{\"yaxis\":{\"range\":[21.9,11.9],\"showgrid\":false,\"zeroline\":false,\"tickmode\":\"array\",\"tickvals\":[]}}],\"label\":\"\",\"method\":\"relayout\"},{\"args\":[{\"yaxis\":{\"range\":[22.0,12.0],\"showgrid\":false,\"zeroline\":false,\"tickmode\":\"array\",\"tickvals\":[]}}],\"label\":\"\",\"method\":\"relayout\"},{\"args\":[{\"yaxis\":{\"range\":[22.1,12.100000000000001],\"showgrid\":false,\"zeroline\":false,\"tickmode\":\"array\",\"tickvals\":[]}}],\"label\":\"\",\"method\":\"relayout\"},{\"args\":[{\"yaxis\":{\"range\":[22.200000000000003,12.200000000000001],\"showgrid\":false,\"zeroline\":false,\"tickmode\":\"array\",\"tickvals\":[]}}],\"label\":\"\",\"method\":\"relayout\"},{\"args\":[{\"yaxis\":{\"range\":[22.3,12.3],\"showgrid\":false,\"zeroline\":false,\"tickmode\":\"array\",\"tickvals\":[]}}],\"label\":\"\",\"method\":\"relayout\"},{\"args\":[{\"yaxis\":{\"range\":[22.4,12.4],\"showgrid\":false,\"zeroline\":false,\"tickmode\":\"array\",\"tickvals\":[]}}],\"label\":\"\",\"method\":\"relayout\"},{\"args\":[{\"yaxis\":{\"range\":[22.5,12.5],\"showgrid\":false,\"zeroline\":false,\"tickmode\":\"array\",\"tickvals\":[]}}],\"label\":\"\",\"method\":\"relayout\"},{\"args\":[{\"yaxis\":{\"range\":[22.6,12.600000000000001],\"showgrid\":false,\"zeroline\":false,\"tickmode\":\"array\",\"tickvals\":[]}}],\"label\":\"\",\"method\":\"relayout\"},{\"args\":[{\"yaxis\":{\"range\":[22.700000000000003,12.700000000000001],\"showgrid\":false,\"zeroline\":false,\"tickmode\":\"array\",\"tickvals\":[]}}],\"label\":\"\",\"method\":\"relayout\"},{\"args\":[{\"yaxis\":{\"range\":[22.8,12.8],\"showgrid\":false,\"zeroline\":false,\"tickmode\":\"array\",\"tickvals\":[]}}],\"label\":\"\",\"method\":\"relayout\"},{\"args\":[{\"yaxis\":{\"range\":[22.9,12.9],\"showgrid\":false,\"zeroline\":false,\"tickmode\":\"array\",\"tickvals\":[]}}],\"label\":\"\",\"method\":\"relayout\"},{\"args\":[{\"yaxis\":{\"range\":[23.0,13.0],\"showgrid\":false,\"zeroline\":false,\"tickmode\":\"array\",\"tickvals\":[]}}],\"label\":\"\",\"method\":\"relayout\"},{\"args\":[{\"yaxis\":{\"range\":[23.1,13.100000000000001],\"showgrid\":false,\"zeroline\":false,\"tickmode\":\"array\",\"tickvals\":[]}}],\"label\":\"\",\"method\":\"relayout\"},{\"args\":[{\"yaxis\":{\"range\":[23.200000000000003,13.200000000000001],\"showgrid\":false,\"zeroline\":false,\"tickmode\":\"array\",\"tickvals\":[]}}],\"label\":\"\",\"method\":\"relayout\"},{\"args\":[{\"yaxis\":{\"range\":[23.3,13.3],\"showgrid\":false,\"zeroline\":false,\"tickmode\":\"array\",\"tickvals\":[]}}],\"label\":\"\",\"method\":\"relayout\"},{\"args\":[{\"yaxis\":{\"range\":[23.4,13.4],\"showgrid\":false,\"zeroline\":false,\"tickmode\":\"array\",\"tickvals\":[]}}],\"label\":\"\",\"method\":\"relayout\"},{\"args\":[{\"yaxis\":{\"range\":[23.5,13.5],\"showgrid\":false,\"zeroline\":false,\"tickmode\":\"array\",\"tickvals\":[]}}],\"label\":\"\",\"method\":\"relayout\"},{\"args\":[{\"yaxis\":{\"range\":[23.6,13.600000000000001],\"showgrid\":false,\"zeroline\":false,\"tickmode\":\"array\",\"tickvals\":[]}}],\"label\":\"\",\"method\":\"relayout\"},{\"args\":[{\"yaxis\":{\"range\":[23.700000000000003,13.700000000000001],\"showgrid\":false,\"zeroline\":false,\"tickmode\":\"array\",\"tickvals\":[]}}],\"label\":\"\",\"method\":\"relayout\"},{\"args\":[{\"yaxis\":{\"range\":[23.8,13.8],\"showgrid\":false,\"zeroline\":false,\"tickmode\":\"array\",\"tickvals\":[]}}],\"label\":\"\",\"method\":\"relayout\"},{\"args\":[{\"yaxis\":{\"range\":[23.9,13.9],\"showgrid\":false,\"zeroline\":false,\"tickmode\":\"array\",\"tickvals\":[]}}],\"label\":\"\",\"method\":\"relayout\"},{\"args\":[{\"yaxis\":{\"range\":[24.0,14.0],\"showgrid\":false,\"zeroline\":false,\"tickmode\":\"array\",\"tickvals\":[]}}],\"label\":\"\",\"method\":\"relayout\"},{\"args\":[{\"yaxis\":{\"range\":[24.1,14.100000000000001],\"showgrid\":false,\"zeroline\":false,\"tickmode\":\"array\",\"tickvals\":[]}}],\"label\":\"\",\"method\":\"relayout\"},{\"args\":[{\"yaxis\":{\"range\":[24.200000000000003,14.200000000000001],\"showgrid\":false,\"zeroline\":false,\"tickmode\":\"array\",\"tickvals\":[]}}],\"label\":\"\",\"method\":\"relayout\"},{\"args\":[{\"yaxis\":{\"range\":[24.3,14.3],\"showgrid\":false,\"zeroline\":false,\"tickmode\":\"array\",\"tickvals\":[]}}],\"label\":\"\",\"method\":\"relayout\"},{\"args\":[{\"yaxis\":{\"range\":[24.4,14.4],\"showgrid\":false,\"zeroline\":false,\"tickmode\":\"array\",\"tickvals\":[]}}],\"label\":\"\",\"method\":\"relayout\"},{\"args\":[{\"yaxis\":{\"range\":[24.5,14.5],\"showgrid\":false,\"zeroline\":false,\"tickmode\":\"array\",\"tickvals\":[]}}],\"label\":\"\",\"method\":\"relayout\"},{\"args\":[{\"yaxis\":{\"range\":[24.6,14.600000000000001],\"showgrid\":false,\"zeroline\":false,\"tickmode\":\"array\",\"tickvals\":[]}}],\"label\":\"\",\"method\":\"relayout\"},{\"args\":[{\"yaxis\":{\"range\":[24.700000000000003,14.700000000000001],\"showgrid\":false,\"zeroline\":false,\"tickmode\":\"array\",\"tickvals\":[]}}],\"label\":\"\",\"method\":\"relayout\"},{\"args\":[{\"yaxis\":{\"range\":[24.8,14.8],\"showgrid\":false,\"zeroline\":false,\"tickmode\":\"array\",\"tickvals\":[]}}],\"label\":\"\",\"method\":\"relayout\"},{\"args\":[{\"yaxis\":{\"range\":[24.9,14.9],\"showgrid\":false,\"zeroline\":false,\"tickmode\":\"array\",\"tickvals\":[]}}],\"label\":\"\",\"method\":\"relayout\"},{\"args\":[{\"yaxis\":{\"range\":[25.0,15.0],\"showgrid\":false,\"zeroline\":false,\"tickmode\":\"array\",\"tickvals\":[]}}],\"label\":\"\",\"method\":\"relayout\"},{\"args\":[{\"yaxis\":{\"range\":[25.1,15.100000000000001],\"showgrid\":false,\"zeroline\":false,\"tickmode\":\"array\",\"tickvals\":[]}}],\"label\":\"\",\"method\":\"relayout\"},{\"args\":[{\"yaxis\":{\"range\":[25.200000000000003,15.200000000000001],\"showgrid\":false,\"zeroline\":false,\"tickmode\":\"array\",\"tickvals\":[]}}],\"label\":\"\",\"method\":\"relayout\"},{\"args\":[{\"yaxis\":{\"range\":[25.3,15.3],\"showgrid\":false,\"zeroline\":false,\"tickmode\":\"array\",\"tickvals\":[]}}],\"label\":\"\",\"method\":\"relayout\"},{\"args\":[{\"yaxis\":{\"range\":[25.4,15.4],\"showgrid\":false,\"zeroline\":false,\"tickmode\":\"array\",\"tickvals\":[]}}],\"label\":\"\",\"method\":\"relayout\"},{\"args\":[{\"yaxis\":{\"range\":[25.5,15.5],\"showgrid\":false,\"zeroline\":false,\"tickmode\":\"array\",\"tickvals\":[]}}],\"label\":\"\",\"method\":\"relayout\"},{\"args\":[{\"yaxis\":{\"range\":[25.6,15.600000000000001],\"showgrid\":false,\"zeroline\":false,\"tickmode\":\"array\",\"tickvals\":[]}}],\"label\":\"\",\"method\":\"relayout\"},{\"args\":[{\"yaxis\":{\"range\":[25.7,15.7],\"showgrid\":false,\"zeroline\":false,\"tickmode\":\"array\",\"tickvals\":[]}}],\"label\":\"\",\"method\":\"relayout\"},{\"args\":[{\"yaxis\":{\"range\":[25.8,15.8],\"showgrid\":false,\"zeroline\":false,\"tickmode\":\"array\",\"tickvals\":[]}}],\"label\":\"\",\"method\":\"relayout\"},{\"args\":[{\"yaxis\":{\"range\":[25.900000000000002,15.900000000000002],\"showgrid\":false,\"zeroline\":false,\"tickmode\":\"array\",\"tickvals\":[]}}],\"label\":\"\",\"method\":\"relayout\"},{\"args\":[{\"yaxis\":{\"range\":[26.0,16.0],\"showgrid\":false,\"zeroline\":false,\"tickmode\":\"array\",\"tickvals\":[]}}],\"label\":\"\",\"method\":\"relayout\"},{\"args\":[{\"yaxis\":{\"range\":[26.1,16.1],\"showgrid\":false,\"zeroline\":false,\"tickmode\":\"array\",\"tickvals\":[]}}],\"label\":\"\",\"method\":\"relayout\"},{\"args\":[{\"yaxis\":{\"range\":[26.2,16.2],\"showgrid\":false,\"zeroline\":false,\"tickmode\":\"array\",\"tickvals\":[]}}],\"label\":\"\",\"method\":\"relayout\"},{\"args\":[{\"yaxis\":{\"range\":[26.3,16.3],\"showgrid\":false,\"zeroline\":false,\"tickmode\":\"array\",\"tickvals\":[]}}],\"label\":\"\",\"method\":\"relayout\"},{\"args\":[{\"yaxis\":{\"range\":[26.400000000000002,16.400000000000002],\"showgrid\":false,\"zeroline\":false,\"tickmode\":\"array\",\"tickvals\":[]}}],\"label\":\"\",\"method\":\"relayout\"},{\"args\":[{\"yaxis\":{\"range\":[26.5,16.5],\"showgrid\":false,\"zeroline\":false,\"tickmode\":\"array\",\"tickvals\":[]}}],\"label\":\"\",\"method\":\"relayout\"},{\"args\":[{\"yaxis\":{\"range\":[26.6,16.6],\"showgrid\":false,\"zeroline\":false,\"tickmode\":\"array\",\"tickvals\":[]}}],\"label\":\"\",\"method\":\"relayout\"},{\"args\":[{\"yaxis\":{\"range\":[26.7,16.7],\"showgrid\":false,\"zeroline\":false,\"tickmode\":\"array\",\"tickvals\":[]}}],\"label\":\"\",\"method\":\"relayout\"},{\"args\":[{\"yaxis\":{\"range\":[26.8,16.8],\"showgrid\":false,\"zeroline\":false,\"tickmode\":\"array\",\"tickvals\":[]}}],\"label\":\"\",\"method\":\"relayout\"},{\"args\":[{\"yaxis\":{\"range\":[26.900000000000002,16.900000000000002],\"showgrid\":false,\"zeroline\":false,\"tickmode\":\"array\",\"tickvals\":[]}}],\"label\":\"\",\"method\":\"relayout\"},{\"args\":[{\"yaxis\":{\"range\":[27.0,17.0],\"showgrid\":false,\"zeroline\":false,\"tickmode\":\"array\",\"tickvals\":[]}}],\"label\":\"\",\"method\":\"relayout\"},{\"args\":[{\"yaxis\":{\"range\":[27.1,17.1],\"showgrid\":false,\"zeroline\":false,\"tickmode\":\"array\",\"tickvals\":[]}}],\"label\":\"\",\"method\":\"relayout\"},{\"args\":[{\"yaxis\":{\"range\":[27.2,17.2],\"showgrid\":false,\"zeroline\":false,\"tickmode\":\"array\",\"tickvals\":[]}}],\"label\":\"\",\"method\":\"relayout\"},{\"args\":[{\"yaxis\":{\"range\":[27.3,17.3],\"showgrid\":false,\"zeroline\":false,\"tickmode\":\"array\",\"tickvals\":[]}}],\"label\":\"\",\"method\":\"relayout\"},{\"args\":[{\"yaxis\":{\"range\":[27.400000000000002,17.400000000000002],\"showgrid\":false,\"zeroline\":false,\"tickmode\":\"array\",\"tickvals\":[]}}],\"label\":\"\",\"method\":\"relayout\"}],\"ticklen\":0,\"tickwidth\":0}],\"margin\":{\"l\":0,\"r\":0,\"t\":0,\"b\":0},\"modebar\":{\"remove\":[\"select\",\"lasso\"],\"orientation\":\"v\"}},                        {\"responsive\": true}                    ).then(function(){\n",
       "                            \n",
       "var gd = document.getElementById('70dc2a1c-6157-46dc-b78b-9b02a4b0c1ae');\n",
       "var x = new MutationObserver(function (mutations, observer) {{\n",
       "        var display = window.getComputedStyle(gd).display;\n",
       "        if (!display || display === 'none') {{\n",
       "            console.log([gd, 'removed!']);\n",
       "            Plotly.purge(gd);\n",
       "            observer.disconnect();\n",
       "        }}\n",
       "}});\n",
       "\n",
       "// Listen for the removal of the full notebook cells\n",
       "var notebookContainer = gd.closest('#notebook-container');\n",
       "if (notebookContainer) {{\n",
       "    x.observe(notebookContainer, {childList: true});\n",
       "}}\n",
       "\n",
       "// Listen for the clearing of the current output cell\n",
       "var outputEl = gd.closest('.output');\n",
       "if (outputEl) {{\n",
       "    x.observe(outputEl, {childList: true});\n",
       "}}\n",
       "\n",
       "                        })                };                });            </script>        </div>"
      ]
     },
     "metadata": {},
     "output_type": "display_data"
    }
   ],
   "source": [
    "import torch, torchvision\n",
    "from idlmav import MAV, plotly_renderer\n",
    "device = 'cpu'\n",
    "model = torchvision.models.resnet18().to(device)\n",
    "x = torch.randn(16,3,160,160).to(device)\n",
    "mav = MAV(model, x, device=device)\n",
    "\n",
    "with plotly_renderer('notebook_connected'):\n",
    "    mav.show_figure(add_slider=True)"
   ]
  }
 ],
 "metadata": {
  "kernelspec": {
   "display_name": ".venv_temp",
   "language": "python",
   "name": "python3"
  },
  "language_info": {
   "codemirror_mode": {
    "name": "ipython",
    "version": 3
   },
   "file_extension": ".py",
   "mimetype": "text/x-python",
   "name": "python",
   "nbconvert_exporter": "python",
   "pygments_lexer": "ipython3",
   "version": "3.10.12"
  }
 },
 "nbformat": 4,
 "nbformat_minor": 2
}
