{
 "cells": [
  {
   "cell_type": "markdown",
   "metadata": {},
   "source": [
    "## Installation"
   ]
  },
  {
   "cell_type": "code",
   "execution_count": null,
   "metadata": {
    "trusted": true
   },
   "outputs": [],
   "source": [
    "%pip install git+https://github.com/d112358/idlmav.git"
   ]
  },
  {
   "cell_type": "markdown",
   "metadata": {},
   "source": [
    "## Preparation"
   ]
  },
  {
   "cell_type": "code",
   "execution_count": null,
   "metadata": {
    "_cell_guid": "b1076dfc-b9ad-4769-8c92-a6c4dae69d19",
    "_uuid": "8f2839f25d086af736a60e9eeb907d3b93b6e0e5",
    "execution": {
     "iopub.execute_input": "2024-12-11T23:59:18.599386Z",
     "iopub.status.busy": "2024-12-11T23:59:18.598856Z",
     "iopub.status.idle": "2024-12-11T23:59:26.330597Z",
     "shell.execute_reply": "2024-12-11T23:59:26.329445Z",
     "shell.execute_reply.started": "2024-12-11T23:59:18.599309Z"
    },
    "trusted": true
   },
   "outputs": [],
   "source": [
    "import torch, torchvision\n",
    "from idlmav import MAV, plotly_renderer\n",
    "device = 'cpu'\n",
    "model = torchvision.models.resnet18().to(device)\n",
    "x = torch.randn(16,3,160,160).to(device)\n",
    "mav = MAV(model, x, device=device)"
   ]
  },
  {
   "cell_type": "markdown",
   "metadata": {},
   "source": [
    "## Portable figure\n",
    "* Currently (Dec 2024) using `iframe` as the plotly renderer has the best results on Kaggle\n",
    "* Unfortunately, this also negatively impacts viewing the graph in the saved notebook on nbviewer"
   ]
  },
  {
   "cell_type": "code",
   "execution_count": null,
   "metadata": {},
   "outputs": [],
   "source": [
    "with plotly_renderer('iframe'):\n",
    "    mav.show_figure(add_slider=True)    "
   ]
  },
  {
   "cell_type": "markdown",
   "metadata": {},
   "source": [
    "## HTML export"
   ]
  },
  {
   "cell_type": "code",
   "execution_count": null,
   "metadata": {},
   "outputs": [],
   "source": [
    "mav.export_html('resnet18.html', offline=False)"
   ]
  }
 ],
 "metadata": {
  "kernelspec": {
   "display_name": "Python 3",
   "language": "python",
   "name": "python3"
  },
  "language_info": {
   "codemirror_mode": {
    "name": "ipython",
    "version": 3
   },
   "file_extension": ".py",
   "mimetype": "text/x-python",
   "name": "python",
   "nbconvert_exporter": "python",
   "pygments_lexer": "ipython3",
   "version": "3.10.14"
  }
 },
 "nbformat": 4,
 "nbformat_minor": 4
}
