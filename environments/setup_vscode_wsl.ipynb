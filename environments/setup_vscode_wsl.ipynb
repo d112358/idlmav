{
 "cells": [
  {
   "cell_type": "markdown",
   "metadata": {},
   "source": [
    "# Development environment setup\n",
    "This notebook contains several manually and automatically executed setup steps required to run the notebooks and Python scripts in this repo.\n",
    "\n",
    "The environment this was developed on consists of the following:\n",
    "* Ubuntu 22.04 LTS (Jammy) running on WSL2 on Windows\n",
    "* VSCode with Python and Jupyter extensions\n",
    "* Nvidia GeForce RTX 3060 Laptop GPU\n",
    "* Python 3.10 virtual environment set up using `pip`\n",
    "* DL framework based mainly on PyTorch, [fastai](https://github.com/fastai/fastai) and [miniai](https://github.com/fastai/course22p2/tree/master/miniai) as developed in Part 2 of the fastai [Practical Deep Learning for Coders](https://course.fast.ai/Lessons/part2.html) course\n",
    "  - Due to some dependency issues, **miniai** is simply cloned and referenced `sys.path.append` rather than installing it into the virtual environment\n",
    "\n",
    "Additional checks were performed on Google Colab and Kaggle. See [explore_colab.ipynb](./explore_colab.ipynb) and [explore_kaggle.ipynb](./explore_kaggle.ipynb) for more details on these.\n",
    "\n",
    "For working samples on these environments (working in Dec 2024), see [colab_example.ipynb](./colab_example.ipynb) and [kaggle_example.ipynb](./kaggle_example.ipynb)"
   ]
  },
  {
   "cell_type": "markdown",
   "metadata": {},
   "source": [
    "## Prerequisites\n",
    "This note does not describe installation of the following components, which is described elsewhere:\n",
    "* [WSL2 and Ubuntu 22.04 LTS](https://learn.microsoft.com/en-us/windows/wsl/install)\n",
    "* [VSCode on Windows and WSL sides](https://code.visualstudio.com/docs/setup/windows)\n",
    "* [Python and Jupyter VSCode extensions](https://code.visualstudio.com/docs/python/python-quick-start)"
   ]
  },
  {
   "cell_type": "markdown",
   "metadata": {},
   "source": [
    "## Virtual environment creation\n",
    "* In VSCode, select a \".py\" or \".ipynb\" file\n",
    "* From the command palette, select `Python: Create environment...` \n",
    "* When prompted between `venv` and `conda`, choose `venv`\n",
    "* Select the Python interpreter of your choice\n",
    "\n",
    "Sometimes this fails in VSCode and you might need to manually select the correct interpreter first before creating the virtual environment"
   ]
  },
  {
   "cell_type": "markdown",
   "metadata": {},
   "source": [
    "# Enable CUDA with PyTorch\n",
    "* Select the newly created venv using `Select Kernel` before running the cells below\n",
    "* If prompted, also install the `ipykernel` package\n",
    "* See [PyTorch local setup guide](https://pytorch.org/get-started/locally/)"
   ]
  },
  {
   "cell_type": "code",
   "execution_count": null,
   "metadata": {},
   "outputs": [],
   "source": [
    "%pip install torch torchvision torchaudio --index-url https://download.pytorch.org/whl/cu118"
   ]
  },
  {
   "cell_type": "markdown",
   "metadata": {},
   "source": [
    "Test if CUDA is available (a Kernel restart may be required before this will return true)"
   ]
  },
  {
   "cell_type": "code",
   "execution_count": 2,
   "metadata": {},
   "outputs": [
    {
     "data": {
      "text/plain": [
       "True"
      ]
     },
     "execution_count": 2,
     "metadata": {},
     "output_type": "execute_result"
    }
   ],
   "source": [
    "import torch\n",
    "torch.cuda.is_available()"
   ]
  },
  {
   "cell_type": "markdown",
   "metadata": {},
   "source": [
    "# Install additional dependencies\n",
    "These cells can be executed directly from this notebook running from a kernel with the correct virtual environment activated"
   ]
  },
  {
   "cell_type": "markdown",
   "metadata": {},
   "source": [
    "idlmav dependencies\n",
    "* Model tracing is based on `torch.fx`\n",
    "  - `tabulate` is required by `torch.fx.print_tabular()`\n",
    "* `torchprofile` is used for FLOPS claculations\n",
    "* `munkres` is required for the layout calculation (Hungarian method implementation)\n",
    "* `plotly` is used for rendering\n",
    "  - `nbformat` is required for important `plotly` functionality to work\n",
    "  - `pandas` is required for `plotly.express` to work\n",
    "  - `ipympl` is required for the `%matplotlib widget` magic and sometimes also required by plotly"
   ]
  },
  {
   "cell_type": "code",
   "execution_count": null,
   "metadata": {},
   "outputs": [],
   "source": [
    "%pip install matplotlib\n",
    "%pip install numpy\n",
    "%pip install tabulate\n",
    "%pip install torchprofile\n",
    "%pip install munkres\n",
    "%pip install plotly\n",
    "%pip install nbformat\n",
    "%pip install ipympl"
   ]
  },
  {
   "cell_type": "markdown",
   "metadata": {},
   "source": [
    "Testing and verification\n",
    "* `timm` and `fastcore` are required for some models with which this library is tested\n",
    "* `torchview` and `torchinfo` are used to verify the correctness of the model tracing algoritm\n",
    "  - `graphviz` is required by `torchview`\n",
    "* `colorspacious` was used to convert RGB colors to CIELAB to select the colors to used for nodes"
   ]
  },
  {
   "cell_type": "code",
   "execution_count": null,
   "metadata": {},
   "outputs": [],
   "source": [
    "%pip install timm\n",
    "%pip install fastcore\n",
    "%pip install torchview\n",
    "%pip install torchinfo\n",
    "%pip install graphviz\n",
    "%pip install colorspacious"
   ]
  },
  {
   "cell_type": "markdown",
   "metadata": {},
   "source": [
    "Debugging\n",
    "* `beautifulsoup` is required to print minified HTML strings in a human-readable format\n",
    "* `jsbeautifier` is required to print minified Javascript strings in a human-readable format"
   ]
  },
  {
   "cell_type": "code",
   "execution_count": null,
   "metadata": {},
   "outputs": [],
   "source": [
    "%pip install beautifulsoup4\n",
    "%pip install jsbeautifier"
   ]
  },
  {
   "cell_type": "markdown",
   "metadata": {},
   "source": [
    "More models\n",
    "* `ultralytics` contains the YOLO models\n",
    "* `transformers` contains the CLIP models\n",
    "* `sentencepiece` is required for the T5 Tokenizer"
   ]
  },
  {
   "cell_type": "code",
   "execution_count": null,
   "metadata": {},
   "outputs": [],
   "source": [
    "%pip install ultralytics"
   ]
  },
  {
   "cell_type": "code",
   "execution_count": null,
   "metadata": {},
   "outputs": [],
   "source": [
    "%pip install transformers"
   ]
  },
  {
   "cell_type": "code",
   "execution_count": null,
   "metadata": {},
   "outputs": [],
   "source": [
    "%pip install sentencepiece"
   ]
  },
  {
   "cell_type": "markdown",
   "metadata": {},
   "source": [
    "## Install miniai\n",
    "* Some tests were performed on models developed during part 2 of the 2022/3 fast.ai course [Practical Deep Learning for Coders](https://course.fast.ai/)\n",
    "  - During the course, a high-level framework called `miniai` is developed\n",
    "  - The source is available [here](https://github.com/fastai/course22p2/tree/master/miniai)\n",
    "* In the course ([Lesson 15](https://course.fast.ai/Lessons/lesson15.html), 03:15), the following command is recommended to install `miniai`: `pip install -e .`\n",
    "  - When I started developing `idlmav` (November 2024), the above command would trigger an installation of torch 2.0.1\n",
    "  - I wanted to test `idlmav` with the latest version of PyTorch (2.5.0 at the time)\n",
    "  - For my setup, I therefore avoided running `pip install -e .`\n",
    "* I therefore used the following workaround to access models that use the `miniai` framework: \n",
    "  - Clone the `miniai` source using the cell below\n",
    "  - Install the dependencies of `miniai` (e.g. `fastprogress`) using the next cell \n",
    "  - Add the code in the cell below that to the top of all notebooks that import from `miniai`"
   ]
  },
  {
   "cell_type": "code",
   "execution_count": 1,
   "metadata": {},
   "outputs": [
    {
     "name": "stdout",
     "output_type": "stream",
     "text": [
      "Initialized empty Git repository in /home/dev/ai/idlmav/tmp/.git/\n",
      "remote: Enumerating objects: 145, done.\u001b[K\n",
      "remote: Counting objects: 100% (145/145), done.\u001b[K\n",
      "remote: Compressing objects: 100% (139/139), done.\u001b[K\n",
      "remote: Total 145 (delta 10), reused 82 (delta 5), pack-reused 0 (from 0)\u001b[K\n",
      "Receiving objects: 100% (145/145), 28.36 MiB | 5.19 MiB/s, done.\n",
      "Resolving deltas: 100% (10/10), done.\n",
      "From https://github.com/fastai/course22p2\n",
      " * branch            master     -> FETCH_HEAD\n",
      " * [new branch]      master     -> origin/master\n"
     ]
    }
   ],
   "source": [
    "# Archive the miniai repo to the `tmp` directory and extract the archive to the `miniai` directory\n",
    "from pathlib import Path\n",
    "Path('../tmp').mkdir(exist_ok=True)     # Location to archive the repo to\n",
    "Path('../miniai').mkdir(exist_ok=True)  # Location to extract the archive to\n",
    "!git -C ../tmp init -b master\n",
    "!git -C ../tmp remote add origin https://github.com/fastai/course22p2.git\n",
    "!git -C ../tmp fetch --depth=1 origin master\n",
    "!git -C ../tmp archive --format=tar origin/master:miniai | tar -x -C ../miniai\n",
    "!rm -rf ../tmp\n"
   ]
  },
  {
   "cell_type": "code",
   "execution_count": null,
   "metadata": {},
   "outputs": [],
   "source": [
    "# Install miniai dependencies\n",
    "%pip install fastprogress\n",
    "%pip install torcheval\n",
    "%pip install datasets"
   ]
  },
  {
   "cell_type": "code",
   "execution_count": null,
   "metadata": {},
   "outputs": [],
   "source": [
    "# Copy code inside branch to the top of all notebooks that import from miniai\n",
    "if False:\n",
    "    import sys, importlib\n",
    "    from pathlib import Path\n",
    "    sys.path.append(str(Path.cwd().parent))"
   ]
  },
  {
   "cell_type": "markdown",
   "metadata": {},
   "source": [
    "# Viewing plotly figures from directly executed scripts in VSCode+WSL environment\n",
    "> NOTE: This section does **not** apply to any of the following:\n",
    "> * Figures created in a notebook: these are displayed inline and do not require X11 forwarding\n",
    "> * Matplot figures: these are displayed via a different mechanism (see the next section)\n",
    "> * Any other environment than WSL (e.g. Colab, Kaggle, Native or dual-boot Linux installation)\n",
    "\n",
    "> NOTE: If some browser functionality inside Plotly seems to cause an indefinite wait, check for the possibility that the `DISPLAY` environment variable may be configured for X11 forwarding without an X-Server running on the Windows side. See [test_issue_default_browser.py](./explore/test_issue_default_browser.py).\n",
    "\n",
    "When running a \".py\" script directly and calling `go.Figure.show()`, plotly serves the figure on a local HTML server and opens the client in a browser. In most setups, this works out of the box. However, on some WSL setups, `xdg` may trouble finding the browser installed on the Windows OS.\n",
    "\n",
    "Some sources recommend just setting the `BROWSER` environment variable to the path on the Windows OS, e.g.\n",
    "```bash\n",
    "export BROWSER='/mnt/c/Program\\ Files/Google/Chrome/Application/chrome.exe'\n",
    "export BROWSER='/mnt/c/Program\\ Files/Mozilla\\ Firefox/firefox.exe'\n",
    "export BROWSER='/mnt/c/Program\\ Files\\ \\(x86\\)/Microsoft/Edge/Application/msedge.exe'\n",
    "```\n",
    "\n",
    "The success of this step can be tested as follows:\n",
    "```bash\n",
    "xdg-open https://google.com\n",
    "```\n",
    "\n",
    "In my case, `xdg` kept stumbling on the spaces in the Windows path no matter how I escaped them. The workaround was to create a wrapper script without spaces in the path, launch the browser from the wrapper script and specify the wrapper script in the `BROWSER` environment variable. Here are the steps, using Firefox as an example:\n",
    "* Create the script in a location on the OS path: `sudo nano /usr/local/bin/firefox-wrapper`\n",
    "* Write and save the script:\n",
    "  ```bash\n",
    "  #!/bin/bash\n",
    "  \"/mnt/c/Program Files/Mozilla Firefox/firefox.exe\" \"$@\"\n",
    "  ```\n",
    "* Make the script executable: `sudo chmod +x /usr/local/bin/firefox-wrapper`\n",
    "* Update the `EXPORT` environment variable: `export BROWSER=firefox-wrapper`\n",
    "\n",
    "After these steps, `xdg-open` worked on my setup.\n",
    "\n",
    "I also added the `EXPORT` environment variable to [launch.json](.vscode/launch.json). Modify it to use a different browser.\n",
    "\n",
    "If required, the default renderer of plotly can also be configured:\n",
    "* plotly provides targeted renderers for different environments, e.g. colab, kaggle, azure, databricks\n",
    "* Here is the code to list available renderers and select one:\n",
    "  ```python\n",
    "  import plotly.io as pio\n",
    "  available_renderers = list(pio.renderers)\n",
    "  print(f'Available renderers: {\", \".join(available_renderers)}')\n",
    "  pio.renderers.default = 'browser'  # Replace with renderer of your choice\n",
    "  ```\n",
    "\n",
    "As a final test, run [test_plotly_browser_setup.py](./explore/test_plotly_browser_setup.py)"
   ]
  },
  {
   "cell_type": "markdown",
   "metadata": {},
   "source": [
    "# Viewing matplotlib figures from directly executed scripts in VSCode+WSL environment\n",
    "> NOTE: This section does **not** apply to any of the following:\n",
    "> * Figures created in a notebook: these are displayed inline and do not require X11 forwarding\n",
    "> * Plotly figures: these are displayed via a different mechanism (see the previous section)\n",
    "> * Any other environment than WSL (e.g. Colab, Kaggle, Native or dual-boot Linux installation)\n",
    "\n",
    "> NOTE: this library relies much more heavilyon plotly than matplotlib and that this section will therefore rarely be required.\n",
    "\n",
    "> WARNING: If the `DISPLAY` environment variable is set for X11 forwarding on the Linux side, the X-server MUST run on the Windows side, whether its functionality is used or not. If it is not running, some browser functionality used by Plotly may wait indefinitely. When in doubt, just skip this part until needed. See [test_issue_default_browser.py](./explore/test_issue_default_browser.py).\n",
    "\n",
    "To view matplotlib figures from directly executed scripts in a VSCode+WSL environment, X11 forwarding must be configured. Here are the steps that worked on my setup:\n",
    "* On Windows, download and install [VcXsrv](https://sourceforge.net/projects/vcxsrv/)\n",
    "* Start `XLaunch` on Windows\n",
    "  - Select `Multiple windows`\n",
    "  - Display number: 0\n",
    "  - Select `Start no client`\n",
    "  - Deselect `Native Opengl` (wgl)\n",
    "  - Select `Disable access control`\n",
    "* To run inside the VSCode debugger, just ensure that the `Tasks Shell Input` VSCode extension from `Augusto` is installed (see the subsection below)\n",
    "* To run without the VSCode debugger, set the `DISPLAY` environment variable manually\n",
    "  ```bash\n",
    "  export DISPLAY=$(ip route | grep default | awk '{print $3}'):0.0\n",
    "  echo $DISPLAY\n",
    "  ```\n",
    "* To test, run [test_matplotlib_x11_forwarding.py](./explore/test_matplotlib_x11_forwarding.py)"
   ]
  },
  {
   "cell_type": "markdown",
   "metadata": {},
   "source": [
    "### `DISPLAY` environment variable setup for Python debugging tasks launched from VSCode\n",
    "\n",
    "> WARNING: If the `DISPLAY` environment variable is set for X11 forwarding on the Linux side, the X-server MUST run on the Windows side, whether its functionality is used or not. If it is not running, some browser functionality used by Plotly may wait indefinitely. See [test_issue_default_browser.py](./explore/test_issue_default_browser.py).\n",
    "\n",
    "This has already been configured inside [launch.json](.vscode/launch.json), but the following step is required as a dependency:\n",
    "* Install the `Tasks Shell Input` VSCode extension from `Augusto`\n",
    "\n",
    "Here are the steps that were performed in case they need to be reversed or updated for some reason:\n",
    "* Add an `env` key to [launch.json](.vscode/launch.json) to set the `DISPLAY` environment variable when launching a Python script\n",
    "  ```json\n",
    "  \"env\": {\n",
    "      \"DISPLAY\":\"${input:ipAddr}:0.0\"\n",
    "  }\n",
    "  ```\n",
    "* Configure the `ipAddr` inputs:\n",
    "  ```json\n",
    "  \"inputs\": [\n",
    "      {\n",
    "          \"id\": \"ipAddr\",\n",
    "          \"type\": \"command\",\n",
    "          \"command\": \"shellCommand.execute\",\n",
    "          \"args\": {\n",
    "              \"command\": \"ip route | grep default | awk '{print $3}'\",\n",
    "              \"fieldSeparator\": \"|\",\n",
    "              \"description\": \"Select the IP address\",\n",
    "              \"useSingleResult\": \"true\"\n",
    "          }\n",
    "      }\n",
    "  ]\n",
    "  ```"
   ]
  },
  {
   "cell_type": "markdown",
   "metadata": {},
   "source": [
    "# Unused steps retained for their value as examples"
   ]
  },
  {
   "cell_type": "code",
   "execution_count": null,
   "metadata": {},
   "outputs": [
    {
     "name": "stdout",
     "output_type": "stream",
     "text": [
      "/home/dev/ai/idlmav/miniai\n",
      "/home/dev/ai/idlmav\n"
     ]
    }
   ],
   "source": [
    "# Test directory changes in notebook environment\n",
    "import os\n",
    "from pathlib import Path\n",
    "Path('../miniai').mkdir(exist_ok=True)\n",
    "workspace_dir = os.getcwd()  # In case we need to get it back later\n",
    "os.chdir('../miniai')\n",
    "!pwd\n",
    "os.chdir('..')\n",
    "!pwd"
   ]
  },
  {
   "cell_type": "code",
   "execution_count": 2,
   "metadata": {},
   "outputs": [
    {
     "name": "stdout",
     "output_type": "stream",
     "text": [
      "/home/dev/ai/idlmav\n"
     ]
    }
   ],
   "source": [
    "# Get back the working directory if a cell failed in which it was changed\n",
    "os.chdir(workspace_dir)\n",
    "!pwd"
   ]
  },
  {
   "cell_type": "code",
   "execution_count": null,
   "metadata": {},
   "outputs": [],
   "source": [
    "# Clone into miniai/miniai\n",
    "os.chdir('../miniai')\n",
    "if Path('__init.py__').exists():\n",
    "    !git pull --depth=1 origin master\n",
    "else:\n",
    "    !git init -b master\n",
    "    !git remote add -f origin https://github.com/fastai/course22p2.git\n",
    "    !git config core.sparseCheckout true\n",
    "    !echo \"miniai\" >> .git/info/sparse-checkout\n",
    "    !git pull --depth=1 origin master\n",
    "os.chdir('..')"
   ]
  }
 ],
 "metadata": {
  "kernelspec": {
   "display_name": ".venv",
   "language": "python",
   "name": "python3"
  },
  "language_info": {
   "codemirror_mode": {
    "name": "ipython",
    "version": 3
   },
   "file_extension": ".py",
   "mimetype": "text/x-python",
   "name": "python",
   "nbconvert_exporter": "python",
   "pygments_lexer": "ipython3",
   "version": "3.10.12"
  }
 },
 "nbformat": 4,
 "nbformat_minor": 2
}
