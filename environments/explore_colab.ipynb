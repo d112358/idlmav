{
 "cells": [
  {
   "cell_type": "markdown",
   "metadata": {
    "colab_type": "text",
    "id": "view-in-github"
   },
   "source": [
    "<a href=\"https://colab.research.google.com/github/d112358/idlmav/blob/main/environments/explore_colab.ipynb\" target=\"_parent\"><img src=\"https://colab.research.google.com/assets/colab-badge.svg\" alt=\"Open In Colab\"/></a>"
   ]
  },
  {
   "cell_type": "markdown",
   "metadata": {
    "id": "PtFDLbDqRgYQ"
   },
   "source": [
    "## Colab environment notes and experiments\n",
    "This notebook contains several manually and automatically executed setup steps required to run the notebooks in this repo on Google Colab."
   ]
  },
  {
   "cell_type": "markdown",
   "metadata": {},
   "source": [
    "## Running library notebooks on Colab\n",
    "This can probably be streamlined. I'm hesitant to bloat the first part of every notebook with setup code for multiple environments and I also still need to find the best way to separate the setup and execution scripts on Colab. For the moment, this requires a pasting a few lines at the top of a notebook before executing it.\n",
    "\n",
    "### Notebook links\n",
    "* [00_overview.ipynb](nbs/00_overview.ipynb)\n",
    "* [01_explore_layout.ipynb](nbs/01_explore_layout.ipynb)\n",
    "* [02_test_layout.ipynb](nbs/02_test_layout.ipynb)\n",
    "* [03_explore_rendering.ipynb](nbs/03_explore_rendering.ipynb)\n",
    "* [04_explore_plotly_interaction.ipynb](nbs/04_explore_plotly_interaction.ipynb)\n",
    "* [05_explore_js_interaction.ipynb](nbs/05_explore_js_interaction.ipynb)\n",
    "* [06_test_rendering.ipynb](nbs/06_test_rendering.ipynb)\n",
    "* [07_explore_tracing.ipynb](nbs/07_explore_tracing.ipynb)\n",
    "* [08_fx_profiling_tutorial.ipynb](nbs/08_fx_profiling_tutorial.ipynb)\n",
    "* [09_explore_fx_interpreter.ipynb](nbs/09_explore_fx_interpreter.ipynb)\n",
    "* [10_test_tracing.ipynb](nbs/10_test_tracing.ipynb)\n",
    "* [11_explore_colors.ipynb](nbs/11_explore_colors.ipynb)\n",
    "* [12_test_idlmav.ipynb](nbs/12_test_idlmav.ipynb)\n",
    "\n",
    "### Steps (cloning approach)\n",
    "* Open the notebook from the links below\n",
    "* Paste the following code above the first cell\n",
    "  ```python\n",
    "  from google.colab import output\n",
    "  output.enable_custom_widget_manager()\n",
    "  !git clone --depth 1 https://github.com/d112358/idlmav.git\n",
    "  %pip install torchprofile\n",
    "  %pip install munkres\n",
    "  %pip install torchview\n",
    "  %pip install torchinfo\n",
    "  %pip install colorspacious\n",
    "  %cd idlmav\n",
    "  ```\n",
    "* Run the notebook normally\n",
    "\n",
    "### Steps (pip approach)\n",
    "* TODO\n"
   ]
  },
  {
   "cell_type": "markdown",
   "metadata": {},
   "source": [
    "## Experiments"
   ]
  },
  {
   "cell_type": "markdown",
   "metadata": {
    "id": "-sTRHEywbFqN"
   },
   "source": [
    "### Confirm we're running on Colab"
   ]
  },
  {
   "cell_type": "code",
   "execution_count": 1,
   "metadata": {
    "colab": {
     "base_uri": "https://localhost:8080/"
    },
    "id": "nmeOCwQ6bZsJ",
    "outputId": "c90e78d6-53d2-46a8-99c2-e572a313ccb2"
   },
   "outputs": [
    {
     "name": "stdout",
     "output_type": "stream",
     "text": [
      "Running in Colab\n"
     ]
    }
   ],
   "source": [
    "import sys, os, platform, warnings\n",
    "from datetime import datetime\n",
    "from pathlib import Path\n",
    "\n",
    "try:\n",
    "    import google.colab\n",
    "    print('Running in Colab')\n",
    "except ImportError:\n",
    "    warnings.warn('This notebook is designed to be executed in Colab. You are not currently running in Colab')\n",
    "\n",
    "class StopExecution(Exception):\n",
    "    def _render_traceback_(self):\n",
    "        return []\n",
    "\n",
    "def check_colab():\n",
    "    try:\n",
    "        import google.colab\n",
    "    except ImportError:\n",
    "        print('Skipping cell. This notebook is designed to be executed in Colab')\n",
    "        raise StopExecution"
   ]
  },
  {
   "cell_type": "markdown",
   "metadata": {
    "id": "zBMRvX4ySJDU"
   },
   "source": [
    "### Information about existing environment"
   ]
  },
  {
   "cell_type": "markdown",
   "metadata": {
    "id": "sJsNDR4eXebc"
   },
   "source": [
    "#### OS and Python"
   ]
  },
  {
   "cell_type": "code",
   "execution_count": 2,
   "metadata": {
    "colab": {
     "base_uri": "https://localhost:8080/"
    },
    "id": "1GX3hYvNUV4N",
    "outputId": "ca03fecd-00bc-46a2-e8e3-e0c5d8cee1b2"
   },
   "outputs": [
    {
     "name": "stdout",
     "output_type": "stream",
     "text": [
      "Operating System: Linux 6.1.85+ (#1 SMP PREEMPT_DYNAMIC Thu Jun 27 21:05:47 UTC 2024)\n",
      "PRETTY_NAME=\"Ubuntu 22.04.3 LTS\"\n",
      "NAME=\"Ubuntu\"\n",
      "VERSION_ID=\"22.04\"\n",
      "VERSION=\"22.04.3 LTS (Jammy Jellyfish)\"\n",
      "VERSION_CODENAME=jammy\n",
      "ID=ubuntu\n",
      "ID_LIKE=debian\n",
      "HOME_URL=\"https://www.ubuntu.com/\"\n",
      "SUPPORT_URL=\"https://help.ubuntu.com/\"\n",
      "BUG_REPORT_URL=\"https://bugs.launchpad.net/ubuntu/\"\n",
      "PRIVACY_POLICY_URL=\"https://www.ubuntu.com/legal/terms-and-policies/privacy-policy\"\n",
      "UBUNTU_CODENAME=jammy\n",
      "Current Date and Time: 2024-12-10 12:28:41.040460\n",
      "Python Version: 3.10.12 (main, Nov  6 2024, 20:22:13) [GCC 11.4.0]\n"
     ]
    }
   ],
   "source": [
    "print(f\"Operating System: {platform.system()} {platform.release()} ({platform.version()})\")\n",
    "!cat /etc/os-release\n",
    "print(f\"Current Date and Time: {datetime.now()}\")\n",
    "print(f\"Python Version: {sys.version}\")"
   ]
  },
  {
   "cell_type": "markdown",
   "metadata": {
    "id": "dxiQ5zMJYBw_"
   },
   "source": [
    "#### Existing packages and versions"
   ]
  },
  {
   "cell_type": "code",
   "execution_count": 3,
   "metadata": {
    "colab": {
     "base_uri": "https://localhost:8080/"
    },
    "id": "Tplq5TNuYGD1",
    "outputId": "9a1e7151-f9cc-406c-a476-46810c052ad4"
   },
   "outputs": [
    {
     "name": "stdout",
     "output_type": "stream",
     "text": [
      "beautifulsoup4                     4.12.3\n",
      "fastai                             2.7.18\n",
      "fastcore                           1.7.22\n",
      "fastdownload                       0.0.7\n",
      "fastjsonschema                     2.21.1\n",
      "fastprogress                       1.0.3\n",
      "fastrlock                          0.8.2\n",
      "geopandas                          1.0.1\n",
      "graphviz                           0.20.3\n",
      "ipyevents                          2.0.2\n",
      "ipyfilechooser                     0.6.0\n",
      "ipykernel                          5.5.6\n",
      "ipyleaflet                         0.19.2\n",
      "ipyparallel                        8.8.0\n",
      "ipython                            7.34.0\n",
      "ipython-genutils                   0.2.0\n",
      "ipython-sql                        0.5.0\n",
      "ipytree                            0.2.2\n",
      "ipywidgets                         7.7.1\n",
      "matplotlib                         3.8.0\n",
      "matplotlib-inline                  0.1.7\n",
      "matplotlib-venn                    1.1.1\n",
      "nbformat                           5.10.4\n",
      "numpy                              1.26.4\n",
      "pandas                             2.2.2\n",
      "pandas-datareader                  0.10.0\n",
      "pandas-gbq                         0.24.0\n",
      "pandas-stubs                       2.2.2.240909\n",
      "plotly                             5.24.1\n",
      "scipy                              1.13.1\n",
      "sklearn-pandas                     2.2.0\n",
      "tabulate                           0.9.0\n",
      "timm                               1.0.12\n",
      "torch                              2.5.1+cu121\n",
      "torchaudio                         2.5.1+cu121\n",
      "torchsummary                       1.5.1\n",
      "torchvision                        0.20.1+cu121\n"
     ]
    }
   ],
   "source": [
    "import subprocess\n",
    "filter_strings = [\"beautifulsoup\", \"colorspacious\", \"fast\", \"graphviz\", \"ipy\", \"jsbeautifier\", \"matplotlib\", \"munkres\", \"nbformat\", \"numpy\", \"pandas\", \"plotly\", \"tabulate\", \"timm\", \"torch\"]\n",
    "result = subprocess.run([\"pip\", \"list\"], stdout=subprocess.PIPE, text=True)\n",
    "lines = result.stdout.split(\"\\n\")\n",
    "\n",
    "filtered_lines = [line for line in lines if any(s in line for s in filter_strings)]\n",
    "print(\"\\n\".join(filtered_lines))"
   ]
  },
  {
   "cell_type": "markdown",
   "metadata": {
    "id": "64gGNTebZzFB"
   },
   "source": [
    "#### Memory and disk space"
   ]
  },
  {
   "cell_type": "code",
   "execution_count": 4,
   "metadata": {
    "colab": {
     "base_uri": "https://localhost:8080/"
    },
    "id": "3lnA2FlMT_03",
    "outputId": "5d622335-bcf5-4ca4-9ba4-a3bd9a36468f"
   },
   "outputs": [
    {
     "name": "stdout",
     "output_type": "stream",
     "text": [
      "Memory Usage:\n",
      "               total        used        free      shared  buff/cache   available\n",
      "Mem:            12Gi       860Mi       8.6Gi       1.0Mi       3.2Gi        11Gi\n",
      "Swap:             0B          0B          0B\n",
      "\n",
      "Disk Space:\n",
      "Filesystem      Size  Used Avail Use% Mounted on\n",
      "overlay         108G   33G   76G  31% /\n",
      "tmpfs            64M     0   64M   0% /dev\n",
      "shm             5.8G     0  5.8G   0% /dev/shm\n",
      "/dev/root       2.0G  1.2G  820M  59% /usr/sbin/docker-init\n",
      "tmpfs           6.4G  116K  6.4G   1% /var/colab\n",
      "/dev/sda1        50G   34G   17G  68% /etc/hosts\n",
      "tmpfs           6.4G     0  6.4G   0% /proc/acpi\n",
      "tmpfs           6.4G     0  6.4G   0% /proc/scsi\n",
      "tmpfs           6.4G     0  6.4G   0% /sys/firmware\n"
     ]
    }
   ],
   "source": [
    "print(\"Memory Usage:\")\n",
    "!free -h\n",
    "print(\"\")\n",
    "print(\"Disk Space:\")\n",
    "!df -h"
   ]
  },
  {
   "cell_type": "markdown",
   "metadata": {
    "id": "XouNNGq_aJkp"
   },
   "source": [
    "#### Git head revision"
   ]
  },
  {
   "cell_type": "code",
   "execution_count": 6,
   "metadata": {
    "colab": {
     "base_uri": "https://localhost:8080/"
    },
    "id": "c9N2PwKOWscZ",
    "outputId": "5369b0d8-5d2b-416e-d23b-da4e8a0903f5"
   },
   "outputs": [
    {
     "name": "stdout",
     "output_type": "stream",
     "text": [
      "78779e076d66a0e0d31c5f94c2fcc0b55a6a754f\n"
     ]
    }
   ],
   "source": [
    "!git rev-parse HEAD"
   ]
  },
  {
   "cell_type": "markdown",
   "metadata": {
    "id": "I6_FqCbtae9s"
   },
   "source": [
    "### Clone or pull IDLMAV"
   ]
  },
  {
   "cell_type": "code",
   "execution_count": null,
   "metadata": {
    "colab": {
     "base_uri": "https://localhost:8080/"
    },
    "id": "89sLWhxIaiiw",
    "outputId": "a800b898-3dd4-49f6-b2f4-94c93aaf573e"
   },
   "outputs": [
    {
     "name": "stdout",
     "output_type": "stream",
     "text": [
      "Already up to date.\n",
      "/content/idlmav/idlmav\n"
     ]
    }
   ],
   "source": [
    "check_colab()\n",
    "if Path('idlmav').exists():\n",
    "    !git -C idlmav pull\n",
    "else:\n",
    "    !git clone --depth 1 https://github.com/d112358/idlmav.git"
   ]
  },
  {
   "cell_type": "markdown",
   "metadata": {
    "id": "Lsw5iwSDg2Z-"
   },
   "source": [
    "### Install additional dependencies\n",
    "* Model tracing is based on `torch.fx`\n",
    "  - `tabulate` is required by `torch.fx.print_tabular()`\n",
    "* `torchprofile` is used for FLOPS calculations\n",
    "* `munkres` is required for the layout calculation (Hungarian method implementation)\n",
    "* `plotly` is used for rendering\n",
    "  - `nbformat` is required for important `plotly` functionality to work\n",
    "  - `pandas` is required for `plotly.express` to work"
   ]
  },
  {
   "cell_type": "code",
   "execution_count": null,
   "metadata": {
    "colab": {
     "base_uri": "https://localhost:8080/"
    },
    "collapsed": true,
    "id": "ZxBElubYe8lA",
    "outputId": "7b856805-2ac5-4fcb-95fd-e34c1b237f55"
   },
   "outputs": [],
   "source": [
    "check_colab()\n",
    "%pip install matplotlib\n",
    "%pip install numpy\n",
    "%pip install tabulate\n",
    "%pip install torchprofile\n",
    "%pip install munkres\n",
    "%pip install plotly\n",
    "%pip install nbformat"
   ]
  },
  {
   "cell_type": "markdown",
   "metadata": {
    "id": "nG1WtQ1HhYIm"
   },
   "source": [
    "Testing and verification\n",
    "* `timm` and `fastcore` are required for some models with which this library is tested\n",
    "* `torchview` and `torchinfo` are used to verify the correctness of the model tracing algoritm\n",
    "  - `graphviz` is required by `torchview`\n",
    "* `colorspacious` was used to convert RGB colors to CIELAB to select the colors to used for nodes"
   ]
  },
  {
   "cell_type": "code",
   "execution_count": null,
   "metadata": {
    "colab": {
     "base_uri": "https://localhost:8080/"
    },
    "collapsed": true,
    "id": "VMijxdFUhUZy",
    "outputId": "5c349896-2a9d-45f5-e414-73f9ef297dbb"
   },
   "outputs": [],
   "source": [
    "check_colab()\n",
    "%pip install timm\n",
    "%pip install fastcore\n",
    "%pip install torchview\n",
    "%pip install torchinfo\n",
    "%pip install graphviz\n",
    "%pip install colorspacious"
   ]
  },
  {
   "cell_type": "markdown",
   "metadata": {},
   "source": [
    "### Install miniai\n",
    "* See notes in [setup_vscode_wsl.ipynb](./setup_vscode_wsl.ipynb)"
   ]
  },
  {
   "cell_type": "code",
   "execution_count": null,
   "metadata": {},
   "outputs": [],
   "source": [
    "# Archive the miniai repo to the `tmp` directory and extract the archive to the `miniai` directory\n",
    "from pathlib import Path\n",
    "Path('../tmp').mkdir(exist_ok=True)     # Location to archive the repo to\n",
    "Path('../miniai').mkdir(exist_ok=True)  # Location to extract the archive to\n",
    "!git -C ../tmp init -b master\n",
    "!git -C ../tmp remote add origin https://github.com/fastai/course22p2.git\n",
    "!git -C ../tmp fetch --depth=1 origin master\n",
    "!git -C ../tmp archive --format=tar origin/master:miniai | tar -x -C ../miniai\n",
    "!rm -rf ../tmp"
   ]
  },
  {
   "cell_type": "code",
   "execution_count": null,
   "metadata": {},
   "outputs": [],
   "source": [
    "# Install miniai dependencies\n",
    "%pip install fastprogress\n",
    "%pip install torcheval\n",
    "%pip install datasets"
   ]
  },
  {
   "cell_type": "markdown",
   "metadata": {},
   "source": [
    "### Test imports"
   ]
  },
  {
   "cell_type": "code",
   "execution_count": null,
   "metadata": {},
   "outputs": [],
   "source": [
    "import sys\n",
    "from pathlib import Path\n",
    "sys.path.append(str(Path.cwd().parent))\n",
    "\n",
    "from idlmav import MAV\n",
    "from miniai.init import clean_mem"
   ]
  }
 ],
 "metadata": {
  "colab": {
   "authorship_tag": "ABX9TyOhPVozE+CeSeCkZgSn7qTI",
   "include_colab_link": true,
   "provenance": [],
   "toc_visible": true
  },
  "kernelspec": {
   "display_name": ".venv",
   "language": "python",
   "name": "python3"
  },
  "language_info": {
   "name": "python",
   "version": "3.10.12"
  }
 },
 "nbformat": 4,
 "nbformat_minor": 0
}
