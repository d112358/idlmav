{
  "nbformat": 4,
  "nbformat_minor": 0,
  "metadata": {
    "colab": {
      "provenance": [],
      "authorship_tag": "ABX9TyPGHxGVMNTjopEbbCnTIJMH",
      "include_colab_link": true
    },
    "kernelspec": {
      "name": "python3",
      "display_name": "Python 3"
    },
    "language_info": {
      "name": "python"
    },
    "widgets": {
      "application/vnd.jupyter.widget-state+json": {
        "6a3122af07e142419760d3a95e69746a": {
          "model_module": "@jupyter-widgets/controls",
          "model_name": "HBoxModel",
          "model_module_version": "1.5.0",
          "state": {
            "_dom_classes": [],
            "_model_module": "@jupyter-widgets/controls",
            "_model_module_version": "1.5.0",
            "_model_name": "HBoxModel",
            "_view_count": null,
            "_view_module": "@jupyter-widgets/controls",
            "_view_module_version": "1.5.0",
            "_view_name": "HBoxView",
            "box_style": "",
            "children": [
              "IPY_MODEL_c24c2e51702e45eabbc5e9ed78b76981",
              "IPY_MODEL_94617197809843d4ab4f0f2fef3dfc54",
              "IPY_MODEL_98ee5a032bb84c76a8225a2704b2a1ac"
            ],
            "layout": "IPY_MODEL_5c2c61edce9242fb8ed84ad993ef6e47"
          }
        },
        "c24c2e51702e45eabbc5e9ed78b76981": {
          "model_module": "@jupyter-widgets/controls",
          "model_name": "BoxModel",
          "model_module_version": "1.5.0",
          "state": {
            "_dom_classes": [],
            "_model_module": "@jupyter-widgets/controls",
            "_model_module_version": "1.5.0",
            "_model_name": "BoxModel",
            "_view_count": null,
            "_view_module": "@jupyter-widgets/controls",
            "_view_module_version": "1.5.0",
            "_view_name": "BoxView",
            "box_style": "",
            "children": [
              "IPY_MODEL_31b33c0e09e9419bbcc3adf4ea07bb03"
            ],
            "layout": "IPY_MODEL_9a9ae8dc91d7443681993c39b7189f54"
          }
        },
        "94617197809843d4ab4f0f2fef3dfc54": {
          "model_module": "@jupyter-widgets/controls",
          "model_name": "BoxModel",
          "model_module_version": "1.5.0",
          "state": {
            "_dom_classes": [],
            "_model_module": "@jupyter-widgets/controls",
            "_model_module_version": "1.5.0",
            "_model_name": "BoxModel",
            "_view_count": null,
            "_view_module": "@jupyter-widgets/controls",
            "_view_module_version": "1.5.0",
            "_view_name": "BoxView",
            "box_style": "",
            "children": [
              "IPY_MODEL_7e71d19c862243a39b47ad34223c2450"
            ],
            "layout": "IPY_MODEL_1008e0fb170144108bd5ec2e58a4d955"
          }
        },
        "98ee5a032bb84c76a8225a2704b2a1ac": {
          "model_module": "@jupyter-widgets/controls",
          "model_name": "BoxModel",
          "model_module_version": "1.5.0",
          "state": {
            "_dom_classes": [],
            "_model_module": "@jupyter-widgets/controls",
            "_model_module_version": "1.5.0",
            "_model_name": "BoxModel",
            "_view_count": null,
            "_view_module": "@jupyter-widgets/controls",
            "_view_module_version": "1.5.0",
            "_view_name": "BoxView",
            "box_style": "",
            "children": [
              "IPY_MODEL_4a1dcf228f0247ddb1ef97000ace1504"
            ],
            "layout": "IPY_MODEL_01d2d895994d49b1b4c2f4b4a4fc7e86"
          }
        },
        "5c2c61edce9242fb8ed84ad993ef6e47": {
          "model_module": "@jupyter-widgets/base",
          "model_name": "LayoutModel",
          "model_module_version": "1.2.0",
          "state": {
            "_model_module": "@jupyter-widgets/base",
            "_model_module_version": "1.2.0",
            "_model_name": "LayoutModel",
            "_view_count": null,
            "_view_module": "@jupyter-widgets/base",
            "_view_module_version": "1.2.0",
            "_view_name": "LayoutView",
            "align_content": null,
            "align_items": null,
            "align_self": null,
            "border": null,
            "bottom": null,
            "display": null,
            "flex": null,
            "flex_flow": null,
            "grid_area": null,
            "grid_auto_columns": null,
            "grid_auto_flow": null,
            "grid_auto_rows": null,
            "grid_column": null,
            "grid_gap": null,
            "grid_row": null,
            "grid_template_areas": null,
            "grid_template_columns": null,
            "grid_template_rows": null,
            "height": null,
            "justify_content": null,
            "justify_items": null,
            "left": null,
            "margin": "0px",
            "max_height": null,
            "max_width": null,
            "min_height": null,
            "min_width": null,
            "object_fit": null,
            "object_position": null,
            "order": null,
            "overflow": null,
            "overflow_x": null,
            "overflow_y": null,
            "padding": "0px",
            "right": null,
            "top": null,
            "visibility": null,
            "width": "100%"
          }
        },
        "31b33c0e09e9419bbcc3adf4ea07bb03": {
          "model_module": "@jupyter-widgets/controls",
          "model_name": "FloatRangeSliderModel",
          "model_module_version": "1.5.0",
          "state": {
            "_dom_classes": [],
            "_model_module": "@jupyter-widgets/controls",
            "_model_module_version": "1.5.0",
            "_model_name": "FloatRangeSliderModel",
            "_view_count": null,
            "_view_module": "@jupyter-widgets/controls",
            "_view_module_version": "1.5.0",
            "_view_name": "FloatRangeSliderView",
            "continuous_update": true,
            "description": "",
            "description_tooltip": null,
            "disabled": false,
            "layout": "IPY_MODEL_d102627436a144e2b842dedf1b5c4f8e",
            "max": 0.5,
            "min": -27.5,
            "orientation": "vertical",
            "readout": false,
            "readout_format": ".2f",
            "step": 0.01,
            "style": "IPY_MODEL_6c845001180d40a9838a49731a54c882",
            "value": [
              -9.500000000000004,
              0.5
            ]
          }
        },
        "9a9ae8dc91d7443681993c39b7189f54": {
          "model_module": "@jupyter-widgets/base",
          "model_name": "LayoutModel",
          "model_module_version": "1.2.0",
          "state": {
            "_model_module": "@jupyter-widgets/base",
            "_model_module_version": "1.2.0",
            "_model_name": "LayoutModel",
            "_view_count": null,
            "_view_module": "@jupyter-widgets/base",
            "_view_module_version": "1.2.0",
            "_view_name": "LayoutView",
            "align_content": null,
            "align_items": null,
            "align_self": null,
            "border": null,
            "bottom": null,
            "display": null,
            "flex": "0 0 auto",
            "flex_flow": null,
            "grid_area": null,
            "grid_auto_columns": null,
            "grid_auto_flow": null,
            "grid_auto_rows": null,
            "grid_column": null,
            "grid_gap": null,
            "grid_row": null,
            "grid_template_areas": null,
            "grid_template_columns": null,
            "grid_template_rows": null,
            "height": null,
            "justify_content": null,
            "justify_items": null,
            "left": null,
            "margin": "0px",
            "max_height": null,
            "max_width": null,
            "min_height": null,
            "min_width": null,
            "object_fit": null,
            "object_position": null,
            "order": null,
            "overflow": "visible",
            "overflow_x": null,
            "overflow_y": null,
            "padding": "0px",
            "right": null,
            "top": null,
            "visibility": null,
            "width": null
          }
        },
        "7e71d19c862243a39b47ad34223c2450": {
          "model_module": "jupyterlab-plotly",
          "model_name": "FigureModel",
          "model_module_version": "^5.24.1",
          "state": {
            "_config": {
              "plotlyServerURL": "https://plot.ly"
            },
            "_data": [],
            "_dom_classes": [],
            "_js2py_layoutDelta": null,
            "_js2py_pointsCallback": {},
            "_js2py_relayout": {},
            "_js2py_restyle": {},
            "_js2py_traceDeltas": null,
            "_js2py_update": {},
            "_last_layout_edit_id": 6,
            "_last_trace_edit_id": 5,
            "_layout": {
              "autosize": true,
              "height": 400,
              "margin": {
                "b": 1,
                "l": 0,
                "r": 2,
                "t": 1
              },
              "plot_bgcolor": "#e5ecf6",
              "showlegend": false,
              "width": 200,
              "xaxis": {
                "range": [
                  -0.5,
                  1.5
                ],
                "showgrid": false,
                "visible": false,
                "zeroline": false
              },
              "yaxis": {
                "range": [
                  9.5,
                  -0.5
                ],
                "showgrid": false,
                "visible": false,
                "zeroline": false
              }
            },
            "_model_module": "jupyterlab-plotly",
            "_model_module_version": "^5.24.1",
            "_model_name": "FigureModel",
            "_py2js_addTraces": null,
            "_py2js_animate": {},
            "_py2js_deleteTraces": {},
            "_py2js_moveTraces": {},
            "_py2js_relayout": null,
            "_py2js_removeLayoutProps": {},
            "_py2js_removeTraceProps": {},
            "_py2js_restyle": {},
            "_py2js_update": null,
            "_view_count": 1,
            "_view_module": "jupyterlab-plotly",
            "_view_module_version": "^5.24.1",
            "_view_name": "FigureView"
          }
        },
        "1008e0fb170144108bd5ec2e58a4d955": {
          "model_module": "@jupyter-widgets/base",
          "model_name": "LayoutModel",
          "model_module_version": "1.2.0",
          "state": {
            "_model_module": "@jupyter-widgets/base",
            "_model_module_version": "1.2.0",
            "_model_name": "LayoutModel",
            "_view_count": null,
            "_view_module": "@jupyter-widgets/base",
            "_view_module_version": "1.2.0",
            "_view_name": "LayoutView",
            "align_content": null,
            "align_items": null,
            "align_self": null,
            "border": null,
            "bottom": null,
            "display": null,
            "flex": "0 1 auto",
            "flex_flow": null,
            "grid_area": null,
            "grid_auto_columns": null,
            "grid_auto_flow": null,
            "grid_auto_rows": null,
            "grid_column": null,
            "grid_gap": null,
            "grid_row": null,
            "grid_template_areas": null,
            "grid_template_columns": null,
            "grid_template_rows": null,
            "height": null,
            "justify_content": null,
            "justify_items": null,
            "left": null,
            "margin": "0px",
            "max_height": null,
            "max_width": null,
            "min_height": null,
            "min_width": null,
            "object_fit": null,
            "object_position": null,
            "order": null,
            "overflow": "hidden",
            "overflow_x": null,
            "overflow_y": null,
            "padding": "0px",
            "right": null,
            "top": null,
            "visibility": null,
            "width": null
          }
        },
        "4a1dcf228f0247ddb1ef97000ace1504": {
          "model_module": "@jupyter-widgets/output",
          "model_name": "OutputModel",
          "model_module_version": "1.0.0",
          "state": {
            "_dom_classes": [],
            "_model_module": "@jupyter-widgets/output",
            "_model_module_version": "1.0.0",
            "_model_name": "OutputModel",
            "_view_count": null,
            "_view_module": "@jupyter-widgets/output",
            "_view_module_version": "1.0.0",
            "_view_name": "OutputView",
            "layout": "IPY_MODEL_a41e2a2a85564d8f92a181714612e7e8",
            "msg_id": "",
            "outputs": [
              {
                "output_type": "display_data",
                "data": {
                  "text/plain": "<IPython.core.display.HTML object>",
                  "text/html": "<style>\n.highlight {background-color: #b0c0e0;}\nthead th {position: sticky; top:0; z-index: 1; background-color: #ebebeb;}\n</style>"
                },
                "metadata": {}
              },
              {
                "output_type": "display_data",
                "data": {
                  "text/plain": "<IPython.core.display.HTML object>",
                  "text/html": "<div id=\"scr_table_139739240121008_1733962962067\" style=\"height: 400px; overflow: auto; width: fit-content\"><table id=\"table_139739240121008_1733962962067\">\n  <thead>\n    <tr>\n      <th>Name</th>\n      <th>Operation</th>\n      <th>Activations</th>\n      <th>Params</th>\n      <th>FLOPS</th>\n    </tr>\n  <thead>\n  <tbody>\n    <tr>\n      <td id=\"cell_139739240121008_1733962962067_0_0\">x</td>\n      <td id=\"cell_139739240121008_1733962962067_0_1\">input</td>\n      <td id=\"cell_139739240121008_1733962962067_0_2\">(16, 3, 160, 160)</td>\n      <td id=\"cell_139739240121008_1733962962067_0_3\">0</td>\n      <td id=\"cell_139739240121008_1733962962067_0_4\">0</td>\n    </tr>\n    <tr>\n      <td id=\"cell_139739240121008_1733962962067_1_0\">conv1</td>\n      <td id=\"cell_139739240121008_1733962962067_1_1\">nn.Conv2d</td>\n      <td id=\"cell_139739240121008_1733962962067_1_2\">(16, 64, 80, 80)</td>\n      <td id=\"cell_139739240121008_1733962962067_1_3\">9408</td>\n      <td id=\"cell_139739240121008_1733962962067_1_4\">1926758400</td>\n    </tr>\n    <tr>\n      <td id=\"cell_139739240121008_1733962962067_2_0\">bn1</td>\n      <td id=\"cell_139739240121008_1733962962067_2_1\">nn.BatchNorm2d</td>\n      <td id=\"cell_139739240121008_1733962962067_2_2\">(16, 64, 80, 80)</td>\n      <td id=\"cell_139739240121008_1733962962067_2_3\">128</td>\n      <td id=\"cell_139739240121008_1733962962067_2_4\">13107200</td>\n    </tr>\n    <tr>\n      <td id=\"cell_139739240121008_1733962962067_3_0\">relu</td>\n      <td id=\"cell_139739240121008_1733962962067_3_1\">nn.ReLU</td>\n      <td id=\"cell_139739240121008_1733962962067_3_2\">(16, 64, 80, 80)</td>\n      <td id=\"cell_139739240121008_1733962962067_3_3\">0</td>\n      <td id=\"cell_139739240121008_1733962962067_3_4\">0</td>\n    </tr>\n    <tr>\n      <td id=\"cell_139739240121008_1733962962067_4_0\">maxpool</td>\n      <td id=\"cell_139739240121008_1733962962067_4_1\">nn.MaxPool2d</td>\n      <td id=\"cell_139739240121008_1733962962067_4_2\">(16, 64, 40, 40)</td>\n      <td id=\"cell_139739240121008_1733962962067_4_3\">0</td>\n      <td id=\"cell_139739240121008_1733962962067_4_4\">0</td>\n    </tr>\n    <tr>\n      <td id=\"cell_139739240121008_1733962962067_5_0\">layer1_0_conv1</td>\n      <td id=\"cell_139739240121008_1733962962067_5_1\">nn.Conv2d</td>\n      <td id=\"cell_139739240121008_1733962962067_5_2\">(16, 64, 40, 40)</td>\n      <td id=\"cell_139739240121008_1733962962067_5_3\">36864</td>\n      <td id=\"cell_139739240121008_1733962962067_5_4\">1887436800</td>\n    </tr>\n    <tr>\n      <td id=\"cell_139739240121008_1733962962067_6_0\">layer1_0_bn1</td>\n      <td id=\"cell_139739240121008_1733962962067_6_1\">nn.BatchNorm2d</td>\n      <td id=\"cell_139739240121008_1733962962067_6_2\">(16, 64, 40, 40)</td>\n      <td id=\"cell_139739240121008_1733962962067_6_3\">128</td>\n      <td id=\"cell_139739240121008_1733962962067_6_4\">3276800</td>\n    </tr>\n    <tr>\n      <td id=\"cell_139739240121008_1733962962067_7_0\">layer1_0_relu</td>\n      <td id=\"cell_139739240121008_1733962962067_7_1\">nn.ReLU</td>\n      <td id=\"cell_139739240121008_1733962962067_7_2\">(16, 64, 40, 40)</td>\n      <td id=\"cell_139739240121008_1733962962067_7_3\">0</td>\n      <td id=\"cell_139739240121008_1733962962067_7_4\">0</td>\n    </tr>\n    <tr>\n      <td id=\"cell_139739240121008_1733962962067_8_0\">layer1_0_conv2</td>\n      <td id=\"cell_139739240121008_1733962962067_8_1\">nn.Conv2d</td>\n      <td id=\"cell_139739240121008_1733962962067_8_2\">(16, 64, 40, 40)</td>\n      <td id=\"cell_139739240121008_1733962962067_8_3\">36864</td>\n      <td id=\"cell_139739240121008_1733962962067_8_4\">1887436800</td>\n    </tr>\n    <tr>\n      <td id=\"cell_139739240121008_1733962962067_9_0\">layer1_0_bn2</td>\n      <td id=\"cell_139739240121008_1733962962067_9_1\">nn.BatchNorm2d</td>\n      <td id=\"cell_139739240121008_1733962962067_9_2\">(16, 64, 40, 40)</td>\n      <td id=\"cell_139739240121008_1733962962067_9_3\">128</td>\n      <td id=\"cell_139739240121008_1733962962067_9_4\">3276800</td>\n    </tr>\n    <tr>\n      <td id=\"cell_139739240121008_1733962962067_10_0\">add</td>\n      <td id=\"cell_139739240121008_1733962962067_10_1\">add()</td>\n      <td id=\"cell_139739240121008_1733962962067_10_2\">(16, 64, 40, 40)</td>\n      <td id=\"cell_139739240121008_1733962962067_10_3\">0</td>\n      <td id=\"cell_139739240121008_1733962962067_10_4\">0</td>\n    </tr>\n    <tr>\n      <td id=\"cell_139739240121008_1733962962067_11_0\">layer1_0_relu_1</td>\n      <td id=\"cell_139739240121008_1733962962067_11_1\">nn.ReLU</td>\n      <td id=\"cell_139739240121008_1733962962067_11_2\">(16, 64, 40, 40)</td>\n      <td id=\"cell_139739240121008_1733962962067_11_3\">0</td>\n      <td id=\"cell_139739240121008_1733962962067_11_4\">0</td>\n    </tr>\n    <tr>\n      <td id=\"cell_139739240121008_1733962962067_12_0\">layer1_1_conv1</td>\n      <td id=\"cell_139739240121008_1733962962067_12_1\">nn.Conv2d</td>\n      <td id=\"cell_139739240121008_1733962962067_12_2\">(16, 64, 40, 40)</td>\n      <td id=\"cell_139739240121008_1733962962067_12_3\">36864</td>\n      <td id=\"cell_139739240121008_1733962962067_12_4\">1887436800</td>\n    </tr>\n    <tr>\n      <td id=\"cell_139739240121008_1733962962067_13_0\">layer1_1_bn1</td>\n      <td id=\"cell_139739240121008_1733962962067_13_1\">nn.BatchNorm2d</td>\n      <td id=\"cell_139739240121008_1733962962067_13_2\">(16, 64, 40, 40)</td>\n      <td id=\"cell_139739240121008_1733962962067_13_3\">128</td>\n      <td id=\"cell_139739240121008_1733962962067_13_4\">3276800</td>\n    </tr>\n    <tr>\n      <td id=\"cell_139739240121008_1733962962067_14_0\">layer1_1_relu</td>\n      <td id=\"cell_139739240121008_1733962962067_14_1\">nn.ReLU</td>\n      <td id=\"cell_139739240121008_1733962962067_14_2\">(16, 64, 40, 40)</td>\n      <td id=\"cell_139739240121008_1733962962067_14_3\">0</td>\n      <td id=\"cell_139739240121008_1733962962067_14_4\">0</td>\n    </tr>\n    <tr>\n      <td id=\"cell_139739240121008_1733962962067_15_0\">layer1_1_conv2</td>\n      <td id=\"cell_139739240121008_1733962962067_15_1\">nn.Conv2d</td>\n      <td id=\"cell_139739240121008_1733962962067_15_2\">(16, 64, 40, 40)</td>\n      <td id=\"cell_139739240121008_1733962962067_15_3\">36864</td>\n      <td id=\"cell_139739240121008_1733962962067_15_4\">1887436800</td>\n    </tr>\n    <tr>\n      <td id=\"cell_139739240121008_1733962962067_16_0\">layer1_1_bn2</td>\n      <td id=\"cell_139739240121008_1733962962067_16_1\">nn.BatchNorm2d</td>\n      <td id=\"cell_139739240121008_1733962962067_16_2\">(16, 64, 40, 40)</td>\n      <td id=\"cell_139739240121008_1733962962067_16_3\">128</td>\n      <td id=\"cell_139739240121008_1733962962067_16_4\">3276800</td>\n    </tr>\n    <tr>\n      <td id=\"cell_139739240121008_1733962962067_17_0\">add_1</td>\n      <td id=\"cell_139739240121008_1733962962067_17_1\">add()</td>\n      <td id=\"cell_139739240121008_1733962962067_17_2\">(16, 64, 40, 40)</td>\n      <td id=\"cell_139739240121008_1733962962067_17_3\">0</td>\n      <td id=\"cell_139739240121008_1733962962067_17_4\">0</td>\n    </tr>\n    <tr>\n      <td id=\"cell_139739240121008_1733962962067_18_0\">layer1_1_relu_1</td>\n      <td id=\"cell_139739240121008_1733962962067_18_1\">nn.ReLU</td>\n      <td id=\"cell_139739240121008_1733962962067_18_2\">(16, 64, 40, 40)</td>\n      <td id=\"cell_139739240121008_1733962962067_18_3\">0</td>\n      <td id=\"cell_139739240121008_1733962962067_18_4\">0</td>\n    </tr>\n    <tr>\n      <td id=\"cell_139739240121008_1733962962067_19_0\">layer2_0_conv1</td>\n      <td id=\"cell_139739240121008_1733962962067_19_1\">nn.Conv2d</td>\n      <td id=\"cell_139739240121008_1733962962067_19_2\">(16, 128, 20, 20)</td>\n      <td id=\"cell_139739240121008_1733962962067_19_3\">73728</td>\n      <td id=\"cell_139739240121008_1733962962067_19_4\">943718400</td>\n    </tr>\n    <tr>\n      <td id=\"cell_139739240121008_1733962962067_20_0\">layer2_0_bn1</td>\n      <td id=\"cell_139739240121008_1733962962067_20_1\">nn.BatchNorm2d</td>\n      <td id=\"cell_139739240121008_1733962962067_20_2\">(16, 128, 20, 20)</td>\n      <td id=\"cell_139739240121008_1733962962067_20_3\">256</td>\n      <td id=\"cell_139739240121008_1733962962067_20_4\">1638400</td>\n    </tr>\n    <tr>\n      <td id=\"cell_139739240121008_1733962962067_21_0\">layer2_0_relu</td>\n      <td id=\"cell_139739240121008_1733962962067_21_1\">nn.ReLU</td>\n      <td id=\"cell_139739240121008_1733962962067_21_2\">(16, 128, 20, 20)</td>\n      <td id=\"cell_139739240121008_1733962962067_21_3\">0</td>\n      <td id=\"cell_139739240121008_1733962962067_21_4\">0</td>\n    </tr>\n    <tr>\n      <td id=\"cell_139739240121008_1733962962067_22_0\">layer2_0_conv2</td>\n      <td id=\"cell_139739240121008_1733962962067_22_1\">nn.Conv2d</td>\n      <td id=\"cell_139739240121008_1733962962067_22_2\">(16, 128, 20, 20)</td>\n      <td id=\"cell_139739240121008_1733962962067_22_3\">147456</td>\n      <td id=\"cell_139739240121008_1733962962067_22_4\">1887436800</td>\n    </tr>\n    <tr>\n      <td id=\"cell_139739240121008_1733962962067_23_0\">layer2_0_bn2</td>\n      <td id=\"cell_139739240121008_1733962962067_23_1\">nn.BatchNorm2d</td>\n      <td id=\"cell_139739240121008_1733962962067_23_2\">(16, 128, 20, 20)</td>\n      <td id=\"cell_139739240121008_1733962962067_23_3\">256</td>\n      <td id=\"cell_139739240121008_1733962962067_23_4\">1638400</td>\n    </tr>\n    <tr>\n      <td id=\"cell_139739240121008_1733962962067_24_0\">layer2_0_downsample_0</td>\n      <td id=\"cell_139739240121008_1733962962067_24_1\">nn.Conv2d</td>\n      <td id=\"cell_139739240121008_1733962962067_24_2\">(16, 128, 20, 20)</td>\n      <td id=\"cell_139739240121008_1733962962067_24_3\">8192</td>\n      <td id=\"cell_139739240121008_1733962962067_24_4\">104857600</td>\n    </tr>\n    <tr>\n      <td id=\"cell_139739240121008_1733962962067_25_0\">layer2_0_downsample_1</td>\n      <td id=\"cell_139739240121008_1733962962067_25_1\">nn.BatchNorm2d</td>\n      <td id=\"cell_139739240121008_1733962962067_25_2\">(16, 128, 20, 20)</td>\n      <td id=\"cell_139739240121008_1733962962067_25_3\">256</td>\n      <td id=\"cell_139739240121008_1733962962067_25_4\">1638400</td>\n    </tr>\n    <tr>\n      <td id=\"cell_139739240121008_1733962962067_26_0\">add_2</td>\n      <td id=\"cell_139739240121008_1733962962067_26_1\">add()</td>\n      <td id=\"cell_139739240121008_1733962962067_26_2\">(16, 128, 20, 20)</td>\n      <td id=\"cell_139739240121008_1733962962067_26_3\">0</td>\n      <td id=\"cell_139739240121008_1733962962067_26_4\">0</td>\n    </tr>\n    <tr>\n      <td id=\"cell_139739240121008_1733962962067_27_0\">layer2_0_relu_1</td>\n      <td id=\"cell_139739240121008_1733962962067_27_1\">nn.ReLU</td>\n      <td id=\"cell_139739240121008_1733962962067_27_2\">(16, 128, 20, 20)</td>\n      <td id=\"cell_139739240121008_1733962962067_27_3\">0</td>\n      <td id=\"cell_139739240121008_1733962962067_27_4\">0</td>\n    </tr>\n    <tr>\n      <td id=\"cell_139739240121008_1733962962067_28_0\">layer2_1_conv1</td>\n      <td id=\"cell_139739240121008_1733962962067_28_1\">nn.Conv2d</td>\n      <td id=\"cell_139739240121008_1733962962067_28_2\">(16, 128, 20, 20)</td>\n      <td id=\"cell_139739240121008_1733962962067_28_3\">147456</td>\n      <td id=\"cell_139739240121008_1733962962067_28_4\">1887436800</td>\n    </tr>\n    <tr>\n      <td id=\"cell_139739240121008_1733962962067_29_0\">layer2_1_bn1</td>\n      <td id=\"cell_139739240121008_1733962962067_29_1\">nn.BatchNorm2d</td>\n      <td id=\"cell_139739240121008_1733962962067_29_2\">(16, 128, 20, 20)</td>\n      <td id=\"cell_139739240121008_1733962962067_29_3\">256</td>\n      <td id=\"cell_139739240121008_1733962962067_29_4\">1638400</td>\n    </tr>\n    <tr>\n      <td id=\"cell_139739240121008_1733962962067_30_0\">layer2_1_relu</td>\n      <td id=\"cell_139739240121008_1733962962067_30_1\">nn.ReLU</td>\n      <td id=\"cell_139739240121008_1733962962067_30_2\">(16, 128, 20, 20)</td>\n      <td id=\"cell_139739240121008_1733962962067_30_3\">0</td>\n      <td id=\"cell_139739240121008_1733962962067_30_4\">0</td>\n    </tr>\n    <tr>\n      <td id=\"cell_139739240121008_1733962962067_31_0\">layer2_1_conv2</td>\n      <td id=\"cell_139739240121008_1733962962067_31_1\">nn.Conv2d</td>\n      <td id=\"cell_139739240121008_1733962962067_31_2\">(16, 128, 20, 20)</td>\n      <td id=\"cell_139739240121008_1733962962067_31_3\">147456</td>\n      <td id=\"cell_139739240121008_1733962962067_31_4\">1887436800</td>\n    </tr>\n    <tr>\n      <td id=\"cell_139739240121008_1733962962067_32_0\">layer2_1_bn2</td>\n      <td id=\"cell_139739240121008_1733962962067_32_1\">nn.BatchNorm2d</td>\n      <td id=\"cell_139739240121008_1733962962067_32_2\">(16, 128, 20, 20)</td>\n      <td id=\"cell_139739240121008_1733962962067_32_3\">256</td>\n      <td id=\"cell_139739240121008_1733962962067_32_4\">1638400</td>\n    </tr>\n    <tr>\n      <td id=\"cell_139739240121008_1733962962067_33_0\">add_3</td>\n      <td id=\"cell_139739240121008_1733962962067_33_1\">add()</td>\n      <td id=\"cell_139739240121008_1733962962067_33_2\">(16, 128, 20, 20)</td>\n      <td id=\"cell_139739240121008_1733962962067_33_3\">0</td>\n      <td id=\"cell_139739240121008_1733962962067_33_4\">0</td>\n    </tr>\n    <tr>\n      <td id=\"cell_139739240121008_1733962962067_34_0\">layer2_1_relu_1</td>\n      <td id=\"cell_139739240121008_1733962962067_34_1\">nn.ReLU</td>\n      <td id=\"cell_139739240121008_1733962962067_34_2\">(16, 128, 20, 20)</td>\n      <td id=\"cell_139739240121008_1733962962067_34_3\">0</td>\n      <td id=\"cell_139739240121008_1733962962067_34_4\">0</td>\n    </tr>\n    <tr>\n      <td id=\"cell_139739240121008_1733962962067_35_0\">layer3_0_conv1</td>\n      <td id=\"cell_139739240121008_1733962962067_35_1\">nn.Conv2d</td>\n      <td id=\"cell_139739240121008_1733962962067_35_2\">(16, 256, 10, 10)</td>\n      <td id=\"cell_139739240121008_1733962962067_35_3\">294912</td>\n      <td id=\"cell_139739240121008_1733962962067_35_4\">943718400</td>\n    </tr>\n    <tr>\n      <td id=\"cell_139739240121008_1733962962067_36_0\">layer3_0_bn1</td>\n      <td id=\"cell_139739240121008_1733962962067_36_1\">nn.BatchNorm2d</td>\n      <td id=\"cell_139739240121008_1733962962067_36_2\">(16, 256, 10, 10)</td>\n      <td id=\"cell_139739240121008_1733962962067_36_3\">512</td>\n      <td id=\"cell_139739240121008_1733962962067_36_4\">819200</td>\n    </tr>\n    <tr>\n      <td id=\"cell_139739240121008_1733962962067_37_0\">layer3_0_relu</td>\n      <td id=\"cell_139739240121008_1733962962067_37_1\">nn.ReLU</td>\n      <td id=\"cell_139739240121008_1733962962067_37_2\">(16, 256, 10, 10)</td>\n      <td id=\"cell_139739240121008_1733962962067_37_3\">0</td>\n      <td id=\"cell_139739240121008_1733962962067_37_4\">0</td>\n    </tr>\n    <tr>\n      <td id=\"cell_139739240121008_1733962962067_38_0\">layer3_0_conv2</td>\n      <td id=\"cell_139739240121008_1733962962067_38_1\">nn.Conv2d</td>\n      <td id=\"cell_139739240121008_1733962962067_38_2\">(16, 256, 10, 10)</td>\n      <td id=\"cell_139739240121008_1733962962067_38_3\">589824</td>\n      <td id=\"cell_139739240121008_1733962962067_38_4\">1887436800</td>\n    </tr>\n    <tr>\n      <td id=\"cell_139739240121008_1733962962067_39_0\">layer3_0_bn2</td>\n      <td id=\"cell_139739240121008_1733962962067_39_1\">nn.BatchNorm2d</td>\n      <td id=\"cell_139739240121008_1733962962067_39_2\">(16, 256, 10, 10)</td>\n      <td id=\"cell_139739240121008_1733962962067_39_3\">512</td>\n      <td id=\"cell_139739240121008_1733962962067_39_4\">819200</td>\n    </tr>\n    <tr>\n      <td id=\"cell_139739240121008_1733962962067_40_0\">layer3_0_downsample_0</td>\n      <td id=\"cell_139739240121008_1733962962067_40_1\">nn.Conv2d</td>\n      <td id=\"cell_139739240121008_1733962962067_40_2\">(16, 256, 10, 10)</td>\n      <td id=\"cell_139739240121008_1733962962067_40_3\">32768</td>\n      <td id=\"cell_139739240121008_1733962962067_40_4\">104857600</td>\n    </tr>\n    <tr>\n      <td id=\"cell_139739240121008_1733962962067_41_0\">layer3_0_downsample_1</td>\n      <td id=\"cell_139739240121008_1733962962067_41_1\">nn.BatchNorm2d</td>\n      <td id=\"cell_139739240121008_1733962962067_41_2\">(16, 256, 10, 10)</td>\n      <td id=\"cell_139739240121008_1733962962067_41_3\">512</td>\n      <td id=\"cell_139739240121008_1733962962067_41_4\">819200</td>\n    </tr>\n    <tr>\n      <td id=\"cell_139739240121008_1733962962067_42_0\">add_4</td>\n      <td id=\"cell_139739240121008_1733962962067_42_1\">add()</td>\n      <td id=\"cell_139739240121008_1733962962067_42_2\">(16, 256, 10, 10)</td>\n      <td id=\"cell_139739240121008_1733962962067_42_3\">0</td>\n      <td id=\"cell_139739240121008_1733962962067_42_4\">0</td>\n    </tr>\n    <tr>\n      <td id=\"cell_139739240121008_1733962962067_43_0\">layer3_0_relu_1</td>\n      <td id=\"cell_139739240121008_1733962962067_43_1\">nn.ReLU</td>\n      <td id=\"cell_139739240121008_1733962962067_43_2\">(16, 256, 10, 10)</td>\n      <td id=\"cell_139739240121008_1733962962067_43_3\">0</td>\n      <td id=\"cell_139739240121008_1733962962067_43_4\">0</td>\n    </tr>\n    <tr>\n      <td id=\"cell_139739240121008_1733962962067_44_0\">layer3_1_conv1</td>\n      <td id=\"cell_139739240121008_1733962962067_44_1\">nn.Conv2d</td>\n      <td id=\"cell_139739240121008_1733962962067_44_2\">(16, 256, 10, 10)</td>\n      <td id=\"cell_139739240121008_1733962962067_44_3\">589824</td>\n      <td id=\"cell_139739240121008_1733962962067_44_4\">1887436800</td>\n    </tr>\n    <tr>\n      <td id=\"cell_139739240121008_1733962962067_45_0\">layer3_1_bn1</td>\n      <td id=\"cell_139739240121008_1733962962067_45_1\">nn.BatchNorm2d</td>\n      <td id=\"cell_139739240121008_1733962962067_45_2\">(16, 256, 10, 10)</td>\n      <td id=\"cell_139739240121008_1733962962067_45_3\">512</td>\n      <td id=\"cell_139739240121008_1733962962067_45_4\">819200</td>\n    </tr>\n    <tr>\n      <td id=\"cell_139739240121008_1733962962067_46_0\">layer3_1_relu</td>\n      <td id=\"cell_139739240121008_1733962962067_46_1\">nn.ReLU</td>\n      <td id=\"cell_139739240121008_1733962962067_46_2\">(16, 256, 10, 10)</td>\n      <td id=\"cell_139739240121008_1733962962067_46_3\">0</td>\n      <td id=\"cell_139739240121008_1733962962067_46_4\">0</td>\n    </tr>\n    <tr>\n      <td id=\"cell_139739240121008_1733962962067_47_0\">layer3_1_conv2</td>\n      <td id=\"cell_139739240121008_1733962962067_47_1\">nn.Conv2d</td>\n      <td id=\"cell_139739240121008_1733962962067_47_2\">(16, 256, 10, 10)</td>\n      <td id=\"cell_139739240121008_1733962962067_47_3\">589824</td>\n      <td id=\"cell_139739240121008_1733962962067_47_4\">1887436800</td>\n    </tr>\n    <tr>\n      <td id=\"cell_139739240121008_1733962962067_48_0\">layer3_1_bn2</td>\n      <td id=\"cell_139739240121008_1733962962067_48_1\">nn.BatchNorm2d</td>\n      <td id=\"cell_139739240121008_1733962962067_48_2\">(16, 256, 10, 10)</td>\n      <td id=\"cell_139739240121008_1733962962067_48_3\">512</td>\n      <td id=\"cell_139739240121008_1733962962067_48_4\">819200</td>\n    </tr>\n    <tr>\n      <td id=\"cell_139739240121008_1733962962067_49_0\">add_5</td>\n      <td id=\"cell_139739240121008_1733962962067_49_1\">add()</td>\n      <td id=\"cell_139739240121008_1733962962067_49_2\">(16, 256, 10, 10)</td>\n      <td id=\"cell_139739240121008_1733962962067_49_3\">0</td>\n      <td id=\"cell_139739240121008_1733962962067_49_4\">0</td>\n    </tr>\n    <tr>\n      <td id=\"cell_139739240121008_1733962962067_50_0\">layer3_1_relu_1</td>\n      <td id=\"cell_139739240121008_1733962962067_50_1\">nn.ReLU</td>\n      <td id=\"cell_139739240121008_1733962962067_50_2\">(16, 256, 10, 10)</td>\n      <td id=\"cell_139739240121008_1733962962067_50_3\">0</td>\n      <td id=\"cell_139739240121008_1733962962067_50_4\">0</td>\n    </tr>\n    <tr>\n      <td id=\"cell_139739240121008_1733962962067_51_0\">layer4_0_conv1</td>\n      <td id=\"cell_139739240121008_1733962962067_51_1\">nn.Conv2d</td>\n      <td id=\"cell_139739240121008_1733962962067_51_2\">(16, 512, 5, 5)</td>\n      <td id=\"cell_139739240121008_1733962962067_51_3\">1179648</td>\n      <td id=\"cell_139739240121008_1733962962067_51_4\">943718400</td>\n    </tr>\n    <tr>\n      <td id=\"cell_139739240121008_1733962962067_52_0\">layer4_0_bn1</td>\n      <td id=\"cell_139739240121008_1733962962067_52_1\">nn.BatchNorm2d</td>\n      <td id=\"cell_139739240121008_1733962962067_52_2\">(16, 512, 5, 5)</td>\n      <td id=\"cell_139739240121008_1733962962067_52_3\">1024</td>\n      <td id=\"cell_139739240121008_1733962962067_52_4\">409600</td>\n    </tr>\n    <tr>\n      <td id=\"cell_139739240121008_1733962962067_53_0\">layer4_0_relu</td>\n      <td id=\"cell_139739240121008_1733962962067_53_1\">nn.ReLU</td>\n      <td id=\"cell_139739240121008_1733962962067_53_2\">(16, 512, 5, 5)</td>\n      <td id=\"cell_139739240121008_1733962962067_53_3\">0</td>\n      <td id=\"cell_139739240121008_1733962962067_53_4\">0</td>\n    </tr>\n    <tr>\n      <td id=\"cell_139739240121008_1733962962067_54_0\">layer4_0_conv2</td>\n      <td id=\"cell_139739240121008_1733962962067_54_1\">nn.Conv2d</td>\n      <td id=\"cell_139739240121008_1733962962067_54_2\">(16, 512, 5, 5)</td>\n      <td id=\"cell_139739240121008_1733962962067_54_3\">2359296</td>\n      <td id=\"cell_139739240121008_1733962962067_54_4\">1887436800</td>\n    </tr>\n    <tr>\n      <td id=\"cell_139739240121008_1733962962067_55_0\">layer4_0_bn2</td>\n      <td id=\"cell_139739240121008_1733962962067_55_1\">nn.BatchNorm2d</td>\n      <td id=\"cell_139739240121008_1733962962067_55_2\">(16, 512, 5, 5)</td>\n      <td id=\"cell_139739240121008_1733962962067_55_3\">1024</td>\n      <td id=\"cell_139739240121008_1733962962067_55_4\">409600</td>\n    </tr>\n    <tr>\n      <td id=\"cell_139739240121008_1733962962067_56_0\">layer4_0_downsample_0</td>\n      <td id=\"cell_139739240121008_1733962962067_56_1\">nn.Conv2d</td>\n      <td id=\"cell_139739240121008_1733962962067_56_2\">(16, 512, 5, 5)</td>\n      <td id=\"cell_139739240121008_1733962962067_56_3\">131072</td>\n      <td id=\"cell_139739240121008_1733962962067_56_4\">104857600</td>\n    </tr>\n    <tr>\n      <td id=\"cell_139739240121008_1733962962067_57_0\">layer4_0_downsample_1</td>\n      <td id=\"cell_139739240121008_1733962962067_57_1\">nn.BatchNorm2d</td>\n      <td id=\"cell_139739240121008_1733962962067_57_2\">(16, 512, 5, 5)</td>\n      <td id=\"cell_139739240121008_1733962962067_57_3\">1024</td>\n      <td id=\"cell_139739240121008_1733962962067_57_4\">409600</td>\n    </tr>\n    <tr>\n      <td id=\"cell_139739240121008_1733962962067_58_0\">add_6</td>\n      <td id=\"cell_139739240121008_1733962962067_58_1\">add()</td>\n      <td id=\"cell_139739240121008_1733962962067_58_2\">(16, 512, 5, 5)</td>\n      <td id=\"cell_139739240121008_1733962962067_58_3\">0</td>\n      <td id=\"cell_139739240121008_1733962962067_58_4\">0</td>\n    </tr>\n    <tr>\n      <td id=\"cell_139739240121008_1733962962067_59_0\">layer4_0_relu_1</td>\n      <td id=\"cell_139739240121008_1733962962067_59_1\">nn.ReLU</td>\n      <td id=\"cell_139739240121008_1733962962067_59_2\">(16, 512, 5, 5)</td>\n      <td id=\"cell_139739240121008_1733962962067_59_3\">0</td>\n      <td id=\"cell_139739240121008_1733962962067_59_4\">0</td>\n    </tr>\n    <tr>\n      <td id=\"cell_139739240121008_1733962962067_60_0\">layer4_1_conv1</td>\n      <td id=\"cell_139739240121008_1733962962067_60_1\">nn.Conv2d</td>\n      <td id=\"cell_139739240121008_1733962962067_60_2\">(16, 512, 5, 5)</td>\n      <td id=\"cell_139739240121008_1733962962067_60_3\">2359296</td>\n      <td id=\"cell_139739240121008_1733962962067_60_4\">1887436800</td>\n    </tr>\n    <tr>\n      <td id=\"cell_139739240121008_1733962962067_61_0\">layer4_1_bn1</td>\n      <td id=\"cell_139739240121008_1733962962067_61_1\">nn.BatchNorm2d</td>\n      <td id=\"cell_139739240121008_1733962962067_61_2\">(16, 512, 5, 5)</td>\n      <td id=\"cell_139739240121008_1733962962067_61_3\">1024</td>\n      <td id=\"cell_139739240121008_1733962962067_61_4\">409600</td>\n    </tr>\n    <tr>\n      <td id=\"cell_139739240121008_1733962962067_62_0\">layer4_1_relu</td>\n      <td id=\"cell_139739240121008_1733962962067_62_1\">nn.ReLU</td>\n      <td id=\"cell_139739240121008_1733962962067_62_2\">(16, 512, 5, 5)</td>\n      <td id=\"cell_139739240121008_1733962962067_62_3\">0</td>\n      <td id=\"cell_139739240121008_1733962962067_62_4\">0</td>\n    </tr>\n    <tr>\n      <td id=\"cell_139739240121008_1733962962067_63_0\">layer4_1_conv2</td>\n      <td id=\"cell_139739240121008_1733962962067_63_1\">nn.Conv2d</td>\n      <td id=\"cell_139739240121008_1733962962067_63_2\">(16, 512, 5, 5)</td>\n      <td id=\"cell_139739240121008_1733962962067_63_3\">2359296</td>\n      <td id=\"cell_139739240121008_1733962962067_63_4\">1887436800</td>\n    </tr>\n    <tr>\n      <td id=\"cell_139739240121008_1733962962067_64_0\">layer4_1_bn2</td>\n      <td id=\"cell_139739240121008_1733962962067_64_1\">nn.BatchNorm2d</td>\n      <td id=\"cell_139739240121008_1733962962067_64_2\">(16, 512, 5, 5)</td>\n      <td id=\"cell_139739240121008_1733962962067_64_3\">1024</td>\n      <td id=\"cell_139739240121008_1733962962067_64_4\">409600</td>\n    </tr>\n    <tr>\n      <td id=\"cell_139739240121008_1733962962067_65_0\">add_7</td>\n      <td id=\"cell_139739240121008_1733962962067_65_1\">add()</td>\n      <td id=\"cell_139739240121008_1733962962067_65_2\">(16, 512, 5, 5)</td>\n      <td id=\"cell_139739240121008_1733962962067_65_3\">0</td>\n      <td id=\"cell_139739240121008_1733962962067_65_4\">0</td>\n    </tr>\n    <tr>\n      <td id=\"cell_139739240121008_1733962962067_66_0\">layer4_1_relu_1</td>\n      <td id=\"cell_139739240121008_1733962962067_66_1\">nn.ReLU</td>\n      <td id=\"cell_139739240121008_1733962962067_66_2\">(16, 512, 5, 5)</td>\n      <td id=\"cell_139739240121008_1733962962067_66_3\">0</td>\n      <td id=\"cell_139739240121008_1733962962067_66_4\">0</td>\n    </tr>\n    <tr>\n      <td id=\"cell_139739240121008_1733962962067_67_0\">avgpool</td>\n      <td id=\"cell_139739240121008_1733962962067_67_1\">nn.AdaptiveAvgPool2d</td>\n      <td id=\"cell_139739240121008_1733962962067_67_2\">(16, 512, 1, 1)</td>\n      <td id=\"cell_139739240121008_1733962962067_67_3\">0</td>\n      <td id=\"cell_139739240121008_1733962962067_67_4\">16384</td>\n    </tr>\n    <tr>\n      <td id=\"cell_139739240121008_1733962962067_68_0\">flatten</td>\n      <td id=\"cell_139739240121008_1733962962067_68_1\">flatten()</td>\n      <td id=\"cell_139739240121008_1733962962067_68_2\">(16, 512)</td>\n      <td id=\"cell_139739240121008_1733962962067_68_3\">0</td>\n      <td id=\"cell_139739240121008_1733962962067_68_4\">0</td>\n    </tr>\n    <tr>\n      <td id=\"cell_139739240121008_1733962962067_69_0\">fc</td>\n      <td id=\"cell_139739240121008_1733962962067_69_1\">nn.Linear</td>\n      <td id=\"cell_139739240121008_1733962962067_69_2\">(16, 1000)</td>\n      <td id=\"cell_139739240121008_1733962962067_69_3\">513000</td>\n      <td id=\"cell_139739240121008_1733962962067_69_4\">16384000</td>\n    </tr>\n    <tr>\n      <td id=\"cell_139739240121008_1733962962067_70_0\">output</td>\n      <td id=\"cell_139739240121008_1733962962067_70_1\">output</td>\n      <td id=\"cell_139739240121008_1733962962067_70_2\">(16, 1000)</td>\n      <td id=\"cell_139739240121008_1733962962067_70_3\">0</td>\n      <td id=\"cell_139739240121008_1733962962067_70_4\">0</td>\n    </tr>\n  </tbody>\n</table></div>"
                },
                "metadata": {}
              }
            ]
          }
        },
        "01d2d895994d49b1b4c2f4b4a4fc7e86": {
          "model_module": "@jupyter-widgets/base",
          "model_name": "LayoutModel",
          "model_module_version": "1.2.0",
          "state": {
            "_model_module": "@jupyter-widgets/base",
            "_model_module_version": "1.2.0",
            "_model_name": "LayoutModel",
            "_view_count": null,
            "_view_module": "@jupyter-widgets/base",
            "_view_module_version": "1.2.0",
            "_view_name": "LayoutView",
            "align_content": null,
            "align_items": null,
            "align_self": null,
            "border": null,
            "bottom": null,
            "display": null,
            "flex": "0 0 auto",
            "flex_flow": null,
            "grid_area": null,
            "grid_auto_columns": null,
            "grid_auto_flow": null,
            "grid_auto_rows": null,
            "grid_column": null,
            "grid_gap": null,
            "grid_row": null,
            "grid_template_areas": null,
            "grid_template_columns": null,
            "grid_template_rows": null,
            "height": null,
            "justify_content": null,
            "justify_items": null,
            "left": null,
            "margin": "0px",
            "max_height": null,
            "max_width": null,
            "min_height": null,
            "min_width": null,
            "object_fit": null,
            "object_position": null,
            "order": null,
            "overflow": "visible",
            "overflow_x": null,
            "overflow_y": null,
            "padding": "0px",
            "right": null,
            "top": null,
            "visibility": null,
            "width": null
          }
        },
        "d102627436a144e2b842dedf1b5c4f8e": {
          "model_module": "@jupyter-widgets/base",
          "model_name": "LayoutModel",
          "model_module_version": "1.2.0",
          "state": {
            "_model_module": "@jupyter-widgets/base",
            "_model_module_version": "1.2.0",
            "_model_name": "LayoutModel",
            "_view_count": null,
            "_view_module": "@jupyter-widgets/base",
            "_view_module_version": "1.2.0",
            "_view_name": "LayoutView",
            "align_content": null,
            "align_items": null,
            "align_self": null,
            "border": null,
            "bottom": null,
            "display": null,
            "flex": null,
            "flex_flow": null,
            "grid_area": null,
            "grid_auto_columns": null,
            "grid_auto_flow": null,
            "grid_auto_rows": null,
            "grid_column": null,
            "grid_gap": null,
            "grid_row": null,
            "grid_template_areas": null,
            "grid_template_columns": null,
            "grid_template_rows": null,
            "height": "400px",
            "justify_content": null,
            "justify_items": null,
            "left": null,
            "margin": null,
            "max_height": null,
            "max_width": null,
            "min_height": null,
            "min_width": null,
            "object_fit": null,
            "object_position": null,
            "order": null,
            "overflow": null,
            "overflow_x": null,
            "overflow_y": null,
            "padding": null,
            "right": null,
            "top": null,
            "visibility": null,
            "width": null
          }
        },
        "6c845001180d40a9838a49731a54c882": {
          "model_module": "@jupyter-widgets/controls",
          "model_name": "SliderStyleModel",
          "model_module_version": "1.5.0",
          "state": {
            "_model_module": "@jupyter-widgets/controls",
            "_model_module_version": "1.5.0",
            "_model_name": "SliderStyleModel",
            "_view_count": null,
            "_view_module": "@jupyter-widgets/base",
            "_view_module_version": "1.2.0",
            "_view_name": "StyleView",
            "description_width": "",
            "handle_color": null
          }
        },
        "a41e2a2a85564d8f92a181714612e7e8": {
          "model_module": "@jupyter-widgets/base",
          "model_name": "LayoutModel",
          "model_module_version": "1.2.0",
          "state": {
            "_model_module": "@jupyter-widgets/base",
            "_model_module_version": "1.2.0",
            "_model_name": "LayoutModel",
            "_view_count": null,
            "_view_module": "@jupyter-widgets/base",
            "_view_module_version": "1.2.0",
            "_view_name": "LayoutView",
            "align_content": null,
            "align_items": null,
            "align_self": null,
            "border": null,
            "bottom": null,
            "display": null,
            "flex": null,
            "flex_flow": null,
            "grid_area": null,
            "grid_auto_columns": null,
            "grid_auto_flow": null,
            "grid_auto_rows": null,
            "grid_column": null,
            "grid_gap": null,
            "grid_row": null,
            "grid_template_areas": null,
            "grid_template_columns": null,
            "grid_template_rows": null,
            "height": null,
            "justify_content": null,
            "justify_items": null,
            "left": null,
            "margin": null,
            "max_height": null,
            "max_width": null,
            "min_height": null,
            "min_width": null,
            "object_fit": null,
            "object_position": null,
            "order": null,
            "overflow": null,
            "overflow_x": null,
            "overflow_y": null,
            "padding": null,
            "right": null,
            "top": null,
            "visibility": null,
            "width": null
          }
        }
      }
    }
  },
  "cells": [
    {
      "cell_type": "markdown",
      "metadata": {
        "id": "view-in-github",
        "colab_type": "text"
      },
      "source": [
        "<a href=\"https://colab.research.google.com/github/d112358/idlmav/blob/main/environments/colab_example.ipynb\" target=\"_parent\"><img src=\"https://colab.research.google.com/assets/colab-badge.svg\" alt=\"Open In Colab\"/></a>"
      ]
    },
    {
      "cell_type": "code",
      "execution_count": null,
      "metadata": {
        "id": "zAWKTZzXMu8h"
      },
      "outputs": [],
      "source": [
        "%pip install git+https://github.com/d112358/idlmav.git"
      ]
    },
    {
      "cell_type": "code",
      "source": [
        "import torch, torchvision\n",
        "from idlmav import MAV, plotly_renderer\n",
        "device = 'cpu'\n",
        "model = torchvision.models.resnet18().to(device)\n",
        "x = torch.randn(16,3,160,160).to(device)\n",
        "\n",
        "from google.colab import output\n",
        "output.enable_custom_widget_manager()"
      ],
      "metadata": {
        "id": "ArZ1NfJQNMsg"
      },
      "execution_count": null,
      "outputs": []
    },
    {
      "cell_type": "code",
      "source": [
        "device = 'cpu'\n",
        "model = torchvision.models.resnet18().to(device)\n",
        "x = torch.randn(16,3,160,160).to(device)\n",
        "mav = MAV(model, x, device=device)"
      ],
      "metadata": {
        "id": "HdxL20neNbvv"
      },
      "execution_count": null,
      "outputs": []
    },
    {
      "cell_type": "markdown",
      "source": [
        "## Release mode graph (go.Figure)"
      ],
      "metadata": {
        "id": "V1h-BawHNUpR"
      }
    },
    {
      "cell_type": "code",
      "source": [
        "mav.show_figure(add_slider=True)"
      ],
      "metadata": {
        "colab": {
          "base_uri": "https://localhost:8080/",
          "height": 542
        },
        "id": "Lnzpcp1RNtQR",
        "outputId": "26b25647-ac7d-47bc-b20f-5ef6a07da904"
      },
      "execution_count": null,
      "outputs": [
        {
          "output_type": "display_data",
          "data": {
            "text/html": [
              "<html>\n",
              "<head><meta charset=\"utf-8\" /></head>\n",
              "<body>\n",
              "    <div>            <script src=\"https://cdnjs.cloudflare.com/ajax/libs/mathjax/2.7.5/MathJax.js?config=TeX-AMS-MML_SVG\"></script><script type=\"text/javascript\">if (window.MathJax && window.MathJax.Hub && window.MathJax.Hub.Config) {window.MathJax.Hub.Config({SVG: {font: \"STIX-Web\"}});}</script>                <script type=\"text/javascript\">window.PlotlyConfig = {MathJaxConfig: 'local'};</script>\n",
              "        <script charset=\"utf-8\" src=\"https://cdn.plot.ly/plotly-2.35.2.min.js\"></script>                <div id=\"32155363-1462-49c0-8dcb-0a061f2a1e51\" class=\"plotly-graph-div\" style=\"height:525px; width:100%;\"></div>            <script type=\"text/javascript\">                                    window.PLOTLYENV=window.PLOTLYENV || {};                                    if (document.getElementById(\"32155363-1462-49c0-8dcb-0a061f2a1e51\")) {                    Plotly.newPlot(                        \"32155363-1462-49c0-8dcb-0a061f2a1e51\",                        [{\"customdata\":[[\"x\",\"input\",[16,3,160,160],0,0],[\"conv1\",\"nn.Conv2d\",[16,64,80,80],9408,1926758400],[\"bn1\",\"nn.BatchNorm2d\",[16,64,80,80],128,13107200],[\"relu\",\"nn.ReLU\",[16,64,80,80],0,0],[\"maxpool\",\"nn.MaxPool2d\",[16,64,40,40],0,0],[\"layer1_0_conv1\",\"nn.Conv2d\",[16,64,40,40],36864,1887436800],[\"layer1_0_bn1\",\"nn.BatchNorm2d\",[16,64,40,40],128,3276800],[\"layer1_0_relu\",\"nn.ReLU\",[16,64,40,40],0,0],[\"layer1_0_conv2\",\"nn.Conv2d\",[16,64,40,40],36864,1887436800],[\"layer1_0_bn2\",\"nn.BatchNorm2d\",[16,64,40,40],128,3276800],[\"add\",\"add()\",[16,64,40,40],0,0],[\"layer1_0_relu_1\",\"nn.ReLU\",[16,64,40,40],0,0],[\"layer1_1_conv1\",\"nn.Conv2d\",[16,64,40,40],36864,1887436800],[\"layer1_1_bn1\",\"nn.BatchNorm2d\",[16,64,40,40],128,3276800],[\"layer1_1_relu\",\"nn.ReLU\",[16,64,40,40],0,0],[\"layer1_1_conv2\",\"nn.Conv2d\",[16,64,40,40],36864,1887436800],[\"layer1_1_bn2\",\"nn.BatchNorm2d\",[16,64,40,40],128,3276800],[\"add_1\",\"add()\",[16,64,40,40],0,0],[\"layer1_1_relu_1\",\"nn.ReLU\",[16,64,40,40],0,0],[\"layer2_0_conv1\",\"nn.Conv2d\",[16,128,20,20],73728,943718400],[\"layer2_0_bn1\",\"nn.BatchNorm2d\",[16,128,20,20],256,1638400],[\"layer2_0_relu\",\"nn.ReLU\",[16,128,20,20],0,0],[\"layer2_0_conv2\",\"nn.Conv2d\",[16,128,20,20],147456,1887436800],[\"layer2_0_bn2\",\"nn.BatchNorm2d\",[16,128,20,20],256,1638400],[\"layer2_0_downsample_0\",\"nn.Conv2d\",[16,128,20,20],8192,104857600],[\"layer2_0_downsample_1\",\"nn.BatchNorm2d\",[16,128,20,20],256,1638400],[\"add_2\",\"add()\",[16,128,20,20],0,0],[\"layer2_0_relu_1\",\"nn.ReLU\",[16,128,20,20],0,0],[\"layer2_1_conv1\",\"nn.Conv2d\",[16,128,20,20],147456,1887436800],[\"layer2_1_bn1\",\"nn.BatchNorm2d\",[16,128,20,20],256,1638400],[\"layer2_1_relu\",\"nn.ReLU\",[16,128,20,20],0,0],[\"layer2_1_conv2\",\"nn.Conv2d\",[16,128,20,20],147456,1887436800],[\"layer2_1_bn2\",\"nn.BatchNorm2d\",[16,128,20,20],256,1638400],[\"add_3\",\"add()\",[16,128,20,20],0,0],[\"layer2_1_relu_1\",\"nn.ReLU\",[16,128,20,20],0,0],[\"layer3_0_conv1\",\"nn.Conv2d\",[16,256,10,10],294912,943718400],[\"layer3_0_bn1\",\"nn.BatchNorm2d\",[16,256,10,10],512,819200],[\"layer3_0_relu\",\"nn.ReLU\",[16,256,10,10],0,0],[\"layer3_0_conv2\",\"nn.Conv2d\",[16,256,10,10],589824,1887436800],[\"layer3_0_bn2\",\"nn.BatchNorm2d\",[16,256,10,10],512,819200],[\"layer3_0_downsample_0\",\"nn.Conv2d\",[16,256,10,10],32768,104857600],[\"layer3_0_downsample_1\",\"nn.BatchNorm2d\",[16,256,10,10],512,819200],[\"add_4\",\"add()\",[16,256,10,10],0,0],[\"layer3_0_relu_1\",\"nn.ReLU\",[16,256,10,10],0,0],[\"layer3_1_conv1\",\"nn.Conv2d\",[16,256,10,10],589824,1887436800],[\"layer3_1_bn1\",\"nn.BatchNorm2d\",[16,256,10,10],512,819200],[\"layer3_1_relu\",\"nn.ReLU\",[16,256,10,10],0,0],[\"layer3_1_conv2\",\"nn.Conv2d\",[16,256,10,10],589824,1887436800],[\"layer3_1_bn2\",\"nn.BatchNorm2d\",[16,256,10,10],512,819200],[\"add_5\",\"add()\",[16,256,10,10],0,0],[\"layer3_1_relu_1\",\"nn.ReLU\",[16,256,10,10],0,0],[\"layer4_0_conv1\",\"nn.Conv2d\",[16,512,5,5],1179648,943718400],[\"layer4_0_bn1\",\"nn.BatchNorm2d\",[16,512,5,5],1024,409600],[\"layer4_0_relu\",\"nn.ReLU\",[16,512,5,5],0,0],[\"layer4_0_conv2\",\"nn.Conv2d\",[16,512,5,5],2359296,1887436800],[\"layer4_0_bn2\",\"nn.BatchNorm2d\",[16,512,5,5],1024,409600],[\"layer4_0_downsample_0\",\"nn.Conv2d\",[16,512,5,5],131072,104857600],[\"layer4_0_downsample_1\",\"nn.BatchNorm2d\",[16,512,5,5],1024,409600],[\"add_6\",\"add()\",[16,512,5,5],0,0],[\"layer4_0_relu_1\",\"nn.ReLU\",[16,512,5,5],0,0],[\"layer4_1_conv1\",\"nn.Conv2d\",[16,512,5,5],2359296,1887436800],[\"layer4_1_bn1\",\"nn.BatchNorm2d\",[16,512,5,5],1024,409600],[\"layer4_1_relu\",\"nn.ReLU\",[16,512,5,5],0,0],[\"layer4_1_conv2\",\"nn.Conv2d\",[16,512,5,5],2359296,1887436800],[\"layer4_1_bn2\",\"nn.BatchNorm2d\",[16,512,5,5],1024,409600],[\"add_7\",\"add()\",[16,512,5,5],0,0],[\"layer4_1_relu_1\",\"nn.ReLU\",[16,512,5,5],0,0],[\"avgpool\",\"nn.AdaptiveAvgPool2d\",[16,512,1,1],0,16384],[\"flatten\",\"flatten()\",[16,512],0,0],[\"fc\",\"nn.Linear\",[16,1000],513000,16384000],[\"output\",\"output\",[16,1000],0,0]],\"hovertemplate\":\"Name: %{customdata[0]}\\u003cbr\\u003eOperation: %{customdata[1]}\\u003cbr\\u003eActivations: %{customdata[2]}\\u003cbr\\u003eParameters: %{customdata[3]}\\u003cbr\\u003eFLOPS: %{customdata[4]}\\u003cbr\\u003e\\u003cextra\\u003e\\u003c\\u002fextra\\u003e\",\"marker\":{\"color\":[\"#222A2A\",\"#00A08B\",\"#EB663B\",\"#1616A7\",\"#DA60CA\",\"#00A08B\",\"#EB663B\",\"#1616A7\",\"#00A08B\",\"#EB663B\",\"#778AAE\",\"#1616A7\",\"#00A08B\",\"#EB663B\",\"#1616A7\",\"#00A08B\",\"#EB663B\",\"#778AAE\",\"#1616A7\",\"#00A08B\",\"#EB663B\",\"#1616A7\",\"#00A08B\",\"#EB663B\",\"#00A08B\",\"#EB663B\",\"#778AAE\",\"#1616A7\",\"#00A08B\",\"#EB663B\",\"#1616A7\",\"#00A08B\",\"#EB663B\",\"#778AAE\",\"#1616A7\",\"#00A08B\",\"#EB663B\",\"#1616A7\",\"#00A08B\",\"#EB663B\",\"#00A08B\",\"#EB663B\",\"#778AAE\",\"#1616A7\",\"#00A08B\",\"#EB663B\",\"#1616A7\",\"#00A08B\",\"#EB663B\",\"#778AAE\",\"#1616A7\",\"#00A08B\",\"#EB663B\",\"#1616A7\",\"#00A08B\",\"#EB663B\",\"#00A08B\",\"#EB663B\",\"#778AAE\",\"#1616A7\",\"#00A08B\",\"#EB663B\",\"#1616A7\",\"#00A08B\",\"#EB663B\",\"#778AAE\",\"#1616A7\",\"#DA60CA\",\"#778AAE\",\"#2E91E5\",\"#222A2A\"],\"colorscale\":[[0.0,\"rgb(0,0,255)\"],[1.0,\"rgb(255,0,0)\"]],\"size\":[6.0,11.250279597842884,6.0,6.0,6.0,12.91881573172255,6.0,6.0,12.91881573172255,6.0,6.0,6.0,12.91881573172255,6.0,6.0,12.91881573172255,6.0,6.0,6.0,13.765679776435459,6.846864044712908,6.0,14.612543821148368,6.846864044712908,11.08118426827745,6.846864044712908,6.0,6.0,14.612543821148368,6.846864044712908,6.0,14.612543821148368,6.846864044712908,6.0,6.0,15.459407865861275,7.693728089425816,6.0,16.306271910574182,7.693728089425816,12.774912357703267,7.693728089425816,6.0,6.0,16.306271910574182,7.693728089425816,6.0,16.306271910574182,7.693728089425816,6.0,6.0,17.15313595528709,8.540592134138725,6.0,18.0,8.540592134138725,14.468640447129083,8.540592134138725,6.0,6.0,18.0,8.540592134138725,6.0,18.0,8.540592134138725,6.0,6.0,6.0,6.0,16.13577641297401,6.0]},\"mode\":\"markers\",\"showlegend\":false,\"x\":[0.0,0.0,0.0,0.0,0.0,0.0,0.0,0.0,0.0,0.0,0.0,0.0,0.0,0.0,0.0,0.0,0.0,0.0,0.0,0.0,0.0,0.0,0.0,0.0,1.0,1.0,0.0,0.0,0.0,0.0,0.0,0.0,0.0,0.0,0.0,0.0,0.0,0.0,0.0,0.0,1.0,1.0,0.0,0.0,0.0,0.0,0.0,0.0,0.0,0.0,0.0,0.0,0.0,0.0,0.0,0.0,1.0,1.0,0.0,0.0,0.0,0.0,0.0,0.0,0.0,0.0,0.0,0.0,0.0,0.0,0.0],\"y\":[0,1,1.15,1.3,1.45,2,2.15,2.3,3,3.15,4,4.15,5,5.15,5.3,6,6.15,7,7.15,8,8.15,8.3,9,9.15,9,9.15,10,10.15,11,11.15,11.3,12,12.15,13,13.15,14,14.15,14.3,15,15.15,15,15.15,16,16.15,17,17.15,17.3,18,18.15,19,19.15,20,20.15,20.3,21,21.15,21,21.15,22,22.15,23,23.15,23.3,24,24.15,25,25.15,25.3,25.45,26,27],\"type\":\"scatter\",\"xaxis\":\"x\",\"yaxis\":\"y\"},{\"line\":{\"color\":\"gray\",\"width\":1},\"mode\":\"lines\",\"showlegend\":false,\"x\":[0.0,0.0,null,0.0,0.0,null,0.0,0.0,null,0.0,0.0,null,0.0,0.0,null,0.0,0.0,null,0.0,0.0,null,0.0,0.0,null,0.0,0.0,null,0.0,0.0,null,0.0,0.4,0.4,0.0,null,0.0,0.0,null,0.0,0.0,null,0.0,0.0,null,0.0,0.0,null,0.0,0.0,null,0.0,0.0,null,0.0,0.0,null,0.0,0.4,0.4,0.0,null,0.0,0.0,null,0.0,0.0,null,0.0,0.0,null,0.0,0.0,null,0.0,0.0,null,0.0,0.0,null,0.0,1.0,null,1.0,1.0,null,0.0,0.0,null,1.0,0.0,null,0.0,0.0,null,0.0,0.0,null,0.0,0.0,null,0.0,0.0,null,0.0,0.0,null,0.0,0.0,null,0.0,0.0,null,0.0,0.4,0.4,0.0,null,0.0,0.0,null,0.0,0.0,null,0.0,0.0,null,0.0,0.0,null,0.0,0.0,null,0.0,0.0,null,0.0,1.0,null,1.0,1.0,null,0.0,0.0,null,1.0,0.0,null,0.0,0.0,null,0.0,0.0,null,0.0,0.0,null,0.0,0.0,null,0.0,0.0,null,0.0,0.0,null,0.0,0.0,null,0.0,0.4,0.4,0.0,null,0.0,0.0,null,0.0,0.0,null,0.0,0.0,null,0.0,0.0,null,0.0,0.0,null,0.0,0.0,null,0.0,1.0,null,1.0,1.0,null,0.0,0.0,null,1.0,0.0,null,0.0,0.0,null,0.0,0.0,null,0.0,0.0,null,0.0,0.0,null,0.0,0.0,null,0.0,0.0,null,0.0,0.0,null,0.0,0.4,0.4,0.0,null,0.0,0.0,null,0.0,0.0,null,0.0,0.0,null,0.0,0.0,null,0.0,0.0],\"y\":[0,1,null,1,1.15,null,1.15,1.3,null,1.3,1.45,null,1.45,2,null,2,2.15,null,2.15,2.3,null,2.3,3,null,3,3.15,null,3.15,4,null,1.45,1.85,3.6,4,null,4,4.15,null,4.15,5,null,5,5.15,null,5.15,5.3,null,5.3,6,null,6,6.15,null,6.15,7,null,4.15,4.550000000000001,6.6,7,null,7,7.15,null,7.15,8,null,8,8.15,null,8.15,8.3,null,8.3,9,null,9,9.15,null,7.15,9,null,9,9.15,null,9.15,10,null,9.15,10,null,10,10.15,null,10.15,11,null,11,11.15,null,11.15,11.3,null,11.3,12,null,12,12.15,null,12.15,13,null,10.15,10.55,12.6,13,null,13,13.15,null,13.15,14,null,14,14.15,null,14.15,14.3,null,14.3,15,null,15,15.15,null,13.15,15,null,15,15.15,null,15.15,16,null,15.15,16,null,16,16.15,null,16.15,17,null,17,17.15,null,17.15,17.3,null,17.3,18,null,18,18.15,null,18.15,19,null,16.15,16.549999999999997,18.6,19,null,19,19.15,null,19.15,20,null,20,20.15,null,20.15,20.3,null,20.3,21,null,21,21.15,null,19.15,21,null,21,21.15,null,21.15,22,null,21.15,22,null,22,22.15,null,22.15,23,null,23,23.15,null,23.15,23.3,null,23.3,24,null,24,24.15,null,24.15,25,null,22.15,22.549999999999997,24.6,25,null,25,25.15,null,25.15,25.3,null,25.3,25.45,null,25.45,26,null,26,27],\"type\":\"scatter\",\"xaxis\":\"x\",\"yaxis\":\"y\"},{\"cells\":{\"align\":\"left\",\"values\":[[\"x\",\"conv1\",\"bn1\",\"relu\",\"maxpool\",\"layer1_0_conv1\",\"layer1_0_bn1\",\"layer1_0_relu\",\"layer1_0_conv2\",\"layer1_0_bn2\",\"add\",\"layer1_0_relu_1\",\"layer1_1_conv1\",\"layer1_1_bn1\",\"layer1_1_relu\",\"layer1_1_conv2\",\"layer1_1_bn2\",\"add_1\",\"layer1_1_relu_1\",\"layer2_0_conv1\",\"layer2_0_bn1\",\"layer2_0_relu\",\"layer2_0_conv2\",\"layer2_0_bn2\",\"layer2_0_downsample_0\",\"layer2_0_downsample_1\",\"add_2\",\"layer2_0_relu_1\",\"layer2_1_conv1\",\"layer2_1_bn1\",\"layer2_1_relu\",\"layer2_1_conv2\",\"layer2_1_bn2\",\"add_3\",\"layer2_1_relu_1\",\"layer3_0_conv1\",\"layer3_0_bn1\",\"layer3_0_relu\",\"layer3_0_conv2\",\"layer3_0_bn2\",\"layer3_0_downsample_0\",\"layer3_0_downsample_1\",\"add_4\",\"layer3_0_relu_1\",\"layer3_1_conv1\",\"layer3_1_bn1\",\"layer3_1_relu\",\"layer3_1_conv2\",\"layer3_1_bn2\",\"add_5\",\"layer3_1_relu_1\",\"layer4_0_conv1\",\"layer4_0_bn1\",\"layer4_0_relu\",\"layer4_0_conv2\",\"layer4_0_bn2\",\"layer4_0_downsample_0\",\"layer4_0_downsample_1\",\"add_6\",\"layer4_0_relu_1\",\"layer4_1_conv1\",\"layer4_1_bn1\",\"layer4_1_relu\",\"layer4_1_conv2\",\"layer4_1_bn2\",\"add_7\",\"layer4_1_relu_1\",\"avgpool\",\"flatten\",\"fc\",\"output\"],[\"input\",\"nn.Conv2d\",\"nn.BatchNorm2d\",\"nn.ReLU\",\"nn.MaxPool2d\",\"nn.Conv2d\",\"nn.BatchNorm2d\",\"nn.ReLU\",\"nn.Conv2d\",\"nn.BatchNorm2d\",\"add()\",\"nn.ReLU\",\"nn.Conv2d\",\"nn.BatchNorm2d\",\"nn.ReLU\",\"nn.Conv2d\",\"nn.BatchNorm2d\",\"add()\",\"nn.ReLU\",\"nn.Conv2d\",\"nn.BatchNorm2d\",\"nn.ReLU\",\"nn.Conv2d\",\"nn.BatchNorm2d\",\"nn.Conv2d\",\"nn.BatchNorm2d\",\"add()\",\"nn.ReLU\",\"nn.Conv2d\",\"nn.BatchNorm2d\",\"nn.ReLU\",\"nn.Conv2d\",\"nn.BatchNorm2d\",\"add()\",\"nn.ReLU\",\"nn.Conv2d\",\"nn.BatchNorm2d\",\"nn.ReLU\",\"nn.Conv2d\",\"nn.BatchNorm2d\",\"nn.Conv2d\",\"nn.BatchNorm2d\",\"add()\",\"nn.ReLU\",\"nn.Conv2d\",\"nn.BatchNorm2d\",\"nn.ReLU\",\"nn.Conv2d\",\"nn.BatchNorm2d\",\"add()\",\"nn.ReLU\",\"nn.Conv2d\",\"nn.BatchNorm2d\",\"nn.ReLU\",\"nn.Conv2d\",\"nn.BatchNorm2d\",\"nn.Conv2d\",\"nn.BatchNorm2d\",\"add()\",\"nn.ReLU\",\"nn.Conv2d\",\"nn.BatchNorm2d\",\"nn.ReLU\",\"nn.Conv2d\",\"nn.BatchNorm2d\",\"add()\",\"nn.ReLU\",\"nn.AdaptiveAvgPool2d\",\"flatten()\",\"nn.Linear\",\"output\"],[[16,3,160,160],[16,64,80,80],[16,64,80,80],[16,64,80,80],[16,64,40,40],[16,64,40,40],[16,64,40,40],[16,64,40,40],[16,64,40,40],[16,64,40,40],[16,64,40,40],[16,64,40,40],[16,64,40,40],[16,64,40,40],[16,64,40,40],[16,64,40,40],[16,64,40,40],[16,64,40,40],[16,64,40,40],[16,128,20,20],[16,128,20,20],[16,128,20,20],[16,128,20,20],[16,128,20,20],[16,128,20,20],[16,128,20,20],[16,128,20,20],[16,128,20,20],[16,128,20,20],[16,128,20,20],[16,128,20,20],[16,128,20,20],[16,128,20,20],[16,128,20,20],[16,128,20,20],[16,256,10,10],[16,256,10,10],[16,256,10,10],[16,256,10,10],[16,256,10,10],[16,256,10,10],[16,256,10,10],[16,256,10,10],[16,256,10,10],[16,256,10,10],[16,256,10,10],[16,256,10,10],[16,256,10,10],[16,256,10,10],[16,256,10,10],[16,256,10,10],[16,512,5,5],[16,512,5,5],[16,512,5,5],[16,512,5,5],[16,512,5,5],[16,512,5,5],[16,512,5,5],[16,512,5,5],[16,512,5,5],[16,512,5,5],[16,512,5,5],[16,512,5,5],[16,512,5,5],[16,512,5,5],[16,512,5,5],[16,512,5,5],[16,512,1,1],[16,512],[16,1000],[16,1000]],[0,9408,128,0,0,36864,128,0,36864,128,0,0,36864,128,0,36864,128,0,0,73728,256,0,147456,256,8192,256,0,0,147456,256,0,147456,256,0,0,294912,512,0,589824,512,32768,512,0,0,589824,512,0,589824,512,0,0,1179648,1024,0,2359296,1024,131072,1024,0,0,2359296,1024,0,2359296,1024,0,0,0,0,513000,0],[0,1926758400,13107200,0,0,1887436800,3276800,0,1887436800,3276800,0,0,1887436800,3276800,0,1887436800,3276800,0,0,943718400,1638400,0,1887436800,1638400,104857600,1638400,0,0,1887436800,1638400,0,1887436800,1638400,0,0,943718400,819200,0,1887436800,819200,104857600,819200,0,0,1887436800,819200,0,1887436800,819200,0,0,943718400,409600,0,1887436800,409600,104857600,409600,0,0,1887436800,409600,0,1887436800,409600,0,0,16384,0,16384000,0]]},\"header\":{\"align\":\"left\",\"font\":{\"size\":10},\"values\":[\"Name\",\"Operation\",\"Activations\",\"Params\",\"FLOPS\"]},\"type\":\"table\",\"domain\":{\"x\":[0.26363636363636367,1.0],\"y\":[0.0,1.0]}}],                        {\"template\":{\"data\":{\"histogram2dcontour\":[{\"type\":\"histogram2dcontour\",\"colorbar\":{\"outlinewidth\":0,\"ticks\":\"\"},\"colorscale\":[[0.0,\"#0d0887\"],[0.1111111111111111,\"#46039f\"],[0.2222222222222222,\"#7201a8\"],[0.3333333333333333,\"#9c179e\"],[0.4444444444444444,\"#bd3786\"],[0.5555555555555556,\"#d8576b\"],[0.6666666666666666,\"#ed7953\"],[0.7777777777777778,\"#fb9f3a\"],[0.8888888888888888,\"#fdca26\"],[1.0,\"#f0f921\"]]}],\"choropleth\":[{\"type\":\"choropleth\",\"colorbar\":{\"outlinewidth\":0,\"ticks\":\"\"}}],\"histogram2d\":[{\"type\":\"histogram2d\",\"colorbar\":{\"outlinewidth\":0,\"ticks\":\"\"},\"colorscale\":[[0.0,\"#0d0887\"],[0.1111111111111111,\"#46039f\"],[0.2222222222222222,\"#7201a8\"],[0.3333333333333333,\"#9c179e\"],[0.4444444444444444,\"#bd3786\"],[0.5555555555555556,\"#d8576b\"],[0.6666666666666666,\"#ed7953\"],[0.7777777777777778,\"#fb9f3a\"],[0.8888888888888888,\"#fdca26\"],[1.0,\"#f0f921\"]]}],\"heatmap\":[{\"type\":\"heatmap\",\"colorbar\":{\"outlinewidth\":0,\"ticks\":\"\"},\"colorscale\":[[0.0,\"#0d0887\"],[0.1111111111111111,\"#46039f\"],[0.2222222222222222,\"#7201a8\"],[0.3333333333333333,\"#9c179e\"],[0.4444444444444444,\"#bd3786\"],[0.5555555555555556,\"#d8576b\"],[0.6666666666666666,\"#ed7953\"],[0.7777777777777778,\"#fb9f3a\"],[0.8888888888888888,\"#fdca26\"],[1.0,\"#f0f921\"]]}],\"heatmapgl\":[{\"type\":\"heatmapgl\",\"colorbar\":{\"outlinewidth\":0,\"ticks\":\"\"},\"colorscale\":[[0.0,\"#0d0887\"],[0.1111111111111111,\"#46039f\"],[0.2222222222222222,\"#7201a8\"],[0.3333333333333333,\"#9c179e\"],[0.4444444444444444,\"#bd3786\"],[0.5555555555555556,\"#d8576b\"],[0.6666666666666666,\"#ed7953\"],[0.7777777777777778,\"#fb9f3a\"],[0.8888888888888888,\"#fdca26\"],[1.0,\"#f0f921\"]]}],\"contourcarpet\":[{\"type\":\"contourcarpet\",\"colorbar\":{\"outlinewidth\":0,\"ticks\":\"\"}}],\"contour\":[{\"type\":\"contour\",\"colorbar\":{\"outlinewidth\":0,\"ticks\":\"\"},\"colorscale\":[[0.0,\"#0d0887\"],[0.1111111111111111,\"#46039f\"],[0.2222222222222222,\"#7201a8\"],[0.3333333333333333,\"#9c179e\"],[0.4444444444444444,\"#bd3786\"],[0.5555555555555556,\"#d8576b\"],[0.6666666666666666,\"#ed7953\"],[0.7777777777777778,\"#fb9f3a\"],[0.8888888888888888,\"#fdca26\"],[1.0,\"#f0f921\"]]}],\"surface\":[{\"type\":\"surface\",\"colorbar\":{\"outlinewidth\":0,\"ticks\":\"\"},\"colorscale\":[[0.0,\"#0d0887\"],[0.1111111111111111,\"#46039f\"],[0.2222222222222222,\"#7201a8\"],[0.3333333333333333,\"#9c179e\"],[0.4444444444444444,\"#bd3786\"],[0.5555555555555556,\"#d8576b\"],[0.6666666666666666,\"#ed7953\"],[0.7777777777777778,\"#fb9f3a\"],[0.8888888888888888,\"#fdca26\"],[1.0,\"#f0f921\"]]}],\"mesh3d\":[{\"type\":\"mesh3d\",\"colorbar\":{\"outlinewidth\":0,\"ticks\":\"\"}}],\"scatter\":[{\"fillpattern\":{\"fillmode\":\"overlay\",\"size\":10,\"solidity\":0.2},\"type\":\"scatter\"}],\"parcoords\":[{\"type\":\"parcoords\",\"line\":{\"colorbar\":{\"outlinewidth\":0,\"ticks\":\"\"}}}],\"scatterpolargl\":[{\"type\":\"scatterpolargl\",\"marker\":{\"colorbar\":{\"outlinewidth\":0,\"ticks\":\"\"}}}],\"bar\":[{\"error_x\":{\"color\":\"#2a3f5f\"},\"error_y\":{\"color\":\"#2a3f5f\"},\"marker\":{\"line\":{\"color\":\"#E5ECF6\",\"width\":0.5},\"pattern\":{\"fillmode\":\"overlay\",\"size\":10,\"solidity\":0.2}},\"type\":\"bar\"}],\"scattergeo\":[{\"type\":\"scattergeo\",\"marker\":{\"colorbar\":{\"outlinewidth\":0,\"ticks\":\"\"}}}],\"scatterpolar\":[{\"type\":\"scatterpolar\",\"marker\":{\"colorbar\":{\"outlinewidth\":0,\"ticks\":\"\"}}}],\"histogram\":[{\"marker\":{\"pattern\":{\"fillmode\":\"overlay\",\"size\":10,\"solidity\":0.2}},\"type\":\"histogram\"}],\"scattergl\":[{\"type\":\"scattergl\",\"marker\":{\"colorbar\":{\"outlinewidth\":0,\"ticks\":\"\"}}}],\"scatter3d\":[{\"type\":\"scatter3d\",\"line\":{\"colorbar\":{\"outlinewidth\":0,\"ticks\":\"\"}},\"marker\":{\"colorbar\":{\"outlinewidth\":0,\"ticks\":\"\"}}}],\"scattermapbox\":[{\"type\":\"scattermapbox\",\"marker\":{\"colorbar\":{\"outlinewidth\":0,\"ticks\":\"\"}}}],\"scatterternary\":[{\"type\":\"scatterternary\",\"marker\":{\"colorbar\":{\"outlinewidth\":0,\"ticks\":\"\"}}}],\"scattercarpet\":[{\"type\":\"scattercarpet\",\"marker\":{\"colorbar\":{\"outlinewidth\":0,\"ticks\":\"\"}}}],\"carpet\":[{\"aaxis\":{\"endlinecolor\":\"#2a3f5f\",\"gridcolor\":\"white\",\"linecolor\":\"white\",\"minorgridcolor\":\"white\",\"startlinecolor\":\"#2a3f5f\"},\"baxis\":{\"endlinecolor\":\"#2a3f5f\",\"gridcolor\":\"white\",\"linecolor\":\"white\",\"minorgridcolor\":\"white\",\"startlinecolor\":\"#2a3f5f\"},\"type\":\"carpet\"}],\"table\":[{\"cells\":{\"fill\":{\"color\":\"#EBF0F8\"},\"line\":{\"color\":\"white\"}},\"header\":{\"fill\":{\"color\":\"#C8D4E3\"},\"line\":{\"color\":\"white\"}},\"type\":\"table\"}],\"barpolar\":[{\"marker\":{\"line\":{\"color\":\"#E5ECF6\",\"width\":0.5},\"pattern\":{\"fillmode\":\"overlay\",\"size\":10,\"solidity\":0.2}},\"type\":\"barpolar\"}],\"pie\":[{\"automargin\":true,\"type\":\"pie\"}]},\"layout\":{\"autotypenumbers\":\"strict\",\"colorway\":[\"#636efa\",\"#EF553B\",\"#00cc96\",\"#ab63fa\",\"#FFA15A\",\"#19d3f3\",\"#FF6692\",\"#B6E880\",\"#FF97FF\",\"#FECB52\"],\"font\":{\"color\":\"#2a3f5f\"},\"hovermode\":\"closest\",\"hoverlabel\":{\"align\":\"left\"},\"paper_bgcolor\":\"white\",\"plot_bgcolor\":\"#E5ECF6\",\"polar\":{\"bgcolor\":\"#E5ECF6\",\"angularaxis\":{\"gridcolor\":\"white\",\"linecolor\":\"white\",\"ticks\":\"\"},\"radialaxis\":{\"gridcolor\":\"white\",\"linecolor\":\"white\",\"ticks\":\"\"}},\"ternary\":{\"bgcolor\":\"#E5ECF6\",\"aaxis\":{\"gridcolor\":\"white\",\"linecolor\":\"white\",\"ticks\":\"\"},\"baxis\":{\"gridcolor\":\"white\",\"linecolor\":\"white\",\"ticks\":\"\"},\"caxis\":{\"gridcolor\":\"white\",\"linecolor\":\"white\",\"ticks\":\"\"}},\"coloraxis\":{\"colorbar\":{\"outlinewidth\":0,\"ticks\":\"\"}},\"colorscale\":{\"sequential\":[[0.0,\"#0d0887\"],[0.1111111111111111,\"#46039f\"],[0.2222222222222222,\"#7201a8\"],[0.3333333333333333,\"#9c179e\"],[0.4444444444444444,\"#bd3786\"],[0.5555555555555556,\"#d8576b\"],[0.6666666666666666,\"#ed7953\"],[0.7777777777777778,\"#fb9f3a\"],[0.8888888888888888,\"#fdca26\"],[1.0,\"#f0f921\"]],\"sequentialminus\":[[0.0,\"#0d0887\"],[0.1111111111111111,\"#46039f\"],[0.2222222222222222,\"#7201a8\"],[0.3333333333333333,\"#9c179e\"],[0.4444444444444444,\"#bd3786\"],[0.5555555555555556,\"#d8576b\"],[0.6666666666666666,\"#ed7953\"],[0.7777777777777778,\"#fb9f3a\"],[0.8888888888888888,\"#fdca26\"],[1.0,\"#f0f921\"]],\"diverging\":[[0,\"#8e0152\"],[0.1,\"#c51b7d\"],[0.2,\"#de77ae\"],[0.3,\"#f1b6da\"],[0.4,\"#fde0ef\"],[0.5,\"#f7f7f7\"],[0.6,\"#e6f5d0\"],[0.7,\"#b8e186\"],[0.8,\"#7fbc41\"],[0.9,\"#4d9221\"],[1,\"#276419\"]]},\"xaxis\":{\"gridcolor\":\"white\",\"linecolor\":\"white\",\"ticks\":\"\",\"title\":{\"standoff\":15},\"zerolinecolor\":\"white\",\"automargin\":true,\"zerolinewidth\":2},\"yaxis\":{\"gridcolor\":\"white\",\"linecolor\":\"white\",\"ticks\":\"\",\"title\":{\"standoff\":15},\"zerolinecolor\":\"white\",\"automargin\":true,\"zerolinewidth\":2},\"scene\":{\"xaxis\":{\"backgroundcolor\":\"#E5ECF6\",\"gridcolor\":\"white\",\"linecolor\":\"white\",\"showbackground\":true,\"ticks\":\"\",\"zerolinecolor\":\"white\",\"gridwidth\":2},\"yaxis\":{\"backgroundcolor\":\"#E5ECF6\",\"gridcolor\":\"white\",\"linecolor\":\"white\",\"showbackground\":true,\"ticks\":\"\",\"zerolinecolor\":\"white\",\"gridwidth\":2},\"zaxis\":{\"backgroundcolor\":\"#E5ECF6\",\"gridcolor\":\"white\",\"linecolor\":\"white\",\"showbackground\":true,\"ticks\":\"\",\"zerolinecolor\":\"white\",\"gridwidth\":2}},\"shapedefaults\":{\"line\":{\"color\":\"#2a3f5f\"}},\"annotationdefaults\":{\"arrowcolor\":\"#2a3f5f\",\"arrowhead\":0,\"arrowwidth\":1},\"geo\":{\"bgcolor\":\"white\",\"landcolor\":\"#E5ECF6\",\"subunitcolor\":\"white\",\"showland\":true,\"showlakes\":true,\"lakecolor\":\"white\"},\"title\":{\"x\":0.05},\"mapbox\":{\"style\":\"light\"}}},\"xaxis\":{\"anchor\":\"y\",\"domain\":[0.0,0.16363636363636364],\"showgrid\":false,\"zeroline\":false,\"tickmode\":\"array\",\"tickvals\":[]},\"yaxis\":{\"anchor\":\"x\",\"domain\":[0.0,1.0],\"showgrid\":false,\"zeroline\":false,\"tickmode\":\"array\",\"tickvals\":[],\"range\":[9.5,-0.5]},\"sliders\":[{\"active\":0,\"currentvalue\":{\"visible\":false},\"pad\":{\"t\":50},\"steps\":[{\"args\":[{\"yaxis\":{\"range\":[9.5,-0.5],\"showgrid\":false,\"zeroline\":false,\"tickmode\":\"array\",\"tickvals\":[]}}],\"label\":\"\",\"method\":\"relayout\"},{\"args\":[{\"yaxis\":{\"range\":[9.6,-0.4],\"showgrid\":false,\"zeroline\":false,\"tickmode\":\"array\",\"tickvals\":[]}}],\"label\":\"\",\"method\":\"relayout\"},{\"args\":[{\"yaxis\":{\"range\":[9.7,-0.3],\"showgrid\":false,\"zeroline\":false,\"tickmode\":\"array\",\"tickvals\":[]}}],\"label\":\"\",\"method\":\"relayout\"},{\"args\":[{\"yaxis\":{\"range\":[9.8,-0.19999999999999996],\"showgrid\":false,\"zeroline\":false,\"tickmode\":\"array\",\"tickvals\":[]}}],\"label\":\"\",\"method\":\"relayout\"},{\"args\":[{\"yaxis\":{\"range\":[9.9,-0.09999999999999998],\"showgrid\":false,\"zeroline\":false,\"tickmode\":\"array\",\"tickvals\":[]}}],\"label\":\"\",\"method\":\"relayout\"},{\"args\":[{\"yaxis\":{\"range\":[10.0,0.0],\"showgrid\":false,\"zeroline\":false,\"tickmode\":\"array\",\"tickvals\":[]}}],\"label\":\"\",\"method\":\"relayout\"},{\"args\":[{\"yaxis\":{\"range\":[10.1,0.10000000000000009],\"showgrid\":false,\"zeroline\":false,\"tickmode\":\"array\",\"tickvals\":[]}}],\"label\":\"\",\"method\":\"relayout\"},{\"args\":[{\"yaxis\":{\"range\":[10.2,0.20000000000000007],\"showgrid\":false,\"zeroline\":false,\"tickmode\":\"array\",\"tickvals\":[]}}],\"label\":\"\",\"method\":\"relayout\"},{\"args\":[{\"yaxis\":{\"range\":[10.3,0.30000000000000004],\"showgrid\":false,\"zeroline\":false,\"tickmode\":\"array\",\"tickvals\":[]}}],\"label\":\"\",\"method\":\"relayout\"},{\"args\":[{\"yaxis\":{\"range\":[10.4,0.4],\"showgrid\":false,\"zeroline\":false,\"tickmode\":\"array\",\"tickvals\":[]}}],\"label\":\"\",\"method\":\"relayout\"},{\"args\":[{\"yaxis\":{\"range\":[10.5,0.5],\"showgrid\":false,\"zeroline\":false,\"tickmode\":\"array\",\"tickvals\":[]}}],\"label\":\"\",\"method\":\"relayout\"},{\"args\":[{\"yaxis\":{\"range\":[10.6,0.6000000000000001],\"showgrid\":false,\"zeroline\":false,\"tickmode\":\"array\",\"tickvals\":[]}}],\"label\":\"\",\"method\":\"relayout\"},{\"args\":[{\"yaxis\":{\"range\":[10.7,0.7000000000000002],\"showgrid\":false,\"zeroline\":false,\"tickmode\":\"array\",\"tickvals\":[]}}],\"label\":\"\",\"method\":\"relayout\"},{\"args\":[{\"yaxis\":{\"range\":[10.8,0.8],\"showgrid\":false,\"zeroline\":false,\"tickmode\":\"array\",\"tickvals\":[]}}],\"label\":\"\",\"method\":\"relayout\"},{\"args\":[{\"yaxis\":{\"range\":[10.9,0.9000000000000001],\"showgrid\":false,\"zeroline\":false,\"tickmode\":\"array\",\"tickvals\":[]}}],\"label\":\"\",\"method\":\"relayout\"},{\"args\":[{\"yaxis\":{\"range\":[11.0,1.0],\"showgrid\":false,\"zeroline\":false,\"tickmode\":\"array\",\"tickvals\":[]}}],\"label\":\"\",\"method\":\"relayout\"},{\"args\":[{\"yaxis\":{\"range\":[11.1,1.1],\"showgrid\":false,\"zeroline\":false,\"tickmode\":\"array\",\"tickvals\":[]}}],\"label\":\"\",\"method\":\"relayout\"},{\"args\":[{\"yaxis\":{\"range\":[11.2,1.2000000000000002],\"showgrid\":false,\"zeroline\":false,\"tickmode\":\"array\",\"tickvals\":[]}}],\"label\":\"\",\"method\":\"relayout\"},{\"args\":[{\"yaxis\":{\"range\":[11.3,1.3],\"showgrid\":false,\"zeroline\":false,\"tickmode\":\"array\",\"tickvals\":[]}}],\"label\":\"\",\"method\":\"relayout\"},{\"args\":[{\"yaxis\":{\"range\":[11.4,1.4000000000000001],\"showgrid\":false,\"zeroline\":false,\"tickmode\":\"array\",\"tickvals\":[]}}],\"label\":\"\",\"method\":\"relayout\"},{\"args\":[{\"yaxis\":{\"range\":[11.5,1.5],\"showgrid\":false,\"zeroline\":false,\"tickmode\":\"array\",\"tickvals\":[]}}],\"label\":\"\",\"method\":\"relayout\"},{\"args\":[{\"yaxis\":{\"range\":[11.6,1.6],\"showgrid\":false,\"zeroline\":false,\"tickmode\":\"array\",\"tickvals\":[]}}],\"label\":\"\",\"method\":\"relayout\"},{\"args\":[{\"yaxis\":{\"range\":[11.7,1.7000000000000002],\"showgrid\":false,\"zeroline\":false,\"tickmode\":\"array\",\"tickvals\":[]}}],\"label\":\"\",\"method\":\"relayout\"},{\"args\":[{\"yaxis\":{\"range\":[11.8,1.8000000000000003],\"showgrid\":false,\"zeroline\":false,\"tickmode\":\"array\",\"tickvals\":[]}}],\"label\":\"\",\"method\":\"relayout\"},{\"args\":[{\"yaxis\":{\"range\":[11.9,1.9000000000000004],\"showgrid\":false,\"zeroline\":false,\"tickmode\":\"array\",\"tickvals\":[]}}],\"label\":\"\",\"method\":\"relayout\"},{\"args\":[{\"yaxis\":{\"range\":[12.0,2.0],\"showgrid\":false,\"zeroline\":false,\"tickmode\":\"array\",\"tickvals\":[]}}],\"label\":\"\",\"method\":\"relayout\"},{\"args\":[{\"yaxis\":{\"range\":[12.1,2.1],\"showgrid\":false,\"zeroline\":false,\"tickmode\":\"array\",\"tickvals\":[]}}],\"label\":\"\",\"method\":\"relayout\"},{\"args\":[{\"yaxis\":{\"range\":[12.2,2.2],\"showgrid\":false,\"zeroline\":false,\"tickmode\":\"array\",\"tickvals\":[]}}],\"label\":\"\",\"method\":\"relayout\"},{\"args\":[{\"yaxis\":{\"range\":[12.3,2.3000000000000003],\"showgrid\":false,\"zeroline\":false,\"tickmode\":\"array\",\"tickvals\":[]}}],\"label\":\"\",\"method\":\"relayout\"},{\"args\":[{\"yaxis\":{\"range\":[12.4,2.4000000000000004],\"showgrid\":false,\"zeroline\":false,\"tickmode\":\"array\",\"tickvals\":[]}}],\"label\":\"\",\"method\":\"relayout\"},{\"args\":[{\"yaxis\":{\"range\":[12.5,2.5],\"showgrid\":false,\"zeroline\":false,\"tickmode\":\"array\",\"tickvals\":[]}}],\"label\":\"\",\"method\":\"relayout\"},{\"args\":[{\"yaxis\":{\"range\":[12.6,2.6],\"showgrid\":false,\"zeroline\":false,\"tickmode\":\"array\",\"tickvals\":[]}}],\"label\":\"\",\"method\":\"relayout\"},{\"args\":[{\"yaxis\":{\"range\":[12.7,2.7],\"showgrid\":false,\"zeroline\":false,\"tickmode\":\"array\",\"tickvals\":[]}}],\"label\":\"\",\"method\":\"relayout\"},{\"args\":[{\"yaxis\":{\"range\":[12.8,2.8000000000000003],\"showgrid\":false,\"zeroline\":false,\"tickmode\":\"array\",\"tickvals\":[]}}],\"label\":\"\",\"method\":\"relayout\"},{\"args\":[{\"yaxis\":{\"range\":[12.9,2.9000000000000004],\"showgrid\":false,\"zeroline\":false,\"tickmode\":\"array\",\"tickvals\":[]}}],\"label\":\"\",\"method\":\"relayout\"},{\"args\":[{\"yaxis\":{\"range\":[13.0,3.0],\"showgrid\":false,\"zeroline\":false,\"tickmode\":\"array\",\"tickvals\":[]}}],\"label\":\"\",\"method\":\"relayout\"},{\"args\":[{\"yaxis\":{\"range\":[13.1,3.1],\"showgrid\":false,\"zeroline\":false,\"tickmode\":\"array\",\"tickvals\":[]}}],\"label\":\"\",\"method\":\"relayout\"},{\"args\":[{\"yaxis\":{\"range\":[13.2,3.2],\"showgrid\":false,\"zeroline\":false,\"tickmode\":\"array\",\"tickvals\":[]}}],\"label\":\"\",\"method\":\"relayout\"},{\"args\":[{\"yaxis\":{\"range\":[13.3,3.3000000000000003],\"showgrid\":false,\"zeroline\":false,\"tickmode\":\"array\",\"tickvals\":[]}}],\"label\":\"\",\"method\":\"relayout\"},{\"args\":[{\"yaxis\":{\"range\":[13.4,3.4000000000000004],\"showgrid\":false,\"zeroline\":false,\"tickmode\":\"array\",\"tickvals\":[]}}],\"label\":\"\",\"method\":\"relayout\"},{\"args\":[{\"yaxis\":{\"range\":[13.5,3.5],\"showgrid\":false,\"zeroline\":false,\"tickmode\":\"array\",\"tickvals\":[]}}],\"label\":\"\",\"method\":\"relayout\"},{\"args\":[{\"yaxis\":{\"range\":[13.600000000000001,3.6000000000000005],\"showgrid\":false,\"zeroline\":false,\"tickmode\":\"array\",\"tickvals\":[]}}],\"label\":\"\",\"method\":\"relayout\"},{\"args\":[{\"yaxis\":{\"range\":[13.7,3.7],\"showgrid\":false,\"zeroline\":false,\"tickmode\":\"array\",\"tickvals\":[]}}],\"label\":\"\",\"method\":\"relayout\"},{\"args\":[{\"yaxis\":{\"range\":[13.8,3.8],\"showgrid\":false,\"zeroline\":false,\"tickmode\":\"array\",\"tickvals\":[]}}],\"label\":\"\",\"method\":\"relayout\"},{\"args\":[{\"yaxis\":{\"range\":[13.9,3.9000000000000004],\"showgrid\":false,\"zeroline\":false,\"tickmode\":\"array\",\"tickvals\":[]}}],\"label\":\"\",\"method\":\"relayout\"},{\"args\":[{\"yaxis\":{\"range\":[14.0,4.0],\"showgrid\":false,\"zeroline\":false,\"tickmode\":\"array\",\"tickvals\":[]}}],\"label\":\"\",\"method\":\"relayout\"},{\"args\":[{\"yaxis\":{\"range\":[14.100000000000001,4.1000000000000005],\"showgrid\":false,\"zeroline\":false,\"tickmode\":\"array\",\"tickvals\":[]}}],\"label\":\"\",\"method\":\"relayout\"},{\"args\":[{\"yaxis\":{\"range\":[14.2,4.2],\"showgrid\":false,\"zeroline\":false,\"tickmode\":\"array\",\"tickvals\":[]}}],\"label\":\"\",\"method\":\"relayout\"},{\"args\":[{\"yaxis\":{\"range\":[14.3,4.300000000000001],\"showgrid\":false,\"zeroline\":false,\"tickmode\":\"array\",\"tickvals\":[]}}],\"label\":\"\",\"method\":\"relayout\"},{\"args\":[{\"yaxis\":{\"range\":[14.4,4.4],\"showgrid\":false,\"zeroline\":false,\"tickmode\":\"array\",\"tickvals\":[]}}],\"label\":\"\",\"method\":\"relayout\"},{\"args\":[{\"yaxis\":{\"range\":[14.5,4.5],\"showgrid\":false,\"zeroline\":false,\"tickmode\":\"array\",\"tickvals\":[]}}],\"label\":\"\",\"method\":\"relayout\"},{\"args\":[{\"yaxis\":{\"range\":[14.600000000000001,4.6000000000000005],\"showgrid\":false,\"zeroline\":false,\"tickmode\":\"array\",\"tickvals\":[]}}],\"label\":\"\",\"method\":\"relayout\"},{\"args\":[{\"yaxis\":{\"range\":[14.7,4.7],\"showgrid\":false,\"zeroline\":false,\"tickmode\":\"array\",\"tickvals\":[]}}],\"label\":\"\",\"method\":\"relayout\"},{\"args\":[{\"yaxis\":{\"range\":[14.8,4.800000000000001],\"showgrid\":false,\"zeroline\":false,\"tickmode\":\"array\",\"tickvals\":[]}}],\"label\":\"\",\"method\":\"relayout\"},{\"args\":[{\"yaxis\":{\"range\":[14.9,4.9],\"showgrid\":false,\"zeroline\":false,\"tickmode\":\"array\",\"tickvals\":[]}}],\"label\":\"\",\"method\":\"relayout\"},{\"args\":[{\"yaxis\":{\"range\":[15.0,5.0],\"showgrid\":false,\"zeroline\":false,\"tickmode\":\"array\",\"tickvals\":[]}}],\"label\":\"\",\"method\":\"relayout\"},{\"args\":[{\"yaxis\":{\"range\":[15.100000000000001,5.1000000000000005],\"showgrid\":false,\"zeroline\":false,\"tickmode\":\"array\",\"tickvals\":[]}}],\"label\":\"\",\"method\":\"relayout\"},{\"args\":[{\"yaxis\":{\"range\":[15.2,5.2],\"showgrid\":false,\"zeroline\":false,\"tickmode\":\"array\",\"tickvals\":[]}}],\"label\":\"\",\"method\":\"relayout\"},{\"args\":[{\"yaxis\":{\"range\":[15.3,5.300000000000001],\"showgrid\":false,\"zeroline\":false,\"tickmode\":\"array\",\"tickvals\":[]}}],\"label\":\"\",\"method\":\"relayout\"},{\"args\":[{\"yaxis\":{\"range\":[15.4,5.4],\"showgrid\":false,\"zeroline\":false,\"tickmode\":\"array\",\"tickvals\":[]}}],\"label\":\"\",\"method\":\"relayout\"},{\"args\":[{\"yaxis\":{\"range\":[15.5,5.5],\"showgrid\":false,\"zeroline\":false,\"tickmode\":\"array\",\"tickvals\":[]}}],\"label\":\"\",\"method\":\"relayout\"},{\"args\":[{\"yaxis\":{\"range\":[15.600000000000001,5.6000000000000005],\"showgrid\":false,\"zeroline\":false,\"tickmode\":\"array\",\"tickvals\":[]}}],\"label\":\"\",\"method\":\"relayout\"},{\"args\":[{\"yaxis\":{\"range\":[15.7,5.7],\"showgrid\":false,\"zeroline\":false,\"tickmode\":\"array\",\"tickvals\":[]}}],\"label\":\"\",\"method\":\"relayout\"},{\"args\":[{\"yaxis\":{\"range\":[15.8,5.800000000000001],\"showgrid\":false,\"zeroline\":false,\"tickmode\":\"array\",\"tickvals\":[]}}],\"label\":\"\",\"method\":\"relayout\"},{\"args\":[{\"yaxis\":{\"range\":[15.899999999999999,5.9],\"showgrid\":false,\"zeroline\":false,\"tickmode\":\"array\",\"tickvals\":[]}}],\"label\":\"\",\"method\":\"relayout\"},{\"args\":[{\"yaxis\":{\"range\":[16.0,6.0],\"showgrid\":false,\"zeroline\":false,\"tickmode\":\"array\",\"tickvals\":[]}}],\"label\":\"\",\"method\":\"relayout\"},{\"args\":[{\"yaxis\":{\"range\":[16.1,6.1000000000000005],\"showgrid\":false,\"zeroline\":false,\"tickmode\":\"array\",\"tickvals\":[]}}],\"label\":\"\",\"method\":\"relayout\"},{\"args\":[{\"yaxis\":{\"range\":[16.2,6.2],\"showgrid\":false,\"zeroline\":false,\"tickmode\":\"array\",\"tickvals\":[]}}],\"label\":\"\",\"method\":\"relayout\"},{\"args\":[{\"yaxis\":{\"range\":[16.3,6.300000000000001],\"showgrid\":false,\"zeroline\":false,\"tickmode\":\"array\",\"tickvals\":[]}}],\"label\":\"\",\"method\":\"relayout\"},{\"args\":[{\"yaxis\":{\"range\":[16.4,6.4],\"showgrid\":false,\"zeroline\":false,\"tickmode\":\"array\",\"tickvals\":[]}}],\"label\":\"\",\"method\":\"relayout\"},{\"args\":[{\"yaxis\":{\"range\":[16.5,6.5],\"showgrid\":false,\"zeroline\":false,\"tickmode\":\"array\",\"tickvals\":[]}}],\"label\":\"\",\"method\":\"relayout\"},{\"args\":[{\"yaxis\":{\"range\":[16.6,6.6000000000000005],\"showgrid\":false,\"zeroline\":false,\"tickmode\":\"array\",\"tickvals\":[]}}],\"label\":\"\",\"method\":\"relayout\"},{\"args\":[{\"yaxis\":{\"range\":[16.7,6.7],\"showgrid\":false,\"zeroline\":false,\"tickmode\":\"array\",\"tickvals\":[]}}],\"label\":\"\",\"method\":\"relayout\"},{\"args\":[{\"yaxis\":{\"range\":[16.8,6.800000000000001],\"showgrid\":false,\"zeroline\":false,\"tickmode\":\"array\",\"tickvals\":[]}}],\"label\":\"\",\"method\":\"relayout\"},{\"args\":[{\"yaxis\":{\"range\":[16.9,6.9],\"showgrid\":false,\"zeroline\":false,\"tickmode\":\"array\",\"tickvals\":[]}}],\"label\":\"\",\"method\":\"relayout\"},{\"args\":[{\"yaxis\":{\"range\":[17.0,7.0],\"showgrid\":false,\"zeroline\":false,\"tickmode\":\"array\",\"tickvals\":[]}}],\"label\":\"\",\"method\":\"relayout\"},{\"args\":[{\"yaxis\":{\"range\":[17.1,7.1000000000000005],\"showgrid\":false,\"zeroline\":false,\"tickmode\":\"array\",\"tickvals\":[]}}],\"label\":\"\",\"method\":\"relayout\"},{\"args\":[{\"yaxis\":{\"range\":[17.2,7.2],\"showgrid\":false,\"zeroline\":false,\"tickmode\":\"array\",\"tickvals\":[]}}],\"label\":\"\",\"method\":\"relayout\"},{\"args\":[{\"yaxis\":{\"range\":[17.3,7.300000000000001],\"showgrid\":false,\"zeroline\":false,\"tickmode\":\"array\",\"tickvals\":[]}}],\"label\":\"\",\"method\":\"relayout\"},{\"args\":[{\"yaxis\":{\"range\":[17.4,7.4],\"showgrid\":false,\"zeroline\":false,\"tickmode\":\"array\",\"tickvals\":[]}}],\"label\":\"\",\"method\":\"relayout\"},{\"args\":[{\"yaxis\":{\"range\":[17.5,7.5],\"showgrid\":false,\"zeroline\":false,\"tickmode\":\"array\",\"tickvals\":[]}}],\"label\":\"\",\"method\":\"relayout\"},{\"args\":[{\"yaxis\":{\"range\":[17.6,7.6],\"showgrid\":false,\"zeroline\":false,\"tickmode\":\"array\",\"tickvals\":[]}}],\"label\":\"\",\"method\":\"relayout\"},{\"args\":[{\"yaxis\":{\"range\":[17.700000000000003,7.700000000000001],\"showgrid\":false,\"zeroline\":false,\"tickmode\":\"array\",\"tickvals\":[]}}],\"label\":\"\",\"method\":\"relayout\"},{\"args\":[{\"yaxis\":{\"range\":[17.8,7.800000000000001],\"showgrid\":false,\"zeroline\":false,\"tickmode\":\"array\",\"tickvals\":[]}}],\"label\":\"\",\"method\":\"relayout\"},{\"args\":[{\"yaxis\":{\"range\":[17.9,7.9],\"showgrid\":false,\"zeroline\":false,\"tickmode\":\"array\",\"tickvals\":[]}}],\"label\":\"\",\"method\":\"relayout\"},{\"args\":[{\"yaxis\":{\"range\":[18.0,8.0],\"showgrid\":false,\"zeroline\":false,\"tickmode\":\"array\",\"tickvals\":[]}}],\"label\":\"\",\"method\":\"relayout\"},{\"args\":[{\"yaxis\":{\"range\":[18.1,8.1],\"showgrid\":false,\"zeroline\":false,\"tickmode\":\"array\",\"tickvals\":[]}}],\"label\":\"\",\"method\":\"relayout\"},{\"args\":[{\"yaxis\":{\"range\":[18.200000000000003,8.200000000000001],\"showgrid\":false,\"zeroline\":false,\"tickmode\":\"array\",\"tickvals\":[]}}],\"label\":\"\",\"method\":\"relayout\"},{\"args\":[{\"yaxis\":{\"range\":[18.3,8.3],\"showgrid\":false,\"zeroline\":false,\"tickmode\":\"array\",\"tickvals\":[]}}],\"label\":\"\",\"method\":\"relayout\"},{\"args\":[{\"yaxis\":{\"range\":[18.4,8.4],\"showgrid\":false,\"zeroline\":false,\"tickmode\":\"array\",\"tickvals\":[]}}],\"label\":\"\",\"method\":\"relayout\"},{\"args\":[{\"yaxis\":{\"range\":[18.5,8.5],\"showgrid\":false,\"zeroline\":false,\"tickmode\":\"array\",\"tickvals\":[]}}],\"label\":\"\",\"method\":\"relayout\"},{\"args\":[{\"yaxis\":{\"range\":[18.6,8.6],\"showgrid\":false,\"zeroline\":false,\"tickmode\":\"array\",\"tickvals\":[]}}],\"label\":\"\",\"method\":\"relayout\"},{\"args\":[{\"yaxis\":{\"range\":[18.700000000000003,8.700000000000001],\"showgrid\":false,\"zeroline\":false,\"tickmode\":\"array\",\"tickvals\":[]}}],\"label\":\"\",\"method\":\"relayout\"},{\"args\":[{\"yaxis\":{\"range\":[18.8,8.8],\"showgrid\":false,\"zeroline\":false,\"tickmode\":\"array\",\"tickvals\":[]}}],\"label\":\"\",\"method\":\"relayout\"},{\"args\":[{\"yaxis\":{\"range\":[18.9,8.9],\"showgrid\":false,\"zeroline\":false,\"tickmode\":\"array\",\"tickvals\":[]}}],\"label\":\"\",\"method\":\"relayout\"},{\"args\":[{\"yaxis\":{\"range\":[19.0,9.0],\"showgrid\":false,\"zeroline\":false,\"tickmode\":\"array\",\"tickvals\":[]}}],\"label\":\"\",\"method\":\"relayout\"},{\"args\":[{\"yaxis\":{\"range\":[19.1,9.100000000000001],\"showgrid\":false,\"zeroline\":false,\"tickmode\":\"array\",\"tickvals\":[]}}],\"label\":\"\",\"method\":\"relayout\"},{\"args\":[{\"yaxis\":{\"range\":[19.200000000000003,9.200000000000001],\"showgrid\":false,\"zeroline\":false,\"tickmode\":\"array\",\"tickvals\":[]}}],\"label\":\"\",\"method\":\"relayout\"},{\"args\":[{\"yaxis\":{\"range\":[19.3,9.3],\"showgrid\":false,\"zeroline\":false,\"tickmode\":\"array\",\"tickvals\":[]}}],\"label\":\"\",\"method\":\"relayout\"},{\"args\":[{\"yaxis\":{\"range\":[19.4,9.4],\"showgrid\":false,\"zeroline\":false,\"tickmode\":\"array\",\"tickvals\":[]}}],\"label\":\"\",\"method\":\"relayout\"},{\"args\":[{\"yaxis\":{\"range\":[19.5,9.5],\"showgrid\":false,\"zeroline\":false,\"tickmode\":\"array\",\"tickvals\":[]}}],\"label\":\"\",\"method\":\"relayout\"},{\"args\":[{\"yaxis\":{\"range\":[19.6,9.600000000000001],\"showgrid\":false,\"zeroline\":false,\"tickmode\":\"array\",\"tickvals\":[]}}],\"label\":\"\",\"method\":\"relayout\"},{\"args\":[{\"yaxis\":{\"range\":[19.700000000000003,9.700000000000001],\"showgrid\":false,\"zeroline\":false,\"tickmode\":\"array\",\"tickvals\":[]}}],\"label\":\"\",\"method\":\"relayout\"},{\"args\":[{\"yaxis\":{\"range\":[19.8,9.8],\"showgrid\":false,\"zeroline\":false,\"tickmode\":\"array\",\"tickvals\":[]}}],\"label\":\"\",\"method\":\"relayout\"},{\"args\":[{\"yaxis\":{\"range\":[19.9,9.9],\"showgrid\":false,\"zeroline\":false,\"tickmode\":\"array\",\"tickvals\":[]}}],\"label\":\"\",\"method\":\"relayout\"},{\"args\":[{\"yaxis\":{\"range\":[20.0,10.0],\"showgrid\":false,\"zeroline\":false,\"tickmode\":\"array\",\"tickvals\":[]}}],\"label\":\"\",\"method\":\"relayout\"},{\"args\":[{\"yaxis\":{\"range\":[20.1,10.100000000000001],\"showgrid\":false,\"zeroline\":false,\"tickmode\":\"array\",\"tickvals\":[]}}],\"label\":\"\",\"method\":\"relayout\"},{\"args\":[{\"yaxis\":{\"range\":[20.200000000000003,10.200000000000001],\"showgrid\":false,\"zeroline\":false,\"tickmode\":\"array\",\"tickvals\":[]}}],\"label\":\"\",\"method\":\"relayout\"},{\"args\":[{\"yaxis\":{\"range\":[20.3,10.3],\"showgrid\":false,\"zeroline\":false,\"tickmode\":\"array\",\"tickvals\":[]}}],\"label\":\"\",\"method\":\"relayout\"},{\"args\":[{\"yaxis\":{\"range\":[20.4,10.4],\"showgrid\":false,\"zeroline\":false,\"tickmode\":\"array\",\"tickvals\":[]}}],\"label\":\"\",\"method\":\"relayout\"},{\"args\":[{\"yaxis\":{\"range\":[20.5,10.5],\"showgrid\":false,\"zeroline\":false,\"tickmode\":\"array\",\"tickvals\":[]}}],\"label\":\"\",\"method\":\"relayout\"},{\"args\":[{\"yaxis\":{\"range\":[20.6,10.600000000000001],\"showgrid\":false,\"zeroline\":false,\"tickmode\":\"array\",\"tickvals\":[]}}],\"label\":\"\",\"method\":\"relayout\"},{\"args\":[{\"yaxis\":{\"range\":[20.700000000000003,10.700000000000001],\"showgrid\":false,\"zeroline\":false,\"tickmode\":\"array\",\"tickvals\":[]}}],\"label\":\"\",\"method\":\"relayout\"},{\"args\":[{\"yaxis\":{\"range\":[20.8,10.8],\"showgrid\":false,\"zeroline\":false,\"tickmode\":\"array\",\"tickvals\":[]}}],\"label\":\"\",\"method\":\"relayout\"},{\"args\":[{\"yaxis\":{\"range\":[20.9,10.9],\"showgrid\":false,\"zeroline\":false,\"tickmode\":\"array\",\"tickvals\":[]}}],\"label\":\"\",\"method\":\"relayout\"},{\"args\":[{\"yaxis\":{\"range\":[21.0,11.0],\"showgrid\":false,\"zeroline\":false,\"tickmode\":\"array\",\"tickvals\":[]}}],\"label\":\"\",\"method\":\"relayout\"},{\"args\":[{\"yaxis\":{\"range\":[21.1,11.100000000000001],\"showgrid\":false,\"zeroline\":false,\"tickmode\":\"array\",\"tickvals\":[]}}],\"label\":\"\",\"method\":\"relayout\"},{\"args\":[{\"yaxis\":{\"range\":[21.200000000000003,11.200000000000001],\"showgrid\":false,\"zeroline\":false,\"tickmode\":\"array\",\"tickvals\":[]}}],\"label\":\"\",\"method\":\"relayout\"},{\"args\":[{\"yaxis\":{\"range\":[21.3,11.3],\"showgrid\":false,\"zeroline\":false,\"tickmode\":\"array\",\"tickvals\":[]}}],\"label\":\"\",\"method\":\"relayout\"},{\"args\":[{\"yaxis\":{\"range\":[21.4,11.4],\"showgrid\":false,\"zeroline\":false,\"tickmode\":\"array\",\"tickvals\":[]}}],\"label\":\"\",\"method\":\"relayout\"},{\"args\":[{\"yaxis\":{\"range\":[21.5,11.5],\"showgrid\":false,\"zeroline\":false,\"tickmode\":\"array\",\"tickvals\":[]}}],\"label\":\"\",\"method\":\"relayout\"},{\"args\":[{\"yaxis\":{\"range\":[21.6,11.600000000000001],\"showgrid\":false,\"zeroline\":false,\"tickmode\":\"array\",\"tickvals\":[]}}],\"label\":\"\",\"method\":\"relayout\"},{\"args\":[{\"yaxis\":{\"range\":[21.700000000000003,11.700000000000001],\"showgrid\":false,\"zeroline\":false,\"tickmode\":\"array\",\"tickvals\":[]}}],\"label\":\"\",\"method\":\"relayout\"},{\"args\":[{\"yaxis\":{\"range\":[21.8,11.8],\"showgrid\":false,\"zeroline\":false,\"tickmode\":\"array\",\"tickvals\":[]}}],\"label\":\"\",\"method\":\"relayout\"},{\"args\":[{\"yaxis\":{\"range\":[21.9,11.9],\"showgrid\":false,\"zeroline\":false,\"tickmode\":\"array\",\"tickvals\":[]}}],\"label\":\"\",\"method\":\"relayout\"},{\"args\":[{\"yaxis\":{\"range\":[22.0,12.0],\"showgrid\":false,\"zeroline\":false,\"tickmode\":\"array\",\"tickvals\":[]}}],\"label\":\"\",\"method\":\"relayout\"},{\"args\":[{\"yaxis\":{\"range\":[22.1,12.100000000000001],\"showgrid\":false,\"zeroline\":false,\"tickmode\":\"array\",\"tickvals\":[]}}],\"label\":\"\",\"method\":\"relayout\"},{\"args\":[{\"yaxis\":{\"range\":[22.200000000000003,12.200000000000001],\"showgrid\":false,\"zeroline\":false,\"tickmode\":\"array\",\"tickvals\":[]}}],\"label\":\"\",\"method\":\"relayout\"},{\"args\":[{\"yaxis\":{\"range\":[22.3,12.3],\"showgrid\":false,\"zeroline\":false,\"tickmode\":\"array\",\"tickvals\":[]}}],\"label\":\"\",\"method\":\"relayout\"},{\"args\":[{\"yaxis\":{\"range\":[22.4,12.4],\"showgrid\":false,\"zeroline\":false,\"tickmode\":\"array\",\"tickvals\":[]}}],\"label\":\"\",\"method\":\"relayout\"},{\"args\":[{\"yaxis\":{\"range\":[22.5,12.5],\"showgrid\":false,\"zeroline\":false,\"tickmode\":\"array\",\"tickvals\":[]}}],\"label\":\"\",\"method\":\"relayout\"},{\"args\":[{\"yaxis\":{\"range\":[22.6,12.600000000000001],\"showgrid\":false,\"zeroline\":false,\"tickmode\":\"array\",\"tickvals\":[]}}],\"label\":\"\",\"method\":\"relayout\"},{\"args\":[{\"yaxis\":{\"range\":[22.700000000000003,12.700000000000001],\"showgrid\":false,\"zeroline\":false,\"tickmode\":\"array\",\"tickvals\":[]}}],\"label\":\"\",\"method\":\"relayout\"},{\"args\":[{\"yaxis\":{\"range\":[22.8,12.8],\"showgrid\":false,\"zeroline\":false,\"tickmode\":\"array\",\"tickvals\":[]}}],\"label\":\"\",\"method\":\"relayout\"},{\"args\":[{\"yaxis\":{\"range\":[22.9,12.9],\"showgrid\":false,\"zeroline\":false,\"tickmode\":\"array\",\"tickvals\":[]}}],\"label\":\"\",\"method\":\"relayout\"},{\"args\":[{\"yaxis\":{\"range\":[23.0,13.0],\"showgrid\":false,\"zeroline\":false,\"tickmode\":\"array\",\"tickvals\":[]}}],\"label\":\"\",\"method\":\"relayout\"},{\"args\":[{\"yaxis\":{\"range\":[23.1,13.100000000000001],\"showgrid\":false,\"zeroline\":false,\"tickmode\":\"array\",\"tickvals\":[]}}],\"label\":\"\",\"method\":\"relayout\"},{\"args\":[{\"yaxis\":{\"range\":[23.200000000000003,13.200000000000001],\"showgrid\":false,\"zeroline\":false,\"tickmode\":\"array\",\"tickvals\":[]}}],\"label\":\"\",\"method\":\"relayout\"},{\"args\":[{\"yaxis\":{\"range\":[23.3,13.3],\"showgrid\":false,\"zeroline\":false,\"tickmode\":\"array\",\"tickvals\":[]}}],\"label\":\"\",\"method\":\"relayout\"},{\"args\":[{\"yaxis\":{\"range\":[23.4,13.4],\"showgrid\":false,\"zeroline\":false,\"tickmode\":\"array\",\"tickvals\":[]}}],\"label\":\"\",\"method\":\"relayout\"},{\"args\":[{\"yaxis\":{\"range\":[23.5,13.5],\"showgrid\":false,\"zeroline\":false,\"tickmode\":\"array\",\"tickvals\":[]}}],\"label\":\"\",\"method\":\"relayout\"},{\"args\":[{\"yaxis\":{\"range\":[23.6,13.600000000000001],\"showgrid\":false,\"zeroline\":false,\"tickmode\":\"array\",\"tickvals\":[]}}],\"label\":\"\",\"method\":\"relayout\"},{\"args\":[{\"yaxis\":{\"range\":[23.700000000000003,13.700000000000001],\"showgrid\":false,\"zeroline\":false,\"tickmode\":\"array\",\"tickvals\":[]}}],\"label\":\"\",\"method\":\"relayout\"},{\"args\":[{\"yaxis\":{\"range\":[23.8,13.8],\"showgrid\":false,\"zeroline\":false,\"tickmode\":\"array\",\"tickvals\":[]}}],\"label\":\"\",\"method\":\"relayout\"},{\"args\":[{\"yaxis\":{\"range\":[23.9,13.9],\"showgrid\":false,\"zeroline\":false,\"tickmode\":\"array\",\"tickvals\":[]}}],\"label\":\"\",\"method\":\"relayout\"},{\"args\":[{\"yaxis\":{\"range\":[24.0,14.0],\"showgrid\":false,\"zeroline\":false,\"tickmode\":\"array\",\"tickvals\":[]}}],\"label\":\"\",\"method\":\"relayout\"},{\"args\":[{\"yaxis\":{\"range\":[24.1,14.100000000000001],\"showgrid\":false,\"zeroline\":false,\"tickmode\":\"array\",\"tickvals\":[]}}],\"label\":\"\",\"method\":\"relayout\"},{\"args\":[{\"yaxis\":{\"range\":[24.200000000000003,14.200000000000001],\"showgrid\":false,\"zeroline\":false,\"tickmode\":\"array\",\"tickvals\":[]}}],\"label\":\"\",\"method\":\"relayout\"},{\"args\":[{\"yaxis\":{\"range\":[24.3,14.3],\"showgrid\":false,\"zeroline\":false,\"tickmode\":\"array\",\"tickvals\":[]}}],\"label\":\"\",\"method\":\"relayout\"},{\"args\":[{\"yaxis\":{\"range\":[24.4,14.4],\"showgrid\":false,\"zeroline\":false,\"tickmode\":\"array\",\"tickvals\":[]}}],\"label\":\"\",\"method\":\"relayout\"},{\"args\":[{\"yaxis\":{\"range\":[24.5,14.5],\"showgrid\":false,\"zeroline\":false,\"tickmode\":\"array\",\"tickvals\":[]}}],\"label\":\"\",\"method\":\"relayout\"},{\"args\":[{\"yaxis\":{\"range\":[24.6,14.600000000000001],\"showgrid\":false,\"zeroline\":false,\"tickmode\":\"array\",\"tickvals\":[]}}],\"label\":\"\",\"method\":\"relayout\"},{\"args\":[{\"yaxis\":{\"range\":[24.700000000000003,14.700000000000001],\"showgrid\":false,\"zeroline\":false,\"tickmode\":\"array\",\"tickvals\":[]}}],\"label\":\"\",\"method\":\"relayout\"},{\"args\":[{\"yaxis\":{\"range\":[24.8,14.8],\"showgrid\":false,\"zeroline\":false,\"tickmode\":\"array\",\"tickvals\":[]}}],\"label\":\"\",\"method\":\"relayout\"},{\"args\":[{\"yaxis\":{\"range\":[24.9,14.9],\"showgrid\":false,\"zeroline\":false,\"tickmode\":\"array\",\"tickvals\":[]}}],\"label\":\"\",\"method\":\"relayout\"},{\"args\":[{\"yaxis\":{\"range\":[25.0,15.0],\"showgrid\":false,\"zeroline\":false,\"tickmode\":\"array\",\"tickvals\":[]}}],\"label\":\"\",\"method\":\"relayout\"},{\"args\":[{\"yaxis\":{\"range\":[25.1,15.100000000000001],\"showgrid\":false,\"zeroline\":false,\"tickmode\":\"array\",\"tickvals\":[]}}],\"label\":\"\",\"method\":\"relayout\"},{\"args\":[{\"yaxis\":{\"range\":[25.200000000000003,15.200000000000001],\"showgrid\":false,\"zeroline\":false,\"tickmode\":\"array\",\"tickvals\":[]}}],\"label\":\"\",\"method\":\"relayout\"},{\"args\":[{\"yaxis\":{\"range\":[25.3,15.3],\"showgrid\":false,\"zeroline\":false,\"tickmode\":\"array\",\"tickvals\":[]}}],\"label\":\"\",\"method\":\"relayout\"},{\"args\":[{\"yaxis\":{\"range\":[25.4,15.4],\"showgrid\":false,\"zeroline\":false,\"tickmode\":\"array\",\"tickvals\":[]}}],\"label\":\"\",\"method\":\"relayout\"},{\"args\":[{\"yaxis\":{\"range\":[25.5,15.5],\"showgrid\":false,\"zeroline\":false,\"tickmode\":\"array\",\"tickvals\":[]}}],\"label\":\"\",\"method\":\"relayout\"},{\"args\":[{\"yaxis\":{\"range\":[25.6,15.600000000000001],\"showgrid\":false,\"zeroline\":false,\"tickmode\":\"array\",\"tickvals\":[]}}],\"label\":\"\",\"method\":\"relayout\"},{\"args\":[{\"yaxis\":{\"range\":[25.7,15.7],\"showgrid\":false,\"zeroline\":false,\"tickmode\":\"array\",\"tickvals\":[]}}],\"label\":\"\",\"method\":\"relayout\"},{\"args\":[{\"yaxis\":{\"range\":[25.8,15.8],\"showgrid\":false,\"zeroline\":false,\"tickmode\":\"array\",\"tickvals\":[]}}],\"label\":\"\",\"method\":\"relayout\"},{\"args\":[{\"yaxis\":{\"range\":[25.900000000000002,15.900000000000002],\"showgrid\":false,\"zeroline\":false,\"tickmode\":\"array\",\"tickvals\":[]}}],\"label\":\"\",\"method\":\"relayout\"},{\"args\":[{\"yaxis\":{\"range\":[26.0,16.0],\"showgrid\":false,\"zeroline\":false,\"tickmode\":\"array\",\"tickvals\":[]}}],\"label\":\"\",\"method\":\"relayout\"},{\"args\":[{\"yaxis\":{\"range\":[26.1,16.1],\"showgrid\":false,\"zeroline\":false,\"tickmode\":\"array\",\"tickvals\":[]}}],\"label\":\"\",\"method\":\"relayout\"},{\"args\":[{\"yaxis\":{\"range\":[26.2,16.2],\"showgrid\":false,\"zeroline\":false,\"tickmode\":\"array\",\"tickvals\":[]}}],\"label\":\"\",\"method\":\"relayout\"},{\"args\":[{\"yaxis\":{\"range\":[26.3,16.3],\"showgrid\":false,\"zeroline\":false,\"tickmode\":\"array\",\"tickvals\":[]}}],\"label\":\"\",\"method\":\"relayout\"},{\"args\":[{\"yaxis\":{\"range\":[26.400000000000002,16.400000000000002],\"showgrid\":false,\"zeroline\":false,\"tickmode\":\"array\",\"tickvals\":[]}}],\"label\":\"\",\"method\":\"relayout\"},{\"args\":[{\"yaxis\":{\"range\":[26.5,16.5],\"showgrid\":false,\"zeroline\":false,\"tickmode\":\"array\",\"tickvals\":[]}}],\"label\":\"\",\"method\":\"relayout\"},{\"args\":[{\"yaxis\":{\"range\":[26.6,16.6],\"showgrid\":false,\"zeroline\":false,\"tickmode\":\"array\",\"tickvals\":[]}}],\"label\":\"\",\"method\":\"relayout\"},{\"args\":[{\"yaxis\":{\"range\":[26.7,16.7],\"showgrid\":false,\"zeroline\":false,\"tickmode\":\"array\",\"tickvals\":[]}}],\"label\":\"\",\"method\":\"relayout\"},{\"args\":[{\"yaxis\":{\"range\":[26.8,16.8],\"showgrid\":false,\"zeroline\":false,\"tickmode\":\"array\",\"tickvals\":[]}}],\"label\":\"\",\"method\":\"relayout\"},{\"args\":[{\"yaxis\":{\"range\":[26.900000000000002,16.900000000000002],\"showgrid\":false,\"zeroline\":false,\"tickmode\":\"array\",\"tickvals\":[]}}],\"label\":\"\",\"method\":\"relayout\"},{\"args\":[{\"yaxis\":{\"range\":[27.0,17.0],\"showgrid\":false,\"zeroline\":false,\"tickmode\":\"array\",\"tickvals\":[]}}],\"label\":\"\",\"method\":\"relayout\"},{\"args\":[{\"yaxis\":{\"range\":[27.1,17.1],\"showgrid\":false,\"zeroline\":false,\"tickmode\":\"array\",\"tickvals\":[]}}],\"label\":\"\",\"method\":\"relayout\"},{\"args\":[{\"yaxis\":{\"range\":[27.2,17.2],\"showgrid\":false,\"zeroline\":false,\"tickmode\":\"array\",\"tickvals\":[]}}],\"label\":\"\",\"method\":\"relayout\"},{\"args\":[{\"yaxis\":{\"range\":[27.3,17.3],\"showgrid\":false,\"zeroline\":false,\"tickmode\":\"array\",\"tickvals\":[]}}],\"label\":\"\",\"method\":\"relayout\"},{\"args\":[{\"yaxis\":{\"range\":[27.400000000000002,17.400000000000002],\"showgrid\":false,\"zeroline\":false,\"tickmode\":\"array\",\"tickvals\":[]}}],\"label\":\"\",\"method\":\"relayout\"}],\"ticklen\":0,\"tickwidth\":0}],\"margin\":{\"l\":0,\"r\":0,\"t\":0,\"b\":0}},                        {\"responsive\": true}                    ).then(function(){\n",
              "                            \n",
              "var gd = document.getElementById('32155363-1462-49c0-8dcb-0a061f2a1e51');\n",
              "var x = new MutationObserver(function (mutations, observer) {{\n",
              "        var display = window.getComputedStyle(gd).display;\n",
              "        if (!display || display === 'none') {{\n",
              "            console.log([gd, 'removed!']);\n",
              "            Plotly.purge(gd);\n",
              "            observer.disconnect();\n",
              "        }}\n",
              "}});\n",
              "\n",
              "// Listen for the removal of the full notebook cells\n",
              "var notebookContainer = gd.closest('#notebook-container');\n",
              "if (notebookContainer) {{\n",
              "    x.observe(notebookContainer, {childList: true});\n",
              "}}\n",
              "\n",
              "// Listen for the clearing of the current output cell\n",
              "var outputEl = gd.closest('.output');\n",
              "if (outputEl) {{\n",
              "    x.observe(outputEl, {childList: true});\n",
              "}}\n",
              "\n",
              "                        })                };                            </script>        </div>\n",
              "</body>\n",
              "</html>"
            ]
          },
          "metadata": {}
        }
      ]
    },
    {
      "cell_type": "markdown",
      "source": [
        "## Interactive graph (go.FigureWidget)\n",
        "* At the moment, I'm seeing better consistency on Colab when I do the following:\n",
        "  - Run the internal objects (tracer, layout, etc) directly\n",
        "  - Keep the tracer and renderer in separate notebook cells"
      ],
      "metadata": {
        "id": "s-r3IjU-Nx8v"
      }
    },
    {
      "cell_type": "code",
      "source": [
        "from idlmav import MavTracer, merge_graph_nodes, color_graph_nodes, layout_graph_nodes, WidgetRenderer\n",
        "from IPython.display import display"
      ],
      "metadata": {
        "id": "ujbnuNyPOFZi"
      },
      "execution_count": null,
      "outputs": []
    },
    {
      "cell_type": "code",
      "source": [
        "tracer = MavTracer(model, x, device)\n",
        "merge_graph_nodes(tracer.g)\n",
        "layout_graph_nodes(tracer.g)\n",
        "color_graph_nodes(tracer.g)"
      ],
      "metadata": {
        "id": "KiVu_63qOYNk"
      },
      "execution_count": null,
      "outputs": []
    },
    {
      "cell_type": "code",
      "source": [
        "renderer = WidgetRenderer(tracer.g)\n",
        "display(renderer.render())"
      ],
      "metadata": {
        "colab": {
          "base_uri": "https://localhost:8080/",
          "height": 421,
          "referenced_widgets": [
            "6a3122af07e142419760d3a95e69746a",
            "c24c2e51702e45eabbc5e9ed78b76981",
            "94617197809843d4ab4f0f2fef3dfc54",
            "98ee5a032bb84c76a8225a2704b2a1ac",
            "5c2c61edce9242fb8ed84ad993ef6e47",
            "31b33c0e09e9419bbcc3adf4ea07bb03",
            "9a9ae8dc91d7443681993c39b7189f54",
            "7e71d19c862243a39b47ad34223c2450",
            "1008e0fb170144108bd5ec2e58a4d955",
            "4a1dcf228f0247ddb1ef97000ace1504",
            "01d2d895994d49b1b4c2f4b4a4fc7e86",
            "d102627436a144e2b842dedf1b5c4f8e",
            "6c845001180d40a9838a49731a54c882",
            "a41e2a2a85564d8f92a181714612e7e8"
          ]
        },
        "id": "twhyBf13O5jp",
        "outputId": "976b1bfb-56a5-43e2-fed0-4f2d5bd29079"
      },
      "execution_count": null,
      "outputs": [
        {
          "output_type": "display_data",
          "data": {
            "text/plain": [
              "HBox(children=(Box(children=(FloatRangeSlider(value=(-9.5, 0.5), layout=Layout(height='400px'), max=0.5, min=-…"
            ],
            "application/vnd.jupyter.widget-view+json": {
              "version_major": 2,
              "version_minor": 0,
              "model_id": "6a3122af07e142419760d3a95e69746a"
            }
          },
          "metadata": {
            "application/vnd.jupyter.widget-view+json": {
              "colab": {
                "custom_widget_manager": {
                  "url": "https://ssl.gstatic.com/colaboratory-static/widgets/colab-cdn-widget-manager/2b70e893a8ba7c0f/manager.min.js"
                }
              }
            }
          }
        },
        {
          "output_type": "display_data",
          "data": {
            "text/plain": [
              "<IPython.core.display.Javascript object>"
            ],
            "application/javascript": [
              "document.getElementById(\"scr_table_139739240121008_1733962962067\").scrollTo({behavior:\"smooth\", top:0, left:0});"
            ]
          },
          "metadata": {}
        }
      ]
    }
  ]
}