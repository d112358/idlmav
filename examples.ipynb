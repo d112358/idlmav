{
 "cells": [
  {
   "cell_type": "markdown",
   "metadata": {},
   "source": [
    "## Preparation"
   ]
  },
  {
   "cell_type": "code",
   "execution_count": 1,
   "metadata": {},
   "outputs": [],
   "source": [
    "import torch, torchvision\n",
    "from idlmav import MAV, plotly_renderer\n",
    "device = 'cpu'\n",
    "model = torchvision.models.resnet18().to(device)\n",
    "x = torch.randn(16,3,160,160).to(device)\n",
    "mav = MAV(model, x, device=device)"
   ]
  },
  {
   "cell_type": "markdown",
   "metadata": {},
   "source": [
    "## Portable figure\n",
    "* Based on [plotly.graph_objects.Figure](https://plotly.com/python/creating-and-updating-figures/#figures-as-graph-objects)\n",
    "* No dependency on `ipywidgets` or `plotly.graph_objects.FigureWidget` for portability reasons\n",
    "* Displays correctly without the need of a running backend/kernel, e.g. in [nbviewer](https://nbviewer.org/)\n",
    "* Interactions limited to plotly's built-in hover, pan and zoom mechanisms\n",
    "* No synchronization between graph and table"
   ]
  },
  {
   "cell_type": "code",
   "execution_count": 2,
   "metadata": {},
   "outputs": [
    {
     "data": {
      "text/html": [
       "        <script type=\"text/javascript\">\n",
       "        window.PlotlyConfig = {MathJaxConfig: 'local'};\n",
       "        if (window.MathJax && window.MathJax.Hub && window.MathJax.Hub.Config) {window.MathJax.Hub.Config({SVG: {font: \"STIX-Web\"}});}\n",
       "        if (typeof require !== 'undefined') {\n",
       "        require.undef(\"plotly\");\n",
       "        requirejs.config({\n",
       "            paths: {\n",
       "                'plotly': ['https://cdn.plot.ly/plotly-2.35.2.min']\n",
       "            }\n",
       "        });\n",
       "        require(['plotly'], function(Plotly) {\n",
       "            window._Plotly = Plotly;\n",
       "        });\n",
       "        }\n",
       "        </script>\n",
       "        "
      ]
     },
     "metadata": {},
     "output_type": "display_data"
    },
    {
     "data": {
      "text/html": [
       "<div>                            <div id=\"807afa59-f137-4be2-84d9-76f673451bcf\" class=\"plotly-graph-div\" style=\"height:525px; width:100%;\"></div>            <script type=\"text/javascript\">                require([\"plotly\"], function(Plotly) {                    window.PLOTLYENV=window.PLOTLYENV || {};                                    if (document.getElementById(\"807afa59-f137-4be2-84d9-76f673451bcf\")) {                    Plotly.newPlot(                        \"807afa59-f137-4be2-84d9-76f673451bcf\",                        [{\"customdata\":[[\"x\",\"input\",[16,3,160,160],0,0],[\"conv1\",\"nn.Conv2d\",[16,64,80,80],9408,1926758400],[\"bn1\",\"nn.BatchNorm2d\",[16,64,80,80],128,13107200],[\"relu\",\"nn.ReLU\",[16,64,80,80],0,0],[\"maxpool\",\"nn.MaxPool2d\",[16,64,40,40],0,0],[\"layer1_0_conv1\",\"nn.Conv2d\",[16,64,40,40],36864,1887436800],[\"layer1_0_bn1\",\"nn.BatchNorm2d\",[16,64,40,40],128,3276800],[\"layer1_0_relu\",\"nn.ReLU\",[16,64,40,40],0,0],[\"layer1_0_conv2\",\"nn.Conv2d\",[16,64,40,40],36864,1887436800],[\"layer1_0_bn2\",\"nn.BatchNorm2d\",[16,64,40,40],128,3276800],[\"add\",\"add()\",[16,64,40,40],0,0],[\"layer1_0_relu_1\",\"nn.ReLU\",[16,64,40,40],0,0],[\"layer1_1_conv1\",\"nn.Conv2d\",[16,64,40,40],36864,1887436800],[\"layer1_1_bn1\",\"nn.BatchNorm2d\",[16,64,40,40],128,3276800],[\"layer1_1_relu\",\"nn.ReLU\",[16,64,40,40],0,0],[\"layer1_1_conv2\",\"nn.Conv2d\",[16,64,40,40],36864,1887436800],[\"layer1_1_bn2\",\"nn.BatchNorm2d\",[16,64,40,40],128,3276800],[\"add_1\",\"add()\",[16,64,40,40],0,0],[\"layer1_1_relu_1\",\"nn.ReLU\",[16,64,40,40],0,0],[\"layer2_0_conv1\",\"nn.Conv2d\",[16,128,20,20],73728,943718400],[\"layer2_0_bn1\",\"nn.BatchNorm2d\",[16,128,20,20],256,1638400],[\"layer2_0_relu\",\"nn.ReLU\",[16,128,20,20],0,0],[\"layer2_0_conv2\",\"nn.Conv2d\",[16,128,20,20],147456,1887436800],[\"layer2_0_bn2\",\"nn.BatchNorm2d\",[16,128,20,20],256,1638400],[\"layer2_0_downsample_0\",\"nn.Conv2d\",[16,128,20,20],8192,104857600],[\"layer2_0_downsample_1\",\"nn.BatchNorm2d\",[16,128,20,20],256,1638400],[\"add_2\",\"add()\",[16,128,20,20],0,0],[\"layer2_0_relu_1\",\"nn.ReLU\",[16,128,20,20],0,0],[\"layer2_1_conv1\",\"nn.Conv2d\",[16,128,20,20],147456,1887436800],[\"layer2_1_bn1\",\"nn.BatchNorm2d\",[16,128,20,20],256,1638400],[\"layer2_1_relu\",\"nn.ReLU\",[16,128,20,20],0,0],[\"layer2_1_conv2\",\"nn.Conv2d\",[16,128,20,20],147456,1887436800],[\"layer2_1_bn2\",\"nn.BatchNorm2d\",[16,128,20,20],256,1638400],[\"add_3\",\"add()\",[16,128,20,20],0,0],[\"layer2_1_relu_1\",\"nn.ReLU\",[16,128,20,20],0,0],[\"layer3_0_conv1\",\"nn.Conv2d\",[16,256,10,10],294912,943718400],[\"layer3_0_bn1\",\"nn.BatchNorm2d\",[16,256,10,10],512,819200],[\"layer3_0_relu\",\"nn.ReLU\",[16,256,10,10],0,0],[\"layer3_0_conv2\",\"nn.Conv2d\",[16,256,10,10],589824,1887436800],[\"layer3_0_bn2\",\"nn.BatchNorm2d\",[16,256,10,10],512,819200],[\"layer3_0_downsample_0\",\"nn.Conv2d\",[16,256,10,10],32768,104857600],[\"layer3_0_downsample_1\",\"nn.BatchNorm2d\",[16,256,10,10],512,819200],[\"add_4\",\"add()\",[16,256,10,10],0,0],[\"layer3_0_relu_1\",\"nn.ReLU\",[16,256,10,10],0,0],[\"layer3_1_conv1\",\"nn.Conv2d\",[16,256,10,10],589824,1887436800],[\"layer3_1_bn1\",\"nn.BatchNorm2d\",[16,256,10,10],512,819200],[\"layer3_1_relu\",\"nn.ReLU\",[16,256,10,10],0,0],[\"layer3_1_conv2\",\"nn.Conv2d\",[16,256,10,10],589824,1887436800],[\"layer3_1_bn2\",\"nn.BatchNorm2d\",[16,256,10,10],512,819200],[\"add_5\",\"add()\",[16,256,10,10],0,0],[\"layer3_1_relu_1\",\"nn.ReLU\",[16,256,10,10],0,0],[\"layer4_0_conv1\",\"nn.Conv2d\",[16,512,5,5],1179648,943718400],[\"layer4_0_bn1\",\"nn.BatchNorm2d\",[16,512,5,5],1024,409600],[\"layer4_0_relu\",\"nn.ReLU\",[16,512,5,5],0,0],[\"layer4_0_conv2\",\"nn.Conv2d\",[16,512,5,5],2359296,1887436800],[\"layer4_0_bn2\",\"nn.BatchNorm2d\",[16,512,5,5],1024,409600],[\"layer4_0_downsample_0\",\"nn.Conv2d\",[16,512,5,5],131072,104857600],[\"layer4_0_downsample_1\",\"nn.BatchNorm2d\",[16,512,5,5],1024,409600],[\"add_6\",\"add()\",[16,512,5,5],0,0],[\"layer4_0_relu_1\",\"nn.ReLU\",[16,512,5,5],0,0],[\"layer4_1_conv1\",\"nn.Conv2d\",[16,512,5,5],2359296,1887436800],[\"layer4_1_bn1\",\"nn.BatchNorm2d\",[16,512,5,5],1024,409600],[\"layer4_1_relu\",\"nn.ReLU\",[16,512,5,5],0,0],[\"layer4_1_conv2\",\"nn.Conv2d\",[16,512,5,5],2359296,1887436800],[\"layer4_1_bn2\",\"nn.BatchNorm2d\",[16,512,5,5],1024,409600],[\"add_7\",\"add()\",[16,512,5,5],0,0],[\"layer4_1_relu_1\",\"nn.ReLU\",[16,512,5,5],0,0],[\"avgpool\",\"nn.AdaptiveAvgPool2d\",[16,512,1,1],0,16384],[\"flatten\",\"flatten()\",[16,512],0,0],[\"fc\",\"nn.Linear\",[16,1000],513000,16384000],[\"output\",\"output\",[16,1000],0,0]],\"hovertemplate\":\"Name: %{customdata[0]}\\u003cbr\\u003eOperation: %{customdata[1]}\\u003cbr\\u003eActivations: %{customdata[2]}\\u003cbr\\u003eParameters: %{customdata[3]}\\u003cbr\\u003eFLOPS: %{customdata[4]}\\u003cbr\\u003e\\u003cextra\\u003e\\u003c\\u002fextra\\u003e\",\"marker\":{\"color\":[\"#222A2A\",\"#00A08B\",\"#EB663B\",\"#1616A7\",\"#DA60CA\",\"#00A08B\",\"#EB663B\",\"#1616A7\",\"#00A08B\",\"#EB663B\",\"#778AAE\",\"#1616A7\",\"#00A08B\",\"#EB663B\",\"#1616A7\",\"#00A08B\",\"#EB663B\",\"#778AAE\",\"#1616A7\",\"#00A08B\",\"#EB663B\",\"#1616A7\",\"#00A08B\",\"#EB663B\",\"#00A08B\",\"#EB663B\",\"#778AAE\",\"#1616A7\",\"#00A08B\",\"#EB663B\",\"#1616A7\",\"#00A08B\",\"#EB663B\",\"#778AAE\",\"#1616A7\",\"#00A08B\",\"#EB663B\",\"#1616A7\",\"#00A08B\",\"#EB663B\",\"#00A08B\",\"#EB663B\",\"#778AAE\",\"#1616A7\",\"#00A08B\",\"#EB663B\",\"#1616A7\",\"#00A08B\",\"#EB663B\",\"#778AAE\",\"#1616A7\",\"#00A08B\",\"#EB663B\",\"#1616A7\",\"#00A08B\",\"#EB663B\",\"#00A08B\",\"#EB663B\",\"#778AAE\",\"#1616A7\",\"#00A08B\",\"#EB663B\",\"#1616A7\",\"#00A08B\",\"#EB663B\",\"#778AAE\",\"#1616A7\",\"#DA60CA\",\"#778AAE\",\"#2E91E5\",\"#222A2A\"],\"colorscale\":[[0.0,\"rgb(0,0,255)\"],[1.0,\"rgb(255,0,0)\"]],\"size\":[6.0,11.250279597842884,6.0,6.0,6.0,12.91881573172255,6.0,6.0,12.91881573172255,6.0,6.0,6.0,12.91881573172255,6.0,6.0,12.91881573172255,6.0,6.0,6.0,13.765679776435459,6.846864044712908,6.0,14.612543821148368,6.846864044712908,11.08118426827745,6.846864044712908,6.0,6.0,14.612543821148368,6.846864044712908,6.0,14.612543821148368,6.846864044712908,6.0,6.0,15.459407865861275,7.693728089425816,6.0,16.306271910574182,7.693728089425816,12.774912357703267,7.693728089425816,6.0,6.0,16.306271910574182,7.693728089425816,6.0,16.306271910574182,7.693728089425816,6.0,6.0,17.15313595528709,8.540592134138725,6.0,18.0,8.540592134138725,14.468640447129083,8.540592134138725,6.0,6.0,18.0,8.540592134138725,6.0,18.0,8.540592134138725,6.0,6.0,6.0,6.0,16.13577641297401,6.0]},\"mode\":\"markers\",\"showlegend\":false,\"x\":[0.0,0.0,0.0,0.0,0.0,0.0,0.0,0.0,0.0,0.0,0.0,0.0,0.0,0.0,0.0,0.0,0.0,0.0,0.0,0.0,0.0,0.0,0.0,0.0,1.0,1.0,0.0,0.0,0.0,0.0,0.0,0.0,0.0,0.0,0.0,0.0,0.0,0.0,0.0,0.0,1.0,1.0,0.0,0.0,0.0,0.0,0.0,0.0,0.0,0.0,0.0,0.0,0.0,0.0,0.0,0.0,1.0,1.0,0.0,0.0,0.0,0.0,0.0,0.0,0.0,0.0,0.0,0.0,0.0,0.0,0.0],\"y\":[0,1,1.15,1.3,1.45,2,2.15,2.3,3,3.15,4,4.15,5,5.15,5.3,6,6.15,7,7.15,8,8.15,8.3,9,9.15,9,9.15,10,10.15,11,11.15,11.3,12,12.15,13,13.15,14,14.15,14.3,15,15.15,15,15.15,16,16.15,17,17.15,17.3,18,18.15,19,19.15,20,20.15,20.3,21,21.15,21,21.15,22,22.15,23,23.15,23.3,24,24.15,25,25.15,25.3,25.45,26,27],\"type\":\"scatter\",\"xaxis\":\"x\",\"yaxis\":\"y\"},{\"hoverinfo\":\"skip\",\"line\":{\"color\":\"gray\",\"width\":1},\"mode\":\"lines\",\"showlegend\":false,\"x\":[0.0,0.0,null,0.0,0.0,null,0.0,0.0,null,0.0,0.0,null,0.0,0.0,null,0.0,0.0,null,0.0,0.0,null,0.0,0.0,null,0.0,0.0,null,0.0,0.0,null,0.0,0.4,0.4,0.0,null,0.0,0.0,null,0.0,0.0,null,0.0,0.0,null,0.0,0.0,null,0.0,0.0,null,0.0,0.0,null,0.0,0.0,null,0.0,0.4,0.4,0.0,null,0.0,0.0,null,0.0,0.0,null,0.0,0.0,null,0.0,0.0,null,0.0,0.0,null,0.0,0.0,null,0.0,1.0,null,1.0,1.0,null,0.0,0.0,null,1.0,0.0,null,0.0,0.0,null,0.0,0.0,null,0.0,0.0,null,0.0,0.0,null,0.0,0.0,null,0.0,0.0,null,0.0,0.0,null,0.0,0.4,0.4,0.0,null,0.0,0.0,null,0.0,0.0,null,0.0,0.0,null,0.0,0.0,null,0.0,0.0,null,0.0,0.0,null,0.0,1.0,null,1.0,1.0,null,0.0,0.0,null,1.0,0.0,null,0.0,0.0,null,0.0,0.0,null,0.0,0.0,null,0.0,0.0,null,0.0,0.0,null,0.0,0.0,null,0.0,0.0,null,0.0,0.4,0.4,0.0,null,0.0,0.0,null,0.0,0.0,null,0.0,0.0,null,0.0,0.0,null,0.0,0.0,null,0.0,0.0,null,0.0,1.0,null,1.0,1.0,null,0.0,0.0,null,1.0,0.0,null,0.0,0.0,null,0.0,0.0,null,0.0,0.0,null,0.0,0.0,null,0.0,0.0,null,0.0,0.0,null,0.0,0.0,null,0.0,0.4,0.4,0.0,null,0.0,0.0,null,0.0,0.0,null,0.0,0.0,null,0.0,0.0,null,0.0,0.0],\"y\":[0,1,null,1,1.15,null,1.15,1.3,null,1.3,1.45,null,1.45,2,null,2,2.15,null,2.15,2.3,null,2.3,3,null,3,3.15,null,3.15,4,null,1.45,1.85,3.6,4,null,4,4.15,null,4.15,5,null,5,5.15,null,5.15,5.3,null,5.3,6,null,6,6.15,null,6.15,7,null,4.15,4.550000000000001,6.6,7,null,7,7.15,null,7.15,8,null,8,8.15,null,8.15,8.3,null,8.3,9,null,9,9.15,null,7.15,9,null,9,9.15,null,9.15,10,null,9.15,10,null,10,10.15,null,10.15,11,null,11,11.15,null,11.15,11.3,null,11.3,12,null,12,12.15,null,12.15,13,null,10.15,10.55,12.6,13,null,13,13.15,null,13.15,14,null,14,14.15,null,14.15,14.3,null,14.3,15,null,15,15.15,null,13.15,15,null,15,15.15,null,15.15,16,null,15.15,16,null,16,16.15,null,16.15,17,null,17,17.15,null,17.15,17.3,null,17.3,18,null,18,18.15,null,18.15,19,null,16.15,16.549999999999997,18.6,19,null,19,19.15,null,19.15,20,null,20,20.15,null,20.15,20.3,null,20.3,21,null,21,21.15,null,19.15,21,null,21,21.15,null,21.15,22,null,21.15,22,null,22,22.15,null,22.15,23,null,23,23.15,null,23.15,23.3,null,23.3,24,null,24,24.15,null,24.15,25,null,22.15,22.549999999999997,24.6,25,null,25,25.15,null,25.15,25.3,null,25.3,25.45,null,25.45,26,null,26,27],\"type\":\"scatter\",\"xaxis\":\"x\",\"yaxis\":\"y\"},{\"cells\":{\"align\":\"left\",\"values\":[[\"x\",\"conv1\",\"bn1\",\"relu\",\"maxpool\",\"layer1_0_conv1\",\"layer1_0_bn1\",\"layer1_0_relu\",\"layer1_0_conv2\",\"layer1_0_bn2\",\"add\",\"layer1_0_relu_1\",\"layer1_1_conv1\",\"layer1_1_bn1\",\"layer1_1_relu\",\"layer1_1_conv2\",\"layer1_1_bn2\",\"add_1\",\"layer1_1_relu_1\",\"layer2_0_conv1\",\"layer2_0_bn1\",\"layer2_0_relu\",\"layer2_0_conv2\",\"layer2_0_bn2\",\"layer2_0_downsample_0\",\"layer2_0_downsample_1\",\"add_2\",\"layer2_0_relu_1\",\"layer2_1_conv1\",\"layer2_1_bn1\",\"layer2_1_relu\",\"layer2_1_conv2\",\"layer2_1_bn2\",\"add_3\",\"layer2_1_relu_1\",\"layer3_0_conv1\",\"layer3_0_bn1\",\"layer3_0_relu\",\"layer3_0_conv2\",\"layer3_0_bn2\",\"layer3_0_downsample_0\",\"layer3_0_downsample_1\",\"add_4\",\"layer3_0_relu_1\",\"layer3_1_conv1\",\"layer3_1_bn1\",\"layer3_1_relu\",\"layer3_1_conv2\",\"layer3_1_bn2\",\"add_5\",\"layer3_1_relu_1\",\"layer4_0_conv1\",\"layer4_0_bn1\",\"layer4_0_relu\",\"layer4_0_conv2\",\"layer4_0_bn2\",\"layer4_0_downsample_0\",\"layer4_0_downsample_1\",\"add_6\",\"layer4_0_relu_1\",\"layer4_1_conv1\",\"layer4_1_bn1\",\"layer4_1_relu\",\"layer4_1_conv2\",\"layer4_1_bn2\",\"add_7\",\"layer4_1_relu_1\",\"avgpool\",\"flatten\",\"fc\",\"output\"],[\"input\",\"nn.Conv2d\",\"nn.BatchNorm2d\",\"nn.ReLU\",\"nn.MaxPool2d\",\"nn.Conv2d\",\"nn.BatchNorm2d\",\"nn.ReLU\",\"nn.Conv2d\",\"nn.BatchNorm2d\",\"add()\",\"nn.ReLU\",\"nn.Conv2d\",\"nn.BatchNorm2d\",\"nn.ReLU\",\"nn.Conv2d\",\"nn.BatchNorm2d\",\"add()\",\"nn.ReLU\",\"nn.Conv2d\",\"nn.BatchNorm2d\",\"nn.ReLU\",\"nn.Conv2d\",\"nn.BatchNorm2d\",\"nn.Conv2d\",\"nn.BatchNorm2d\",\"add()\",\"nn.ReLU\",\"nn.Conv2d\",\"nn.BatchNorm2d\",\"nn.ReLU\",\"nn.Conv2d\",\"nn.BatchNorm2d\",\"add()\",\"nn.ReLU\",\"nn.Conv2d\",\"nn.BatchNorm2d\",\"nn.ReLU\",\"nn.Conv2d\",\"nn.BatchNorm2d\",\"nn.Conv2d\",\"nn.BatchNorm2d\",\"add()\",\"nn.ReLU\",\"nn.Conv2d\",\"nn.BatchNorm2d\",\"nn.ReLU\",\"nn.Conv2d\",\"nn.BatchNorm2d\",\"add()\",\"nn.ReLU\",\"nn.Conv2d\",\"nn.BatchNorm2d\",\"nn.ReLU\",\"nn.Conv2d\",\"nn.BatchNorm2d\",\"nn.Conv2d\",\"nn.BatchNorm2d\",\"add()\",\"nn.ReLU\",\"nn.Conv2d\",\"nn.BatchNorm2d\",\"nn.ReLU\",\"nn.Conv2d\",\"nn.BatchNorm2d\",\"add()\",\"nn.ReLU\",\"nn.AdaptiveAvgPool2d\",\"flatten()\",\"nn.Linear\",\"output\"],[[16,3,160,160],[16,64,80,80],[16,64,80,80],[16,64,80,80],[16,64,40,40],[16,64,40,40],[16,64,40,40],[16,64,40,40],[16,64,40,40],[16,64,40,40],[16,64,40,40],[16,64,40,40],[16,64,40,40],[16,64,40,40],[16,64,40,40],[16,64,40,40],[16,64,40,40],[16,64,40,40],[16,64,40,40],[16,128,20,20],[16,128,20,20],[16,128,20,20],[16,128,20,20],[16,128,20,20],[16,128,20,20],[16,128,20,20],[16,128,20,20],[16,128,20,20],[16,128,20,20],[16,128,20,20],[16,128,20,20],[16,128,20,20],[16,128,20,20],[16,128,20,20],[16,128,20,20],[16,256,10,10],[16,256,10,10],[16,256,10,10],[16,256,10,10],[16,256,10,10],[16,256,10,10],[16,256,10,10],[16,256,10,10],[16,256,10,10],[16,256,10,10],[16,256,10,10],[16,256,10,10],[16,256,10,10],[16,256,10,10],[16,256,10,10],[16,256,10,10],[16,512,5,5],[16,512,5,5],[16,512,5,5],[16,512,5,5],[16,512,5,5],[16,512,5,5],[16,512,5,5],[16,512,5,5],[16,512,5,5],[16,512,5,5],[16,512,5,5],[16,512,5,5],[16,512,5,5],[16,512,5,5],[16,512,5,5],[16,512,5,5],[16,512,1,1],[16,512],[16,1000],[16,1000]],[0,9408,128,0,0,36864,128,0,36864,128,0,0,36864,128,0,36864,128,0,0,73728,256,0,147456,256,8192,256,0,0,147456,256,0,147456,256,0,0,294912,512,0,589824,512,32768,512,0,0,589824,512,0,589824,512,0,0,1179648,1024,0,2359296,1024,131072,1024,0,0,2359296,1024,0,2359296,1024,0,0,0,0,513000,0],[0,1926758400,13107200,0,0,1887436800,3276800,0,1887436800,3276800,0,0,1887436800,3276800,0,1887436800,3276800,0,0,943718400,1638400,0,1887436800,1638400,104857600,1638400,0,0,1887436800,1638400,0,1887436800,1638400,0,0,943718400,819200,0,1887436800,819200,104857600,819200,0,0,1887436800,819200,0,1887436800,819200,0,0,943718400,409600,0,1887436800,409600,104857600,409600,0,0,1887436800,409600,0,1887436800,409600,0,0,16384,0,16384000,0]]},\"header\":{\"align\":\"left\",\"font\":{\"size\":10},\"values\":[\"Name\",\"Operation\",\"Activations\",\"Params\",\"FLOPS\"]},\"type\":\"table\",\"domain\":{\"x\":[0.26363636363636367,1.0],\"y\":[0.0,1.0]}}],                        {\"template\":{\"data\":{\"histogram2dcontour\":[{\"type\":\"histogram2dcontour\",\"colorbar\":{\"outlinewidth\":0,\"ticks\":\"\"},\"colorscale\":[[0.0,\"#0d0887\"],[0.1111111111111111,\"#46039f\"],[0.2222222222222222,\"#7201a8\"],[0.3333333333333333,\"#9c179e\"],[0.4444444444444444,\"#bd3786\"],[0.5555555555555556,\"#d8576b\"],[0.6666666666666666,\"#ed7953\"],[0.7777777777777778,\"#fb9f3a\"],[0.8888888888888888,\"#fdca26\"],[1.0,\"#f0f921\"]]}],\"choropleth\":[{\"type\":\"choropleth\",\"colorbar\":{\"outlinewidth\":0,\"ticks\":\"\"}}],\"histogram2d\":[{\"type\":\"histogram2d\",\"colorbar\":{\"outlinewidth\":0,\"ticks\":\"\"},\"colorscale\":[[0.0,\"#0d0887\"],[0.1111111111111111,\"#46039f\"],[0.2222222222222222,\"#7201a8\"],[0.3333333333333333,\"#9c179e\"],[0.4444444444444444,\"#bd3786\"],[0.5555555555555556,\"#d8576b\"],[0.6666666666666666,\"#ed7953\"],[0.7777777777777778,\"#fb9f3a\"],[0.8888888888888888,\"#fdca26\"],[1.0,\"#f0f921\"]]}],\"heatmap\":[{\"type\":\"heatmap\",\"colorbar\":{\"outlinewidth\":0,\"ticks\":\"\"},\"colorscale\":[[0.0,\"#0d0887\"],[0.1111111111111111,\"#46039f\"],[0.2222222222222222,\"#7201a8\"],[0.3333333333333333,\"#9c179e\"],[0.4444444444444444,\"#bd3786\"],[0.5555555555555556,\"#d8576b\"],[0.6666666666666666,\"#ed7953\"],[0.7777777777777778,\"#fb9f3a\"],[0.8888888888888888,\"#fdca26\"],[1.0,\"#f0f921\"]]}],\"heatmapgl\":[{\"type\":\"heatmapgl\",\"colorbar\":{\"outlinewidth\":0,\"ticks\":\"\"},\"colorscale\":[[0.0,\"#0d0887\"],[0.1111111111111111,\"#46039f\"],[0.2222222222222222,\"#7201a8\"],[0.3333333333333333,\"#9c179e\"],[0.4444444444444444,\"#bd3786\"],[0.5555555555555556,\"#d8576b\"],[0.6666666666666666,\"#ed7953\"],[0.7777777777777778,\"#fb9f3a\"],[0.8888888888888888,\"#fdca26\"],[1.0,\"#f0f921\"]]}],\"contourcarpet\":[{\"type\":\"contourcarpet\",\"colorbar\":{\"outlinewidth\":0,\"ticks\":\"\"}}],\"contour\":[{\"type\":\"contour\",\"colorbar\":{\"outlinewidth\":0,\"ticks\":\"\"},\"colorscale\":[[0.0,\"#0d0887\"],[0.1111111111111111,\"#46039f\"],[0.2222222222222222,\"#7201a8\"],[0.3333333333333333,\"#9c179e\"],[0.4444444444444444,\"#bd3786\"],[0.5555555555555556,\"#d8576b\"],[0.6666666666666666,\"#ed7953\"],[0.7777777777777778,\"#fb9f3a\"],[0.8888888888888888,\"#fdca26\"],[1.0,\"#f0f921\"]]}],\"surface\":[{\"type\":\"surface\",\"colorbar\":{\"outlinewidth\":0,\"ticks\":\"\"},\"colorscale\":[[0.0,\"#0d0887\"],[0.1111111111111111,\"#46039f\"],[0.2222222222222222,\"#7201a8\"],[0.3333333333333333,\"#9c179e\"],[0.4444444444444444,\"#bd3786\"],[0.5555555555555556,\"#d8576b\"],[0.6666666666666666,\"#ed7953\"],[0.7777777777777778,\"#fb9f3a\"],[0.8888888888888888,\"#fdca26\"],[1.0,\"#f0f921\"]]}],\"mesh3d\":[{\"type\":\"mesh3d\",\"colorbar\":{\"outlinewidth\":0,\"ticks\":\"\"}}],\"scatter\":[{\"fillpattern\":{\"fillmode\":\"overlay\",\"size\":10,\"solidity\":0.2},\"type\":\"scatter\"}],\"parcoords\":[{\"type\":\"parcoords\",\"line\":{\"colorbar\":{\"outlinewidth\":0,\"ticks\":\"\"}}}],\"scatterpolargl\":[{\"type\":\"scatterpolargl\",\"marker\":{\"colorbar\":{\"outlinewidth\":0,\"ticks\":\"\"}}}],\"bar\":[{\"error_x\":{\"color\":\"#2a3f5f\"},\"error_y\":{\"color\":\"#2a3f5f\"},\"marker\":{\"line\":{\"color\":\"#E5ECF6\",\"width\":0.5},\"pattern\":{\"fillmode\":\"overlay\",\"size\":10,\"solidity\":0.2}},\"type\":\"bar\"}],\"scattergeo\":[{\"type\":\"scattergeo\",\"marker\":{\"colorbar\":{\"outlinewidth\":0,\"ticks\":\"\"}}}],\"scatterpolar\":[{\"type\":\"scatterpolar\",\"marker\":{\"colorbar\":{\"outlinewidth\":0,\"ticks\":\"\"}}}],\"histogram\":[{\"marker\":{\"pattern\":{\"fillmode\":\"overlay\",\"size\":10,\"solidity\":0.2}},\"type\":\"histogram\"}],\"scattergl\":[{\"type\":\"scattergl\",\"marker\":{\"colorbar\":{\"outlinewidth\":0,\"ticks\":\"\"}}}],\"scatter3d\":[{\"type\":\"scatter3d\",\"line\":{\"colorbar\":{\"outlinewidth\":0,\"ticks\":\"\"}},\"marker\":{\"colorbar\":{\"outlinewidth\":0,\"ticks\":\"\"}}}],\"scattermapbox\":[{\"type\":\"scattermapbox\",\"marker\":{\"colorbar\":{\"outlinewidth\":0,\"ticks\":\"\"}}}],\"scatterternary\":[{\"type\":\"scatterternary\",\"marker\":{\"colorbar\":{\"outlinewidth\":0,\"ticks\":\"\"}}}],\"scattercarpet\":[{\"type\":\"scattercarpet\",\"marker\":{\"colorbar\":{\"outlinewidth\":0,\"ticks\":\"\"}}}],\"carpet\":[{\"aaxis\":{\"endlinecolor\":\"#2a3f5f\",\"gridcolor\":\"white\",\"linecolor\":\"white\",\"minorgridcolor\":\"white\",\"startlinecolor\":\"#2a3f5f\"},\"baxis\":{\"endlinecolor\":\"#2a3f5f\",\"gridcolor\":\"white\",\"linecolor\":\"white\",\"minorgridcolor\":\"white\",\"startlinecolor\":\"#2a3f5f\"},\"type\":\"carpet\"}],\"table\":[{\"cells\":{\"fill\":{\"color\":\"#EBF0F8\"},\"line\":{\"color\":\"white\"}},\"header\":{\"fill\":{\"color\":\"#C8D4E3\"},\"line\":{\"color\":\"white\"}},\"type\":\"table\"}],\"barpolar\":[{\"marker\":{\"line\":{\"color\":\"#E5ECF6\",\"width\":0.5},\"pattern\":{\"fillmode\":\"overlay\",\"size\":10,\"solidity\":0.2}},\"type\":\"barpolar\"}],\"pie\":[{\"automargin\":true,\"type\":\"pie\"}]},\"layout\":{\"autotypenumbers\":\"strict\",\"colorway\":[\"#636efa\",\"#EF553B\",\"#00cc96\",\"#ab63fa\",\"#FFA15A\",\"#19d3f3\",\"#FF6692\",\"#B6E880\",\"#FF97FF\",\"#FECB52\"],\"font\":{\"color\":\"#2a3f5f\"},\"hovermode\":\"closest\",\"hoverlabel\":{\"align\":\"left\"},\"paper_bgcolor\":\"white\",\"plot_bgcolor\":\"#E5ECF6\",\"polar\":{\"bgcolor\":\"#E5ECF6\",\"angularaxis\":{\"gridcolor\":\"white\",\"linecolor\":\"white\",\"ticks\":\"\"},\"radialaxis\":{\"gridcolor\":\"white\",\"linecolor\":\"white\",\"ticks\":\"\"}},\"ternary\":{\"bgcolor\":\"#E5ECF6\",\"aaxis\":{\"gridcolor\":\"white\",\"linecolor\":\"white\",\"ticks\":\"\"},\"baxis\":{\"gridcolor\":\"white\",\"linecolor\":\"white\",\"ticks\":\"\"},\"caxis\":{\"gridcolor\":\"white\",\"linecolor\":\"white\",\"ticks\":\"\"}},\"coloraxis\":{\"colorbar\":{\"outlinewidth\":0,\"ticks\":\"\"}},\"colorscale\":{\"sequential\":[[0.0,\"#0d0887\"],[0.1111111111111111,\"#46039f\"],[0.2222222222222222,\"#7201a8\"],[0.3333333333333333,\"#9c179e\"],[0.4444444444444444,\"#bd3786\"],[0.5555555555555556,\"#d8576b\"],[0.6666666666666666,\"#ed7953\"],[0.7777777777777778,\"#fb9f3a\"],[0.8888888888888888,\"#fdca26\"],[1.0,\"#f0f921\"]],\"sequentialminus\":[[0.0,\"#0d0887\"],[0.1111111111111111,\"#46039f\"],[0.2222222222222222,\"#7201a8\"],[0.3333333333333333,\"#9c179e\"],[0.4444444444444444,\"#bd3786\"],[0.5555555555555556,\"#d8576b\"],[0.6666666666666666,\"#ed7953\"],[0.7777777777777778,\"#fb9f3a\"],[0.8888888888888888,\"#fdca26\"],[1.0,\"#f0f921\"]],\"diverging\":[[0,\"#8e0152\"],[0.1,\"#c51b7d\"],[0.2,\"#de77ae\"],[0.3,\"#f1b6da\"],[0.4,\"#fde0ef\"],[0.5,\"#f7f7f7\"],[0.6,\"#e6f5d0\"],[0.7,\"#b8e186\"],[0.8,\"#7fbc41\"],[0.9,\"#4d9221\"],[1,\"#276419\"]]},\"xaxis\":{\"gridcolor\":\"white\",\"linecolor\":\"white\",\"ticks\":\"\",\"title\":{\"standoff\":15},\"zerolinecolor\":\"white\",\"automargin\":true,\"zerolinewidth\":2},\"yaxis\":{\"gridcolor\":\"white\",\"linecolor\":\"white\",\"ticks\":\"\",\"title\":{\"standoff\":15},\"zerolinecolor\":\"white\",\"automargin\":true,\"zerolinewidth\":2},\"scene\":{\"xaxis\":{\"backgroundcolor\":\"#E5ECF6\",\"gridcolor\":\"white\",\"linecolor\":\"white\",\"showbackground\":true,\"ticks\":\"\",\"zerolinecolor\":\"white\",\"gridwidth\":2},\"yaxis\":{\"backgroundcolor\":\"#E5ECF6\",\"gridcolor\":\"white\",\"linecolor\":\"white\",\"showbackground\":true,\"ticks\":\"\",\"zerolinecolor\":\"white\",\"gridwidth\":2},\"zaxis\":{\"backgroundcolor\":\"#E5ECF6\",\"gridcolor\":\"white\",\"linecolor\":\"white\",\"showbackground\":true,\"ticks\":\"\",\"zerolinecolor\":\"white\",\"gridwidth\":2}},\"shapedefaults\":{\"line\":{\"color\":\"#2a3f5f\"}},\"annotationdefaults\":{\"arrowcolor\":\"#2a3f5f\",\"arrowhead\":0,\"arrowwidth\":1},\"geo\":{\"bgcolor\":\"white\",\"landcolor\":\"#E5ECF6\",\"subunitcolor\":\"white\",\"showland\":true,\"showlakes\":true,\"lakecolor\":\"white\"},\"title\":{\"x\":0.05},\"mapbox\":{\"style\":\"light\"}}},\"xaxis\":{\"anchor\":\"y\",\"domain\":[0.0,0.16363636363636364],\"showgrid\":false,\"zeroline\":false,\"tickmode\":\"array\",\"tickvals\":[]},\"yaxis\":{\"anchor\":\"x\",\"domain\":[0.0,1.0],\"showgrid\":false,\"zeroline\":false,\"tickmode\":\"array\",\"tickvals\":[],\"range\":[9.5,-0.5]},\"sliders\":[{\"active\":0,\"currentvalue\":{\"visible\":false},\"pad\":{\"t\":50},\"steps\":[{\"args\":[{\"yaxis\":{\"range\":[9.5,-0.5],\"showgrid\":false,\"zeroline\":false,\"tickmode\":\"array\",\"tickvals\":[]}}],\"label\":\"\",\"method\":\"relayout\"},{\"args\":[{\"yaxis\":{\"range\":[9.6,-0.4],\"showgrid\":false,\"zeroline\":false,\"tickmode\":\"array\",\"tickvals\":[]}}],\"label\":\"\",\"method\":\"relayout\"},{\"args\":[{\"yaxis\":{\"range\":[9.7,-0.3],\"showgrid\":false,\"zeroline\":false,\"tickmode\":\"array\",\"tickvals\":[]}}],\"label\":\"\",\"method\":\"relayout\"},{\"args\":[{\"yaxis\":{\"range\":[9.8,-0.19999999999999996],\"showgrid\":false,\"zeroline\":false,\"tickmode\":\"array\",\"tickvals\":[]}}],\"label\":\"\",\"method\":\"relayout\"},{\"args\":[{\"yaxis\":{\"range\":[9.9,-0.09999999999999998],\"showgrid\":false,\"zeroline\":false,\"tickmode\":\"array\",\"tickvals\":[]}}],\"label\":\"\",\"method\":\"relayout\"},{\"args\":[{\"yaxis\":{\"range\":[10.0,0.0],\"showgrid\":false,\"zeroline\":false,\"tickmode\":\"array\",\"tickvals\":[]}}],\"label\":\"\",\"method\":\"relayout\"},{\"args\":[{\"yaxis\":{\"range\":[10.1,0.10000000000000009],\"showgrid\":false,\"zeroline\":false,\"tickmode\":\"array\",\"tickvals\":[]}}],\"label\":\"\",\"method\":\"relayout\"},{\"args\":[{\"yaxis\":{\"range\":[10.2,0.20000000000000007],\"showgrid\":false,\"zeroline\":false,\"tickmode\":\"array\",\"tickvals\":[]}}],\"label\":\"\",\"method\":\"relayout\"},{\"args\":[{\"yaxis\":{\"range\":[10.3,0.30000000000000004],\"showgrid\":false,\"zeroline\":false,\"tickmode\":\"array\",\"tickvals\":[]}}],\"label\":\"\",\"method\":\"relayout\"},{\"args\":[{\"yaxis\":{\"range\":[10.4,0.4],\"showgrid\":false,\"zeroline\":false,\"tickmode\":\"array\",\"tickvals\":[]}}],\"label\":\"\",\"method\":\"relayout\"},{\"args\":[{\"yaxis\":{\"range\":[10.5,0.5],\"showgrid\":false,\"zeroline\":false,\"tickmode\":\"array\",\"tickvals\":[]}}],\"label\":\"\",\"method\":\"relayout\"},{\"args\":[{\"yaxis\":{\"range\":[10.6,0.6000000000000001],\"showgrid\":false,\"zeroline\":false,\"tickmode\":\"array\",\"tickvals\":[]}}],\"label\":\"\",\"method\":\"relayout\"},{\"args\":[{\"yaxis\":{\"range\":[10.7,0.7000000000000002],\"showgrid\":false,\"zeroline\":false,\"tickmode\":\"array\",\"tickvals\":[]}}],\"label\":\"\",\"method\":\"relayout\"},{\"args\":[{\"yaxis\":{\"range\":[10.8,0.8],\"showgrid\":false,\"zeroline\":false,\"tickmode\":\"array\",\"tickvals\":[]}}],\"label\":\"\",\"method\":\"relayout\"},{\"args\":[{\"yaxis\":{\"range\":[10.9,0.9000000000000001],\"showgrid\":false,\"zeroline\":false,\"tickmode\":\"array\",\"tickvals\":[]}}],\"label\":\"\",\"method\":\"relayout\"},{\"args\":[{\"yaxis\":{\"range\":[11.0,1.0],\"showgrid\":false,\"zeroline\":false,\"tickmode\":\"array\",\"tickvals\":[]}}],\"label\":\"\",\"method\":\"relayout\"},{\"args\":[{\"yaxis\":{\"range\":[11.1,1.1],\"showgrid\":false,\"zeroline\":false,\"tickmode\":\"array\",\"tickvals\":[]}}],\"label\":\"\",\"method\":\"relayout\"},{\"args\":[{\"yaxis\":{\"range\":[11.2,1.2000000000000002],\"showgrid\":false,\"zeroline\":false,\"tickmode\":\"array\",\"tickvals\":[]}}],\"label\":\"\",\"method\":\"relayout\"},{\"args\":[{\"yaxis\":{\"range\":[11.3,1.3],\"showgrid\":false,\"zeroline\":false,\"tickmode\":\"array\",\"tickvals\":[]}}],\"label\":\"\",\"method\":\"relayout\"},{\"args\":[{\"yaxis\":{\"range\":[11.4,1.4000000000000001],\"showgrid\":false,\"zeroline\":false,\"tickmode\":\"array\",\"tickvals\":[]}}],\"label\":\"\",\"method\":\"relayout\"},{\"args\":[{\"yaxis\":{\"range\":[11.5,1.5],\"showgrid\":false,\"zeroline\":false,\"tickmode\":\"array\",\"tickvals\":[]}}],\"label\":\"\",\"method\":\"relayout\"},{\"args\":[{\"yaxis\":{\"range\":[11.6,1.6],\"showgrid\":false,\"zeroline\":false,\"tickmode\":\"array\",\"tickvals\":[]}}],\"label\":\"\",\"method\":\"relayout\"},{\"args\":[{\"yaxis\":{\"range\":[11.7,1.7000000000000002],\"showgrid\":false,\"zeroline\":false,\"tickmode\":\"array\",\"tickvals\":[]}}],\"label\":\"\",\"method\":\"relayout\"},{\"args\":[{\"yaxis\":{\"range\":[11.8,1.8000000000000003],\"showgrid\":false,\"zeroline\":false,\"tickmode\":\"array\",\"tickvals\":[]}}],\"label\":\"\",\"method\":\"relayout\"},{\"args\":[{\"yaxis\":{\"range\":[11.9,1.9000000000000004],\"showgrid\":false,\"zeroline\":false,\"tickmode\":\"array\",\"tickvals\":[]}}],\"label\":\"\",\"method\":\"relayout\"},{\"args\":[{\"yaxis\":{\"range\":[12.0,2.0],\"showgrid\":false,\"zeroline\":false,\"tickmode\":\"array\",\"tickvals\":[]}}],\"label\":\"\",\"method\":\"relayout\"},{\"args\":[{\"yaxis\":{\"range\":[12.1,2.1],\"showgrid\":false,\"zeroline\":false,\"tickmode\":\"array\",\"tickvals\":[]}}],\"label\":\"\",\"method\":\"relayout\"},{\"args\":[{\"yaxis\":{\"range\":[12.2,2.2],\"showgrid\":false,\"zeroline\":false,\"tickmode\":\"array\",\"tickvals\":[]}}],\"label\":\"\",\"method\":\"relayout\"},{\"args\":[{\"yaxis\":{\"range\":[12.3,2.3000000000000003],\"showgrid\":false,\"zeroline\":false,\"tickmode\":\"array\",\"tickvals\":[]}}],\"label\":\"\",\"method\":\"relayout\"},{\"args\":[{\"yaxis\":{\"range\":[12.4,2.4000000000000004],\"showgrid\":false,\"zeroline\":false,\"tickmode\":\"array\",\"tickvals\":[]}}],\"label\":\"\",\"method\":\"relayout\"},{\"args\":[{\"yaxis\":{\"range\":[12.5,2.5],\"showgrid\":false,\"zeroline\":false,\"tickmode\":\"array\",\"tickvals\":[]}}],\"label\":\"\",\"method\":\"relayout\"},{\"args\":[{\"yaxis\":{\"range\":[12.6,2.6],\"showgrid\":false,\"zeroline\":false,\"tickmode\":\"array\",\"tickvals\":[]}}],\"label\":\"\",\"method\":\"relayout\"},{\"args\":[{\"yaxis\":{\"range\":[12.7,2.7],\"showgrid\":false,\"zeroline\":false,\"tickmode\":\"array\",\"tickvals\":[]}}],\"label\":\"\",\"method\":\"relayout\"},{\"args\":[{\"yaxis\":{\"range\":[12.8,2.8000000000000003],\"showgrid\":false,\"zeroline\":false,\"tickmode\":\"array\",\"tickvals\":[]}}],\"label\":\"\",\"method\":\"relayout\"},{\"args\":[{\"yaxis\":{\"range\":[12.9,2.9000000000000004],\"showgrid\":false,\"zeroline\":false,\"tickmode\":\"array\",\"tickvals\":[]}}],\"label\":\"\",\"method\":\"relayout\"},{\"args\":[{\"yaxis\":{\"range\":[13.0,3.0],\"showgrid\":false,\"zeroline\":false,\"tickmode\":\"array\",\"tickvals\":[]}}],\"label\":\"\",\"method\":\"relayout\"},{\"args\":[{\"yaxis\":{\"range\":[13.1,3.1],\"showgrid\":false,\"zeroline\":false,\"tickmode\":\"array\",\"tickvals\":[]}}],\"label\":\"\",\"method\":\"relayout\"},{\"args\":[{\"yaxis\":{\"range\":[13.2,3.2],\"showgrid\":false,\"zeroline\":false,\"tickmode\":\"array\",\"tickvals\":[]}}],\"label\":\"\",\"method\":\"relayout\"},{\"args\":[{\"yaxis\":{\"range\":[13.3,3.3000000000000003],\"showgrid\":false,\"zeroline\":false,\"tickmode\":\"array\",\"tickvals\":[]}}],\"label\":\"\",\"method\":\"relayout\"},{\"args\":[{\"yaxis\":{\"range\":[13.4,3.4000000000000004],\"showgrid\":false,\"zeroline\":false,\"tickmode\":\"array\",\"tickvals\":[]}}],\"label\":\"\",\"method\":\"relayout\"},{\"args\":[{\"yaxis\":{\"range\":[13.5,3.5],\"showgrid\":false,\"zeroline\":false,\"tickmode\":\"array\",\"tickvals\":[]}}],\"label\":\"\",\"method\":\"relayout\"},{\"args\":[{\"yaxis\":{\"range\":[13.600000000000001,3.6000000000000005],\"showgrid\":false,\"zeroline\":false,\"tickmode\":\"array\",\"tickvals\":[]}}],\"label\":\"\",\"method\":\"relayout\"},{\"args\":[{\"yaxis\":{\"range\":[13.7,3.7],\"showgrid\":false,\"zeroline\":false,\"tickmode\":\"array\",\"tickvals\":[]}}],\"label\":\"\",\"method\":\"relayout\"},{\"args\":[{\"yaxis\":{\"range\":[13.8,3.8],\"showgrid\":false,\"zeroline\":false,\"tickmode\":\"array\",\"tickvals\":[]}}],\"label\":\"\",\"method\":\"relayout\"},{\"args\":[{\"yaxis\":{\"range\":[13.9,3.9000000000000004],\"showgrid\":false,\"zeroline\":false,\"tickmode\":\"array\",\"tickvals\":[]}}],\"label\":\"\",\"method\":\"relayout\"},{\"args\":[{\"yaxis\":{\"range\":[14.0,4.0],\"showgrid\":false,\"zeroline\":false,\"tickmode\":\"array\",\"tickvals\":[]}}],\"label\":\"\",\"method\":\"relayout\"},{\"args\":[{\"yaxis\":{\"range\":[14.100000000000001,4.1000000000000005],\"showgrid\":false,\"zeroline\":false,\"tickmode\":\"array\",\"tickvals\":[]}}],\"label\":\"\",\"method\":\"relayout\"},{\"args\":[{\"yaxis\":{\"range\":[14.2,4.2],\"showgrid\":false,\"zeroline\":false,\"tickmode\":\"array\",\"tickvals\":[]}}],\"label\":\"\",\"method\":\"relayout\"},{\"args\":[{\"yaxis\":{\"range\":[14.3,4.300000000000001],\"showgrid\":false,\"zeroline\":false,\"tickmode\":\"array\",\"tickvals\":[]}}],\"label\":\"\",\"method\":\"relayout\"},{\"args\":[{\"yaxis\":{\"range\":[14.4,4.4],\"showgrid\":false,\"zeroline\":false,\"tickmode\":\"array\",\"tickvals\":[]}}],\"label\":\"\",\"method\":\"relayout\"},{\"args\":[{\"yaxis\":{\"range\":[14.5,4.5],\"showgrid\":false,\"zeroline\":false,\"tickmode\":\"array\",\"tickvals\":[]}}],\"label\":\"\",\"method\":\"relayout\"},{\"args\":[{\"yaxis\":{\"range\":[14.600000000000001,4.6000000000000005],\"showgrid\":false,\"zeroline\":false,\"tickmode\":\"array\",\"tickvals\":[]}}],\"label\":\"\",\"method\":\"relayout\"},{\"args\":[{\"yaxis\":{\"range\":[14.7,4.7],\"showgrid\":false,\"zeroline\":false,\"tickmode\":\"array\",\"tickvals\":[]}}],\"label\":\"\",\"method\":\"relayout\"},{\"args\":[{\"yaxis\":{\"range\":[14.8,4.800000000000001],\"showgrid\":false,\"zeroline\":false,\"tickmode\":\"array\",\"tickvals\":[]}}],\"label\":\"\",\"method\":\"relayout\"},{\"args\":[{\"yaxis\":{\"range\":[14.9,4.9],\"showgrid\":false,\"zeroline\":false,\"tickmode\":\"array\",\"tickvals\":[]}}],\"label\":\"\",\"method\":\"relayout\"},{\"args\":[{\"yaxis\":{\"range\":[15.0,5.0],\"showgrid\":false,\"zeroline\":false,\"tickmode\":\"array\",\"tickvals\":[]}}],\"label\":\"\",\"method\":\"relayout\"},{\"args\":[{\"yaxis\":{\"range\":[15.100000000000001,5.1000000000000005],\"showgrid\":false,\"zeroline\":false,\"tickmode\":\"array\",\"tickvals\":[]}}],\"label\":\"\",\"method\":\"relayout\"},{\"args\":[{\"yaxis\":{\"range\":[15.2,5.2],\"showgrid\":false,\"zeroline\":false,\"tickmode\":\"array\",\"tickvals\":[]}}],\"label\":\"\",\"method\":\"relayout\"},{\"args\":[{\"yaxis\":{\"range\":[15.3,5.300000000000001],\"showgrid\":false,\"zeroline\":false,\"tickmode\":\"array\",\"tickvals\":[]}}],\"label\":\"\",\"method\":\"relayout\"},{\"args\":[{\"yaxis\":{\"range\":[15.4,5.4],\"showgrid\":false,\"zeroline\":false,\"tickmode\":\"array\",\"tickvals\":[]}}],\"label\":\"\",\"method\":\"relayout\"},{\"args\":[{\"yaxis\":{\"range\":[15.5,5.5],\"showgrid\":false,\"zeroline\":false,\"tickmode\":\"array\",\"tickvals\":[]}}],\"label\":\"\",\"method\":\"relayout\"},{\"args\":[{\"yaxis\":{\"range\":[15.600000000000001,5.6000000000000005],\"showgrid\":false,\"zeroline\":false,\"tickmode\":\"array\",\"tickvals\":[]}}],\"label\":\"\",\"method\":\"relayout\"},{\"args\":[{\"yaxis\":{\"range\":[15.7,5.7],\"showgrid\":false,\"zeroline\":false,\"tickmode\":\"array\",\"tickvals\":[]}}],\"label\":\"\",\"method\":\"relayout\"},{\"args\":[{\"yaxis\":{\"range\":[15.8,5.800000000000001],\"showgrid\":false,\"zeroline\":false,\"tickmode\":\"array\",\"tickvals\":[]}}],\"label\":\"\",\"method\":\"relayout\"},{\"args\":[{\"yaxis\":{\"range\":[15.899999999999999,5.9],\"showgrid\":false,\"zeroline\":false,\"tickmode\":\"array\",\"tickvals\":[]}}],\"label\":\"\",\"method\":\"relayout\"},{\"args\":[{\"yaxis\":{\"range\":[16.0,6.0],\"showgrid\":false,\"zeroline\":false,\"tickmode\":\"array\",\"tickvals\":[]}}],\"label\":\"\",\"method\":\"relayout\"},{\"args\":[{\"yaxis\":{\"range\":[16.1,6.1000000000000005],\"showgrid\":false,\"zeroline\":false,\"tickmode\":\"array\",\"tickvals\":[]}}],\"label\":\"\",\"method\":\"relayout\"},{\"args\":[{\"yaxis\":{\"range\":[16.2,6.2],\"showgrid\":false,\"zeroline\":false,\"tickmode\":\"array\",\"tickvals\":[]}}],\"label\":\"\",\"method\":\"relayout\"},{\"args\":[{\"yaxis\":{\"range\":[16.3,6.300000000000001],\"showgrid\":false,\"zeroline\":false,\"tickmode\":\"array\",\"tickvals\":[]}}],\"label\":\"\",\"method\":\"relayout\"},{\"args\":[{\"yaxis\":{\"range\":[16.4,6.4],\"showgrid\":false,\"zeroline\":false,\"tickmode\":\"array\",\"tickvals\":[]}}],\"label\":\"\",\"method\":\"relayout\"},{\"args\":[{\"yaxis\":{\"range\":[16.5,6.5],\"showgrid\":false,\"zeroline\":false,\"tickmode\":\"array\",\"tickvals\":[]}}],\"label\":\"\",\"method\":\"relayout\"},{\"args\":[{\"yaxis\":{\"range\":[16.6,6.6000000000000005],\"showgrid\":false,\"zeroline\":false,\"tickmode\":\"array\",\"tickvals\":[]}}],\"label\":\"\",\"method\":\"relayout\"},{\"args\":[{\"yaxis\":{\"range\":[16.7,6.7],\"showgrid\":false,\"zeroline\":false,\"tickmode\":\"array\",\"tickvals\":[]}}],\"label\":\"\",\"method\":\"relayout\"},{\"args\":[{\"yaxis\":{\"range\":[16.8,6.800000000000001],\"showgrid\":false,\"zeroline\":false,\"tickmode\":\"array\",\"tickvals\":[]}}],\"label\":\"\",\"method\":\"relayout\"},{\"args\":[{\"yaxis\":{\"range\":[16.9,6.9],\"showgrid\":false,\"zeroline\":false,\"tickmode\":\"array\",\"tickvals\":[]}}],\"label\":\"\",\"method\":\"relayout\"},{\"args\":[{\"yaxis\":{\"range\":[17.0,7.0],\"showgrid\":false,\"zeroline\":false,\"tickmode\":\"array\",\"tickvals\":[]}}],\"label\":\"\",\"method\":\"relayout\"},{\"args\":[{\"yaxis\":{\"range\":[17.1,7.1000000000000005],\"showgrid\":false,\"zeroline\":false,\"tickmode\":\"array\",\"tickvals\":[]}}],\"label\":\"\",\"method\":\"relayout\"},{\"args\":[{\"yaxis\":{\"range\":[17.2,7.2],\"showgrid\":false,\"zeroline\":false,\"tickmode\":\"array\",\"tickvals\":[]}}],\"label\":\"\",\"method\":\"relayout\"},{\"args\":[{\"yaxis\":{\"range\":[17.3,7.300000000000001],\"showgrid\":false,\"zeroline\":false,\"tickmode\":\"array\",\"tickvals\":[]}}],\"label\":\"\",\"method\":\"relayout\"},{\"args\":[{\"yaxis\":{\"range\":[17.4,7.4],\"showgrid\":false,\"zeroline\":false,\"tickmode\":\"array\",\"tickvals\":[]}}],\"label\":\"\",\"method\":\"relayout\"},{\"args\":[{\"yaxis\":{\"range\":[17.5,7.5],\"showgrid\":false,\"zeroline\":false,\"tickmode\":\"array\",\"tickvals\":[]}}],\"label\":\"\",\"method\":\"relayout\"},{\"args\":[{\"yaxis\":{\"range\":[17.6,7.6],\"showgrid\":false,\"zeroline\":false,\"tickmode\":\"array\",\"tickvals\":[]}}],\"label\":\"\",\"method\":\"relayout\"},{\"args\":[{\"yaxis\":{\"range\":[17.700000000000003,7.700000000000001],\"showgrid\":false,\"zeroline\":false,\"tickmode\":\"array\",\"tickvals\":[]}}],\"label\":\"\",\"method\":\"relayout\"},{\"args\":[{\"yaxis\":{\"range\":[17.8,7.800000000000001],\"showgrid\":false,\"zeroline\":false,\"tickmode\":\"array\",\"tickvals\":[]}}],\"label\":\"\",\"method\":\"relayout\"},{\"args\":[{\"yaxis\":{\"range\":[17.9,7.9],\"showgrid\":false,\"zeroline\":false,\"tickmode\":\"array\",\"tickvals\":[]}}],\"label\":\"\",\"method\":\"relayout\"},{\"args\":[{\"yaxis\":{\"range\":[18.0,8.0],\"showgrid\":false,\"zeroline\":false,\"tickmode\":\"array\",\"tickvals\":[]}}],\"label\":\"\",\"method\":\"relayout\"},{\"args\":[{\"yaxis\":{\"range\":[18.1,8.1],\"showgrid\":false,\"zeroline\":false,\"tickmode\":\"array\",\"tickvals\":[]}}],\"label\":\"\",\"method\":\"relayout\"},{\"args\":[{\"yaxis\":{\"range\":[18.200000000000003,8.200000000000001],\"showgrid\":false,\"zeroline\":false,\"tickmode\":\"array\",\"tickvals\":[]}}],\"label\":\"\",\"method\":\"relayout\"},{\"args\":[{\"yaxis\":{\"range\":[18.3,8.3],\"showgrid\":false,\"zeroline\":false,\"tickmode\":\"array\",\"tickvals\":[]}}],\"label\":\"\",\"method\":\"relayout\"},{\"args\":[{\"yaxis\":{\"range\":[18.4,8.4],\"showgrid\":false,\"zeroline\":false,\"tickmode\":\"array\",\"tickvals\":[]}}],\"label\":\"\",\"method\":\"relayout\"},{\"args\":[{\"yaxis\":{\"range\":[18.5,8.5],\"showgrid\":false,\"zeroline\":false,\"tickmode\":\"array\",\"tickvals\":[]}}],\"label\":\"\",\"method\":\"relayout\"},{\"args\":[{\"yaxis\":{\"range\":[18.6,8.6],\"showgrid\":false,\"zeroline\":false,\"tickmode\":\"array\",\"tickvals\":[]}}],\"label\":\"\",\"method\":\"relayout\"},{\"args\":[{\"yaxis\":{\"range\":[18.700000000000003,8.700000000000001],\"showgrid\":false,\"zeroline\":false,\"tickmode\":\"array\",\"tickvals\":[]}}],\"label\":\"\",\"method\":\"relayout\"},{\"args\":[{\"yaxis\":{\"range\":[18.8,8.8],\"showgrid\":false,\"zeroline\":false,\"tickmode\":\"array\",\"tickvals\":[]}}],\"label\":\"\",\"method\":\"relayout\"},{\"args\":[{\"yaxis\":{\"range\":[18.9,8.9],\"showgrid\":false,\"zeroline\":false,\"tickmode\":\"array\",\"tickvals\":[]}}],\"label\":\"\",\"method\":\"relayout\"},{\"args\":[{\"yaxis\":{\"range\":[19.0,9.0],\"showgrid\":false,\"zeroline\":false,\"tickmode\":\"array\",\"tickvals\":[]}}],\"label\":\"\",\"method\":\"relayout\"},{\"args\":[{\"yaxis\":{\"range\":[19.1,9.100000000000001],\"showgrid\":false,\"zeroline\":false,\"tickmode\":\"array\",\"tickvals\":[]}}],\"label\":\"\",\"method\":\"relayout\"},{\"args\":[{\"yaxis\":{\"range\":[19.200000000000003,9.200000000000001],\"showgrid\":false,\"zeroline\":false,\"tickmode\":\"array\",\"tickvals\":[]}}],\"label\":\"\",\"method\":\"relayout\"},{\"args\":[{\"yaxis\":{\"range\":[19.3,9.3],\"showgrid\":false,\"zeroline\":false,\"tickmode\":\"array\",\"tickvals\":[]}}],\"label\":\"\",\"method\":\"relayout\"},{\"args\":[{\"yaxis\":{\"range\":[19.4,9.4],\"showgrid\":false,\"zeroline\":false,\"tickmode\":\"array\",\"tickvals\":[]}}],\"label\":\"\",\"method\":\"relayout\"},{\"args\":[{\"yaxis\":{\"range\":[19.5,9.5],\"showgrid\":false,\"zeroline\":false,\"tickmode\":\"array\",\"tickvals\":[]}}],\"label\":\"\",\"method\":\"relayout\"},{\"args\":[{\"yaxis\":{\"range\":[19.6,9.600000000000001],\"showgrid\":false,\"zeroline\":false,\"tickmode\":\"array\",\"tickvals\":[]}}],\"label\":\"\",\"method\":\"relayout\"},{\"args\":[{\"yaxis\":{\"range\":[19.700000000000003,9.700000000000001],\"showgrid\":false,\"zeroline\":false,\"tickmode\":\"array\",\"tickvals\":[]}}],\"label\":\"\",\"method\":\"relayout\"},{\"args\":[{\"yaxis\":{\"range\":[19.8,9.8],\"showgrid\":false,\"zeroline\":false,\"tickmode\":\"array\",\"tickvals\":[]}}],\"label\":\"\",\"method\":\"relayout\"},{\"args\":[{\"yaxis\":{\"range\":[19.9,9.9],\"showgrid\":false,\"zeroline\":false,\"tickmode\":\"array\",\"tickvals\":[]}}],\"label\":\"\",\"method\":\"relayout\"},{\"args\":[{\"yaxis\":{\"range\":[20.0,10.0],\"showgrid\":false,\"zeroline\":false,\"tickmode\":\"array\",\"tickvals\":[]}}],\"label\":\"\",\"method\":\"relayout\"},{\"args\":[{\"yaxis\":{\"range\":[20.1,10.100000000000001],\"showgrid\":false,\"zeroline\":false,\"tickmode\":\"array\",\"tickvals\":[]}}],\"label\":\"\",\"method\":\"relayout\"},{\"args\":[{\"yaxis\":{\"range\":[20.200000000000003,10.200000000000001],\"showgrid\":false,\"zeroline\":false,\"tickmode\":\"array\",\"tickvals\":[]}}],\"label\":\"\",\"method\":\"relayout\"},{\"args\":[{\"yaxis\":{\"range\":[20.3,10.3],\"showgrid\":false,\"zeroline\":false,\"tickmode\":\"array\",\"tickvals\":[]}}],\"label\":\"\",\"method\":\"relayout\"},{\"args\":[{\"yaxis\":{\"range\":[20.4,10.4],\"showgrid\":false,\"zeroline\":false,\"tickmode\":\"array\",\"tickvals\":[]}}],\"label\":\"\",\"method\":\"relayout\"},{\"args\":[{\"yaxis\":{\"range\":[20.5,10.5],\"showgrid\":false,\"zeroline\":false,\"tickmode\":\"array\",\"tickvals\":[]}}],\"label\":\"\",\"method\":\"relayout\"},{\"args\":[{\"yaxis\":{\"range\":[20.6,10.600000000000001],\"showgrid\":false,\"zeroline\":false,\"tickmode\":\"array\",\"tickvals\":[]}}],\"label\":\"\",\"method\":\"relayout\"},{\"args\":[{\"yaxis\":{\"range\":[20.700000000000003,10.700000000000001],\"showgrid\":false,\"zeroline\":false,\"tickmode\":\"array\",\"tickvals\":[]}}],\"label\":\"\",\"method\":\"relayout\"},{\"args\":[{\"yaxis\":{\"range\":[20.8,10.8],\"showgrid\":false,\"zeroline\":false,\"tickmode\":\"array\",\"tickvals\":[]}}],\"label\":\"\",\"method\":\"relayout\"},{\"args\":[{\"yaxis\":{\"range\":[20.9,10.9],\"showgrid\":false,\"zeroline\":false,\"tickmode\":\"array\",\"tickvals\":[]}}],\"label\":\"\",\"method\":\"relayout\"},{\"args\":[{\"yaxis\":{\"range\":[21.0,11.0],\"showgrid\":false,\"zeroline\":false,\"tickmode\":\"array\",\"tickvals\":[]}}],\"label\":\"\",\"method\":\"relayout\"},{\"args\":[{\"yaxis\":{\"range\":[21.1,11.100000000000001],\"showgrid\":false,\"zeroline\":false,\"tickmode\":\"array\",\"tickvals\":[]}}],\"label\":\"\",\"method\":\"relayout\"},{\"args\":[{\"yaxis\":{\"range\":[21.200000000000003,11.200000000000001],\"showgrid\":false,\"zeroline\":false,\"tickmode\":\"array\",\"tickvals\":[]}}],\"label\":\"\",\"method\":\"relayout\"},{\"args\":[{\"yaxis\":{\"range\":[21.3,11.3],\"showgrid\":false,\"zeroline\":false,\"tickmode\":\"array\",\"tickvals\":[]}}],\"label\":\"\",\"method\":\"relayout\"},{\"args\":[{\"yaxis\":{\"range\":[21.4,11.4],\"showgrid\":false,\"zeroline\":false,\"tickmode\":\"array\",\"tickvals\":[]}}],\"label\":\"\",\"method\":\"relayout\"},{\"args\":[{\"yaxis\":{\"range\":[21.5,11.5],\"showgrid\":false,\"zeroline\":false,\"tickmode\":\"array\",\"tickvals\":[]}}],\"label\":\"\",\"method\":\"relayout\"},{\"args\":[{\"yaxis\":{\"range\":[21.6,11.600000000000001],\"showgrid\":false,\"zeroline\":false,\"tickmode\":\"array\",\"tickvals\":[]}}],\"label\":\"\",\"method\":\"relayout\"},{\"args\":[{\"yaxis\":{\"range\":[21.700000000000003,11.700000000000001],\"showgrid\":false,\"zeroline\":false,\"tickmode\":\"array\",\"tickvals\":[]}}],\"label\":\"\",\"method\":\"relayout\"},{\"args\":[{\"yaxis\":{\"range\":[21.8,11.8],\"showgrid\":false,\"zeroline\":false,\"tickmode\":\"array\",\"tickvals\":[]}}],\"label\":\"\",\"method\":\"relayout\"},{\"args\":[{\"yaxis\":{\"range\":[21.9,11.9],\"showgrid\":false,\"zeroline\":false,\"tickmode\":\"array\",\"tickvals\":[]}}],\"label\":\"\",\"method\":\"relayout\"},{\"args\":[{\"yaxis\":{\"range\":[22.0,12.0],\"showgrid\":false,\"zeroline\":false,\"tickmode\":\"array\",\"tickvals\":[]}}],\"label\":\"\",\"method\":\"relayout\"},{\"args\":[{\"yaxis\":{\"range\":[22.1,12.100000000000001],\"showgrid\":false,\"zeroline\":false,\"tickmode\":\"array\",\"tickvals\":[]}}],\"label\":\"\",\"method\":\"relayout\"},{\"args\":[{\"yaxis\":{\"range\":[22.200000000000003,12.200000000000001],\"showgrid\":false,\"zeroline\":false,\"tickmode\":\"array\",\"tickvals\":[]}}],\"label\":\"\",\"method\":\"relayout\"},{\"args\":[{\"yaxis\":{\"range\":[22.3,12.3],\"showgrid\":false,\"zeroline\":false,\"tickmode\":\"array\",\"tickvals\":[]}}],\"label\":\"\",\"method\":\"relayout\"},{\"args\":[{\"yaxis\":{\"range\":[22.4,12.4],\"showgrid\":false,\"zeroline\":false,\"tickmode\":\"array\",\"tickvals\":[]}}],\"label\":\"\",\"method\":\"relayout\"},{\"args\":[{\"yaxis\":{\"range\":[22.5,12.5],\"showgrid\":false,\"zeroline\":false,\"tickmode\":\"array\",\"tickvals\":[]}}],\"label\":\"\",\"method\":\"relayout\"},{\"args\":[{\"yaxis\":{\"range\":[22.6,12.600000000000001],\"showgrid\":false,\"zeroline\":false,\"tickmode\":\"array\",\"tickvals\":[]}}],\"label\":\"\",\"method\":\"relayout\"},{\"args\":[{\"yaxis\":{\"range\":[22.700000000000003,12.700000000000001],\"showgrid\":false,\"zeroline\":false,\"tickmode\":\"array\",\"tickvals\":[]}}],\"label\":\"\",\"method\":\"relayout\"},{\"args\":[{\"yaxis\":{\"range\":[22.8,12.8],\"showgrid\":false,\"zeroline\":false,\"tickmode\":\"array\",\"tickvals\":[]}}],\"label\":\"\",\"method\":\"relayout\"},{\"args\":[{\"yaxis\":{\"range\":[22.9,12.9],\"showgrid\":false,\"zeroline\":false,\"tickmode\":\"array\",\"tickvals\":[]}}],\"label\":\"\",\"method\":\"relayout\"},{\"args\":[{\"yaxis\":{\"range\":[23.0,13.0],\"showgrid\":false,\"zeroline\":false,\"tickmode\":\"array\",\"tickvals\":[]}}],\"label\":\"\",\"method\":\"relayout\"},{\"args\":[{\"yaxis\":{\"range\":[23.1,13.100000000000001],\"showgrid\":false,\"zeroline\":false,\"tickmode\":\"array\",\"tickvals\":[]}}],\"label\":\"\",\"method\":\"relayout\"},{\"args\":[{\"yaxis\":{\"range\":[23.200000000000003,13.200000000000001],\"showgrid\":false,\"zeroline\":false,\"tickmode\":\"array\",\"tickvals\":[]}}],\"label\":\"\",\"method\":\"relayout\"},{\"args\":[{\"yaxis\":{\"range\":[23.3,13.3],\"showgrid\":false,\"zeroline\":false,\"tickmode\":\"array\",\"tickvals\":[]}}],\"label\":\"\",\"method\":\"relayout\"},{\"args\":[{\"yaxis\":{\"range\":[23.4,13.4],\"showgrid\":false,\"zeroline\":false,\"tickmode\":\"array\",\"tickvals\":[]}}],\"label\":\"\",\"method\":\"relayout\"},{\"args\":[{\"yaxis\":{\"range\":[23.5,13.5],\"showgrid\":false,\"zeroline\":false,\"tickmode\":\"array\",\"tickvals\":[]}}],\"label\":\"\",\"method\":\"relayout\"},{\"args\":[{\"yaxis\":{\"range\":[23.6,13.600000000000001],\"showgrid\":false,\"zeroline\":false,\"tickmode\":\"array\",\"tickvals\":[]}}],\"label\":\"\",\"method\":\"relayout\"},{\"args\":[{\"yaxis\":{\"range\":[23.700000000000003,13.700000000000001],\"showgrid\":false,\"zeroline\":false,\"tickmode\":\"array\",\"tickvals\":[]}}],\"label\":\"\",\"method\":\"relayout\"},{\"args\":[{\"yaxis\":{\"range\":[23.8,13.8],\"showgrid\":false,\"zeroline\":false,\"tickmode\":\"array\",\"tickvals\":[]}}],\"label\":\"\",\"method\":\"relayout\"},{\"args\":[{\"yaxis\":{\"range\":[23.9,13.9],\"showgrid\":false,\"zeroline\":false,\"tickmode\":\"array\",\"tickvals\":[]}}],\"label\":\"\",\"method\":\"relayout\"},{\"args\":[{\"yaxis\":{\"range\":[24.0,14.0],\"showgrid\":false,\"zeroline\":false,\"tickmode\":\"array\",\"tickvals\":[]}}],\"label\":\"\",\"method\":\"relayout\"},{\"args\":[{\"yaxis\":{\"range\":[24.1,14.100000000000001],\"showgrid\":false,\"zeroline\":false,\"tickmode\":\"array\",\"tickvals\":[]}}],\"label\":\"\",\"method\":\"relayout\"},{\"args\":[{\"yaxis\":{\"range\":[24.200000000000003,14.200000000000001],\"showgrid\":false,\"zeroline\":false,\"tickmode\":\"array\",\"tickvals\":[]}}],\"label\":\"\",\"method\":\"relayout\"},{\"args\":[{\"yaxis\":{\"range\":[24.3,14.3],\"showgrid\":false,\"zeroline\":false,\"tickmode\":\"array\",\"tickvals\":[]}}],\"label\":\"\",\"method\":\"relayout\"},{\"args\":[{\"yaxis\":{\"range\":[24.4,14.4],\"showgrid\":false,\"zeroline\":false,\"tickmode\":\"array\",\"tickvals\":[]}}],\"label\":\"\",\"method\":\"relayout\"},{\"args\":[{\"yaxis\":{\"range\":[24.5,14.5],\"showgrid\":false,\"zeroline\":false,\"tickmode\":\"array\",\"tickvals\":[]}}],\"label\":\"\",\"method\":\"relayout\"},{\"args\":[{\"yaxis\":{\"range\":[24.6,14.600000000000001],\"showgrid\":false,\"zeroline\":false,\"tickmode\":\"array\",\"tickvals\":[]}}],\"label\":\"\",\"method\":\"relayout\"},{\"args\":[{\"yaxis\":{\"range\":[24.700000000000003,14.700000000000001],\"showgrid\":false,\"zeroline\":false,\"tickmode\":\"array\",\"tickvals\":[]}}],\"label\":\"\",\"method\":\"relayout\"},{\"args\":[{\"yaxis\":{\"range\":[24.8,14.8],\"showgrid\":false,\"zeroline\":false,\"tickmode\":\"array\",\"tickvals\":[]}}],\"label\":\"\",\"method\":\"relayout\"},{\"args\":[{\"yaxis\":{\"range\":[24.9,14.9],\"showgrid\":false,\"zeroline\":false,\"tickmode\":\"array\",\"tickvals\":[]}}],\"label\":\"\",\"method\":\"relayout\"},{\"args\":[{\"yaxis\":{\"range\":[25.0,15.0],\"showgrid\":false,\"zeroline\":false,\"tickmode\":\"array\",\"tickvals\":[]}}],\"label\":\"\",\"method\":\"relayout\"},{\"args\":[{\"yaxis\":{\"range\":[25.1,15.100000000000001],\"showgrid\":false,\"zeroline\":false,\"tickmode\":\"array\",\"tickvals\":[]}}],\"label\":\"\",\"method\":\"relayout\"},{\"args\":[{\"yaxis\":{\"range\":[25.200000000000003,15.200000000000001],\"showgrid\":false,\"zeroline\":false,\"tickmode\":\"array\",\"tickvals\":[]}}],\"label\":\"\",\"method\":\"relayout\"},{\"args\":[{\"yaxis\":{\"range\":[25.3,15.3],\"showgrid\":false,\"zeroline\":false,\"tickmode\":\"array\",\"tickvals\":[]}}],\"label\":\"\",\"method\":\"relayout\"},{\"args\":[{\"yaxis\":{\"range\":[25.4,15.4],\"showgrid\":false,\"zeroline\":false,\"tickmode\":\"array\",\"tickvals\":[]}}],\"label\":\"\",\"method\":\"relayout\"},{\"args\":[{\"yaxis\":{\"range\":[25.5,15.5],\"showgrid\":false,\"zeroline\":false,\"tickmode\":\"array\",\"tickvals\":[]}}],\"label\":\"\",\"method\":\"relayout\"},{\"args\":[{\"yaxis\":{\"range\":[25.6,15.600000000000001],\"showgrid\":false,\"zeroline\":false,\"tickmode\":\"array\",\"tickvals\":[]}}],\"label\":\"\",\"method\":\"relayout\"},{\"args\":[{\"yaxis\":{\"range\":[25.7,15.7],\"showgrid\":false,\"zeroline\":false,\"tickmode\":\"array\",\"tickvals\":[]}}],\"label\":\"\",\"method\":\"relayout\"},{\"args\":[{\"yaxis\":{\"range\":[25.8,15.8],\"showgrid\":false,\"zeroline\":false,\"tickmode\":\"array\",\"tickvals\":[]}}],\"label\":\"\",\"method\":\"relayout\"},{\"args\":[{\"yaxis\":{\"range\":[25.900000000000002,15.900000000000002],\"showgrid\":false,\"zeroline\":false,\"tickmode\":\"array\",\"tickvals\":[]}}],\"label\":\"\",\"method\":\"relayout\"},{\"args\":[{\"yaxis\":{\"range\":[26.0,16.0],\"showgrid\":false,\"zeroline\":false,\"tickmode\":\"array\",\"tickvals\":[]}}],\"label\":\"\",\"method\":\"relayout\"},{\"args\":[{\"yaxis\":{\"range\":[26.1,16.1],\"showgrid\":false,\"zeroline\":false,\"tickmode\":\"array\",\"tickvals\":[]}}],\"label\":\"\",\"method\":\"relayout\"},{\"args\":[{\"yaxis\":{\"range\":[26.2,16.2],\"showgrid\":false,\"zeroline\":false,\"tickmode\":\"array\",\"tickvals\":[]}}],\"label\":\"\",\"method\":\"relayout\"},{\"args\":[{\"yaxis\":{\"range\":[26.3,16.3],\"showgrid\":false,\"zeroline\":false,\"tickmode\":\"array\",\"tickvals\":[]}}],\"label\":\"\",\"method\":\"relayout\"},{\"args\":[{\"yaxis\":{\"range\":[26.400000000000002,16.400000000000002],\"showgrid\":false,\"zeroline\":false,\"tickmode\":\"array\",\"tickvals\":[]}}],\"label\":\"\",\"method\":\"relayout\"},{\"args\":[{\"yaxis\":{\"range\":[26.5,16.5],\"showgrid\":false,\"zeroline\":false,\"tickmode\":\"array\",\"tickvals\":[]}}],\"label\":\"\",\"method\":\"relayout\"},{\"args\":[{\"yaxis\":{\"range\":[26.6,16.6],\"showgrid\":false,\"zeroline\":false,\"tickmode\":\"array\",\"tickvals\":[]}}],\"label\":\"\",\"method\":\"relayout\"},{\"args\":[{\"yaxis\":{\"range\":[26.7,16.7],\"showgrid\":false,\"zeroline\":false,\"tickmode\":\"array\",\"tickvals\":[]}}],\"label\":\"\",\"method\":\"relayout\"},{\"args\":[{\"yaxis\":{\"range\":[26.8,16.8],\"showgrid\":false,\"zeroline\":false,\"tickmode\":\"array\",\"tickvals\":[]}}],\"label\":\"\",\"method\":\"relayout\"},{\"args\":[{\"yaxis\":{\"range\":[26.900000000000002,16.900000000000002],\"showgrid\":false,\"zeroline\":false,\"tickmode\":\"array\",\"tickvals\":[]}}],\"label\":\"\",\"method\":\"relayout\"},{\"args\":[{\"yaxis\":{\"range\":[27.0,17.0],\"showgrid\":false,\"zeroline\":false,\"tickmode\":\"array\",\"tickvals\":[]}}],\"label\":\"\",\"method\":\"relayout\"},{\"args\":[{\"yaxis\":{\"range\":[27.1,17.1],\"showgrid\":false,\"zeroline\":false,\"tickmode\":\"array\",\"tickvals\":[]}}],\"label\":\"\",\"method\":\"relayout\"},{\"args\":[{\"yaxis\":{\"range\":[27.2,17.2],\"showgrid\":false,\"zeroline\":false,\"tickmode\":\"array\",\"tickvals\":[]}}],\"label\":\"\",\"method\":\"relayout\"},{\"args\":[{\"yaxis\":{\"range\":[27.3,17.3],\"showgrid\":false,\"zeroline\":false,\"tickmode\":\"array\",\"tickvals\":[]}}],\"label\":\"\",\"method\":\"relayout\"},{\"args\":[{\"yaxis\":{\"range\":[27.400000000000002,17.400000000000002],\"showgrid\":false,\"zeroline\":false,\"tickmode\":\"array\",\"tickvals\":[]}}],\"label\":\"\",\"method\":\"relayout\"}],\"ticklen\":0,\"tickwidth\":0}],\"margin\":{\"l\":0,\"r\":0,\"t\":0,\"b\":0},\"modebar\":{\"remove\":[\"select\",\"lasso\"],\"orientation\":\"v\"}},                        {\"responsive\": true}                    ).then(function(){\n",
       "                            \n",
       "var gd = document.getElementById('807afa59-f137-4be2-84d9-76f673451bcf');\n",
       "var x = new MutationObserver(function (mutations, observer) {{\n",
       "        var display = window.getComputedStyle(gd).display;\n",
       "        if (!display || display === 'none') {{\n",
       "            console.log([gd, 'removed!']);\n",
       "            Plotly.purge(gd);\n",
       "            observer.disconnect();\n",
       "        }}\n",
       "}});\n",
       "\n",
       "// Listen for the removal of the full notebook cells\n",
       "var notebookContainer = gd.closest('#notebook-container');\n",
       "if (notebookContainer) {{\n",
       "    x.observe(notebookContainer, {childList: true});\n",
       "}}\n",
       "\n",
       "// Listen for the clearing of the current output cell\n",
       "var outputEl = gd.closest('.output');\n",
       "if (outputEl) {{\n",
       "    x.observe(outputEl, {childList: true});\n",
       "}}\n",
       "\n",
       "                        })                };                });            </script>        </div>"
      ]
     },
     "metadata": {},
     "output_type": "display_data"
    }
   ],
   "source": [
    "with plotly_renderer('notebook_connected'):\n",
    "    mav.show_figure(add_slider=True)"
   ]
  },
  {
   "cell_type": "markdown",
   "metadata": {},
   "source": [
    "## Interactive widget\n",
    "* Based on [ipywidgets](https://ipywidgets.readthedocs.io/en/latest/) and [plotly.graph_objects.FigureWidget](https://plotly.com/python/figurewidget/)\n",
    "* Synchronizaton between slider, overview panel, main graph and table\n",
    "  - Includes responsiveness of other components to plotly's built-in pan and zoom actions\n",
    "* Clicking a node in the main graph highlights it in the table\n",
    "* Limited portability expected to fluctuate over time on different environments"
   ]
  },
  {
   "cell_type": "code",
   "execution_count": 6,
   "metadata": {},
   "outputs": [
    {
     "data": {
      "application/vnd.jupyter.widget-view+json": {
       "model_id": "a509303d146848e38874b24421c8d01d",
       "version_major": 2,
       "version_minor": 0
      },
      "text/plain": [
       "HBox(children=(Box(children=(FloatRangeSlider(value=(-9.5, 0.5), layout=Layout(height='400px'), max=0.5, min=-…"
      ]
     },
     "metadata": {},
     "output_type": "display_data"
    },
    {
     "data": {
      "application/javascript": "document.getElementById(\"scr_table_140321052869440_1734001119325\").scrollTo({behavior:\"smooth\", top:0, left:0});",
      "text/plain": [
       "<IPython.core.display.Javascript object>"
      ]
     },
     "metadata": {},
     "output_type": "display_data"
    },
    {
     "data": {
      "application/javascript": "document.getElementById(\"cell_140321052869440_1734001119325_30_0\").scrollIntoView({behavior:\"smooth\", block:\"start\", inline:\"nearest\"});",
      "text/plain": [
       "<IPython.core.display.Javascript object>"
      ]
     },
     "metadata": {},
     "output_type": "display_data"
    },
    {
     "data": {
      "application/javascript": "document.getElementById(\"cell_140321052869440_1734001119325_30_0\").scrollIntoView({behavior:\"smooth\", block:\"start\", inline:\"nearest\"});",
      "text/plain": [
       "<IPython.core.display.Javascript object>"
      ]
     },
     "metadata": {},
     "output_type": "display_data"
    },
    {
     "data": {
      "application/javascript": "document.getElementById(\"cell_140321052869440_1734001119325_35_0\").scrollIntoView({behavior:\"smooth\", block:\"start\", inline:\"nearest\"});",
      "text/plain": [
       "<IPython.core.display.Javascript object>"
      ]
     },
     "metadata": {},
     "output_type": "display_data"
    },
    {
     "data": {
      "application/javascript": "const table = document.getElementById(\"table_140321052869440_1734001119325\");\nconst highlightedCells = table.querySelectorAll(\".highlight\");\nhighlightedCells.forEach(cell => cell.classList.remove(\"highlight\"));\ndocument.getElementById(\"cell_140321052869440_1734001119325_50_0\").classList.add(\"highlight\");\ndocument.getElementById(\"cell_140321052869440_1734001119325_50_1\").classList.add(\"highlight\");\ndocument.getElementById(\"cell_140321052869440_1734001119325_50_2\").classList.add(\"highlight\");\ndocument.getElementById(\"cell_140321052869440_1734001119325_50_3\").classList.add(\"highlight\");\ndocument.getElementById(\"cell_140321052869440_1734001119325_50_4\").classList.add(\"highlight\");\ndocument.getElementById(\"cell_140321052869440_1734001119325_50_0\").scrollIntoView({behavior:\"smooth\", block:\"center\", inline:\"nearest\"});",
      "text/plain": [
       "<IPython.core.display.Javascript object>"
      ]
     },
     "metadata": {},
     "output_type": "display_data"
    },
    {
     "data": {
      "application/javascript": "document.getElementById(\"cell_140321052869440_1734001119325_36_0\").scrollIntoView({behavior:\"smooth\", block:\"start\", inline:\"nearest\"});",
      "text/plain": [
       "<IPython.core.display.Javascript object>"
      ]
     },
     "metadata": {},
     "output_type": "display_data"
    },
    {
     "data": {
      "application/javascript": "document.getElementById(\"cell_140321052869440_1734001119325_33_0\").scrollIntoView({behavior:\"smooth\", block:\"start\", inline:\"nearest\"});",
      "text/plain": [
       "<IPython.core.display.Javascript object>"
      ]
     },
     "metadata": {},
     "output_type": "display_data"
    },
    {
     "data": {
      "application/javascript": "const table = document.getElementById(\"table_140321052869440_1734001119325\");\nconst highlightedCells = table.querySelectorAll(\".highlight\");\nhighlightedCells.forEach(cell => cell.classList.remove(\"highlight\"));\ndocument.getElementById(\"cell_140321052869440_1734001119325_47_0\").classList.add(\"highlight\");\ndocument.getElementById(\"cell_140321052869440_1734001119325_47_1\").classList.add(\"highlight\");\ndocument.getElementById(\"cell_140321052869440_1734001119325_47_2\").classList.add(\"highlight\");\ndocument.getElementById(\"cell_140321052869440_1734001119325_47_3\").classList.add(\"highlight\");\ndocument.getElementById(\"cell_140321052869440_1734001119325_47_4\").classList.add(\"highlight\");\ndocument.getElementById(\"cell_140321052869440_1734001119325_47_0\").scrollIntoView({behavior:\"smooth\", block:\"center\", inline:\"nearest\"});",
      "text/plain": [
       "<IPython.core.display.Javascript object>"
      ]
     },
     "metadata": {},
     "output_type": "display_data"
    },
    {
     "data": {
      "application/javascript": "document.getElementById(\"cell_140321052869440_1734001119325_32_0\").scrollIntoView({behavior:\"smooth\", block:\"start\", inline:\"nearest\"});",
      "text/plain": [
       "<IPython.core.display.Javascript object>"
      ]
     },
     "metadata": {},
     "output_type": "display_data"
    },
    {
     "data": {
      "application/javascript": "const table = document.getElementById(\"table_140321052869440_1734001119325\");\nconst highlightedCells = table.querySelectorAll(\".highlight\");\nhighlightedCells.forEach(cell => cell.classList.remove(\"highlight\"));\ndocument.getElementById(\"cell_140321052869440_1734001119325_47_0\").classList.add(\"highlight\");\ndocument.getElementById(\"cell_140321052869440_1734001119325_47_1\").classList.add(\"highlight\");\ndocument.getElementById(\"cell_140321052869440_1734001119325_47_2\").classList.add(\"highlight\");\ndocument.getElementById(\"cell_140321052869440_1734001119325_47_3\").classList.add(\"highlight\");\ndocument.getElementById(\"cell_140321052869440_1734001119325_47_4\").classList.add(\"highlight\");\ndocument.getElementById(\"cell_140321052869440_1734001119325_47_0\").scrollIntoView({behavior:\"smooth\", block:\"center\", inline:\"nearest\"});",
      "text/plain": [
       "<IPython.core.display.Javascript object>"
      ]
     },
     "metadata": {},
     "output_type": "display_data"
    },
    {
     "data": {
      "application/javascript": "document.getElementById(\"cell_140321052869440_1734001119325_26_0\").scrollIntoView({behavior:\"smooth\", block:\"start\", inline:\"nearest\"});",
      "text/plain": [
       "<IPython.core.display.Javascript object>"
      ]
     },
     "metadata": {},
     "output_type": "display_data"
    },
    {
     "data": {
      "application/javascript": "const table = document.getElementById(\"table_140321052869440_1734001119325\");\nconst highlightedCells = table.querySelectorAll(\".highlight\");\nhighlightedCells.forEach(cell => cell.classList.remove(\"highlight\"));\ndocument.getElementById(\"cell_140321052869440_1734001119325_41_0\").classList.add(\"highlight\");\ndocument.getElementById(\"cell_140321052869440_1734001119325_41_1\").classList.add(\"highlight\");\ndocument.getElementById(\"cell_140321052869440_1734001119325_41_2\").classList.add(\"highlight\");\ndocument.getElementById(\"cell_140321052869440_1734001119325_41_3\").classList.add(\"highlight\");\ndocument.getElementById(\"cell_140321052869440_1734001119325_41_4\").classList.add(\"highlight\");\ndocument.getElementById(\"cell_140321052869440_1734001119325_41_0\").scrollIntoView({behavior:\"smooth\", block:\"center\", inline:\"nearest\"});",
      "text/plain": [
       "<IPython.core.display.Javascript object>"
      ]
     },
     "metadata": {},
     "output_type": "display_data"
    },
    {
     "data": {
      "application/javascript": "document.getElementById(\"cell_140321052869440_1734001119325_27_0\").scrollIntoView({behavior:\"smooth\", block:\"start\", inline:\"nearest\"});",
      "text/plain": [
       "<IPython.core.display.Javascript object>"
      ]
     },
     "metadata": {},
     "output_type": "display_data"
    },
    {
     "data": {
      "application/javascript": "document.getElementById(\"cell_140321052869440_1734001119325_26_0\").scrollIntoView({behavior:\"smooth\", block:\"start\", inline:\"nearest\"});",
      "text/plain": [
       "<IPython.core.display.Javascript object>"
      ]
     },
     "metadata": {},
     "output_type": "display_data"
    },
    {
     "data": {
      "application/javascript": "const table = document.getElementById(\"table_140321052869440_1734001119325\");\nconst highlightedCells = table.querySelectorAll(\".highlight\");\nhighlightedCells.forEach(cell => cell.classList.remove(\"highlight\"));\ndocument.getElementById(\"cell_140321052869440_1734001119325_40_0\").classList.add(\"highlight\");\ndocument.getElementById(\"cell_140321052869440_1734001119325_40_1\").classList.add(\"highlight\");\ndocument.getElementById(\"cell_140321052869440_1734001119325_40_2\").classList.add(\"highlight\");\ndocument.getElementById(\"cell_140321052869440_1734001119325_40_3\").classList.add(\"highlight\");\ndocument.getElementById(\"cell_140321052869440_1734001119325_40_4\").classList.add(\"highlight\");\ndocument.getElementById(\"cell_140321052869440_1734001119325_40_0\").scrollIntoView({behavior:\"smooth\", block:\"center\", inline:\"nearest\"});",
      "text/plain": [
       "<IPython.core.display.Javascript object>"
      ]
     },
     "metadata": {},
     "output_type": "display_data"
    },
    {
     "data": {
      "application/javascript": "document.getElementById(\"cell_140321052869440_1734001119325_25_0\").scrollIntoView({behavior:\"smooth\", block:\"start\", inline:\"nearest\"});",
      "text/plain": [
       "<IPython.core.display.Javascript object>"
      ]
     },
     "metadata": {},
     "output_type": "display_data"
    },
    {
     "data": {
      "application/javascript": "document.getElementById(\"cell_140321052869440_1734001119325_30_0\").scrollIntoView({behavior:\"smooth\", block:\"start\", inline:\"nearest\"});",
      "text/plain": [
       "<IPython.core.display.Javascript object>"
      ]
     },
     "metadata": {},
     "output_type": "display_data"
    },
    {
     "data": {
      "application/javascript": "const table = document.getElementById(\"table_140321052869440_1734001119325\");\nconst highlightedCells = table.querySelectorAll(\".highlight\");\nhighlightedCells.forEach(cell => cell.classList.remove(\"highlight\"));\ndocument.getElementById(\"cell_140321052869440_1734001119325_44_0\").classList.add(\"highlight\");\ndocument.getElementById(\"cell_140321052869440_1734001119325_44_1\").classList.add(\"highlight\");\ndocument.getElementById(\"cell_140321052869440_1734001119325_44_2\").classList.add(\"highlight\");\ndocument.getElementById(\"cell_140321052869440_1734001119325_44_3\").classList.add(\"highlight\");\ndocument.getElementById(\"cell_140321052869440_1734001119325_44_4\").classList.add(\"highlight\");\ndocument.getElementById(\"cell_140321052869440_1734001119325_44_0\").scrollIntoView({behavior:\"smooth\", block:\"center\", inline:\"nearest\"});",
      "text/plain": [
       "<IPython.core.display.Javascript object>"
      ]
     },
     "metadata": {},
     "output_type": "display_data"
    },
    {
     "data": {
      "application/javascript": "document.getElementById(\"cell_140321052869440_1734001119325_34_0\").scrollIntoView({behavior:\"smooth\", block:\"start\", inline:\"nearest\"});",
      "text/plain": [
       "<IPython.core.display.Javascript object>"
      ]
     },
     "metadata": {},
     "output_type": "display_data"
    },
    {
     "data": {
      "application/javascript": "const table = document.getElementById(\"table_140321052869440_1734001119325\");\nconst highlightedCells = table.querySelectorAll(\".highlight\");\nhighlightedCells.forEach(cell => cell.classList.remove(\"highlight\"));\ndocument.getElementById(\"cell_140321052869440_1734001119325_49_0\").classList.add(\"highlight\");\ndocument.getElementById(\"cell_140321052869440_1734001119325_49_1\").classList.add(\"highlight\");\ndocument.getElementById(\"cell_140321052869440_1734001119325_49_2\").classList.add(\"highlight\");\ndocument.getElementById(\"cell_140321052869440_1734001119325_49_3\").classList.add(\"highlight\");\ndocument.getElementById(\"cell_140321052869440_1734001119325_49_4\").classList.add(\"highlight\");\ndocument.getElementById(\"cell_140321052869440_1734001119325_49_0\").scrollIntoView({behavior:\"smooth\", block:\"center\", inline:\"nearest\"});",
      "text/plain": [
       "<IPython.core.display.Javascript object>"
      ]
     },
     "metadata": {},
     "output_type": "display_data"
    },
    {
     "data": {
      "application/javascript": "document.getElementById(\"cell_140321052869440_1734001119325_35_0\").scrollIntoView({behavior:\"smooth\", block:\"start\", inline:\"nearest\"});",
      "text/plain": [
       "<IPython.core.display.Javascript object>"
      ]
     },
     "metadata": {},
     "output_type": "display_data"
    },
    {
     "data": {
      "application/javascript": "document.getElementById(\"cell_140321052869440_1734001119325_34_0\").scrollIntoView({behavior:\"smooth\", block:\"start\", inline:\"nearest\"});",
      "text/plain": [
       "<IPython.core.display.Javascript object>"
      ]
     },
     "metadata": {},
     "output_type": "display_data"
    },
    {
     "data": {
      "application/javascript": "const table = document.getElementById(\"table_140321052869440_1734001119325\");\nconst highlightedCells = table.querySelectorAll(\".highlight\");\nhighlightedCells.forEach(cell => cell.classList.remove(\"highlight\"));\ndocument.getElementById(\"cell_140321052869440_1734001119325_49_0\").classList.add(\"highlight\");\ndocument.getElementById(\"cell_140321052869440_1734001119325_49_1\").classList.add(\"highlight\");\ndocument.getElementById(\"cell_140321052869440_1734001119325_49_2\").classList.add(\"highlight\");\ndocument.getElementById(\"cell_140321052869440_1734001119325_49_3\").classList.add(\"highlight\");\ndocument.getElementById(\"cell_140321052869440_1734001119325_49_4\").classList.add(\"highlight\");\ndocument.getElementById(\"cell_140321052869440_1734001119325_49_0\").scrollIntoView({behavior:\"smooth\", block:\"center\", inline:\"nearest\"});",
      "text/plain": [
       "<IPython.core.display.Javascript object>"
      ]
     },
     "metadata": {},
     "output_type": "display_data"
    }
   ],
   "source": [
    "with plotly_renderer('notebook_connected'):\n",
    "    mav.show_widget(add_overview=True)    "
   ]
  },
  {
   "cell_type": "markdown",
   "metadata": {},
   "source": [
    "## HTML export\n",
    "* Most portable option\n",
    "* Exports the same portable figure shown above to a standalone HTML file\n",
    "* The `offline` parameter specifies how to include the plotly dependency in the exported HTML\n",
    "  - `False` (default): The exported HTML is small, but requires a working internet connection to display correctly\n",
    "  - `True`: The exported HTML is around 4MB in size and displays correctly without a working internet connection"
   ]
  },
  {
   "cell_type": "code",
   "execution_count": 4,
   "metadata": {},
   "outputs": [],
   "source": [
    "mav.export_html('resnet18.html', offline=False)"
   ]
  },
  {
   "cell_type": "markdown",
   "metadata": {},
   "source": [
    "## Specifying colors\n",
    "* Palettes from plotly [discrete color sequences](https://plotly.com/python/discrete-color/#color-sequences-in-plotly-express) can be specified by name\n",
    "* User-defined palettes can be specified as a list of `'#RRGGBB'` formatted strings\n",
    "* The key to `fixed_color_map` may be a string in the **Operation** column or a category as listed [here](https://pytorch.org/docs/stable/nn.html)"
   ]
  },
  {
   "cell_type": "code",
   "execution_count": 8,
   "metadata": {},
   "outputs": [
    {
     "data": {
      "text/html": [
       "        <script type=\"text/javascript\">\n",
       "        window.PlotlyConfig = {MathJaxConfig: 'local'};\n",
       "        if (window.MathJax && window.MathJax.Hub && window.MathJax.Hub.Config) {window.MathJax.Hub.Config({SVG: {font: \"STIX-Web\"}});}\n",
       "        if (typeof require !== 'undefined') {\n",
       "        require.undef(\"plotly\");\n",
       "        requirejs.config({\n",
       "            paths: {\n",
       "                'plotly': ['https://cdn.plot.ly/plotly-2.35.2.min']\n",
       "            }\n",
       "        });\n",
       "        require(['plotly'], function(Plotly) {\n",
       "            window._Plotly = Plotly;\n",
       "        });\n",
       "        }\n",
       "        </script>\n",
       "        "
      ]
     },
     "metadata": {},
     "output_type": "display_data"
    },
    {
     "data": {
      "text/html": [
       "<div>                            <div id=\"b9102486-af1d-40b1-82dc-f629ed6c381c\" class=\"plotly-graph-div\" style=\"height:525px; width:100%;\"></div>            <script type=\"text/javascript\">                require([\"plotly\"], function(Plotly) {                    window.PLOTLYENV=window.PLOTLYENV || {};                                    if (document.getElementById(\"b9102486-af1d-40b1-82dc-f629ed6c381c\")) {                    Plotly.newPlot(                        \"b9102486-af1d-40b1-82dc-f629ed6c381c\",                        [{\"customdata\":[[\"x\",\"input\",[16,3,160,160],0,0],[\"conv1\",\"nn.Conv2d\",[16,64,80,80],9408,1926758400],[\"bn1\",\"nn.BatchNorm2d\",[16,64,80,80],128,13107200],[\"relu\",\"nn.ReLU\",[16,64,80,80],0,0],[\"maxpool\",\"nn.MaxPool2d\",[16,64,40,40],0,0],[\"layer1_0_conv1\",\"nn.Conv2d\",[16,64,40,40],36864,1887436800],[\"layer1_0_bn1\",\"nn.BatchNorm2d\",[16,64,40,40],128,3276800],[\"layer1_0_relu\",\"nn.ReLU\",[16,64,40,40],0,0],[\"layer1_0_conv2\",\"nn.Conv2d\",[16,64,40,40],36864,1887436800],[\"layer1_0_bn2\",\"nn.BatchNorm2d\",[16,64,40,40],128,3276800],[\"add\",\"add()\",[16,64,40,40],0,0],[\"layer1_0_relu_1\",\"nn.ReLU\",[16,64,40,40],0,0],[\"layer1_1_conv1\",\"nn.Conv2d\",[16,64,40,40],36864,1887436800],[\"layer1_1_bn1\",\"nn.BatchNorm2d\",[16,64,40,40],128,3276800],[\"layer1_1_relu\",\"nn.ReLU\",[16,64,40,40],0,0],[\"layer1_1_conv2\",\"nn.Conv2d\",[16,64,40,40],36864,1887436800],[\"layer1_1_bn2\",\"nn.BatchNorm2d\",[16,64,40,40],128,3276800],[\"add_1\",\"add()\",[16,64,40,40],0,0],[\"layer1_1_relu_1\",\"nn.ReLU\",[16,64,40,40],0,0],[\"layer2_0_conv1\",\"nn.Conv2d\",[16,128,20,20],73728,943718400],[\"layer2_0_bn1\",\"nn.BatchNorm2d\",[16,128,20,20],256,1638400],[\"layer2_0_relu\",\"nn.ReLU\",[16,128,20,20],0,0],[\"layer2_0_conv2\",\"nn.Conv2d\",[16,128,20,20],147456,1887436800],[\"layer2_0_bn2\",\"nn.BatchNorm2d\",[16,128,20,20],256,1638400],[\"layer2_0_downsample_0\",\"nn.Conv2d\",[16,128,20,20],8192,104857600],[\"layer2_0_downsample_1\",\"nn.BatchNorm2d\",[16,128,20,20],256,1638400],[\"add_2\",\"add()\",[16,128,20,20],0,0],[\"layer2_0_relu_1\",\"nn.ReLU\",[16,128,20,20],0,0],[\"layer2_1_conv1\",\"nn.Conv2d\",[16,128,20,20],147456,1887436800],[\"layer2_1_bn1\",\"nn.BatchNorm2d\",[16,128,20,20],256,1638400],[\"layer2_1_relu\",\"nn.ReLU\",[16,128,20,20],0,0],[\"layer2_1_conv2\",\"nn.Conv2d\",[16,128,20,20],147456,1887436800],[\"layer2_1_bn2\",\"nn.BatchNorm2d\",[16,128,20,20],256,1638400],[\"add_3\",\"add()\",[16,128,20,20],0,0],[\"layer2_1_relu_1\",\"nn.ReLU\",[16,128,20,20],0,0],[\"layer3_0_conv1\",\"nn.Conv2d\",[16,256,10,10],294912,943718400],[\"layer3_0_bn1\",\"nn.BatchNorm2d\",[16,256,10,10],512,819200],[\"layer3_0_relu\",\"nn.ReLU\",[16,256,10,10],0,0],[\"layer3_0_conv2\",\"nn.Conv2d\",[16,256,10,10],589824,1887436800],[\"layer3_0_bn2\",\"nn.BatchNorm2d\",[16,256,10,10],512,819200],[\"layer3_0_downsample_0\",\"nn.Conv2d\",[16,256,10,10],32768,104857600],[\"layer3_0_downsample_1\",\"nn.BatchNorm2d\",[16,256,10,10],512,819200],[\"add_4\",\"add()\",[16,256,10,10],0,0],[\"layer3_0_relu_1\",\"nn.ReLU\",[16,256,10,10],0,0],[\"layer3_1_conv1\",\"nn.Conv2d\",[16,256,10,10],589824,1887436800],[\"layer3_1_bn1\",\"nn.BatchNorm2d\",[16,256,10,10],512,819200],[\"layer3_1_relu\",\"nn.ReLU\",[16,256,10,10],0,0],[\"layer3_1_conv2\",\"nn.Conv2d\",[16,256,10,10],589824,1887436800],[\"layer3_1_bn2\",\"nn.BatchNorm2d\",[16,256,10,10],512,819200],[\"add_5\",\"add()\",[16,256,10,10],0,0],[\"layer3_1_relu_1\",\"nn.ReLU\",[16,256,10,10],0,0],[\"layer4_0_conv1\",\"nn.Conv2d\",[16,512,5,5],1179648,943718400],[\"layer4_0_bn1\",\"nn.BatchNorm2d\",[16,512,5,5],1024,409600],[\"layer4_0_relu\",\"nn.ReLU\",[16,512,5,5],0,0],[\"layer4_0_conv2\",\"nn.Conv2d\",[16,512,5,5],2359296,1887436800],[\"layer4_0_bn2\",\"nn.BatchNorm2d\",[16,512,5,5],1024,409600],[\"layer4_0_downsample_0\",\"nn.Conv2d\",[16,512,5,5],131072,104857600],[\"layer4_0_downsample_1\",\"nn.BatchNorm2d\",[16,512,5,5],1024,409600],[\"add_6\",\"add()\",[16,512,5,5],0,0],[\"layer4_0_relu_1\",\"nn.ReLU\",[16,512,5,5],0,0],[\"layer4_1_conv1\",\"nn.Conv2d\",[16,512,5,5],2359296,1887436800],[\"layer4_1_bn1\",\"nn.BatchNorm2d\",[16,512,5,5],1024,409600],[\"layer4_1_relu\",\"nn.ReLU\",[16,512,5,5],0,0],[\"layer4_1_conv2\",\"nn.Conv2d\",[16,512,5,5],2359296,1887436800],[\"layer4_1_bn2\",\"nn.BatchNorm2d\",[16,512,5,5],1024,409600],[\"add_7\",\"add()\",[16,512,5,5],0,0],[\"layer4_1_relu_1\",\"nn.ReLU\",[16,512,5,5],0,0],[\"avgpool\",\"nn.AdaptiveAvgPool2d\",[16,512,1,1],0,16384],[\"flatten\",\"flatten()\",[16,512],0,0],[\"fc\",\"nn.Linear\",[16,1000],513000,16384000],[\"output\",\"output\",[16,1000],0,0]],\"hovertemplate\":\"Name: %{customdata[0]}\\u003cbr\\u003eOperation: %{customdata[1]}\\u003cbr\\u003eActivations: %{customdata[2]}\\u003cbr\\u003eParameters: %{customdata[3]}\\u003cbr\\u003eFLOPS: %{customdata[4]}\\u003cbr\\u003e\\u003cextra\\u003e\\u003c\\u002fextra\\u003e\",\"marker\":{\"color\":[\"#000000\",\"#2F8AC4\",\"#52BCA3\",\"#99C945\",\"#24796C\",\"#2F8AC4\",\"#52BCA3\",\"#99C945\",\"#2F8AC4\",\"#52BCA3\",\"#E58606\",\"#99C945\",\"#2F8AC4\",\"#52BCA3\",\"#99C945\",\"#2F8AC4\",\"#52BCA3\",\"#E58606\",\"#99C945\",\"#2F8AC4\",\"#52BCA3\",\"#99C945\",\"#2F8AC4\",\"#52BCA3\",\"#2F8AC4\",\"#52BCA3\",\"#E58606\",\"#99C945\",\"#2F8AC4\",\"#52BCA3\",\"#99C945\",\"#2F8AC4\",\"#52BCA3\",\"#E58606\",\"#99C945\",\"#2F8AC4\",\"#52BCA3\",\"#99C945\",\"#2F8AC4\",\"#52BCA3\",\"#2F8AC4\",\"#52BCA3\",\"#E58606\",\"#99C945\",\"#2F8AC4\",\"#52BCA3\",\"#99C945\",\"#2F8AC4\",\"#52BCA3\",\"#E58606\",\"#99C945\",\"#2F8AC4\",\"#52BCA3\",\"#99C945\",\"#2F8AC4\",\"#52BCA3\",\"#2F8AC4\",\"#52BCA3\",\"#E58606\",\"#99C945\",\"#2F8AC4\",\"#52BCA3\",\"#99C945\",\"#2F8AC4\",\"#52BCA3\",\"#E58606\",\"#99C945\",\"#CC61B0\",\"#DAA51B\",\"#5D69B1\",\"#000000\"],\"colorscale\":[[0.0,\"rgb(0,0,255)\"],[1.0,\"rgb(255,0,0)\"]],\"size\":[6.0,11.250279597842884,6.0,6.0,6.0,12.91881573172255,6.0,6.0,12.91881573172255,6.0,6.0,6.0,12.91881573172255,6.0,6.0,12.91881573172255,6.0,6.0,6.0,13.765679776435459,6.846864044712908,6.0,14.612543821148368,6.846864044712908,11.08118426827745,6.846864044712908,6.0,6.0,14.612543821148368,6.846864044712908,6.0,14.612543821148368,6.846864044712908,6.0,6.0,15.459407865861275,7.693728089425816,6.0,16.306271910574182,7.693728089425816,12.774912357703267,7.693728089425816,6.0,6.0,16.306271910574182,7.693728089425816,6.0,16.306271910574182,7.693728089425816,6.0,6.0,17.15313595528709,8.540592134138725,6.0,18.0,8.540592134138725,14.468640447129083,8.540592134138725,6.0,6.0,18.0,8.540592134138725,6.0,18.0,8.540592134138725,6.0,6.0,6.0,6.0,16.13577641297401,6.0]},\"mode\":\"markers\",\"showlegend\":false,\"x\":[0.0,0.0,0.0,0.0,0.0,0.0,0.0,0.0,0.0,0.0,0.0,0.0,0.0,0.0,0.0,0.0,0.0,0.0,0.0,0.0,0.0,0.0,0.0,0.0,1.0,1.0,0.0,0.0,0.0,0.0,0.0,0.0,0.0,0.0,0.0,0.0,0.0,0.0,0.0,0.0,1.0,1.0,0.0,0.0,0.0,0.0,0.0,0.0,0.0,0.0,0.0,0.0,0.0,0.0,0.0,0.0,1.0,1.0,0.0,0.0,0.0,0.0,0.0,0.0,0.0,0.0,0.0,0.0,0.0,0.0,0.0],\"y\":[0,1,1.15,1.3,1.45,2,2.15,2.3,3,3.15,4,4.15,5,5.15,5.3,6,6.15,7,7.15,8,8.15,8.3,9,9.15,9,9.15,10,10.15,11,11.15,11.3,12,12.15,13,13.15,14,14.15,14.3,15,15.15,15,15.15,16,16.15,17,17.15,17.3,18,18.15,19,19.15,20,20.15,20.3,21,21.15,21,21.15,22,22.15,23,23.15,23.3,24,24.15,25,25.15,25.3,25.45,26,27],\"type\":\"scatter\",\"xaxis\":\"x\",\"yaxis\":\"y\"},{\"hoverinfo\":\"skip\",\"line\":{\"color\":\"gray\",\"width\":1},\"mode\":\"lines\",\"showlegend\":false,\"x\":[0.0,0.0,null,0.0,0.0,null,0.0,0.0,null,0.0,0.0,null,0.0,0.0,null,0.0,0.0,null,0.0,0.0,null,0.0,0.0,null,0.0,0.0,null,0.0,0.0,null,0.0,0.4,0.4,0.0,null,0.0,0.0,null,0.0,0.0,null,0.0,0.0,null,0.0,0.0,null,0.0,0.0,null,0.0,0.0,null,0.0,0.0,null,0.0,0.4,0.4,0.0,null,0.0,0.0,null,0.0,0.0,null,0.0,0.0,null,0.0,0.0,null,0.0,0.0,null,0.0,0.0,null,0.0,1.0,null,1.0,1.0,null,0.0,0.0,null,1.0,0.0,null,0.0,0.0,null,0.0,0.0,null,0.0,0.0,null,0.0,0.0,null,0.0,0.0,null,0.0,0.0,null,0.0,0.0,null,0.0,0.4,0.4,0.0,null,0.0,0.0,null,0.0,0.0,null,0.0,0.0,null,0.0,0.0,null,0.0,0.0,null,0.0,0.0,null,0.0,1.0,null,1.0,1.0,null,0.0,0.0,null,1.0,0.0,null,0.0,0.0,null,0.0,0.0,null,0.0,0.0,null,0.0,0.0,null,0.0,0.0,null,0.0,0.0,null,0.0,0.0,null,0.0,0.4,0.4,0.0,null,0.0,0.0,null,0.0,0.0,null,0.0,0.0,null,0.0,0.0,null,0.0,0.0,null,0.0,0.0,null,0.0,1.0,null,1.0,1.0,null,0.0,0.0,null,1.0,0.0,null,0.0,0.0,null,0.0,0.0,null,0.0,0.0,null,0.0,0.0,null,0.0,0.0,null,0.0,0.0,null,0.0,0.0,null,0.0,0.4,0.4,0.0,null,0.0,0.0,null,0.0,0.0,null,0.0,0.0,null,0.0,0.0,null,0.0,0.0],\"y\":[0,1,null,1,1.15,null,1.15,1.3,null,1.3,1.45,null,1.45,2,null,2,2.15,null,2.15,2.3,null,2.3,3,null,3,3.15,null,3.15,4,null,1.45,1.85,3.6,4,null,4,4.15,null,4.15,5,null,5,5.15,null,5.15,5.3,null,5.3,6,null,6,6.15,null,6.15,7,null,4.15,4.550000000000001,6.6,7,null,7,7.15,null,7.15,8,null,8,8.15,null,8.15,8.3,null,8.3,9,null,9,9.15,null,7.15,9,null,9,9.15,null,9.15,10,null,9.15,10,null,10,10.15,null,10.15,11,null,11,11.15,null,11.15,11.3,null,11.3,12,null,12,12.15,null,12.15,13,null,10.15,10.55,12.6,13,null,13,13.15,null,13.15,14,null,14,14.15,null,14.15,14.3,null,14.3,15,null,15,15.15,null,13.15,15,null,15,15.15,null,15.15,16,null,15.15,16,null,16,16.15,null,16.15,17,null,17,17.15,null,17.15,17.3,null,17.3,18,null,18,18.15,null,18.15,19,null,16.15,16.549999999999997,18.6,19,null,19,19.15,null,19.15,20,null,20,20.15,null,20.15,20.3,null,20.3,21,null,21,21.15,null,19.15,21,null,21,21.15,null,21.15,22,null,21.15,22,null,22,22.15,null,22.15,23,null,23,23.15,null,23.15,23.3,null,23.3,24,null,24,24.15,null,24.15,25,null,22.15,22.549999999999997,24.6,25,null,25,25.15,null,25.15,25.3,null,25.3,25.45,null,25.45,26,null,26,27],\"type\":\"scatter\",\"xaxis\":\"x\",\"yaxis\":\"y\"},{\"cells\":{\"align\":\"left\",\"values\":[[\"x\",\"conv1\",\"bn1\",\"relu\",\"maxpool\",\"layer1_0_conv1\",\"layer1_0_bn1\",\"layer1_0_relu\",\"layer1_0_conv2\",\"layer1_0_bn2\",\"add\",\"layer1_0_relu_1\",\"layer1_1_conv1\",\"layer1_1_bn1\",\"layer1_1_relu\",\"layer1_1_conv2\",\"layer1_1_bn2\",\"add_1\",\"layer1_1_relu_1\",\"layer2_0_conv1\",\"layer2_0_bn1\",\"layer2_0_relu\",\"layer2_0_conv2\",\"layer2_0_bn2\",\"layer2_0_downsample_0\",\"layer2_0_downsample_1\",\"add_2\",\"layer2_0_relu_1\",\"layer2_1_conv1\",\"layer2_1_bn1\",\"layer2_1_relu\",\"layer2_1_conv2\",\"layer2_1_bn2\",\"add_3\",\"layer2_1_relu_1\",\"layer3_0_conv1\",\"layer3_0_bn1\",\"layer3_0_relu\",\"layer3_0_conv2\",\"layer3_0_bn2\",\"layer3_0_downsample_0\",\"layer3_0_downsample_1\",\"add_4\",\"layer3_0_relu_1\",\"layer3_1_conv1\",\"layer3_1_bn1\",\"layer3_1_relu\",\"layer3_1_conv2\",\"layer3_1_bn2\",\"add_5\",\"layer3_1_relu_1\",\"layer4_0_conv1\",\"layer4_0_bn1\",\"layer4_0_relu\",\"layer4_0_conv2\",\"layer4_0_bn2\",\"layer4_0_downsample_0\",\"layer4_0_downsample_1\",\"add_6\",\"layer4_0_relu_1\",\"layer4_1_conv1\",\"layer4_1_bn1\",\"layer4_1_relu\",\"layer4_1_conv2\",\"layer4_1_bn2\",\"add_7\",\"layer4_1_relu_1\",\"avgpool\",\"flatten\",\"fc\",\"output\"],[\"input\",\"nn.Conv2d\",\"nn.BatchNorm2d\",\"nn.ReLU\",\"nn.MaxPool2d\",\"nn.Conv2d\",\"nn.BatchNorm2d\",\"nn.ReLU\",\"nn.Conv2d\",\"nn.BatchNorm2d\",\"add()\",\"nn.ReLU\",\"nn.Conv2d\",\"nn.BatchNorm2d\",\"nn.ReLU\",\"nn.Conv2d\",\"nn.BatchNorm2d\",\"add()\",\"nn.ReLU\",\"nn.Conv2d\",\"nn.BatchNorm2d\",\"nn.ReLU\",\"nn.Conv2d\",\"nn.BatchNorm2d\",\"nn.Conv2d\",\"nn.BatchNorm2d\",\"add()\",\"nn.ReLU\",\"nn.Conv2d\",\"nn.BatchNorm2d\",\"nn.ReLU\",\"nn.Conv2d\",\"nn.BatchNorm2d\",\"add()\",\"nn.ReLU\",\"nn.Conv2d\",\"nn.BatchNorm2d\",\"nn.ReLU\",\"nn.Conv2d\",\"nn.BatchNorm2d\",\"nn.Conv2d\",\"nn.BatchNorm2d\",\"add()\",\"nn.ReLU\",\"nn.Conv2d\",\"nn.BatchNorm2d\",\"nn.ReLU\",\"nn.Conv2d\",\"nn.BatchNorm2d\",\"add()\",\"nn.ReLU\",\"nn.Conv2d\",\"nn.BatchNorm2d\",\"nn.ReLU\",\"nn.Conv2d\",\"nn.BatchNorm2d\",\"nn.Conv2d\",\"nn.BatchNorm2d\",\"add()\",\"nn.ReLU\",\"nn.Conv2d\",\"nn.BatchNorm2d\",\"nn.ReLU\",\"nn.Conv2d\",\"nn.BatchNorm2d\",\"add()\",\"nn.ReLU\",\"nn.AdaptiveAvgPool2d\",\"flatten()\",\"nn.Linear\",\"output\"],[[16,3,160,160],[16,64,80,80],[16,64,80,80],[16,64,80,80],[16,64,40,40],[16,64,40,40],[16,64,40,40],[16,64,40,40],[16,64,40,40],[16,64,40,40],[16,64,40,40],[16,64,40,40],[16,64,40,40],[16,64,40,40],[16,64,40,40],[16,64,40,40],[16,64,40,40],[16,64,40,40],[16,64,40,40],[16,128,20,20],[16,128,20,20],[16,128,20,20],[16,128,20,20],[16,128,20,20],[16,128,20,20],[16,128,20,20],[16,128,20,20],[16,128,20,20],[16,128,20,20],[16,128,20,20],[16,128,20,20],[16,128,20,20],[16,128,20,20],[16,128,20,20],[16,128,20,20],[16,256,10,10],[16,256,10,10],[16,256,10,10],[16,256,10,10],[16,256,10,10],[16,256,10,10],[16,256,10,10],[16,256,10,10],[16,256,10,10],[16,256,10,10],[16,256,10,10],[16,256,10,10],[16,256,10,10],[16,256,10,10],[16,256,10,10],[16,256,10,10],[16,512,5,5],[16,512,5,5],[16,512,5,5],[16,512,5,5],[16,512,5,5],[16,512,5,5],[16,512,5,5],[16,512,5,5],[16,512,5,5],[16,512,5,5],[16,512,5,5],[16,512,5,5],[16,512,5,5],[16,512,5,5],[16,512,5,5],[16,512,5,5],[16,512,1,1],[16,512],[16,1000],[16,1000]],[0,9408,128,0,0,36864,128,0,36864,128,0,0,36864,128,0,36864,128,0,0,73728,256,0,147456,256,8192,256,0,0,147456,256,0,147456,256,0,0,294912,512,0,589824,512,32768,512,0,0,589824,512,0,589824,512,0,0,1179648,1024,0,2359296,1024,131072,1024,0,0,2359296,1024,0,2359296,1024,0,0,0,0,513000,0],[0,1926758400,13107200,0,0,1887436800,3276800,0,1887436800,3276800,0,0,1887436800,3276800,0,1887436800,3276800,0,0,943718400,1638400,0,1887436800,1638400,104857600,1638400,0,0,1887436800,1638400,0,1887436800,1638400,0,0,943718400,819200,0,1887436800,819200,104857600,819200,0,0,1887436800,819200,0,1887436800,819200,0,0,943718400,409600,0,1887436800,409600,104857600,409600,0,0,1887436800,409600,0,1887436800,409600,0,0,16384,0,16384000,0]]},\"header\":{\"align\":\"left\",\"font\":{\"size\":10},\"values\":[\"Name\",\"Operation\",\"Activations\",\"Params\",\"FLOPS\"]},\"type\":\"table\",\"domain\":{\"x\":[0.26363636363636367,1.0],\"y\":[0.0,1.0]}}],                        {\"template\":{\"data\":{\"histogram2dcontour\":[{\"type\":\"histogram2dcontour\",\"colorbar\":{\"outlinewidth\":0,\"ticks\":\"\"},\"colorscale\":[[0.0,\"#0d0887\"],[0.1111111111111111,\"#46039f\"],[0.2222222222222222,\"#7201a8\"],[0.3333333333333333,\"#9c179e\"],[0.4444444444444444,\"#bd3786\"],[0.5555555555555556,\"#d8576b\"],[0.6666666666666666,\"#ed7953\"],[0.7777777777777778,\"#fb9f3a\"],[0.8888888888888888,\"#fdca26\"],[1.0,\"#f0f921\"]]}],\"choropleth\":[{\"type\":\"choropleth\",\"colorbar\":{\"outlinewidth\":0,\"ticks\":\"\"}}],\"histogram2d\":[{\"type\":\"histogram2d\",\"colorbar\":{\"outlinewidth\":0,\"ticks\":\"\"},\"colorscale\":[[0.0,\"#0d0887\"],[0.1111111111111111,\"#46039f\"],[0.2222222222222222,\"#7201a8\"],[0.3333333333333333,\"#9c179e\"],[0.4444444444444444,\"#bd3786\"],[0.5555555555555556,\"#d8576b\"],[0.6666666666666666,\"#ed7953\"],[0.7777777777777778,\"#fb9f3a\"],[0.8888888888888888,\"#fdca26\"],[1.0,\"#f0f921\"]]}],\"heatmap\":[{\"type\":\"heatmap\",\"colorbar\":{\"outlinewidth\":0,\"ticks\":\"\"},\"colorscale\":[[0.0,\"#0d0887\"],[0.1111111111111111,\"#46039f\"],[0.2222222222222222,\"#7201a8\"],[0.3333333333333333,\"#9c179e\"],[0.4444444444444444,\"#bd3786\"],[0.5555555555555556,\"#d8576b\"],[0.6666666666666666,\"#ed7953\"],[0.7777777777777778,\"#fb9f3a\"],[0.8888888888888888,\"#fdca26\"],[1.0,\"#f0f921\"]]}],\"heatmapgl\":[{\"type\":\"heatmapgl\",\"colorbar\":{\"outlinewidth\":0,\"ticks\":\"\"},\"colorscale\":[[0.0,\"#0d0887\"],[0.1111111111111111,\"#46039f\"],[0.2222222222222222,\"#7201a8\"],[0.3333333333333333,\"#9c179e\"],[0.4444444444444444,\"#bd3786\"],[0.5555555555555556,\"#d8576b\"],[0.6666666666666666,\"#ed7953\"],[0.7777777777777778,\"#fb9f3a\"],[0.8888888888888888,\"#fdca26\"],[1.0,\"#f0f921\"]]}],\"contourcarpet\":[{\"type\":\"contourcarpet\",\"colorbar\":{\"outlinewidth\":0,\"ticks\":\"\"}}],\"contour\":[{\"type\":\"contour\",\"colorbar\":{\"outlinewidth\":0,\"ticks\":\"\"},\"colorscale\":[[0.0,\"#0d0887\"],[0.1111111111111111,\"#46039f\"],[0.2222222222222222,\"#7201a8\"],[0.3333333333333333,\"#9c179e\"],[0.4444444444444444,\"#bd3786\"],[0.5555555555555556,\"#d8576b\"],[0.6666666666666666,\"#ed7953\"],[0.7777777777777778,\"#fb9f3a\"],[0.8888888888888888,\"#fdca26\"],[1.0,\"#f0f921\"]]}],\"surface\":[{\"type\":\"surface\",\"colorbar\":{\"outlinewidth\":0,\"ticks\":\"\"},\"colorscale\":[[0.0,\"#0d0887\"],[0.1111111111111111,\"#46039f\"],[0.2222222222222222,\"#7201a8\"],[0.3333333333333333,\"#9c179e\"],[0.4444444444444444,\"#bd3786\"],[0.5555555555555556,\"#d8576b\"],[0.6666666666666666,\"#ed7953\"],[0.7777777777777778,\"#fb9f3a\"],[0.8888888888888888,\"#fdca26\"],[1.0,\"#f0f921\"]]}],\"mesh3d\":[{\"type\":\"mesh3d\",\"colorbar\":{\"outlinewidth\":0,\"ticks\":\"\"}}],\"scatter\":[{\"fillpattern\":{\"fillmode\":\"overlay\",\"size\":10,\"solidity\":0.2},\"type\":\"scatter\"}],\"parcoords\":[{\"type\":\"parcoords\",\"line\":{\"colorbar\":{\"outlinewidth\":0,\"ticks\":\"\"}}}],\"scatterpolargl\":[{\"type\":\"scatterpolargl\",\"marker\":{\"colorbar\":{\"outlinewidth\":0,\"ticks\":\"\"}}}],\"bar\":[{\"error_x\":{\"color\":\"#2a3f5f\"},\"error_y\":{\"color\":\"#2a3f5f\"},\"marker\":{\"line\":{\"color\":\"#E5ECF6\",\"width\":0.5},\"pattern\":{\"fillmode\":\"overlay\",\"size\":10,\"solidity\":0.2}},\"type\":\"bar\"}],\"scattergeo\":[{\"type\":\"scattergeo\",\"marker\":{\"colorbar\":{\"outlinewidth\":0,\"ticks\":\"\"}}}],\"scatterpolar\":[{\"type\":\"scatterpolar\",\"marker\":{\"colorbar\":{\"outlinewidth\":0,\"ticks\":\"\"}}}],\"histogram\":[{\"marker\":{\"pattern\":{\"fillmode\":\"overlay\",\"size\":10,\"solidity\":0.2}},\"type\":\"histogram\"}],\"scattergl\":[{\"type\":\"scattergl\",\"marker\":{\"colorbar\":{\"outlinewidth\":0,\"ticks\":\"\"}}}],\"scatter3d\":[{\"type\":\"scatter3d\",\"line\":{\"colorbar\":{\"outlinewidth\":0,\"ticks\":\"\"}},\"marker\":{\"colorbar\":{\"outlinewidth\":0,\"ticks\":\"\"}}}],\"scattermapbox\":[{\"type\":\"scattermapbox\",\"marker\":{\"colorbar\":{\"outlinewidth\":0,\"ticks\":\"\"}}}],\"scatterternary\":[{\"type\":\"scatterternary\",\"marker\":{\"colorbar\":{\"outlinewidth\":0,\"ticks\":\"\"}}}],\"scattercarpet\":[{\"type\":\"scattercarpet\",\"marker\":{\"colorbar\":{\"outlinewidth\":0,\"ticks\":\"\"}}}],\"carpet\":[{\"aaxis\":{\"endlinecolor\":\"#2a3f5f\",\"gridcolor\":\"white\",\"linecolor\":\"white\",\"minorgridcolor\":\"white\",\"startlinecolor\":\"#2a3f5f\"},\"baxis\":{\"endlinecolor\":\"#2a3f5f\",\"gridcolor\":\"white\",\"linecolor\":\"white\",\"minorgridcolor\":\"white\",\"startlinecolor\":\"#2a3f5f\"},\"type\":\"carpet\"}],\"table\":[{\"cells\":{\"fill\":{\"color\":\"#EBF0F8\"},\"line\":{\"color\":\"white\"}},\"header\":{\"fill\":{\"color\":\"#C8D4E3\"},\"line\":{\"color\":\"white\"}},\"type\":\"table\"}],\"barpolar\":[{\"marker\":{\"line\":{\"color\":\"#E5ECF6\",\"width\":0.5},\"pattern\":{\"fillmode\":\"overlay\",\"size\":10,\"solidity\":0.2}},\"type\":\"barpolar\"}],\"pie\":[{\"automargin\":true,\"type\":\"pie\"}]},\"layout\":{\"autotypenumbers\":\"strict\",\"colorway\":[\"#636efa\",\"#EF553B\",\"#00cc96\",\"#ab63fa\",\"#FFA15A\",\"#19d3f3\",\"#FF6692\",\"#B6E880\",\"#FF97FF\",\"#FECB52\"],\"font\":{\"color\":\"#2a3f5f\"},\"hovermode\":\"closest\",\"hoverlabel\":{\"align\":\"left\"},\"paper_bgcolor\":\"white\",\"plot_bgcolor\":\"#E5ECF6\",\"polar\":{\"bgcolor\":\"#E5ECF6\",\"angularaxis\":{\"gridcolor\":\"white\",\"linecolor\":\"white\",\"ticks\":\"\"},\"radialaxis\":{\"gridcolor\":\"white\",\"linecolor\":\"white\",\"ticks\":\"\"}},\"ternary\":{\"bgcolor\":\"#E5ECF6\",\"aaxis\":{\"gridcolor\":\"white\",\"linecolor\":\"white\",\"ticks\":\"\"},\"baxis\":{\"gridcolor\":\"white\",\"linecolor\":\"white\",\"ticks\":\"\"},\"caxis\":{\"gridcolor\":\"white\",\"linecolor\":\"white\",\"ticks\":\"\"}},\"coloraxis\":{\"colorbar\":{\"outlinewidth\":0,\"ticks\":\"\"}},\"colorscale\":{\"sequential\":[[0.0,\"#0d0887\"],[0.1111111111111111,\"#46039f\"],[0.2222222222222222,\"#7201a8\"],[0.3333333333333333,\"#9c179e\"],[0.4444444444444444,\"#bd3786\"],[0.5555555555555556,\"#d8576b\"],[0.6666666666666666,\"#ed7953\"],[0.7777777777777778,\"#fb9f3a\"],[0.8888888888888888,\"#fdca26\"],[1.0,\"#f0f921\"]],\"sequentialminus\":[[0.0,\"#0d0887\"],[0.1111111111111111,\"#46039f\"],[0.2222222222222222,\"#7201a8\"],[0.3333333333333333,\"#9c179e\"],[0.4444444444444444,\"#bd3786\"],[0.5555555555555556,\"#d8576b\"],[0.6666666666666666,\"#ed7953\"],[0.7777777777777778,\"#fb9f3a\"],[0.8888888888888888,\"#fdca26\"],[1.0,\"#f0f921\"]],\"diverging\":[[0,\"#8e0152\"],[0.1,\"#c51b7d\"],[0.2,\"#de77ae\"],[0.3,\"#f1b6da\"],[0.4,\"#fde0ef\"],[0.5,\"#f7f7f7\"],[0.6,\"#e6f5d0\"],[0.7,\"#b8e186\"],[0.8,\"#7fbc41\"],[0.9,\"#4d9221\"],[1,\"#276419\"]]},\"xaxis\":{\"gridcolor\":\"white\",\"linecolor\":\"white\",\"ticks\":\"\",\"title\":{\"standoff\":15},\"zerolinecolor\":\"white\",\"automargin\":true,\"zerolinewidth\":2},\"yaxis\":{\"gridcolor\":\"white\",\"linecolor\":\"white\",\"ticks\":\"\",\"title\":{\"standoff\":15},\"zerolinecolor\":\"white\",\"automargin\":true,\"zerolinewidth\":2},\"scene\":{\"xaxis\":{\"backgroundcolor\":\"#E5ECF6\",\"gridcolor\":\"white\",\"linecolor\":\"white\",\"showbackground\":true,\"ticks\":\"\",\"zerolinecolor\":\"white\",\"gridwidth\":2},\"yaxis\":{\"backgroundcolor\":\"#E5ECF6\",\"gridcolor\":\"white\",\"linecolor\":\"white\",\"showbackground\":true,\"ticks\":\"\",\"zerolinecolor\":\"white\",\"gridwidth\":2},\"zaxis\":{\"backgroundcolor\":\"#E5ECF6\",\"gridcolor\":\"white\",\"linecolor\":\"white\",\"showbackground\":true,\"ticks\":\"\",\"zerolinecolor\":\"white\",\"gridwidth\":2}},\"shapedefaults\":{\"line\":{\"color\":\"#2a3f5f\"}},\"annotationdefaults\":{\"arrowcolor\":\"#2a3f5f\",\"arrowhead\":0,\"arrowwidth\":1},\"geo\":{\"bgcolor\":\"white\",\"landcolor\":\"#E5ECF6\",\"subunitcolor\":\"white\",\"showland\":true,\"showlakes\":true,\"lakecolor\":\"white\"},\"title\":{\"x\":0.05},\"mapbox\":{\"style\":\"light\"}}},\"xaxis\":{\"anchor\":\"y\",\"domain\":[0.0,0.16363636363636364],\"showgrid\":false,\"zeroline\":false,\"tickmode\":\"array\",\"tickvals\":[]},\"yaxis\":{\"anchor\":\"x\",\"domain\":[0.0,1.0],\"showgrid\":false,\"zeroline\":false,\"tickmode\":\"array\",\"tickvals\":[],\"range\":[27.5,-0.5]},\"margin\":{\"l\":0,\"r\":0,\"t\":0,\"b\":0},\"modebar\":{\"remove\":[\"select\",\"lasso\"],\"orientation\":\"v\"}},                        {\"responsive\": true}                    ).then(function(){\n",
       "                            \n",
       "var gd = document.getElementById('b9102486-af1d-40b1-82dc-f629ed6c381c');\n",
       "var x = new MutationObserver(function (mutations, observer) {{\n",
       "        var display = window.getComputedStyle(gd).display;\n",
       "        if (!display || display === 'none') {{\n",
       "            console.log([gd, 'removed!']);\n",
       "            Plotly.purge(gd);\n",
       "            observer.disconnect();\n",
       "        }}\n",
       "}});\n",
       "\n",
       "// Listen for the removal of the full notebook cells\n",
       "var notebookContainer = gd.closest('#notebook-container');\n",
       "if (notebookContainer) {{\n",
       "    x.observe(notebookContainer, {childList: true});\n",
       "}}\n",
       "\n",
       "// Listen for the clearing of the current output cell\n",
       "var outputEl = gd.closest('.output');\n",
       "if (outputEl) {{\n",
       "    x.observe(outputEl, {childList: true});\n",
       "}}\n",
       "\n",
       "                        })                };                });            </script>        </div>"
      ]
     },
     "metadata": {},
     "output_type": "display_data"
    }
   ],
   "source": [
    "with plotly_renderer('notebook_connected'):\n",
    "    mav.show_figure(\n",
    "        palette='Vivid',\n",
    "        avoid_palette_idxs=set([10]),\n",
    "        fixed_color_map={'Convolution':7, 'add()':0, 'nn.MaxPool2d':5}\n",
    "    )"
   ]
  },
  {
   "cell_type": "markdown",
   "metadata": {},
   "source": [
    "## Adding or removing panels\n",
    "* This could help with portability or user experience on some environments, e.g.\n",
    "  - On Colab the slider gets more in the way rather than adding value\n",
    "  - The custom JS used for table synchronization may not be supported everywhere"
   ]
  },
  {
   "cell_type": "code",
   "execution_count": 6,
   "metadata": {},
   "outputs": [
    {
     "data": {
      "application/vnd.jupyter.widget-view+json": {
       "model_id": "a1636c49289d47cdb367c6f3d395d722",
       "version_major": 2,
       "version_minor": 0
      },
      "text/plain": [
       "HBox(children=(Box(children=(FigureWidget({\n",
       "    'data': [{'hovertemplate': '<extra></extra>',\n",
       "              'm…"
      ]
     },
     "metadata": {},
     "output_type": "display_data"
    },
    {
     "data": {
      "application/javascript": "document.getElementById(\"scr_table_140571467577376_1734000561807\").scrollTo({behavior:\"smooth\", top:0, left:0});",
      "text/plain": [
       "<IPython.core.display.Javascript object>"
      ]
     },
     "metadata": {},
     "output_type": "display_data"
    }
   ],
   "source": [
    "with plotly_renderer('notebook_connected'):\n",
    "    mav.show_widget(add_overview=False, add_slider=False, add_table=False)    "
   ]
  },
  {
   "cell_type": "markdown",
   "metadata": {},
   "source": [
    "## Modifying merging behaviour\n",
    "* `merge_threshold<0` does not perform any merging\n",
    "* `merge_threshold==0` only merges nodes that have zero parameters\n",
    "* `merge_threshold` between 0 and 1 sorts nodes from the smallest to the largest by number of parameters and merges from the smallest node until just before the combined parameter count of merged nodes exceed the specified fraction of the total parameter count\n",
    "* The following nodes are never merged:\n",
    "  - Input and output nodes to the entire network\n",
    "  - Nodes with multiple input connections\n",
    "  - Nodes for which the input node has multiple output connections\n",
    "* The default `merge_threshold` value normally results in nodes without parameters as well as normalization modules being merged"
   ]
  },
  {
   "cell_type": "code",
   "execution_count": 9,
   "metadata": {},
   "outputs": [
    {
     "data": {
      "text/html": [
       "        <script type=\"text/javascript\">\n",
       "        window.PlotlyConfig = {MathJaxConfig: 'local'};\n",
       "        if (window.MathJax && window.MathJax.Hub && window.MathJax.Hub.Config) {window.MathJax.Hub.Config({SVG: {font: \"STIX-Web\"}});}\n",
       "        if (typeof require !== 'undefined') {\n",
       "        require.undef(\"plotly\");\n",
       "        requirejs.config({\n",
       "            paths: {\n",
       "                'plotly': ['https://cdn.plot.ly/plotly-2.35.2.min']\n",
       "            }\n",
       "        });\n",
       "        require(['plotly'], function(Plotly) {\n",
       "            window._Plotly = Plotly;\n",
       "        });\n",
       "        }\n",
       "        </script>\n",
       "        "
      ]
     },
     "metadata": {},
     "output_type": "display_data"
    },
    {
     "data": {
      "text/html": [
       "<div>                            <div id=\"02733e68-81fb-45f0-a2c8-abd613c06988\" class=\"plotly-graph-div\" style=\"height:525px; width:100%;\"></div>            <script type=\"text/javascript\">                require([\"plotly\"], function(Plotly) {                    window.PLOTLYENV=window.PLOTLYENV || {};                                    if (document.getElementById(\"02733e68-81fb-45f0-a2c8-abd613c06988\")) {                    Plotly.newPlot(                        \"02733e68-81fb-45f0-a2c8-abd613c06988\",                        [{\"customdata\":[[\"x\",\"input\",[16,3,160,160],0,0],[\"conv1\",\"nn.Conv2d\",[16,64,80,80],9408,1926758400],[\"bn1\",\"nn.BatchNorm2d\",[16,64,80,80],128,13107200],[\"relu\",\"nn.ReLU\",[16,64,80,80],0,0],[\"maxpool\",\"nn.MaxPool2d\",[16,64,40,40],0,0],[\"layer1_0_conv1\",\"nn.Conv2d\",[16,64,40,40],36864,1887436800],[\"layer1_0_bn1\",\"nn.BatchNorm2d\",[16,64,40,40],128,3276800],[\"layer1_0_relu\",\"nn.ReLU\",[16,64,40,40],0,0],[\"layer1_0_conv2\",\"nn.Conv2d\",[16,64,40,40],36864,1887436800],[\"layer1_0_bn2\",\"nn.BatchNorm2d\",[16,64,40,40],128,3276800],[\"add\",\"add()\",[16,64,40,40],0,0],[\"layer1_0_relu_1\",\"nn.ReLU\",[16,64,40,40],0,0],[\"layer1_1_conv1\",\"nn.Conv2d\",[16,64,40,40],36864,1887436800],[\"layer1_1_bn1\",\"nn.BatchNorm2d\",[16,64,40,40],128,3276800],[\"layer1_1_relu\",\"nn.ReLU\",[16,64,40,40],0,0],[\"layer1_1_conv2\",\"nn.Conv2d\",[16,64,40,40],36864,1887436800],[\"layer1_1_bn2\",\"nn.BatchNorm2d\",[16,64,40,40],128,3276800],[\"add_1\",\"add()\",[16,64,40,40],0,0],[\"layer1_1_relu_1\",\"nn.ReLU\",[16,64,40,40],0,0],[\"layer2_0_conv1\",\"nn.Conv2d\",[16,128,20,20],73728,943718400],[\"layer2_0_bn1\",\"nn.BatchNorm2d\",[16,128,20,20],256,1638400],[\"layer2_0_relu\",\"nn.ReLU\",[16,128,20,20],0,0],[\"layer2_0_conv2\",\"nn.Conv2d\",[16,128,20,20],147456,1887436800],[\"layer2_0_bn2\",\"nn.BatchNorm2d\",[16,128,20,20],256,1638400],[\"layer2_0_downsample_0\",\"nn.Conv2d\",[16,128,20,20],8192,104857600],[\"layer2_0_downsample_1\",\"nn.BatchNorm2d\",[16,128,20,20],256,1638400],[\"add_2\",\"add()\",[16,128,20,20],0,0],[\"layer2_0_relu_1\",\"nn.ReLU\",[16,128,20,20],0,0],[\"layer2_1_conv1\",\"nn.Conv2d\",[16,128,20,20],147456,1887436800],[\"layer2_1_bn1\",\"nn.BatchNorm2d\",[16,128,20,20],256,1638400],[\"layer2_1_relu\",\"nn.ReLU\",[16,128,20,20],0,0],[\"layer2_1_conv2\",\"nn.Conv2d\",[16,128,20,20],147456,1887436800],[\"layer2_1_bn2\",\"nn.BatchNorm2d\",[16,128,20,20],256,1638400],[\"add_3\",\"add()\",[16,128,20,20],0,0],[\"layer2_1_relu_1\",\"nn.ReLU\",[16,128,20,20],0,0],[\"layer3_0_conv1\",\"nn.Conv2d\",[16,256,10,10],294912,943718400],[\"layer3_0_bn1\",\"nn.BatchNorm2d\",[16,256,10,10],512,819200],[\"layer3_0_relu\",\"nn.ReLU\",[16,256,10,10],0,0],[\"layer3_0_conv2\",\"nn.Conv2d\",[16,256,10,10],589824,1887436800],[\"layer3_0_bn2\",\"nn.BatchNorm2d\",[16,256,10,10],512,819200],[\"layer3_0_downsample_0\",\"nn.Conv2d\",[16,256,10,10],32768,104857600],[\"layer3_0_downsample_1\",\"nn.BatchNorm2d\",[16,256,10,10],512,819200],[\"add_4\",\"add()\",[16,256,10,10],0,0],[\"layer3_0_relu_1\",\"nn.ReLU\",[16,256,10,10],0,0],[\"layer3_1_conv1\",\"nn.Conv2d\",[16,256,10,10],589824,1887436800],[\"layer3_1_bn1\",\"nn.BatchNorm2d\",[16,256,10,10],512,819200],[\"layer3_1_relu\",\"nn.ReLU\",[16,256,10,10],0,0],[\"layer3_1_conv2\",\"nn.Conv2d\",[16,256,10,10],589824,1887436800],[\"layer3_1_bn2\",\"nn.BatchNorm2d\",[16,256,10,10],512,819200],[\"add_5\",\"add()\",[16,256,10,10],0,0],[\"layer3_1_relu_1\",\"nn.ReLU\",[16,256,10,10],0,0],[\"layer4_0_conv1\",\"nn.Conv2d\",[16,512,5,5],1179648,943718400],[\"layer4_0_bn1\",\"nn.BatchNorm2d\",[16,512,5,5],1024,409600],[\"layer4_0_relu\",\"nn.ReLU\",[16,512,5,5],0,0],[\"layer4_0_conv2\",\"nn.Conv2d\",[16,512,5,5],2359296,1887436800],[\"layer4_0_bn2\",\"nn.BatchNorm2d\",[16,512,5,5],1024,409600],[\"layer4_0_downsample_0\",\"nn.Conv2d\",[16,512,5,5],131072,104857600],[\"layer4_0_downsample_1\",\"nn.BatchNorm2d\",[16,512,5,5],1024,409600],[\"add_6\",\"add()\",[16,512,5,5],0,0],[\"layer4_0_relu_1\",\"nn.ReLU\",[16,512,5,5],0,0],[\"layer4_1_conv1\",\"nn.Conv2d\",[16,512,5,5],2359296,1887436800],[\"layer4_1_bn1\",\"nn.BatchNorm2d\",[16,512,5,5],1024,409600],[\"layer4_1_relu\",\"nn.ReLU\",[16,512,5,5],0,0],[\"layer4_1_conv2\",\"nn.Conv2d\",[16,512,5,5],2359296,1887436800],[\"layer4_1_bn2\",\"nn.BatchNorm2d\",[16,512,5,5],1024,409600],[\"add_7\",\"add()\",[16,512,5,5],0,0],[\"layer4_1_relu_1\",\"nn.ReLU\",[16,512,5,5],0,0],[\"avgpool\",\"nn.AdaptiveAvgPool2d\",[16,512,1,1],0,16384],[\"flatten\",\"flatten()\",[16,512],0,0],[\"fc\",\"nn.Linear\",[16,1000],513000,16384000],[\"output\",\"output\",[16,1000],0,0]],\"hovertemplate\":\"Name: %{customdata[0]}\\u003cbr\\u003eOperation: %{customdata[1]}\\u003cbr\\u003eActivations: %{customdata[2]}\\u003cbr\\u003eParameters: %{customdata[3]}\\u003cbr\\u003eFLOPS: %{customdata[4]}\\u003cbr\\u003e\\u003cextra\\u003e\\u003c\\u002fextra\\u003e\",\"marker\":{\"color\":[\"#000000\",\"#2F8AC4\",\"#52BCA3\",\"#99C945\",\"#24796C\",\"#2F8AC4\",\"#52BCA3\",\"#99C945\",\"#2F8AC4\",\"#52BCA3\",\"#E58606\",\"#99C945\",\"#2F8AC4\",\"#52BCA3\",\"#99C945\",\"#2F8AC4\",\"#52BCA3\",\"#E58606\",\"#99C945\",\"#2F8AC4\",\"#52BCA3\",\"#99C945\",\"#2F8AC4\",\"#52BCA3\",\"#2F8AC4\",\"#52BCA3\",\"#E58606\",\"#99C945\",\"#2F8AC4\",\"#52BCA3\",\"#99C945\",\"#2F8AC4\",\"#52BCA3\",\"#E58606\",\"#99C945\",\"#2F8AC4\",\"#52BCA3\",\"#99C945\",\"#2F8AC4\",\"#52BCA3\",\"#2F8AC4\",\"#52BCA3\",\"#E58606\",\"#99C945\",\"#2F8AC4\",\"#52BCA3\",\"#99C945\",\"#2F8AC4\",\"#52BCA3\",\"#E58606\",\"#99C945\",\"#2F8AC4\",\"#52BCA3\",\"#99C945\",\"#2F8AC4\",\"#52BCA3\",\"#2F8AC4\",\"#52BCA3\",\"#E58606\",\"#99C945\",\"#2F8AC4\",\"#52BCA3\",\"#99C945\",\"#2F8AC4\",\"#52BCA3\",\"#E58606\",\"#99C945\",\"#CC61B0\",\"#DAA51B\",\"#5D69B1\",\"#000000\"],\"colorscale\":[[0.0,\"rgb(0,0,255)\"],[1.0,\"rgb(255,0,0)\"]],\"size\":[6.0,11.250279597842884,6.0,6.0,6.0,12.91881573172255,6.0,6.0,12.91881573172255,6.0,6.0,6.0,12.91881573172255,6.0,6.0,12.91881573172255,6.0,6.0,6.0,13.765679776435459,6.846864044712908,6.0,14.612543821148368,6.846864044712908,11.08118426827745,6.846864044712908,6.0,6.0,14.612543821148368,6.846864044712908,6.0,14.612543821148368,6.846864044712908,6.0,6.0,15.459407865861275,7.693728089425816,6.0,16.306271910574182,7.693728089425816,12.774912357703267,7.693728089425816,6.0,6.0,16.306271910574182,7.693728089425816,6.0,16.306271910574182,7.693728089425816,6.0,6.0,17.15313595528709,8.540592134138725,6.0,18.0,8.540592134138725,14.468640447129083,8.540592134138725,6.0,6.0,18.0,8.540592134138725,6.0,18.0,8.540592134138725,6.0,6.0,6.0,6.0,16.13577641297401,6.0]},\"mode\":\"markers\",\"showlegend\":false,\"x\":[0.0,0.0,0.0,0.0,0.0,0.0,0.0,0.0,0.0,0.0,0.0,0.0,0.0,0.0,0.0,0.0,0.0,0.0,0.0,0.0,0.0,0.0,0.0,0.0,1.0,1.0,0.0,0.0,0.0,0.0,0.0,0.0,0.0,0.0,0.0,0.0,0.0,0.0,0.0,0.0,1.0,1.0,0.0,0.0,0.0,0.0,0.0,0.0,0.0,0.0,0.0,0.0,0.0,0.0,0.0,0.0,1.0,1.0,0.0,0.0,0.0,0.0,0.0,0.0,0.0,0.0,0.0,0.0,0.0,0.0,0.0],\"y\":[0,1,2,3,4,5,6,7,8,9,10,11,12,13,14,15,16,17,18,19,20,21,22,23,22,23,24,25,26,27,28,29,30,31,32,33,34,35,36,37,36,37,38,39,40,41,42,43,44,45,46,47,48,49,50,51,50,51,52,53,54,55,56,57,58,59,60,61,62,63,64],\"type\":\"scatter\",\"xaxis\":\"x\",\"yaxis\":\"y\"},{\"hoverinfo\":\"skip\",\"line\":{\"color\":\"gray\",\"width\":1},\"mode\":\"lines\",\"showlegend\":false,\"x\":[0.0,0.0,null,0.0,0.0,null,0.0,0.0,null,0.0,0.0,null,0.0,0.0,null,0.0,0.0,null,0.0,0.0,null,0.0,0.0,null,0.0,0.0,null,0.0,0.0,null,0.0,0.4,0.4,0.0,null,0.0,0.0,null,0.0,0.0,null,0.0,0.0,null,0.0,0.0,null,0.0,0.0,null,0.0,0.0,null,0.0,0.0,null,0.0,0.4,0.4,0.0,null,0.0,0.0,null,0.0,0.0,null,0.0,0.0,null,0.0,0.0,null,0.0,0.0,null,0.0,0.0,null,0.0,1.0,null,1.0,1.0,null,0.0,0.0,null,1.0,0.0,null,0.0,0.0,null,0.0,0.0,null,0.0,0.0,null,0.0,0.0,null,0.0,0.0,null,0.0,0.0,null,0.0,0.0,null,0.0,0.4,0.4,0.0,null,0.0,0.0,null,0.0,0.0,null,0.0,0.0,null,0.0,0.0,null,0.0,0.0,null,0.0,0.0,null,0.0,1.0,null,1.0,1.0,null,0.0,0.0,null,1.0,0.0,null,0.0,0.0,null,0.0,0.0,null,0.0,0.0,null,0.0,0.0,null,0.0,0.0,null,0.0,0.0,null,0.0,0.0,null,0.0,0.4,0.4,0.0,null,0.0,0.0,null,0.0,0.0,null,0.0,0.0,null,0.0,0.0,null,0.0,0.0,null,0.0,0.0,null,0.0,1.0,null,1.0,1.0,null,0.0,0.0,null,1.0,0.0,null,0.0,0.0,null,0.0,0.0,null,0.0,0.0,null,0.0,0.0,null,0.0,0.0,null,0.0,0.0,null,0.0,0.0,null,0.0,0.4,0.4,0.0,null,0.0,0.0,null,0.0,0.0,null,0.0,0.0,null,0.0,0.0,null,0.0,0.0],\"y\":[0,1,null,1,2,null,2,3,null,3,4,null,4,5,null,5,6,null,6,7,null,7,8,null,8,9,null,9,10,null,4,4.4,9.6,10,null,10,11,null,11,12,null,12,13,null,13,14,null,14,15,null,15,16,null,16,17,null,11,11.4,16.6,17,null,17,18,null,18,19,null,19,20,null,20,21,null,21,22,null,22,23,null,18,22,null,22,23,null,23,24,null,23,24,null,24,25,null,25,26,null,26,27,null,27,28,null,28,29,null,29,30,null,30,31,null,25,25.4,30.6,31,null,31,32,null,32,33,null,33,34,null,34,35,null,35,36,null,36,37,null,32,36,null,36,37,null,37,38,null,37,38,null,38,39,null,39,40,null,40,41,null,41,42,null,42,43,null,43,44,null,44,45,null,39,39.4,44.6,45,null,45,46,null,46,47,null,47,48,null,48,49,null,49,50,null,50,51,null,46,50,null,50,51,null,51,52,null,51,52,null,52,53,null,53,54,null,54,55,null,55,56,null,56,57,null,57,58,null,58,59,null,53,53.4,58.6,59,null,59,60,null,60,61,null,61,62,null,62,63,null,63,64],\"type\":\"scatter\",\"xaxis\":\"x\",\"yaxis\":\"y\"},{\"cells\":{\"align\":\"left\",\"values\":[[\"x\",\"conv1\",\"bn1\",\"relu\",\"maxpool\",\"layer1_0_conv1\",\"layer1_0_bn1\",\"layer1_0_relu\",\"layer1_0_conv2\",\"layer1_0_bn2\",\"add\",\"layer1_0_relu_1\",\"layer1_1_conv1\",\"layer1_1_bn1\",\"layer1_1_relu\",\"layer1_1_conv2\",\"layer1_1_bn2\",\"add_1\",\"layer1_1_relu_1\",\"layer2_0_conv1\",\"layer2_0_bn1\",\"layer2_0_relu\",\"layer2_0_conv2\",\"layer2_0_bn2\",\"layer2_0_downsample_0\",\"layer2_0_downsample_1\",\"add_2\",\"layer2_0_relu_1\",\"layer2_1_conv1\",\"layer2_1_bn1\",\"layer2_1_relu\",\"layer2_1_conv2\",\"layer2_1_bn2\",\"add_3\",\"layer2_1_relu_1\",\"layer3_0_conv1\",\"layer3_0_bn1\",\"layer3_0_relu\",\"layer3_0_conv2\",\"layer3_0_bn2\",\"layer3_0_downsample_0\",\"layer3_0_downsample_1\",\"add_4\",\"layer3_0_relu_1\",\"layer3_1_conv1\",\"layer3_1_bn1\",\"layer3_1_relu\",\"layer3_1_conv2\",\"layer3_1_bn2\",\"add_5\",\"layer3_1_relu_1\",\"layer4_0_conv1\",\"layer4_0_bn1\",\"layer4_0_relu\",\"layer4_0_conv2\",\"layer4_0_bn2\",\"layer4_0_downsample_0\",\"layer4_0_downsample_1\",\"add_6\",\"layer4_0_relu_1\",\"layer4_1_conv1\",\"layer4_1_bn1\",\"layer4_1_relu\",\"layer4_1_conv2\",\"layer4_1_bn2\",\"add_7\",\"layer4_1_relu_1\",\"avgpool\",\"flatten\",\"fc\",\"output\"],[\"input\",\"nn.Conv2d\",\"nn.BatchNorm2d\",\"nn.ReLU\",\"nn.MaxPool2d\",\"nn.Conv2d\",\"nn.BatchNorm2d\",\"nn.ReLU\",\"nn.Conv2d\",\"nn.BatchNorm2d\",\"add()\",\"nn.ReLU\",\"nn.Conv2d\",\"nn.BatchNorm2d\",\"nn.ReLU\",\"nn.Conv2d\",\"nn.BatchNorm2d\",\"add()\",\"nn.ReLU\",\"nn.Conv2d\",\"nn.BatchNorm2d\",\"nn.ReLU\",\"nn.Conv2d\",\"nn.BatchNorm2d\",\"nn.Conv2d\",\"nn.BatchNorm2d\",\"add()\",\"nn.ReLU\",\"nn.Conv2d\",\"nn.BatchNorm2d\",\"nn.ReLU\",\"nn.Conv2d\",\"nn.BatchNorm2d\",\"add()\",\"nn.ReLU\",\"nn.Conv2d\",\"nn.BatchNorm2d\",\"nn.ReLU\",\"nn.Conv2d\",\"nn.BatchNorm2d\",\"nn.Conv2d\",\"nn.BatchNorm2d\",\"add()\",\"nn.ReLU\",\"nn.Conv2d\",\"nn.BatchNorm2d\",\"nn.ReLU\",\"nn.Conv2d\",\"nn.BatchNorm2d\",\"add()\",\"nn.ReLU\",\"nn.Conv2d\",\"nn.BatchNorm2d\",\"nn.ReLU\",\"nn.Conv2d\",\"nn.BatchNorm2d\",\"nn.Conv2d\",\"nn.BatchNorm2d\",\"add()\",\"nn.ReLU\",\"nn.Conv2d\",\"nn.BatchNorm2d\",\"nn.ReLU\",\"nn.Conv2d\",\"nn.BatchNorm2d\",\"add()\",\"nn.ReLU\",\"nn.AdaptiveAvgPool2d\",\"flatten()\",\"nn.Linear\",\"output\"],[[16,3,160,160],[16,64,80,80],[16,64,80,80],[16,64,80,80],[16,64,40,40],[16,64,40,40],[16,64,40,40],[16,64,40,40],[16,64,40,40],[16,64,40,40],[16,64,40,40],[16,64,40,40],[16,64,40,40],[16,64,40,40],[16,64,40,40],[16,64,40,40],[16,64,40,40],[16,64,40,40],[16,64,40,40],[16,128,20,20],[16,128,20,20],[16,128,20,20],[16,128,20,20],[16,128,20,20],[16,128,20,20],[16,128,20,20],[16,128,20,20],[16,128,20,20],[16,128,20,20],[16,128,20,20],[16,128,20,20],[16,128,20,20],[16,128,20,20],[16,128,20,20],[16,128,20,20],[16,256,10,10],[16,256,10,10],[16,256,10,10],[16,256,10,10],[16,256,10,10],[16,256,10,10],[16,256,10,10],[16,256,10,10],[16,256,10,10],[16,256,10,10],[16,256,10,10],[16,256,10,10],[16,256,10,10],[16,256,10,10],[16,256,10,10],[16,256,10,10],[16,512,5,5],[16,512,5,5],[16,512,5,5],[16,512,5,5],[16,512,5,5],[16,512,5,5],[16,512,5,5],[16,512,5,5],[16,512,5,5],[16,512,5,5],[16,512,5,5],[16,512,5,5],[16,512,5,5],[16,512,5,5],[16,512,5,5],[16,512,5,5],[16,512,1,1],[16,512],[16,1000],[16,1000]],[0,9408,128,0,0,36864,128,0,36864,128,0,0,36864,128,0,36864,128,0,0,73728,256,0,147456,256,8192,256,0,0,147456,256,0,147456,256,0,0,294912,512,0,589824,512,32768,512,0,0,589824,512,0,589824,512,0,0,1179648,1024,0,2359296,1024,131072,1024,0,0,2359296,1024,0,2359296,1024,0,0,0,0,513000,0],[0,1926758400,13107200,0,0,1887436800,3276800,0,1887436800,3276800,0,0,1887436800,3276800,0,1887436800,3276800,0,0,943718400,1638400,0,1887436800,1638400,104857600,1638400,0,0,1887436800,1638400,0,1887436800,1638400,0,0,943718400,819200,0,1887436800,819200,104857600,819200,0,0,1887436800,819200,0,1887436800,819200,0,0,943718400,409600,0,1887436800,409600,104857600,409600,0,0,1887436800,409600,0,1887436800,409600,0,0,16384,0,16384000,0]]},\"header\":{\"align\":\"left\",\"font\":{\"size\":10},\"values\":[\"Name\",\"Operation\",\"Activations\",\"Params\",\"FLOPS\"]},\"type\":\"table\",\"domain\":{\"x\":[0.26363636363636367,1.0],\"y\":[0.0,1.0]}}],                        {\"template\":{\"data\":{\"histogram2dcontour\":[{\"type\":\"histogram2dcontour\",\"colorbar\":{\"outlinewidth\":0,\"ticks\":\"\"},\"colorscale\":[[0.0,\"#0d0887\"],[0.1111111111111111,\"#46039f\"],[0.2222222222222222,\"#7201a8\"],[0.3333333333333333,\"#9c179e\"],[0.4444444444444444,\"#bd3786\"],[0.5555555555555556,\"#d8576b\"],[0.6666666666666666,\"#ed7953\"],[0.7777777777777778,\"#fb9f3a\"],[0.8888888888888888,\"#fdca26\"],[1.0,\"#f0f921\"]]}],\"choropleth\":[{\"type\":\"choropleth\",\"colorbar\":{\"outlinewidth\":0,\"ticks\":\"\"}}],\"histogram2d\":[{\"type\":\"histogram2d\",\"colorbar\":{\"outlinewidth\":0,\"ticks\":\"\"},\"colorscale\":[[0.0,\"#0d0887\"],[0.1111111111111111,\"#46039f\"],[0.2222222222222222,\"#7201a8\"],[0.3333333333333333,\"#9c179e\"],[0.4444444444444444,\"#bd3786\"],[0.5555555555555556,\"#d8576b\"],[0.6666666666666666,\"#ed7953\"],[0.7777777777777778,\"#fb9f3a\"],[0.8888888888888888,\"#fdca26\"],[1.0,\"#f0f921\"]]}],\"heatmap\":[{\"type\":\"heatmap\",\"colorbar\":{\"outlinewidth\":0,\"ticks\":\"\"},\"colorscale\":[[0.0,\"#0d0887\"],[0.1111111111111111,\"#46039f\"],[0.2222222222222222,\"#7201a8\"],[0.3333333333333333,\"#9c179e\"],[0.4444444444444444,\"#bd3786\"],[0.5555555555555556,\"#d8576b\"],[0.6666666666666666,\"#ed7953\"],[0.7777777777777778,\"#fb9f3a\"],[0.8888888888888888,\"#fdca26\"],[1.0,\"#f0f921\"]]}],\"heatmapgl\":[{\"type\":\"heatmapgl\",\"colorbar\":{\"outlinewidth\":0,\"ticks\":\"\"},\"colorscale\":[[0.0,\"#0d0887\"],[0.1111111111111111,\"#46039f\"],[0.2222222222222222,\"#7201a8\"],[0.3333333333333333,\"#9c179e\"],[0.4444444444444444,\"#bd3786\"],[0.5555555555555556,\"#d8576b\"],[0.6666666666666666,\"#ed7953\"],[0.7777777777777778,\"#fb9f3a\"],[0.8888888888888888,\"#fdca26\"],[1.0,\"#f0f921\"]]}],\"contourcarpet\":[{\"type\":\"contourcarpet\",\"colorbar\":{\"outlinewidth\":0,\"ticks\":\"\"}}],\"contour\":[{\"type\":\"contour\",\"colorbar\":{\"outlinewidth\":0,\"ticks\":\"\"},\"colorscale\":[[0.0,\"#0d0887\"],[0.1111111111111111,\"#46039f\"],[0.2222222222222222,\"#7201a8\"],[0.3333333333333333,\"#9c179e\"],[0.4444444444444444,\"#bd3786\"],[0.5555555555555556,\"#d8576b\"],[0.6666666666666666,\"#ed7953\"],[0.7777777777777778,\"#fb9f3a\"],[0.8888888888888888,\"#fdca26\"],[1.0,\"#f0f921\"]]}],\"surface\":[{\"type\":\"surface\",\"colorbar\":{\"outlinewidth\":0,\"ticks\":\"\"},\"colorscale\":[[0.0,\"#0d0887\"],[0.1111111111111111,\"#46039f\"],[0.2222222222222222,\"#7201a8\"],[0.3333333333333333,\"#9c179e\"],[0.4444444444444444,\"#bd3786\"],[0.5555555555555556,\"#d8576b\"],[0.6666666666666666,\"#ed7953\"],[0.7777777777777778,\"#fb9f3a\"],[0.8888888888888888,\"#fdca26\"],[1.0,\"#f0f921\"]]}],\"mesh3d\":[{\"type\":\"mesh3d\",\"colorbar\":{\"outlinewidth\":0,\"ticks\":\"\"}}],\"scatter\":[{\"fillpattern\":{\"fillmode\":\"overlay\",\"size\":10,\"solidity\":0.2},\"type\":\"scatter\"}],\"parcoords\":[{\"type\":\"parcoords\",\"line\":{\"colorbar\":{\"outlinewidth\":0,\"ticks\":\"\"}}}],\"scatterpolargl\":[{\"type\":\"scatterpolargl\",\"marker\":{\"colorbar\":{\"outlinewidth\":0,\"ticks\":\"\"}}}],\"bar\":[{\"error_x\":{\"color\":\"#2a3f5f\"},\"error_y\":{\"color\":\"#2a3f5f\"},\"marker\":{\"line\":{\"color\":\"#E5ECF6\",\"width\":0.5},\"pattern\":{\"fillmode\":\"overlay\",\"size\":10,\"solidity\":0.2}},\"type\":\"bar\"}],\"scattergeo\":[{\"type\":\"scattergeo\",\"marker\":{\"colorbar\":{\"outlinewidth\":0,\"ticks\":\"\"}}}],\"scatterpolar\":[{\"type\":\"scatterpolar\",\"marker\":{\"colorbar\":{\"outlinewidth\":0,\"ticks\":\"\"}}}],\"histogram\":[{\"marker\":{\"pattern\":{\"fillmode\":\"overlay\",\"size\":10,\"solidity\":0.2}},\"type\":\"histogram\"}],\"scattergl\":[{\"type\":\"scattergl\",\"marker\":{\"colorbar\":{\"outlinewidth\":0,\"ticks\":\"\"}}}],\"scatter3d\":[{\"type\":\"scatter3d\",\"line\":{\"colorbar\":{\"outlinewidth\":0,\"ticks\":\"\"}},\"marker\":{\"colorbar\":{\"outlinewidth\":0,\"ticks\":\"\"}}}],\"scattermapbox\":[{\"type\":\"scattermapbox\",\"marker\":{\"colorbar\":{\"outlinewidth\":0,\"ticks\":\"\"}}}],\"scatterternary\":[{\"type\":\"scatterternary\",\"marker\":{\"colorbar\":{\"outlinewidth\":0,\"ticks\":\"\"}}}],\"scattercarpet\":[{\"type\":\"scattercarpet\",\"marker\":{\"colorbar\":{\"outlinewidth\":0,\"ticks\":\"\"}}}],\"carpet\":[{\"aaxis\":{\"endlinecolor\":\"#2a3f5f\",\"gridcolor\":\"white\",\"linecolor\":\"white\",\"minorgridcolor\":\"white\",\"startlinecolor\":\"#2a3f5f\"},\"baxis\":{\"endlinecolor\":\"#2a3f5f\",\"gridcolor\":\"white\",\"linecolor\":\"white\",\"minorgridcolor\":\"white\",\"startlinecolor\":\"#2a3f5f\"},\"type\":\"carpet\"}],\"table\":[{\"cells\":{\"fill\":{\"color\":\"#EBF0F8\"},\"line\":{\"color\":\"white\"}},\"header\":{\"fill\":{\"color\":\"#C8D4E3\"},\"line\":{\"color\":\"white\"}},\"type\":\"table\"}],\"barpolar\":[{\"marker\":{\"line\":{\"color\":\"#E5ECF6\",\"width\":0.5},\"pattern\":{\"fillmode\":\"overlay\",\"size\":10,\"solidity\":0.2}},\"type\":\"barpolar\"}],\"pie\":[{\"automargin\":true,\"type\":\"pie\"}]},\"layout\":{\"autotypenumbers\":\"strict\",\"colorway\":[\"#636efa\",\"#EF553B\",\"#00cc96\",\"#ab63fa\",\"#FFA15A\",\"#19d3f3\",\"#FF6692\",\"#B6E880\",\"#FF97FF\",\"#FECB52\"],\"font\":{\"color\":\"#2a3f5f\"},\"hovermode\":\"closest\",\"hoverlabel\":{\"align\":\"left\"},\"paper_bgcolor\":\"white\",\"plot_bgcolor\":\"#E5ECF6\",\"polar\":{\"bgcolor\":\"#E5ECF6\",\"angularaxis\":{\"gridcolor\":\"white\",\"linecolor\":\"white\",\"ticks\":\"\"},\"radialaxis\":{\"gridcolor\":\"white\",\"linecolor\":\"white\",\"ticks\":\"\"}},\"ternary\":{\"bgcolor\":\"#E5ECF6\",\"aaxis\":{\"gridcolor\":\"white\",\"linecolor\":\"white\",\"ticks\":\"\"},\"baxis\":{\"gridcolor\":\"white\",\"linecolor\":\"white\",\"ticks\":\"\"},\"caxis\":{\"gridcolor\":\"white\",\"linecolor\":\"white\",\"ticks\":\"\"}},\"coloraxis\":{\"colorbar\":{\"outlinewidth\":0,\"ticks\":\"\"}},\"colorscale\":{\"sequential\":[[0.0,\"#0d0887\"],[0.1111111111111111,\"#46039f\"],[0.2222222222222222,\"#7201a8\"],[0.3333333333333333,\"#9c179e\"],[0.4444444444444444,\"#bd3786\"],[0.5555555555555556,\"#d8576b\"],[0.6666666666666666,\"#ed7953\"],[0.7777777777777778,\"#fb9f3a\"],[0.8888888888888888,\"#fdca26\"],[1.0,\"#f0f921\"]],\"sequentialminus\":[[0.0,\"#0d0887\"],[0.1111111111111111,\"#46039f\"],[0.2222222222222222,\"#7201a8\"],[0.3333333333333333,\"#9c179e\"],[0.4444444444444444,\"#bd3786\"],[0.5555555555555556,\"#d8576b\"],[0.6666666666666666,\"#ed7953\"],[0.7777777777777778,\"#fb9f3a\"],[0.8888888888888888,\"#fdca26\"],[1.0,\"#f0f921\"]],\"diverging\":[[0,\"#8e0152\"],[0.1,\"#c51b7d\"],[0.2,\"#de77ae\"],[0.3,\"#f1b6da\"],[0.4,\"#fde0ef\"],[0.5,\"#f7f7f7\"],[0.6,\"#e6f5d0\"],[0.7,\"#b8e186\"],[0.8,\"#7fbc41\"],[0.9,\"#4d9221\"],[1,\"#276419\"]]},\"xaxis\":{\"gridcolor\":\"white\",\"linecolor\":\"white\",\"ticks\":\"\",\"title\":{\"standoff\":15},\"zerolinecolor\":\"white\",\"automargin\":true,\"zerolinewidth\":2},\"yaxis\":{\"gridcolor\":\"white\",\"linecolor\":\"white\",\"ticks\":\"\",\"title\":{\"standoff\":15},\"zerolinecolor\":\"white\",\"automargin\":true,\"zerolinewidth\":2},\"scene\":{\"xaxis\":{\"backgroundcolor\":\"#E5ECF6\",\"gridcolor\":\"white\",\"linecolor\":\"white\",\"showbackground\":true,\"ticks\":\"\",\"zerolinecolor\":\"white\",\"gridwidth\":2},\"yaxis\":{\"backgroundcolor\":\"#E5ECF6\",\"gridcolor\":\"white\",\"linecolor\":\"white\",\"showbackground\":true,\"ticks\":\"\",\"zerolinecolor\":\"white\",\"gridwidth\":2},\"zaxis\":{\"backgroundcolor\":\"#E5ECF6\",\"gridcolor\":\"white\",\"linecolor\":\"white\",\"showbackground\":true,\"ticks\":\"\",\"zerolinecolor\":\"white\",\"gridwidth\":2}},\"shapedefaults\":{\"line\":{\"color\":\"#2a3f5f\"}},\"annotationdefaults\":{\"arrowcolor\":\"#2a3f5f\",\"arrowhead\":0,\"arrowwidth\":1},\"geo\":{\"bgcolor\":\"white\",\"landcolor\":\"#E5ECF6\",\"subunitcolor\":\"white\",\"showland\":true,\"showlakes\":true,\"lakecolor\":\"white\"},\"title\":{\"x\":0.05},\"mapbox\":{\"style\":\"light\"}}},\"xaxis\":{\"anchor\":\"y\",\"domain\":[0.0,0.16363636363636364],\"showgrid\":false,\"zeroline\":false,\"tickmode\":\"array\",\"tickvals\":[]},\"yaxis\":{\"anchor\":\"x\",\"domain\":[0.0,1.0],\"showgrid\":false,\"zeroline\":false,\"tickmode\":\"array\",\"tickvals\":[],\"range\":[64.5,-0.5]},\"margin\":{\"l\":0,\"r\":0,\"t\":0,\"b\":0},\"modebar\":{\"remove\":[\"select\",\"lasso\"],\"orientation\":\"v\"}},                        {\"responsive\": true}                    ).then(function(){\n",
       "                            \n",
       "var gd = document.getElementById('02733e68-81fb-45f0-a2c8-abd613c06988');\n",
       "var x = new MutationObserver(function (mutations, observer) {{\n",
       "        var display = window.getComputedStyle(gd).display;\n",
       "        if (!display || display === 'none') {{\n",
       "            console.log([gd, 'removed!']);\n",
       "            Plotly.purge(gd);\n",
       "            observer.disconnect();\n",
       "        }}\n",
       "}});\n",
       "\n",
       "// Listen for the removal of the full notebook cells\n",
       "var notebookContainer = gd.closest('#notebook-container');\n",
       "if (notebookContainer) {{\n",
       "    x.observe(notebookContainer, {childList: true});\n",
       "}}\n",
       "\n",
       "// Listen for the clearing of the current output cell\n",
       "var outputEl = gd.closest('.output');\n",
       "if (outputEl) {{\n",
       "    x.observe(outputEl, {childList: true});\n",
       "}}\n",
       "\n",
       "                        })                };                });            </script>        </div>"
      ]
     },
     "metadata": {},
     "output_type": "display_data"
    }
   ],
   "source": [
    "mav = MAV(model, x, device=device, merge_threshold=-1)\n",
    "with plotly_renderer('notebook_connected'):\n",
    "    mav.show_figure(\n",
    "        palette='Vivid',\n",
    "        avoid_palette_idxs=set([10]),\n",
    "        fixed_color_map={'Convolution':7, 'add()':0, 'nn.MaxPool2d':5}\n",
    "    )"
   ]
  },
  {
   "cell_type": "markdown",
   "metadata": {},
   "source": [
    "## Calling internal components directly\n",
    "* For users that wish to replace or augment one or more components\n",
    "* A typical example would be replacing or subclassing the renderer to work on a specific environment"
   ]
  },
  {
   "cell_type": "code",
   "execution_count": null,
   "metadata": {},
   "outputs": [
    {
     "data": {
      "application/vnd.jupyter.widget-view+json": {
       "model_id": "7dacd38f16db440c876da1c908456a38",
       "version_major": 2,
       "version_minor": 0
      },
      "text/plain": [
       "HBox(children=(Box(children=(FloatRangeSlider(value=(-9.5, 0.5), layout=Layout(height='400px'), max=0.5, min=-…"
      ]
     },
     "metadata": {},
     "output_type": "display_data"
    },
    {
     "data": {
      "application/javascript": "document.getElementById(\"scr_table_140321054731440_1734001575693\").scrollTo({behavior:\"smooth\", top:0, left:0});",
      "text/plain": [
       "<IPython.core.display.Javascript object>"
      ]
     },
     "metadata": {},
     "output_type": "display_data"
    },
    {
     "data": {
      "application/javascript": "const table = document.getElementById(\"table_140321054731440_1734001575693\");\nconst highlightedCells = table.querySelectorAll(\".highlight\");\nhighlightedCells.forEach(cell => cell.classList.remove(\"highlight\"));\ndocument.getElementById(\"cell_140321054731440_1734001575693_0_0\").classList.add(\"highlight\");\ndocument.getElementById(\"cell_140321054731440_1734001575693_0_1\").classList.add(\"highlight\");\ndocument.getElementById(\"cell_140321054731440_1734001575693_0_2\").classList.add(\"highlight\");\ndocument.getElementById(\"cell_140321054731440_1734001575693_0_3\").classList.add(\"highlight\");\ndocument.getElementById(\"cell_140321054731440_1734001575693_0_4\").classList.add(\"highlight\");\ndocument.getElementById(\"cell_140321054731440_1734001575693_0_0\").scrollIntoView({behavior:\"smooth\", block:\"center\", inline:\"nearest\"});",
      "text/plain": [
       "<IPython.core.display.Javascript object>"
      ]
     },
     "metadata": {},
     "output_type": "display_data"
    }
   ],
   "source": [
    "from idlmav import MavTracer, merge_graph_nodes, layout_graph_nodes, color_graph_nodes, WidgetRenderer\n",
    "from IPython.display import display\n",
    "\n",
    "tracer = MavTracer(model, x, device=device)\n",
    "merge_graph_nodes(tracer.g)\n",
    "layout_graph_nodes(tracer.g)\n",
    "color_graph_nodes(tracer.g)\n",
    "renderer = WidgetRenderer(tracer.g)\n",
    "display(renderer.render())"
   ]
  }
 ],
 "metadata": {
  "kernelspec": {
   "display_name": ".venv",
   "language": "python",
   "name": "python3"
  },
  "language_info": {
   "codemirror_mode": {
    "name": "ipython",
    "version": 3
   },
   "file_extension": ".py",
   "mimetype": "text/x-python",
   "name": "python",
   "nbconvert_exporter": "python",
   "pygments_lexer": "ipython3",
   "version": "3.10.12"
  }
 },
 "nbformat": 4,
 "nbformat_minor": 2
}
