{
 "cells": [
  {
   "cell_type": "markdown",
   "metadata": {},
   "source": [
    "## Preparation"
   ]
  },
  {
   "cell_type": "code",
   "execution_count": 12,
   "metadata": {},
   "outputs": [],
   "source": [
    "import torch, torchvision\n",
    "from idlmav import MAV, plotly_renderer\n",
    "model = torchvision.models.resnet18()\n",
    "x = torch.randn(16,3,160,160)\n",
    "mav = MAV(model, x, device='cpu')"
   ]
  },
  {
   "cell_type": "markdown",
   "metadata": {},
   "source": [
    "## Portable figure\n",
    "* Based on [plotly.graph_objects.Figure](https://plotly.com/python/creating-and-updating-figures/#figures-as-graph-objects)\n",
    "* No dependency on `ipywidgets` or `plotly.graph_objects.FigureWidget` for portability reasons\n",
    "* Displays correctly without the need of a running backend/kernel, e.g. in [nbviewer](https://nbviewer.org/)\n",
    "* Interactions limited to plotly's built-in hover, pan and zoom mechanisms\n",
    "* No synchronization between graph and table"
   ]
  },
  {
   "cell_type": "code",
   "execution_count": 13,
   "metadata": {},
   "outputs": [
    {
     "data": {
      "application/vnd.plotly.v1+json": {
       "config": {
        "plotlyServerURL": "https://plot.ly"
       },
       "data": [
        {
         "hoverinfo": "skip",
         "line": {
          "color": "gray",
          "width": 1
         },
         "mode": "lines",
         "showlegend": false,
         "type": "scatter",
         "x": [
          0,
          0,
          null,
          0,
          0,
          null,
          0,
          0,
          null,
          0,
          0,
          null,
          0,
          0,
          null,
          0,
          0,
          null,
          0,
          0,
          null,
          0,
          0,
          null,
          0,
          0,
          null,
          0,
          0,
          null,
          0,
          0.4,
          0.4,
          0,
          null,
          0,
          0,
          null,
          0,
          0,
          null,
          0,
          0,
          null,
          0,
          0,
          null,
          0,
          0,
          null,
          0,
          0,
          null,
          0,
          0,
          null,
          0,
          -0.4,
          -0.4,
          0,
          null,
          0,
          0,
          null,
          0,
          0,
          null,
          0,
          0,
          null,
          0,
          0,
          null,
          0,
          0,
          null,
          0,
          0,
          null,
          0,
          1,
          null,
          1,
          1,
          null,
          0,
          0,
          null,
          1,
          0,
          null,
          0,
          0,
          null,
          0,
          0,
          null,
          0,
          0,
          null,
          0,
          0,
          null,
          0,
          0,
          null,
          0,
          0,
          null,
          0,
          0,
          null,
          0,
          -0.4,
          -0.4,
          0,
          null,
          0,
          0,
          null,
          0,
          0,
          null,
          0,
          0,
          null,
          0,
          0,
          null,
          0,
          0,
          null,
          0,
          0,
          null,
          0,
          1,
          null,
          1,
          1,
          null,
          0,
          0,
          null,
          1,
          0,
          null,
          0,
          0,
          null,
          0,
          0,
          null,
          0,
          0,
          null,
          0,
          0,
          null,
          0,
          0,
          null,
          0,
          0,
          null,
          0,
          0,
          null,
          0,
          -0.4,
          -0.4,
          0,
          null,
          0,
          0,
          null,
          0,
          0,
          null,
          0,
          0,
          null,
          0,
          0,
          null,
          0,
          0,
          null,
          0,
          0,
          null,
          0,
          1,
          null,
          1,
          1,
          null,
          0,
          0,
          null,
          1,
          0,
          null,
          0,
          0,
          null,
          0,
          0,
          null,
          0,
          0,
          null,
          0,
          0,
          null,
          0,
          0,
          null,
          0,
          0,
          null,
          0,
          0,
          null,
          0,
          -0.4,
          -0.4,
          0,
          null,
          0,
          0,
          null,
          0,
          0,
          null,
          0,
          0,
          null,
          0,
          0,
          null,
          0,
          0
         ],
         "xaxis": "x",
         "y": [
          0,
          1,
          null,
          1,
          2,
          null,
          2,
          3,
          null,
          3,
          4,
          null,
          4,
          5,
          null,
          5,
          6,
          null,
          6,
          7,
          null,
          7,
          8,
          null,
          8,
          9,
          null,
          9,
          10,
          null,
          4,
          4.5,
          9.5,
          10,
          null,
          10,
          11,
          null,
          11,
          12,
          null,
          12,
          13,
          null,
          13,
          14,
          null,
          14,
          15,
          null,
          15,
          16,
          null,
          16,
          17,
          null,
          11,
          11.5,
          16.5,
          17,
          null,
          17,
          18,
          null,
          18,
          19,
          null,
          19,
          20,
          null,
          20,
          21,
          null,
          21,
          22,
          null,
          22,
          23,
          null,
          18,
          22,
          null,
          22,
          23,
          null,
          23,
          24,
          null,
          23,
          24,
          null,
          24,
          25,
          null,
          25,
          26,
          null,
          26,
          27,
          null,
          27,
          28,
          null,
          28,
          29,
          null,
          29,
          30,
          null,
          30,
          31,
          null,
          25,
          25.5,
          30.5,
          31,
          null,
          31,
          32,
          null,
          32,
          33,
          null,
          33,
          34,
          null,
          34,
          35,
          null,
          35,
          36,
          null,
          36,
          37,
          null,
          32,
          36,
          null,
          36,
          37,
          null,
          37,
          38,
          null,
          37,
          38,
          null,
          38,
          39,
          null,
          39,
          40,
          null,
          40,
          41,
          null,
          41,
          42,
          null,
          42,
          43,
          null,
          43,
          44,
          null,
          44,
          45,
          null,
          39,
          39.5,
          44.5,
          45,
          null,
          45,
          46,
          null,
          46,
          47,
          null,
          47,
          48,
          null,
          48,
          49,
          null,
          49,
          50,
          null,
          50,
          51,
          null,
          46,
          50,
          null,
          50,
          51,
          null,
          51,
          52,
          null,
          51,
          52,
          null,
          52,
          53,
          null,
          53,
          54,
          null,
          54,
          55,
          null,
          55,
          56,
          null,
          56,
          57,
          null,
          57,
          58,
          null,
          58,
          59,
          null,
          53,
          53.5,
          58.5,
          59,
          null,
          59,
          60,
          null,
          60,
          61,
          null,
          61,
          62,
          null,
          62,
          63,
          null,
          63,
          64
         ],
         "yaxis": "y"
        },
        {
         "customdata": [
          [
           "x",
           "input",
           "(16,3,160,160)",
           "0",
           "0",
           "()",
           "{}"
          ],
          [
           "conv1",
           "nn.Conv2d",
           "(16,64,80,80)",
           "9 408",
           "1 926 758 400",
           "(x,)",
           "{}"
          ],
          [
           "bn1",
           "nn.BatchNorm2d",
           "(16,64,80,80)",
           "128",
           "0",
           "(conv1,)",
           "{}"
          ],
          [
           "relu",
           "nn.ReLU",
           "(16,64,80,80)",
           "0",
           "0",
           "(bn1,)",
           "{}"
          ],
          [
           "maxpool",
           "nn.MaxPool2d",
           "(16,64,40,40)",
           "0",
           "0",
           "(relu,)",
           "{}"
          ],
          [
           "layer1_0_conv1",
           "nn.Conv2d",
           "(16,64,40,40)",
           "36 864",
           "1 887 436 800",
           "(maxpool,)",
           "{}"
          ],
          [
           "layer1_0_bn1",
           "nn.BatchNorm2d",
           "(16,64,40,40)",
           "128",
           "0",
           "(layer1_0_conv1,)",
           "{}"
          ],
          [
           "layer1_0_relu",
           "nn.ReLU",
           "(16,64,40,40)",
           "0",
           "0",
           "(layer1_0_bn1,)",
           "{}"
          ],
          [
           "layer1_0_conv2",
           "nn.Conv2d",
           "(16,64,40,40)",
           "36 864",
           "1 887 436 800",
           "(layer1_0_relu,)",
           "{}"
          ],
          [
           "layer1_0_bn2",
           "nn.BatchNorm2d",
           "(16,64,40,40)",
           "128",
           "0",
           "(layer1_0_conv2,)",
           "{}"
          ],
          [
           "add",
           "add()",
           "(16,64,40,40)",
           "0",
           "1 638 400",
           "(layer1_0_bn2, maxpool)",
           "{}"
          ],
          [
           "layer1_0_relu_1",
           "nn.ReLU",
           "(16,64,40,40)",
           "0",
           "0",
           "(add,)",
           "{}"
          ],
          [
           "layer1_1_conv1",
           "nn.Conv2d",
           "(16,64,40,40)",
           "36 864",
           "1 887 436 800",
           "(layer1_0_relu_1,)",
           "{}"
          ],
          [
           "layer1_1_bn1",
           "nn.BatchNorm2d",
           "(16,64,40,40)",
           "128",
           "0",
           "(layer1_1_conv1,)",
           "{}"
          ],
          [
           "layer1_1_relu",
           "nn.ReLU",
           "(16,64,40,40)",
           "0",
           "0",
           "(layer1_1_bn1,)",
           "{}"
          ],
          [
           "layer1_1_conv2",
           "nn.Conv2d",
           "(16,64,40,40)",
           "36 864",
           "1 887 436 800",
           "(layer1_1_relu,)",
           "{}"
          ],
          [
           "layer1_1_bn2",
           "nn.BatchNorm2d",
           "(16,64,40,40)",
           "128",
           "0",
           "(layer1_1_conv2,)",
           "{}"
          ],
          [
           "add_1",
           "add()",
           "(16,64,40,40)",
           "0",
           "1 638 400",
           "(layer1_1_bn2, layer1_0_relu_1)",
           "{}"
          ],
          [
           "layer1_1_relu_1",
           "nn.ReLU",
           "(16,64,40,40)",
           "0",
           "0",
           "(add_1,)",
           "{}"
          ],
          [
           "layer2_0_conv1",
           "nn.Conv2d",
           "(16,128,20,20)",
           "73 728",
           "943 718 400",
           "(layer1_1_relu_1,)",
           "{}"
          ],
          [
           "layer2_0_bn1",
           "nn.BatchNorm2d",
           "(16,128,20,20)",
           "256",
           "0",
           "(layer2_0_conv1,)",
           "{}"
          ],
          [
           "layer2_0_relu",
           "nn.ReLU",
           "(16,128,20,20)",
           "0",
           "0",
           "(layer2_0_bn1,)",
           "{}"
          ],
          [
           "layer2_0_conv2",
           "nn.Conv2d",
           "(16,128,20,20)",
           "147 456",
           "1 887 436 800",
           "(layer2_0_relu,)",
           "{}"
          ],
          [
           "layer2_0_bn2",
           "nn.BatchNorm2d",
           "(16,128,20,20)",
           "256",
           "0",
           "(layer2_0_conv2,)",
           "{}"
          ],
          [
           "layer2_0_downsample_0",
           "nn.Conv2d",
           "(16,128,20,20)",
           "8 192",
           "104 857 600",
           "(layer1_1_relu_1,)",
           "{}"
          ],
          [
           "layer2_0_downsample_1",
           "nn.BatchNorm2d",
           "(16,128,20,20)",
           "256",
           "0",
           "(layer2_0_downsample_0,)",
           "{}"
          ],
          [
           "add_2",
           "add()",
           "(16,128,20,20)",
           "0",
           "819 200",
           "(layer2_0_bn2, layer2_0_downsample_1)",
           "{}"
          ],
          [
           "layer2_0_relu_1",
           "nn.ReLU",
           "(16,128,20,20)",
           "0",
           "0",
           "(add_2,)",
           "{}"
          ],
          [
           "layer2_1_conv1",
           "nn.Conv2d",
           "(16,128,20,20)",
           "147 456",
           "1 887 436 800",
           "(layer2_0_relu_1,)",
           "{}"
          ],
          [
           "layer2_1_bn1",
           "nn.BatchNorm2d",
           "(16,128,20,20)",
           "256",
           "0",
           "(layer2_1_conv1,)",
           "{}"
          ],
          [
           "layer2_1_relu",
           "nn.ReLU",
           "(16,128,20,20)",
           "0",
           "0",
           "(layer2_1_bn1,)",
           "{}"
          ],
          [
           "layer2_1_conv2",
           "nn.Conv2d",
           "(16,128,20,20)",
           "147 456",
           "1 887 436 800",
           "(layer2_1_relu,)",
           "{}"
          ],
          [
           "layer2_1_bn2",
           "nn.BatchNorm2d",
           "(16,128,20,20)",
           "256",
           "0",
           "(layer2_1_conv2,)",
           "{}"
          ],
          [
           "add_3",
           "add()",
           "(16,128,20,20)",
           "0",
           "819 200",
           "(layer2_1_bn2, layer2_0_relu_1)",
           "{}"
          ],
          [
           "layer2_1_relu_1",
           "nn.ReLU",
           "(16,128,20,20)",
           "0",
           "0",
           "(add_3,)",
           "{}"
          ],
          [
           "layer3_0_conv1",
           "nn.Conv2d",
           "(16,256,10,10)",
           "294 912",
           "943 718 400",
           "(layer2_1_relu_1,)",
           "{}"
          ],
          [
           "layer3_0_bn1",
           "nn.BatchNorm2d",
           "(16,256,10,10)",
           "512",
           "0",
           "(layer3_0_conv1,)",
           "{}"
          ],
          [
           "layer3_0_relu",
           "nn.ReLU",
           "(16,256,10,10)",
           "0",
           "0",
           "(layer3_0_bn1,)",
           "{}"
          ],
          [
           "layer3_0_conv2",
           "nn.Conv2d",
           "(16,256,10,10)",
           "589 824",
           "1 887 436 800",
           "(layer3_0_relu,)",
           "{}"
          ],
          [
           "layer3_0_bn2",
           "nn.BatchNorm2d",
           "(16,256,10,10)",
           "512",
           "0",
           "(layer3_0_conv2,)",
           "{}"
          ],
          [
           "layer3_0_downsample_0",
           "nn.Conv2d",
           "(16,256,10,10)",
           "32 768",
           "104 857 600",
           "(layer2_1_relu_1,)",
           "{}"
          ],
          [
           "layer3_0_downsample_1",
           "nn.BatchNorm2d",
           "(16,256,10,10)",
           "512",
           "0",
           "(layer3_0_downsample_0,)",
           "{}"
          ],
          [
           "add_4",
           "add()",
           "(16,256,10,10)",
           "0",
           "409 600",
           "(layer3_0_bn2, layer3_0_downsample_1)",
           "{}"
          ],
          [
           "layer3_0_relu_1",
           "nn.ReLU",
           "(16,256,10,10)",
           "0",
           "0",
           "(add_4,)",
           "{}"
          ],
          [
           "layer3_1_conv1",
           "nn.Conv2d",
           "(16,256,10,10)",
           "589 824",
           "1 887 436 800",
           "(layer3_0_relu_1,)",
           "{}"
          ],
          [
           "layer3_1_bn1",
           "nn.BatchNorm2d",
           "(16,256,10,10)",
           "512",
           "0",
           "(layer3_1_conv1,)",
           "{}"
          ],
          [
           "layer3_1_relu",
           "nn.ReLU",
           "(16,256,10,10)",
           "0",
           "0",
           "(layer3_1_bn1,)",
           "{}"
          ],
          [
           "layer3_1_conv2",
           "nn.Conv2d",
           "(16,256,10,10)",
           "589 824",
           "1 887 436 800",
           "(layer3_1_relu,)",
           "{}"
          ],
          [
           "layer3_1_bn2",
           "nn.BatchNorm2d",
           "(16,256,10,10)",
           "512",
           "0",
           "(layer3_1_conv2,)",
           "{}"
          ],
          [
           "add_5",
           "add()",
           "(16,256,10,10)",
           "0",
           "409 600",
           "(layer3_1_bn2, layer3_0_relu_1)",
           "{}"
          ],
          [
           "layer3_1_relu_1",
           "nn.ReLU",
           "(16,256,10,10)",
           "0",
           "0",
           "(add_5,)",
           "{}"
          ],
          [
           "layer4_0_conv1",
           "nn.Conv2d",
           "(16,512,5,5)",
           "1 179 648",
           "943 718 400",
           "(layer3_1_relu_1,)",
           "{}"
          ],
          [
           "layer4_0_bn1",
           "nn.BatchNorm2d",
           "(16,512,5,5)",
           "1 024",
           "0",
           "(layer4_0_conv1,)",
           "{}"
          ],
          [
           "layer4_0_relu",
           "nn.ReLU",
           "(16,512,5,5)",
           "0",
           "0",
           "(layer4_0_bn1,)",
           "{}"
          ],
          [
           "layer4_0_conv2",
           "nn.Conv2d",
           "(16,512,5,5)",
           "2 359 296",
           "1 887 436 800",
           "(layer4_0_relu,)",
           "{}"
          ],
          [
           "layer4_0_bn2",
           "nn.BatchNorm2d",
           "(16,512,5,5)",
           "1 024",
           "0",
           "(layer4_0_conv2,)",
           "{}"
          ],
          [
           "layer4_0_downsample_0",
           "nn.Conv2d",
           "(16,512,5,5)",
           "131 072",
           "104 857 600",
           "(layer3_1_relu_1,)",
           "{}"
          ],
          [
           "layer4_0_downsample_1",
           "nn.BatchNorm2d",
           "(16,512,5,5)",
           "1 024",
           "0",
           "(layer4_0_downsample_0,)",
           "{}"
          ],
          [
           "add_6",
           "add()",
           "(16,512,5,5)",
           "0",
           "204 800",
           "(layer4_0_bn2, layer4_0_downsample_1)",
           "{}"
          ],
          [
           "layer4_0_relu_1",
           "nn.ReLU",
           "(16,512,5,5)",
           "0",
           "0",
           "(add_6,)",
           "{}"
          ],
          [
           "layer4_1_conv1",
           "nn.Conv2d",
           "(16,512,5,5)",
           "2 359 296",
           "1 887 436 800",
           "(layer4_0_relu_1,)",
           "{}"
          ],
          [
           "layer4_1_bn1",
           "nn.BatchNorm2d",
           "(16,512,5,5)",
           "1 024",
           "0",
           "(layer4_1_conv1,)",
           "{}"
          ],
          [
           "layer4_1_relu",
           "nn.ReLU",
           "(16,512,5,5)",
           "0",
           "0",
           "(layer4_1_bn1,)",
           "{}"
          ],
          [
           "layer4_1_conv2",
           "nn.Conv2d",
           "(16,512,5,5)",
           "2 359 296",
           "1 887 436 800",
           "(layer4_1_relu,)",
           "{}"
          ],
          [
           "layer4_1_bn2",
           "nn.BatchNorm2d",
           "(16,512,5,5)",
           "1 024",
           "0",
           "(layer4_1_conv2,)",
           "{}"
          ],
          [
           "add_7",
           "add()",
           "(16,512,5,5)",
           "0",
           "204 800",
           "(layer4_1_bn2, layer4_0_relu_1)",
           "{}"
          ],
          [
           "layer4_1_relu_1",
           "nn.ReLU",
           "(16,512,5,5)",
           "0",
           "0",
           "(add_7,)",
           "{}"
          ],
          [
           "avgpool",
           "nn.AdaptiveAvgPool2d",
           "(16,512,1,1)",
           "0",
           "0",
           "(layer4_1_relu_1,)",
           "{}"
          ],
          [
           "flatten",
           "flatten()",
           "(16,512)",
           "0",
           "0",
           "(avgpool, 1)",
           "{}"
          ],
          [
           "fc",
           "nn.Linear",
           "(16,1000)",
           "513 000",
           "16 384 000",
           "(flatten,)",
           "{}"
          ],
          [
           "output",
           "output",
           "(16,1000)",
           "0",
           "0",
           "(fc,)",
           "{}"
          ]
         ],
         "hovertemplate": "Name: %{customdata[0]}<br>Operation: %{customdata[1]}<br>Activations: %{customdata[2]}<br>Parameters: %{customdata[3]}<br>FLOPS: %{customdata[4]}<br><br>args: %{customdata[5]}<br>kwargs: %{customdata[6]}<br><extra></extra>",
         "marker": {
          "color": [
           "#000000",
           "#2F8AC4",
           "#52BCA3",
           "#99C945",
           "#24796C",
           "#2F8AC4",
           "#52BCA3",
           "#99C945",
           "#2F8AC4",
           "#52BCA3",
           "#E58606",
           "#99C945",
           "#2F8AC4",
           "#52BCA3",
           "#99C945",
           "#2F8AC4",
           "#52BCA3",
           "#E58606",
           "#99C945",
           "#2F8AC4",
           "#52BCA3",
           "#99C945",
           "#2F8AC4",
           "#52BCA3",
           "#2F8AC4",
           "#52BCA3",
           "#E58606",
           "#99C945",
           "#2F8AC4",
           "#52BCA3",
           "#99C945",
           "#2F8AC4",
           "#52BCA3",
           "#E58606",
           "#99C945",
           "#2F8AC4",
           "#52BCA3",
           "#99C945",
           "#2F8AC4",
           "#52BCA3",
           "#2F8AC4",
           "#52BCA3",
           "#E58606",
           "#99C945",
           "#2F8AC4",
           "#52BCA3",
           "#99C945",
           "#2F8AC4",
           "#52BCA3",
           "#E58606",
           "#99C945",
           "#2F8AC4",
           "#52BCA3",
           "#99C945",
           "#2F8AC4",
           "#52BCA3",
           "#2F8AC4",
           "#52BCA3",
           "#E58606",
           "#99C945",
           "#2F8AC4",
           "#52BCA3",
           "#99C945",
           "#2F8AC4",
           "#52BCA3",
           "#E58606",
           "#99C945",
           "#CC61B0",
           "#DAA51B",
           "#5D69B1",
           "#000000"
          ],
          "colorscale": [
           [
            0,
            "rgb(0,0,255)"
           ],
           [
            1,
            "rgb(255,0,0)"
           ]
          ],
          "size": [
           6,
           11.250279597842884,
           6,
           6,
           6,
           12.91881573172255,
           6,
           6,
           12.91881573172255,
           6,
           6,
           6,
           12.91881573172255,
           6,
           6,
           12.91881573172255,
           6,
           6,
           6,
           13.765679776435459,
           6.846864044712908,
           6,
           14.612543821148368,
           6.846864044712908,
           11.08118426827745,
           6.846864044712908,
           6,
           6,
           14.612543821148368,
           6.846864044712908,
           6,
           14.612543821148368,
           6.846864044712908,
           6,
           6,
           15.459407865861275,
           7.693728089425816,
           6,
           16.306271910574182,
           7.693728089425816,
           12.774912357703267,
           7.693728089425816,
           6,
           6,
           16.306271910574182,
           7.693728089425816,
           6,
           16.306271910574182,
           7.693728089425816,
           6,
           6,
           17.15313595528709,
           8.540592134138725,
           6,
           18,
           8.540592134138725,
           14.468640447129083,
           8.540592134138725,
           6,
           6,
           18,
           8.540592134138725,
           6,
           18,
           8.540592134138725,
           6,
           6,
           6,
           6,
           16.13577641297401,
           6
          ]
         },
         "mode": "markers",
         "showlegend": false,
         "type": "scatter",
         "x": [
          0,
          0,
          0,
          0,
          0,
          0,
          0,
          0,
          0,
          0,
          0,
          0,
          0,
          0,
          0,
          0,
          0,
          0,
          0,
          0,
          0,
          0,
          0,
          0,
          1,
          1,
          0,
          0,
          0,
          0,
          0,
          0,
          0,
          0,
          0,
          0,
          0,
          0,
          0,
          0,
          1,
          1,
          0,
          0,
          0,
          0,
          0,
          0,
          0,
          0,
          0,
          0,
          0,
          0,
          0,
          0,
          1,
          1,
          0,
          0,
          0,
          0,
          0,
          0,
          0,
          0,
          0,
          0,
          0,
          0,
          0
         ],
         "xaxis": "x",
         "y": [
          0,
          1,
          2,
          3,
          4,
          5,
          6,
          7,
          8,
          9,
          10,
          11,
          12,
          13,
          14,
          15,
          16,
          17,
          18,
          19,
          20,
          21,
          22,
          23,
          22,
          23,
          24,
          25,
          26,
          27,
          28,
          29,
          30,
          31,
          32,
          33,
          34,
          35,
          36,
          37,
          36,
          37,
          38,
          39,
          40,
          41,
          42,
          43,
          44,
          45,
          46,
          47,
          48,
          49,
          50,
          51,
          50,
          51,
          52,
          53,
          54,
          55,
          56,
          57,
          58,
          59,
          60,
          61,
          62,
          63,
          64
         ],
         "yaxis": "y"
        },
        {
         "cells": {
          "align": "left",
          "values": [
           [
            "x",
            "conv1",
            "bn1",
            "relu",
            "maxpool",
            "layer1_0_conv1",
            "layer1_0_bn1",
            "layer1_0_relu",
            "layer1_0_conv2",
            "layer1_0_bn2",
            "add",
            "layer1_0_relu_1",
            "layer1_1_conv1",
            "layer1_1_bn1",
            "layer1_1_relu",
            "layer1_1_conv2",
            "layer1_1_bn2",
            "add_1",
            "layer1_1_relu_1",
            "layer2_0_conv1",
            "layer2_0_bn1",
            "layer2_0_relu",
            "layer2_0_conv2",
            "layer2_0_bn2",
            "layer2_0_downsample_0",
            "layer2_0_downsample_1",
            "add_2",
            "layer2_0_relu_1",
            "layer2_1_conv1",
            "layer2_1_bn1",
            "layer2_1_relu",
            "layer2_1_conv2",
            "layer2_1_bn2",
            "add_3",
            "layer2_1_relu_1",
            "layer3_0_conv1",
            "layer3_0_bn1",
            "layer3_0_relu",
            "layer3_0_conv2",
            "layer3_0_bn2",
            "layer3_0_downsample_0",
            "layer3_0_downsample_1",
            "add_4",
            "layer3_0_relu_1",
            "layer3_1_conv1",
            "layer3_1_bn1",
            "layer3_1_relu",
            "layer3_1_conv2",
            "layer3_1_bn2",
            "add_5",
            "layer3_1_relu_1",
            "layer4_0_conv1",
            "layer4_0_bn1",
            "layer4_0_relu",
            "layer4_0_conv2",
            "layer4_0_bn2",
            "layer4_0_downsample_0",
            "layer4_0_downsample_1",
            "add_6",
            "layer4_0_relu_1",
            "layer4_1_conv1",
            "layer4_1_bn1",
            "layer4_1_relu",
            "layer4_1_conv2",
            "layer4_1_bn2",
            "add_7",
            "layer4_1_relu_1",
            "avgpool",
            "flatten",
            "fc",
            "output"
           ],
           [
            "input",
            "nn.Conv2d",
            "nn.BatchNorm2d",
            "nn.ReLU",
            "nn.MaxPool2d",
            "nn.Conv2d",
            "nn.BatchNorm2d",
            "nn.ReLU",
            "nn.Conv2d",
            "nn.BatchNorm2d",
            "add()",
            "nn.ReLU",
            "nn.Conv2d",
            "nn.BatchNorm2d",
            "nn.ReLU",
            "nn.Conv2d",
            "nn.BatchNorm2d",
            "add()",
            "nn.ReLU",
            "nn.Conv2d",
            "nn.BatchNorm2d",
            "nn.ReLU",
            "nn.Conv2d",
            "nn.BatchNorm2d",
            "nn.Conv2d",
            "nn.BatchNorm2d",
            "add()",
            "nn.ReLU",
            "nn.Conv2d",
            "nn.BatchNorm2d",
            "nn.ReLU",
            "nn.Conv2d",
            "nn.BatchNorm2d",
            "add()",
            "nn.ReLU",
            "nn.Conv2d",
            "nn.BatchNorm2d",
            "nn.ReLU",
            "nn.Conv2d",
            "nn.BatchNorm2d",
            "nn.Conv2d",
            "nn.BatchNorm2d",
            "add()",
            "nn.ReLU",
            "nn.Conv2d",
            "nn.BatchNorm2d",
            "nn.ReLU",
            "nn.Conv2d",
            "nn.BatchNorm2d",
            "add()",
            "nn.ReLU",
            "nn.Conv2d",
            "nn.BatchNorm2d",
            "nn.ReLU",
            "nn.Conv2d",
            "nn.BatchNorm2d",
            "nn.Conv2d",
            "nn.BatchNorm2d",
            "add()",
            "nn.ReLU",
            "nn.Conv2d",
            "nn.BatchNorm2d",
            "nn.ReLU",
            "nn.Conv2d",
            "nn.BatchNorm2d",
            "add()",
            "nn.ReLU",
            "nn.AdaptiveAvgPool2d",
            "flatten()",
            "nn.Linear",
            "output"
           ],
           [
            "(16,3,160,160)",
            "(16,64,80,80)",
            "(16,64,80,80)",
            "(16,64,80,80)",
            "(16,64,40,40)",
            "(16,64,40,40)",
            "(16,64,40,40)",
            "(16,64,40,40)",
            "(16,64,40,40)",
            "(16,64,40,40)",
            "(16,64,40,40)",
            "(16,64,40,40)",
            "(16,64,40,40)",
            "(16,64,40,40)",
            "(16,64,40,40)",
            "(16,64,40,40)",
            "(16,64,40,40)",
            "(16,64,40,40)",
            "(16,64,40,40)",
            "(16,128,20,20)",
            "(16,128,20,20)",
            "(16,128,20,20)",
            "(16,128,20,20)",
            "(16,128,20,20)",
            "(16,128,20,20)",
            "(16,128,20,20)",
            "(16,128,20,20)",
            "(16,128,20,20)",
            "(16,128,20,20)",
            "(16,128,20,20)",
            "(16,128,20,20)",
            "(16,128,20,20)",
            "(16,128,20,20)",
            "(16,128,20,20)",
            "(16,128,20,20)",
            "(16,256,10,10)",
            "(16,256,10,10)",
            "(16,256,10,10)",
            "(16,256,10,10)",
            "(16,256,10,10)",
            "(16,256,10,10)",
            "(16,256,10,10)",
            "(16,256,10,10)",
            "(16,256,10,10)",
            "(16,256,10,10)",
            "(16,256,10,10)",
            "(16,256,10,10)",
            "(16,256,10,10)",
            "(16,256,10,10)",
            "(16,256,10,10)",
            "(16,256,10,10)",
            "(16,512,5,5)",
            "(16,512,5,5)",
            "(16,512,5,5)",
            "(16,512,5,5)",
            "(16,512,5,5)",
            "(16,512,5,5)",
            "(16,512,5,5)",
            "(16,512,5,5)",
            "(16,512,5,5)",
            "(16,512,5,5)",
            "(16,512,5,5)",
            "(16,512,5,5)",
            "(16,512,5,5)",
            "(16,512,5,5)",
            "(16,512,5,5)",
            "(16,512,5,5)",
            "(16,512,1,1)",
            "(16,512)",
            "(16,1000)",
            "(16,1000)"
           ],
           [
            "0",
            "9 408",
            "128",
            "0",
            "0",
            "36 864",
            "128",
            "0",
            "36 864",
            "128",
            "0",
            "0",
            "36 864",
            "128",
            "0",
            "36 864",
            "128",
            "0",
            "0",
            "73 728",
            "256",
            "0",
            "147 456",
            "256",
            "8 192",
            "256",
            "0",
            "0",
            "147 456",
            "256",
            "0",
            "147 456",
            "256",
            "0",
            "0",
            "294 912",
            "512",
            "0",
            "589 824",
            "512",
            "32 768",
            "512",
            "0",
            "0",
            "589 824",
            "512",
            "0",
            "589 824",
            "512",
            "0",
            "0",
            "1 179 648",
            "1 024",
            "0",
            "2 359 296",
            "1 024",
            "131 072",
            "1 024",
            "0",
            "0",
            "2 359 296",
            "1 024",
            "0",
            "2 359 296",
            "1 024",
            "0",
            "0",
            "0",
            "0",
            "513 000",
            "0"
           ],
           [
            "0",
            "1 926 758 400",
            "0",
            "0",
            "0",
            "1 887 436 800",
            "0",
            "0",
            "1 887 436 800",
            "0",
            "1 638 400",
            "0",
            "1 887 436 800",
            "0",
            "0",
            "1 887 436 800",
            "0",
            "1 638 400",
            "0",
            "943 718 400",
            "0",
            "0",
            "1 887 436 800",
            "0",
            "104 857 600",
            "0",
            "819 200",
            "0",
            "1 887 436 800",
            "0",
            "0",
            "1 887 436 800",
            "0",
            "819 200",
            "0",
            "943 718 400",
            "0",
            "0",
            "1 887 436 800",
            "0",
            "104 857 600",
            "0",
            "409 600",
            "0",
            "1 887 436 800",
            "0",
            "0",
            "1 887 436 800",
            "0",
            "409 600",
            "0",
            "943 718 400",
            "0",
            "0",
            "1 887 436 800",
            "0",
            "104 857 600",
            "0",
            "204 800",
            "0",
            "1 887 436 800",
            "0",
            "0",
            "1 887 436 800",
            "0",
            "204 800",
            "0",
            "0",
            "0",
            "16 384 000",
            "0"
           ]
          ]
         },
         "domain": {
          "x": [
           0.19,
           1
          ],
          "y": [
           0,
           1
          ]
         },
         "header": {
          "align": "left",
          "font": {
           "size": 10
          },
          "values": [
           "Name",
           "Operation",
           "Activations",
           "Params [11 689 512]",
           "FLOPS [29 631 692 800]"
          ]
         },
         "type": "table"
        }
       ],
       "layout": {
        "margin": {
         "b": 0,
         "l": 0,
         "r": 0,
         "t": 0
        },
        "modebar": {
         "orientation": "v",
         "remove": [
          "select",
          "lasso"
         ]
        },
        "template": {
         "data": {
          "bar": [
           {
            "error_x": {
             "color": "#2a3f5f"
            },
            "error_y": {
             "color": "#2a3f5f"
            },
            "marker": {
             "line": {
              "color": "#E5ECF6",
              "width": 0.5
             },
             "pattern": {
              "fillmode": "overlay",
              "size": 10,
              "solidity": 0.2
             }
            },
            "type": "bar"
           }
          ],
          "barpolar": [
           {
            "marker": {
             "line": {
              "color": "#E5ECF6",
              "width": 0.5
             },
             "pattern": {
              "fillmode": "overlay",
              "size": 10,
              "solidity": 0.2
             }
            },
            "type": "barpolar"
           }
          ],
          "carpet": [
           {
            "aaxis": {
             "endlinecolor": "#2a3f5f",
             "gridcolor": "white",
             "linecolor": "white",
             "minorgridcolor": "white",
             "startlinecolor": "#2a3f5f"
            },
            "baxis": {
             "endlinecolor": "#2a3f5f",
             "gridcolor": "white",
             "linecolor": "white",
             "minorgridcolor": "white",
             "startlinecolor": "#2a3f5f"
            },
            "type": "carpet"
           }
          ],
          "choropleth": [
           {
            "colorbar": {
             "outlinewidth": 0,
             "ticks": ""
            },
            "type": "choropleth"
           }
          ],
          "contour": [
           {
            "colorbar": {
             "outlinewidth": 0,
             "ticks": ""
            },
            "colorscale": [
             [
              0,
              "#0d0887"
             ],
             [
              0.1111111111111111,
              "#46039f"
             ],
             [
              0.2222222222222222,
              "#7201a8"
             ],
             [
              0.3333333333333333,
              "#9c179e"
             ],
             [
              0.4444444444444444,
              "#bd3786"
             ],
             [
              0.5555555555555556,
              "#d8576b"
             ],
             [
              0.6666666666666666,
              "#ed7953"
             ],
             [
              0.7777777777777778,
              "#fb9f3a"
             ],
             [
              0.8888888888888888,
              "#fdca26"
             ],
             [
              1,
              "#f0f921"
             ]
            ],
            "type": "contour"
           }
          ],
          "contourcarpet": [
           {
            "colorbar": {
             "outlinewidth": 0,
             "ticks": ""
            },
            "type": "contourcarpet"
           }
          ],
          "heatmap": [
           {
            "colorbar": {
             "outlinewidth": 0,
             "ticks": ""
            },
            "colorscale": [
             [
              0,
              "#0d0887"
             ],
             [
              0.1111111111111111,
              "#46039f"
             ],
             [
              0.2222222222222222,
              "#7201a8"
             ],
             [
              0.3333333333333333,
              "#9c179e"
             ],
             [
              0.4444444444444444,
              "#bd3786"
             ],
             [
              0.5555555555555556,
              "#d8576b"
             ],
             [
              0.6666666666666666,
              "#ed7953"
             ],
             [
              0.7777777777777778,
              "#fb9f3a"
             ],
             [
              0.8888888888888888,
              "#fdca26"
             ],
             [
              1,
              "#f0f921"
             ]
            ],
            "type": "heatmap"
           }
          ],
          "heatmapgl": [
           {
            "colorbar": {
             "outlinewidth": 0,
             "ticks": ""
            },
            "colorscale": [
             [
              0,
              "#0d0887"
             ],
             [
              0.1111111111111111,
              "#46039f"
             ],
             [
              0.2222222222222222,
              "#7201a8"
             ],
             [
              0.3333333333333333,
              "#9c179e"
             ],
             [
              0.4444444444444444,
              "#bd3786"
             ],
             [
              0.5555555555555556,
              "#d8576b"
             ],
             [
              0.6666666666666666,
              "#ed7953"
             ],
             [
              0.7777777777777778,
              "#fb9f3a"
             ],
             [
              0.8888888888888888,
              "#fdca26"
             ],
             [
              1,
              "#f0f921"
             ]
            ],
            "type": "heatmapgl"
           }
          ],
          "histogram": [
           {
            "marker": {
             "pattern": {
              "fillmode": "overlay",
              "size": 10,
              "solidity": 0.2
             }
            },
            "type": "histogram"
           }
          ],
          "histogram2d": [
           {
            "colorbar": {
             "outlinewidth": 0,
             "ticks": ""
            },
            "colorscale": [
             [
              0,
              "#0d0887"
             ],
             [
              0.1111111111111111,
              "#46039f"
             ],
             [
              0.2222222222222222,
              "#7201a8"
             ],
             [
              0.3333333333333333,
              "#9c179e"
             ],
             [
              0.4444444444444444,
              "#bd3786"
             ],
             [
              0.5555555555555556,
              "#d8576b"
             ],
             [
              0.6666666666666666,
              "#ed7953"
             ],
             [
              0.7777777777777778,
              "#fb9f3a"
             ],
             [
              0.8888888888888888,
              "#fdca26"
             ],
             [
              1,
              "#f0f921"
             ]
            ],
            "type": "histogram2d"
           }
          ],
          "histogram2dcontour": [
           {
            "colorbar": {
             "outlinewidth": 0,
             "ticks": ""
            },
            "colorscale": [
             [
              0,
              "#0d0887"
             ],
             [
              0.1111111111111111,
              "#46039f"
             ],
             [
              0.2222222222222222,
              "#7201a8"
             ],
             [
              0.3333333333333333,
              "#9c179e"
             ],
             [
              0.4444444444444444,
              "#bd3786"
             ],
             [
              0.5555555555555556,
              "#d8576b"
             ],
             [
              0.6666666666666666,
              "#ed7953"
             ],
             [
              0.7777777777777778,
              "#fb9f3a"
             ],
             [
              0.8888888888888888,
              "#fdca26"
             ],
             [
              1,
              "#f0f921"
             ]
            ],
            "type": "histogram2dcontour"
           }
          ],
          "mesh3d": [
           {
            "colorbar": {
             "outlinewidth": 0,
             "ticks": ""
            },
            "type": "mesh3d"
           }
          ],
          "parcoords": [
           {
            "line": {
             "colorbar": {
              "outlinewidth": 0,
              "ticks": ""
             }
            },
            "type": "parcoords"
           }
          ],
          "pie": [
           {
            "automargin": true,
            "type": "pie"
           }
          ],
          "scatter": [
           {
            "fillpattern": {
             "fillmode": "overlay",
             "size": 10,
             "solidity": 0.2
            },
            "type": "scatter"
           }
          ],
          "scatter3d": [
           {
            "line": {
             "colorbar": {
              "outlinewidth": 0,
              "ticks": ""
             }
            },
            "marker": {
             "colorbar": {
              "outlinewidth": 0,
              "ticks": ""
             }
            },
            "type": "scatter3d"
           }
          ],
          "scattercarpet": [
           {
            "marker": {
             "colorbar": {
              "outlinewidth": 0,
              "ticks": ""
             }
            },
            "type": "scattercarpet"
           }
          ],
          "scattergeo": [
           {
            "marker": {
             "colorbar": {
              "outlinewidth": 0,
              "ticks": ""
             }
            },
            "type": "scattergeo"
           }
          ],
          "scattergl": [
           {
            "marker": {
             "colorbar": {
              "outlinewidth": 0,
              "ticks": ""
             }
            },
            "type": "scattergl"
           }
          ],
          "scattermapbox": [
           {
            "marker": {
             "colorbar": {
              "outlinewidth": 0,
              "ticks": ""
             }
            },
            "type": "scattermapbox"
           }
          ],
          "scatterpolar": [
           {
            "marker": {
             "colorbar": {
              "outlinewidth": 0,
              "ticks": ""
             }
            },
            "type": "scatterpolar"
           }
          ],
          "scatterpolargl": [
           {
            "marker": {
             "colorbar": {
              "outlinewidth": 0,
              "ticks": ""
             }
            },
            "type": "scatterpolargl"
           }
          ],
          "scatterternary": [
           {
            "marker": {
             "colorbar": {
              "outlinewidth": 0,
              "ticks": ""
             }
            },
            "type": "scatterternary"
           }
          ],
          "surface": [
           {
            "colorbar": {
             "outlinewidth": 0,
             "ticks": ""
            },
            "colorscale": [
             [
              0,
              "#0d0887"
             ],
             [
              0.1111111111111111,
              "#46039f"
             ],
             [
              0.2222222222222222,
              "#7201a8"
             ],
             [
              0.3333333333333333,
              "#9c179e"
             ],
             [
              0.4444444444444444,
              "#bd3786"
             ],
             [
              0.5555555555555556,
              "#d8576b"
             ],
             [
              0.6666666666666666,
              "#ed7953"
             ],
             [
              0.7777777777777778,
              "#fb9f3a"
             ],
             [
              0.8888888888888888,
              "#fdca26"
             ],
             [
              1,
              "#f0f921"
             ]
            ],
            "type": "surface"
           }
          ],
          "table": [
           {
            "cells": {
             "fill": {
              "color": "#EBF0F8"
             },
             "line": {
              "color": "white"
             }
            },
            "header": {
             "fill": {
              "color": "#C8D4E3"
             },
             "line": {
              "color": "white"
             }
            },
            "type": "table"
           }
          ]
         },
         "layout": {
          "annotationdefaults": {
           "arrowcolor": "#2a3f5f",
           "arrowhead": 0,
           "arrowwidth": 1
          },
          "autotypenumbers": "strict",
          "coloraxis": {
           "colorbar": {
            "outlinewidth": 0,
            "ticks": ""
           }
          },
          "colorscale": {
           "diverging": [
            [
             0,
             "#8e0152"
            ],
            [
             0.1,
             "#c51b7d"
            ],
            [
             0.2,
             "#de77ae"
            ],
            [
             0.3,
             "#f1b6da"
            ],
            [
             0.4,
             "#fde0ef"
            ],
            [
             0.5,
             "#f7f7f7"
            ],
            [
             0.6,
             "#e6f5d0"
            ],
            [
             0.7,
             "#b8e186"
            ],
            [
             0.8,
             "#7fbc41"
            ],
            [
             0.9,
             "#4d9221"
            ],
            [
             1,
             "#276419"
            ]
           ],
           "sequential": [
            [
             0,
             "#0d0887"
            ],
            [
             0.1111111111111111,
             "#46039f"
            ],
            [
             0.2222222222222222,
             "#7201a8"
            ],
            [
             0.3333333333333333,
             "#9c179e"
            ],
            [
             0.4444444444444444,
             "#bd3786"
            ],
            [
             0.5555555555555556,
             "#d8576b"
            ],
            [
             0.6666666666666666,
             "#ed7953"
            ],
            [
             0.7777777777777778,
             "#fb9f3a"
            ],
            [
             0.8888888888888888,
             "#fdca26"
            ],
            [
             1,
             "#f0f921"
            ]
           ],
           "sequentialminus": [
            [
             0,
             "#0d0887"
            ],
            [
             0.1111111111111111,
             "#46039f"
            ],
            [
             0.2222222222222222,
             "#7201a8"
            ],
            [
             0.3333333333333333,
             "#9c179e"
            ],
            [
             0.4444444444444444,
             "#bd3786"
            ],
            [
             0.5555555555555556,
             "#d8576b"
            ],
            [
             0.6666666666666666,
             "#ed7953"
            ],
            [
             0.7777777777777778,
             "#fb9f3a"
            ],
            [
             0.8888888888888888,
             "#fdca26"
            ],
            [
             1,
             "#f0f921"
            ]
           ]
          },
          "colorway": [
           "#636efa",
           "#EF553B",
           "#00cc96",
           "#ab63fa",
           "#FFA15A",
           "#19d3f3",
           "#FF6692",
           "#B6E880",
           "#FF97FF",
           "#FECB52"
          ],
          "font": {
           "color": "#2a3f5f"
          },
          "geo": {
           "bgcolor": "white",
           "lakecolor": "white",
           "landcolor": "#E5ECF6",
           "showlakes": true,
           "showland": true,
           "subunitcolor": "white"
          },
          "hoverlabel": {
           "align": "left"
          },
          "hovermode": "closest",
          "mapbox": {
           "style": "light"
          },
          "paper_bgcolor": "white",
          "plot_bgcolor": "#E5ECF6",
          "polar": {
           "angularaxis": {
            "gridcolor": "white",
            "linecolor": "white",
            "ticks": ""
           },
           "bgcolor": "#E5ECF6",
           "radialaxis": {
            "gridcolor": "white",
            "linecolor": "white",
            "ticks": ""
           }
          },
          "scene": {
           "xaxis": {
            "backgroundcolor": "#E5ECF6",
            "gridcolor": "white",
            "gridwidth": 2,
            "linecolor": "white",
            "showbackground": true,
            "ticks": "",
            "zerolinecolor": "white"
           },
           "yaxis": {
            "backgroundcolor": "#E5ECF6",
            "gridcolor": "white",
            "gridwidth": 2,
            "linecolor": "white",
            "showbackground": true,
            "ticks": "",
            "zerolinecolor": "white"
           },
           "zaxis": {
            "backgroundcolor": "#E5ECF6",
            "gridcolor": "white",
            "gridwidth": 2,
            "linecolor": "white",
            "showbackground": true,
            "ticks": "",
            "zerolinecolor": "white"
           }
          },
          "shapedefaults": {
           "line": {
            "color": "#2a3f5f"
           }
          },
          "ternary": {
           "aaxis": {
            "gridcolor": "white",
            "linecolor": "white",
            "ticks": ""
           },
           "baxis": {
            "gridcolor": "white",
            "linecolor": "white",
            "ticks": ""
           },
           "bgcolor": "#E5ECF6",
           "caxis": {
            "gridcolor": "white",
            "linecolor": "white",
            "ticks": ""
           }
          },
          "title": {
           "x": 0.05
          },
          "xaxis": {
           "automargin": true,
           "gridcolor": "white",
           "linecolor": "white",
           "ticks": "",
           "title": {
            "standoff": 15
           },
           "zerolinecolor": "white",
           "zerolinewidth": 2
          },
          "yaxis": {
           "automargin": true,
           "gridcolor": "white",
           "linecolor": "white",
           "ticks": "",
           "title": {
            "standoff": 15
           },
           "zerolinecolor": "white",
           "zerolinewidth": 2
          }
         }
        },
        "updatemenus": [
         {
          "active": 0,
          "buttons": [
           {
            "args": [
             {
              "marker": [
               {},
               {
                "color": [
                 "#000000",
                 "#2F8AC4",
                 "#52BCA3",
                 "#99C945",
                 "#24796C",
                 "#2F8AC4",
                 "#52BCA3",
                 "#99C945",
                 "#2F8AC4",
                 "#52BCA3",
                 "#E58606",
                 "#99C945",
                 "#2F8AC4",
                 "#52BCA3",
                 "#99C945",
                 "#2F8AC4",
                 "#52BCA3",
                 "#E58606",
                 "#99C945",
                 "#2F8AC4",
                 "#52BCA3",
                 "#99C945",
                 "#2F8AC4",
                 "#52BCA3",
                 "#2F8AC4",
                 "#52BCA3",
                 "#E58606",
                 "#99C945",
                 "#2F8AC4",
                 "#52BCA3",
                 "#99C945",
                 "#2F8AC4",
                 "#52BCA3",
                 "#E58606",
                 "#99C945",
                 "#2F8AC4",
                 "#52BCA3",
                 "#99C945",
                 "#2F8AC4",
                 "#52BCA3",
                 "#2F8AC4",
                 "#52BCA3",
                 "#E58606",
                 "#99C945",
                 "#2F8AC4",
                 "#52BCA3",
                 "#99C945",
                 "#2F8AC4",
                 "#52BCA3",
                 "#E58606",
                 "#99C945",
                 "#2F8AC4",
                 "#52BCA3",
                 "#99C945",
                 "#2F8AC4",
                 "#52BCA3",
                 "#2F8AC4",
                 "#52BCA3",
                 "#E58606",
                 "#99C945",
                 "#2F8AC4",
                 "#52BCA3",
                 "#99C945",
                 "#2F8AC4",
                 "#52BCA3",
                 "#E58606",
                 "#99C945",
                 "#CC61B0",
                 "#DAA51B",
                 "#5D69B1",
                 "#000000"
                ],
                "colorscale": "Bluered",
                "size": [
                 6,
                 11.250279597842884,
                 6,
                 6,
                 6,
                 12.91881573172255,
                 6,
                 6,
                 12.91881573172255,
                 6,
                 6,
                 6,
                 12.91881573172255,
                 6,
                 6,
                 12.91881573172255,
                 6,
                 6,
                 6,
                 13.765679776435459,
                 6.846864044712908,
                 6,
                 14.612543821148368,
                 6.846864044712908,
                 11.08118426827745,
                 6.846864044712908,
                 6,
                 6,
                 14.612543821148368,
                 6.846864044712908,
                 6,
                 14.612543821148368,
                 6.846864044712908,
                 6,
                 6,
                 15.459407865861275,
                 7.693728089425816,
                 6,
                 16.306271910574182,
                 7.693728089425816,
                 12.774912357703267,
                 7.693728089425816,
                 6,
                 6,
                 16.306271910574182,
                 7.693728089425816,
                 6,
                 16.306271910574182,
                 7.693728089425816,
                 6,
                 6,
                 17.15313595528709,
                 8.540592134138725,
                 6,
                 18,
                 8.540592134138725,
                 14.468640447129083,
                 8.540592134138725,
                 6,
                 6,
                 18,
                 8.540592134138725,
                 6,
                 18,
                 8.540592134138725,
                 6,
                 6,
                 6,
                 6,
                 16.13577641297401,
                 6
                ]
               },
               {}
              ]
             }
            ],
            "label": "Size by params, color by operation",
            "method": "restyle"
           },
           {
            "args": [
             {
              "marker": [
               {},
               {
                "color": [
                 "#000000",
                 "#2F8AC4",
                 "#52BCA3",
                 "#99C945",
                 "#24796C",
                 "#2F8AC4",
                 "#52BCA3",
                 "#99C945",
                 "#2F8AC4",
                 "#52BCA3",
                 "#E58606",
                 "#99C945",
                 "#2F8AC4",
                 "#52BCA3",
                 "#99C945",
                 "#2F8AC4",
                 "#52BCA3",
                 "#E58606",
                 "#99C945",
                 "#2F8AC4",
                 "#52BCA3",
                 "#99C945",
                 "#2F8AC4",
                 "#52BCA3",
                 "#2F8AC4",
                 "#52BCA3",
                 "#E58606",
                 "#99C945",
                 "#2F8AC4",
                 "#52BCA3",
                 "#99C945",
                 "#2F8AC4",
                 "#52BCA3",
                 "#E58606",
                 "#99C945",
                 "#2F8AC4",
                 "#52BCA3",
                 "#99C945",
                 "#2F8AC4",
                 "#52BCA3",
                 "#2F8AC4",
                 "#52BCA3",
                 "#E58606",
                 "#99C945",
                 "#2F8AC4",
                 "#52BCA3",
                 "#99C945",
                 "#2F8AC4",
                 "#52BCA3",
                 "#E58606",
                 "#99C945",
                 "#2F8AC4",
                 "#52BCA3",
                 "#99C945",
                 "#2F8AC4",
                 "#52BCA3",
                 "#2F8AC4",
                 "#52BCA3",
                 "#E58606",
                 "#99C945",
                 "#2F8AC4",
                 "#52BCA3",
                 "#99C945",
                 "#2F8AC4",
                 "#52BCA3",
                 "#E58606",
                 "#99C945",
                 "#CC61B0",
                 "#DAA51B",
                 "#5D69B1",
                 "#000000"
                ],
                "colorscale": "Bluered",
                "size": [
                 6,
                 18,
                 6,
                 6,
                 6,
                 17.972956289262115,
                 6,
                 6,
                 17.972956289262115,
                 6,
                 8.727340426301035,
                 6,
                 17.972956289262115,
                 6,
                 6,
                 17.972956289262115,
                 6,
                 8.727340426301035,
                 6,
                 17.063842813828437,
                 6,
                 6,
                 17.972956289262115,
                 6,
                 14.182021278903106,
                 6,
                 7.818226950867357,
                 6,
                 17.972956289262115,
                 6,
                 6,
                 17.972956289262115,
                 6,
                 7.818226950867357,
                 6,
                 17.063842813828437,
                 6,
                 6,
                 17.972956289262115,
                 6,
                 14.182021278903106,
                 6,
                 6.909113475433679,
                 6,
                 17.972956289262115,
                 6,
                 6,
                 17.972956289262115,
                 6,
                 6.909113475433679,
                 6,
                 17.063842813828437,
                 6,
                 6,
                 17.972956289262115,
                 6,
                 14.182021278903106,
                 6,
                 6,
                 6,
                 17.972956289262115,
                 6,
                 6,
                 17.972956289262115,
                 6,
                 6,
                 6,
                 6,
                 6,
                 11.747350021784866,
                 6
                ]
               },
               {}
              ]
             }
            ],
            "label": "Size by FLOPS, color by operation",
            "method": "restyle"
           },
           {
            "args": [
             {
              "marker": [
               {},
               {
                "color": [
                 0,
                 1,
                 0,
                 0,
                 0,
                 0.9977463574385095,
                 0,
                 0,
                 0.9977463574385095,
                 0,
                 0.22727836885841962,
                 0,
                 0.9977463574385095,
                 0,
                 0,
                 0.9977463574385095,
                 0,
                 0.22727836885841962,
                 0,
                 0.9219869011523696,
                 0,
                 0,
                 0.9977463574385095,
                 0,
                 0.6818351065752588,
                 0,
                 0.15151891257227976,
                 0,
                 0.9977463574385095,
                 0,
                 0,
                 0.9977463574385095,
                 0,
                 0.15151891257227976,
                 0,
                 0.9219869011523696,
                 0,
                 0,
                 0.9977463574385095,
                 0,
                 0.6818351065752588,
                 0,
                 0.07575945628613988,
                 0,
                 0.9977463574385095,
                 0,
                 0,
                 0.9977463574385095,
                 0,
                 0.07575945628613988,
                 0,
                 0.9219869011523696,
                 0,
                 0,
                 0.9977463574385095,
                 0,
                 0.6818351065752588,
                 0,
                 0,
                 0,
                 0.9977463574385095,
                 0,
                 0,
                 0.9977463574385095,
                 0,
                 0,
                 0,
                 0,
                 0,
                 0.4789458351487389,
                 0
                ],
                "colorscale": "Bluered",
                "size": [
                 6,
                 11.250279597842884,
                 6,
                 6,
                 6,
                 12.91881573172255,
                 6,
                 6,
                 12.91881573172255,
                 6,
                 6,
                 6,
                 12.91881573172255,
                 6,
                 6,
                 12.91881573172255,
                 6,
                 6,
                 6,
                 13.765679776435459,
                 6.846864044712908,
                 6,
                 14.612543821148368,
                 6.846864044712908,
                 11.08118426827745,
                 6.846864044712908,
                 6,
                 6,
                 14.612543821148368,
                 6.846864044712908,
                 6,
                 14.612543821148368,
                 6.846864044712908,
                 6,
                 6,
                 15.459407865861275,
                 7.693728089425816,
                 6,
                 16.306271910574182,
                 7.693728089425816,
                 12.774912357703267,
                 7.693728089425816,
                 6,
                 6,
                 16.306271910574182,
                 7.693728089425816,
                 6,
                 16.306271910574182,
                 7.693728089425816,
                 6,
                 6,
                 17.15313595528709,
                 8.540592134138725,
                 6,
                 18,
                 8.540592134138725,
                 14.468640447129083,
                 8.540592134138725,
                 6,
                 6,
                 18,
                 8.540592134138725,
                 6,
                 18,
                 8.540592134138725,
                 6,
                 6,
                 6,
                 6,
                 16.13577641297401,
                 6
                ]
               },
               {}
              ]
             }
            ],
            "label": "Size by params, color by FLOPS",
            "method": "restyle"
           },
           {
            "args": [
             {
              "marker": [
               {},
               {
                "color": [
                 0,
                 0.4375232998202403,
                 0,
                 0,
                 0,
                 0.5765679776435458,
                 0,
                 0,
                 0.5765679776435458,
                 0,
                 0,
                 0,
                 0.5765679776435458,
                 0,
                 0,
                 0.5765679776435458,
                 0,
                 0,
                 0,
                 0.6471399813696215,
                 0.0705720037260757,
                 0,
                 0.7177119850956972,
                 0.0705720037260757,
                 0.42343202235645416,
                 0.0705720037260757,
                 0,
                 0,
                 0.7177119850956972,
                 0.0705720037260757,
                 0,
                 0.7177119850956972,
                 0.0705720037260757,
                 0,
                 0,
                 0.7882839888217729,
                 0.1411440074521514,
                 0,
                 0.8588559925478486,
                 0.1411440074521514,
                 0.5645760298086056,
                 0.1411440074521514,
                 0,
                 0,
                 0.8588559925478486,
                 0.1411440074521514,
                 0,
                 0.8588559925478486,
                 0.1411440074521514,
                 0,
                 0,
                 0.9294279962739243,
                 0.21171601117822708,
                 0,
                 1,
                 0.21171601117822708,
                 0.7057200372607569,
                 0.21171601117822708,
                 0,
                 0,
                 1,
                 0.21171601117822708,
                 0,
                 1,
                 0.21171601117822708,
                 0,
                 0,
                 0,
                 0,
                 0.8446480344145008,
                 0
                ],
                "colorscale": "Bluered",
                "size": [
                 6,
                 18,
                 6,
                 6,
                 6,
                 17.972956289262115,
                 6,
                 6,
                 17.972956289262115,
                 6,
                 8.727340426301035,
                 6,
                 17.972956289262115,
                 6,
                 6,
                 17.972956289262115,
                 6,
                 8.727340426301035,
                 6,
                 17.063842813828437,
                 6,
                 6,
                 17.972956289262115,
                 6,
                 14.182021278903106,
                 6,
                 7.818226950867357,
                 6,
                 17.972956289262115,
                 6,
                 6,
                 17.972956289262115,
                 6,
                 7.818226950867357,
                 6,
                 17.063842813828437,
                 6,
                 6,
                 17.972956289262115,
                 6,
                 14.182021278903106,
                 6,
                 6.909113475433679,
                 6,
                 17.972956289262115,
                 6,
                 6,
                 17.972956289262115,
                 6,
                 6.909113475433679,
                 6,
                 17.063842813828437,
                 6,
                 6,
                 17.972956289262115,
                 6,
                 14.182021278903106,
                 6,
                 6,
                 6,
                 17.972956289262115,
                 6,
                 6,
                 17.972956289262115,
                 6,
                 6,
                 6,
                 6,
                 6,
                 11.747350021784866,
                 6
                ]
               },
               {}
              ]
             }
            ],
            "label": "Size by FLOPS, color by params",
            "method": "restyle"
           }
          ],
          "direction": "up",
          "pad": {
           "b": 0,
           "l": 0,
           "r": 0,
           "t": 8
          },
          "showactive": true,
          "x": 0,
          "xanchor": "left",
          "y": 0,
          "yanchor": "top"
         }
        ],
        "xaxis": {
         "anchor": "y",
         "domain": [
          0,
          0.18
         ],
         "range": [
          -0.5,
          1.5
         ],
         "showgrid": false,
         "tickmode": "array",
         "tickvals": [],
         "zeroline": false
        },
        "yaxis": {
         "anchor": "x",
         "domain": [
          0,
          1
         ],
         "range": [
          64.25,
          -0.25
         ],
         "showgrid": false,
         "tickmode": "array",
         "tickvals": [],
         "zeroline": false
        }
       }
      }
     },
     "metadata": {},
     "output_type": "display_data"
    }
   ],
   "source": [
    "with plotly_renderer('vscode'): mav.show_figure()"
   ]
  },
  {
   "cell_type": "markdown",
   "metadata": {},
   "source": [
    "## Interactive widget\n",
    "* Based on [ipywidgets](https://ipywidgets.readthedocs.io/en/latest/) and [plotly.graph_objects.FigureWidget](https://plotly.com/python/figurewidget/)\n",
    "* Synchronizaton between slider, overview panel, main graph and table\n",
    "  - Includes responsiveness of other components to plotly's built-in pan and zoom actions\n",
    "* Clicking a node in the main graph highlights it in the table\n",
    "* Limited portability expected to fluctuate over time on different environments"
   ]
  },
  {
   "cell_type": "code",
   "execution_count": 14,
   "metadata": {},
   "outputs": [
    {
     "data": {
      "application/vnd.jupyter.widget-view+json": {
       "model_id": "d6276878e19a4fc699e9417dd15498ea",
       "version_major": 2,
       "version_minor": 0
      },
      "text/plain": [
       "VBox(children=(HBox(children=(Box(children=(FloatRangeSlider(value=(-9.5, 0.5), layout=Layout(height='400px'),…"
      ]
     },
     "metadata": {},
     "output_type": "display_data"
    }
   ],
   "source": [
    "mav.show_widget(add_slider=True, add_overview=True)"
   ]
  },
  {
   "cell_type": "markdown",
   "metadata": {},
   "source": [
    "## HTML export\n",
    "* Most portable option\n",
    "* Exports the same portable figure shown above to a standalone HTML file\n",
    "* The `export_for_offline_use` parameter specifies how to include the plotly dependency in the exported HTML\n",
    "  - `False` (default): The exported HTML is small, but requires a working internet connection to display correctly\n",
    "  - `True`: The exported HTML is around 4MB in size and displays correctly without a working internet connection"
   ]
  },
  {
   "cell_type": "code",
   "execution_count": 15,
   "metadata": {},
   "outputs": [],
   "source": [
    "mav.export_static_html('resnet18.html', export_for_offline_use=False)"
   ]
  },
  {
   "cell_type": "markdown",
   "metadata": {},
   "source": [
    "## Specifying colors\n",
    "* Palettes from plotly [discrete color sequences](https://plotly.com/python/discrete-color/#color-sequences-in-plotly-express) can be specified by name\n",
    "* User-defined palettes can be specified as a list of `'#RRGGBB'` formatted strings\n",
    "* The key to `fixed_color_map` may be a string in the **Operation** column or a category as listed [here](https://pytorch.org/docs/stable/nn.html)"
   ]
  },
  {
   "cell_type": "code",
   "execution_count": 16,
   "metadata": {},
   "outputs": [
    {
     "data": {
      "application/vnd.plotly.v1+json": {
       "config": {
        "plotlyServerURL": "https://plot.ly"
       },
       "data": [
        {
         "hoverinfo": "skip",
         "line": {
          "color": "gray",
          "width": 1
         },
         "mode": "lines",
         "showlegend": false,
         "type": "scatter",
         "x": [
          0,
          0,
          null,
          0,
          0,
          null,
          0,
          0,
          null,
          0,
          0,
          null,
          0,
          0,
          null,
          0,
          0,
          null,
          0,
          0,
          null,
          0,
          0,
          null,
          0,
          0,
          null,
          0,
          0,
          null,
          0,
          0.4,
          0.4,
          0,
          null,
          0,
          0,
          null,
          0,
          0,
          null,
          0,
          0,
          null,
          0,
          0,
          null,
          0,
          0,
          null,
          0,
          0,
          null,
          0,
          0,
          null,
          0,
          -0.4,
          -0.4,
          0,
          null,
          0,
          0,
          null,
          0,
          0,
          null,
          0,
          0,
          null,
          0,
          0,
          null,
          0,
          0,
          null,
          0,
          0,
          null,
          0,
          1,
          null,
          1,
          1,
          null,
          0,
          0,
          null,
          1,
          0,
          null,
          0,
          0,
          null,
          0,
          0,
          null,
          0,
          0,
          null,
          0,
          0,
          null,
          0,
          0,
          null,
          0,
          0,
          null,
          0,
          0,
          null,
          0,
          -0.4,
          -0.4,
          0,
          null,
          0,
          0,
          null,
          0,
          0,
          null,
          0,
          0,
          null,
          0,
          0,
          null,
          0,
          0,
          null,
          0,
          0,
          null,
          0,
          1,
          null,
          1,
          1,
          null,
          0,
          0,
          null,
          1,
          0,
          null,
          0,
          0,
          null,
          0,
          0,
          null,
          0,
          0,
          null,
          0,
          0,
          null,
          0,
          0,
          null,
          0,
          0,
          null,
          0,
          0,
          null,
          0,
          -0.4,
          -0.4,
          0,
          null,
          0,
          0,
          null,
          0,
          0,
          null,
          0,
          0,
          null,
          0,
          0,
          null,
          0,
          0,
          null,
          0,
          0,
          null,
          0,
          1,
          null,
          1,
          1,
          null,
          0,
          0,
          null,
          1,
          0,
          null,
          0,
          0,
          null,
          0,
          0,
          null,
          0,
          0,
          null,
          0,
          0,
          null,
          0,
          0,
          null,
          0,
          0,
          null,
          0,
          0,
          null,
          0,
          -0.4,
          -0.4,
          0,
          null,
          0,
          0,
          null,
          0,
          0,
          null,
          0,
          0,
          null,
          0,
          0,
          null,
          0,
          0
         ],
         "xaxis": "x",
         "y": [
          0,
          1,
          null,
          1,
          2,
          null,
          2,
          3,
          null,
          3,
          4,
          null,
          4,
          5,
          null,
          5,
          6,
          null,
          6,
          7,
          null,
          7,
          8,
          null,
          8,
          9,
          null,
          9,
          10,
          null,
          4,
          4.5,
          9.5,
          10,
          null,
          10,
          11,
          null,
          11,
          12,
          null,
          12,
          13,
          null,
          13,
          14,
          null,
          14,
          15,
          null,
          15,
          16,
          null,
          16,
          17,
          null,
          11,
          11.5,
          16.5,
          17,
          null,
          17,
          18,
          null,
          18,
          19,
          null,
          19,
          20,
          null,
          20,
          21,
          null,
          21,
          22,
          null,
          22,
          23,
          null,
          18,
          22,
          null,
          22,
          23,
          null,
          23,
          24,
          null,
          23,
          24,
          null,
          24,
          25,
          null,
          25,
          26,
          null,
          26,
          27,
          null,
          27,
          28,
          null,
          28,
          29,
          null,
          29,
          30,
          null,
          30,
          31,
          null,
          25,
          25.5,
          30.5,
          31,
          null,
          31,
          32,
          null,
          32,
          33,
          null,
          33,
          34,
          null,
          34,
          35,
          null,
          35,
          36,
          null,
          36,
          37,
          null,
          32,
          36,
          null,
          36,
          37,
          null,
          37,
          38,
          null,
          37,
          38,
          null,
          38,
          39,
          null,
          39,
          40,
          null,
          40,
          41,
          null,
          41,
          42,
          null,
          42,
          43,
          null,
          43,
          44,
          null,
          44,
          45,
          null,
          39,
          39.5,
          44.5,
          45,
          null,
          45,
          46,
          null,
          46,
          47,
          null,
          47,
          48,
          null,
          48,
          49,
          null,
          49,
          50,
          null,
          50,
          51,
          null,
          46,
          50,
          null,
          50,
          51,
          null,
          51,
          52,
          null,
          51,
          52,
          null,
          52,
          53,
          null,
          53,
          54,
          null,
          54,
          55,
          null,
          55,
          56,
          null,
          56,
          57,
          null,
          57,
          58,
          null,
          58,
          59,
          null,
          53,
          53.5,
          58.5,
          59,
          null,
          59,
          60,
          null,
          60,
          61,
          null,
          61,
          62,
          null,
          62,
          63,
          null,
          63,
          64
         ],
         "yaxis": "y"
        },
        {
         "customdata": [
          [
           "x",
           "input",
           "(16,3,160,160)",
           "0",
           "0",
           "()",
           "{}"
          ],
          [
           "conv1",
           "nn.Conv2d",
           "(16,64,80,80)",
           "9 408",
           "1 926 758 400",
           "(x,)",
           "{}"
          ],
          [
           "bn1",
           "nn.BatchNorm2d",
           "(16,64,80,80)",
           "128",
           "0",
           "(conv1,)",
           "{}"
          ],
          [
           "relu",
           "nn.ReLU",
           "(16,64,80,80)",
           "0",
           "0",
           "(bn1,)",
           "{}"
          ],
          [
           "maxpool",
           "nn.MaxPool2d",
           "(16,64,40,40)",
           "0",
           "0",
           "(relu,)",
           "{}"
          ],
          [
           "layer1_0_conv1",
           "nn.Conv2d",
           "(16,64,40,40)",
           "36 864",
           "1 887 436 800",
           "(maxpool,)",
           "{}"
          ],
          [
           "layer1_0_bn1",
           "nn.BatchNorm2d",
           "(16,64,40,40)",
           "128",
           "0",
           "(layer1_0_conv1,)",
           "{}"
          ],
          [
           "layer1_0_relu",
           "nn.ReLU",
           "(16,64,40,40)",
           "0",
           "0",
           "(layer1_0_bn1,)",
           "{}"
          ],
          [
           "layer1_0_conv2",
           "nn.Conv2d",
           "(16,64,40,40)",
           "36 864",
           "1 887 436 800",
           "(layer1_0_relu,)",
           "{}"
          ],
          [
           "layer1_0_bn2",
           "nn.BatchNorm2d",
           "(16,64,40,40)",
           "128",
           "0",
           "(layer1_0_conv2,)",
           "{}"
          ],
          [
           "add",
           "add()",
           "(16,64,40,40)",
           "0",
           "1 638 400",
           "(layer1_0_bn2, maxpool)",
           "{}"
          ],
          [
           "layer1_0_relu_1",
           "nn.ReLU",
           "(16,64,40,40)",
           "0",
           "0",
           "(add,)",
           "{}"
          ],
          [
           "layer1_1_conv1",
           "nn.Conv2d",
           "(16,64,40,40)",
           "36 864",
           "1 887 436 800",
           "(layer1_0_relu_1,)",
           "{}"
          ],
          [
           "layer1_1_bn1",
           "nn.BatchNorm2d",
           "(16,64,40,40)",
           "128",
           "0",
           "(layer1_1_conv1,)",
           "{}"
          ],
          [
           "layer1_1_relu",
           "nn.ReLU",
           "(16,64,40,40)",
           "0",
           "0",
           "(layer1_1_bn1,)",
           "{}"
          ],
          [
           "layer1_1_conv2",
           "nn.Conv2d",
           "(16,64,40,40)",
           "36 864",
           "1 887 436 800",
           "(layer1_1_relu,)",
           "{}"
          ],
          [
           "layer1_1_bn2",
           "nn.BatchNorm2d",
           "(16,64,40,40)",
           "128",
           "0",
           "(layer1_1_conv2,)",
           "{}"
          ],
          [
           "add_1",
           "add()",
           "(16,64,40,40)",
           "0",
           "1 638 400",
           "(layer1_1_bn2, layer1_0_relu_1)",
           "{}"
          ],
          [
           "layer1_1_relu_1",
           "nn.ReLU",
           "(16,64,40,40)",
           "0",
           "0",
           "(add_1,)",
           "{}"
          ],
          [
           "layer2_0_conv1",
           "nn.Conv2d",
           "(16,128,20,20)",
           "73 728",
           "943 718 400",
           "(layer1_1_relu_1,)",
           "{}"
          ],
          [
           "layer2_0_bn1",
           "nn.BatchNorm2d",
           "(16,128,20,20)",
           "256",
           "0",
           "(layer2_0_conv1,)",
           "{}"
          ],
          [
           "layer2_0_relu",
           "nn.ReLU",
           "(16,128,20,20)",
           "0",
           "0",
           "(layer2_0_bn1,)",
           "{}"
          ],
          [
           "layer2_0_conv2",
           "nn.Conv2d",
           "(16,128,20,20)",
           "147 456",
           "1 887 436 800",
           "(layer2_0_relu,)",
           "{}"
          ],
          [
           "layer2_0_bn2",
           "nn.BatchNorm2d",
           "(16,128,20,20)",
           "256",
           "0",
           "(layer2_0_conv2,)",
           "{}"
          ],
          [
           "layer2_0_downsample_0",
           "nn.Conv2d",
           "(16,128,20,20)",
           "8 192",
           "104 857 600",
           "(layer1_1_relu_1,)",
           "{}"
          ],
          [
           "layer2_0_downsample_1",
           "nn.BatchNorm2d",
           "(16,128,20,20)",
           "256",
           "0",
           "(layer2_0_downsample_0,)",
           "{}"
          ],
          [
           "add_2",
           "add()",
           "(16,128,20,20)",
           "0",
           "819 200",
           "(layer2_0_bn2, layer2_0_downsample_1)",
           "{}"
          ],
          [
           "layer2_0_relu_1",
           "nn.ReLU",
           "(16,128,20,20)",
           "0",
           "0",
           "(add_2,)",
           "{}"
          ],
          [
           "layer2_1_conv1",
           "nn.Conv2d",
           "(16,128,20,20)",
           "147 456",
           "1 887 436 800",
           "(layer2_0_relu_1,)",
           "{}"
          ],
          [
           "layer2_1_bn1",
           "nn.BatchNorm2d",
           "(16,128,20,20)",
           "256",
           "0",
           "(layer2_1_conv1,)",
           "{}"
          ],
          [
           "layer2_1_relu",
           "nn.ReLU",
           "(16,128,20,20)",
           "0",
           "0",
           "(layer2_1_bn1,)",
           "{}"
          ],
          [
           "layer2_1_conv2",
           "nn.Conv2d",
           "(16,128,20,20)",
           "147 456",
           "1 887 436 800",
           "(layer2_1_relu,)",
           "{}"
          ],
          [
           "layer2_1_bn2",
           "nn.BatchNorm2d",
           "(16,128,20,20)",
           "256",
           "0",
           "(layer2_1_conv2,)",
           "{}"
          ],
          [
           "add_3",
           "add()",
           "(16,128,20,20)",
           "0",
           "819 200",
           "(layer2_1_bn2, layer2_0_relu_1)",
           "{}"
          ],
          [
           "layer2_1_relu_1",
           "nn.ReLU",
           "(16,128,20,20)",
           "0",
           "0",
           "(add_3,)",
           "{}"
          ],
          [
           "layer3_0_conv1",
           "nn.Conv2d",
           "(16,256,10,10)",
           "294 912",
           "943 718 400",
           "(layer2_1_relu_1,)",
           "{}"
          ],
          [
           "layer3_0_bn1",
           "nn.BatchNorm2d",
           "(16,256,10,10)",
           "512",
           "0",
           "(layer3_0_conv1,)",
           "{}"
          ],
          [
           "layer3_0_relu",
           "nn.ReLU",
           "(16,256,10,10)",
           "0",
           "0",
           "(layer3_0_bn1,)",
           "{}"
          ],
          [
           "layer3_0_conv2",
           "nn.Conv2d",
           "(16,256,10,10)",
           "589 824",
           "1 887 436 800",
           "(layer3_0_relu,)",
           "{}"
          ],
          [
           "layer3_0_bn2",
           "nn.BatchNorm2d",
           "(16,256,10,10)",
           "512",
           "0",
           "(layer3_0_conv2,)",
           "{}"
          ],
          [
           "layer3_0_downsample_0",
           "nn.Conv2d",
           "(16,256,10,10)",
           "32 768",
           "104 857 600",
           "(layer2_1_relu_1,)",
           "{}"
          ],
          [
           "layer3_0_downsample_1",
           "nn.BatchNorm2d",
           "(16,256,10,10)",
           "512",
           "0",
           "(layer3_0_downsample_0,)",
           "{}"
          ],
          [
           "add_4",
           "add()",
           "(16,256,10,10)",
           "0",
           "409 600",
           "(layer3_0_bn2, layer3_0_downsample_1)",
           "{}"
          ],
          [
           "layer3_0_relu_1",
           "nn.ReLU",
           "(16,256,10,10)",
           "0",
           "0",
           "(add_4,)",
           "{}"
          ],
          [
           "layer3_1_conv1",
           "nn.Conv2d",
           "(16,256,10,10)",
           "589 824",
           "1 887 436 800",
           "(layer3_0_relu_1,)",
           "{}"
          ],
          [
           "layer3_1_bn1",
           "nn.BatchNorm2d",
           "(16,256,10,10)",
           "512",
           "0",
           "(layer3_1_conv1,)",
           "{}"
          ],
          [
           "layer3_1_relu",
           "nn.ReLU",
           "(16,256,10,10)",
           "0",
           "0",
           "(layer3_1_bn1,)",
           "{}"
          ],
          [
           "layer3_1_conv2",
           "nn.Conv2d",
           "(16,256,10,10)",
           "589 824",
           "1 887 436 800",
           "(layer3_1_relu,)",
           "{}"
          ],
          [
           "layer3_1_bn2",
           "nn.BatchNorm2d",
           "(16,256,10,10)",
           "512",
           "0",
           "(layer3_1_conv2,)",
           "{}"
          ],
          [
           "add_5",
           "add()",
           "(16,256,10,10)",
           "0",
           "409 600",
           "(layer3_1_bn2, layer3_0_relu_1)",
           "{}"
          ],
          [
           "layer3_1_relu_1",
           "nn.ReLU",
           "(16,256,10,10)",
           "0",
           "0",
           "(add_5,)",
           "{}"
          ],
          [
           "layer4_0_conv1",
           "nn.Conv2d",
           "(16,512,5,5)",
           "1 179 648",
           "943 718 400",
           "(layer3_1_relu_1,)",
           "{}"
          ],
          [
           "layer4_0_bn1",
           "nn.BatchNorm2d",
           "(16,512,5,5)",
           "1 024",
           "0",
           "(layer4_0_conv1,)",
           "{}"
          ],
          [
           "layer4_0_relu",
           "nn.ReLU",
           "(16,512,5,5)",
           "0",
           "0",
           "(layer4_0_bn1,)",
           "{}"
          ],
          [
           "layer4_0_conv2",
           "nn.Conv2d",
           "(16,512,5,5)",
           "2 359 296",
           "1 887 436 800",
           "(layer4_0_relu,)",
           "{}"
          ],
          [
           "layer4_0_bn2",
           "nn.BatchNorm2d",
           "(16,512,5,5)",
           "1 024",
           "0",
           "(layer4_0_conv2,)",
           "{}"
          ],
          [
           "layer4_0_downsample_0",
           "nn.Conv2d",
           "(16,512,5,5)",
           "131 072",
           "104 857 600",
           "(layer3_1_relu_1,)",
           "{}"
          ],
          [
           "layer4_0_downsample_1",
           "nn.BatchNorm2d",
           "(16,512,5,5)",
           "1 024",
           "0",
           "(layer4_0_downsample_0,)",
           "{}"
          ],
          [
           "add_6",
           "add()",
           "(16,512,5,5)",
           "0",
           "204 800",
           "(layer4_0_bn2, layer4_0_downsample_1)",
           "{}"
          ],
          [
           "layer4_0_relu_1",
           "nn.ReLU",
           "(16,512,5,5)",
           "0",
           "0",
           "(add_6,)",
           "{}"
          ],
          [
           "layer4_1_conv1",
           "nn.Conv2d",
           "(16,512,5,5)",
           "2 359 296",
           "1 887 436 800",
           "(layer4_0_relu_1,)",
           "{}"
          ],
          [
           "layer4_1_bn1",
           "nn.BatchNorm2d",
           "(16,512,5,5)",
           "1 024",
           "0",
           "(layer4_1_conv1,)",
           "{}"
          ],
          [
           "layer4_1_relu",
           "nn.ReLU",
           "(16,512,5,5)",
           "0",
           "0",
           "(layer4_1_bn1,)",
           "{}"
          ],
          [
           "layer4_1_conv2",
           "nn.Conv2d",
           "(16,512,5,5)",
           "2 359 296",
           "1 887 436 800",
           "(layer4_1_relu,)",
           "{}"
          ],
          [
           "layer4_1_bn2",
           "nn.BatchNorm2d",
           "(16,512,5,5)",
           "1 024",
           "0",
           "(layer4_1_conv2,)",
           "{}"
          ],
          [
           "add_7",
           "add()",
           "(16,512,5,5)",
           "0",
           "204 800",
           "(layer4_1_bn2, layer4_0_relu_1)",
           "{}"
          ],
          [
           "layer4_1_relu_1",
           "nn.ReLU",
           "(16,512,5,5)",
           "0",
           "0",
           "(add_7,)",
           "{}"
          ],
          [
           "avgpool",
           "nn.AdaptiveAvgPool2d",
           "(16,512,1,1)",
           "0",
           "0",
           "(layer4_1_relu_1,)",
           "{}"
          ],
          [
           "flatten",
           "flatten()",
           "(16,512)",
           "0",
           "0",
           "(avgpool, 1)",
           "{}"
          ],
          [
           "fc",
           "nn.Linear",
           "(16,1000)",
           "513 000",
           "16 384 000",
           "(flatten,)",
           "{}"
          ],
          [
           "output",
           "output",
           "(16,1000)",
           "0",
           "0",
           "(fc,)",
           "{}"
          ]
         ],
         "hovertemplate": "Name: %{customdata[0]}<br>Operation: %{customdata[1]}<br>Activations: %{customdata[2]}<br>Parameters: %{customdata[3]}<br>FLOPS: %{customdata[4]}<br><br>args: %{customdata[5]}<br>kwargs: %{customdata[6]}<br><extra></extra>",
         "marker": {
          "color": [
           "#000000",
           "#2F8AC4",
           "#52BCA3",
           "#99C945",
           "#24796C",
           "#2F8AC4",
           "#52BCA3",
           "#99C945",
           "#2F8AC4",
           "#52BCA3",
           "#E58606",
           "#99C945",
           "#2F8AC4",
           "#52BCA3",
           "#99C945",
           "#2F8AC4",
           "#52BCA3",
           "#E58606",
           "#99C945",
           "#2F8AC4",
           "#52BCA3",
           "#99C945",
           "#2F8AC4",
           "#52BCA3",
           "#2F8AC4",
           "#52BCA3",
           "#E58606",
           "#99C945",
           "#2F8AC4",
           "#52BCA3",
           "#99C945",
           "#2F8AC4",
           "#52BCA3",
           "#E58606",
           "#99C945",
           "#2F8AC4",
           "#52BCA3",
           "#99C945",
           "#2F8AC4",
           "#52BCA3",
           "#2F8AC4",
           "#52BCA3",
           "#E58606",
           "#99C945",
           "#2F8AC4",
           "#52BCA3",
           "#99C945",
           "#2F8AC4",
           "#52BCA3",
           "#E58606",
           "#99C945",
           "#2F8AC4",
           "#52BCA3",
           "#99C945",
           "#2F8AC4",
           "#52BCA3",
           "#2F8AC4",
           "#52BCA3",
           "#E58606",
           "#99C945",
           "#2F8AC4",
           "#52BCA3",
           "#99C945",
           "#2F8AC4",
           "#52BCA3",
           "#E58606",
           "#99C945",
           "#CC61B0",
           "#DAA51B",
           "#5D69B1",
           "#000000"
          ],
          "colorscale": [
           [
            0,
            "rgb(0,0,255)"
           ],
           [
            1,
            "rgb(255,0,0)"
           ]
          ],
          "size": [
           6,
           11.250279597842884,
           6,
           6,
           6,
           12.91881573172255,
           6,
           6,
           12.91881573172255,
           6,
           6,
           6,
           12.91881573172255,
           6,
           6,
           12.91881573172255,
           6,
           6,
           6,
           13.765679776435459,
           6.846864044712908,
           6,
           14.612543821148368,
           6.846864044712908,
           11.08118426827745,
           6.846864044712908,
           6,
           6,
           14.612543821148368,
           6.846864044712908,
           6,
           14.612543821148368,
           6.846864044712908,
           6,
           6,
           15.459407865861275,
           7.693728089425816,
           6,
           16.306271910574182,
           7.693728089425816,
           12.774912357703267,
           7.693728089425816,
           6,
           6,
           16.306271910574182,
           7.693728089425816,
           6,
           16.306271910574182,
           7.693728089425816,
           6,
           6,
           17.15313595528709,
           8.540592134138725,
           6,
           18,
           8.540592134138725,
           14.468640447129083,
           8.540592134138725,
           6,
           6,
           18,
           8.540592134138725,
           6,
           18,
           8.540592134138725,
           6,
           6,
           6,
           6,
           16.13577641297401,
           6
          ]
         },
         "mode": "markers",
         "showlegend": false,
         "type": "scatter",
         "x": [
          0,
          0,
          0,
          0,
          0,
          0,
          0,
          0,
          0,
          0,
          0,
          0,
          0,
          0,
          0,
          0,
          0,
          0,
          0,
          0,
          0,
          0,
          0,
          0,
          1,
          1,
          0,
          0,
          0,
          0,
          0,
          0,
          0,
          0,
          0,
          0,
          0,
          0,
          0,
          0,
          1,
          1,
          0,
          0,
          0,
          0,
          0,
          0,
          0,
          0,
          0,
          0,
          0,
          0,
          0,
          0,
          1,
          1,
          0,
          0,
          0,
          0,
          0,
          0,
          0,
          0,
          0,
          0,
          0,
          0,
          0
         ],
         "xaxis": "x",
         "y": [
          0,
          1,
          2,
          3,
          4,
          5,
          6,
          7,
          8,
          9,
          10,
          11,
          12,
          13,
          14,
          15,
          16,
          17,
          18,
          19,
          20,
          21,
          22,
          23,
          22,
          23,
          24,
          25,
          26,
          27,
          28,
          29,
          30,
          31,
          32,
          33,
          34,
          35,
          36,
          37,
          36,
          37,
          38,
          39,
          40,
          41,
          42,
          43,
          44,
          45,
          46,
          47,
          48,
          49,
          50,
          51,
          50,
          51,
          52,
          53,
          54,
          55,
          56,
          57,
          58,
          59,
          60,
          61,
          62,
          63,
          64
         ],
         "yaxis": "y"
        },
        {
         "cells": {
          "align": "left",
          "values": [
           [
            "x",
            "conv1",
            "bn1",
            "relu",
            "maxpool",
            "layer1_0_conv1",
            "layer1_0_bn1",
            "layer1_0_relu",
            "layer1_0_conv2",
            "layer1_0_bn2",
            "add",
            "layer1_0_relu_1",
            "layer1_1_conv1",
            "layer1_1_bn1",
            "layer1_1_relu",
            "layer1_1_conv2",
            "layer1_1_bn2",
            "add_1",
            "layer1_1_relu_1",
            "layer2_0_conv1",
            "layer2_0_bn1",
            "layer2_0_relu",
            "layer2_0_conv2",
            "layer2_0_bn2",
            "layer2_0_downsample_0",
            "layer2_0_downsample_1",
            "add_2",
            "layer2_0_relu_1",
            "layer2_1_conv1",
            "layer2_1_bn1",
            "layer2_1_relu",
            "layer2_1_conv2",
            "layer2_1_bn2",
            "add_3",
            "layer2_1_relu_1",
            "layer3_0_conv1",
            "layer3_0_bn1",
            "layer3_0_relu",
            "layer3_0_conv2",
            "layer3_0_bn2",
            "layer3_0_downsample_0",
            "layer3_0_downsample_1",
            "add_4",
            "layer3_0_relu_1",
            "layer3_1_conv1",
            "layer3_1_bn1",
            "layer3_1_relu",
            "layer3_1_conv2",
            "layer3_1_bn2",
            "add_5",
            "layer3_1_relu_1",
            "layer4_0_conv1",
            "layer4_0_bn1",
            "layer4_0_relu",
            "layer4_0_conv2",
            "layer4_0_bn2",
            "layer4_0_downsample_0",
            "layer4_0_downsample_1",
            "add_6",
            "layer4_0_relu_1",
            "layer4_1_conv1",
            "layer4_1_bn1",
            "layer4_1_relu",
            "layer4_1_conv2",
            "layer4_1_bn2",
            "add_7",
            "layer4_1_relu_1",
            "avgpool",
            "flatten",
            "fc",
            "output"
           ],
           [
            "input",
            "nn.Conv2d",
            "nn.BatchNorm2d",
            "nn.ReLU",
            "nn.MaxPool2d",
            "nn.Conv2d",
            "nn.BatchNorm2d",
            "nn.ReLU",
            "nn.Conv2d",
            "nn.BatchNorm2d",
            "add()",
            "nn.ReLU",
            "nn.Conv2d",
            "nn.BatchNorm2d",
            "nn.ReLU",
            "nn.Conv2d",
            "nn.BatchNorm2d",
            "add()",
            "nn.ReLU",
            "nn.Conv2d",
            "nn.BatchNorm2d",
            "nn.ReLU",
            "nn.Conv2d",
            "nn.BatchNorm2d",
            "nn.Conv2d",
            "nn.BatchNorm2d",
            "add()",
            "nn.ReLU",
            "nn.Conv2d",
            "nn.BatchNorm2d",
            "nn.ReLU",
            "nn.Conv2d",
            "nn.BatchNorm2d",
            "add()",
            "nn.ReLU",
            "nn.Conv2d",
            "nn.BatchNorm2d",
            "nn.ReLU",
            "nn.Conv2d",
            "nn.BatchNorm2d",
            "nn.Conv2d",
            "nn.BatchNorm2d",
            "add()",
            "nn.ReLU",
            "nn.Conv2d",
            "nn.BatchNorm2d",
            "nn.ReLU",
            "nn.Conv2d",
            "nn.BatchNorm2d",
            "add()",
            "nn.ReLU",
            "nn.Conv2d",
            "nn.BatchNorm2d",
            "nn.ReLU",
            "nn.Conv2d",
            "nn.BatchNorm2d",
            "nn.Conv2d",
            "nn.BatchNorm2d",
            "add()",
            "nn.ReLU",
            "nn.Conv2d",
            "nn.BatchNorm2d",
            "nn.ReLU",
            "nn.Conv2d",
            "nn.BatchNorm2d",
            "add()",
            "nn.ReLU",
            "nn.AdaptiveAvgPool2d",
            "flatten()",
            "nn.Linear",
            "output"
           ],
           [
            "(16,3,160,160)",
            "(16,64,80,80)",
            "(16,64,80,80)",
            "(16,64,80,80)",
            "(16,64,40,40)",
            "(16,64,40,40)",
            "(16,64,40,40)",
            "(16,64,40,40)",
            "(16,64,40,40)",
            "(16,64,40,40)",
            "(16,64,40,40)",
            "(16,64,40,40)",
            "(16,64,40,40)",
            "(16,64,40,40)",
            "(16,64,40,40)",
            "(16,64,40,40)",
            "(16,64,40,40)",
            "(16,64,40,40)",
            "(16,64,40,40)",
            "(16,128,20,20)",
            "(16,128,20,20)",
            "(16,128,20,20)",
            "(16,128,20,20)",
            "(16,128,20,20)",
            "(16,128,20,20)",
            "(16,128,20,20)",
            "(16,128,20,20)",
            "(16,128,20,20)",
            "(16,128,20,20)",
            "(16,128,20,20)",
            "(16,128,20,20)",
            "(16,128,20,20)",
            "(16,128,20,20)",
            "(16,128,20,20)",
            "(16,128,20,20)",
            "(16,256,10,10)",
            "(16,256,10,10)",
            "(16,256,10,10)",
            "(16,256,10,10)",
            "(16,256,10,10)",
            "(16,256,10,10)",
            "(16,256,10,10)",
            "(16,256,10,10)",
            "(16,256,10,10)",
            "(16,256,10,10)",
            "(16,256,10,10)",
            "(16,256,10,10)",
            "(16,256,10,10)",
            "(16,256,10,10)",
            "(16,256,10,10)",
            "(16,256,10,10)",
            "(16,512,5,5)",
            "(16,512,5,5)",
            "(16,512,5,5)",
            "(16,512,5,5)",
            "(16,512,5,5)",
            "(16,512,5,5)",
            "(16,512,5,5)",
            "(16,512,5,5)",
            "(16,512,5,5)",
            "(16,512,5,5)",
            "(16,512,5,5)",
            "(16,512,5,5)",
            "(16,512,5,5)",
            "(16,512,5,5)",
            "(16,512,5,5)",
            "(16,512,5,5)",
            "(16,512,1,1)",
            "(16,512)",
            "(16,1000)",
            "(16,1000)"
           ],
           [
            "0",
            "9 408",
            "128",
            "0",
            "0",
            "36 864",
            "128",
            "0",
            "36 864",
            "128",
            "0",
            "0",
            "36 864",
            "128",
            "0",
            "36 864",
            "128",
            "0",
            "0",
            "73 728",
            "256",
            "0",
            "147 456",
            "256",
            "8 192",
            "256",
            "0",
            "0",
            "147 456",
            "256",
            "0",
            "147 456",
            "256",
            "0",
            "0",
            "294 912",
            "512",
            "0",
            "589 824",
            "512",
            "32 768",
            "512",
            "0",
            "0",
            "589 824",
            "512",
            "0",
            "589 824",
            "512",
            "0",
            "0",
            "1 179 648",
            "1 024",
            "0",
            "2 359 296",
            "1 024",
            "131 072",
            "1 024",
            "0",
            "0",
            "2 359 296",
            "1 024",
            "0",
            "2 359 296",
            "1 024",
            "0",
            "0",
            "0",
            "0",
            "513 000",
            "0"
           ],
           [
            "0",
            "1 926 758 400",
            "0",
            "0",
            "0",
            "1 887 436 800",
            "0",
            "0",
            "1 887 436 800",
            "0",
            "1 638 400",
            "0",
            "1 887 436 800",
            "0",
            "0",
            "1 887 436 800",
            "0",
            "1 638 400",
            "0",
            "943 718 400",
            "0",
            "0",
            "1 887 436 800",
            "0",
            "104 857 600",
            "0",
            "819 200",
            "0",
            "1 887 436 800",
            "0",
            "0",
            "1 887 436 800",
            "0",
            "819 200",
            "0",
            "943 718 400",
            "0",
            "0",
            "1 887 436 800",
            "0",
            "104 857 600",
            "0",
            "409 600",
            "0",
            "1 887 436 800",
            "0",
            "0",
            "1 887 436 800",
            "0",
            "409 600",
            "0",
            "943 718 400",
            "0",
            "0",
            "1 887 436 800",
            "0",
            "104 857 600",
            "0",
            "204 800",
            "0",
            "1 887 436 800",
            "0",
            "0",
            "1 887 436 800",
            "0",
            "204 800",
            "0",
            "0",
            "0",
            "16 384 000",
            "0"
           ]
          ]
         },
         "domain": {
          "x": [
           0.19,
           1
          ],
          "y": [
           0,
           1
          ]
         },
         "header": {
          "align": "left",
          "font": {
           "size": 10
          },
          "values": [
           "Name",
           "Operation",
           "Activations",
           "Params [11 689 512]",
           "FLOPS [29 631 692 800]"
          ]
         },
         "type": "table"
        }
       ],
       "layout": {
        "margin": {
         "b": 0,
         "l": 0,
         "r": 0,
         "t": 0
        },
        "modebar": {
         "orientation": "v",
         "remove": [
          "select",
          "lasso"
         ]
        },
        "template": {
         "data": {
          "bar": [
           {
            "error_x": {
             "color": "#2a3f5f"
            },
            "error_y": {
             "color": "#2a3f5f"
            },
            "marker": {
             "line": {
              "color": "#E5ECF6",
              "width": 0.5
             },
             "pattern": {
              "fillmode": "overlay",
              "size": 10,
              "solidity": 0.2
             }
            },
            "type": "bar"
           }
          ],
          "barpolar": [
           {
            "marker": {
             "line": {
              "color": "#E5ECF6",
              "width": 0.5
             },
             "pattern": {
              "fillmode": "overlay",
              "size": 10,
              "solidity": 0.2
             }
            },
            "type": "barpolar"
           }
          ],
          "carpet": [
           {
            "aaxis": {
             "endlinecolor": "#2a3f5f",
             "gridcolor": "white",
             "linecolor": "white",
             "minorgridcolor": "white",
             "startlinecolor": "#2a3f5f"
            },
            "baxis": {
             "endlinecolor": "#2a3f5f",
             "gridcolor": "white",
             "linecolor": "white",
             "minorgridcolor": "white",
             "startlinecolor": "#2a3f5f"
            },
            "type": "carpet"
           }
          ],
          "choropleth": [
           {
            "colorbar": {
             "outlinewidth": 0,
             "ticks": ""
            },
            "type": "choropleth"
           }
          ],
          "contour": [
           {
            "colorbar": {
             "outlinewidth": 0,
             "ticks": ""
            },
            "colorscale": [
             [
              0,
              "#0d0887"
             ],
             [
              0.1111111111111111,
              "#46039f"
             ],
             [
              0.2222222222222222,
              "#7201a8"
             ],
             [
              0.3333333333333333,
              "#9c179e"
             ],
             [
              0.4444444444444444,
              "#bd3786"
             ],
             [
              0.5555555555555556,
              "#d8576b"
             ],
             [
              0.6666666666666666,
              "#ed7953"
             ],
             [
              0.7777777777777778,
              "#fb9f3a"
             ],
             [
              0.8888888888888888,
              "#fdca26"
             ],
             [
              1,
              "#f0f921"
             ]
            ],
            "type": "contour"
           }
          ],
          "contourcarpet": [
           {
            "colorbar": {
             "outlinewidth": 0,
             "ticks": ""
            },
            "type": "contourcarpet"
           }
          ],
          "heatmap": [
           {
            "colorbar": {
             "outlinewidth": 0,
             "ticks": ""
            },
            "colorscale": [
             [
              0,
              "#0d0887"
             ],
             [
              0.1111111111111111,
              "#46039f"
             ],
             [
              0.2222222222222222,
              "#7201a8"
             ],
             [
              0.3333333333333333,
              "#9c179e"
             ],
             [
              0.4444444444444444,
              "#bd3786"
             ],
             [
              0.5555555555555556,
              "#d8576b"
             ],
             [
              0.6666666666666666,
              "#ed7953"
             ],
             [
              0.7777777777777778,
              "#fb9f3a"
             ],
             [
              0.8888888888888888,
              "#fdca26"
             ],
             [
              1,
              "#f0f921"
             ]
            ],
            "type": "heatmap"
           }
          ],
          "heatmapgl": [
           {
            "colorbar": {
             "outlinewidth": 0,
             "ticks": ""
            },
            "colorscale": [
             [
              0,
              "#0d0887"
             ],
             [
              0.1111111111111111,
              "#46039f"
             ],
             [
              0.2222222222222222,
              "#7201a8"
             ],
             [
              0.3333333333333333,
              "#9c179e"
             ],
             [
              0.4444444444444444,
              "#bd3786"
             ],
             [
              0.5555555555555556,
              "#d8576b"
             ],
             [
              0.6666666666666666,
              "#ed7953"
             ],
             [
              0.7777777777777778,
              "#fb9f3a"
             ],
             [
              0.8888888888888888,
              "#fdca26"
             ],
             [
              1,
              "#f0f921"
             ]
            ],
            "type": "heatmapgl"
           }
          ],
          "histogram": [
           {
            "marker": {
             "pattern": {
              "fillmode": "overlay",
              "size": 10,
              "solidity": 0.2
             }
            },
            "type": "histogram"
           }
          ],
          "histogram2d": [
           {
            "colorbar": {
             "outlinewidth": 0,
             "ticks": ""
            },
            "colorscale": [
             [
              0,
              "#0d0887"
             ],
             [
              0.1111111111111111,
              "#46039f"
             ],
             [
              0.2222222222222222,
              "#7201a8"
             ],
             [
              0.3333333333333333,
              "#9c179e"
             ],
             [
              0.4444444444444444,
              "#bd3786"
             ],
             [
              0.5555555555555556,
              "#d8576b"
             ],
             [
              0.6666666666666666,
              "#ed7953"
             ],
             [
              0.7777777777777778,
              "#fb9f3a"
             ],
             [
              0.8888888888888888,
              "#fdca26"
             ],
             [
              1,
              "#f0f921"
             ]
            ],
            "type": "histogram2d"
           }
          ],
          "histogram2dcontour": [
           {
            "colorbar": {
             "outlinewidth": 0,
             "ticks": ""
            },
            "colorscale": [
             [
              0,
              "#0d0887"
             ],
             [
              0.1111111111111111,
              "#46039f"
             ],
             [
              0.2222222222222222,
              "#7201a8"
             ],
             [
              0.3333333333333333,
              "#9c179e"
             ],
             [
              0.4444444444444444,
              "#bd3786"
             ],
             [
              0.5555555555555556,
              "#d8576b"
             ],
             [
              0.6666666666666666,
              "#ed7953"
             ],
             [
              0.7777777777777778,
              "#fb9f3a"
             ],
             [
              0.8888888888888888,
              "#fdca26"
             ],
             [
              1,
              "#f0f921"
             ]
            ],
            "type": "histogram2dcontour"
           }
          ],
          "mesh3d": [
           {
            "colorbar": {
             "outlinewidth": 0,
             "ticks": ""
            },
            "type": "mesh3d"
           }
          ],
          "parcoords": [
           {
            "line": {
             "colorbar": {
              "outlinewidth": 0,
              "ticks": ""
             }
            },
            "type": "parcoords"
           }
          ],
          "pie": [
           {
            "automargin": true,
            "type": "pie"
           }
          ],
          "scatter": [
           {
            "fillpattern": {
             "fillmode": "overlay",
             "size": 10,
             "solidity": 0.2
            },
            "type": "scatter"
           }
          ],
          "scatter3d": [
           {
            "line": {
             "colorbar": {
              "outlinewidth": 0,
              "ticks": ""
             }
            },
            "marker": {
             "colorbar": {
              "outlinewidth": 0,
              "ticks": ""
             }
            },
            "type": "scatter3d"
           }
          ],
          "scattercarpet": [
           {
            "marker": {
             "colorbar": {
              "outlinewidth": 0,
              "ticks": ""
             }
            },
            "type": "scattercarpet"
           }
          ],
          "scattergeo": [
           {
            "marker": {
             "colorbar": {
              "outlinewidth": 0,
              "ticks": ""
             }
            },
            "type": "scattergeo"
           }
          ],
          "scattergl": [
           {
            "marker": {
             "colorbar": {
              "outlinewidth": 0,
              "ticks": ""
             }
            },
            "type": "scattergl"
           }
          ],
          "scattermapbox": [
           {
            "marker": {
             "colorbar": {
              "outlinewidth": 0,
              "ticks": ""
             }
            },
            "type": "scattermapbox"
           }
          ],
          "scatterpolar": [
           {
            "marker": {
             "colorbar": {
              "outlinewidth": 0,
              "ticks": ""
             }
            },
            "type": "scatterpolar"
           }
          ],
          "scatterpolargl": [
           {
            "marker": {
             "colorbar": {
              "outlinewidth": 0,
              "ticks": ""
             }
            },
            "type": "scatterpolargl"
           }
          ],
          "scatterternary": [
           {
            "marker": {
             "colorbar": {
              "outlinewidth": 0,
              "ticks": ""
             }
            },
            "type": "scatterternary"
           }
          ],
          "surface": [
           {
            "colorbar": {
             "outlinewidth": 0,
             "ticks": ""
            },
            "colorscale": [
             [
              0,
              "#0d0887"
             ],
             [
              0.1111111111111111,
              "#46039f"
             ],
             [
              0.2222222222222222,
              "#7201a8"
             ],
             [
              0.3333333333333333,
              "#9c179e"
             ],
             [
              0.4444444444444444,
              "#bd3786"
             ],
             [
              0.5555555555555556,
              "#d8576b"
             ],
             [
              0.6666666666666666,
              "#ed7953"
             ],
             [
              0.7777777777777778,
              "#fb9f3a"
             ],
             [
              0.8888888888888888,
              "#fdca26"
             ],
             [
              1,
              "#f0f921"
             ]
            ],
            "type": "surface"
           }
          ],
          "table": [
           {
            "cells": {
             "fill": {
              "color": "#EBF0F8"
             },
             "line": {
              "color": "white"
             }
            },
            "header": {
             "fill": {
              "color": "#C8D4E3"
             },
             "line": {
              "color": "white"
             }
            },
            "type": "table"
           }
          ]
         },
         "layout": {
          "annotationdefaults": {
           "arrowcolor": "#2a3f5f",
           "arrowhead": 0,
           "arrowwidth": 1
          },
          "autotypenumbers": "strict",
          "coloraxis": {
           "colorbar": {
            "outlinewidth": 0,
            "ticks": ""
           }
          },
          "colorscale": {
           "diverging": [
            [
             0,
             "#8e0152"
            ],
            [
             0.1,
             "#c51b7d"
            ],
            [
             0.2,
             "#de77ae"
            ],
            [
             0.3,
             "#f1b6da"
            ],
            [
             0.4,
             "#fde0ef"
            ],
            [
             0.5,
             "#f7f7f7"
            ],
            [
             0.6,
             "#e6f5d0"
            ],
            [
             0.7,
             "#b8e186"
            ],
            [
             0.8,
             "#7fbc41"
            ],
            [
             0.9,
             "#4d9221"
            ],
            [
             1,
             "#276419"
            ]
           ],
           "sequential": [
            [
             0,
             "#0d0887"
            ],
            [
             0.1111111111111111,
             "#46039f"
            ],
            [
             0.2222222222222222,
             "#7201a8"
            ],
            [
             0.3333333333333333,
             "#9c179e"
            ],
            [
             0.4444444444444444,
             "#bd3786"
            ],
            [
             0.5555555555555556,
             "#d8576b"
            ],
            [
             0.6666666666666666,
             "#ed7953"
            ],
            [
             0.7777777777777778,
             "#fb9f3a"
            ],
            [
             0.8888888888888888,
             "#fdca26"
            ],
            [
             1,
             "#f0f921"
            ]
           ],
           "sequentialminus": [
            [
             0,
             "#0d0887"
            ],
            [
             0.1111111111111111,
             "#46039f"
            ],
            [
             0.2222222222222222,
             "#7201a8"
            ],
            [
             0.3333333333333333,
             "#9c179e"
            ],
            [
             0.4444444444444444,
             "#bd3786"
            ],
            [
             0.5555555555555556,
             "#d8576b"
            ],
            [
             0.6666666666666666,
             "#ed7953"
            ],
            [
             0.7777777777777778,
             "#fb9f3a"
            ],
            [
             0.8888888888888888,
             "#fdca26"
            ],
            [
             1,
             "#f0f921"
            ]
           ]
          },
          "colorway": [
           "#636efa",
           "#EF553B",
           "#00cc96",
           "#ab63fa",
           "#FFA15A",
           "#19d3f3",
           "#FF6692",
           "#B6E880",
           "#FF97FF",
           "#FECB52"
          ],
          "font": {
           "color": "#2a3f5f"
          },
          "geo": {
           "bgcolor": "white",
           "lakecolor": "white",
           "landcolor": "#E5ECF6",
           "showlakes": true,
           "showland": true,
           "subunitcolor": "white"
          },
          "hoverlabel": {
           "align": "left"
          },
          "hovermode": "closest",
          "mapbox": {
           "style": "light"
          },
          "paper_bgcolor": "white",
          "plot_bgcolor": "#E5ECF6",
          "polar": {
           "angularaxis": {
            "gridcolor": "white",
            "linecolor": "white",
            "ticks": ""
           },
           "bgcolor": "#E5ECF6",
           "radialaxis": {
            "gridcolor": "white",
            "linecolor": "white",
            "ticks": ""
           }
          },
          "scene": {
           "xaxis": {
            "backgroundcolor": "#E5ECF6",
            "gridcolor": "white",
            "gridwidth": 2,
            "linecolor": "white",
            "showbackground": true,
            "ticks": "",
            "zerolinecolor": "white"
           },
           "yaxis": {
            "backgroundcolor": "#E5ECF6",
            "gridcolor": "white",
            "gridwidth": 2,
            "linecolor": "white",
            "showbackground": true,
            "ticks": "",
            "zerolinecolor": "white"
           },
           "zaxis": {
            "backgroundcolor": "#E5ECF6",
            "gridcolor": "white",
            "gridwidth": 2,
            "linecolor": "white",
            "showbackground": true,
            "ticks": "",
            "zerolinecolor": "white"
           }
          },
          "shapedefaults": {
           "line": {
            "color": "#2a3f5f"
           }
          },
          "ternary": {
           "aaxis": {
            "gridcolor": "white",
            "linecolor": "white",
            "ticks": ""
           },
           "baxis": {
            "gridcolor": "white",
            "linecolor": "white",
            "ticks": ""
           },
           "bgcolor": "#E5ECF6",
           "caxis": {
            "gridcolor": "white",
            "linecolor": "white",
            "ticks": ""
           }
          },
          "title": {
           "x": 0.05
          },
          "xaxis": {
           "automargin": true,
           "gridcolor": "white",
           "linecolor": "white",
           "ticks": "",
           "title": {
            "standoff": 15
           },
           "zerolinecolor": "white",
           "zerolinewidth": 2
          },
          "yaxis": {
           "automargin": true,
           "gridcolor": "white",
           "linecolor": "white",
           "ticks": "",
           "title": {
            "standoff": 15
           },
           "zerolinecolor": "white",
           "zerolinewidth": 2
          }
         }
        },
        "updatemenus": [
         {
          "active": 0,
          "buttons": [
           {
            "args": [
             {
              "marker": [
               {},
               {
                "color": [
                 "#000000",
                 "#2F8AC4",
                 "#52BCA3",
                 "#99C945",
                 "#24796C",
                 "#2F8AC4",
                 "#52BCA3",
                 "#99C945",
                 "#2F8AC4",
                 "#52BCA3",
                 "#E58606",
                 "#99C945",
                 "#2F8AC4",
                 "#52BCA3",
                 "#99C945",
                 "#2F8AC4",
                 "#52BCA3",
                 "#E58606",
                 "#99C945",
                 "#2F8AC4",
                 "#52BCA3",
                 "#99C945",
                 "#2F8AC4",
                 "#52BCA3",
                 "#2F8AC4",
                 "#52BCA3",
                 "#E58606",
                 "#99C945",
                 "#2F8AC4",
                 "#52BCA3",
                 "#99C945",
                 "#2F8AC4",
                 "#52BCA3",
                 "#E58606",
                 "#99C945",
                 "#2F8AC4",
                 "#52BCA3",
                 "#99C945",
                 "#2F8AC4",
                 "#52BCA3",
                 "#2F8AC4",
                 "#52BCA3",
                 "#E58606",
                 "#99C945",
                 "#2F8AC4",
                 "#52BCA3",
                 "#99C945",
                 "#2F8AC4",
                 "#52BCA3",
                 "#E58606",
                 "#99C945",
                 "#2F8AC4",
                 "#52BCA3",
                 "#99C945",
                 "#2F8AC4",
                 "#52BCA3",
                 "#2F8AC4",
                 "#52BCA3",
                 "#E58606",
                 "#99C945",
                 "#2F8AC4",
                 "#52BCA3",
                 "#99C945",
                 "#2F8AC4",
                 "#52BCA3",
                 "#E58606",
                 "#99C945",
                 "#CC61B0",
                 "#DAA51B",
                 "#5D69B1",
                 "#000000"
                ],
                "colorscale": "Bluered",
                "size": [
                 6,
                 11.250279597842884,
                 6,
                 6,
                 6,
                 12.91881573172255,
                 6,
                 6,
                 12.91881573172255,
                 6,
                 6,
                 6,
                 12.91881573172255,
                 6,
                 6,
                 12.91881573172255,
                 6,
                 6,
                 6,
                 13.765679776435459,
                 6.846864044712908,
                 6,
                 14.612543821148368,
                 6.846864044712908,
                 11.08118426827745,
                 6.846864044712908,
                 6,
                 6,
                 14.612543821148368,
                 6.846864044712908,
                 6,
                 14.612543821148368,
                 6.846864044712908,
                 6,
                 6,
                 15.459407865861275,
                 7.693728089425816,
                 6,
                 16.306271910574182,
                 7.693728089425816,
                 12.774912357703267,
                 7.693728089425816,
                 6,
                 6,
                 16.306271910574182,
                 7.693728089425816,
                 6,
                 16.306271910574182,
                 7.693728089425816,
                 6,
                 6,
                 17.15313595528709,
                 8.540592134138725,
                 6,
                 18,
                 8.540592134138725,
                 14.468640447129083,
                 8.540592134138725,
                 6,
                 6,
                 18,
                 8.540592134138725,
                 6,
                 18,
                 8.540592134138725,
                 6,
                 6,
                 6,
                 6,
                 16.13577641297401,
                 6
                ]
               },
               {}
              ]
             }
            ],
            "label": "Size by params, color by operation",
            "method": "restyle"
           },
           {
            "args": [
             {
              "marker": [
               {},
               {
                "color": [
                 "#000000",
                 "#2F8AC4",
                 "#52BCA3",
                 "#99C945",
                 "#24796C",
                 "#2F8AC4",
                 "#52BCA3",
                 "#99C945",
                 "#2F8AC4",
                 "#52BCA3",
                 "#E58606",
                 "#99C945",
                 "#2F8AC4",
                 "#52BCA3",
                 "#99C945",
                 "#2F8AC4",
                 "#52BCA3",
                 "#E58606",
                 "#99C945",
                 "#2F8AC4",
                 "#52BCA3",
                 "#99C945",
                 "#2F8AC4",
                 "#52BCA3",
                 "#2F8AC4",
                 "#52BCA3",
                 "#E58606",
                 "#99C945",
                 "#2F8AC4",
                 "#52BCA3",
                 "#99C945",
                 "#2F8AC4",
                 "#52BCA3",
                 "#E58606",
                 "#99C945",
                 "#2F8AC4",
                 "#52BCA3",
                 "#99C945",
                 "#2F8AC4",
                 "#52BCA3",
                 "#2F8AC4",
                 "#52BCA3",
                 "#E58606",
                 "#99C945",
                 "#2F8AC4",
                 "#52BCA3",
                 "#99C945",
                 "#2F8AC4",
                 "#52BCA3",
                 "#E58606",
                 "#99C945",
                 "#2F8AC4",
                 "#52BCA3",
                 "#99C945",
                 "#2F8AC4",
                 "#52BCA3",
                 "#2F8AC4",
                 "#52BCA3",
                 "#E58606",
                 "#99C945",
                 "#2F8AC4",
                 "#52BCA3",
                 "#99C945",
                 "#2F8AC4",
                 "#52BCA3",
                 "#E58606",
                 "#99C945",
                 "#CC61B0",
                 "#DAA51B",
                 "#5D69B1",
                 "#000000"
                ],
                "colorscale": "Bluered",
                "size": [
                 6,
                 18,
                 6,
                 6,
                 6,
                 17.972956289262115,
                 6,
                 6,
                 17.972956289262115,
                 6,
                 8.727340426301035,
                 6,
                 17.972956289262115,
                 6,
                 6,
                 17.972956289262115,
                 6,
                 8.727340426301035,
                 6,
                 17.063842813828437,
                 6,
                 6,
                 17.972956289262115,
                 6,
                 14.182021278903106,
                 6,
                 7.818226950867357,
                 6,
                 17.972956289262115,
                 6,
                 6,
                 17.972956289262115,
                 6,
                 7.818226950867357,
                 6,
                 17.063842813828437,
                 6,
                 6,
                 17.972956289262115,
                 6,
                 14.182021278903106,
                 6,
                 6.909113475433679,
                 6,
                 17.972956289262115,
                 6,
                 6,
                 17.972956289262115,
                 6,
                 6.909113475433679,
                 6,
                 17.063842813828437,
                 6,
                 6,
                 17.972956289262115,
                 6,
                 14.182021278903106,
                 6,
                 6,
                 6,
                 17.972956289262115,
                 6,
                 6,
                 17.972956289262115,
                 6,
                 6,
                 6,
                 6,
                 6,
                 11.747350021784866,
                 6
                ]
               },
               {}
              ]
             }
            ],
            "label": "Size by FLOPS, color by operation",
            "method": "restyle"
           },
           {
            "args": [
             {
              "marker": [
               {},
               {
                "color": [
                 0,
                 1,
                 0,
                 0,
                 0,
                 0.9977463574385095,
                 0,
                 0,
                 0.9977463574385095,
                 0,
                 0.22727836885841962,
                 0,
                 0.9977463574385095,
                 0,
                 0,
                 0.9977463574385095,
                 0,
                 0.22727836885841962,
                 0,
                 0.9219869011523696,
                 0,
                 0,
                 0.9977463574385095,
                 0,
                 0.6818351065752588,
                 0,
                 0.15151891257227976,
                 0,
                 0.9977463574385095,
                 0,
                 0,
                 0.9977463574385095,
                 0,
                 0.15151891257227976,
                 0,
                 0.9219869011523696,
                 0,
                 0,
                 0.9977463574385095,
                 0,
                 0.6818351065752588,
                 0,
                 0.07575945628613988,
                 0,
                 0.9977463574385095,
                 0,
                 0,
                 0.9977463574385095,
                 0,
                 0.07575945628613988,
                 0,
                 0.9219869011523696,
                 0,
                 0,
                 0.9977463574385095,
                 0,
                 0.6818351065752588,
                 0,
                 0,
                 0,
                 0.9977463574385095,
                 0,
                 0,
                 0.9977463574385095,
                 0,
                 0,
                 0,
                 0,
                 0,
                 0.4789458351487389,
                 0
                ],
                "colorscale": "Bluered",
                "size": [
                 6,
                 11.250279597842884,
                 6,
                 6,
                 6,
                 12.91881573172255,
                 6,
                 6,
                 12.91881573172255,
                 6,
                 6,
                 6,
                 12.91881573172255,
                 6,
                 6,
                 12.91881573172255,
                 6,
                 6,
                 6,
                 13.765679776435459,
                 6.846864044712908,
                 6,
                 14.612543821148368,
                 6.846864044712908,
                 11.08118426827745,
                 6.846864044712908,
                 6,
                 6,
                 14.612543821148368,
                 6.846864044712908,
                 6,
                 14.612543821148368,
                 6.846864044712908,
                 6,
                 6,
                 15.459407865861275,
                 7.693728089425816,
                 6,
                 16.306271910574182,
                 7.693728089425816,
                 12.774912357703267,
                 7.693728089425816,
                 6,
                 6,
                 16.306271910574182,
                 7.693728089425816,
                 6,
                 16.306271910574182,
                 7.693728089425816,
                 6,
                 6,
                 17.15313595528709,
                 8.540592134138725,
                 6,
                 18,
                 8.540592134138725,
                 14.468640447129083,
                 8.540592134138725,
                 6,
                 6,
                 18,
                 8.540592134138725,
                 6,
                 18,
                 8.540592134138725,
                 6,
                 6,
                 6,
                 6,
                 16.13577641297401,
                 6
                ]
               },
               {}
              ]
             }
            ],
            "label": "Size by params, color by FLOPS",
            "method": "restyle"
           },
           {
            "args": [
             {
              "marker": [
               {},
               {
                "color": [
                 0,
                 0.4375232998202403,
                 0,
                 0,
                 0,
                 0.5765679776435458,
                 0,
                 0,
                 0.5765679776435458,
                 0,
                 0,
                 0,
                 0.5765679776435458,
                 0,
                 0,
                 0.5765679776435458,
                 0,
                 0,
                 0,
                 0.6471399813696215,
                 0.0705720037260757,
                 0,
                 0.7177119850956972,
                 0.0705720037260757,
                 0.42343202235645416,
                 0.0705720037260757,
                 0,
                 0,
                 0.7177119850956972,
                 0.0705720037260757,
                 0,
                 0.7177119850956972,
                 0.0705720037260757,
                 0,
                 0,
                 0.7882839888217729,
                 0.1411440074521514,
                 0,
                 0.8588559925478486,
                 0.1411440074521514,
                 0.5645760298086056,
                 0.1411440074521514,
                 0,
                 0,
                 0.8588559925478486,
                 0.1411440074521514,
                 0,
                 0.8588559925478486,
                 0.1411440074521514,
                 0,
                 0,
                 0.9294279962739243,
                 0.21171601117822708,
                 0,
                 1,
                 0.21171601117822708,
                 0.7057200372607569,
                 0.21171601117822708,
                 0,
                 0,
                 1,
                 0.21171601117822708,
                 0,
                 1,
                 0.21171601117822708,
                 0,
                 0,
                 0,
                 0,
                 0.8446480344145008,
                 0
                ],
                "colorscale": "Bluered",
                "size": [
                 6,
                 18,
                 6,
                 6,
                 6,
                 17.972956289262115,
                 6,
                 6,
                 17.972956289262115,
                 6,
                 8.727340426301035,
                 6,
                 17.972956289262115,
                 6,
                 6,
                 17.972956289262115,
                 6,
                 8.727340426301035,
                 6,
                 17.063842813828437,
                 6,
                 6,
                 17.972956289262115,
                 6,
                 14.182021278903106,
                 6,
                 7.818226950867357,
                 6,
                 17.972956289262115,
                 6,
                 6,
                 17.972956289262115,
                 6,
                 7.818226950867357,
                 6,
                 17.063842813828437,
                 6,
                 6,
                 17.972956289262115,
                 6,
                 14.182021278903106,
                 6,
                 6.909113475433679,
                 6,
                 17.972956289262115,
                 6,
                 6,
                 17.972956289262115,
                 6,
                 6.909113475433679,
                 6,
                 17.063842813828437,
                 6,
                 6,
                 17.972956289262115,
                 6,
                 14.182021278903106,
                 6,
                 6,
                 6,
                 17.972956289262115,
                 6,
                 6,
                 17.972956289262115,
                 6,
                 6,
                 6,
                 6,
                 6,
                 11.747350021784866,
                 6
                ]
               },
               {}
              ]
             }
            ],
            "label": "Size by FLOPS, color by params",
            "method": "restyle"
           }
          ],
          "direction": "up",
          "pad": {
           "b": 0,
           "l": 0,
           "r": 0,
           "t": 8
          },
          "showactive": true,
          "x": 0,
          "xanchor": "left",
          "y": 0,
          "yanchor": "top"
         }
        ],
        "xaxis": {
         "anchor": "y",
         "domain": [
          0,
          0.18
         ],
         "range": [
          -0.5,
          1.5
         ],
         "showgrid": false,
         "tickmode": "array",
         "tickvals": [],
         "zeroline": false
        },
        "yaxis": {
         "anchor": "x",
         "domain": [
          0,
          1
         ],
         "range": [
          64.25,
          -0.25
         ],
         "showgrid": false,
         "tickmode": "array",
         "tickvals": [],
         "zeroline": false
        }
       }
      }
     },
     "metadata": {},
     "output_type": "display_data"
    }
   ],
   "source": [
    "with plotly_renderer('vscode'): mav.show_figure(\n",
    "    palette='Vivid',\n",
    "    avoid_palette_idxs=set([10]),\n",
    "    fixed_color_map={'Convolution':7, 'add()':0, 'nn.MaxPool2d':5}\n",
    ")"
   ]
  },
  {
   "cell_type": "markdown",
   "metadata": {},
   "source": [
    "## Adding or removing panels\n",
    "* This could help with portability or user experience on some environments, e.g.\n",
    "  - On Colab the slider gets more in the way rather than adding value\n",
    "  - The custom JS used for table synchronization may not be supported everywhere"
   ]
  },
  {
   "cell_type": "code",
   "execution_count": 17,
   "metadata": {},
   "outputs": [
    {
     "data": {
      "application/vnd.jupyter.widget-view+json": {
       "model_id": "71d81f3094df4e1dbbae20eab208e8f6",
       "version_major": 2,
       "version_minor": 0
      },
      "text/plain": [
       "VBox(children=(HBox(children=(Box(children=(FigureWidget({\n",
       "    'data': [{'hoverinfo': 'skip',\n",
       "              'm…"
      ]
     },
     "metadata": {},
     "output_type": "display_data"
    }
   ],
   "source": [
    "mav.show_widget(add_overview=False, add_slider=False, add_table=False)"
   ]
  },
  {
   "cell_type": "markdown",
   "metadata": {},
   "source": [
    "## Modifying merging behaviour\n",
    "* `merge_threshold<0` does not perform any merging\n",
    "* `merge_threshold==0` only merges nodes that have zero parameters\n",
    "* `merge_threshold` between 0 and 1 sorts nodes from the smallest to the largest by number of parameters and merges from the smallest node until just before the combined parameter count of merged nodes exceed the specified fraction of the total parameter count\n",
    "* The following nodes are never merged:\n",
    "  - Input and output nodes to the entire network\n",
    "  - Nodes with multiple input connections\n",
    "  - Nodes for which the input node has multiple output connections\n",
    "* The default `merge_threshold` value normally results in nodes without parameters as well as normalization modules being merged"
   ]
  },
  {
   "cell_type": "code",
   "execution_count": 18,
   "metadata": {},
   "outputs": [
    {
     "data": {
      "application/vnd.plotly.v1+json": {
       "config": {
        "plotlyServerURL": "https://plot.ly"
       },
       "data": [
        {
         "hoverinfo": "skip",
         "line": {
          "color": "gray",
          "width": 1
         },
         "mode": "lines",
         "showlegend": false,
         "type": "scatter",
         "x": [
          0,
          0,
          null,
          0,
          0,
          null,
          0,
          0,
          null,
          0,
          0,
          null,
          0,
          0,
          null,
          0,
          0,
          null,
          0,
          0,
          null,
          0,
          0,
          null,
          0,
          0,
          null,
          0,
          0,
          null,
          0,
          0.4,
          0.4,
          0,
          null,
          0,
          0,
          null,
          0,
          0,
          null,
          0,
          0,
          null,
          0,
          0,
          null,
          0,
          0,
          null,
          0,
          0,
          null,
          0,
          0,
          null,
          0,
          -0.4,
          -0.4,
          0,
          null,
          0,
          0,
          null,
          0,
          0,
          null,
          0,
          0,
          null,
          0,
          0,
          null,
          0,
          0,
          null,
          0,
          0,
          null,
          0,
          1,
          null,
          1,
          1,
          null,
          0,
          0,
          null,
          1,
          0,
          null,
          0,
          0,
          null,
          0,
          0,
          null,
          0,
          0,
          null,
          0,
          0,
          null,
          0,
          0,
          null,
          0,
          0,
          null,
          0,
          0,
          null,
          0,
          -0.4,
          -0.4,
          0,
          null,
          0,
          0,
          null,
          0,
          0,
          null,
          0,
          0,
          null,
          0,
          0,
          null,
          0,
          0,
          null,
          0,
          0,
          null,
          0,
          1,
          null,
          1,
          1,
          null,
          0,
          0,
          null,
          1,
          0,
          null,
          0,
          0,
          null,
          0,
          0,
          null,
          0,
          0,
          null,
          0,
          0,
          null,
          0,
          0,
          null,
          0,
          0,
          null,
          0,
          0,
          null,
          0,
          -0.4,
          -0.4,
          0,
          null,
          0,
          0,
          null,
          0,
          0,
          null,
          0,
          0,
          null,
          0,
          0,
          null,
          0,
          0,
          null,
          0,
          0,
          null,
          0,
          1,
          null,
          1,
          1,
          null,
          0,
          0,
          null,
          1,
          0,
          null,
          0,
          0,
          null,
          0,
          0,
          null,
          0,
          0,
          null,
          0,
          0,
          null,
          0,
          0,
          null,
          0,
          0,
          null,
          0,
          0,
          null,
          0,
          -0.4,
          -0.4,
          0,
          null,
          0,
          0,
          null,
          0,
          0,
          null,
          0,
          0,
          null,
          0,
          0,
          null,
          0,
          0
         ],
         "xaxis": "x",
         "y": [
          0,
          1,
          null,
          1,
          2,
          null,
          2,
          3,
          null,
          3,
          4,
          null,
          4,
          5,
          null,
          5,
          6,
          null,
          6,
          7,
          null,
          7,
          8,
          null,
          8,
          9,
          null,
          9,
          10,
          null,
          4,
          4.5,
          9.5,
          10,
          null,
          10,
          11,
          null,
          11,
          12,
          null,
          12,
          13,
          null,
          13,
          14,
          null,
          14,
          15,
          null,
          15,
          16,
          null,
          16,
          17,
          null,
          11,
          11.5,
          16.5,
          17,
          null,
          17,
          18,
          null,
          18,
          19,
          null,
          19,
          20,
          null,
          20,
          21,
          null,
          21,
          22,
          null,
          22,
          23,
          null,
          18,
          22,
          null,
          22,
          23,
          null,
          23,
          24,
          null,
          23,
          24,
          null,
          24,
          25,
          null,
          25,
          26,
          null,
          26,
          27,
          null,
          27,
          28,
          null,
          28,
          29,
          null,
          29,
          30,
          null,
          30,
          31,
          null,
          25,
          25.5,
          30.5,
          31,
          null,
          31,
          32,
          null,
          32,
          33,
          null,
          33,
          34,
          null,
          34,
          35,
          null,
          35,
          36,
          null,
          36,
          37,
          null,
          32,
          36,
          null,
          36,
          37,
          null,
          37,
          38,
          null,
          37,
          38,
          null,
          38,
          39,
          null,
          39,
          40,
          null,
          40,
          41,
          null,
          41,
          42,
          null,
          42,
          43,
          null,
          43,
          44,
          null,
          44,
          45,
          null,
          39,
          39.5,
          44.5,
          45,
          null,
          45,
          46,
          null,
          46,
          47,
          null,
          47,
          48,
          null,
          48,
          49,
          null,
          49,
          50,
          null,
          50,
          51,
          null,
          46,
          50,
          null,
          50,
          51,
          null,
          51,
          52,
          null,
          51,
          52,
          null,
          52,
          53,
          null,
          53,
          54,
          null,
          54,
          55,
          null,
          55,
          56,
          null,
          56,
          57,
          null,
          57,
          58,
          null,
          58,
          59,
          null,
          53,
          53.5,
          58.5,
          59,
          null,
          59,
          60,
          null,
          60,
          61,
          null,
          61,
          62,
          null,
          62,
          63,
          null,
          63,
          64
         ],
         "yaxis": "y"
        },
        {
         "customdata": [
          [
           "x",
           "input",
           "(16,3,160,160)",
           "0",
           "0",
           "()",
           "{}"
          ],
          [
           "conv1",
           "nn.Conv2d",
           "(16,64,80,80)",
           "9 408",
           "1 926 758 400",
           "(x,)",
           "{}"
          ],
          [
           "bn1",
           "nn.BatchNorm2d",
           "(16,64,80,80)",
           "128",
           "0",
           "(conv1,)",
           "{}"
          ],
          [
           "relu",
           "nn.ReLU",
           "(16,64,80,80)",
           "0",
           "0",
           "(bn1,)",
           "{}"
          ],
          [
           "maxpool",
           "nn.MaxPool2d",
           "(16,64,40,40)",
           "0",
           "0",
           "(relu,)",
           "{}"
          ],
          [
           "layer1_0_conv1",
           "nn.Conv2d",
           "(16,64,40,40)",
           "36 864",
           "1 887 436 800",
           "(maxpool,)",
           "{}"
          ],
          [
           "layer1_0_bn1",
           "nn.BatchNorm2d",
           "(16,64,40,40)",
           "128",
           "0",
           "(layer1_0_conv1,)",
           "{}"
          ],
          [
           "layer1_0_relu",
           "nn.ReLU",
           "(16,64,40,40)",
           "0",
           "0",
           "(layer1_0_bn1,)",
           "{}"
          ],
          [
           "layer1_0_conv2",
           "nn.Conv2d",
           "(16,64,40,40)",
           "36 864",
           "1 887 436 800",
           "(layer1_0_relu,)",
           "{}"
          ],
          [
           "layer1_0_bn2",
           "nn.BatchNorm2d",
           "(16,64,40,40)",
           "128",
           "0",
           "(layer1_0_conv2,)",
           "{}"
          ],
          [
           "add",
           "add()",
           "(16,64,40,40)",
           "0",
           "1 638 400",
           "(layer1_0_bn2, maxpool)",
           "{}"
          ],
          [
           "layer1_0_relu_1",
           "nn.ReLU",
           "(16,64,40,40)",
           "0",
           "0",
           "(add,)",
           "{}"
          ],
          [
           "layer1_1_conv1",
           "nn.Conv2d",
           "(16,64,40,40)",
           "36 864",
           "1 887 436 800",
           "(layer1_0_relu_1,)",
           "{}"
          ],
          [
           "layer1_1_bn1",
           "nn.BatchNorm2d",
           "(16,64,40,40)",
           "128",
           "0",
           "(layer1_1_conv1,)",
           "{}"
          ],
          [
           "layer1_1_relu",
           "nn.ReLU",
           "(16,64,40,40)",
           "0",
           "0",
           "(layer1_1_bn1,)",
           "{}"
          ],
          [
           "layer1_1_conv2",
           "nn.Conv2d",
           "(16,64,40,40)",
           "36 864",
           "1 887 436 800",
           "(layer1_1_relu,)",
           "{}"
          ],
          [
           "layer1_1_bn2",
           "nn.BatchNorm2d",
           "(16,64,40,40)",
           "128",
           "0",
           "(layer1_1_conv2,)",
           "{}"
          ],
          [
           "add_1",
           "add()",
           "(16,64,40,40)",
           "0",
           "1 638 400",
           "(layer1_1_bn2, layer1_0_relu_1)",
           "{}"
          ],
          [
           "layer1_1_relu_1",
           "nn.ReLU",
           "(16,64,40,40)",
           "0",
           "0",
           "(add_1,)",
           "{}"
          ],
          [
           "layer2_0_conv1",
           "nn.Conv2d",
           "(16,128,20,20)",
           "73 728",
           "943 718 400",
           "(layer1_1_relu_1,)",
           "{}"
          ],
          [
           "layer2_0_bn1",
           "nn.BatchNorm2d",
           "(16,128,20,20)",
           "256",
           "0",
           "(layer2_0_conv1,)",
           "{}"
          ],
          [
           "layer2_0_relu",
           "nn.ReLU",
           "(16,128,20,20)",
           "0",
           "0",
           "(layer2_0_bn1,)",
           "{}"
          ],
          [
           "layer2_0_conv2",
           "nn.Conv2d",
           "(16,128,20,20)",
           "147 456",
           "1 887 436 800",
           "(layer2_0_relu,)",
           "{}"
          ],
          [
           "layer2_0_bn2",
           "nn.BatchNorm2d",
           "(16,128,20,20)",
           "256",
           "0",
           "(layer2_0_conv2,)",
           "{}"
          ],
          [
           "layer2_0_downsample_0",
           "nn.Conv2d",
           "(16,128,20,20)",
           "8 192",
           "104 857 600",
           "(layer1_1_relu_1,)",
           "{}"
          ],
          [
           "layer2_0_downsample_1",
           "nn.BatchNorm2d",
           "(16,128,20,20)",
           "256",
           "0",
           "(layer2_0_downsample_0,)",
           "{}"
          ],
          [
           "add_2",
           "add()",
           "(16,128,20,20)",
           "0",
           "819 200",
           "(layer2_0_bn2, layer2_0_downsample_1)",
           "{}"
          ],
          [
           "layer2_0_relu_1",
           "nn.ReLU",
           "(16,128,20,20)",
           "0",
           "0",
           "(add_2,)",
           "{}"
          ],
          [
           "layer2_1_conv1",
           "nn.Conv2d",
           "(16,128,20,20)",
           "147 456",
           "1 887 436 800",
           "(layer2_0_relu_1,)",
           "{}"
          ],
          [
           "layer2_1_bn1",
           "nn.BatchNorm2d",
           "(16,128,20,20)",
           "256",
           "0",
           "(layer2_1_conv1,)",
           "{}"
          ],
          [
           "layer2_1_relu",
           "nn.ReLU",
           "(16,128,20,20)",
           "0",
           "0",
           "(layer2_1_bn1,)",
           "{}"
          ],
          [
           "layer2_1_conv2",
           "nn.Conv2d",
           "(16,128,20,20)",
           "147 456",
           "1 887 436 800",
           "(layer2_1_relu,)",
           "{}"
          ],
          [
           "layer2_1_bn2",
           "nn.BatchNorm2d",
           "(16,128,20,20)",
           "256",
           "0",
           "(layer2_1_conv2,)",
           "{}"
          ],
          [
           "add_3",
           "add()",
           "(16,128,20,20)",
           "0",
           "819 200",
           "(layer2_1_bn2, layer2_0_relu_1)",
           "{}"
          ],
          [
           "layer2_1_relu_1",
           "nn.ReLU",
           "(16,128,20,20)",
           "0",
           "0",
           "(add_3,)",
           "{}"
          ],
          [
           "layer3_0_conv1",
           "nn.Conv2d",
           "(16,256,10,10)",
           "294 912",
           "943 718 400",
           "(layer2_1_relu_1,)",
           "{}"
          ],
          [
           "layer3_0_bn1",
           "nn.BatchNorm2d",
           "(16,256,10,10)",
           "512",
           "0",
           "(layer3_0_conv1,)",
           "{}"
          ],
          [
           "layer3_0_relu",
           "nn.ReLU",
           "(16,256,10,10)",
           "0",
           "0",
           "(layer3_0_bn1,)",
           "{}"
          ],
          [
           "layer3_0_conv2",
           "nn.Conv2d",
           "(16,256,10,10)",
           "589 824",
           "1 887 436 800",
           "(layer3_0_relu,)",
           "{}"
          ],
          [
           "layer3_0_bn2",
           "nn.BatchNorm2d",
           "(16,256,10,10)",
           "512",
           "0",
           "(layer3_0_conv2,)",
           "{}"
          ],
          [
           "layer3_0_downsample_0",
           "nn.Conv2d",
           "(16,256,10,10)",
           "32 768",
           "104 857 600",
           "(layer2_1_relu_1,)",
           "{}"
          ],
          [
           "layer3_0_downsample_1",
           "nn.BatchNorm2d",
           "(16,256,10,10)",
           "512",
           "0",
           "(layer3_0_downsample_0,)",
           "{}"
          ],
          [
           "add_4",
           "add()",
           "(16,256,10,10)",
           "0",
           "409 600",
           "(layer3_0_bn2, layer3_0_downsample_1)",
           "{}"
          ],
          [
           "layer3_0_relu_1",
           "nn.ReLU",
           "(16,256,10,10)",
           "0",
           "0",
           "(add_4,)",
           "{}"
          ],
          [
           "layer3_1_conv1",
           "nn.Conv2d",
           "(16,256,10,10)",
           "589 824",
           "1 887 436 800",
           "(layer3_0_relu_1,)",
           "{}"
          ],
          [
           "layer3_1_bn1",
           "nn.BatchNorm2d",
           "(16,256,10,10)",
           "512",
           "0",
           "(layer3_1_conv1,)",
           "{}"
          ],
          [
           "layer3_1_relu",
           "nn.ReLU",
           "(16,256,10,10)",
           "0",
           "0",
           "(layer3_1_bn1,)",
           "{}"
          ],
          [
           "layer3_1_conv2",
           "nn.Conv2d",
           "(16,256,10,10)",
           "589 824",
           "1 887 436 800",
           "(layer3_1_relu,)",
           "{}"
          ],
          [
           "layer3_1_bn2",
           "nn.BatchNorm2d",
           "(16,256,10,10)",
           "512",
           "0",
           "(layer3_1_conv2,)",
           "{}"
          ],
          [
           "add_5",
           "add()",
           "(16,256,10,10)",
           "0",
           "409 600",
           "(layer3_1_bn2, layer3_0_relu_1)",
           "{}"
          ],
          [
           "layer3_1_relu_1",
           "nn.ReLU",
           "(16,256,10,10)",
           "0",
           "0",
           "(add_5,)",
           "{}"
          ],
          [
           "layer4_0_conv1",
           "nn.Conv2d",
           "(16,512,5,5)",
           "1 179 648",
           "943 718 400",
           "(layer3_1_relu_1,)",
           "{}"
          ],
          [
           "layer4_0_bn1",
           "nn.BatchNorm2d",
           "(16,512,5,5)",
           "1 024",
           "0",
           "(layer4_0_conv1,)",
           "{}"
          ],
          [
           "layer4_0_relu",
           "nn.ReLU",
           "(16,512,5,5)",
           "0",
           "0",
           "(layer4_0_bn1,)",
           "{}"
          ],
          [
           "layer4_0_conv2",
           "nn.Conv2d",
           "(16,512,5,5)",
           "2 359 296",
           "1 887 436 800",
           "(layer4_0_relu,)",
           "{}"
          ],
          [
           "layer4_0_bn2",
           "nn.BatchNorm2d",
           "(16,512,5,5)",
           "1 024",
           "0",
           "(layer4_0_conv2,)",
           "{}"
          ],
          [
           "layer4_0_downsample_0",
           "nn.Conv2d",
           "(16,512,5,5)",
           "131 072",
           "104 857 600",
           "(layer3_1_relu_1,)",
           "{}"
          ],
          [
           "layer4_0_downsample_1",
           "nn.BatchNorm2d",
           "(16,512,5,5)",
           "1 024",
           "0",
           "(layer4_0_downsample_0,)",
           "{}"
          ],
          [
           "add_6",
           "add()",
           "(16,512,5,5)",
           "0",
           "204 800",
           "(layer4_0_bn2, layer4_0_downsample_1)",
           "{}"
          ],
          [
           "layer4_0_relu_1",
           "nn.ReLU",
           "(16,512,5,5)",
           "0",
           "0",
           "(add_6,)",
           "{}"
          ],
          [
           "layer4_1_conv1",
           "nn.Conv2d",
           "(16,512,5,5)",
           "2 359 296",
           "1 887 436 800",
           "(layer4_0_relu_1,)",
           "{}"
          ],
          [
           "layer4_1_bn1",
           "nn.BatchNorm2d",
           "(16,512,5,5)",
           "1 024",
           "0",
           "(layer4_1_conv1,)",
           "{}"
          ],
          [
           "layer4_1_relu",
           "nn.ReLU",
           "(16,512,5,5)",
           "0",
           "0",
           "(layer4_1_bn1,)",
           "{}"
          ],
          [
           "layer4_1_conv2",
           "nn.Conv2d",
           "(16,512,5,5)",
           "2 359 296",
           "1 887 436 800",
           "(layer4_1_relu,)",
           "{}"
          ],
          [
           "layer4_1_bn2",
           "nn.BatchNorm2d",
           "(16,512,5,5)",
           "1 024",
           "0",
           "(layer4_1_conv2,)",
           "{}"
          ],
          [
           "add_7",
           "add()",
           "(16,512,5,5)",
           "0",
           "204 800",
           "(layer4_1_bn2, layer4_0_relu_1)",
           "{}"
          ],
          [
           "layer4_1_relu_1",
           "nn.ReLU",
           "(16,512,5,5)",
           "0",
           "0",
           "(add_7,)",
           "{}"
          ],
          [
           "avgpool",
           "nn.AdaptiveAvgPool2d",
           "(16,512,1,1)",
           "0",
           "0",
           "(layer4_1_relu_1,)",
           "{}"
          ],
          [
           "flatten",
           "flatten()",
           "(16,512)",
           "0",
           "0",
           "(avgpool, 1)",
           "{}"
          ],
          [
           "fc",
           "nn.Linear",
           "(16,1000)",
           "513 000",
           "16 384 000",
           "(flatten,)",
           "{}"
          ],
          [
           "output",
           "output",
           "(16,1000)",
           "0",
           "0",
           "(fc,)",
           "{}"
          ]
         ],
         "hovertemplate": "Name: %{customdata[0]}<br>Operation: %{customdata[1]}<br>Activations: %{customdata[2]}<br>Parameters: %{customdata[3]}<br>FLOPS: %{customdata[4]}<br><br>args: %{customdata[5]}<br>kwargs: %{customdata[6]}<br><extra></extra>",
         "marker": {
          "color": [
           "#000000",
           "#2F8AC4",
           "#52BCA3",
           "#99C945",
           "#24796C",
           "#2F8AC4",
           "#52BCA3",
           "#99C945",
           "#2F8AC4",
           "#52BCA3",
           "#E58606",
           "#99C945",
           "#2F8AC4",
           "#52BCA3",
           "#99C945",
           "#2F8AC4",
           "#52BCA3",
           "#E58606",
           "#99C945",
           "#2F8AC4",
           "#52BCA3",
           "#99C945",
           "#2F8AC4",
           "#52BCA3",
           "#2F8AC4",
           "#52BCA3",
           "#E58606",
           "#99C945",
           "#2F8AC4",
           "#52BCA3",
           "#99C945",
           "#2F8AC4",
           "#52BCA3",
           "#E58606",
           "#99C945",
           "#2F8AC4",
           "#52BCA3",
           "#99C945",
           "#2F8AC4",
           "#52BCA3",
           "#2F8AC4",
           "#52BCA3",
           "#E58606",
           "#99C945",
           "#2F8AC4",
           "#52BCA3",
           "#99C945",
           "#2F8AC4",
           "#52BCA3",
           "#E58606",
           "#99C945",
           "#2F8AC4",
           "#52BCA3",
           "#99C945",
           "#2F8AC4",
           "#52BCA3",
           "#2F8AC4",
           "#52BCA3",
           "#E58606",
           "#99C945",
           "#2F8AC4",
           "#52BCA3",
           "#99C945",
           "#2F8AC4",
           "#52BCA3",
           "#E58606",
           "#99C945",
           "#CC61B0",
           "#DAA51B",
           "#5D69B1",
           "#000000"
          ],
          "colorscale": [
           [
            0,
            "rgb(0,0,255)"
           ],
           [
            1,
            "rgb(255,0,0)"
           ]
          ],
          "size": [
           6,
           11.250279597842884,
           6,
           6,
           6,
           12.91881573172255,
           6,
           6,
           12.91881573172255,
           6,
           6,
           6,
           12.91881573172255,
           6,
           6,
           12.91881573172255,
           6,
           6,
           6,
           13.765679776435459,
           6.846864044712908,
           6,
           14.612543821148368,
           6.846864044712908,
           11.08118426827745,
           6.846864044712908,
           6,
           6,
           14.612543821148368,
           6.846864044712908,
           6,
           14.612543821148368,
           6.846864044712908,
           6,
           6,
           15.459407865861275,
           7.693728089425816,
           6,
           16.306271910574182,
           7.693728089425816,
           12.774912357703267,
           7.693728089425816,
           6,
           6,
           16.306271910574182,
           7.693728089425816,
           6,
           16.306271910574182,
           7.693728089425816,
           6,
           6,
           17.15313595528709,
           8.540592134138725,
           6,
           18,
           8.540592134138725,
           14.468640447129083,
           8.540592134138725,
           6,
           6,
           18,
           8.540592134138725,
           6,
           18,
           8.540592134138725,
           6,
           6,
           6,
           6,
           16.13577641297401,
           6
          ]
         },
         "mode": "markers",
         "showlegend": false,
         "type": "scatter",
         "x": [
          0,
          0,
          0,
          0,
          0,
          0,
          0,
          0,
          0,
          0,
          0,
          0,
          0,
          0,
          0,
          0,
          0,
          0,
          0,
          0,
          0,
          0,
          0,
          0,
          1,
          1,
          0,
          0,
          0,
          0,
          0,
          0,
          0,
          0,
          0,
          0,
          0,
          0,
          0,
          0,
          1,
          1,
          0,
          0,
          0,
          0,
          0,
          0,
          0,
          0,
          0,
          0,
          0,
          0,
          0,
          0,
          1,
          1,
          0,
          0,
          0,
          0,
          0,
          0,
          0,
          0,
          0,
          0,
          0,
          0,
          0
         ],
         "xaxis": "x",
         "y": [
          0,
          1,
          2,
          3,
          4,
          5,
          6,
          7,
          8,
          9,
          10,
          11,
          12,
          13,
          14,
          15,
          16,
          17,
          18,
          19,
          20,
          21,
          22,
          23,
          22,
          23,
          24,
          25,
          26,
          27,
          28,
          29,
          30,
          31,
          32,
          33,
          34,
          35,
          36,
          37,
          36,
          37,
          38,
          39,
          40,
          41,
          42,
          43,
          44,
          45,
          46,
          47,
          48,
          49,
          50,
          51,
          50,
          51,
          52,
          53,
          54,
          55,
          56,
          57,
          58,
          59,
          60,
          61,
          62,
          63,
          64
         ],
         "yaxis": "y"
        },
        {
         "cells": {
          "align": "left",
          "values": [
           [
            "x",
            "conv1",
            "bn1",
            "relu",
            "maxpool",
            "layer1_0_conv1",
            "layer1_0_bn1",
            "layer1_0_relu",
            "layer1_0_conv2",
            "layer1_0_bn2",
            "add",
            "layer1_0_relu_1",
            "layer1_1_conv1",
            "layer1_1_bn1",
            "layer1_1_relu",
            "layer1_1_conv2",
            "layer1_1_bn2",
            "add_1",
            "layer1_1_relu_1",
            "layer2_0_conv1",
            "layer2_0_bn1",
            "layer2_0_relu",
            "layer2_0_conv2",
            "layer2_0_bn2",
            "layer2_0_downsample_0",
            "layer2_0_downsample_1",
            "add_2",
            "layer2_0_relu_1",
            "layer2_1_conv1",
            "layer2_1_bn1",
            "layer2_1_relu",
            "layer2_1_conv2",
            "layer2_1_bn2",
            "add_3",
            "layer2_1_relu_1",
            "layer3_0_conv1",
            "layer3_0_bn1",
            "layer3_0_relu",
            "layer3_0_conv2",
            "layer3_0_bn2",
            "layer3_0_downsample_0",
            "layer3_0_downsample_1",
            "add_4",
            "layer3_0_relu_1",
            "layer3_1_conv1",
            "layer3_1_bn1",
            "layer3_1_relu",
            "layer3_1_conv2",
            "layer3_1_bn2",
            "add_5",
            "layer3_1_relu_1",
            "layer4_0_conv1",
            "layer4_0_bn1",
            "layer4_0_relu",
            "layer4_0_conv2",
            "layer4_0_bn2",
            "layer4_0_downsample_0",
            "layer4_0_downsample_1",
            "add_6",
            "layer4_0_relu_1",
            "layer4_1_conv1",
            "layer4_1_bn1",
            "layer4_1_relu",
            "layer4_1_conv2",
            "layer4_1_bn2",
            "add_7",
            "layer4_1_relu_1",
            "avgpool",
            "flatten",
            "fc",
            "output"
           ],
           [
            "input",
            "nn.Conv2d",
            "nn.BatchNorm2d",
            "nn.ReLU",
            "nn.MaxPool2d",
            "nn.Conv2d",
            "nn.BatchNorm2d",
            "nn.ReLU",
            "nn.Conv2d",
            "nn.BatchNorm2d",
            "add()",
            "nn.ReLU",
            "nn.Conv2d",
            "nn.BatchNorm2d",
            "nn.ReLU",
            "nn.Conv2d",
            "nn.BatchNorm2d",
            "add()",
            "nn.ReLU",
            "nn.Conv2d",
            "nn.BatchNorm2d",
            "nn.ReLU",
            "nn.Conv2d",
            "nn.BatchNorm2d",
            "nn.Conv2d",
            "nn.BatchNorm2d",
            "add()",
            "nn.ReLU",
            "nn.Conv2d",
            "nn.BatchNorm2d",
            "nn.ReLU",
            "nn.Conv2d",
            "nn.BatchNorm2d",
            "add()",
            "nn.ReLU",
            "nn.Conv2d",
            "nn.BatchNorm2d",
            "nn.ReLU",
            "nn.Conv2d",
            "nn.BatchNorm2d",
            "nn.Conv2d",
            "nn.BatchNorm2d",
            "add()",
            "nn.ReLU",
            "nn.Conv2d",
            "nn.BatchNorm2d",
            "nn.ReLU",
            "nn.Conv2d",
            "nn.BatchNorm2d",
            "add()",
            "nn.ReLU",
            "nn.Conv2d",
            "nn.BatchNorm2d",
            "nn.ReLU",
            "nn.Conv2d",
            "nn.BatchNorm2d",
            "nn.Conv2d",
            "nn.BatchNorm2d",
            "add()",
            "nn.ReLU",
            "nn.Conv2d",
            "nn.BatchNorm2d",
            "nn.ReLU",
            "nn.Conv2d",
            "nn.BatchNorm2d",
            "add()",
            "nn.ReLU",
            "nn.AdaptiveAvgPool2d",
            "flatten()",
            "nn.Linear",
            "output"
           ],
           [
            "(16,3,160,160)",
            "(16,64,80,80)",
            "(16,64,80,80)",
            "(16,64,80,80)",
            "(16,64,40,40)",
            "(16,64,40,40)",
            "(16,64,40,40)",
            "(16,64,40,40)",
            "(16,64,40,40)",
            "(16,64,40,40)",
            "(16,64,40,40)",
            "(16,64,40,40)",
            "(16,64,40,40)",
            "(16,64,40,40)",
            "(16,64,40,40)",
            "(16,64,40,40)",
            "(16,64,40,40)",
            "(16,64,40,40)",
            "(16,64,40,40)",
            "(16,128,20,20)",
            "(16,128,20,20)",
            "(16,128,20,20)",
            "(16,128,20,20)",
            "(16,128,20,20)",
            "(16,128,20,20)",
            "(16,128,20,20)",
            "(16,128,20,20)",
            "(16,128,20,20)",
            "(16,128,20,20)",
            "(16,128,20,20)",
            "(16,128,20,20)",
            "(16,128,20,20)",
            "(16,128,20,20)",
            "(16,128,20,20)",
            "(16,128,20,20)",
            "(16,256,10,10)",
            "(16,256,10,10)",
            "(16,256,10,10)",
            "(16,256,10,10)",
            "(16,256,10,10)",
            "(16,256,10,10)",
            "(16,256,10,10)",
            "(16,256,10,10)",
            "(16,256,10,10)",
            "(16,256,10,10)",
            "(16,256,10,10)",
            "(16,256,10,10)",
            "(16,256,10,10)",
            "(16,256,10,10)",
            "(16,256,10,10)",
            "(16,256,10,10)",
            "(16,512,5,5)",
            "(16,512,5,5)",
            "(16,512,5,5)",
            "(16,512,5,5)",
            "(16,512,5,5)",
            "(16,512,5,5)",
            "(16,512,5,5)",
            "(16,512,5,5)",
            "(16,512,5,5)",
            "(16,512,5,5)",
            "(16,512,5,5)",
            "(16,512,5,5)",
            "(16,512,5,5)",
            "(16,512,5,5)",
            "(16,512,5,5)",
            "(16,512,5,5)",
            "(16,512,1,1)",
            "(16,512)",
            "(16,1000)",
            "(16,1000)"
           ],
           [
            "0",
            "9 408",
            "128",
            "0",
            "0",
            "36 864",
            "128",
            "0",
            "36 864",
            "128",
            "0",
            "0",
            "36 864",
            "128",
            "0",
            "36 864",
            "128",
            "0",
            "0",
            "73 728",
            "256",
            "0",
            "147 456",
            "256",
            "8 192",
            "256",
            "0",
            "0",
            "147 456",
            "256",
            "0",
            "147 456",
            "256",
            "0",
            "0",
            "294 912",
            "512",
            "0",
            "589 824",
            "512",
            "32 768",
            "512",
            "0",
            "0",
            "589 824",
            "512",
            "0",
            "589 824",
            "512",
            "0",
            "0",
            "1 179 648",
            "1 024",
            "0",
            "2 359 296",
            "1 024",
            "131 072",
            "1 024",
            "0",
            "0",
            "2 359 296",
            "1 024",
            "0",
            "2 359 296",
            "1 024",
            "0",
            "0",
            "0",
            "0",
            "513 000",
            "0"
           ],
           [
            "0",
            "1 926 758 400",
            "0",
            "0",
            "0",
            "1 887 436 800",
            "0",
            "0",
            "1 887 436 800",
            "0",
            "1 638 400",
            "0",
            "1 887 436 800",
            "0",
            "0",
            "1 887 436 800",
            "0",
            "1 638 400",
            "0",
            "943 718 400",
            "0",
            "0",
            "1 887 436 800",
            "0",
            "104 857 600",
            "0",
            "819 200",
            "0",
            "1 887 436 800",
            "0",
            "0",
            "1 887 436 800",
            "0",
            "819 200",
            "0",
            "943 718 400",
            "0",
            "0",
            "1 887 436 800",
            "0",
            "104 857 600",
            "0",
            "409 600",
            "0",
            "1 887 436 800",
            "0",
            "0",
            "1 887 436 800",
            "0",
            "409 600",
            "0",
            "943 718 400",
            "0",
            "0",
            "1 887 436 800",
            "0",
            "104 857 600",
            "0",
            "204 800",
            "0",
            "1 887 436 800",
            "0",
            "0",
            "1 887 436 800",
            "0",
            "204 800",
            "0",
            "0",
            "0",
            "16 384 000",
            "0"
           ]
          ]
         },
         "domain": {
          "x": [
           0.19,
           1
          ],
          "y": [
           0,
           1
          ]
         },
         "header": {
          "align": "left",
          "font": {
           "size": 10
          },
          "values": [
           "Name",
           "Operation",
           "Activations",
           "Params [11 689 512]",
           "FLOPS [29 631 692 800]"
          ]
         },
         "type": "table"
        }
       ],
       "layout": {
        "margin": {
         "b": 0,
         "l": 0,
         "r": 0,
         "t": 0
        },
        "modebar": {
         "orientation": "v",
         "remove": [
          "select",
          "lasso"
         ]
        },
        "template": {
         "data": {
          "bar": [
           {
            "error_x": {
             "color": "#2a3f5f"
            },
            "error_y": {
             "color": "#2a3f5f"
            },
            "marker": {
             "line": {
              "color": "#E5ECF6",
              "width": 0.5
             },
             "pattern": {
              "fillmode": "overlay",
              "size": 10,
              "solidity": 0.2
             }
            },
            "type": "bar"
           }
          ],
          "barpolar": [
           {
            "marker": {
             "line": {
              "color": "#E5ECF6",
              "width": 0.5
             },
             "pattern": {
              "fillmode": "overlay",
              "size": 10,
              "solidity": 0.2
             }
            },
            "type": "barpolar"
           }
          ],
          "carpet": [
           {
            "aaxis": {
             "endlinecolor": "#2a3f5f",
             "gridcolor": "white",
             "linecolor": "white",
             "minorgridcolor": "white",
             "startlinecolor": "#2a3f5f"
            },
            "baxis": {
             "endlinecolor": "#2a3f5f",
             "gridcolor": "white",
             "linecolor": "white",
             "minorgridcolor": "white",
             "startlinecolor": "#2a3f5f"
            },
            "type": "carpet"
           }
          ],
          "choropleth": [
           {
            "colorbar": {
             "outlinewidth": 0,
             "ticks": ""
            },
            "type": "choropleth"
           }
          ],
          "contour": [
           {
            "colorbar": {
             "outlinewidth": 0,
             "ticks": ""
            },
            "colorscale": [
             [
              0,
              "#0d0887"
             ],
             [
              0.1111111111111111,
              "#46039f"
             ],
             [
              0.2222222222222222,
              "#7201a8"
             ],
             [
              0.3333333333333333,
              "#9c179e"
             ],
             [
              0.4444444444444444,
              "#bd3786"
             ],
             [
              0.5555555555555556,
              "#d8576b"
             ],
             [
              0.6666666666666666,
              "#ed7953"
             ],
             [
              0.7777777777777778,
              "#fb9f3a"
             ],
             [
              0.8888888888888888,
              "#fdca26"
             ],
             [
              1,
              "#f0f921"
             ]
            ],
            "type": "contour"
           }
          ],
          "contourcarpet": [
           {
            "colorbar": {
             "outlinewidth": 0,
             "ticks": ""
            },
            "type": "contourcarpet"
           }
          ],
          "heatmap": [
           {
            "colorbar": {
             "outlinewidth": 0,
             "ticks": ""
            },
            "colorscale": [
             [
              0,
              "#0d0887"
             ],
             [
              0.1111111111111111,
              "#46039f"
             ],
             [
              0.2222222222222222,
              "#7201a8"
             ],
             [
              0.3333333333333333,
              "#9c179e"
             ],
             [
              0.4444444444444444,
              "#bd3786"
             ],
             [
              0.5555555555555556,
              "#d8576b"
             ],
             [
              0.6666666666666666,
              "#ed7953"
             ],
             [
              0.7777777777777778,
              "#fb9f3a"
             ],
             [
              0.8888888888888888,
              "#fdca26"
             ],
             [
              1,
              "#f0f921"
             ]
            ],
            "type": "heatmap"
           }
          ],
          "heatmapgl": [
           {
            "colorbar": {
             "outlinewidth": 0,
             "ticks": ""
            },
            "colorscale": [
             [
              0,
              "#0d0887"
             ],
             [
              0.1111111111111111,
              "#46039f"
             ],
             [
              0.2222222222222222,
              "#7201a8"
             ],
             [
              0.3333333333333333,
              "#9c179e"
             ],
             [
              0.4444444444444444,
              "#bd3786"
             ],
             [
              0.5555555555555556,
              "#d8576b"
             ],
             [
              0.6666666666666666,
              "#ed7953"
             ],
             [
              0.7777777777777778,
              "#fb9f3a"
             ],
             [
              0.8888888888888888,
              "#fdca26"
             ],
             [
              1,
              "#f0f921"
             ]
            ],
            "type": "heatmapgl"
           }
          ],
          "histogram": [
           {
            "marker": {
             "pattern": {
              "fillmode": "overlay",
              "size": 10,
              "solidity": 0.2
             }
            },
            "type": "histogram"
           }
          ],
          "histogram2d": [
           {
            "colorbar": {
             "outlinewidth": 0,
             "ticks": ""
            },
            "colorscale": [
             [
              0,
              "#0d0887"
             ],
             [
              0.1111111111111111,
              "#46039f"
             ],
             [
              0.2222222222222222,
              "#7201a8"
             ],
             [
              0.3333333333333333,
              "#9c179e"
             ],
             [
              0.4444444444444444,
              "#bd3786"
             ],
             [
              0.5555555555555556,
              "#d8576b"
             ],
             [
              0.6666666666666666,
              "#ed7953"
             ],
             [
              0.7777777777777778,
              "#fb9f3a"
             ],
             [
              0.8888888888888888,
              "#fdca26"
             ],
             [
              1,
              "#f0f921"
             ]
            ],
            "type": "histogram2d"
           }
          ],
          "histogram2dcontour": [
           {
            "colorbar": {
             "outlinewidth": 0,
             "ticks": ""
            },
            "colorscale": [
             [
              0,
              "#0d0887"
             ],
             [
              0.1111111111111111,
              "#46039f"
             ],
             [
              0.2222222222222222,
              "#7201a8"
             ],
             [
              0.3333333333333333,
              "#9c179e"
             ],
             [
              0.4444444444444444,
              "#bd3786"
             ],
             [
              0.5555555555555556,
              "#d8576b"
             ],
             [
              0.6666666666666666,
              "#ed7953"
             ],
             [
              0.7777777777777778,
              "#fb9f3a"
             ],
             [
              0.8888888888888888,
              "#fdca26"
             ],
             [
              1,
              "#f0f921"
             ]
            ],
            "type": "histogram2dcontour"
           }
          ],
          "mesh3d": [
           {
            "colorbar": {
             "outlinewidth": 0,
             "ticks": ""
            },
            "type": "mesh3d"
           }
          ],
          "parcoords": [
           {
            "line": {
             "colorbar": {
              "outlinewidth": 0,
              "ticks": ""
             }
            },
            "type": "parcoords"
           }
          ],
          "pie": [
           {
            "automargin": true,
            "type": "pie"
           }
          ],
          "scatter": [
           {
            "fillpattern": {
             "fillmode": "overlay",
             "size": 10,
             "solidity": 0.2
            },
            "type": "scatter"
           }
          ],
          "scatter3d": [
           {
            "line": {
             "colorbar": {
              "outlinewidth": 0,
              "ticks": ""
             }
            },
            "marker": {
             "colorbar": {
              "outlinewidth": 0,
              "ticks": ""
             }
            },
            "type": "scatter3d"
           }
          ],
          "scattercarpet": [
           {
            "marker": {
             "colorbar": {
              "outlinewidth": 0,
              "ticks": ""
             }
            },
            "type": "scattercarpet"
           }
          ],
          "scattergeo": [
           {
            "marker": {
             "colorbar": {
              "outlinewidth": 0,
              "ticks": ""
             }
            },
            "type": "scattergeo"
           }
          ],
          "scattergl": [
           {
            "marker": {
             "colorbar": {
              "outlinewidth": 0,
              "ticks": ""
             }
            },
            "type": "scattergl"
           }
          ],
          "scattermapbox": [
           {
            "marker": {
             "colorbar": {
              "outlinewidth": 0,
              "ticks": ""
             }
            },
            "type": "scattermapbox"
           }
          ],
          "scatterpolar": [
           {
            "marker": {
             "colorbar": {
              "outlinewidth": 0,
              "ticks": ""
             }
            },
            "type": "scatterpolar"
           }
          ],
          "scatterpolargl": [
           {
            "marker": {
             "colorbar": {
              "outlinewidth": 0,
              "ticks": ""
             }
            },
            "type": "scatterpolargl"
           }
          ],
          "scatterternary": [
           {
            "marker": {
             "colorbar": {
              "outlinewidth": 0,
              "ticks": ""
             }
            },
            "type": "scatterternary"
           }
          ],
          "surface": [
           {
            "colorbar": {
             "outlinewidth": 0,
             "ticks": ""
            },
            "colorscale": [
             [
              0,
              "#0d0887"
             ],
             [
              0.1111111111111111,
              "#46039f"
             ],
             [
              0.2222222222222222,
              "#7201a8"
             ],
             [
              0.3333333333333333,
              "#9c179e"
             ],
             [
              0.4444444444444444,
              "#bd3786"
             ],
             [
              0.5555555555555556,
              "#d8576b"
             ],
             [
              0.6666666666666666,
              "#ed7953"
             ],
             [
              0.7777777777777778,
              "#fb9f3a"
             ],
             [
              0.8888888888888888,
              "#fdca26"
             ],
             [
              1,
              "#f0f921"
             ]
            ],
            "type": "surface"
           }
          ],
          "table": [
           {
            "cells": {
             "fill": {
              "color": "#EBF0F8"
             },
             "line": {
              "color": "white"
             }
            },
            "header": {
             "fill": {
              "color": "#C8D4E3"
             },
             "line": {
              "color": "white"
             }
            },
            "type": "table"
           }
          ]
         },
         "layout": {
          "annotationdefaults": {
           "arrowcolor": "#2a3f5f",
           "arrowhead": 0,
           "arrowwidth": 1
          },
          "autotypenumbers": "strict",
          "coloraxis": {
           "colorbar": {
            "outlinewidth": 0,
            "ticks": ""
           }
          },
          "colorscale": {
           "diverging": [
            [
             0,
             "#8e0152"
            ],
            [
             0.1,
             "#c51b7d"
            ],
            [
             0.2,
             "#de77ae"
            ],
            [
             0.3,
             "#f1b6da"
            ],
            [
             0.4,
             "#fde0ef"
            ],
            [
             0.5,
             "#f7f7f7"
            ],
            [
             0.6,
             "#e6f5d0"
            ],
            [
             0.7,
             "#b8e186"
            ],
            [
             0.8,
             "#7fbc41"
            ],
            [
             0.9,
             "#4d9221"
            ],
            [
             1,
             "#276419"
            ]
           ],
           "sequential": [
            [
             0,
             "#0d0887"
            ],
            [
             0.1111111111111111,
             "#46039f"
            ],
            [
             0.2222222222222222,
             "#7201a8"
            ],
            [
             0.3333333333333333,
             "#9c179e"
            ],
            [
             0.4444444444444444,
             "#bd3786"
            ],
            [
             0.5555555555555556,
             "#d8576b"
            ],
            [
             0.6666666666666666,
             "#ed7953"
            ],
            [
             0.7777777777777778,
             "#fb9f3a"
            ],
            [
             0.8888888888888888,
             "#fdca26"
            ],
            [
             1,
             "#f0f921"
            ]
           ],
           "sequentialminus": [
            [
             0,
             "#0d0887"
            ],
            [
             0.1111111111111111,
             "#46039f"
            ],
            [
             0.2222222222222222,
             "#7201a8"
            ],
            [
             0.3333333333333333,
             "#9c179e"
            ],
            [
             0.4444444444444444,
             "#bd3786"
            ],
            [
             0.5555555555555556,
             "#d8576b"
            ],
            [
             0.6666666666666666,
             "#ed7953"
            ],
            [
             0.7777777777777778,
             "#fb9f3a"
            ],
            [
             0.8888888888888888,
             "#fdca26"
            ],
            [
             1,
             "#f0f921"
            ]
           ]
          },
          "colorway": [
           "#636efa",
           "#EF553B",
           "#00cc96",
           "#ab63fa",
           "#FFA15A",
           "#19d3f3",
           "#FF6692",
           "#B6E880",
           "#FF97FF",
           "#FECB52"
          ],
          "font": {
           "color": "#2a3f5f"
          },
          "geo": {
           "bgcolor": "white",
           "lakecolor": "white",
           "landcolor": "#E5ECF6",
           "showlakes": true,
           "showland": true,
           "subunitcolor": "white"
          },
          "hoverlabel": {
           "align": "left"
          },
          "hovermode": "closest",
          "mapbox": {
           "style": "light"
          },
          "paper_bgcolor": "white",
          "plot_bgcolor": "#E5ECF6",
          "polar": {
           "angularaxis": {
            "gridcolor": "white",
            "linecolor": "white",
            "ticks": ""
           },
           "bgcolor": "#E5ECF6",
           "radialaxis": {
            "gridcolor": "white",
            "linecolor": "white",
            "ticks": ""
           }
          },
          "scene": {
           "xaxis": {
            "backgroundcolor": "#E5ECF6",
            "gridcolor": "white",
            "gridwidth": 2,
            "linecolor": "white",
            "showbackground": true,
            "ticks": "",
            "zerolinecolor": "white"
           },
           "yaxis": {
            "backgroundcolor": "#E5ECF6",
            "gridcolor": "white",
            "gridwidth": 2,
            "linecolor": "white",
            "showbackground": true,
            "ticks": "",
            "zerolinecolor": "white"
           },
           "zaxis": {
            "backgroundcolor": "#E5ECF6",
            "gridcolor": "white",
            "gridwidth": 2,
            "linecolor": "white",
            "showbackground": true,
            "ticks": "",
            "zerolinecolor": "white"
           }
          },
          "shapedefaults": {
           "line": {
            "color": "#2a3f5f"
           }
          },
          "ternary": {
           "aaxis": {
            "gridcolor": "white",
            "linecolor": "white",
            "ticks": ""
           },
           "baxis": {
            "gridcolor": "white",
            "linecolor": "white",
            "ticks": ""
           },
           "bgcolor": "#E5ECF6",
           "caxis": {
            "gridcolor": "white",
            "linecolor": "white",
            "ticks": ""
           }
          },
          "title": {
           "x": 0.05
          },
          "xaxis": {
           "automargin": true,
           "gridcolor": "white",
           "linecolor": "white",
           "ticks": "",
           "title": {
            "standoff": 15
           },
           "zerolinecolor": "white",
           "zerolinewidth": 2
          },
          "yaxis": {
           "automargin": true,
           "gridcolor": "white",
           "linecolor": "white",
           "ticks": "",
           "title": {
            "standoff": 15
           },
           "zerolinecolor": "white",
           "zerolinewidth": 2
          }
         }
        },
        "updatemenus": [
         {
          "active": 0,
          "buttons": [
           {
            "args": [
             {
              "marker": [
               {},
               {
                "color": [
                 "#000000",
                 "#2F8AC4",
                 "#52BCA3",
                 "#99C945",
                 "#24796C",
                 "#2F8AC4",
                 "#52BCA3",
                 "#99C945",
                 "#2F8AC4",
                 "#52BCA3",
                 "#E58606",
                 "#99C945",
                 "#2F8AC4",
                 "#52BCA3",
                 "#99C945",
                 "#2F8AC4",
                 "#52BCA3",
                 "#E58606",
                 "#99C945",
                 "#2F8AC4",
                 "#52BCA3",
                 "#99C945",
                 "#2F8AC4",
                 "#52BCA3",
                 "#2F8AC4",
                 "#52BCA3",
                 "#E58606",
                 "#99C945",
                 "#2F8AC4",
                 "#52BCA3",
                 "#99C945",
                 "#2F8AC4",
                 "#52BCA3",
                 "#E58606",
                 "#99C945",
                 "#2F8AC4",
                 "#52BCA3",
                 "#99C945",
                 "#2F8AC4",
                 "#52BCA3",
                 "#2F8AC4",
                 "#52BCA3",
                 "#E58606",
                 "#99C945",
                 "#2F8AC4",
                 "#52BCA3",
                 "#99C945",
                 "#2F8AC4",
                 "#52BCA3",
                 "#E58606",
                 "#99C945",
                 "#2F8AC4",
                 "#52BCA3",
                 "#99C945",
                 "#2F8AC4",
                 "#52BCA3",
                 "#2F8AC4",
                 "#52BCA3",
                 "#E58606",
                 "#99C945",
                 "#2F8AC4",
                 "#52BCA3",
                 "#99C945",
                 "#2F8AC4",
                 "#52BCA3",
                 "#E58606",
                 "#99C945",
                 "#CC61B0",
                 "#DAA51B",
                 "#5D69B1",
                 "#000000"
                ],
                "colorscale": "Bluered",
                "size": [
                 6,
                 11.250279597842884,
                 6,
                 6,
                 6,
                 12.91881573172255,
                 6,
                 6,
                 12.91881573172255,
                 6,
                 6,
                 6,
                 12.91881573172255,
                 6,
                 6,
                 12.91881573172255,
                 6,
                 6,
                 6,
                 13.765679776435459,
                 6.846864044712908,
                 6,
                 14.612543821148368,
                 6.846864044712908,
                 11.08118426827745,
                 6.846864044712908,
                 6,
                 6,
                 14.612543821148368,
                 6.846864044712908,
                 6,
                 14.612543821148368,
                 6.846864044712908,
                 6,
                 6,
                 15.459407865861275,
                 7.693728089425816,
                 6,
                 16.306271910574182,
                 7.693728089425816,
                 12.774912357703267,
                 7.693728089425816,
                 6,
                 6,
                 16.306271910574182,
                 7.693728089425816,
                 6,
                 16.306271910574182,
                 7.693728089425816,
                 6,
                 6,
                 17.15313595528709,
                 8.540592134138725,
                 6,
                 18,
                 8.540592134138725,
                 14.468640447129083,
                 8.540592134138725,
                 6,
                 6,
                 18,
                 8.540592134138725,
                 6,
                 18,
                 8.540592134138725,
                 6,
                 6,
                 6,
                 6,
                 16.13577641297401,
                 6
                ]
               },
               {}
              ]
             }
            ],
            "label": "Size by params, color by operation",
            "method": "restyle"
           },
           {
            "args": [
             {
              "marker": [
               {},
               {
                "color": [
                 "#000000",
                 "#2F8AC4",
                 "#52BCA3",
                 "#99C945",
                 "#24796C",
                 "#2F8AC4",
                 "#52BCA3",
                 "#99C945",
                 "#2F8AC4",
                 "#52BCA3",
                 "#E58606",
                 "#99C945",
                 "#2F8AC4",
                 "#52BCA3",
                 "#99C945",
                 "#2F8AC4",
                 "#52BCA3",
                 "#E58606",
                 "#99C945",
                 "#2F8AC4",
                 "#52BCA3",
                 "#99C945",
                 "#2F8AC4",
                 "#52BCA3",
                 "#2F8AC4",
                 "#52BCA3",
                 "#E58606",
                 "#99C945",
                 "#2F8AC4",
                 "#52BCA3",
                 "#99C945",
                 "#2F8AC4",
                 "#52BCA3",
                 "#E58606",
                 "#99C945",
                 "#2F8AC4",
                 "#52BCA3",
                 "#99C945",
                 "#2F8AC4",
                 "#52BCA3",
                 "#2F8AC4",
                 "#52BCA3",
                 "#E58606",
                 "#99C945",
                 "#2F8AC4",
                 "#52BCA3",
                 "#99C945",
                 "#2F8AC4",
                 "#52BCA3",
                 "#E58606",
                 "#99C945",
                 "#2F8AC4",
                 "#52BCA3",
                 "#99C945",
                 "#2F8AC4",
                 "#52BCA3",
                 "#2F8AC4",
                 "#52BCA3",
                 "#E58606",
                 "#99C945",
                 "#2F8AC4",
                 "#52BCA3",
                 "#99C945",
                 "#2F8AC4",
                 "#52BCA3",
                 "#E58606",
                 "#99C945",
                 "#CC61B0",
                 "#DAA51B",
                 "#5D69B1",
                 "#000000"
                ],
                "colorscale": "Bluered",
                "size": [
                 6,
                 18,
                 6,
                 6,
                 6,
                 17.972956289262115,
                 6,
                 6,
                 17.972956289262115,
                 6,
                 8.727340426301035,
                 6,
                 17.972956289262115,
                 6,
                 6,
                 17.972956289262115,
                 6,
                 8.727340426301035,
                 6,
                 17.063842813828437,
                 6,
                 6,
                 17.972956289262115,
                 6,
                 14.182021278903106,
                 6,
                 7.818226950867357,
                 6,
                 17.972956289262115,
                 6,
                 6,
                 17.972956289262115,
                 6,
                 7.818226950867357,
                 6,
                 17.063842813828437,
                 6,
                 6,
                 17.972956289262115,
                 6,
                 14.182021278903106,
                 6,
                 6.909113475433679,
                 6,
                 17.972956289262115,
                 6,
                 6,
                 17.972956289262115,
                 6,
                 6.909113475433679,
                 6,
                 17.063842813828437,
                 6,
                 6,
                 17.972956289262115,
                 6,
                 14.182021278903106,
                 6,
                 6,
                 6,
                 17.972956289262115,
                 6,
                 6,
                 17.972956289262115,
                 6,
                 6,
                 6,
                 6,
                 6,
                 11.747350021784866,
                 6
                ]
               },
               {}
              ]
             }
            ],
            "label": "Size by FLOPS, color by operation",
            "method": "restyle"
           },
           {
            "args": [
             {
              "marker": [
               {},
               {
                "color": [
                 0,
                 1,
                 0,
                 0,
                 0,
                 0.9977463574385095,
                 0,
                 0,
                 0.9977463574385095,
                 0,
                 0.22727836885841962,
                 0,
                 0.9977463574385095,
                 0,
                 0,
                 0.9977463574385095,
                 0,
                 0.22727836885841962,
                 0,
                 0.9219869011523696,
                 0,
                 0,
                 0.9977463574385095,
                 0,
                 0.6818351065752588,
                 0,
                 0.15151891257227976,
                 0,
                 0.9977463574385095,
                 0,
                 0,
                 0.9977463574385095,
                 0,
                 0.15151891257227976,
                 0,
                 0.9219869011523696,
                 0,
                 0,
                 0.9977463574385095,
                 0,
                 0.6818351065752588,
                 0,
                 0.07575945628613988,
                 0,
                 0.9977463574385095,
                 0,
                 0,
                 0.9977463574385095,
                 0,
                 0.07575945628613988,
                 0,
                 0.9219869011523696,
                 0,
                 0,
                 0.9977463574385095,
                 0,
                 0.6818351065752588,
                 0,
                 0,
                 0,
                 0.9977463574385095,
                 0,
                 0,
                 0.9977463574385095,
                 0,
                 0,
                 0,
                 0,
                 0,
                 0.4789458351487389,
                 0
                ],
                "colorscale": "Bluered",
                "size": [
                 6,
                 11.250279597842884,
                 6,
                 6,
                 6,
                 12.91881573172255,
                 6,
                 6,
                 12.91881573172255,
                 6,
                 6,
                 6,
                 12.91881573172255,
                 6,
                 6,
                 12.91881573172255,
                 6,
                 6,
                 6,
                 13.765679776435459,
                 6.846864044712908,
                 6,
                 14.612543821148368,
                 6.846864044712908,
                 11.08118426827745,
                 6.846864044712908,
                 6,
                 6,
                 14.612543821148368,
                 6.846864044712908,
                 6,
                 14.612543821148368,
                 6.846864044712908,
                 6,
                 6,
                 15.459407865861275,
                 7.693728089425816,
                 6,
                 16.306271910574182,
                 7.693728089425816,
                 12.774912357703267,
                 7.693728089425816,
                 6,
                 6,
                 16.306271910574182,
                 7.693728089425816,
                 6,
                 16.306271910574182,
                 7.693728089425816,
                 6,
                 6,
                 17.15313595528709,
                 8.540592134138725,
                 6,
                 18,
                 8.540592134138725,
                 14.468640447129083,
                 8.540592134138725,
                 6,
                 6,
                 18,
                 8.540592134138725,
                 6,
                 18,
                 8.540592134138725,
                 6,
                 6,
                 6,
                 6,
                 16.13577641297401,
                 6
                ]
               },
               {}
              ]
             }
            ],
            "label": "Size by params, color by FLOPS",
            "method": "restyle"
           },
           {
            "args": [
             {
              "marker": [
               {},
               {
                "color": [
                 0,
                 0.4375232998202403,
                 0,
                 0,
                 0,
                 0.5765679776435458,
                 0,
                 0,
                 0.5765679776435458,
                 0,
                 0,
                 0,
                 0.5765679776435458,
                 0,
                 0,
                 0.5765679776435458,
                 0,
                 0,
                 0,
                 0.6471399813696215,
                 0.0705720037260757,
                 0,
                 0.7177119850956972,
                 0.0705720037260757,
                 0.42343202235645416,
                 0.0705720037260757,
                 0,
                 0,
                 0.7177119850956972,
                 0.0705720037260757,
                 0,
                 0.7177119850956972,
                 0.0705720037260757,
                 0,
                 0,
                 0.7882839888217729,
                 0.1411440074521514,
                 0,
                 0.8588559925478486,
                 0.1411440074521514,
                 0.5645760298086056,
                 0.1411440074521514,
                 0,
                 0,
                 0.8588559925478486,
                 0.1411440074521514,
                 0,
                 0.8588559925478486,
                 0.1411440074521514,
                 0,
                 0,
                 0.9294279962739243,
                 0.21171601117822708,
                 0,
                 1,
                 0.21171601117822708,
                 0.7057200372607569,
                 0.21171601117822708,
                 0,
                 0,
                 1,
                 0.21171601117822708,
                 0,
                 1,
                 0.21171601117822708,
                 0,
                 0,
                 0,
                 0,
                 0.8446480344145008,
                 0
                ],
                "colorscale": "Bluered",
                "size": [
                 6,
                 18,
                 6,
                 6,
                 6,
                 17.972956289262115,
                 6,
                 6,
                 17.972956289262115,
                 6,
                 8.727340426301035,
                 6,
                 17.972956289262115,
                 6,
                 6,
                 17.972956289262115,
                 6,
                 8.727340426301035,
                 6,
                 17.063842813828437,
                 6,
                 6,
                 17.972956289262115,
                 6,
                 14.182021278903106,
                 6,
                 7.818226950867357,
                 6,
                 17.972956289262115,
                 6,
                 6,
                 17.972956289262115,
                 6,
                 7.818226950867357,
                 6,
                 17.063842813828437,
                 6,
                 6,
                 17.972956289262115,
                 6,
                 14.182021278903106,
                 6,
                 6.909113475433679,
                 6,
                 17.972956289262115,
                 6,
                 6,
                 17.972956289262115,
                 6,
                 6.909113475433679,
                 6,
                 17.063842813828437,
                 6,
                 6,
                 17.972956289262115,
                 6,
                 14.182021278903106,
                 6,
                 6,
                 6,
                 17.972956289262115,
                 6,
                 6,
                 17.972956289262115,
                 6,
                 6,
                 6,
                 6,
                 6,
                 11.747350021784866,
                 6
                ]
               },
               {}
              ]
             }
            ],
            "label": "Size by FLOPS, color by params",
            "method": "restyle"
           }
          ],
          "direction": "up",
          "pad": {
           "b": 0,
           "l": 0,
           "r": 0,
           "t": 8
          },
          "showactive": true,
          "x": 0,
          "xanchor": "left",
          "y": 0,
          "yanchor": "top"
         }
        ],
        "xaxis": {
         "anchor": "y",
         "domain": [
          0,
          0.18
         ],
         "range": [
          -0.5,
          1.5
         ],
         "showgrid": false,
         "tickmode": "array",
         "tickvals": [],
         "zeroline": false
        },
        "yaxis": {
         "anchor": "x",
         "domain": [
          0,
          1
         ],
         "range": [
          64.25,
          -0.25
         ],
         "showgrid": false,
         "tickmode": "array",
         "tickvals": [],
         "zeroline": false
        }
       }
      }
     },
     "metadata": {},
     "output_type": "display_data"
    }
   ],
   "source": [
    "mav = MAV(model, x, device='cpu', merge_threshold=-1)\n",
    "with plotly_renderer('vscode'): mav.show_figure(\n",
    "    palette='Vivid',\n",
    "    avoid_palette_idxs=set([10]),\n",
    "    fixed_color_map={'Convolution':7, 'add()':0, 'nn.MaxPool2d':5}\n",
    ")"
   ]
  },
  {
   "cell_type": "markdown",
   "metadata": {},
   "source": [
    "## Calling internal components directly\n",
    "* For users that wish to replace or augment one or more components\n",
    "* A typical example would be replacing or subclassing the renderer to work on a specific environment"
   ]
  },
  {
   "cell_type": "code",
   "execution_count": 19,
   "metadata": {},
   "outputs": [
    {
     "data": {
      "application/vnd.jupyter.widget-view+json": {
       "model_id": "b66a62a02022424a933eb9b7ce1d67f8",
       "version_major": 2,
       "version_minor": 0
      },
      "text/plain": [
       "VBox(children=(HBox(children=(Box(children=(FigureWidget({\n",
       "    'data': [{'hoverinfo': 'skip',\n",
       "              'm…"
      ]
     },
     "metadata": {},
     "output_type": "display_data"
    }
   ],
   "source": [
    "from idlmav import MavTracer, merge_graph_nodes, layout_graph_nodes, color_graph_nodes, WidgetRenderer\n",
    "from IPython.display import display\n",
    "\n",
    "tracer = MavTracer(model, x, device='cpu')\n",
    "merge_graph_nodes(tracer.g)\n",
    "layout_graph_nodes(tracer.g)\n",
    "color_graph_nodes(tracer.g)\n",
    "renderer = WidgetRenderer(tracer.g)\n",
    "display(renderer.render())"
   ]
  },
  {
   "cell_type": "markdown",
   "metadata": {},
   "source": [
    "## Reducing notebook file size\n",
    "* On some environments, plotly will include the entire plotly library (~ 4MB) in the notebook DOM for portable figures (`go.Figure`)\n",
    "* This is not the case for interactive widgets (`go.FigureWidget`) where the plotly library is served from the backend\n",
    "* Using a custom plotly renderer can also avoid this for `go.Figure`, importing plotly via a CDN instead\n",
    "* Custom plotly renderers are made available in `idlmav` via a context manager:"
   ]
  },
  {
   "cell_type": "code",
   "execution_count": 20,
   "metadata": {},
   "outputs": [
    {
     "data": {
      "text/html": [
       "        <script type=\"text/javascript\">\n",
       "        window.PlotlyConfig = {MathJaxConfig: 'local'};\n",
       "        if (window.MathJax && window.MathJax.Hub && window.MathJax.Hub.Config) {window.MathJax.Hub.Config({SVG: {font: \"STIX-Web\"}});}\n",
       "        if (typeof require !== 'undefined') {\n",
       "        require.undef(\"plotly\");\n",
       "        requirejs.config({\n",
       "            paths: {\n",
       "                'plotly': ['https://cdn.plot.ly/plotly-2.35.2.min']\n",
       "            }\n",
       "        });\n",
       "        require(['plotly'], function(Plotly) {\n",
       "            window._Plotly = Plotly;\n",
       "        });\n",
       "        }\n",
       "        </script>\n",
       "        "
      ]
     },
     "metadata": {},
     "output_type": "display_data"
    },
    {
     "data": {
      "text/html": [
       "<div>                            <div id=\"5a7cf55c-4474-4ba6-9c03-673093a5f91d\" class=\"plotly-graph-div\" style=\"height:525px; width:100%;\"></div>            <script type=\"text/javascript\">                require([\"plotly\"], function(Plotly) {                    window.PLOTLYENV=window.PLOTLYENV || {};                                    if (document.getElementById(\"5a7cf55c-4474-4ba6-9c03-673093a5f91d\")) {                    Plotly.newPlot(                        \"5a7cf55c-4474-4ba6-9c03-673093a5f91d\",                        [{\"hoverinfo\":\"skip\",\"line\":{\"color\":\"gray\",\"width\":1},\"mode\":\"lines\",\"showlegend\":false,\"x\":[0.0,0.0,null,0.0,0.0,null,0.0,0.0,null,0.0,0.0,null,0.0,0.0,null,0.0,0.0,null,0.0,0.0,null,0.0,0.0,null,0.0,0.0,null,0.0,0.0,null,0.0,0.4,0.4,0.0,null,0.0,0.0,null,0.0,0.0,null,0.0,0.0,null,0.0,0.0,null,0.0,0.0,null,0.0,0.0,null,0.0,0.0,null,0.0,-0.4,-0.4,0.0,null,0.0,0.0,null,0.0,0.0,null,0.0,0.0,null,0.0,0.0,null,0.0,0.0,null,0.0,0.0,null,0.0,1.0,null,1.0,1.0,null,0.0,0.0,null,1.0,0.0,null,0.0,0.0,null,0.0,0.0,null,0.0,0.0,null,0.0,0.0,null,0.0,0.0,null,0.0,0.0,null,0.0,0.0,null,0.0,-0.4,-0.4,0.0,null,0.0,0.0,null,0.0,0.0,null,0.0,0.0,null,0.0,0.0,null,0.0,0.0,null,0.0,0.0,null,0.0,1.0,null,1.0,1.0,null,0.0,0.0,null,1.0,0.0,null,0.0,0.0,null,0.0,0.0,null,0.0,0.0,null,0.0,0.0,null,0.0,0.0,null,0.0,0.0,null,0.0,0.0,null,0.0,-0.4,-0.4,0.0,null,0.0,0.0,null,0.0,0.0,null,0.0,0.0,null,0.0,0.0,null,0.0,0.0,null,0.0,0.0,null,0.0,1.0,null,1.0,1.0,null,0.0,0.0,null,1.0,0.0,null,0.0,0.0,null,0.0,0.0,null,0.0,0.0,null,0.0,0.0,null,0.0,0.0,null,0.0,0.0,null,0.0,0.0,null,0.0,-0.4,-0.4,0.0,null,0.0,0.0,null,0.0,0.0,null,0.0,0.0,null,0.0,0.0,null,0.0,0.0],\"y\":[0,1,null,1,2,null,2,3,null,3,4,null,4,5,null,5,6,null,6,7,null,7,8,null,8,9,null,9,10,null,4,4.5,9.5,10,null,10,11,null,11,12,null,12,13,null,13,14,null,14,15,null,15,16,null,16,17,null,11,11.5,16.5,17,null,17,18,null,18,19,null,19,20,null,20,21,null,21,22,null,22,23,null,18,22,null,22,23,null,23,24,null,23,24,null,24,25,null,25,26,null,26,27,null,27,28,null,28,29,null,29,30,null,30,31,null,25,25.5,30.5,31,null,31,32,null,32,33,null,33,34,null,34,35,null,35,36,null,36,37,null,32,36,null,36,37,null,37,38,null,37,38,null,38,39,null,39,40,null,40,41,null,41,42,null,42,43,null,43,44,null,44,45,null,39,39.5,44.5,45,null,45,46,null,46,47,null,47,48,null,48,49,null,49,50,null,50,51,null,46,50,null,50,51,null,51,52,null,51,52,null,52,53,null,53,54,null,54,55,null,55,56,null,56,57,null,57,58,null,58,59,null,53,53.5,58.5,59,null,59,60,null,60,61,null,61,62,null,62,63,null,63,64],\"type\":\"scatter\",\"xaxis\":\"x\",\"yaxis\":\"y\"},{\"customdata\":[[\"x\",\"input\",\"(16,3,160,160)\",\"0\",\"0\",\"()\",\"{}\"],[\"conv1\",\"nn.Conv2d\",\"(16,64,80,80)\",\"9 408\",\"1 926 758 400\",\"(x,)\",\"{}\"],[\"bn1\",\"nn.BatchNorm2d\",\"(16,64,80,80)\",\"128\",\"0\",\"(conv1,)\",\"{}\"],[\"relu\",\"nn.ReLU\",\"(16,64,80,80)\",\"0\",\"0\",\"(bn1,)\",\"{}\"],[\"maxpool\",\"nn.MaxPool2d\",\"(16,64,40,40)\",\"0\",\"0\",\"(relu,)\",\"{}\"],[\"layer1_0_conv1\",\"nn.Conv2d\",\"(16,64,40,40)\",\"36 864\",\"1 887 436 800\",\"(maxpool,)\",\"{}\"],[\"layer1_0_bn1\",\"nn.BatchNorm2d\",\"(16,64,40,40)\",\"128\",\"0\",\"(layer1_0_conv1,)\",\"{}\"],[\"layer1_0_relu\",\"nn.ReLU\",\"(16,64,40,40)\",\"0\",\"0\",\"(layer1_0_bn1,)\",\"{}\"],[\"layer1_0_conv2\",\"nn.Conv2d\",\"(16,64,40,40)\",\"36 864\",\"1 887 436 800\",\"(layer1_0_relu,)\",\"{}\"],[\"layer1_0_bn2\",\"nn.BatchNorm2d\",\"(16,64,40,40)\",\"128\",\"0\",\"(layer1_0_conv2,)\",\"{}\"],[\"add\",\"add()\",\"(16,64,40,40)\",\"0\",\"1 638 400\",\"(layer1_0_bn2, maxpool)\",\"{}\"],[\"layer1_0_relu_1\",\"nn.ReLU\",\"(16,64,40,40)\",\"0\",\"0\",\"(add,)\",\"{}\"],[\"layer1_1_conv1\",\"nn.Conv2d\",\"(16,64,40,40)\",\"36 864\",\"1 887 436 800\",\"(layer1_0_relu_1,)\",\"{}\"],[\"layer1_1_bn1\",\"nn.BatchNorm2d\",\"(16,64,40,40)\",\"128\",\"0\",\"(layer1_1_conv1,)\",\"{}\"],[\"layer1_1_relu\",\"nn.ReLU\",\"(16,64,40,40)\",\"0\",\"0\",\"(layer1_1_bn1,)\",\"{}\"],[\"layer1_1_conv2\",\"nn.Conv2d\",\"(16,64,40,40)\",\"36 864\",\"1 887 436 800\",\"(layer1_1_relu,)\",\"{}\"],[\"layer1_1_bn2\",\"nn.BatchNorm2d\",\"(16,64,40,40)\",\"128\",\"0\",\"(layer1_1_conv2,)\",\"{}\"],[\"add_1\",\"add()\",\"(16,64,40,40)\",\"0\",\"1 638 400\",\"(layer1_1_bn2, layer1_0_relu_1)\",\"{}\"],[\"layer1_1_relu_1\",\"nn.ReLU\",\"(16,64,40,40)\",\"0\",\"0\",\"(add_1,)\",\"{}\"],[\"layer2_0_conv1\",\"nn.Conv2d\",\"(16,128,20,20)\",\"73 728\",\"943 718 400\",\"(layer1_1_relu_1,)\",\"{}\"],[\"layer2_0_bn1\",\"nn.BatchNorm2d\",\"(16,128,20,20)\",\"256\",\"0\",\"(layer2_0_conv1,)\",\"{}\"],[\"layer2_0_relu\",\"nn.ReLU\",\"(16,128,20,20)\",\"0\",\"0\",\"(layer2_0_bn1,)\",\"{}\"],[\"layer2_0_conv2\",\"nn.Conv2d\",\"(16,128,20,20)\",\"147 456\",\"1 887 436 800\",\"(layer2_0_relu,)\",\"{}\"],[\"layer2_0_bn2\",\"nn.BatchNorm2d\",\"(16,128,20,20)\",\"256\",\"0\",\"(layer2_0_conv2,)\",\"{}\"],[\"layer2_0_downsample_0\",\"nn.Conv2d\",\"(16,128,20,20)\",\"8 192\",\"104 857 600\",\"(layer1_1_relu_1,)\",\"{}\"],[\"layer2_0_downsample_1\",\"nn.BatchNorm2d\",\"(16,128,20,20)\",\"256\",\"0\",\"(layer2_0_downsample_0,)\",\"{}\"],[\"add_2\",\"add()\",\"(16,128,20,20)\",\"0\",\"819 200\",\"(layer2_0_bn2, layer2_0_downsample_1)\",\"{}\"],[\"layer2_0_relu_1\",\"nn.ReLU\",\"(16,128,20,20)\",\"0\",\"0\",\"(add_2,)\",\"{}\"],[\"layer2_1_conv1\",\"nn.Conv2d\",\"(16,128,20,20)\",\"147 456\",\"1 887 436 800\",\"(layer2_0_relu_1,)\",\"{}\"],[\"layer2_1_bn1\",\"nn.BatchNorm2d\",\"(16,128,20,20)\",\"256\",\"0\",\"(layer2_1_conv1,)\",\"{}\"],[\"layer2_1_relu\",\"nn.ReLU\",\"(16,128,20,20)\",\"0\",\"0\",\"(layer2_1_bn1,)\",\"{}\"],[\"layer2_1_conv2\",\"nn.Conv2d\",\"(16,128,20,20)\",\"147 456\",\"1 887 436 800\",\"(layer2_1_relu,)\",\"{}\"],[\"layer2_1_bn2\",\"nn.BatchNorm2d\",\"(16,128,20,20)\",\"256\",\"0\",\"(layer2_1_conv2,)\",\"{}\"],[\"add_3\",\"add()\",\"(16,128,20,20)\",\"0\",\"819 200\",\"(layer2_1_bn2, layer2_0_relu_1)\",\"{}\"],[\"layer2_1_relu_1\",\"nn.ReLU\",\"(16,128,20,20)\",\"0\",\"0\",\"(add_3,)\",\"{}\"],[\"layer3_0_conv1\",\"nn.Conv2d\",\"(16,256,10,10)\",\"294 912\",\"943 718 400\",\"(layer2_1_relu_1,)\",\"{}\"],[\"layer3_0_bn1\",\"nn.BatchNorm2d\",\"(16,256,10,10)\",\"512\",\"0\",\"(layer3_0_conv1,)\",\"{}\"],[\"layer3_0_relu\",\"nn.ReLU\",\"(16,256,10,10)\",\"0\",\"0\",\"(layer3_0_bn1,)\",\"{}\"],[\"layer3_0_conv2\",\"nn.Conv2d\",\"(16,256,10,10)\",\"589 824\",\"1 887 436 800\",\"(layer3_0_relu,)\",\"{}\"],[\"layer3_0_bn2\",\"nn.BatchNorm2d\",\"(16,256,10,10)\",\"512\",\"0\",\"(layer3_0_conv2,)\",\"{}\"],[\"layer3_0_downsample_0\",\"nn.Conv2d\",\"(16,256,10,10)\",\"32 768\",\"104 857 600\",\"(layer2_1_relu_1,)\",\"{}\"],[\"layer3_0_downsample_1\",\"nn.BatchNorm2d\",\"(16,256,10,10)\",\"512\",\"0\",\"(layer3_0_downsample_0,)\",\"{}\"],[\"add_4\",\"add()\",\"(16,256,10,10)\",\"0\",\"409 600\",\"(layer3_0_bn2, layer3_0_downsample_1)\",\"{}\"],[\"layer3_0_relu_1\",\"nn.ReLU\",\"(16,256,10,10)\",\"0\",\"0\",\"(add_4,)\",\"{}\"],[\"layer3_1_conv1\",\"nn.Conv2d\",\"(16,256,10,10)\",\"589 824\",\"1 887 436 800\",\"(layer3_0_relu_1,)\",\"{}\"],[\"layer3_1_bn1\",\"nn.BatchNorm2d\",\"(16,256,10,10)\",\"512\",\"0\",\"(layer3_1_conv1,)\",\"{}\"],[\"layer3_1_relu\",\"nn.ReLU\",\"(16,256,10,10)\",\"0\",\"0\",\"(layer3_1_bn1,)\",\"{}\"],[\"layer3_1_conv2\",\"nn.Conv2d\",\"(16,256,10,10)\",\"589 824\",\"1 887 436 800\",\"(layer3_1_relu,)\",\"{}\"],[\"layer3_1_bn2\",\"nn.BatchNorm2d\",\"(16,256,10,10)\",\"512\",\"0\",\"(layer3_1_conv2,)\",\"{}\"],[\"add_5\",\"add()\",\"(16,256,10,10)\",\"0\",\"409 600\",\"(layer3_1_bn2, layer3_0_relu_1)\",\"{}\"],[\"layer3_1_relu_1\",\"nn.ReLU\",\"(16,256,10,10)\",\"0\",\"0\",\"(add_5,)\",\"{}\"],[\"layer4_0_conv1\",\"nn.Conv2d\",\"(16,512,5,5)\",\"1 179 648\",\"943 718 400\",\"(layer3_1_relu_1,)\",\"{}\"],[\"layer4_0_bn1\",\"nn.BatchNorm2d\",\"(16,512,5,5)\",\"1 024\",\"0\",\"(layer4_0_conv1,)\",\"{}\"],[\"layer4_0_relu\",\"nn.ReLU\",\"(16,512,5,5)\",\"0\",\"0\",\"(layer4_0_bn1,)\",\"{}\"],[\"layer4_0_conv2\",\"nn.Conv2d\",\"(16,512,5,5)\",\"2 359 296\",\"1 887 436 800\",\"(layer4_0_relu,)\",\"{}\"],[\"layer4_0_bn2\",\"nn.BatchNorm2d\",\"(16,512,5,5)\",\"1 024\",\"0\",\"(layer4_0_conv2,)\",\"{}\"],[\"layer4_0_downsample_0\",\"nn.Conv2d\",\"(16,512,5,5)\",\"131 072\",\"104 857 600\",\"(layer3_1_relu_1,)\",\"{}\"],[\"layer4_0_downsample_1\",\"nn.BatchNorm2d\",\"(16,512,5,5)\",\"1 024\",\"0\",\"(layer4_0_downsample_0,)\",\"{}\"],[\"add_6\",\"add()\",\"(16,512,5,5)\",\"0\",\"204 800\",\"(layer4_0_bn2, layer4_0_downsample_1)\",\"{}\"],[\"layer4_0_relu_1\",\"nn.ReLU\",\"(16,512,5,5)\",\"0\",\"0\",\"(add_6,)\",\"{}\"],[\"layer4_1_conv1\",\"nn.Conv2d\",\"(16,512,5,5)\",\"2 359 296\",\"1 887 436 800\",\"(layer4_0_relu_1,)\",\"{}\"],[\"layer4_1_bn1\",\"nn.BatchNorm2d\",\"(16,512,5,5)\",\"1 024\",\"0\",\"(layer4_1_conv1,)\",\"{}\"],[\"layer4_1_relu\",\"nn.ReLU\",\"(16,512,5,5)\",\"0\",\"0\",\"(layer4_1_bn1,)\",\"{}\"],[\"layer4_1_conv2\",\"nn.Conv2d\",\"(16,512,5,5)\",\"2 359 296\",\"1 887 436 800\",\"(layer4_1_relu,)\",\"{}\"],[\"layer4_1_bn2\",\"nn.BatchNorm2d\",\"(16,512,5,5)\",\"1 024\",\"0\",\"(layer4_1_conv2,)\",\"{}\"],[\"add_7\",\"add()\",\"(16,512,5,5)\",\"0\",\"204 800\",\"(layer4_1_bn2, layer4_0_relu_1)\",\"{}\"],[\"layer4_1_relu_1\",\"nn.ReLU\",\"(16,512,5,5)\",\"0\",\"0\",\"(add_7,)\",\"{}\"],[\"avgpool\",\"nn.AdaptiveAvgPool2d\",\"(16,512,1,1)\",\"0\",\"0\",\"(layer4_1_relu_1,)\",\"{}\"],[\"flatten\",\"flatten()\",\"(16,512)\",\"0\",\"0\",\"(avgpool, 1)\",\"{}\"],[\"fc\",\"nn.Linear\",\"(16,1000)\",\"513 000\",\"16 384 000\",\"(flatten,)\",\"{}\"],[\"output\",\"output\",\"(16,1000)\",\"0\",\"0\",\"(fc,)\",\"{}\"]],\"hovertemplate\":\"Name: %{customdata[0]}\\u003cbr\\u003eOperation: %{customdata[1]}\\u003cbr\\u003eActivations: %{customdata[2]}\\u003cbr\\u003eParameters: %{customdata[3]}\\u003cbr\\u003eFLOPS: %{customdata[4]}\\u003cbr\\u003e\\u003cbr\\u003eargs: %{customdata[5]}\\u003cbr\\u003ekwargs: %{customdata[6]}\\u003cbr\\u003e\\u003cextra\\u003e\\u003c\\u002fextra\\u003e\",\"marker\":{\"color\":[\"#000000\",\"#2F8AC4\",\"#52BCA3\",\"#99C945\",\"#24796C\",\"#2F8AC4\",\"#52BCA3\",\"#99C945\",\"#2F8AC4\",\"#52BCA3\",\"#E58606\",\"#99C945\",\"#2F8AC4\",\"#52BCA3\",\"#99C945\",\"#2F8AC4\",\"#52BCA3\",\"#E58606\",\"#99C945\",\"#2F8AC4\",\"#52BCA3\",\"#99C945\",\"#2F8AC4\",\"#52BCA3\",\"#2F8AC4\",\"#52BCA3\",\"#E58606\",\"#99C945\",\"#2F8AC4\",\"#52BCA3\",\"#99C945\",\"#2F8AC4\",\"#52BCA3\",\"#E58606\",\"#99C945\",\"#2F8AC4\",\"#52BCA3\",\"#99C945\",\"#2F8AC4\",\"#52BCA3\",\"#2F8AC4\",\"#52BCA3\",\"#E58606\",\"#99C945\",\"#2F8AC4\",\"#52BCA3\",\"#99C945\",\"#2F8AC4\",\"#52BCA3\",\"#E58606\",\"#99C945\",\"#2F8AC4\",\"#52BCA3\",\"#99C945\",\"#2F8AC4\",\"#52BCA3\",\"#2F8AC4\",\"#52BCA3\",\"#E58606\",\"#99C945\",\"#2F8AC4\",\"#52BCA3\",\"#99C945\",\"#2F8AC4\",\"#52BCA3\",\"#E58606\",\"#99C945\",\"#CC61B0\",\"#DAA51B\",\"#5D69B1\",\"#000000\"],\"colorscale\":[[0.0,\"rgb(0,0,255)\"],[1.0,\"rgb(255,0,0)\"]],\"size\":[6.0,11.250279597842884,6.0,6.0,6.0,12.91881573172255,6.0,6.0,12.91881573172255,6.0,6.0,6.0,12.91881573172255,6.0,6.0,12.91881573172255,6.0,6.0,6.0,13.765679776435459,6.846864044712908,6.0,14.612543821148368,6.846864044712908,11.08118426827745,6.846864044712908,6.0,6.0,14.612543821148368,6.846864044712908,6.0,14.612543821148368,6.846864044712908,6.0,6.0,15.459407865861275,7.693728089425816,6.0,16.306271910574182,7.693728089425816,12.774912357703267,7.693728089425816,6.0,6.0,16.306271910574182,7.693728089425816,6.0,16.306271910574182,7.693728089425816,6.0,6.0,17.15313595528709,8.540592134138725,6.0,18.0,8.540592134138725,14.468640447129083,8.540592134138725,6.0,6.0,18.0,8.540592134138725,6.0,18.0,8.540592134138725,6.0,6.0,6.0,6.0,16.13577641297401,6.0]},\"mode\":\"markers\",\"showlegend\":false,\"x\":[0.0,0.0,0.0,0.0,0.0,0.0,0.0,0.0,0.0,0.0,0.0,0.0,0.0,0.0,0.0,0.0,0.0,0.0,0.0,0.0,0.0,0.0,0.0,0.0,1.0,1.0,0.0,0.0,0.0,0.0,0.0,0.0,0.0,0.0,0.0,0.0,0.0,0.0,0.0,0.0,1.0,1.0,0.0,0.0,0.0,0.0,0.0,0.0,0.0,0.0,0.0,0.0,0.0,0.0,0.0,0.0,1.0,1.0,0.0,0.0,0.0,0.0,0.0,0.0,0.0,0.0,0.0,0.0,0.0,0.0,0.0],\"y\":[0,1,2,3,4,5,6,7,8,9,10,11,12,13,14,15,16,17,18,19,20,21,22,23,22,23,24,25,26,27,28,29,30,31,32,33,34,35,36,37,36,37,38,39,40,41,42,43,44,45,46,47,48,49,50,51,50,51,52,53,54,55,56,57,58,59,60,61,62,63,64],\"type\":\"scatter\",\"xaxis\":\"x\",\"yaxis\":\"y\"},{\"cells\":{\"align\":\"left\",\"values\":[[\"x\",\"conv1\",\"bn1\",\"relu\",\"maxpool\",\"layer1_0_conv1\",\"layer1_0_bn1\",\"layer1_0_relu\",\"layer1_0_conv2\",\"layer1_0_bn2\",\"add\",\"layer1_0_relu_1\",\"layer1_1_conv1\",\"layer1_1_bn1\",\"layer1_1_relu\",\"layer1_1_conv2\",\"layer1_1_bn2\",\"add_1\",\"layer1_1_relu_1\",\"layer2_0_conv1\",\"layer2_0_bn1\",\"layer2_0_relu\",\"layer2_0_conv2\",\"layer2_0_bn2\",\"layer2_0_downsample_0\",\"layer2_0_downsample_1\",\"add_2\",\"layer2_0_relu_1\",\"layer2_1_conv1\",\"layer2_1_bn1\",\"layer2_1_relu\",\"layer2_1_conv2\",\"layer2_1_bn2\",\"add_3\",\"layer2_1_relu_1\",\"layer3_0_conv1\",\"layer3_0_bn1\",\"layer3_0_relu\",\"layer3_0_conv2\",\"layer3_0_bn2\",\"layer3_0_downsample_0\",\"layer3_0_downsample_1\",\"add_4\",\"layer3_0_relu_1\",\"layer3_1_conv1\",\"layer3_1_bn1\",\"layer3_1_relu\",\"layer3_1_conv2\",\"layer3_1_bn2\",\"add_5\",\"layer3_1_relu_1\",\"layer4_0_conv1\",\"layer4_0_bn1\",\"layer4_0_relu\",\"layer4_0_conv2\",\"layer4_0_bn2\",\"layer4_0_downsample_0\",\"layer4_0_downsample_1\",\"add_6\",\"layer4_0_relu_1\",\"layer4_1_conv1\",\"layer4_1_bn1\",\"layer4_1_relu\",\"layer4_1_conv2\",\"layer4_1_bn2\",\"add_7\",\"layer4_1_relu_1\",\"avgpool\",\"flatten\",\"fc\",\"output\"],[\"input\",\"nn.Conv2d\",\"nn.BatchNorm2d\",\"nn.ReLU\",\"nn.MaxPool2d\",\"nn.Conv2d\",\"nn.BatchNorm2d\",\"nn.ReLU\",\"nn.Conv2d\",\"nn.BatchNorm2d\",\"add()\",\"nn.ReLU\",\"nn.Conv2d\",\"nn.BatchNorm2d\",\"nn.ReLU\",\"nn.Conv2d\",\"nn.BatchNorm2d\",\"add()\",\"nn.ReLU\",\"nn.Conv2d\",\"nn.BatchNorm2d\",\"nn.ReLU\",\"nn.Conv2d\",\"nn.BatchNorm2d\",\"nn.Conv2d\",\"nn.BatchNorm2d\",\"add()\",\"nn.ReLU\",\"nn.Conv2d\",\"nn.BatchNorm2d\",\"nn.ReLU\",\"nn.Conv2d\",\"nn.BatchNorm2d\",\"add()\",\"nn.ReLU\",\"nn.Conv2d\",\"nn.BatchNorm2d\",\"nn.ReLU\",\"nn.Conv2d\",\"nn.BatchNorm2d\",\"nn.Conv2d\",\"nn.BatchNorm2d\",\"add()\",\"nn.ReLU\",\"nn.Conv2d\",\"nn.BatchNorm2d\",\"nn.ReLU\",\"nn.Conv2d\",\"nn.BatchNorm2d\",\"add()\",\"nn.ReLU\",\"nn.Conv2d\",\"nn.BatchNorm2d\",\"nn.ReLU\",\"nn.Conv2d\",\"nn.BatchNorm2d\",\"nn.Conv2d\",\"nn.BatchNorm2d\",\"add()\",\"nn.ReLU\",\"nn.Conv2d\",\"nn.BatchNorm2d\",\"nn.ReLU\",\"nn.Conv2d\",\"nn.BatchNorm2d\",\"add()\",\"nn.ReLU\",\"nn.AdaptiveAvgPool2d\",\"flatten()\",\"nn.Linear\",\"output\"],[\"(16,3,160,160)\",\"(16,64,80,80)\",\"(16,64,80,80)\",\"(16,64,80,80)\",\"(16,64,40,40)\",\"(16,64,40,40)\",\"(16,64,40,40)\",\"(16,64,40,40)\",\"(16,64,40,40)\",\"(16,64,40,40)\",\"(16,64,40,40)\",\"(16,64,40,40)\",\"(16,64,40,40)\",\"(16,64,40,40)\",\"(16,64,40,40)\",\"(16,64,40,40)\",\"(16,64,40,40)\",\"(16,64,40,40)\",\"(16,64,40,40)\",\"(16,128,20,20)\",\"(16,128,20,20)\",\"(16,128,20,20)\",\"(16,128,20,20)\",\"(16,128,20,20)\",\"(16,128,20,20)\",\"(16,128,20,20)\",\"(16,128,20,20)\",\"(16,128,20,20)\",\"(16,128,20,20)\",\"(16,128,20,20)\",\"(16,128,20,20)\",\"(16,128,20,20)\",\"(16,128,20,20)\",\"(16,128,20,20)\",\"(16,128,20,20)\",\"(16,256,10,10)\",\"(16,256,10,10)\",\"(16,256,10,10)\",\"(16,256,10,10)\",\"(16,256,10,10)\",\"(16,256,10,10)\",\"(16,256,10,10)\",\"(16,256,10,10)\",\"(16,256,10,10)\",\"(16,256,10,10)\",\"(16,256,10,10)\",\"(16,256,10,10)\",\"(16,256,10,10)\",\"(16,256,10,10)\",\"(16,256,10,10)\",\"(16,256,10,10)\",\"(16,512,5,5)\",\"(16,512,5,5)\",\"(16,512,5,5)\",\"(16,512,5,5)\",\"(16,512,5,5)\",\"(16,512,5,5)\",\"(16,512,5,5)\",\"(16,512,5,5)\",\"(16,512,5,5)\",\"(16,512,5,5)\",\"(16,512,5,5)\",\"(16,512,5,5)\",\"(16,512,5,5)\",\"(16,512,5,5)\",\"(16,512,5,5)\",\"(16,512,5,5)\",\"(16,512,1,1)\",\"(16,512)\",\"(16,1000)\",\"(16,1000)\"],[\"0\",\"9 408\",\"128\",\"0\",\"0\",\"36 864\",\"128\",\"0\",\"36 864\",\"128\",\"0\",\"0\",\"36 864\",\"128\",\"0\",\"36 864\",\"128\",\"0\",\"0\",\"73 728\",\"256\",\"0\",\"147 456\",\"256\",\"8 192\",\"256\",\"0\",\"0\",\"147 456\",\"256\",\"0\",\"147 456\",\"256\",\"0\",\"0\",\"294 912\",\"512\",\"0\",\"589 824\",\"512\",\"32 768\",\"512\",\"0\",\"0\",\"589 824\",\"512\",\"0\",\"589 824\",\"512\",\"0\",\"0\",\"1 179 648\",\"1 024\",\"0\",\"2 359 296\",\"1 024\",\"131 072\",\"1 024\",\"0\",\"0\",\"2 359 296\",\"1 024\",\"0\",\"2 359 296\",\"1 024\",\"0\",\"0\",\"0\",\"0\",\"513 000\",\"0\"],[\"0\",\"1 926 758 400\",\"0\",\"0\",\"0\",\"1 887 436 800\",\"0\",\"0\",\"1 887 436 800\",\"0\",\"1 638 400\",\"0\",\"1 887 436 800\",\"0\",\"0\",\"1 887 436 800\",\"0\",\"1 638 400\",\"0\",\"943 718 400\",\"0\",\"0\",\"1 887 436 800\",\"0\",\"104 857 600\",\"0\",\"819 200\",\"0\",\"1 887 436 800\",\"0\",\"0\",\"1 887 436 800\",\"0\",\"819 200\",\"0\",\"943 718 400\",\"0\",\"0\",\"1 887 436 800\",\"0\",\"104 857 600\",\"0\",\"409 600\",\"0\",\"1 887 436 800\",\"0\",\"0\",\"1 887 436 800\",\"0\",\"409 600\",\"0\",\"943 718 400\",\"0\",\"0\",\"1 887 436 800\",\"0\",\"104 857 600\",\"0\",\"204 800\",\"0\",\"1 887 436 800\",\"0\",\"0\",\"1 887 436 800\",\"0\",\"204 800\",\"0\",\"0\",\"0\",\"16 384 000\",\"0\"]]},\"header\":{\"align\":\"left\",\"font\":{\"size\":10},\"values\":[\"Name\",\"Operation\",\"Activations\",\"Params [11 689 512]\",\"FLOPS [29 631 692 800]\"]},\"type\":\"table\",\"domain\":{\"x\":[0.19,1.0],\"y\":[0.0,1.0]}}],                        {\"template\":{\"data\":{\"histogram2dcontour\":[{\"type\":\"histogram2dcontour\",\"colorbar\":{\"outlinewidth\":0,\"ticks\":\"\"},\"colorscale\":[[0.0,\"#0d0887\"],[0.1111111111111111,\"#46039f\"],[0.2222222222222222,\"#7201a8\"],[0.3333333333333333,\"#9c179e\"],[0.4444444444444444,\"#bd3786\"],[0.5555555555555556,\"#d8576b\"],[0.6666666666666666,\"#ed7953\"],[0.7777777777777778,\"#fb9f3a\"],[0.8888888888888888,\"#fdca26\"],[1.0,\"#f0f921\"]]}],\"choropleth\":[{\"type\":\"choropleth\",\"colorbar\":{\"outlinewidth\":0,\"ticks\":\"\"}}],\"histogram2d\":[{\"type\":\"histogram2d\",\"colorbar\":{\"outlinewidth\":0,\"ticks\":\"\"},\"colorscale\":[[0.0,\"#0d0887\"],[0.1111111111111111,\"#46039f\"],[0.2222222222222222,\"#7201a8\"],[0.3333333333333333,\"#9c179e\"],[0.4444444444444444,\"#bd3786\"],[0.5555555555555556,\"#d8576b\"],[0.6666666666666666,\"#ed7953\"],[0.7777777777777778,\"#fb9f3a\"],[0.8888888888888888,\"#fdca26\"],[1.0,\"#f0f921\"]]}],\"heatmap\":[{\"type\":\"heatmap\",\"colorbar\":{\"outlinewidth\":0,\"ticks\":\"\"},\"colorscale\":[[0.0,\"#0d0887\"],[0.1111111111111111,\"#46039f\"],[0.2222222222222222,\"#7201a8\"],[0.3333333333333333,\"#9c179e\"],[0.4444444444444444,\"#bd3786\"],[0.5555555555555556,\"#d8576b\"],[0.6666666666666666,\"#ed7953\"],[0.7777777777777778,\"#fb9f3a\"],[0.8888888888888888,\"#fdca26\"],[1.0,\"#f0f921\"]]}],\"heatmapgl\":[{\"type\":\"heatmapgl\",\"colorbar\":{\"outlinewidth\":0,\"ticks\":\"\"},\"colorscale\":[[0.0,\"#0d0887\"],[0.1111111111111111,\"#46039f\"],[0.2222222222222222,\"#7201a8\"],[0.3333333333333333,\"#9c179e\"],[0.4444444444444444,\"#bd3786\"],[0.5555555555555556,\"#d8576b\"],[0.6666666666666666,\"#ed7953\"],[0.7777777777777778,\"#fb9f3a\"],[0.8888888888888888,\"#fdca26\"],[1.0,\"#f0f921\"]]}],\"contourcarpet\":[{\"type\":\"contourcarpet\",\"colorbar\":{\"outlinewidth\":0,\"ticks\":\"\"}}],\"contour\":[{\"type\":\"contour\",\"colorbar\":{\"outlinewidth\":0,\"ticks\":\"\"},\"colorscale\":[[0.0,\"#0d0887\"],[0.1111111111111111,\"#46039f\"],[0.2222222222222222,\"#7201a8\"],[0.3333333333333333,\"#9c179e\"],[0.4444444444444444,\"#bd3786\"],[0.5555555555555556,\"#d8576b\"],[0.6666666666666666,\"#ed7953\"],[0.7777777777777778,\"#fb9f3a\"],[0.8888888888888888,\"#fdca26\"],[1.0,\"#f0f921\"]]}],\"surface\":[{\"type\":\"surface\",\"colorbar\":{\"outlinewidth\":0,\"ticks\":\"\"},\"colorscale\":[[0.0,\"#0d0887\"],[0.1111111111111111,\"#46039f\"],[0.2222222222222222,\"#7201a8\"],[0.3333333333333333,\"#9c179e\"],[0.4444444444444444,\"#bd3786\"],[0.5555555555555556,\"#d8576b\"],[0.6666666666666666,\"#ed7953\"],[0.7777777777777778,\"#fb9f3a\"],[0.8888888888888888,\"#fdca26\"],[1.0,\"#f0f921\"]]}],\"mesh3d\":[{\"type\":\"mesh3d\",\"colorbar\":{\"outlinewidth\":0,\"ticks\":\"\"}}],\"scatter\":[{\"fillpattern\":{\"fillmode\":\"overlay\",\"size\":10,\"solidity\":0.2},\"type\":\"scatter\"}],\"parcoords\":[{\"type\":\"parcoords\",\"line\":{\"colorbar\":{\"outlinewidth\":0,\"ticks\":\"\"}}}],\"scatterpolargl\":[{\"type\":\"scatterpolargl\",\"marker\":{\"colorbar\":{\"outlinewidth\":0,\"ticks\":\"\"}}}],\"bar\":[{\"error_x\":{\"color\":\"#2a3f5f\"},\"error_y\":{\"color\":\"#2a3f5f\"},\"marker\":{\"line\":{\"color\":\"#E5ECF6\",\"width\":0.5},\"pattern\":{\"fillmode\":\"overlay\",\"size\":10,\"solidity\":0.2}},\"type\":\"bar\"}],\"scattergeo\":[{\"type\":\"scattergeo\",\"marker\":{\"colorbar\":{\"outlinewidth\":0,\"ticks\":\"\"}}}],\"scatterpolar\":[{\"type\":\"scatterpolar\",\"marker\":{\"colorbar\":{\"outlinewidth\":0,\"ticks\":\"\"}}}],\"histogram\":[{\"marker\":{\"pattern\":{\"fillmode\":\"overlay\",\"size\":10,\"solidity\":0.2}},\"type\":\"histogram\"}],\"scattergl\":[{\"type\":\"scattergl\",\"marker\":{\"colorbar\":{\"outlinewidth\":0,\"ticks\":\"\"}}}],\"scatter3d\":[{\"type\":\"scatter3d\",\"line\":{\"colorbar\":{\"outlinewidth\":0,\"ticks\":\"\"}},\"marker\":{\"colorbar\":{\"outlinewidth\":0,\"ticks\":\"\"}}}],\"scattermapbox\":[{\"type\":\"scattermapbox\",\"marker\":{\"colorbar\":{\"outlinewidth\":0,\"ticks\":\"\"}}}],\"scatterternary\":[{\"type\":\"scatterternary\",\"marker\":{\"colorbar\":{\"outlinewidth\":0,\"ticks\":\"\"}}}],\"scattercarpet\":[{\"type\":\"scattercarpet\",\"marker\":{\"colorbar\":{\"outlinewidth\":0,\"ticks\":\"\"}}}],\"carpet\":[{\"aaxis\":{\"endlinecolor\":\"#2a3f5f\",\"gridcolor\":\"white\",\"linecolor\":\"white\",\"minorgridcolor\":\"white\",\"startlinecolor\":\"#2a3f5f\"},\"baxis\":{\"endlinecolor\":\"#2a3f5f\",\"gridcolor\":\"white\",\"linecolor\":\"white\",\"minorgridcolor\":\"white\",\"startlinecolor\":\"#2a3f5f\"},\"type\":\"carpet\"}],\"table\":[{\"cells\":{\"fill\":{\"color\":\"#EBF0F8\"},\"line\":{\"color\":\"white\"}},\"header\":{\"fill\":{\"color\":\"#C8D4E3\"},\"line\":{\"color\":\"white\"}},\"type\":\"table\"}],\"barpolar\":[{\"marker\":{\"line\":{\"color\":\"#E5ECF6\",\"width\":0.5},\"pattern\":{\"fillmode\":\"overlay\",\"size\":10,\"solidity\":0.2}},\"type\":\"barpolar\"}],\"pie\":[{\"automargin\":true,\"type\":\"pie\"}]},\"layout\":{\"autotypenumbers\":\"strict\",\"colorway\":[\"#636efa\",\"#EF553B\",\"#00cc96\",\"#ab63fa\",\"#FFA15A\",\"#19d3f3\",\"#FF6692\",\"#B6E880\",\"#FF97FF\",\"#FECB52\"],\"font\":{\"color\":\"#2a3f5f\"},\"hovermode\":\"closest\",\"hoverlabel\":{\"align\":\"left\"},\"paper_bgcolor\":\"white\",\"plot_bgcolor\":\"#E5ECF6\",\"polar\":{\"bgcolor\":\"#E5ECF6\",\"angularaxis\":{\"gridcolor\":\"white\",\"linecolor\":\"white\",\"ticks\":\"\"},\"radialaxis\":{\"gridcolor\":\"white\",\"linecolor\":\"white\",\"ticks\":\"\"}},\"ternary\":{\"bgcolor\":\"#E5ECF6\",\"aaxis\":{\"gridcolor\":\"white\",\"linecolor\":\"white\",\"ticks\":\"\"},\"baxis\":{\"gridcolor\":\"white\",\"linecolor\":\"white\",\"ticks\":\"\"},\"caxis\":{\"gridcolor\":\"white\",\"linecolor\":\"white\",\"ticks\":\"\"}},\"coloraxis\":{\"colorbar\":{\"outlinewidth\":0,\"ticks\":\"\"}},\"colorscale\":{\"sequential\":[[0.0,\"#0d0887\"],[0.1111111111111111,\"#46039f\"],[0.2222222222222222,\"#7201a8\"],[0.3333333333333333,\"#9c179e\"],[0.4444444444444444,\"#bd3786\"],[0.5555555555555556,\"#d8576b\"],[0.6666666666666666,\"#ed7953\"],[0.7777777777777778,\"#fb9f3a\"],[0.8888888888888888,\"#fdca26\"],[1.0,\"#f0f921\"]],\"sequentialminus\":[[0.0,\"#0d0887\"],[0.1111111111111111,\"#46039f\"],[0.2222222222222222,\"#7201a8\"],[0.3333333333333333,\"#9c179e\"],[0.4444444444444444,\"#bd3786\"],[0.5555555555555556,\"#d8576b\"],[0.6666666666666666,\"#ed7953\"],[0.7777777777777778,\"#fb9f3a\"],[0.8888888888888888,\"#fdca26\"],[1.0,\"#f0f921\"]],\"diverging\":[[0,\"#8e0152\"],[0.1,\"#c51b7d\"],[0.2,\"#de77ae\"],[0.3,\"#f1b6da\"],[0.4,\"#fde0ef\"],[0.5,\"#f7f7f7\"],[0.6,\"#e6f5d0\"],[0.7,\"#b8e186\"],[0.8,\"#7fbc41\"],[0.9,\"#4d9221\"],[1,\"#276419\"]]},\"xaxis\":{\"gridcolor\":\"white\",\"linecolor\":\"white\",\"ticks\":\"\",\"title\":{\"standoff\":15},\"zerolinecolor\":\"white\",\"automargin\":true,\"zerolinewidth\":2},\"yaxis\":{\"gridcolor\":\"white\",\"linecolor\":\"white\",\"ticks\":\"\",\"title\":{\"standoff\":15},\"zerolinecolor\":\"white\",\"automargin\":true,\"zerolinewidth\":2},\"scene\":{\"xaxis\":{\"backgroundcolor\":\"#E5ECF6\",\"gridcolor\":\"white\",\"linecolor\":\"white\",\"showbackground\":true,\"ticks\":\"\",\"zerolinecolor\":\"white\",\"gridwidth\":2},\"yaxis\":{\"backgroundcolor\":\"#E5ECF6\",\"gridcolor\":\"white\",\"linecolor\":\"white\",\"showbackground\":true,\"ticks\":\"\",\"zerolinecolor\":\"white\",\"gridwidth\":2},\"zaxis\":{\"backgroundcolor\":\"#E5ECF6\",\"gridcolor\":\"white\",\"linecolor\":\"white\",\"showbackground\":true,\"ticks\":\"\",\"zerolinecolor\":\"white\",\"gridwidth\":2}},\"shapedefaults\":{\"line\":{\"color\":\"#2a3f5f\"}},\"annotationdefaults\":{\"arrowcolor\":\"#2a3f5f\",\"arrowhead\":0,\"arrowwidth\":1},\"geo\":{\"bgcolor\":\"white\",\"landcolor\":\"#E5ECF6\",\"subunitcolor\":\"white\",\"showland\":true,\"showlakes\":true,\"lakecolor\":\"white\"},\"title\":{\"x\":0.05},\"mapbox\":{\"style\":\"light\"}}},\"xaxis\":{\"anchor\":\"y\",\"domain\":[0.0,0.18],\"showgrid\":false,\"zeroline\":false,\"tickmode\":\"array\",\"tickvals\":[],\"range\":[-0.5,1.5]},\"yaxis\":{\"anchor\":\"x\",\"domain\":[0.0,1.0],\"showgrid\":false,\"zeroline\":false,\"tickmode\":\"array\",\"tickvals\":[],\"range\":[64.25,-0.25]},\"updatemenus\":[{\"active\":0,\"buttons\":[{\"args\":[{\"marker\":[{},{\"size\":[6.0,11.250279597842884,6.0,6.0,6.0,12.91881573172255,6.0,6.0,12.91881573172255,6.0,6.0,6.0,12.91881573172255,6.0,6.0,12.91881573172255,6.0,6.0,6.0,13.765679776435459,6.846864044712908,6.0,14.612543821148368,6.846864044712908,11.08118426827745,6.846864044712908,6.0,6.0,14.612543821148368,6.846864044712908,6.0,14.612543821148368,6.846864044712908,6.0,6.0,15.459407865861275,7.693728089425816,6.0,16.306271910574182,7.693728089425816,12.774912357703267,7.693728089425816,6.0,6.0,16.306271910574182,7.693728089425816,6.0,16.306271910574182,7.693728089425816,6.0,6.0,17.15313595528709,8.540592134138725,6.0,18.0,8.540592134138725,14.468640447129083,8.540592134138725,6.0,6.0,18.0,8.540592134138725,6.0,18.0,8.540592134138725,6.0,6.0,6.0,6.0,16.13577641297401,6.0],\"color\":[\"#000000\",\"#2F8AC4\",\"#52BCA3\",\"#99C945\",\"#24796C\",\"#2F8AC4\",\"#52BCA3\",\"#99C945\",\"#2F8AC4\",\"#52BCA3\",\"#E58606\",\"#99C945\",\"#2F8AC4\",\"#52BCA3\",\"#99C945\",\"#2F8AC4\",\"#52BCA3\",\"#E58606\",\"#99C945\",\"#2F8AC4\",\"#52BCA3\",\"#99C945\",\"#2F8AC4\",\"#52BCA3\",\"#2F8AC4\",\"#52BCA3\",\"#E58606\",\"#99C945\",\"#2F8AC4\",\"#52BCA3\",\"#99C945\",\"#2F8AC4\",\"#52BCA3\",\"#E58606\",\"#99C945\",\"#2F8AC4\",\"#52BCA3\",\"#99C945\",\"#2F8AC4\",\"#52BCA3\",\"#2F8AC4\",\"#52BCA3\",\"#E58606\",\"#99C945\",\"#2F8AC4\",\"#52BCA3\",\"#99C945\",\"#2F8AC4\",\"#52BCA3\",\"#E58606\",\"#99C945\",\"#2F8AC4\",\"#52BCA3\",\"#99C945\",\"#2F8AC4\",\"#52BCA3\",\"#2F8AC4\",\"#52BCA3\",\"#E58606\",\"#99C945\",\"#2F8AC4\",\"#52BCA3\",\"#99C945\",\"#2F8AC4\",\"#52BCA3\",\"#E58606\",\"#99C945\",\"#CC61B0\",\"#DAA51B\",\"#5D69B1\",\"#000000\"],\"colorscale\":\"Bluered\"},{}]}],\"label\":\"Size by params, color by operation\",\"method\":\"restyle\"},{\"args\":[{\"marker\":[{},{\"size\":[6.0,18.0,6.0,6.0,6.0,17.972956289262115,6.0,6.0,17.972956289262115,6.0,8.727340426301035,6.0,17.972956289262115,6.0,6.0,17.972956289262115,6.0,8.727340426301035,6.0,17.063842813828437,6.0,6.0,17.972956289262115,6.0,14.182021278903106,6.0,7.818226950867357,6.0,17.972956289262115,6.0,6.0,17.972956289262115,6.0,7.818226950867357,6.0,17.063842813828437,6.0,6.0,17.972956289262115,6.0,14.182021278903106,6.0,6.909113475433679,6.0,17.972956289262115,6.0,6.0,17.972956289262115,6.0,6.909113475433679,6.0,17.063842813828437,6.0,6.0,17.972956289262115,6.0,14.182021278903106,6.0,6.0,6.0,17.972956289262115,6.0,6.0,17.972956289262115,6.0,6.0,6.0,6.0,6.0,11.747350021784866,6.0],\"color\":[\"#000000\",\"#2F8AC4\",\"#52BCA3\",\"#99C945\",\"#24796C\",\"#2F8AC4\",\"#52BCA3\",\"#99C945\",\"#2F8AC4\",\"#52BCA3\",\"#E58606\",\"#99C945\",\"#2F8AC4\",\"#52BCA3\",\"#99C945\",\"#2F8AC4\",\"#52BCA3\",\"#E58606\",\"#99C945\",\"#2F8AC4\",\"#52BCA3\",\"#99C945\",\"#2F8AC4\",\"#52BCA3\",\"#2F8AC4\",\"#52BCA3\",\"#E58606\",\"#99C945\",\"#2F8AC4\",\"#52BCA3\",\"#99C945\",\"#2F8AC4\",\"#52BCA3\",\"#E58606\",\"#99C945\",\"#2F8AC4\",\"#52BCA3\",\"#99C945\",\"#2F8AC4\",\"#52BCA3\",\"#2F8AC4\",\"#52BCA3\",\"#E58606\",\"#99C945\",\"#2F8AC4\",\"#52BCA3\",\"#99C945\",\"#2F8AC4\",\"#52BCA3\",\"#E58606\",\"#99C945\",\"#2F8AC4\",\"#52BCA3\",\"#99C945\",\"#2F8AC4\",\"#52BCA3\",\"#2F8AC4\",\"#52BCA3\",\"#E58606\",\"#99C945\",\"#2F8AC4\",\"#52BCA3\",\"#99C945\",\"#2F8AC4\",\"#52BCA3\",\"#E58606\",\"#99C945\",\"#CC61B0\",\"#DAA51B\",\"#5D69B1\",\"#000000\"],\"colorscale\":\"Bluered\"},{}]}],\"label\":\"Size by FLOPS, color by operation\",\"method\":\"restyle\"},{\"args\":[{\"marker\":[{},{\"size\":[6.0,11.250279597842884,6.0,6.0,6.0,12.91881573172255,6.0,6.0,12.91881573172255,6.0,6.0,6.0,12.91881573172255,6.0,6.0,12.91881573172255,6.0,6.0,6.0,13.765679776435459,6.846864044712908,6.0,14.612543821148368,6.846864044712908,11.08118426827745,6.846864044712908,6.0,6.0,14.612543821148368,6.846864044712908,6.0,14.612543821148368,6.846864044712908,6.0,6.0,15.459407865861275,7.693728089425816,6.0,16.306271910574182,7.693728089425816,12.774912357703267,7.693728089425816,6.0,6.0,16.306271910574182,7.693728089425816,6.0,16.306271910574182,7.693728089425816,6.0,6.0,17.15313595528709,8.540592134138725,6.0,18.0,8.540592134138725,14.468640447129083,8.540592134138725,6.0,6.0,18.0,8.540592134138725,6.0,18.0,8.540592134138725,6.0,6.0,6.0,6.0,16.13577641297401,6.0],\"color\":[0.0,1.0,0.0,0.0,0.0,0.9977463574385095,0.0,0.0,0.9977463574385095,0.0,0.22727836885841962,0.0,0.9977463574385095,0.0,0.0,0.9977463574385095,0.0,0.22727836885841962,0.0,0.9219869011523696,0.0,0.0,0.9977463574385095,0.0,0.6818351065752588,0.0,0.15151891257227976,0.0,0.9977463574385095,0.0,0.0,0.9977463574385095,0.0,0.15151891257227976,0.0,0.9219869011523696,0.0,0.0,0.9977463574385095,0.0,0.6818351065752588,0.0,0.07575945628613988,0.0,0.9977463574385095,0.0,0.0,0.9977463574385095,0.0,0.07575945628613988,0.0,0.9219869011523696,0.0,0.0,0.9977463574385095,0.0,0.6818351065752588,0.0,0.0,0.0,0.9977463574385095,0.0,0.0,0.9977463574385095,0.0,0.0,0.0,0.0,0.0,0.4789458351487389,0.0],\"colorscale\":\"Bluered\"},{}]}],\"label\":\"Size by params, color by FLOPS\",\"method\":\"restyle\"},{\"args\":[{\"marker\":[{},{\"size\":[6.0,18.0,6.0,6.0,6.0,17.972956289262115,6.0,6.0,17.972956289262115,6.0,8.727340426301035,6.0,17.972956289262115,6.0,6.0,17.972956289262115,6.0,8.727340426301035,6.0,17.063842813828437,6.0,6.0,17.972956289262115,6.0,14.182021278903106,6.0,7.818226950867357,6.0,17.972956289262115,6.0,6.0,17.972956289262115,6.0,7.818226950867357,6.0,17.063842813828437,6.0,6.0,17.972956289262115,6.0,14.182021278903106,6.0,6.909113475433679,6.0,17.972956289262115,6.0,6.0,17.972956289262115,6.0,6.909113475433679,6.0,17.063842813828437,6.0,6.0,17.972956289262115,6.0,14.182021278903106,6.0,6.0,6.0,17.972956289262115,6.0,6.0,17.972956289262115,6.0,6.0,6.0,6.0,6.0,11.747350021784866,6.0],\"color\":[0.0,0.4375232998202403,0.0,0.0,0.0,0.5765679776435458,0.0,0.0,0.5765679776435458,0.0,0.0,0.0,0.5765679776435458,0.0,0.0,0.5765679776435458,0.0,0.0,0.0,0.6471399813696215,0.0705720037260757,0.0,0.7177119850956972,0.0705720037260757,0.42343202235645416,0.0705720037260757,0.0,0.0,0.7177119850956972,0.0705720037260757,0.0,0.7177119850956972,0.0705720037260757,0.0,0.0,0.7882839888217729,0.1411440074521514,0.0,0.8588559925478486,0.1411440074521514,0.5645760298086056,0.1411440074521514,0.0,0.0,0.8588559925478486,0.1411440074521514,0.0,0.8588559925478486,0.1411440074521514,0.0,0.0,0.9294279962739243,0.21171601117822708,0.0,1.0,0.21171601117822708,0.7057200372607569,0.21171601117822708,0.0,0.0,1.0,0.21171601117822708,0.0,1.0,0.21171601117822708,0.0,0.0,0.0,0.0,0.8446480344145008,0.0],\"colorscale\":\"Bluered\"},{}]}],\"label\":\"Size by FLOPS, color by params\",\"method\":\"restyle\"}],\"direction\":\"up\",\"pad\":{\"b\":0,\"l\":0,\"r\":0,\"t\":8},\"showactive\":true,\"x\":0,\"xanchor\":\"left\",\"y\":0,\"yanchor\":\"top\"}],\"margin\":{\"l\":0,\"r\":0,\"t\":0,\"b\":0},\"modebar\":{\"remove\":[\"select\",\"lasso\"],\"orientation\":\"v\"}},                        {\"responsive\": true}                    ).then(function(){\n",
       "                            \n",
       "var gd = document.getElementById('5a7cf55c-4474-4ba6-9c03-673093a5f91d');\n",
       "var x = new MutationObserver(function (mutations, observer) {{\n",
       "        var display = window.getComputedStyle(gd).display;\n",
       "        if (!display || display === 'none') {{\n",
       "            console.log([gd, 'removed!']);\n",
       "            Plotly.purge(gd);\n",
       "            observer.disconnect();\n",
       "        }}\n",
       "}});\n",
       "\n",
       "// Listen for the removal of the full notebook cells\n",
       "var notebookContainer = gd.closest('#notebook-container');\n",
       "if (notebookContainer) {{\n",
       "    x.observe(notebookContainer, {childList: true});\n",
       "}}\n",
       "\n",
       "// Listen for the clearing of the current output cell\n",
       "var outputEl = gd.closest('.output');\n",
       "if (outputEl) {{\n",
       "    x.observe(outputEl, {childList: true});\n",
       "}}\n",
       "\n",
       "                        })                };                });            </script>        </div>"
      ]
     },
     "metadata": {},
     "output_type": "display_data"
    }
   ],
   "source": [
    "from idlmav import plotly_renderer \n",
    "with plotly_renderer('notebook_connected'):\n",
    "    mav.show_figure()"
   ]
  },
  {
   "cell_type": "markdown",
   "metadata": {},
   "source": [
    "* Available custom plotly renderers may be listed as follows:"
   ]
  },
  {
   "cell_type": "code",
   "execution_count": 21,
   "metadata": {},
   "outputs": [
    {
     "data": {
      "text/plain": [
       "['plotly_mimetype',\n",
       " 'jupyterlab',\n",
       " 'nteract',\n",
       " 'vscode',\n",
       " 'notebook',\n",
       " 'notebook_connected',\n",
       " 'kaggle',\n",
       " 'azure',\n",
       " 'colab',\n",
       " 'cocalc',\n",
       " 'databricks',\n",
       " 'json',\n",
       " 'png',\n",
       " 'jpeg',\n",
       " 'jpg',\n",
       " 'svg',\n",
       " 'pdf',\n",
       " 'browser',\n",
       " 'firefox',\n",
       " 'chrome',\n",
       " 'chromium',\n",
       " 'iframe',\n",
       " 'iframe_connected',\n",
       " 'sphinx_gallery',\n",
       " 'sphinx_gallery_png']"
      ]
     },
     "execution_count": 21,
     "metadata": {},
     "output_type": "execute_result"
    }
   ],
   "source": [
    "import plotly.io as pio\n",
    "list(pio.renderers)"
   ]
  },
  {
   "cell_type": "markdown",
   "metadata": {},
   "source": [
    "* It is best to experiment with different renderers for your environment. From personal experience, the following may be good starting points:\n",
    "  * `notebook_connected` or `vscode` with Plotly 5 on VSCode\n",
    "  * `vscode` with Plotly 6 on VSCode\n",
    "  * `iframe` with Plotly 5 on Kaggle"
   ]
  }
 ],
 "metadata": {
  "kernelspec": {
   "display_name": ".venv",
   "language": "python",
   "name": "python3"
  },
  "language_info": {
   "codemirror_mode": {
    "name": "ipython",
    "version": 3
   },
   "file_extension": ".py",
   "mimetype": "text/x-python",
   "name": "python",
   "nbconvert_exporter": "python",
   "pygments_lexer": "ipython3",
   "version": "3.10.12"
  }
 },
 "nbformat": 4,
 "nbformat_minor": 2
}
